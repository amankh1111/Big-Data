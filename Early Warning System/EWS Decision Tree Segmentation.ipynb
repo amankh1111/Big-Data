{
 "cells": [
  {
   "cell_type": "code",
   "execution_count": 22,
   "metadata": {},
   "outputs": [],
   "source": [
    "from sklearn.tree import DecisionTreeClassifier\n",
    "from sklearn import datasets\n",
    "from IPython.display import Image  \n",
    "from sklearn import tree\n",
    "import pydotplus\n",
    "import cx_Oracle\n",
    "import os\n",
    "import pandas as pd \n",
    "import datetime"
   ]
  },
  {
   "cell_type": "code",
   "execution_count": 19,
   "metadata": {},
   "outputs": [],
   "source": [
    "connection = cx_Oracle.connect('HCIN_GUPTAN1[AP_UWI]/aGqQ4jnX92NG@INCL02.IN.PROD/HWIN_USR_DEV.HOMECREDIT.IN')\n",
    "cursor = connection.cursor()\n",
    "os.chdir(r\"C:\\Users\\aman.khatri91425\\Desktop\\HomeCredit\\Bigdata\\EWS\")\n",
    "qu1= \"\"\"\n",
    " select * from TBD_EWS_FEATURES_DPD120\n",
    " \"\"\"\n",
    "\n",
    "df = pd.read_sql(qu1,connection)\n",
    "df.to_pickle(r\"C:\\Users\\aman.khatri91425\\Desktop\\HomeCredit\\Bigdata\\EWS\\segmentation_dump.pkl\")\n",
    "df.to_csv(r\"C:\\Users\\aman.khatri91425\\Desktop\\HomeCredit\\Bigdata\\EWS\\segmentation_dump.csv\")"
   ]
  },
  {
   "cell_type": "code",
   "execution_count": 23,
   "metadata": {},
   "outputs": [],
   "source": [
    "df=df[(df[\"TIME_DECISION_DATE\"]>=datetime.datetime(2018, 1, 1)) & \n",
    "              (df[\"TIME_DECISION_DATE\"]<=datetime.datetime(2018, 12, 31))]"
   ]
  },
  {
   "cell_type": "code",
   "execution_count": 24,
   "metadata": {},
   "outputs": [
    {
     "data": {
      "text/plain": [
       "(4856465, 44)"
      ]
     },
     "execution_count": 24,
     "metadata": {},
     "output_type": "execute_result"
    }
   ],
   "source": [
    "df.shape"
   ]
  },
  {
   "cell_type": "code",
   "execution_count": 27,
   "metadata": {},
   "outputs": [
    {
     "name": "stdout",
     "output_type": "stream",
     "text": [
      "Random under-sampling:\n",
      "1    434008\n",
      "0    434008\n",
      "Name: DPD120, dtype: int64\n"
     ]
    }
   ],
   "source": [
    "#Downsampling Code \n",
    "count_class_0, count_class_1 = df.DPD120.value_counts()\n",
    "df_class_0 = df[df['DPD120'] == 0]\n",
    "df_class_1 = df[df['DPD120'] == 1]\n",
    "df_class_0_under = df_class_0.sample(count_class_1)\n",
    "df_under = pd.concat([df_class_0_under, df_class_1], axis=0)\n",
    "\n",
    "print('Random under-sampling:')\n",
    "print(df_under.DPD120.value_counts())\n",
    "\n",
    "df_under.DPD120.value_counts().plot(kind='bar', title='Count (target)');"
   ]
  },
  {
   "cell_type": "code",
   "execution_count": 28,
   "metadata": {},
   "outputs": [],
   "source": [
    "df_under.to_pickle(r\"C:\\Users\\aman.khatri91425\\Desktop\\HomeCredit\\Bigdata\\EWS\\segmentation_dump_undersample.pkl\")\n",
    "df_under.to_csv(r\"C:\\Users\\aman.khatri91425\\Desktop\\HomeCredit\\Bigdata\\EWS\\segmentation_dump_undersample.csv\")"
   ]
  },
  {
   "cell_type": "code",
   "execution_count": 58,
   "metadata": {},
   "outputs": [],
   "source": [
    "# Load data\n",
    "df = pd.read_csv(r\"C:\\Users\\aman.khatri91425\\Desktop\\HomeCredit\\Bigdata\\EWS\\segmentation_dump_undersample.csv\")\n"
   ]
  },
  {
   "cell_type": "code",
   "execution_count": 60,
   "metadata": {},
   "outputs": [],
   "source": [
    "df.describe().transpose().to_csv(r\"C:\\Users\\aman.khatri91425\\Desktop\\HomeCredit\\Bigdata\\EWS\\describe.csv\")"
   ]
  },
  {
   "cell_type": "code",
   "execution_count": 61,
   "metadata": {},
   "outputs": [],
   "source": [
    "df=df.select_dtypes(exclude=['object'])\n",
    "#df =  df.drop(columns= ['SCORE_CRIF','SCORE_EQUIFAX','SCORE_EXPERIAN'])\n",
    "df.dropna(inplace=True)\n",
    "X = df.drop(columns= ['DPD120','SKP_CLIENT','Unnamed: 0','SKP_CREDIT_CASE'])\n",
    "y = df[\"DPD120\"]"
   ]
  },
  {
   "cell_type": "code",
   "execution_count": 62,
   "metadata": {},
   "outputs": [
    {
     "data": {
      "text/plain": [
       "(242257, 28)"
      ]
     },
     "execution_count": 62,
     "metadata": {},
     "output_type": "execute_result"
    }
   ],
   "source": [
    "df.shape"
   ]
  },
  {
   "cell_type": "code",
   "execution_count": 63,
   "metadata": {},
   "outputs": [],
   "source": [
    "# Create decision tree classifer object\n",
    "clf = DecisionTreeClassifier(random_state=0, max_depth=4)\n",
    "# Train model\n",
    "model = clf.fit(X, y)"
   ]
  },
  {
   "cell_type": "code",
   "execution_count": 69,
   "metadata": {
    "scrolled": true
   },
   "outputs": [],
   "source": [
    "# Create DOT data\n",
    "dot_data = tree.export_graphviz(clf, out_file=None, \n",
    "                                feature_names=X.columns,  \n",
    "                                class_names='FPD120')\n",
    "\n",
    "# Draw graph\n",
    "graph = pydotplus.graph_from_dot_data(dot_data)  \n",
    "\n",
    "# Show graph ---Not working due to graphViz\n",
    "#Image(graph.create_png())"
   ]
  },
  {
   "cell_type": "code",
   "execution_count": 70,
   "metadata": {},
   "outputs": [
    {
     "name": "stdout",
     "output_type": "stream",
     "text": [
      "digraph Tree {\n",
      "node [shape=box] ;\n",
      "0 [label=\"RISK_SCORE <= 0.022\\ngini = 0.491\\nsamples = 242257\\nvalue = [137595, 104662]\\nclass = F\"] ;\n",
      "1 [label=\"SCORE_EXPERIAN <= 782.5\\ngini = 0.44\\nsamples = 131167\\nvalue = [88378, 42789]\\nclass = F\"] ;\n",
      "0 -> 1 [labeldistance=2.5, labelangle=45, headlabel=\"True\"] ;\n",
      "2 [label=\"RISK_SCORE <= 0.007\\ngini = 0.489\\nsamples = 58707\\nvalue = [33611, 25096]\\nclass = F\"] ;\n",
      "1 -> 2 ;\n",
      "3 [label=\"RISK_SCORE <= 0.004\\ngini = 0.422\\nsamples = 12411\\nvalue = [8657, 3754]\\nclass = F\"] ;\n",
      "2 -> 3 ;\n",
      "4 [label=\"gini = 0.322\\nsamples = 3439\\nvalue = [2746, 693]\\nclass = F\"] ;\n",
      "3 -> 4 ;\n",
      "5 [label=\"gini = 0.45\\nsamples = 8972\\nvalue = [5911, 3061]\\nclass = F\"] ;\n",
      "3 -> 5 ;\n",
      "6 [label=\"SCORE_CRIF <= 712.5\\ngini = 0.497\\nsamples = 46296\\nvalue = [24954, 21342]\\nclass = F\"] ;\n",
      "2 -> 6 ;\n",
      "7 [label=\"gini = 0.5\\nsamples = 28864\\nvalue = [13994, 14870]\\nclass = P\"] ;\n",
      "6 -> 7 ;\n",
      "8 [label=\"gini = 0.467\\nsamples = 17432\\nvalue = [10960, 6472]\\nclass = F\"] ;\n",
      "6 -> 8 ;\n",
      "9 [label=\"ACC_TERM <= 6.5\\ngini = 0.369\\nsamples = 72460\\nvalue = [54767, 17693]\\nclass = F\"] ;\n",
      "1 -> 9 ;\n",
      "10 [label=\"SCORE_CRIF <= 701.5\\ngini = 0.331\\nsamples = 53260\\nvalue = [42126, 11134]\\nclass = F\"] ;\n",
      "9 -> 10 ;\n",
      "11 [label=\"gini = 0.435\\nsamples = 8023\\nvalue = [5460, 2563]\\nclass = F\"] ;\n",
      "10 -> 11 ;\n",
      "12 [label=\"gini = 0.307\\nsamples = 45237\\nvalue = [36666, 8571]\\nclass = F\"] ;\n",
      "10 -> 12 ;\n",
      "13 [label=\"RISK_SCORE <= 0.009\\ngini = 0.45\\nsamples = 19200\\nvalue = [12641, 6559]\\nclass = F\"] ;\n",
      "9 -> 13 ;\n",
      "14 [label=\"gini = 0.379\\nsamples = 6911\\nvalue = [5157, 1754]\\nclass = F\"] ;\n",
      "13 -> 14 ;\n",
      "15 [label=\"gini = 0.476\\nsamples = 12289\\nvalue = [7484, 4805]\\nclass = F\"] ;\n",
      "13 -> 15 ;\n",
      "16 [label=\"RISK_SCORE <= 0.05\\ngini = 0.494\\nsamples = 111090\\nvalue = [49217, 61873]\\nclass = P\"] ;\n",
      "0 -> 16 [labeldistance=2.5, labelangle=-45, headlabel=\"False\"] ;\n",
      "17 [label=\"ACC_TERM <= 6.5\\ngini = 0.5\\nsamples = 72516\\nvalue = [36028, 36488]\\nclass = P\"] ;\n",
      "16 -> 17 ;\n",
      "18 [label=\"SCORE_CRIF <= 701.5\\ngini = 0.496\\nsamples = 48078\\nvalue = [26214, 21864]\\nclass = F\"] ;\n",
      "17 -> 18 ;\n",
      "19 [label=\"gini = 0.498\\nsamples = 19243\\nvalue = [9030, 10213]\\nclass = P\"] ;\n",
      "18 -> 19 ;\n",
      "20 [label=\"gini = 0.482\\nsamples = 28835\\nvalue = [17184, 11651]\\nclass = F\"] ;\n",
      "18 -> 20 ;\n",
      "21 [label=\"SCORE_CRIF <= 680.5\\ngini = 0.481\\nsamples = 24438\\nvalue = [9814, 14624]\\nclass = P\"] ;\n",
      "17 -> 21 ;\n",
      "22 [label=\"gini = 0.448\\nsamples = 9644\\nvalue = [3264, 6380]\\nclass = P\"] ;\n",
      "21 -> 22 ;\n",
      "23 [label=\"gini = 0.493\\nsamples = 14794\\nvalue = [6550, 8244]\\nclass = P\"] ;\n",
      "21 -> 23 ;\n",
      "24 [label=\"RISK_SCORE <= 0.082\\ngini = 0.45\\nsamples = 38574\\nvalue = [13189, 25385]\\nclass = P\"] ;\n",
      "16 -> 24 ;\n",
      "25 [label=\"AMT_CREDIT_TOTAL <= 11933.0\\ngini = 0.471\\nsamples = 23772\\nvalue = [9048, 14724]\\nclass = P\"] ;\n",
      "24 -> 25 ;\n",
      "26 [label=\"gini = 0.488\\nsamples = 14934\\nvalue = [6312, 8622]\\nclass = P\"] ;\n",
      "25 -> 26 ;\n",
      "27 [label=\"gini = 0.427\\nsamples = 8838\\nvalue = [2736, 6102]\\nclass = P\"] ;\n",
      "25 -> 27 ;\n",
      "28 [label=\"AMT_CREDIT_TOTAL <= 10425.5\\ngini = 0.403\\nsamples = 14802\\nvalue = [4141, 10661]\\nclass = P\"] ;\n",
      "24 -> 28 ;\n",
      "29 [label=\"gini = 0.438\\nsamples = 6911\\nvalue = [2243, 4668]\\nclass = P\"] ;\n",
      "28 -> 29 ;\n",
      "30 [label=\"gini = 0.365\\nsamples = 7891\\nvalue = [1898, 5993]\\nclass = P\"] ;\n",
      "28 -> 30 ;\n",
      "}\n"
     ]
    }
   ],
   "source": [
    "print(dot_data)\n",
    "#copy this to editor window on http://www.webgraphviz.com/ to create chart"
   ]
  },
  {
   "cell_type": "code",
   "execution_count": 7,
   "metadata": {},
   "outputs": [],
   "source": [
    "# Create PDF\n",
    "graph.write_pdf(\"iris.pdf\")\n",
    "\n",
    "# Create PNG\n",
    "graph.write_png(\"iris.png\")"
   ]
  }
 ],
 "metadata": {
  "kernelspec": {
   "display_name": "Python 3",
   "language": "python",
   "name": "python3"
  },
  "language_info": {
   "codemirror_mode": {
    "name": "ipython",
    "version": 3
   },
   "file_extension": ".py",
   "mimetype": "text/x-python",
   "name": "python",
   "nbconvert_exporter": "python",
   "pygments_lexer": "ipython3",
   "version": "3.7.3"
  }
 },
 "nbformat": 4,
 "nbformat_minor": 2
}
