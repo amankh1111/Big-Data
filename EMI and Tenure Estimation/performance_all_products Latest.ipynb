{
 "cells": [
  {
   "cell_type": "code",
   "execution_count": 1,
   "metadata": {},
   "outputs": [],
   "source": [
    "import os\n",
    "import cx_Oracle\n",
    "import pandas as pd\n",
    "import numpy as np\n",
    "import pickle\n",
    "from datetime import date,datetime\n",
    "from sklearn import metrics\n",
    "from sklearn.model_selection import train_test_split, StratifiedKFold, RandomizedSearchCV, cross_val_score \n",
    "import time\n",
    "import matplotlib.pyplot as plt\n",
    "from sklearn.utils import resample\n",
    "import datetime\n",
    "import sys\n",
    "sys.path.append(R'C:\\Users\\aman.khatri91425\\Desktop\\HomeCredit\\Bigdata\\Scoring Worlflow')"
   ]
  },
  {
   "cell_type": "code",
   "execution_count": 2,
   "metadata": {},
   "outputs": [],
   "source": [
    "os.chdir(r\"C:\\Users\\aman.khatri91425\\Desktop\\HomeCredit\\Bigdata\\EMI and Tenure Estimation\")"
   ]
  },
  {
   "cell_type": "markdown",
   "metadata": {},
   "source": [
    "# Read Data File"
   ]
  },
  {
   "cell_type": "code",
   "execution_count": 3,
   "metadata": {},
   "outputs": [],
   "source": [
    "# df1= pd.read_csv(os.getcwd()+\"\\Data Files\\export1.csv\")\n",
    "# df2= pd.read_csv(os.getcwd()+\"\\Data Files\\export2.csv\")\n",
    "# df3= pd.read_csv(os.getcwd()+\"\\Data Files\\export3.csv\")\n",
    "# df4= pd.read_csv(os.getcwd()+\"\\Data Files\\export4.csv\")\n",
    "# df_comb = pd.concat([df1,df2,df3,df4])\n",
    "\n",
    "# df_comb.to_csv(os.getcwd()+\"\\Data Files\\debt_estimate_combined.csv\")"
   ]
  },
  {
   "cell_type": "code",
   "execution_count": 4,
   "metadata": {},
   "outputs": [],
   "source": [
    "df_debt_est=pd.read_csv(os.getcwd()+\"\\Data Files\\debt_estimate_combined.csv\")"
   ]
  },
  {
   "cell_type": "code",
   "execution_count": 5,
   "metadata": {},
   "outputs": [],
   "source": [
    "df_debt_est = df_debt_est[[\"SKP_CREDIT_CASE\",\"ACTIVE_DEBT\"]]"
   ]
  },
  {
   "cell_type": "code",
   "execution_count": 6,
   "metadata": {},
   "outputs": [],
   "source": [
    "df= pd.read_pickle(r\"C:\\Users\\aman.khatri91425\\Desktop\\HomeCredit\\Bigdata\\Common Maps KNN\\Data Files\\scored_income_2019_all_products.pkl\")\n"
   ]
  },
  {
   "cell_type": "code",
   "execution_count": 7,
   "metadata": {},
   "outputs": [],
   "source": [
    "df1 = pd.read_pickle(r\"C:\\Users\\aman.khatri91425\\Desktop\\HomeCredit\\Bigdata\\Common Maps KNN\\Data Files\\combined_income_pred.pkl\")"
   ]
  },
  {
   "cell_type": "code",
   "execution_count": 8,
   "metadata": {},
   "outputs": [],
   "source": [
    "df1= df1[['SKP_CREDIT_CASE','CLIENT_DEBT', 'CLIENT_EMI','NTC_FLAG','PRODUCT_GROUP']]"
   ]
  },
  {
   "cell_type": "code",
   "execution_count": 9,
   "metadata": {},
   "outputs": [],
   "source": [
    "df = df.merge(df1, on= 'SKP_CREDIT_CASE', how = 'inner')"
   ]
  },
  {
   "cell_type": "code",
   "execution_count": 10,
   "metadata": {},
   "outputs": [],
   "source": [
    "df = df.merge(df_debt_est, on = 'SKP_CREDIT_CASE', how = 'inner')"
   ]
  },
  {
   "cell_type": "markdown",
   "metadata": {},
   "source": [
    "# Create features for Analysis "
   ]
  },
  {
   "cell_type": "code",
   "execution_count": 11,
   "metadata": {
    "scrolled": true
   },
   "outputs": [
    {
     "data": {
      "text/plain": [
       "Index(['SKP_CREDIT_CASE', 'TIME_DECISION_DATE', 'CUS_LAT', 'CUS_LONG',\n",
       "       'RISK_FSTQPD30', 'GRID_ID', 'CLIENT_INR_INCOME', 'MONTH_STR',\n",
       "       'PRED_INCOME', 'CLIENT_DEBT', 'CLIENT_EMI', 'NTC_FLAG', 'PRODUCT_GROUP',\n",
       "       'ACTIVE_DEBT'],\n",
       "      dtype='object')"
      ]
     },
     "execution_count": 11,
     "metadata": {},
     "output_type": "execute_result"
    }
   ],
   "source": [
    "df.columns"
   ]
  },
  {
   "cell_type": "code",
   "execution_count": 12,
   "metadata": {},
   "outputs": [],
   "source": [
    "df.columns= ['SKP_CREDIT_CASE', 'TIME_DECISION_DATE', 'CUS_LAT', 'CUS_LONG',\n",
    "       'RISK_FSTQPD30', 'GRID_ID', 'REPORTED_INCOME',\n",
    "       'MONTH_STR', 'PRED_INCOME', 'CLIENT_DEBT', 'CLIENT_EMI', 'NTC_FLAG','PRODUCT_GROUP','EST_DEBT']"
   ]
  },
  {
   "cell_type": "code",
   "execution_count": 13,
   "metadata": {},
   "outputs": [],
   "source": [
    "features_list = [\"EST_DTI_PRED_INCOME\",\"EST_DTI_REPORTED_INCOME\",\"EST_DTI_MIN_INCOME\",'EST_DEBT']"
   ]
  },
  {
   "cell_type": "code",
   "execution_count": 14,
   "metadata": {},
   "outputs": [],
   "source": [
    "df[\"MIN_INCOME\"] = df[['REPORTED_INCOME','PRED_INCOME']].min(axis=1)"
   ]
  },
  {
   "cell_type": "code",
   "execution_count": 15,
   "metadata": {},
   "outputs": [],
   "source": [
    "df[\"RATIO_PRED_REPORTED_INCOME\"] = df['PRED_INCOME']/df['REPORTED_INCOME']"
   ]
  },
  {
   "cell_type": "code",
   "execution_count": 16,
   "metadata": {
    "scrolled": false
   },
   "outputs": [],
   "source": [
    "# df[\"DTI_PRED_INCOME\"] = [(df[\"CLIENT_DEBT\"][x]+ df[\"CLIENT_EMI\"][x]+1500)/df[\"PRED_INCOME\"][x] for x in df.index]\n",
    "# df[\"DTI_REPORTED_INCOME\"] = [(df[\"CLIENT_DEBT\"][x]+ df[\"CLIENT_EMI\"][x]+1500)/df[\"REPORTED_INCOME\"][x] for x in df.index]\n",
    "# df[\"DTI_MIN_INCOME\"] = [(df[\"CLIENT_DEBT\"][x]+ df[\"CLIENT_EMI\"][x]+1500)/df[\"MIN_INCOME\"][x] for x in df.index]\n",
    "# df[\"EST_DTI_PRED_INCOME\"] = [(df[\"EST_DEBT\"][x]+ df[\"CLIENT_EMI\"][x]+1500)/df[\"PRED_INCOME\"][x] for x in df.index]\n",
    "# df[\"EST_DTI_REPORTED_INCOME\"] = [(df[\"EST_DEBT\"][x]+ df[\"CLIENT_EMI\"][x]+1500)/df[\"REPORTED_INCOME\"][x] for x in df.index]\n",
    "# df[\"EST_DTI_MIN_INCOME\"] = [(df[\"EST_DEBT\"][x]+ df[\"CLIENT_EMI\"][x]+1500)/df[\"MIN_INCOME\"][x] for x in df.index]\n",
    "\n",
    "\n",
    "df[\"DTI_PRED_INCOME\"] = (df[\"CLIENT_DEBT\"]+ df[\"CLIENT_EMI\"]+1500)/df[\"PRED_INCOME\"]\n",
    "df[\"DTI_REPORTED_INCOME\"] =  (df[\"CLIENT_DEBT\"]+ df[\"CLIENT_EMI\"]+1500)/df[\"REPORTED_INCOME\"]\n",
    "df[\"DTI_MIN_INCOME\"] =  (df[\"CLIENT_DEBT\"]+ df[\"CLIENT_EMI\"]+1500)/df[\"MIN_INCOME\"]\n",
    "df[\"EST_DTI_PRED_INCOME\"] = (df[\"EST_DEBT\"]+ df[\"CLIENT_EMI\"]+1500)/df[\"PRED_INCOME\"]\n",
    "df[\"EST_DTI_REPORTED_INCOME\"] = (df[\"EST_DEBT\"]+ df[\"CLIENT_EMI\"]+1500)/df[\"REPORTED_INCOME\"]\n",
    "df[\"EST_DTI_MIN_INCOME\"] = (df[\"EST_DEBT\"]+ df[\"CLIENT_EMI\"]+1500)/df[\"MIN_INCOME\"]\n"
   ]
  },
  {
   "cell_type": "code",
   "execution_count": 17,
   "metadata": {},
   "outputs": [
    {
     "data": {
      "text/plain": [
       "(2178749, 22)"
      ]
     },
     "execution_count": 17,
     "metadata": {},
     "output_type": "execute_result"
    }
   ],
   "source": [
    "df.shape"
   ]
  },
  {
   "cell_type": "code",
   "execution_count": 18,
   "metadata": {},
   "outputs": [],
   "source": [
    "df = df[~df[\"MIN_INCOME\"].isin([0,np.inf,np.nan])]"
   ]
  },
  {
   "cell_type": "code",
   "execution_count": 19,
   "metadata": {},
   "outputs": [],
   "source": [
    "df.to_pickle(os.getcwd()+ \"\\Data Files\\performance_file_bkp1.pkl\")"
   ]
  },
  {
   "cell_type": "code",
   "execution_count": 20,
   "metadata": {},
   "outputs": [],
   "source": [
    "df = pd.read_pickle(os.getcwd()+ \"\\Data Files\\performance_file_bkp1.pkl\")"
   ]
  },
  {
   "cell_type": "code",
   "execution_count": 21,
   "metadata": {},
   "outputs": [],
   "source": [
    "df.dropna(subset=['EST_DEBT'], inplace= True)"
   ]
  },
  {
   "cell_type": "markdown",
   "metadata": {},
   "source": [
    "# Gini and IV of Features for Comparison: All Products combined"
   ]
  },
  {
   "cell_type": "code",
   "execution_count": 22,
   "metadata": {},
   "outputs": [],
   "source": [
    "df1=df"
   ]
  },
  {
   "cell_type": "markdown",
   "metadata": {},
   "source": [
    "### Reduce sample size to reduce computation in calculations for IV, Gini"
   ]
  },
  {
   "cell_type": "code",
   "execution_count": 27,
   "metadata": {},
   "outputs": [],
   "source": [
    "df = df1.sample(n=100000,random_state=2)"
   ]
  },
  {
   "cell_type": "code",
   "execution_count": 28,
   "metadata": {},
   "outputs": [],
   "source": [
    "for x in features_list:\n",
    "    df[x+\"_BINS\"] = pd.qcut(df[x],10,duplicates = 'drop')"
   ]
  },
  {
   "cell_type": "code",
   "execution_count": 29,
   "metadata": {},
   "outputs": [],
   "source": [
    "df.dropna(subset=['EST_DEBT'], inplace= True)"
   ]
  },
  {
   "cell_type": "code",
   "execution_count": 45,
   "metadata": {},
   "outputs": [
    {
     "name": "stdout",
     "output_type": "stream",
     "text": [
      "EST_DTI_PRED_INCOME\n",
      "EST_DTI_REPORTED_INCOME\n",
      "EST_DTI_MIN_INCOME\n",
      "EST_DEBT\n"
     ]
    }
   ],
   "source": [
    "from scoring.metrics import iv,gini\n",
    "features_list1=[\"EST_DTI_PRED_INCOME\",\"EST_DTI_REPORTED_INCOME\",\"EST_DTI_MIN_INCOME\",'EST_DEBT']\n",
    "cols_list= features_list1\n",
    "col_target= 'RISK_FSTQPD30'\n",
    "power_tab = {'VARIABLE_NAME':[],'IV':[],'GINI':[]}\n",
    "for j in range(0,len(cols_list)):\n",
    "        power_tab[\"VARIABLE_NAME\"].append(cols_list[j])\n",
    "        power_tab[\"IV\"].append(\"{:.3}\".format(iv(df[col_target],df[cols_list[j]+\"_BINS\"])))\n",
    "        power_tab[\"GINI\"].append(\"{:.2%}\".format(abs(2*metrics.roc_auc_score(df[col_target],df[cols_list[j]])-1)))\n",
    "        print(cols_list[j])"
   ]
  },
  {
   "cell_type": "code",
   "execution_count": 46,
   "metadata": {},
   "outputs": [
    {
     "data": {
      "text/html": [
       "<div>\n",
       "<style scoped>\n",
       "    .dataframe tbody tr th:only-of-type {\n",
       "        vertical-align: middle;\n",
       "    }\n",
       "\n",
       "    .dataframe tbody tr th {\n",
       "        vertical-align: top;\n",
       "    }\n",
       "\n",
       "    .dataframe thead th {\n",
       "        text-align: right;\n",
       "    }\n",
       "</style>\n",
       "<table border=\"1\" class=\"dataframe\">\n",
       "  <thead>\n",
       "    <tr style=\"text-align: right;\">\n",
       "      <th></th>\n",
       "      <th>IV</th>\n",
       "      <th>GINI</th>\n",
       "    </tr>\n",
       "    <tr>\n",
       "      <th>VARIABLE_NAME</th>\n",
       "      <th></th>\n",
       "      <th></th>\n",
       "    </tr>\n",
       "  </thead>\n",
       "  <tbody>\n",
       "    <tr>\n",
       "      <th>EST_DTI_PRED_INCOME</th>\n",
       "      <td>0.0363</td>\n",
       "      <td>9.57%</td>\n",
       "    </tr>\n",
       "    <tr>\n",
       "      <th>EST_DEBT</th>\n",
       "      <td>0.0547</td>\n",
       "      <td>12.11%</td>\n",
       "    </tr>\n",
       "    <tr>\n",
       "      <th>EST_DTI_MIN_INCOME</th>\n",
       "      <td>0.0386</td>\n",
       "      <td>10.49%</td>\n",
       "    </tr>\n",
       "    <tr>\n",
       "      <th>EST_DTI_REPORTED_INCOME</th>\n",
       "      <td>0.0365</td>\n",
       "      <td>10.41%</td>\n",
       "    </tr>\n",
       "  </tbody>\n",
       "</table>\n",
       "</div>"
      ],
      "text/plain": [
       "                             IV    GINI\n",
       "VARIABLE_NAME                          \n",
       "EST_DTI_PRED_INCOME      0.0363   9.57%\n",
       "EST_DEBT                 0.0547  12.11%\n",
       "EST_DTI_MIN_INCOME       0.0386  10.49%\n",
       "EST_DTI_REPORTED_INCOME  0.0365  10.41%"
      ]
     },
     "metadata": {},
     "output_type": "display_data"
    }
   ],
   "source": [
    "power_out = pd.DataFrame(power_tab)\n",
    "\n",
    "power_out = power_out.set_index('VARIABLE_NAME')\n",
    "power_out = power_out.sort_values('GINI',ascending=False)\n",
    "\n",
    "pd.options.display.max_rows = 1000\n",
    "display(power_out)\n",
    "\n",
    "power_out.to_csv(r\"C:\\Users\\aman.khatri91425\\Desktop\\HomeCredit\\Bigdata\\Common Maps KNN\\gini_iv.csv\")"
   ]
  },
  {
   "cell_type": "markdown",
   "metadata": {},
   "source": [
    "### To make MOM calculations of IV, GINI"
   ]
  },
  {
   "cell_type": "code",
   "execution_count": 50,
   "metadata": {},
   "outputs": [],
   "source": [
    "from scoring.metrics import iv,gini,lift\n",
    "cols_list= features_list\n",
    "col_target= 'RISK_FSTQPD30'\n",
    "power_tab = {'VARIABLE_NAME':[],'MONTH':[],'IV':[],'GINI':[]}\n",
    "for j in range(0,len(cols_list)):\n",
    "    for k in df.MONTH_STR.unique():\n",
    "        power_tab[\"VARIABLE_NAME\"].append(cols_list[j])\n",
    "        power_tab[\"MONTH\"].append(k)\n",
    "        power_tab[\"IV\"].append(\"{:.3}\".format(iv(df[df.MONTH_STR==k][col_target],df[df.MONTH_STR==k][cols_list[j]+\"_BINS\"])))\n",
    "        power_tab[\"GINI\"].append(\"{:.1%}\".format(abs(2*metrics.roc_auc_score(df[df.MONTH_STR==k][col_target],df[df.MONTH_STR==k][cols_list[j]])-1)))"
   ]
  },
  {
   "cell_type": "code",
   "execution_count": 51,
   "metadata": {},
   "outputs": [
    {
     "data": {
      "text/html": [
       "<div>\n",
       "<style scoped>\n",
       "    .dataframe tbody tr th:only-of-type {\n",
       "        vertical-align: middle;\n",
       "    }\n",
       "\n",
       "    .dataframe tbody tr th {\n",
       "        vertical-align: top;\n",
       "    }\n",
       "\n",
       "    .dataframe thead th {\n",
       "        text-align: right;\n",
       "    }\n",
       "</style>\n",
       "<table border=\"1\" class=\"dataframe\">\n",
       "  <thead>\n",
       "    <tr style=\"text-align: right;\">\n",
       "      <th></th>\n",
       "      <th>MONTH</th>\n",
       "      <th>IV</th>\n",
       "      <th>GINI</th>\n",
       "    </tr>\n",
       "    <tr>\n",
       "      <th>VARIABLE_NAME</th>\n",
       "      <th></th>\n",
       "      <th></th>\n",
       "      <th></th>\n",
       "    </tr>\n",
       "  </thead>\n",
       "  <tbody>\n",
       "    <tr>\n",
       "      <th>EST_DTI_PRED_INCOME</th>\n",
       "      <td>2019-03</td>\n",
       "      <td>0.0477</td>\n",
       "      <td>9.4%</td>\n",
       "    </tr>\n",
       "    <tr>\n",
       "      <th>EST_DTI_MIN_INCOME</th>\n",
       "      <td>2019-03</td>\n",
       "      <td>0.0426</td>\n",
       "      <td>9.4%</td>\n",
       "    </tr>\n",
       "    <tr>\n",
       "      <th>EST_DEBT</th>\n",
       "      <td>2019-04</td>\n",
       "      <td>0.0393</td>\n",
       "      <td>9.3%</td>\n",
       "    </tr>\n",
       "    <tr>\n",
       "      <th>EST_DTI_REPORTED_INCOME</th>\n",
       "      <td>2019-05</td>\n",
       "      <td>0.0335</td>\n",
       "      <td>9.1%</td>\n",
       "    </tr>\n",
       "    <tr>\n",
       "      <th>EST_DTI_REPORTED_INCOME</th>\n",
       "      <td>2019-04</td>\n",
       "      <td>0.0367</td>\n",
       "      <td>9.0%</td>\n",
       "    </tr>\n",
       "    <tr>\n",
       "      <th>EST_DTI_MIN_INCOME</th>\n",
       "      <td>2019-07</td>\n",
       "      <td>0.0339</td>\n",
       "      <td>9.0%</td>\n",
       "    </tr>\n",
       "    <tr>\n",
       "      <th>EST_DTI_MIN_INCOME</th>\n",
       "      <td>2019-06</td>\n",
       "      <td>0.0374</td>\n",
       "      <td>8.9%</td>\n",
       "    </tr>\n",
       "    <tr>\n",
       "      <th>EST_DTI_REPORTED_INCOME</th>\n",
       "      <td>2019-07</td>\n",
       "      <td>0.0369</td>\n",
       "      <td>8.6%</td>\n",
       "    </tr>\n",
       "    <tr>\n",
       "      <th>EST_DTI_PRED_INCOME</th>\n",
       "      <td>2019-05</td>\n",
       "      <td>0.0273</td>\n",
       "      <td>8.5%</td>\n",
       "    </tr>\n",
       "    <tr>\n",
       "      <th>EST_DTI_REPORTED_INCOME</th>\n",
       "      <td>2019-03</td>\n",
       "      <td>0.0236</td>\n",
       "      <td>8.3%</td>\n",
       "    </tr>\n",
       "    <tr>\n",
       "      <th>EST_DTI_REPORTED_INCOME</th>\n",
       "      <td>2019-06</td>\n",
       "      <td>0.0278</td>\n",
       "      <td>8.1%</td>\n",
       "    </tr>\n",
       "    <tr>\n",
       "      <th>EST_DTI_MIN_INCOME</th>\n",
       "      <td>2019-04</td>\n",
       "      <td>0.0296</td>\n",
       "      <td>7.7%</td>\n",
       "    </tr>\n",
       "    <tr>\n",
       "      <th>EST_DTI_PRED_INCOME</th>\n",
       "      <td>2019-06</td>\n",
       "      <td>0.0316</td>\n",
       "      <td>7.6%</td>\n",
       "    </tr>\n",
       "    <tr>\n",
       "      <th>EST_DTI_PRED_INCOME</th>\n",
       "      <td>2019-07</td>\n",
       "      <td>0.0261</td>\n",
       "      <td>7.3%</td>\n",
       "    </tr>\n",
       "    <tr>\n",
       "      <th>EST_DTI_PRED_INCOME</th>\n",
       "      <td>2019-04</td>\n",
       "      <td>0.0359</td>\n",
       "      <td>6.4%</td>\n",
       "    </tr>\n",
       "    <tr>\n",
       "      <th>EST_DEBT</th>\n",
       "      <td>2019-08</td>\n",
       "      <td>0.0987</td>\n",
       "      <td>15.7%</td>\n",
       "    </tr>\n",
       "    <tr>\n",
       "      <th>EST_DTI_REPORTED_INCOME</th>\n",
       "      <td>2019-08</td>\n",
       "      <td>0.0982</td>\n",
       "      <td>15.3%</td>\n",
       "    </tr>\n",
       "    <tr>\n",
       "      <th>EST_DTI_MIN_INCOME</th>\n",
       "      <td>2019-08</td>\n",
       "      <td>0.0835</td>\n",
       "      <td>15.0%</td>\n",
       "    </tr>\n",
       "    <tr>\n",
       "      <th>EST_DTI_PRED_INCOME</th>\n",
       "      <td>2019-08</td>\n",
       "      <td>0.0883</td>\n",
       "      <td>13.9%</td>\n",
       "    </tr>\n",
       "    <tr>\n",
       "      <th>EST_DEBT</th>\n",
       "      <td>2019-02</td>\n",
       "      <td>0.0831</td>\n",
       "      <td>13.7%</td>\n",
       "    </tr>\n",
       "    <tr>\n",
       "      <th>EST_DEBT</th>\n",
       "      <td>2019-01</td>\n",
       "      <td>0.0931</td>\n",
       "      <td>12.9%</td>\n",
       "    </tr>\n",
       "    <tr>\n",
       "      <th>EST_DTI_REPORTED_INCOME</th>\n",
       "      <td>2019-02</td>\n",
       "      <td>0.0544</td>\n",
       "      <td>12.1%</td>\n",
       "    </tr>\n",
       "    <tr>\n",
       "      <th>EST_DEBT</th>\n",
       "      <td>2019-03</td>\n",
       "      <td>0.0733</td>\n",
       "      <td>12.1%</td>\n",
       "    </tr>\n",
       "    <tr>\n",
       "      <th>EST_DTI_REPORTED_INCOME</th>\n",
       "      <td>2019-01</td>\n",
       "      <td>0.0475</td>\n",
       "      <td>11.7%</td>\n",
       "    </tr>\n",
       "    <tr>\n",
       "      <th>EST_DTI_MIN_INCOME</th>\n",
       "      <td>2019-01</td>\n",
       "      <td>0.0712</td>\n",
       "      <td>11.6%</td>\n",
       "    </tr>\n",
       "    <tr>\n",
       "      <th>EST_DTI_PRED_INCOME</th>\n",
       "      <td>2019-01</td>\n",
       "      <td>0.068</td>\n",
       "      <td>11.6%</td>\n",
       "    </tr>\n",
       "    <tr>\n",
       "      <th>EST_DTI_MIN_INCOME</th>\n",
       "      <td>2019-02</td>\n",
       "      <td>0.0473</td>\n",
       "      <td>10.9%</td>\n",
       "    </tr>\n",
       "    <tr>\n",
       "      <th>EST_DEBT</th>\n",
       "      <td>2019-07</td>\n",
       "      <td>0.0469</td>\n",
       "      <td>10.7%</td>\n",
       "    </tr>\n",
       "    <tr>\n",
       "      <th>EST_DTI_PRED_INCOME</th>\n",
       "      <td>2019-02</td>\n",
       "      <td>0.0471</td>\n",
       "      <td>10.6%</td>\n",
       "    </tr>\n",
       "    <tr>\n",
       "      <th>EST_DEBT</th>\n",
       "      <td>2019-05</td>\n",
       "      <td>0.0361</td>\n",
       "      <td>10.5%</td>\n",
       "    </tr>\n",
       "    <tr>\n",
       "      <th>EST_DEBT</th>\n",
       "      <td>2019-06</td>\n",
       "      <td>0.046</td>\n",
       "      <td>10.4%</td>\n",
       "    </tr>\n",
       "    <tr>\n",
       "      <th>EST_DTI_MIN_INCOME</th>\n",
       "      <td>2019-05</td>\n",
       "      <td>0.0357</td>\n",
       "      <td>10.2%</td>\n",
       "    </tr>\n",
       "  </tbody>\n",
       "</table>\n",
       "</div>"
      ],
      "text/plain": [
       "                           MONTH      IV   GINI\n",
       "VARIABLE_NAME                                  \n",
       "EST_DTI_PRED_INCOME      2019-03  0.0477   9.4%\n",
       "EST_DTI_MIN_INCOME       2019-03  0.0426   9.4%\n",
       "EST_DEBT                 2019-04  0.0393   9.3%\n",
       "EST_DTI_REPORTED_INCOME  2019-05  0.0335   9.1%\n",
       "EST_DTI_REPORTED_INCOME  2019-04  0.0367   9.0%\n",
       "EST_DTI_MIN_INCOME       2019-07  0.0339   9.0%\n",
       "EST_DTI_MIN_INCOME       2019-06  0.0374   8.9%\n",
       "EST_DTI_REPORTED_INCOME  2019-07  0.0369   8.6%\n",
       "EST_DTI_PRED_INCOME      2019-05  0.0273   8.5%\n",
       "EST_DTI_REPORTED_INCOME  2019-03  0.0236   8.3%\n",
       "EST_DTI_REPORTED_INCOME  2019-06  0.0278   8.1%\n",
       "EST_DTI_MIN_INCOME       2019-04  0.0296   7.7%\n",
       "EST_DTI_PRED_INCOME      2019-06  0.0316   7.6%\n",
       "EST_DTI_PRED_INCOME      2019-07  0.0261   7.3%\n",
       "EST_DTI_PRED_INCOME      2019-04  0.0359   6.4%\n",
       "EST_DEBT                 2019-08  0.0987  15.7%\n",
       "EST_DTI_REPORTED_INCOME  2019-08  0.0982  15.3%\n",
       "EST_DTI_MIN_INCOME       2019-08  0.0835  15.0%\n",
       "EST_DTI_PRED_INCOME      2019-08  0.0883  13.9%\n",
       "EST_DEBT                 2019-02  0.0831  13.7%\n",
       "EST_DEBT                 2019-01  0.0931  12.9%\n",
       "EST_DTI_REPORTED_INCOME  2019-02  0.0544  12.1%\n",
       "EST_DEBT                 2019-03  0.0733  12.1%\n",
       "EST_DTI_REPORTED_INCOME  2019-01  0.0475  11.7%\n",
       "EST_DTI_MIN_INCOME       2019-01  0.0712  11.6%\n",
       "EST_DTI_PRED_INCOME      2019-01   0.068  11.6%\n",
       "EST_DTI_MIN_INCOME       2019-02  0.0473  10.9%\n",
       "EST_DEBT                 2019-07  0.0469  10.7%\n",
       "EST_DTI_PRED_INCOME      2019-02  0.0471  10.6%\n",
       "EST_DEBT                 2019-05  0.0361  10.5%\n",
       "EST_DEBT                 2019-06   0.046  10.4%\n",
       "EST_DTI_MIN_INCOME       2019-05  0.0357  10.2%"
      ]
     },
     "metadata": {},
     "output_type": "display_data"
    }
   ],
   "source": [
    "power_out = pd.DataFrame(power_tab)\n",
    "power_out = power_out.set_index('VARIABLE_NAME')\n",
    "power_out = power_out.sort_values('GINI',ascending=False)\n",
    "\n",
    "pd.options.display.max_rows = 1000\n",
    "display(power_out)\n",
    "\n",
    "power_out.to_csv(r\"C:\\Users\\aman.khatri91425\\Desktop\\HomeCredit\\Bigdata\\Common Maps KNN\\mom_gini_iv.csv\")"
   ]
  },
  {
   "cell_type": "markdown",
   "metadata": {},
   "source": [
    "# Gini and IV of Features for Comparison: Product and NTC Bifur"
   ]
  },
  {
   "cell_type": "markdown",
   "metadata": {},
   "source": [
    "### Reduce sample size to reduce computation in calculations for IV, Gini"
   ]
  },
  {
   "cell_type": "code",
   "execution_count": 68,
   "metadata": {},
   "outputs": [
    {
     "data": {
      "text/plain": [
       "'REPORTED_INCOME'"
      ]
     },
     "execution_count": 68,
     "metadata": {},
     "output_type": "execute_result"
    }
   ],
   "source": [
    "x"
   ]
  },
  {
   "cell_type": "code",
   "execution_count": 72,
   "metadata": {},
   "outputs": [
    {
     "name": "stdout",
     "output_type": "stream",
     "text": [
      "REPORTED_INCOME\n",
      "PRED_INCOME\n",
      "MIN_INCOME\n",
      "RATIO_PRED_REPORTED_INCOME\n",
      "DTI_PRED_INCOME\n",
      "DTI_REPORTED_INCOME\n",
      "DTI_MIN_INCOME\n",
      "EST_DTI_PRED_INCOME\n",
      "EST_DTI_REPORTED_INCOME\n",
      "EST_DTI_MIN_INCOME\n",
      "EST_DEBT\n",
      "REPORTED_INCOME\n",
      "PRED_INCOME\n",
      "MIN_INCOME\n",
      "RATIO_PRED_REPORTED_INCOME\n",
      "DTI_PRED_INCOME\n",
      "DTI_REPORTED_INCOME\n",
      "DTI_MIN_INCOME\n",
      "EST_DTI_PRED_INCOME\n",
      "EST_DTI_REPORTED_INCOME\n",
      "EST_DTI_MIN_INCOME\n",
      "EST_DEBT\n",
      "REPORTED_INCOME\n",
      "PRED_INCOME\n",
      "MIN_INCOME\n",
      "RATIO_PRED_REPORTED_INCOME\n",
      "DTI_PRED_INCOME\n",
      "DTI_REPORTED_INCOME\n",
      "DTI_MIN_INCOME\n",
      "EST_DTI_PRED_INCOME\n",
      "EST_DTI_REPORTED_INCOME\n",
      "EST_DTI_MIN_INCOME\n",
      "EST_DEBT\n",
      "REPORTED_INCOME\n",
      "PRED_INCOME\n",
      "MIN_INCOME\n",
      "RATIO_PRED_REPORTED_INCOME\n",
      "DTI_PRED_INCOME\n",
      "DTI_REPORTED_INCOME\n",
      "DTI_MIN_INCOME\n",
      "EST_DTI_PRED_INCOME\n",
      "EST_DTI_REPORTED_INCOME\n",
      "EST_DTI_MIN_INCOME\n",
      "EST_DEBT\n",
      "REPORTED_INCOME\n",
      "PRED_INCOME\n",
      "MIN_INCOME\n",
      "RATIO_PRED_REPORTED_INCOME\n",
      "DTI_PRED_INCOME\n",
      "DTI_REPORTED_INCOME\n",
      "DTI_MIN_INCOME\n",
      "EST_DTI_PRED_INCOME\n",
      "EST_DTI_REPORTED_INCOME\n",
      "EST_DTI_MIN_INCOME\n",
      "EST_DEBT\n",
      "REPORTED_INCOME\n",
      "PRED_INCOME\n",
      "MIN_INCOME\n",
      "RATIO_PRED_REPORTED_INCOME\n",
      "DTI_PRED_INCOME\n",
      "DTI_REPORTED_INCOME\n",
      "DTI_MIN_INCOME\n",
      "EST_DTI_PRED_INCOME\n",
      "EST_DTI_REPORTED_INCOME\n",
      "EST_DTI_MIN_INCOME\n",
      "EST_DEBT\n"
     ]
    }
   ],
   "source": [
    "from scoring.metrics import iv,gini\n",
    "cols_list= features_list\n",
    "col_target= 'RISK_FSTQPD30'\n",
    "power_tab = {'PRODUCT_GROUP':[],'NTC_FLAG':[],'VARIABLE_NAME':[],'IV':[],'GINI':[]}\n",
    "\n",
    "for x in ['CD', 'CL','ACL']:\n",
    "    for y in df1.NTC_FLAG.unique():\n",
    "        df = df1[(df1.PRODUCT_GROUP==x)&(df1.NTC_FLAG==y)]\n",
    "        df = df.sample(min(df.shape[0],100000),random_state=2)\n",
    "        for z in features_list:\n",
    "            df[z+\"_BINS\"] = pd.qcut(df[z],10,duplicates = 'drop')\n",
    "        for j in range(0,len(cols_list)):\n",
    "            power_tab[\"PRODUCT_GROUP\"].append(x)\n",
    "            power_tab[\"NTC_FLAG\"].append(y)\n",
    "            power_tab[\"VARIABLE_NAME\"].append(cols_list[j])\n",
    "            power_tab[\"IV\"].append(\"{:.3}\".format(iv(df[col_target],df[cols_list[j]+\"_BINS\"])))\n",
    "            power_tab[\"GINI\"].append(\"{:.2%}\".format((2*metrics.roc_auc_score(df[col_target],df[cols_list[j]])-1)))\n",
    "            print(cols_list[j])"
   ]
  },
  {
   "cell_type": "code",
   "execution_count": 75,
   "metadata": {},
   "outputs": [
    {
     "data": {
      "text/html": [
       "<div>\n",
       "<style scoped>\n",
       "    .dataframe tbody tr th:only-of-type {\n",
       "        vertical-align: middle;\n",
       "    }\n",
       "\n",
       "    .dataframe tbody tr th {\n",
       "        vertical-align: top;\n",
       "    }\n",
       "\n",
       "    .dataframe thead th {\n",
       "        text-align: right;\n",
       "    }\n",
       "</style>\n",
       "<table border=\"1\" class=\"dataframe\">\n",
       "  <thead>\n",
       "    <tr style=\"text-align: right;\">\n",
       "      <th></th>\n",
       "      <th>PRODUCT_GROUP</th>\n",
       "      <th>NTC_FLAG</th>\n",
       "      <th>IV</th>\n",
       "      <th>GINI</th>\n",
       "    </tr>\n",
       "    <tr>\n",
       "      <th>VARIABLE_NAME</th>\n",
       "      <th></th>\n",
       "      <th></th>\n",
       "      <th></th>\n",
       "      <th></th>\n",
       "    </tr>\n",
       "  </thead>\n",
       "  <tbody>\n",
       "    <tr>\n",
       "      <th>DTI_REPORTED_INCOME</th>\n",
       "      <td>CL</td>\n",
       "      <td>Others</td>\n",
       "      <td>0.0374</td>\n",
       "      <td>9.59%</td>\n",
       "    </tr>\n",
       "    <tr>\n",
       "      <th>EST_DTI_PRED_INCOME</th>\n",
       "      <td>CL</td>\n",
       "      <td>Others</td>\n",
       "      <td>0.0424</td>\n",
       "      <td>9.33%</td>\n",
       "    </tr>\n",
       "    <tr>\n",
       "      <th>EST_DTI_MIN_INCOME</th>\n",
       "      <td>ACL</td>\n",
       "      <td>NTC</td>\n",
       "      <td>0.223</td>\n",
       "      <td>8.89%</td>\n",
       "    </tr>\n",
       "    <tr>\n",
       "      <th>DTI_MIN_INCOME</th>\n",
       "      <td>CD</td>\n",
       "      <td>Others</td>\n",
       "      <td>0.0243</td>\n",
       "      <td>8.66%</td>\n",
       "    </tr>\n",
       "    <tr>\n",
       "      <th>REPORTED_INCOME</th>\n",
       "      <td>CL</td>\n",
       "      <td>Others</td>\n",
       "      <td>0.0233</td>\n",
       "      <td>8.02%</td>\n",
       "    </tr>\n",
       "    <tr>\n",
       "      <th>MIN_INCOME</th>\n",
       "      <td>CL</td>\n",
       "      <td>NTC</td>\n",
       "      <td>0.0781</td>\n",
       "      <td>7.90%</td>\n",
       "    </tr>\n",
       "    <tr>\n",
       "      <th>MIN_INCOME</th>\n",
       "      <td>CL</td>\n",
       "      <td>Others</td>\n",
       "      <td>0.019</td>\n",
       "      <td>7.56%</td>\n",
       "    </tr>\n",
       "    <tr>\n",
       "      <th>REPORTED_INCOME</th>\n",
       "      <td>ACL</td>\n",
       "      <td>Others</td>\n",
       "      <td>0.0243</td>\n",
       "      <td>7.56%</td>\n",
       "    </tr>\n",
       "    <tr>\n",
       "      <th>MIN_INCOME</th>\n",
       "      <td>ACL</td>\n",
       "      <td>Others</td>\n",
       "      <td>0.0203</td>\n",
       "      <td>7.49%</td>\n",
       "    </tr>\n",
       "    <tr>\n",
       "      <th>DTI_PRED_INCOME</th>\n",
       "      <td>CD</td>\n",
       "      <td>NTC</td>\n",
       "      <td>0.0242</td>\n",
       "      <td>7.32%</td>\n",
       "    </tr>\n",
       "    <tr>\n",
       "      <th>EST_DTI_REPORTED_INCOME</th>\n",
       "      <td>CL</td>\n",
       "      <td>NTC</td>\n",
       "      <td>0.0603</td>\n",
       "      <td>6.86%</td>\n",
       "    </tr>\n",
       "    <tr>\n",
       "      <th>EST_DTI_MIN_INCOME</th>\n",
       "      <td>CL</td>\n",
       "      <td>Others</td>\n",
       "      <td>0.0302</td>\n",
       "      <td>6.21%</td>\n",
       "    </tr>\n",
       "    <tr>\n",
       "      <th>EST_DEBT</th>\n",
       "      <td>ACL</td>\n",
       "      <td>NTC</td>\n",
       "      <td>0.0547</td>\n",
       "      <td>5.92%</td>\n",
       "    </tr>\n",
       "    <tr>\n",
       "      <th>DTI_MIN_INCOME</th>\n",
       "      <td>CD</td>\n",
       "      <td>NTC</td>\n",
       "      <td>0.0125</td>\n",
       "      <td>5.81%</td>\n",
       "    </tr>\n",
       "    <tr>\n",
       "      <th>MIN_INCOME</th>\n",
       "      <td>ACL</td>\n",
       "      <td>NTC</td>\n",
       "      <td>0.263</td>\n",
       "      <td>5.41%</td>\n",
       "    </tr>\n",
       "    <tr>\n",
       "      <th>EST_DTI_REPORTED_INCOME</th>\n",
       "      <td>ACL</td>\n",
       "      <td>NTC</td>\n",
       "      <td>0.208</td>\n",
       "      <td>5.40%</td>\n",
       "    </tr>\n",
       "    <tr>\n",
       "      <th>PRED_INCOME</th>\n",
       "      <td>ACL</td>\n",
       "      <td>NTC</td>\n",
       "      <td>0.265</td>\n",
       "      <td>4.85%</td>\n",
       "    </tr>\n",
       "    <tr>\n",
       "      <th>PRED_INCOME</th>\n",
       "      <td>ACL</td>\n",
       "      <td>Others</td>\n",
       "      <td>0.0166</td>\n",
       "      <td>4.84%</td>\n",
       "    </tr>\n",
       "    <tr>\n",
       "      <th>DTI_REPORTED_INCOME</th>\n",
       "      <td>CD</td>\n",
       "      <td>Others</td>\n",
       "      <td>0.00869</td>\n",
       "      <td>4.57%</td>\n",
       "    </tr>\n",
       "    <tr>\n",
       "      <th>PRED_INCOME</th>\n",
       "      <td>CL</td>\n",
       "      <td>Others</td>\n",
       "      <td>0.00988</td>\n",
       "      <td>4.50%</td>\n",
       "    </tr>\n",
       "    <tr>\n",
       "      <th>DTI_REPORTED_INCOME</th>\n",
       "      <td>CD</td>\n",
       "      <td>NTC</td>\n",
       "      <td>0.00542</td>\n",
       "      <td>3.64%</td>\n",
       "    </tr>\n",
       "    <tr>\n",
       "      <th>PRED_INCOME</th>\n",
       "      <td>CL</td>\n",
       "      <td>NTC</td>\n",
       "      <td>0.0661</td>\n",
       "      <td>3.52%</td>\n",
       "    </tr>\n",
       "    <tr>\n",
       "      <th>REPORTED_INCOME</th>\n",
       "      <td>CD</td>\n",
       "      <td>Others</td>\n",
       "      <td>0.00601</td>\n",
       "      <td>3.51%</td>\n",
       "    </tr>\n",
       "    <tr>\n",
       "      <th>MIN_INCOME</th>\n",
       "      <td>CD</td>\n",
       "      <td>NTC</td>\n",
       "      <td>0.00526</td>\n",
       "      <td>3.39%</td>\n",
       "    </tr>\n",
       "    <tr>\n",
       "      <th>REPORTED_INCOME</th>\n",
       "      <td>CD</td>\n",
       "      <td>NTC</td>\n",
       "      <td>0.00563</td>\n",
       "      <td>3.20%</td>\n",
       "    </tr>\n",
       "    <tr>\n",
       "      <th>MIN_INCOME</th>\n",
       "      <td>CD</td>\n",
       "      <td>Others</td>\n",
       "      <td>0.00798</td>\n",
       "      <td>3.18%</td>\n",
       "    </tr>\n",
       "    <tr>\n",
       "      <th>DTI_PRED_INCOME</th>\n",
       "      <td>ACL</td>\n",
       "      <td>NTC</td>\n",
       "      <td>0.0859</td>\n",
       "      <td>3.07%</td>\n",
       "    </tr>\n",
       "    <tr>\n",
       "      <th>DTI_PRED_INCOME</th>\n",
       "      <td>CL</td>\n",
       "      <td>NTC</td>\n",
       "      <td>0.247</td>\n",
       "      <td>26.21%</td>\n",
       "    </tr>\n",
       "    <tr>\n",
       "      <th>EST_DTI_PRED_INCOME</th>\n",
       "      <td>CL</td>\n",
       "      <td>NTC</td>\n",
       "      <td>0.176</td>\n",
       "      <td>22.32%</td>\n",
       "    </tr>\n",
       "    <tr>\n",
       "      <th>PRED_INCOME</th>\n",
       "      <td>CD</td>\n",
       "      <td>NTC</td>\n",
       "      <td>0.00575</td>\n",
       "      <td>2.93%</td>\n",
       "    </tr>\n",
       "    <tr>\n",
       "      <th>REPORTED_INCOME</th>\n",
       "      <td>ACL</td>\n",
       "      <td>NTC</td>\n",
       "      <td>0.14</td>\n",
       "      <td>2.72%</td>\n",
       "    </tr>\n",
       "    <tr>\n",
       "      <th>EST_DTI_PRED_INCOME</th>\n",
       "      <td>CD</td>\n",
       "      <td>NTC</td>\n",
       "      <td>0.00245</td>\n",
       "      <td>2.44%</td>\n",
       "    </tr>\n",
       "    <tr>\n",
       "      <th>EST_DTI_REPORTED_INCOME</th>\n",
       "      <td>CL</td>\n",
       "      <td>Others</td>\n",
       "      <td>0.00906</td>\n",
       "      <td>2.25%</td>\n",
       "    </tr>\n",
       "    <tr>\n",
       "      <th>DTI_PRED_INCOME</th>\n",
       "      <td>CL</td>\n",
       "      <td>Others</td>\n",
       "      <td>0.138</td>\n",
       "      <td>19.51%</td>\n",
       "    </tr>\n",
       "    <tr>\n",
       "      <th>DTI_MIN_INCOME</th>\n",
       "      <td>CL</td>\n",
       "      <td>NTC</td>\n",
       "      <td>0.18</td>\n",
       "      <td>18.31%</td>\n",
       "    </tr>\n",
       "    <tr>\n",
       "      <th>DTI_MIN_INCOME</th>\n",
       "      <td>CL</td>\n",
       "      <td>Others</td>\n",
       "      <td>0.111</td>\n",
       "      <td>15.81%</td>\n",
       "    </tr>\n",
       "    <tr>\n",
       "      <th>EST_DTI_MIN_INCOME</th>\n",
       "      <td>CL</td>\n",
       "      <td>NTC</td>\n",
       "      <td>0.162</td>\n",
       "      <td>14.20%</td>\n",
       "    </tr>\n",
       "    <tr>\n",
       "      <th>REPORTED_INCOME</th>\n",
       "      <td>CL</td>\n",
       "      <td>NTC</td>\n",
       "      <td>0.0664</td>\n",
       "      <td>10.73%</td>\n",
       "    </tr>\n",
       "    <tr>\n",
       "      <th>DTI_REPORTED_INCOME</th>\n",
       "      <td>CL</td>\n",
       "      <td>NTC</td>\n",
       "      <td>0.0894</td>\n",
       "      <td>10.70%</td>\n",
       "    </tr>\n",
       "    <tr>\n",
       "      <th>DTI_PRED_INCOME</th>\n",
       "      <td>CD</td>\n",
       "      <td>Others</td>\n",
       "      <td>0.0415</td>\n",
       "      <td>10.69%</td>\n",
       "    </tr>\n",
       "    <tr>\n",
       "      <th>EST_DTI_PRED_INCOME</th>\n",
       "      <td>ACL</td>\n",
       "      <td>NTC</td>\n",
       "      <td>0.103</td>\n",
       "      <td>10.44%</td>\n",
       "    </tr>\n",
       "    <tr>\n",
       "      <th>PRED_INCOME</th>\n",
       "      <td>CD</td>\n",
       "      <td>Others</td>\n",
       "      <td>0.00295</td>\n",
       "      <td>1.59%</td>\n",
       "    </tr>\n",
       "    <tr>\n",
       "      <th>EST_DTI_MIN_INCOME</th>\n",
       "      <td>CD</td>\n",
       "      <td>NTC</td>\n",
       "      <td>0.00237</td>\n",
       "      <td>1.54%</td>\n",
       "    </tr>\n",
       "    <tr>\n",
       "      <th>DTI_MIN_INCOME</th>\n",
       "      <td>ACL</td>\n",
       "      <td>NTC</td>\n",
       "      <td>0.198</td>\n",
       "      <td>1.17%</td>\n",
       "    </tr>\n",
       "    <tr>\n",
       "      <th>EST_DTI_REPORTED_INCOME</th>\n",
       "      <td>CD</td>\n",
       "      <td>NTC</td>\n",
       "      <td>0.00138</td>\n",
       "      <td>0.52%</td>\n",
       "    </tr>\n",
       "    <tr>\n",
       "      <th>DTI_REPORTED_INCOME</th>\n",
       "      <td>ACL</td>\n",
       "      <td>NTC</td>\n",
       "      <td>0.103</td>\n",
       "      <td>0.10%</td>\n",
       "    </tr>\n",
       "    <tr>\n",
       "      <th>EST_DEBT</th>\n",
       "      <td>CD</td>\n",
       "      <td>Others</td>\n",
       "      <td>0.0286</td>\n",
       "      <td>-8.52%</td>\n",
       "    </tr>\n",
       "    <tr>\n",
       "      <th>DTI_REPORTED_INCOME</th>\n",
       "      <td>ACL</td>\n",
       "      <td>Others</td>\n",
       "      <td>0.031</td>\n",
       "      <td>-7.15%</td>\n",
       "    </tr>\n",
       "    <tr>\n",
       "      <th>RATIO_PRED_REPORTED_INCOME</th>\n",
       "      <td>CL</td>\n",
       "      <td>Others</td>\n",
       "      <td>0.0173</td>\n",
       "      <td>-7.01%</td>\n",
       "    </tr>\n",
       "    <tr>\n",
       "      <th>RATIO_PRED_REPORTED_INCOME</th>\n",
       "      <td>ACL</td>\n",
       "      <td>Others</td>\n",
       "      <td>0.0176</td>\n",
       "      <td>-6.06%</td>\n",
       "    </tr>\n",
       "    <tr>\n",
       "      <th>EST_DTI_REPORTED_INCOME</th>\n",
       "      <td>ACL</td>\n",
       "      <td>Others</td>\n",
       "      <td>0.0202</td>\n",
       "      <td>-5.84%</td>\n",
       "    </tr>\n",
       "    <tr>\n",
       "      <th>EST_DTI_REPORTED_INCOME</th>\n",
       "      <td>CD</td>\n",
       "      <td>Others</td>\n",
       "      <td>0.0141</td>\n",
       "      <td>-5.76%</td>\n",
       "    </tr>\n",
       "    <tr>\n",
       "      <th>EST_DTI_MIN_INCOME</th>\n",
       "      <td>CD</td>\n",
       "      <td>Others</td>\n",
       "      <td>0.0098</td>\n",
       "      <td>-4.51%</td>\n",
       "    </tr>\n",
       "    <tr>\n",
       "      <th>EST_DEBT</th>\n",
       "      <td>CL</td>\n",
       "      <td>Others</td>\n",
       "      <td>0.0131</td>\n",
       "      <td>-4.36%</td>\n",
       "    </tr>\n",
       "    <tr>\n",
       "      <th>DTI_MIN_INCOME</th>\n",
       "      <td>ACL</td>\n",
       "      <td>Others</td>\n",
       "      <td>0.0222</td>\n",
       "      <td>-4.14%</td>\n",
       "    </tr>\n",
       "    <tr>\n",
       "      <th>EST_DEBT</th>\n",
       "      <td>CD</td>\n",
       "      <td>NTC</td>\n",
       "      <td>0.0114</td>\n",
       "      <td>-3.97%</td>\n",
       "    </tr>\n",
       "    <tr>\n",
       "      <th>EST_DTI_PRED_INCOME</th>\n",
       "      <td>CD</td>\n",
       "      <td>Others</td>\n",
       "      <td>0.0103</td>\n",
       "      <td>-3.59%</td>\n",
       "    </tr>\n",
       "    <tr>\n",
       "      <th>RATIO_PRED_REPORTED_INCOME</th>\n",
       "      <td>CD</td>\n",
       "      <td>Others</td>\n",
       "      <td>0.00426</td>\n",
       "      <td>-3.44%</td>\n",
       "    </tr>\n",
       "    <tr>\n",
       "      <th>EST_DTI_MIN_INCOME</th>\n",
       "      <td>ACL</td>\n",
       "      <td>Others</td>\n",
       "      <td>0.00693</td>\n",
       "      <td>-3.03%</td>\n",
       "    </tr>\n",
       "    <tr>\n",
       "      <th>RATIO_PRED_REPORTED_INCOME</th>\n",
       "      <td>ACL</td>\n",
       "      <td>NTC</td>\n",
       "      <td>0.135</td>\n",
       "      <td>-2.99%</td>\n",
       "    </tr>\n",
       "    <tr>\n",
       "      <th>RATIO_PRED_REPORTED_INCOME</th>\n",
       "      <td>CD</td>\n",
       "      <td>NTC</td>\n",
       "      <td>0.00181</td>\n",
       "      <td>-2.11%</td>\n",
       "    </tr>\n",
       "    <tr>\n",
       "      <th>DTI_PRED_INCOME</th>\n",
       "      <td>ACL</td>\n",
       "      <td>Others</td>\n",
       "      <td>0.0183</td>\n",
       "      <td>-2.04%</td>\n",
       "    </tr>\n",
       "    <tr>\n",
       "      <th>RATIO_PRED_REPORTED_INCOME</th>\n",
       "      <td>CL</td>\n",
       "      <td>NTC</td>\n",
       "      <td>0.0676</td>\n",
       "      <td>-10.83%</td>\n",
       "    </tr>\n",
       "    <tr>\n",
       "      <th>EST_DEBT</th>\n",
       "      <td>ACL</td>\n",
       "      <td>Others</td>\n",
       "      <td>0.00796</td>\n",
       "      <td>-1.90%</td>\n",
       "    </tr>\n",
       "    <tr>\n",
       "      <th>EST_DTI_PRED_INCOME</th>\n",
       "      <td>ACL</td>\n",
       "      <td>Others</td>\n",
       "      <td>0.00362</td>\n",
       "      <td>-1.88%</td>\n",
       "    </tr>\n",
       "    <tr>\n",
       "      <th>EST_DEBT</th>\n",
       "      <td>CL</td>\n",
       "      <td>NTC</td>\n",
       "      <td>0.00148</td>\n",
       "      <td>-1.82%</td>\n",
       "    </tr>\n",
       "  </tbody>\n",
       "</table>\n",
       "</div>"
      ],
      "text/plain": [
       "                           PRODUCT_GROUP NTC_FLAG       IV     GINI\n",
       "VARIABLE_NAME                                                      \n",
       "DTI_REPORTED_INCOME                   CL   Others   0.0374    9.59%\n",
       "EST_DTI_PRED_INCOME                   CL   Others   0.0424    9.33%\n",
       "EST_DTI_MIN_INCOME                   ACL      NTC    0.223    8.89%\n",
       "DTI_MIN_INCOME                        CD   Others   0.0243    8.66%\n",
       "REPORTED_INCOME                       CL   Others   0.0233    8.02%\n",
       "MIN_INCOME                            CL      NTC   0.0781    7.90%\n",
       "MIN_INCOME                            CL   Others    0.019    7.56%\n",
       "REPORTED_INCOME                      ACL   Others   0.0243    7.56%\n",
       "MIN_INCOME                           ACL   Others   0.0203    7.49%\n",
       "DTI_PRED_INCOME                       CD      NTC   0.0242    7.32%\n",
       "EST_DTI_REPORTED_INCOME               CL      NTC   0.0603    6.86%\n",
       "EST_DTI_MIN_INCOME                    CL   Others   0.0302    6.21%\n",
       "EST_DEBT                             ACL      NTC   0.0547    5.92%\n",
       "DTI_MIN_INCOME                        CD      NTC   0.0125    5.81%\n",
       "MIN_INCOME                           ACL      NTC    0.263    5.41%\n",
       "EST_DTI_REPORTED_INCOME              ACL      NTC    0.208    5.40%\n",
       "PRED_INCOME                          ACL      NTC    0.265    4.85%\n",
       "PRED_INCOME                          ACL   Others   0.0166    4.84%\n",
       "DTI_REPORTED_INCOME                   CD   Others  0.00869    4.57%\n",
       "PRED_INCOME                           CL   Others  0.00988    4.50%\n",
       "DTI_REPORTED_INCOME                   CD      NTC  0.00542    3.64%\n",
       "PRED_INCOME                           CL      NTC   0.0661    3.52%\n",
       "REPORTED_INCOME                       CD   Others  0.00601    3.51%\n",
       "MIN_INCOME                            CD      NTC  0.00526    3.39%\n",
       "REPORTED_INCOME                       CD      NTC  0.00563    3.20%\n",
       "MIN_INCOME                            CD   Others  0.00798    3.18%\n",
       "DTI_PRED_INCOME                      ACL      NTC   0.0859    3.07%\n",
       "DTI_PRED_INCOME                       CL      NTC    0.247   26.21%\n",
       "EST_DTI_PRED_INCOME                   CL      NTC    0.176   22.32%\n",
       "PRED_INCOME                           CD      NTC  0.00575    2.93%\n",
       "REPORTED_INCOME                      ACL      NTC     0.14    2.72%\n",
       "EST_DTI_PRED_INCOME                   CD      NTC  0.00245    2.44%\n",
       "EST_DTI_REPORTED_INCOME               CL   Others  0.00906    2.25%\n",
       "DTI_PRED_INCOME                       CL   Others    0.138   19.51%\n",
       "DTI_MIN_INCOME                        CL      NTC     0.18   18.31%\n",
       "DTI_MIN_INCOME                        CL   Others    0.111   15.81%\n",
       "EST_DTI_MIN_INCOME                    CL      NTC    0.162   14.20%\n",
       "REPORTED_INCOME                       CL      NTC   0.0664   10.73%\n",
       "DTI_REPORTED_INCOME                   CL      NTC   0.0894   10.70%\n",
       "DTI_PRED_INCOME                       CD   Others   0.0415   10.69%\n",
       "EST_DTI_PRED_INCOME                  ACL      NTC    0.103   10.44%\n",
       "PRED_INCOME                           CD   Others  0.00295    1.59%\n",
       "EST_DTI_MIN_INCOME                    CD      NTC  0.00237    1.54%\n",
       "DTI_MIN_INCOME                       ACL      NTC    0.198    1.17%\n",
       "EST_DTI_REPORTED_INCOME               CD      NTC  0.00138    0.52%\n",
       "DTI_REPORTED_INCOME                  ACL      NTC    0.103    0.10%\n",
       "EST_DEBT                              CD   Others   0.0286   -8.52%\n",
       "DTI_REPORTED_INCOME                  ACL   Others    0.031   -7.15%\n",
       "RATIO_PRED_REPORTED_INCOME            CL   Others   0.0173   -7.01%\n",
       "RATIO_PRED_REPORTED_INCOME           ACL   Others   0.0176   -6.06%\n",
       "EST_DTI_REPORTED_INCOME              ACL   Others   0.0202   -5.84%\n",
       "EST_DTI_REPORTED_INCOME               CD   Others   0.0141   -5.76%\n",
       "EST_DTI_MIN_INCOME                    CD   Others   0.0098   -4.51%\n",
       "EST_DEBT                              CL   Others   0.0131   -4.36%\n",
       "DTI_MIN_INCOME                       ACL   Others   0.0222   -4.14%\n",
       "EST_DEBT                              CD      NTC   0.0114   -3.97%\n",
       "EST_DTI_PRED_INCOME                   CD   Others   0.0103   -3.59%\n",
       "RATIO_PRED_REPORTED_INCOME            CD   Others  0.00426   -3.44%\n",
       "EST_DTI_MIN_INCOME                   ACL   Others  0.00693   -3.03%\n",
       "RATIO_PRED_REPORTED_INCOME           ACL      NTC    0.135   -2.99%\n",
       "RATIO_PRED_REPORTED_INCOME            CD      NTC  0.00181   -2.11%\n",
       "DTI_PRED_INCOME                      ACL   Others   0.0183   -2.04%\n",
       "RATIO_PRED_REPORTED_INCOME            CL      NTC   0.0676  -10.83%\n",
       "EST_DEBT                             ACL   Others  0.00796   -1.90%\n",
       "EST_DTI_PRED_INCOME                  ACL   Others  0.00362   -1.88%\n",
       "EST_DEBT                              CL      NTC  0.00148   -1.82%"
      ]
     },
     "metadata": {},
     "output_type": "display_data"
    }
   ],
   "source": [
    "power_out = pd.DataFrame(power_tab)\n",
    "power_out = power_out.set_index('VARIABLE_NAME')\n",
    "power_out = power_out.sort_values('GINI',ascending=False)\n",
    "\n",
    "pd.options.display.max_rows = 1000\n",
    "display(power_out)\n",
    "\n",
    "power_out.to_csv(os.getcwd()+ \"\\gini_iv.csv\")"
   ]
  },
  {
   "cell_type": "markdown",
   "metadata": {},
   "source": [
    "### To make MOM calculations of IV, GINI"
   ]
  },
  {
   "cell_type": "code",
   "execution_count": null,
   "metadata": {},
   "outputs": [],
   "source": [
    "from scoring.metrics import iv,gini,lift\n",
    "cols_list= features_list\n",
    "col_target= 'RISK_FSTQPD30'\n",
    "power_tab = {'VARIABLE_NAME':[],'MONTH':[],'IV':[],'GINI':[]}\n",
    "for j in range(0,len(cols_list)):\n",
    "    for k in df.MONTH_STR.unique():\n",
    "        power_tab[\"VARIABLE_NAME\"].append(j)\n",
    "        power_tab[\"MONTH\"].append(k)\n",
    "        power_tab[\"IV\"].append(\"{:.3}\".format(iv(df[df.MONTH_STR==k][col_target],df[df.MONTH_STR==k][cols_list[j]+\"_BINS\"])))\n",
    "        power_tab[\"GINI\"].append(\"{:.1%}\".format((2*metrics.roc_auc_score(df[df.MONTH_STR==k][col_target],df[df.MONTH_STR==k][cols_list[j]])-1)))"
   ]
  },
  {
   "cell_type": "code",
   "execution_count": null,
   "metadata": {},
   "outputs": [],
   "source": [
    "power_out = pd.DataFrame(power_tab)\n",
    "power_out = power_out.set_index('VARIABLE_NAME')\n",
    "power_out = power_out.sort_values('Gini',ascending=False)\n",
    "\n",
    "pd.options.display.max_rows = 1000\n",
    "display(power_out)\n",
    "\n",
    "power_out.to_csv(r\"C:\\Users\\aman.khatri91425\\Desktop\\HomeCredit\\Bigdata\\Common Maps KNN\\mom_gini_iv.csv\")"
   ]
  },
  {
   "cell_type": "markdown",
   "metadata": {},
   "source": [
    "# WOE Analysis"
   ]
  },
  {
   "cell_type": "code",
   "execution_count": 68,
   "metadata": {},
   "outputs": [],
   "source": [
    "df=df1\n",
    "# Split Train and Test Data Set\n",
    "df_train = df[(df[\"TIME_DECISION_DATE\"]>=datetime.datetime(2019, 1, 1)) & \n",
    "              (df[\"TIME_DECISION_DATE\"]<=datetime.datetime(2019, 3, 31))]\n",
    "df_valid = df[(df[\"TIME_DECISION_DATE\"]>=datetime.datetime(2019, 4, 1)) & \n",
    "              (df[\"TIME_DECISION_DATE\"]<=datetime.datetime(2019, 5, 31))]\n",
    "df_test = df[(df[\"TIME_DECISION_DATE\"]>=datetime.datetime(2019, 6, 1)) & \n",
    "              (df[\"TIME_DECISION_DATE\"]<=datetime.datetime(2019, 8, 31))]"
   ]
  },
  {
   "cell_type": "code",
   "execution_count": 69,
   "metadata": {},
   "outputs": [],
   "source": [
    "cols_pred_num=features_list\n",
    "cols_pred_cat = []"
   ]
  },
  {
   "cell_type": "code",
   "execution_count": 72,
   "metadata": {},
   "outputs": [
    {
     "data": {
      "application/vnd.jupyter.widget-view+json": {
       "model_id": "b8ce60bb64a44a2e8043555bd6982026",
       "version_major": 2,
       "version_minor": 0
      },
      "text/plain": [
       "HBox(children=(IntProgress(value=0, max=7), HTML(value='')))"
      ]
     },
     "metadata": {},
     "output_type": "display_data"
    },
    {
     "name": "stdout",
     "output_type": "stream",
     "text": [
      "\n"
     ]
    },
    {
     "data": {
      "text/plain": [
       "'Grouping saved on 2020-04-08 18:08:12 to file C:\\\\Users\\\\aman.khatri91425\\\\Desktop\\\\HomeCredit\\\\Bigdata\\\\Common Maps KNN\\\\my_grouping'"
      ]
     },
     "metadata": {},
     "output_type": "display_data"
    },
    {
     "data": {
      "application/vnd.jupyter.widget-view+json": {
       "model_id": "4569bdb07bd44f75a37fab72a83e33d8",
       "version_major": 2,
       "version_minor": 0
      },
      "text/plain": [
       "HBox(children=(IntProgress(value=0, max=7), HTML(value='')))"
      ]
     },
     "metadata": {},
     "output_type": "display_data"
    },
    {
     "name": "stdout",
     "output_type": "stream",
     "text": [
      "\n"
     ]
    }
   ],
   "source": [
    "from scoring.grouping import Grouping\n",
    "\n",
    "grouping = Grouping(columns = sorted(cols_pred_num),\n",
    "                    cat_columns = sorted(cols_pred_cat),\n",
    "                    group_count=4, \n",
    "                    min_samples=10000)\n",
    "\n",
    "grouping.fit(df_train[cols_pred_num],\n",
    "             df_train[\"RISK_FSTQPD30\"],\n",
    "          #   w=data[train_mask][col_weight],\n",
    "            progress_bar=True, category_limit=10000);\n",
    "\n",
    "grouping.save(r\"C:\\Users\\aman.khatri91425\\Desktop\\HomeCredit\\Bigdata\\Common Maps KNN\\my_grouping\")\n",
    "\n",
    "data_woe = grouping.transform(df, transform_to='woe', progress_bar=True)"
   ]
  },
  {
   "cell_type": "markdown",
   "metadata": {},
   "source": [
    "### Plot Bins"
   ]
  },
  {
   "cell_type": "code",
   "execution_count": 73,
   "metadata": {
    "scrolled": true
   },
   "outputs": [
    {
     "data": {
      "text/markdown": [
       "***"
      ],
      "text/plain": [
       "<IPython.core.display.Markdown object>"
      ]
     },
     "metadata": {},
     "output_type": "display_data"
    },
    {
     "data": {
      "text/markdown": [
       "### DTI_MIN_INCOME"
      ],
      "text/plain": [
       "<IPython.core.display.Markdown object>"
      ]
     },
     "metadata": {},
     "output_type": "display_data"
    },
    {
     "data": {
      "text/html": [
       "<div>\n",
       "<style scoped>\n",
       "    .dataframe tbody tr th:only-of-type {\n",
       "        vertical-align: middle;\n",
       "    }\n",
       "\n",
       "    .dataframe tbody tr th {\n",
       "        vertical-align: top;\n",
       "    }\n",
       "\n",
       "    .dataframe thead th {\n",
       "        text-align: right;\n",
       "    }\n",
       "</style>\n",
       "<table border=\"1\" class=\"dataframe\">\n",
       "  <thead>\n",
       "    <tr style=\"text-align: right;\">\n",
       "      <th></th>\n",
       "      <th>CNT_TOTAL</th>\n",
       "      <th>CNT_DEF</th>\n",
       "      <th>DEF_RATE</th>\n",
       "      <th>DIST_BAD</th>\n",
       "      <th>DIST_GOOD</th>\n",
       "      <th>WOE</th>\n",
       "      <th>WOE_check</th>\n",
       "      <th>SHARE</th>\n",
       "    </tr>\n",
       "    <tr>\n",
       "      <th>BIN_DTI_MIN_INCOME</th>\n",
       "      <th></th>\n",
       "      <th></th>\n",
       "      <th></th>\n",
       "      <th></th>\n",
       "      <th></th>\n",
       "      <th></th>\n",
       "      <th></th>\n",
       "      <th></th>\n",
       "    </tr>\n",
       "  </thead>\n",
       "  <tbody>\n",
       "    <tr>\n",
       "      <th>[-inf, 0.2347)</th>\n",
       "      <td>29804.0</td>\n",
       "      <td>398.0</td>\n",
       "      <td>0.0134</td>\n",
       "      <td>0.1008</td>\n",
       "      <td>0.1947</td>\n",
       "      <td>0.6249</td>\n",
       "      <td>0.6586</td>\n",
       "      <td>0.1923</td>\n",
       "    </tr>\n",
       "    <tr>\n",
       "      <th>[0.2347, 0.2978)</th>\n",
       "      <td>21337.0</td>\n",
       "      <td>396.0</td>\n",
       "      <td>0.0186</td>\n",
       "      <td>0.1003</td>\n",
       "      <td>0.1387</td>\n",
       "      <td>0.3102</td>\n",
       "      <td>0.3242</td>\n",
       "      <td>0.1377</td>\n",
       "    </tr>\n",
       "    <tr>\n",
       "      <th>[0.2978, 0.4109)</th>\n",
       "      <td>38926.0</td>\n",
       "      <td>970.0</td>\n",
       "      <td>0.0249</td>\n",
       "      <td>0.2456</td>\n",
       "      <td>0.2513</td>\n",
       "      <td>0.0221</td>\n",
       "      <td>0.0230</td>\n",
       "      <td>0.2512</td>\n",
       "    </tr>\n",
       "    <tr>\n",
       "      <th>[0.4109, inf)</th>\n",
       "      <td>64894.0</td>\n",
       "      <td>2185.0</td>\n",
       "      <td>0.0337</td>\n",
       "      <td>0.5533</td>\n",
       "      <td>0.4153</td>\n",
       "      <td>-0.2778</td>\n",
       "      <td>-0.2870</td>\n",
       "      <td>0.4188</td>\n",
       "    </tr>\n",
       "    <tr>\n",
       "      <th>nan</th>\n",
       "      <td>0.0</td>\n",
       "      <td>0.0</td>\n",
       "      <td>NaN</td>\n",
       "      <td>0.0000</td>\n",
       "      <td>0.0000</td>\n",
       "      <td>NaN</td>\n",
       "      <td>-3.6439</td>\n",
       "      <td>0.0000</td>\n",
       "    </tr>\n",
       "  </tbody>\n",
       "</table>\n",
       "</div>"
      ],
      "text/plain": [
       "                    CNT_TOTAL  CNT_DEF  DEF_RATE  DIST_BAD  DIST_GOOD     WOE  \\\n",
       "BIN_DTI_MIN_INCOME                                                              \n",
       "[-inf, 0.2347)        29804.0    398.0    0.0134    0.1008     0.1947  0.6249   \n",
       "[0.2347, 0.2978)      21337.0    396.0    0.0186    0.1003     0.1387  0.3102   \n",
       "[0.2978, 0.4109)      38926.0    970.0    0.0249    0.2456     0.2513  0.0221   \n",
       "[0.4109, inf)         64894.0   2185.0    0.0337    0.5533     0.4153 -0.2778   \n",
       "nan                       0.0      0.0       NaN    0.0000     0.0000     NaN   \n",
       "\n",
       "                    WOE_check   SHARE  \n",
       "BIN_DTI_MIN_INCOME                     \n",
       "[-inf, 0.2347)         0.6586  0.1923  \n",
       "[0.2347, 0.2978)       0.3242  0.1377  \n",
       "[0.2978, 0.4109)       0.0230  0.2512  \n",
       "[0.4109, inf)         -0.2870  0.4188  \n",
       "nan                   -3.6439  0.0000  "
      ]
     },
     "metadata": {},
     "output_type": "display_data"
    },
    {
     "name": "stdout",
     "output_type": "stream",
     "text": [
      "IV: 0.1141\n",
      "Gini: 17.50\n"
     ]
    },
    {
     "data": {
      "image/png": "[encoded data removed]",
      "text/plain": [
       "<Figure size 720x360 with 2 Axes>"
      ]
     },
     "metadata": {
      "needs_background": "light"
     },
     "output_type": "display_data"
    },
    {
     "data": {
      "text/markdown": [
       "***"
      ],
      "text/plain": [
       "<IPython.core.display.Markdown object>"
      ]
     },
     "metadata": {},
     "output_type": "display_data"
    },
    {
     "data": {
      "text/markdown": [
       "### DTI_PRED_INCOME"
      ],
      "text/plain": [
       "<IPython.core.display.Markdown object>"
      ]
     },
     "metadata": {},
     "output_type": "display_data"
    },
    {
     "data": {
      "text/html": [
       "<div>\n",
       "<style scoped>\n",
       "    .dataframe tbody tr th:only-of-type {\n",
       "        vertical-align: middle;\n",
       "    }\n",
       "\n",
       "    .dataframe tbody tr th {\n",
       "        vertical-align: top;\n",
       "    }\n",
       "\n",
       "    .dataframe thead th {\n",
       "        text-align: right;\n",
       "    }\n",
       "</style>\n",
       "<table border=\"1\" class=\"dataframe\">\n",
       "  <thead>\n",
       "    <tr style=\"text-align: right;\">\n",
       "      <th></th>\n",
       "      <th>CNT_TOTAL</th>\n",
       "      <th>CNT_DEF</th>\n",
       "      <th>DEF_RATE</th>\n",
       "      <th>DIST_BAD</th>\n",
       "      <th>DIST_GOOD</th>\n",
       "      <th>WOE</th>\n",
       "      <th>WOE_check</th>\n",
       "      <th>SHARE</th>\n",
       "    </tr>\n",
       "    <tr>\n",
       "      <th>BIN_DTI_PRED_INCOME</th>\n",
       "      <th></th>\n",
       "      <th></th>\n",
       "      <th></th>\n",
       "      <th></th>\n",
       "      <th></th>\n",
       "      <th></th>\n",
       "      <th></th>\n",
       "      <th></th>\n",
       "    </tr>\n",
       "  </thead>\n",
       "  <tbody>\n",
       "    <tr>\n",
       "      <th>[-inf, 0.2504)</th>\n",
       "      <td>49501.0</td>\n",
       "      <td>705.0</td>\n",
       "      <td>0.0142</td>\n",
       "      <td>0.1785</td>\n",
       "      <td>0.3231</td>\n",
       "      <td>0.5639</td>\n",
       "      <td>0.5933</td>\n",
       "      <td>0.3194</td>\n",
       "    </tr>\n",
       "    <tr>\n",
       "      <th>[0.2504, 0.326)</th>\n",
       "      <td>29147.0</td>\n",
       "      <td>642.0</td>\n",
       "      <td>0.0220</td>\n",
       "      <td>0.1626</td>\n",
       "      <td>0.1888</td>\n",
       "      <td>0.1434</td>\n",
       "      <td>0.1493</td>\n",
       "      <td>0.1881</td>\n",
       "    </tr>\n",
       "    <tr>\n",
       "      <th>[0.326, 0.4078)</th>\n",
       "      <td>30923.0</td>\n",
       "      <td>865.0</td>\n",
       "      <td>0.0280</td>\n",
       "      <td>0.2190</td>\n",
       "      <td>0.1990</td>\n",
       "      <td>-0.0924</td>\n",
       "      <td>-0.0957</td>\n",
       "      <td>0.1996</td>\n",
       "    </tr>\n",
       "    <tr>\n",
       "      <th>[0.4078, inf)</th>\n",
       "      <td>45390.0</td>\n",
       "      <td>1737.0</td>\n",
       "      <td>0.0383</td>\n",
       "      <td>0.4399</td>\n",
       "      <td>0.2891</td>\n",
       "      <td>-0.4071</td>\n",
       "      <td>-0.4198</td>\n",
       "      <td>0.2929</td>\n",
       "    </tr>\n",
       "    <tr>\n",
       "      <th>nan</th>\n",
       "      <td>0.0</td>\n",
       "      <td>0.0</td>\n",
       "      <td>NaN</td>\n",
       "      <td>0.0000</td>\n",
       "      <td>0.0000</td>\n",
       "      <td>NaN</td>\n",
       "      <td>-3.6439</td>\n",
       "      <td>0.0000</td>\n",
       "    </tr>\n",
       "  </tbody>\n",
       "</table>\n",
       "</div>"
      ],
      "text/plain": [
       "                     CNT_TOTAL  CNT_DEF  DEF_RATE  DIST_BAD  DIST_GOOD  \\\n",
       "BIN_DTI_PRED_INCOME                                                      \n",
       "[-inf, 0.2504)         49501.0    705.0    0.0142    0.1785     0.3231   \n",
       "[0.2504, 0.326)        29147.0    642.0    0.0220    0.1626     0.1888   \n",
       "[0.326, 0.4078)        30923.0    865.0    0.0280    0.2190     0.1990   \n",
       "[0.4078, inf)          45390.0   1737.0    0.0383    0.4399     0.2891   \n",
       "nan                        0.0      0.0       NaN    0.0000     0.0000   \n",
       "\n",
       "                        WOE  WOE_check   SHARE  \n",
       "BIN_DTI_PRED_INCOME                             \n",
       "[-inf, 0.2504)       0.5639     0.5933  0.3194  \n",
       "[0.2504, 0.326)      0.1434     0.1493  0.1881  \n",
       "[0.326, 0.4078)     -0.0924    -0.0957  0.1996  \n",
       "[0.4078, inf)       -0.4071    -0.4198  0.2929  \n",
       "nan                     NaN    -3.6439  0.0000  "
      ]
     },
     "metadata": {},
     "output_type": "display_data"
    },
    {
     "name": "stdout",
     "output_type": "stream",
     "text": [
      "IV: 0.1549\n",
      "Gini: 21.39\n"
     ]
    },
    {
     "data": {
      "image/png": "[encoded data removed]",
      "text/plain": [
       "<Figure size 720x360 with 2 Axes>"
      ]
     },
     "metadata": {
      "needs_background": "light"
     },
     "output_type": "display_data"
    },
    {
     "data": {
      "text/markdown": [
       "***"
      ],
      "text/plain": [
       "<IPython.core.display.Markdown object>"
      ]
     },
     "metadata": {},
     "output_type": "display_data"
    },
    {
     "data": {
      "text/markdown": [
       "### DTI_REPORTED_INCOME"
      ],
      "text/plain": [
       "<IPython.core.display.Markdown object>"
      ]
     },
     "metadata": {},
     "output_type": "display_data"
    },
    {
     "data": {
      "text/html": [
       "<div>\n",
       "<style scoped>\n",
       "    .dataframe tbody tr th:only-of-type {\n",
       "        vertical-align: middle;\n",
       "    }\n",
       "\n",
       "    .dataframe tbody tr th {\n",
       "        vertical-align: top;\n",
       "    }\n",
       "\n",
       "    .dataframe thead th {\n",
       "        text-align: right;\n",
       "    }\n",
       "</style>\n",
       "<table border=\"1\" class=\"dataframe\">\n",
       "  <thead>\n",
       "    <tr style=\"text-align: right;\">\n",
       "      <th></th>\n",
       "      <th>CNT_TOTAL</th>\n",
       "      <th>CNT_DEF</th>\n",
       "      <th>DEF_RATE</th>\n",
       "      <th>DIST_BAD</th>\n",
       "      <th>DIST_GOOD</th>\n",
       "      <th>WOE</th>\n",
       "      <th>WOE_check</th>\n",
       "      <th>SHARE</th>\n",
       "    </tr>\n",
       "    <tr>\n",
       "      <th>BIN_DTI_REPORTED_INCOME</th>\n",
       "      <th></th>\n",
       "      <th></th>\n",
       "      <th></th>\n",
       "      <th></th>\n",
       "      <th></th>\n",
       "      <th></th>\n",
       "      <th></th>\n",
       "      <th></th>\n",
       "    </tr>\n",
       "  </thead>\n",
       "  <tbody>\n",
       "    <tr>\n",
       "      <th>[-inf, 0.1744)</th>\n",
       "      <td>26588.0</td>\n",
       "      <td>448.0</td>\n",
       "      <td>0.0168</td>\n",
       "      <td>0.1134</td>\n",
       "      <td>0.1731</td>\n",
       "      <td>0.4034</td>\n",
       "      <td>0.4225</td>\n",
       "      <td>0.1716</td>\n",
       "    </tr>\n",
       "    <tr>\n",
       "      <th>[0.1744, 0.2237)</th>\n",
       "      <td>20050.0</td>\n",
       "      <td>442.0</td>\n",
       "      <td>0.0220</td>\n",
       "      <td>0.1119</td>\n",
       "      <td>0.1298</td>\n",
       "      <td>0.1426</td>\n",
       "      <td>0.1485</td>\n",
       "      <td>0.1294</td>\n",
       "    </tr>\n",
       "    <tr>\n",
       "      <th>[0.2237, 0.4346)</th>\n",
       "      <td>69700.0</td>\n",
       "      <td>1872.0</td>\n",
       "      <td>0.0269</td>\n",
       "      <td>0.4740</td>\n",
       "      <td>0.4492</td>\n",
       "      <td>-0.0520</td>\n",
       "      <td>-0.0539</td>\n",
       "      <td>0.4498</td>\n",
       "    </tr>\n",
       "    <tr>\n",
       "      <th>[0.4346, inf)</th>\n",
       "      <td>38623.0</td>\n",
       "      <td>1187.0</td>\n",
       "      <td>0.0307</td>\n",
       "      <td>0.3006</td>\n",
       "      <td>0.2479</td>\n",
       "      <td>-0.1862</td>\n",
       "      <td>-0.1927</td>\n",
       "      <td>0.2492</td>\n",
       "    </tr>\n",
       "    <tr>\n",
       "      <th>nan</th>\n",
       "      <td>0.0</td>\n",
       "      <td>0.0</td>\n",
       "      <td>NaN</td>\n",
       "      <td>0.0000</td>\n",
       "      <td>0.0000</td>\n",
       "      <td>NaN</td>\n",
       "      <td>-3.6439</td>\n",
       "      <td>0.0000</td>\n",
       "    </tr>\n",
       "  </tbody>\n",
       "</table>\n",
       "</div>"
      ],
      "text/plain": [
       "                         CNT_TOTAL  CNT_DEF  DEF_RATE  DIST_BAD  DIST_GOOD  \\\n",
       "BIN_DTI_REPORTED_INCOME                                                      \n",
       "[-inf, 0.1744)             26588.0    448.0    0.0168    0.1134     0.1731   \n",
       "[0.1744, 0.2237)           20050.0    442.0    0.0220    0.1119     0.1298   \n",
       "[0.2237, 0.4346)           69700.0   1872.0    0.0269    0.4740     0.4492   \n",
       "[0.4346, inf)              38623.0   1187.0    0.0307    0.3006     0.2479   \n",
       "nan                            0.0      0.0       NaN    0.0000     0.0000   \n",
       "\n",
       "                            WOE  WOE_check   SHARE  \n",
       "BIN_DTI_REPORTED_INCOME                             \n",
       "[-inf, 0.1744)           0.4034     0.4225  0.1716  \n",
       "[0.1744, 0.2237)         0.1426     0.1485  0.1294  \n",
       "[0.2237, 0.4346)        -0.0520    -0.0539  0.4498  \n",
       "[0.4346, inf)           -0.1862    -0.1927  0.2492  \n",
       "nan                         NaN    -3.6439  0.0000  "
      ]
     },
     "metadata": {},
     "output_type": "display_data"
    },
    {
     "name": "stdout",
     "output_type": "stream",
     "text": [
      "IV: 0.0394\n",
      "Gini: 9.97\n"
     ]
    },
    {
     "data": {
      "image/png": "[encoded data removed]",
      "text/plain": [
       "<Figure size 720x360 with 2 Axes>"
      ]
     },
     "metadata": {
      "needs_background": "light"
     },
     "output_type": "display_data"
    },
    {
     "data": {
      "text/markdown": [
       "***"
      ],
      "text/plain": [
       "<IPython.core.display.Markdown object>"
      ]
     },
     "metadata": {},
     "output_type": "display_data"
    },
    {
     "data": {
      "text/markdown": [
       "### MIN_INCOME"
      ],
      "text/plain": [
       "<IPython.core.display.Markdown object>"
      ]
     },
     "metadata": {},
     "output_type": "display_data"
    },
    {
     "data": {
      "text/html": [
       "<div>\n",
       "<style scoped>\n",
       "    .dataframe tbody tr th:only-of-type {\n",
       "        vertical-align: middle;\n",
       "    }\n",
       "\n",
       "    .dataframe tbody tr th {\n",
       "        vertical-align: top;\n",
       "    }\n",
       "\n",
       "    .dataframe thead th {\n",
       "        text-align: right;\n",
       "    }\n",
       "</style>\n",
       "<table border=\"1\" class=\"dataframe\">\n",
       "  <thead>\n",
       "    <tr style=\"text-align: right;\">\n",
       "      <th></th>\n",
       "      <th>CNT_TOTAL</th>\n",
       "      <th>CNT_DEF</th>\n",
       "      <th>DEF_RATE</th>\n",
       "      <th>DIST_BAD</th>\n",
       "      <th>DIST_GOOD</th>\n",
       "      <th>WOE</th>\n",
       "      <th>WOE_check</th>\n",
       "      <th>SHARE</th>\n",
       "    </tr>\n",
       "    <tr>\n",
       "      <th>BIN_MIN_INCOME</th>\n",
       "      <th></th>\n",
       "      <th></th>\n",
       "      <th></th>\n",
       "      <th></th>\n",
       "      <th></th>\n",
       "      <th></th>\n",
       "      <th></th>\n",
       "      <th></th>\n",
       "    </tr>\n",
       "  </thead>\n",
       "  <tbody>\n",
       "    <tr>\n",
       "      <th>[-inf, 14035.2646)</th>\n",
       "      <td>36769.0</td>\n",
       "      <td>750.0</td>\n",
       "      <td>0.0204</td>\n",
       "      <td>0.1899</td>\n",
       "      <td>0.2385</td>\n",
       "      <td>0.2185</td>\n",
       "      <td>0.2278</td>\n",
       "      <td>0.2373</td>\n",
       "    </tr>\n",
       "    <tr>\n",
       "      <th>[14035.2646, 17005.5166)</th>\n",
       "      <td>49211.0</td>\n",
       "      <td>1158.0</td>\n",
       "      <td>0.0235</td>\n",
       "      <td>0.2932</td>\n",
       "      <td>0.3182</td>\n",
       "      <td>0.0786</td>\n",
       "      <td>0.0817</td>\n",
       "      <td>0.3176</td>\n",
       "    </tr>\n",
       "    <tr>\n",
       "      <th>[17005.5166, 19847.1104)</th>\n",
       "      <td>44185.0</td>\n",
       "      <td>1268.0</td>\n",
       "      <td>0.0287</td>\n",
       "      <td>0.3211</td>\n",
       "      <td>0.2842</td>\n",
       "      <td>-0.1178</td>\n",
       "      <td>-0.1221</td>\n",
       "      <td>0.2851</td>\n",
       "    </tr>\n",
       "    <tr>\n",
       "      <th>[19847.1104, inf)</th>\n",
       "      <td>24796.0</td>\n",
       "      <td>773.0</td>\n",
       "      <td>0.0312</td>\n",
       "      <td>0.1957</td>\n",
       "      <td>0.1591</td>\n",
       "      <td>-0.2005</td>\n",
       "      <td>-0.2074</td>\n",
       "      <td>0.1600</td>\n",
       "    </tr>\n",
       "    <tr>\n",
       "      <th>nan</th>\n",
       "      <td>0.0</td>\n",
       "      <td>0.0</td>\n",
       "      <td>NaN</td>\n",
       "      <td>0.0000</td>\n",
       "      <td>0.0000</td>\n",
       "      <td>NaN</td>\n",
       "      <td>-3.6439</td>\n",
       "      <td>0.0000</td>\n",
       "    </tr>\n",
       "  </tbody>\n",
       "</table>\n",
       "</div>"
      ],
      "text/plain": [
       "                          CNT_TOTAL  CNT_DEF  DEF_RATE  DIST_BAD  DIST_GOOD  \\\n",
       "BIN_MIN_INCOME                                                                \n",
       "[-inf, 14035.2646)          36769.0    750.0    0.0204    0.1899     0.2385   \n",
       "[14035.2646, 17005.5166)    49211.0   1158.0    0.0235    0.2932     0.3182   \n",
       "[17005.5166, 19847.1104)    44185.0   1268.0    0.0287    0.3211     0.2842   \n",
       "[19847.1104, inf)           24796.0    773.0    0.0312    0.1957     0.1591   \n",
       "nan                             0.0      0.0       NaN    0.0000     0.0000   \n",
       "\n",
       "                             WOE  WOE_check   SHARE  \n",
       "BIN_MIN_INCOME                                       \n",
       "[-inf, 14035.2646)        0.2185     0.2278  0.2373  \n",
       "[14035.2646, 17005.5166)  0.0786     0.0817  0.3176  \n",
       "[17005.5166, 19847.1104) -0.1178    -0.1221  0.2851  \n",
       "[19847.1104, inf)        -0.2005    -0.2074  0.1600  \n",
       "nan                          NaN    -3.6439  0.0000  "
      ]
     },
     "metadata": {},
     "output_type": "display_data"
    },
    {
     "name": "stdout",
     "output_type": "stream",
     "text": [
      "IV: 0.0252\n",
      "Gini: 8.76\n"
     ]
    },
    {
     "data": {
      "image/png": "[encoded data removed]",
      "text/plain": [
       "<Figure size 720x360 with 2 Axes>"
      ]
     },
     "metadata": {
      "needs_background": "light"
     },
     "output_type": "display_data"
    },
    {
     "data": {
      "text/markdown": [
       "***"
      ],
      "text/plain": [
       "<IPython.core.display.Markdown object>"
      ]
     },
     "metadata": {},
     "output_type": "display_data"
    },
    {
     "data": {
      "text/markdown": [
       "### PRED_INCOME"
      ],
      "text/plain": [
       "<IPython.core.display.Markdown object>"
      ]
     },
     "metadata": {},
     "output_type": "display_data"
    },
    {
     "data": {
      "text/html": [
       "<div>\n",
       "<style scoped>\n",
       "    .dataframe tbody tr th:only-of-type {\n",
       "        vertical-align: middle;\n",
       "    }\n",
       "\n",
       "    .dataframe tbody tr th {\n",
       "        vertical-align: top;\n",
       "    }\n",
       "\n",
       "    .dataframe thead th {\n",
       "        text-align: right;\n",
       "    }\n",
       "</style>\n",
       "<table border=\"1\" class=\"dataframe\">\n",
       "  <thead>\n",
       "    <tr style=\"text-align: right;\">\n",
       "      <th></th>\n",
       "      <th>CNT_TOTAL</th>\n",
       "      <th>CNT_DEF</th>\n",
       "      <th>DEF_RATE</th>\n",
       "      <th>DIST_BAD</th>\n",
       "      <th>DIST_GOOD</th>\n",
       "      <th>WOE</th>\n",
       "      <th>WOE_check</th>\n",
       "      <th>SHARE</th>\n",
       "    </tr>\n",
       "    <tr>\n",
       "      <th>BIN_PRED_INCOME</th>\n",
       "      <th></th>\n",
       "      <th></th>\n",
       "      <th></th>\n",
       "      <th></th>\n",
       "      <th></th>\n",
       "      <th></th>\n",
       "      <th></th>\n",
       "      <th></th>\n",
       "    </tr>\n",
       "  </thead>\n",
       "  <tbody>\n",
       "    <tr>\n",
       "      <th>[-inf, 15302.4136)</th>\n",
       "      <td>14507.0</td>\n",
       "      <td>284.0</td>\n",
       "      <td>0.0196</td>\n",
       "      <td>0.0719</td>\n",
       "      <td>0.0942</td>\n",
       "      <td>0.2584</td>\n",
       "      <td>0.2697</td>\n",
       "      <td>0.0936</td>\n",
       "    </tr>\n",
       "    <tr>\n",
       "      <th>[15302.4136, 17005.5166)</th>\n",
       "      <td>28910.0</td>\n",
       "      <td>668.0</td>\n",
       "      <td>0.0231</td>\n",
       "      <td>0.1692</td>\n",
       "      <td>0.1870</td>\n",
       "      <td>0.0965</td>\n",
       "      <td>0.1004</td>\n",
       "      <td>0.1866</td>\n",
       "    </tr>\n",
       "    <tr>\n",
       "      <th>[17005.5166, 21082.085)</th>\n",
       "      <td>94249.0</td>\n",
       "      <td>2479.0</td>\n",
       "      <td>0.0263</td>\n",
       "      <td>0.6278</td>\n",
       "      <td>0.6077</td>\n",
       "      <td>-0.0313</td>\n",
       "      <td>-0.0325</td>\n",
       "      <td>0.6082</td>\n",
       "    </tr>\n",
       "    <tr>\n",
       "      <th>[21082.085, inf)</th>\n",
       "      <td>17295.0</td>\n",
       "      <td>518.0</td>\n",
       "      <td>0.0300</td>\n",
       "      <td>0.1312</td>\n",
       "      <td>0.1111</td>\n",
       "      <td>-0.1605</td>\n",
       "      <td>-0.1661</td>\n",
       "      <td>0.1116</td>\n",
       "    </tr>\n",
       "    <tr>\n",
       "      <th>nan</th>\n",
       "      <td>0.0</td>\n",
       "      <td>0.0</td>\n",
       "      <td>NaN</td>\n",
       "      <td>0.0000</td>\n",
       "      <td>0.0000</td>\n",
       "      <td>NaN</td>\n",
       "      <td>-3.6439</td>\n",
       "      <td>0.0000</td>\n",
       "    </tr>\n",
       "  </tbody>\n",
       "</table>\n",
       "</div>"
      ],
      "text/plain": [
       "                          CNT_TOTAL  CNT_DEF  DEF_RATE  DIST_BAD  DIST_GOOD  \\\n",
       "BIN_PRED_INCOME                                                               \n",
       "[-inf, 15302.4136)          14507.0    284.0    0.0196    0.0719     0.0942   \n",
       "[15302.4136, 17005.5166)    28910.0    668.0    0.0231    0.1692     0.1870   \n",
       "[17005.5166, 21082.085)     94249.0   2479.0    0.0263    0.6278     0.6077   \n",
       "[21082.085, inf)            17295.0    518.0    0.0300    0.1312     0.1111   \n",
       "nan                             0.0      0.0       NaN    0.0000     0.0000   \n",
       "\n",
       "                             WOE  WOE_check   SHARE  \n",
       "BIN_PRED_INCOME                                      \n",
       "[-inf, 15302.4136)        0.2584     0.2697  0.0936  \n",
       "[15302.4136, 17005.5166)  0.0965     0.1004  0.1866  \n",
       "[17005.5166, 21082.085)  -0.0313    -0.0325  0.6082  \n",
       "[21082.085, inf)         -0.1605    -0.1661  0.1116  \n",
       "nan                          NaN    -3.6439  0.0000  "
      ]
     },
     "metadata": {},
     "output_type": "display_data"
    },
    {
     "name": "stdout",
     "output_type": "stream",
     "text": [
      "IV: 0.0118\n",
      "Gini: 5.26\n"
     ]
    },
    {
     "data": {
      "image/png": "[encoded data removed]",
      "text/plain": [
       "<Figure size 720x360 with 2 Axes>"
      ]
     },
     "metadata": {
      "needs_background": "light"
     },
     "output_type": "display_data"
    },
    {
     "data": {
      "text/markdown": [
       "***"
      ],
      "text/plain": [
       "<IPython.core.display.Markdown object>"
      ]
     },
     "metadata": {},
     "output_type": "display_data"
    },
    {
     "data": {
      "text/markdown": [
       "### RATIO_PRED_REPORTED_INCOME"
      ],
      "text/plain": [
       "<IPython.core.display.Markdown object>"
      ]
     },
     "metadata": {},
     "output_type": "display_data"
    },
    {
     "data": {
      "text/html": [
       "<div>\n",
       "<style scoped>\n",
       "    .dataframe tbody tr th:only-of-type {\n",
       "        vertical-align: middle;\n",
       "    }\n",
       "\n",
       "    .dataframe tbody tr th {\n",
       "        vertical-align: top;\n",
       "    }\n",
       "\n",
       "    .dataframe thead th {\n",
       "        text-align: right;\n",
       "    }\n",
       "</style>\n",
       "<table border=\"1\" class=\"dataframe\">\n",
       "  <thead>\n",
       "    <tr style=\"text-align: right;\">\n",
       "      <th></th>\n",
       "      <th>CNT_TOTAL</th>\n",
       "      <th>CNT_DEF</th>\n",
       "      <th>DEF_RATE</th>\n",
       "      <th>DIST_BAD</th>\n",
       "      <th>DIST_GOOD</th>\n",
       "      <th>WOE</th>\n",
       "      <th>WOE_check</th>\n",
       "      <th>SHARE</th>\n",
       "    </tr>\n",
       "    <tr>\n",
       "      <th>BIN_RATIO_PRED_REPORTED_INCOME</th>\n",
       "      <th></th>\n",
       "      <th></th>\n",
       "      <th></th>\n",
       "      <th></th>\n",
       "      <th></th>\n",
       "      <th></th>\n",
       "      <th></th>\n",
       "      <th></th>\n",
       "    </tr>\n",
       "  </thead>\n",
       "  <tbody>\n",
       "    <tr>\n",
       "      <th>[-inf, 0.5827)</th>\n",
       "      <td>22075.0</td>\n",
       "      <td>711.0</td>\n",
       "      <td>0.0322</td>\n",
       "      <td>0.1800</td>\n",
       "      <td>0.1415</td>\n",
       "      <td>-0.2332</td>\n",
       "      <td>-0.2411</td>\n",
       "      <td>0.1425</td>\n",
       "    </tr>\n",
       "    <tr>\n",
       "      <th>[0.5827, 0.7794)</th>\n",
       "      <td>26004.0</td>\n",
       "      <td>759.0</td>\n",
       "      <td>0.0292</td>\n",
       "      <td>0.1922</td>\n",
       "      <td>0.1672</td>\n",
       "      <td>-0.1347</td>\n",
       "      <td>-0.1395</td>\n",
       "      <td>0.1678</td>\n",
       "    </tr>\n",
       "    <tr>\n",
       "      <th>[0.7794, 1.2544)</th>\n",
       "      <td>64248.0</td>\n",
       "      <td>1590.0</td>\n",
       "      <td>0.0247</td>\n",
       "      <td>0.4026</td>\n",
       "      <td>0.4149</td>\n",
       "      <td>0.0289</td>\n",
       "      <td>0.0301</td>\n",
       "      <td>0.4146</td>\n",
       "    </tr>\n",
       "    <tr>\n",
       "      <th>[1.2544, inf)</th>\n",
       "      <td>42634.0</td>\n",
       "      <td>889.0</td>\n",
       "      <td>0.0209</td>\n",
       "      <td>0.2251</td>\n",
       "      <td>0.2764</td>\n",
       "      <td>0.1970</td>\n",
       "      <td>0.2053</td>\n",
       "      <td>0.2751</td>\n",
       "    </tr>\n",
       "    <tr>\n",
       "      <th>nan</th>\n",
       "      <td>0.0</td>\n",
       "      <td>0.0</td>\n",
       "      <td>NaN</td>\n",
       "      <td>0.0000</td>\n",
       "      <td>0.0000</td>\n",
       "      <td>NaN</td>\n",
       "      <td>-3.6439</td>\n",
       "      <td>0.0000</td>\n",
       "    </tr>\n",
       "  </tbody>\n",
       "</table>\n",
       "</div>"
      ],
      "text/plain": [
       "                                CNT_TOTAL  CNT_DEF  DEF_RATE  DIST_BAD  \\\n",
       "BIN_RATIO_PRED_REPORTED_INCOME                                           \n",
       "[-inf, 0.5827)                    22075.0    711.0    0.0322    0.1800   \n",
       "[0.5827, 0.7794)                  26004.0    759.0    0.0292    0.1922   \n",
       "[0.7794, 1.2544)                  64248.0   1590.0    0.0247    0.4026   \n",
       "[1.2544, inf)                     42634.0    889.0    0.0209    0.2251   \n",
       "nan                                   0.0      0.0       NaN    0.0000   \n",
       "\n",
       "                                DIST_GOOD     WOE  WOE_check   SHARE  \n",
       "BIN_RATIO_PRED_REPORTED_INCOME                                        \n",
       "[-inf, 0.5827)                     0.1415 -0.2332    -0.2411  0.1425  \n",
       "[0.5827, 0.7794)                   0.1672 -0.1347    -0.1395  0.1678  \n",
       "[0.7794, 1.2544)                   0.4149  0.0289     0.0301  0.4146  \n",
       "[1.2544, inf)                      0.2764  0.1970     0.2053  0.2751  \n",
       "nan                                0.0000     NaN    -3.6439  0.0000  "
      ]
     },
     "metadata": {},
     "output_type": "display_data"
    },
    {
     "name": "stdout",
     "output_type": "stream",
     "text": [
      "IV: 0.0237\n",
      "Gini: 8.44\n"
     ]
    },
    {
     "data": {
      "image/png": "[encoded data removed]",
      "text/plain": [
       "<Figure size 720x360 with 2 Axes>"
      ]
     },
     "metadata": {
      "needs_background": "light"
     },
     "output_type": "display_data"
    },
    {
     "data": {
      "text/markdown": [
       "***"
      ],
      "text/plain": [
       "<IPython.core.display.Markdown object>"
      ]
     },
     "metadata": {},
     "output_type": "display_data"
    },
    {
     "data": {
      "text/markdown": [
       "### REPORTED_INCOME"
      ],
      "text/plain": [
       "<IPython.core.display.Markdown object>"
      ]
     },
     "metadata": {},
     "output_type": "display_data"
    },
    {
     "data": {
      "text/html": [
       "<div>\n",
       "<style scoped>\n",
       "    .dataframe tbody tr th:only-of-type {\n",
       "        vertical-align: middle;\n",
       "    }\n",
       "\n",
       "    .dataframe tbody tr th {\n",
       "        vertical-align: top;\n",
       "    }\n",
       "\n",
       "    .dataframe thead th {\n",
       "        text-align: right;\n",
       "    }\n",
       "</style>\n",
       "<table border=\"1\" class=\"dataframe\">\n",
       "  <thead>\n",
       "    <tr style=\"text-align: right;\">\n",
       "      <th></th>\n",
       "      <th>CNT_TOTAL</th>\n",
       "      <th>CNT_DEF</th>\n",
       "      <th>DEF_RATE</th>\n",
       "      <th>DIST_BAD</th>\n",
       "      <th>DIST_GOOD</th>\n",
       "      <th>WOE</th>\n",
       "      <th>WOE_check</th>\n",
       "      <th>SHARE</th>\n",
       "    </tr>\n",
       "    <tr>\n",
       "      <th>BIN_REPORTED_INCOME</th>\n",
       "      <th></th>\n",
       "      <th></th>\n",
       "      <th></th>\n",
       "      <th></th>\n",
       "      <th></th>\n",
       "      <th></th>\n",
       "      <th></th>\n",
       "      <th></th>\n",
       "    </tr>\n",
       "  </thead>\n",
       "  <tbody>\n",
       "    <tr>\n",
       "      <th>[-inf, 17999.9004)</th>\n",
       "      <td>67598.0</td>\n",
       "      <td>1451.0</td>\n",
       "      <td>0.0215</td>\n",
       "      <td>0.3674</td>\n",
       "      <td>0.4380</td>\n",
       "      <td>0.1687</td>\n",
       "      <td>0.1757</td>\n",
       "      <td>0.4362</td>\n",
       "    </tr>\n",
       "    <tr>\n",
       "      <th>[17999.9004, 28599.7002)</th>\n",
       "      <td>54869.0</td>\n",
       "      <td>1436.0</td>\n",
       "      <td>0.0262</td>\n",
       "      <td>0.3636</td>\n",
       "      <td>0.3538</td>\n",
       "      <td>-0.0263</td>\n",
       "      <td>-0.0273</td>\n",
       "      <td>0.3541</td>\n",
       "    </tr>\n",
       "    <tr>\n",
       "      <th>[28599.7002, 35050.0)</th>\n",
       "      <td>18162.0</td>\n",
       "      <td>623.0</td>\n",
       "      <td>0.0343</td>\n",
       "      <td>0.1578</td>\n",
       "      <td>0.1161</td>\n",
       "      <td>-0.2965</td>\n",
       "      <td>-0.3063</td>\n",
       "      <td>0.1172</td>\n",
       "    </tr>\n",
       "    <tr>\n",
       "      <th>[35050.0, inf)</th>\n",
       "      <td>14332.0</td>\n",
       "      <td>439.0</td>\n",
       "      <td>0.0306</td>\n",
       "      <td>0.1112</td>\n",
       "      <td>0.0920</td>\n",
       "      <td>-0.1829</td>\n",
       "      <td>-0.1893</td>\n",
       "      <td>0.0925</td>\n",
       "    </tr>\n",
       "    <tr>\n",
       "      <th>nan</th>\n",
       "      <td>0.0</td>\n",
       "      <td>0.0</td>\n",
       "      <td>NaN</td>\n",
       "      <td>0.0000</td>\n",
       "      <td>0.0000</td>\n",
       "      <td>NaN</td>\n",
       "      <td>-3.6439</td>\n",
       "      <td>0.0000</td>\n",
       "    </tr>\n",
       "  </tbody>\n",
       "</table>\n",
       "</div>"
      ],
      "text/plain": [
       "                          CNT_TOTAL  CNT_DEF  DEF_RATE  DIST_BAD  DIST_GOOD  \\\n",
       "BIN_REPORTED_INCOME                                                           \n",
       "[-inf, 17999.9004)          67598.0   1451.0    0.0215    0.3674     0.4380   \n",
       "[17999.9004, 28599.7002)    54869.0   1436.0    0.0262    0.3636     0.3538   \n",
       "[28599.7002, 35050.0)       18162.0    623.0    0.0343    0.1578     0.1161   \n",
       "[35050.0, inf)              14332.0    439.0    0.0306    0.1112     0.0920   \n",
       "nan                             0.0      0.0       NaN    0.0000     0.0000   \n",
       "\n",
       "                             WOE  WOE_check   SHARE  \n",
       "BIN_REPORTED_INCOME                                  \n",
       "[-inf, 17999.9004)        0.1687     0.1757  0.4362  \n",
       "[17999.9004, 28599.7002) -0.0263    -0.0273  0.3541  \n",
       "[28599.7002, 35050.0)    -0.2965    -0.3063  0.1172  \n",
       "[35050.0, inf)           -0.1829    -0.1893  0.0925  \n",
       "nan                          NaN    -3.6439  0.0000  "
      ]
     },
     "metadata": {},
     "output_type": "display_data"
    },
    {
     "name": "stdout",
     "output_type": "stream",
     "text": [
      "IV: 0.0290\n",
      "Gini: 9.17\n"
     ]
    },
    {
     "data": {
      "image/png": "[encoded data removed]",
      "text/plain": [
       "<Figure size 720x360 with 2 Axes>"
      ]
     },
     "metadata": {
      "needs_background": "light"
     },
     "output_type": "display_data"
    }
   ],
   "source": [
    "grouping.plot_bins(data=df_train, cols_pred_num=cols_pred_num, cols_pred_cat=cols_pred_cat,\n",
    "                    mask = pd.Series(df_train[\"REPORTED_INCOME\"]>=0),col_target=\"RISK_FSTQPD30\", \n",
    "                   output_folder=r\"C:\\Users\\aman.khatri91425\\Desktop\\HomeCredit\\Bigdata\\Common Maps KNN\", col_weight=None)"
   ]
  },
  {
   "cell_type": "code",
   "execution_count": 152,
   "metadata": {},
   "outputs": [
    {
     "name": "stdout",
     "output_type": "stream",
     "text": [
      "Added WOE variables. Number of columns: 25\n"
     ]
    }
   ],
   "source": [
    "woe_columns_to_replace = list()\n",
    "for column in data_woe.columns:\n",
    "    if column in df:\n",
    "        woe_columns_to_replace.append(column)\n",
    "        print('Column', column ,'dropped as it already existed in the data set.')\n",
    "df = df.drop(woe_columns_to_replace, axis='columns')\n",
    "df = df.join(-data_woe)\n",
    "\n",
    "print('Added WOE variables. Number of columns:',df.shape[1])\n",
    "cols_woe = [s + '_WOE' for s in cols_pred_num]"
   ]
  },
  {
   "cell_type": "markdown",
   "metadata": {},
   "source": [
    "# MOM R Square"
   ]
  },
  {
   "cell_type": "code",
   "execution_count": 60,
   "metadata": {},
   "outputs": [],
   "source": [
    "from sklearn.metrics import mean_squared_error as mse\n",
    "from sklearn.metrics import r2_score "
   ]
  },
  {
   "cell_type": "code",
   "execution_count": 61,
   "metadata": {},
   "outputs": [
    {
     "data": {
      "text/html": [
       "<div>\n",
       "<style scoped>\n",
       "    .dataframe tbody tr th:only-of-type {\n",
       "        vertical-align: middle;\n",
       "    }\n",
       "\n",
       "    .dataframe tbody tr th {\n",
       "        vertical-align: top;\n",
       "    }\n",
       "\n",
       "    .dataframe thead th {\n",
       "        text-align: right;\n",
       "    }\n",
       "</style>\n",
       "<table border=\"1\" class=\"dataframe\">\n",
       "  <thead>\n",
       "    <tr style=\"text-align: right;\">\n",
       "      <th></th>\n",
       "      <th>MONTH_STR</th>\n",
       "      <th>RMSE</th>\n",
       "      <th>R_SQUARED</th>\n",
       "    </tr>\n",
       "  </thead>\n",
       "  <tbody>\n",
       "    <tr>\n",
       "      <th>0</th>\n",
       "      <td>2019-01</td>\n",
       "      <td>10124.0</td>\n",
       "      <td>-0.047347</td>\n",
       "    </tr>\n",
       "    <tr>\n",
       "      <th>1</th>\n",
       "      <td>2019-02</td>\n",
       "      <td>10249.0</td>\n",
       "      <td>-0.043667</td>\n",
       "    </tr>\n",
       "    <tr>\n",
       "      <th>2</th>\n",
       "      <td>2019-03</td>\n",
       "      <td>10228.0</td>\n",
       "      <td>-0.038922</td>\n",
       "    </tr>\n",
       "    <tr>\n",
       "      <th>3</th>\n",
       "      <td>2019-04</td>\n",
       "      <td>10250.0</td>\n",
       "      <td>-0.051328</td>\n",
       "    </tr>\n",
       "    <tr>\n",
       "      <th>4</th>\n",
       "      <td>2019-05</td>\n",
       "      <td>10293.0</td>\n",
       "      <td>-0.059323</td>\n",
       "    </tr>\n",
       "    <tr>\n",
       "      <th>5</th>\n",
       "      <td>2019-06</td>\n",
       "      <td>10518.0</td>\n",
       "      <td>-0.064425</td>\n",
       "    </tr>\n",
       "    <tr>\n",
       "      <th>6</th>\n",
       "      <td>2019-07</td>\n",
       "      <td>10418.0</td>\n",
       "      <td>-0.047537</td>\n",
       "    </tr>\n",
       "    <tr>\n",
       "      <th>7</th>\n",
       "      <td>2019-08</td>\n",
       "      <td>10299.0</td>\n",
       "      <td>-0.044807</td>\n",
       "    </tr>\n",
       "  </tbody>\n",
       "</table>\n",
       "</div>"
      ],
      "text/plain": [
       "  MONTH_STR     RMSE  R_SQUARED\n",
       "0   2019-01  10124.0  -0.047347\n",
       "1   2019-02  10249.0  -0.043667\n",
       "2   2019-03  10228.0  -0.038922\n",
       "3   2019-04  10250.0  -0.051328\n",
       "4   2019-05  10293.0  -0.059323\n",
       "5   2019-06  10518.0  -0.064425\n",
       "6   2019-07  10418.0  -0.047537\n",
       "7   2019-08  10299.0  -0.044807"
      ]
     },
     "execution_count": 61,
     "metadata": {},
     "output_type": "execute_result"
    }
   ],
   "source": [
    "dic= {\"MONTH_STR\":[],\"RMSE\":[],\"R_SQUARED\":[]}\n",
    "for x in df.MONTH_STR.unique():\n",
    "    dic[\"MONTH_STR\"].append(x)\n",
    "    dic[\"RMSE\"].append(round(np.sqrt(mse(df[df.MONTH_STR==x][\"REPORTED_INCOME\"],df[df.MONTH_STR==x][\"PRED_INCOME\"]))))\n",
    "    dic[\"R_SQUARED\"].append(r2_score(df[df.MONTH_STR==x][\"REPORTED_INCOME\"],df[df.MONTH_STR==x][\"PRED_INCOME\"]))\n",
    "    \n",
    "r_sq_df = pd.DataFrame(dic)\n",
    "\n",
    "r_sq_df"
   ]
  },
  {
   "cell_type": "code",
   "execution_count": 62,
   "metadata": {},
   "outputs": [
    {
     "data": {
      "image/png": "[encoded data removed]",
      "text/plain": [
       "<Figure size 720x360 with 1 Axes>"
      ]
     },
     "metadata": {
      "needs_background": "light"
     },
     "output_type": "display_data"
    }
   ],
   "source": [
    "import matplotlib.pyplot as plt\n",
    "\n",
    "fig = plt.figure(figsize = (10,5))\n",
    "ax1 = fig.add_subplot(1,1,1)\n",
    "\n",
    "ax1.plot(r_sq_df[\"MONTH_STR\"],r_sq_df[\"R_SQUARED\"], marker = 'o', label = 'R_Square')\n",
    "\n",
    "for i, txt in enumerate(r_sq_df[\"R_SQUARED\"]):\n",
    "    plt.annotate(\"{:.2f}\".format(txt), (r_sq_df[\"MONTH_STR\"][i], r_sq_df[\"R_SQUARED\"][i]+0.003))\n",
    "\n",
    "plt.legend(loc='lower right', borderaxespad=0.1)\n",
    "plt.ylim(0,0.15)\n",
    "plt.ylabel(\"R_Square\")\n",
    "plt.xlabel(\"MONTH\")\n",
    "ax1.set_title(\"MOM R Square\")\n",
    "plt.show()"
   ]
  }
 ],
 "metadata": {
  "kernelspec": {
   "display_name": "Python 3",
   "language": "python",
   "name": "python3"
  },
  "language_info": {
   "codemirror_mode": {
    "name": "ipython",
    "version": 3
   },
   "file_extension": ".py",
   "mimetype": "text/x-python",
   "name": "python",
   "nbconvert_exporter": "python",
   "pygments_lexer": "ipython3",
   "version": "3.7.3"
  }
 },
 "nbformat": 4,
 "nbformat_minor": 2
}
