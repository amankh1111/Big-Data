{
 "cells": [
  {
   "cell_type": "code",
   "execution_count": 1,
   "metadata": {},
   "outputs": [
    {
     "name": "stderr",
     "output_type": "stream",
     "text": [
      "Registered S3 methods overwritten by 'ggplot2':\n",
      "  method         from \n",
      "  [.quosures     rlang\n",
      "  c.quosures     rlang\n",
      "  print.quosures rlang\n",
      "Registered S3 method overwritten by 'rvest':\n",
      "  method            from\n",
      "  read_xml.response xml2\n",
      "-- Attaching packages --------------------------------------- tidyverse 1.2.1 --\n",
      "v ggplot2 3.1.1       v purrr   0.3.2  \n",
      "v tibble  2.1.1       v dplyr   0.8.0.1\n",
      "v tidyr   0.8.3       v stringr 1.4.0  \n",
      "v readr   1.3.1       v forcats 0.4.0  \n",
      "-- Conflicts ------------------------------------------ tidyverse_conflicts() --\n",
      "x dplyr::filter() masks stats::filter()\n",
      "x dplyr::lag()    masks stats::lag()\n",
      "\n",
      "Attaching package: 'jsonlite'\n",
      "\n",
      "The following object is masked from 'package:purrr':\n",
      "\n",
      "    flatten\n",
      "\n"
     ]
    }
   ],
   "source": [
    "library(tidyverse) ; library(httr) ; library(jsonlite);\n"
   ]
  },
  {
   "cell_type": "code",
   "execution_count": 2,
   "metadata": {},
   "outputs": [],
   "source": [
    "\n",
    "path <- \"https://data.police.uk/api/crimes-street/burglary?\""
   ]
  },
  {
   "cell_type": "code",
   "execution_count": 3,
   "metadata": {},
   "outputs": [],
   "source": [
    "request <- GET(url = path, \n",
    "               query = list(\n",
    "                 lat = 53.421813,\n",
    "                 lng = -2.330251,\n",
    "                 date = \"2018-05\")\n",
    "               )"
   ]
  },
  {
   "cell_type": "code",
   "execution_count": 4,
   "metadata": {},
   "outputs": [
    {
     "data": {
      "text/html": [
       "200"
      ],
      "text/latex": [
       "200"
      ],
      "text/markdown": [
       "200"
      ],
      "text/plain": [
       "[1] 200"
      ]
     },
     "metadata": {},
     "output_type": "display_data"
    }
   ],
   "source": [
    "request$status_code"
   ]
  },
  {
   "cell_type": "code",
   "execution_count": 5,
   "metadata": {},
   "outputs": [],
   "source": [
    "response <- content(request, as = \"text\", encoding = \"UTF-8\")"
   ]
  },
  {
   "cell_type": "code",
   "execution_count": 6,
   "metadata": {},
   "outputs": [],
   "source": [
    "df <- fromJSON(response, flatten = TRUE) %>% \n",
    "  data.frame()"
   ]
  },
  {
   "cell_type": "code",
   "execution_count": 7,
   "metadata": {},
   "outputs": [],
   "source": [
    "df <- select(df,\n",
    "             month, category, \n",
    "             location = location.street.name,\n",
    "             long = location.longitude,\n",
    "             lat = location.latitude)"
   ]
  },
  {
   "cell_type": "code",
   "execution_count": 8,
   "metadata": {},
   "outputs": [
    {
     "data": {
      "text/html": [
       "<table>\n",
       "<thead><tr><th scope=col>month</th><th scope=col>category</th><th scope=col>location</th><th scope=col>long</th><th scope=col>lat</th></tr></thead>\n",
       "<tbody>\n",
       "\t<tr><td>2018-05                               </td><td>burglary                              </td><td>On or near Linley Road                </td><td>-2.319585                             </td><td>53.427907                             </td></tr>\n",
       "\t<tr><td>2018-05                               </td><td>burglary                              </td><td>On or near Washway Road               </td><td>-2.328411                             </td><td>53.422967                             </td></tr>\n",
       "\t<tr><td>2018-05                               </td><td>burglary                              </td><td>On or near Glenthorn Grove            </td><td>-2.323696                             </td><td>53.418287                             </td></tr>\n",
       "\t<tr><td>2018-05                               </td><td>burglary                              </td><td>On or near Waterside                  </td><td>-2.317188                             </td><td>53.427410                             </td></tr>\n",
       "\t<tr><td>2018-05                               </td><td>burglary                              </td><td>On or near Leicester Road             </td><td>-2.322199                             </td><td>53.427361                             </td></tr>\n",
       "\t<tr><td>2018-05                               </td><td>burglary                              </td><td>On or near Brooklands Station Approach</td><td>-2.325039                             </td><td>53.416855                             </td></tr>\n",
       "\t<tr><td>2018-05                               </td><td>burglary                              </td><td>On or near Priory Road                </td><td>-2.308988                             </td><td>53.427603                             </td></tr>\n",
       "\t<tr><td>2018-05                               </td><td>burglary                              </td><td>On or near Beaufort Avenue            </td><td>-2.314616                             </td><td>53.415363                             </td></tr>\n",
       "\t<tr><td>2018-05                               </td><td>burglary                              </td><td>On or near Trinity Avenue             </td><td>-2.307520                             </td><td>53.420236                             </td></tr>\n",
       "\t<tr><td>2018-05                               </td><td>burglary                              </td><td>On or near Hyde Grove                 </td><td>-2.323764                             </td><td>53.421289                             </td></tr>\n",
       "\t<tr><td>2018-05                               </td><td>burglary                              </td><td>On or near Fownhope Avenue            </td><td>-2.336453                             </td><td>53.418108                             </td></tr>\n",
       "\t<tr><td>2018-05                               </td><td>burglary                              </td><td>On or near Hollins Grove              </td><td>-2.332162                             </td><td>53.421482                             </td></tr>\n",
       "\t<tr><td>2018-05                               </td><td>burglary                              </td><td>On or near Church Road West           </td><td>-2.309948                             </td><td>53.421056                             </td></tr>\n",
       "\t<tr><td>2018-05                               </td><td>burglary                              </td><td>On or near Howells Avenue             </td><td>-2.324919                             </td><td>53.426787                             </td></tr>\n",
       "\t<tr><td>2018-05                               </td><td>burglary                              </td><td>On or near Parking Area               </td><td>-2.323442                             </td><td>53.424454                             </td></tr>\n",
       "\t<tr><td>2018-05                               </td><td>burglary                              </td><td>On or near Willow Drive               </td><td>-2.346597                             </td><td>53.414736                             </td></tr>\n",
       "\t<tr><td>2018-05                               </td><td>burglary                              </td><td>On or near Kings Road                 </td><td>-2.336330                             </td><td>53.423493                             </td></tr>\n",
       "\t<tr><td>2018-05                               </td><td>burglary                              </td><td>On or near Washway Road               </td><td>-2.338615                             </td><td>53.413671                             </td></tr>\n",
       "\t<tr><td>2018-05                               </td><td>burglary                              </td><td>On or near Wilford Avenue             </td><td>-2.325882                             </td><td>53.411028                             </td></tr>\n",
       "\t<tr><td>2018-05                               </td><td>burglary                              </td><td>On or near Wickenby Drive             </td><td>-2.325298                             </td><td>53.423263                             </td></tr>\n",
       "\t<tr><td>2018-05                               </td><td>burglary                              </td><td>On or near South Grove                </td><td>-2.321245                             </td><td>53.418519                             </td></tr>\n",
       "\t<tr><td>2018-05                               </td><td>burglary                              </td><td>On or near Higifield Avenue           </td><td>-2.315442                             </td><td>53.419163                             </td></tr>\n",
       "\t<tr><td>2018-05                               </td><td>burglary                              </td><td>On or near Marlborough Road           </td><td>-2.317584                             </td><td>53.421899                             </td></tr>\n",
       "\t<tr><td>2018-05                               </td><td>burglary                              </td><td>On or near Plant Close                </td><td>-2.332021                             </td><td>53.426669                             </td></tr>\n",
       "\t<tr><td>2018-05                               </td><td>burglary                              </td><td>On or near Holmefield                 </td><td>-2.320828                             </td><td>53.421100                             </td></tr>\n",
       "\t<tr><td>2018-05                               </td><td>burglary                              </td><td>On or near Clifton Road               </td><td>-2.317484                             </td><td>53.418655                             </td></tr>\n",
       "</tbody>\n",
       "</table>\n"
      ],
      "text/latex": [
       "\\begin{tabular}{r|lllll}\n",
       " month & category & location & long & lat\\\\\n",
       "\\hline\n",
       "\t 2018-05                                & burglary                               & On or near Linley Road                 & -2.319585                              & 53.427907                             \\\\\n",
       "\t 2018-05                                & burglary                               & On or near Washway Road                & -2.328411                              & 53.422967                             \\\\\n",
       "\t 2018-05                                & burglary                               & On or near Glenthorn Grove             & -2.323696                              & 53.418287                             \\\\\n",
       "\t 2018-05                                & burglary                               & On or near Waterside                   & -2.317188                              & 53.427410                             \\\\\n",
       "\t 2018-05                                & burglary                               & On or near Leicester Road              & -2.322199                              & 53.427361                             \\\\\n",
       "\t 2018-05                                & burglary                               & On or near Brooklands Station Approach & -2.325039                              & 53.416855                             \\\\\n",
       "\t 2018-05                                & burglary                               & On or near Priory Road                 & -2.308988                              & 53.427603                             \\\\\n",
       "\t 2018-05                                & burglary                               & On or near Beaufort Avenue             & -2.314616                              & 53.415363                             \\\\\n",
       "\t 2018-05                                & burglary                               & On or near Trinity Avenue              & -2.307520                              & 53.420236                             \\\\\n",
       "\t 2018-05                                & burglary                               & On or near Hyde Grove                  & -2.323764                              & 53.421289                             \\\\\n",
       "\t 2018-05                                & burglary                               & On or near Fownhope Avenue             & -2.336453                              & 53.418108                             \\\\\n",
       "\t 2018-05                                & burglary                               & On or near Hollins Grove               & -2.332162                              & 53.421482                             \\\\\n",
       "\t 2018-05                                & burglary                               & On or near Church Road West            & -2.309948                              & 53.421056                             \\\\\n",
       "\t 2018-05                                & burglary                               & On or near Howells Avenue              & -2.324919                              & 53.426787                             \\\\\n",
       "\t 2018-05                                & burglary                               & On or near Parking Area                & -2.323442                              & 53.424454                             \\\\\n",
       "\t 2018-05                                & burglary                               & On or near Willow Drive                & -2.346597                              & 53.414736                             \\\\\n",
       "\t 2018-05                                & burglary                               & On or near Kings Road                  & -2.336330                              & 53.423493                             \\\\\n",
       "\t 2018-05                                & burglary                               & On or near Washway Road                & -2.338615                              & 53.413671                             \\\\\n",
       "\t 2018-05                                & burglary                               & On or near Wilford Avenue              & -2.325882                              & 53.411028                             \\\\\n",
       "\t 2018-05                                & burglary                               & On or near Wickenby Drive              & -2.325298                              & 53.423263                             \\\\\n",
       "\t 2018-05                                & burglary                               & On or near South Grove                 & -2.321245                              & 53.418519                             \\\\\n",
       "\t 2018-05                                & burglary                               & On or near Higifield Avenue            & -2.315442                              & 53.419163                             \\\\\n",
       "\t 2018-05                                & burglary                               & On or near Marlborough Road            & -2.317584                              & 53.421899                             \\\\\n",
       "\t 2018-05                                & burglary                               & On or near Plant Close                 & -2.332021                              & 53.426669                             \\\\\n",
       "\t 2018-05                                & burglary                               & On or near Holmefield                  & -2.320828                              & 53.421100                             \\\\\n",
       "\t 2018-05                                & burglary                               & On or near Clifton Road                & -2.317484                              & 53.418655                             \\\\\n",
       "\\end{tabular}\n"
      ],
      "text/markdown": [
       "\n",
       "| month | category | location | long | lat |\n",
       "|---|---|---|---|---|\n",
       "| 2018-05                                | burglary                               | On or near Linley Road                 | -2.319585                              | 53.427907                              |\n",
       "| 2018-05                                | burglary                               | On or near Washway Road                | -2.328411                              | 53.422967                              |\n",
       "| 2018-05                                | burglary                               | On or near Glenthorn Grove             | -2.323696                              | 53.418287                              |\n",
       "| 2018-05                                | burglary                               | On or near Waterside                   | -2.317188                              | 53.427410                              |\n",
       "| 2018-05                                | burglary                               | On or near Leicester Road              | -2.322199                              | 53.427361                              |\n",
       "| 2018-05                                | burglary                               | On or near Brooklands Station Approach | -2.325039                              | 53.416855                              |\n",
       "| 2018-05                                | burglary                               | On or near Priory Road                 | -2.308988                              | 53.427603                              |\n",
       "| 2018-05                                | burglary                               | On or near Beaufort Avenue             | -2.314616                              | 53.415363                              |\n",
       "| 2018-05                                | burglary                               | On or near Trinity Avenue              | -2.307520                              | 53.420236                              |\n",
       "| 2018-05                                | burglary                               | On or near Hyde Grove                  | -2.323764                              | 53.421289                              |\n",
       "| 2018-05                                | burglary                               | On or near Fownhope Avenue             | -2.336453                              | 53.418108                              |\n",
       "| 2018-05                                | burglary                               | On or near Hollins Grove               | -2.332162                              | 53.421482                              |\n",
       "| 2018-05                                | burglary                               | On or near Church Road West            | -2.309948                              | 53.421056                              |\n",
       "| 2018-05                                | burglary                               | On or near Howells Avenue              | -2.324919                              | 53.426787                              |\n",
       "| 2018-05                                | burglary                               | On or near Parking Area                | -2.323442                              | 53.424454                              |\n",
       "| 2018-05                                | burglary                               | On or near Willow Drive                | -2.346597                              | 53.414736                              |\n",
       "| 2018-05                                | burglary                               | On or near Kings Road                  | -2.336330                              | 53.423493                              |\n",
       "| 2018-05                                | burglary                               | On or near Washway Road                | -2.338615                              | 53.413671                              |\n",
       "| 2018-05                                | burglary                               | On or near Wilford Avenue              | -2.325882                              | 53.411028                              |\n",
       "| 2018-05                                | burglary                               | On or near Wickenby Drive              | -2.325298                              | 53.423263                              |\n",
       "| 2018-05                                | burglary                               | On or near South Grove                 | -2.321245                              | 53.418519                              |\n",
       "| 2018-05                                | burglary                               | On or near Higifield Avenue            | -2.315442                              | 53.419163                              |\n",
       "| 2018-05                                | burglary                               | On or near Marlborough Road            | -2.317584                              | 53.421899                              |\n",
       "| 2018-05                                | burglary                               | On or near Plant Close                 | -2.332021                              | 53.426669                              |\n",
       "| 2018-05                                | burglary                               | On or near Holmefield                  | -2.320828                              | 53.421100                              |\n",
       "| 2018-05                                | burglary                               | On or near Clifton Road                | -2.317484                              | 53.418655                              |\n",
       "\n"
      ],
      "text/plain": [
       "   month   category location                               long      lat      \n",
       "1  2018-05 burglary On or near Linley Road                 -2.319585 53.427907\n",
       "2  2018-05 burglary On or near Washway Road                -2.328411 53.422967\n",
       "3  2018-05 burglary On or near Glenthorn Grove             -2.323696 53.418287\n",
       "4  2018-05 burglary On or near Waterside                   -2.317188 53.427410\n",
       "5  2018-05 burglary On or near Leicester Road              -2.322199 53.427361\n",
       "6  2018-05 burglary On or near Brooklands Station Approach -2.325039 53.416855\n",
       "7  2018-05 burglary On or near Priory Road                 -2.308988 53.427603\n",
       "8  2018-05 burglary On or near Beaufort Avenue             -2.314616 53.415363\n",
       "9  2018-05 burglary On or near Trinity Avenue              -2.307520 53.420236\n",
       "10 2018-05 burglary On or near Hyde Grove                  -2.323764 53.421289\n",
       "11 2018-05 burglary On or near Fownhope Avenue             -2.336453 53.418108\n",
       "12 2018-05 burglary On or near Hollins Grove               -2.332162 53.421482\n",
       "13 2018-05 burglary On or near Church Road West            -2.309948 53.421056\n",
       "14 2018-05 burglary On or near Howells Avenue              -2.324919 53.426787\n",
       "15 2018-05 burglary On or near Parking Area                -2.323442 53.424454\n",
       "16 2018-05 burglary On or near Willow Drive                -2.346597 53.414736\n",
       "17 2018-05 burglary On or near Kings Road                  -2.336330 53.423493\n",
       "18 2018-05 burglary On or near Washway Road                -2.338615 53.413671\n",
       "19 2018-05 burglary On or near Wilford Avenue              -2.325882 53.411028\n",
       "20 2018-05 burglary On or near Wickenby Drive              -2.325298 53.423263\n",
       "21 2018-05 burglary On or near South Grove                 -2.321245 53.418519\n",
       "22 2018-05 burglary On or near Higifield Avenue            -2.315442 53.419163\n",
       "23 2018-05 burglary On or near Marlborough Road            -2.317584 53.421899\n",
       "24 2018-05 burglary On or near Plant Close                 -2.332021 53.426669\n",
       "25 2018-05 burglary On or near Holmefield                  -2.320828 53.421100\n",
       "26 2018-05 burglary On or near Clifton Road                -2.317484 53.418655"
      ]
     },
     "metadata": {},
     "output_type": "display_data"
    }
   ],
   "source": [
    "df"
   ]
  }
 ],
 "metadata": {
  "kernelspec": {
   "display_name": "R",
   "language": "R",
   "name": "ir"
  },
  "language_info": {
   "codemirror_mode": "r",
   "file_extension": ".r",
   "mimetype": "text/x-r-source",
   "name": "R",
   "pygments_lexer": "r",
   "version": "3.6.0"
  }
 },
 "nbformat": 4,
 "nbformat_minor": 2
}
