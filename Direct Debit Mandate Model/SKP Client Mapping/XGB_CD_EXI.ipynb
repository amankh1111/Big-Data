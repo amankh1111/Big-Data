{
 "cells": [
  {
   "cell_type": "code",
   "execution_count": 1,
   "metadata": {},
   "outputs": [],
   "source": [
    "import xgboost as xgb\n",
    "import numpy as np\n",
    "import pandas as pd\n",
    "import time\n",
    "import pickle\n",
    "import os\n",
    "from math import log\n",
    "import matplotlib.pyplot as plt\n",
    "\n",
    "import sklearn\n",
    "from sklearn.model_selection import train_test_split, GridSearchCV, RandomizedSearchCV, ParameterGrid,StratifiedKFold, cross_val_score\n",
    "\n",
    "from sklearn import metrics \n",
    "from sklearn.metrics import confusion_matrix, precision_recall_curve, average_precision_score, brier_score_loss, f1_score, log_loss,auc,roc_curve,auc\n",
    "\n",
    "from sklearn.linear_model import LogisticRegression, LogisticRegressionCV\n",
    "from sklearn.ensemble import RandomForestClassifier\n",
    "\n",
    "from sklearn.decomposition import PCA\n",
    "#from sklearn.utils.fixes import signature\n",
    "\n",
    "from datetime import datetime\n",
    "\n",
    "import warnings\n",
    "warnings.filterwarnings(\"ignore\", category=DeprecationWarning)"
   ]
  },
  {
   "cell_type": "code",
   "execution_count": 2,
   "metadata": {},
   "outputs": [],
   "source": [
    "os.chdir(r\"C:\\Users\\aman.khatri91425\\Desktop\\HomeCredit\\Bigdata\\Techprocess Alternate\")"
   ]
  },
  {
   "cell_type": "code",
   "execution_count": 3,
   "metadata": {},
   "outputs": [],
   "source": [
    "##read datasets\n",
    "df=pd.read_csv(os.getcwd()+r\"\\Data Files\\ddm2_skp_client_final.csv\")"
   ]
  },
  {
   "cell_type": "code",
   "execution_count": 4,
   "metadata": {},
   "outputs": [
    {
     "data": {
      "text/html": [
       "<div>\n",
       "<style scoped>\n",
       "    .dataframe tbody tr th:only-of-type {\n",
       "        vertical-align: middle;\n",
       "    }\n",
       "\n",
       "    .dataframe tbody tr th {\n",
       "        vertical-align: top;\n",
       "    }\n",
       "\n",
       "    .dataframe thead th {\n",
       "        text-align: right;\n",
       "    }\n",
       "</style>\n",
       "<table border=\"1\" class=\"dataframe\">\n",
       "  <thead>\n",
       "    <tr style=\"text-align: right;\">\n",
       "      <th></th>\n",
       "      <th>SKP_CREDIT_CASE</th>\n",
       "      <th>TIME_DECISION_DATE</th>\n",
       "      <th>RISK_AGRF180</th>\n",
       "      <th>RISK_FPD30</th>\n",
       "      <th>RISK_FSPD30</th>\n",
       "      <th>RISK_FSTPD30</th>\n",
       "      <th>RISK_FSTQPD30</th>\n",
       "      <th>RISK_FSTQPD60</th>\n",
       "      <th>PRODUCT_GROUP</th>\n",
       "      <th>NTC_FLAG</th>\n",
       "      <th>...</th>\n",
       "      <th>CODE_4</th>\n",
       "      <th>AMT_4</th>\n",
       "      <th>DATE_5</th>\n",
       "      <th>REASON_5</th>\n",
       "      <th>CODE_5</th>\n",
       "      <th>AMT_5</th>\n",
       "      <th>DATE_6</th>\n",
       "      <th>REASON_6</th>\n",
       "      <th>CODE_6</th>\n",
       "      <th>AMT_6</th>\n",
       "    </tr>\n",
       "  </thead>\n",
       "  <tbody>\n",
       "    <tr>\n",
       "      <th>0</th>\n",
       "      <td>288766471</td>\n",
       "      <td>25-12-19</td>\n",
       "      <td>1</td>\n",
       "      <td>0</td>\n",
       "      <td>0</td>\n",
       "      <td>0</td>\n",
       "      <td>0</td>\n",
       "      <td>0</td>\n",
       "      <td>CL</td>\n",
       "      <td>Others</td>\n",
       "      <td>...</td>\n",
       "      <td>Debited</td>\n",
       "      <td>3849.0</td>\n",
       "      <td>07-08-18</td>\n",
       "      <td>0</td>\n",
       "      <td>Debited</td>\n",
       "      <td>3849.0</td>\n",
       "      <td>07-07-18</td>\n",
       "      <td>0</td>\n",
       "      <td>Debited</td>\n",
       "      <td>3849.0</td>\n",
       "    </tr>\n",
       "    <tr>\n",
       "      <th>1</th>\n",
       "      <td>288417797</td>\n",
       "      <td>22-12-19</td>\n",
       "      <td>1</td>\n",
       "      <td>0</td>\n",
       "      <td>0</td>\n",
       "      <td>0</td>\n",
       "      <td>0</td>\n",
       "      <td>0</td>\n",
       "      <td>CL</td>\n",
       "      <td>Others</td>\n",
       "      <td>...</td>\n",
       "      <td>NaN</td>\n",
       "      <td>NaN</td>\n",
       "      <td>NaN</td>\n",
       "      <td>NaN</td>\n",
       "      <td>NaN</td>\n",
       "      <td>NaN</td>\n",
       "      <td>NaN</td>\n",
       "      <td>NaN</td>\n",
       "      <td>NaN</td>\n",
       "      <td>NaN</td>\n",
       "    </tr>\n",
       "    <tr>\n",
       "      <th>2</th>\n",
       "      <td>288156237</td>\n",
       "      <td>20-12-19</td>\n",
       "      <td>1</td>\n",
       "      <td>0</td>\n",
       "      <td>0</td>\n",
       "      <td>0</td>\n",
       "      <td>0</td>\n",
       "      <td>0</td>\n",
       "      <td>CD</td>\n",
       "      <td>Others</td>\n",
       "      <td>...</td>\n",
       "      <td>Debited</td>\n",
       "      <td>2427.0</td>\n",
       "      <td>06-09-18</td>\n",
       "      <td>0</td>\n",
       "      <td>Debited</td>\n",
       "      <td>2427.0</td>\n",
       "      <td>26-07-17</td>\n",
       "      <td>0</td>\n",
       "      <td>Debited</td>\n",
       "      <td>1229.0</td>\n",
       "    </tr>\n",
       "    <tr>\n",
       "      <th>3</th>\n",
       "      <td>286163447</td>\n",
       "      <td>05-12-19</td>\n",
       "      <td>1</td>\n",
       "      <td>0</td>\n",
       "      <td>0</td>\n",
       "      <td>0</td>\n",
       "      <td>0</td>\n",
       "      <td>0</td>\n",
       "      <td>CD</td>\n",
       "      <td>Others</td>\n",
       "      <td>...</td>\n",
       "      <td>Undebited</td>\n",
       "      <td>2754.0</td>\n",
       "      <td>19-11-17</td>\n",
       "      <td>Balance Insufficient</td>\n",
       "      <td>Undebited</td>\n",
       "      <td>1011.0</td>\n",
       "      <td>19-10-17</td>\n",
       "      <td>Balance Insufficient</td>\n",
       "      <td>Undebited</td>\n",
       "      <td>1013.0</td>\n",
       "    </tr>\n",
       "    <tr>\n",
       "      <th>4</th>\n",
       "      <td>286163445</td>\n",
       "      <td>05-12-19</td>\n",
       "      <td>1</td>\n",
       "      <td>0</td>\n",
       "      <td>0</td>\n",
       "      <td>0</td>\n",
       "      <td>0</td>\n",
       "      <td>0</td>\n",
       "      <td>CD</td>\n",
       "      <td>Others</td>\n",
       "      <td>...</td>\n",
       "      <td>Debited</td>\n",
       "      <td>1558.0</td>\n",
       "      <td>28-03-17</td>\n",
       "      <td>0</td>\n",
       "      <td>Debited</td>\n",
       "      <td>1558.0</td>\n",
       "      <td>28-02-17</td>\n",
       "      <td>0</td>\n",
       "      <td>Debited</td>\n",
       "      <td>1556.0</td>\n",
       "    </tr>\n",
       "  </tbody>\n",
       "</table>\n",
       "<p>5 rows × 36 columns</p>\n",
       "</div>"
      ],
      "text/plain": [
       "   SKP_CREDIT_CASE TIME_DECISION_DATE  RISK_AGRF180  RISK_FPD30  RISK_FSPD30  \\\n",
       "0        288766471           25-12-19             1           0            0   \n",
       "1        288417797           22-12-19             1           0            0   \n",
       "2        288156237           20-12-19             1           0            0   \n",
       "3        286163447           05-12-19             1           0            0   \n",
       "4        286163445           05-12-19             1           0            0   \n",
       "\n",
       "   RISK_FSTPD30  RISK_FSTQPD30  RISK_FSTQPD60 PRODUCT_GROUP NTC_FLAG  ...  \\\n",
       "0             0              0              0            CL   Others  ...   \n",
       "1             0              0              0            CL   Others  ...   \n",
       "2             0              0              0            CD   Others  ...   \n",
       "3             0              0              0            CD   Others  ...   \n",
       "4             0              0              0            CD   Others  ...   \n",
       "\n",
       "      CODE_4   AMT_4    DATE_5              REASON_5     CODE_5   AMT_5  \\\n",
       "0    Debited  3849.0  07-08-18                     0    Debited  3849.0   \n",
       "1        NaN     NaN       NaN                   NaN        NaN     NaN   \n",
       "2    Debited  2427.0  06-09-18                     0    Debited  2427.0   \n",
       "3  Undebited  2754.0  19-11-17  Balance Insufficient  Undebited  1011.0   \n",
       "4    Debited  1558.0  28-03-17                     0    Debited  1558.0   \n",
       "\n",
       "     DATE_6              REASON_6     CODE_6   AMT_6  \n",
       "0  07-07-18                     0    Debited  3849.0  \n",
       "1       NaN                   NaN        NaN     NaN  \n",
       "2  26-07-17                     0    Debited  1229.0  \n",
       "3  19-10-17  Balance Insufficient  Undebited  1013.0  \n",
       "4  28-02-17                     0    Debited  1556.0  \n",
       "\n",
       "[5 rows x 36 columns]"
      ]
     },
     "execution_count": 4,
     "metadata": {},
     "output_type": "execute_result"
    }
   ],
   "source": [
    "df.head()"
   ]
  },
  {
   "cell_type": "code",
   "execution_count": 5,
   "metadata": {},
   "outputs": [
    {
     "data": {
      "text/plain": [
       "0      633741\n",
       "XNA    133272\n",
       "            1\n",
       "Name: REASON_1, dtype: int64"
      ]
     },
     "execution_count": 5,
     "metadata": {},
     "output_type": "execute_result"
    }
   ],
   "source": [
    "df[df[\"CODE_1\"]=='Debited'].REASON_1.value_counts()"
   ]
  },
  {
   "cell_type": "code",
   "execution_count": 6,
   "metadata": {},
   "outputs": [
    {
     "data": {
      "text/plain": [
       "Debited      767014\n",
       "Undebited    365435\n",
       "Posted         5086\n",
       "Name: CODE_1, dtype: int64"
      ]
     },
     "execution_count": 6,
     "metadata": {},
     "output_type": "execute_result"
    }
   ],
   "source": [
    "df[\"CODE_1\"].value_counts()"
   ]
  },
  {
   "cell_type": "code",
   "execution_count": 7,
   "metadata": {},
   "outputs": [
    {
     "data": {
      "text/plain": [
       "Balance Insufficient                                                                                    262459\n",
       "CLEARED BAL/FUNDS/DP NOT AVAILABLE.CARE! ACCT WILL BE OVERDRAWN                               000000     46352\n",
       "DP NOT AVAILABLE. ACCT CANNOT BE OVERDRAWN                                                               12306\n",
       "CLEARED BAL/FUNDS/DP NOT AVAILABLE.CARE! ACCT WILL BE OVERDRAWN                                           7386\n",
       "4                                                                                                         6078\n",
       "ACCT HAS HOLD. INSUFFICIENT FREE BAL FOR TXN                                                              3619\n",
       "999                                                                                                       3270\n",
       "A/C Blocked or Frozen                                                                                     3171\n",
       "101                                                                                                       2142\n",
       "Account Closed or Transferred                                                                             1787\n",
       "Not Arranged For                                                                                          1429\n",
       "Miscellaneous-Dormant A/c(No t                                                                            1131\n",
       "Miscellaneous-Dormant A/c(No                                                                              1032\n",
       "XNA                                                                                                        988\n",
       "CLEARED BAL/FUNDS/DP NOT AVAILABLE.CARE! ACCT WILL BE OVERDRAWN                                            834\n",
       "Miscellaneous-Network Failure(                                                                             798\n",
       "Miscellaneous-Network Failur                                                                               752\n",
       "ACCOUNT CLOSED                                                                                             740\n",
       "Customer to refer to the br                                                                                571\n",
       "PERIDICITY FOR MANDATE RECORD IS OVER                                                                      470\n",
       "Mismatch in mandate debtor b                                                                               465\n",
       "Invalid UMRN or inactive man                                                                               445\n",
       "CLEARED BAL/FUNDS/DP NOT AVAILABLE.CARE! ACCT WILL BE OVERDRAWN                                            344\n",
       "NON-Home debit txn on Inoperative/Unclaimed a/c NOT allowed                                                314\n",
       "ACCOUNT UNAVAILABLE                                                                                        272\n",
       "Miscellaneous-Account reached                                                                              266\n",
       "MANDATE REJECT: No Signature in CBS                                                                        236\n",
       "CLEARED BAL/FUNDS/DP NOT AVAILABLE.CARE! ACCT WILL BE OVERDRAWN                                            232\n",
       "CLEARED BAL/FUNDS/DP NOT AVAILABLE.CARE! ACCT WILL BE OVERDRAWN                                            213\n",
       "CLEARED BAL/FUNDS/DP NOT AVAILABLE.CARE! ACCT WILL BE OVERDRAWN                                            203\n",
       "                                                                                                         ...  \n",
       "03571743521082019                                                                                            1\n",
       "03561669521082019                                                                                            1\n",
       "03571946621082019                                                                                            1\n",
       "03534949521082019                                                                                            1\n",
       "03549537621082019                                                                                            1\n",
       "03549336421082019                                                                                            1\n",
       "03561919921082019                                                                                            1\n",
       "03553729021082019                                                                                            1\n",
       "03556766921082019                                                                                            1\n",
       "03566117721082019                                                                                            1\n",
       "03566272721082019                                                                                            1\n",
       "NEW ACCOUNT OR MANUALLY RESTRICTEDkyc                                                                        1\n",
       "03561447921082019                                                                                            1\n",
       "03553942821082019                                                                                            1\n",
       "03553930821082019                                                                                            1\n",
       "03560591621082019                                                                                            1\n",
       "03572975421082019                                                                                            1\n",
       "03547934121082019                                                                                            1\n",
       "03562852821082019                                                                                            1\n",
       "Settlement Date before mandate start dates                                                                   1\n",
       "03546127821082019                                                                                            1\n",
       "03541717521082019                                                                                            1\n",
       "03547003821082019                                                                                            1\n",
       "03568832521082019                                                                                            1\n",
       "03558567021082019                                                                                            1\n",
       "03556886021082019                                                                                            1\n",
       "03563958021082019                                                                                            1\n",
       "03544392221082019                                                                                            1\n",
       "03535173621082019                                                                                            1\n",
       "03572218021082019                                                                                            1\n",
       "Name: REASON_1, Length: 306, dtype: int64"
      ]
     },
     "execution_count": 7,
     "metadata": {},
     "output_type": "execute_result"
    }
   ],
   "source": [
    "df[df[\"CODE_1\"]=='Undebited'].REASON_1.value_counts()"
   ]
  },
  {
   "cell_type": "code",
   "execution_count": 8,
   "metadata": {},
   "outputs": [],
   "source": [
    "coding_dict={'Balance Insufficient':'WILLFULL DEFAULTS',\n",
    "'CLEARED BAL/FUNDS/DP NOT AVAILABLE.CARE! ACCT WILL BE OVERDRAWN                               000000':'WILLFULL DEFAULTS',\n",
    "'DP NOT AVAILABLE. ACCT CANNOT BE OVERDRAWN':'WILLFULL DEFAULTS',\n",
    "'CLEARED BAL/FUNDS/DP NOT AVAILABLE.CARE! ACCT WILL BE OVERDRAWN':'WILLFULL DEFAULTS',\n",
    "'ACCT HAS HOLD. INSUFFICIENT FREE BAL FOR TXN':'WILLFULL DEFAULTS',\n",
    "'INSUFFICIENT FUNDS':'WILLFULL DEFAULTS',\n",
    "'CODE_DDS_ERROR_REASON':'PROCESS ISSUE',\n",
    "'A/C Blocked or Frozen':'PROCESS ISSUE',\n",
    "'Miscellaneous-Dormant A/c(No t':'PROCESS ISSUE',\n",
    "'Miscellaneous-Dormant A/c(No':'PROCESS ISSUE',\n",
    "'UMRN QUOTED IN FILE IS NOT VALID':'PROCESS ISSUE',\n",
    "'NON-Home debit txn on Inoperative/Unclaimed a/c NOT allowed':'PROCESS ISSUE',\n",
    "'Invalid UMRN or inactive man':'PROCESS ISSUE',\n",
    "'ACCOUNT CLOSED':'PROCESS ISSUE',\n",
    "'PERIDICITY FOR MANDATE RECORD IS OVER':'PROCESS ISSUE',\n",
    "'Settlement Date before manda':'PROCESS ISSUE',\n",
    "'Invalid UMRN or inactive mandate':'PROCESS ISSUE',\n",
    "'MANDATE REJECT: No Signature in CBS':'PROCESS ISSUE',\n",
    "'Mismatch in mandate debtor b':'PROCESS ISSUE',\n",
    "'MANDATE RECORD IS NOT AUTHORISED':'PROCESS ISSUE',\n",
    "'Invalid Bank Identifier - Rece':'PROCESS ISSUE',\n",
    "'Miscellaneous-Network Failure(':'PROCESS ISSUE',\n",
    "'Mandate Not Received/UMRN Do':'PROCESS ISSUE',\n",
    "'Invalid Bank Identifier - Receiving participant blocked/disabled':'PROCESS ISSUE',\n",
    "'Mismatch in Mandate Debtor A':'PROCESS ISSUE',\n",
    "'Mandate Not Received/UMRN Does not EXist':'PROCESS ISSUE',\n",
    "'Miscellaneous-Dormant A/c(No transaction for last six months':'PROCESS ISSUE',\n",
    "'0':'DEBITED',\n",
    "'XNA':'DEBITED',\n",
    "            }"
   ]
  },
  {
   "cell_type": "code",
   "execution_count": 9,
   "metadata": {},
   "outputs": [],
   "source": [
    "def encoding(x):\n",
    "    try:\n",
    "        return(coding_dict[x])\n",
    "    except:\n",
    "        return (\"Others\")"
   ]
  },
  {
   "cell_type": "code",
   "execution_count": 10,
   "metadata": {},
   "outputs": [],
   "source": [
    "df[\"REASON_1_ENCODED\"]= df[\"REASON_1\"].apply(encoding)\n",
    "df[\"REASON_2_ENCODED\"]= df[\"REASON_2\"].apply(encoding)\n",
    "df[\"REASON_3_ENCODED\"]= df[\"REASON_3\"].apply(encoding)\n",
    "df[\"REASON_4_ENCODED\"]= df[\"REASON_4\"].apply(encoding)\n",
    "df[\"REASON_5_ENCODED\"]= df[\"REASON_5\"].apply(encoding)\n",
    "df[\"REASON_6_ENCODED\"]= df[\"REASON_6\"].apply(encoding)\n"
   ]
  },
  {
   "cell_type": "code",
   "execution_count": 11,
   "metadata": {},
   "outputs": [
    {
     "data": {
      "text/plain": [
       "Index(['SKP_CREDIT_CASE', 'TIME_DECISION_DATE', 'RISK_AGRF180', 'RISK_FPD30',\n",
       "       'RISK_FSPD30', 'RISK_FSTPD30', 'RISK_FSTQPD30', 'RISK_FSTQPD60',\n",
       "       'PRODUCT_GROUP', 'NTC_FLAG', 'RISK_SCORE', 'AMT_DIRECT_DEBIT_STATEMENT',\n",
       "       'DATE_1', 'REASON_1', 'CODE_1', 'AMT_1', 'DATE_2', 'REASON_2', 'CODE_2',\n",
       "       'AMT_2', 'DATE_3', 'REASON_3', 'CODE_3', 'AMT_3', 'DATE_4', 'REASON_4',\n",
       "       'CODE_4', 'AMT_4', 'DATE_5', 'REASON_5', 'CODE_5', 'AMT_5', 'DATE_6',\n",
       "       'REASON_6', 'CODE_6', 'AMT_6', 'REASON_1_ENCODED', 'REASON_2_ENCODED',\n",
       "       'REASON_3_ENCODED', 'REASON_4_ENCODED', 'REASON_5_ENCODED',\n",
       "       'REASON_6_ENCODED'],\n",
       "      dtype='object')"
      ]
     },
     "execution_count": 11,
     "metadata": {},
     "output_type": "execute_result"
    }
   ],
   "source": [
    "df.columns"
   ]
  },
  {
   "cell_type": "code",
   "execution_count": 12,
   "metadata": {},
   "outputs": [],
   "source": [
    "df.dropna(subset=['RISK_SCORE'],inplace=True)"
   ]
  },
  {
   "cell_type": "code",
   "execution_count": 13,
   "metadata": {},
   "outputs": [],
   "source": [
    "df = df[(df[\"PRODUCT_GROUP\"]==\"CD\")&(df[\"NTC_FLAG\"]==\"Others\")]"
   ]
  },
  {
   "cell_type": "code",
   "execution_count": 14,
   "metadata": {},
   "outputs": [
    {
     "data": {
      "text/plain": [
       "<matplotlib.axes._subplots.AxesSubplot at 0x281a488a208>"
      ]
     },
     "execution_count": 14,
     "metadata": {},
     "output_type": "execute_result"
    },
    {
     "data": {
      "image/png": "[encoded data removed]",
      "text/plain": [
       "<Figure size 432x288 with 1 Axes>"
      ]
     },
     "metadata": {
      "needs_background": "light"
     },
     "output_type": "display_data"
    }
   ],
   "source": [
    "# Check distribution of scores\n",
    "pd.Series(df['RISK_SCORE']).plot.hist(bins=10, range=(0,0.08) ,color='#607c8e')"
   ]
  },
  {
   "cell_type": "code",
   "execution_count": 15,
   "metadata": {},
   "outputs": [
    {
     "name": "stdout",
     "output_type": "stream",
     "text": [
      "HCIN SCORE GINI: 0.4529856680350943\n"
     ]
    }
   ],
   "source": [
    "hcc_score='RISK_SCORE'\n",
    "\n",
    "# HCC score Gini         \n",
    "metric_auc_hcc = metrics.roc_auc_score(df['RISK_FSTQPD30'], df[hcc_score])\n",
    "gini_hcc_only = 2 * metric_auc_hcc - 1\n",
    "print(\"HCIN SCORE GINI:\" ,gini_hcc_only)"
   ]
  },
  {
   "cell_type": "code",
   "execution_count": 16,
   "metadata": {},
   "outputs": [],
   "source": [
    "df[\"TIME_DECISION_DATE\"] = pd.to_datetime(df[\"TIME_DECISION_DATE\"],format ='%d-%m-%y')\n",
    "\n",
    "df[\"MONTH\"]= df[\"TIME_DECISION_DATE\"].dt.strftime(\"%y-%m\")"
   ]
  },
  {
   "cell_type": "code",
   "execution_count": 17,
   "metadata": {},
   "outputs": [],
   "source": [
    "df_summ = df.groupby(\"MONTH\").aggregate([\"count\",\"sum\"])[\"RISK_FSTQPD30\"]\n",
    "df_summ[\"bad_rate\"] = df_summ[\"sum\"]/df_summ[\"count\"]"
   ]
  },
  {
   "cell_type": "code",
   "execution_count": 18,
   "metadata": {},
   "outputs": [
    {
     "data": {
      "image/png": "[encoded data removed]",
      "text/plain": [
       "<Figure size 1080x288 with 2 Axes>"
      ]
     },
     "metadata": {
      "needs_background": "light"
     },
     "output_type": "display_data"
    }
   ],
   "source": [
    "df_summ[['sum','count']].plot(kind='bar', width = 0.8, figsize=(15,4))\n",
    "df_summ['bad_rate'].plot(secondary_y=True)\n",
    "\n",
    "ax = plt.gca()\n",
    "plt.xlim([-0.35, len(df_summ['sum'])-0.35])\n",
    "ax.set_xticklabels(df_summ.index)\n",
    "plt.ylim\n",
    "fig = ax.get_figure()\n",
    "ax = fig.get_axes()\n",
    "ax[1].set_ylim(0,0.15)\n",
    "ax[0].legend(['CD_Contracts','CD_Defaults'])\n",
    "ax[1].legend([\"Default Rate\"], loc = \"center right\")\n",
    "\n",
    "\n",
    "plt.show()\n"
   ]
  },
  {
   "cell_type": "code",
   "execution_count": 19,
   "metadata": {},
   "outputs": [
    {
     "name": "stdout",
     "output_type": "stream",
     "text": [
      "19-12 0.533308177456741\n",
      "19-11 0.5556629329911016\n",
      "19-10 0.5344065129520099\n",
      "19-09 0.442645818818733\n",
      "19-08 0.3945100774568906\n",
      "19-07 0.40473245073809316\n",
      "19-06 0.41981903751724503\n",
      "19-05 0.4649928339905285\n",
      "19-04 0.4673665914497409\n",
      "19-03 0.48628930325189823\n",
      "19-02 0.4660052904965988\n",
      "19-01 0.46606806941693124\n"
     ]
    }
   ],
   "source": [
    "#MOM Gini Risk Score\n",
    "for x in df[\"MONTH\"].unique():\n",
    "    try:   \n",
    "        metric_auc_hcc = metrics.roc_auc_score(df[df[\"MONTH\"]==x]['RISK_FSTQPD30'], df[df[\"MONTH\"]==x][hcc_score])\n",
    "        gini_hcc_only = 2 * metric_auc_hcc - 1\n",
    "        print(x ,gini_hcc_only)  \n",
    "    except:\n",
    "        print(\"ERROR\")"
   ]
  },
  {
   "cell_type": "code",
   "execution_count": 20,
   "metadata": {},
   "outputs": [],
   "source": [
    "df[\"DATE_1\"] = pd.to_datetime(df[\"DATE_1\"],format ='%d-%m-%y')\n",
    "df[\"DATE_2\"] = pd.to_datetime(df[\"DATE_2\"],format ='%d-%m-%y')\n",
    "df[\"DATE_3\"] = pd.to_datetime(df[\"DATE_3\"],format ='%d-%m-%y')\n",
    "df[\"DATE_4\"] = pd.to_datetime(df[\"DATE_4\"],format ='%d-%m-%y')\n",
    "df[\"DATE_5\"] = pd.to_datetime(df[\"DATE_5\"],format ='%d-%m-%y')\n",
    "df[\"DATE_6\"] = pd.to_datetime(df[\"DATE_6\"],format ='%d-%m-%y')"
   ]
  },
  {
   "cell_type": "code",
   "execution_count": 21,
   "metadata": {},
   "outputs": [],
   "source": [
    "#Tenure Variables \n",
    "df[\"TENURE1\"] = (df[\"TIME_DECISION_DATE\"]-df[\"DATE_1\"]).dt.days\n",
    "df[\"TENURE2\"] = (df[\"TIME_DECISION_DATE\"]-df[\"DATE_2\"]).dt.days\n",
    "df[\"TENURE3\"] = (df[\"TIME_DECISION_DATE\"]-df[\"DATE_3\"]).dt.days\n",
    "df[\"TENURE4\"] = (df[\"TIME_DECISION_DATE\"]-df[\"DATE_4\"]).dt.days\n",
    "df[\"TENURE5\"] = (df[\"TIME_DECISION_DATE\"]-df[\"DATE_5\"]).dt.days\n",
    "df[\"TENURE6\"] = (df[\"TIME_DECISION_DATE\"]-df[\"DATE_6\"]).dt.days\n",
    "\n",
    "\n"
   ]
  },
  {
   "cell_type": "code",
   "execution_count": 22,
   "metadata": {},
   "outputs": [],
   "source": [
    "#One Hot Encoding\n",
    "df_encoded = df\n",
    "for x in [\"CODE_1\",\"CODE_2\",\"CODE_3\",\"CODE_4\",\"CODE_5\",\"CODE_6\",'REASON_1_ENCODED', 'REASON_2_ENCODED',\n",
    "       'REASON_3_ENCODED', 'REASON_4_ENCODED', 'REASON_5_ENCODED',\n",
    "       'REASON_6_ENCODED']:\n",
    "    \n",
    "    dummy = pd.get_dummies(df_encoded[x])\n",
    "    dummy.columns = [y+\"_\"+x for y in dummy.columns]\n",
    "    df_encoded = pd.concat([df_encoded, dummy], axis=1)"
   ]
  },
  {
   "cell_type": "code",
   "execution_count": 23,
   "metadata": {},
   "outputs": [
    {
     "data": {
      "text/html": [
       "<div>\n",
       "<style scoped>\n",
       "    .dataframe tbody tr th:only-of-type {\n",
       "        vertical-align: middle;\n",
       "    }\n",
       "\n",
       "    .dataframe tbody tr th {\n",
       "        vertical-align: top;\n",
       "    }\n",
       "\n",
       "    .dataframe thead th {\n",
       "        text-align: right;\n",
       "    }\n",
       "</style>\n",
       "<table border=\"1\" class=\"dataframe\">\n",
       "  <thead>\n",
       "    <tr style=\"text-align: right;\">\n",
       "      <th></th>\n",
       "      <th>count</th>\n",
       "      <th>mean</th>\n",
       "      <th>std</th>\n",
       "      <th>min</th>\n",
       "      <th>25%</th>\n",
       "      <th>50%</th>\n",
       "      <th>75%</th>\n",
       "      <th>max</th>\n",
       "    </tr>\n",
       "  </thead>\n",
       "  <tbody>\n",
       "    <tr>\n",
       "      <th>SKP_CREDIT_CASE</th>\n",
       "      <td>728185.0</td>\n",
       "      <td>2.419628e+08</td>\n",
       "      <td>1.733814e+07</td>\n",
       "      <td>2.200058e+08</td>\n",
       "      <td>2.295960e+08</td>\n",
       "      <td>2.380612e+08</td>\n",
       "      <td>2.470518e+08</td>\n",
       "      <td>2.881562e+08</td>\n",
       "    </tr>\n",
       "    <tr>\n",
       "      <th>RISK_AGRF180</th>\n",
       "      <td>728185.0</td>\n",
       "      <td>1.000000e+00</td>\n",
       "      <td>0.000000e+00</td>\n",
       "      <td>1.000000e+00</td>\n",
       "      <td>1.000000e+00</td>\n",
       "      <td>1.000000e+00</td>\n",
       "      <td>1.000000e+00</td>\n",
       "      <td>1.000000e+00</td>\n",
       "    </tr>\n",
       "    <tr>\n",
       "      <th>RISK_FPD30</th>\n",
       "      <td>728185.0</td>\n",
       "      <td>5.778751e-03</td>\n",
       "      <td>7.579819e-02</td>\n",
       "      <td>0.000000e+00</td>\n",
       "      <td>0.000000e+00</td>\n",
       "      <td>0.000000e+00</td>\n",
       "      <td>0.000000e+00</td>\n",
       "      <td>1.000000e+00</td>\n",
       "    </tr>\n",
       "    <tr>\n",
       "      <th>RISK_FSPD30</th>\n",
       "      <td>728185.0</td>\n",
       "      <td>1.752027e-02</td>\n",
       "      <td>1.311996e-01</td>\n",
       "      <td>0.000000e+00</td>\n",
       "      <td>0.000000e+00</td>\n",
       "      <td>0.000000e+00</td>\n",
       "      <td>0.000000e+00</td>\n",
       "      <td>1.000000e+00</td>\n",
       "    </tr>\n",
       "    <tr>\n",
       "      <th>RISK_FSTPD30</th>\n",
       "      <td>728185.0</td>\n",
       "      <td>3.053345e-02</td>\n",
       "      <td>1.720500e-01</td>\n",
       "      <td>0.000000e+00</td>\n",
       "      <td>0.000000e+00</td>\n",
       "      <td>0.000000e+00</td>\n",
       "      <td>0.000000e+00</td>\n",
       "      <td>1.000000e+00</td>\n",
       "    </tr>\n",
       "    <tr>\n",
       "      <th>RISK_FSTQPD30</th>\n",
       "      <td>728185.0</td>\n",
       "      <td>5.044048e-02</td>\n",
       "      <td>2.188522e-01</td>\n",
       "      <td>0.000000e+00</td>\n",
       "      <td>0.000000e+00</td>\n",
       "      <td>0.000000e+00</td>\n",
       "      <td>0.000000e+00</td>\n",
       "      <td>1.000000e+00</td>\n",
       "    </tr>\n",
       "    <tr>\n",
       "      <th>RISK_FSTQPD60</th>\n",
       "      <td>728185.0</td>\n",
       "      <td>3.557338e-02</td>\n",
       "      <td>1.852241e-01</td>\n",
       "      <td>0.000000e+00</td>\n",
       "      <td>0.000000e+00</td>\n",
       "      <td>0.000000e+00</td>\n",
       "      <td>0.000000e+00</td>\n",
       "      <td>1.000000e+00</td>\n",
       "    </tr>\n",
       "    <tr>\n",
       "      <th>RISK_SCORE</th>\n",
       "      <td>728185.0</td>\n",
       "      <td>2.462032e-02</td>\n",
       "      <td>2.491080e-02</td>\n",
       "      <td>6.821442e-04</td>\n",
       "      <td>1.006857e-02</td>\n",
       "      <td>1.712049e-02</td>\n",
       "      <td>3.028651e-02</td>\n",
       "      <td>6.547919e-01</td>\n",
       "    </tr>\n",
       "    <tr>\n",
       "      <th>AMT_DIRECT_DEBIT_STATEMENT</th>\n",
       "      <td>728185.0</td>\n",
       "      <td>1.973143e+03</td>\n",
       "      <td>1.150405e+03</td>\n",
       "      <td>0.000000e+00</td>\n",
       "      <td>1.386710e+03</td>\n",
       "      <td>1.694000e+03</td>\n",
       "      <td>2.113000e+03</td>\n",
       "      <td>1.908200e+04</td>\n",
       "    </tr>\n",
       "    <tr>\n",
       "      <th>AMT_1</th>\n",
       "      <td>728185.0</td>\n",
       "      <td>1.861723e+03</td>\n",
       "      <td>1.113009e+03</td>\n",
       "      <td>0.000000e+00</td>\n",
       "      <td>1.315000e+03</td>\n",
       "      <td>1.624000e+03</td>\n",
       "      <td>2.015000e+03</td>\n",
       "      <td>1.908200e+04</td>\n",
       "    </tr>\n",
       "    <tr>\n",
       "      <th>AMT_2</th>\n",
       "      <td>695603.0</td>\n",
       "      <td>1.867833e+03</td>\n",
       "      <td>1.119117e+03</td>\n",
       "      <td>0.000000e+00</td>\n",
       "      <td>1.318000e+03</td>\n",
       "      <td>1.630300e+03</td>\n",
       "      <td>2.020000e+03</td>\n",
       "      <td>1.908200e+04</td>\n",
       "    </tr>\n",
       "    <tr>\n",
       "      <th>AMT_3</th>\n",
       "      <td>669773.0</td>\n",
       "      <td>1.871185e+03</td>\n",
       "      <td>1.116428e+03</td>\n",
       "      <td>0.000000e+00</td>\n",
       "      <td>1.320000e+03</td>\n",
       "      <td>1.635000e+03</td>\n",
       "      <td>2.021280e+03</td>\n",
       "      <td>1.908200e+04</td>\n",
       "    </tr>\n",
       "    <tr>\n",
       "      <th>AMT_4</th>\n",
       "      <td>638275.0</td>\n",
       "      <td>1.863130e+03</td>\n",
       "      <td>1.100554e+03</td>\n",
       "      <td>0.000000e+00</td>\n",
       "      <td>1.317000e+03</td>\n",
       "      <td>1.630410e+03</td>\n",
       "      <td>2.019000e+03</td>\n",
       "      <td>1.908200e+04</td>\n",
       "    </tr>\n",
       "    <tr>\n",
       "      <th>AMT_5</th>\n",
       "      <td>595826.0</td>\n",
       "      <td>1.856142e+03</td>\n",
       "      <td>1.089854e+03</td>\n",
       "      <td>0.000000e+00</td>\n",
       "      <td>1.315000e+03</td>\n",
       "      <td>1.626000e+03</td>\n",
       "      <td>2.014000e+03</td>\n",
       "      <td>1.757200e+04</td>\n",
       "    </tr>\n",
       "    <tr>\n",
       "      <th>AMT_6</th>\n",
       "      <td>525515.0</td>\n",
       "      <td>1.859348e+03</td>\n",
       "      <td>1.092361e+03</td>\n",
       "      <td>0.000000e+00</td>\n",
       "      <td>1.312000e+03</td>\n",
       "      <td>1.624000e+03</td>\n",
       "      <td>2.014500e+03</td>\n",
       "      <td>1.716000e+04</td>\n",
       "    </tr>\n",
       "    <tr>\n",
       "      <th>TENURE1</th>\n",
       "      <td>728185.0</td>\n",
       "      <td>2.234178e+02</td>\n",
       "      <td>2.319534e+02</td>\n",
       "      <td>1.000000e+00</td>\n",
       "      <td>3.000000e+01</td>\n",
       "      <td>1.500000e+02</td>\n",
       "      <td>3.460000e+02</td>\n",
       "      <td>2.389000e+03</td>\n",
       "    </tr>\n",
       "    <tr>\n",
       "      <th>TENURE2</th>\n",
       "      <td>695603.0</td>\n",
       "      <td>2.560685e+02</td>\n",
       "      <td>2.340214e+02</td>\n",
       "      <td>1.000000e+00</td>\n",
       "      <td>6.100000e+01</td>\n",
       "      <td>1.830000e+02</td>\n",
       "      <td>3.810000e+02</td>\n",
       "      <td>2.420000e+03</td>\n",
       "    </tr>\n",
       "    <tr>\n",
       "      <th>TENURE3</th>\n",
       "      <td>669773.0</td>\n",
       "      <td>2.882014e+02</td>\n",
       "      <td>2.347324e+02</td>\n",
       "      <td>4.000000e+00</td>\n",
       "      <td>9.300000e+01</td>\n",
       "      <td>2.160000e+02</td>\n",
       "      <td>4.150000e+02</td>\n",
       "      <td>2.358000e+03</td>\n",
       "    </tr>\n",
       "    <tr>\n",
       "      <th>TENURE4</th>\n",
       "      <td>638275.0</td>\n",
       "      <td>3.237929e+02</td>\n",
       "      <td>2.361198e+02</td>\n",
       "      <td>1.600000e+01</td>\n",
       "      <td>1.300000e+02</td>\n",
       "      <td>2.550000e+02</td>\n",
       "      <td>4.520000e+02</td>\n",
       "      <td>2.388000e+03</td>\n",
       "    </tr>\n",
       "    <tr>\n",
       "      <th>TENURE5</th>\n",
       "      <td>595826.0</td>\n",
       "      <td>3.605252e+02</td>\n",
       "      <td>2.380763e+02</td>\n",
       "      <td>2.600000e+01</td>\n",
       "      <td>1.690000e+02</td>\n",
       "      <td>2.950000e+02</td>\n",
       "      <td>4.900000e+02</td>\n",
       "      <td>2.419000e+03</td>\n",
       "    </tr>\n",
       "    <tr>\n",
       "      <th>TENURE6</th>\n",
       "      <td>525515.0</td>\n",
       "      <td>3.956452e+02</td>\n",
       "      <td>2.411203e+02</td>\n",
       "      <td>3.500000e+01</td>\n",
       "      <td>2.050000e+02</td>\n",
       "      <td>3.330000e+02</td>\n",
       "      <td>5.250000e+02</td>\n",
       "      <td>2.618000e+03</td>\n",
       "    </tr>\n",
       "  </tbody>\n",
       "</table>\n",
       "</div>"
      ],
      "text/plain": [
       "                               count          mean           std  \\\n",
       "SKP_CREDIT_CASE             728185.0  2.419628e+08  1.733814e+07   \n",
       "RISK_AGRF180                728185.0  1.000000e+00  0.000000e+00   \n",
       "RISK_FPD30                  728185.0  5.778751e-03  7.579819e-02   \n",
       "RISK_FSPD30                 728185.0  1.752027e-02  1.311996e-01   \n",
       "RISK_FSTPD30                728185.0  3.053345e-02  1.720500e-01   \n",
       "RISK_FSTQPD30               728185.0  5.044048e-02  2.188522e-01   \n",
       "RISK_FSTQPD60               728185.0  3.557338e-02  1.852241e-01   \n",
       "RISK_SCORE                  728185.0  2.462032e-02  2.491080e-02   \n",
       "AMT_DIRECT_DEBIT_STATEMENT  728185.0  1.973143e+03  1.150405e+03   \n",
       "AMT_1                       728185.0  1.861723e+03  1.113009e+03   \n",
       "AMT_2                       695603.0  1.867833e+03  1.119117e+03   \n",
       "AMT_3                       669773.0  1.871185e+03  1.116428e+03   \n",
       "AMT_4                       638275.0  1.863130e+03  1.100554e+03   \n",
       "AMT_5                       595826.0  1.856142e+03  1.089854e+03   \n",
       "AMT_6                       525515.0  1.859348e+03  1.092361e+03   \n",
       "TENURE1                     728185.0  2.234178e+02  2.319534e+02   \n",
       "TENURE2                     695603.0  2.560685e+02  2.340214e+02   \n",
       "TENURE3                     669773.0  2.882014e+02  2.347324e+02   \n",
       "TENURE4                     638275.0  3.237929e+02  2.361198e+02   \n",
       "TENURE5                     595826.0  3.605252e+02  2.380763e+02   \n",
       "TENURE6                     525515.0  3.956452e+02  2.411203e+02   \n",
       "\n",
       "                                     min           25%           50%  \\\n",
       "SKP_CREDIT_CASE             2.200058e+08  2.295960e+08  2.380612e+08   \n",
       "RISK_AGRF180                1.000000e+00  1.000000e+00  1.000000e+00   \n",
       "RISK_FPD30                  0.000000e+00  0.000000e+00  0.000000e+00   \n",
       "RISK_FSPD30                 0.000000e+00  0.000000e+00  0.000000e+00   \n",
       "RISK_FSTPD30                0.000000e+00  0.000000e+00  0.000000e+00   \n",
       "RISK_FSTQPD30               0.000000e+00  0.000000e+00  0.000000e+00   \n",
       "RISK_FSTQPD60               0.000000e+00  0.000000e+00  0.000000e+00   \n",
       "RISK_SCORE                  6.821442e-04  1.006857e-02  1.712049e-02   \n",
       "AMT_DIRECT_DEBIT_STATEMENT  0.000000e+00  1.386710e+03  1.694000e+03   \n",
       "AMT_1                       0.000000e+00  1.315000e+03  1.624000e+03   \n",
       "AMT_2                       0.000000e+00  1.318000e+03  1.630300e+03   \n",
       "AMT_3                       0.000000e+00  1.320000e+03  1.635000e+03   \n",
       "AMT_4                       0.000000e+00  1.317000e+03  1.630410e+03   \n",
       "AMT_5                       0.000000e+00  1.315000e+03  1.626000e+03   \n",
       "AMT_6                       0.000000e+00  1.312000e+03  1.624000e+03   \n",
       "TENURE1                     1.000000e+00  3.000000e+01  1.500000e+02   \n",
       "TENURE2                     1.000000e+00  6.100000e+01  1.830000e+02   \n",
       "TENURE3                     4.000000e+00  9.300000e+01  2.160000e+02   \n",
       "TENURE4                     1.600000e+01  1.300000e+02  2.550000e+02   \n",
       "TENURE5                     2.600000e+01  1.690000e+02  2.950000e+02   \n",
       "TENURE6                     3.500000e+01  2.050000e+02  3.330000e+02   \n",
       "\n",
       "                                     75%           max  \n",
       "SKP_CREDIT_CASE             2.470518e+08  2.881562e+08  \n",
       "RISK_AGRF180                1.000000e+00  1.000000e+00  \n",
       "RISK_FPD30                  0.000000e+00  1.000000e+00  \n",
       "RISK_FSPD30                 0.000000e+00  1.000000e+00  \n",
       "RISK_FSTPD30                0.000000e+00  1.000000e+00  \n",
       "RISK_FSTQPD30               0.000000e+00  1.000000e+00  \n",
       "RISK_FSTQPD60               0.000000e+00  1.000000e+00  \n",
       "RISK_SCORE                  3.028651e-02  6.547919e-01  \n",
       "AMT_DIRECT_DEBIT_STATEMENT  2.113000e+03  1.908200e+04  \n",
       "AMT_1                       2.015000e+03  1.908200e+04  \n",
       "AMT_2                       2.020000e+03  1.908200e+04  \n",
       "AMT_3                       2.021280e+03  1.908200e+04  \n",
       "AMT_4                       2.019000e+03  1.908200e+04  \n",
       "AMT_5                       2.014000e+03  1.757200e+04  \n",
       "AMT_6                       2.014500e+03  1.716000e+04  \n",
       "TENURE1                     3.460000e+02  2.389000e+03  \n",
       "TENURE2                     3.810000e+02  2.420000e+03  \n",
       "TENURE3                     4.150000e+02  2.358000e+03  \n",
       "TENURE4                     4.520000e+02  2.388000e+03  \n",
       "TENURE5                     4.900000e+02  2.419000e+03  \n",
       "TENURE6                     5.250000e+02  2.618000e+03  "
      ]
     },
     "execution_count": 23,
     "metadata": {},
     "output_type": "execute_result"
    }
   ],
   "source": [
    "df.describe().T"
   ]
  },
  {
   "cell_type": "code",
   "execution_count": 24,
   "metadata": {},
   "outputs": [],
   "source": [
    "df = df_encoded"
   ]
  },
  {
   "cell_type": "code",
   "execution_count": 25,
   "metadata": {},
   "outputs": [],
   "source": [
    "df_test = df[df[\"TIME_DECISION_DATE\"]>= pd.datetime(2019,8,1)]\n",
    "df_train = df[df[\"TIME_DECISION_DATE\"]< pd.datetime(2019,8,1)]\n"
   ]
  },
  {
   "cell_type": "code",
   "execution_count": 26,
   "metadata": {},
   "outputs": [],
   "source": [
    "x_column = ['AMT_DIRECT_DEBIT_STATEMENT','TENURE1', 'TENURE2', 'TENURE3', 'TENURE4',\n",
    "       'TENURE5', 'TENURE6', 'Debited_CODE_1', 'Posted_CODE_1',\n",
    "       'Undebited_CODE_1', 'Debited_CODE_2', 'Posted_CODE_2',\n",
    "       'Undebited_CODE_2', 'Debited_CODE_3', 'Posted_CODE_3',\n",
    "       'Undebited_CODE_3', 'Debited_CODE_4', 'Posted_CODE_4',\n",
    "       'Undebited_CODE_4', 'Debited_CODE_5', 'Posted_CODE_5',\n",
    "       'Undebited_CODE_5', 'Debited_CODE_6', 'Posted_CODE_6',\n",
    "       'Undebited_CODE_6', 'DEBITED_REASON_1_ENCODED',\n",
    "       'Others_REASON_1_ENCODED', 'PROCESS ISSUE_REASON_1_ENCODED',\n",
    "       'WILLFULL DEFAULTS_REASON_1_ENCODED', 'DEBITED_REASON_2_ENCODED',\n",
    "       'Others_REASON_2_ENCODED', 'PROCESS ISSUE_REASON_2_ENCODED',\n",
    "       'WILLFULL DEFAULTS_REASON_2_ENCODED', 'DEBITED_REASON_3_ENCODED',\n",
    "       'Others_REASON_3_ENCODED', 'PROCESS ISSUE_REASON_3_ENCODED',\n",
    "       'WILLFULL DEFAULTS_REASON_3_ENCODED', 'DEBITED_REASON_4_ENCODED',\n",
    "       'Others_REASON_4_ENCODED', 'PROCESS ISSUE_REASON_4_ENCODED',\n",
    "       'WILLFULL DEFAULTS_REASON_4_ENCODED', 'DEBITED_REASON_5_ENCODED',\n",
    "       'Others_REASON_5_ENCODED', 'PROCESS ISSUE_REASON_5_ENCODED',\n",
    "       'WILLFULL DEFAULTS_REASON_5_ENCODED', 'DEBITED_REASON_6_ENCODED',\n",
    "       'Others_REASON_6_ENCODED', 'PROCESS ISSUE_REASON_6_ENCODED',\n",
    "       'WILLFULL DEFAULTS_REASON_6_ENCODED','RISK_SCORE']\n",
    "y_column = 'RISK_FSTQPD30'"
   ]
  },
  {
   "cell_type": "code",
   "execution_count": 27,
   "metadata": {},
   "outputs": [
    {
     "name": "stdout",
     "output_type": "stream",
     "text": [
      "\n",
      "Event rate in train set : 5.13%\n",
      "\n",
      " Train set shape: (417874, 50)\n",
      "\n",
      "Event rate in test set : 4.80%\n",
      "\n",
      " Test set shape: (205842, 50)\n",
      "\n",
      "Event rate in validation set : 5.17%\n",
      "\n",
      " validation set shape: (104469, 50)\n",
      "\n",
      " Train GINI 0.449717080408111\n",
      "\n",
      " Test GINI 0.46194799704537814\n",
      "\n",
      " validation GINI 0.4546091438528135\n"
     ]
    }
   ],
   "source": [
    "# split data into train and test sets\n",
    "seed = 25522\n",
    "\n",
    "X_test = df_test[x_column]\n",
    "y_test = df_test[y_column]\n",
    "\n",
    "X_train, X_valid, y_train, y_valid = train_test_split(df_train[x_column], df_train[y_column], test_size=0.2, random_state=seed)\n",
    "\n",
    "\n",
    "##event rate\n",
    "print(\"\\nEvent rate in train set :\", '{:,.2%}'.format(sum(y_train) / len(y_train)))\n",
    "print(\"\\n Train set shape:\",X_train.shape)\n",
    "print(\"\\nEvent rate in test set :\", '{:,.2%}'.format(sum(y_test) / len(y_test)))\n",
    "print(\"\\n Test set shape:\",X_test.shape)\n",
    "print(\"\\nEvent rate in validation set :\", '{:,.2%}'.format(sum(y_valid) / len(y_valid)))\n",
    "print(\"\\n validation set shape:\",X_valid.shape)\n",
    "print(\"\\n Train GINI\",  metrics.roc_auc_score(y_train, X_train['RISK_SCORE'])*2 -1)\n",
    "print(\"\\n Test GINI\",  metrics.roc_auc_score(y_test, X_test['RISK_SCORE'])*2 -1)\n",
    "print(\"\\n validation GINI\",  metrics.roc_auc_score(y_valid, X_valid['RISK_SCORE'])*2 -1)\n"
   ]
  },
  {
   "cell_type": "code",
   "execution_count": 28,
   "metadata": {},
   "outputs": [],
   "source": [
    "## Variable importance\n",
    "def fimportances(xc, predictors):\n",
    "    importances = pd.DataFrame({'predictor': predictors, 'importance': xc.feature_importances_})\n",
    "    importances = importances[importances['importance'] > 0]\n",
    "    importances.sort_values(by='importance', ascending=False, inplace=True)\n",
    "    importances.reset_index(inplace=True, drop=True)\n",
    "    importances = importances[['predictor', 'importance']]\n",
    "    return importances"
   ]
  },
  {
   "cell_type": "code",
   "execution_count": 29,
   "metadata": {},
   "outputs": [],
   "source": [
    "xgb_model = xgb.XGBClassifier(max_depth = 3,\n",
    "              learning_rate= 0.01,\n",
    "              subsample= 0.6,\n",
    "              min_child_weight= 10,\n",
    "              colsample_bytree= 0.6,\n",
    "              scale_pos_weight =25,\n",
    "              objective= 'binary:logistic', \n",
    "              nthread = -1, \n",
    "              n_estimators = 200              \n",
    "              )\n",
    "\n",
    "evals=[(X_train.drop(columns='RISK_SCORE'), np.ravel(y_train)),(X_valid.drop(columns='RISK_SCORE'), np.ravel(y_valid))]\n",
    "\n",
    "bst = xgb_model.fit(X_train.drop(columns='RISK_SCORE'), np.ravel(y_train), eval_metric=\"auc\", eval_set=evals,\n",
    "                    early_stopping_rounds=40   ,  verbose=False)"
   ]
  },
  {
   "cell_type": "code",
   "execution_count": 30,
   "metadata": {},
   "outputs": [],
   "source": [
    "imp = fimportances(bst,X_train.drop(columns='RISK_SCORE').columns)"
   ]
  },
  {
   "cell_type": "code",
   "execution_count": 31,
   "metadata": {},
   "outputs": [
    {
     "name": "stdout",
     "output_type": "stream",
     "text": [
      "Columns Remaining : 39 , gini_train: 0.321958,gini_test: 0.313520 \n",
      "Columns Remaining : 35 , gini_train: 0.321827,gini_test: 0.313103 \n",
      "Columns Remaining : 33 , gini_train: 0.322239,gini_test: 0.313738 \n",
      "Columns Remaining : 31 , gini_train: 0.321712,gini_test: 0.313273 \n",
      "Columns Remaining : 29 , gini_train: 0.321864,gini_test: 0.312682 \n",
      "Columns Remaining : 27 , gini_train: 0.321837,gini_test: 0.312296 \n",
      "Columns Remaining : 25 , gini_train: 0.317803,gini_test: 0.312428 \n",
      "Columns Remaining : 23 , gini_train: 0.322181,gini_test: 0.312605 \n",
      "Columns Remaining : 21 , gini_train: 0.321855,gini_test: 0.312692 \n",
      "Columns Remaining : 19 , gini_train: 0.322529,gini_test: 0.313678 \n",
      "Columns Remaining : 17 , gini_train: 0.322652,gini_test: 0.312740 \n",
      "Columns Remaining : 15 , gini_train: 0.317522,gini_test: 0.312255 \n",
      "Columns Remaining : 13 , gini_train: 0.319606,gini_test: 0.311131 \n",
      "Columns Remaining : 11 , gini_train: 0.319420,gini_test: 0.311530 \n",
      "Columns Remaining : 9 , gini_train: 0.312898,gini_test: 0.309884 \n",
      "Columns Remaining : 7 , gini_train: 0.289498,gini_test: 0.280159 \n",
      "Columns Remaining : 5 , gini_train: 0.243060,gini_test: 0.226210 \n",
      "Columns Remaining : 3 , gini_train: 0.072129,gini_test: 0.074096 \n"
     ]
    }
   ],
   "source": [
    "bst1 = bst\n",
    "X_train_1 = X_train.drop(columns='RISK_SCORE')\n",
    "X_valid_1 = X_valid.drop(columns='RISK_SCORE')\n",
    "select_X_train = X_train_1\n",
    "\n",
    "dic_imp = {\"n\":[imp.shape[0]],\"Gini Train\":[0],\"Gini Test\":[0],\"Predictors\":[list(imp['predictor'])]}\n",
    "\n",
    "while(select_X_train.shape[1] > 4):\n",
    "    select_X_train = X_train_1[list(imp['predictor'])[:-2]]\n",
    "    select_X_valid = X_valid_1[list(imp['predictor'])[:-2]]\n",
    "    xgb_model = xgb.XGBClassifier(max_depth = 3,\n",
    "              learning_rate= 0.01,\n",
    "              subsample= 0.6,\n",
    "              min_child_weight= 10,\n",
    "              colsample_bytree= 0.6,\n",
    "              scale_pos_weight =25,\n",
    "              objective= 'binary:logistic', \n",
    "              nthread = -1, \n",
    "              n_estimators = 200              \n",
    "              )\n",
    "\n",
    "    evals=[(select_X_train, np.ravel(y_train)),(select_X_valid, np.ravel(y_valid))]\n",
    "\n",
    "    bst = xgb_model.fit(select_X_train, np.ravel(y_train), eval_metric=\"auc\", eval_set=evals,\n",
    "                        early_stopping_rounds=40   ,  verbose=False)\n",
    "    \n",
    "    ypred_train = bst.predict_proba(select_X_train)[:, 1]\n",
    "    ypred_test  = bst.predict_proba(select_X_valid)[:, 1]\n",
    "    \n",
    "    metric_auc_train = metrics.roc_auc_score(y_train, ypred_train)\n",
    "    metric_auc_test = metrics.roc_auc_score(y_valid, ypred_test)\n",
    "\n",
    "    gini_train = 2 * metric_auc_train - 1\n",
    "    gini_test = 2 * metric_auc_test - 1\n",
    "    \n",
    "    print(\"Columns Remaining : %d , gini_train: %f,gini_test: %f \"%(select_X_train.shape[1],gini_train,gini_test))\n",
    "    \n",
    "    dic_imp['n'].append(imp.shape[0])\n",
    "    dic_imp['Gini Train'].append(gini_train)\n",
    "    dic_imp['Gini Test'].append(gini_test)\n",
    "    dic_imp['Predictors'].append(list(imp['predictor']))\n",
    "    \n",
    "    imp = fimportances(bst,select_X_train.columns)"
   ]
  },
  {
   "cell_type": "code",
   "execution_count": 32,
   "metadata": {},
   "outputs": [],
   "source": [
    "df_imp =pd.DataFrame(dic_imp)"
   ]
  },
  {
   "cell_type": "code",
   "execution_count": 33,
   "metadata": {},
   "outputs": [],
   "source": [
    "selected_vars = list(df_imp[df_imp['n']==11][\"Predictors\"])"
   ]
  },
  {
   "cell_type": "code",
   "execution_count": 34,
   "metadata": {},
   "outputs": [
    {
     "data": {
      "text/plain": [
       "[['TENURE3',\n",
       "  'TENURE2',\n",
       "  'WILLFULL DEFAULTS_REASON_5_ENCODED',\n",
       "  'TENURE6',\n",
       "  'Undebited_CODE_3',\n",
       "  'Undebited_CODE_2',\n",
       "  'Undebited_CODE_1',\n",
       "  'Undebited_CODE_4',\n",
       "  'WILLFULL DEFAULTS_REASON_6_ENCODED',\n",
       "  'TENURE4',\n",
       "  'TENURE5']]"
      ]
     },
     "execution_count": 34,
     "metadata": {},
     "output_type": "execute_result"
    }
   ],
   "source": [
    "selected_vars"
   ]
  },
  {
   "cell_type": "code",
   "execution_count": 35,
   "metadata": {},
   "outputs": [
    {
     "name": "stdout",
     "output_type": "stream",
     "text": [
      "\n",
      " Train shape: (417874, 11) \n",
      " Test shape: (205842, 11) \n",
      " Validation shape: (104469, 11)\n"
     ]
    }
   ],
   "source": [
    "X_train_2=X_train[selected_vars[0]]\n",
    "X_test_2=X_test[selected_vars[0]]\n",
    "X_valid_2=X_valid[selected_vars[0]]\n",
    "\n",
    "print(\"\\n Train shape:\",X_train_2.shape,\"\\n Test shape:\",X_test_2.shape,\"\\n Validation shape:\",X_valid_2.shape)"
   ]
  },
  {
   "cell_type": "code",
   "execution_count": 36,
   "metadata": {},
   "outputs": [],
   "source": [
    "# set model parameters \n",
    "missing_value=None; cpu=-1; early_stopping_round=40; split_random_state=None\n",
    "kfolds = StratifiedKFold(6, random_state=1)"
   ]
  },
  {
   "cell_type": "code",
   "execution_count": 37,
   "metadata": {
    "scrolled": true
   },
   "outputs": [],
   "source": [
    "## XGB model## The model is pretty stable with default parameters(after variable selection), hence not tuning any more\n",
    "# param_grid = {'max_depth': list(range(1, 6)),\n",
    "#               'learning_rate': np.arange(0.001, 0.02, 0.001),\n",
    "#               'subsample': np.arange(0.4, 0.7,0.05),\n",
    "#               'min_child_weight': np.arange(1, 25, 3),\n",
    "#               'colsample_bytree': np.arange(0.5, 0.75, 0.05),\n",
    "#               'scale_pos_weight' :np.arange(5, 40, 5)\n",
    "#             }\n",
    "\n",
    "# if X_train_2.shape[1] == 1:\n",
    "#     param_grid['colsample_bytree'] = [1]\n",
    "    \n",
    "# param_dist = {'objective': 'binary:logistic', 'nthread': cpu, 'n_estimators': 200}\n",
    "# xgb_model = xgb.XGBClassifier(**param_dist)\n",
    "\n",
    "# ##random search XGB    \n",
    "# clf = RandomizedSearchCV(estimator=xgb_model, param_distributions=param_grid, scoring=['roc_auc'], n_iter=30,\n",
    "#                          random_state=40, cv=kfolds.split(X_train_2, y_train), refit='roc_auc',error_score=0, return_train_score =True)\n",
    "# print(\"Randomized search..\")\n",
    "# search_time_start = time.time()\n",
    "# clf.fit(X_train_2, np.ravel(y_train))\n",
    "# print(\"Randomized search time:\", time.time() - search_time_start)\n",
    "# params = clf.best_params_\n",
    "\n",
    "# dic=clf.cv_results_\n",
    "\n",
    "# params_bst = params\n",
    "# params_tbl = pd.DataFrame(columns=list(params_bst.keys()))  \n",
    "# params_tbl.loc['0'] = [params_bst[k] for k in params_tbl.columns]\n",
    "\n",
    "# print(\"Best score: {}\".format(clf.best_score_))\n",
    "# print(\"Best params: \")\n",
    "# for param_name in sorted(params_bst.keys()):\n",
    "#     print('%s: %r' % (param_name, params_bst[param_name]))\n",
    "\n",
    "# params.update(param_dist)\n",
    "# xgb_model = xgb.XGBClassifier(**params)"
   ]
  },
  {
   "cell_type": "code",
   "execution_count": 38,
   "metadata": {},
   "outputs": [],
   "source": [
    "# pd.Series(dic['mean_train_roc_auc']).to_csv(\"clx\\\\mean_train_roc_auc_mesdq.csv\")"
   ]
  },
  {
   "cell_type": "code",
   "execution_count": 39,
   "metadata": {},
   "outputs": [],
   "source": [
    "# pd.Series(dic['mean_test_roc_auc']).to_csv(\"clx\\\\mean_test_roc_auc_mesdq.csv\")"
   ]
  },
  {
   "cell_type": "code",
   "execution_count": 40,
   "metadata": {},
   "outputs": [],
   "source": [
    "# pd.DataFrame(dic['params']).to_csv(\"clx\\\\params_mesdq.csv\")"
   ]
  },
  {
   "cell_type": "code",
   "execution_count": 41,
   "metadata": {},
   "outputs": [],
   "source": [
    "#First Run\n",
    "xgb_model = xgb.XGBClassifier(max_depth = 3,\n",
    "              learning_rate= 0.01,\n",
    "              subsample= 0.6,\n",
    "              min_child_weight= 10,\n",
    "              colsample_bytree= 0.6,\n",
    "              scale_pos_weight =25,\n",
    "              objective= 'binary:logistic', \n",
    "              nthread = -1, \n",
    "              n_estimators = 200\n",
    "             )\n",
    "#GINI TRAIN: \n",
    "\n",
    "#GINI Validation: \n",
    "\n",
    "#GINI CV: \n",
    "\n",
    "#Gini Test "
   ]
  },
  {
   "cell_type": "code",
   "execution_count": 42,
   "metadata": {},
   "outputs": [],
   "source": [
    "#if required\n",
    "#%env JOBLIB_TEMP_FOLDER=/tmp"
   ]
  },
  {
   "cell_type": "code",
   "execution_count": 43,
   "metadata": {
    "scrolled": true
   },
   "outputs": [],
   "source": [
    "# cross validation gini\n",
    "def xgboost(X_tr,X_ts,y_tr,y_ts):\n",
    "    auc_cv = cross_val_score(xgb_model, X_tr, np.ravel(y_tr), scoring='roc_auc', cv=kfolds.split(X_tr, np.ravel(y_tr)),\n",
    "                             n_jobs=1)\n",
    "    gini_cv = (2 * np.array(auc_cv) - 1).mean()\n",
    "    evals=[(X_tr, np.ravel(y_tr)),(X_ts, np.ravel(y_ts))]\n",
    "\n",
    "    bst = xgb_model.fit(X_tr, np.ravel(y_tr), eval_metric=\"auc\", eval_set=evals,\n",
    "                        early_stopping_rounds=early_stopping_round   ,  verbose=False)\n",
    "\n",
    "    if early_stopping_round is None:\n",
    "        ypred_train = bst.predict_proba(X_tr)[:, 1]\n",
    "        ypred_test = bst.predict_proba(X_ts)[:, 1]\n",
    "    else:\n",
    "        ypred_train = bst.predict_proba(X_tr, ntree_limit=bst.best_ntree_limit)[:, 1]\n",
    "        ypred_test = bst.predict_proba(X_ts, ntree_limit=bst.best_ntree_limit)[:, 1]\n",
    "\n",
    "    metric_auc_train = metrics.roc_auc_score(y_tr, ypred_train)\n",
    "    metric_auc_test = metrics.roc_auc_score(y_ts, ypred_test)\n",
    "\n",
    "    gini_train = 2 * metric_auc_train - 1\n",
    "    gini_test = 2 * metric_auc_test - 1\n",
    "\n",
    "    return bst,gini_cv,gini_train,gini_test,ypred_train,ypred_test"
   ]
  },
  {
   "cell_type": "code",
   "execution_count": 44,
   "metadata": {},
   "outputs": [
    {
     "name": "stdout",
     "output_type": "stream",
     "text": [
      "GINI TRAIN: 0.31512454530382383\n",
      "\n",
      "GINI Validation: 0.3098511397844277\n",
      "\n",
      "GINI CV: 0.3173167445656001\n"
     ]
    }
   ],
   "source": [
    "## run xgboost\n",
    "bst,gini_cv,gini_train,gini_test,ypred_train,ypred_test=xgboost(X_train_2, X_valid_2, y_train, y_valid)\n",
    "\n",
    "##Model performance on sample\n",
    "print(\"GINI TRAIN:\",gini_train )\n",
    "print(\"\\nGINI Validation:\",gini_test )\n",
    "print(\"\\nGINI CV:\",gini_cv )"
   ]
  },
  {
   "cell_type": "code",
   "execution_count": 45,
   "metadata": {},
   "outputs": [
    {
     "data": {
      "text/plain": [
       "Index(['TENURE3', 'TENURE2', 'WILLFULL DEFAULTS_REASON_5_ENCODED', 'TENURE6',\n",
       "       'Undebited_CODE_3', 'Undebited_CODE_2', 'Undebited_CODE_1',\n",
       "       'Undebited_CODE_4', 'WILLFULL DEFAULTS_REASON_6_ENCODED', 'TENURE4',\n",
       "       'TENURE5'],\n",
       "      dtype='object')"
      ]
     },
     "execution_count": 45,
     "metadata": {},
     "output_type": "execute_result"
    }
   ],
   "source": [
    "X_train_2.columns"
   ]
  },
  {
   "cell_type": "code",
   "execution_count": 46,
   "metadata": {},
   "outputs": [
    {
     "name": "stdout",
     "output_type": "stream",
     "text": [
      "Gini Test 0.322591020927109\n"
     ]
    }
   ],
   "source": [
    "#ypred_test = bst.predict_proba(X_test_2.drop(columns=['act','pred']), ntree_limit=bst.best_ntree_limit)[:, 1]\n",
    "ypred_test = bst.predict_proba(X_test_2, ntree_limit=bst.best_ntree_limit)[:, 1]\n",
    "metric_auc_test = metrics.roc_auc_score(y_test, ypred_test)\n",
    "print(\"Gini Test\",metric_auc_test*2-1)"
   ]
  },
  {
   "cell_type": "code",
   "execution_count": 47,
   "metadata": {
    "scrolled": true
   },
   "outputs": [],
   "source": [
    "importance_tbl = fimportances(bst, X_train_2.columns)\n",
    "importance_tbl.to_csv(os.getcwd()+r\"\\xgb_cd_exi_varimp_skp_client.csv\",index=0)"
   ]
  },
  {
   "cell_type": "code",
   "execution_count": 48,
   "metadata": {
    "scrolled": true
   },
   "outputs": [
    {
     "data": {
      "text/html": [
       "<div>\n",
       "<style scoped>\n",
       "    .dataframe tbody tr th:only-of-type {\n",
       "        vertical-align: middle;\n",
       "    }\n",
       "\n",
       "    .dataframe tbody tr th {\n",
       "        vertical-align: top;\n",
       "    }\n",
       "\n",
       "    .dataframe thead th {\n",
       "        text-align: right;\n",
       "    }\n",
       "</style>\n",
       "<table border=\"1\" class=\"dataframe\">\n",
       "  <thead>\n",
       "    <tr style=\"text-align: right;\">\n",
       "      <th></th>\n",
       "      <th>predictor</th>\n",
       "      <th>importance</th>\n",
       "    </tr>\n",
       "  </thead>\n",
       "  <tbody>\n",
       "    <tr>\n",
       "      <th>0</th>\n",
       "      <td>TENURE3</td>\n",
       "      <td>0.142857</td>\n",
       "    </tr>\n",
       "    <tr>\n",
       "      <th>1</th>\n",
       "      <td>WILLFULL DEFAULTS_REASON_5_ENCODED</td>\n",
       "      <td>0.122153</td>\n",
       "    </tr>\n",
       "    <tr>\n",
       "      <th>2</th>\n",
       "      <td>WILLFULL DEFAULTS_REASON_6_ENCODED</td>\n",
       "      <td>0.111801</td>\n",
       "    </tr>\n",
       "    <tr>\n",
       "      <th>3</th>\n",
       "      <td>Undebited_CODE_4</td>\n",
       "      <td>0.093168</td>\n",
       "    </tr>\n",
       "    <tr>\n",
       "      <th>4</th>\n",
       "      <td>TENURE4</td>\n",
       "      <td>0.089027</td>\n",
       "    </tr>\n",
       "    <tr>\n",
       "      <th>5</th>\n",
       "      <td>Undebited_CODE_2</td>\n",
       "      <td>0.084886</td>\n",
       "    </tr>\n",
       "    <tr>\n",
       "      <th>6</th>\n",
       "      <td>TENURE5</td>\n",
       "      <td>0.082816</td>\n",
       "    </tr>\n",
       "    <tr>\n",
       "      <th>7</th>\n",
       "      <td>TENURE2</td>\n",
       "      <td>0.080745</td>\n",
       "    </tr>\n",
       "    <tr>\n",
       "      <th>8</th>\n",
       "      <td>Undebited_CODE_3</td>\n",
       "      <td>0.080745</td>\n",
       "    </tr>\n",
       "    <tr>\n",
       "      <th>9</th>\n",
       "      <td>Undebited_CODE_1</td>\n",
       "      <td>0.060041</td>\n",
       "    </tr>\n",
       "    <tr>\n",
       "      <th>10</th>\n",
       "      <td>TENURE6</td>\n",
       "      <td>0.051760</td>\n",
       "    </tr>\n",
       "  </tbody>\n",
       "</table>\n",
       "</div>"
      ],
      "text/plain": [
       "                             predictor  importance\n",
       "0                              TENURE3    0.142857\n",
       "1   WILLFULL DEFAULTS_REASON_5_ENCODED    0.122153\n",
       "2   WILLFULL DEFAULTS_REASON_6_ENCODED    0.111801\n",
       "3                     Undebited_CODE_4    0.093168\n",
       "4                              TENURE4    0.089027\n",
       "5                     Undebited_CODE_2    0.084886\n",
       "6                              TENURE5    0.082816\n",
       "7                              TENURE2    0.080745\n",
       "8                     Undebited_CODE_3    0.080745\n",
       "9                     Undebited_CODE_1    0.060041\n",
       "10                             TENURE6    0.051760"
      ]
     },
     "execution_count": 48,
     "metadata": {},
     "output_type": "execute_result"
    }
   ],
   "source": [
    "importance_tbl"
   ]
  },
  {
   "cell_type": "code",
   "execution_count": 49,
   "metadata": {},
   "outputs": [
    {
     "name": "stderr",
     "output_type": "stream",
     "text": [
      "C:\\Users\\aman.khatri91425\\AppData\\Local\\Continuum\\anaconda3\\lib\\site-packages\\ipykernel_launcher.py:4: SettingWithCopyWarning: \n",
      "A value is trying to be set on a copy of a slice from a DataFrame.\n",
      "Try using .loc[row_indexer,col_indexer] = value instead\n",
      "\n",
      "See the caveats in the documentation: http://pandas.pydata.org/pandas-docs/stable/indexing.html#indexing-view-versus-copy\n",
      "  after removing the cwd from sys.path.\n"
     ]
    }
   ],
   "source": [
    "## save the model \n",
    "pickle.dump(bst, open(os.getcwd()+r\"\\model_cd_exi_skp_client\", \"wb\"))\n",
    "##Score the dataset\n",
    "outtest=X_test_2;  outtest['pred']=ypred_test ; outtest['act']=y_test ; \n",
    "outtest.to_csv(os.getcwd()+r\"\\cd_exi_test_scored_skp_client.csv\")"
   ]
  },
  {
   "cell_type": "code",
   "execution_count": 50,
   "metadata": {},
   "outputs": [],
   "source": [
    "df[\"XGB_SCORE\"] = bst.predict_proba(df[selected_vars[0]], ntree_limit=bst.best_ntree_limit)[:, 1]"
   ]
  },
  {
   "cell_type": "code",
   "execution_count": 51,
   "metadata": {},
   "outputs": [
    {
     "name": "stdout",
     "output_type": "stream",
     "text": [
      "[[187346   8612]\n",
      " [  8203   1681]]\n",
      "\n",
      " Log Loss is : 0.7048942303602747\n",
      "Average precision-recall score: 0.09\n"
     ]
    },
    {
     "data": {
      "image/png": "[encoded data removed]",
      "text/plain": [
       "<Figure size 432x288 with 1 Axes>"
      ]
     },
     "metadata": {
      "needs_background": "light"
     },
     "output_type": "display_data"
    }
   ],
   "source": [
    "#metrics calculation\n",
    "cutoff=np.percentile(X_test['RISK_SCORE'],95)\n",
    "ypred=pd.Series(X_test['RISK_SCORE']).apply(lambda x : 1 if x >cutoff else 0 )\n",
    "#ypred=pd.Series(ypred_test).apply(lambda x : 1 if x > 0.48631722 else 0 )\n",
    "\n",
    "print(confusion_matrix(y_test, ypred))\n",
    "pd.Series(ypred_test).plot.hist(bins=10, rwidth=0.9 ,color='#607c8e')\n",
    "\n",
    "print(\"\\n Log Loss is :\",log_loss(y_test, ypred_test))\n",
    "print('Average precision-recall score: {0:0.2f}'.format(average_precision_score(y_test, ypred_test)))"
   ]
  },
  {
   "cell_type": "code",
   "execution_count": 52,
   "metadata": {},
   "outputs": [],
   "source": [
    "# retrieve performance metrics\n",
    "results = bst.evals_result()\n",
    "epochs = len(results['validation_0']['auc'])\n",
    "x_axis = range(0, epochs)"
   ]
  },
  {
   "cell_type": "code",
   "execution_count": 53,
   "metadata": {},
   "outputs": [
    {
     "data": {
      "text/plain": [
       "Text(0.5, 1.0, 'XGBoost AUC')"
      ]
     },
     "execution_count": 53,
     "metadata": {},
     "output_type": "execute_result"
    },
    {
     "data": {
      "image/png": "[encoded data removed]",
      "text/plain": [
       "<Figure size 432x288 with 1 Axes>"
      ]
     },
     "metadata": {
      "needs_background": "light"
     },
     "output_type": "display_data"
    }
   ],
   "source": [
    "# plot classification error\n",
    "fig, ax = plt.subplots()\n",
    "ax.plot(x_axis, results['validation_0']['auc'], label='train')\n",
    "ax.plot(x_axis, results['validation_1']['auc'], label='test')\n",
    "\n",
    "ax.legend()\n",
    "plt.ylabel('XGB AUC')\n",
    "plt.title('XGBoost AUC')"
   ]
  },
  {
   "cell_type": "code",
   "execution_count": 54,
   "metadata": {},
   "outputs": [
    {
     "data": {
      "image/png": "[encoded data removed]",
      "text/plain": [
       "<Figure size 432x288 with 1 Axes>"
      ]
     },
     "metadata": {
      "needs_background": "light"
     },
     "output_type": "display_data"
    }
   ],
   "source": [
    "# Compute micro-average ROC curve and ROC area\n",
    "fpr, tpr, thresholds = roc_curve(y_test.ravel(), ypred_test.ravel())\n",
    "roc_auc = auc(fpr, tpr)\n",
    "\n",
    "plt.figure()\n",
    "lw = 1\n",
    "plt.plot(fpr, tpr, color='darkorange',         lw=lw, label='ROC curve (area = %0.2f)' % roc_auc)\n",
    "plt.plot([0, 1], [0, 1], color='navy', lw=lw, linestyle='--')\n",
    "plt.xlim([0.0, 1.0])\n",
    "plt.ylim([0.0, 1.05])\n",
    "plt.xlabel('False Positive Rate')\n",
    "plt.ylabel('True Positive Rate')\n",
    "plt.title('Receiver operating characteristic example')\n",
    "plt.legend(loc=\"lower right\")\n",
    "plt.show()"
   ]
  },
  {
   "cell_type": "code",
   "execution_count": 55,
   "metadata": {},
   "outputs": [
    {
     "data": {
      "text/plain": [
       "[]"
      ]
     },
     "execution_count": 55,
     "metadata": {},
     "output_type": "execute_result"
    },
    {
     "data": {
      "image/png": "[encoded data removed]",
      "text/plain": [
       "<Figure size 432x288 with 1 Axes>"
      ]
     },
     "metadata": {
      "needs_background": "light"
     },
     "output_type": "display_data"
    }
   ],
   "source": [
    "i = np.arange(len(tpr)) # index for df\n",
    "roc = pd.DataFrame({'fpr' : pd.Series(fpr, index=i),'tpr' : pd.Series(tpr, index = i), '1-fpr' : pd.Series(1-fpr, index = i), 'tf' : pd.Series(tpr - (1-fpr), index = i), 'thresholds' : pd.Series(thresholds, index = i)})\n",
    "roc.ix[(roc.tf-0).abs().argsort()[:1]]\n",
    "\n",
    "# Plot tpr vs 1-fpr\n",
    "fig, ax = plt.subplots()\n",
    "plt.plot(roc['tpr'])\n",
    "plt.plot(roc['1-fpr'], color = 'red')\n",
    "plt.xlabel('1-False Positive Rate')\n",
    "plt.ylabel('True Positive Rate')\n",
    "plt.title('Receiver operating characteristic')\n",
    "ax.set_xticklabels([])"
   ]
  },
  {
   "cell_type": "code",
   "execution_count": 56,
   "metadata": {},
   "outputs": [
    {
     "name": "stdout",
     "output_type": "stream",
     "text": [
      "\n",
      " Optimal Cut off : 0.5103525\n"
     ]
    }
   ],
   "source": [
    "optimal_idx = np.argmax(tpr - fpr)  ## check it once \n",
    "optimal_threshold = thresholds[optimal_idx]\n",
    "print(\"\\n Optimal Cut off :\",optimal_threshold)"
   ]
  },
  {
   "cell_type": "code",
   "execution_count": 57,
   "metadata": {
    "scrolled": false
   },
   "outputs": [
    {
     "name": "stdout",
     "output_type": "stream",
     "text": [
      "\n",
      "Total bad : 36730\n",
      "Bad captured in worst category : 28.88%\n",
      "\n",
      "                                     RISK_SCORE  RISK_FSTQPD30\n",
      "RISK_SCORE                                                   \n",
      "(-0.00031800000000000003, 0.00667]    0.005060       0.008473\n",
      "(0.00667, 0.00897]                    0.007836       0.014310\n",
      "(0.00897, 0.0113]                     0.010091       0.018937\n",
      "(0.0113, 0.0139]                      0.012545       0.025873\n",
      "(0.0139, 0.0171]                      0.015452       0.033782\n",
      "(0.0171, 0.0212]                      0.019045       0.041529\n",
      "(0.0212, 0.0266]                      0.023753       0.053612\n",
      "(0.0266, 0.0349]                      0.030444       0.069242\n",
      "(0.0349, 0.0501]                      0.041497       0.092995\n",
      "(0.0501, 0.655]                       0.080480       0.145655\n",
      "                                     RISK_SCORE  RISK_FSTQPD30\n",
      "RISK_SCORE                                                    \n",
      "(-0.00031800000000000003, 0.00667]   368.438707            617\n",
      "(0.00667, 0.00897]                   570.597212           1042\n",
      "(0.00897, 0.0113]                    734.840962           1379\n",
      "(0.0113, 0.0139]                     913.486153           1884\n",
      "(0.0139, 0.0171]                    1125.238382           2460\n",
      "(0.0171, 0.0212]                    1386.820884           3024\n",
      "(0.0212, 0.0266]                    1729.711800           3904\n",
      "(0.0266, 0.0349]                    2216.873287           5042\n",
      "(0.0349, 0.0501]                    3021.878764           6772\n",
      "(0.0501, 0.655]                     5860.259634          10606\n"
     ]
    }
   ],
   "source": [
    "## Bad rates in overall population \n",
    "cd=pd.DataFrame(df[['RISK_SCORE','RISK_FSTQPD30']]).sort_values(by=['RISK_SCORE'],ascending=False)\n",
    "print(\"\\nTotal bad :\",df['RISK_FSTQPD30'].sum())\n",
    "print(\"Bad captured in worst category :\",'{:,.2%}'.format(cd.groupby(pd.qcut(cd['RISK_SCORE'],10,duplicates='drop')).sum()['RISK_FSTQPD30'][-1]/df['RISK_FSTQPD30'].sum()))\n",
    "print(\"\\n\",cd.groupby(pd.qcut(cd['RISK_SCORE'],10,duplicates='drop')).mean())\n",
    "print(cd.groupby(pd.qcut(cd['RISK_SCORE'],10,duplicates='drop')).sum())"
   ]
  },
  {
   "cell_type": "code",
   "execution_count": 58,
   "metadata": {
    "scrolled": false
   },
   "outputs": [
    {
     "name": "stdout",
     "output_type": "stream",
     "text": [
      "Bad captured in worst category Partner Score test sample : 17.44%\n",
      "\n",
      "Total bads in test sample: 9884\n",
      "                    pred       act\n",
      "pred                              \n",
      "(0.481, 0.483]  0.482287  0.023081\n",
      "(0.483, 0.487]  0.484914  0.026206\n",
      "(0.487, 0.499]  0.491135  0.031500\n",
      "(0.499, 0.511]  0.506893  0.043806\n",
      "(0.511, 0.525]  0.517906  0.058003\n",
      "(0.525, 0.537]  0.530655  0.070604\n",
      "(0.537, 0.55]   0.544541  0.082554\n",
      "(0.55, 0.582]   0.553853  0.105051\n",
      "                        pred   act\n",
      "pred                              \n",
      "(0.481, 0.483]  30904.966797  1479\n",
      "(0.483, 0.487]   9658.994141   522\n",
      "(0.487, 0.499]  10321.703125   662\n",
      "(0.499, 0.511]   9407.424805   813\n",
      "(0.511, 0.525]  10723.760742  1201\n",
      "(0.525, 0.537]  10852.952148  1444\n",
      "(0.537, 0.55]   13449.610352  2039\n",
      "(0.55, 0.582]    9089.280273  1724\n"
     ]
    }
   ],
   "source": [
    "## Bad rates in overall population \n",
    "cdt=pd.DataFrame(outtest[['pred','act']])\n",
    "print(\"Bad captured in worst category Partner Score test sample :\",'{:,.2%}'.format(cdt.groupby(pd.qcut(cdt['pred'],10,duplicates='drop')).sum()['act'][-1]/cdt['act'].sum()))\n",
    "print(\"\\nTotal bads in test sample:\",cdt['act'].sum())\n",
    "print(cdt.groupby(pd.qcut(cdt['pred'],10,duplicates='drop')).mean())\n",
    "print(cdt.groupby(pd.qcut(cdt['pred'],10,duplicates='drop')).sum())"
   ]
  },
  {
   "cell_type": "code",
   "execution_count": 59,
   "metadata": {},
   "outputs": [],
   "source": [
    "## Pillar  approach to combine score\n",
    "hcc_score = 'RISK_SCORE'\n",
    "X_pillar_train = pd.DataFrame()\n",
    "X_pillar_test = pd.DataFrame()\n",
    "\n",
    "X_pillar_train[hcc_score]=df_train['RISK_SCORE']; \n",
    "X_pillar_test[hcc_score]=df_test['RISK_SCORE']\n",
    "\n",
    "X_pillar_train[\"XGB_SCORE\"] =  bst.predict_proba(df_train[selected_vars[0]], ntree_limit=bst.best_ntree_limit)[:, 1]\n",
    "X_pillar_test[\"XGB_SCORE\"]  =  bst.predict_proba(df_test[selected_vars[0]], ntree_limit=bst.best_ntree_limit)[:, 1]\n",
    "\n",
    "X_pillar_train[\"FSTQ\"] = df_train['RISK_FSTQPD30']\n",
    "X_pillar_test[\"FSTQ\"] = df_test['RISK_FSTQPD30']\n",
    "\n",
    "X_train_log = X_pillar_train.loc[pd.notnull(X_pillar_train[hcc_score]),['RISK_SCORE','XGB_SCORE']]\n",
    "y_train_log = X_pillar_train.loc[pd.notnull(X_pillar_train[hcc_score]),['FSTQ']]\n",
    "\n",
    "X_test_log = X_pillar_test.loc[pd.notnull(X_pillar_test[hcc_score]),['RISK_SCORE','XGB_SCORE']]\n",
    "y_test_log = X_pillar_test.loc[pd.notnull(X_pillar_test[hcc_score]),['FSTQ']]\n",
    "\n",
    "X_train_log = np.log((X_train_log + 1e-10).divide(1 - (X_train_log + 1e-10)))\n",
    "X_test_log = np.log((X_test_log + 1e-10).divide(1 - (X_test_log + 1e-10)))\n",
    "\n",
    "\n"
   ]
  },
  {
   "cell_type": "code",
   "execution_count": 60,
   "metadata": {},
   "outputs": [],
   "source": [
    "df[\"RISK_SCORE_LOG\"]= np.log((df[\"RISK_SCORE\"] + 1e-10).divide(1 - (df[\"RISK_SCORE\"] + 1e-10)))\n",
    "df[\"XGB_SCORE_LOG\"]= np.log((df[\"XGB_SCORE\"] + 1e-10).divide(1 - (df[\"XGB_SCORE\"] + 1e-10)))\n"
   ]
  },
  {
   "cell_type": "code",
   "execution_count": 61,
   "metadata": {
    "scrolled": true
   },
   "outputs": [
    {
     "name": "stderr",
     "output_type": "stream",
     "text": [
      "C:\\Users\\aman.khatri91425\\AppData\\Local\\Continuum\\anaconda3\\lib\\site-packages\\sklearn\\linear_model\\logistic.py:433: FutureWarning: Default solver will be changed to 'lbfgs' in 0.22. Specify a solver to silence this warning.\n",
      "  FutureWarning)\n",
      "C:\\Users\\aman.khatri91425\\AppData\\Local\\Continuum\\anaconda3\\lib\\site-packages\\sklearn\\linear_model\\logistic.py:1300: UserWarning: 'n_jobs' > 1 does not have any effect when 'solver' is set to 'liblinear'. Got 'n_jobs' = 8.\n",
      "  \" = {}.\".format(effective_n_jobs(self.n_jobs)))\n"
     ]
    }
   ],
   "source": [
    "logreg = LogisticRegression(C=11, n_jobs=cpu)\n",
    "\n",
    "# cross validation gini\n",
    "kfolds = StratifiedKFold(10, random_state=1)\n",
    "auc_cv = cross_val_score(logreg, X_train_log, np.ravel(y_train_log), scoring='roc_auc',\n",
    "                         cv=kfolds.split(X_test_log, np.ravel(y_test_log)), n_jobs=cpu)\n",
    "gini_cv = (2 * np.array(auc_cv) - 1).mean()\n",
    "\n",
    "logreg.fit(X_train_log, np.ravel(y_train_log))\n",
    "log_coef_tbl = pd.DataFrame({'predictor': ['intercept'] + X_train_log.columns.tolist(),\n",
    "                             'coefficient': list(logreg.intercept_) + list(logreg.coef_[0])})\n",
    "log_coef_tbl = log_coef_tbl[['predictor', 'coefficient']]"
   ]
  },
  {
   "cell_type": "code",
   "execution_count": 62,
   "metadata": {},
   "outputs": [
    {
     "data": {
      "text/html": [
       "<div>\n",
       "<style scoped>\n",
       "    .dataframe tbody tr th:only-of-type {\n",
       "        vertical-align: middle;\n",
       "    }\n",
       "\n",
       "    .dataframe tbody tr th {\n",
       "        vertical-align: top;\n",
       "    }\n",
       "\n",
       "    .dataframe thead th {\n",
       "        text-align: right;\n",
       "    }\n",
       "</style>\n",
       "<table border=\"1\" class=\"dataframe\">\n",
       "  <thead>\n",
       "    <tr style=\"text-align: right;\">\n",
       "      <th></th>\n",
       "      <th>predictor</th>\n",
       "      <th>coefficient</th>\n",
       "    </tr>\n",
       "  </thead>\n",
       "  <tbody>\n",
       "    <tr>\n",
       "      <th>0</th>\n",
       "      <td>intercept</td>\n",
       "      <td>-0.005764</td>\n",
       "    </tr>\n",
       "    <tr>\n",
       "      <th>1</th>\n",
       "      <td>RISK_SCORE</td>\n",
       "      <td>0.840345</td>\n",
       "    </tr>\n",
       "    <tr>\n",
       "      <th>2</th>\n",
       "      <td>XGB_SCORE</td>\n",
       "      <td>2.302188</td>\n",
       "    </tr>\n",
       "  </tbody>\n",
       "</table>\n",
       "</div>"
      ],
      "text/plain": [
       "    predictor  coefficient\n",
       "0   intercept    -0.005764\n",
       "1  RISK_SCORE     0.840345\n",
       "2   XGB_SCORE     2.302188"
      ]
     },
     "execution_count": 62,
     "metadata": {},
     "output_type": "execute_result"
    }
   ],
   "source": [
    "log_coef_tbl"
   ]
  },
  {
   "cell_type": "code",
   "execution_count": 63,
   "metadata": {},
   "outputs": [
    {
     "name": "stdout",
     "output_type": "stream",
     "text": [
      "GINI TRAIN: 0.46558474901578384\n",
      "GINI TEST: 0.4812596405818079\n",
      "GINI CV: 0.4427704634321007\n"
     ]
    }
   ],
   "source": [
    "## Model performance\n",
    "ypred_train_pillar = logreg.predict_proba(X_train_log)[:, 1]\n",
    "metric_auc_train_log = metrics.roc_auc_score(np.ravel(y_train_log), ypred_train_pillar)\n",
    "gini_train_pillar = 2 * metric_auc_train_log - 1\n",
    "ypred_test_pillar = logreg.predict_proba(X_test_log)[:, 1]\n",
    "metric_auc_test_log = metrics.roc_auc_score(np.ravel(y_test_log), ypred_test_pillar)\n",
    "gini_test_pillar = 2 * metric_auc_test_log - 1\n",
    "\n",
    "print(\"GINI TRAIN:\",gini_train_pillar )\n",
    "print(\"GINI TEST:\",gini_test_pillar )\n",
    "print(\"GINI CV:\",gini_cv)"
   ]
  },
  {
   "cell_type": "code",
   "execution_count": 64,
   "metadata": {},
   "outputs": [],
   "source": [
    "df[\"COMBINED_SCORE\"] = logreg.predict_proba(df[['RISK_SCORE_LOG', 'XGB_SCORE_LOG']])[:, 1]"
   ]
  },
  {
   "cell_type": "code",
   "execution_count": 65,
   "metadata": {},
   "outputs": [
    {
     "name": "stdout",
     "output_type": "stream",
     "text": [
      "COMBINED: 0.46893966563871814\n",
      "RISK: 0.4529856680350943\n",
      "XGB: 0.3170831048405971\n"
     ]
    }
   ],
   "source": [
    "print(\"COMBINED:\",2*metrics.roc_auc_score(df[\"RISK_FSTQPD30\"], df[\"COMBINED_SCORE\"])-1)\n",
    "print(\"RISK:\",2*metrics.roc_auc_score(df[\"RISK_FSTQPD30\"], df[\"RISK_SCORE\"])-1)\n",
    "print(\"XGB:\",2*metrics.roc_auc_score(df[\"RISK_FSTQPD30\"], df[\"XGB_SCORE\"])-1)\n"
   ]
  },
  {
   "cell_type": "code",
   "execution_count": 66,
   "metadata": {},
   "outputs": [],
   "source": [
    "df.to_pickle(os.getcwd()+\"\\scored_cd_exi_skp_client.pkl\")"
   ]
  },
  {
   "cell_type": "code",
   "execution_count": 67,
   "metadata": {},
   "outputs": [],
   "source": [
    "df.to_csv(os.getcwd()+\"\\scored_cd_exi_skp_client.csv\")"
   ]
  },
  {
   "cell_type": "code",
   "execution_count": 68,
   "metadata": {},
   "outputs": [
    {
     "name": "stderr",
     "output_type": "stream",
     "text": [
      "C:\\Users\\aman.khatri91425\\AppData\\Local\\Continuum\\anaconda3\\lib\\site-packages\\ipykernel_launcher.py:1: SettingWithCopyWarning: \n",
      "A value is trying to be set on a copy of a slice from a DataFrame.\n",
      "Try using .loc[row_indexer,col_indexer] = value instead\n",
      "\n",
      "See the caveats in the documentation: http://pandas.pydata.org/pandas-docs/stable/indexing.html#indexing-view-versus-copy\n",
      "  \"\"\"Entry point for launching an IPython kernel.\n"
     ]
    }
   ],
   "source": [
    "outtest1=df_train;  outtest1['pred']=ypred_train_pillar ; outtest1['act']=ypred ; \n",
    "# outtest1.to_csv(r\"clx\\\\comb_cd_fstq_clx_mix.csv\")"
   ]
  },
  {
   "cell_type": "code",
   "execution_count": 69,
   "metadata": {},
   "outputs": [
    {
     "name": "stdout",
     "output_type": "stream",
     "text": [
      "[[187468   8081]\n",
      " [  8490   1803]]\n"
     ]
    },
    {
     "data": {
      "text/plain": [
       "<matplotlib.axes._subplots.AxesSubplot at 0x2818eb117b8>"
      ]
     },
     "execution_count": 69,
     "metadata": {},
     "output_type": "execute_result"
    },
    {
     "data": {
      "image/png": "[encoded data removed]",
      "text/plain": [
       "<Figure size 432x288 with 1 Axes>"
      ]
     },
     "metadata": {
      "needs_background": "light"
     },
     "output_type": "display_data"
    }
   ],
   "source": [
    "#metrics calculation\n",
    "cutoff=np.percentile(ypred_test_pillar,95)\n",
    "ypred=pd.Series(ypred_test_pillar).apply(lambda x : 1 if x >cutoff else 0 )\n",
    "\n",
    "print(confusion_matrix(ypred,df_test['RISK_FSTQPD30'] ))\n",
    "pd.Series(ypred_test_pillar).plot.hist(bins=10, rwidth=0.9 ,color='#607c8e')"
   ]
  },
  {
   "cell_type": "code",
   "execution_count": 70,
   "metadata": {},
   "outputs": [
    {
     "name": "stdout",
     "output_type": "stream",
     "text": [
      "\n",
      " Log Loss is : 0.17572406924829995\n",
      "Average precision-recall score: 0.13\n"
     ]
    }
   ],
   "source": [
    "print(\"\\n Log Loss is :\",log_loss(df_test['RISK_FSTQPD30'], ypred_test_pillar))\n",
    "print('Average precision-recall score: {0:0.2f}'.format(average_precision_score(df_test['RISK_FSTQPD30'], ypred_test_pillar)))"
   ]
  },
  {
   "cell_type": "code",
   "execution_count": 71,
   "metadata": {},
   "outputs": [
    {
     "data": {
      "text/plain": [
       "205842"
      ]
     },
     "execution_count": 71,
     "metadata": {},
     "output_type": "execute_result"
    }
   ],
   "source": [
    "len(ypred_test_pillar)"
   ]
  },
  {
   "cell_type": "code",
   "execution_count": 72,
   "metadata": {},
   "outputs": [
    {
     "data": {
      "image/png": "[encoded data removed]",
      "text/plain": [
       "<Figure size 432x288 with 1 Axes>"
      ]
     },
     "metadata": {
      "needs_background": "light"
     },
     "output_type": "display_data"
    }
   ],
   "source": [
    "## PRC curve\n",
    "#precision, recall, _ = precision_recall_curve(ypred, ypred_test_pillar)\n",
    "\n",
    "# step_kwargs = ({'step': 'post'}\n",
    "#                #if 'step' in signature(plt.fill_between).parameters\n",
    "#                #else {}\n",
    "#               )\n",
    "# plt.step(recall, precision, color='b', alpha=0.2, where='post')\n",
    "# plt.fill_between(recall, precision, alpha=0.2, color='b', **step_kwargs)\n",
    "\n",
    "# plt.xlabel('Recall')\n",
    "# plt.ylabel('Precision')\n",
    "# plt.ylim([0.0, 0.5])\n",
    "# plt.xlim([0.0, 0.5])\n",
    "# plt.title('2-class Precision-Recall curve: AP={0:0.2f}'.format(average_precision_score(test['RISK_FSTQPD30'], ypred_test_pillar)))\n",
    "\n",
    "# # calculate precision-recall AUC\n",
    "# auc_pr = auc(recall, precision)\n",
    "# print(\"\\n AUC for precision-recall :\",auc_pr)\n",
    "\n",
    "# Compute micro-average ROC curve and ROC area\n",
    "fprhc, tprhc, thresholds = roc_curve(df_test['RISK_FSTQPD30'], df_test['RISK_SCORE'].ravel())\n",
    "roc_auchc = auc(fprhc, tprhc)\n",
    "\n",
    "fprc, tprc, thresholds = roc_curve(df_test['RISK_FSTQPD30'], ypred_test_pillar.ravel())\n",
    "roc_aucc = auc(fprc, tprc)\n",
    "\n",
    "plt.figure()\n",
    "lw = 1\n",
    "plt.plot(fprc, tprc, lw=lw, label='ROC Comb (area = %0.2f)' % roc_aucc)\n",
    "plt.plot(fprhc, tprhc, lw=lw, label='ROC HC (area = %0.2f)' % roc_auchc)\n",
    "plt.plot([0, 1], [0, 1], color='navy', lw=lw, linestyle='--')\n",
    "plt.plot(fpr, tpr, lw=lw, label='ROC partner (area = %0.2f)' % roc_auc)\n",
    "plt.xlim([0.0, 1.0])\n",
    "plt.ylim([0.0, 1.05])\n",
    "plt.xlabel('False Positive Rate')\n",
    "plt.ylabel('True Positive Rate')\n",
    "plt.title('Receiver operating characteristic example')\n",
    "plt.legend(loc=\"lower right\")\n",
    "plt.show()"
   ]
  },
  {
   "cell_type": "code",
   "execution_count": 73,
   "metadata": {},
   "outputs": [
    {
     "name": "stderr",
     "output_type": "stream",
     "text": [
      "C:\\Users\\aman.khatri91425\\AppData\\Local\\Continuum\\anaconda3\\lib\\site-packages\\ipykernel_launcher.py:3: RuntimeWarning: invalid value encountered in double_scalars\n",
      "  This is separate from the ipykernel package so we can avoid doing imports until\n"
     ]
    },
    {
     "name": "stdout",
     "output_type": "stream",
     "text": [
      "Bad captured in worst category Partner Score test sample : nan%\n",
      "\n",
      "Total bads in test sample: 0.0\n",
      "                                     pred  act\n",
      "pred                                          \n",
      "(0.0010899999999999998, 0.0137]  0.010630  NaN\n",
      "(0.0137, 0.0181]                 0.015897  NaN\n",
      "(0.0181, 0.0229]                 0.020434  NaN\n",
      "(0.0229, 0.0288]                 0.025751  NaN\n",
      "(0.0288, 0.0362]                 0.032357  NaN\n",
      "(0.0362, 0.0456]                 0.040709  NaN\n",
      "(0.0456, 0.0582]                 0.051623  NaN\n",
      "(0.0582, 0.0764]                 0.066665  NaN\n",
      "(0.0764, 0.108]                  0.090299  NaN\n",
      "(0.108, 0.706]                   0.159582  NaN\n",
      "                                        pred  act\n",
      "pred                                             \n",
      "(0.0010899999999999998, 0.0137]   555.266452  0.0\n",
      "(0.0137, 0.0181]                  830.388555  0.0\n",
      "(0.0181, 0.0229]                 1067.321130  0.0\n",
      "(0.0229, 0.0288]                 1345.079482  0.0\n",
      "(0.0288, 0.0362]                 1690.186434  0.0\n",
      "(0.0362, 0.0456]                 2126.393562  0.0\n",
      "(0.0456, 0.0582]                 2696.464852  0.0\n",
      "(0.0582, 0.0764]                 3482.155893  0.0\n",
      "(0.0764, 0.108]                  4716.654206  0.0\n",
      "(0.108, 0.706]                   8335.750796  0.0\n"
     ]
    }
   ],
   "source": [
    "## Bad rates combined score in overall population \n",
    "cdt=pd.DataFrame(outtest1[['pred','act']])\n",
    "print(\"Bad captured in worst category Partner Score test sample :\",'{:,.2%}'.format(cdt.groupby(pd.qcut(cdt['pred'],10,duplicates='drop')).sum()['act'][-1]/cdt['act'].sum()))\n",
    "print(\"\\nTotal bads in test sample:\",cdt['act'].sum())\n",
    "print(cdt.groupby(pd.qcut(cdt['pred'],10,duplicates='drop')).mean())\n",
    "print(cdt.groupby(pd.qcut(cdt['pred'],10,duplicates='drop')).sum())"
   ]
  },
  {
   "cell_type": "code",
   "execution_count": null,
   "metadata": {},
   "outputs": [],
   "source": []
  }
 ],
 "metadata": {
  "kernelspec": {
   "display_name": "Python 3",
   "language": "python",
   "name": "python3"
  },
  "language_info": {
   "codemirror_mode": {
    "name": "ipython",
    "version": 3
   },
   "file_extension": ".py",
   "mimetype": "text/x-python",
   "name": "python",
   "nbconvert_exporter": "python",
   "pygments_lexer": "ipython3",
   "version": "3.7.3"
  }
 },
 "nbformat": 4,
 "nbformat_minor": 2
}
