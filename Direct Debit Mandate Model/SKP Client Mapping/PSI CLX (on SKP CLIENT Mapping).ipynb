{
 "cells": [
  {
   "cell_type": "code",
   "execution_count": 98,
   "metadata": {},
   "outputs": [],
   "source": [
    "import xgboost as xgb\n",
    "import numpy as np\n",
    "import pandas as pd\n",
    "import time\n",
    "import pickle\n",
    "import os\n",
    "from math import log\n",
    "import matplotlib.pyplot as plt\n",
    "import seaborn as sns\n",
    "\n",
    "import sklearn\n",
    "from sklearn.model_selection import train_test_split, GridSearchCV, RandomizedSearchCV, ParameterGrid,StratifiedKFold, cross_val_score\n",
    "\n",
    "from sklearn import metrics \n",
    "from sklearn.metrics import confusion_matrix, precision_recall_curve, average_precision_score, brier_score_loss, f1_score, log_loss,auc,roc_curve,auc\n",
    "\n",
    "from sklearn.linear_model import LogisticRegression, LogisticRegressionCV\n",
    "from sklearn.ensemble import RandomForestClassifier\n",
    "\n",
    "from sklearn.decomposition import PCA\n",
    "#from sklearn.utils.fixes import signature\n",
    "\n",
    "from datetime import datetime\n",
    "\n",
    "import warnings\n",
    "warnings.filterwarnings(\"ignore\", category=DeprecationWarning)"
   ]
  },
  {
   "cell_type": "code",
   "execution_count": 44,
   "metadata": {},
   "outputs": [],
   "source": [
    "os.chdir(r\"C:\\Users\\aman.khatri91425\\Desktop\\HomeCredit\\Bigdata\\Techprocess Alternate\")"
   ]
  },
  {
   "cell_type": "code",
   "execution_count": 70,
   "metadata": {},
   "outputs": [],
   "source": [
    "##read datasets\n",
    "df=pd.read_csv(os.getcwd()+r\"\\Data Files\\ddm2_skp_client_final.csv\")\n",
    "df = pd.concat([df,pd.read_csv(os.getcwd()+r\"\\Data Files\\clx psi remaining.csv\")])\n"
   ]
  },
  {
   "cell_type": "code",
   "execution_count": 71,
   "metadata": {},
   "outputs": [
    {
     "data": {
      "text/html": [
       "<div>\n",
       "<style scoped>\n",
       "    .dataframe tbody tr th:only-of-type {\n",
       "        vertical-align: middle;\n",
       "    }\n",
       "\n",
       "    .dataframe tbody tr th {\n",
       "        vertical-align: top;\n",
       "    }\n",
       "\n",
       "    .dataframe thead th {\n",
       "        text-align: right;\n",
       "    }\n",
       "</style>\n",
       "<table border=\"1\" class=\"dataframe\">\n",
       "  <thead>\n",
       "    <tr style=\"text-align: right;\">\n",
       "      <th></th>\n",
       "      <th>SKP_CREDIT_CASE</th>\n",
       "      <th>TIME_DECISION_DATE</th>\n",
       "      <th>RISK_AGRF180</th>\n",
       "      <th>RISK_FPD30</th>\n",
       "      <th>RISK_FSPD30</th>\n",
       "      <th>RISK_FSTPD30</th>\n",
       "      <th>RISK_FSTQPD30</th>\n",
       "      <th>RISK_FSTQPD60</th>\n",
       "      <th>PRODUCT_GROUP</th>\n",
       "      <th>NTC_FLAG</th>\n",
       "      <th>...</th>\n",
       "      <th>CODE_4</th>\n",
       "      <th>AMT_4</th>\n",
       "      <th>DATE_5</th>\n",
       "      <th>REASON_5</th>\n",
       "      <th>CODE_5</th>\n",
       "      <th>AMT_5</th>\n",
       "      <th>DATE_6</th>\n",
       "      <th>REASON_6</th>\n",
       "      <th>CODE_6</th>\n",
       "      <th>AMT_6</th>\n",
       "    </tr>\n",
       "  </thead>\n",
       "  <tbody>\n",
       "    <tr>\n",
       "      <th>0</th>\n",
       "      <td>288766471</td>\n",
       "      <td>25-12-19</td>\n",
       "      <td>1</td>\n",
       "      <td>0</td>\n",
       "      <td>0</td>\n",
       "      <td>0</td>\n",
       "      <td>0</td>\n",
       "      <td>0</td>\n",
       "      <td>CL</td>\n",
       "      <td>Others</td>\n",
       "      <td>...</td>\n",
       "      <td>Debited</td>\n",
       "      <td>3849.0</td>\n",
       "      <td>07-08-18</td>\n",
       "      <td>0</td>\n",
       "      <td>Debited</td>\n",
       "      <td>3849.0</td>\n",
       "      <td>07-07-18</td>\n",
       "      <td>0</td>\n",
       "      <td>Debited</td>\n",
       "      <td>3849.0</td>\n",
       "    </tr>\n",
       "    <tr>\n",
       "      <th>1</th>\n",
       "      <td>288417797</td>\n",
       "      <td>22-12-19</td>\n",
       "      <td>1</td>\n",
       "      <td>0</td>\n",
       "      <td>0</td>\n",
       "      <td>0</td>\n",
       "      <td>0</td>\n",
       "      <td>0</td>\n",
       "      <td>CL</td>\n",
       "      <td>Others</td>\n",
       "      <td>...</td>\n",
       "      <td>NaN</td>\n",
       "      <td>NaN</td>\n",
       "      <td>NaN</td>\n",
       "      <td>NaN</td>\n",
       "      <td>NaN</td>\n",
       "      <td>NaN</td>\n",
       "      <td>NaN</td>\n",
       "      <td>NaN</td>\n",
       "      <td>NaN</td>\n",
       "      <td>NaN</td>\n",
       "    </tr>\n",
       "    <tr>\n",
       "      <th>2</th>\n",
       "      <td>288156237</td>\n",
       "      <td>20-12-19</td>\n",
       "      <td>1</td>\n",
       "      <td>0</td>\n",
       "      <td>0</td>\n",
       "      <td>0</td>\n",
       "      <td>0</td>\n",
       "      <td>0</td>\n",
       "      <td>CD</td>\n",
       "      <td>Others</td>\n",
       "      <td>...</td>\n",
       "      <td>Debited</td>\n",
       "      <td>2427.0</td>\n",
       "      <td>06-09-18</td>\n",
       "      <td>0</td>\n",
       "      <td>Debited</td>\n",
       "      <td>2427.0</td>\n",
       "      <td>26-07-17</td>\n",
       "      <td>0</td>\n",
       "      <td>Debited</td>\n",
       "      <td>1229.0</td>\n",
       "    </tr>\n",
       "    <tr>\n",
       "      <th>3</th>\n",
       "      <td>286163447</td>\n",
       "      <td>05-12-19</td>\n",
       "      <td>1</td>\n",
       "      <td>0</td>\n",
       "      <td>0</td>\n",
       "      <td>0</td>\n",
       "      <td>0</td>\n",
       "      <td>0</td>\n",
       "      <td>CD</td>\n",
       "      <td>Others</td>\n",
       "      <td>...</td>\n",
       "      <td>Undebited</td>\n",
       "      <td>2754.0</td>\n",
       "      <td>19-11-17</td>\n",
       "      <td>Balance Insufficient</td>\n",
       "      <td>Undebited</td>\n",
       "      <td>1011.0</td>\n",
       "      <td>19-10-17</td>\n",
       "      <td>Balance Insufficient</td>\n",
       "      <td>Undebited</td>\n",
       "      <td>1013.0</td>\n",
       "    </tr>\n",
       "    <tr>\n",
       "      <th>4</th>\n",
       "      <td>286163445</td>\n",
       "      <td>05-12-19</td>\n",
       "      <td>1</td>\n",
       "      <td>0</td>\n",
       "      <td>0</td>\n",
       "      <td>0</td>\n",
       "      <td>0</td>\n",
       "      <td>0</td>\n",
       "      <td>CD</td>\n",
       "      <td>Others</td>\n",
       "      <td>...</td>\n",
       "      <td>Debited</td>\n",
       "      <td>1558.0</td>\n",
       "      <td>28-03-17</td>\n",
       "      <td>0</td>\n",
       "      <td>Debited</td>\n",
       "      <td>1558.0</td>\n",
       "      <td>28-02-17</td>\n",
       "      <td>0</td>\n",
       "      <td>Debited</td>\n",
       "      <td>1556.0</td>\n",
       "    </tr>\n",
       "  </tbody>\n",
       "</table>\n",
       "<p>5 rows × 36 columns</p>\n",
       "</div>"
      ],
      "text/plain": [
       "   SKP_CREDIT_CASE TIME_DECISION_DATE  RISK_AGRF180  RISK_FPD30  RISK_FSPD30  \\\n",
       "0        288766471           25-12-19             1           0            0   \n",
       "1        288417797           22-12-19             1           0            0   \n",
       "2        288156237           20-12-19             1           0            0   \n",
       "3        286163447           05-12-19             1           0            0   \n",
       "4        286163445           05-12-19             1           0            0   \n",
       "\n",
       "   RISK_FSTPD30  RISK_FSTQPD30  RISK_FSTQPD60 PRODUCT_GROUP NTC_FLAG  ...  \\\n",
       "0             0              0              0            CL   Others  ...   \n",
       "1             0              0              0            CL   Others  ...   \n",
       "2             0              0              0            CD   Others  ...   \n",
       "3             0              0              0            CD   Others  ...   \n",
       "4             0              0              0            CD   Others  ...   \n",
       "\n",
       "      CODE_4   AMT_4    DATE_5              REASON_5     CODE_5   AMT_5  \\\n",
       "0    Debited  3849.0  07-08-18                     0    Debited  3849.0   \n",
       "1        NaN     NaN       NaN                   NaN        NaN     NaN   \n",
       "2    Debited  2427.0  06-09-18                     0    Debited  2427.0   \n",
       "3  Undebited  2754.0  19-11-17  Balance Insufficient  Undebited  1011.0   \n",
       "4    Debited  1558.0  28-03-17                     0    Debited  1558.0   \n",
       "\n",
       "     DATE_6              REASON_6     CODE_6   AMT_6  \n",
       "0  07-07-18                     0    Debited  3849.0  \n",
       "1       NaN                   NaN        NaN     NaN  \n",
       "2  26-07-17                     0    Debited  1229.0  \n",
       "3  19-10-17  Balance Insufficient  Undebited  1013.0  \n",
       "4  28-02-17                     0    Debited  1556.0  \n",
       "\n",
       "[5 rows x 36 columns]"
      ]
     },
     "execution_count": 71,
     "metadata": {},
     "output_type": "execute_result"
    }
   ],
   "source": [
    "df.head()"
   ]
  },
  {
   "cell_type": "code",
   "execution_count": 72,
   "metadata": {},
   "outputs": [],
   "source": [
    "coding_dict={'Balance Insufficient':'WILLFULL DEFAULTS',\n",
    "'CLEARED BAL/FUNDS/DP NOT AVAILABLE.CARE! ACCT WILL BE OVERDRAWN                               000000':'WILLFULL DEFAULTS',\n",
    "'DP NOT AVAILABLE. ACCT CANNOT BE OVERDRAWN':'WILLFULL DEFAULTS',\n",
    "'CLEARED BAL/FUNDS/DP NOT AVAILABLE.CARE! ACCT WILL BE OVERDRAWN':'WILLFULL DEFAULTS',\n",
    "'ACCT HAS HOLD. INSUFFICIENT FREE BAL FOR TXN':'WILLFULL DEFAULTS',\n",
    "'INSUFFICIENT FUNDS':'WILLFULL DEFAULTS',\n",
    "'CODE_DDS_ERROR_REASON':'PROCESS ISSUE',\n",
    "'A/C Blocked or Frozen':'PROCESS ISSUE',\n",
    "'Miscellaneous-Dormant A/c(No t':'PROCESS ISSUE',\n",
    "'Miscellaneous-Dormant A/c(No':'PROCESS ISSUE',\n",
    "'UMRN QUOTED IN FILE IS NOT VALID':'PROCESS ISSUE',\n",
    "'NON-Home debit txn on Inoperative/Unclaimed a/c NOT allowed':'PROCESS ISSUE',\n",
    "'Invalid UMRN or inactive man':'PROCESS ISSUE',\n",
    "'ACCOUNT CLOSED':'PROCESS ISSUE',\n",
    "'PERIDICITY FOR MANDATE RECORD IS OVER':'PROCESS ISSUE',\n",
    "'Settlement Date before manda':'PROCESS ISSUE',\n",
    "'Invalid UMRN or inactive mandate':'PROCESS ISSUE',\n",
    "'MANDATE REJECT: No Signature in CBS':'PROCESS ISSUE',\n",
    "'Mismatch in mandate debtor b':'PROCESS ISSUE',\n",
    "'MANDATE RECORD IS NOT AUTHORISED':'PROCESS ISSUE',\n",
    "'Invalid Bank Identifier - Rece':'PROCESS ISSUE',\n",
    "'Miscellaneous-Network Failure(':'PROCESS ISSUE',\n",
    "'Mandate Not Received/UMRN Do':'PROCESS ISSUE',\n",
    "'Invalid Bank Identifier - Receiving participant blocked/disabled':'PROCESS ISSUE',\n",
    "'Mismatch in Mandate Debtor A':'PROCESS ISSUE',\n",
    "'Mandate Not Received/UMRN Does not EXist':'PROCESS ISSUE',\n",
    "'Miscellaneous-Dormant A/c(No transaction for last six months':'PROCESS ISSUE',\n",
    "'0':'DEBITED',\n",
    "'XNA':'DEBITED',\n",
    "            }"
   ]
  },
  {
   "cell_type": "code",
   "execution_count": 73,
   "metadata": {},
   "outputs": [],
   "source": [
    "def encoding(x):\n",
    "    try:\n",
    "        return(coding_dict[x])\n",
    "    except:\n",
    "        return (\"Others\")"
   ]
  },
  {
   "cell_type": "code",
   "execution_count": 74,
   "metadata": {},
   "outputs": [],
   "source": [
    "df[\"REASON_1_ENCODED\"]= df[\"REASON_1\"].apply(encoding)\n",
    "df[\"REASON_2_ENCODED\"]= df[\"REASON_2\"].apply(encoding)\n",
    "df[\"REASON_3_ENCODED\"]= df[\"REASON_3\"].apply(encoding)\n",
    "df[\"REASON_4_ENCODED\"]= df[\"REASON_4\"].apply(encoding)\n",
    "df[\"REASON_5_ENCODED\"]= df[\"REASON_5\"].apply(encoding)\n",
    "df[\"REASON_6_ENCODED\"]= df[\"REASON_6\"].apply(encoding)\n"
   ]
  },
  {
   "cell_type": "code",
   "execution_count": 75,
   "metadata": {},
   "outputs": [
    {
     "data": {
      "text/plain": [
       "Index(['SKP_CREDIT_CASE', 'TIME_DECISION_DATE', 'RISK_AGRF180', 'RISK_FPD30',\n",
       "       'RISK_FSPD30', 'RISK_FSTPD30', 'RISK_FSTQPD30', 'RISK_FSTQPD60',\n",
       "       'PRODUCT_GROUP', 'NTC_FLAG', 'RISK_SCORE', 'AMT_DIRECT_DEBIT_STATEMENT',\n",
       "       'DATE_1', 'REASON_1', 'CODE_1', 'AMT_1', 'DATE_2', 'REASON_2', 'CODE_2',\n",
       "       'AMT_2', 'DATE_3', 'REASON_3', 'CODE_3', 'AMT_3', 'DATE_4', 'REASON_4',\n",
       "       'CODE_4', 'AMT_4', 'DATE_5', 'REASON_5', 'CODE_5', 'AMT_5', 'DATE_6',\n",
       "       'REASON_6', 'CODE_6', 'AMT_6', 'REASON_1_ENCODED', 'REASON_2_ENCODED',\n",
       "       'REASON_3_ENCODED', 'REASON_4_ENCODED', 'REASON_5_ENCODED',\n",
       "       'REASON_6_ENCODED'],\n",
       "      dtype='object')"
      ]
     },
     "execution_count": 75,
     "metadata": {},
     "output_type": "execute_result"
    }
   ],
   "source": [
    "df.columns"
   ]
  },
  {
   "cell_type": "code",
   "execution_count": 76,
   "metadata": {},
   "outputs": [],
   "source": [
    "df.dropna(subset=['RISK_SCORE'],inplace=True)"
   ]
  },
  {
   "cell_type": "code",
   "execution_count": 77,
   "metadata": {},
   "outputs": [],
   "source": [
    "df = df[(df[\"PRODUCT_GROUP\"]==\"CL\")]"
   ]
  },
  {
   "cell_type": "code",
   "execution_count": 78,
   "metadata": {},
   "outputs": [
    {
     "data": {
      "text/plain": [
       "<matplotlib.axes._subplots.AxesSubplot at 0x20049b263c8>"
      ]
     },
     "execution_count": 78,
     "metadata": {},
     "output_type": "execute_result"
    },
    {
     "data": {
      "image/png": "[encoded data removed]",
      "text/plain": [
       "<Figure size 432x288 with 1 Axes>"
      ]
     },
     "metadata": {
      "needs_background": "light"
     },
     "output_type": "display_data"
    }
   ],
   "source": [
    "# Check distribution of scores\n",
    "pd.Series(df['RISK_SCORE']).plot.hist(bins=10, range=(0,0.08) ,color='#607c8e')"
   ]
  },
  {
   "cell_type": "code",
   "execution_count": 79,
   "metadata": {},
   "outputs": [],
   "source": [
    "df[\"TIME_DECISION_DATE\"] = pd.to_datetime(df[\"TIME_DECISION_DATE\"],format ='%d-%m-%y')\n",
    "\n",
    "df[\"MONTH\"]= df[\"TIME_DECISION_DATE\"].dt.strftime(\"%y-%m\")"
   ]
  },
  {
   "cell_type": "code",
   "execution_count": 80,
   "metadata": {},
   "outputs": [],
   "source": [
    "df_summ = df.groupby(\"MONTH\").aggregate([\"count\",\"sum\"])[\"RISK_FSTQPD30\"]\n",
    "df_summ[\"bad_rate\"] = df_summ[\"sum\"]/df_summ[\"count\"]"
   ]
  },
  {
   "cell_type": "code",
   "execution_count": 81,
   "metadata": {},
   "outputs": [
    {
     "data": {
      "image/png": "[encoded data removed]",
      "text/plain": [
       "<Figure size 1080x288 with 2 Axes>"
      ]
     },
     "metadata": {
      "needs_background": "light"
     },
     "output_type": "display_data"
    }
   ],
   "source": [
    "df_summ[['sum','count']].plot(kind='bar', width = 0.8, figsize=(15,4))\n",
    "df_summ['bad_rate'].plot(secondary_y=True)\n",
    "\n",
    "ax = plt.gca()\n",
    "plt.xlim([-0.35, len(df_summ['sum'])-0.35])\n",
    "ax.set_xticklabels(df_summ.index)\n",
    "plt.ylim\n",
    "fig = ax.get_figure()\n",
    "ax = fig.get_axes()\n",
    "ax[1].set_ylim(0,0.15)\n",
    "ax[0].legend(['CD_Contracts','CD_Defaults'])\n",
    "ax[1].legend([\"Default Rate\"], loc = \"center right\")\n",
    "\n",
    "\n",
    "plt.show()\n"
   ]
  },
  {
   "cell_type": "code",
   "execution_count": 82,
   "metadata": {},
   "outputs": [],
   "source": [
    "df[\"DATE_1\"] = pd.to_datetime(df[\"DATE_1\"],format ='%d-%m-%y')\n",
    "df[\"DATE_2\"] = pd.to_datetime(df[\"DATE_2\"],format ='%d-%m-%y')\n",
    "df[\"DATE_3\"] = pd.to_datetime(df[\"DATE_3\"],format ='%d-%m-%y')\n",
    "df[\"DATE_4\"] = pd.to_datetime(df[\"DATE_4\"],format ='%d-%m-%y')\n",
    "df[\"DATE_5\"] = pd.to_datetime(df[\"DATE_5\"],format ='%d-%m-%y')\n",
    "df[\"DATE_6\"] = pd.to_datetime(df[\"DATE_6\"],format ='%d-%m-%y')"
   ]
  },
  {
   "cell_type": "code",
   "execution_count": 83,
   "metadata": {},
   "outputs": [],
   "source": [
    "#Tenure Variables \n",
    "df[\"TENURE1\"] = (df[\"TIME_DECISION_DATE\"]-df[\"DATE_1\"]).dt.days\n",
    "df[\"TENURE2\"] = (df[\"TIME_DECISION_DATE\"]-df[\"DATE_2\"]).dt.days\n",
    "df[\"TENURE3\"] = (df[\"TIME_DECISION_DATE\"]-df[\"DATE_3\"]).dt.days\n",
    "df[\"TENURE4\"] = (df[\"TIME_DECISION_DATE\"]-df[\"DATE_4\"]).dt.days\n",
    "df[\"TENURE5\"] = (df[\"TIME_DECISION_DATE\"]-df[\"DATE_5\"]).dt.days\n",
    "df[\"TENURE6\"] = (df[\"TIME_DECISION_DATE\"]-df[\"DATE_6\"]).dt.days\n",
    "\n",
    "\n"
   ]
  },
  {
   "cell_type": "code",
   "execution_count": 84,
   "metadata": {},
   "outputs": [],
   "source": [
    "#One Hot Encoding\n",
    "df_encoded = df\n",
    "for x in [\"CODE_1\",\"CODE_2\",\"CODE_3\",\"CODE_4\",\"CODE_5\",\"CODE_6\",'REASON_1_ENCODED', 'REASON_2_ENCODED',\n",
    "       'REASON_3_ENCODED', 'REASON_4_ENCODED', 'REASON_5_ENCODED',\n",
    "       'REASON_6_ENCODED']:\n",
    "    \n",
    "    dummy = pd.get_dummies(df_encoded[x])\n",
    "    dummy.columns = [y+\"_\"+x for y in dummy.columns]\n",
    "    df_encoded = pd.concat([df_encoded, dummy], axis=1)"
   ]
  },
  {
   "cell_type": "code",
   "execution_count": 85,
   "metadata": {},
   "outputs": [],
   "source": [
    "df = df_encoded"
   ]
  },
  {
   "cell_type": "code",
   "execution_count": 86,
   "metadata": {},
   "outputs": [],
   "source": [
    "x_column = ['AMT_DIRECT_DEBIT_STATEMENT','TENURE1', 'TENURE2', 'TENURE3', 'TENURE4',\n",
    "       'TENURE5', 'TENURE6', 'Debited_CODE_1', 'Posted_CODE_1',\n",
    "       'Undebited_CODE_1', 'Debited_CODE_2', 'Posted_CODE_2',\n",
    "       'Undebited_CODE_2', 'Debited_CODE_3', 'Posted_CODE_3',\n",
    "       'Undebited_CODE_3', 'Debited_CODE_4', 'Posted_CODE_4',\n",
    "       'Undebited_CODE_4', 'Debited_CODE_5', 'Posted_CODE_5',\n",
    "       'Undebited_CODE_5', 'Debited_CODE_6', 'Posted_CODE_6',\n",
    "       'Undebited_CODE_6', 'DEBITED_REASON_1_ENCODED',\n",
    "       'Others_REASON_1_ENCODED', 'PROCESS ISSUE_REASON_1_ENCODED',\n",
    "       'WILLFULL DEFAULTS_REASON_1_ENCODED', 'DEBITED_REASON_2_ENCODED',\n",
    "       'Others_REASON_2_ENCODED', 'PROCESS ISSUE_REASON_2_ENCODED',\n",
    "       'WILLFULL DEFAULTS_REASON_2_ENCODED', 'DEBITED_REASON_3_ENCODED',\n",
    "       'Others_REASON_3_ENCODED', 'PROCESS ISSUE_REASON_3_ENCODED',\n",
    "       'WILLFULL DEFAULTS_REASON_3_ENCODED', 'DEBITED_REASON_4_ENCODED',\n",
    "       'Others_REASON_4_ENCODED', 'PROCESS ISSUE_REASON_4_ENCODED',\n",
    "       'WILLFULL DEFAULTS_REASON_4_ENCODED', 'DEBITED_REASON_5_ENCODED',\n",
    "       'Others_REASON_5_ENCODED', 'PROCESS ISSUE_REASON_5_ENCODED',\n",
    "       'WILLFULL DEFAULTS_REASON_5_ENCODED', 'DEBITED_REASON_6_ENCODED',\n",
    "       'Others_REASON_6_ENCODED', 'PROCESS ISSUE_REASON_6_ENCODED',\n",
    "       'WILLFULL DEFAULTS_REASON_6_ENCODED','RISK_SCORE']\n",
    "y_column = 'RISK_FSTQPD30'"
   ]
  },
  {
   "cell_type": "code",
   "execution_count": 87,
   "metadata": {},
   "outputs": [],
   "source": [
    "selected_vars = [['AMT_DIRECT_DEBIT_STATEMENT',\n",
    "  'TENURE6',\n",
    "  'TENURE5',\n",
    "  'TENURE2',\n",
    "  'TENURE3',\n",
    "  'TENURE1',\n",
    "  'TENURE4',\n",
    "  'WILLFULL DEFAULTS_REASON_1_ENCODED',\n",
    "  'DEBITED_REASON_4_ENCODED',\n",
    "  'Undebited_CODE_1',\n",
    "  'Undebited_CODE_2',\n",
    "  'DEBITED_REASON_2_ENCODED',\n",
    "  'DEBITED_REASON_6_ENCODED',\n",
    "  'WILLFULL DEFAULTS_REASON_3_ENCODED']]"
   ]
  },
  {
   "cell_type": "code",
   "execution_count": 88,
   "metadata": {},
   "outputs": [],
   "source": [
    "## read the model \n",
    "# pickle.dump(bst, open(os.getcwd()+r\"\\model_clx_skp_client\", \"wb\"))\n",
    "bst = pickle.load(open(os.getcwd()+r\"\\model_clx_skp_client\", 'rb'))\n"
   ]
  },
  {
   "cell_type": "code",
   "execution_count": 89,
   "metadata": {},
   "outputs": [],
   "source": [
    "df[\"XGB_SCORE\"] = bst.predict_proba(df[selected_vars[0]], ntree_limit=bst.best_ntree_limit)[:, 1]"
   ]
  },
  {
   "cell_type": "code",
   "execution_count": 99,
   "metadata": {},
   "outputs": [],
   "source": [
    "sns.set_style(\"white\")\n",
    "\n",
    "initial = df[df[\"TIME_DECISION_DATE\"]<pd.datetime(2020,1,1)][\"XGB_SCORE\"]\n",
    "new = df[df[\"TIME_DECISION_DATE\"]>=pd.datetime(2020,1,1)][\"XGB_SCORE\"]"
   ]
  },
  {
   "cell_type": "code",
   "execution_count": 103,
   "metadata": {},
   "outputs": [
    {
     "data": {
      "image/png": "[encoded data removed]",
      "text/plain": [
       "<Figure size 432x288 with 1 Axes>"
      ]
     },
     "metadata": {},
     "output_type": "display_data"
    }
   ],
   "source": [
    "plot = sns.kdeplot(initial, shade=True, label = 'Training')\n",
    "plot = sns.kdeplot(new, shade=True, label = 'Jan20-Mar20')\n",
    "plot.set(yticklabels=[], xticklabels = [])\n",
    "sns.despine(left=True)"
   ]
  },
  {
   "cell_type": "code",
   "execution_count": 104,
   "metadata": {},
   "outputs": [],
   "source": [
    "def scale_range (input, min, max):\n",
    "    input += -(np.min(input))\n",
    "    input /= np.max(input) / (max - min)\n",
    "    input += min\n",
    "    return input\n",
    "\n",
    "buckets = 10\n",
    "raw_breakpoints = np.arange(0, buckets + 1) / (buckets) * 100\n",
    "breakpoints = scale_range(raw_breakpoints, np.min(initial), np.max(initial))"
   ]
  },
  {
   "cell_type": "code",
   "execution_count": 105,
   "metadata": {},
   "outputs": [],
   "source": [
    "initial_counts = np.histogram(initial, breakpoints)[0]\n",
    "new_counts = np.histogram(new, breakpoints)[0]"
   ]
  },
  {
   "cell_type": "code",
   "execution_count": 106,
   "metadata": {},
   "outputs": [],
   "source": [
    "df = pd.DataFrame({'Bucket': np.arange(1, 11), 'Breakpoint Value':breakpoints[1:], 'Training Count':initial_counts, 'Jan20-Mar20 Count':new_counts})\n",
    "df['Training Percent'] = df['Training Count'] / len(initial)\n",
    "df['Jan20-Mar20 Percent'] = df['Jan20-Mar20 Count'] / len(new)"
   ]
  },
  {
   "cell_type": "code",
   "execution_count": 108,
   "metadata": {},
   "outputs": [
    {
     "name": "stderr",
     "output_type": "stream",
     "text": [
      "C:\\Users\\aman.khatri91425\\AppData\\Local\\Continuum\\anaconda3\\lib\\site-packages\\ipykernel_launcher.py:1: SettingWithCopyWarning: \n",
      "A value is trying to be set on a copy of a slice from a DataFrame\n",
      "\n",
      "See the caveats in the documentation: http://pandas.pydata.org/pandas-docs/stable/indexing.html#indexing-view-versus-copy\n",
      "  \"\"\"Entry point for launching an IPython kernel.\n"
     ]
    }
   ],
   "source": [
    "df['Jan20-Mar20 Percent'][df['Jan20-Mar20 Percent'] == 0] = 0.001"
   ]
  },
  {
   "cell_type": "code",
   "execution_count": 109,
   "metadata": {},
   "outputs": [
    {
     "data": {
      "text/html": [
       "<div>\n",
       "<style scoped>\n",
       "    .dataframe tbody tr th:only-of-type {\n",
       "        vertical-align: middle;\n",
       "    }\n",
       "\n",
       "    .dataframe tbody tr th {\n",
       "        vertical-align: top;\n",
       "    }\n",
       "\n",
       "    .dataframe thead th {\n",
       "        text-align: right;\n",
       "    }\n",
       "</style>\n",
       "<table border=\"1\" class=\"dataframe\">\n",
       "  <thead>\n",
       "    <tr style=\"text-align: right;\">\n",
       "      <th></th>\n",
       "      <th>Bucket</th>\n",
       "      <th>Breakpoint Value</th>\n",
       "      <th>Training Count</th>\n",
       "      <th>Jan20-Mar20 Count</th>\n",
       "      <th>Training Percent</th>\n",
       "      <th>Jan20-Mar20 Percent</th>\n",
       "    </tr>\n",
       "  </thead>\n",
       "  <tbody>\n",
       "    <tr>\n",
       "      <th>0</th>\n",
       "      <td>1</td>\n",
       "      <td>0.420772</td>\n",
       "      <td>3149</td>\n",
       "      <td>411</td>\n",
       "      <td>0.005979</td>\n",
       "      <td>0.004345</td>\n",
       "    </tr>\n",
       "    <tr>\n",
       "      <th>1</th>\n",
       "      <td>2</td>\n",
       "      <td>0.435182</td>\n",
       "      <td>4629</td>\n",
       "      <td>638</td>\n",
       "      <td>0.008789</td>\n",
       "      <td>0.006745</td>\n",
       "    </tr>\n",
       "    <tr>\n",
       "      <th>2</th>\n",
       "      <td>3</td>\n",
       "      <td>0.449593</td>\n",
       "      <td>8352</td>\n",
       "      <td>1054</td>\n",
       "      <td>0.015858</td>\n",
       "      <td>0.011142</td>\n",
       "    </tr>\n",
       "    <tr>\n",
       "      <th>3</th>\n",
       "      <td>4</td>\n",
       "      <td>0.464003</td>\n",
       "      <td>129369</td>\n",
       "      <td>19698</td>\n",
       "      <td>0.245633</td>\n",
       "      <td>0.208240</td>\n",
       "    </tr>\n",
       "    <tr>\n",
       "      <th>4</th>\n",
       "      <td>5</td>\n",
       "      <td>0.478413</td>\n",
       "      <td>207953</td>\n",
       "      <td>39367</td>\n",
       "      <td>0.394840</td>\n",
       "      <td>0.416172</td>\n",
       "    </tr>\n",
       "    <tr>\n",
       "      <th>5</th>\n",
       "      <td>6</td>\n",
       "      <td>0.492823</td>\n",
       "      <td>47761</td>\n",
       "      <td>9650</td>\n",
       "      <td>0.090684</td>\n",
       "      <td>0.102016</td>\n",
       "    </tr>\n",
       "    <tr>\n",
       "      <th>6</th>\n",
       "      <td>7</td>\n",
       "      <td>0.507234</td>\n",
       "      <td>56511</td>\n",
       "      <td>10604</td>\n",
       "      <td>0.107297</td>\n",
       "      <td>0.112101</td>\n",
       "    </tr>\n",
       "    <tr>\n",
       "      <th>7</th>\n",
       "      <td>8</td>\n",
       "      <td>0.521644</td>\n",
       "      <td>32012</td>\n",
       "      <td>6116</td>\n",
       "      <td>0.060781</td>\n",
       "      <td>0.064656</td>\n",
       "    </tr>\n",
       "    <tr>\n",
       "      <th>8</th>\n",
       "      <td>9</td>\n",
       "      <td>0.536054</td>\n",
       "      <td>27690</td>\n",
       "      <td>5077</td>\n",
       "      <td>0.052575</td>\n",
       "      <td>0.053672</td>\n",
       "    </tr>\n",
       "    <tr>\n",
       "      <th>9</th>\n",
       "      <td>10</td>\n",
       "      <td>0.550464</td>\n",
       "      <td>9251</td>\n",
       "      <td>1978</td>\n",
       "      <td>0.017565</td>\n",
       "      <td>0.020911</td>\n",
       "    </tr>\n",
       "  </tbody>\n",
       "</table>\n",
       "</div>"
      ],
      "text/plain": [
       "   Bucket  Breakpoint Value  Training Count  Jan20-Mar20 Count  \\\n",
       "0       1          0.420772            3149                411   \n",
       "1       2          0.435182            4629                638   \n",
       "2       3          0.449593            8352               1054   \n",
       "3       4          0.464003          129369              19698   \n",
       "4       5          0.478413          207953              39367   \n",
       "5       6          0.492823           47761               9650   \n",
       "6       7          0.507234           56511              10604   \n",
       "7       8          0.521644           32012               6116   \n",
       "8       9          0.536054           27690               5077   \n",
       "9      10          0.550464            9251               1978   \n",
       "\n",
       "   Training Percent  Jan20-Mar20 Percent  \n",
       "0          0.005979             0.004345  \n",
       "1          0.008789             0.006745  \n",
       "2          0.015858             0.011142  \n",
       "3          0.245633             0.208240  \n",
       "4          0.394840             0.416172  \n",
       "5          0.090684             0.102016  \n",
       "6          0.107297             0.112101  \n",
       "7          0.060781             0.064656  \n",
       "8          0.052575             0.053672  \n",
       "9          0.017565             0.020911  "
      ]
     },
     "execution_count": 109,
     "metadata": {},
     "output_type": "execute_result"
    }
   ],
   "source": [
    "df"
   ]
  },
  {
   "cell_type": "code",
   "execution_count": 113,
   "metadata": {},
   "outputs": [],
   "source": [
    "percents = df[['Training Percent', 'Jan20-Mar20 Percent', 'Bucket']] \\\n",
    "             .melt(id_vars=['Bucket']) \\\n",
    "             .rename(columns={'variable':'Population', 'value':'Percent'})"
   ]
  },
  {
   "cell_type": "code",
   "execution_count": 114,
   "metadata": {},
   "outputs": [
    {
     "data": {
      "text/html": [
       "<div>\n",
       "<style scoped>\n",
       "    .dataframe tbody tr th:only-of-type {\n",
       "        vertical-align: middle;\n",
       "    }\n",
       "\n",
       "    .dataframe tbody tr th {\n",
       "        vertical-align: top;\n",
       "    }\n",
       "\n",
       "    .dataframe thead th {\n",
       "        text-align: right;\n",
       "    }\n",
       "</style>\n",
       "<table border=\"1\" class=\"dataframe\">\n",
       "  <thead>\n",
       "    <tr style=\"text-align: right;\">\n",
       "      <th></th>\n",
       "      <th>Bucket</th>\n",
       "      <th>Population</th>\n",
       "      <th>Percent</th>\n",
       "    </tr>\n",
       "  </thead>\n",
       "  <tbody>\n",
       "    <tr>\n",
       "      <th>0</th>\n",
       "      <td>1</td>\n",
       "      <td>Training Percent</td>\n",
       "      <td>0.005979</td>\n",
       "    </tr>\n",
       "    <tr>\n",
       "      <th>1</th>\n",
       "      <td>2</td>\n",
       "      <td>Training Percent</td>\n",
       "      <td>0.008789</td>\n",
       "    </tr>\n",
       "    <tr>\n",
       "      <th>2</th>\n",
       "      <td>3</td>\n",
       "      <td>Training Percent</td>\n",
       "      <td>0.015858</td>\n",
       "    </tr>\n",
       "    <tr>\n",
       "      <th>3</th>\n",
       "      <td>4</td>\n",
       "      <td>Training Percent</td>\n",
       "      <td>0.245633</td>\n",
       "    </tr>\n",
       "    <tr>\n",
       "      <th>4</th>\n",
       "      <td>5</td>\n",
       "      <td>Training Percent</td>\n",
       "      <td>0.394840</td>\n",
       "    </tr>\n",
       "  </tbody>\n",
       "</table>\n",
       "</div>"
      ],
      "text/plain": [
       "   Bucket        Population   Percent\n",
       "0       1  Training Percent  0.005979\n",
       "1       2  Training Percent  0.008789\n",
       "2       3  Training Percent  0.015858\n",
       "3       4  Training Percent  0.245633\n",
       "4       5  Training Percent  0.394840"
      ]
     },
     "execution_count": 114,
     "metadata": {},
     "output_type": "execute_result"
    }
   ],
   "source": [
    "percents.head()"
   ]
  },
  {
   "cell_type": "code",
   "execution_count": 115,
   "metadata": {},
   "outputs": [
    {
     "data": {
      "image/png": "[encoded data removed]",
      "text/plain": [
       "<Figure size 432x288 with 1 Axes>"
      ]
     },
     "metadata": {},
     "output_type": "display_data"
    }
   ],
   "source": [
    "p = sns.barplot(x=\"Bucket\", y=\"Percent\", hue=\"Population\", data=percents)\n",
    "p.set(xlabel='Bucket', ylabel='Population Percent')\n",
    "sns.despine(left=True)"
   ]
  },
  {
   "cell_type": "code",
   "execution_count": 117,
   "metadata": {},
   "outputs": [],
   "source": [
    "df['PSI'] = (df['Jan20-Mar20 Percent'] - df['Training Percent']) * np.log(df['Jan20-Mar20 Percent'] / df['Training Percent'])"
   ]
  },
  {
   "cell_type": "code",
   "execution_count": 120,
   "metadata": {},
   "outputs": [
    {
     "data": {
      "text/html": [
       "<div>\n",
       "<style scoped>\n",
       "    .dataframe tbody tr th:only-of-type {\n",
       "        vertical-align: middle;\n",
       "    }\n",
       "\n",
       "    .dataframe tbody tr th {\n",
       "        vertical-align: top;\n",
       "    }\n",
       "\n",
       "    .dataframe thead th {\n",
       "        text-align: right;\n",
       "    }\n",
       "</style>\n",
       "<table border=\"1\" class=\"dataframe\">\n",
       "  <thead>\n",
       "    <tr style=\"text-align: right;\">\n",
       "      <th></th>\n",
       "      <th>Bucket</th>\n",
       "      <th>Breakpoint Value</th>\n",
       "      <th>Training Count</th>\n",
       "      <th>Jan20-Mar20 Count</th>\n",
       "      <th>Training Percent</th>\n",
       "      <th>Jan20-Mar20 Percent</th>\n",
       "      <th>PSI</th>\n",
       "    </tr>\n",
       "  </thead>\n",
       "  <tbody>\n",
       "    <tr>\n",
       "      <th>0</th>\n",
       "      <td>1</td>\n",
       "      <td>0.420772</td>\n",
       "      <td>3149</td>\n",
       "      <td>411</td>\n",
       "      <td>0.005979</td>\n",
       "      <td>0.004345</td>\n",
       "      <td>0.000522</td>\n",
       "    </tr>\n",
       "    <tr>\n",
       "      <th>1</th>\n",
       "      <td>2</td>\n",
       "      <td>0.435182</td>\n",
       "      <td>4629</td>\n",
       "      <td>638</td>\n",
       "      <td>0.008789</td>\n",
       "      <td>0.006745</td>\n",
       "      <td>0.000541</td>\n",
       "    </tr>\n",
       "    <tr>\n",
       "      <th>2</th>\n",
       "      <td>3</td>\n",
       "      <td>0.449593</td>\n",
       "      <td>8352</td>\n",
       "      <td>1054</td>\n",
       "      <td>0.015858</td>\n",
       "      <td>0.011142</td>\n",
       "      <td>0.001664</td>\n",
       "    </tr>\n",
       "    <tr>\n",
       "      <th>3</th>\n",
       "      <td>4</td>\n",
       "      <td>0.464003</td>\n",
       "      <td>129369</td>\n",
       "      <td>19698</td>\n",
       "      <td>0.245633</td>\n",
       "      <td>0.208240</td>\n",
       "      <td>0.006175</td>\n",
       "    </tr>\n",
       "    <tr>\n",
       "      <th>4</th>\n",
       "      <td>5</td>\n",
       "      <td>0.478413</td>\n",
       "      <td>207953</td>\n",
       "      <td>39367</td>\n",
       "      <td>0.394840</td>\n",
       "      <td>0.416172</td>\n",
       "      <td>0.001123</td>\n",
       "    </tr>\n",
       "    <tr>\n",
       "      <th>5</th>\n",
       "      <td>6</td>\n",
       "      <td>0.492823</td>\n",
       "      <td>47761</td>\n",
       "      <td>9650</td>\n",
       "      <td>0.090684</td>\n",
       "      <td>0.102016</td>\n",
       "      <td>0.001334</td>\n",
       "    </tr>\n",
       "    <tr>\n",
       "      <th>6</th>\n",
       "      <td>7</td>\n",
       "      <td>0.507234</td>\n",
       "      <td>56511</td>\n",
       "      <td>10604</td>\n",
       "      <td>0.107297</td>\n",
       "      <td>0.112101</td>\n",
       "      <td>0.000210</td>\n",
       "    </tr>\n",
       "    <tr>\n",
       "      <th>7</th>\n",
       "      <td>8</td>\n",
       "      <td>0.521644</td>\n",
       "      <td>32012</td>\n",
       "      <td>6116</td>\n",
       "      <td>0.060781</td>\n",
       "      <td>0.064656</td>\n",
       "      <td>0.000239</td>\n",
       "    </tr>\n",
       "    <tr>\n",
       "      <th>8</th>\n",
       "      <td>9</td>\n",
       "      <td>0.536054</td>\n",
       "      <td>27690</td>\n",
       "      <td>5077</td>\n",
       "      <td>0.052575</td>\n",
       "      <td>0.053672</td>\n",
       "      <td>0.000023</td>\n",
       "    </tr>\n",
       "    <tr>\n",
       "      <th>9</th>\n",
       "      <td>10</td>\n",
       "      <td>0.550464</td>\n",
       "      <td>9251</td>\n",
       "      <td>1978</td>\n",
       "      <td>0.017565</td>\n",
       "      <td>0.020911</td>\n",
       "      <td>0.000583</td>\n",
       "    </tr>\n",
       "  </tbody>\n",
       "</table>\n",
       "</div>"
      ],
      "text/plain": [
       "   Bucket  Breakpoint Value  Training Count  Jan20-Mar20 Count  \\\n",
       "0       1          0.420772            3149                411   \n",
       "1       2          0.435182            4629                638   \n",
       "2       3          0.449593            8352               1054   \n",
       "3       4          0.464003          129369              19698   \n",
       "4       5          0.478413          207953              39367   \n",
       "5       6          0.492823           47761               9650   \n",
       "6       7          0.507234           56511              10604   \n",
       "7       8          0.521644           32012               6116   \n",
       "8       9          0.536054           27690               5077   \n",
       "9      10          0.550464            9251               1978   \n",
       "\n",
       "   Training Percent  Jan20-Mar20 Percent       PSI  \n",
       "0          0.005979             0.004345  0.000522  \n",
       "1          0.008789             0.006745  0.000541  \n",
       "2          0.015858             0.011142  0.001664  \n",
       "3          0.245633             0.208240  0.006175  \n",
       "4          0.394840             0.416172  0.001123  \n",
       "5          0.090684             0.102016  0.001334  \n",
       "6          0.107297             0.112101  0.000210  \n",
       "7          0.060781             0.064656  0.000239  \n",
       "8          0.052575             0.053672  0.000023  \n",
       "9          0.017565             0.020911  0.000583  "
      ]
     },
     "execution_count": 120,
     "metadata": {},
     "output_type": "execute_result"
    }
   ],
   "source": [
    "df"
   ]
  },
  {
   "cell_type": "code",
   "execution_count": 119,
   "metadata": {},
   "outputs": [
    {
     "data": {
      "text/plain": [
       "0.012415245129143824"
      ]
     },
     "execution_count": 119,
     "metadata": {},
     "output_type": "execute_result"
    }
   ],
   "source": [
    "np.sum(df['PSI'])"
   ]
  },
  {
   "cell_type": "code",
   "execution_count": null,
   "metadata": {},
   "outputs": [],
   "source": []
  }
 ],
 "metadata": {
  "kernelspec": {
   "display_name": "Python 3",
   "language": "python",
   "name": "python3"
  },
  "language_info": {
   "codemirror_mode": {
    "name": "ipython",
    "version": 3
   },
   "file_extension": ".py",
   "mimetype": "text/x-python",
   "name": "python",
   "nbconvert_exporter": "python",
   "pygments_lexer": "ipython3",
   "version": "3.7.3"
  }
 },
 "nbformat": 4,
 "nbformat_minor": 2
}
