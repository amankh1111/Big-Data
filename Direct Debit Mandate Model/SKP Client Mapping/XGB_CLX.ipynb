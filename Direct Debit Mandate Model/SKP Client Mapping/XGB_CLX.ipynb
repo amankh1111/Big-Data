{
 "cells": [
  {
   "cell_type": "code",
   "execution_count": 1,
   "metadata": {},
   "outputs": [],
   "source": [
    "import xgboost as xgb\n",
    "import numpy as np\n",
    "import pandas as pd\n",
    "import time\n",
    "import pickle\n",
    "import os\n",
    "from math import log\n",
    "import matplotlib.pyplot as plt\n",
    "\n",
    "import sklearn\n",
    "from sklearn.model_selection import train_test_split, GridSearchCV, RandomizedSearchCV, ParameterGrid,StratifiedKFold, cross_val_score\n",
    "\n",
    "from sklearn import metrics \n",
    "from sklearn.metrics import confusion_matrix, precision_recall_curve, average_precision_score, brier_score_loss, f1_score, log_loss,auc,roc_curve,auc\n",
    "\n",
    "from sklearn.linear_model import LogisticRegression, LogisticRegressionCV\n",
    "from sklearn.ensemble import RandomForestClassifier\n",
    "\n",
    "from sklearn.decomposition import PCA\n",
    "#from sklearn.utils.fixes import signature\n",
    "\n",
    "from datetime import datetime\n",
    "\n",
    "import warnings\n",
    "warnings.filterwarnings(\"ignore\", category=DeprecationWarning)"
   ]
  },
  {
   "cell_type": "code",
   "execution_count": 2,
   "metadata": {},
   "outputs": [],
   "source": [
    "os.chdir(r\"C:\\Users\\aman.khatri91425\\Desktop\\HomeCredit\\Bigdata\\Techprocess Alternate\")"
   ]
  },
  {
   "cell_type": "code",
   "execution_count": 3,
   "metadata": {},
   "outputs": [],
   "source": [
    "##read datasets\n",
    "df=pd.read_csv(os.getcwd()+r\"\\Data Files\\ddm2_skp_client_final.csv\")"
   ]
  },
  {
   "cell_type": "code",
   "execution_count": 4,
   "metadata": {},
   "outputs": [
    {
     "data": {
      "text/html": [
       "<div>\n",
       "<style scoped>\n",
       "    .dataframe tbody tr th:only-of-type {\n",
       "        vertical-align: middle;\n",
       "    }\n",
       "\n",
       "    .dataframe tbody tr th {\n",
       "        vertical-align: top;\n",
       "    }\n",
       "\n",
       "    .dataframe thead th {\n",
       "        text-align: right;\n",
       "    }\n",
       "</style>\n",
       "<table border=\"1\" class=\"dataframe\">\n",
       "  <thead>\n",
       "    <tr style=\"text-align: right;\">\n",
       "      <th></th>\n",
       "      <th>SKP_CREDIT_CASE</th>\n",
       "      <th>TIME_DECISION_DATE</th>\n",
       "      <th>RISK_AGRF180</th>\n",
       "      <th>RISK_FPD30</th>\n",
       "      <th>RISK_FSPD30</th>\n",
       "      <th>RISK_FSTPD30</th>\n",
       "      <th>RISK_FSTQPD30</th>\n",
       "      <th>RISK_FSTQPD60</th>\n",
       "      <th>PRODUCT_GROUP</th>\n",
       "      <th>NTC_FLAG</th>\n",
       "      <th>...</th>\n",
       "      <th>CODE_4</th>\n",
       "      <th>AMT_4</th>\n",
       "      <th>DATE_5</th>\n",
       "      <th>REASON_5</th>\n",
       "      <th>CODE_5</th>\n",
       "      <th>AMT_5</th>\n",
       "      <th>DATE_6</th>\n",
       "      <th>REASON_6</th>\n",
       "      <th>CODE_6</th>\n",
       "      <th>AMT_6</th>\n",
       "    </tr>\n",
       "  </thead>\n",
       "  <tbody>\n",
       "    <tr>\n",
       "      <th>0</th>\n",
       "      <td>288766471</td>\n",
       "      <td>25-12-19</td>\n",
       "      <td>1</td>\n",
       "      <td>0</td>\n",
       "      <td>0</td>\n",
       "      <td>0</td>\n",
       "      <td>0</td>\n",
       "      <td>0</td>\n",
       "      <td>CL</td>\n",
       "      <td>Others</td>\n",
       "      <td>...</td>\n",
       "      <td>Debited</td>\n",
       "      <td>3849.0</td>\n",
       "      <td>07-08-18</td>\n",
       "      <td>0</td>\n",
       "      <td>Debited</td>\n",
       "      <td>3849.0</td>\n",
       "      <td>07-07-18</td>\n",
       "      <td>0</td>\n",
       "      <td>Debited</td>\n",
       "      <td>3849.0</td>\n",
       "    </tr>\n",
       "    <tr>\n",
       "      <th>1</th>\n",
       "      <td>288417797</td>\n",
       "      <td>22-12-19</td>\n",
       "      <td>1</td>\n",
       "      <td>0</td>\n",
       "      <td>0</td>\n",
       "      <td>0</td>\n",
       "      <td>0</td>\n",
       "      <td>0</td>\n",
       "      <td>CL</td>\n",
       "      <td>Others</td>\n",
       "      <td>...</td>\n",
       "      <td>NaN</td>\n",
       "      <td>NaN</td>\n",
       "      <td>NaN</td>\n",
       "      <td>NaN</td>\n",
       "      <td>NaN</td>\n",
       "      <td>NaN</td>\n",
       "      <td>NaN</td>\n",
       "      <td>NaN</td>\n",
       "      <td>NaN</td>\n",
       "      <td>NaN</td>\n",
       "    </tr>\n",
       "    <tr>\n",
       "      <th>2</th>\n",
       "      <td>288156237</td>\n",
       "      <td>20-12-19</td>\n",
       "      <td>1</td>\n",
       "      <td>0</td>\n",
       "      <td>0</td>\n",
       "      <td>0</td>\n",
       "      <td>0</td>\n",
       "      <td>0</td>\n",
       "      <td>CD</td>\n",
       "      <td>Others</td>\n",
       "      <td>...</td>\n",
       "      <td>Debited</td>\n",
       "      <td>2427.0</td>\n",
       "      <td>06-09-18</td>\n",
       "      <td>0</td>\n",
       "      <td>Debited</td>\n",
       "      <td>2427.0</td>\n",
       "      <td>26-07-17</td>\n",
       "      <td>0</td>\n",
       "      <td>Debited</td>\n",
       "      <td>1229.0</td>\n",
       "    </tr>\n",
       "    <tr>\n",
       "      <th>3</th>\n",
       "      <td>286163447</td>\n",
       "      <td>05-12-19</td>\n",
       "      <td>1</td>\n",
       "      <td>0</td>\n",
       "      <td>0</td>\n",
       "      <td>0</td>\n",
       "      <td>0</td>\n",
       "      <td>0</td>\n",
       "      <td>CD</td>\n",
       "      <td>Others</td>\n",
       "      <td>...</td>\n",
       "      <td>Undebited</td>\n",
       "      <td>2754.0</td>\n",
       "      <td>19-11-17</td>\n",
       "      <td>Balance Insufficient</td>\n",
       "      <td>Undebited</td>\n",
       "      <td>1011.0</td>\n",
       "      <td>19-10-17</td>\n",
       "      <td>Balance Insufficient</td>\n",
       "      <td>Undebited</td>\n",
       "      <td>1013.0</td>\n",
       "    </tr>\n",
       "    <tr>\n",
       "      <th>4</th>\n",
       "      <td>286163445</td>\n",
       "      <td>05-12-19</td>\n",
       "      <td>1</td>\n",
       "      <td>0</td>\n",
       "      <td>0</td>\n",
       "      <td>0</td>\n",
       "      <td>0</td>\n",
       "      <td>0</td>\n",
       "      <td>CD</td>\n",
       "      <td>Others</td>\n",
       "      <td>...</td>\n",
       "      <td>Debited</td>\n",
       "      <td>1558.0</td>\n",
       "      <td>28-03-17</td>\n",
       "      <td>0</td>\n",
       "      <td>Debited</td>\n",
       "      <td>1558.0</td>\n",
       "      <td>28-02-17</td>\n",
       "      <td>0</td>\n",
       "      <td>Debited</td>\n",
       "      <td>1556.0</td>\n",
       "    </tr>\n",
       "  </tbody>\n",
       "</table>\n",
       "<p>5 rows × 36 columns</p>\n",
       "</div>"
      ],
      "text/plain": [
       "   SKP_CREDIT_CASE TIME_DECISION_DATE  RISK_AGRF180  RISK_FPD30  RISK_FSPD30  \\\n",
       "0        288766471           25-12-19             1           0            0   \n",
       "1        288417797           22-12-19             1           0            0   \n",
       "2        288156237           20-12-19             1           0            0   \n",
       "3        286163447           05-12-19             1           0            0   \n",
       "4        286163445           05-12-19             1           0            0   \n",
       "\n",
       "   RISK_FSTPD30  RISK_FSTQPD30  RISK_FSTQPD60 PRODUCT_GROUP NTC_FLAG  ...  \\\n",
       "0             0              0              0            CL   Others  ...   \n",
       "1             0              0              0            CL   Others  ...   \n",
       "2             0              0              0            CD   Others  ...   \n",
       "3             0              0              0            CD   Others  ...   \n",
       "4             0              0              0            CD   Others  ...   \n",
       "\n",
       "      CODE_4   AMT_4    DATE_5              REASON_5     CODE_5   AMT_5  \\\n",
       "0    Debited  3849.0  07-08-18                     0    Debited  3849.0   \n",
       "1        NaN     NaN       NaN                   NaN        NaN     NaN   \n",
       "2    Debited  2427.0  06-09-18                     0    Debited  2427.0   \n",
       "3  Undebited  2754.0  19-11-17  Balance Insufficient  Undebited  1011.0   \n",
       "4    Debited  1558.0  28-03-17                     0    Debited  1558.0   \n",
       "\n",
       "     DATE_6              REASON_6     CODE_6   AMT_6  \n",
       "0  07-07-18                     0    Debited  3849.0  \n",
       "1       NaN                   NaN        NaN     NaN  \n",
       "2  26-07-17                     0    Debited  1229.0  \n",
       "3  19-10-17  Balance Insufficient  Undebited  1013.0  \n",
       "4  28-02-17                     0    Debited  1556.0  \n",
       "\n",
       "[5 rows x 36 columns]"
      ]
     },
     "execution_count": 4,
     "metadata": {},
     "output_type": "execute_result"
    }
   ],
   "source": [
    "df.head()"
   ]
  },
  {
   "cell_type": "code",
   "execution_count": 5,
   "metadata": {},
   "outputs": [
    {
     "data": {
      "text/plain": [
       "0      633741\n",
       "XNA    133272\n",
       "            1\n",
       "Name: REASON_1, dtype: int64"
      ]
     },
     "execution_count": 5,
     "metadata": {},
     "output_type": "execute_result"
    }
   ],
   "source": [
    "df[df[\"CODE_1\"]=='Debited'].REASON_1.value_counts()"
   ]
  },
  {
   "cell_type": "code",
   "execution_count": 6,
   "metadata": {},
   "outputs": [
    {
     "data": {
      "text/plain": [
       "Debited      767014\n",
       "Undebited    365435\n",
       "Posted         5086\n",
       "Name: CODE_1, dtype: int64"
      ]
     },
     "execution_count": 6,
     "metadata": {},
     "output_type": "execute_result"
    }
   ],
   "source": [
    "df[\"CODE_1\"].value_counts()"
   ]
  },
  {
   "cell_type": "code",
   "execution_count": 7,
   "metadata": {},
   "outputs": [
    {
     "data": {
      "text/plain": [
       "Balance Insufficient                                                                                    262459\n",
       "CLEARED BAL/FUNDS/DP NOT AVAILABLE.CARE! ACCT WILL BE OVERDRAWN                               000000     46352\n",
       "DP NOT AVAILABLE. ACCT CANNOT BE OVERDRAWN                                                               12306\n",
       "CLEARED BAL/FUNDS/DP NOT AVAILABLE.CARE! ACCT WILL BE OVERDRAWN                                           7386\n",
       "4                                                                                                         6078\n",
       "ACCT HAS HOLD. INSUFFICIENT FREE BAL FOR TXN                                                              3619\n",
       "999                                                                                                       3270\n",
       "A/C Blocked or Frozen                                                                                     3171\n",
       "101                                                                                                       2142\n",
       "Account Closed or Transferred                                                                             1787\n",
       "Not Arranged For                                                                                          1429\n",
       "Miscellaneous-Dormant A/c(No t                                                                            1131\n",
       "Miscellaneous-Dormant A/c(No                                                                              1032\n",
       "XNA                                                                                                        988\n",
       "CLEARED BAL/FUNDS/DP NOT AVAILABLE.CARE! ACCT WILL BE OVERDRAWN                                            834\n",
       "Miscellaneous-Network Failure(                                                                             798\n",
       "Miscellaneous-Network Failur                                                                               752\n",
       "ACCOUNT CLOSED                                                                                             740\n",
       "Customer to refer to the br                                                                                571\n",
       "PERIDICITY FOR MANDATE RECORD IS OVER                                                                      470\n",
       "Mismatch in mandate debtor b                                                                               465\n",
       "Invalid UMRN or inactive man                                                                               445\n",
       "CLEARED BAL/FUNDS/DP NOT AVAILABLE.CARE! ACCT WILL BE OVERDRAWN                                            344\n",
       "NON-Home debit txn on Inoperative/Unclaimed a/c NOT allowed                                                314\n",
       "ACCOUNT UNAVAILABLE                                                                                        272\n",
       "Miscellaneous-Account reached                                                                              266\n",
       "MANDATE REJECT: No Signature in CBS                                                                        236\n",
       "CLEARED BAL/FUNDS/DP NOT AVAILABLE.CARE! ACCT WILL BE OVERDRAWN                                            232\n",
       "CLEARED BAL/FUNDS/DP NOT AVAILABLE.CARE! ACCT WILL BE OVERDRAWN                                            213\n",
       "CLEARED BAL/FUNDS/DP NOT AVAILABLE.CARE! ACCT WILL BE OVERDRAWN                                            203\n",
       "                                                                                                         ...  \n",
       "03553942821082019                                                                                            1\n",
       "03561669521082019                                                                                            1\n",
       "03546112121082019                                                                                            1\n",
       "03553580821082019                                                                                            1\n",
       "03551763321082019                                                                                            1\n",
       "03534622121082019                                                                                            1\n",
       "03556766921082019                                                                                            1\n",
       "03555503921082019                                                                                            1\n",
       "03571499721082019                                                                                            1\n",
       "03546042821082019                                                                                            1\n",
       "03569660221082019                                                                                            1\n",
       "03553512521082019                                                                                            1\n",
       "03542323121082019                                                                                            1\n",
       "03534670121082019                                                                                            1\n",
       "03549336421082019                                                                                            1\n",
       "03548745621082019                                                                                            1\n",
       "03570824721082019                                                                                            1\n",
       "03568579321082019                                                                                            1\n",
       "03571946621082019                                                                                            1\n",
       "03561464421082019                                                                                            1\n",
       "03563958021082019                                                                                            1\n",
       "03571928921082019                                                                                            1\n",
       "NEW ACCOUNT OR MANUALLY RESTRICTEDKYC UPDATION                                                               1\n",
       "03534522021082019                                                                                            1\n",
       "03556614121082019                                                                                            1\n",
       "03550241221082019                                                                                            1\n",
       "03553485021082019                                                                                            1\n",
       "03560834521082019                                                                                            1\n",
       "03553434321082019                                                                                            1\n",
       "03549423321082019                                                                                            1\n",
       "Name: REASON_1, Length: 306, dtype: int64"
      ]
     },
     "execution_count": 7,
     "metadata": {},
     "output_type": "execute_result"
    }
   ],
   "source": [
    "df[df[\"CODE_1\"]=='Undebited'].REASON_1.value_counts()"
   ]
  },
  {
   "cell_type": "code",
   "execution_count": 8,
   "metadata": {},
   "outputs": [],
   "source": [
    "coding_dict={'Balance Insufficient':'WILLFULL DEFAULTS',\n",
    "'CLEARED BAL/FUNDS/DP NOT AVAILABLE.CARE! ACCT WILL BE OVERDRAWN                               000000':'WILLFULL DEFAULTS',\n",
    "'DP NOT AVAILABLE. ACCT CANNOT BE OVERDRAWN':'WILLFULL DEFAULTS',\n",
    "'CLEARED BAL/FUNDS/DP NOT AVAILABLE.CARE! ACCT WILL BE OVERDRAWN':'WILLFULL DEFAULTS',\n",
    "'ACCT HAS HOLD. INSUFFICIENT FREE BAL FOR TXN':'WILLFULL DEFAULTS',\n",
    "'INSUFFICIENT FUNDS':'WILLFULL DEFAULTS',\n",
    "'CODE_DDS_ERROR_REASON':'PROCESS ISSUE',\n",
    "'A/C Blocked or Frozen':'PROCESS ISSUE',\n",
    "'Miscellaneous-Dormant A/c(No t':'PROCESS ISSUE',\n",
    "'Miscellaneous-Dormant A/c(No':'PROCESS ISSUE',\n",
    "'UMRN QUOTED IN FILE IS NOT VALID':'PROCESS ISSUE',\n",
    "'NON-Home debit txn on Inoperative/Unclaimed a/c NOT allowed':'PROCESS ISSUE',\n",
    "'Invalid UMRN or inactive man':'PROCESS ISSUE',\n",
    "'ACCOUNT CLOSED':'PROCESS ISSUE',\n",
    "'PERIDICITY FOR MANDATE RECORD IS OVER':'PROCESS ISSUE',\n",
    "'Settlement Date before manda':'PROCESS ISSUE',\n",
    "'Invalid UMRN or inactive mandate':'PROCESS ISSUE',\n",
    "'MANDATE REJECT: No Signature in CBS':'PROCESS ISSUE',\n",
    "'Mismatch in mandate debtor b':'PROCESS ISSUE',\n",
    "'MANDATE RECORD IS NOT AUTHORISED':'PROCESS ISSUE',\n",
    "'Invalid Bank Identifier - Rece':'PROCESS ISSUE',\n",
    "'Miscellaneous-Network Failure(':'PROCESS ISSUE',\n",
    "'Mandate Not Received/UMRN Do':'PROCESS ISSUE',\n",
    "'Invalid Bank Identifier - Receiving participant blocked/disabled':'PROCESS ISSUE',\n",
    "'Mismatch in Mandate Debtor A':'PROCESS ISSUE',\n",
    "'Mandate Not Received/UMRN Does not EXist':'PROCESS ISSUE',\n",
    "'Miscellaneous-Dormant A/c(No transaction for last six months':'PROCESS ISSUE',\n",
    "'0':'DEBITED',\n",
    "'XNA':'DEBITED',\n",
    "            }"
   ]
  },
  {
   "cell_type": "code",
   "execution_count": 9,
   "metadata": {},
   "outputs": [],
   "source": [
    "def encoding(x):\n",
    "    try:\n",
    "        return(coding_dict[x])\n",
    "    except:\n",
    "        return (\"Others\")"
   ]
  },
  {
   "cell_type": "code",
   "execution_count": 10,
   "metadata": {},
   "outputs": [],
   "source": [
    "df[\"REASON_1_ENCODED\"]= df[\"REASON_1\"].apply(encoding)\n",
    "df[\"REASON_2_ENCODED\"]= df[\"REASON_2\"].apply(encoding)\n",
    "df[\"REASON_3_ENCODED\"]= df[\"REASON_3\"].apply(encoding)\n",
    "df[\"REASON_4_ENCODED\"]= df[\"REASON_4\"].apply(encoding)\n",
    "df[\"REASON_5_ENCODED\"]= df[\"REASON_5\"].apply(encoding)\n",
    "df[\"REASON_6_ENCODED\"]= df[\"REASON_6\"].apply(encoding)\n"
   ]
  },
  {
   "cell_type": "code",
   "execution_count": 11,
   "metadata": {},
   "outputs": [
    {
     "data": {
      "text/plain": [
       "Index(['SKP_CREDIT_CASE', 'TIME_DECISION_DATE', 'RISK_AGRF180', 'RISK_FPD30',\n",
       "       'RISK_FSPD30', 'RISK_FSTPD30', 'RISK_FSTQPD30', 'RISK_FSTQPD60',\n",
       "       'PRODUCT_GROUP', 'NTC_FLAG', 'RISK_SCORE', 'AMT_DIRECT_DEBIT_STATEMENT',\n",
       "       'DATE_1', 'REASON_1', 'CODE_1', 'AMT_1', 'DATE_2', 'REASON_2', 'CODE_2',\n",
       "       'AMT_2', 'DATE_3', 'REASON_3', 'CODE_3', 'AMT_3', 'DATE_4', 'REASON_4',\n",
       "       'CODE_4', 'AMT_4', 'DATE_5', 'REASON_5', 'CODE_5', 'AMT_5', 'DATE_6',\n",
       "       'REASON_6', 'CODE_6', 'AMT_6', 'REASON_1_ENCODED', 'REASON_2_ENCODED',\n",
       "       'REASON_3_ENCODED', 'REASON_4_ENCODED', 'REASON_5_ENCODED',\n",
       "       'REASON_6_ENCODED'],\n",
       "      dtype='object')"
      ]
     },
     "execution_count": 11,
     "metadata": {},
     "output_type": "execute_result"
    }
   ],
   "source": [
    "df.columns"
   ]
  },
  {
   "cell_type": "code",
   "execution_count": 12,
   "metadata": {},
   "outputs": [],
   "source": [
    "df.dropna(subset=['RISK_SCORE'],inplace=True)"
   ]
  },
  {
   "cell_type": "code",
   "execution_count": 13,
   "metadata": {},
   "outputs": [],
   "source": [
    "df = df[(df[\"PRODUCT_GROUP\"]==\"CL\")]"
   ]
  },
  {
   "cell_type": "code",
   "execution_count": 14,
   "metadata": {},
   "outputs": [
    {
     "data": {
      "text/plain": [
       "<matplotlib.axes._subplots.AxesSubplot at 0x15a61e9acf8>"
      ]
     },
     "execution_count": 14,
     "metadata": {},
     "output_type": "execute_result"
    },
    {
     "data": {
      "image/png": "[encoded data removed]",
      "text/plain": [
       "<Figure size 432x288 with 1 Axes>"
      ]
     },
     "metadata": {
      "needs_background": "light"
     },
     "output_type": "display_data"
    }
   ],
   "source": [
    "# Check distribution of scores\n",
    "pd.Series(df['RISK_SCORE']).plot.hist(bins=10, range=(0,0.08) ,color='#607c8e')"
   ]
  },
  {
   "cell_type": "code",
   "execution_count": 15,
   "metadata": {},
   "outputs": [
    {
     "name": "stdout",
     "output_type": "stream",
     "text": [
      "HCIN SCORE GINI: 0.3429767906103425\n"
     ]
    }
   ],
   "source": [
    "hcc_score='RISK_SCORE'\n",
    "\n",
    "# HCC score Gini         \n",
    "metric_auc_hcc = metrics.roc_auc_score(df['RISK_FSTQPD30'], df[hcc_score])\n",
    "gini_hcc_only = 2 * metric_auc_hcc - 1\n",
    "print(\"HCIN SCORE GINI:\" ,gini_hcc_only)"
   ]
  },
  {
   "cell_type": "code",
   "execution_count": 16,
   "metadata": {},
   "outputs": [],
   "source": [
    "df[\"TIME_DECISION_DATE\"] = pd.to_datetime(df[\"TIME_DECISION_DATE\"],format ='%d-%m-%y')\n",
    "\n",
    "df[\"MONTH\"]= df[\"TIME_DECISION_DATE\"].dt.strftime(\"%y-%m\")"
   ]
  },
  {
   "cell_type": "code",
   "execution_count": 17,
   "metadata": {},
   "outputs": [],
   "source": [
    "df_summ = df.groupby(\"MONTH\").aggregate([\"count\",\"sum\"])[\"RISK_FSTQPD30\"]\n",
    "df_summ[\"bad_rate\"] = df_summ[\"sum\"]/df_summ[\"count\"]"
   ]
  },
  {
   "cell_type": "code",
   "execution_count": 18,
   "metadata": {},
   "outputs": [
    {
     "data": {
      "image/png": "[encoded data removed]",
      "text/plain": [
       "<Figure size 1080x288 with 2 Axes>"
      ]
     },
     "metadata": {
      "needs_background": "light"
     },
     "output_type": "display_data"
    }
   ],
   "source": [
    "df_summ[['sum','count']].plot(kind='bar', width = 0.8, figsize=(15,4))\n",
    "df_summ['bad_rate'].plot(secondary_y=True)\n",
    "\n",
    "ax = plt.gca()\n",
    "plt.xlim([-0.35, len(df_summ['sum'])-0.35])\n",
    "ax.set_xticklabels(df_summ.index)\n",
    "plt.ylim\n",
    "fig = ax.get_figure()\n",
    "ax = fig.get_axes()\n",
    "ax[1].set_ylim(0,0.15)\n",
    "ax[0].legend(['CD_Contracts','CD_Defaults'])\n",
    "ax[1].legend([\"Default Rate\"], loc = \"center right\")\n",
    "\n",
    "\n",
    "plt.show()\n"
   ]
  },
  {
   "cell_type": "code",
   "execution_count": 19,
   "metadata": {},
   "outputs": [
    {
     "name": "stdout",
     "output_type": "stream",
     "text": [
      "19-12 0.33116713352007476\n",
      "19-11 0.36460336525606296\n",
      "19-10 0.3685286766658198\n",
      "19-09 0.39623314845167457\n",
      "19-08 0.38086647188334544\n",
      "19-07 0.339575230825349\n",
      "19-06 0.3432410071403673\n",
      "19-05 0.34980637328704645\n",
      "19-04 0.32341942869724294\n",
      "19-03 0.32532948507681425\n",
      "19-02 0.335176446401507\n",
      "19-01 0.32787385015497383\n"
     ]
    }
   ],
   "source": [
    "#MOM Gini Risk Score\n",
    "for x in df[\"MONTH\"].unique():\n",
    "    try:   \n",
    "        metric_auc_hcc = metrics.roc_auc_score(df[df[\"MONTH\"]==x]['RISK_FSTQPD30'], df[df[\"MONTH\"]==x][hcc_score])\n",
    "        gini_hcc_only = 2 * metric_auc_hcc - 1\n",
    "        print(x ,gini_hcc_only)  \n",
    "    except:\n",
    "        print(\"ERROR\")"
   ]
  },
  {
   "cell_type": "code",
   "execution_count": 20,
   "metadata": {},
   "outputs": [],
   "source": [
    "df[\"DATE_1\"] = pd.to_datetime(df[\"DATE_1\"],format ='%d-%m-%y')\n",
    "df[\"DATE_2\"] = pd.to_datetime(df[\"DATE_2\"],format ='%d-%m-%y')\n",
    "df[\"DATE_3\"] = pd.to_datetime(df[\"DATE_3\"],format ='%d-%m-%y')\n",
    "df[\"DATE_4\"] = pd.to_datetime(df[\"DATE_4\"],format ='%d-%m-%y')\n",
    "df[\"DATE_5\"] = pd.to_datetime(df[\"DATE_5\"],format ='%d-%m-%y')\n",
    "df[\"DATE_6\"] = pd.to_datetime(df[\"DATE_6\"],format ='%d-%m-%y')"
   ]
  },
  {
   "cell_type": "code",
   "execution_count": 21,
   "metadata": {},
   "outputs": [],
   "source": [
    "#Tenure Variables \n",
    "df[\"TENURE1\"] = (df[\"TIME_DECISION_DATE\"]-df[\"DATE_1\"]).dt.days\n",
    "df[\"TENURE2\"] = (df[\"TIME_DECISION_DATE\"]-df[\"DATE_2\"]).dt.days\n",
    "df[\"TENURE3\"] = (df[\"TIME_DECISION_DATE\"]-df[\"DATE_3\"]).dt.days\n",
    "df[\"TENURE4\"] = (df[\"TIME_DECISION_DATE\"]-df[\"DATE_4\"]).dt.days\n",
    "df[\"TENURE5\"] = (df[\"TIME_DECISION_DATE\"]-df[\"DATE_5\"]).dt.days\n",
    "df[\"TENURE6\"] = (df[\"TIME_DECISION_DATE\"]-df[\"DATE_6\"]).dt.days\n",
    "\n",
    "\n"
   ]
  },
  {
   "cell_type": "code",
   "execution_count": 22,
   "metadata": {},
   "outputs": [],
   "source": [
    "#One Hot Encoding\n",
    "df_encoded = df\n",
    "for x in [\"CODE_1\",\"CODE_2\",\"CODE_3\",\"CODE_4\",\"CODE_5\",\"CODE_6\",'REASON_1_ENCODED', 'REASON_2_ENCODED',\n",
    "       'REASON_3_ENCODED', 'REASON_4_ENCODED', 'REASON_5_ENCODED',\n",
    "       'REASON_6_ENCODED']:\n",
    "    \n",
    "    dummy = pd.get_dummies(df_encoded[x])\n",
    "    dummy.columns = [y+\"_\"+x for y in dummy.columns]\n",
    "    df_encoded = pd.concat([df_encoded, dummy], axis=1)"
   ]
  },
  {
   "cell_type": "code",
   "execution_count": 23,
   "metadata": {},
   "outputs": [
    {
     "data": {
      "text/html": [
       "<div>\n",
       "<style scoped>\n",
       "    .dataframe tbody tr th:only-of-type {\n",
       "        vertical-align: middle;\n",
       "    }\n",
       "\n",
       "    .dataframe tbody tr th {\n",
       "        vertical-align: top;\n",
       "    }\n",
       "\n",
       "    .dataframe thead th {\n",
       "        text-align: right;\n",
       "    }\n",
       "</style>\n",
       "<table border=\"1\" class=\"dataframe\">\n",
       "  <thead>\n",
       "    <tr style=\"text-align: right;\">\n",
       "      <th></th>\n",
       "      <th>count</th>\n",
       "      <th>mean</th>\n",
       "      <th>std</th>\n",
       "      <th>min</th>\n",
       "      <th>25%</th>\n",
       "      <th>50%</th>\n",
       "      <th>75%</th>\n",
       "      <th>max</th>\n",
       "    </tr>\n",
       "  </thead>\n",
       "  <tbody>\n",
       "    <tr>\n",
       "      <th>SKP_CREDIT_CASE</th>\n",
       "      <td>309659.0</td>\n",
       "      <td>2.408503e+08</td>\n",
       "      <td>1.647431e+07</td>\n",
       "      <td>2.198978e+08</td>\n",
       "      <td>2.289936e+08</td>\n",
       "      <td>2.370710e+08</td>\n",
       "      <td>2.467696e+08</td>\n",
       "      <td>2.887665e+08</td>\n",
       "    </tr>\n",
       "    <tr>\n",
       "      <th>RISK_AGRF180</th>\n",
       "      <td>309659.0</td>\n",
       "      <td>1.000000e+00</td>\n",
       "      <td>0.000000e+00</td>\n",
       "      <td>1.000000e+00</td>\n",
       "      <td>1.000000e+00</td>\n",
       "      <td>1.000000e+00</td>\n",
       "      <td>1.000000e+00</td>\n",
       "      <td>1.000000e+00</td>\n",
       "    </tr>\n",
       "    <tr>\n",
       "      <th>RISK_FPD30</th>\n",
       "      <td>309659.0</td>\n",
       "      <td>2.799854e-03</td>\n",
       "      <td>5.283961e-02</td>\n",
       "      <td>0.000000e+00</td>\n",
       "      <td>0.000000e+00</td>\n",
       "      <td>0.000000e+00</td>\n",
       "      <td>0.000000e+00</td>\n",
       "      <td>1.000000e+00</td>\n",
       "    </tr>\n",
       "    <tr>\n",
       "      <th>RISK_FSPD30</th>\n",
       "      <td>309659.0</td>\n",
       "      <td>1.153850e-02</td>\n",
       "      <td>1.067961e-01</td>\n",
       "      <td>0.000000e+00</td>\n",
       "      <td>0.000000e+00</td>\n",
       "      <td>0.000000e+00</td>\n",
       "      <td>0.000000e+00</td>\n",
       "      <td>1.000000e+00</td>\n",
       "    </tr>\n",
       "    <tr>\n",
       "      <th>RISK_FSTPD30</th>\n",
       "      <td>309659.0</td>\n",
       "      <td>2.244727e-02</td>\n",
       "      <td>1.481333e-01</td>\n",
       "      <td>0.000000e+00</td>\n",
       "      <td>0.000000e+00</td>\n",
       "      <td>0.000000e+00</td>\n",
       "      <td>0.000000e+00</td>\n",
       "      <td>1.000000e+00</td>\n",
       "    </tr>\n",
       "    <tr>\n",
       "      <th>RISK_FSTQPD30</th>\n",
       "      <td>309659.0</td>\n",
       "      <td>3.436684e-02</td>\n",
       "      <td>1.821699e-01</td>\n",
       "      <td>0.000000e+00</td>\n",
       "      <td>0.000000e+00</td>\n",
       "      <td>0.000000e+00</td>\n",
       "      <td>0.000000e+00</td>\n",
       "      <td>1.000000e+00</td>\n",
       "    </tr>\n",
       "    <tr>\n",
       "      <th>RISK_FSTQPD60</th>\n",
       "      <td>309659.0</td>\n",
       "      <td>2.600926e-02</td>\n",
       "      <td>1.591630e-01</td>\n",
       "      <td>0.000000e+00</td>\n",
       "      <td>0.000000e+00</td>\n",
       "      <td>0.000000e+00</td>\n",
       "      <td>0.000000e+00</td>\n",
       "      <td>1.000000e+00</td>\n",
       "    </tr>\n",
       "    <tr>\n",
       "      <th>RISK_SCORE</th>\n",
       "      <td>309659.0</td>\n",
       "      <td>6.228975e-03</td>\n",
       "      <td>5.496348e-03</td>\n",
       "      <td>1.616712e-04</td>\n",
       "      <td>2.901275e-03</td>\n",
       "      <td>4.981366e-03</td>\n",
       "      <td>8.050143e-03</td>\n",
       "      <td>2.732316e-01</td>\n",
       "    </tr>\n",
       "    <tr>\n",
       "      <th>AMT_DIRECT_DEBIT_STATEMENT</th>\n",
       "      <td>309659.0</td>\n",
       "      <td>2.504446e+03</td>\n",
       "      <td>1.683870e+03</td>\n",
       "      <td>0.000000e+00</td>\n",
       "      <td>1.476000e+03</td>\n",
       "      <td>1.893000e+03</td>\n",
       "      <td>2.847960e+03</td>\n",
       "      <td>1.820500e+04</td>\n",
       "    </tr>\n",
       "    <tr>\n",
       "      <th>AMT_1</th>\n",
       "      <td>309659.0</td>\n",
       "      <td>2.339608e+03</td>\n",
       "      <td>1.624468e+03</td>\n",
       "      <td>0.000000e+00</td>\n",
       "      <td>1.393000e+03</td>\n",
       "      <td>1.774000e+03</td>\n",
       "      <td>2.574000e+03</td>\n",
       "      <td>1.807200e+04</td>\n",
       "    </tr>\n",
       "    <tr>\n",
       "      <th>AMT_2</th>\n",
       "      <td>299953.0</td>\n",
       "      <td>2.356318e+03</td>\n",
       "      <td>1.642492e+03</td>\n",
       "      <td>0.000000e+00</td>\n",
       "      <td>1.397000e+03</td>\n",
       "      <td>1.779000e+03</td>\n",
       "      <td>2.590000e+03</td>\n",
       "      <td>1.820500e+04</td>\n",
       "    </tr>\n",
       "    <tr>\n",
       "      <th>AMT_3</th>\n",
       "      <td>292321.0</td>\n",
       "      <td>2.366031e+03</td>\n",
       "      <td>1.650817e+03</td>\n",
       "      <td>0.000000e+00</td>\n",
       "      <td>1.397000e+03</td>\n",
       "      <td>1.783000e+03</td>\n",
       "      <td>2.606210e+03</td>\n",
       "      <td>1.820500e+04</td>\n",
       "    </tr>\n",
       "    <tr>\n",
       "      <th>AMT_4</th>\n",
       "      <td>283633.0</td>\n",
       "      <td>2.369670e+03</td>\n",
       "      <td>1.654401e+03</td>\n",
       "      <td>0.000000e+00</td>\n",
       "      <td>1.396000e+03</td>\n",
       "      <td>1.782000e+03</td>\n",
       "      <td>2.608000e+03</td>\n",
       "      <td>1.820500e+04</td>\n",
       "    </tr>\n",
       "    <tr>\n",
       "      <th>AMT_5</th>\n",
       "      <td>273059.0</td>\n",
       "      <td>2.375241e+03</td>\n",
       "      <td>1.662430e+03</td>\n",
       "      <td>0.000000e+00</td>\n",
       "      <td>1.393000e+03</td>\n",
       "      <td>1.781000e+03</td>\n",
       "      <td>2.615000e+03</td>\n",
       "      <td>1.820500e+04</td>\n",
       "    </tr>\n",
       "    <tr>\n",
       "      <th>AMT_6</th>\n",
       "      <td>252773.0</td>\n",
       "      <td>2.403218e+03</td>\n",
       "      <td>1.687171e+03</td>\n",
       "      <td>0.000000e+00</td>\n",
       "      <td>1.394000e+03</td>\n",
       "      <td>1.790000e+03</td>\n",
       "      <td>2.665000e+03</td>\n",
       "      <td>1.820500e+04</td>\n",
       "    </tr>\n",
       "    <tr>\n",
       "      <th>TENURE1</th>\n",
       "      <td>309659.0</td>\n",
       "      <td>1.874420e+02</td>\n",
       "      <td>2.317279e+02</td>\n",
       "      <td>1.000000e+00</td>\n",
       "      <td>2.000000e+01</td>\n",
       "      <td>8.600000e+01</td>\n",
       "      <td>2.880000e+02</td>\n",
       "      <td>2.372000e+03</td>\n",
       "    </tr>\n",
       "    <tr>\n",
       "      <th>TENURE2</th>\n",
       "      <td>299953.0</td>\n",
       "      <td>2.208789e+02</td>\n",
       "      <td>2.346060e+02</td>\n",
       "      <td>1.000000e+00</td>\n",
       "      <td>5.000000e+01</td>\n",
       "      <td>1.220000e+02</td>\n",
       "      <td>3.270000e+02</td>\n",
       "      <td>2.403000e+03</td>\n",
       "    </tr>\n",
       "    <tr>\n",
       "      <th>TENURE3</th>\n",
       "      <td>292321.0</td>\n",
       "      <td>2.542370e+02</td>\n",
       "      <td>2.360784e+02</td>\n",
       "      <td>1.000000e+00</td>\n",
       "      <td>8.100000e+01</td>\n",
       "      <td>1.570000e+02</td>\n",
       "      <td>3.630000e+02</td>\n",
       "      <td>2.433000e+03</td>\n",
       "    </tr>\n",
       "    <tr>\n",
       "      <th>TENURE4</th>\n",
       "      <td>283633.0</td>\n",
       "      <td>2.868858e+02</td>\n",
       "      <td>2.382078e+02</td>\n",
       "      <td>1.300000e+01</td>\n",
       "      <td>1.120000e+02</td>\n",
       "      <td>1.920000e+02</td>\n",
       "      <td>3.990000e+02</td>\n",
       "      <td>2.464000e+03</td>\n",
       "    </tr>\n",
       "    <tr>\n",
       "      <th>TENURE5</th>\n",
       "      <td>273059.0</td>\n",
       "      <td>3.196218e+02</td>\n",
       "      <td>2.397517e+02</td>\n",
       "      <td>2.900000e+01</td>\n",
       "      <td>1.430000e+02</td>\n",
       "      <td>2.270000e+02</td>\n",
       "      <td>4.340000e+02</td>\n",
       "      <td>2.492000e+03</td>\n",
       "    </tr>\n",
       "    <tr>\n",
       "      <th>TENURE6</th>\n",
       "      <td>252773.0</td>\n",
       "      <td>3.490429e+02</td>\n",
       "      <td>2.421753e+02</td>\n",
       "      <td>3.200000e+01</td>\n",
       "      <td>1.730000e+02</td>\n",
       "      <td>2.600000e+02</td>\n",
       "      <td>4.630000e+02</td>\n",
       "      <td>2.523000e+03</td>\n",
       "    </tr>\n",
       "  </tbody>\n",
       "</table>\n",
       "</div>"
      ],
      "text/plain": [
       "                               count          mean           std  \\\n",
       "SKP_CREDIT_CASE             309659.0  2.408503e+08  1.647431e+07   \n",
       "RISK_AGRF180                309659.0  1.000000e+00  0.000000e+00   \n",
       "RISK_FPD30                  309659.0  2.799854e-03  5.283961e-02   \n",
       "RISK_FSPD30                 309659.0  1.153850e-02  1.067961e-01   \n",
       "RISK_FSTPD30                309659.0  2.244727e-02  1.481333e-01   \n",
       "RISK_FSTQPD30               309659.0  3.436684e-02  1.821699e-01   \n",
       "RISK_FSTQPD60               309659.0  2.600926e-02  1.591630e-01   \n",
       "RISK_SCORE                  309659.0  6.228975e-03  5.496348e-03   \n",
       "AMT_DIRECT_DEBIT_STATEMENT  309659.0  2.504446e+03  1.683870e+03   \n",
       "AMT_1                       309659.0  2.339608e+03  1.624468e+03   \n",
       "AMT_2                       299953.0  2.356318e+03  1.642492e+03   \n",
       "AMT_3                       292321.0  2.366031e+03  1.650817e+03   \n",
       "AMT_4                       283633.0  2.369670e+03  1.654401e+03   \n",
       "AMT_5                       273059.0  2.375241e+03  1.662430e+03   \n",
       "AMT_6                       252773.0  2.403218e+03  1.687171e+03   \n",
       "TENURE1                     309659.0  1.874420e+02  2.317279e+02   \n",
       "TENURE2                     299953.0  2.208789e+02  2.346060e+02   \n",
       "TENURE3                     292321.0  2.542370e+02  2.360784e+02   \n",
       "TENURE4                     283633.0  2.868858e+02  2.382078e+02   \n",
       "TENURE5                     273059.0  3.196218e+02  2.397517e+02   \n",
       "TENURE6                     252773.0  3.490429e+02  2.421753e+02   \n",
       "\n",
       "                                     min           25%           50%  \\\n",
       "SKP_CREDIT_CASE             2.198978e+08  2.289936e+08  2.370710e+08   \n",
       "RISK_AGRF180                1.000000e+00  1.000000e+00  1.000000e+00   \n",
       "RISK_FPD30                  0.000000e+00  0.000000e+00  0.000000e+00   \n",
       "RISK_FSPD30                 0.000000e+00  0.000000e+00  0.000000e+00   \n",
       "RISK_FSTPD30                0.000000e+00  0.000000e+00  0.000000e+00   \n",
       "RISK_FSTQPD30               0.000000e+00  0.000000e+00  0.000000e+00   \n",
       "RISK_FSTQPD60               0.000000e+00  0.000000e+00  0.000000e+00   \n",
       "RISK_SCORE                  1.616712e-04  2.901275e-03  4.981366e-03   \n",
       "AMT_DIRECT_DEBIT_STATEMENT  0.000000e+00  1.476000e+03  1.893000e+03   \n",
       "AMT_1                       0.000000e+00  1.393000e+03  1.774000e+03   \n",
       "AMT_2                       0.000000e+00  1.397000e+03  1.779000e+03   \n",
       "AMT_3                       0.000000e+00  1.397000e+03  1.783000e+03   \n",
       "AMT_4                       0.000000e+00  1.396000e+03  1.782000e+03   \n",
       "AMT_5                       0.000000e+00  1.393000e+03  1.781000e+03   \n",
       "AMT_6                       0.000000e+00  1.394000e+03  1.790000e+03   \n",
       "TENURE1                     1.000000e+00  2.000000e+01  8.600000e+01   \n",
       "TENURE2                     1.000000e+00  5.000000e+01  1.220000e+02   \n",
       "TENURE3                     1.000000e+00  8.100000e+01  1.570000e+02   \n",
       "TENURE4                     1.300000e+01  1.120000e+02  1.920000e+02   \n",
       "TENURE5                     2.900000e+01  1.430000e+02  2.270000e+02   \n",
       "TENURE6                     3.200000e+01  1.730000e+02  2.600000e+02   \n",
       "\n",
       "                                     75%           max  \n",
       "SKP_CREDIT_CASE             2.467696e+08  2.887665e+08  \n",
       "RISK_AGRF180                1.000000e+00  1.000000e+00  \n",
       "RISK_FPD30                  0.000000e+00  1.000000e+00  \n",
       "RISK_FSPD30                 0.000000e+00  1.000000e+00  \n",
       "RISK_FSTPD30                0.000000e+00  1.000000e+00  \n",
       "RISK_FSTQPD30               0.000000e+00  1.000000e+00  \n",
       "RISK_FSTQPD60               0.000000e+00  1.000000e+00  \n",
       "RISK_SCORE                  8.050143e-03  2.732316e-01  \n",
       "AMT_DIRECT_DEBIT_STATEMENT  2.847960e+03  1.820500e+04  \n",
       "AMT_1                       2.574000e+03  1.807200e+04  \n",
       "AMT_2                       2.590000e+03  1.820500e+04  \n",
       "AMT_3                       2.606210e+03  1.820500e+04  \n",
       "AMT_4                       2.608000e+03  1.820500e+04  \n",
       "AMT_5                       2.615000e+03  1.820500e+04  \n",
       "AMT_6                       2.665000e+03  1.820500e+04  \n",
       "TENURE1                     2.880000e+02  2.372000e+03  \n",
       "TENURE2                     3.270000e+02  2.403000e+03  \n",
       "TENURE3                     3.630000e+02  2.433000e+03  \n",
       "TENURE4                     3.990000e+02  2.464000e+03  \n",
       "TENURE5                     4.340000e+02  2.492000e+03  \n",
       "TENURE6                     4.630000e+02  2.523000e+03  "
      ]
     },
     "execution_count": 23,
     "metadata": {},
     "output_type": "execute_result"
    }
   ],
   "source": [
    "df.describe().T"
   ]
  },
  {
   "cell_type": "code",
   "execution_count": 24,
   "metadata": {},
   "outputs": [],
   "source": [
    "df = df_encoded"
   ]
  },
  {
   "cell_type": "code",
   "execution_count": 25,
   "metadata": {},
   "outputs": [],
   "source": [
    "df_test = df[df[\"TIME_DECISION_DATE\"]>= pd.datetime(2019,8,1)]\n",
    "df_train = df[df[\"TIME_DECISION_DATE\"]< pd.datetime(2019,8,1)]\n"
   ]
  },
  {
   "cell_type": "code",
   "execution_count": 26,
   "metadata": {},
   "outputs": [],
   "source": [
    "x_column = ['AMT_DIRECT_DEBIT_STATEMENT','TENURE1', 'TENURE2', 'TENURE3', 'TENURE4',\n",
    "       'TENURE5', 'TENURE6', 'Debited_CODE_1', 'Posted_CODE_1',\n",
    "       'Undebited_CODE_1', 'Debited_CODE_2', 'Posted_CODE_2',\n",
    "       'Undebited_CODE_2', 'Debited_CODE_3', 'Posted_CODE_3',\n",
    "       'Undebited_CODE_3', 'Debited_CODE_4', 'Posted_CODE_4',\n",
    "       'Undebited_CODE_4', 'Debited_CODE_5', 'Posted_CODE_5',\n",
    "       'Undebited_CODE_5', 'Debited_CODE_6', 'Posted_CODE_6',\n",
    "       'Undebited_CODE_6', 'DEBITED_REASON_1_ENCODED',\n",
    "       'Others_REASON_1_ENCODED', 'PROCESS ISSUE_REASON_1_ENCODED',\n",
    "       'WILLFULL DEFAULTS_REASON_1_ENCODED', 'DEBITED_REASON_2_ENCODED',\n",
    "       'Others_REASON_2_ENCODED', 'PROCESS ISSUE_REASON_2_ENCODED',\n",
    "       'WILLFULL DEFAULTS_REASON_2_ENCODED', 'DEBITED_REASON_3_ENCODED',\n",
    "       'Others_REASON_3_ENCODED', 'PROCESS ISSUE_REASON_3_ENCODED',\n",
    "       'WILLFULL DEFAULTS_REASON_3_ENCODED', 'DEBITED_REASON_4_ENCODED',\n",
    "       'Others_REASON_4_ENCODED', 'PROCESS ISSUE_REASON_4_ENCODED',\n",
    "       'WILLFULL DEFAULTS_REASON_4_ENCODED', 'DEBITED_REASON_5_ENCODED',\n",
    "       'Others_REASON_5_ENCODED', 'PROCESS ISSUE_REASON_5_ENCODED',\n",
    "       'WILLFULL DEFAULTS_REASON_5_ENCODED', 'DEBITED_REASON_6_ENCODED',\n",
    "       'Others_REASON_6_ENCODED', 'PROCESS ISSUE_REASON_6_ENCODED',\n",
    "       'WILLFULL DEFAULTS_REASON_6_ENCODED','RISK_SCORE']\n",
    "y_column = 'RISK_FSTQPD30'"
   ]
  },
  {
   "cell_type": "code",
   "execution_count": 27,
   "metadata": {},
   "outputs": [
    {
     "name": "stdout",
     "output_type": "stream",
     "text": [
      "\n",
      "Event rate in train set : 3.25%\n",
      "\n",
      " Train set shape: (180744, 50)\n",
      "\n",
      "Event rate in test set : 3.79%\n",
      "\n",
      " Test set shape: (83729, 50)\n",
      "\n",
      "Event rate in validation set : 3.51%\n",
      "\n",
      " validation set shape: (45186, 50)\n",
      "\n",
      " Train GINI 0.3319617526604359\n",
      "\n",
      " Test GINI 0.35546757942792384\n",
      "\n",
      " validation GINI 0.34785006710089417\n"
     ]
    }
   ],
   "source": [
    "# split data into train and test sets\n",
    "seed = 25522\n",
    "\n",
    "X_test = df_test[x_column]\n",
    "y_test = df_test[y_column]\n",
    "\n",
    "X_train, X_valid, y_train, y_valid = train_test_split(df_train[x_column], df_train[y_column], test_size=0.2, random_state=seed)\n",
    "\n",
    "\n",
    "##event rate\n",
    "print(\"\\nEvent rate in train set :\", '{:,.2%}'.format(sum(y_train) / len(y_train)))\n",
    "print(\"\\n Train set shape:\",X_train.shape)\n",
    "print(\"\\nEvent rate in test set :\", '{:,.2%}'.format(sum(y_test) / len(y_test)))\n",
    "print(\"\\n Test set shape:\",X_test.shape)\n",
    "print(\"\\nEvent rate in validation set :\", '{:,.2%}'.format(sum(y_valid) / len(y_valid)))\n",
    "print(\"\\n validation set shape:\",X_valid.shape)\n",
    "print(\"\\n Train GINI\",  metrics.roc_auc_score(y_train, X_train['RISK_SCORE'])*2 -1)\n",
    "print(\"\\n Test GINI\",  metrics.roc_auc_score(y_test, X_test['RISK_SCORE'])*2 -1)\n",
    "print(\"\\n validation GINI\",  metrics.roc_auc_score(y_valid, X_valid['RISK_SCORE'])*2 -1)\n"
   ]
  },
  {
   "cell_type": "code",
   "execution_count": 28,
   "metadata": {},
   "outputs": [],
   "source": [
    "## Variable importance\n",
    "def fimportances(xc, predictors):\n",
    "    importances = pd.DataFrame({'predictor': predictors, 'importance': xc.feature_importances_})\n",
    "    importances = importances[importances['importance'] > 0]\n",
    "    importances.sort_values(by='importance', ascending=False, inplace=True)\n",
    "    importances.reset_index(inplace=True, drop=True)\n",
    "    importances = importances[['predictor', 'importance']]\n",
    "    return importances"
   ]
  },
  {
   "cell_type": "code",
   "execution_count": 29,
   "metadata": {},
   "outputs": [],
   "source": [
    "xgb_model = xgb.XGBClassifier(max_depth = 3,\n",
    "              learning_rate= 0.01,\n",
    "              subsample= 0.6,\n",
    "              min_child_weight= 10,\n",
    "              colsample_bytree= 0.6,\n",
    "              scale_pos_weight =25,\n",
    "              objective= 'binary:logistic', \n",
    "              nthread = -1, \n",
    "              n_estimators = 200              \n",
    "              )\n",
    "\n",
    "evals=[(X_train.drop(columns='RISK_SCORE'), np.ravel(y_train)),(X_valid.drop(columns='RISK_SCORE'), np.ravel(y_valid))]\n",
    "\n",
    "bst = xgb_model.fit(X_train.drop(columns='RISK_SCORE'), np.ravel(y_train), eval_metric=\"auc\", eval_set=evals,\n",
    "                    early_stopping_rounds=40   ,  verbose=False)"
   ]
  },
  {
   "cell_type": "code",
   "execution_count": 30,
   "metadata": {},
   "outputs": [],
   "source": [
    "imp = fimportances(bst,X_train.drop(columns='RISK_SCORE').columns)"
   ]
  },
  {
   "cell_type": "code",
   "execution_count": 31,
   "metadata": {},
   "outputs": [
    {
     "name": "stdout",
     "output_type": "stream",
     "text": [
      "Columns Remaining : 40 , gini_train: 0.163771,gini_test: 0.129772 \n",
      "Columns Remaining : 35 , gini_train: 0.164986,gini_test: 0.127891 \n",
      "Columns Remaining : 32 , gini_train: 0.158940,gini_test: 0.125201 \n",
      "Columns Remaining : 28 , gini_train: 0.161991,gini_test: 0.126645 \n",
      "Columns Remaining : 26 , gini_train: 0.164796,gini_test: 0.127556 \n",
      "Columns Remaining : 24 , gini_train: 0.163450,gini_test: 0.127477 \n",
      "Columns Remaining : 22 , gini_train: 0.171099,gini_test: 0.126410 \n",
      "Columns Remaining : 20 , gini_train: 0.167457,gini_test: 0.127198 \n",
      "Columns Remaining : 18 , gini_train: 0.160650,gini_test: 0.126530 \n",
      "Columns Remaining : 16 , gini_train: 0.161568,gini_test: 0.126959 \n",
      "Columns Remaining : 14 , gini_train: 0.166369,gini_test: 0.125455 \n",
      "Columns Remaining : 12 , gini_train: 0.151996,gini_test: 0.119377 \n",
      "Columns Remaining : 10 , gini_train: 0.148963,gini_test: 0.119057 \n",
      "Columns Remaining : 8 , gini_train: 0.156421,gini_test: 0.118931 \n",
      "Columns Remaining : 6 , gini_train: 0.142832,gini_test: 0.108632 \n",
      "Columns Remaining : 4 , gini_train: 0.135861,gini_test: 0.108649 \n"
     ]
    }
   ],
   "source": [
    "bst1 = bst\n",
    "X_train_1 = X_train.drop(columns='RISK_SCORE')\n",
    "X_valid_1 = X_valid.drop(columns='RISK_SCORE')\n",
    "select_X_train = X_train_1\n",
    "\n",
    "dic_imp = {\"n\":[imp.shape[0]],\"Gini Train\":[0],\"Gini Test\":[0],\"Predictors\":[list(imp['predictor'])]}\n",
    "\n",
    "while(select_X_train.shape[1] > 4):\n",
    "    select_X_train = X_train_1[list(imp['predictor'])[:-2]]\n",
    "    select_X_valid = X_valid_1[list(imp['predictor'])[:-2]]\n",
    "    xgb_model = xgb.XGBClassifier(max_depth = 3,\n",
    "              learning_rate= 0.01,\n",
    "              subsample= 0.6,\n",
    "              min_child_weight= 10,\n",
    "              colsample_bytree= 0.6,\n",
    "              scale_pos_weight =25,\n",
    "              objective= 'binary:logistic', \n",
    "              nthread = -1, \n",
    "              n_estimators = 200              \n",
    "              )\n",
    "\n",
    "    evals=[(select_X_train, np.ravel(y_train)),(select_X_valid, np.ravel(y_valid))]\n",
    "\n",
    "    bst = xgb_model.fit(select_X_train, np.ravel(y_train), eval_metric=\"auc\", eval_set=evals,\n",
    "                        early_stopping_rounds=40   ,  verbose=False)\n",
    "    \n",
    "    ypred_train = bst.predict_proba(select_X_train)[:, 1]\n",
    "    ypred_test  = bst.predict_proba(select_X_valid)[:, 1]\n",
    "    \n",
    "    metric_auc_train = metrics.roc_auc_score(y_train, ypred_train)\n",
    "    metric_auc_test = metrics.roc_auc_score(y_valid, ypred_test)\n",
    "\n",
    "    gini_train = 2 * metric_auc_train - 1\n",
    "    gini_test = 2 * metric_auc_test - 1\n",
    "    \n",
    "    print(\"Columns Remaining : %d , gini_train: %f,gini_test: %f \"%(select_X_train.shape[1],gini_train,gini_test))\n",
    "    \n",
    "    dic_imp['n'].append(imp.shape[0])\n",
    "    dic_imp['Gini Train'].append(gini_train)\n",
    "    dic_imp['Gini Test'].append(gini_test)\n",
    "    dic_imp['Predictors'].append(list(imp['predictor']))\n",
    "    \n",
    "    imp = fimportances(bst,select_X_train.columns)"
   ]
  },
  {
   "cell_type": "code",
   "execution_count": 32,
   "metadata": {},
   "outputs": [],
   "source": [
    "df_imp =pd.DataFrame(dic_imp)"
   ]
  },
  {
   "cell_type": "code",
   "execution_count": 33,
   "metadata": {},
   "outputs": [],
   "source": [
    "selected_vars = list(df_imp[df_imp['n']==14][\"Predictors\"])"
   ]
  },
  {
   "cell_type": "code",
   "execution_count": 34,
   "metadata": {},
   "outputs": [
    {
     "data": {
      "text/plain": [
       "[['AMT_DIRECT_DEBIT_STATEMENT',\n",
       "  'TENURE6',\n",
       "  'TENURE5',\n",
       "  'TENURE2',\n",
       "  'TENURE3',\n",
       "  'TENURE1',\n",
       "  'TENURE4',\n",
       "  'WILLFULL DEFAULTS_REASON_1_ENCODED',\n",
       "  'DEBITED_REASON_4_ENCODED',\n",
       "  'Undebited_CODE_1',\n",
       "  'Undebited_CODE_2',\n",
       "  'DEBITED_REASON_2_ENCODED',\n",
       "  'DEBITED_REASON_6_ENCODED',\n",
       "  'WILLFULL DEFAULTS_REASON_3_ENCODED']]"
      ]
     },
     "execution_count": 34,
     "metadata": {},
     "output_type": "execute_result"
    }
   ],
   "source": [
    "selected_vars"
   ]
  },
  {
   "cell_type": "code",
   "execution_count": 35,
   "metadata": {},
   "outputs": [
    {
     "name": "stdout",
     "output_type": "stream",
     "text": [
      "\n",
      " Train shape: (180744, 14) \n",
      " Test shape: (83729, 14) \n",
      " Validation shape: (45186, 14)\n"
     ]
    }
   ],
   "source": [
    "X_train_2=X_train[selected_vars[0]]\n",
    "X_test_2=X_test[selected_vars[0]]\n",
    "X_valid_2=X_valid[selected_vars[0]]\n",
    "\n",
    "print(\"\\n Train shape:\",X_train_2.shape,\"\\n Test shape:\",X_test_2.shape,\"\\n Validation shape:\",X_valid_2.shape)"
   ]
  },
  {
   "cell_type": "code",
   "execution_count": 36,
   "metadata": {},
   "outputs": [],
   "source": [
    "# set model parameters \n",
    "missing_value=None; cpu=-1; early_stopping_round=40; split_random_state=None\n",
    "kfolds = StratifiedKFold(4, random_state=1)"
   ]
  },
  {
   "cell_type": "code",
   "execution_count": 37,
   "metadata": {
    "scrolled": true
   },
   "outputs": [
    {
     "name": "stdout",
     "output_type": "stream",
     "text": [
      "Randomized search..\n",
      "Randomized search time: 1064.1421654224396\n",
      "Best score: 0.569119372596227\n",
      "Best params: \n",
      "colsample_bytree: 0.7000000000000002\n",
      "learning_rate: 0.006\n",
      "max_depth: 3\n",
      "min_child_weight: 19\n",
      "scale_pos_weight: 25\n",
      "subsample: 0.55\n"
     ]
    }
   ],
   "source": [
    "## XGB model## The model is pretty stable with default parameters(after variable selection), hence not tuning any more\n",
    "param_grid = {'max_depth': list(range(1, 6)),\n",
    "              'learning_rate': np.arange(0.001, 0.02, 0.001),\n",
    "              'subsample': np.arange(0.4, 0.7,0.05),\n",
    "              'min_child_weight': np.arange(1, 25, 3),\n",
    "              'colsample_bytree': np.arange(0.5, 0.75, 0.05),\n",
    "              'scale_pos_weight' :np.arange(5, 40, 5)\n",
    "            }\n",
    "\n",
    "if X_train_2.shape[1] == 1:\n",
    "    param_grid['colsample_bytree'] = [1]\n",
    "    \n",
    "param_dist = {'objective': 'binary:logistic', 'nthread': cpu, 'n_estimators': 200}\n",
    "xgb_model = xgb.XGBClassifier(**param_dist)\n",
    "\n",
    "##random search XGB    \n",
    "clf = RandomizedSearchCV(estimator=xgb_model, param_distributions=param_grid, scoring=['roc_auc'], n_iter=20,\n",
    "                         random_state=40, cv=kfolds.split(X_train_2, y_train), refit='roc_auc',error_score=0, return_train_score =True)\n",
    "print(\"Randomized search..\")\n",
    "search_time_start = time.time()\n",
    "clf.fit(X_train_2, np.ravel(y_train))\n",
    "print(\"Randomized search time:\", time.time() - search_time_start)\n",
    "params = clf.best_params_\n",
    "\n",
    "dic=clf.cv_results_\n",
    "\n",
    "params_bst = params\n",
    "params_tbl = pd.DataFrame(columns=list(params_bst.keys()))  \n",
    "params_tbl.loc['0'] = [params_bst[k] for k in params_tbl.columns]\n",
    "\n",
    "print(\"Best score: {}\".format(clf.best_score_))\n",
    "print(\"Best params: \")\n",
    "for param_name in sorted(params_bst.keys()):\n",
    "    print('%s: %r' % (param_name, params_bst[param_name]))\n",
    "\n",
    "params.update(param_dist)\n",
    "xgb_model = xgb.XGBClassifier(**params)"
   ]
  },
  {
   "cell_type": "code",
   "execution_count": 38,
   "metadata": {},
   "outputs": [
    {
     "name": "stderr",
     "output_type": "stream",
     "text": [
      "C:\\Users\\aman.khatri91425\\AppData\\Local\\Continuum\\anaconda3\\lib\\site-packages\\ipykernel_launcher.py:1: FutureWarning: The signature of `Series.to_csv` was aligned to that of `DataFrame.to_csv`, and argument 'header' will change its default value from False to True: please pass an explicit value to suppress this warning.\n",
      "  \"\"\"Entry point for launching an IPython kernel.\n"
     ]
    }
   ],
   "source": [
    "pd.Series(dic['mean_train_roc_auc']).to_csv(\"mean_train_roc_auc_mesdq.csv\")"
   ]
  },
  {
   "cell_type": "code",
   "execution_count": 39,
   "metadata": {},
   "outputs": [
    {
     "name": "stderr",
     "output_type": "stream",
     "text": [
      "C:\\Users\\aman.khatri91425\\AppData\\Local\\Continuum\\anaconda3\\lib\\site-packages\\ipykernel_launcher.py:1: FutureWarning: The signature of `Series.to_csv` was aligned to that of `DataFrame.to_csv`, and argument 'header' will change its default value from False to True: please pass an explicit value to suppress this warning.\n",
      "  \"\"\"Entry point for launching an IPython kernel.\n"
     ]
    }
   ],
   "source": [
    "pd.Series(dic['mean_test_roc_auc']).to_csv(\"mean_test_roc_auc_mesdq.csv\")"
   ]
  },
  {
   "cell_type": "code",
   "execution_count": 40,
   "metadata": {},
   "outputs": [],
   "source": [
    "pd.DataFrame(dic['params']).to_csv(\"params_mesdq.csv\")"
   ]
  },
  {
   "cell_type": "code",
   "execution_count": 41,
   "metadata": {},
   "outputs": [],
   "source": [
    "#First Run\n",
    "xgb_model = xgb.XGBClassifier(max_depth = 3,\n",
    "              learning_rate= 0.006,\n",
    "              subsample= 0.55,\n",
    "              min_child_weight= 19,\n",
    "              colsample_bytree= 0.7,\n",
    "              scale_pos_weight =25,\n",
    "              objective= 'binary:logistic', \n",
    "              nthread = -1, \n",
    "              n_estimators = 200\n",
    "             )\n",
    "#GINI TRAIN: \n",
    "\n",
    "#GINI Validation: \n",
    "\n",
    "#GINI CV: \n",
    "\n",
    "#Gini Test "
   ]
  },
  {
   "cell_type": "code",
   "execution_count": 42,
   "metadata": {},
   "outputs": [],
   "source": [
    "#if required\n",
    "#%env JOBLIB_TEMP_FOLDER=/tmp"
   ]
  },
  {
   "cell_type": "code",
   "execution_count": 43,
   "metadata": {
    "scrolled": true
   },
   "outputs": [],
   "source": [
    "# cross validation gini\n",
    "def xgboost(X_tr,X_ts,y_tr,y_ts):\n",
    "    auc_cv = cross_val_score(xgb_model, X_tr, np.ravel(y_tr), scoring='roc_auc', cv=kfolds.split(X_tr, np.ravel(y_tr)),\n",
    "                             n_jobs=1)\n",
    "    gini_cv = (2 * np.array(auc_cv) - 1).mean()\n",
    "    evals=[(X_tr, np.ravel(y_tr)),(X_ts, np.ravel(y_ts))]\n",
    "\n",
    "    bst = xgb_model.fit(X_tr, np.ravel(y_tr), eval_metric=\"auc\", eval_set=evals,\n",
    "                        early_stopping_rounds=early_stopping_round   ,  verbose=False)\n",
    "\n",
    "    if early_stopping_round is None:\n",
    "        ypred_train = bst.predict_proba(X_tr)[:, 1]\n",
    "        ypred_test = bst.predict_proba(X_ts)[:, 1]\n",
    "    else:\n",
    "        ypred_train = bst.predict_proba(X_tr, ntree_limit=bst.best_ntree_limit)[:, 1]\n",
    "        ypred_test = bst.predict_proba(X_ts, ntree_limit=bst.best_ntree_limit)[:, 1]\n",
    "\n",
    "    metric_auc_train = metrics.roc_auc_score(y_tr, ypred_train)\n",
    "    metric_auc_test = metrics.roc_auc_score(y_ts, ypred_test)\n",
    "\n",
    "    gini_train = 2 * metric_auc_train - 1\n",
    "    gini_test = 2 * metric_auc_test - 1\n",
    "\n",
    "    return bst,gini_cv,gini_train,gini_test,ypred_train,ypred_test"
   ]
  },
  {
   "cell_type": "code",
   "execution_count": 44,
   "metadata": {},
   "outputs": [
    {
     "name": "stdout",
     "output_type": "stream",
     "text": [
      "GINI TRAIN: 0.15940333260775263\n",
      "\n",
      "GINI Validation: 0.12320888334856583\n",
      "\n",
      "GINI CV: 0.13823873015893084\n"
     ]
    }
   ],
   "source": [
    "## run xgboost\n",
    "bst,gini_cv,gini_train,gini_test,ypred_train,ypred_test=xgboost(X_train_2, X_valid_2, y_train, y_valid)\n",
    "\n",
    "##Model performance on sample\n",
    "print(\"GINI TRAIN:\",gini_train )\n",
    "print(\"\\nGINI Validation:\",gini_test )\n",
    "print(\"\\nGINI CV:\",gini_cv )"
   ]
  },
  {
   "cell_type": "code",
   "execution_count": 45,
   "metadata": {},
   "outputs": [
    {
     "data": {
      "text/plain": [
       "Index(['AMT_DIRECT_DEBIT_STATEMENT', 'TENURE6', 'TENURE5', 'TENURE2',\n",
       "       'TENURE3', 'TENURE1', 'TENURE4', 'WILLFULL DEFAULTS_REASON_1_ENCODED',\n",
       "       'DEBITED_REASON_4_ENCODED', 'Undebited_CODE_1', 'Undebited_CODE_2',\n",
       "       'DEBITED_REASON_2_ENCODED', 'DEBITED_REASON_6_ENCODED',\n",
       "       'WILLFULL DEFAULTS_REASON_3_ENCODED'],\n",
       "      dtype='object')"
      ]
     },
     "execution_count": 45,
     "metadata": {},
     "output_type": "execute_result"
    }
   ],
   "source": [
    "X_train_2.columns"
   ]
  },
  {
   "cell_type": "code",
   "execution_count": 46,
   "metadata": {},
   "outputs": [
    {
     "name": "stdout",
     "output_type": "stream",
     "text": [
      "Gini Test 0.14881241304230897\n"
     ]
    }
   ],
   "source": [
    "#ypred_test = bst.predict_proba(X_test_2.drop(columns=['act','pred']), ntree_limit=bst.best_ntree_limit)[:, 1]\n",
    "ypred_test = bst.predict_proba(X_test_2, ntree_limit=bst.best_ntree_limit)[:, 1]\n",
    "metric_auc_test = metrics.roc_auc_score(y_test, ypred_test)\n",
    "print(\"Gini Test\",metric_auc_test*2-1)"
   ]
  },
  {
   "cell_type": "code",
   "execution_count": 47,
   "metadata": {
    "scrolled": true
   },
   "outputs": [],
   "source": [
    "importance_tbl = fimportances(bst, X_train_2.columns)\n",
    "importance_tbl.to_csv(os.getcwd()+r\"\\xgb_cl_varimp_skp_client.csv\",index=0)"
   ]
  },
  {
   "cell_type": "code",
   "execution_count": 48,
   "metadata": {
    "scrolled": true
   },
   "outputs": [
    {
     "data": {
      "text/html": [
       "<div>\n",
       "<style scoped>\n",
       "    .dataframe tbody tr th:only-of-type {\n",
       "        vertical-align: middle;\n",
       "    }\n",
       "\n",
       "    .dataframe tbody tr th {\n",
       "        vertical-align: top;\n",
       "    }\n",
       "\n",
       "    .dataframe thead th {\n",
       "        text-align: right;\n",
       "    }\n",
       "</style>\n",
       "<table border=\"1\" class=\"dataframe\">\n",
       "  <thead>\n",
       "    <tr style=\"text-align: right;\">\n",
       "      <th></th>\n",
       "      <th>predictor</th>\n",
       "      <th>importance</th>\n",
       "    </tr>\n",
       "  </thead>\n",
       "  <tbody>\n",
       "    <tr>\n",
       "      <th>0</th>\n",
       "      <td>AMT_DIRECT_DEBIT_STATEMENT</td>\n",
       "      <td>0.229508</td>\n",
       "    </tr>\n",
       "    <tr>\n",
       "      <th>1</th>\n",
       "      <td>TENURE6</td>\n",
       "      <td>0.184426</td>\n",
       "    </tr>\n",
       "    <tr>\n",
       "      <th>2</th>\n",
       "      <td>TENURE5</td>\n",
       "      <td>0.090164</td>\n",
       "    </tr>\n",
       "    <tr>\n",
       "      <th>3</th>\n",
       "      <td>TENURE2</td>\n",
       "      <td>0.081967</td>\n",
       "    </tr>\n",
       "    <tr>\n",
       "      <th>4</th>\n",
       "      <td>TENURE4</td>\n",
       "      <td>0.063525</td>\n",
       "    </tr>\n",
       "    <tr>\n",
       "      <th>5</th>\n",
       "      <td>WILLFULL DEFAULTS_REASON_1_ENCODED</td>\n",
       "      <td>0.060451</td>\n",
       "    </tr>\n",
       "    <tr>\n",
       "      <th>6</th>\n",
       "      <td>TENURE3</td>\n",
       "      <td>0.054303</td>\n",
       "    </tr>\n",
       "    <tr>\n",
       "      <th>7</th>\n",
       "      <td>TENURE1</td>\n",
       "      <td>0.054303</td>\n",
       "    </tr>\n",
       "    <tr>\n",
       "      <th>8</th>\n",
       "      <td>DEBITED_REASON_4_ENCODED</td>\n",
       "      <td>0.050205</td>\n",
       "    </tr>\n",
       "    <tr>\n",
       "      <th>9</th>\n",
       "      <td>Undebited_CODE_1</td>\n",
       "      <td>0.037910</td>\n",
       "    </tr>\n",
       "    <tr>\n",
       "      <th>10</th>\n",
       "      <td>DEBITED_REASON_2_ENCODED</td>\n",
       "      <td>0.034836</td>\n",
       "    </tr>\n",
       "    <tr>\n",
       "      <th>11</th>\n",
       "      <td>Undebited_CODE_2</td>\n",
       "      <td>0.025615</td>\n",
       "    </tr>\n",
       "    <tr>\n",
       "      <th>12</th>\n",
       "      <td>DEBITED_REASON_6_ENCODED</td>\n",
       "      <td>0.018443</td>\n",
       "    </tr>\n",
       "    <tr>\n",
       "      <th>13</th>\n",
       "      <td>WILLFULL DEFAULTS_REASON_3_ENCODED</td>\n",
       "      <td>0.014344</td>\n",
       "    </tr>\n",
       "  </tbody>\n",
       "</table>\n",
       "</div>"
      ],
      "text/plain": [
       "                             predictor  importance\n",
       "0           AMT_DIRECT_DEBIT_STATEMENT    0.229508\n",
       "1                              TENURE6    0.184426\n",
       "2                              TENURE5    0.090164\n",
       "3                              TENURE2    0.081967\n",
       "4                              TENURE4    0.063525\n",
       "5   WILLFULL DEFAULTS_REASON_1_ENCODED    0.060451\n",
       "6                              TENURE3    0.054303\n",
       "7                              TENURE1    0.054303\n",
       "8             DEBITED_REASON_4_ENCODED    0.050205\n",
       "9                     Undebited_CODE_1    0.037910\n",
       "10            DEBITED_REASON_2_ENCODED    0.034836\n",
       "11                    Undebited_CODE_2    0.025615\n",
       "12            DEBITED_REASON_6_ENCODED    0.018443\n",
       "13  WILLFULL DEFAULTS_REASON_3_ENCODED    0.014344"
      ]
     },
     "execution_count": 48,
     "metadata": {},
     "output_type": "execute_result"
    }
   ],
   "source": [
    "importance_tbl"
   ]
  },
  {
   "cell_type": "code",
   "execution_count": 49,
   "metadata": {},
   "outputs": [
    {
     "name": "stderr",
     "output_type": "stream",
     "text": [
      "C:\\Users\\aman.khatri91425\\AppData\\Local\\Continuum\\anaconda3\\lib\\site-packages\\ipykernel_launcher.py:4: SettingWithCopyWarning: \n",
      "A value is trying to be set on a copy of a slice from a DataFrame.\n",
      "Try using .loc[row_indexer,col_indexer] = value instead\n",
      "\n",
      "See the caveats in the documentation: http://pandas.pydata.org/pandas-docs/stable/indexing.html#indexing-view-versus-copy\n",
      "  after removing the cwd from sys.path.\n"
     ]
    }
   ],
   "source": [
    "## save the model \n",
    "pickle.dump(bst, open(os.getcwd()+r\"\\model_clx_skp_client\", \"wb\"))\n",
    "##Score the dataset\n",
    "outtest=X_test_2;  outtest['pred']=ypred_test ; outtest['act']=y_test ; \n",
    "outtest.to_csv(os.getcwd()+r\"\\clx_test_scored_skp_client.csv\")"
   ]
  },
  {
   "cell_type": "code",
   "execution_count": 50,
   "metadata": {},
   "outputs": [],
   "source": [
    "df[\"XGB_SCORE\"] = bst.predict_proba(df[selected_vars[0]], ntree_limit=bst.best_ntree_limit)[:, 1]"
   ]
  },
  {
   "cell_type": "code",
   "execution_count": 51,
   "metadata": {},
   "outputs": [
    {
     "name": "stdout",
     "output_type": "stream",
     "text": [
      "[[76781  3775]\n",
      " [ 2761   412]]\n",
      "\n",
      " Log Loss is : 0.6545496718148773\n",
      "Average precision-recall score: 0.05\n"
     ]
    },
    {
     "data": {
      "image/png": "[encoded data removed]",
      "text/plain": [
       "<Figure size 432x288 with 1 Axes>"
      ]
     },
     "metadata": {
      "needs_background": "light"
     },
     "output_type": "display_data"
    }
   ],
   "source": [
    "#metrics calculation\n",
    "cutoff=np.percentile(X_test['RISK_SCORE'],95)\n",
    "ypred=pd.Series(X_test['RISK_SCORE']).apply(lambda x : 1 if x >cutoff else 0 )\n",
    "#ypred=pd.Series(ypred_test).apply(lambda x : 1 if x > 0.48631722 else 0 )\n",
    "\n",
    "print(confusion_matrix(y_test, ypred))\n",
    "pd.Series(ypred_test).plot.hist(bins=10, rwidth=0.9 ,color='#607c8e')\n",
    "\n",
    "print(\"\\n Log Loss is :\",log_loss(y_test, ypred_test))\n",
    "print('Average precision-recall score: {0:0.2f}'.format(average_precision_score(y_test, ypred_test)))"
   ]
  },
  {
   "cell_type": "code",
   "execution_count": 52,
   "metadata": {},
   "outputs": [],
   "source": [
    "# retrieve performance metrics\n",
    "results = bst.evals_result()\n",
    "epochs = len(results['validation_0']['auc'])\n",
    "x_axis = range(0, epochs)"
   ]
  },
  {
   "cell_type": "code",
   "execution_count": 53,
   "metadata": {},
   "outputs": [
    {
     "data": {
      "text/plain": [
       "Text(0.5, 1.0, 'XGBoost AUC')"
      ]
     },
     "execution_count": 53,
     "metadata": {},
     "output_type": "execute_result"
    },
    {
     "data": {
      "image/png": "[encoded data removed]",
      "text/plain": [
       "<Figure size 432x288 with 1 Axes>"
      ]
     },
     "metadata": {
      "needs_background": "light"
     },
     "output_type": "display_data"
    }
   ],
   "source": [
    "# plot classification error\n",
    "fig, ax = plt.subplots()\n",
    "ax.plot(x_axis, results['validation_0']['auc'], label='train')\n",
    "ax.plot(x_axis, results['validation_1']['auc'], label='test')\n",
    "\n",
    "ax.legend()\n",
    "plt.ylabel('XGB AUC')\n",
    "plt.title('XGBoost AUC')"
   ]
  },
  {
   "cell_type": "code",
   "execution_count": 54,
   "metadata": {},
   "outputs": [
    {
     "data": {
      "image/png": "[encoded data removed]",
      "text/plain": [
       "<Figure size 432x288 with 1 Axes>"
      ]
     },
     "metadata": {
      "needs_background": "light"
     },
     "output_type": "display_data"
    }
   ],
   "source": [
    "# Compute micro-average ROC curve and ROC area\n",
    "fpr, tpr, thresholds = roc_curve(y_test.ravel(), ypred_test.ravel())\n",
    "roc_auc = auc(fpr, tpr)\n",
    "\n",
    "plt.figure()\n",
    "lw = 1\n",
    "plt.plot(fpr, tpr, color='darkorange',         lw=lw, label='ROC curve (area = %0.2f)' % roc_auc)\n",
    "plt.plot([0, 1], [0, 1], color='navy', lw=lw, linestyle='--')\n",
    "plt.xlim([0.0, 1.0])\n",
    "plt.ylim([0.0, 1.05])\n",
    "plt.xlabel('False Positive Rate')\n",
    "plt.ylabel('True Positive Rate')\n",
    "plt.title('Receiver operating characteristic example')\n",
    "plt.legend(loc=\"lower right\")\n",
    "plt.show()"
   ]
  },
  {
   "cell_type": "code",
   "execution_count": 55,
   "metadata": {},
   "outputs": [
    {
     "data": {
      "text/plain": [
       "[]"
      ]
     },
     "execution_count": 55,
     "metadata": {},
     "output_type": "execute_result"
    },
    {
     "data": {
      "image/png": "[encoded data removed]",
      "text/plain": [
       "<Figure size 432x288 with 1 Axes>"
      ]
     },
     "metadata": {
      "needs_background": "light"
     },
     "output_type": "display_data"
    }
   ],
   "source": [
    "i = np.arange(len(tpr)) # index for df\n",
    "roc = pd.DataFrame({'fpr' : pd.Series(fpr, index=i),'tpr' : pd.Series(tpr, index = i), '1-fpr' : pd.Series(1-fpr, index = i), 'tf' : pd.Series(tpr - (1-fpr), index = i), 'thresholds' : pd.Series(thresholds, index = i)})\n",
    "roc.ix[(roc.tf-0).abs().argsort()[:1]]\n",
    "\n",
    "# Plot tpr vs 1-fpr\n",
    "fig, ax = plt.subplots()\n",
    "plt.plot(roc['tpr'])\n",
    "plt.plot(roc['1-fpr'], color = 'red')\n",
    "plt.xlabel('1-False Positive Rate')\n",
    "plt.ylabel('True Positive Rate')\n",
    "plt.title('Receiver operating characteristic')\n",
    "ax.set_xticklabels([])"
   ]
  },
  {
   "cell_type": "code",
   "execution_count": 56,
   "metadata": {},
   "outputs": [
    {
     "name": "stdout",
     "output_type": "stream",
     "text": [
      "\n",
      " Optimal Cut off : 0.4790361\n"
     ]
    }
   ],
   "source": [
    "optimal_idx = np.argmax(tpr - fpr)  ## check it once \n",
    "optimal_threshold = thresholds[optimal_idx]\n",
    "print(\"\\n Optimal Cut off :\",optimal_threshold)"
   ]
  },
  {
   "cell_type": "code",
   "execution_count": 57,
   "metadata": {
    "scrolled": false
   },
   "outputs": [
    {
     "name": "stdout",
     "output_type": "stream",
     "text": [
      "\n",
      "Total bad : 10642\n",
      "Bad captured in worst category : 22.37%\n",
      "\n",
      "                       RISK_SCORE  RISK_FSTQPD30\n",
      "RISK_SCORE                                     \n",
      "(-0.000838, 0.00174]    0.001240       0.008784\n",
      "(0.00174, 0.00252]      0.002138       0.012950\n",
      "(0.00252, 0.00328]      0.002900       0.018633\n",
      "(0.00328, 0.00409]      0.003680       0.023090\n",
      "(0.00409, 0.00498]      0.004526       0.027449\n",
      "(0.00498, 0.00601]      0.005477       0.032121\n",
      "(0.00601, 0.00726]      0.006601       0.038218\n",
      "(0.00726, 0.00897]      0.008071       0.047052\n",
      "(0.00897, 0.0116]       0.010182       0.058483\n",
      "(0.0116, 0.273]         0.017475       0.076891\n",
      "                      RISK_SCORE  RISK_FSTQPD30\n",
      "RISK_SCORE                                     \n",
      "(-0.000838, 0.00174]   38.403101            272\n",
      "(0.00174, 0.00252]     66.209256            401\n",
      "(0.00252, 0.00328]     89.798807            577\n",
      "(0.00328, 0.00409]    113.954185            715\n",
      "(0.00409, 0.00498]    140.152074            850\n",
      "(0.00498, 0.00601]    169.664580            995\n",
      "(0.00601, 0.00726]    204.337673           1183\n",
      "(0.00726, 0.00897]    249.918837           1457\n",
      "(0.00897, 0.0116]     315.298950           1811\n",
      "(0.0116, 0.273]       541.120774           2381\n"
     ]
    }
   ],
   "source": [
    "## Bad rates in overall population \n",
    "cd=pd.DataFrame(df[['RISK_SCORE','RISK_FSTQPD30']]).sort_values(by=['RISK_SCORE'],ascending=False)\n",
    "print(\"\\nTotal bad :\",df['RISK_FSTQPD30'].sum())\n",
    "print(\"Bad captured in worst category :\",'{:,.2%}'.format(cd.groupby(pd.qcut(cd['RISK_SCORE'],10,duplicates='drop')).sum()['RISK_FSTQPD30'][-1]/df['RISK_FSTQPD30'].sum()))\n",
    "print(\"\\n\",cd.groupby(pd.qcut(cd['RISK_SCORE'],10,duplicates='drop')).mean())\n",
    "print(cd.groupby(pd.qcut(cd['RISK_SCORE'],10,duplicates='drop')).sum())"
   ]
  },
  {
   "cell_type": "code",
   "execution_count": 58,
   "metadata": {
    "scrolled": false
   },
   "outputs": [
    {
     "name": "stdout",
     "output_type": "stream",
     "text": [
      "Bad captured in worst category Partner Score test sample : 16.42%\n",
      "\n",
      "Total bads in test sample: 3173\n",
      "                    pred       act\n",
      "pred                              \n",
      "(0.407, 0.455]  0.447477  0.026124\n",
      "(0.455, 0.459]  0.456214  0.030479\n",
      "(0.459, 0.471]  0.464375  0.028617\n",
      "(0.471, 0.472]  0.472052  0.035261\n",
      "(0.472, 0.474]  0.473142  0.033492\n",
      "(0.474, 0.475]  0.474631  0.034237\n",
      "(0.475, 0.482]  0.477237  0.035641\n",
      "(0.482, 0.499]  0.490490  0.043592\n",
      "(0.499, 0.513]  0.504343  0.049200\n",
      "(0.513, 0.55]   0.526512  0.062231\n",
      "                       pred  act\n",
      "pred                            \n",
      "(0.407, 0.455]  3751.198486  219\n",
      "(0.455, 0.459]  3936.673340  263\n",
      "(0.459, 0.471]  3764.688477  232\n",
      "(0.471, 0.472]  4056.341553  303\n",
      "(0.472, 0.474]  3870.773438  274\n",
      "(0.474, 0.475]  3992.594727  288\n",
      "(0.475, 0.482]  3963.452881  296\n",
      "(0.482, 0.499]  4106.875488  365\n",
      "(0.499, 0.513]  4223.366699  412\n",
      "(0.513, 0.55]   4407.956543  521\n"
     ]
    }
   ],
   "source": [
    "## Bad rates in overall population \n",
    "cdt=pd.DataFrame(outtest[['pred','act']])\n",
    "print(\"Bad captured in worst category Partner Score test sample :\",'{:,.2%}'.format(cdt.groupby(pd.qcut(cdt['pred'],10,duplicates='drop')).sum()['act'][-1]/cdt['act'].sum()))\n",
    "print(\"\\nTotal bads in test sample:\",cdt['act'].sum())\n",
    "print(cdt.groupby(pd.qcut(cdt['pred'],10,duplicates='drop')).mean())\n",
    "print(cdt.groupby(pd.qcut(cdt['pred'],10,duplicates='drop')).sum())"
   ]
  },
  {
   "cell_type": "code",
   "execution_count": 59,
   "metadata": {},
   "outputs": [],
   "source": [
    "## Pillar  approach to combine score\n",
    "hcc_score = 'RISK_SCORE'\n",
    "X_pillar_train = pd.DataFrame()\n",
    "X_pillar_test = pd.DataFrame()\n",
    "\n",
    "X_pillar_train[hcc_score]=df_train['RISK_SCORE']; \n",
    "X_pillar_test[hcc_score]=df_test['RISK_SCORE']\n",
    "\n",
    "X_pillar_train[\"XGB_SCORE\"] =  bst.predict_proba(df_train[selected_vars[0]], ntree_limit=bst.best_ntree_limit)[:, 1]\n",
    "X_pillar_test[\"XGB_SCORE\"]  =  bst.predict_proba(df_test[selected_vars[0]], ntree_limit=bst.best_ntree_limit)[:, 1]\n",
    "\n",
    "X_pillar_train[\"FSTQ\"] = df_train['RISK_FSTQPD30']\n",
    "X_pillar_test[\"FSTQ\"] = df_test['RISK_FSTQPD30']\n",
    "\n",
    "X_train_log = X_pillar_train.loc[pd.notnull(X_pillar_train[hcc_score]),['RISK_SCORE','XGB_SCORE']]\n",
    "y_train_log = X_pillar_train.loc[pd.notnull(X_pillar_train[hcc_score]),['FSTQ']]\n",
    "\n",
    "X_test_log = X_pillar_test.loc[pd.notnull(X_pillar_test[hcc_score]),['RISK_SCORE','XGB_SCORE']]\n",
    "y_test_log = X_pillar_test.loc[pd.notnull(X_pillar_test[hcc_score]),['FSTQ']]\n",
    "\n",
    "X_train_log = np.log((X_train_log + 1e-10).divide(1 - (X_train_log + 1e-10)))\n",
    "X_test_log = np.log((X_test_log + 1e-10).divide(1 - (X_test_log + 1e-10)))\n",
    "\n",
    "\n"
   ]
  },
  {
   "cell_type": "code",
   "execution_count": 60,
   "metadata": {},
   "outputs": [],
   "source": [
    "df[\"RISK_SCORE_LOG\"]= np.log((df[\"RISK_SCORE\"] + 1e-10).divide(1 - (df[\"RISK_SCORE\"] + 1e-10)))\n",
    "df[\"XGB_SCORE_LOG\"]= np.log((df[\"XGB_SCORE\"] + 1e-10).divide(1 - (df[\"XGB_SCORE\"] + 1e-10)))\n"
   ]
  },
  {
   "cell_type": "code",
   "execution_count": 61,
   "metadata": {
    "scrolled": true
   },
   "outputs": [
    {
     "name": "stderr",
     "output_type": "stream",
     "text": [
      "C:\\Users\\aman.khatri91425\\AppData\\Local\\Continuum\\anaconda3\\lib\\site-packages\\sklearn\\linear_model\\logistic.py:433: FutureWarning: Default solver will be changed to 'lbfgs' in 0.22. Specify a solver to silence this warning.\n",
      "  FutureWarning)\n",
      "C:\\Users\\aman.khatri91425\\AppData\\Local\\Continuum\\anaconda3\\lib\\site-packages\\sklearn\\linear_model\\logistic.py:1300: UserWarning: 'n_jobs' > 1 does not have any effect when 'solver' is set to 'liblinear'. Got 'n_jobs' = 8.\n",
      "  \" = {}.\".format(effective_n_jobs(self.n_jobs)))\n"
     ]
    }
   ],
   "source": [
    "logreg = LogisticRegression(C=11, n_jobs=cpu)\n",
    "\n",
    "# cross validation gini\n",
    "kfolds = StratifiedKFold(10, random_state=1)\n",
    "auc_cv = cross_val_score(logreg, X_train_log, np.ravel(y_train_log), scoring='roc_auc',\n",
    "                         cv=kfolds.split(X_test_log, np.ravel(y_test_log)), n_jobs=cpu)\n",
    "gini_cv = (2 * np.array(auc_cv) - 1).mean()\n",
    "\n",
    "logreg.fit(X_train_log, np.ravel(y_train_log))\n",
    "log_coef_tbl = pd.DataFrame({'predictor': ['intercept'] + X_train_log.columns.tolist(),\n",
    "                             'coefficient': list(logreg.intercept_) + list(logreg.coef_[0])})\n",
    "log_coef_tbl = log_coef_tbl[['predictor', 'coefficient']]"
   ]
  },
  {
   "cell_type": "code",
   "execution_count": 62,
   "metadata": {},
   "outputs": [
    {
     "data": {
      "text/html": [
       "<div>\n",
       "<style scoped>\n",
       "    .dataframe tbody tr th:only-of-type {\n",
       "        vertical-align: middle;\n",
       "    }\n",
       "\n",
       "    .dataframe tbody tr th {\n",
       "        vertical-align: top;\n",
       "    }\n",
       "\n",
       "    .dataframe thead th {\n",
       "        text-align: right;\n",
       "    }\n",
       "</style>\n",
       "<table border=\"1\" class=\"dataframe\">\n",
       "  <thead>\n",
       "    <tr style=\"text-align: right;\">\n",
       "      <th></th>\n",
       "      <th>predictor</th>\n",
       "      <th>coefficient</th>\n",
       "    </tr>\n",
       "  </thead>\n",
       "  <tbody>\n",
       "    <tr>\n",
       "      <th>0</th>\n",
       "      <td>intercept</td>\n",
       "      <td>1.304429</td>\n",
       "    </tr>\n",
       "    <tr>\n",
       "      <th>1</th>\n",
       "      <td>RISK_SCORE</td>\n",
       "      <td>0.867313</td>\n",
       "    </tr>\n",
       "    <tr>\n",
       "      <th>2</th>\n",
       "      <td>XGB_SCORE</td>\n",
       "      <td>2.190101</td>\n",
       "    </tr>\n",
       "  </tbody>\n",
       "</table>\n",
       "</div>"
      ],
      "text/plain": [
       "    predictor  coefficient\n",
       "0   intercept     1.304429\n",
       "1  RISK_SCORE     0.867313\n",
       "2   XGB_SCORE     2.190101"
      ]
     },
     "execution_count": 62,
     "metadata": {},
     "output_type": "execute_result"
    }
   ],
   "source": [
    "log_coef_tbl"
   ]
  },
  {
   "cell_type": "code",
   "execution_count": 63,
   "metadata": {},
   "outputs": [
    {
     "name": "stdout",
     "output_type": "stream",
     "text": [
      "GINI TRAIN: 0.35388594063059875\n",
      "GINI TEST: 0.3703018199373165\n",
      "GINI CV: 0.36181319952182855\n"
     ]
    }
   ],
   "source": [
    "## Model performance\n",
    "ypred_train_pillar = logreg.predict_proba(X_train_log)[:, 1]\n",
    "metric_auc_train_log = metrics.roc_auc_score(np.ravel(y_train_log), ypred_train_pillar)\n",
    "gini_train_pillar = 2 * metric_auc_train_log - 1\n",
    "ypred_test_pillar = logreg.predict_proba(X_test_log)[:, 1]\n",
    "metric_auc_test_log = metrics.roc_auc_score(np.ravel(y_test_log), ypred_test_pillar)\n",
    "gini_test_pillar = 2 * metric_auc_test_log - 1\n",
    "\n",
    "print(\"GINI TRAIN:\",gini_train_pillar )\n",
    "print(\"GINI TEST:\",gini_test_pillar )\n",
    "print(\"GINI CV:\",gini_cv)"
   ]
  },
  {
   "cell_type": "code",
   "execution_count": 64,
   "metadata": {},
   "outputs": [],
   "source": [
    "df[\"COMBINED_SCORE\"] = logreg.predict_proba(df[['RISK_SCORE_LOG', 'XGB_SCORE_LOG']])[:, 1]"
   ]
  },
  {
   "cell_type": "code",
   "execution_count": 65,
   "metadata": {},
   "outputs": [
    {
     "name": "stdout",
     "output_type": "stream",
     "text": [
      "COMBINED: 0.35989129291669886\n",
      "RISK: 0.3429767906103425\n",
      "XGB: 0.1518877120271438\n"
     ]
    }
   ],
   "source": [
    "print(\"COMBINED:\",2*metrics.roc_auc_score(df[\"RISK_FSTQPD30\"], df[\"COMBINED_SCORE\"])-1)\n",
    "print(\"RISK:\",2*metrics.roc_auc_score(df[\"RISK_FSTQPD30\"], df[\"RISK_SCORE\"])-1)\n",
    "print(\"XGB:\",2*metrics.roc_auc_score(df[\"RISK_FSTQPD30\"], df[\"XGB_SCORE\"])-1)\n"
   ]
  },
  {
   "cell_type": "code",
   "execution_count": 66,
   "metadata": {},
   "outputs": [],
   "source": [
    "df.to_pickle(os.getcwd()+\"\\scored_clx_skp_client.pkl\")"
   ]
  },
  {
   "cell_type": "code",
   "execution_count": 67,
   "metadata": {},
   "outputs": [],
   "source": [
    "df.to_csv(os.getcwd()+\"\\scored_clx_skp_client.csv\")"
   ]
  },
  {
   "cell_type": "code",
   "execution_count": 68,
   "metadata": {},
   "outputs": [
    {
     "name": "stderr",
     "output_type": "stream",
     "text": [
      "C:\\Users\\aman.khatri91425\\AppData\\Local\\Continuum\\anaconda3\\lib\\site-packages\\ipykernel_launcher.py:1: SettingWithCopyWarning: \n",
      "A value is trying to be set on a copy of a slice from a DataFrame.\n",
      "Try using .loc[row_indexer,col_indexer] = value instead\n",
      "\n",
      "See the caveats in the documentation: http://pandas.pydata.org/pandas-docs/stable/indexing.html#indexing-view-versus-copy\n",
      "  \"\"\"Entry point for launching an IPython kernel.\n"
     ]
    }
   ],
   "source": [
    "outtest1=df_train;  outtest1['pred']=ypred_train_pillar ; outtest1['act']=ypred ; \n",
    "# outtest1.to_csv(r\"clx\\\\comb_cd_fstq_clx_mix.csv\")"
   ]
  },
  {
   "cell_type": "code",
   "execution_count": 69,
   "metadata": {},
   "outputs": [
    {
     "name": "stdout",
     "output_type": "stream",
     "text": [
      "[[76822  2720]\n",
      " [ 3734   453]]\n"
     ]
    },
    {
     "data": {
      "text/plain": [
       "<matplotlib.axes._subplots.AxesSubplot at 0x15a0f10b518>"
      ]
     },
     "execution_count": 69,
     "metadata": {},
     "output_type": "execute_result"
    },
    {
     "data": {
      "image/png": "[encoded data removed]",
      "text/plain": [
       "<Figure size 432x288 with 1 Axes>"
      ]
     },
     "metadata": {
      "needs_background": "light"
     },
     "output_type": "display_data"
    }
   ],
   "source": [
    "#metrics calculation\n",
    "cutoff=np.percentile(ypred_test_pillar,95)\n",
    "ypred=pd.Series(ypred_test_pillar).apply(lambda x : 1 if x >cutoff else 0 )\n",
    "\n",
    "print(confusion_matrix(ypred,df_test['RISK_FSTQPD30'] ))\n",
    "pd.Series(ypred_test_pillar).plot.hist(bins=10, rwidth=0.9 ,color='#607c8e')"
   ]
  },
  {
   "cell_type": "code",
   "execution_count": 70,
   "metadata": {},
   "outputs": [
    {
     "name": "stdout",
     "output_type": "stream",
     "text": [
      "\n",
      " Log Loss is : 0.15320629686977472\n",
      "Average precision-recall score: 0.09\n"
     ]
    }
   ],
   "source": [
    "print(\"\\n Log Loss is :\",log_loss(df_test['RISK_FSTQPD30'], ypred_test_pillar))\n",
    "print('Average precision-recall score: {0:0.2f}'.format(average_precision_score(df_test['RISK_FSTQPD30'], ypred_test_pillar)))"
   ]
  },
  {
   "cell_type": "code",
   "execution_count": 71,
   "metadata": {},
   "outputs": [
    {
     "data": {
      "text/plain": [
       "83729"
      ]
     },
     "execution_count": 71,
     "metadata": {},
     "output_type": "execute_result"
    }
   ],
   "source": [
    "len(ypred_test_pillar)"
   ]
  },
  {
   "cell_type": "code",
   "execution_count": 72,
   "metadata": {},
   "outputs": [
    {
     "data": {
      "image/png": "[encoded data removed]",
      "text/plain": [
       "<Figure size 432x288 with 1 Axes>"
      ]
     },
     "metadata": {
      "needs_background": "light"
     },
     "output_type": "display_data"
    }
   ],
   "source": [
    "## PRC curve\n",
    "#precision, recall, _ = precision_recall_curve(ypred, ypred_test_pillar)\n",
    "\n",
    "# step_kwargs = ({'step': 'post'}\n",
    "#                #if 'step' in signature(plt.fill_between).parameters\n",
    "#                #else {}\n",
    "#               )\n",
    "# plt.step(recall, precision, color='b', alpha=0.2, where='post')\n",
    "# plt.fill_between(recall, precision, alpha=0.2, color='b', **step_kwargs)\n",
    "\n",
    "# plt.xlabel('Recall')\n",
    "# plt.ylabel('Precision')\n",
    "# plt.ylim([0.0, 0.5])\n",
    "# plt.xlim([0.0, 0.5])\n",
    "# plt.title('2-class Precision-Recall curve: AP={0:0.2f}'.format(average_precision_score(test['RISK_FSTQPD30'], ypred_test_pillar)))\n",
    "\n",
    "# # calculate precision-recall AUC\n",
    "# auc_pr = auc(recall, precision)\n",
    "# print(\"\\n AUC for precision-recall :\",auc_pr)\n",
    "\n",
    "# Compute micro-average ROC curve and ROC area\n",
    "fprhc, tprhc, thresholds = roc_curve(df_test['RISK_FSTQPD30'], df_test['RISK_SCORE'].ravel())\n",
    "roc_auchc = auc(fprhc, tprhc)\n",
    "\n",
    "fprc, tprc, thresholds = roc_curve(df_test['RISK_FSTQPD30'], ypred_test_pillar.ravel())\n",
    "roc_aucc = auc(fprc, tprc)\n",
    "\n",
    "plt.figure()\n",
    "lw = 1\n",
    "plt.plot(fprc, tprc, lw=lw, label='ROC Comb (area = %0.2f)' % roc_aucc)\n",
    "plt.plot(fprhc, tprhc, lw=lw, label='ROC HC (area = %0.2f)' % roc_auchc)\n",
    "plt.plot([0, 1], [0, 1], color='navy', lw=lw, linestyle='--')\n",
    "plt.plot(fpr, tpr, lw=lw, label='ROC partner (area = %0.2f)' % roc_auc)\n",
    "plt.xlim([0.0, 1.0])\n",
    "plt.ylim([0.0, 1.05])\n",
    "plt.xlabel('False Positive Rate')\n",
    "plt.ylabel('True Positive Rate')\n",
    "plt.title('Receiver operating characteristic example')\n",
    "plt.legend(loc=\"lower right\")\n",
    "plt.show()"
   ]
  },
  {
   "cell_type": "code",
   "execution_count": 73,
   "metadata": {},
   "outputs": [
    {
     "name": "stderr",
     "output_type": "stream",
     "text": [
      "C:\\Users\\aman.khatri91425\\AppData\\Local\\Continuum\\anaconda3\\lib\\site-packages\\ipykernel_launcher.py:3: RuntimeWarning: invalid value encountered in double_scalars\n",
      "  This is separate from the ipykernel package so we can avoid doing imports until\n"
     ]
    },
    {
     "name": "stdout",
     "output_type": "stream",
     "text": [
      "Bad captured in worst category Partner Score test sample : nan%\n",
      "\n",
      "Total bads in test sample: 0.0\n",
      "                                     pred  act\n",
      "pred                                          \n",
      "(0.0005399999999999999, 0.0115]  0.008539  NaN\n",
      "(0.0115, 0.0157]                 0.013661  NaN\n",
      "(0.0157, 0.0197]                 0.017728  NaN\n",
      "(0.0197, 0.0238]                 0.021718  NaN\n",
      "(0.0238, 0.0282]                 0.025942  NaN\n",
      "(0.0282, 0.0333]                 0.030666  NaN\n",
      "(0.0333, 0.0394]                 0.036231  NaN\n",
      "(0.0394, 0.0476]                 0.043306  NaN\n",
      "(0.0476, 0.06]                   0.053162  NaN\n",
      "(0.06, 0.623]                    0.079644  NaN\n",
      "                                        pred  act\n",
      "pred                                             \n",
      "(0.0005399999999999999, 0.0115]   192.916275  0.0\n",
      "(0.0115, 0.0157]                  308.631997  0.0\n",
      "(0.0157, 0.0197]                  400.532590  0.0\n",
      "(0.0197, 0.0238]                  490.666499  0.0\n",
      "(0.0238, 0.0282]                  586.118768  0.0\n",
      "(0.0282, 0.0333]                  692.841888  0.0\n",
      "(0.0333, 0.0394]                  818.574710  0.0\n",
      "(0.0394, 0.0476]                  978.404711  0.0\n",
      "(0.0476, 0.06]                   1201.099263  0.0\n",
      "(0.06, 0.623]                    1799.397307  0.0\n"
     ]
    }
   ],
   "source": [
    "## Bad rates combined score in overall population \n",
    "cdt=pd.DataFrame(outtest1[['pred','act']])\n",
    "print(\"Bad captured in worst category Partner Score test sample :\",'{:,.2%}'.format(cdt.groupby(pd.qcut(cdt['pred'],10,duplicates='drop')).sum()['act'][-1]/cdt['act'].sum()))\n",
    "print(\"\\nTotal bads in test sample:\",cdt['act'].sum())\n",
    "print(cdt.groupby(pd.qcut(cdt['pred'],10,duplicates='drop')).mean())\n",
    "print(cdt.groupby(pd.qcut(cdt['pred'],10,duplicates='drop')).sum())"
   ]
  },
  {
   "cell_type": "code",
   "execution_count": null,
   "metadata": {},
   "outputs": [],
   "source": []
  }
 ],
 "metadata": {
  "kernelspec": {
   "display_name": "Python 3",
   "language": "python",
   "name": "python3"
  },
  "language_info": {
   "codemirror_mode": {
    "name": "ipython",
    "version": 3
   },
   "file_extension": ".py",
   "mimetype": "text/x-python",
   "name": "python",
   "nbconvert_exporter": "python",
   "pygments_lexer": "ipython3",
   "version": "3.7.3"
  }
 },
 "nbformat": 4,
 "nbformat_minor": 2
}
