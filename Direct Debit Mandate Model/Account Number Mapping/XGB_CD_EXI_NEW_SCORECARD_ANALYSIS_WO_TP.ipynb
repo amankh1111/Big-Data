{
 "cells": [
  {
   "cell_type": "code",
   "execution_count": 180,
   "metadata": {},
   "outputs": [],
   "source": [
    "import xgboost as xgb\n",
    "import numpy as np\n",
    "import pandas as pd\n",
    "import time\n",
    "import pickle\n",
    "import os\n",
    "from math import log\n",
    "import matplotlib.pyplot as plt\n",
    "\n",
    "import sklearn\n",
    "from sklearn.model_selection import train_test_split, GridSearchCV, RandomizedSearchCV, ParameterGrid,StratifiedKFold, cross_val_score\n",
    "\n",
    "from sklearn import metrics \n",
    "from sklearn.metrics import confusion_matrix, precision_recall_curve, average_precision_score, brier_score_loss, f1_score, log_loss,auc,roc_curve,auc\n",
    "\n",
    "from sklearn.linear_model import LogisticRegression, LogisticRegressionCV\n",
    "from sklearn.ensemble import RandomForestClassifier\n",
    "\n",
    "from sklearn.decomposition import PCA\n",
    "#from sklearn.utils.fixes import signature\n",
    "\n",
    "from datetime import datetime\n",
    "\n",
    "import warnings\n",
    "warnings.filterwarnings(\"ignore\", category=DeprecationWarning)"
   ]
  },
  {
   "cell_type": "code",
   "execution_count": 181,
   "metadata": {},
   "outputs": [],
   "source": [
    "os.chdir(r\"C:\\Users\\aman.khatri91425\\Desktop\\HomeCredit\\Bigdata\\Techprocess Alternate\")"
   ]
  },
  {
   "cell_type": "code",
   "execution_count": 182,
   "metadata": {},
   "outputs": [],
   "source": [
    "##read datasets\n",
    "df=pd.read_csv(os.getcwd()+r\"\\Data Files\\new exi scorecard evaluation_wo_tp.csv\")"
   ]
  },
  {
   "cell_type": "code",
   "execution_count": 183,
   "metadata": {
    "scrolled": true
   },
   "outputs": [
    {
     "data": {
      "text/html": [
       "<div>\n",
       "<style scoped>\n",
       "    .dataframe tbody tr th:only-of-type {\n",
       "        vertical-align: middle;\n",
       "    }\n",
       "\n",
       "    .dataframe tbody tr th {\n",
       "        vertical-align: top;\n",
       "    }\n",
       "\n",
       "    .dataframe thead th {\n",
       "        text-align: right;\n",
       "    }\n",
       "</style>\n",
       "<table border=\"1\" class=\"dataframe\">\n",
       "  <thead>\n",
       "    <tr style=\"text-align: right;\">\n",
       "      <th></th>\n",
       "      <th>SKP_CREDIT_CASE</th>\n",
       "      <th>TIME_DECISION_DATE</th>\n",
       "      <th>RISK_AGRF180</th>\n",
       "      <th>RISK_FPD30</th>\n",
       "      <th>RISK_FSPD30</th>\n",
       "      <th>RISK_FSTPD30</th>\n",
       "      <th>RISK_FSTQPD30</th>\n",
       "      <th>RISK_FSTQPD60</th>\n",
       "      <th>PRODUCT_GROUP</th>\n",
       "      <th>NTC_FLAG</th>\n",
       "      <th>...</th>\n",
       "      <th>CODE_5</th>\n",
       "      <th>AMT_5</th>\n",
       "      <th>DATE_6</th>\n",
       "      <th>REASON_6</th>\n",
       "      <th>CODE_6</th>\n",
       "      <th>AMT_6</th>\n",
       "      <th>GENERALMODELLG</th>\n",
       "      <th>GENERALMODELLG_WO_TP</th>\n",
       "      <th>TECHPROCESS</th>\n",
       "      <th>CODE</th>\n",
       "    </tr>\n",
       "  </thead>\n",
       "  <tbody>\n",
       "    <tr>\n",
       "      <th>0</th>\n",
       "      <td>327387832</td>\n",
       "      <td>25-11-20</td>\n",
       "      <td>0</td>\n",
       "      <td>0</td>\n",
       "      <td>0</td>\n",
       "      <td>0</td>\n",
       "      <td>0</td>\n",
       "      <td>0</td>\n",
       "      <td>CD</td>\n",
       "      <td>Others</td>\n",
       "      <td>...</td>\n",
       "      <td>Debited</td>\n",
       "      <td>1460.00</td>\n",
       "      <td>27-02-19</td>\n",
       "      <td>XNA</td>\n",
       "      <td>Debited</td>\n",
       "      <td>1460.00</td>\n",
       "      <td>0.015113</td>\n",
       "      <td>0.062061</td>\n",
       "      <td>0.073231</td>\n",
       "      <td>NOT_FOUND</td>\n",
       "    </tr>\n",
       "    <tr>\n",
       "      <th>1</th>\n",
       "      <td>327387824</td>\n",
       "      <td>25-11-20</td>\n",
       "      <td>0</td>\n",
       "      <td>0</td>\n",
       "      <td>0</td>\n",
       "      <td>0</td>\n",
       "      <td>0</td>\n",
       "      <td>0</td>\n",
       "      <td>CD</td>\n",
       "      <td>Others</td>\n",
       "      <td>...</td>\n",
       "      <td>Debited</td>\n",
       "      <td>2064.00</td>\n",
       "      <td>01-04-17</td>\n",
       "      <td>0</td>\n",
       "      <td>Debited</td>\n",
       "      <td>2067.00</td>\n",
       "      <td>0.069793</td>\n",
       "      <td>0.244448</td>\n",
       "      <td>0.073231</td>\n",
       "      <td>NOT_FOUND</td>\n",
       "    </tr>\n",
       "    <tr>\n",
       "      <th>2</th>\n",
       "      <td>327387816</td>\n",
       "      <td>25-11-20</td>\n",
       "      <td>0</td>\n",
       "      <td>0</td>\n",
       "      <td>0</td>\n",
       "      <td>0</td>\n",
       "      <td>0</td>\n",
       "      <td>0</td>\n",
       "      <td>CD</td>\n",
       "      <td>Others</td>\n",
       "      <td>...</td>\n",
       "      <td>Debited</td>\n",
       "      <td>1318.00</td>\n",
       "      <td>10-01-19</td>\n",
       "      <td>0</td>\n",
       "      <td>Debited</td>\n",
       "      <td>1318.00</td>\n",
       "      <td>0.020848</td>\n",
       "      <td>0.084091</td>\n",
       "      <td>0.073231</td>\n",
       "      <td>NOT_FOUND</td>\n",
       "    </tr>\n",
       "    <tr>\n",
       "      <th>3</th>\n",
       "      <td>327387814</td>\n",
       "      <td>25-11-20</td>\n",
       "      <td>0</td>\n",
       "      <td>0</td>\n",
       "      <td>0</td>\n",
       "      <td>0</td>\n",
       "      <td>0</td>\n",
       "      <td>0</td>\n",
       "      <td>CD</td>\n",
       "      <td>Others</td>\n",
       "      <td>...</td>\n",
       "      <td>Debited</td>\n",
       "      <td>1125.46</td>\n",
       "      <td>03-11-18</td>\n",
       "      <td>0</td>\n",
       "      <td>Debited</td>\n",
       "      <td>1125.46</td>\n",
       "      <td>0.010230</td>\n",
       "      <td>0.081162</td>\n",
       "      <td>0.023522</td>\n",
       "      <td>FOUND</td>\n",
       "    </tr>\n",
       "    <tr>\n",
       "      <th>4</th>\n",
       "      <td>327387772</td>\n",
       "      <td>25-11-20</td>\n",
       "      <td>0</td>\n",
       "      <td>0</td>\n",
       "      <td>0</td>\n",
       "      <td>0</td>\n",
       "      <td>0</td>\n",
       "      <td>0</td>\n",
       "      <td>CD</td>\n",
       "      <td>Others</td>\n",
       "      <td>...</td>\n",
       "      <td>NaN</td>\n",
       "      <td>NaN</td>\n",
       "      <td>NaN</td>\n",
       "      <td>NaN</td>\n",
       "      <td>NaN</td>\n",
       "      <td>NaN</td>\n",
       "      <td>0.060795</td>\n",
       "      <td>0.218215</td>\n",
       "      <td>0.073231</td>\n",
       "      <td>NOT_FOUND</td>\n",
       "    </tr>\n",
       "  </tbody>\n",
       "</table>\n",
       "<p>5 rows × 40 columns</p>\n",
       "</div>"
      ],
      "text/plain": [
       "   SKP_CREDIT_CASE TIME_DECISION_DATE  RISK_AGRF180  RISK_FPD30  RISK_FSPD30  \\\n",
       "0        327387832           25-11-20             0           0            0   \n",
       "1        327387824           25-11-20             0           0            0   \n",
       "2        327387816           25-11-20             0           0            0   \n",
       "3        327387814           25-11-20             0           0            0   \n",
       "4        327387772           25-11-20             0           0            0   \n",
       "\n",
       "   RISK_FSTPD30  RISK_FSTQPD30  RISK_FSTQPD60 PRODUCT_GROUP NTC_FLAG  ...  \\\n",
       "0             0              0              0            CD   Others  ...   \n",
       "1             0              0              0            CD   Others  ...   \n",
       "2             0              0              0            CD   Others  ...   \n",
       "3             0              0              0            CD   Others  ...   \n",
       "4             0              0              0            CD   Others  ...   \n",
       "\n",
       "    CODE_5    AMT_5    DATE_6 REASON_6   CODE_6    AMT_6 GENERALMODELLG  \\\n",
       "0  Debited  1460.00  27-02-19      XNA  Debited  1460.00       0.015113   \n",
       "1  Debited  2064.00  01-04-17        0  Debited  2067.00       0.069793   \n",
       "2  Debited  1318.00  10-01-19        0  Debited  1318.00       0.020848   \n",
       "3  Debited  1125.46  03-11-18        0  Debited  1125.46       0.010230   \n",
       "4      NaN      NaN       NaN      NaN      NaN      NaN       0.060795   \n",
       "\n",
       "  GENERALMODELLG_WO_TP TECHPROCESS       CODE  \n",
       "0             0.062061    0.073231  NOT_FOUND  \n",
       "1             0.244448    0.073231  NOT_FOUND  \n",
       "2             0.084091    0.073231  NOT_FOUND  \n",
       "3             0.081162    0.023522      FOUND  \n",
       "4             0.218215    0.073231  NOT_FOUND  \n",
       "\n",
       "[5 rows x 40 columns]"
      ]
     },
     "execution_count": 183,
     "metadata": {},
     "output_type": "execute_result"
    }
   ],
   "source": [
    "df.head()"
   ]
  },
  {
   "cell_type": "code",
   "execution_count": 184,
   "metadata": {},
   "outputs": [],
   "source": [
    "coding_dict={'Balance Insufficient':'WILLFULL DEFAULTS',\n",
    "'CLEARED BAL/FUNDS/DP NOT AVAILABLE.CARE! ACCT WILL BE OVERDRAWN                               000000':'WILLFULL DEFAULTS',\n",
    "'DP NOT AVAILABLE. ACCT CANNOT BE OVERDRAWN':'WILLFULL DEFAULTS',\n",
    "'CLEARED BAL/FUNDS/DP NOT AVAILABLE.CARE! ACCT WILL BE OVERDRAWN':'WILLFULL DEFAULTS',\n",
    "'ACCT HAS HOLD. INSUFFICIENT FREE BAL FOR TXN':'WILLFULL DEFAULTS',\n",
    "'INSUFFICIENT FUNDS':'WILLFULL DEFAULTS',\n",
    "'CODE_DDS_ERROR_REASON':'PROCESS ISSUE',\n",
    "'A/C Blocked or Frozen':'PROCESS ISSUE',\n",
    "'Miscellaneous-Dormant A/c(No t':'PROCESS ISSUE',\n",
    "'Miscellaneous-Dormant A/c(No':'PROCESS ISSUE',\n",
    "'UMRN QUOTED IN FILE IS NOT VALID':'PROCESS ISSUE',\n",
    "'NON-Home debit txn on Inoperative/Unclaimed a/c NOT allowed':'PROCESS ISSUE',\n",
    "'Invalid UMRN or inactive man':'PROCESS ISSUE',\n",
    "'ACCOUNT CLOSED':'PROCESS ISSUE',\n",
    "'PERIDICITY FOR MANDATE RECORD IS OVER':'PROCESS ISSUE',\n",
    "'Settlement Date before manda':'PROCESS ISSUE',\n",
    "'Invalid UMRN or inactive mandate':'PROCESS ISSUE',\n",
    "'MANDATE REJECT: No Signature in CBS':'PROCESS ISSUE',\n",
    "'Mismatch in mandate debtor b':'PROCESS ISSUE',\n",
    "'MANDATE RECORD IS NOT AUTHORISED':'PROCESS ISSUE',\n",
    "'Invalid Bank Identifier - Rece':'PROCESS ISSUE',\n",
    "'Miscellaneous-Network Failure(':'PROCESS ISSUE',\n",
    "'Mandate Not Received/UMRN Do':'PROCESS ISSUE',\n",
    "'Invalid Bank Identifier - Receiving participant blocked/disabled':'PROCESS ISSUE',\n",
    "'Mismatch in Mandate Debtor A':'PROCESS ISSUE',\n",
    "'Mandate Not Received/UMRN Does not EXist':'PROCESS ISSUE',\n",
    "'Miscellaneous-Dormant A/c(No transaction for last six months':'PROCESS ISSUE',\n",
    "'0':'DEBITED',\n",
    "'XNA':'DEBITED',\n",
    "            }"
   ]
  },
  {
   "cell_type": "code",
   "execution_count": 185,
   "metadata": {},
   "outputs": [],
   "source": [
    "def encoding(x):\n",
    "    try:\n",
    "        return(coding_dict[x])\n",
    "    except:\n",
    "        return (\"Others\")"
   ]
  },
  {
   "cell_type": "code",
   "execution_count": 186,
   "metadata": {},
   "outputs": [],
   "source": [
    "df[\"REASON_1_ENCODED\"]= df[\"REASON_1\"].apply(encoding)\n",
    "df[\"REASON_2_ENCODED\"]= df[\"REASON_2\"].apply(encoding)\n",
    "df[\"REASON_3_ENCODED\"]= df[\"REASON_3\"].apply(encoding)\n",
    "df[\"REASON_4_ENCODED\"]= df[\"REASON_4\"].apply(encoding)\n",
    "df[\"REASON_5_ENCODED\"]= df[\"REASON_5\"].apply(encoding)\n",
    "df[\"REASON_6_ENCODED\"]= df[\"REASON_6\"].apply(encoding)\n"
   ]
  },
  {
   "cell_type": "code",
   "execution_count": 187,
   "metadata": {},
   "outputs": [
    {
     "data": {
      "text/plain": [
       "Index(['SKP_CREDIT_CASE', 'TIME_DECISION_DATE', 'RISK_AGRF180', 'RISK_FPD30',\n",
       "       'RISK_FSPD30', 'RISK_FSTPD30', 'RISK_FSTQPD30', 'RISK_FSTQPD60',\n",
       "       'PRODUCT_GROUP', 'NTC_FLAG', 'RISK_SCORE', 'AMT_DIRECT_DEBIT_STATEMENT',\n",
       "       'DATE_1', 'REASON_1', 'CODE_1', 'AMT_1', 'DATE_2', 'REASON_2', 'CODE_2',\n",
       "       'AMT_2', 'DATE_3', 'REASON_3', 'CODE_3', 'AMT_3', 'DATE_4', 'REASON_4',\n",
       "       'CODE_4', 'AMT_4', 'DATE_5', 'REASON_5', 'CODE_5', 'AMT_5', 'DATE_6',\n",
       "       'REASON_6', 'CODE_6', 'AMT_6', 'GENERALMODELLG', 'GENERALMODELLG_WO_TP',\n",
       "       'TECHPROCESS', 'CODE', 'REASON_1_ENCODED', 'REASON_2_ENCODED',\n",
       "       'REASON_3_ENCODED', 'REASON_4_ENCODED', 'REASON_5_ENCODED',\n",
       "       'REASON_6_ENCODED'],\n",
       "      dtype='object')"
      ]
     },
     "execution_count": 187,
     "metadata": {},
     "output_type": "execute_result"
    }
   ],
   "source": [
    "df.columns"
   ]
  },
  {
   "cell_type": "code",
   "execution_count": 188,
   "metadata": {},
   "outputs": [
    {
     "data": {
      "text/plain": [
       "<AxesSubplot:ylabel='Frequency'>"
      ]
     },
     "execution_count": 188,
     "metadata": {},
     "output_type": "execute_result"
    },
    {
     "data": {
      "image/png": "[encoded data removed]",
      "text/plain": [
       "<Figure size 432x288 with 1 Axes>"
      ]
     },
     "metadata": {
      "needs_background": "light"
     },
     "output_type": "display_data"
    }
   ],
   "source": [
    "# Check distribution of scores\n",
    "pd.Series(df['GENERALMODELLG']).plot.hist(bins=10, range=(0,0.08) ,color='#607c8e')"
   ]
  },
  {
   "cell_type": "code",
   "execution_count": 189,
   "metadata": {},
   "outputs": [
    {
     "data": {
      "text/plain": [
       "<AxesSubplot:ylabel='Frequency'>"
      ]
     },
     "execution_count": 189,
     "metadata": {},
     "output_type": "execute_result"
    },
    {
     "data": {
      "image/png": "[encoded data removed]",
      "text/plain": [
       "<Figure size 432x288 with 1 Axes>"
      ]
     },
     "metadata": {
      "needs_background": "light"
     },
     "output_type": "display_data"
    }
   ],
   "source": [
    "# Check distribution of scores\n",
    "pd.Series(df['GENERALMODELLG_WO_TP']).plot.hist(bins=10, range=(0,0.5) ,color='#607c8e')"
   ]
  },
  {
   "cell_type": "code",
   "execution_count": 190,
   "metadata": {},
   "outputs": [],
   "source": [
    "df.dropna(subset = ['GENERALMODELLG_WO_TP','GENERALMODELLG'], inplace = True)"
   ]
  },
  {
   "cell_type": "code",
   "execution_count": 191,
   "metadata": {},
   "outputs": [
    {
     "name": "stdout",
     "output_type": "stream",
     "text": [
      "HCIN SCORE GINI: 0.3982458805515412\n"
     ]
    }
   ],
   "source": [
    "hcc_score='GENERALMODELLG_WO_TP'\n",
    "\n",
    "# HCC score Gini         \n",
    "metric_auc_hcc = metrics.roc_auc_score(df['RISK_FSTQPD30'], df[hcc_score])\n",
    "gini_hcc_only = 2 * metric_auc_hcc - 1\n",
    "print(\"HCIN SCORE GINI:\" ,gini_hcc_only)"
   ]
  },
  {
   "cell_type": "code",
   "execution_count": 192,
   "metadata": {},
   "outputs": [],
   "source": [
    "df[\"TIME_DECISION_DATE\"] = pd.to_datetime(df[\"TIME_DECISION_DATE\"],format ='%d-%m-%y')\n",
    "\n",
    "df[\"MONTH\"]= df[\"TIME_DECISION_DATE\"].dt.strftime(\"%y-%m\")"
   ]
  },
  {
   "cell_type": "code",
   "execution_count": 193,
   "metadata": {},
   "outputs": [],
   "source": [
    "df_summ = df.groupby(\"MONTH\").aggregate([\"count\",\"sum\"])[\"RISK_FSTQPD30\"]\n",
    "df_summ[\"bad_rate\"] = df_summ[\"sum\"]/df_summ[\"count\"]"
   ]
  },
  {
   "cell_type": "code",
   "execution_count": 194,
   "metadata": {},
   "outputs": [
    {
     "data": {
      "image/png": "[encoded data removed]",
      "text/plain": [
       "<Figure size 1080x288 with 2 Axes>"
      ]
     },
     "metadata": {
      "needs_background": "light"
     },
     "output_type": "display_data"
    }
   ],
   "source": [
    "df_summ[['sum','count']].plot(kind='bar', width = 0.8, figsize=(15,4))\n",
    "df_summ['bad_rate'].plot(secondary_y=True)\n",
    "\n",
    "ax = plt.gca()\n",
    "plt.xlim([-0.35, len(df_summ['sum'])-0.35])\n",
    "ax.set_xticklabels(df_summ.index)\n",
    "plt.ylim\n",
    "fig = ax.get_figure()\n",
    "ax = fig.get_axes()\n",
    "ax[1].set_ylim(0,0.15)\n",
    "ax[0].legend(['CD_Contracts','CD_Defaults'])\n",
    "ax[1].legend([\"Default Rate\"], loc = \"center right\")\n",
    "\n",
    "\n",
    "plt.show()\n"
   ]
  },
  {
   "cell_type": "code",
   "execution_count": 195,
   "metadata": {},
   "outputs": [
    {
     "data": {
      "text/plain": [
       "'GENERALMODELLG_WO_TP'"
      ]
     },
     "execution_count": 195,
     "metadata": {},
     "output_type": "execute_result"
    }
   ],
   "source": [
    "hcc_score"
   ]
  },
  {
   "cell_type": "code",
   "execution_count": 196,
   "metadata": {},
   "outputs": [
    {
     "name": "stdout",
     "output_type": "stream",
     "text": [
      "ERROR\n",
      "ERROR\n",
      "ERROR\n",
      "ERROR\n",
      "ERROR\n",
      "20-06 0.3942129758684709\n",
      "19-11 0.5097696285558448\n",
      "19-10 0.4243037198181636\n"
     ]
    }
   ],
   "source": [
    "#MOM Gini Risk Score\n",
    "for x in df[\"MONTH\"].unique():\n",
    "    try:   \n",
    "        metric_auc_hcc = metrics.roc_auc_score(df[df[\"MONTH\"]==x]['RISK_FSTQPD30'], df[df[\"MONTH\"]==x][hcc_score])\n",
    "        gini_hcc_only = 2 * metric_auc_hcc - 1\n",
    "        print(x ,gini_hcc_only)  \n",
    "    except:\n",
    "        print(\"ERROR\")"
   ]
  },
  {
   "cell_type": "code",
   "execution_count": 197,
   "metadata": {},
   "outputs": [],
   "source": [
    "df[\"DATE_1\"] = pd.to_datetime(df[\"DATE_1\"],format ='%d-%m-%y')\n",
    "df[\"DATE_2\"] = pd.to_datetime(df[\"DATE_2\"],format ='%d-%m-%y')\n",
    "df[\"DATE_3\"] = pd.to_datetime(df[\"DATE_3\"],format ='%d-%m-%y')\n",
    "df[\"DATE_4\"] = pd.to_datetime(df[\"DATE_4\"],format ='%d-%m-%y')\n",
    "df[\"DATE_5\"] = pd.to_datetime(df[\"DATE_5\"],format ='%d-%m-%y')\n",
    "df[\"DATE_6\"] = pd.to_datetime(df[\"DATE_6\"],format ='%d-%m-%y')"
   ]
  },
  {
   "cell_type": "code",
   "execution_count": 198,
   "metadata": {},
   "outputs": [],
   "source": [
    "#Tenure Variables \n",
    "df[\"TENURE1\"] = (df[\"TIME_DECISION_DATE\"]-df[\"DATE_1\"]).dt.days\n",
    "df[\"TENURE2\"] = (df[\"TIME_DECISION_DATE\"]-df[\"DATE_2\"]).dt.days\n",
    "df[\"TENURE3\"] = (df[\"TIME_DECISION_DATE\"]-df[\"DATE_3\"]).dt.days\n",
    "df[\"TENURE4\"] = (df[\"TIME_DECISION_DATE\"]-df[\"DATE_4\"]).dt.days\n",
    "df[\"TENURE5\"] = (df[\"TIME_DECISION_DATE\"]-df[\"DATE_5\"]).dt.days\n",
    "df[\"TENURE6\"] = (df[\"TIME_DECISION_DATE\"]-df[\"DATE_6\"]).dt.days\n",
    "\n",
    "\n"
   ]
  },
  {
   "cell_type": "code",
   "execution_count": 199,
   "metadata": {},
   "outputs": [],
   "source": [
    "#One Hot Encoding\n",
    "df_encoded = df\n",
    "for x in [\"CODE_1\",\"CODE_2\",\"CODE_3\",\"CODE_4\",\"CODE_5\",\"CODE_6\",'REASON_1_ENCODED', 'REASON_2_ENCODED',\n",
    "       'REASON_3_ENCODED', 'REASON_4_ENCODED', 'REASON_5_ENCODED',\n",
    "       'REASON_6_ENCODED']:\n",
    "    \n",
    "    dummy = pd.get_dummies(df_encoded[x])\n",
    "    dummy.columns = [y+\"_\"+x for y in dummy.columns]\n",
    "    df_encoded = pd.concat([df_encoded, dummy], axis=1)"
   ]
  },
  {
   "cell_type": "code",
   "execution_count": 200,
   "metadata": {},
   "outputs": [
    {
     "data": {
      "text/html": [
       "<div>\n",
       "<style scoped>\n",
       "    .dataframe tbody tr th:only-of-type {\n",
       "        vertical-align: middle;\n",
       "    }\n",
       "\n",
       "    .dataframe tbody tr th {\n",
       "        vertical-align: top;\n",
       "    }\n",
       "\n",
       "    .dataframe thead th {\n",
       "        text-align: right;\n",
       "    }\n",
       "</style>\n",
       "<table border=\"1\" class=\"dataframe\">\n",
       "  <thead>\n",
       "    <tr style=\"text-align: right;\">\n",
       "      <th></th>\n",
       "      <th>count</th>\n",
       "      <th>mean</th>\n",
       "      <th>std</th>\n",
       "      <th>min</th>\n",
       "      <th>25%</th>\n",
       "      <th>50%</th>\n",
       "      <th>75%</th>\n",
       "      <th>max</th>\n",
       "    </tr>\n",
       "  </thead>\n",
       "  <tbody>\n",
       "    <tr>\n",
       "      <th>SKP_CREDIT_CASE</th>\n",
       "      <td>294273.0</td>\n",
       "      <td>3.107449e+08</td>\n",
       "      <td>1.639216e+07</td>\n",
       "      <td>2.784562e+08</td>\n",
       "      <td>3.078155e+08</td>\n",
       "      <td>3.161994e+08</td>\n",
       "      <td>3.231999e+08</td>\n",
       "      <td>3.273878e+08</td>\n",
       "    </tr>\n",
       "    <tr>\n",
       "      <th>RISK_AGRF180</th>\n",
       "      <td>294273.0</td>\n",
       "      <td>1.959881e-01</td>\n",
       "      <td>3.969601e-01</td>\n",
       "      <td>0.000000e+00</td>\n",
       "      <td>0.000000e+00</td>\n",
       "      <td>0.000000e+00</td>\n",
       "      <td>0.000000e+00</td>\n",
       "      <td>1.000000e+00</td>\n",
       "    </tr>\n",
       "    <tr>\n",
       "      <th>RISK_FPD30</th>\n",
       "      <td>294273.0</td>\n",
       "      <td>5.566260e-03</td>\n",
       "      <td>7.439957e-02</td>\n",
       "      <td>0.000000e+00</td>\n",
       "      <td>0.000000e+00</td>\n",
       "      <td>0.000000e+00</td>\n",
       "      <td>0.000000e+00</td>\n",
       "      <td>1.000000e+00</td>\n",
       "    </tr>\n",
       "    <tr>\n",
       "      <th>RISK_FSPD30</th>\n",
       "      <td>294273.0</td>\n",
       "      <td>8.169285e-03</td>\n",
       "      <td>9.001431e-02</td>\n",
       "      <td>0.000000e+00</td>\n",
       "      <td>0.000000e+00</td>\n",
       "      <td>0.000000e+00</td>\n",
       "      <td>0.000000e+00</td>\n",
       "      <td>1.000000e+00</td>\n",
       "    </tr>\n",
       "    <tr>\n",
       "      <th>RISK_FSTPD30</th>\n",
       "      <td>294273.0</td>\n",
       "      <td>9.735858e-03</td>\n",
       "      <td>9.818912e-02</td>\n",
       "      <td>0.000000e+00</td>\n",
       "      <td>0.000000e+00</td>\n",
       "      <td>0.000000e+00</td>\n",
       "      <td>0.000000e+00</td>\n",
       "      <td>1.000000e+00</td>\n",
       "    </tr>\n",
       "    <tr>\n",
       "      <th>RISK_FSTQPD30</th>\n",
       "      <td>294273.0</td>\n",
       "      <td>8.672219e-03</td>\n",
       "      <td>9.272023e-02</td>\n",
       "      <td>0.000000e+00</td>\n",
       "      <td>0.000000e+00</td>\n",
       "      <td>0.000000e+00</td>\n",
       "      <td>0.000000e+00</td>\n",
       "      <td>1.000000e+00</td>\n",
       "    </tr>\n",
       "    <tr>\n",
       "      <th>RISK_FSTQPD60</th>\n",
       "      <td>294273.0</td>\n",
       "      <td>3.772008e-03</td>\n",
       "      <td>6.130083e-02</td>\n",
       "      <td>0.000000e+00</td>\n",
       "      <td>0.000000e+00</td>\n",
       "      <td>0.000000e+00</td>\n",
       "      <td>0.000000e+00</td>\n",
       "      <td>1.000000e+00</td>\n",
       "    </tr>\n",
       "    <tr>\n",
       "      <th>RISK_SCORE</th>\n",
       "      <td>293914.0</td>\n",
       "      <td>2.727832e-02</td>\n",
       "      <td>3.074049e-02</td>\n",
       "      <td>1.331020e-03</td>\n",
       "      <td>1.112669e-02</td>\n",
       "      <td>1.812608e-02</td>\n",
       "      <td>3.178051e-02</td>\n",
       "      <td>7.760983e-01</td>\n",
       "    </tr>\n",
       "    <tr>\n",
       "      <th>AMT_DIRECT_DEBIT_STATEMENT</th>\n",
       "      <td>294273.0</td>\n",
       "      <td>1.943982e+03</td>\n",
       "      <td>1.085375e+03</td>\n",
       "      <td>0.000000e+00</td>\n",
       "      <td>1.399000e+03</td>\n",
       "      <td>1.695000e+03</td>\n",
       "      <td>2.098000e+03</td>\n",
       "      <td>1.757200e+04</td>\n",
       "    </tr>\n",
       "    <tr>\n",
       "      <th>AMT_1</th>\n",
       "      <td>292949.0</td>\n",
       "      <td>1.832385e+03</td>\n",
       "      <td>1.043191e+03</td>\n",
       "      <td>0.000000e+00</td>\n",
       "      <td>1.339000e+03</td>\n",
       "      <td>1.623000e+03</td>\n",
       "      <td>1.984000e+03</td>\n",
       "      <td>1.757200e+04</td>\n",
       "    </tr>\n",
       "    <tr>\n",
       "      <th>AMT_2</th>\n",
       "      <td>276765.0</td>\n",
       "      <td>1.850830e+03</td>\n",
       "      <td>1.062488e+03</td>\n",
       "      <td>0.000000e+00</td>\n",
       "      <td>1.348000e+03</td>\n",
       "      <td>1.630000e+03</td>\n",
       "      <td>2.000000e+03</td>\n",
       "      <td>1.757200e+04</td>\n",
       "    </tr>\n",
       "    <tr>\n",
       "      <th>AMT_3</th>\n",
       "      <td>261278.0</td>\n",
       "      <td>1.862425e+03</td>\n",
       "      <td>1.072656e+03</td>\n",
       "      <td>0.000000e+00</td>\n",
       "      <td>1.351000e+03</td>\n",
       "      <td>1.637000e+03</td>\n",
       "      <td>2.015000e+03</td>\n",
       "      <td>1.757200e+04</td>\n",
       "    </tr>\n",
       "    <tr>\n",
       "      <th>AMT_4</th>\n",
       "      <td>244841.0</td>\n",
       "      <td>1.872285e+03</td>\n",
       "      <td>1.082172e+03</td>\n",
       "      <td>0.000000e+00</td>\n",
       "      <td>1.354000e+03</td>\n",
       "      <td>1.640000e+03</td>\n",
       "      <td>2.019210e+03</td>\n",
       "      <td>1.757200e+04</td>\n",
       "    </tr>\n",
       "    <tr>\n",
       "      <th>AMT_5</th>\n",
       "      <td>224751.0</td>\n",
       "      <td>1.882700e+03</td>\n",
       "      <td>1.097701e+03</td>\n",
       "      <td>0.000000e+00</td>\n",
       "      <td>1.352000e+03</td>\n",
       "      <td>1.642000e+03</td>\n",
       "      <td>2.030000e+03</td>\n",
       "      <td>1.757200e+04</td>\n",
       "    </tr>\n",
       "    <tr>\n",
       "      <th>AMT_6</th>\n",
       "      <td>190783.0</td>\n",
       "      <td>1.901834e+03</td>\n",
       "      <td>1.139020e+03</td>\n",
       "      <td>0.000000e+00</td>\n",
       "      <td>1.342000e+03</td>\n",
       "      <td>1.642000e+03</td>\n",
       "      <td>2.045000e+03</td>\n",
       "      <td>1.757200e+04</td>\n",
       "    </tr>\n",
       "    <tr>\n",
       "      <th>GENERALMODELLG</th>\n",
       "      <td>294273.0</td>\n",
       "      <td>4.266089e-02</td>\n",
       "      <td>4.476711e-02</td>\n",
       "      <td>8.366243e-04</td>\n",
       "      <td>1.493710e-02</td>\n",
       "      <td>2.742746e-02</td>\n",
       "      <td>5.301859e-02</td>\n",
       "      <td>8.474123e-01</td>\n",
       "    </tr>\n",
       "    <tr>\n",
       "      <th>GENERALMODELLG_WO_TP</th>\n",
       "      <td>294273.0</td>\n",
       "      <td>1.779672e-01</td>\n",
       "      <td>1.260007e-01</td>\n",
       "      <td>6.920242e-03</td>\n",
       "      <td>8.533734e-02</td>\n",
       "      <td>1.406210e-01</td>\n",
       "      <td>2.360620e-01</td>\n",
       "      <td>9.599163e-01</td>\n",
       "    </tr>\n",
       "    <tr>\n",
       "      <th>TECHPROCESS</th>\n",
       "      <td>294273.0</td>\n",
       "      <td>5.021841e-02</td>\n",
       "      <td>2.396518e-02</td>\n",
       "      <td>1.894653e-02</td>\n",
       "      <td>2.633932e-02</td>\n",
       "      <td>4.956937e-02</td>\n",
       "      <td>7.323103e-02</td>\n",
       "      <td>2.381797e-01</td>\n",
       "    </tr>\n",
       "    <tr>\n",
       "      <th>TENURE1</th>\n",
       "      <td>292949.0</td>\n",
       "      <td>3.695917e+02</td>\n",
       "      <td>3.326054e+02</td>\n",
       "      <td>1.000000e+00</td>\n",
       "      <td>8.800000e+01</td>\n",
       "      <td>2.820000e+02</td>\n",
       "      <td>5.760000e+02</td>\n",
       "      <td>2.780000e+03</td>\n",
       "    </tr>\n",
       "    <tr>\n",
       "      <th>TENURE2</th>\n",
       "      <td>276765.0</td>\n",
       "      <td>4.053185e+02</td>\n",
       "      <td>3.348419e+02</td>\n",
       "      <td>1.000000e+00</td>\n",
       "      <td>1.230000e+02</td>\n",
       "      <td>3.180000e+02</td>\n",
       "      <td>6.140000e+02</td>\n",
       "      <td>2.808000e+03</td>\n",
       "    </tr>\n",
       "    <tr>\n",
       "      <th>TENURE3</th>\n",
       "      <td>261278.0</td>\n",
       "      <td>4.433130e+02</td>\n",
       "      <td>3.360929e+02</td>\n",
       "      <td>4.000000e+00</td>\n",
       "      <td>1.600000e+02</td>\n",
       "      <td>3.600000e+02</td>\n",
       "      <td>6.540000e+02</td>\n",
       "      <td>2.839000e+03</td>\n",
       "    </tr>\n",
       "    <tr>\n",
       "      <th>TENURE4</th>\n",
       "      <td>244841.0</td>\n",
       "      <td>4.849275e+02</td>\n",
       "      <td>3.367918e+02</td>\n",
       "      <td>2.300000e+01</td>\n",
       "      <td>2.030000e+02</td>\n",
       "      <td>4.070000e+02</td>\n",
       "      <td>6.980000e+02</td>\n",
       "      <td>2.870000e+03</td>\n",
       "    </tr>\n",
       "    <tr>\n",
       "      <th>TENURE5</th>\n",
       "      <td>224751.0</td>\n",
       "      <td>5.284190e+02</td>\n",
       "      <td>3.382442e+02</td>\n",
       "      <td>3.100000e+01</td>\n",
       "      <td>2.450000e+02</td>\n",
       "      <td>4.560000e+02</td>\n",
       "      <td>7.450000e+02</td>\n",
       "      <td>2.900000e+03</td>\n",
       "    </tr>\n",
       "    <tr>\n",
       "      <th>TENURE6</th>\n",
       "      <td>190783.0</td>\n",
       "      <td>5.774416e+02</td>\n",
       "      <td>3.411990e+02</td>\n",
       "      <td>3.500000e+01</td>\n",
       "      <td>2.920000e+02</td>\n",
       "      <td>5.170000e+02</td>\n",
       "      <td>8.010000e+02</td>\n",
       "      <td>2.858000e+03</td>\n",
       "    </tr>\n",
       "  </tbody>\n",
       "</table>\n",
       "</div>"
      ],
      "text/plain": [
       "                               count          mean           std  \\\n",
       "SKP_CREDIT_CASE             294273.0  3.107449e+08  1.639216e+07   \n",
       "RISK_AGRF180                294273.0  1.959881e-01  3.969601e-01   \n",
       "RISK_FPD30                  294273.0  5.566260e-03  7.439957e-02   \n",
       "RISK_FSPD30                 294273.0  8.169285e-03  9.001431e-02   \n",
       "RISK_FSTPD30                294273.0  9.735858e-03  9.818912e-02   \n",
       "RISK_FSTQPD30               294273.0  8.672219e-03  9.272023e-02   \n",
       "RISK_FSTQPD60               294273.0  3.772008e-03  6.130083e-02   \n",
       "RISK_SCORE                  293914.0  2.727832e-02  3.074049e-02   \n",
       "AMT_DIRECT_DEBIT_STATEMENT  294273.0  1.943982e+03  1.085375e+03   \n",
       "AMT_1                       292949.0  1.832385e+03  1.043191e+03   \n",
       "AMT_2                       276765.0  1.850830e+03  1.062488e+03   \n",
       "AMT_3                       261278.0  1.862425e+03  1.072656e+03   \n",
       "AMT_4                       244841.0  1.872285e+03  1.082172e+03   \n",
       "AMT_5                       224751.0  1.882700e+03  1.097701e+03   \n",
       "AMT_6                       190783.0  1.901834e+03  1.139020e+03   \n",
       "GENERALMODELLG              294273.0  4.266089e-02  4.476711e-02   \n",
       "GENERALMODELLG_WO_TP        294273.0  1.779672e-01  1.260007e-01   \n",
       "TECHPROCESS                 294273.0  5.021841e-02  2.396518e-02   \n",
       "TENURE1                     292949.0  3.695917e+02  3.326054e+02   \n",
       "TENURE2                     276765.0  4.053185e+02  3.348419e+02   \n",
       "TENURE3                     261278.0  4.433130e+02  3.360929e+02   \n",
       "TENURE4                     244841.0  4.849275e+02  3.367918e+02   \n",
       "TENURE5                     224751.0  5.284190e+02  3.382442e+02   \n",
       "TENURE6                     190783.0  5.774416e+02  3.411990e+02   \n",
       "\n",
       "                                     min           25%           50%  \\\n",
       "SKP_CREDIT_CASE             2.784562e+08  3.078155e+08  3.161994e+08   \n",
       "RISK_AGRF180                0.000000e+00  0.000000e+00  0.000000e+00   \n",
       "RISK_FPD30                  0.000000e+00  0.000000e+00  0.000000e+00   \n",
       "RISK_FSPD30                 0.000000e+00  0.000000e+00  0.000000e+00   \n",
       "RISK_FSTPD30                0.000000e+00  0.000000e+00  0.000000e+00   \n",
       "RISK_FSTQPD30               0.000000e+00  0.000000e+00  0.000000e+00   \n",
       "RISK_FSTQPD60               0.000000e+00  0.000000e+00  0.000000e+00   \n",
       "RISK_SCORE                  1.331020e-03  1.112669e-02  1.812608e-02   \n",
       "AMT_DIRECT_DEBIT_STATEMENT  0.000000e+00  1.399000e+03  1.695000e+03   \n",
       "AMT_1                       0.000000e+00  1.339000e+03  1.623000e+03   \n",
       "AMT_2                       0.000000e+00  1.348000e+03  1.630000e+03   \n",
       "AMT_3                       0.000000e+00  1.351000e+03  1.637000e+03   \n",
       "AMT_4                       0.000000e+00  1.354000e+03  1.640000e+03   \n",
       "AMT_5                       0.000000e+00  1.352000e+03  1.642000e+03   \n",
       "AMT_6                       0.000000e+00  1.342000e+03  1.642000e+03   \n",
       "GENERALMODELLG              8.366243e-04  1.493710e-02  2.742746e-02   \n",
       "GENERALMODELLG_WO_TP        6.920242e-03  8.533734e-02  1.406210e-01   \n",
       "TECHPROCESS                 1.894653e-02  2.633932e-02  4.956937e-02   \n",
       "TENURE1                     1.000000e+00  8.800000e+01  2.820000e+02   \n",
       "TENURE2                     1.000000e+00  1.230000e+02  3.180000e+02   \n",
       "TENURE3                     4.000000e+00  1.600000e+02  3.600000e+02   \n",
       "TENURE4                     2.300000e+01  2.030000e+02  4.070000e+02   \n",
       "TENURE5                     3.100000e+01  2.450000e+02  4.560000e+02   \n",
       "TENURE6                     3.500000e+01  2.920000e+02  5.170000e+02   \n",
       "\n",
       "                                     75%           max  \n",
       "SKP_CREDIT_CASE             3.231999e+08  3.273878e+08  \n",
       "RISK_AGRF180                0.000000e+00  1.000000e+00  \n",
       "RISK_FPD30                  0.000000e+00  1.000000e+00  \n",
       "RISK_FSPD30                 0.000000e+00  1.000000e+00  \n",
       "RISK_FSTPD30                0.000000e+00  1.000000e+00  \n",
       "RISK_FSTQPD30               0.000000e+00  1.000000e+00  \n",
       "RISK_FSTQPD60               0.000000e+00  1.000000e+00  \n",
       "RISK_SCORE                  3.178051e-02  7.760983e-01  \n",
       "AMT_DIRECT_DEBIT_STATEMENT  2.098000e+03  1.757200e+04  \n",
       "AMT_1                       1.984000e+03  1.757200e+04  \n",
       "AMT_2                       2.000000e+03  1.757200e+04  \n",
       "AMT_3                       2.015000e+03  1.757200e+04  \n",
       "AMT_4                       2.019210e+03  1.757200e+04  \n",
       "AMT_5                       2.030000e+03  1.757200e+04  \n",
       "AMT_6                       2.045000e+03  1.757200e+04  \n",
       "GENERALMODELLG              5.301859e-02  8.474123e-01  \n",
       "GENERALMODELLG_WO_TP        2.360620e-01  9.599163e-01  \n",
       "TECHPROCESS                 7.323103e-02  2.381797e-01  \n",
       "TENURE1                     5.760000e+02  2.780000e+03  \n",
       "TENURE2                     6.140000e+02  2.808000e+03  \n",
       "TENURE3                     6.540000e+02  2.839000e+03  \n",
       "TENURE4                     6.980000e+02  2.870000e+03  \n",
       "TENURE5                     7.450000e+02  2.900000e+03  \n",
       "TENURE6                     8.010000e+02  2.858000e+03  "
      ]
     },
     "execution_count": 200,
     "metadata": {},
     "output_type": "execute_result"
    }
   ],
   "source": [
    "df.describe().T"
   ]
  },
  {
   "cell_type": "code",
   "execution_count": 201,
   "metadata": {},
   "outputs": [],
   "source": [
    "df = df_encoded"
   ]
  },
  {
   "cell_type": "code",
   "execution_count": 202,
   "metadata": {},
   "outputs": [],
   "source": [
    "x_column = ['TENURE3',\n",
    "  'TENURE4',\n",
    "  'TENURE5',\n",
    "  'TENURE6',\n",
    "  'Undebited_CODE_1',\n",
    "  'Undebited_CODE_3',\n",
    "  'Undebited_CODE_6',\n",
    "  'WILLFULL DEFAULTS_REASON_5_ENCODED',\n",
    "  'Undebited_CODE_2',\n",
    "  'Undebited_CODE_4',\n",
    "  'WILLFULL DEFAULTS_REASON_4_ENCODED']\n",
    "y_column = 'RISK_FSTQPD30'"
   ]
  },
  {
   "cell_type": "code",
   "execution_count": 203,
   "metadata": {},
   "outputs": [],
   "source": [
    "bst = pickle.load(open(os.getcwd()+r\"\\model_cd_exi.pkl\", \"rb\"))\n",
    "df[\"XGB_SCORE\"] = bst.predict_proba(df[x_column], ntree_limit=bst.best_ntree_limit)[:, 1]"
   ]
  },
  {
   "cell_type": "code",
   "execution_count": 204,
   "metadata": {},
   "outputs": [
    {
     "name": "stderr",
     "output_type": "stream",
     "text": [
      "C:\\Users\\aman.khatri91425\\AppData\\Local\\Continuum\\anaconda3\\lib\\site-packages\\ipykernel_launcher.py:1: FutureWarning: The pandas.datetime class is deprecated and will be removed from pandas in a future version. Import from datetime module instead.\n",
      "  \"\"\"Entry point for launching an IPython kernel.\n",
      "C:\\Users\\aman.khatri91425\\AppData\\Local\\Continuum\\anaconda3\\lib\\site-packages\\ipykernel_launcher.py:2: FutureWarning: The pandas.datetime class is deprecated and will be removed from pandas in a future version. Import from datetime module instead.\n",
      "  \n"
     ]
    }
   ],
   "source": [
    "df_train = df[(df[\"TIME_DECISION_DATE\"]>= pd.datetime(2019,10,1))&(df[\"TIME_DECISION_DATE\"]< pd.datetime(2020,1,1))]\n",
    "df_test = df[df[\"TIME_DECISION_DATE\"]> pd.datetime(2020,1,1)]\n"
   ]
  },
  {
   "cell_type": "code",
   "execution_count": 205,
   "metadata": {},
   "outputs": [],
   "source": [
    "## Pillar  approach to combine score\n",
    "hcc_score = 'GENERALMODELLG_WO_TP'\n",
    "X_pillar_train = pd.DataFrame()\n",
    "X_pillar_test = pd.DataFrame()\n",
    "\n",
    "X_pillar_train[hcc_score]=df_train['RISK_SCORE']; \n",
    "X_pillar_test[hcc_score]=df_test['RISK_SCORE']\n",
    "\n",
    "X_pillar_train[\"XGB_SCORE\"] =  df_train['XGB_SCORE']\n",
    "X_pillar_test[\"XGB_SCORE\"]  =  df_test['XGB_SCORE']\n",
    "\n",
    "X_pillar_train[\"FSTQ\"] = df_train['RISK_FSTQPD30']\n",
    "X_pillar_test[\"FSTQ\"] = df_test['RISK_FSTQPD30']\n",
    "\n",
    "X_train_log = X_pillar_train.loc[pd.notnull(X_pillar_train[hcc_score]),[hcc_score,'XGB_SCORE']]\n",
    "y_train_log = X_pillar_train.loc[pd.notnull(X_pillar_train[hcc_score]),['FSTQ']]\n",
    "\n",
    "X_test_log = X_pillar_test.loc[pd.notnull(X_pillar_test[hcc_score]),[hcc_score,'XGB_SCORE']]\n",
    "y_test_log = X_pillar_test.loc[pd.notnull(X_pillar_test[hcc_score]),['FSTQ']]\n",
    "\n",
    "X_train_log = np.log((X_train_log + 1e-10).divide(1 - (X_train_log + 1e-10)))\n",
    "X_test_log = np.log((X_test_log + 1e-10).divide(1 - (X_test_log + 1e-10)))\n",
    "\n",
    "\n"
   ]
  },
  {
   "cell_type": "code",
   "execution_count": 206,
   "metadata": {},
   "outputs": [],
   "source": [
    "df[\"HCC_SCORE_LOG\"]= np.log((df[hcc_score] + 1e-10).divide(1 - (df[hcc_score] + 1e-10)))\n",
    "df[\"XGB_SCORE_LOG\"]= np.log((df[\"XGB_SCORE\"] + 1e-10).divide(1 - (df[\"XGB_SCORE\"] + 1e-10)))\n"
   ]
  },
  {
   "cell_type": "code",
   "execution_count": 212,
   "metadata": {
    "scrolled": true
   },
   "outputs": [
    {
     "name": "stderr",
     "output_type": "stream",
     "text": [
      "C:\\Users\\aman.khatri91425\\AppData\\Local\\Continuum\\anaconda3\\lib\\site-packages\\sklearn\\linear_model\\logistic.py:433: FutureWarning: Default solver will be changed to 'lbfgs' in 0.22. Specify a solver to silence this warning.\n",
      "  FutureWarning)\n",
      "C:\\Users\\aman.khatri91425\\AppData\\Local\\Continuum\\anaconda3\\lib\\site-packages\\sklearn\\linear_model\\logistic.py:1300: UserWarning: 'n_jobs' > 1 does not have any effect when 'solver' is set to 'liblinear'. Got 'n_jobs' = 8.\n",
      "  \" = {}.\".format(effective_n_jobs(self.n_jobs)))\n"
     ]
    }
   ],
   "source": [
    "logreg = LogisticRegression(C=11, n_jobs=-1)\n",
    "\n",
    "# cross validation gini\n",
    "kfolds = StratifiedKFold(10, random_state=1)\n",
    "auc_cv = cross_val_score(logreg, X_train_log, np.ravel(y_train_log), scoring='roc_auc',\n",
    "                         cv=kfolds.split(X_train_log, np.ravel(y_train_log)), n_jobs=-1)\n",
    "gini_cv = (2 * np.array(auc_cv) - 1).mean()\n",
    "\n",
    "logreg.fit(X_train_log, np.ravel(y_train_log))\n",
    "log_coef_tbl = pd.DataFrame({'predictor': ['intercept'] + X_train_log.columns.tolist(),\n",
    "                             'coefficient': list(logreg.intercept_) + list(logreg.coef_[0])})\n",
    "log_coef_tbl = log_coef_tbl[['predictor', 'coefficient']]"
   ]
  },
  {
   "cell_type": "code",
   "execution_count": 213,
   "metadata": {},
   "outputs": [
    {
     "data": {
      "text/html": [
       "<div>\n",
       "<style scoped>\n",
       "    .dataframe tbody tr th:only-of-type {\n",
       "        vertical-align: middle;\n",
       "    }\n",
       "\n",
       "    .dataframe tbody tr th {\n",
       "        vertical-align: top;\n",
       "    }\n",
       "\n",
       "    .dataframe thead th {\n",
       "        text-align: right;\n",
       "    }\n",
       "</style>\n",
       "<table border=\"1\" class=\"dataframe\">\n",
       "  <thead>\n",
       "    <tr style=\"text-align: right;\">\n",
       "      <th></th>\n",
       "      <th>predictor</th>\n",
       "      <th>coefficient</th>\n",
       "    </tr>\n",
       "  </thead>\n",
       "  <tbody>\n",
       "    <tr>\n",
       "      <th>0</th>\n",
       "      <td>intercept</td>\n",
       "      <td>-2.285265</td>\n",
       "    </tr>\n",
       "    <tr>\n",
       "      <th>1</th>\n",
       "      <td>GENERALMODELLG_WO_TP</td>\n",
       "      <td>0.437025</td>\n",
       "    </tr>\n",
       "    <tr>\n",
       "      <th>2</th>\n",
       "      <td>XGB_SCORE</td>\n",
       "      <td>1.585271</td>\n",
       "    </tr>\n",
       "  </tbody>\n",
       "</table>\n",
       "</div>"
      ],
      "text/plain": [
       "              predictor  coefficient\n",
       "0             intercept    -2.285265\n",
       "1  GENERALMODELLG_WO_TP     0.437025\n",
       "2             XGB_SCORE     1.585271"
      ]
     },
     "execution_count": 213,
     "metadata": {},
     "output_type": "execute_result"
    }
   ],
   "source": [
    "log_coef_tbl"
   ]
  },
  {
   "cell_type": "markdown",
   "metadata": {},
   "source": [
    "## L1 Penalty Hyper Parameter Optimization"
   ]
  },
  {
   "cell_type": "code",
   "execution_count": 283,
   "metadata": {},
   "outputs": [],
   "source": [
    "param_grid = {'C':np.exp(np.arange(-6,-1,0.01))}"
   ]
  },
  {
   "cell_type": "code",
   "execution_count": 284,
   "metadata": {},
   "outputs": [],
   "source": [
    "kfolds = StratifiedKFold(3, random_state=1)\n",
    "comb=LogisticRegression(penalty = 'l2')\n",
    "\n",
    "rcv = RandomizedSearchCV(estimator = comb, param_distributions=param_grid, scoring=['roc_auc'], n_iter = 30,\n",
    "    cv=kfolds.split(X_train_log,y_train_log), verbose=0, random_state=1,\n",
    "    refit = 'roc_auc', return_train_score=True, error_score = 0)"
   ]
  },
  {
   "cell_type": "code",
   "execution_count": 285,
   "metadata": {},
   "outputs": [
    {
     "name": "stdout",
     "output_type": "stream",
     "text": [
      "Randomized search..\n"
     ]
    },
    {
     "name": "stderr",
     "output_type": "stream",
     "text": [
      "C:\\Users\\aman.khatri91425\\AppData\\Local\\Continuum\\anaconda3\\lib\\site-packages\\sklearn\\linear_model\\logistic.py:433: FutureWarning: Default solver will be changed to 'lbfgs' in 0.22. Specify a solver to silence this warning.\n",
      "  FutureWarning)\n",
      "C:\\Users\\aman.khatri91425\\AppData\\Local\\Continuum\\anaconda3\\lib\\site-packages\\sklearn\\utils\\validation.py:761: DataConversionWarning: A column-vector y was passed when a 1d array was expected. Please change the shape of y to (n_samples, ), for example using ravel().\n",
      "  y = column_or_1d(y, warn=True)\n",
      "C:\\Users\\aman.khatri91425\\AppData\\Local\\Continuum\\anaconda3\\lib\\site-packages\\sklearn\\linear_model\\logistic.py:433: FutureWarning: Default solver will be changed to 'lbfgs' in 0.22. Specify a solver to silence this warning.\n",
      "  FutureWarning)\n",
      "C:\\Users\\aman.khatri91425\\AppData\\Local\\Continuum\\anaconda3\\lib\\site-packages\\sklearn\\utils\\validation.py:761: DataConversionWarning: A column-vector y was passed when a 1d array was expected. Please change the shape of y to (n_samples, ), for example using ravel().\n",
      "  y = column_or_1d(y, warn=True)\n",
      "C:\\Users\\aman.khatri91425\\AppData\\Local\\Continuum\\anaconda3\\lib\\site-packages\\sklearn\\linear_model\\logistic.py:433: FutureWarning: Default solver will be changed to 'lbfgs' in 0.22. Specify a solver to silence this warning.\n",
      "  FutureWarning)\n",
      "C:\\Users\\aman.khatri91425\\AppData\\Local\\Continuum\\anaconda3\\lib\\site-packages\\sklearn\\utils\\validation.py:761: DataConversionWarning: A column-vector y was passed when a 1d array was expected. Please change the shape of y to (n_samples, ), for example using ravel().\n",
      "  y = column_or_1d(y, warn=True)\n",
      "C:\\Users\\aman.khatri91425\\AppData\\Local\\Continuum\\anaconda3\\lib\\site-packages\\sklearn\\linear_model\\logistic.py:433: FutureWarning: Default solver will be changed to 'lbfgs' in 0.22. Specify a solver to silence this warning.\n",
      "  FutureWarning)\n",
      "C:\\Users\\aman.khatri91425\\AppData\\Local\\Continuum\\anaconda3\\lib\\site-packages\\sklearn\\utils\\validation.py:761: DataConversionWarning: A column-vector y was passed when a 1d array was expected. Please change the shape of y to (n_samples, ), for example using ravel().\n",
      "  y = column_or_1d(y, warn=True)\n",
      "C:\\Users\\aman.khatri91425\\AppData\\Local\\Continuum\\anaconda3\\lib\\site-packages\\sklearn\\linear_model\\logistic.py:433: FutureWarning: Default solver will be changed to 'lbfgs' in 0.22. Specify a solver to silence this warning.\n",
      "  FutureWarning)\n",
      "C:\\Users\\aman.khatri91425\\AppData\\Local\\Continuum\\anaconda3\\lib\\site-packages\\sklearn\\utils\\validation.py:761: DataConversionWarning: A column-vector y was passed when a 1d array was expected. Please change the shape of y to (n_samples, ), for example using ravel().\n",
      "  y = column_or_1d(y, warn=True)\n",
      "C:\\Users\\aman.khatri91425\\AppData\\Local\\Continuum\\anaconda3\\lib\\site-packages\\sklearn\\linear_model\\logistic.py:433: FutureWarning: Default solver will be changed to 'lbfgs' in 0.22. Specify a solver to silence this warning.\n",
      "  FutureWarning)\n",
      "C:\\Users\\aman.khatri91425\\AppData\\Local\\Continuum\\anaconda3\\lib\\site-packages\\sklearn\\utils\\validation.py:761: DataConversionWarning: A column-vector y was passed when a 1d array was expected. Please change the shape of y to (n_samples, ), for example using ravel().\n",
      "  y = column_or_1d(y, warn=True)\n",
      "C:\\Users\\aman.khatri91425\\AppData\\Local\\Continuum\\anaconda3\\lib\\site-packages\\sklearn\\linear_model\\logistic.py:433: FutureWarning: Default solver will be changed to 'lbfgs' in 0.22. Specify a solver to silence this warning.\n",
      "  FutureWarning)\n",
      "C:\\Users\\aman.khatri91425\\AppData\\Local\\Continuum\\anaconda3\\lib\\site-packages\\sklearn\\utils\\validation.py:761: DataConversionWarning: A column-vector y was passed when a 1d array was expected. Please change the shape of y to (n_samples, ), for example using ravel().\n",
      "  y = column_or_1d(y, warn=True)\n",
      "C:\\Users\\aman.khatri91425\\AppData\\Local\\Continuum\\anaconda3\\lib\\site-packages\\sklearn\\linear_model\\logistic.py:433: FutureWarning: Default solver will be changed to 'lbfgs' in 0.22. Specify a solver to silence this warning.\n",
      "  FutureWarning)\n",
      "C:\\Users\\aman.khatri91425\\AppData\\Local\\Continuum\\anaconda3\\lib\\site-packages\\sklearn\\utils\\validation.py:761: DataConversionWarning: A column-vector y was passed when a 1d array was expected. Please change the shape of y to (n_samples, ), for example using ravel().\n",
      "  y = column_or_1d(y, warn=True)\n",
      "C:\\Users\\aman.khatri91425\\AppData\\Local\\Continuum\\anaconda3\\lib\\site-packages\\sklearn\\linear_model\\logistic.py:433: FutureWarning: Default solver will be changed to 'lbfgs' in 0.22. Specify a solver to silence this warning.\n",
      "  FutureWarning)\n",
      "C:\\Users\\aman.khatri91425\\AppData\\Local\\Continuum\\anaconda3\\lib\\site-packages\\sklearn\\utils\\validation.py:761: DataConversionWarning: A column-vector y was passed when a 1d array was expected. Please change the shape of y to (n_samples, ), for example using ravel().\n",
      "  y = column_or_1d(y, warn=True)\n",
      "C:\\Users\\aman.khatri91425\\AppData\\Local\\Continuum\\anaconda3\\lib\\site-packages\\sklearn\\linear_model\\logistic.py:433: FutureWarning: Default solver will be changed to 'lbfgs' in 0.22. Specify a solver to silence this warning.\n",
      "  FutureWarning)\n",
      "C:\\Users\\aman.khatri91425\\AppData\\Local\\Continuum\\anaconda3\\lib\\site-packages\\sklearn\\utils\\validation.py:761: DataConversionWarning: A column-vector y was passed when a 1d array was expected. Please change the shape of y to (n_samples, ), for example using ravel().\n",
      "  y = column_or_1d(y, warn=True)\n",
      "C:\\Users\\aman.khatri91425\\AppData\\Local\\Continuum\\anaconda3\\lib\\site-packages\\sklearn\\linear_model\\logistic.py:433: FutureWarning: Default solver will be changed to 'lbfgs' in 0.22. Specify a solver to silence this warning.\n",
      "  FutureWarning)\n",
      "C:\\Users\\aman.khatri91425\\AppData\\Local\\Continuum\\anaconda3\\lib\\site-packages\\sklearn\\utils\\validation.py:761: DataConversionWarning: A column-vector y was passed when a 1d array was expected. Please change the shape of y to (n_samples, ), for example using ravel().\n",
      "  y = column_or_1d(y, warn=True)\n",
      "C:\\Users\\aman.khatri91425\\AppData\\Local\\Continuum\\anaconda3\\lib\\site-packages\\sklearn\\linear_model\\logistic.py:433: FutureWarning: Default solver will be changed to 'lbfgs' in 0.22. Specify a solver to silence this warning.\n",
      "  FutureWarning)\n",
      "C:\\Users\\aman.khatri91425\\AppData\\Local\\Continuum\\anaconda3\\lib\\site-packages\\sklearn\\utils\\validation.py:761: DataConversionWarning: A column-vector y was passed when a 1d array was expected. Please change the shape of y to (n_samples, ), for example using ravel().\n",
      "  y = column_or_1d(y, warn=True)\n",
      "C:\\Users\\aman.khatri91425\\AppData\\Local\\Continuum\\anaconda3\\lib\\site-packages\\sklearn\\linear_model\\logistic.py:433: FutureWarning: Default solver will be changed to 'lbfgs' in 0.22. Specify a solver to silence this warning.\n",
      "  FutureWarning)\n",
      "C:\\Users\\aman.khatri91425\\AppData\\Local\\Continuum\\anaconda3\\lib\\site-packages\\sklearn\\utils\\validation.py:761: DataConversionWarning: A column-vector y was passed when a 1d array was expected. Please change the shape of y to (n_samples, ), for example using ravel().\n",
      "  y = column_or_1d(y, warn=True)\n",
      "C:\\Users\\aman.khatri91425\\AppData\\Local\\Continuum\\anaconda3\\lib\\site-packages\\sklearn\\linear_model\\logistic.py:433: FutureWarning: Default solver will be changed to 'lbfgs' in 0.22. Specify a solver to silence this warning.\n",
      "  FutureWarning)\n",
      "C:\\Users\\aman.khatri91425\\AppData\\Local\\Continuum\\anaconda3\\lib\\site-packages\\sklearn\\utils\\validation.py:761: DataConversionWarning: A column-vector y was passed when a 1d array was expected. Please change the shape of y to (n_samples, ), for example using ravel().\n",
      "  y = column_or_1d(y, warn=True)\n",
      "C:\\Users\\aman.khatri91425\\AppData\\Local\\Continuum\\anaconda3\\lib\\site-packages\\sklearn\\linear_model\\logistic.py:433: FutureWarning: Default solver will be changed to 'lbfgs' in 0.22. Specify a solver to silence this warning.\n",
      "  FutureWarning)\n",
      "C:\\Users\\aman.khatri91425\\AppData\\Local\\Continuum\\anaconda3\\lib\\site-packages\\sklearn\\utils\\validation.py:761: DataConversionWarning: A column-vector y was passed when a 1d array was expected. Please change the shape of y to (n_samples, ), for example using ravel().\n",
      "  y = column_or_1d(y, warn=True)\n",
      "C:\\Users\\aman.khatri91425\\AppData\\Local\\Continuum\\anaconda3\\lib\\site-packages\\sklearn\\linear_model\\logistic.py:433: FutureWarning: Default solver will be changed to 'lbfgs' in 0.22. Specify a solver to silence this warning.\n",
      "  FutureWarning)\n",
      "C:\\Users\\aman.khatri91425\\AppData\\Local\\Continuum\\anaconda3\\lib\\site-packages\\sklearn\\utils\\validation.py:761: DataConversionWarning: A column-vector y was passed when a 1d array was expected. Please change the shape of y to (n_samples, ), for example using ravel().\n",
      "  y = column_or_1d(y, warn=True)\n"
     ]
    },
    {
     "name": "stderr",
     "output_type": "stream",
     "text": [
      "C:\\Users\\aman.khatri91425\\AppData\\Local\\Continuum\\anaconda3\\lib\\site-packages\\sklearn\\linear_model\\logistic.py:433: FutureWarning: Default solver will be changed to 'lbfgs' in 0.22. Specify a solver to silence this warning.\n",
      "  FutureWarning)\n",
      "C:\\Users\\aman.khatri91425\\AppData\\Local\\Continuum\\anaconda3\\lib\\site-packages\\sklearn\\utils\\validation.py:761: DataConversionWarning: A column-vector y was passed when a 1d array was expected. Please change the shape of y to (n_samples, ), for example using ravel().\n",
      "  y = column_or_1d(y, warn=True)\n",
      "C:\\Users\\aman.khatri91425\\AppData\\Local\\Continuum\\anaconda3\\lib\\site-packages\\sklearn\\linear_model\\logistic.py:433: FutureWarning: Default solver will be changed to 'lbfgs' in 0.22. Specify a solver to silence this warning.\n",
      "  FutureWarning)\n",
      "C:\\Users\\aman.khatri91425\\AppData\\Local\\Continuum\\anaconda3\\lib\\site-packages\\sklearn\\utils\\validation.py:761: DataConversionWarning: A column-vector y was passed when a 1d array was expected. Please change the shape of y to (n_samples, ), for example using ravel().\n",
      "  y = column_or_1d(y, warn=True)\n",
      "C:\\Users\\aman.khatri91425\\AppData\\Local\\Continuum\\anaconda3\\lib\\site-packages\\sklearn\\linear_model\\logistic.py:433: FutureWarning: Default solver will be changed to 'lbfgs' in 0.22. Specify a solver to silence this warning.\n",
      "  FutureWarning)\n",
      "C:\\Users\\aman.khatri91425\\AppData\\Local\\Continuum\\anaconda3\\lib\\site-packages\\sklearn\\utils\\validation.py:761: DataConversionWarning: A column-vector y was passed when a 1d array was expected. Please change the shape of y to (n_samples, ), for example using ravel().\n",
      "  y = column_or_1d(y, warn=True)\n",
      "C:\\Users\\aman.khatri91425\\AppData\\Local\\Continuum\\anaconda3\\lib\\site-packages\\sklearn\\linear_model\\logistic.py:433: FutureWarning: Default solver will be changed to 'lbfgs' in 0.22. Specify a solver to silence this warning.\n",
      "  FutureWarning)\n",
      "C:\\Users\\aman.khatri91425\\AppData\\Local\\Continuum\\anaconda3\\lib\\site-packages\\sklearn\\utils\\validation.py:761: DataConversionWarning: A column-vector y was passed when a 1d array was expected. Please change the shape of y to (n_samples, ), for example using ravel().\n",
      "  y = column_or_1d(y, warn=True)\n",
      "C:\\Users\\aman.khatri91425\\AppData\\Local\\Continuum\\anaconda3\\lib\\site-packages\\sklearn\\linear_model\\logistic.py:433: FutureWarning: Default solver will be changed to 'lbfgs' in 0.22. Specify a solver to silence this warning.\n",
      "  FutureWarning)\n",
      "C:\\Users\\aman.khatri91425\\AppData\\Local\\Continuum\\anaconda3\\lib\\site-packages\\sklearn\\utils\\validation.py:761: DataConversionWarning: A column-vector y was passed when a 1d array was expected. Please change the shape of y to (n_samples, ), for example using ravel().\n",
      "  y = column_or_1d(y, warn=True)\n",
      "C:\\Users\\aman.khatri91425\\AppData\\Local\\Continuum\\anaconda3\\lib\\site-packages\\sklearn\\linear_model\\logistic.py:433: FutureWarning: Default solver will be changed to 'lbfgs' in 0.22. Specify a solver to silence this warning.\n",
      "  FutureWarning)\n",
      "C:\\Users\\aman.khatri91425\\AppData\\Local\\Continuum\\anaconda3\\lib\\site-packages\\sklearn\\utils\\validation.py:761: DataConversionWarning: A column-vector y was passed when a 1d array was expected. Please change the shape of y to (n_samples, ), for example using ravel().\n",
      "  y = column_or_1d(y, warn=True)\n",
      "C:\\Users\\aman.khatri91425\\AppData\\Local\\Continuum\\anaconda3\\lib\\site-packages\\sklearn\\linear_model\\logistic.py:433: FutureWarning: Default solver will be changed to 'lbfgs' in 0.22. Specify a solver to silence this warning.\n",
      "  FutureWarning)\n",
      "C:\\Users\\aman.khatri91425\\AppData\\Local\\Continuum\\anaconda3\\lib\\site-packages\\sklearn\\utils\\validation.py:761: DataConversionWarning: A column-vector y was passed when a 1d array was expected. Please change the shape of y to (n_samples, ), for example using ravel().\n",
      "  y = column_or_1d(y, warn=True)\n",
      "C:\\Users\\aman.khatri91425\\AppData\\Local\\Continuum\\anaconda3\\lib\\site-packages\\sklearn\\linear_model\\logistic.py:433: FutureWarning: Default solver will be changed to 'lbfgs' in 0.22. Specify a solver to silence this warning.\n",
      "  FutureWarning)\n",
      "C:\\Users\\aman.khatri91425\\AppData\\Local\\Continuum\\anaconda3\\lib\\site-packages\\sklearn\\utils\\validation.py:761: DataConversionWarning: A column-vector y was passed when a 1d array was expected. Please change the shape of y to (n_samples, ), for example using ravel().\n",
      "  y = column_or_1d(y, warn=True)\n",
      "C:\\Users\\aman.khatri91425\\AppData\\Local\\Continuum\\anaconda3\\lib\\site-packages\\sklearn\\linear_model\\logistic.py:433: FutureWarning: Default solver will be changed to 'lbfgs' in 0.22. Specify a solver to silence this warning.\n",
      "  FutureWarning)\n",
      "C:\\Users\\aman.khatri91425\\AppData\\Local\\Continuum\\anaconda3\\lib\\site-packages\\sklearn\\utils\\validation.py:761: DataConversionWarning: A column-vector y was passed when a 1d array was expected. Please change the shape of y to (n_samples, ), for example using ravel().\n",
      "  y = column_or_1d(y, warn=True)\n",
      "C:\\Users\\aman.khatri91425\\AppData\\Local\\Continuum\\anaconda3\\lib\\site-packages\\sklearn\\linear_model\\logistic.py:433: FutureWarning: Default solver will be changed to 'lbfgs' in 0.22. Specify a solver to silence this warning.\n",
      "  FutureWarning)\n",
      "C:\\Users\\aman.khatri91425\\AppData\\Local\\Continuum\\anaconda3\\lib\\site-packages\\sklearn\\utils\\validation.py:761: DataConversionWarning: A column-vector y was passed when a 1d array was expected. Please change the shape of y to (n_samples, ), for example using ravel().\n",
      "  y = column_or_1d(y, warn=True)\n",
      "C:\\Users\\aman.khatri91425\\AppData\\Local\\Continuum\\anaconda3\\lib\\site-packages\\sklearn\\linear_model\\logistic.py:433: FutureWarning: Default solver will be changed to 'lbfgs' in 0.22. Specify a solver to silence this warning.\n",
      "  FutureWarning)\n",
      "C:\\Users\\aman.khatri91425\\AppData\\Local\\Continuum\\anaconda3\\lib\\site-packages\\sklearn\\utils\\validation.py:761: DataConversionWarning: A column-vector y was passed when a 1d array was expected. Please change the shape of y to (n_samples, ), for example using ravel().\n",
      "  y = column_or_1d(y, warn=True)\n",
      "C:\\Users\\aman.khatri91425\\AppData\\Local\\Continuum\\anaconda3\\lib\\site-packages\\sklearn\\linear_model\\logistic.py:433: FutureWarning: Default solver will be changed to 'lbfgs' in 0.22. Specify a solver to silence this warning.\n",
      "  FutureWarning)\n",
      "C:\\Users\\aman.khatri91425\\AppData\\Local\\Continuum\\anaconda3\\lib\\site-packages\\sklearn\\utils\\validation.py:761: DataConversionWarning: A column-vector y was passed when a 1d array was expected. Please change the shape of y to (n_samples, ), for example using ravel().\n",
      "  y = column_or_1d(y, warn=True)\n",
      "C:\\Users\\aman.khatri91425\\AppData\\Local\\Continuum\\anaconda3\\lib\\site-packages\\sklearn\\linear_model\\logistic.py:433: FutureWarning: Default solver will be changed to 'lbfgs' in 0.22. Specify a solver to silence this warning.\n",
      "  FutureWarning)\n",
      "C:\\Users\\aman.khatri91425\\AppData\\Local\\Continuum\\anaconda3\\lib\\site-packages\\sklearn\\utils\\validation.py:761: DataConversionWarning: A column-vector y was passed when a 1d array was expected. Please change the shape of y to (n_samples, ), for example using ravel().\n",
      "  y = column_or_1d(y, warn=True)\n",
      "C:\\Users\\aman.khatri91425\\AppData\\Local\\Continuum\\anaconda3\\lib\\site-packages\\sklearn\\linear_model\\logistic.py:433: FutureWarning: Default solver will be changed to 'lbfgs' in 0.22. Specify a solver to silence this warning.\n",
      "  FutureWarning)\n",
      "C:\\Users\\aman.khatri91425\\AppData\\Local\\Continuum\\anaconda3\\lib\\site-packages\\sklearn\\utils\\validation.py:761: DataConversionWarning: A column-vector y was passed when a 1d array was expected. Please change the shape of y to (n_samples, ), for example using ravel().\n",
      "  y = column_or_1d(y, warn=True)\n",
      "C:\\Users\\aman.khatri91425\\AppData\\Local\\Continuum\\anaconda3\\lib\\site-packages\\sklearn\\linear_model\\logistic.py:433: FutureWarning: Default solver will be changed to 'lbfgs' in 0.22. Specify a solver to silence this warning.\n",
      "  FutureWarning)\n",
      "C:\\Users\\aman.khatri91425\\AppData\\Local\\Continuum\\anaconda3\\lib\\site-packages\\sklearn\\utils\\validation.py:761: DataConversionWarning: A column-vector y was passed when a 1d array was expected. Please change the shape of y to (n_samples, ), for example using ravel().\n",
      "  y = column_or_1d(y, warn=True)\n",
      "C:\\Users\\aman.khatri91425\\AppData\\Local\\Continuum\\anaconda3\\lib\\site-packages\\sklearn\\linear_model\\logistic.py:433: FutureWarning: Default solver will be changed to 'lbfgs' in 0.22. Specify a solver to silence this warning.\n",
      "  FutureWarning)\n",
      "C:\\Users\\aman.khatri91425\\AppData\\Local\\Continuum\\anaconda3\\lib\\site-packages\\sklearn\\utils\\validation.py:761: DataConversionWarning: A column-vector y was passed when a 1d array was expected. Please change the shape of y to (n_samples, ), for example using ravel().\n",
      "  y = column_or_1d(y, warn=True)\n",
      "C:\\Users\\aman.khatri91425\\AppData\\Local\\Continuum\\anaconda3\\lib\\site-packages\\sklearn\\linear_model\\logistic.py:433: FutureWarning: Default solver will be changed to 'lbfgs' in 0.22. Specify a solver to silence this warning.\n",
      "  FutureWarning)\n"
     ]
    },
    {
     "name": "stderr",
     "output_type": "stream",
     "text": [
      "C:\\Users\\aman.khatri91425\\AppData\\Local\\Continuum\\anaconda3\\lib\\site-packages\\sklearn\\utils\\validation.py:761: DataConversionWarning: A column-vector y was passed when a 1d array was expected. Please change the shape of y to (n_samples, ), for example using ravel().\n",
      "  y = column_or_1d(y, warn=True)\n",
      "C:\\Users\\aman.khatri91425\\AppData\\Local\\Continuum\\anaconda3\\lib\\site-packages\\sklearn\\linear_model\\logistic.py:433: FutureWarning: Default solver will be changed to 'lbfgs' in 0.22. Specify a solver to silence this warning.\n",
      "  FutureWarning)\n",
      "C:\\Users\\aman.khatri91425\\AppData\\Local\\Continuum\\anaconda3\\lib\\site-packages\\sklearn\\utils\\validation.py:761: DataConversionWarning: A column-vector y was passed when a 1d array was expected. Please change the shape of y to (n_samples, ), for example using ravel().\n",
      "  y = column_or_1d(y, warn=True)\n",
      "C:\\Users\\aman.khatri91425\\AppData\\Local\\Continuum\\anaconda3\\lib\\site-packages\\sklearn\\linear_model\\logistic.py:433: FutureWarning: Default solver will be changed to 'lbfgs' in 0.22. Specify a solver to silence this warning.\n",
      "  FutureWarning)\n",
      "C:\\Users\\aman.khatri91425\\AppData\\Local\\Continuum\\anaconda3\\lib\\site-packages\\sklearn\\utils\\validation.py:761: DataConversionWarning: A column-vector y was passed when a 1d array was expected. Please change the shape of y to (n_samples, ), for example using ravel().\n",
      "  y = column_or_1d(y, warn=True)\n",
      "C:\\Users\\aman.khatri91425\\AppData\\Local\\Continuum\\anaconda3\\lib\\site-packages\\sklearn\\linear_model\\logistic.py:433: FutureWarning: Default solver will be changed to 'lbfgs' in 0.22. Specify a solver to silence this warning.\n",
      "  FutureWarning)\n",
      "C:\\Users\\aman.khatri91425\\AppData\\Local\\Continuum\\anaconda3\\lib\\site-packages\\sklearn\\utils\\validation.py:761: DataConversionWarning: A column-vector y was passed when a 1d array was expected. Please change the shape of y to (n_samples, ), for example using ravel().\n",
      "  y = column_or_1d(y, warn=True)\n",
      "C:\\Users\\aman.khatri91425\\AppData\\Local\\Continuum\\anaconda3\\lib\\site-packages\\sklearn\\linear_model\\logistic.py:433: FutureWarning: Default solver will be changed to 'lbfgs' in 0.22. Specify a solver to silence this warning.\n",
      "  FutureWarning)\n",
      "C:\\Users\\aman.khatri91425\\AppData\\Local\\Continuum\\anaconda3\\lib\\site-packages\\sklearn\\utils\\validation.py:761: DataConversionWarning: A column-vector y was passed when a 1d array was expected. Please change the shape of y to (n_samples, ), for example using ravel().\n",
      "  y = column_or_1d(y, warn=True)\n",
      "C:\\Users\\aman.khatri91425\\AppData\\Local\\Continuum\\anaconda3\\lib\\site-packages\\sklearn\\linear_model\\logistic.py:433: FutureWarning: Default solver will be changed to 'lbfgs' in 0.22. Specify a solver to silence this warning.\n",
      "  FutureWarning)\n",
      "C:\\Users\\aman.khatri91425\\AppData\\Local\\Continuum\\anaconda3\\lib\\site-packages\\sklearn\\utils\\validation.py:761: DataConversionWarning: A column-vector y was passed when a 1d array was expected. Please change the shape of y to (n_samples, ), for example using ravel().\n",
      "  y = column_or_1d(y, warn=True)\n",
      "C:\\Users\\aman.khatri91425\\AppData\\Local\\Continuum\\anaconda3\\lib\\site-packages\\sklearn\\linear_model\\logistic.py:433: FutureWarning: Default solver will be changed to 'lbfgs' in 0.22. Specify a solver to silence this warning.\n",
      "  FutureWarning)\n",
      "C:\\Users\\aman.khatri91425\\AppData\\Local\\Continuum\\anaconda3\\lib\\site-packages\\sklearn\\utils\\validation.py:761: DataConversionWarning: A column-vector y was passed when a 1d array was expected. Please change the shape of y to (n_samples, ), for example using ravel().\n",
      "  y = column_or_1d(y, warn=True)\n",
      "C:\\Users\\aman.khatri91425\\AppData\\Local\\Continuum\\anaconda3\\lib\\site-packages\\sklearn\\linear_model\\logistic.py:433: FutureWarning: Default solver will be changed to 'lbfgs' in 0.22. Specify a solver to silence this warning.\n",
      "  FutureWarning)\n",
      "C:\\Users\\aman.khatri91425\\AppData\\Local\\Continuum\\anaconda3\\lib\\site-packages\\sklearn\\utils\\validation.py:761: DataConversionWarning: A column-vector y was passed when a 1d array was expected. Please change the shape of y to (n_samples, ), for example using ravel().\n",
      "  y = column_or_1d(y, warn=True)\n",
      "C:\\Users\\aman.khatri91425\\AppData\\Local\\Continuum\\anaconda3\\lib\\site-packages\\sklearn\\linear_model\\logistic.py:433: FutureWarning: Default solver will be changed to 'lbfgs' in 0.22. Specify a solver to silence this warning.\n",
      "  FutureWarning)\n",
      "C:\\Users\\aman.khatri91425\\AppData\\Local\\Continuum\\anaconda3\\lib\\site-packages\\sklearn\\utils\\validation.py:761: DataConversionWarning: A column-vector y was passed when a 1d array was expected. Please change the shape of y to (n_samples, ), for example using ravel().\n",
      "  y = column_or_1d(y, warn=True)\n",
      "C:\\Users\\aman.khatri91425\\AppData\\Local\\Continuum\\anaconda3\\lib\\site-packages\\sklearn\\linear_model\\logistic.py:433: FutureWarning: Default solver will be changed to 'lbfgs' in 0.22. Specify a solver to silence this warning.\n",
      "  FutureWarning)\n",
      "C:\\Users\\aman.khatri91425\\AppData\\Local\\Continuum\\anaconda3\\lib\\site-packages\\sklearn\\utils\\validation.py:761: DataConversionWarning: A column-vector y was passed when a 1d array was expected. Please change the shape of y to (n_samples, ), for example using ravel().\n",
      "  y = column_or_1d(y, warn=True)\n",
      "C:\\Users\\aman.khatri91425\\AppData\\Local\\Continuum\\anaconda3\\lib\\site-packages\\sklearn\\linear_model\\logistic.py:433: FutureWarning: Default solver will be changed to 'lbfgs' in 0.22. Specify a solver to silence this warning.\n",
      "  FutureWarning)\n",
      "C:\\Users\\aman.khatri91425\\AppData\\Local\\Continuum\\anaconda3\\lib\\site-packages\\sklearn\\utils\\validation.py:761: DataConversionWarning: A column-vector y was passed when a 1d array was expected. Please change the shape of y to (n_samples, ), for example using ravel().\n",
      "  y = column_or_1d(y, warn=True)\n",
      "C:\\Users\\aman.khatri91425\\AppData\\Local\\Continuum\\anaconda3\\lib\\site-packages\\sklearn\\linear_model\\logistic.py:433: FutureWarning: Default solver will be changed to 'lbfgs' in 0.22. Specify a solver to silence this warning.\n",
      "  FutureWarning)\n",
      "C:\\Users\\aman.khatri91425\\AppData\\Local\\Continuum\\anaconda3\\lib\\site-packages\\sklearn\\utils\\validation.py:761: DataConversionWarning: A column-vector y was passed when a 1d array was expected. Please change the shape of y to (n_samples, ), for example using ravel().\n",
      "  y = column_or_1d(y, warn=True)\n",
      "C:\\Users\\aman.khatri91425\\AppData\\Local\\Continuum\\anaconda3\\lib\\site-packages\\sklearn\\linear_model\\logistic.py:433: FutureWarning: Default solver will be changed to 'lbfgs' in 0.22. Specify a solver to silence this warning.\n",
      "  FutureWarning)\n",
      "C:\\Users\\aman.khatri91425\\AppData\\Local\\Continuum\\anaconda3\\lib\\site-packages\\sklearn\\utils\\validation.py:761: DataConversionWarning: A column-vector y was passed when a 1d array was expected. Please change the shape of y to (n_samples, ), for example using ravel().\n",
      "  y = column_or_1d(y, warn=True)\n",
      "C:\\Users\\aman.khatri91425\\AppData\\Local\\Continuum\\anaconda3\\lib\\site-packages\\sklearn\\linear_model\\logistic.py:433: FutureWarning: Default solver will be changed to 'lbfgs' in 0.22. Specify a solver to silence this warning.\n",
      "  FutureWarning)\n",
      "C:\\Users\\aman.khatri91425\\AppData\\Local\\Continuum\\anaconda3\\lib\\site-packages\\sklearn\\utils\\validation.py:761: DataConversionWarning: A column-vector y was passed when a 1d array was expected. Please change the shape of y to (n_samples, ), for example using ravel().\n",
      "  y = column_or_1d(y, warn=True)\n",
      "C:\\Users\\aman.khatri91425\\AppData\\Local\\Continuum\\anaconda3\\lib\\site-packages\\sklearn\\linear_model\\logistic.py:433: FutureWarning: Default solver will be changed to 'lbfgs' in 0.22. Specify a solver to silence this warning.\n",
      "  FutureWarning)\n",
      "C:\\Users\\aman.khatri91425\\AppData\\Local\\Continuum\\anaconda3\\lib\\site-packages\\sklearn\\utils\\validation.py:761: DataConversionWarning: A column-vector y was passed when a 1d array was expected. Please change the shape of y to (n_samples, ), for example using ravel().\n",
      "  y = column_or_1d(y, warn=True)\n",
      "C:\\Users\\aman.khatri91425\\AppData\\Local\\Continuum\\anaconda3\\lib\\site-packages\\sklearn\\linear_model\\logistic.py:433: FutureWarning: Default solver will be changed to 'lbfgs' in 0.22. Specify a solver to silence this warning.\n",
      "  FutureWarning)\n",
      "C:\\Users\\aman.khatri91425\\AppData\\Local\\Continuum\\anaconda3\\lib\\site-packages\\sklearn\\utils\\validation.py:761: DataConversionWarning: A column-vector y was passed when a 1d array was expected. Please change the shape of y to (n_samples, ), for example using ravel().\n",
      "  y = column_or_1d(y, warn=True)\n",
      "C:\\Users\\aman.khatri91425\\AppData\\Local\\Continuum\\anaconda3\\lib\\site-packages\\sklearn\\linear_model\\logistic.py:433: FutureWarning: Default solver will be changed to 'lbfgs' in 0.22. Specify a solver to silence this warning.\n",
      "  FutureWarning)\n",
      "C:\\Users\\aman.khatri91425\\AppData\\Local\\Continuum\\anaconda3\\lib\\site-packages\\sklearn\\utils\\validation.py:761: DataConversionWarning: A column-vector y was passed when a 1d array was expected. Please change the shape of y to (n_samples, ), for example using ravel().\n",
      "  y = column_or_1d(y, warn=True)\n",
      "C:\\Users\\aman.khatri91425\\AppData\\Local\\Continuum\\anaconda3\\lib\\site-packages\\sklearn\\linear_model\\logistic.py:433: FutureWarning: Default solver will be changed to 'lbfgs' in 0.22. Specify a solver to silence this warning.\n",
      "  FutureWarning)\n",
      "C:\\Users\\aman.khatri91425\\AppData\\Local\\Continuum\\anaconda3\\lib\\site-packages\\sklearn\\utils\\validation.py:761: DataConversionWarning: A column-vector y was passed when a 1d array was expected. Please change the shape of y to (n_samples, ), for example using ravel().\n",
      "  y = column_or_1d(y, warn=True)\n",
      "C:\\Users\\aman.khatri91425\\AppData\\Local\\Continuum\\anaconda3\\lib\\site-packages\\sklearn\\linear_model\\logistic.py:433: FutureWarning: Default solver will be changed to 'lbfgs' in 0.22. Specify a solver to silence this warning.\n",
      "  FutureWarning)\n",
      "C:\\Users\\aman.khatri91425\\AppData\\Local\\Continuum\\anaconda3\\lib\\site-packages\\sklearn\\utils\\validation.py:761: DataConversionWarning: A column-vector y was passed when a 1d array was expected. Please change the shape of y to (n_samples, ), for example using ravel().\n",
      "  y = column_or_1d(y, warn=True)\n"
     ]
    },
    {
     "name": "stderr",
     "output_type": "stream",
     "text": [
      "C:\\Users\\aman.khatri91425\\AppData\\Local\\Continuum\\anaconda3\\lib\\site-packages\\sklearn\\linear_model\\logistic.py:433: FutureWarning: Default solver will be changed to 'lbfgs' in 0.22. Specify a solver to silence this warning.\n",
      "  FutureWarning)\n",
      "C:\\Users\\aman.khatri91425\\AppData\\Local\\Continuum\\anaconda3\\lib\\site-packages\\sklearn\\utils\\validation.py:761: DataConversionWarning: A column-vector y was passed when a 1d array was expected. Please change the shape of y to (n_samples, ), for example using ravel().\n",
      "  y = column_or_1d(y, warn=True)\n",
      "C:\\Users\\aman.khatri91425\\AppData\\Local\\Continuum\\anaconda3\\lib\\site-packages\\sklearn\\linear_model\\logistic.py:433: FutureWarning: Default solver will be changed to 'lbfgs' in 0.22. Specify a solver to silence this warning.\n",
      "  FutureWarning)\n",
      "C:\\Users\\aman.khatri91425\\AppData\\Local\\Continuum\\anaconda3\\lib\\site-packages\\sklearn\\utils\\validation.py:761: DataConversionWarning: A column-vector y was passed when a 1d array was expected. Please change the shape of y to (n_samples, ), for example using ravel().\n",
      "  y = column_or_1d(y, warn=True)\n",
      "C:\\Users\\aman.khatri91425\\AppData\\Local\\Continuum\\anaconda3\\lib\\site-packages\\sklearn\\linear_model\\logistic.py:433: FutureWarning: Default solver will be changed to 'lbfgs' in 0.22. Specify a solver to silence this warning.\n",
      "  FutureWarning)\n",
      "C:\\Users\\aman.khatri91425\\AppData\\Local\\Continuum\\anaconda3\\lib\\site-packages\\sklearn\\utils\\validation.py:761: DataConversionWarning: A column-vector y was passed when a 1d array was expected. Please change the shape of y to (n_samples, ), for example using ravel().\n",
      "  y = column_or_1d(y, warn=True)\n",
      "C:\\Users\\aman.khatri91425\\AppData\\Local\\Continuum\\anaconda3\\lib\\site-packages\\sklearn\\linear_model\\logistic.py:433: FutureWarning: Default solver will be changed to 'lbfgs' in 0.22. Specify a solver to silence this warning.\n",
      "  FutureWarning)\n",
      "C:\\Users\\aman.khatri91425\\AppData\\Local\\Continuum\\anaconda3\\lib\\site-packages\\sklearn\\utils\\validation.py:761: DataConversionWarning: A column-vector y was passed when a 1d array was expected. Please change the shape of y to (n_samples, ), for example using ravel().\n",
      "  y = column_or_1d(y, warn=True)\n",
      "C:\\Users\\aman.khatri91425\\AppData\\Local\\Continuum\\anaconda3\\lib\\site-packages\\sklearn\\linear_model\\logistic.py:433: FutureWarning: Default solver will be changed to 'lbfgs' in 0.22. Specify a solver to silence this warning.\n",
      "  FutureWarning)\n",
      "C:\\Users\\aman.khatri91425\\AppData\\Local\\Continuum\\anaconda3\\lib\\site-packages\\sklearn\\utils\\validation.py:761: DataConversionWarning: A column-vector y was passed when a 1d array was expected. Please change the shape of y to (n_samples, ), for example using ravel().\n",
      "  y = column_or_1d(y, warn=True)\n",
      "C:\\Users\\aman.khatri91425\\AppData\\Local\\Continuum\\anaconda3\\lib\\site-packages\\sklearn\\linear_model\\logistic.py:433: FutureWarning: Default solver will be changed to 'lbfgs' in 0.22. Specify a solver to silence this warning.\n",
      "  FutureWarning)\n",
      "C:\\Users\\aman.khatri91425\\AppData\\Local\\Continuum\\anaconda3\\lib\\site-packages\\sklearn\\utils\\validation.py:761: DataConversionWarning: A column-vector y was passed when a 1d array was expected. Please change the shape of y to (n_samples, ), for example using ravel().\n",
      "  y = column_or_1d(y, warn=True)\n",
      "C:\\Users\\aman.khatri91425\\AppData\\Local\\Continuum\\anaconda3\\lib\\site-packages\\sklearn\\linear_model\\logistic.py:433: FutureWarning: Default solver will be changed to 'lbfgs' in 0.22. Specify a solver to silence this warning.\n",
      "  FutureWarning)\n",
      "C:\\Users\\aman.khatri91425\\AppData\\Local\\Continuum\\anaconda3\\lib\\site-packages\\sklearn\\utils\\validation.py:761: DataConversionWarning: A column-vector y was passed when a 1d array was expected. Please change the shape of y to (n_samples, ), for example using ravel().\n",
      "  y = column_or_1d(y, warn=True)\n",
      "C:\\Users\\aman.khatri91425\\AppData\\Local\\Continuum\\anaconda3\\lib\\site-packages\\sklearn\\linear_model\\logistic.py:433: FutureWarning: Default solver will be changed to 'lbfgs' in 0.22. Specify a solver to silence this warning.\n",
      "  FutureWarning)\n",
      "C:\\Users\\aman.khatri91425\\AppData\\Local\\Continuum\\anaconda3\\lib\\site-packages\\sklearn\\utils\\validation.py:761: DataConversionWarning: A column-vector y was passed when a 1d array was expected. Please change the shape of y to (n_samples, ), for example using ravel().\n",
      "  y = column_or_1d(y, warn=True)\n",
      "C:\\Users\\aman.khatri91425\\AppData\\Local\\Continuum\\anaconda3\\lib\\site-packages\\sklearn\\linear_model\\logistic.py:433: FutureWarning: Default solver will be changed to 'lbfgs' in 0.22. Specify a solver to silence this warning.\n",
      "  FutureWarning)\n",
      "C:\\Users\\aman.khatri91425\\AppData\\Local\\Continuum\\anaconda3\\lib\\site-packages\\sklearn\\utils\\validation.py:761: DataConversionWarning: A column-vector y was passed when a 1d array was expected. Please change the shape of y to (n_samples, ), for example using ravel().\n",
      "  y = column_or_1d(y, warn=True)\n",
      "C:\\Users\\aman.khatri91425\\AppData\\Local\\Continuum\\anaconda3\\lib\\site-packages\\sklearn\\linear_model\\logistic.py:433: FutureWarning: Default solver will be changed to 'lbfgs' in 0.22. Specify a solver to silence this warning.\n",
      "  FutureWarning)\n",
      "C:\\Users\\aman.khatri91425\\AppData\\Local\\Continuum\\anaconda3\\lib\\site-packages\\sklearn\\utils\\validation.py:761: DataConversionWarning: A column-vector y was passed when a 1d array was expected. Please change the shape of y to (n_samples, ), for example using ravel().\n",
      "  y = column_or_1d(y, warn=True)\n",
      "C:\\Users\\aman.khatri91425\\AppData\\Local\\Continuum\\anaconda3\\lib\\site-packages\\sklearn\\linear_model\\logistic.py:433: FutureWarning: Default solver will be changed to 'lbfgs' in 0.22. Specify a solver to silence this warning.\n",
      "  FutureWarning)\n",
      "C:\\Users\\aman.khatri91425\\AppData\\Local\\Continuum\\anaconda3\\lib\\site-packages\\sklearn\\utils\\validation.py:761: DataConversionWarning: A column-vector y was passed when a 1d array was expected. Please change the shape of y to (n_samples, ), for example using ravel().\n",
      "  y = column_or_1d(y, warn=True)\n",
      "C:\\Users\\aman.khatri91425\\AppData\\Local\\Continuum\\anaconda3\\lib\\site-packages\\sklearn\\linear_model\\logistic.py:433: FutureWarning: Default solver will be changed to 'lbfgs' in 0.22. Specify a solver to silence this warning.\n",
      "  FutureWarning)\n",
      "C:\\Users\\aman.khatri91425\\AppData\\Local\\Continuum\\anaconda3\\lib\\site-packages\\sklearn\\utils\\validation.py:761: DataConversionWarning: A column-vector y was passed when a 1d array was expected. Please change the shape of y to (n_samples, ), for example using ravel().\n",
      "  y = column_or_1d(y, warn=True)\n",
      "C:\\Users\\aman.khatri91425\\AppData\\Local\\Continuum\\anaconda3\\lib\\site-packages\\sklearn\\linear_model\\logistic.py:433: FutureWarning: Default solver will be changed to 'lbfgs' in 0.22. Specify a solver to silence this warning.\n",
      "  FutureWarning)\n",
      "C:\\Users\\aman.khatri91425\\AppData\\Local\\Continuum\\anaconda3\\lib\\site-packages\\sklearn\\utils\\validation.py:761: DataConversionWarning: A column-vector y was passed when a 1d array was expected. Please change the shape of y to (n_samples, ), for example using ravel().\n",
      "  y = column_or_1d(y, warn=True)\n",
      "C:\\Users\\aman.khatri91425\\AppData\\Local\\Continuum\\anaconda3\\lib\\site-packages\\sklearn\\linear_model\\logistic.py:433: FutureWarning: Default solver will be changed to 'lbfgs' in 0.22. Specify a solver to silence this warning.\n",
      "  FutureWarning)\n",
      "C:\\Users\\aman.khatri91425\\AppData\\Local\\Continuum\\anaconda3\\lib\\site-packages\\sklearn\\utils\\validation.py:761: DataConversionWarning: A column-vector y was passed when a 1d array was expected. Please change the shape of y to (n_samples, ), for example using ravel().\n",
      "  y = column_or_1d(y, warn=True)\n",
      "C:\\Users\\aman.khatri91425\\AppData\\Local\\Continuum\\anaconda3\\lib\\site-packages\\sklearn\\linear_model\\logistic.py:433: FutureWarning: Default solver will be changed to 'lbfgs' in 0.22. Specify a solver to silence this warning.\n",
      "  FutureWarning)\n",
      "C:\\Users\\aman.khatri91425\\AppData\\Local\\Continuum\\anaconda3\\lib\\site-packages\\sklearn\\utils\\validation.py:761: DataConversionWarning: A column-vector y was passed when a 1d array was expected. Please change the shape of y to (n_samples, ), for example using ravel().\n",
      "  y = column_or_1d(y, warn=True)\n",
      "C:\\Users\\aman.khatri91425\\AppData\\Local\\Continuum\\anaconda3\\lib\\site-packages\\sklearn\\linear_model\\logistic.py:433: FutureWarning: Default solver will be changed to 'lbfgs' in 0.22. Specify a solver to silence this warning.\n",
      "  FutureWarning)\n",
      "C:\\Users\\aman.khatri91425\\AppData\\Local\\Continuum\\anaconda3\\lib\\site-packages\\sklearn\\utils\\validation.py:761: DataConversionWarning: A column-vector y was passed when a 1d array was expected. Please change the shape of y to (n_samples, ), for example using ravel().\n",
      "  y = column_or_1d(y, warn=True)\n",
      "C:\\Users\\aman.khatri91425\\AppData\\Local\\Continuum\\anaconda3\\lib\\site-packages\\sklearn\\linear_model\\logistic.py:433: FutureWarning: Default solver will be changed to 'lbfgs' in 0.22. Specify a solver to silence this warning.\n",
      "  FutureWarning)\n",
      "C:\\Users\\aman.khatri91425\\AppData\\Local\\Continuum\\anaconda3\\lib\\site-packages\\sklearn\\utils\\validation.py:761: DataConversionWarning: A column-vector y was passed when a 1d array was expected. Please change the shape of y to (n_samples, ), for example using ravel().\n",
      "  y = column_or_1d(y, warn=True)\n",
      "C:\\Users\\aman.khatri91425\\AppData\\Local\\Continuum\\anaconda3\\lib\\site-packages\\sklearn\\linear_model\\logistic.py:433: FutureWarning: Default solver will be changed to 'lbfgs' in 0.22. Specify a solver to silence this warning.\n",
      "  FutureWarning)\n"
     ]
    },
    {
     "name": "stderr",
     "output_type": "stream",
     "text": [
      "C:\\Users\\aman.khatri91425\\AppData\\Local\\Continuum\\anaconda3\\lib\\site-packages\\sklearn\\utils\\validation.py:761: DataConversionWarning: A column-vector y was passed when a 1d array was expected. Please change the shape of y to (n_samples, ), for example using ravel().\n",
      "  y = column_or_1d(y, warn=True)\n",
      "C:\\Users\\aman.khatri91425\\AppData\\Local\\Continuum\\anaconda3\\lib\\site-packages\\sklearn\\linear_model\\logistic.py:433: FutureWarning: Default solver will be changed to 'lbfgs' in 0.22. Specify a solver to silence this warning.\n",
      "  FutureWarning)\n",
      "C:\\Users\\aman.khatri91425\\AppData\\Local\\Continuum\\anaconda3\\lib\\site-packages\\sklearn\\utils\\validation.py:761: DataConversionWarning: A column-vector y was passed when a 1d array was expected. Please change the shape of y to (n_samples, ), for example using ravel().\n",
      "  y = column_or_1d(y, warn=True)\n",
      "C:\\Users\\aman.khatri91425\\AppData\\Local\\Continuum\\anaconda3\\lib\\site-packages\\sklearn\\linear_model\\logistic.py:433: FutureWarning: Default solver will be changed to 'lbfgs' in 0.22. Specify a solver to silence this warning.\n",
      "  FutureWarning)\n",
      "C:\\Users\\aman.khatri91425\\AppData\\Local\\Continuum\\anaconda3\\lib\\site-packages\\sklearn\\utils\\validation.py:761: DataConversionWarning: A column-vector y was passed when a 1d array was expected. Please change the shape of y to (n_samples, ), for example using ravel().\n",
      "  y = column_or_1d(y, warn=True)\n",
      "C:\\Users\\aman.khatri91425\\AppData\\Local\\Continuum\\anaconda3\\lib\\site-packages\\sklearn\\linear_model\\logistic.py:433: FutureWarning: Default solver will be changed to 'lbfgs' in 0.22. Specify a solver to silence this warning.\n",
      "  FutureWarning)\n",
      "C:\\Users\\aman.khatri91425\\AppData\\Local\\Continuum\\anaconda3\\lib\\site-packages\\sklearn\\utils\\validation.py:761: DataConversionWarning: A column-vector y was passed when a 1d array was expected. Please change the shape of y to (n_samples, ), for example using ravel().\n",
      "  y = column_or_1d(y, warn=True)\n",
      "C:\\Users\\aman.khatri91425\\AppData\\Local\\Continuum\\anaconda3\\lib\\site-packages\\sklearn\\linear_model\\logistic.py:433: FutureWarning: Default solver will be changed to 'lbfgs' in 0.22. Specify a solver to silence this warning.\n",
      "  FutureWarning)\n",
      "C:\\Users\\aman.khatri91425\\AppData\\Local\\Continuum\\anaconda3\\lib\\site-packages\\sklearn\\utils\\validation.py:761: DataConversionWarning: A column-vector y was passed when a 1d array was expected. Please change the shape of y to (n_samples, ), for example using ravel().\n",
      "  y = column_or_1d(y, warn=True)\n",
      "C:\\Users\\aman.khatri91425\\AppData\\Local\\Continuum\\anaconda3\\lib\\site-packages\\sklearn\\linear_model\\logistic.py:433: FutureWarning: Default solver will be changed to 'lbfgs' in 0.22. Specify a solver to silence this warning.\n",
      "  FutureWarning)\n",
      "C:\\Users\\aman.khatri91425\\AppData\\Local\\Continuum\\anaconda3\\lib\\site-packages\\sklearn\\utils\\validation.py:761: DataConversionWarning: A column-vector y was passed when a 1d array was expected. Please change the shape of y to (n_samples, ), for example using ravel().\n",
      "  y = column_or_1d(y, warn=True)\n",
      "C:\\Users\\aman.khatri91425\\AppData\\Local\\Continuum\\anaconda3\\lib\\site-packages\\sklearn\\linear_model\\logistic.py:433: FutureWarning: Default solver will be changed to 'lbfgs' in 0.22. Specify a solver to silence this warning.\n",
      "  FutureWarning)\n",
      "C:\\Users\\aman.khatri91425\\AppData\\Local\\Continuum\\anaconda3\\lib\\site-packages\\sklearn\\utils\\validation.py:761: DataConversionWarning: A column-vector y was passed when a 1d array was expected. Please change the shape of y to (n_samples, ), for example using ravel().\n",
      "  y = column_or_1d(y, warn=True)\n",
      "C:\\Users\\aman.khatri91425\\AppData\\Local\\Continuum\\anaconda3\\lib\\site-packages\\sklearn\\linear_model\\logistic.py:433: FutureWarning: Default solver will be changed to 'lbfgs' in 0.22. Specify a solver to silence this warning.\n",
      "  FutureWarning)\n",
      "C:\\Users\\aman.khatri91425\\AppData\\Local\\Continuum\\anaconda3\\lib\\site-packages\\sklearn\\utils\\validation.py:761: DataConversionWarning: A column-vector y was passed when a 1d array was expected. Please change the shape of y to (n_samples, ), for example using ravel().\n",
      "  y = column_or_1d(y, warn=True)\n",
      "C:\\Users\\aman.khatri91425\\AppData\\Local\\Continuum\\anaconda3\\lib\\site-packages\\sklearn\\linear_model\\logistic.py:433: FutureWarning: Default solver will be changed to 'lbfgs' in 0.22. Specify a solver to silence this warning.\n",
      "  FutureWarning)\n",
      "C:\\Users\\aman.khatri91425\\AppData\\Local\\Continuum\\anaconda3\\lib\\site-packages\\sklearn\\utils\\validation.py:761: DataConversionWarning: A column-vector y was passed when a 1d array was expected. Please change the shape of y to (n_samples, ), for example using ravel().\n",
      "  y = column_or_1d(y, warn=True)\n",
      "C:\\Users\\aman.khatri91425\\AppData\\Local\\Continuum\\anaconda3\\lib\\site-packages\\sklearn\\linear_model\\logistic.py:433: FutureWarning: Default solver will be changed to 'lbfgs' in 0.22. Specify a solver to silence this warning.\n",
      "  FutureWarning)\n",
      "C:\\Users\\aman.khatri91425\\AppData\\Local\\Continuum\\anaconda3\\lib\\site-packages\\sklearn\\utils\\validation.py:761: DataConversionWarning: A column-vector y was passed when a 1d array was expected. Please change the shape of y to (n_samples, ), for example using ravel().\n",
      "  y = column_or_1d(y, warn=True)\n",
      "C:\\Users\\aman.khatri91425\\AppData\\Local\\Continuum\\anaconda3\\lib\\site-packages\\sklearn\\linear_model\\logistic.py:433: FutureWarning: Default solver will be changed to 'lbfgs' in 0.22. Specify a solver to silence this warning.\n",
      "  FutureWarning)\n",
      "C:\\Users\\aman.khatri91425\\AppData\\Local\\Continuum\\anaconda3\\lib\\site-packages\\sklearn\\utils\\validation.py:761: DataConversionWarning: A column-vector y was passed when a 1d array was expected. Please change the shape of y to (n_samples, ), for example using ravel().\n",
      "  y = column_or_1d(y, warn=True)\n",
      "C:\\Users\\aman.khatri91425\\AppData\\Local\\Continuum\\anaconda3\\lib\\site-packages\\sklearn\\linear_model\\logistic.py:433: FutureWarning: Default solver will be changed to 'lbfgs' in 0.22. Specify a solver to silence this warning.\n",
      "  FutureWarning)\n",
      "C:\\Users\\aman.khatri91425\\AppData\\Local\\Continuum\\anaconda3\\lib\\site-packages\\sklearn\\utils\\validation.py:761: DataConversionWarning: A column-vector y was passed when a 1d array was expected. Please change the shape of y to (n_samples, ), for example using ravel().\n",
      "  y = column_or_1d(y, warn=True)\n",
      "C:\\Users\\aman.khatri91425\\AppData\\Local\\Continuum\\anaconda3\\lib\\site-packages\\sklearn\\linear_model\\logistic.py:433: FutureWarning: Default solver will be changed to 'lbfgs' in 0.22. Specify a solver to silence this warning.\n",
      "  FutureWarning)\n",
      "C:\\Users\\aman.khatri91425\\AppData\\Local\\Continuum\\anaconda3\\lib\\site-packages\\sklearn\\utils\\validation.py:761: DataConversionWarning: A column-vector y was passed when a 1d array was expected. Please change the shape of y to (n_samples, ), for example using ravel().\n",
      "  y = column_or_1d(y, warn=True)\n",
      "C:\\Users\\aman.khatri91425\\AppData\\Local\\Continuum\\anaconda3\\lib\\site-packages\\sklearn\\linear_model\\logistic.py:433: FutureWarning: Default solver will be changed to 'lbfgs' in 0.22. Specify a solver to silence this warning.\n",
      "  FutureWarning)\n",
      "C:\\Users\\aman.khatri91425\\AppData\\Local\\Continuum\\anaconda3\\lib\\site-packages\\sklearn\\utils\\validation.py:761: DataConversionWarning: A column-vector y was passed when a 1d array was expected. Please change the shape of y to (n_samples, ), for example using ravel().\n",
      "  y = column_or_1d(y, warn=True)\n",
      "C:\\Users\\aman.khatri91425\\AppData\\Local\\Continuum\\anaconda3\\lib\\site-packages\\sklearn\\linear_model\\logistic.py:433: FutureWarning: Default solver will be changed to 'lbfgs' in 0.22. Specify a solver to silence this warning.\n",
      "  FutureWarning)\n",
      "C:\\Users\\aman.khatri91425\\AppData\\Local\\Continuum\\anaconda3\\lib\\site-packages\\sklearn\\utils\\validation.py:761: DataConversionWarning: A column-vector y was passed when a 1d array was expected. Please change the shape of y to (n_samples, ), for example using ravel().\n",
      "  y = column_or_1d(y, warn=True)\n",
      "C:\\Users\\aman.khatri91425\\AppData\\Local\\Continuum\\anaconda3\\lib\\site-packages\\sklearn\\linear_model\\logistic.py:433: FutureWarning: Default solver will be changed to 'lbfgs' in 0.22. Specify a solver to silence this warning.\n",
      "  FutureWarning)\n",
      "C:\\Users\\aman.khatri91425\\AppData\\Local\\Continuum\\anaconda3\\lib\\site-packages\\sklearn\\utils\\validation.py:761: DataConversionWarning: A column-vector y was passed when a 1d array was expected. Please change the shape of y to (n_samples, ), for example using ravel().\n",
      "  y = column_or_1d(y, warn=True)\n",
      "C:\\Users\\aman.khatri91425\\AppData\\Local\\Continuum\\anaconda3\\lib\\site-packages\\sklearn\\linear_model\\logistic.py:433: FutureWarning: Default solver will be changed to 'lbfgs' in 0.22. Specify a solver to silence this warning.\n",
      "  FutureWarning)\n",
      "C:\\Users\\aman.khatri91425\\AppData\\Local\\Continuum\\anaconda3\\lib\\site-packages\\sklearn\\utils\\validation.py:761: DataConversionWarning: A column-vector y was passed when a 1d array was expected. Please change the shape of y to (n_samples, ), for example using ravel().\n",
      "  y = column_or_1d(y, warn=True)\n",
      "C:\\Users\\aman.khatri91425\\AppData\\Local\\Continuum\\anaconda3\\lib\\site-packages\\sklearn\\linear_model\\logistic.py:433: FutureWarning: Default solver will be changed to 'lbfgs' in 0.22. Specify a solver to silence this warning.\n",
      "  FutureWarning)\n",
      "C:\\Users\\aman.khatri91425\\AppData\\Local\\Continuum\\anaconda3\\lib\\site-packages\\sklearn\\utils\\validation.py:761: DataConversionWarning: A column-vector y was passed when a 1d array was expected. Please change the shape of y to (n_samples, ), for example using ravel().\n",
      "  y = column_or_1d(y, warn=True)\n",
      "C:\\Users\\aman.khatri91425\\AppData\\Local\\Continuum\\anaconda3\\lib\\site-packages\\sklearn\\linear_model\\logistic.py:433: FutureWarning: Default solver will be changed to 'lbfgs' in 0.22. Specify a solver to silence this warning.\n",
      "  FutureWarning)\n"
     ]
    },
    {
     "name": "stderr",
     "output_type": "stream",
     "text": [
      "C:\\Users\\aman.khatri91425\\AppData\\Local\\Continuum\\anaconda3\\lib\\site-packages\\sklearn\\utils\\validation.py:761: DataConversionWarning: A column-vector y was passed when a 1d array was expected. Please change the shape of y to (n_samples, ), for example using ravel().\n",
      "  y = column_or_1d(y, warn=True)\n",
      "C:\\Users\\aman.khatri91425\\AppData\\Local\\Continuum\\anaconda3\\lib\\site-packages\\sklearn\\linear_model\\logistic.py:433: FutureWarning: Default solver will be changed to 'lbfgs' in 0.22. Specify a solver to silence this warning.\n",
      "  FutureWarning)\n",
      "C:\\Users\\aman.khatri91425\\AppData\\Local\\Continuum\\anaconda3\\lib\\site-packages\\sklearn\\utils\\validation.py:761: DataConversionWarning: A column-vector y was passed when a 1d array was expected. Please change the shape of y to (n_samples, ), for example using ravel().\n",
      "  y = column_or_1d(y, warn=True)\n",
      "C:\\Users\\aman.khatri91425\\AppData\\Local\\Continuum\\anaconda3\\lib\\site-packages\\sklearn\\linear_model\\logistic.py:433: FutureWarning: Default solver will be changed to 'lbfgs' in 0.22. Specify a solver to silence this warning.\n",
      "  FutureWarning)\n",
      "C:\\Users\\aman.khatri91425\\AppData\\Local\\Continuum\\anaconda3\\lib\\site-packages\\sklearn\\utils\\validation.py:761: DataConversionWarning: A column-vector y was passed when a 1d array was expected. Please change the shape of y to (n_samples, ), for example using ravel().\n",
      "  y = column_or_1d(y, warn=True)\n"
     ]
    },
    {
     "name": "stdout",
     "output_type": "stream",
     "text": [
      "Randomized search time: 5.824280738830566\n"
     ]
    },
    {
     "name": "stderr",
     "output_type": "stream",
     "text": [
      "C:\\Users\\aman.khatri91425\\AppData\\Local\\Continuum\\anaconda3\\lib\\site-packages\\sklearn\\linear_model\\logistic.py:433: FutureWarning: Default solver will be changed to 'lbfgs' in 0.22. Specify a solver to silence this warning.\n",
      "  FutureWarning)\n",
      "C:\\Users\\aman.khatri91425\\AppData\\Local\\Continuum\\anaconda3\\lib\\site-packages\\sklearn\\utils\\validation.py:761: DataConversionWarning: A column-vector y was passed when a 1d array was expected. Please change the shape of y to (n_samples, ), for example using ravel().\n",
      "  y = column_or_1d(y, warn=True)\n",
      "C:\\Users\\aman.khatri91425\\AppData\\Local\\Continuum\\anaconda3\\lib\\site-packages\\sklearn\\linear_model\\logistic.py:433: FutureWarning: Default solver will be changed to 'lbfgs' in 0.22. Specify a solver to silence this warning.\n",
      "  FutureWarning)\n",
      "C:\\Users\\aman.khatri91425\\AppData\\Local\\Continuum\\anaconda3\\lib\\site-packages\\sklearn\\utils\\validation.py:761: DataConversionWarning: A column-vector y was passed when a 1d array was expected. Please change the shape of y to (n_samples, ), for example using ravel().\n",
      "  y = column_or_1d(y, warn=True)\n"
     ]
    }
   ],
   "source": [
    "#Calculate Gini Lift Logistic Regression\n",
    "print(\"Randomized search..\")\n",
    "\n",
    "search_time_start = time.time()\n",
    "rcv.fit(X_train_log,y_train_log)\n",
    "print(\"Randomized search time:\", time.time() - search_time_start)\n",
    "params = rcv.best_params_   #get best parameters\n",
    "dic=rcv.cv_results_    #provides scoring results for each iteration, 50 in this case, mean values can be used "
   ]
  },
  {
   "cell_type": "code",
   "execution_count": 286,
   "metadata": {},
   "outputs": [
    {
     "name": "stdout",
     "output_type": "stream",
     "text": [
      "{'C': 0.1043504847547567}\n"
     ]
    },
    {
     "data": {
      "image/png": "[encoded data removed]",
      "text/plain": [
       "<Figure size 432x288 with 1 Axes>"
      ]
     },
     "metadata": {
      "needs_background": "light"
     },
     "output_type": "display_data"
    }
   ],
   "source": [
    "tmp1= pd.DataFrame(dic)[[\"param_C\",\"mean_test_roc_auc\",\"mean_train_roc_auc\"]].sort_values(by = 'param_C')\n",
    "tmp1.plot(x=\"param_C\")\n",
    "print(params)"
   ]
  },
  {
   "cell_type": "code",
   "execution_count": null,
   "metadata": {},
   "outputs": [],
   "source": []
  },
  {
   "cell_type": "code",
   "execution_count": 288,
   "metadata": {},
   "outputs": [
    {
     "name": "stderr",
     "output_type": "stream",
     "text": [
      "C:\\Users\\aman.khatri91425\\AppData\\Local\\Continuum\\anaconda3\\lib\\site-packages\\sklearn\\linear_model\\logistic.py:433: FutureWarning: Default solver will be changed to 'lbfgs' in 0.22. Specify a solver to silence this warning.\n",
      "  FutureWarning)\n",
      "C:\\Users\\aman.khatri91425\\AppData\\Local\\Continuum\\anaconda3\\lib\\site-packages\\sklearn\\linear_model\\logistic.py:1300: UserWarning: 'n_jobs' > 1 does not have any effect when 'solver' is set to 'liblinear'. Got 'n_jobs' = 8.\n",
      "  \" = {}.\".format(effective_n_jobs(self.n_jobs)))\n"
     ]
    }
   ],
   "source": [
    "logreg = LogisticRegression(C=0.1043504847547567, n_jobs=-1, penalty = 'l2')\n",
    "\n",
    "# cross validation gini\n",
    "kfolds = StratifiedKFold(10, random_state=1)\n",
    "auc_cv = cross_val_score(logreg, X_train_log, np.ravel(y_train_log), scoring='roc_auc',\n",
    "                         cv=kfolds.split(X_train_log, np.ravel(y_train_log)), n_jobs=-1)\n",
    "gini_cv = (2 * np.array(auc_cv) - 1).mean()\n",
    "\n",
    "logreg.fit(X_train_log, np.ravel(y_train_log))\n",
    "log_coef_tbl = pd.DataFrame({'predictor': ['intercept'] + X_train_log.columns.tolist(),\n",
    "                             'coefficient': list(logreg.intercept_) + list(logreg.coef_[0])})\n",
    "log_coef_tbl = log_coef_tbl[['predictor', 'coefficient']]"
   ]
  },
  {
   "cell_type": "code",
   "execution_count": 289,
   "metadata": {},
   "outputs": [
    {
     "data": {
      "text/html": [
       "<div>\n",
       "<style scoped>\n",
       "    .dataframe tbody tr th:only-of-type {\n",
       "        vertical-align: middle;\n",
       "    }\n",
       "\n",
       "    .dataframe tbody tr th {\n",
       "        vertical-align: top;\n",
       "    }\n",
       "\n",
       "    .dataframe thead th {\n",
       "        text-align: right;\n",
       "    }\n",
       "</style>\n",
       "<table border=\"1\" class=\"dataframe\">\n",
       "  <thead>\n",
       "    <tr style=\"text-align: right;\">\n",
       "      <th></th>\n",
       "      <th>predictor</th>\n",
       "      <th>coefficient</th>\n",
       "    </tr>\n",
       "  </thead>\n",
       "  <tbody>\n",
       "    <tr>\n",
       "      <th>0</th>\n",
       "      <td>intercept</td>\n",
       "      <td>-2.040802</td>\n",
       "    </tr>\n",
       "    <tr>\n",
       "      <th>1</th>\n",
       "      <td>GENERALMODELLG_WO_TP</td>\n",
       "      <td>0.492308</td>\n",
       "    </tr>\n",
       "    <tr>\n",
       "      <th>2</th>\n",
       "      <td>XGB_SCORE</td>\n",
       "      <td>1.375314</td>\n",
       "    </tr>\n",
       "  </tbody>\n",
       "</table>\n",
       "</div>"
      ],
      "text/plain": [
       "              predictor  coefficient\n",
       "0             intercept    -2.040802\n",
       "1  GENERALMODELLG_WO_TP     0.492308\n",
       "2             XGB_SCORE     1.375314"
      ]
     },
     "execution_count": 289,
     "metadata": {},
     "output_type": "execute_result"
    }
   ],
   "source": [
    "log_coef_tbl"
   ]
  },
  {
   "cell_type": "code",
   "execution_count": null,
   "metadata": {},
   "outputs": [],
   "source": []
  },
  {
   "cell_type": "code",
   "execution_count": null,
   "metadata": {},
   "outputs": [],
   "source": []
  },
  {
   "cell_type": "code",
   "execution_count": 290,
   "metadata": {},
   "outputs": [
    {
     "name": "stdout",
     "output_type": "stream",
     "text": [
      "GINI TRAIN: 0.38490080029604146\n",
      "GINI TEST: 0.19135062370126477\n",
      "GINI CV: 0.38443475896299006\n"
     ]
    }
   ],
   "source": [
    "## Model performance\n",
    "ypred_train_pillar = logreg.predict_proba(X_train_log)[:, 1]\n",
    "metric_auc_train_log = metrics.roc_auc_score(np.ravel(y_train_log), ypred_train_pillar)\n",
    "gini_train_pillar = 2 * metric_auc_train_log - 1\n",
    "ypred_test_pillar = logreg.predict_proba(X_test_log)[:, 1]\n",
    "metric_auc_test_log = metrics.roc_auc_score(np.ravel(y_test_log), ypred_test_pillar)\n",
    "gini_test_pillar = 2 * metric_auc_test_log - 1\n",
    "\n",
    "print(\"GINI TRAIN:\",gini_train_pillar )\n",
    "print(\"GINI TEST:\",gini_test_pillar )\n",
    "print(\"GINI CV:\",gini_cv)"
   ]
  },
  {
   "cell_type": "code",
   "execution_count": 291,
   "metadata": {},
   "outputs": [],
   "source": [
    "df[\"COMBINED_SCORE\"] = logreg.predict_proba(df[['HCC_SCORE_LOG', 'XGB_SCORE_LOG']])[:, 1]"
   ]
  },
  {
   "cell_type": "code",
   "execution_count": 292,
   "metadata": {},
   "outputs": [
    {
     "name": "stdout",
     "output_type": "stream",
     "text": [
      "COMBINED: 0.3897704482078086\n",
      "RISK: 0.3982458805515412\n",
      "XGB: 0.23914706518603324\n"
     ]
    }
   ],
   "source": [
    "print(\"COMBINED:\",2*metrics.roc_auc_score(df[\"RISK_FSTQPD30\"], df[\"COMBINED_SCORE\"])-1)\n",
    "print(\"RISK:\",2*metrics.roc_auc_score(df[\"RISK_FSTQPD30\"], df[hcc_score])-1)\n",
    "print(\"XGB:\",2*metrics.roc_auc_score(df[\"RISK_FSTQPD30\"], df[\"XGB_SCORE\"])-1)\n"
   ]
  },
  {
   "cell_type": "code",
   "execution_count": 293,
   "metadata": {},
   "outputs": [],
   "source": [
    "df.to_pickle(os.getcwd()+\"\\scored_cd_exi_with_new_gm.pkl\")"
   ]
  },
  {
   "cell_type": "code",
   "execution_count": 294,
   "metadata": {},
   "outputs": [],
   "source": [
    "df.to_csv(os.getcwd()+\"\\scored_cd_exi_with_new_gm.csv\")"
   ]
  },
  {
   "cell_type": "code",
   "execution_count": null,
   "metadata": {},
   "outputs": [],
   "source": []
  },
  {
   "cell_type": "code",
   "execution_count": null,
   "metadata": {},
   "outputs": [],
   "source": []
  },
  {
   "cell_type": "markdown",
   "metadata": {},
   "source": [
    "# Model Evaluation"
   ]
  },
  {
   "cell_type": "code",
   "execution_count": 295,
   "metadata": {},
   "outputs": [],
   "source": [
    "df = pd.read_pickle(os.getcwd()+\"\\scored_cd_exi_with_new_gm.pkl\")"
   ]
  },
  {
   "cell_type": "code",
   "execution_count": 296,
   "metadata": {},
   "outputs": [],
   "source": [
    "TIME_DECISION_DATE = \"TIME_DECISION_DATE\"\n",
    "FINAL_SCORE = \"XGB_SCORE\"\n",
    "RISK_SCORE = \"GENERALMODELLG_WO_TP\"\n",
    "COMBINED_SCORE = \"COMBINED_SCORE\"\n",
    "TARGET = \"RISK_FSTQPD30\"\n",
    "# PREDICTOR_LIST = ['G_RISK_FSTQPD30_SCORE', 'G_RISK_FPD10_SCORE','G_DEFAULT_FLAG_CHANGE_1']\n",
    "df[\"MONTH\"] = df[TIME_DECISION_DATE].dt.strftime(\"%y-%m\")"
   ]
  },
  {
   "cell_type": "markdown",
   "metadata": {},
   "source": [
    "# GINI"
   ]
  },
  {
   "cell_type": "markdown",
   "metadata": {},
   "source": [
    "### Gini Chart"
   ]
  },
  {
   "cell_type": "code",
   "execution_count": 297,
   "metadata": {},
   "outputs": [
    {
     "data": {
      "image/png": "[encoded data removed]",
      "text/plain": [
       "<Figure size 504x504 with 1 Axes>"
      ]
     },
     "metadata": {
      "needs_background": "light"
     },
     "output_type": "display_data"
    }
   ],
   "source": [
    "from sklearn.metrics import roc_auc_score, roc_curve, auc\n",
    "\n",
    "fig = plt.figure(figsize = (7,7))\n",
    "ax1 = fig.add_subplot(1, 1, 1)\n",
    "\n",
    "lw = 1\n",
    "fpr, tpr, thresholds = roc_curve(df[TARGET],df[COMBINED_SCORE])\n",
    "roc_auc = auc(fpr, tpr)\n",
    "ax1.plot(fpr, tpr, color='red', lw=lw, label='COMBINED_SCORE (gini = %0.2f)' % ((2*roc_auc-1)*100))\n",
    "\n",
    "fpr, tpr, thresholds = roc_curve(df[TARGET],df[RISK_SCORE])\n",
    "roc_auc = auc(fpr, tpr)\n",
    "ax1.plot(fpr, tpr, color='blue', lw=lw, label='RISK_SCORE (gini = %0.2f)' % ((2*roc_auc-1)*100))\n",
    "\n",
    "fpr, tpr, thresholds = roc_curve(df[TARGET],df[FINAL_SCORE])\n",
    "roc_auc = auc(fpr, tpr)\n",
    "ax1.plot(fpr, tpr, color='green', lw=lw, label='KNN_SCORE (gini = %0.2f)' % ((2*roc_auc-1)*100))\n",
    "\n",
    "ax1.plot([0, 1], [0, 1], color='navy', lw=lw, linestyle='--')\n",
    "plt.xlim([0.0, 1.0])\n",
    "plt.ylim([0.0, 1.0])\n",
    "plt.xlabel('False Positive Rate')\n",
    "plt.ylabel('True Positive Rate')\n",
    "plt.title('Receiver operating characteristic example')\n",
    "plt.legend(loc=\"lower right\")\n",
    "plt.show()"
   ]
  },
  {
   "cell_type": "markdown",
   "metadata": {},
   "source": [
    "### MOM GINI: FSTQPD30"
   ]
  },
  {
   "cell_type": "code",
   "execution_count": 298,
   "metadata": {},
   "outputs": [
    {
     "name": "stdout",
     "output_type": "stream",
     "text": [
      "ERROR\n",
      "ERROR\n",
      "ERROR\n",
      "ERROR\n",
      "ERROR\n"
     ]
    }
   ],
   "source": [
    "TARGET1 = 'RISK_FSTQPD30'\n",
    "gini_dic = {}\n",
    "for x in df[\"MONTH\"].unique():\n",
    "    try:\n",
    "        if \"MONTH\" not in gini_dic:\n",
    "            gini_dic[\"MONTH\"] = []\n",
    "        if FINAL_SCORE not in gini_dic: \n",
    "            gini_dic[FINAL_SCORE] = []\n",
    "        if RISK_SCORE not in gini_dic: \n",
    "            gini_dic[RISK_SCORE] = []\n",
    "        if COMBINED_SCORE not in gini_dic: \n",
    "            gini_dic[COMBINED_SCORE] = []\n",
    "        \n",
    "        gini_dic[FINAL_SCORE].append((2*roc_auc_score(df[df[\"MONTH\"]==x][TARGET1],df[df[\"MONTH\"]==x][FINAL_SCORE])-1)*100)\n",
    "        gini_dic[RISK_SCORE].append((2*roc_auc_score(df[df[\"MONTH\"]==x][TARGET1],df[df[\"MONTH\"]==x][RISK_SCORE])-1)*100)\n",
    "        gini_dic[COMBINED_SCORE].append((2*roc_auc_score(df[df[\"MONTH\"]==x][TARGET1],df[df[\"MONTH\"]==x][COMBINED_SCORE])-1)*100)\n",
    "        gini_dic[\"MONTH\"].append(x)\n",
    "#         for y in PREDICTOR_LIST:\n",
    "#             if y not in gini_dic:\n",
    "#                   gini_dic[y] = []\n",
    "#             gini_dic[y].append(((2*roc_auc_score(df[df[\"MONTH\"]==x][\"RISK_FSTQPD30\"],df[df[\"MONTH\"]==x][y])-1)*100))\n",
    "    except: \n",
    "        print(\"ERROR\")\n",
    "\n",
    "gini_df = pd.DataFrame(gini_dic)\n",
    "gini_df.sort_values(by = \"MONTH\",inplace = True)\n",
    "gini_df.reset_index(inplace = True)\n"
   ]
  },
  {
   "cell_type": "code",
   "execution_count": 299,
   "metadata": {},
   "outputs": [
    {
     "data": {
      "image/png": "[encoded data removed]",
      "text/plain": [
       "<Figure size 720x360 with 1 Axes>"
      ]
     },
     "metadata": {
      "needs_background": "light"
     },
     "output_type": "display_data"
    }
   ],
   "source": [
    "fig = plt.figure(figsize = (10,5))\n",
    "ax1 = fig.add_subplot(1, 1, 1)\n",
    "ax1.plot(gini_df[\"MONTH\"],gini_df[\"XGB_SCORE\"], marker='o', scaley = False, label = \"XGB_SCORE\")\n",
    "ax1.plot(gini_df[\"MONTH\"],gini_df[RISK_SCORE], marker='o', scaley = False, label = \"HC_SCORE\")\n",
    "ax1.plot(gini_df[\"MONTH\"],gini_df[\"COMBINED_SCORE\"], marker='o', scaley = False, label= \"COMBINED_SCORE\")\n",
    "\n",
    "for i, txt in enumerate(gini_df[\"XGB_SCORE\"]):\n",
    "    plt.annotate(\"{:.1f}\".format(txt), (gini_df[\"MONTH\"][i], gini_df[\"XGB_SCORE\"][i]+0.9))\n",
    "for i, txt in enumerate(gini_df[RISK_SCORE]):\n",
    "    plt.annotate(\"{:.1f}\".format(txt), (gini_df[\"MONTH\"][i], gini_df[RISK_SCORE][i]-1.9))\n",
    "for i, txt in enumerate(gini_df[\"COMBINED_SCORE\"]):\n",
    "    plt.annotate(\"{:.1f}\".format(txt), (gini_df[\"MONTH\"][i], gini_df[\"COMBINED_SCORE\"][i]+0.9))\n",
    "\n",
    "plt.legend(loc='lower right', borderaxespad=0.1)\n",
    "plt.ylim(0,65)\n",
    "plt.ylabel(\"GINI\")\n",
    "plt.xlabel(\"MONTH\")\n",
    "plt.yticks(np.arange(0,65,2))\n",
    "ax1.set_title(\"MOM Gini\")\n",
    "plt.show()"
   ]
  },
  {
   "cell_type": "markdown",
   "metadata": {},
   "source": [
    "### MOM GINI: FPD30"
   ]
  },
  {
   "cell_type": "code",
   "execution_count": 300,
   "metadata": {},
   "outputs": [
    {
     "name": "stdout",
     "output_type": "stream",
     "text": [
      "ERROR\n",
      "ERROR\n"
     ]
    }
   ],
   "source": [
    "TARGET1 = 'RISK_FPD30'\n",
    "gini_dic = {}\n",
    "for x in df[\"MONTH\"].unique():\n",
    "    try:\n",
    "        if \"MONTH\" not in gini_dic:\n",
    "            gini_dic[\"MONTH\"] = []\n",
    "        if FINAL_SCORE not in gini_dic: \n",
    "            gini_dic[FINAL_SCORE] = []\n",
    "        if RISK_SCORE not in gini_dic: \n",
    "            gini_dic[RISK_SCORE] = []\n",
    "        if COMBINED_SCORE not in gini_dic: \n",
    "            gini_dic[COMBINED_SCORE] = []\n",
    "        \n",
    "        gini_dic[FINAL_SCORE].append((2*roc_auc_score(df[df[\"MONTH\"]==x][TARGET1],df[df[\"MONTH\"]==x][FINAL_SCORE])-1)*100)\n",
    "        gini_dic[RISK_SCORE].append((2*roc_auc_score(df[df[\"MONTH\"]==x][TARGET1],df[df[\"MONTH\"]==x][RISK_SCORE])-1)*100)\n",
    "        gini_dic[COMBINED_SCORE].append((2*roc_auc_score(df[df[\"MONTH\"]==x][TARGET1],df[df[\"MONTH\"]==x][COMBINED_SCORE])-1)*100)\n",
    "        gini_dic[\"MONTH\"].append(x)\n",
    "#         for y in PREDICTOR_LIST:\n",
    "#             if y not in gini_dic:\n",
    "#                   gini_dic[y] = []\n",
    "#             gini_dic[y].append(((2*roc_auc_score(df[df[\"MONTH\"]==x][\"RISK_FSTQPD30\"],df[df[\"MONTH\"]==x][y])-1)*100))\n",
    "    except: \n",
    "        print(\"ERROR\")\n",
    "\n",
    "gini_df = pd.DataFrame(gini_dic)\n",
    "gini_df.sort_values(by = \"MONTH\",inplace = True)\n",
    "gini_df.reset_index(inplace = True)\n"
   ]
  },
  {
   "cell_type": "code",
   "execution_count": 301,
   "metadata": {},
   "outputs": [
    {
     "data": {
      "image/png": "[encoded data removed]",
      "text/plain": [
       "<Figure size 720x360 with 1 Axes>"
      ]
     },
     "metadata": {
      "needs_background": "light"
     },
     "output_type": "display_data"
    }
   ],
   "source": [
    "fig = plt.figure(figsize = (10,5))\n",
    "ax1 = fig.add_subplot(1, 1, 1)\n",
    "ax1.plot(gini_df[\"MONTH\"],gini_df[\"XGB_SCORE\"], marker='o', scaley = False, label = \"XGB_SCORE\")\n",
    "ax1.plot(gini_df[\"MONTH\"],gini_df[RISK_SCORE], marker='o', scaley = False, label = \"HC_SCORE\")\n",
    "ax1.plot(gini_df[\"MONTH\"],gini_df[\"COMBINED_SCORE\"], marker='o', scaley = False, label= \"COMBINED_SCORE\")\n",
    "\n",
    "for i, txt in enumerate(gini_df[\"XGB_SCORE\"]):\n",
    "    plt.annotate(\"{:.1f}\".format(txt), (gini_df[\"MONTH\"][i], gini_df[\"XGB_SCORE\"][i]+0.9))\n",
    "for i, txt in enumerate(gini_df[RISK_SCORE]):\n",
    "    plt.annotate(\"{:.1f}\".format(txt), (gini_df[\"MONTH\"][i], gini_df[RISK_SCORE][i]-1.9))\n",
    "for i, txt in enumerate(gini_df[\"COMBINED_SCORE\"]):\n",
    "    plt.annotate(\"{:.1f}\".format(txt), (gini_df[\"MONTH\"][i], gini_df[\"COMBINED_SCORE\"][i]+0.9))\n",
    "\n",
    "plt.legend(loc='lower right', borderaxespad=0.1)\n",
    "plt.ylim(0,65)\n",
    "plt.ylabel(\"GINI\")\n",
    "plt.xlabel(\"MONTH\")\n",
    "plt.yticks(np.arange(0,65,2))\n",
    "ax1.set_title(\"MOM Gini\")\n",
    "plt.show()"
   ]
  },
  {
   "cell_type": "markdown",
   "metadata": {},
   "source": [
    "### MOM GINI: FSPD30"
   ]
  },
  {
   "cell_type": "code",
   "execution_count": 302,
   "metadata": {},
   "outputs": [
    {
     "name": "stdout",
     "output_type": "stream",
     "text": [
      "ERROR\n",
      "ERROR\n",
      "ERROR\n"
     ]
    }
   ],
   "source": [
    "TARGET1 = 'RISK_FSPD30'\n",
    "gini_dic = {}\n",
    "for x in df[\"MONTH\"].unique():\n",
    "    try:\n",
    "        if \"MONTH\" not in gini_dic:\n",
    "            gini_dic[\"MONTH\"] = []\n",
    "        if FINAL_SCORE not in gini_dic: \n",
    "            gini_dic[FINAL_SCORE] = []\n",
    "        if RISK_SCORE not in gini_dic: \n",
    "            gini_dic[RISK_SCORE] = []\n",
    "        if COMBINED_SCORE not in gini_dic: \n",
    "            gini_dic[COMBINED_SCORE] = []\n",
    "        \n",
    "        gini_dic[FINAL_SCORE].append((2*roc_auc_score(df[df[\"MONTH\"]==x][TARGET1],df[df[\"MONTH\"]==x][FINAL_SCORE])-1)*100)\n",
    "        gini_dic[RISK_SCORE].append((2*roc_auc_score(df[df[\"MONTH\"]==x][TARGET1],df[df[\"MONTH\"]==x][RISK_SCORE])-1)*100)\n",
    "        gini_dic[COMBINED_SCORE].append((2*roc_auc_score(df[df[\"MONTH\"]==x][TARGET1],df[df[\"MONTH\"]==x][COMBINED_SCORE])-1)*100)\n",
    "        gini_dic[\"MONTH\"].append(x)\n",
    "#         for y in PREDICTOR_LIST:\n",
    "#             if y not in gini_dic:\n",
    "#                   gini_dic[y] = []\n",
    "#             gini_dic[y].append(((2*roc_auc_score(df[df[\"MONTH\"]==x][\"RISK_FSTQPD30\"],df[df[\"MONTH\"]==x][y])-1)*100))\n",
    "    except: \n",
    "        print(\"ERROR\")\n",
    "\n",
    "gini_df = pd.DataFrame(gini_dic)\n",
    "gini_df.sort_values(by = \"MONTH\",inplace = True)\n",
    "gini_df.reset_index(inplace = True)\n"
   ]
  },
  {
   "cell_type": "code",
   "execution_count": 303,
   "metadata": {
    "scrolled": true
   },
   "outputs": [
    {
     "data": {
      "image/png": "[encoded data removed]",
      "text/plain": [
       "<Figure size 720x360 with 1 Axes>"
      ]
     },
     "metadata": {
      "needs_background": "light"
     },
     "output_type": "display_data"
    }
   ],
   "source": [
    "fig = plt.figure(figsize = (10,5))\n",
    "ax1 = fig.add_subplot(1, 1, 1)\n",
    "ax1.plot(gini_df[\"MONTH\"],gini_df[\"XGB_SCORE\"], marker='o', scaley = False, label = \"XGB_SCORE\")\n",
    "ax1.plot(gini_df[\"MONTH\"],gini_df[RISK_SCORE], marker='o', scaley = False, label = \"HC_SCORE\")\n",
    "ax1.plot(gini_df[\"MONTH\"],gini_df[\"COMBINED_SCORE\"], marker='o', scaley = False, label= \"COMBINED_SCORE\")\n",
    "\n",
    "for i, txt in enumerate(gini_df[\"XGB_SCORE\"]):\n",
    "    plt.annotate(\"{:.1f}\".format(txt), (gini_df[\"MONTH\"][i], gini_df[\"XGB_SCORE\"][i]+0.9))\n",
    "for i, txt in enumerate(gini_df[RISK_SCORE]):\n",
    "    plt.annotate(\"{:.1f}\".format(txt), (gini_df[\"MONTH\"][i], gini_df[RISK_SCORE][i]-1.9))\n",
    "for i, txt in enumerate(gini_df[\"COMBINED_SCORE\"]):\n",
    "    plt.annotate(\"{:.1f}\".format(txt), (gini_df[\"MONTH\"][i], gini_df[\"COMBINED_SCORE\"][i]+0.9))\n",
    "\n",
    "plt.legend(loc='lower right', borderaxespad=0.1)\n",
    "plt.ylim(0,65)\n",
    "plt.ylabel(\"GINI\")\n",
    "plt.xlabel(\"MONTH\")\n",
    "plt.yticks(np.arange(0,65,2))\n",
    "ax1.set_title(\"MOM Gini\")\n",
    "plt.show()"
   ]
  },
  {
   "cell_type": "markdown",
   "metadata": {},
   "source": [
    "### MOM GINI: FSTPD30"
   ]
  },
  {
   "cell_type": "code",
   "execution_count": 304,
   "metadata": {},
   "outputs": [
    {
     "name": "stdout",
     "output_type": "stream",
     "text": [
      "ERROR\n",
      "ERROR\n",
      "ERROR\n",
      "ERROR\n"
     ]
    }
   ],
   "source": [
    "TARGET1 = 'RISK_FSTPD30'\n",
    "gini_dic = {}\n",
    "for x in df[\"MONTH\"].unique():\n",
    "    try:\n",
    "        if \"MONTH\" not in gini_dic:\n",
    "            gini_dic[\"MONTH\"] = []\n",
    "        if FINAL_SCORE not in gini_dic: \n",
    "            gini_dic[FINAL_SCORE] = []\n",
    "        if RISK_SCORE not in gini_dic: \n",
    "            gini_dic[RISK_SCORE] = []\n",
    "        if COMBINED_SCORE not in gini_dic: \n",
    "            gini_dic[COMBINED_SCORE] = []\n",
    "        \n",
    "        gini_dic[FINAL_SCORE].append((2*roc_auc_score(df[df[\"MONTH\"]==x][TARGET1],df[df[\"MONTH\"]==x][FINAL_SCORE])-1)*100)\n",
    "        gini_dic[RISK_SCORE].append((2*roc_auc_score(df[df[\"MONTH\"]==x][TARGET1],df[df[\"MONTH\"]==x][RISK_SCORE])-1)*100)\n",
    "        gini_dic[COMBINED_SCORE].append((2*roc_auc_score(df[df[\"MONTH\"]==x][TARGET1],df[df[\"MONTH\"]==x][COMBINED_SCORE])-1)*100)\n",
    "        gini_dic[\"MONTH\"].append(x)\n",
    "#         for y in PREDICTOR_LIST:\n",
    "#             if y not in gini_dic:\n",
    "#                   gini_dic[y] = []\n",
    "#             gini_dic[y].append(((2*roc_auc_score(df[df[\"MONTH\"]==x][\"RISK_FSTQPD30\"],df[df[\"MONTH\"]==x][y])-1)*100))\n",
    "    except: \n",
    "        print(\"ERROR\")\n",
    "\n",
    "gini_df = pd.DataFrame(gini_dic)\n",
    "gini_df.sort_values(by = \"MONTH\",inplace = True)\n",
    "gini_df.reset_index(inplace = True)\n"
   ]
  },
  {
   "cell_type": "code",
   "execution_count": 305,
   "metadata": {
    "scrolled": true
   },
   "outputs": [
    {
     "data": {
      "image/png": "[encoded data removed]",
      "text/plain": [
       "<Figure size 720x360 with 1 Axes>"
      ]
     },
     "metadata": {
      "needs_background": "light"
     },
     "output_type": "display_data"
    }
   ],
   "source": [
    "fig = plt.figure(figsize = (10,5))\n",
    "ax1 = fig.add_subplot(1, 1, 1)\n",
    "ax1.plot(gini_df[\"MONTH\"],gini_df[\"XGB_SCORE\"], marker='o', scaley = False, label = \"XGB_SCORE\")\n",
    "ax1.plot(gini_df[\"MONTH\"],gini_df[RISK_SCORE], marker='o', scaley = False, label = \"HC_SCORE\")\n",
    "ax1.plot(gini_df[\"MONTH\"],gini_df[\"COMBINED_SCORE\"], marker='o', scaley = False, label= \"COMBINED_SCORE\")\n",
    "\n",
    "for i, txt in enumerate(gini_df[\"XGB_SCORE\"]):\n",
    "    plt.annotate(\"{:.1f}\".format(txt), (gini_df[\"MONTH\"][i], gini_df[\"XGB_SCORE\"][i]+0.9))\n",
    "for i, txt in enumerate(gini_df[RISK_SCORE]):\n",
    "    plt.annotate(\"{:.1f}\".format(txt), (gini_df[\"MONTH\"][i], gini_df[RISK_SCORE][i]-1.9))\n",
    "for i, txt in enumerate(gini_df[\"COMBINED_SCORE\"]):\n",
    "    plt.annotate(\"{:.1f}\".format(txt), (gini_df[\"MONTH\"][i], gini_df[\"COMBINED_SCORE\"][i]+0.9))\n",
    "\n",
    "plt.legend(loc='lower right', borderaxespad=0.1)\n",
    "plt.ylim(0,65)\n",
    "plt.ylabel(\"GINI\")\n",
    "plt.xlabel(\"MONTH\")\n",
    "plt.yticks(np.arange(0,65,2))\n",
    "ax1.set_title(\"MOM Gini\")\n",
    "plt.show()"
   ]
  },
  {
   "cell_type": "code",
   "execution_count": null,
   "metadata": {},
   "outputs": [],
   "source": []
  },
  {
   "cell_type": "code",
   "execution_count": null,
   "metadata": {},
   "outputs": [],
   "source": []
  },
  {
   "cell_type": "code",
   "execution_count": null,
   "metadata": {},
   "outputs": [],
   "source": []
  },
  {
   "cell_type": "code",
   "execution_count": null,
   "metadata": {},
   "outputs": [],
   "source": []
  },
  {
   "cell_type": "code",
   "execution_count": null,
   "metadata": {},
   "outputs": [],
   "source": []
  },
  {
   "cell_type": "code",
   "execution_count": null,
   "metadata": {},
   "outputs": [],
   "source": []
  }
 ],
 "metadata": {
  "kernelspec": {
   "display_name": "Python 3",
   "language": "python",
   "name": "python3"
  },
  "language_info": {
   "codemirror_mode": {
    "name": "ipython",
    "version": 3
   },
   "file_extension": ".py",
   "mimetype": "text/x-python",
   "name": "python",
   "nbconvert_exporter": "python",
   "pygments_lexer": "ipython3",
   "version": "3.7.3"
  }
 },
 "nbformat": 4,
 "nbformat_minor": 2
}
