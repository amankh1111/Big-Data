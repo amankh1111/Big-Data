{
 "cells": [
  {
   "cell_type": "code",
   "execution_count": 1,
   "metadata": {},
   "outputs": [],
   "source": [
    "import xgboost as xgb\n",
    "import numpy as np\n",
    "import pandas as pd\n",
    "import time\n",
    "import pickle\n",
    "import os\n",
    "from math import log\n",
    "import matplotlib.pyplot as plt\n",
    "\n",
    "import sklearn\n",
    "from sklearn.model_selection import train_test_split, GridSearchCV, RandomizedSearchCV, ParameterGrid,StratifiedKFold, cross_val_score\n",
    "\n",
    "from sklearn import metrics \n",
    "from sklearn.metrics import confusion_matrix, precision_recall_curve, average_precision_score, brier_score_loss, f1_score, log_loss,auc,roc_curve,auc\n",
    "\n",
    "from sklearn.linear_model import LogisticRegression, LogisticRegressionCV\n",
    "from sklearn.ensemble import RandomForestClassifier\n",
    "\n",
    "from sklearn.decomposition import PCA\n",
    "#from sklearn.utils.fixes import signature\n",
    "\n",
    "from datetime import datetime\n",
    "\n",
    "import warnings\n",
    "warnings.filterwarnings(\"ignore\", category=DeprecationWarning)"
   ]
  },
  {
   "cell_type": "code",
   "execution_count": 2,
   "metadata": {},
   "outputs": [],
   "source": [
    "os.chdir(r\"C:\\Users\\aman.khatri91425\\Desktop\\HomeCredit\\Bigdata\\Techprocess Alternate\")"
   ]
  },
  {
   "cell_type": "code",
   "execution_count": 3,
   "metadata": {},
   "outputs": [],
   "source": [
    "##read datasets\n",
    "df=pd.read_csv(os.getcwd()+r\"\\Data Files\\new exi scorecard evaluation.csv\")"
   ]
  },
  {
   "cell_type": "code",
   "execution_count": 4,
   "metadata": {},
   "outputs": [
    {
     "data": {
      "text/html": [
       "<div>\n",
       "<style scoped>\n",
       "    .dataframe tbody tr th:only-of-type {\n",
       "        vertical-align: middle;\n",
       "    }\n",
       "\n",
       "    .dataframe tbody tr th {\n",
       "        vertical-align: top;\n",
       "    }\n",
       "\n",
       "    .dataframe thead th {\n",
       "        text-align: right;\n",
       "    }\n",
       "</style>\n",
       "<table border=\"1\" class=\"dataframe\">\n",
       "  <thead>\n",
       "    <tr style=\"text-align: right;\">\n",
       "      <th></th>\n",
       "      <th>SKP_CREDIT_CASE</th>\n",
       "      <th>TIME_DECISION_DATE</th>\n",
       "      <th>RISK_AGRF180</th>\n",
       "      <th>RISK_FPD30</th>\n",
       "      <th>RISK_FSPD30</th>\n",
       "      <th>RISK_FSTPD30</th>\n",
       "      <th>RISK_FSTQPD30</th>\n",
       "      <th>RISK_FSTQPD60</th>\n",
       "      <th>PRODUCT_GROUP</th>\n",
       "      <th>NTC_FLAG</th>\n",
       "      <th>...</th>\n",
       "      <th>DATE_5</th>\n",
       "      <th>REASON_5</th>\n",
       "      <th>CODE_5</th>\n",
       "      <th>AMT_5</th>\n",
       "      <th>DATE_6</th>\n",
       "      <th>REASON_6</th>\n",
       "      <th>CODE_6</th>\n",
       "      <th>AMT_6</th>\n",
       "      <th>GENERALMODELLG</th>\n",
       "      <th>GENERALMODELLOGREG</th>\n",
       "    </tr>\n",
       "  </thead>\n",
       "  <tbody>\n",
       "    <tr>\n",
       "      <th>0</th>\n",
       "      <td>321312254</td>\n",
       "      <td>24-09-20</td>\n",
       "      <td>0</td>\n",
       "      <td>0</td>\n",
       "      <td>0</td>\n",
       "      <td>0</td>\n",
       "      <td>0</td>\n",
       "      <td>0</td>\n",
       "      <td>CD</td>\n",
       "      <td>Others</td>\n",
       "      <td>...</td>\n",
       "      <td>02-08-19</td>\n",
       "      <td>0</td>\n",
       "      <td>Debited</td>\n",
       "      <td>1329.0</td>\n",
       "      <td>02-05-19</td>\n",
       "      <td>0</td>\n",
       "      <td>Debited</td>\n",
       "      <td>1329.0</td>\n",
       "      <td>0.066354</td>\n",
       "      <td>0.063158</td>\n",
       "    </tr>\n",
       "    <tr>\n",
       "      <th>1</th>\n",
       "      <td>321312154</td>\n",
       "      <td>24-09-20</td>\n",
       "      <td>0</td>\n",
       "      <td>0</td>\n",
       "      <td>0</td>\n",
       "      <td>0</td>\n",
       "      <td>0</td>\n",
       "      <td>0</td>\n",
       "      <td>CD</td>\n",
       "      <td>Others</td>\n",
       "      <td>...</td>\n",
       "      <td>05-09-17</td>\n",
       "      <td>0</td>\n",
       "      <td>Debited</td>\n",
       "      <td>1067.0</td>\n",
       "      <td>05-08-17</td>\n",
       "      <td>0</td>\n",
       "      <td>Debited</td>\n",
       "      <td>1067.0</td>\n",
       "      <td>0.015561</td>\n",
       "      <td>0.017611</td>\n",
       "    </tr>\n",
       "    <tr>\n",
       "      <th>2</th>\n",
       "      <td>321312151</td>\n",
       "      <td>24-09-20</td>\n",
       "      <td>0</td>\n",
       "      <td>0</td>\n",
       "      <td>0</td>\n",
       "      <td>0</td>\n",
       "      <td>0</td>\n",
       "      <td>0</td>\n",
       "      <td>CD</td>\n",
       "      <td>Others</td>\n",
       "      <td>...</td>\n",
       "      <td>NaN</td>\n",
       "      <td>NaN</td>\n",
       "      <td>NaN</td>\n",
       "      <td>NaN</td>\n",
       "      <td>NaN</td>\n",
       "      <td>NaN</td>\n",
       "      <td>NaN</td>\n",
       "      <td>NaN</td>\n",
       "      <td>0.031091</td>\n",
       "      <td>0.020464</td>\n",
       "    </tr>\n",
       "    <tr>\n",
       "      <th>3</th>\n",
       "      <td>321312150</td>\n",
       "      <td>24-09-20</td>\n",
       "      <td>0</td>\n",
       "      <td>0</td>\n",
       "      <td>0</td>\n",
       "      <td>0</td>\n",
       "      <td>0</td>\n",
       "      <td>0</td>\n",
       "      <td>CD</td>\n",
       "      <td>Others</td>\n",
       "      <td>...</td>\n",
       "      <td>12-05-17</td>\n",
       "      <td>0</td>\n",
       "      <td>Debited</td>\n",
       "      <td>1732.0</td>\n",
       "      <td>12-04-17</td>\n",
       "      <td>0</td>\n",
       "      <td>Debited</td>\n",
       "      <td>1732.0</td>\n",
       "      <td>0.048232</td>\n",
       "      <td>0.036273</td>\n",
       "    </tr>\n",
       "    <tr>\n",
       "      <th>4</th>\n",
       "      <td>321311952</td>\n",
       "      <td>24-09-20</td>\n",
       "      <td>0</td>\n",
       "      <td>0</td>\n",
       "      <td>0</td>\n",
       "      <td>0</td>\n",
       "      <td>0</td>\n",
       "      <td>0</td>\n",
       "      <td>CD</td>\n",
       "      <td>Others</td>\n",
       "      <td>...</td>\n",
       "      <td>08-04-19</td>\n",
       "      <td>XNA</td>\n",
       "      <td>Debited</td>\n",
       "      <td>1653.0</td>\n",
       "      <td>08-03-19</td>\n",
       "      <td>XNA</td>\n",
       "      <td>Debited</td>\n",
       "      <td>1653.0</td>\n",
       "      <td>0.069972</td>\n",
       "      <td>0.052575</td>\n",
       "    </tr>\n",
       "  </tbody>\n",
       "</table>\n",
       "<p>5 rows × 39 columns</p>\n",
       "</div>"
      ],
      "text/plain": [
       "   SKP_CREDIT_CASE TIME_DECISION_DATE  RISK_AGRF180  RISK_FPD30  RISK_FSPD30  \\\n",
       "0        321312254           24-09-20             0           0            0   \n",
       "1        321312154           24-09-20             0           0            0   \n",
       "2        321312151           24-09-20             0           0            0   \n",
       "3        321312150           24-09-20             0           0            0   \n",
       "4        321311952           24-09-20             0           0            0   \n",
       "\n",
       "   RISK_FSTPD30  RISK_FSTQPD30  RISK_FSTQPD60 PRODUCT_GROUP NTC_FLAG  ...  \\\n",
       "0             0              0              0            CD   Others  ...   \n",
       "1             0              0              0            CD   Others  ...   \n",
       "2             0              0              0            CD   Others  ...   \n",
       "3             0              0              0            CD   Others  ...   \n",
       "4             0              0              0            CD   Others  ...   \n",
       "\n",
       "     DATE_5  REASON_5   CODE_5   AMT_5    DATE_6 REASON_6   CODE_6   AMT_6  \\\n",
       "0  02-08-19         0  Debited  1329.0  02-05-19        0  Debited  1329.0   \n",
       "1  05-09-17         0  Debited  1067.0  05-08-17        0  Debited  1067.0   \n",
       "2       NaN       NaN      NaN     NaN       NaN      NaN      NaN     NaN   \n",
       "3  12-05-17         0  Debited  1732.0  12-04-17        0  Debited  1732.0   \n",
       "4  08-04-19       XNA  Debited  1653.0  08-03-19      XNA  Debited  1653.0   \n",
       "\n",
       "  GENERALMODELLG GENERALMODELLOGREG  \n",
       "0       0.066354           0.063158  \n",
       "1       0.015561           0.017611  \n",
       "2       0.031091           0.020464  \n",
       "3       0.048232           0.036273  \n",
       "4       0.069972           0.052575  \n",
       "\n",
       "[5 rows x 39 columns]"
      ]
     },
     "execution_count": 4,
     "metadata": {},
     "output_type": "execute_result"
    }
   ],
   "source": [
    "df.head()"
   ]
  },
  {
   "cell_type": "code",
   "execution_count": 9,
   "metadata": {},
   "outputs": [],
   "source": [
    "coding_dict={'Balance Insufficient':'WILLFULL DEFAULTS',\n",
    "'CLEARED BAL/FUNDS/DP NOT AVAILABLE.CARE! ACCT WILL BE OVERDRAWN                               000000':'WILLFULL DEFAULTS',\n",
    "'DP NOT AVAILABLE. ACCT CANNOT BE OVERDRAWN':'WILLFULL DEFAULTS',\n",
    "'CLEARED BAL/FUNDS/DP NOT AVAILABLE.CARE! ACCT WILL BE OVERDRAWN':'WILLFULL DEFAULTS',\n",
    "'ACCT HAS HOLD. INSUFFICIENT FREE BAL FOR TXN':'WILLFULL DEFAULTS',\n",
    "'INSUFFICIENT FUNDS':'WILLFULL DEFAULTS',\n",
    "'CODE_DDS_ERROR_REASON':'PROCESS ISSUE',\n",
    "'A/C Blocked or Frozen':'PROCESS ISSUE',\n",
    "'Miscellaneous-Dormant A/c(No t':'PROCESS ISSUE',\n",
    "'Miscellaneous-Dormant A/c(No':'PROCESS ISSUE',\n",
    "'UMRN QUOTED IN FILE IS NOT VALID':'PROCESS ISSUE',\n",
    "'NON-Home debit txn on Inoperative/Unclaimed a/c NOT allowed':'PROCESS ISSUE',\n",
    "'Invalid UMRN or inactive man':'PROCESS ISSUE',\n",
    "'ACCOUNT CLOSED':'PROCESS ISSUE',\n",
    "'PERIDICITY FOR MANDATE RECORD IS OVER':'PROCESS ISSUE',\n",
    "'Settlement Date before manda':'PROCESS ISSUE',\n",
    "'Invalid UMRN or inactive mandate':'PROCESS ISSUE',\n",
    "'MANDATE REJECT: No Signature in CBS':'PROCESS ISSUE',\n",
    "'Mismatch in mandate debtor b':'PROCESS ISSUE',\n",
    "'MANDATE RECORD IS NOT AUTHORISED':'PROCESS ISSUE',\n",
    "'Invalid Bank Identifier - Rece':'PROCESS ISSUE',\n",
    "'Miscellaneous-Network Failure(':'PROCESS ISSUE',\n",
    "'Mandate Not Received/UMRN Do':'PROCESS ISSUE',\n",
    "'Invalid Bank Identifier - Receiving participant blocked/disabled':'PROCESS ISSUE',\n",
    "'Mismatch in Mandate Debtor A':'PROCESS ISSUE',\n",
    "'Mandate Not Received/UMRN Does not EXist':'PROCESS ISSUE',\n",
    "'Miscellaneous-Dormant A/c(No transaction for last six months':'PROCESS ISSUE',\n",
    "'0':'DEBITED',\n",
    "'XNA':'DEBITED',\n",
    "            }"
   ]
  },
  {
   "cell_type": "code",
   "execution_count": 10,
   "metadata": {},
   "outputs": [],
   "source": [
    "def encoding(x):\n",
    "    try:\n",
    "        return(coding_dict[x])\n",
    "    except:\n",
    "        return (\"Others\")"
   ]
  },
  {
   "cell_type": "code",
   "execution_count": 11,
   "metadata": {},
   "outputs": [],
   "source": [
    "df[\"REASON_1_ENCODED\"]= df[\"REASON_1\"].apply(encoding)\n",
    "df[\"REASON_2_ENCODED\"]= df[\"REASON_2\"].apply(encoding)\n",
    "df[\"REASON_3_ENCODED\"]= df[\"REASON_3\"].apply(encoding)\n",
    "df[\"REASON_4_ENCODED\"]= df[\"REASON_4\"].apply(encoding)\n",
    "df[\"REASON_5_ENCODED\"]= df[\"REASON_5\"].apply(encoding)\n",
    "df[\"REASON_6_ENCODED\"]= df[\"REASON_6\"].apply(encoding)\n"
   ]
  },
  {
   "cell_type": "code",
   "execution_count": 12,
   "metadata": {},
   "outputs": [
    {
     "data": {
      "text/plain": [
       "Index(['SKP_CREDIT_CASE', 'TIME_DECISION_DATE', 'RISK_AGRF180', 'RISK_FPD30',\n",
       "       'RISK_FSPD30', 'RISK_FSTPD30', 'RISK_FSTQPD30', 'RISK_FSTQPD60',\n",
       "       'PRODUCT_GROUP', 'NTC_FLAG', 'CLIENT_EXI_3M', 'RISK_SCORE',\n",
       "       'AMT_DIRECT_DEBIT_STATEMENT', 'DATE_1', 'REASON_1', 'CODE_1', 'AMT_1',\n",
       "       'DATE_2', 'REASON_2', 'CODE_2', 'AMT_2', 'DATE_3', 'REASON_3', 'CODE_3',\n",
       "       'AMT_3', 'DATE_4', 'REASON_4', 'CODE_4', 'AMT_4', 'DATE_5', 'REASON_5',\n",
       "       'CODE_5', 'AMT_5', 'DATE_6', 'REASON_6', 'CODE_6', 'AMT_6',\n",
       "       'GENERALMODELLG', 'GENERALMODELLOGREG', 'REASON_1_ENCODED',\n",
       "       'REASON_2_ENCODED', 'REASON_3_ENCODED', 'REASON_4_ENCODED',\n",
       "       'REASON_5_ENCODED', 'REASON_6_ENCODED'],\n",
       "      dtype='object')"
      ]
     },
     "execution_count": 12,
     "metadata": {},
     "output_type": "execute_result"
    }
   ],
   "source": [
    "df.columns"
   ]
  },
  {
   "cell_type": "code",
   "execution_count": 16,
   "metadata": {},
   "outputs": [
    {
     "data": {
      "text/plain": [
       "<AxesSubplot:ylabel='Frequency'>"
      ]
     },
     "execution_count": 16,
     "metadata": {},
     "output_type": "execute_result"
    },
    {
     "data": {
      "image/png": "[encoded data removed]",
      "text/plain": [
       "<Figure size 432x288 with 1 Axes>"
      ]
     },
     "metadata": {
      "needs_background": "light"
     },
     "output_type": "display_data"
    }
   ],
   "source": [
    "# Check distribution of scores\n",
    "pd.Series(df['GENERALMODELLOGREG']).plot.hist(bins=10, range=(0,0.08) ,color='#607c8e')"
   ]
  },
  {
   "cell_type": "code",
   "execution_count": 24,
   "metadata": {},
   "outputs": [
    {
     "name": "stdout",
     "output_type": "stream",
     "text": [
      "HCIN SCORE GINI: 0.37893832505125746\n"
     ]
    }
   ],
   "source": [
    "hcc_score='GENERALMODELLOGREG'\n",
    "\n",
    "# HCC score Gini         \n",
    "metric_auc_hcc = metrics.roc_auc_score(df['RISK_FSTQPD30'], df[hcc_score])\n",
    "gini_hcc_only = 2 * metric_auc_hcc - 1\n",
    "print(\"HCIN SCORE GINI:\" ,gini_hcc_only)"
   ]
  },
  {
   "cell_type": "code",
   "execution_count": 25,
   "metadata": {},
   "outputs": [],
   "source": [
    "df[\"TIME_DECISION_DATE\"] = pd.to_datetime(df[\"TIME_DECISION_DATE\"],format ='%d-%m-%y')\n",
    "\n",
    "df[\"MONTH\"]= df[\"TIME_DECISION_DATE\"].dt.strftime(\"%y-%m\")"
   ]
  },
  {
   "cell_type": "code",
   "execution_count": 26,
   "metadata": {},
   "outputs": [],
   "source": [
    "df_summ = df.groupby(\"MONTH\").aggregate([\"count\",\"sum\"])[\"RISK_FSTQPD30\"]\n",
    "df_summ[\"bad_rate\"] = df_summ[\"sum\"]/df_summ[\"count\"]"
   ]
  },
  {
   "cell_type": "code",
   "execution_count": 27,
   "metadata": {},
   "outputs": [
    {
     "data": {
      "image/png": "[encoded data removed]",
      "text/plain": [
       "<Figure size 1080x288 with 2 Axes>"
      ]
     },
     "metadata": {
      "needs_background": "light"
     },
     "output_type": "display_data"
    }
   ],
   "source": [
    "df_summ[['sum','count']].plot(kind='bar', width = 0.8, figsize=(15,4))\n",
    "df_summ['bad_rate'].plot(secondary_y=True)\n",
    "\n",
    "ax = plt.gca()\n",
    "plt.xlim([-0.35, len(df_summ['sum'])-0.35])\n",
    "ax.set_xticklabels(df_summ.index)\n",
    "plt.ylim\n",
    "fig = ax.get_figure()\n",
    "ax = fig.get_axes()\n",
    "ax[1].set_ylim(0,0.15)\n",
    "ax[0].legend(['CD_Contracts','CD_Defaults'])\n",
    "ax[1].legend([\"Default Rate\"], loc = \"center right\")\n",
    "\n",
    "\n",
    "plt.show()\n"
   ]
  },
  {
   "cell_type": "code",
   "execution_count": 28,
   "metadata": {},
   "outputs": [
    {
     "name": "stdout",
     "output_type": "stream",
     "text": [
      "ERROR\n",
      "ERROR\n",
      "ERROR\n",
      "19-11 0.4684763133680361\n",
      "19-10 0.39109193151270394\n"
     ]
    }
   ],
   "source": [
    "#MOM Gini Risk Score\n",
    "for x in df[\"MONTH\"].unique():\n",
    "    try:   \n",
    "        metric_auc_hcc = metrics.roc_auc_score(df[df[\"MONTH\"]==x]['RISK_FSTQPD30'], df[df[\"MONTH\"]==x][hcc_score])\n",
    "        gini_hcc_only = 2 * metric_auc_hcc - 1\n",
    "        print(x ,gini_hcc_only)  \n",
    "    except:\n",
    "        print(\"ERROR\")"
   ]
  },
  {
   "cell_type": "code",
   "execution_count": 29,
   "metadata": {},
   "outputs": [],
   "source": [
    "df[\"DATE_1\"] = pd.to_datetime(df[\"DATE_1\"],format ='%d-%m-%y')\n",
    "df[\"DATE_2\"] = pd.to_datetime(df[\"DATE_2\"],format ='%d-%m-%y')\n",
    "df[\"DATE_3\"] = pd.to_datetime(df[\"DATE_3\"],format ='%d-%m-%y')\n",
    "df[\"DATE_4\"] = pd.to_datetime(df[\"DATE_4\"],format ='%d-%m-%y')\n",
    "df[\"DATE_5\"] = pd.to_datetime(df[\"DATE_5\"],format ='%d-%m-%y')\n",
    "df[\"DATE_6\"] = pd.to_datetime(df[\"DATE_6\"],format ='%d-%m-%y')"
   ]
  },
  {
   "cell_type": "code",
   "execution_count": 30,
   "metadata": {},
   "outputs": [],
   "source": [
    "#Tenure Variables \n",
    "df[\"TENURE1\"] = (df[\"TIME_DECISION_DATE\"]-df[\"DATE_1\"]).dt.days\n",
    "df[\"TENURE2\"] = (df[\"TIME_DECISION_DATE\"]-df[\"DATE_2\"]).dt.days\n",
    "df[\"TENURE3\"] = (df[\"TIME_DECISION_DATE\"]-df[\"DATE_3\"]).dt.days\n",
    "df[\"TENURE4\"] = (df[\"TIME_DECISION_DATE\"]-df[\"DATE_4\"]).dt.days\n",
    "df[\"TENURE5\"] = (df[\"TIME_DECISION_DATE\"]-df[\"DATE_5\"]).dt.days\n",
    "df[\"TENURE6\"] = (df[\"TIME_DECISION_DATE\"]-df[\"DATE_6\"]).dt.days\n",
    "\n",
    "\n"
   ]
  },
  {
   "cell_type": "code",
   "execution_count": 31,
   "metadata": {},
   "outputs": [],
   "source": [
    "#One Hot Encoding\n",
    "df_encoded = df\n",
    "for x in [\"CODE_1\",\"CODE_2\",\"CODE_3\",\"CODE_4\",\"CODE_5\",\"CODE_6\",'REASON_1_ENCODED', 'REASON_2_ENCODED',\n",
    "       'REASON_3_ENCODED', 'REASON_4_ENCODED', 'REASON_5_ENCODED',\n",
    "       'REASON_6_ENCODED']:\n",
    "    \n",
    "    dummy = pd.get_dummies(df_encoded[x])\n",
    "    dummy.columns = [y+\"_\"+x for y in dummy.columns]\n",
    "    df_encoded = pd.concat([df_encoded, dummy], axis=1)"
   ]
  },
  {
   "cell_type": "code",
   "execution_count": 32,
   "metadata": {},
   "outputs": [
    {
     "data": {
      "text/html": [
       "<div>\n",
       "<style scoped>\n",
       "    .dataframe tbody tr th:only-of-type {\n",
       "        vertical-align: middle;\n",
       "    }\n",
       "\n",
       "    .dataframe tbody tr th {\n",
       "        vertical-align: top;\n",
       "    }\n",
       "\n",
       "    .dataframe thead th {\n",
       "        text-align: right;\n",
       "    }\n",
       "</style>\n",
       "<table border=\"1\" class=\"dataframe\">\n",
       "  <thead>\n",
       "    <tr style=\"text-align: right;\">\n",
       "      <th></th>\n",
       "      <th>count</th>\n",
       "      <th>mean</th>\n",
       "      <th>std</th>\n",
       "      <th>min</th>\n",
       "      <th>25%</th>\n",
       "      <th>50%</th>\n",
       "      <th>75%</th>\n",
       "      <th>max</th>\n",
       "    </tr>\n",
       "  </thead>\n",
       "  <tbody>\n",
       "    <tr>\n",
       "      <th>SKP_CREDIT_CASE</th>\n",
       "      <td>133004.0</td>\n",
       "      <td>2.976049e+08</td>\n",
       "      <td>1.606802e+07</td>\n",
       "      <td>2.784562e+08</td>\n",
       "      <td>2.801353e+08</td>\n",
       "      <td>3.073558e+08</td>\n",
       "      <td>3.109461e+08</td>\n",
       "      <td>3.213123e+08</td>\n",
       "    </tr>\n",
       "    <tr>\n",
       "      <th>RISK_AGRF180</th>\n",
       "      <td>133004.0</td>\n",
       "      <td>1.965505e-01</td>\n",
       "      <td>3.973910e-01</td>\n",
       "      <td>0.000000e+00</td>\n",
       "      <td>0.000000e+00</td>\n",
       "      <td>0.000000e+00</td>\n",
       "      <td>0.000000e+00</td>\n",
       "      <td>1.000000e+00</td>\n",
       "    </tr>\n",
       "    <tr>\n",
       "      <th>RISK_FPD30</th>\n",
       "      <td>133004.0</td>\n",
       "      <td>8.714024e-03</td>\n",
       "      <td>9.294167e-02</td>\n",
       "      <td>0.000000e+00</td>\n",
       "      <td>0.000000e+00</td>\n",
       "      <td>0.000000e+00</td>\n",
       "      <td>0.000000e+00</td>\n",
       "      <td>1.000000e+00</td>\n",
       "    </tr>\n",
       "    <tr>\n",
       "      <th>RISK_FSPD30</th>\n",
       "      <td>133004.0</td>\n",
       "      <td>1.282668e-02</td>\n",
       "      <td>1.125267e-01</td>\n",
       "      <td>0.000000e+00</td>\n",
       "      <td>0.000000e+00</td>\n",
       "      <td>0.000000e+00</td>\n",
       "      <td>0.000000e+00</td>\n",
       "      <td>1.000000e+00</td>\n",
       "    </tr>\n",
       "    <tr>\n",
       "      <th>RISK_FSTPD30</th>\n",
       "      <td>133004.0</td>\n",
       "      <td>1.027037e-02</td>\n",
       "      <td>1.008214e-01</td>\n",
       "      <td>0.000000e+00</td>\n",
       "      <td>0.000000e+00</td>\n",
       "      <td>0.000000e+00</td>\n",
       "      <td>0.000000e+00</td>\n",
       "      <td>1.000000e+00</td>\n",
       "    </tr>\n",
       "    <tr>\n",
       "      <th>RISK_FSTQPD30</th>\n",
       "      <td>133004.0</td>\n",
       "      <td>1.090193e-02</td>\n",
       "      <td>1.038420e-01</td>\n",
       "      <td>0.000000e+00</td>\n",
       "      <td>0.000000e+00</td>\n",
       "      <td>0.000000e+00</td>\n",
       "      <td>0.000000e+00</td>\n",
       "      <td>1.000000e+00</td>\n",
       "    </tr>\n",
       "    <tr>\n",
       "      <th>RISK_FSTQPD60</th>\n",
       "      <td>133004.0</td>\n",
       "      <td>8.345614e-03</td>\n",
       "      <td>9.097267e-02</td>\n",
       "      <td>0.000000e+00</td>\n",
       "      <td>0.000000e+00</td>\n",
       "      <td>0.000000e+00</td>\n",
       "      <td>0.000000e+00</td>\n",
       "      <td>1.000000e+00</td>\n",
       "    </tr>\n",
       "    <tr>\n",
       "      <th>RISK_SCORE</th>\n",
       "      <td>132799.0</td>\n",
       "      <td>2.437743e-02</td>\n",
       "      <td>3.022449e-02</td>\n",
       "      <td>1.331020e-03</td>\n",
       "      <td>1.008445e-02</td>\n",
       "      <td>1.600425e-02</td>\n",
       "      <td>2.669409e-02</td>\n",
       "      <td>5.062065e-01</td>\n",
       "    </tr>\n",
       "    <tr>\n",
       "      <th>AMT_DIRECT_DEBIT_STATEMENT</th>\n",
       "      <td>133004.0</td>\n",
       "      <td>1.940632e+03</td>\n",
       "      <td>1.081518e+03</td>\n",
       "      <td>0.000000e+00</td>\n",
       "      <td>1.395000e+03</td>\n",
       "      <td>1.694000e+03</td>\n",
       "      <td>2.090000e+03</td>\n",
       "      <td>1.757200e+04</td>\n",
       "    </tr>\n",
       "    <tr>\n",
       "      <th>AMT_1</th>\n",
       "      <td>132274.0</td>\n",
       "      <td>1.831414e+03</td>\n",
       "      <td>1.044577e+03</td>\n",
       "      <td>0.000000e+00</td>\n",
       "      <td>1.330000e+03</td>\n",
       "      <td>1.613000e+03</td>\n",
       "      <td>1.981000e+03</td>\n",
       "      <td>1.757200e+04</td>\n",
       "    </tr>\n",
       "    <tr>\n",
       "      <th>AMT_2</th>\n",
       "      <td>125374.0</td>\n",
       "      <td>1.845411e+03</td>\n",
       "      <td>1.059030e+03</td>\n",
       "      <td>0.000000e+00</td>\n",
       "      <td>1.339000e+03</td>\n",
       "      <td>1.624000e+03</td>\n",
       "      <td>1.999000e+03</td>\n",
       "      <td>1.757200e+04</td>\n",
       "    </tr>\n",
       "    <tr>\n",
       "      <th>AMT_3</th>\n",
       "      <td>119006.0</td>\n",
       "      <td>1.853585e+03</td>\n",
       "      <td>1.062670e+03</td>\n",
       "      <td>3.000000e-02</td>\n",
       "      <td>1.341000e+03</td>\n",
       "      <td>1.629000e+03</td>\n",
       "      <td>2.000000e+03</td>\n",
       "      <td>1.757200e+04</td>\n",
       "    </tr>\n",
       "    <tr>\n",
       "      <th>AMT_4</th>\n",
       "      <td>112231.0</td>\n",
       "      <td>1.856086e+03</td>\n",
       "      <td>1.057533e+03</td>\n",
       "      <td>3.000000e-02</td>\n",
       "      <td>1.343000e+03</td>\n",
       "      <td>1.634000e+03</td>\n",
       "      <td>2.012000e+03</td>\n",
       "      <td>1.757200e+04</td>\n",
       "    </tr>\n",
       "    <tr>\n",
       "      <th>AMT_5</th>\n",
       "      <td>103040.0</td>\n",
       "      <td>1.859582e+03</td>\n",
       "      <td>1.061296e+03</td>\n",
       "      <td>0.000000e+00</td>\n",
       "      <td>1.341000e+03</td>\n",
       "      <td>1.635000e+03</td>\n",
       "      <td>2.013000e+03</td>\n",
       "      <td>1.757200e+04</td>\n",
       "    </tr>\n",
       "    <tr>\n",
       "      <th>AMT_6</th>\n",
       "      <td>87783.0</td>\n",
       "      <td>1.870547e+03</td>\n",
       "      <td>1.087249e+03</td>\n",
       "      <td>0.000000e+00</td>\n",
       "      <td>1.334000e+03</td>\n",
       "      <td>1.636000e+03</td>\n",
       "      <td>2.016000e+03</td>\n",
       "      <td>1.757200e+04</td>\n",
       "    </tr>\n",
       "    <tr>\n",
       "      <th>GENERALMODELLG</th>\n",
       "      <td>133004.0</td>\n",
       "      <td>3.325778e-02</td>\n",
       "      <td>3.393883e-02</td>\n",
       "      <td>1.175033e-03</td>\n",
       "      <td>1.303718e-02</td>\n",
       "      <td>2.272200e-02</td>\n",
       "      <td>4.140210e-02</td>\n",
       "      <td>7.170753e-01</td>\n",
       "    </tr>\n",
       "    <tr>\n",
       "      <th>GENERALMODELLOGREG</th>\n",
       "      <td>133004.0</td>\n",
       "      <td>3.383078e-02</td>\n",
       "      <td>2.884438e-02</td>\n",
       "      <td>2.227102e-03</td>\n",
       "      <td>1.592571e-02</td>\n",
       "      <td>2.483510e-02</td>\n",
       "      <td>4.141758e-02</td>\n",
       "      <td>5.888413e-01</td>\n",
       "    </tr>\n",
       "    <tr>\n",
       "      <th>TENURE1</th>\n",
       "      <td>132274.0</td>\n",
       "      <td>3.222432e+02</td>\n",
       "      <td>3.031390e+02</td>\n",
       "      <td>1.000000e+00</td>\n",
       "      <td>6.500000e+01</td>\n",
       "      <td>2.370000e+02</td>\n",
       "      <td>5.050000e+02</td>\n",
       "      <td>2.647000e+03</td>\n",
       "    </tr>\n",
       "    <tr>\n",
       "      <th>TENURE2</th>\n",
       "      <td>125374.0</td>\n",
       "      <td>3.568417e+02</td>\n",
       "      <td>3.055822e+02</td>\n",
       "      <td>1.000000e+00</td>\n",
       "      <td>9.800000e+01</td>\n",
       "      <td>2.710000e+02</td>\n",
       "      <td>5.430000e+02</td>\n",
       "      <td>2.678000e+03</td>\n",
       "    </tr>\n",
       "    <tr>\n",
       "      <th>TENURE3</th>\n",
       "      <td>119006.0</td>\n",
       "      <td>3.921136e+02</td>\n",
       "      <td>3.069648e+02</td>\n",
       "      <td>8.000000e+00</td>\n",
       "      <td>1.320000e+02</td>\n",
       "      <td>3.090000e+02</td>\n",
       "      <td>5.800000e+02</td>\n",
       "      <td>2.708000e+03</td>\n",
       "    </tr>\n",
       "    <tr>\n",
       "      <th>TENURE4</th>\n",
       "      <td>112231.0</td>\n",
       "      <td>4.309915e+02</td>\n",
       "      <td>3.079782e+02</td>\n",
       "      <td>2.600000e+01</td>\n",
       "      <td>1.730000e+02</td>\n",
       "      <td>3.510000e+02</td>\n",
       "      <td>6.195000e+02</td>\n",
       "      <td>2.739000e+03</td>\n",
       "    </tr>\n",
       "    <tr>\n",
       "      <th>TENURE5</th>\n",
       "      <td>103040.0</td>\n",
       "      <td>4.745560e+02</td>\n",
       "      <td>3.097299e+02</td>\n",
       "      <td>3.100000e+01</td>\n",
       "      <td>2.190000e+02</td>\n",
       "      <td>4.010000e+02</td>\n",
       "      <td>6.660000e+02</td>\n",
       "      <td>2.767000e+03</td>\n",
       "    </tr>\n",
       "    <tr>\n",
       "      <th>TENURE6</th>\n",
       "      <td>87783.0</td>\n",
       "      <td>5.210609e+02</td>\n",
       "      <td>3.128604e+02</td>\n",
       "      <td>4.200000e+01</td>\n",
       "      <td>2.630000e+02</td>\n",
       "      <td>4.570000e+02</td>\n",
       "      <td>7.120000e+02</td>\n",
       "      <td>2.798000e+03</td>\n",
       "    </tr>\n",
       "  </tbody>\n",
       "</table>\n",
       "</div>"
      ],
      "text/plain": [
       "                               count          mean           std  \\\n",
       "SKP_CREDIT_CASE             133004.0  2.976049e+08  1.606802e+07   \n",
       "RISK_AGRF180                133004.0  1.965505e-01  3.973910e-01   \n",
       "RISK_FPD30                  133004.0  8.714024e-03  9.294167e-02   \n",
       "RISK_FSPD30                 133004.0  1.282668e-02  1.125267e-01   \n",
       "RISK_FSTPD30                133004.0  1.027037e-02  1.008214e-01   \n",
       "RISK_FSTQPD30               133004.0  1.090193e-02  1.038420e-01   \n",
       "RISK_FSTQPD60               133004.0  8.345614e-03  9.097267e-02   \n",
       "RISK_SCORE                  132799.0  2.437743e-02  3.022449e-02   \n",
       "AMT_DIRECT_DEBIT_STATEMENT  133004.0  1.940632e+03  1.081518e+03   \n",
       "AMT_1                       132274.0  1.831414e+03  1.044577e+03   \n",
       "AMT_2                       125374.0  1.845411e+03  1.059030e+03   \n",
       "AMT_3                       119006.0  1.853585e+03  1.062670e+03   \n",
       "AMT_4                       112231.0  1.856086e+03  1.057533e+03   \n",
       "AMT_5                       103040.0  1.859582e+03  1.061296e+03   \n",
       "AMT_6                        87783.0  1.870547e+03  1.087249e+03   \n",
       "GENERALMODELLG              133004.0  3.325778e-02  3.393883e-02   \n",
       "GENERALMODELLOGREG          133004.0  3.383078e-02  2.884438e-02   \n",
       "TENURE1                     132274.0  3.222432e+02  3.031390e+02   \n",
       "TENURE2                     125374.0  3.568417e+02  3.055822e+02   \n",
       "TENURE3                     119006.0  3.921136e+02  3.069648e+02   \n",
       "TENURE4                     112231.0  4.309915e+02  3.079782e+02   \n",
       "TENURE5                     103040.0  4.745560e+02  3.097299e+02   \n",
       "TENURE6                      87783.0  5.210609e+02  3.128604e+02   \n",
       "\n",
       "                                     min           25%           50%  \\\n",
       "SKP_CREDIT_CASE             2.784562e+08  2.801353e+08  3.073558e+08   \n",
       "RISK_AGRF180                0.000000e+00  0.000000e+00  0.000000e+00   \n",
       "RISK_FPD30                  0.000000e+00  0.000000e+00  0.000000e+00   \n",
       "RISK_FSPD30                 0.000000e+00  0.000000e+00  0.000000e+00   \n",
       "RISK_FSTPD30                0.000000e+00  0.000000e+00  0.000000e+00   \n",
       "RISK_FSTQPD30               0.000000e+00  0.000000e+00  0.000000e+00   \n",
       "RISK_FSTQPD60               0.000000e+00  0.000000e+00  0.000000e+00   \n",
       "RISK_SCORE                  1.331020e-03  1.008445e-02  1.600425e-02   \n",
       "AMT_DIRECT_DEBIT_STATEMENT  0.000000e+00  1.395000e+03  1.694000e+03   \n",
       "AMT_1                       0.000000e+00  1.330000e+03  1.613000e+03   \n",
       "AMT_2                       0.000000e+00  1.339000e+03  1.624000e+03   \n",
       "AMT_3                       3.000000e-02  1.341000e+03  1.629000e+03   \n",
       "AMT_4                       3.000000e-02  1.343000e+03  1.634000e+03   \n",
       "AMT_5                       0.000000e+00  1.341000e+03  1.635000e+03   \n",
       "AMT_6                       0.000000e+00  1.334000e+03  1.636000e+03   \n",
       "GENERALMODELLG              1.175033e-03  1.303718e-02  2.272200e-02   \n",
       "GENERALMODELLOGREG          2.227102e-03  1.592571e-02  2.483510e-02   \n",
       "TENURE1                     1.000000e+00  6.500000e+01  2.370000e+02   \n",
       "TENURE2                     1.000000e+00  9.800000e+01  2.710000e+02   \n",
       "TENURE3                     8.000000e+00  1.320000e+02  3.090000e+02   \n",
       "TENURE4                     2.600000e+01  1.730000e+02  3.510000e+02   \n",
       "TENURE5                     3.100000e+01  2.190000e+02  4.010000e+02   \n",
       "TENURE6                     4.200000e+01  2.630000e+02  4.570000e+02   \n",
       "\n",
       "                                     75%           max  \n",
       "SKP_CREDIT_CASE             3.109461e+08  3.213123e+08  \n",
       "RISK_AGRF180                0.000000e+00  1.000000e+00  \n",
       "RISK_FPD30                  0.000000e+00  1.000000e+00  \n",
       "RISK_FSPD30                 0.000000e+00  1.000000e+00  \n",
       "RISK_FSTPD30                0.000000e+00  1.000000e+00  \n",
       "RISK_FSTQPD30               0.000000e+00  1.000000e+00  \n",
       "RISK_FSTQPD60               0.000000e+00  1.000000e+00  \n",
       "RISK_SCORE                  2.669409e-02  5.062065e-01  \n",
       "AMT_DIRECT_DEBIT_STATEMENT  2.090000e+03  1.757200e+04  \n",
       "AMT_1                       1.981000e+03  1.757200e+04  \n",
       "AMT_2                       1.999000e+03  1.757200e+04  \n",
       "AMT_3                       2.000000e+03  1.757200e+04  \n",
       "AMT_4                       2.012000e+03  1.757200e+04  \n",
       "AMT_5                       2.013000e+03  1.757200e+04  \n",
       "AMT_6                       2.016000e+03  1.757200e+04  \n",
       "GENERALMODELLG              4.140210e-02  7.170753e-01  \n",
       "GENERALMODELLOGREG          4.141758e-02  5.888413e-01  \n",
       "TENURE1                     5.050000e+02  2.647000e+03  \n",
       "TENURE2                     5.430000e+02  2.678000e+03  \n",
       "TENURE3                     5.800000e+02  2.708000e+03  \n",
       "TENURE4                     6.195000e+02  2.739000e+03  \n",
       "TENURE5                     6.660000e+02  2.767000e+03  \n",
       "TENURE6                     7.120000e+02  2.798000e+03  "
      ]
     },
     "execution_count": 32,
     "metadata": {},
     "output_type": "execute_result"
    }
   ],
   "source": [
    "df.describe().T"
   ]
  },
  {
   "cell_type": "code",
   "execution_count": 33,
   "metadata": {},
   "outputs": [],
   "source": [
    "df = df_encoded"
   ]
  },
  {
   "cell_type": "code",
   "execution_count": 40,
   "metadata": {},
   "outputs": [],
   "source": [
    "x_column = ['TENURE3',\n",
    "  'TENURE4',\n",
    "  'TENURE5',\n",
    "  'TENURE6',\n",
    "  'Undebited_CODE_1',\n",
    "  'Undebited_CODE_3',\n",
    "  'Undebited_CODE_6',\n",
    "  'WILLFULL DEFAULTS_REASON_5_ENCODED',\n",
    "  'Undebited_CODE_2',\n",
    "  'Undebited_CODE_4',\n",
    "  'WILLFULL DEFAULTS_REASON_4_ENCODED']\n",
    "y_column = 'RISK_FSTQPD30'"
   ]
  },
  {
   "cell_type": "code",
   "execution_count": 52,
   "metadata": {},
   "outputs": [],
   "source": [
    "bst = pickle.load(open(os.getcwd()+r\"\\model_cd_exi.pkl\", \"rb\"))\n",
    "df[\"XGB_SCORE\"] = bst.predict_proba(df[x_column], ntree_limit=bst.best_ntree_limit)[:, 1]"
   ]
  },
  {
   "cell_type": "code",
   "execution_count": 53,
   "metadata": {},
   "outputs": [
    {
     "name": "stderr",
     "output_type": "stream",
     "text": [
      "C:\\Users\\aman.khatri91425\\AppData\\Local\\Continuum\\anaconda3\\lib\\site-packages\\ipykernel_launcher.py:1: FutureWarning: The pandas.datetime class is deprecated and will be removed from pandas in a future version. Import from datetime module instead.\n",
      "  \"\"\"Entry point for launching an IPython kernel.\n",
      "C:\\Users\\aman.khatri91425\\AppData\\Local\\Continuum\\anaconda3\\lib\\site-packages\\ipykernel_launcher.py:2: FutureWarning: The pandas.datetime class is deprecated and will be removed from pandas in a future version. Import from datetime module instead.\n",
      "  \n"
     ]
    }
   ],
   "source": [
    "df_test = df[(df[\"TIME_DECISION_DATE\"]>= pd.datetime(2019,11,1))&(df[\"TIME_DECISION_DATE\"]< pd.datetime(2019,12,1))]\n",
    "df_train = df[df[\"TIME_DECISION_DATE\"]< pd.datetime(2019,11,1)]\n"
   ]
  },
  {
   "cell_type": "code",
   "execution_count": 55,
   "metadata": {},
   "outputs": [],
   "source": [
    "## Pillar  approach to combine score\n",
    "hcc_score = 'GENERALMODELLOGREG'\n",
    "X_pillar_train = pd.DataFrame()\n",
    "X_pillar_test = pd.DataFrame()\n",
    "\n",
    "X_pillar_train[hcc_score]=df_train['RISK_SCORE']; \n",
    "X_pillar_test[hcc_score]=df_test['RISK_SCORE']\n",
    "\n",
    "X_pillar_train[\"XGB_SCORE\"] =  df_train['XGB_SCORE']\n",
    "X_pillar_test[\"XGB_SCORE\"]  =  df_test['XGB_SCORE']\n",
    "\n",
    "X_pillar_train[\"FSTQ\"] = df_train['RISK_FSTQPD30']\n",
    "X_pillar_test[\"FSTQ\"] = df_test['RISK_FSTQPD30']\n",
    "\n",
    "X_train_log = X_pillar_train.loc[pd.notnull(X_pillar_train[hcc_score]),[hcc_score,'XGB_SCORE']]\n",
    "y_train_log = X_pillar_train.loc[pd.notnull(X_pillar_train[hcc_score]),['FSTQ']]\n",
    "\n",
    "X_test_log = X_pillar_test.loc[pd.notnull(X_pillar_test[hcc_score]),[hcc_score,'XGB_SCORE']]\n",
    "y_test_log = X_pillar_test.loc[pd.notnull(X_pillar_test[hcc_score]),['FSTQ']]\n",
    "\n",
    "X_train_log = np.log((X_train_log + 1e-10).divide(1 - (X_train_log + 1e-10)))\n",
    "X_test_log = np.log((X_test_log + 1e-10).divide(1 - (X_test_log + 1e-10)))\n",
    "\n",
    "\n"
   ]
  },
  {
   "cell_type": "code",
   "execution_count": 63,
   "metadata": {},
   "outputs": [],
   "source": [
    "df[\"HCC_SCORE_LOG\"]= np.log((df[hcc_score] + 1e-10).divide(1 - (df[hcc_score] + 1e-10)))\n",
    "df[\"XGB_SCORE_LOG\"]= np.log((df[\"XGB_SCORE\"] + 1e-10).divide(1 - (df[\"XGB_SCORE\"] + 1e-10)))\n"
   ]
  },
  {
   "cell_type": "code",
   "execution_count": 59,
   "metadata": {
    "scrolled": true
   },
   "outputs": [
    {
     "name": "stderr",
     "output_type": "stream",
     "text": [
      "C:\\Users\\aman.khatri91425\\AppData\\Local\\Continuum\\anaconda3\\lib\\site-packages\\sklearn\\linear_model\\logistic.py:433: FutureWarning: Default solver will be changed to 'lbfgs' in 0.22. Specify a solver to silence this warning.\n",
      "  FutureWarning)\n",
      "C:\\Users\\aman.khatri91425\\AppData\\Local\\Continuum\\anaconda3\\lib\\site-packages\\sklearn\\linear_model\\logistic.py:1300: UserWarning: 'n_jobs' > 1 does not have any effect when 'solver' is set to 'liblinear'. Got 'n_jobs' = 8.\n",
      "  \" = {}.\".format(effective_n_jobs(self.n_jobs)))\n"
     ]
    }
   ],
   "source": [
    "logreg = LogisticRegression(C=11, n_jobs=-1)\n",
    "\n",
    "# cross validation gini\n",
    "kfolds = StratifiedKFold(10, random_state=1)\n",
    "auc_cv = cross_val_score(logreg, X_train_log, np.ravel(y_train_log), scoring='roc_auc',\n",
    "                         cv=kfolds.split(X_test_log, np.ravel(y_test_log)), n_jobs=-1)\n",
    "gini_cv = (2 * np.array(auc_cv) - 1).mean()\n",
    "\n",
    "logreg.fit(X_train_log, np.ravel(y_train_log))\n",
    "log_coef_tbl = pd.DataFrame({'predictor': ['intercept'] + X_train_log.columns.tolist(),\n",
    "                             'coefficient': list(logreg.intercept_) + list(logreg.coef_[0])})\n",
    "log_coef_tbl = log_coef_tbl[['predictor', 'coefficient']]"
   ]
  },
  {
   "cell_type": "code",
   "execution_count": 60,
   "metadata": {},
   "outputs": [
    {
     "data": {
      "text/html": [
       "<div>\n",
       "<style scoped>\n",
       "    .dataframe tbody tr th:only-of-type {\n",
       "        vertical-align: middle;\n",
       "    }\n",
       "\n",
       "    .dataframe tbody tr th {\n",
       "        vertical-align: top;\n",
       "    }\n",
       "\n",
       "    .dataframe thead th {\n",
       "        text-align: right;\n",
       "    }\n",
       "</style>\n",
       "<table border=\"1\" class=\"dataframe\">\n",
       "  <thead>\n",
       "    <tr style=\"text-align: right;\">\n",
       "      <th></th>\n",
       "      <th>predictor</th>\n",
       "      <th>coefficient</th>\n",
       "    </tr>\n",
       "  </thead>\n",
       "  <tbody>\n",
       "    <tr>\n",
       "      <th>0</th>\n",
       "      <td>intercept</td>\n",
       "      <td>-2.264672</td>\n",
       "    </tr>\n",
       "    <tr>\n",
       "      <th>1</th>\n",
       "      <td>GENERALMODELLOGREG</td>\n",
       "      <td>0.422051</td>\n",
       "    </tr>\n",
       "    <tr>\n",
       "      <th>2</th>\n",
       "      <td>XGB_SCORE</td>\n",
       "      <td>1.526889</td>\n",
       "    </tr>\n",
       "  </tbody>\n",
       "</table>\n",
       "</div>"
      ],
      "text/plain": [
       "            predictor  coefficient\n",
       "0           intercept    -2.264672\n",
       "1  GENERALMODELLOGREG     0.422051\n",
       "2           XGB_SCORE     1.526889"
      ]
     },
     "execution_count": 60,
     "metadata": {},
     "output_type": "execute_result"
    }
   ],
   "source": [
    "log_coef_tbl"
   ]
  },
  {
   "cell_type": "code",
   "execution_count": 61,
   "metadata": {},
   "outputs": [
    {
     "name": "stdout",
     "output_type": "stream",
     "text": [
      "GINI TRAIN: 0.36938650229515835\n",
      "GINI TEST: 0.4277199892758825\n",
      "GINI CV: 0.3800553048259591\n"
     ]
    }
   ],
   "source": [
    "## Model performance\n",
    "ypred_train_pillar = logreg.predict_proba(X_train_log)[:, 1]\n",
    "metric_auc_train_log = metrics.roc_auc_score(np.ravel(y_train_log), ypred_train_pillar)\n",
    "gini_train_pillar = 2 * metric_auc_train_log - 1\n",
    "ypred_test_pillar = logreg.predict_proba(X_test_log)[:, 1]\n",
    "metric_auc_test_log = metrics.roc_auc_score(np.ravel(y_test_log), ypred_test_pillar)\n",
    "gini_test_pillar = 2 * metric_auc_test_log - 1\n",
    "\n",
    "print(\"GINI TRAIN:\",gini_train_pillar )\n",
    "print(\"GINI TEST:\",gini_test_pillar )\n",
    "print(\"GINI CV:\",gini_cv)"
   ]
  },
  {
   "cell_type": "code",
   "execution_count": 64,
   "metadata": {},
   "outputs": [],
   "source": [
    "df[\"COMBINED_SCORE\"] = logreg.predict_proba(df[['HCC_SCORE_LOG', 'XGB_SCORE_LOG']])[:, 1]"
   ]
  },
  {
   "cell_type": "code",
   "execution_count": 67,
   "metadata": {},
   "outputs": [
    {
     "name": "stdout",
     "output_type": "stream",
     "text": [
      "COMBINED: 0.4239137147299681\n",
      "RISK: 0.37893832505125746\n",
      "XGB: 0.3261401821095624\n"
     ]
    }
   ],
   "source": [
    "print(\"COMBINED:\",2*metrics.roc_auc_score(df[\"RISK_FSTQPD30\"], df[\"COMBINED_SCORE\"])-1)\n",
    "print(\"RISK:\",2*metrics.roc_auc_score(df[\"RISK_FSTQPD30\"], df[hcc_score])-1)\n",
    "print(\"XGB:\",2*metrics.roc_auc_score(df[\"RISK_FSTQPD30\"], df[\"XGB_SCORE\"])-1)\n"
   ]
  },
  {
   "cell_type": "code",
   "execution_count": 68,
   "metadata": {},
   "outputs": [],
   "source": [
    "df.to_pickle(os.getcwd()+\"\\scored_cd_exi_with_new_gm.pkl\")"
   ]
  },
  {
   "cell_type": "code",
   "execution_count": 69,
   "metadata": {},
   "outputs": [],
   "source": [
    "df.to_csv(os.getcwd()+\"\\scored_cd_exi_with_new_gm.csv\")"
   ]
  },
  {
   "cell_type": "code",
   "execution_count": null,
   "metadata": {},
   "outputs": [],
   "source": []
  },
  {
   "cell_type": "code",
   "execution_count": null,
   "metadata": {},
   "outputs": [],
   "source": []
  },
  {
   "cell_type": "markdown",
   "metadata": {},
   "source": [
    "# Model Evaluation"
   ]
  },
  {
   "cell_type": "code",
   "execution_count": 70,
   "metadata": {},
   "outputs": [],
   "source": [
    "df = pd.read_pickle(os.getcwd()+\"\\scored_cd_exi_with_new_gm.pkl\")"
   ]
  },
  {
   "cell_type": "code",
   "execution_count": 72,
   "metadata": {},
   "outputs": [],
   "source": [
    "TIME_DECISION_DATE = \"TIME_DECISION_DATE\"\n",
    "FINAL_SCORE = \"XGB_SCORE\"\n",
    "RISK_SCORE = \"GENERALMODELLOGREG\"\n",
    "COMBINED_SCORE = \"COMBINED_SCORE\"\n",
    "TARGET = \"RISK_FSTQPD30\"\n",
    "# PREDICTOR_LIST = ['G_RISK_FSTQPD30_SCORE', 'G_RISK_FPD10_SCORE','G_DEFAULT_FLAG_CHANGE_1']\n",
    "df[\"MONTH\"] = df[TIME_DECISION_DATE].dt.strftime(\"%y-%m\")"
   ]
  },
  {
   "cell_type": "markdown",
   "metadata": {},
   "source": [
    "# GINI"
   ]
  },
  {
   "cell_type": "markdown",
   "metadata": {},
   "source": [
    "### Gini Chart"
   ]
  },
  {
   "cell_type": "code",
   "execution_count": 73,
   "metadata": {},
   "outputs": [
    {
     "data": {
      "image/png": "[encoded data removed]",
      "text/plain": [
       "<Figure size 504x504 with 1 Axes>"
      ]
     },
     "metadata": {
      "needs_background": "light"
     },
     "output_type": "display_data"
    }
   ],
   "source": [
    "from sklearn.metrics import roc_auc_score, roc_curve, auc\n",
    "\n",
    "fig = plt.figure(figsize = (7,7))\n",
    "ax1 = fig.add_subplot(1, 1, 1)\n",
    "\n",
    "lw = 1\n",
    "fpr, tpr, thresholds = roc_curve(df[TARGET],df[COMBINED_SCORE])\n",
    "roc_auc = auc(fpr, tpr)\n",
    "ax1.plot(fpr, tpr, color='red', lw=lw, label='COMBINED_SCORE (gini = %0.2f)' % ((2*roc_auc-1)*100))\n",
    "\n",
    "fpr, tpr, thresholds = roc_curve(df[TARGET],df[RISK_SCORE])\n",
    "roc_auc = auc(fpr, tpr)\n",
    "ax1.plot(fpr, tpr, color='blue', lw=lw, label='RISK_SCORE (gini = %0.2f)' % ((2*roc_auc-1)*100))\n",
    "\n",
    "fpr, tpr, thresholds = roc_curve(df[TARGET],df[FINAL_SCORE])\n",
    "roc_auc = auc(fpr, tpr)\n",
    "ax1.plot(fpr, tpr, color='green', lw=lw, label='KNN_SCORE (gini = %0.2f)' % ((2*roc_auc-1)*100))\n",
    "\n",
    "ax1.plot([0, 1], [0, 1], color='navy', lw=lw, linestyle='--')\n",
    "plt.xlim([0.0, 1.0])\n",
    "plt.ylim([0.0, 1.0])\n",
    "plt.xlabel('False Positive Rate')\n",
    "plt.ylabel('True Positive Rate')\n",
    "plt.title('Receiver operating characteristic example')\n",
    "plt.legend(loc=\"lower right\")\n",
    "plt.show()"
   ]
  },
  {
   "cell_type": "markdown",
   "metadata": {},
   "source": [
    "### MOM GINI: FSTQPD30"
   ]
  },
  {
   "cell_type": "code",
   "execution_count": 74,
   "metadata": {},
   "outputs": [
    {
     "name": "stdout",
     "output_type": "stream",
     "text": [
      "ERROR\n",
      "ERROR\n",
      "ERROR\n"
     ]
    }
   ],
   "source": [
    "TARGET1 = 'RISK_FSTQPD30'\n",
    "gini_dic = {}\n",
    "for x in df[\"MONTH\"].unique():\n",
    "    try:\n",
    "        if \"MONTH\" not in gini_dic:\n",
    "            gini_dic[\"MONTH\"] = []\n",
    "        if FINAL_SCORE not in gini_dic: \n",
    "            gini_dic[FINAL_SCORE] = []\n",
    "        if RISK_SCORE not in gini_dic: \n",
    "            gini_dic[RISK_SCORE] = []\n",
    "        if COMBINED_SCORE not in gini_dic: \n",
    "            gini_dic[COMBINED_SCORE] = []\n",
    "        \n",
    "        gini_dic[FINAL_SCORE].append((2*roc_auc_score(df[df[\"MONTH\"]==x][TARGET1],df[df[\"MONTH\"]==x][FINAL_SCORE])-1)*100)\n",
    "        gini_dic[RISK_SCORE].append((2*roc_auc_score(df[df[\"MONTH\"]==x][TARGET1],df[df[\"MONTH\"]==x][RISK_SCORE])-1)*100)\n",
    "        gini_dic[COMBINED_SCORE].append((2*roc_auc_score(df[df[\"MONTH\"]==x][TARGET1],df[df[\"MONTH\"]==x][COMBINED_SCORE])-1)*100)\n",
    "        gini_dic[\"MONTH\"].append(x)\n",
    "#         for y in PREDICTOR_LIST:\n",
    "#             if y not in gini_dic:\n",
    "#                   gini_dic[y] = []\n",
    "#             gini_dic[y].append(((2*roc_auc_score(df[df[\"MONTH\"]==x][\"RISK_FSTQPD30\"],df[df[\"MONTH\"]==x][y])-1)*100))\n",
    "    except: \n",
    "        print(\"ERROR\")\n",
    "\n",
    "gini_df = pd.DataFrame(gini_dic)\n",
    "gini_df.sort_values(by = \"MONTH\",inplace = True)\n",
    "gini_df.reset_index(inplace = True)\n"
   ]
  },
  {
   "cell_type": "code",
   "execution_count": 77,
   "metadata": {},
   "outputs": [
    {
     "data": {
      "image/png": "[encoded data removed]",
      "text/plain": [
       "<Figure size 720x360 with 1 Axes>"
      ]
     },
     "metadata": {
      "needs_background": "light"
     },
     "output_type": "display_data"
    }
   ],
   "source": [
    "fig = plt.figure(figsize = (10,5))\n",
    "ax1 = fig.add_subplot(1, 1, 1)\n",
    "ax1.plot(gini_df[\"MONTH\"],gini_df[\"XGB_SCORE\"], marker='o', scaley = False, label = \"XGB_SCORE\")\n",
    "ax1.plot(gini_df[\"MONTH\"],gini_df[RISK_SCORE], marker='o', scaley = False, label = \"HC_SCORE\")\n",
    "ax1.plot(gini_df[\"MONTH\"],gini_df[\"COMBINED_SCORE\"], marker='o', scaley = False, label= \"COMBINED_SCORE\")\n",
    "\n",
    "for i, txt in enumerate(gini_df[\"XGB_SCORE\"]):\n",
    "    plt.annotate(\"{:.1f}\".format(txt), (gini_df[\"MONTH\"][i], gini_df[\"XGB_SCORE\"][i]+0.9))\n",
    "for i, txt in enumerate(gini_df[RISK_SCORE]):\n",
    "    plt.annotate(\"{:.1f}\".format(txt), (gini_df[\"MONTH\"][i], gini_df[RISK_SCORE][i]-1.9))\n",
    "for i, txt in enumerate(gini_df[\"COMBINED_SCORE\"]):\n",
    "    plt.annotate(\"{:.1f}\".format(txt), (gini_df[\"MONTH\"][i], gini_df[\"COMBINED_SCORE\"][i]+0.9))\n",
    "\n",
    "plt.legend(loc='lower right', borderaxespad=0.1)\n",
    "plt.ylim(0,65)\n",
    "plt.ylabel(\"GINI\")\n",
    "plt.xlabel(\"MONTH\")\n",
    "plt.yticks(np.arange(0,65,2))\n",
    "ax1.set_title(\"MOM Gini\")\n",
    "plt.show()"
   ]
  },
  {
   "cell_type": "markdown",
   "metadata": {},
   "source": [
    "### MOM GINI: FPD30"
   ]
  },
  {
   "cell_type": "code",
   "execution_count": 84,
   "metadata": {},
   "outputs": [
    {
     "name": "stdout",
     "output_type": "stream",
     "text": [
      "ERROR\n"
     ]
    }
   ],
   "source": [
    "TARGET1 = 'RISK_FPD30'\n",
    "gini_dic = {}\n",
    "for x in df[\"MONTH\"].unique():\n",
    "    try:\n",
    "        if \"MONTH\" not in gini_dic:\n",
    "            gini_dic[\"MONTH\"] = []\n",
    "        if FINAL_SCORE not in gini_dic: \n",
    "            gini_dic[FINAL_SCORE] = []\n",
    "        if RISK_SCORE not in gini_dic: \n",
    "            gini_dic[RISK_SCORE] = []\n",
    "        if COMBINED_SCORE not in gini_dic: \n",
    "            gini_dic[COMBINED_SCORE] = []\n",
    "        \n",
    "        gini_dic[FINAL_SCORE].append((2*roc_auc_score(df[df[\"MONTH\"]==x][TARGET1],df[df[\"MONTH\"]==x][FINAL_SCORE])-1)*100)\n",
    "        gini_dic[RISK_SCORE].append((2*roc_auc_score(df[df[\"MONTH\"]==x][TARGET1],df[df[\"MONTH\"]==x][RISK_SCORE])-1)*100)\n",
    "        gini_dic[COMBINED_SCORE].append((2*roc_auc_score(df[df[\"MONTH\"]==x][TARGET1],df[df[\"MONTH\"]==x][COMBINED_SCORE])-1)*100)\n",
    "        gini_dic[\"MONTH\"].append(x)\n",
    "#         for y in PREDICTOR_LIST:\n",
    "#             if y not in gini_dic:\n",
    "#                   gini_dic[y] = []\n",
    "#             gini_dic[y].append(((2*roc_auc_score(df[df[\"MONTH\"]==x][\"RISK_FSTQPD30\"],df[df[\"MONTH\"]==x][y])-1)*100))\n",
    "    except: \n",
    "        print(\"ERROR\")\n",
    "\n",
    "gini_df = pd.DataFrame(gini_dic)\n",
    "gini_df.sort_values(by = \"MONTH\",inplace = True)\n",
    "gini_df.reset_index(inplace = True)\n"
   ]
  },
  {
   "cell_type": "code",
   "execution_count": 85,
   "metadata": {},
   "outputs": [
    {
     "data": {
      "image/png": "[encoded data removed]",
      "text/plain": [
       "<Figure size 720x360 with 1 Axes>"
      ]
     },
     "metadata": {
      "needs_background": "light"
     },
     "output_type": "display_data"
    }
   ],
   "source": [
    "fig = plt.figure(figsize = (10,5))\n",
    "ax1 = fig.add_subplot(1, 1, 1)\n",
    "ax1.plot(gini_df[\"MONTH\"],gini_df[\"XGB_SCORE\"], marker='o', scaley = False, label = \"XGB_SCORE\")\n",
    "ax1.plot(gini_df[\"MONTH\"],gini_df[RISK_SCORE], marker='o', scaley = False, label = \"HC_SCORE\")\n",
    "ax1.plot(gini_df[\"MONTH\"],gini_df[\"COMBINED_SCORE\"], marker='o', scaley = False, label= \"COMBINED_SCORE\")\n",
    "\n",
    "for i, txt in enumerate(gini_df[\"XGB_SCORE\"]):\n",
    "    plt.annotate(\"{:.1f}\".format(txt), (gini_df[\"MONTH\"][i], gini_df[\"XGB_SCORE\"][i]+0.9))\n",
    "for i, txt in enumerate(gini_df[RISK_SCORE]):\n",
    "    plt.annotate(\"{:.1f}\".format(txt), (gini_df[\"MONTH\"][i], gini_df[RISK_SCORE][i]-1.9))\n",
    "for i, txt in enumerate(gini_df[\"COMBINED_SCORE\"]):\n",
    "    plt.annotate(\"{:.1f}\".format(txt), (gini_df[\"MONTH\"][i], gini_df[\"COMBINED_SCORE\"][i]+0.9))\n",
    "\n",
    "plt.legend(loc='lower right', borderaxespad=0.1)\n",
    "plt.ylim(0,65)\n",
    "plt.ylabel(\"GINI\")\n",
    "plt.xlabel(\"MONTH\")\n",
    "plt.yticks(np.arange(0,65,2))\n",
    "ax1.set_title(\"MOM Gini\")\n",
    "plt.show()"
   ]
  },
  {
   "cell_type": "markdown",
   "metadata": {},
   "source": [
    "### MOM GINI: FSPD30"
   ]
  },
  {
   "cell_type": "code",
   "execution_count": 86,
   "metadata": {},
   "outputs": [
    {
     "name": "stdout",
     "output_type": "stream",
     "text": [
      "ERROR\n"
     ]
    }
   ],
   "source": [
    "TARGET1 = 'RISK_FSPD30'\n",
    "gini_dic = {}\n",
    "for x in df[\"MONTH\"].unique():\n",
    "    try:\n",
    "        if \"MONTH\" not in gini_dic:\n",
    "            gini_dic[\"MONTH\"] = []\n",
    "        if FINAL_SCORE not in gini_dic: \n",
    "            gini_dic[FINAL_SCORE] = []\n",
    "        if RISK_SCORE not in gini_dic: \n",
    "            gini_dic[RISK_SCORE] = []\n",
    "        if COMBINED_SCORE not in gini_dic: \n",
    "            gini_dic[COMBINED_SCORE] = []\n",
    "        \n",
    "        gini_dic[FINAL_SCORE].append((2*roc_auc_score(df[df[\"MONTH\"]==x][TARGET1],df[df[\"MONTH\"]==x][FINAL_SCORE])-1)*100)\n",
    "        gini_dic[RISK_SCORE].append((2*roc_auc_score(df[df[\"MONTH\"]==x][TARGET1],df[df[\"MONTH\"]==x][RISK_SCORE])-1)*100)\n",
    "        gini_dic[COMBINED_SCORE].append((2*roc_auc_score(df[df[\"MONTH\"]==x][TARGET1],df[df[\"MONTH\"]==x][COMBINED_SCORE])-1)*100)\n",
    "        gini_dic[\"MONTH\"].append(x)\n",
    "#         for y in PREDICTOR_LIST:\n",
    "#             if y not in gini_dic:\n",
    "#                   gini_dic[y] = []\n",
    "#             gini_dic[y].append(((2*roc_auc_score(df[df[\"MONTH\"]==x][\"RISK_FSTQPD30\"],df[df[\"MONTH\"]==x][y])-1)*100))\n",
    "    except: \n",
    "        print(\"ERROR\")\n",
    "\n",
    "gini_df = pd.DataFrame(gini_dic)\n",
    "gini_df.sort_values(by = \"MONTH\",inplace = True)\n",
    "gini_df.reset_index(inplace = True)\n"
   ]
  },
  {
   "cell_type": "code",
   "execution_count": 87,
   "metadata": {
    "scrolled": true
   },
   "outputs": [
    {
     "data": {
      "image/png": "[encoded data removed]",
      "text/plain": [
       "<Figure size 720x360 with 1 Axes>"
      ]
     },
     "metadata": {
      "needs_background": "light"
     },
     "output_type": "display_data"
    }
   ],
   "source": [
    "fig = plt.figure(figsize = (10,5))\n",
    "ax1 = fig.add_subplot(1, 1, 1)\n",
    "ax1.plot(gini_df[\"MONTH\"],gini_df[\"XGB_SCORE\"], marker='o', scaley = False, label = \"XGB_SCORE\")\n",
    "ax1.plot(gini_df[\"MONTH\"],gini_df[RISK_SCORE], marker='o', scaley = False, label = \"HC_SCORE\")\n",
    "ax1.plot(gini_df[\"MONTH\"],gini_df[\"COMBINED_SCORE\"], marker='o', scaley = False, label= \"COMBINED_SCORE\")\n",
    "\n",
    "for i, txt in enumerate(gini_df[\"XGB_SCORE\"]):\n",
    "    plt.annotate(\"{:.1f}\".format(txt), (gini_df[\"MONTH\"][i], gini_df[\"XGB_SCORE\"][i]+0.9))\n",
    "for i, txt in enumerate(gini_df[RISK_SCORE]):\n",
    "    plt.annotate(\"{:.1f}\".format(txt), (gini_df[\"MONTH\"][i], gini_df[RISK_SCORE][i]-1.9))\n",
    "for i, txt in enumerate(gini_df[\"COMBINED_SCORE\"]):\n",
    "    plt.annotate(\"{:.1f}\".format(txt), (gini_df[\"MONTH\"][i], gini_df[\"COMBINED_SCORE\"][i]+0.9))\n",
    "\n",
    "plt.legend(loc='lower right', borderaxespad=0.1)\n",
    "plt.ylim(0,65)\n",
    "plt.ylabel(\"GINI\")\n",
    "plt.xlabel(\"MONTH\")\n",
    "plt.yticks(np.arange(0,65,2))\n",
    "ax1.set_title(\"MOM Gini\")\n",
    "plt.show()"
   ]
  },
  {
   "cell_type": "markdown",
   "metadata": {},
   "source": [
    "### MOM GINI: FSTPD30"
   ]
  },
  {
   "cell_type": "code",
   "execution_count": 88,
   "metadata": {},
   "outputs": [
    {
     "name": "stdout",
     "output_type": "stream",
     "text": [
      "ERROR\n",
      "ERROR\n"
     ]
    }
   ],
   "source": [
    "TARGET1 = 'RISK_FSTPD30'\n",
    "gini_dic = {}\n",
    "for x in df[\"MONTH\"].unique():\n",
    "    try:\n",
    "        if \"MONTH\" not in gini_dic:\n",
    "            gini_dic[\"MONTH\"] = []\n",
    "        if FINAL_SCORE not in gini_dic: \n",
    "            gini_dic[FINAL_SCORE] = []\n",
    "        if RISK_SCORE not in gini_dic: \n",
    "            gini_dic[RISK_SCORE] = []\n",
    "        if COMBINED_SCORE not in gini_dic: \n",
    "            gini_dic[COMBINED_SCORE] = []\n",
    "        \n",
    "        gini_dic[FINAL_SCORE].append((2*roc_auc_score(df[df[\"MONTH\"]==x][TARGET1],df[df[\"MONTH\"]==x][FINAL_SCORE])-1)*100)\n",
    "        gini_dic[RISK_SCORE].append((2*roc_auc_score(df[df[\"MONTH\"]==x][TARGET1],df[df[\"MONTH\"]==x][RISK_SCORE])-1)*100)\n",
    "        gini_dic[COMBINED_SCORE].append((2*roc_auc_score(df[df[\"MONTH\"]==x][TARGET1],df[df[\"MONTH\"]==x][COMBINED_SCORE])-1)*100)\n",
    "        gini_dic[\"MONTH\"].append(x)\n",
    "#         for y in PREDICTOR_LIST:\n",
    "#             if y not in gini_dic:\n",
    "#                   gini_dic[y] = []\n",
    "#             gini_dic[y].append(((2*roc_auc_score(df[df[\"MONTH\"]==x][\"RISK_FSTQPD30\"],df[df[\"MONTH\"]==x][y])-1)*100))\n",
    "    except: \n",
    "        print(\"ERROR\")\n",
    "\n",
    "gini_df = pd.DataFrame(gini_dic)\n",
    "gini_df.sort_values(by = \"MONTH\",inplace = True)\n",
    "gini_df.reset_index(inplace = True)\n"
   ]
  },
  {
   "cell_type": "code",
   "execution_count": 89,
   "metadata": {
    "scrolled": true
   },
   "outputs": [
    {
     "data": {
      "image/png": "[encoded data removed]",
      "text/plain": [
       "<Figure size 720x360 with 1 Axes>"
      ]
     },
     "metadata": {
      "needs_background": "light"
     },
     "output_type": "display_data"
    }
   ],
   "source": [
    "fig = plt.figure(figsize = (10,5))\n",
    "ax1 = fig.add_subplot(1, 1, 1)\n",
    "ax1.plot(gini_df[\"MONTH\"],gini_df[\"XGB_SCORE\"], marker='o', scaley = False, label = \"XGB_SCORE\")\n",
    "ax1.plot(gini_df[\"MONTH\"],gini_df[RISK_SCORE], marker='o', scaley = False, label = \"HC_SCORE\")\n",
    "ax1.plot(gini_df[\"MONTH\"],gini_df[\"COMBINED_SCORE\"], marker='o', scaley = False, label= \"COMBINED_SCORE\")\n",
    "\n",
    "for i, txt in enumerate(gini_df[\"XGB_SCORE\"]):\n",
    "    plt.annotate(\"{:.1f}\".format(txt), (gini_df[\"MONTH\"][i], gini_df[\"XGB_SCORE\"][i]+0.9))\n",
    "for i, txt in enumerate(gini_df[RISK_SCORE]):\n",
    "    plt.annotate(\"{:.1f}\".format(txt), (gini_df[\"MONTH\"][i], gini_df[RISK_SCORE][i]-1.9))\n",
    "for i, txt in enumerate(gini_df[\"COMBINED_SCORE\"]):\n",
    "    plt.annotate(\"{:.1f}\".format(txt), (gini_df[\"MONTH\"][i], gini_df[\"COMBINED_SCORE\"][i]+0.9))\n",
    "\n",
    "plt.legend(loc='lower right', borderaxespad=0.1)\n",
    "plt.ylim(0,65)\n",
    "plt.ylabel(\"GINI\")\n",
    "plt.xlabel(\"MONTH\")\n",
    "plt.yticks(np.arange(0,65,2))\n",
    "ax1.set_title(\"MOM Gini\")\n",
    "plt.show()"
   ]
  },
  {
   "cell_type": "code",
   "execution_count": null,
   "metadata": {},
   "outputs": [],
   "source": []
  }
 ],
 "metadata": {
  "kernelspec": {
   "display_name": "Python 3",
   "language": "python",
   "name": "python3"
  },
  "language_info": {
   "codemirror_mode": {
    "name": "ipython",
    "version": 3
   },
   "file_extension": ".py",
   "mimetype": "text/x-python",
   "name": "python",
   "nbconvert_exporter": "python",
   "pygments_lexer": "ipython3",
   "version": "3.7.3"
  }
 },
 "nbformat": 4,
 "nbformat_minor": 2
}
