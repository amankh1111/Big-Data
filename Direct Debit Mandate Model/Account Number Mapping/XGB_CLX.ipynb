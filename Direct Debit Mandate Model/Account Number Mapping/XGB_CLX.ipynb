{
 "cells": [
  {
   "cell_type": "code",
   "execution_count": 1,
   "metadata": {},
   "outputs": [],
   "source": [
    "import xgboost as xgb\n",
    "import numpy as np\n",
    "import pandas as pd\n",
    "import time\n",
    "import pickle\n",
    "import os\n",
    "from math import log\n",
    "import matplotlib.pyplot as plt\n",
    "\n",
    "import sklearn\n",
    "from sklearn.model_selection import train_test_split, GridSearchCV, RandomizedSearchCV, ParameterGrid,StratifiedKFold, cross_val_score\n",
    "\n",
    "from sklearn import metrics \n",
    "from sklearn.metrics import confusion_matrix, precision_recall_curve, average_precision_score, brier_score_loss, f1_score, log_loss,auc,roc_curve,auc\n",
    "\n",
    "from sklearn.linear_model import LogisticRegression, LogisticRegressionCV\n",
    "from sklearn.ensemble import RandomForestClassifier\n",
    "\n",
    "from sklearn.decomposition import PCA\n",
    "#from sklearn.utils.fixes import signature\n",
    "\n",
    "from datetime import datetime\n",
    "\n",
    "import warnings\n",
    "warnings.filterwarnings(\"ignore\", category=DeprecationWarning)"
   ]
  },
  {
   "cell_type": "code",
   "execution_count": 2,
   "metadata": {},
   "outputs": [],
   "source": [
    "os.chdir(r\"C:\\Users\\aman.khatri91425\\Desktop\\HomeCredit\\Bigdata\\Techprocess Alternate\")"
   ]
  },
  {
   "cell_type": "code",
   "execution_count": 3,
   "metadata": {},
   "outputs": [],
   "source": [
    "##read datasets\n",
    "df=pd.read_csv(os.getcwd()+r\"\\Data Files\\ddm2.csv\")"
   ]
  },
  {
   "cell_type": "code",
   "execution_count": 4,
   "metadata": {},
   "outputs": [
    {
     "data": {
      "text/html": [
       "<div>\n",
       "<style scoped>\n",
       "    .dataframe tbody tr th:only-of-type {\n",
       "        vertical-align: middle;\n",
       "    }\n",
       "\n",
       "    .dataframe tbody tr th {\n",
       "        vertical-align: top;\n",
       "    }\n",
       "\n",
       "    .dataframe thead th {\n",
       "        text-align: right;\n",
       "    }\n",
       "</style>\n",
       "<table border=\"1\" class=\"dataframe\">\n",
       "  <thead>\n",
       "    <tr style=\"text-align: right;\">\n",
       "      <th></th>\n",
       "      <th>SKP_CREDIT_CASE</th>\n",
       "      <th>TIME_DECISION_DATE</th>\n",
       "      <th>RISK_AGRF180</th>\n",
       "      <th>RISK_FPD30</th>\n",
       "      <th>RISK_FSPD30</th>\n",
       "      <th>RISK_FSTPD30</th>\n",
       "      <th>RISK_FSTQPD30</th>\n",
       "      <th>RISK_FSTQPD60</th>\n",
       "      <th>PRODUCT_GROUP</th>\n",
       "      <th>NTC_FLAG</th>\n",
       "      <th>...</th>\n",
       "      <th>CODE_4</th>\n",
       "      <th>AMT_4</th>\n",
       "      <th>DATE_5</th>\n",
       "      <th>REASON_5</th>\n",
       "      <th>CODE_5</th>\n",
       "      <th>AMT_5</th>\n",
       "      <th>DATE_6</th>\n",
       "      <th>REASON_6</th>\n",
       "      <th>CODE_6</th>\n",
       "      <th>AMT_6</th>\n",
       "    </tr>\n",
       "  </thead>\n",
       "  <tbody>\n",
       "    <tr>\n",
       "      <th>0</th>\n",
       "      <td>285845893</td>\n",
       "      <td>03-12-19</td>\n",
       "      <td>1</td>\n",
       "      <td>0</td>\n",
       "      <td>0</td>\n",
       "      <td>0</td>\n",
       "      <td>0</td>\n",
       "      <td>0</td>\n",
       "      <td>CD</td>\n",
       "      <td>Others</td>\n",
       "      <td>...</td>\n",
       "      <td>Undebited</td>\n",
       "      <td>1494.0</td>\n",
       "      <td>NaN</td>\n",
       "      <td>NaN</td>\n",
       "      <td>NaN</td>\n",
       "      <td>NaN</td>\n",
       "      <td>NaN</td>\n",
       "      <td>NaN</td>\n",
       "      <td>NaN</td>\n",
       "      <td>NaN</td>\n",
       "    </tr>\n",
       "    <tr>\n",
       "      <th>1</th>\n",
       "      <td>284098222</td>\n",
       "      <td>21-11-19</td>\n",
       "      <td>1</td>\n",
       "      <td>0</td>\n",
       "      <td>0</td>\n",
       "      <td>0</td>\n",
       "      <td>0</td>\n",
       "      <td>0</td>\n",
       "      <td>CL</td>\n",
       "      <td>Others</td>\n",
       "      <td>...</td>\n",
       "      <td>Debited</td>\n",
       "      <td>1981.0</td>\n",
       "      <td>05-04-19</td>\n",
       "      <td>XNA</td>\n",
       "      <td>Debited</td>\n",
       "      <td>1981.0</td>\n",
       "      <td>05-03-19</td>\n",
       "      <td>XNA</td>\n",
       "      <td>Debited</td>\n",
       "      <td>1981.0</td>\n",
       "    </tr>\n",
       "    <tr>\n",
       "      <th>2</th>\n",
       "      <td>283629512</td>\n",
       "      <td>18-11-19</td>\n",
       "      <td>1</td>\n",
       "      <td>0</td>\n",
       "      <td>0</td>\n",
       "      <td>0</td>\n",
       "      <td>0</td>\n",
       "      <td>0</td>\n",
       "      <td>CL</td>\n",
       "      <td>Others</td>\n",
       "      <td>...</td>\n",
       "      <td>Debited</td>\n",
       "      <td>2799.0</td>\n",
       "      <td>24-06-19</td>\n",
       "      <td>XNA</td>\n",
       "      <td>Debited</td>\n",
       "      <td>2799.0</td>\n",
       "      <td>24-05-19</td>\n",
       "      <td>XNA</td>\n",
       "      <td>Debited</td>\n",
       "      <td>2799.0</td>\n",
       "    </tr>\n",
       "    <tr>\n",
       "      <th>3</th>\n",
       "      <td>283214118</td>\n",
       "      <td>15-11-19</td>\n",
       "      <td>1</td>\n",
       "      <td>0</td>\n",
       "      <td>0</td>\n",
       "      <td>0</td>\n",
       "      <td>0</td>\n",
       "      <td>0</td>\n",
       "      <td>CL</td>\n",
       "      <td>Others</td>\n",
       "      <td>...</td>\n",
       "      <td>Debited</td>\n",
       "      <td>1369.0</td>\n",
       "      <td>16-02-17</td>\n",
       "      <td>0</td>\n",
       "      <td>Debited</td>\n",
       "      <td>500.0</td>\n",
       "      <td>27-01-17</td>\n",
       "      <td>0</td>\n",
       "      <td>Debited</td>\n",
       "      <td>869.0</td>\n",
       "    </tr>\n",
       "    <tr>\n",
       "      <th>4</th>\n",
       "      <td>283214108</td>\n",
       "      <td>15-11-19</td>\n",
       "      <td>1</td>\n",
       "      <td>0</td>\n",
       "      <td>0</td>\n",
       "      <td>0</td>\n",
       "      <td>0</td>\n",
       "      <td>0</td>\n",
       "      <td>CD</td>\n",
       "      <td>Others</td>\n",
       "      <td>...</td>\n",
       "      <td>Debited</td>\n",
       "      <td>2497.0</td>\n",
       "      <td>17-01-17</td>\n",
       "      <td>0</td>\n",
       "      <td>Debited</td>\n",
       "      <td>2497.0</td>\n",
       "      <td>17-12-16</td>\n",
       "      <td>0</td>\n",
       "      <td>Debited</td>\n",
       "      <td>2497.0</td>\n",
       "    </tr>\n",
       "  </tbody>\n",
       "</table>\n",
       "<p>5 rows × 36 columns</p>\n",
       "</div>"
      ],
      "text/plain": [
       "   SKP_CREDIT_CASE TIME_DECISION_DATE  RISK_AGRF180  RISK_FPD30  RISK_FSPD30  \\\n",
       "0        285845893           03-12-19             1           0            0   \n",
       "1        284098222           21-11-19             1           0            0   \n",
       "2        283629512           18-11-19             1           0            0   \n",
       "3        283214118           15-11-19             1           0            0   \n",
       "4        283214108           15-11-19             1           0            0   \n",
       "\n",
       "   RISK_FSTPD30  RISK_FSTQPD30  RISK_FSTQPD60 PRODUCT_GROUP NTC_FLAG  ...  \\\n",
       "0             0              0              0            CD   Others  ...   \n",
       "1             0              0              0            CL   Others  ...   \n",
       "2             0              0              0            CL   Others  ...   \n",
       "3             0              0              0            CL   Others  ...   \n",
       "4             0              0              0            CD   Others  ...   \n",
       "\n",
       "      CODE_4   AMT_4    DATE_5 REASON_5   CODE_5   AMT_5    DATE_6 REASON_6  \\\n",
       "0  Undebited  1494.0       NaN      NaN      NaN     NaN       NaN      NaN   \n",
       "1    Debited  1981.0  05-04-19      XNA  Debited  1981.0  05-03-19      XNA   \n",
       "2    Debited  2799.0  24-06-19      XNA  Debited  2799.0  24-05-19      XNA   \n",
       "3    Debited  1369.0  16-02-17        0  Debited   500.0  27-01-17        0   \n",
       "4    Debited  2497.0  17-01-17        0  Debited  2497.0  17-12-16        0   \n",
       "\n",
       "    CODE_6   AMT_6  \n",
       "0      NaN     NaN  \n",
       "1  Debited  1981.0  \n",
       "2  Debited  2799.0  \n",
       "3  Debited   869.0  \n",
       "4  Debited  2497.0  \n",
       "\n",
       "[5 rows x 36 columns]"
      ]
     },
     "execution_count": 4,
     "metadata": {},
     "output_type": "execute_result"
    }
   ],
   "source": [
    "df.head()"
   ]
  },
  {
   "cell_type": "code",
   "execution_count": 5,
   "metadata": {},
   "outputs": [
    {
     "data": {
      "text/plain": [
       "0      556876\n",
       "XNA    120674\n",
       "            1\n",
       "Name: REASON_1, dtype: int64"
      ]
     },
     "execution_count": 5,
     "metadata": {},
     "output_type": "execute_result"
    }
   ],
   "source": [
    "df[df[\"CODE_1\"]=='Debited'].REASON_1.value_counts()"
   ]
  },
  {
   "cell_type": "code",
   "execution_count": 6,
   "metadata": {},
   "outputs": [
    {
     "data": {
      "text/plain": [
       "Debited      677551\n",
       "Undebited    287959\n",
       "Posted         4105\n",
       "Name: CODE_1, dtype: int64"
      ]
     },
     "execution_count": 6,
     "metadata": {},
     "output_type": "execute_result"
    }
   ],
   "source": [
    "df[\"CODE_1\"].value_counts()"
   ]
  },
  {
   "cell_type": "code",
   "execution_count": 7,
   "metadata": {},
   "outputs": [
    {
     "data": {
      "text/plain": [
       "Balance Insufficient                                                                                    208590\n",
       "CLEARED BAL/FUNDS/DP NOT AVAILABLE.CARE! ACCT WILL BE OVERDRAWN                               000000     37142\n",
       "DP NOT AVAILABLE. ACCT CANNOT BE OVERDRAWN                                                                9995\n",
       "CLEARED BAL/FUNDS/DP NOT AVAILABLE.CARE! ACCT WILL BE OVERDRAWN                                           5610\n",
       "4                                                                                                         4491\n",
       "ACCT HAS HOLD. INSUFFICIENT FREE BAL FOR TXN                                                              2857\n",
       "999                                                                                                       2653\n",
       "A/C Blocked or Frozen                                                                                     2283\n",
       "101                                                                                                       2200\n",
       "Not Arranged For                                                                                          1107\n",
       "Miscellaneous-Dormant A/c(No t                                                                             744\n",
       "XNA                                                                                                        719\n",
       "Miscellaneous-Dormant A/c(No                                                                               687\n",
       "Miscellaneous-Network Failure(                                                                             670\n",
       "Miscellaneous-Network Failur                                                                               643\n",
       "CLEARED BAL/FUNDS/DP NOT AVAILABLE.CARE! ACCT WILL BE OVERDRAWN                                            610\n",
       "Customer to refer to the br                                                                                408\n",
       "PERIDICITY FOR MANDATE RECORD IS OVER                                                                      389\n",
       "Mismatch in mandate debtor b                                                                               340\n",
       "Account Closed or Transferred                                                                              313\n",
       "Invalid UMRN or inactive man                                                                               294\n",
       "CLEARED BAL/FUNDS/DP NOT AVAILABLE.CARE! ACCT WILL BE OVERDRAWN                                            289\n",
       "NON-Home debit txn on Inoperative/Unclaimed a/c NOT allowed                                                214\n",
       "Miscellaneous-Account reached                                                                              211\n",
       "MANDATE REJECT: No Signature in CBS                                                                        200\n",
       "CLEARED BAL/FUNDS/DP NOT AVAILABLE.CARE! ACCT WILL BE OVERDRAWN                                            197\n",
       "CLEARED BAL/FUNDS/DP NOT AVAILABLE.CARE! ACCT WILL BE OVERDRAWN                                            166\n",
       "ACCOUNT CLOSED                                                                                             159\n",
       "CLEARED BAL/FUNDS/DP NOT AVAILABLE.CARE! ACCT WILL BE OVERDRAWN                                            159\n",
       "CLEARED BAL/FUNDS/DP NOT AVAILABLE.CARE! ACCT WILL BE OVERDRAWN                                            154\n",
       "                                                                                                         ...  \n",
       "03549686221082019                                                                                            1\n",
       "03571374921082019                                                                                            1\n",
       "03549537621082019                                                                                            1\n",
       "03553942821082019                                                                                            1\n",
       "03537255521082019                                                                                            1\n",
       "03548745621082019                                                                                            1\n",
       "MISCELLANEOUS                                                                                                1\n",
       "03543012321082019                                                                                            1\n",
       "03542031121082019                                                                                            1\n",
       "03568832521082019                                                                                            1\n",
       "03549423321082019                                                                                            1\n",
       "03542006321082019                                                                                            1\n",
       "03542696321082019                                                                                            1\n",
       "03544504021082019                                                                                            1\n",
       "03534742421082019                                                                                            1\n",
       "03541846721082019                                                                                            1\n",
       "03553512521082019                                                                                            1\n",
       "DEBIT TO AN NPA ACCOUNT                                                                                      1\n",
       "03566580521082019                                                                                            1\n",
       "03565835021082019                                                                                            1\n",
       "03556886021082019                                                                                            1\n",
       "03555503921082019                                                                                            1\n",
       "03554050321082019                                                                                            1\n",
       "03566683521082019                                                                                            1\n",
       "03547934121082019                                                                                            1\n",
       "03554705821082019                                                                                            1\n",
       "03572096521082019                                                                                            1\n",
       "03553434321082019                                                                                            1\n",
       "03575457221082019                                                                                            1\n",
       "03561464421082019                                                                                            1\n",
       "Name: REASON_1, Length: 264, dtype: int64"
      ]
     },
     "execution_count": 7,
     "metadata": {},
     "output_type": "execute_result"
    }
   ],
   "source": [
    "df[df[\"CODE_1\"]=='Undebited'].REASON_1.value_counts()"
   ]
  },
  {
   "cell_type": "code",
   "execution_count": 8,
   "metadata": {},
   "outputs": [],
   "source": [
    "coding_dict={'Balance Insufficient':'WILLFULL DEFAULTS',\n",
    "'CLEARED BAL/FUNDS/DP NOT AVAILABLE.CARE! ACCT WILL BE OVERDRAWN                               000000':'WILLFULL DEFAULTS',\n",
    "'DP NOT AVAILABLE. ACCT CANNOT BE OVERDRAWN':'WILLFULL DEFAULTS',\n",
    "'CLEARED BAL/FUNDS/DP NOT AVAILABLE.CARE! ACCT WILL BE OVERDRAWN':'WILLFULL DEFAULTS',\n",
    "'ACCT HAS HOLD. INSUFFICIENT FREE BAL FOR TXN':'WILLFULL DEFAULTS',\n",
    "'INSUFFICIENT FUNDS':'WILLFULL DEFAULTS',\n",
    "'CODE_DDS_ERROR_REASON':'PROCESS ISSUE',\n",
    "'A/C Blocked or Frozen':'PROCESS ISSUE',\n",
    "'Miscellaneous-Dormant A/c(No t':'PROCESS ISSUE',\n",
    "'Miscellaneous-Dormant A/c(No':'PROCESS ISSUE',\n",
    "'UMRN QUOTED IN FILE IS NOT VALID':'PROCESS ISSUE',\n",
    "'NON-Home debit txn on Inoperative/Unclaimed a/c NOT allowed':'PROCESS ISSUE',\n",
    "'Invalid UMRN or inactive man':'PROCESS ISSUE',\n",
    "'ACCOUNT CLOSED':'PROCESS ISSUE',\n",
    "'PERIDICITY FOR MANDATE RECORD IS OVER':'PROCESS ISSUE',\n",
    "'Settlement Date before manda':'PROCESS ISSUE',\n",
    "'Invalid UMRN or inactive mandate':'PROCESS ISSUE',\n",
    "'MANDATE REJECT: No Signature in CBS':'PROCESS ISSUE',\n",
    "'Mismatch in mandate debtor b':'PROCESS ISSUE',\n",
    "'MANDATE RECORD IS NOT AUTHORISED':'PROCESS ISSUE',\n",
    "'Invalid Bank Identifier - Rece':'PROCESS ISSUE',\n",
    "'Miscellaneous-Network Failure(':'PROCESS ISSUE',\n",
    "'Mandate Not Received/UMRN Do':'PROCESS ISSUE',\n",
    "'Invalid Bank Identifier - Receiving participant blocked/disabled':'PROCESS ISSUE',\n",
    "'Mismatch in Mandate Debtor A':'PROCESS ISSUE',\n",
    "'Mandate Not Received/UMRN Does not EXist':'PROCESS ISSUE',\n",
    "'Miscellaneous-Dormant A/c(No transaction for last six months':'PROCESS ISSUE',\n",
    "'0':'DEBITED',\n",
    "'XNA':'DEBITED',\n",
    "            }"
   ]
  },
  {
   "cell_type": "code",
   "execution_count": 9,
   "metadata": {},
   "outputs": [],
   "source": [
    "def encoding(x):\n",
    "    try:\n",
    "        return(coding_dict[x])\n",
    "    except:\n",
    "        return (\"Others\")"
   ]
  },
  {
   "cell_type": "code",
   "execution_count": 10,
   "metadata": {},
   "outputs": [],
   "source": [
    "df[\"REASON_1_ENCODED\"]= df[\"REASON_1\"].apply(encoding)\n",
    "df[\"REASON_2_ENCODED\"]= df[\"REASON_2\"].apply(encoding)\n",
    "df[\"REASON_3_ENCODED\"]= df[\"REASON_3\"].apply(encoding)\n",
    "df[\"REASON_4_ENCODED\"]= df[\"REASON_4\"].apply(encoding)\n",
    "df[\"REASON_5_ENCODED\"]= df[\"REASON_5\"].apply(encoding)\n",
    "df[\"REASON_6_ENCODED\"]= df[\"REASON_6\"].apply(encoding)\n"
   ]
  },
  {
   "cell_type": "code",
   "execution_count": 11,
   "metadata": {},
   "outputs": [
    {
     "data": {
      "text/plain": [
       "Index(['SKP_CREDIT_CASE', 'TIME_DECISION_DATE', 'RISK_AGRF180', 'RISK_FPD30',\n",
       "       'RISK_FSPD30', 'RISK_FSTPD30', 'RISK_FSTQPD30', 'RISK_FSTQPD60',\n",
       "       'PRODUCT_GROUP', 'NTC_FLAG', 'RISK_SCORE', 'AMT_DIRECT_DEBIT_STATEMENT',\n",
       "       'DATE_1', 'REASON_1', 'CODE_1', 'AMT_1', 'DATE_2', 'REASON_2', 'CODE_2',\n",
       "       'AMT_2', 'DATE_3', 'REASON_3', 'CODE_3', 'AMT_3', 'DATE_4', 'REASON_4',\n",
       "       'CODE_4', 'AMT_4', 'DATE_5', 'REASON_5', 'CODE_5', 'AMT_5', 'DATE_6',\n",
       "       'REASON_6', 'CODE_6', 'AMT_6', 'REASON_1_ENCODED', 'REASON_2_ENCODED',\n",
       "       'REASON_3_ENCODED', 'REASON_4_ENCODED', 'REASON_5_ENCODED',\n",
       "       'REASON_6_ENCODED'],\n",
       "      dtype='object')"
      ]
     },
     "execution_count": 11,
     "metadata": {},
     "output_type": "execute_result"
    }
   ],
   "source": [
    "df.columns"
   ]
  },
  {
   "cell_type": "code",
   "execution_count": 12,
   "metadata": {},
   "outputs": [],
   "source": [
    "df.dropna(subset=['RISK_SCORE'],inplace=True)"
   ]
  },
  {
   "cell_type": "code",
   "execution_count": 13,
   "metadata": {},
   "outputs": [],
   "source": [
    "df = df[(df[\"PRODUCT_GROUP\"]==\"CL\")]"
   ]
  },
  {
   "cell_type": "code",
   "execution_count": 14,
   "metadata": {},
   "outputs": [
    {
     "data": {
      "text/plain": [
       "<matplotlib.axes._subplots.AxesSubplot at 0x1d909c51278>"
      ]
     },
     "execution_count": 14,
     "metadata": {},
     "output_type": "execute_result"
    },
    {
     "data": {
      "image/png": "[encoded data removed]",
      "text/plain": [
       "<Figure size 432x288 with 1 Axes>"
      ]
     },
     "metadata": {
      "needs_background": "light"
     },
     "output_type": "display_data"
    }
   ],
   "source": [
    "# Check distribution of scores\n",
    "pd.Series(df['RISK_SCORE']).plot.hist(bins=10, range=(0,0.08) ,color='#607c8e')"
   ]
  },
  {
   "cell_type": "code",
   "execution_count": 15,
   "metadata": {},
   "outputs": [
    {
     "name": "stdout",
     "output_type": "stream",
     "text": [
      "HCIN SCORE GINI: 0.3387430650672323\n"
     ]
    }
   ],
   "source": [
    "hcc_score='RISK_SCORE'\n",
    "\n",
    "# HCC score Gini         \n",
    "metric_auc_hcc = metrics.roc_auc_score(df['RISK_FSTQPD30'], df[hcc_score])\n",
    "gini_hcc_only = 2 * metric_auc_hcc - 1\n",
    "print(\"HCIN SCORE GINI:\" ,gini_hcc_only)"
   ]
  },
  {
   "cell_type": "code",
   "execution_count": 16,
   "metadata": {},
   "outputs": [],
   "source": [
    "df[\"TIME_DECISION_DATE\"] = pd.to_datetime(df[\"TIME_DECISION_DATE\"],format ='%d-%m-%y')\n",
    "\n",
    "df[\"MONTH\"]= df[\"TIME_DECISION_DATE\"].dt.strftime(\"%y-%m\")"
   ]
  },
  {
   "cell_type": "code",
   "execution_count": 17,
   "metadata": {},
   "outputs": [],
   "source": [
    "df_summ = df.groupby(\"MONTH\").aggregate([\"count\",\"sum\"])[\"RISK_FSTQPD30\"]\n",
    "df_summ[\"bad_rate\"] = df_summ[\"sum\"]/df_summ[\"count\"]"
   ]
  },
  {
   "cell_type": "code",
   "execution_count": 18,
   "metadata": {},
   "outputs": [
    {
     "data": {
      "image/png": "[encoded data removed]",
      "text/plain": [
       "<Figure size 1080x288 with 2 Axes>"
      ]
     },
     "metadata": {
      "needs_background": "light"
     },
     "output_type": "display_data"
    }
   ],
   "source": [
    "df_summ[['sum','count']].plot(kind='bar', width = 0.8, figsize=(15,4))\n",
    "df_summ['bad_rate'].plot(secondary_y=True)\n",
    "\n",
    "ax = plt.gca()\n",
    "plt.xlim([-0.35, len(df_summ['sum'])-0.35])\n",
    "ax.set_xticklabels(df_summ.index)\n",
    "plt.ylim\n",
    "fig = ax.get_figure()\n",
    "ax = fig.get_axes()\n",
    "ax[1].set_ylim(0,0.15)\n",
    "ax[0].legend(['CD_Contracts','CD_Defaults'])\n",
    "ax[1].legend([\"Default Rate\"], loc = \"center right\")\n",
    "\n",
    "\n",
    "plt.show()\n"
   ]
  },
  {
   "cell_type": "code",
   "execution_count": 19,
   "metadata": {},
   "outputs": [
    {
     "name": "stdout",
     "output_type": "stream",
     "text": [
      "19-11 0.45547534197925477\n",
      "19-10 0.3669670618634826\n",
      "19-09 0.39048999045160837\n",
      "19-08 0.38214937822084605\n",
      "19-07 0.33339519658305905\n",
      "19-06 0.34177447630459934\n",
      "19-05 0.3410380741007055\n",
      "19-04 0.3212941862897276\n",
      "19-03 0.31608506743615483\n",
      "19-02 0.3266307724402395\n",
      "19-01 0.3293593315500327\n"
     ]
    }
   ],
   "source": [
    "#MOM Gini Risk Score\n",
    "for x in df[\"MONTH\"].unique():\n",
    "    try:   \n",
    "        metric_auc_hcc = metrics.roc_auc_score(df[df[\"MONTH\"]==x]['RISK_FSTQPD30'], df[df[\"MONTH\"]==x][hcc_score])\n",
    "        gini_hcc_only = 2 * metric_auc_hcc - 1\n",
    "        print(x ,gini_hcc_only)  \n",
    "    except:\n",
    "        print(\"ERROR\")"
   ]
  },
  {
   "cell_type": "code",
   "execution_count": 20,
   "metadata": {},
   "outputs": [],
   "source": [
    "df[\"DATE_1\"] = pd.to_datetime(df[\"DATE_1\"],format ='%d-%m-%y')\n",
    "df[\"DATE_2\"] = pd.to_datetime(df[\"DATE_2\"],format ='%d-%m-%y')\n",
    "df[\"DATE_3\"] = pd.to_datetime(df[\"DATE_3\"],format ='%d-%m-%y')\n",
    "df[\"DATE_4\"] = pd.to_datetime(df[\"DATE_4\"],format ='%d-%m-%y')\n",
    "df[\"DATE_5\"] = pd.to_datetime(df[\"DATE_5\"],format ='%d-%m-%y')\n",
    "df[\"DATE_6\"] = pd.to_datetime(df[\"DATE_6\"],format ='%d-%m-%y')"
   ]
  },
  {
   "cell_type": "code",
   "execution_count": 21,
   "metadata": {},
   "outputs": [],
   "source": [
    "#Tenure Variables \n",
    "df[\"TENURE1\"] = (df[\"TIME_DECISION_DATE\"]-df[\"DATE_1\"]).dt.days\n",
    "df[\"TENURE2\"] = (df[\"TIME_DECISION_DATE\"]-df[\"DATE_2\"]).dt.days\n",
    "df[\"TENURE3\"] = (df[\"TIME_DECISION_DATE\"]-df[\"DATE_3\"]).dt.days\n",
    "df[\"TENURE4\"] = (df[\"TIME_DECISION_DATE\"]-df[\"DATE_4\"]).dt.days\n",
    "df[\"TENURE5\"] = (df[\"TIME_DECISION_DATE\"]-df[\"DATE_5\"]).dt.days\n",
    "df[\"TENURE6\"] = (df[\"TIME_DECISION_DATE\"]-df[\"DATE_6\"]).dt.days\n",
    "\n",
    "\n"
   ]
  },
  {
   "cell_type": "code",
   "execution_count": 22,
   "metadata": {},
   "outputs": [],
   "source": [
    "#One Hot Encoding\n",
    "df_encoded = df\n",
    "for x in [\"CODE_1\",\"CODE_2\",\"CODE_3\",\"CODE_4\",\"CODE_5\",\"CODE_6\",'REASON_1_ENCODED', 'REASON_2_ENCODED',\n",
    "       'REASON_3_ENCODED', 'REASON_4_ENCODED', 'REASON_5_ENCODED',\n",
    "       'REASON_6_ENCODED']:\n",
    "    \n",
    "    dummy = pd.get_dummies(df_encoded[x])\n",
    "    dummy.columns = [y+\"_\"+x for y in dummy.columns]\n",
    "    df_encoded = pd.concat([df_encoded, dummy], axis=1)"
   ]
  },
  {
   "cell_type": "code",
   "execution_count": 23,
   "metadata": {},
   "outputs": [
    {
     "data": {
      "text/html": [
       "<div>\n",
       "<style scoped>\n",
       "    .dataframe tbody tr th:only-of-type {\n",
       "        vertical-align: middle;\n",
       "    }\n",
       "\n",
       "    .dataframe tbody tr th {\n",
       "        vertical-align: top;\n",
       "    }\n",
       "\n",
       "    .dataframe thead th {\n",
       "        text-align: right;\n",
       "    }\n",
       "</style>\n",
       "<table border=\"1\" class=\"dataframe\">\n",
       "  <thead>\n",
       "    <tr style=\"text-align: right;\">\n",
       "      <th></th>\n",
       "      <th>count</th>\n",
       "      <th>mean</th>\n",
       "      <th>std</th>\n",
       "      <th>min</th>\n",
       "      <th>25%</th>\n",
       "      <th>50%</th>\n",
       "      <th>75%</th>\n",
       "      <th>max</th>\n",
       "    </tr>\n",
       "  </thead>\n",
       "  <tbody>\n",
       "    <tr>\n",
       "      <th>SKP_CREDIT_CASE</th>\n",
       "      <td>280479.0</td>\n",
       "      <td>2.399661e+08</td>\n",
       "      <td>1.544541e+07</td>\n",
       "      <td>2.200980e+08</td>\n",
       "      <td>2.287341e+08</td>\n",
       "      <td>2.368238e+08</td>\n",
       "      <td>2.461336e+08</td>\n",
       "      <td>2.840982e+08</td>\n",
       "    </tr>\n",
       "    <tr>\n",
       "      <th>RISK_AGRF180</th>\n",
       "      <td>280479.0</td>\n",
       "      <td>1.000000e+00</td>\n",
       "      <td>0.000000e+00</td>\n",
       "      <td>1.000000e+00</td>\n",
       "      <td>1.000000e+00</td>\n",
       "      <td>1.000000e+00</td>\n",
       "      <td>1.000000e+00</td>\n",
       "      <td>1.000000e+00</td>\n",
       "    </tr>\n",
       "    <tr>\n",
       "      <th>RISK_FPD30</th>\n",
       "      <td>280479.0</td>\n",
       "      <td>2.620517e-03</td>\n",
       "      <td>5.112396e-02</td>\n",
       "      <td>0.000000e+00</td>\n",
       "      <td>0.000000e+00</td>\n",
       "      <td>0.000000e+00</td>\n",
       "      <td>0.000000e+00</td>\n",
       "      <td>1.000000e+00</td>\n",
       "    </tr>\n",
       "    <tr>\n",
       "      <th>RISK_FSPD30</th>\n",
       "      <td>280479.0</td>\n",
       "      <td>1.120226e-02</td>\n",
       "      <td>1.052464e-01</td>\n",
       "      <td>0.000000e+00</td>\n",
       "      <td>0.000000e+00</td>\n",
       "      <td>0.000000e+00</td>\n",
       "      <td>0.000000e+00</td>\n",
       "      <td>1.000000e+00</td>\n",
       "    </tr>\n",
       "    <tr>\n",
       "      <th>RISK_FSTPD30</th>\n",
       "      <td>280479.0</td>\n",
       "      <td>2.198026e-02</td>\n",
       "      <td>1.466192e-01</td>\n",
       "      <td>0.000000e+00</td>\n",
       "      <td>0.000000e+00</td>\n",
       "      <td>0.000000e+00</td>\n",
       "      <td>0.000000e+00</td>\n",
       "      <td>1.000000e+00</td>\n",
       "    </tr>\n",
       "    <tr>\n",
       "      <th>RISK_FSTQPD30</th>\n",
       "      <td>280479.0</td>\n",
       "      <td>3.346775e-02</td>\n",
       "      <td>1.798549e-01</td>\n",
       "      <td>0.000000e+00</td>\n",
       "      <td>0.000000e+00</td>\n",
       "      <td>0.000000e+00</td>\n",
       "      <td>0.000000e+00</td>\n",
       "      <td>1.000000e+00</td>\n",
       "    </tr>\n",
       "    <tr>\n",
       "      <th>RISK_FSTQPD60</th>\n",
       "      <td>280479.0</td>\n",
       "      <td>2.516409e-02</td>\n",
       "      <td>1.566236e-01</td>\n",
       "      <td>0.000000e+00</td>\n",
       "      <td>0.000000e+00</td>\n",
       "      <td>0.000000e+00</td>\n",
       "      <td>0.000000e+00</td>\n",
       "      <td>1.000000e+00</td>\n",
       "    </tr>\n",
       "    <tr>\n",
       "      <th>RISK_SCORE</th>\n",
       "      <td>280479.0</td>\n",
       "      <td>6.119168e-03</td>\n",
       "      <td>5.417417e-03</td>\n",
       "      <td>1.616712e-04</td>\n",
       "      <td>2.867903e-03</td>\n",
       "      <td>4.908466e-03</td>\n",
       "      <td>7.908710e-03</td>\n",
       "      <td>3.357799e-01</td>\n",
       "    </tr>\n",
       "    <tr>\n",
       "      <th>AMT_DIRECT_DEBIT_STATEMENT</th>\n",
       "      <td>280479.0</td>\n",
       "      <td>2.522600e+03</td>\n",
       "      <td>1.696594e+03</td>\n",
       "      <td>0.000000e+00</td>\n",
       "      <td>1.482000e+03</td>\n",
       "      <td>1.899000e+03</td>\n",
       "      <td>2.880000e+03</td>\n",
       "      <td>1.820500e+04</td>\n",
       "    </tr>\n",
       "    <tr>\n",
       "      <th>AMT_1</th>\n",
       "      <td>278859.0</td>\n",
       "      <td>2.364758e+03</td>\n",
       "      <td>1.641993e+03</td>\n",
       "      <td>0.000000e+00</td>\n",
       "      <td>1.396000e+03</td>\n",
       "      <td>1.784000e+03</td>\n",
       "      <td>2.612500e+03</td>\n",
       "      <td>1.807200e+04</td>\n",
       "    </tr>\n",
       "    <tr>\n",
       "      <th>AMT_2</th>\n",
       "      <td>271781.0</td>\n",
       "      <td>2.379180e+03</td>\n",
       "      <td>1.656687e+03</td>\n",
       "      <td>0.000000e+00</td>\n",
       "      <td>1.399000e+03</td>\n",
       "      <td>1.790000e+03</td>\n",
       "      <td>2.638000e+03</td>\n",
       "      <td>1.820500e+04</td>\n",
       "    </tr>\n",
       "    <tr>\n",
       "      <th>AMT_3</th>\n",
       "      <td>264823.0</td>\n",
       "      <td>2.390622e+03</td>\n",
       "      <td>1.666406e+03</td>\n",
       "      <td>0.000000e+00</td>\n",
       "      <td>1.400000e+03</td>\n",
       "      <td>1.797000e+03</td>\n",
       "      <td>2.649000e+03</td>\n",
       "      <td>1.820500e+04</td>\n",
       "    </tr>\n",
       "    <tr>\n",
       "      <th>AMT_4</th>\n",
       "      <td>256858.0</td>\n",
       "      <td>2.394019e+03</td>\n",
       "      <td>1.670383e+03</td>\n",
       "      <td>0.000000e+00</td>\n",
       "      <td>1.399000e+03</td>\n",
       "      <td>1.795000e+03</td>\n",
       "      <td>2.651000e+03</td>\n",
       "      <td>1.820500e+04</td>\n",
       "    </tr>\n",
       "    <tr>\n",
       "      <th>AMT_5</th>\n",
       "      <td>247251.0</td>\n",
       "      <td>2.399186e+03</td>\n",
       "      <td>1.677859e+03</td>\n",
       "      <td>0.000000e+00</td>\n",
       "      <td>1.399000e+03</td>\n",
       "      <td>1.793000e+03</td>\n",
       "      <td>2.654000e+03</td>\n",
       "      <td>1.820500e+04</td>\n",
       "    </tr>\n",
       "    <tr>\n",
       "      <th>AMT_6</th>\n",
       "      <td>228657.0</td>\n",
       "      <td>2.428224e+03</td>\n",
       "      <td>1.703182e+03</td>\n",
       "      <td>0.000000e+00</td>\n",
       "      <td>1.399000e+03</td>\n",
       "      <td>1.800280e+03</td>\n",
       "      <td>2.713000e+03</td>\n",
       "      <td>1.820500e+04</td>\n",
       "    </tr>\n",
       "    <tr>\n",
       "      <th>TENURE1</th>\n",
       "      <td>278859.0</td>\n",
       "      <td>1.759315e+02</td>\n",
       "      <td>2.217553e+02</td>\n",
       "      <td>1.000000e+00</td>\n",
       "      <td>1.900000e+01</td>\n",
       "      <td>7.400000e+01</td>\n",
       "      <td>2.680000e+02</td>\n",
       "      <td>2.308000e+03</td>\n",
       "    </tr>\n",
       "    <tr>\n",
       "      <th>TENURE2</th>\n",
       "      <td>271781.0</td>\n",
       "      <td>2.090277e+02</td>\n",
       "      <td>2.247148e+02</td>\n",
       "      <td>1.000000e+00</td>\n",
       "      <td>4.900000e+01</td>\n",
       "      <td>1.100000e+02</td>\n",
       "      <td>3.060000e+02</td>\n",
       "      <td>2.336000e+03</td>\n",
       "    </tr>\n",
       "    <tr>\n",
       "      <th>TENURE3</th>\n",
       "      <td>264823.0</td>\n",
       "      <td>2.422287e+02</td>\n",
       "      <td>2.262384e+02</td>\n",
       "      <td>1.000000e+00</td>\n",
       "      <td>8.000000e+01</td>\n",
       "      <td>1.450000e+02</td>\n",
       "      <td>3.420000e+02</td>\n",
       "      <td>2.367000e+03</td>\n",
       "    </tr>\n",
       "    <tr>\n",
       "      <th>TENURE4</th>\n",
       "      <td>256858.0</td>\n",
       "      <td>2.748411e+02</td>\n",
       "      <td>2.284630e+02</td>\n",
       "      <td>6.000000e+00</td>\n",
       "      <td>1.110000e+02</td>\n",
       "      <td>1.810000e+02</td>\n",
       "      <td>3.780000e+02</td>\n",
       "      <td>2.398000e+03</td>\n",
       "    </tr>\n",
       "    <tr>\n",
       "      <th>TENURE5</th>\n",
       "      <td>247251.0</td>\n",
       "      <td>3.076132e+02</td>\n",
       "      <td>2.300562e+02</td>\n",
       "      <td>2.900000e+01</td>\n",
       "      <td>1.420000e+02</td>\n",
       "      <td>2.150000e+02</td>\n",
       "      <td>4.140000e+02</td>\n",
       "      <td>2.428000e+03</td>\n",
       "    </tr>\n",
       "    <tr>\n",
       "      <th>TENURE6</th>\n",
       "      <td>228657.0</td>\n",
       "      <td>3.366748e+02</td>\n",
       "      <td>2.320779e+02</td>\n",
       "      <td>3.200000e+01</td>\n",
       "      <td>1.720000e+02</td>\n",
       "      <td>2.470000e+02</td>\n",
       "      <td>4.430000e+02</td>\n",
       "      <td>2.459000e+03</td>\n",
       "    </tr>\n",
       "  </tbody>\n",
       "</table>\n",
       "</div>"
      ],
      "text/plain": [
       "                               count          mean           std  \\\n",
       "SKP_CREDIT_CASE             280479.0  2.399661e+08  1.544541e+07   \n",
       "RISK_AGRF180                280479.0  1.000000e+00  0.000000e+00   \n",
       "RISK_FPD30                  280479.0  2.620517e-03  5.112396e-02   \n",
       "RISK_FSPD30                 280479.0  1.120226e-02  1.052464e-01   \n",
       "RISK_FSTPD30                280479.0  2.198026e-02  1.466192e-01   \n",
       "RISK_FSTQPD30               280479.0  3.346775e-02  1.798549e-01   \n",
       "RISK_FSTQPD60               280479.0  2.516409e-02  1.566236e-01   \n",
       "RISK_SCORE                  280479.0  6.119168e-03  5.417417e-03   \n",
       "AMT_DIRECT_DEBIT_STATEMENT  280479.0  2.522600e+03  1.696594e+03   \n",
       "AMT_1                       278859.0  2.364758e+03  1.641993e+03   \n",
       "AMT_2                       271781.0  2.379180e+03  1.656687e+03   \n",
       "AMT_3                       264823.0  2.390622e+03  1.666406e+03   \n",
       "AMT_4                       256858.0  2.394019e+03  1.670383e+03   \n",
       "AMT_5                       247251.0  2.399186e+03  1.677859e+03   \n",
       "AMT_6                       228657.0  2.428224e+03  1.703182e+03   \n",
       "TENURE1                     278859.0  1.759315e+02  2.217553e+02   \n",
       "TENURE2                     271781.0  2.090277e+02  2.247148e+02   \n",
       "TENURE3                     264823.0  2.422287e+02  2.262384e+02   \n",
       "TENURE4                     256858.0  2.748411e+02  2.284630e+02   \n",
       "TENURE5                     247251.0  3.076132e+02  2.300562e+02   \n",
       "TENURE6                     228657.0  3.366748e+02  2.320779e+02   \n",
       "\n",
       "                                     min           25%           50%  \\\n",
       "SKP_CREDIT_CASE             2.200980e+08  2.287341e+08  2.368238e+08   \n",
       "RISK_AGRF180                1.000000e+00  1.000000e+00  1.000000e+00   \n",
       "RISK_FPD30                  0.000000e+00  0.000000e+00  0.000000e+00   \n",
       "RISK_FSPD30                 0.000000e+00  0.000000e+00  0.000000e+00   \n",
       "RISK_FSTPD30                0.000000e+00  0.000000e+00  0.000000e+00   \n",
       "RISK_FSTQPD30               0.000000e+00  0.000000e+00  0.000000e+00   \n",
       "RISK_FSTQPD60               0.000000e+00  0.000000e+00  0.000000e+00   \n",
       "RISK_SCORE                  1.616712e-04  2.867903e-03  4.908466e-03   \n",
       "AMT_DIRECT_DEBIT_STATEMENT  0.000000e+00  1.482000e+03  1.899000e+03   \n",
       "AMT_1                       0.000000e+00  1.396000e+03  1.784000e+03   \n",
       "AMT_2                       0.000000e+00  1.399000e+03  1.790000e+03   \n",
       "AMT_3                       0.000000e+00  1.400000e+03  1.797000e+03   \n",
       "AMT_4                       0.000000e+00  1.399000e+03  1.795000e+03   \n",
       "AMT_5                       0.000000e+00  1.399000e+03  1.793000e+03   \n",
       "AMT_6                       0.000000e+00  1.399000e+03  1.800280e+03   \n",
       "TENURE1                     1.000000e+00  1.900000e+01  7.400000e+01   \n",
       "TENURE2                     1.000000e+00  4.900000e+01  1.100000e+02   \n",
       "TENURE3                     1.000000e+00  8.000000e+01  1.450000e+02   \n",
       "TENURE4                     6.000000e+00  1.110000e+02  1.810000e+02   \n",
       "TENURE5                     2.900000e+01  1.420000e+02  2.150000e+02   \n",
       "TENURE6                     3.200000e+01  1.720000e+02  2.470000e+02   \n",
       "\n",
       "                                     75%           max  \n",
       "SKP_CREDIT_CASE             2.461336e+08  2.840982e+08  \n",
       "RISK_AGRF180                1.000000e+00  1.000000e+00  \n",
       "RISK_FPD30                  0.000000e+00  1.000000e+00  \n",
       "RISK_FSPD30                 0.000000e+00  1.000000e+00  \n",
       "RISK_FSTPD30                0.000000e+00  1.000000e+00  \n",
       "RISK_FSTQPD30               0.000000e+00  1.000000e+00  \n",
       "RISK_FSTQPD60               0.000000e+00  1.000000e+00  \n",
       "RISK_SCORE                  7.908710e-03  3.357799e-01  \n",
       "AMT_DIRECT_DEBIT_STATEMENT  2.880000e+03  1.820500e+04  \n",
       "AMT_1                       2.612500e+03  1.807200e+04  \n",
       "AMT_2                       2.638000e+03  1.820500e+04  \n",
       "AMT_3                       2.649000e+03  1.820500e+04  \n",
       "AMT_4                       2.651000e+03  1.820500e+04  \n",
       "AMT_5                       2.654000e+03  1.820500e+04  \n",
       "AMT_6                       2.713000e+03  1.820500e+04  \n",
       "TENURE1                     2.680000e+02  2.308000e+03  \n",
       "TENURE2                     3.060000e+02  2.336000e+03  \n",
       "TENURE3                     3.420000e+02  2.367000e+03  \n",
       "TENURE4                     3.780000e+02  2.398000e+03  \n",
       "TENURE5                     4.140000e+02  2.428000e+03  \n",
       "TENURE6                     4.430000e+02  2.459000e+03  "
      ]
     },
     "execution_count": 23,
     "metadata": {},
     "output_type": "execute_result"
    }
   ],
   "source": [
    "df.describe().T"
   ]
  },
  {
   "cell_type": "code",
   "execution_count": 24,
   "metadata": {},
   "outputs": [],
   "source": [
    "df = df_encoded"
   ]
  },
  {
   "cell_type": "code",
   "execution_count": 25,
   "metadata": {},
   "outputs": [],
   "source": [
    "df_test = df[df[\"TIME_DECISION_DATE\"]>= pd.datetime(2019,8,1)]\n",
    "df_train = df[df[\"TIME_DECISION_DATE\"]< pd.datetime(2019,8,1)]\n"
   ]
  },
  {
   "cell_type": "code",
   "execution_count": 26,
   "metadata": {},
   "outputs": [],
   "source": [
    "x_column = ['AMT_DIRECT_DEBIT_STATEMENT','TENURE1', 'TENURE2', 'TENURE3', 'TENURE4',\n",
    "       'TENURE5', 'TENURE6', 'Debited_CODE_1', 'Posted_CODE_1',\n",
    "       'Undebited_CODE_1', 'Debited_CODE_2', 'Posted_CODE_2',\n",
    "       'Undebited_CODE_2', 'Debited_CODE_3', 'Posted_CODE_3',\n",
    "       'Undebited_CODE_3', 'Debited_CODE_4', 'Posted_CODE_4',\n",
    "       'Undebited_CODE_4', 'Debited_CODE_5', 'Posted_CODE_5',\n",
    "       'Undebited_CODE_5', 'Debited_CODE_6', 'Posted_CODE_6',\n",
    "       'Undebited_CODE_6', 'DEBITED_REASON_1_ENCODED',\n",
    "       'Others_REASON_1_ENCODED', 'PROCESS ISSUE_REASON_1_ENCODED',\n",
    "       'WILLFULL DEFAULTS_REASON_1_ENCODED', 'DEBITED_REASON_2_ENCODED',\n",
    "       'Others_REASON_2_ENCODED', 'PROCESS ISSUE_REASON_2_ENCODED',\n",
    "       'WILLFULL DEFAULTS_REASON_2_ENCODED', 'DEBITED_REASON_3_ENCODED',\n",
    "       'Others_REASON_3_ENCODED', 'PROCESS ISSUE_REASON_3_ENCODED',\n",
    "       'WILLFULL DEFAULTS_REASON_3_ENCODED', 'DEBITED_REASON_4_ENCODED',\n",
    "       'Others_REASON_4_ENCODED', 'PROCESS ISSUE_REASON_4_ENCODED',\n",
    "       'WILLFULL DEFAULTS_REASON_4_ENCODED', 'DEBITED_REASON_5_ENCODED',\n",
    "       'Others_REASON_5_ENCODED', 'PROCESS ISSUE_REASON_5_ENCODED',\n",
    "       'WILLFULL DEFAULTS_REASON_5_ENCODED', 'DEBITED_REASON_6_ENCODED',\n",
    "       'Others_REASON_6_ENCODED', 'PROCESS ISSUE_REASON_6_ENCODED',\n",
    "       'WILLFULL DEFAULTS_REASON_6_ENCODED','RISK_SCORE']\n",
    "y_column = 'RISK_FSTQPD30'"
   ]
  },
  {
   "cell_type": "code",
   "execution_count": 27,
   "metadata": {},
   "outputs": [
    {
     "name": "stdout",
     "output_type": "stream",
     "text": [
      "\n",
      "Event rate in train set : 3.18%\n",
      "\n",
      " Train set shape: (166916, 50)\n",
      "\n",
      "Event rate in test set : 3.66%\n",
      "\n",
      " Test set shape: (71833, 50)\n",
      "\n",
      "Event rate in validation set : 3.47%\n",
      "\n",
      " validation set shape: (41730, 50)\n",
      "\n",
      " Train GINI 0.3305973121534591\n",
      "\n",
      " Test GINI 0.3555824963362655\n",
      "\n",
      " validation GINI 0.32805118939103606\n"
     ]
    }
   ],
   "source": [
    "# split data into train and test sets\n",
    "seed = 25522\n",
    "\n",
    "X_test = df_test[x_column]\n",
    "y_test = df_test[y_column]\n",
    "\n",
    "X_train, X_valid, y_train, y_valid = train_test_split(df_train[x_column], df_train[y_column], test_size=0.2, random_state=seed)\n",
    "\n",
    "\n",
    "##event rate\n",
    "print(\"\\nEvent rate in train set :\", '{:,.2%}'.format(sum(y_train) / len(y_train)))\n",
    "print(\"\\n Train set shape:\",X_train.shape)\n",
    "print(\"\\nEvent rate in test set :\", '{:,.2%}'.format(sum(y_test) / len(y_test)))\n",
    "print(\"\\n Test set shape:\",X_test.shape)\n",
    "print(\"\\nEvent rate in validation set :\", '{:,.2%}'.format(sum(y_valid) / len(y_valid)))\n",
    "print(\"\\n validation set shape:\",X_valid.shape)\n",
    "print(\"\\n Train GINI\",  metrics.roc_auc_score(y_train, X_train['RISK_SCORE'])*2 -1)\n",
    "print(\"\\n Test GINI\",  metrics.roc_auc_score(y_test, X_test['RISK_SCORE'])*2 -1)\n",
    "print(\"\\n validation GINI\",  metrics.roc_auc_score(y_valid, X_valid['RISK_SCORE'])*2 -1)\n"
   ]
  },
  {
   "cell_type": "code",
   "execution_count": 28,
   "metadata": {},
   "outputs": [],
   "source": [
    "## Variable importance\n",
    "def fimportances(xc, predictors):\n",
    "    importances = pd.DataFrame({'predictor': predictors, 'importance': xc.feature_importances_})\n",
    "    importances = importances[importances['importance'] > 0]\n",
    "    importances.sort_values(by='importance', ascending=False, inplace=True)\n",
    "    importances.reset_index(inplace=True, drop=True)\n",
    "    importances = importances[['predictor', 'importance']]\n",
    "    return importances"
   ]
  },
  {
   "cell_type": "code",
   "execution_count": 29,
   "metadata": {},
   "outputs": [],
   "source": [
    "xgb_model = xgb.XGBClassifier(max_depth = 3,\n",
    "              learning_rate= 0.01,\n",
    "              subsample= 0.6,\n",
    "              min_child_weight= 10,\n",
    "              colsample_bytree= 0.6,\n",
    "              scale_pos_weight =25,\n",
    "              objective= 'binary:logistic', \n",
    "              nthread = -1, \n",
    "              n_estimators = 200              \n",
    "              )\n",
    "\n",
    "evals=[(X_train.drop(columns='RISK_SCORE'), np.ravel(y_train)),(X_valid.drop(columns='RISK_SCORE'), np.ravel(y_valid))]\n",
    "\n",
    "bst = xgb_model.fit(X_train.drop(columns='RISK_SCORE'), np.ravel(y_train), eval_metric=\"auc\", eval_set=evals,\n",
    "                    early_stopping_rounds=40   ,  verbose=False)"
   ]
  },
  {
   "cell_type": "code",
   "execution_count": 30,
   "metadata": {},
   "outputs": [],
   "source": [
    "imp = fimportances(bst,X_train.drop(columns='RISK_SCORE').columns)"
   ]
  },
  {
   "cell_type": "code",
   "execution_count": 31,
   "metadata": {},
   "outputs": [
    {
     "name": "stdout",
     "output_type": "stream",
     "text": [
      "Columns Remaining : 29 , gini_train: 0.159469,gini_test: 0.112290 \n",
      "Columns Remaining : 24 , gini_train: 0.150001,gini_test: 0.111595 \n",
      "Columns Remaining : 20 , gini_train: 0.158916,gini_test: 0.115409 \n",
      "Columns Remaining : 18 , gini_train: 0.172193,gini_test: 0.113415 \n",
      "Columns Remaining : 16 , gini_train: 0.147814,gini_test: 0.111847 \n",
      "Columns Remaining : 14 , gini_train: 0.139217,gini_test: 0.111480 \n",
      "Columns Remaining : 12 , gini_train: 0.176380,gini_test: 0.110967 \n",
      "Columns Remaining : 10 , gini_train: 0.161054,gini_test: 0.108868 \n",
      "Columns Remaining : 8 , gini_train: 0.169205,gini_test: 0.101730 \n",
      "Columns Remaining : 6 , gini_train: 0.133489,gini_test: 0.088715 \n",
      "Columns Remaining : 4 , gini_train: 0.127881,gini_test: 0.084730 \n"
     ]
    }
   ],
   "source": [
    "bst1 = bst\n",
    "X_train_1 = X_train.drop(columns='RISK_SCORE')\n",
    "X_valid_1 = X_valid.drop(columns='RISK_SCORE')\n",
    "select_X_train = X_train_1\n",
    "\n",
    "dic_imp = {\"n\":[imp.shape[0]],\"Gini Train\":[0],\"Gini Test\":[0],\"Predictors\":[list(imp['predictor'])]}\n",
    "\n",
    "while(select_X_train.shape[1] > 4):\n",
    "    select_X_train = X_train_1[list(imp['predictor'])[:-2]]\n",
    "    select_X_valid = X_valid_1[list(imp['predictor'])[:-2]]\n",
    "    xgb_model = xgb.XGBClassifier(max_depth = 3,\n",
    "              learning_rate= 0.01,\n",
    "              subsample= 0.6,\n",
    "              min_child_weight= 10,\n",
    "              colsample_bytree= 0.6,\n",
    "              scale_pos_weight =25,\n",
    "              objective= 'binary:logistic', \n",
    "              nthread = -1, \n",
    "              n_estimators = 200              \n",
    "              )\n",
    "\n",
    "    evals=[(select_X_train, np.ravel(y_train)),(select_X_valid, np.ravel(y_valid))]\n",
    "\n",
    "    bst = xgb_model.fit(select_X_train, np.ravel(y_train), eval_metric=\"auc\", eval_set=evals,\n",
    "                        early_stopping_rounds=40   ,  verbose=False)\n",
    "    \n",
    "    ypred_train = bst.predict_proba(select_X_train)[:, 1]\n",
    "    ypred_test  = bst.predict_proba(select_X_valid)[:, 1]\n",
    "    \n",
    "    metric_auc_train = metrics.roc_auc_score(y_train, ypred_train)\n",
    "    metric_auc_test = metrics.roc_auc_score(y_valid, ypred_test)\n",
    "\n",
    "    gini_train = 2 * metric_auc_train - 1\n",
    "    gini_test = 2 * metric_auc_test - 1\n",
    "    \n",
    "    print(\"Columns Remaining : %d , gini_train: %f,gini_test: %f \"%(select_X_train.shape[1],gini_train,gini_test))\n",
    "    \n",
    "    dic_imp['n'].append(imp.shape[0])\n",
    "    dic_imp['Gini Train'].append(gini_train)\n",
    "    dic_imp['Gini Test'].append(gini_test)\n",
    "    dic_imp['Predictors'].append(list(imp['predictor']))\n",
    "    \n",
    "    imp = fimportances(bst,select_X_train.columns)"
   ]
  },
  {
   "cell_type": "code",
   "execution_count": 32,
   "metadata": {},
   "outputs": [],
   "source": [
    "df_imp =pd.DataFrame(dic_imp)"
   ]
  },
  {
   "cell_type": "code",
   "execution_count": 34,
   "metadata": {},
   "outputs": [],
   "source": [
    "selected_vars = list(df_imp[df_imp['n']==14][\"Predictors\"])"
   ]
  },
  {
   "cell_type": "code",
   "execution_count": 35,
   "metadata": {},
   "outputs": [
    {
     "data": {
      "text/plain": [
       "[['AMT_DIRECT_DEBIT_STATEMENT',\n",
       "  'TENURE6',\n",
       "  'TENURE2',\n",
       "  'TENURE5',\n",
       "  'TENURE3',\n",
       "  'WILLFULL DEFAULTS_REASON_1_ENCODED',\n",
       "  'TENURE4',\n",
       "  'TENURE1',\n",
       "  'DEBITED_REASON_4_ENCODED',\n",
       "  'DEBITED_REASON_2_ENCODED',\n",
       "  'Debited_CODE_4',\n",
       "  'Undebited_CODE_1',\n",
       "  'Undebited_CODE_2',\n",
       "  'DEBITED_REASON_5_ENCODED']]"
      ]
     },
     "execution_count": 35,
     "metadata": {},
     "output_type": "execute_result"
    }
   ],
   "source": [
    "selected_vars"
   ]
  },
  {
   "cell_type": "code",
   "execution_count": 36,
   "metadata": {},
   "outputs": [
    {
     "name": "stdout",
     "output_type": "stream",
     "text": [
      "\n",
      " Train shape: (166916, 14) \n",
      " Test shape: (71833, 14) \n",
      " Validation shape: (41730, 14)\n"
     ]
    }
   ],
   "source": [
    "X_train_2=X_train[selected_vars[0]]\n",
    "X_test_2=X_test[selected_vars[0]]\n",
    "X_valid_2=X_valid[selected_vars[0]]\n",
    "\n",
    "print(\"\\n Train shape:\",X_train_2.shape,\"\\n Test shape:\",X_test_2.shape,\"\\n Validation shape:\",X_valid_2.shape)"
   ]
  },
  {
   "cell_type": "code",
   "execution_count": 38,
   "metadata": {},
   "outputs": [],
   "source": [
    "# set model parameters \n",
    "missing_value=None; cpu=-1; early_stopping_round=40; split_random_state=None\n",
    "kfolds = StratifiedKFold(4, random_state=1)"
   ]
  },
  {
   "cell_type": "code",
   "execution_count": 39,
   "metadata": {
    "scrolled": true
   },
   "outputs": [
    {
     "name": "stdout",
     "output_type": "stream",
     "text": [
      "Randomized search..\n",
      "Randomized search time: 797.3411412239075\n",
      "Best score: 0.5700945442214977\n",
      "Best params: \n",
      "colsample_bytree: 0.7000000000000002\n",
      "learning_rate: 0.007\n",
      "max_depth: 4\n",
      "min_child_weight: 10\n",
      "scale_pos_weight: 15\n",
      "subsample: 0.6499999999999999\n"
     ]
    }
   ],
   "source": [
    "## XGB model## The model is pretty stable with default parameters(after variable selection), hence not tuning any more\n",
    "param_grid = {'max_depth': list(range(1, 6)),\n",
    "              'learning_rate': np.arange(0.001, 0.02, 0.001),\n",
    "              'subsample': np.arange(0.4, 0.7,0.05),\n",
    "              'min_child_weight': np.arange(1, 25, 3),\n",
    "              'colsample_bytree': np.arange(0.5, 0.75, 0.05),\n",
    "              'scale_pos_weight' :np.arange(5, 40, 5)\n",
    "            }\n",
    "\n",
    "if X_train_2.shape[1] == 1:\n",
    "    param_grid['colsample_bytree'] = [1]\n",
    "    \n",
    "param_dist = {'objective': 'binary:logistic', 'nthread': cpu, 'n_estimators': 200}\n",
    "xgb_model = xgb.XGBClassifier(**param_dist)\n",
    "\n",
    "##random search XGB    \n",
    "clf = RandomizedSearchCV(estimator=xgb_model, param_distributions=param_grid, scoring=['roc_auc'], n_iter=20,\n",
    "                         random_state=40, cv=kfolds.split(X_train_2, y_train), refit='roc_auc',error_score=0, return_train_score =True)\n",
    "print(\"Randomized search..\")\n",
    "search_time_start = time.time()\n",
    "clf.fit(X_train_2, np.ravel(y_train))\n",
    "print(\"Randomized search time:\", time.time() - search_time_start)\n",
    "params = clf.best_params_\n",
    "\n",
    "dic=clf.cv_results_\n",
    "\n",
    "params_bst = params\n",
    "params_tbl = pd.DataFrame(columns=list(params_bst.keys()))  \n",
    "params_tbl.loc['0'] = [params_bst[k] for k in params_tbl.columns]\n",
    "\n",
    "print(\"Best score: {}\".format(clf.best_score_))\n",
    "print(\"Best params: \")\n",
    "for param_name in sorted(params_bst.keys()):\n",
    "    print('%s: %r' % (param_name, params_bst[param_name]))\n",
    "\n",
    "params.update(param_dist)\n",
    "xgb_model = xgb.XGBClassifier(**params)"
   ]
  },
  {
   "cell_type": "code",
   "execution_count": 40,
   "metadata": {},
   "outputs": [
    {
     "name": "stderr",
     "output_type": "stream",
     "text": [
      "C:\\Users\\aman.khatri91425\\AppData\\Local\\Continuum\\anaconda3\\lib\\site-packages\\ipykernel_launcher.py:1: FutureWarning: The signature of `Series.to_csv` was aligned to that of `DataFrame.to_csv`, and argument 'header' will change its default value from False to True: please pass an explicit value to suppress this warning.\n",
      "  \"\"\"Entry point for launching an IPython kernel.\n"
     ]
    }
   ],
   "source": [
    "pd.Series(dic['mean_train_roc_auc']).to_csv(\"mean_train_roc_auc_mesdq.csv\")"
   ]
  },
  {
   "cell_type": "code",
   "execution_count": 42,
   "metadata": {},
   "outputs": [
    {
     "name": "stderr",
     "output_type": "stream",
     "text": [
      "C:\\Users\\aman.khatri91425\\AppData\\Local\\Continuum\\anaconda3\\lib\\site-packages\\ipykernel_launcher.py:1: FutureWarning: The signature of `Series.to_csv` was aligned to that of `DataFrame.to_csv`, and argument 'header' will change its default value from False to True: please pass an explicit value to suppress this warning.\n",
      "  \"\"\"Entry point for launching an IPython kernel.\n"
     ]
    }
   ],
   "source": [
    "pd.Series(dic['mean_test_roc_auc']).to_csv(\"mean_test_roc_auc_mesdq.csv\")"
   ]
  },
  {
   "cell_type": "code",
   "execution_count": 44,
   "metadata": {},
   "outputs": [],
   "source": [
    "pd.DataFrame(dic['params']).to_csv(\"params_mesdq.csv\")"
   ]
  },
  {
   "cell_type": "code",
   "execution_count": 45,
   "metadata": {},
   "outputs": [],
   "source": [
    "#First Run\n",
    "xgb_model = xgb.XGBClassifier(max_depth = 4,\n",
    "              learning_rate= 0.007,\n",
    "              subsample= 0.65,\n",
    "              min_child_weight= 10,\n",
    "              colsample_bytree= 0.7,\n",
    "              scale_pos_weight =15,\n",
    "              objective= 'binary:logistic', \n",
    "              nthread = -1, \n",
    "              n_estimators = 200\n",
    "             )\n",
    "#GINI TRAIN: \n",
    "\n",
    "#GINI Validation: \n",
    "\n",
    "#GINI CV: \n",
    "\n",
    "#Gini Test "
   ]
  },
  {
   "cell_type": "code",
   "execution_count": 46,
   "metadata": {},
   "outputs": [],
   "source": [
    "#if required\n",
    "#%env JOBLIB_TEMP_FOLDER=/tmp"
   ]
  },
  {
   "cell_type": "code",
   "execution_count": 47,
   "metadata": {
    "scrolled": true
   },
   "outputs": [],
   "source": [
    "# cross validation gini\n",
    "def xgboost(X_tr,X_ts,y_tr,y_ts):\n",
    "    auc_cv = cross_val_score(xgb_model, X_tr, np.ravel(y_tr), scoring='roc_auc', cv=kfolds.split(X_tr, np.ravel(y_tr)),\n",
    "                             n_jobs=1)\n",
    "    gini_cv = (2 * np.array(auc_cv) - 1).mean()\n",
    "    evals=[(X_tr, np.ravel(y_tr)),(X_ts, np.ravel(y_ts))]\n",
    "\n",
    "    bst = xgb_model.fit(X_tr, np.ravel(y_tr), eval_metric=\"auc\", eval_set=evals,\n",
    "                        early_stopping_rounds=early_stopping_round   ,  verbose=False)\n",
    "\n",
    "    if early_stopping_round is None:\n",
    "        ypred_train = bst.predict_proba(X_tr)[:, 1]\n",
    "        ypred_test = bst.predict_proba(X_ts)[:, 1]\n",
    "    else:\n",
    "        ypred_train = bst.predict_proba(X_tr, ntree_limit=bst.best_ntree_limit)[:, 1]\n",
    "        ypred_test = bst.predict_proba(X_ts, ntree_limit=bst.best_ntree_limit)[:, 1]\n",
    "\n",
    "    metric_auc_train = metrics.roc_auc_score(y_tr, ypred_train)\n",
    "    metric_auc_test = metrics.roc_auc_score(y_ts, ypred_test)\n",
    "\n",
    "    gini_train = 2 * metric_auc_train - 1\n",
    "    gini_test = 2 * metric_auc_test - 1\n",
    "\n",
    "    return bst,gini_cv,gini_train,gini_test,ypred_train,ypred_test"
   ]
  },
  {
   "cell_type": "code",
   "execution_count": 48,
   "metadata": {},
   "outputs": [
    {
     "name": "stdout",
     "output_type": "stream",
     "text": [
      "GINI TRAIN: 0.1642903750963176\n",
      "\n",
      "GINI Validation: 0.11572013643591705\n",
      "\n",
      "GINI CV: 0.1401890586871848\n"
     ]
    }
   ],
   "source": [
    "## run xgboost\n",
    "bst,gini_cv,gini_train,gini_test,ypred_train,ypred_test=xgboost(X_train_2, X_valid_2, y_train, y_valid)\n",
    "\n",
    "##Model performance on sample\n",
    "print(\"GINI TRAIN:\",gini_train )\n",
    "print(\"\\nGINI Validation:\",gini_test )\n",
    "print(\"\\nGINI CV:\",gini_cv )"
   ]
  },
  {
   "cell_type": "code",
   "execution_count": 49,
   "metadata": {},
   "outputs": [
    {
     "data": {
      "text/plain": [
       "Index(['AMT_DIRECT_DEBIT_STATEMENT', 'TENURE6', 'TENURE2', 'TENURE5',\n",
       "       'TENURE3', 'WILLFULL DEFAULTS_REASON_1_ENCODED', 'TENURE4', 'TENURE1',\n",
       "       'DEBITED_REASON_4_ENCODED', 'DEBITED_REASON_2_ENCODED',\n",
       "       'Debited_CODE_4', 'Undebited_CODE_1', 'Undebited_CODE_2',\n",
       "       'DEBITED_REASON_5_ENCODED'],\n",
       "      dtype='object')"
      ]
     },
     "execution_count": 49,
     "metadata": {},
     "output_type": "execute_result"
    }
   ],
   "source": [
    "X_train_2.columns"
   ]
  },
  {
   "cell_type": "code",
   "execution_count": 50,
   "metadata": {},
   "outputs": [
    {
     "name": "stdout",
     "output_type": "stream",
     "text": [
      "Gini Test 0.1180360602879289\n"
     ]
    }
   ],
   "source": [
    "#ypred_test = bst.predict_proba(X_test_2.drop(columns=['act','pred']), ntree_limit=bst.best_ntree_limit)[:, 1]\n",
    "ypred_test = bst.predict_proba(X_test_2, ntree_limit=bst.best_ntree_limit)[:, 1]\n",
    "metric_auc_test = metrics.roc_auc_score(y_test, ypred_test)\n",
    "print(\"Gini Test\",metric_auc_test*2-1)"
   ]
  },
  {
   "cell_type": "code",
   "execution_count": 51,
   "metadata": {
    "scrolled": true
   },
   "outputs": [],
   "source": [
    "importance_tbl = fimportances(bst, X_train_2.columns)\n",
    "importance_tbl.to_csv(os.getcwd()+r\"\\xgb_cd_exi_varimp.csv\",index=0)"
   ]
  },
  {
   "cell_type": "code",
   "execution_count": 52,
   "metadata": {
    "scrolled": true
   },
   "outputs": [
    {
     "data": {
      "text/html": [
       "<div>\n",
       "<style scoped>\n",
       "    .dataframe tbody tr th:only-of-type {\n",
       "        vertical-align: middle;\n",
       "    }\n",
       "\n",
       "    .dataframe tbody tr th {\n",
       "        vertical-align: top;\n",
       "    }\n",
       "\n",
       "    .dataframe thead th {\n",
       "        text-align: right;\n",
       "    }\n",
       "</style>\n",
       "<table border=\"1\" class=\"dataframe\">\n",
       "  <thead>\n",
       "    <tr style=\"text-align: right;\">\n",
       "      <th></th>\n",
       "      <th>predictor</th>\n",
       "      <th>importance</th>\n",
       "    </tr>\n",
       "  </thead>\n",
       "  <tbody>\n",
       "    <tr>\n",
       "      <th>0</th>\n",
       "      <td>AMT_DIRECT_DEBIT_STATEMENT</td>\n",
       "      <td>0.190977</td>\n",
       "    </tr>\n",
       "    <tr>\n",
       "      <th>1</th>\n",
       "      <td>TENURE5</td>\n",
       "      <td>0.135338</td>\n",
       "    </tr>\n",
       "    <tr>\n",
       "      <th>2</th>\n",
       "      <td>TENURE6</td>\n",
       "      <td>0.133835</td>\n",
       "    </tr>\n",
       "    <tr>\n",
       "      <th>3</th>\n",
       "      <td>TENURE2</td>\n",
       "      <td>0.111278</td>\n",
       "    </tr>\n",
       "    <tr>\n",
       "      <th>4</th>\n",
       "      <td>TENURE1</td>\n",
       "      <td>0.105263</td>\n",
       "    </tr>\n",
       "    <tr>\n",
       "      <th>5</th>\n",
       "      <td>TENURE4</td>\n",
       "      <td>0.078195</td>\n",
       "    </tr>\n",
       "    <tr>\n",
       "      <th>6</th>\n",
       "      <td>TENURE3</td>\n",
       "      <td>0.063158</td>\n",
       "    </tr>\n",
       "    <tr>\n",
       "      <th>7</th>\n",
       "      <td>Undebited_CODE_1</td>\n",
       "      <td>0.043609</td>\n",
       "    </tr>\n",
       "    <tr>\n",
       "      <th>8</th>\n",
       "      <td>DEBITED_REASON_4_ENCODED</td>\n",
       "      <td>0.033083</td>\n",
       "    </tr>\n",
       "    <tr>\n",
       "      <th>9</th>\n",
       "      <td>WILLFULL DEFAULTS_REASON_1_ENCODED</td>\n",
       "      <td>0.030075</td>\n",
       "    </tr>\n",
       "    <tr>\n",
       "      <th>10</th>\n",
       "      <td>DEBITED_REASON_2_ENCODED</td>\n",
       "      <td>0.024060</td>\n",
       "    </tr>\n",
       "    <tr>\n",
       "      <th>11</th>\n",
       "      <td>Debited_CODE_4</td>\n",
       "      <td>0.019549</td>\n",
       "    </tr>\n",
       "    <tr>\n",
       "      <th>12</th>\n",
       "      <td>DEBITED_REASON_5_ENCODED</td>\n",
       "      <td>0.019549</td>\n",
       "    </tr>\n",
       "    <tr>\n",
       "      <th>13</th>\n",
       "      <td>Undebited_CODE_2</td>\n",
       "      <td>0.012030</td>\n",
       "    </tr>\n",
       "  </tbody>\n",
       "</table>\n",
       "</div>"
      ],
      "text/plain": [
       "                             predictor  importance\n",
       "0           AMT_DIRECT_DEBIT_STATEMENT    0.190977\n",
       "1                              TENURE5    0.135338\n",
       "2                              TENURE6    0.133835\n",
       "3                              TENURE2    0.111278\n",
       "4                              TENURE1    0.105263\n",
       "5                              TENURE4    0.078195\n",
       "6                              TENURE3    0.063158\n",
       "7                     Undebited_CODE_1    0.043609\n",
       "8             DEBITED_REASON_4_ENCODED    0.033083\n",
       "9   WILLFULL DEFAULTS_REASON_1_ENCODED    0.030075\n",
       "10            DEBITED_REASON_2_ENCODED    0.024060\n",
       "11                      Debited_CODE_4    0.019549\n",
       "12            DEBITED_REASON_5_ENCODED    0.019549\n",
       "13                    Undebited_CODE_2    0.012030"
      ]
     },
     "execution_count": 52,
     "metadata": {},
     "output_type": "execute_result"
    }
   ],
   "source": [
    "importance_tbl"
   ]
  },
  {
   "cell_type": "code",
   "execution_count": 54,
   "metadata": {},
   "outputs": [
    {
     "name": "stderr",
     "output_type": "stream",
     "text": [
      "C:\\Users\\aman.khatri91425\\AppData\\Local\\Continuum\\anaconda3\\lib\\site-packages\\ipykernel_launcher.py:4: SettingWithCopyWarning: \n",
      "A value is trying to be set on a copy of a slice from a DataFrame.\n",
      "Try using .loc[row_indexer,col_indexer] = value instead\n",
      "\n",
      "See the caveats in the documentation: http://pandas.pydata.org/pandas-docs/stable/indexing.html#indexing-view-versus-copy\n",
      "  after removing the cwd from sys.path.\n"
     ]
    }
   ],
   "source": [
    "## save the model \n",
    "pickle.dump(bst, open(os.getcwd()+r\"\\model_clx\", \"wb\"))\n",
    "##Score the dataset\n",
    "outtest=X_test_2;  outtest['pred']=ypred_test ; outtest['act']=y_test ; \n",
    "outtest.to_csv(os.getcwd()+r\"\\clx_test_scored.csv\")"
   ]
  },
  {
   "cell_type": "code",
   "execution_count": 55,
   "metadata": {},
   "outputs": [],
   "source": [
    "df[\"XGB_SCORE\"] = bst.predict_proba(df[selected_vars[0]], ntree_limit=bst.best_ntree_limit)[:, 1]"
   ]
  },
  {
   "cell_type": "code",
   "execution_count": 56,
   "metadata": {},
   "outputs": [
    {
     "name": "stdout",
     "output_type": "stream",
     "text": [
      "[[65948  3256]\n",
      " [ 2293   336]]\n",
      "\n",
      " Log Loss is : 0.6822127995813243\n",
      "Average precision-recall score: 0.05\n"
     ]
    },
    {
     "data": {
      "image/png": "[encoded data removed]",
      "text/plain": [
       "<Figure size 432x288 with 1 Axes>"
      ]
     },
     "metadata": {
      "needs_background": "light"
     },
     "output_type": "display_data"
    }
   ],
   "source": [
    "#metrics calculation\n",
    "cutoff=np.percentile(X_test['RISK_SCORE'],95)\n",
    "ypred=pd.Series(X_test['RISK_SCORE']).apply(lambda x : 1 if x >cutoff else 0 )\n",
    "#ypred=pd.Series(ypred_test).apply(lambda x : 1 if x > 0.48631722 else 0 )\n",
    "\n",
    "print(confusion_matrix(y_test, ypred))\n",
    "pd.Series(ypred_test).plot.hist(bins=10, rwidth=0.9 ,color='#607c8e')\n",
    "\n",
    "print(\"\\n Log Loss is :\",log_loss(y_test, ypred_test))\n",
    "print('Average precision-recall score: {0:0.2f}'.format(average_precision_score(y_test, ypred_test)))"
   ]
  },
  {
   "cell_type": "code",
   "execution_count": 57,
   "metadata": {},
   "outputs": [],
   "source": [
    "# retrieve performance metrics\n",
    "results = bst.evals_result()\n",
    "epochs = len(results['validation_0']['auc'])\n",
    "x_axis = range(0, epochs)"
   ]
  },
  {
   "cell_type": "code",
   "execution_count": 58,
   "metadata": {},
   "outputs": [
    {
     "data": {
      "text/plain": [
       "Text(0.5, 1.0, 'XGBoost AUC')"
      ]
     },
     "execution_count": 58,
     "metadata": {},
     "output_type": "execute_result"
    },
    {
     "data": {
      "image/png": "[encoded data removed]",
      "text/plain": [
       "<Figure size 432x288 with 1 Axes>"
      ]
     },
     "metadata": {
      "needs_background": "light"
     },
     "output_type": "display_data"
    }
   ],
   "source": [
    "# plot classification error\n",
    "fig, ax = plt.subplots()\n",
    "ax.plot(x_axis, results['validation_0']['auc'], label='train')\n",
    "ax.plot(x_axis, results['validation_1']['auc'], label='test')\n",
    "\n",
    "ax.legend()\n",
    "plt.ylabel('XGB AUC')\n",
    "plt.title('XGBoost AUC')"
   ]
  },
  {
   "cell_type": "code",
   "execution_count": 59,
   "metadata": {},
   "outputs": [
    {
     "data": {
      "image/png": "[encoded data removed]",
      "text/plain": [
       "<Figure size 432x288 with 1 Axes>"
      ]
     },
     "metadata": {
      "needs_background": "light"
     },
     "output_type": "display_data"
    }
   ],
   "source": [
    "# Compute micro-average ROC curve and ROC area\n",
    "fpr, tpr, thresholds = roc_curve(y_test.ravel(), ypred_test.ravel())\n",
    "roc_auc = auc(fpr, tpr)\n",
    "\n",
    "plt.figure()\n",
    "lw = 1\n",
    "plt.plot(fpr, tpr, color='darkorange',         lw=lw, label='ROC curve (area = %0.2f)' % roc_auc)\n",
    "plt.plot([0, 1], [0, 1], color='navy', lw=lw, linestyle='--')\n",
    "plt.xlim([0.0, 1.0])\n",
    "plt.ylim([0.0, 1.05])\n",
    "plt.xlabel('False Positive Rate')\n",
    "plt.ylabel('True Positive Rate')\n",
    "plt.title('Receiver operating characteristic example')\n",
    "plt.legend(loc=\"lower right\")\n",
    "plt.show()"
   ]
  },
  {
   "cell_type": "code",
   "execution_count": 60,
   "metadata": {},
   "outputs": [
    {
     "data": {
      "text/plain": [
       "[]"
      ]
     },
     "execution_count": 60,
     "metadata": {},
     "output_type": "execute_result"
    },
    {
     "data": {
      "image/png": "[encoded data removed]",
      "text/plain": [
       "<Figure size 432x288 with 1 Axes>"
      ]
     },
     "metadata": {
      "needs_background": "light"
     },
     "output_type": "display_data"
    }
   ],
   "source": [
    "i = np.arange(len(tpr)) # index for df\n",
    "roc = pd.DataFrame({'fpr' : pd.Series(fpr, index=i),'tpr' : pd.Series(tpr, index = i), '1-fpr' : pd.Series(1-fpr, index = i), 'tf' : pd.Series(tpr - (1-fpr), index = i), 'thresholds' : pd.Series(thresholds, index = i)})\n",
    "roc.ix[(roc.tf-0).abs().argsort()[:1]]\n",
    "\n",
    "# Plot tpr vs 1-fpr\n",
    "fig, ax = plt.subplots()\n",
    "plt.plot(roc['tpr'])\n",
    "plt.plot(roc['1-fpr'], color = 'red')\n",
    "plt.xlabel('1-False Positive Rate')\n",
    "plt.ylabel('True Positive Rate')\n",
    "plt.title('Receiver operating characteristic')\n",
    "ax.set_xticklabels([])"
   ]
  },
  {
   "cell_type": "code",
   "execution_count": 61,
   "metadata": {},
   "outputs": [
    {
     "name": "stdout",
     "output_type": "stream",
     "text": [
      "\n",
      " Optimal Cut off : 0.49375296\n"
     ]
    }
   ],
   "source": [
    "optimal_idx = np.argmax(tpr - fpr)  ## check it once \n",
    "optimal_threshold = thresholds[optimal_idx]\n",
    "print(\"\\n Optimal Cut off :\",optimal_threshold)"
   ]
  },
  {
   "cell_type": "code",
   "execution_count": 62,
   "metadata": {
    "scrolled": false
   },
   "outputs": [
    {
     "name": "stdout",
     "output_type": "stream",
     "text": [
      "\n",
      "Total bad : 9387\n",
      "Bad captured in worst category : 21.93%\n",
      "\n",
      "                       RISK_SCORE  RISK_FSTQPD30\n",
      "RISK_SCORE                                     \n",
      "(-0.000838, 0.00173]    0.001230       0.008735\n",
      "(0.00173, 0.00249]      0.002118       0.012799\n",
      "(0.00249, 0.00324]      0.002868       0.017827\n",
      "(0.00324, 0.00403]      0.003631       0.022675\n",
      "(0.00403, 0.00491]      0.004459       0.027097\n",
      "(0.00491, 0.00591]      0.005390       0.031839\n",
      "(0.00591, 0.00714]      0.006492       0.037650\n",
      "(0.00714, 0.00882]      0.007930       0.045135\n",
      "(0.00882, 0.0114]       0.009991       0.057511\n",
      "(0.0114, 0.336]         0.017083       0.073410\n",
      "                      RISK_SCORE  RISK_FSTQPD30\n",
      "RISK_SCORE                                     \n",
      "(-0.000838, 0.00173]   34.508745            245\n",
      "(0.00173, 0.00249]     59.401353            359\n",
      "(0.00249, 0.00324]     80.429092            500\n",
      "(0.00324, 0.00403]    101.842273            636\n",
      "(0.00403, 0.00491]    125.062402            760\n",
      "(0.00491, 0.00591]    151.183296            893\n",
      "(0.00591, 0.00714]    182.083901           1056\n",
      "(0.00714, 0.00882]    222.434376           1266\n",
      "(0.00882, 0.0114]     280.211678           1613\n",
      "(0.0114, 0.336]       479.141051           2059\n"
     ]
    }
   ],
   "source": [
    "## Bad rates in overall population \n",
    "cd=pd.DataFrame(df[['RISK_SCORE','RISK_FSTQPD30']]).sort_values(by=['RISK_SCORE'],ascending=False)\n",
    "print(\"\\nTotal bad :\",df['RISK_FSTQPD30'].sum())\n",
    "print(\"Bad captured in worst category :\",'{:,.2%}'.format(cd.groupby(pd.qcut(cd['RISK_SCORE'],10,duplicates='drop')).sum()['RISK_FSTQPD30'][-1]/df['RISK_FSTQPD30'].sum()))\n",
    "print(\"\\n\",cd.groupby(pd.qcut(cd['RISK_SCORE'],10,duplicates='drop')).mean())\n",
    "print(cd.groupby(pd.qcut(cd['RISK_SCORE'],10,duplicates='drop')).sum())"
   ]
  },
  {
   "cell_type": "code",
   "execution_count": 63,
   "metadata": {
    "scrolled": false
   },
   "outputs": [
    {
     "name": "stdout",
     "output_type": "stream",
     "text": [
      "Bad captured in worst category Partner Score test sample : 14.64%\n",
      "\n",
      "Total bads in test sample: 2629\n",
      "                                   pred       act\n",
      "pred                                             \n",
      "(0.48760000000000003, 0.4925]  0.492270  0.028775\n",
      "(0.4925, 0.4933]               0.493157  0.033363\n",
      "(0.4933, 0.4936]               0.493596  0.034191\n",
      "(0.4936, 0.4937]               0.493731  0.031152\n",
      "(0.4937, 0.4939]               0.493774  0.048000\n",
      "(0.4939, 0.4955]               0.494751  0.040674\n",
      "(0.4955, 0.4968]               0.496166  0.049174\n",
      "(0.4968, 0.5025]               0.497853  0.054656\n",
      "                                      pred  act\n",
      "pred                                           \n",
      "(0.48760000000000003, 0.4925]  7407.672363  433\n",
      "(0.4925, 0.4933]               3902.353271  264\n",
      "(0.4933, 0.4936]               6409.841309  444\n",
      "(0.4936, 0.4937]               6957.662598  439\n",
      "(0.4937, 0.4939]                123.443413   12\n",
      "(0.4939, 0.4955]               3551.815674  292\n",
      "(0.4955, 0.4968]               3632.433350  360\n",
      "(0.4968, 0.5025]               3506.874023  385\n"
     ]
    }
   ],
   "source": [
    "## Bad rates in overall population \n",
    "cdt=pd.DataFrame(outtest[['pred','act']])\n",
    "print(\"Bad captured in worst category Partner Score test sample :\",'{:,.2%}'.format(cdt.groupby(pd.qcut(cdt['pred'],10,duplicates='drop')).sum()['act'][-1]/cdt['act'].sum()))\n",
    "print(\"\\nTotal bads in test sample:\",cdt['act'].sum())\n",
    "print(cdt.groupby(pd.qcut(cdt['pred'],10,duplicates='drop')).mean())\n",
    "print(cdt.groupby(pd.qcut(cdt['pred'],10,duplicates='drop')).sum())"
   ]
  },
  {
   "cell_type": "code",
   "execution_count": 64,
   "metadata": {},
   "outputs": [],
   "source": [
    "## Pillar  approach to combine score\n",
    "hcc_score = 'RISK_SCORE'\n",
    "X_pillar_train = pd.DataFrame()\n",
    "X_pillar_test = pd.DataFrame()\n",
    "\n",
    "X_pillar_train[hcc_score]=df_train['RISK_SCORE']; \n",
    "X_pillar_test[hcc_score]=df_test['RISK_SCORE']\n",
    "\n",
    "X_pillar_train[\"XGB_SCORE\"] =  bst.predict_proba(df_train[selected_vars[0]], ntree_limit=bst.best_ntree_limit)[:, 1]\n",
    "X_pillar_test[\"XGB_SCORE\"]  =  bst.predict_proba(df_test[selected_vars[0]], ntree_limit=bst.best_ntree_limit)[:, 1]\n",
    "\n",
    "X_pillar_train[\"FSTQ\"] = df_train['RISK_FSTQPD30']\n",
    "X_pillar_test[\"FSTQ\"] = df_test['RISK_FSTQPD30']\n",
    "\n",
    "X_train_log = X_pillar_train.loc[pd.notnull(X_pillar_train[hcc_score]),['RISK_SCORE','XGB_SCORE']]\n",
    "y_train_log = X_pillar_train.loc[pd.notnull(X_pillar_train[hcc_score]),['FSTQ']]\n",
    "\n",
    "X_test_log = X_pillar_test.loc[pd.notnull(X_pillar_test[hcc_score]),['RISK_SCORE','XGB_SCORE']]\n",
    "y_test_log = X_pillar_test.loc[pd.notnull(X_pillar_test[hcc_score]),['FSTQ']]\n",
    "\n",
    "X_train_log = np.log((X_train_log + 1e-10).divide(1 - (X_train_log + 1e-10)))\n",
    "X_test_log = np.log((X_test_log + 1e-10).divide(1 - (X_test_log + 1e-10)))\n",
    "\n",
    "\n"
   ]
  },
  {
   "cell_type": "code",
   "execution_count": 65,
   "metadata": {},
   "outputs": [],
   "source": [
    "df[\"RISK_SCORE_LOG\"]= np.log((df[\"RISK_SCORE\"] + 1e-10).divide(1 - (df[\"RISK_SCORE\"] + 1e-10)))\n",
    "df[\"XGB_SCORE_LOG\"]= np.log((df[\"XGB_SCORE\"] + 1e-10).divide(1 - (df[\"XGB_SCORE\"] + 1e-10)))\n"
   ]
  },
  {
   "cell_type": "code",
   "execution_count": 66,
   "metadata": {
    "scrolled": true
   },
   "outputs": [
    {
     "name": "stderr",
     "output_type": "stream",
     "text": [
      "C:\\Users\\aman.khatri91425\\AppData\\Local\\Continuum\\anaconda3\\lib\\site-packages\\sklearn\\linear_model\\logistic.py:433: FutureWarning: Default solver will be changed to 'lbfgs' in 0.22. Specify a solver to silence this warning.\n",
      "  FutureWarning)\n",
      "C:\\Users\\aman.khatri91425\\AppData\\Local\\Continuum\\anaconda3\\lib\\site-packages\\sklearn\\linear_model\\logistic.py:1300: UserWarning: 'n_jobs' > 1 does not have any effect when 'solver' is set to 'liblinear'. Got 'n_jobs' = 8.\n",
      "  \" = {}.\".format(effective_n_jobs(self.n_jobs)))\n"
     ]
    }
   ],
   "source": [
    "logreg = LogisticRegression(C=11, n_jobs=cpu)\n",
    "\n",
    "# cross validation gini\n",
    "kfolds = StratifiedKFold(10, random_state=1)\n",
    "auc_cv = cross_val_score(logreg, X_train_log, np.ravel(y_train_log), scoring='roc_auc',\n",
    "                         cv=kfolds.split(X_test_log, np.ravel(y_test_log)), n_jobs=cpu)\n",
    "gini_cv = (2 * np.array(auc_cv) - 1).mean()\n",
    "\n",
    "logreg.fit(X_train_log, np.ravel(y_train_log))\n",
    "log_coef_tbl = pd.DataFrame({'predictor': ['intercept'] + X_train_log.columns.tolist(),\n",
    "                             'coefficient': list(logreg.intercept_) + list(logreg.coef_[0])})\n",
    "log_coef_tbl = log_coef_tbl[['predictor', 'coefficient']]"
   ]
  },
  {
   "cell_type": "code",
   "execution_count": 67,
   "metadata": {},
   "outputs": [
    {
     "data": {
      "text/html": [
       "<div>\n",
       "<style scoped>\n",
       "    .dataframe tbody tr th:only-of-type {\n",
       "        vertical-align: middle;\n",
       "    }\n",
       "\n",
       "    .dataframe tbody tr th {\n",
       "        vertical-align: top;\n",
       "    }\n",
       "\n",
       "    .dataframe thead th {\n",
       "        text-align: right;\n",
       "    }\n",
       "</style>\n",
       "<table border=\"1\" class=\"dataframe\">\n",
       "  <thead>\n",
       "    <tr style=\"text-align: right;\">\n",
       "      <th></th>\n",
       "      <th>predictor</th>\n",
       "      <th>coefficient</th>\n",
       "    </tr>\n",
       "  </thead>\n",
       "  <tbody>\n",
       "    <tr>\n",
       "      <th>0</th>\n",
       "      <td>intercept</td>\n",
       "      <td>1.700259</td>\n",
       "    </tr>\n",
       "    <tr>\n",
       "      <th>1</th>\n",
       "      <td>RISK_SCORE</td>\n",
       "      <td>0.864673</td>\n",
       "    </tr>\n",
       "    <tr>\n",
       "      <th>2</th>\n",
       "      <td>XGB_SCORE</td>\n",
       "      <td>25.784240</td>\n",
       "    </tr>\n",
       "  </tbody>\n",
       "</table>\n",
       "</div>"
      ],
      "text/plain": [
       "    predictor  coefficient\n",
       "0   intercept     1.700259\n",
       "1  RISK_SCORE     0.864673\n",
       "2   XGB_SCORE    25.784240"
      ]
     },
     "execution_count": 67,
     "metadata": {},
     "output_type": "execute_result"
    }
   ],
   "source": [
    "log_coef_tbl"
   ]
  },
  {
   "cell_type": "code",
   "execution_count": 68,
   "metadata": {},
   "outputs": [
    {
     "name": "stdout",
     "output_type": "stream",
     "text": [
      "GINI TRAIN: 0.351788836672724\n",
      "GINI TEST: 0.3666934275319309\n",
      "GINI CV: 0.3573423939266248\n"
     ]
    }
   ],
   "source": [
    "## Model performance\n",
    "ypred_train_pillar = logreg.predict_proba(X_train_log)[:, 1]\n",
    "metric_auc_train_log = metrics.roc_auc_score(np.ravel(y_train_log), ypred_train_pillar)\n",
    "gini_train_pillar = 2 * metric_auc_train_log - 1\n",
    "ypred_test_pillar = logreg.predict_proba(X_test_log)[:, 1]\n",
    "metric_auc_test_log = metrics.roc_auc_score(np.ravel(y_test_log), ypred_test_pillar)\n",
    "gini_test_pillar = 2 * metric_auc_test_log - 1\n",
    "\n",
    "print(\"GINI TRAIN:\",gini_train_pillar )\n",
    "print(\"GINI TEST:\",gini_test_pillar )\n",
    "print(\"GINI CV:\",gini_cv)"
   ]
  },
  {
   "cell_type": "code",
   "execution_count": 69,
   "metadata": {},
   "outputs": [],
   "source": [
    "df[\"COMBINED_SCORE\"] = logreg.predict_proba(df[['RISK_SCORE_LOG', 'XGB_SCORE_LOG']])[:, 1]"
   ]
  },
  {
   "cell_type": "code",
   "execution_count": 70,
   "metadata": {},
   "outputs": [
    {
     "name": "stdout",
     "output_type": "stream",
     "text": [
      "COMBINED: 0.3569917875213029\n",
      "RISK: 0.3387430650672323\n",
      "XGB: 0.14462830727088116\n"
     ]
    }
   ],
   "source": [
    "print(\"COMBINED:\",2*metrics.roc_auc_score(df[\"RISK_FSTQPD30\"], df[\"COMBINED_SCORE\"])-1)\n",
    "print(\"RISK:\",2*metrics.roc_auc_score(df[\"RISK_FSTQPD30\"], df[\"RISK_SCORE\"])-1)\n",
    "print(\"XGB:\",2*metrics.roc_auc_score(df[\"RISK_FSTQPD30\"], df[\"XGB_SCORE\"])-1)\n"
   ]
  },
  {
   "cell_type": "code",
   "execution_count": 71,
   "metadata": {},
   "outputs": [],
   "source": [
    "df.to_pickle(os.getcwd()+\"\\scored_clx.pkl\")"
   ]
  },
  {
   "cell_type": "code",
   "execution_count": 72,
   "metadata": {},
   "outputs": [],
   "source": [
    "df.to_csv(os.getcwd()+\"\\scored_clx.csv\")"
   ]
  },
  {
   "cell_type": "code",
   "execution_count": 183,
   "metadata": {},
   "outputs": [
    {
     "name": "stderr",
     "output_type": "stream",
     "text": [
      "C:\\Users\\aman.khatri91425\\AppData\\Local\\Continuum\\anaconda3\\lib\\site-packages\\ipykernel_launcher.py:1: SettingWithCopyWarning: \n",
      "A value is trying to be set on a copy of a slice from a DataFrame.\n",
      "Try using .loc[row_indexer,col_indexer] = value instead\n",
      "\n",
      "See the caveats in the documentation: http://pandas.pydata.org/pandas-docs/stable/indexing.html#indexing-view-versus-copy\n",
      "  \"\"\"Entry point for launching an IPython kernel.\n"
     ]
    }
   ],
   "source": [
    "outtest1=df_train;  outtest1['pred']=ypred_train_pillar ; outtest1['act']=ypred ; \n",
    "# outtest1.to_csv(r\"clx\\\\comb_cd_fstq_clx_mix.csv\")"
   ]
  },
  {
   "cell_type": "code",
   "execution_count": 185,
   "metadata": {},
   "outputs": [
    {
     "name": "stdout",
     "output_type": "stream",
     "text": [
      "[[142578   6122]\n",
      " [  6448   1379]]\n"
     ]
    },
    {
     "data": {
      "text/plain": [
       "<matplotlib.axes._subplots.AxesSubplot at 0x1792dfc4ac8>"
      ]
     },
     "execution_count": 185,
     "metadata": {},
     "output_type": "execute_result"
    },
    {
     "data": {
      "image/png": "[encoded data removed]",
      "text/plain": [
       "<Figure size 432x288 with 1 Axes>"
      ]
     },
     "metadata": {
      "needs_background": "light"
     },
     "output_type": "display_data"
    }
   ],
   "source": [
    "#metrics calculation\n",
    "cutoff=np.percentile(ypred_test_pillar,95)\n",
    "ypred=pd.Series(ypred_test_pillar).apply(lambda x : 1 if x >cutoff else 0 )\n",
    "\n",
    "print(confusion_matrix(ypred,df_test['RISK_FSTQPD30'] ))\n",
    "pd.Series(ypred_test_pillar).plot.hist(bins=10, rwidth=0.9 ,color='#607c8e')"
   ]
  },
  {
   "cell_type": "code",
   "execution_count": 187,
   "metadata": {},
   "outputs": [
    {
     "name": "stdout",
     "output_type": "stream",
     "text": [
      "\n",
      " Log Loss is : 0.17538083533977336\n",
      "Average precision-recall score: 0.13\n"
     ]
    }
   ],
   "source": [
    "print(\"\\n Log Loss is :\",log_loss(df_test['RISK_FSTQPD30'], ypred_test_pillar))\n",
    "print('Average precision-recall score: {0:0.2f}'.format(average_precision_score(df_test['RISK_FSTQPD30'], ypred_test_pillar)))"
   ]
  },
  {
   "cell_type": "code",
   "execution_count": 188,
   "metadata": {},
   "outputs": [
    {
     "data": {
      "text/plain": [
       "156527"
      ]
     },
     "execution_count": 188,
     "metadata": {},
     "output_type": "execute_result"
    }
   ],
   "source": [
    "len(ypred_test_pillar)"
   ]
  },
  {
   "cell_type": "code",
   "execution_count": 191,
   "metadata": {},
   "outputs": [
    {
     "data": {
      "image/png": "[encoded data removed]",
      "text/plain": [
       "<Figure size 432x288 with 1 Axes>"
      ]
     },
     "metadata": {
      "needs_background": "light"
     },
     "output_type": "display_data"
    }
   ],
   "source": [
    "## PRC curve\n",
    "#precision, recall, _ = precision_recall_curve(ypred, ypred_test_pillar)\n",
    "\n",
    "# step_kwargs = ({'step': 'post'}\n",
    "#                #if 'step' in signature(plt.fill_between).parameters\n",
    "#                #else {}\n",
    "#               )\n",
    "# plt.step(recall, precision, color='b', alpha=0.2, where='post')\n",
    "# plt.fill_between(recall, precision, alpha=0.2, color='b', **step_kwargs)\n",
    "\n",
    "# plt.xlabel('Recall')\n",
    "# plt.ylabel('Precision')\n",
    "# plt.ylim([0.0, 0.5])\n",
    "# plt.xlim([0.0, 0.5])\n",
    "# plt.title('2-class Precision-Recall curve: AP={0:0.2f}'.format(average_precision_score(test['RISK_FSTQPD30'], ypred_test_pillar)))\n",
    "\n",
    "# # calculate precision-recall AUC\n",
    "# auc_pr = auc(recall, precision)\n",
    "# print(\"\\n AUC for precision-recall :\",auc_pr)\n",
    "\n",
    "# Compute micro-average ROC curve and ROC area\n",
    "fprhc, tprhc, thresholds = roc_curve(df_test['RISK_FSTQPD30'], df_test['RISK_SCORE'].ravel())\n",
    "roc_auchc = auc(fprhc, tprhc)\n",
    "\n",
    "fprc, tprc, thresholds = roc_curve(df_test['RISK_FSTQPD30'], ypred_test_pillar.ravel())\n",
    "roc_aucc = auc(fprc, tprc)\n",
    "\n",
    "plt.figure()\n",
    "lw = 1\n",
    "plt.plot(fprc, tprc, lw=lw, label='ROC Comb (area = %0.2f)' % roc_aucc)\n",
    "plt.plot(fprhc, tprhc, lw=lw, label='ROC HC (area = %0.2f)' % roc_auchc)\n",
    "plt.plot([0, 1], [0, 1], color='navy', lw=lw, linestyle='--')\n",
    "plt.plot(fpr, tpr, lw=lw, label='ROC partner (area = %0.2f)' % roc_auc)\n",
    "plt.xlim([0.0, 1.0])\n",
    "plt.ylim([0.0, 1.05])\n",
    "plt.xlabel('False Positive Rate')\n",
    "plt.ylabel('True Positive Rate')\n",
    "plt.title('Receiver operating characteristic example')\n",
    "plt.legend(loc=\"lower right\")\n",
    "plt.show()"
   ]
  },
  {
   "cell_type": "code",
   "execution_count": 192,
   "metadata": {},
   "outputs": [
    {
     "name": "stderr",
     "output_type": "stream",
     "text": [
      "C:\\Users\\aman.khatri91425\\AppData\\Local\\Continuum\\anaconda3\\lib\\site-packages\\ipykernel_launcher.py:3: RuntimeWarning: invalid value encountered in double_scalars\n",
      "  This is separate from the ipykernel package so we can avoid doing imports until\n"
     ]
    },
    {
     "name": "stdout",
     "output_type": "stream",
     "text": [
      "Bad captured in worst category Partner Score test sample : nan%\n",
      "\n",
      "Total bads in test sample: 0.0\n",
      "                                    pred  act\n",
      "pred                                         \n",
      "(0.0010999999999999998, 0.013]  0.010212  NaN\n",
      "(0.013, 0.0172]                 0.015118  NaN\n",
      "(0.0172, 0.0218]                0.019389  NaN\n",
      "(0.0218, 0.0275]                0.024509  NaN\n",
      "(0.0275, 0.0349]                0.031050  NaN\n",
      "(0.0349, 0.0446]                0.039549  NaN\n",
      "(0.0446, 0.0575]                0.050768  NaN\n",
      "(0.0575, 0.076]                 0.066081  NaN\n",
      "(0.076, 0.107]                  0.089877  NaN\n",
      "(0.107, 0.761]                  0.155165  NaN\n",
      "                                       pred  act\n",
      "pred                                            \n",
      "(0.0010999999999999998, 0.013]   444.828074  0.0\n",
      "(0.013, 0.0172]                  658.502230  0.0\n",
      "(0.0172, 0.0218]                 844.529222  0.0\n",
      "(0.0218, 0.0275]                1067.607185  0.0\n",
      "(0.0275, 0.0349]                1352.474892  0.0\n",
      "(0.0349, 0.0446]                1722.683477  0.0\n",
      "(0.0446, 0.0575]                2211.409553  0.0\n",
      "(0.0575, 0.076]                 2878.359627  0.0\n",
      "(0.076, 0.107]                  3914.871747  0.0\n",
      "(0.107, 0.761]                  6758.822065  0.0\n"
     ]
    }
   ],
   "source": [
    "## Bad rates combined score in overall population \n",
    "cdt=pd.DataFrame(outtest1[['pred','act']])\n",
    "print(\"Bad captured in worst category Partner Score test sample :\",'{:,.2%}'.format(cdt.groupby(pd.qcut(cdt['pred'],10,duplicates='drop')).sum()['act'][-1]/cdt['act'].sum()))\n",
    "print(\"\\nTotal bads in test sample:\",cdt['act'].sum())\n",
    "print(cdt.groupby(pd.qcut(cdt['pred'],10,duplicates='drop')).mean())\n",
    "print(cdt.groupby(pd.qcut(cdt['pred'],10,duplicates='drop')).sum())"
   ]
  },
  {
   "cell_type": "code",
   "execution_count": null,
   "metadata": {},
   "outputs": [],
   "source": []
  }
 ],
 "metadata": {
  "kernelspec": {
   "display_name": "Python 3",
   "language": "python",
   "name": "python3"
  },
  "language_info": {
   "codemirror_mode": {
    "name": "ipython",
    "version": 3
   },
   "file_extension": ".py",
   "mimetype": "text/x-python",
   "name": "python",
   "nbconvert_exporter": "python",
   "pygments_lexer": "ipython3",
   "version": "3.7.3"
  }
 },
 "nbformat": 4,
 "nbformat_minor": 2
}
