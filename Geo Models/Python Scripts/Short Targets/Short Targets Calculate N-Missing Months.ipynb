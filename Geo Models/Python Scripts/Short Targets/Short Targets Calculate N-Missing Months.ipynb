{
 "cells": [
  {
   "cell_type": "code",
   "execution_count": 5,
   "metadata": {},
   "outputs": [],
   "source": [
    "import os\n",
    "import cx_Oracle\n",
    "import pandas as pd\n",
    "import numpy as np\n",
    "import pickle\n",
    "from datetime import date,datetime\n",
    "from sklearn import metrics\n",
    "from sklearn.model_selection import train_test_split, StratifiedKFold, RandomizedSearchCV, cross_val_score \n",
    "import time\n",
    "import matplotlib.pyplot as plt\n",
    "from sklearn.utils import resample\n",
    "import datetime"
   ]
  },
  {
   "cell_type": "code",
   "execution_count": 6,
   "metadata": {},
   "outputs": [],
   "source": [
    "#connection = cx_Oracle.connect('HCIN_GUPTAN1[AP_UWI]/aGqQ4jnX92NG@INCL02.IN.PROD/HWIN_USR_DEV.HOMECREDIT.IN')\n",
    "#cursor = connection.cursor()\n",
    "#os.chdir(r\"C:\\Users\\aman.khatri91425\\Desktop\\HomeCredit\\Bigdata\\Common Maps KNN\")\n",
    "#df=pd.read_pickle(os.getcwd()+\"\\\\Data Files\\\\sql_data.pkl\")\n",
    "# qu1= \"\"\"\n",
    "# select * from TMP_BD_GRID_DISTANCE_ID_NEW\n",
    "# where risk_agrf120 =1 \n",
    "# \"\"\"\n",
    "#df = pd.read_sql(qu1,connection)\n",
    "#df.to_pickle(r\"C:\\Users\\aman.khatri91425\\Desktop\\HomeCredit\\Bigdata\\Common Maps KNN\\data_dump.pkl\")\n",
    "#df.to_csv(r\"C:\\Users\\aman.khatri91425\\Desktop\\HomeCredit\\Bigdata\\Common Maps KNN\\data_dump.csv\")"
   ]
  },
  {
   "cell_type": "code",
   "execution_count": 7,
   "metadata": {},
   "outputs": [],
   "source": [
    "os.chdir(r\"C:\\Users\\aman.khatri91425\\Desktop\\HomeCredit\\Bigdata\\Common Maps KNN\")"
   ]
  },
  {
   "cell_type": "code",
   "execution_count": 8,
   "metadata": {},
   "outputs": [],
   "source": [
    "# df=pd.read_csv(os.getcwd()+\"\\Data Files\\complete 1.csv\")\n",
    "# df1=pd.read_csv(os.getcwd()+\"\\Data Files\\complete 2.csv\")"
   ]
  },
  {
   "cell_type": "code",
   "execution_count": 9,
   "metadata": {},
   "outputs": [],
   "source": [
    "# df_final = pd.concat([df,df1])\n",
    "# df_final.drop_duplicates(inplace=True)"
   ]
  },
  {
   "cell_type": "code",
   "execution_count": 10,
   "metadata": {},
   "outputs": [],
   "source": [
    "# print(df_final.shape)\n",
    "# print(df.shape)\n",
    "# print(df1.shape)"
   ]
  },
  {
   "cell_type": "code",
   "execution_count": 11,
   "metadata": {},
   "outputs": [],
   "source": [
    "# df_final.to_csv(os.getcwd()+\"\\Data Files\\concated.csv\")\n",
    "# del df\n",
    "# del df_final\n",
    "# del df1\n",
    "\n",
    "#df.to_csv(os.getcwd()+\"\\Data Files\\concated.csv\")"
   ]
  },
  {
   "cell_type": "code",
   "execution_count": 12,
   "metadata": {},
   "outputs": [],
   "source": [
    "#df.to_pickle(os.getcwd()+\"\\Data Files\\concated.pkl\")"
   ]
  },
  {
   "cell_type": "code",
   "execution_count": 13,
   "metadata": {},
   "outputs": [],
   "source": [
    "df = pd.read_csv(os.getcwd()+r\"\\Data Files\\final_grids.csv\")"
   ]
  },
  {
   "cell_type": "code",
   "execution_count": 14,
   "metadata": {},
   "outputs": [],
   "source": [
    "df[\"TIME_DECISION_DATE\"] = pd.to_datetime(df[\"TIME_DECISION_DATE\"],format = '%d-%m-%y')\n",
    "df[\"MONTH_STR\"] = df[\"TIME_DECISION_DATE\"].dt.strftime(\"%Y-%m\")"
   ]
  },
  {
   "cell_type": "code",
   "execution_count": 15,
   "metadata": {
    "scrolled": false
   },
   "outputs": [
    {
     "data": {
      "text/html": [
       "<div>\n",
       "<style scoped>\n",
       "    .dataframe tbody tr th:only-of-type {\n",
       "        vertical-align: middle;\n",
       "    }\n",
       "\n",
       "    .dataframe tbody tr th {\n",
       "        vertical-align: top;\n",
       "    }\n",
       "\n",
       "    .dataframe thead th {\n",
       "        text-align: right;\n",
       "    }\n",
       "</style>\n",
       "<table border=\"1\" class=\"dataframe\">\n",
       "  <thead>\n",
       "    <tr style=\"text-align: right;\">\n",
       "      <th></th>\n",
       "      <th>SKP_CREDIT_CASE</th>\n",
       "      <th>TIME_DECISION_DATE</th>\n",
       "      <th>CUS_LAT</th>\n",
       "      <th>CUS_LONG</th>\n",
       "      <th>RISK_FPD10</th>\n",
       "      <th>RISK_FPD30</th>\n",
       "      <th>RISK_FSPD30</th>\n",
       "      <th>RISK_FSTPD30</th>\n",
       "      <th>RISK_FSTQPD30</th>\n",
       "      <th>RISK_FSTQPD60</th>\n",
       "      <th>NTC_FLAG</th>\n",
       "      <th>GRID_ID</th>\n",
       "      <th>RISK_SCORE</th>\n",
       "      <th>MONTH_STR</th>\n",
       "    </tr>\n",
       "  </thead>\n",
       "  <tbody>\n",
       "    <tr>\n",
       "      <th>0</th>\n",
       "      <td>97173082</td>\n",
       "      <td>2017-01-01</td>\n",
       "      <td>28.704380</td>\n",
       "      <td>77.062527</td>\n",
       "      <td>0.0</td>\n",
       "      <td>0.0</td>\n",
       "      <td>0.0</td>\n",
       "      <td>0.0</td>\n",
       "      <td>0.0</td>\n",
       "      <td>NaN</td>\n",
       "      <td>NTC</td>\n",
       "      <td>500_01815_04683</td>\n",
       "      <td>NaN</td>\n",
       "      <td>2017-01</td>\n",
       "    </tr>\n",
       "    <tr>\n",
       "      <th>1</th>\n",
       "      <td>97173083</td>\n",
       "      <td>2017-01-01</td>\n",
       "      <td>19.134879</td>\n",
       "      <td>72.837583</td>\n",
       "      <td>0.0</td>\n",
       "      <td>0.0</td>\n",
       "      <td>0.0</td>\n",
       "      <td>0.0</td>\n",
       "      <td>0.0</td>\n",
       "      <td>NaN</td>\n",
       "      <td>NTC</td>\n",
       "      <td>500_00897_02634</td>\n",
       "      <td>NaN</td>\n",
       "      <td>2017-01</td>\n",
       "    </tr>\n",
       "    <tr>\n",
       "      <th>2</th>\n",
       "      <td>97173084</td>\n",
       "      <td>2017-01-01</td>\n",
       "      <td>19.253689</td>\n",
       "      <td>73.120929</td>\n",
       "      <td>0.0</td>\n",
       "      <td>0.0</td>\n",
       "      <td>0.0</td>\n",
       "      <td>0.0</td>\n",
       "      <td>0.0</td>\n",
       "      <td>NaN</td>\n",
       "      <td>NTC</td>\n",
       "      <td>500_00957_02656</td>\n",
       "      <td>NaN</td>\n",
       "      <td>2017-01</td>\n",
       "    </tr>\n",
       "    <tr>\n",
       "      <th>3</th>\n",
       "      <td>97173086</td>\n",
       "      <td>2017-01-01</td>\n",
       "      <td>28.621763</td>\n",
       "      <td>77.055823</td>\n",
       "      <td>0.0</td>\n",
       "      <td>0.0</td>\n",
       "      <td>0.0</td>\n",
       "      <td>0.0</td>\n",
       "      <td>0.0</td>\n",
       "      <td>NaN</td>\n",
       "      <td>NTC</td>\n",
       "      <td>500_01813_04665</td>\n",
       "      <td>NaN</td>\n",
       "      <td>2017-01</td>\n",
       "    </tr>\n",
       "    <tr>\n",
       "      <th>4</th>\n",
       "      <td>97173087</td>\n",
       "      <td>2017-01-01</td>\n",
       "      <td>28.696583</td>\n",
       "      <td>77.481698</td>\n",
       "      <td>0.0</td>\n",
       "      <td>0.0</td>\n",
       "      <td>0.0</td>\n",
       "      <td>0.0</td>\n",
       "      <td>0.0</td>\n",
       "      <td>NaN</td>\n",
       "      <td>NTC</td>\n",
       "      <td>500_01895_04679</td>\n",
       "      <td>NaN</td>\n",
       "      <td>2017-01</td>\n",
       "    </tr>\n",
       "  </tbody>\n",
       "</table>\n",
       "</div>"
      ],
      "text/plain": [
       "   SKP_CREDIT_CASE TIME_DECISION_DATE    CUS_LAT   CUS_LONG  RISK_FPD10  \\\n",
       "0         97173082         2017-01-01  28.704380  77.062527         0.0   \n",
       "1         97173083         2017-01-01  19.134879  72.837583         0.0   \n",
       "2         97173084         2017-01-01  19.253689  73.120929         0.0   \n",
       "3         97173086         2017-01-01  28.621763  77.055823         0.0   \n",
       "4         97173087         2017-01-01  28.696583  77.481698         0.0   \n",
       "\n",
       "   RISK_FPD30  RISK_FSPD30  RISK_FSTPD30  RISK_FSTQPD30  RISK_FSTQPD60  \\\n",
       "0         0.0          0.0           0.0            0.0            NaN   \n",
       "1         0.0          0.0           0.0            0.0            NaN   \n",
       "2         0.0          0.0           0.0            0.0            NaN   \n",
       "3         0.0          0.0           0.0            0.0            NaN   \n",
       "4         0.0          0.0           0.0            0.0            NaN   \n",
       "\n",
       "  NTC_FLAG          GRID_ID  RISK_SCORE MONTH_STR  \n",
       "0      NTC  500_01815_04683         NaN   2017-01  \n",
       "1      NTC  500_00897_02634         NaN   2017-01  \n",
       "2      NTC  500_00957_02656         NaN   2017-01  \n",
       "3      NTC  500_01813_04665         NaN   2017-01  \n",
       "4      NTC  500_01895_04679         NaN   2017-01  "
      ]
     },
     "execution_count": 15,
     "metadata": {},
     "output_type": "execute_result"
    }
   ],
   "source": [
    "df.head()"
   ]
  },
  {
   "cell_type": "code",
   "execution_count": 16,
   "metadata": {},
   "outputs": [],
   "source": [
    "df_summ = df[[\"RISK_FSTQPD30\",\"MONTH_STR\"]].groupby(\"MONTH_STR\").aggregate([\"count\",\"sum\"])[\"RISK_FSTQPD30\"]\n",
    "df_summ[\"bad_rate\"] = df_summ[\"sum\"]/df_summ[\"count\"]"
   ]
  },
  {
   "cell_type": "code",
   "execution_count": 17,
   "metadata": {},
   "outputs": [
    {
     "data": {
      "image/png": "[encoded data removed]",
      "text/plain": [
       "<Figure size 1080x288 with 2 Axes>"
      ]
     },
     "metadata": {
      "needs_background": "light"
     },
     "output_type": "display_data"
    }
   ],
   "source": [
    "df_summ[['sum','count']].plot(kind='bar', width = 0.8, figsize=(15,4))\n",
    "df_summ['bad_rate'].plot(secondary_y=True)\n",
    "\n",
    "ax = plt.gca()\n",
    "plt.xlim([-0.35, len(df_summ['sum'])-0.35])\n",
    "ax.set_xticklabels(df_summ.index)\n",
    "plt.ylim\n",
    "fig = ax.get_figure()\n",
    "ax = fig.get_axes()\n",
    "ax[1].set_ylim(0,0.15)\n",
    "ax[0].legend(['CD_Contracts','CD_Defaults'])\n",
    "ax[1].legend([\"Default Rate\"], loc = \"center right\")\n",
    "\n",
    "\n",
    "plt.show()\n"
   ]
  },
  {
   "cell_type": "code",
   "execution_count": 19,
   "metadata": {},
   "outputs": [
    {
     "data": {
      "text/plain": [
       "RISK_FPD10       0.410045\n",
       "RISK_FPD30       0.378888\n",
       "RISK_FSPD30      0.575359\n",
       "RISK_FSTPD30     0.743007\n",
       "RISK_FSTQPD30    1.000000\n",
       "RISK_FSTQPD60    0.836501\n",
       "Name: RISK_FSTQPD30, dtype: float64"
      ]
     },
     "execution_count": 19,
     "metadata": {},
     "output_type": "execute_result"
    }
   ],
   "source": [
    "df[df[\"TIME_DECISION_DATE\"]<=datetime.datetime(2019,7,1)][[\"RISK_FPD10\",\"RISK_FPD30\",\"RISK_FSPD30\",\"RISK_FSTPD30\",\"RISK_FSTQPD30\",\"RISK_FSTQPD60\"]].corr()[\"RISK_FSTQPD30\"]"
   ]
  },
  {
   "cell_type": "markdown",
   "metadata": {},
   "source": [
    "# Try FPD10 for MM and validate performance on FSTQPD30"
   ]
  },
  {
   "cell_type": "code",
   "execution_count": 20,
   "metadata": {},
   "outputs": [],
   "source": [
    "# Split Train and Test Data Set\n",
    "df_train = df[(df[\"TIME_DECISION_DATE\"]>=datetime.datetime(2019, 1, 1)) & \n",
    "              (df[\"TIME_DECISION_DATE\"]<=datetime.datetime(2019, 4, 21))]\n",
    "df_test = df[(df[\"TIME_DECISION_DATE\"]>=datetime.datetime(2019, 6, 1)) & \n",
    "               (df[\"TIME_DECISION_DATE\"]<=datetime.datetime(2019, 8, 31))]"
   ]
  },
  {
   "cell_type": "code",
   "execution_count": 21,
   "metadata": {},
   "outputs": [
    {
     "name": "stdout",
     "output_type": "stream",
     "text": [
      "(1391255, 14)\n",
      "(1078674, 14)\n"
     ]
    },
    {
     "data": {
      "text/plain": [
       "0.0    1338469\n",
       "1.0      52786\n",
       "Name: RISK_FPD10, dtype: int64"
      ]
     },
     "execution_count": 21,
     "metadata": {},
     "output_type": "execute_result"
    }
   ],
   "source": [
    "print(df_train.shape)\n",
    "print(df_test.shape)\n",
    "df_train.RISK_FPD10.value_counts()"
   ]
  },
  {
   "cell_type": "code",
   "execution_count": 22,
   "metadata": {},
   "outputs": [],
   "source": [
    "target = \"RISK_FPD10\""
   ]
  },
  {
   "cell_type": "code",
   "execution_count": 23,
   "metadata": {},
   "outputs": [
    {
     "name": "stdout",
     "output_type": "stream",
     "text": [
      "Random under-sampling:\n",
      "1.0    50000\n",
      "0.0    50000\n",
      "Name: RISK_FPD10, dtype: int64\n"
     ]
    },
    {
     "data": {
      "image/png": "[encoded data removed]",
      "text/plain": [
       "<Figure size 432x288 with 1 Axes>"
      ]
     },
     "metadata": {
      "needs_background": "light"
     },
     "output_type": "display_data"
    }
   ],
   "source": [
    "#Downsampling Code \n",
    "#count_class_0, count_class_1 = df_train.RISK_FPD10.value_counts()\n",
    "count_class_0, count_class_1 = (50000,50000)\n",
    "df_class_0 = df_train[df_train[target] == 0]\n",
    "df_class_1 = df_train[df_train[target] == 1]\n",
    "df_class_0_under = df_class_0.sample(count_class_0, random_state = 2)\n",
    "df_class_1_under = df_class_1.sample(count_class_1, random_state = 2)\n",
    "df_train_under = pd.concat([df_class_0_under, df_class_1_under], axis=0)\n",
    "\n",
    "print('Random under-sampling:')\n",
    "print(df_train_under[target].value_counts())\n",
    "\n",
    "df_train_under[target].value_counts().plot(kind='bar', title='Count (target)');"
   ]
  },
  {
   "cell_type": "code",
   "execution_count": 24,
   "metadata": {},
   "outputs": [],
   "source": [
    "X_train = df_train_under[[\"CUS_LAT\",\"CUS_LONG\",\"RISK_SCORE\",\"TIME_DECISION_DATE\"]]\n",
    "X_test = df_test[[\"CUS_LAT\",\"CUS_LONG\",\"RISK_SCORE\",\"TIME_DECISION_DATE\"]]\n",
    "\n",
    "y_train = df_train_under[target]\n",
    "y_test =  df_test[target]\n"
   ]
  },
  {
   "cell_type": "code",
   "execution_count": 25,
   "metadata": {},
   "outputs": [
    {
     "name": "stdout",
     "output_type": "stream",
     "text": [
      "\n",
      "Event rate in train set : 50.00%\n",
      "\n",
      "Event rate in test set : 3.53%\n"
     ]
    }
   ],
   "source": [
    "print(\"\\nEvent rate in train set :\", '{:,.2%}'.format(sum(y_train) / len(y_train)))\n",
    "\n",
    "print(\"\\nEvent rate in test set :\", '{:,.2%}'.format(sum(y_test) / len(y_test)))"
   ]
  },
  {
   "cell_type": "code",
   "execution_count": 27,
   "metadata": {},
   "outputs": [],
   "source": [
    "param_grid = {'n_neighbors': np.arange(1,300,10)\n",
    "            }\n",
    "seed = 25"
   ]
  },
  {
   "cell_type": "code",
   "execution_count": 28,
   "metadata": {},
   "outputs": [],
   "source": [
    "from sklearn.neighbors import KNeighborsClassifier\n",
    "# Create KNN classifier\n",
    "knn = KNeighborsClassifier(weights = 'uniform')\n",
    "kfolds = StratifiedKFold(4, random_state=1)\n",
    "\n",
    "clf = RandomizedSearchCV(estimator=knn, param_distributions=param_grid, scoring=['roc_auc'], n_iter=10,\n",
    "                         random_state=seed, cv=kfolds.split(X_train[[\"CUS_LAT\",\"CUS_LONG\"]], y_train), refit='roc_auc',error_score=0, return_train_score =True)\n"
   ]
  },
  {
   "cell_type": "code",
   "execution_count": 29,
   "metadata": {},
   "outputs": [
    {
     "name": "stdout",
     "output_type": "stream",
     "text": [
      "Randomized search..\n",
      "Randomized search time: 201.12963938713074\n"
     ]
    }
   ],
   "source": [
    "print(\"Randomized search..\")\n",
    "\n",
    "search_time_start = time.time()\n",
    "clf.fit(X_train[[\"CUS_LAT\",\"CUS_LONG\"]], np.ravel(y_train))\n",
    "print(\"Randomized search time:\", time.time() - search_time_start)\n",
    "\n",
    "params = clf.best_params_   #get best parameters\n",
    "dic=clf.cv_results_    #provides scoring results for each iteration, 50 in this case, mean values can be used \n",
    "tmp= pd.DataFrame(dic['params'])"
   ]
  },
  {
   "cell_type": "code",
   "execution_count": 328,
   "metadata": {},
   "outputs": [],
   "source": [
    "pd.DataFrame(dic).to_csv(r\"C:\\Users\\aman.khatri91425\\Desktop\\HomeCredit\\Bigdata\\Common Maps KNN\\ShortTargets_RCV_results_FPD10.csv\")"
   ]
  },
  {
   "cell_type": "code",
   "execution_count": 30,
   "metadata": {},
   "outputs": [],
   "source": [
    "tmp1= pd.DataFrame(dic)[[\"param_n_neighbors\",\"mean_test_roc_auc\",\"mean_train_roc_auc\"]].sort_values(by = 'param_n_neighbors')"
   ]
  },
  {
   "cell_type": "code",
   "execution_count": 31,
   "metadata": {},
   "outputs": [
    {
     "data": {
      "text/plain": [
       "<matplotlib.axes._subplots.AxesSubplot at 0x14f9c13c4a8>"
      ]
     },
     "execution_count": 31,
     "metadata": {},
     "output_type": "execute_result"
    },
    {
     "data": {
      "image/png": "[encoded data removed]",
      "text/plain": [
       "<Figure size 432x288 with 1 Axes>"
      ]
     },
     "metadata": {
      "needs_background": "light"
     },
     "output_type": "display_data"
    }
   ],
   "source": [
    "tmp1[[\"param_n_neighbors\",\"mean_test_roc_auc\"]].plot(x=\"param_n_neighbors\")"
   ]
  },
  {
   "cell_type": "code",
   "execution_count": 32,
   "metadata": {},
   "outputs": [
    {
     "data": {
      "text/html": [
       "<div>\n",
       "<style scoped>\n",
       "    .dataframe tbody tr th:only-of-type {\n",
       "        vertical-align: middle;\n",
       "    }\n",
       "\n",
       "    .dataframe tbody tr th {\n",
       "        vertical-align: top;\n",
       "    }\n",
       "\n",
       "    .dataframe thead th {\n",
       "        text-align: right;\n",
       "    }\n",
       "</style>\n",
       "<table border=\"1\" class=\"dataframe\">\n",
       "  <thead>\n",
       "    <tr style=\"text-align: right;\">\n",
       "      <th></th>\n",
       "      <th>param_n_neighbors</th>\n",
       "      <th>mean_test_roc_auc</th>\n",
       "    </tr>\n",
       "  </thead>\n",
       "  <tbody>\n",
       "    <tr>\n",
       "      <th>8</th>\n",
       "      <td>1</td>\n",
       "      <td>0.513750</td>\n",
       "    </tr>\n",
       "    <tr>\n",
       "      <th>2</th>\n",
       "      <td>21</td>\n",
       "      <td>0.552120</td>\n",
       "    </tr>\n",
       "    <tr>\n",
       "      <th>9</th>\n",
       "      <td>61</td>\n",
       "      <td>0.563527</td>\n",
       "    </tr>\n",
       "    <tr>\n",
       "      <th>3</th>\n",
       "      <td>91</td>\n",
       "      <td>0.564421</td>\n",
       "    </tr>\n",
       "    <tr>\n",
       "      <th>6</th>\n",
       "      <td>101</td>\n",
       "      <td>0.564628</td>\n",
       "    </tr>\n",
       "    <tr>\n",
       "      <th>1</th>\n",
       "      <td>111</td>\n",
       "      <td>0.565079</td>\n",
       "    </tr>\n",
       "    <tr>\n",
       "      <th>7</th>\n",
       "      <td>141</td>\n",
       "      <td>0.565172</td>\n",
       "    </tr>\n",
       "    <tr>\n",
       "      <th>0</th>\n",
       "      <td>191</td>\n",
       "      <td>0.565922</td>\n",
       "    </tr>\n",
       "    <tr>\n",
       "      <th>4</th>\n",
       "      <td>241</td>\n",
       "      <td>0.566279</td>\n",
       "    </tr>\n",
       "    <tr>\n",
       "      <th>5</th>\n",
       "      <td>271</td>\n",
       "      <td>0.566047</td>\n",
       "    </tr>\n",
       "  </tbody>\n",
       "</table>\n",
       "</div>"
      ],
      "text/plain": [
       "  param_n_neighbors  mean_test_roc_auc\n",
       "8                 1           0.513750\n",
       "2                21           0.552120\n",
       "9                61           0.563527\n",
       "3                91           0.564421\n",
       "6               101           0.564628\n",
       "1               111           0.565079\n",
       "7               141           0.565172\n",
       "0               191           0.565922\n",
       "4               241           0.566279\n",
       "5               271           0.566047"
      ]
     },
     "execution_count": 32,
     "metadata": {},
     "output_type": "execute_result"
    }
   ],
   "source": [
    "tmp1[[\"param_n_neighbors\",\"mean_test_roc_auc\"]]"
   ]
  },
  {
   "cell_type": "code",
   "execution_count": 33,
   "metadata": {},
   "outputs": [
    {
     "name": "stdout",
     "output_type": "stream",
     "text": [
      "Best score: 0.5662794662962735\n",
      "Best params: \n",
      "n_neighbors: 241\n"
     ]
    }
   ],
   "source": [
    "print(\"Best score: {}\".format(clf.best_score_))    #best auc score as we took that for refit \n",
    "\n",
    "\n",
    "print(\"Best params: \")\n",
    "\n",
    "for param_name in sorted(params.keys()):\n",
    "    print('%s: %r' % (param_name, params[param_name]))"
   ]
  },
  {
   "cell_type": "code",
   "execution_count": 100,
   "metadata": {},
   "outputs": [],
   "source": [
    "param_grid = {'n_neighbors': np.arange(75,300,10)\n",
    "            }\n",
    "seed = 25"
   ]
  },
  {
   "cell_type": "code",
   "execution_count": 101,
   "metadata": {},
   "outputs": [],
   "source": [
    "from sklearn.neighbors import KNeighborsClassifier\n",
    "# Create KNN classifier\n",
    "knn = KNeighborsClassifier(weights = 'uniform')\n",
    "kfolds = StratifiedKFold(3, random_state=1)\n",
    "\n",
    "clf = RandomizedSearchCV(estimator=knn, param_distributions=param_grid, scoring=['roc_auc'], n_iter=6,\n",
    "                         random_state=seed, cv=kfolds.split(X_train[[\"CUS_LAT\",\"CUS_LONG\"]], y_train), refit='roc_auc',error_score=0, return_train_score =True)\n"
   ]
  },
  {
   "cell_type": "code",
   "execution_count": 102,
   "metadata": {},
   "outputs": [
    {
     "name": "stdout",
     "output_type": "stream",
     "text": [
      "Randomized search..\n",
      "Randomized search time: 223.39671349525452\n"
     ]
    }
   ],
   "source": [
    "print(\"Randomized search..\")\n",
    "\n",
    "search_time_start = time.time()\n",
    "clf.fit(X_train[[\"CUS_LAT\",\"CUS_LONG\"]], np.ravel(y_train))\n",
    "print(\"Randomized search time:\", time.time() - search_time_start)\n",
    "\n",
    "params = clf.best_params_   #get best parameters\n",
    "dic=clf.cv_results_    #provides scoring results for each iteration, 50 in this case, mean values can be used \n",
    "tmp= pd.DataFrame(dic['params'])"
   ]
  },
  {
   "cell_type": "code",
   "execution_count": 103,
   "metadata": {},
   "outputs": [
    {
     "data": {
      "text/plain": [
       "<matplotlib.axes._subplots.AxesSubplot at 0x1a75d042748>"
      ]
     },
     "execution_count": 103,
     "metadata": {},
     "output_type": "execute_result"
    },
    {
     "data": {
      "image/png": "[encoded data removed]",
      "text/plain": [
       "<Figure size 432x288 with 1 Axes>"
      ]
     },
     "metadata": {
      "needs_background": "light"
     },
     "output_type": "display_data"
    }
   ],
   "source": [
    "pd.DataFrame(dic).to_csv(r\"C:\\Users\\aman.khatri91425\\Desktop\\HomeCredit\\Bigdata\\ShortTargets_RCV_results_1.csv\")\n",
    "tmp1= pd.DataFrame(dic)[[\"param_n_neighbors\",\"mean_test_roc_auc\",\"mean_train_roc_auc\"]].sort_values(by = 'param_n_neighbors')\n",
    "tmp1[[\"param_n_neighbors\",\"mean_test_roc_auc\"]].plot(x=\"param_n_neighbors\")"
   ]
  },
  {
   "cell_type": "code",
   "execution_count": 105,
   "metadata": {},
   "outputs": [
    {
     "name": "stdout",
     "output_type": "stream",
     "text": [
      "Best score: 0.5635119520666667\n",
      "Best params: \n",
      "n_neighbors: 275\n"
     ]
    }
   ],
   "source": [
    "print(\"Best score: {}\".format(clf.best_score_))    #best auc score as we took that for refit \n",
    "\n",
    "\n",
    "print(\"Best params: \")\n",
    "\n",
    "for param_name in sorted(params.keys()):\n",
    "    print('%s: %r' % (param_name, params[param_name]))"
   ]
  },
  {
   "cell_type": "code",
   "execution_count": null,
   "metadata": {},
   "outputs": [],
   "source": []
  },
  {
   "cell_type": "code",
   "execution_count": null,
   "metadata": {},
   "outputs": [],
   "source": []
  },
  {
   "cell_type": "code",
   "execution_count": 34,
   "metadata": {},
   "outputs": [],
   "source": [
    "#update estimated hyperparameter values to new model\n",
    "from sklearn.neighbors import KNeighborsClassifier\n",
    "params = {'n_neighbors': 241}\n",
    "kfolds = StratifiedKFold(4, random_state=1)\n",
    "knn = KNeighborsClassifier(**params)\n",
    "# cross validation gini\n",
    "auc_cv = cross_val_score(knn, X_train[[\"CUS_LAT\",\"CUS_LONG\"]], y_train, scoring='roc_auc', cv=kfolds.split(X_train[[\"CUS_LAT\",\"CUS_LONG\"]], y_train),\n",
    "                         n_jobs=-1)\n",
    "gini_cv = (2 * np.array(auc_cv) - 1).mean()\n"
   ]
  },
  {
   "cell_type": "code",
   "execution_count": 35,
   "metadata": {},
   "outputs": [],
   "source": [
    "bst = knn.fit(X_train[[\"CUS_LAT\",\"CUS_LONG\"]], np.ravel(y_train))\n",
    "\n",
    "ypred_train = bst.predict_proba(X_train[[\"CUS_LAT\",\"CUS_LONG\"]])[:, 1]\n",
    "ypred_test = bst.predict_proba(X_test[[\"CUS_LAT\",\"CUS_LONG\"]])[:, 1]"
   ]
  },
  {
   "cell_type": "code",
   "execution_count": 36,
   "metadata": {},
   "outputs": [],
   "source": [
    "metric_auc_train = metrics.roc_auc_score(y_train, ypred_train)\n",
    "metric_auc_test = metrics.roc_auc_score(y_test, ypred_test)\n",
    "\n",
    "gini_train = 2 * metric_auc_train - 1\n",
    "gini_test = 2 * metric_auc_test - 1\n"
   ]
  },
  {
   "cell_type": "code",
   "execution_count": 37,
   "metadata": {},
   "outputs": [
    {
     "name": "stdout",
     "output_type": "stream",
     "text": [
      "GINI TRAIN: 17.57%\n",
      "\n",
      "GINI TEST: 9.36%\n",
      "\n",
      "GINI CV: 13.79%\n"
     ]
    }
   ],
   "source": [
    "print(\"GINI TRAIN:\",'{:,.2%}'.format(gini_train))\n",
    "print(\"\\nGINI TEST:\",'{:,.2%}'.format(gini_test))\n",
    "print(\"\\nGINI CV:\",'{:,.2%}'.format(gini_cv))"
   ]
  },
  {
   "cell_type": "code",
   "execution_count": 38,
   "metadata": {},
   "outputs": [
    {
     "name": "stderr",
     "output_type": "stream",
     "text": [
      "C:\\Users\\aman.khatri91425\\AppData\\Local\\Continuum\\anaconda3\\lib\\site-packages\\ipykernel_launcher.py:2: SettingWithCopyWarning: \n",
      "A value is trying to be set on a copy of a slice from a DataFrame.\n",
      "Try using .loc[row_indexer,col_indexer] = value instead\n",
      "\n",
      "See the caveats in the documentation: http://pandas.pydata.org/pandas-docs/stable/indexing.html#indexing-view-versus-copy\n",
      "  \n"
     ]
    }
   ],
   "source": [
    "df_train_under['F10_PRED_SCORE'] = ypred_train\n",
    "df_test['F10_PRED_SCORE'] = ypred_test"
   ]
  },
  {
   "cell_type": "code",
   "execution_count": 39,
   "metadata": {},
   "outputs": [
    {
     "data": {
      "text/html": [
       "<div>\n",
       "<style scoped>\n",
       "    .dataframe tbody tr th:only-of-type {\n",
       "        vertical-align: middle;\n",
       "    }\n",
       "\n",
       "    .dataframe tbody tr th {\n",
       "        vertical-align: top;\n",
       "    }\n",
       "\n",
       "    .dataframe thead th {\n",
       "        text-align: right;\n",
       "    }\n",
       "</style>\n",
       "<table border=\"1\" class=\"dataframe\">\n",
       "  <thead>\n",
       "    <tr style=\"text-align: right;\">\n",
       "      <th></th>\n",
       "      <th>SKP_CREDIT_CASE</th>\n",
       "      <th>TIME_DECISION_DATE</th>\n",
       "      <th>CUS_LAT</th>\n",
       "      <th>CUS_LONG</th>\n",
       "      <th>RISK_FPD10</th>\n",
       "      <th>RISK_FPD30</th>\n",
       "      <th>RISK_FSPD30</th>\n",
       "      <th>RISK_FSTPD30</th>\n",
       "      <th>RISK_FSTQPD30</th>\n",
       "      <th>RISK_FSTQPD60</th>\n",
       "      <th>NTC_FLAG</th>\n",
       "      <th>GRID_ID</th>\n",
       "      <th>RISK_SCORE</th>\n",
       "      <th>MONTH_STR</th>\n",
       "      <th>F10_PRED_SCORE</th>\n",
       "    </tr>\n",
       "  </thead>\n",
       "  <tbody>\n",
       "    <tr>\n",
       "      <th>10847834</th>\n",
       "      <td>237941809</td>\n",
       "      <td>2019-06-01</td>\n",
       "      <td>10.128995</td>\n",
       "      <td>76.380272</td>\n",
       "      <td>0.0</td>\n",
       "      <td>0.0</td>\n",
       "      <td>0.0</td>\n",
       "      <td>0.0</td>\n",
       "      <td>0.0</td>\n",
       "      <td>0.0</td>\n",
       "      <td>Others</td>\n",
       "      <td>500_01579_00624</td>\n",
       "      <td>0.050372</td>\n",
       "      <td>2019-06</td>\n",
       "      <td>0.443983</td>\n",
       "    </tr>\n",
       "    <tr>\n",
       "      <th>10847835</th>\n",
       "      <td>237941812</td>\n",
       "      <td>2019-06-01</td>\n",
       "      <td>18.477572</td>\n",
       "      <td>74.020281</td>\n",
       "      <td>0.0</td>\n",
       "      <td>0.0</td>\n",
       "      <td>0.0</td>\n",
       "      <td>0.0</td>\n",
       "      <td>0.0</td>\n",
       "      <td>0.0</td>\n",
       "      <td>Others</td>\n",
       "      <td>500_01136_02479</td>\n",
       "      <td>0.031215</td>\n",
       "      <td>2019-06</td>\n",
       "      <td>0.518672</td>\n",
       "    </tr>\n",
       "    <tr>\n",
       "      <th>10847836</th>\n",
       "      <td>237941815</td>\n",
       "      <td>2019-06-01</td>\n",
       "      <td>25.280738</td>\n",
       "      <td>82.998425</td>\n",
       "      <td>0.0</td>\n",
       "      <td>0.0</td>\n",
       "      <td>0.0</td>\n",
       "      <td>0.0</td>\n",
       "      <td>0.0</td>\n",
       "      <td>0.0</td>\n",
       "      <td>NTC</td>\n",
       "      <td>500_02972_03938</td>\n",
       "      <td>0.119862</td>\n",
       "      <td>2019-06</td>\n",
       "      <td>0.419087</td>\n",
       "    </tr>\n",
       "    <tr>\n",
       "      <th>10847837</th>\n",
       "      <td>237941816</td>\n",
       "      <td>2019-06-01</td>\n",
       "      <td>30.561420</td>\n",
       "      <td>76.758889</td>\n",
       "      <td>0.0</td>\n",
       "      <td>0.0</td>\n",
       "      <td>0.0</td>\n",
       "      <td>0.0</td>\n",
       "      <td>0.0</td>\n",
       "      <td>0.0</td>\n",
       "      <td>Others</td>\n",
       "      <td>500_01766_05090</td>\n",
       "      <td>0.030451</td>\n",
       "      <td>2019-06</td>\n",
       "      <td>0.352697</td>\n",
       "    </tr>\n",
       "    <tr>\n",
       "      <th>10847838</th>\n",
       "      <td>237941818</td>\n",
       "      <td>2019-06-01</td>\n",
       "      <td>30.815237</td>\n",
       "      <td>76.346362</td>\n",
       "      <td>0.0</td>\n",
       "      <td>0.0</td>\n",
       "      <td>0.0</td>\n",
       "      <td>0.0</td>\n",
       "      <td>0.0</td>\n",
       "      <td>0.0</td>\n",
       "      <td>Others</td>\n",
       "      <td>500_01689_05147</td>\n",
       "      <td>0.033898</td>\n",
       "      <td>2019-06</td>\n",
       "      <td>0.394191</td>\n",
       "    </tr>\n",
       "  </tbody>\n",
       "</table>\n",
       "</div>"
      ],
      "text/plain": [
       "          SKP_CREDIT_CASE TIME_DECISION_DATE    CUS_LAT   CUS_LONG  \\\n",
       "10847834        237941809         2019-06-01  10.128995  76.380272   \n",
       "10847835        237941812         2019-06-01  18.477572  74.020281   \n",
       "10847836        237941815         2019-06-01  25.280738  82.998425   \n",
       "10847837        237941816         2019-06-01  30.561420  76.758889   \n",
       "10847838        237941818         2019-06-01  30.815237  76.346362   \n",
       "\n",
       "          RISK_FPD10  RISK_FPD30  RISK_FSPD30  RISK_FSTPD30  RISK_FSTQPD30  \\\n",
       "10847834         0.0         0.0          0.0           0.0            0.0   \n",
       "10847835         0.0         0.0          0.0           0.0            0.0   \n",
       "10847836         0.0         0.0          0.0           0.0            0.0   \n",
       "10847837         0.0         0.0          0.0           0.0            0.0   \n",
       "10847838         0.0         0.0          0.0           0.0            0.0   \n",
       "\n",
       "          RISK_FSTQPD60 NTC_FLAG          GRID_ID  RISK_SCORE MONTH_STR  \\\n",
       "10847834            0.0   Others  500_01579_00624    0.050372   2019-06   \n",
       "10847835            0.0   Others  500_01136_02479    0.031215   2019-06   \n",
       "10847836            0.0      NTC  500_02972_03938    0.119862   2019-06   \n",
       "10847837            0.0   Others  500_01766_05090    0.030451   2019-06   \n",
       "10847838            0.0   Others  500_01689_05147    0.033898   2019-06   \n",
       "\n",
       "          F10_PRED_SCORE  \n",
       "10847834        0.443983  \n",
       "10847835        0.518672  \n",
       "10847836        0.419087  \n",
       "10847837        0.352697  \n",
       "10847838        0.394191  "
      ]
     },
     "execution_count": 39,
     "metadata": {},
     "output_type": "execute_result"
    }
   ],
   "source": [
    "df_test.head()"
   ]
  },
  {
   "cell_type": "code",
   "execution_count": 40,
   "metadata": {},
   "outputs": [
    {
     "name": "stdout",
     "output_type": "stream",
     "text": [
      "FSTQPD30 Gini:  6.26\n"
     ]
    }
   ],
   "source": [
    "print(\"FSTQPD30 Gini: \" ,round((2*metrics.roc_auc_score(df_test[\"RISK_FSTQPD30\"],df_test[\"F10_PRED_SCORE\"])-1)*100,2))"
   ]
  },
  {
   "cell_type": "markdown",
   "metadata": {},
   "source": [
    "# Try FPD30 and validate performance on FSTQPD30"
   ]
  },
  {
   "cell_type": "code",
   "execution_count": 91,
   "metadata": {},
   "outputs": [],
   "source": [
    "# Split Train and Test Data Set\n",
    "df_train = df[(df[\"TIME_DECISION_DATE\"]>=datetime.datetime(2019, 1, 1)) & \n",
    "              (df[\"TIME_DECISION_DATE\"]<=datetime.datetime(2019, 4, 1))]\n",
    "# df_test = df[(df[\"TIME_DECISION_DATE\"]>=datetime.datetime(2019, 6, 1)) & \n",
    "#               (df[\"TIME_DECISION_DATE\"]<=datetime.datetime(2019, 8, 31))]"
   ]
  },
  {
   "cell_type": "code",
   "execution_count": 92,
   "metadata": {},
   "outputs": [
    {
     "name": "stdout",
     "output_type": "stream",
     "text": [
      "(1136415, 14)\n",
      "(1078674, 15)\n"
     ]
    },
    {
     "data": {
      "text/plain": [
       "0.0    1120841\n",
       "1.0      15574\n",
       "Name: RISK_FPD30, dtype: int64"
      ]
     },
     "execution_count": 92,
     "metadata": {},
     "output_type": "execute_result"
    }
   ],
   "source": [
    "print(df_train.shape)\n",
    "print(df_test.shape)\n",
    "df_train.RISK_FPD30.value_counts()"
   ]
  },
  {
   "cell_type": "code",
   "execution_count": 93,
   "metadata": {},
   "outputs": [],
   "source": [
    "target = \"RISK_FPD30\""
   ]
  },
  {
   "cell_type": "code",
   "execution_count": 94,
   "metadata": {},
   "outputs": [
    {
     "name": "stdout",
     "output_type": "stream",
     "text": [
      "Random under-sampling:\n",
      "1.0    15000\n",
      "0.0    15000\n",
      "Name: RISK_FPD30, dtype: int64\n"
     ]
    },
    {
     "data": {
      "image/png": "[encoded data removed]",
      "text/plain": [
       "<Figure size 432x288 with 1 Axes>"
      ]
     },
     "metadata": {
      "needs_background": "light"
     },
     "output_type": "display_data"
    }
   ],
   "source": [
    "#Downsampling Code \n",
    "#count_class_0, count_class_1 = df_train.RISK_FPD10.value_counts()\n",
    "count_class_0, count_class_1 = (15000,15000)\n",
    "df_class_0 = df_train[df_train[target] == 0]\n",
    "df_class_1 = df_train[df_train[target] == 1]\n",
    "df_class_0_under = df_class_0.sample(count_class_0, random_state = 2)\n",
    "df_class_1_under = df_class_1.sample(count_class_1, random_state = 2)\n",
    "df_train_under = pd.concat([df_class_0_under, df_class_1_under], axis=0)\n",
    "\n",
    "print('Random under-sampling:')\n",
    "print(df_train_under[target].value_counts())\n",
    "\n",
    "df_train_under[target].value_counts().plot(kind='bar', title='Count (target)');"
   ]
  },
  {
   "cell_type": "code",
   "execution_count": 95,
   "metadata": {},
   "outputs": [],
   "source": [
    "X_train = df_train_under[[\"CUS_LAT\",\"CUS_LONG\",\"RISK_SCORE\",\"TIME_DECISION_DATE\"]]\n",
    "X_test = df_test[[\"CUS_LAT\",\"CUS_LONG\",\"RISK_SCORE\",\"TIME_DECISION_DATE\"]]\n",
    "\n",
    "y_train = df_train_under[target]\n",
    "y_test =  df_test[target]\n"
   ]
  },
  {
   "cell_type": "code",
   "execution_count": 96,
   "metadata": {},
   "outputs": [
    {
     "name": "stdout",
     "output_type": "stream",
     "text": [
      "\n",
      "Event rate in train set : 50.00%\n",
      "\n",
      "Event rate in test set : 1.16%\n"
     ]
    }
   ],
   "source": [
    "print(\"\\nEvent rate in train set :\", '{:,.2%}'.format(sum(y_train) / len(y_train)))\n",
    "\n",
    "print(\"\\nEvent rate in test set :\", '{:,.2%}'.format(sum(y_test) / len(y_test)))"
   ]
  },
  {
   "cell_type": "code",
   "execution_count": 58,
   "metadata": {},
   "outputs": [],
   "source": [
    "param_grid = {'n_neighbors': np.arange(1,300,5)\n",
    "            }\n",
    "seed = 25"
   ]
  },
  {
   "cell_type": "code",
   "execution_count": 59,
   "metadata": {},
   "outputs": [],
   "source": [
    "from sklearn.neighbors import KNeighborsClassifier\n",
    "# Create KNN classifier\n",
    "knn = KNeighborsClassifier(weights = 'uniform')\n",
    "kfolds = StratifiedKFold(4, random_state=1)\n",
    "\n",
    "clf = RandomizedSearchCV(estimator=knn, param_distributions=param_grid, scoring=['roc_auc'], n_iter=10,\n",
    "                         random_state=seed, cv=kfolds.split(X_train[[\"CUS_LAT\",\"CUS_LONG\"]], y_train), refit='roc_auc',error_score=0, return_train_score =True)\n"
   ]
  },
  {
   "cell_type": "code",
   "execution_count": 60,
   "metadata": {},
   "outputs": [
    {
     "name": "stdout",
     "output_type": "stream",
     "text": [
      "Randomized search..\n",
      "Randomized search time: 67.57354784011841\n"
     ]
    }
   ],
   "source": [
    "print(\"Randomized search..\")\n",
    "\n",
    "search_time_start = time.time()\n",
    "clf.fit(X_train[[\"CUS_LAT\",\"CUS_LONG\"]], np.ravel(y_train))\n",
    "print(\"Randomized search time:\", time.time() - search_time_start)\n",
    "\n",
    "params = clf.best_params_   #get best parameters\n",
    "dic=clf.cv_results_    #provides scoring results for each iteration, 50 in this case, mean values can be used \n",
    "tmp= pd.DataFrame(dic['params'])"
   ]
  },
  {
   "cell_type": "code",
   "execution_count": 176,
   "metadata": {},
   "outputs": [],
   "source": [
    "pd.DataFrame(dic).to_csv(r\"C:\\Users\\aman.khatri91425\\Desktop\\HomeCredit\\Bigdata\\ShortTargets_RCV_results_FPD30.csv\")"
   ]
  },
  {
   "cell_type": "code",
   "execution_count": 61,
   "metadata": {},
   "outputs": [],
   "source": [
    "tmp1= pd.DataFrame(dic)[[\"param_n_neighbors\",\"mean_test_roc_auc\",\"mean_train_roc_auc\"]].sort_values(by = 'param_n_neighbors')"
   ]
  },
  {
   "cell_type": "code",
   "execution_count": 62,
   "metadata": {},
   "outputs": [
    {
     "data": {
      "text/plain": [
       "<matplotlib.axes._subplots.AxesSubplot at 0x1501d2b85c0>"
      ]
     },
     "execution_count": 62,
     "metadata": {},
     "output_type": "execute_result"
    },
    {
     "data": {
      "image/png": "[encoded data removed]",
      "text/plain": [
       "<Figure size 432x288 with 1 Axes>"
      ]
     },
     "metadata": {
      "needs_background": "light"
     },
     "output_type": "display_data"
    }
   ],
   "source": [
    "tmp1[[\"param_n_neighbors\",\"mean_test_roc_auc\"]].plot(x=\"param_n_neighbors\")"
   ]
  },
  {
   "cell_type": "code",
   "execution_count": 63,
   "metadata": {},
   "outputs": [
    {
     "data": {
      "text/html": [
       "<div>\n",
       "<style scoped>\n",
       "    .dataframe tbody tr th:only-of-type {\n",
       "        vertical-align: middle;\n",
       "    }\n",
       "\n",
       "    .dataframe tbody tr th {\n",
       "        vertical-align: top;\n",
       "    }\n",
       "\n",
       "    .dataframe thead th {\n",
       "        text-align: right;\n",
       "    }\n",
       "</style>\n",
       "<table border=\"1\" class=\"dataframe\">\n",
       "  <thead>\n",
       "    <tr style=\"text-align: right;\">\n",
       "      <th></th>\n",
       "      <th>param_n_neighbors</th>\n",
       "      <th>mean_test_roc_auc</th>\n",
       "    </tr>\n",
       "  </thead>\n",
       "  <tbody>\n",
       "    <tr>\n",
       "      <th>4</th>\n",
       "      <td>36</td>\n",
       "      <td>0.587556</td>\n",
       "    </tr>\n",
       "    <tr>\n",
       "      <th>1</th>\n",
       "      <td>61</td>\n",
       "      <td>0.589438</td>\n",
       "    </tr>\n",
       "    <tr>\n",
       "      <th>2</th>\n",
       "      <td>66</td>\n",
       "      <td>0.590339</td>\n",
       "    </tr>\n",
       "    <tr>\n",
       "      <th>0</th>\n",
       "      <td>96</td>\n",
       "      <td>0.589896</td>\n",
       "    </tr>\n",
       "    <tr>\n",
       "      <th>6</th>\n",
       "      <td>136</td>\n",
       "      <td>0.587573</td>\n",
       "    </tr>\n",
       "    <tr>\n",
       "      <th>3</th>\n",
       "      <td>146</td>\n",
       "      <td>0.587701</td>\n",
       "    </tr>\n",
       "    <tr>\n",
       "      <th>7</th>\n",
       "      <td>151</td>\n",
       "      <td>0.587299</td>\n",
       "    </tr>\n",
       "    <tr>\n",
       "      <th>8</th>\n",
       "      <td>201</td>\n",
       "      <td>0.587002</td>\n",
       "    </tr>\n",
       "    <tr>\n",
       "      <th>5</th>\n",
       "      <td>206</td>\n",
       "      <td>0.587356</td>\n",
       "    </tr>\n",
       "    <tr>\n",
       "      <th>9</th>\n",
       "      <td>276</td>\n",
       "      <td>0.585277</td>\n",
       "    </tr>\n",
       "  </tbody>\n",
       "</table>\n",
       "</div>"
      ],
      "text/plain": [
       "  param_n_neighbors  mean_test_roc_auc\n",
       "4                36           0.587556\n",
       "1                61           0.589438\n",
       "2                66           0.590339\n",
       "0                96           0.589896\n",
       "6               136           0.587573\n",
       "3               146           0.587701\n",
       "7               151           0.587299\n",
       "8               201           0.587002\n",
       "5               206           0.587356\n",
       "9               276           0.585277"
      ]
     },
     "execution_count": 63,
     "metadata": {},
     "output_type": "execute_result"
    }
   ],
   "source": [
    "tmp1[[\"param_n_neighbors\",\"mean_test_roc_auc\"]]"
   ]
  },
  {
   "cell_type": "code",
   "execution_count": 64,
   "metadata": {},
   "outputs": [
    {
     "name": "stdout",
     "output_type": "stream",
     "text": [
      "Best score: 0.5903386844444444\n",
      "Best params: \n",
      "n_neighbors: 66\n"
     ]
    }
   ],
   "source": [
    "print(\"Best score: {}\".format(clf.best_score_))    #best auc score as we took that for refit \n",
    "\n",
    "\n",
    "print(\"Best params: \")\n",
    "\n",
    "for param_name in sorted(params.keys()):\n",
    "    print('%s: %r' % (param_name, params[param_name]))"
   ]
  },
  {
   "cell_type": "code",
   "execution_count": 97,
   "metadata": {},
   "outputs": [],
   "source": [
    "#update estimated hyperparameter values to new model\n",
    "from sklearn.neighbors import KNeighborsClassifier\n",
    "params = {'n_neighbors': 66}\n",
    "kfolds = StratifiedKFold(4, random_state=1)\n",
    "knn = KNeighborsClassifier(**params)\n",
    "# cross validation gini\n",
    "auc_cv = cross_val_score(knn, X_train[[\"CUS_LAT\",\"CUS_LONG\"]], y_train, scoring='roc_auc', cv=kfolds.split(X_train[[\"CUS_LAT\",\"CUS_LONG\"]], y_train),\n",
    "                         n_jobs=-1)\n",
    "gini_cv = (2 * np.array(auc_cv) - 1).mean()\n"
   ]
  },
  {
   "cell_type": "code",
   "execution_count": 98,
   "metadata": {},
   "outputs": [],
   "source": [
    "bst = knn.fit(X_train[[\"CUS_LAT\",\"CUS_LONG\"]], np.ravel(y_train))\n",
    "\n",
    "ypred_train = bst.predict_proba(X_train[[\"CUS_LAT\",\"CUS_LONG\"]])[:, 1]\n",
    "ypred_test = bst.predict_proba(X_test[[\"CUS_LAT\",\"CUS_LONG\"]])[:, 1]"
   ]
  },
  {
   "cell_type": "code",
   "execution_count": 99,
   "metadata": {},
   "outputs": [],
   "source": [
    "metric_auc_train = metrics.roc_auc_score(y_train, ypred_train)\n",
    "metric_auc_test = metrics.roc_auc_score(y_test, ypred_test)\n",
    "\n",
    "gini_train = 2 * metric_auc_train - 1\n",
    "gini_test = 2 * metric_auc_test - 1\n"
   ]
  },
  {
   "cell_type": "code",
   "execution_count": 100,
   "metadata": {},
   "outputs": [
    {
     "name": "stdout",
     "output_type": "stream",
     "text": [
      "GINI TRAIN: 26.42%\n",
      "\n",
      "GINI TEST: 12.60%\n",
      "\n",
      "GINI CV: 18.07%\n"
     ]
    }
   ],
   "source": [
    "print(\"GINI TRAIN:\",'{:,.2%}'.format(gini_train))\n",
    "print(\"\\nGINI TEST:\",'{:,.2%}'.format(gini_test))\n",
    "print(\"\\nGINI CV:\",'{:,.2%}'.format(gini_cv))"
   ]
  },
  {
   "cell_type": "code",
   "execution_count": 101,
   "metadata": {},
   "outputs": [
    {
     "name": "stderr",
     "output_type": "stream",
     "text": [
      "C:\\Users\\aman.khatri91425\\AppData\\Local\\Continuum\\anaconda3\\lib\\site-packages\\ipykernel_launcher.py:2: SettingWithCopyWarning: \n",
      "A value is trying to be set on a copy of a slice from a DataFrame.\n",
      "Try using .loc[row_indexer,col_indexer] = value instead\n",
      "\n",
      "See the caveats in the documentation: http://pandas.pydata.org/pandas-docs/stable/indexing.html#indexing-view-versus-copy\n",
      "  \n"
     ]
    }
   ],
   "source": [
    "df_train_under['F30_PRED_SCORE'] = ypred_train\n",
    "df_test['F30_PRED_SCORE'] = ypred_test"
   ]
  },
  {
   "cell_type": "code",
   "execution_count": 102,
   "metadata": {},
   "outputs": [
    {
     "data": {
      "text/html": [
       "<div>\n",
       "<style scoped>\n",
       "    .dataframe tbody tr th:only-of-type {\n",
       "        vertical-align: middle;\n",
       "    }\n",
       "\n",
       "    .dataframe tbody tr th {\n",
       "        vertical-align: top;\n",
       "    }\n",
       "\n",
       "    .dataframe thead th {\n",
       "        text-align: right;\n",
       "    }\n",
       "</style>\n",
       "<table border=\"1\" class=\"dataframe\">\n",
       "  <thead>\n",
       "    <tr style=\"text-align: right;\">\n",
       "      <th></th>\n",
       "      <th>SKP_CREDIT_CASE</th>\n",
       "      <th>TIME_DECISION_DATE</th>\n",
       "      <th>CUS_LAT</th>\n",
       "      <th>CUS_LONG</th>\n",
       "      <th>RISK_FPD10</th>\n",
       "      <th>RISK_FPD30</th>\n",
       "      <th>RISK_FSPD30</th>\n",
       "      <th>RISK_FSTPD30</th>\n",
       "      <th>RISK_FSTQPD30</th>\n",
       "      <th>RISK_FSTQPD60</th>\n",
       "      <th>NTC_FLAG</th>\n",
       "      <th>GRID_ID</th>\n",
       "      <th>RISK_SCORE</th>\n",
       "      <th>MONTH_STR</th>\n",
       "      <th>F10_PRED_SCORE</th>\n",
       "      <th>F30_PRED_SCORE</th>\n",
       "    </tr>\n",
       "  </thead>\n",
       "  <tbody>\n",
       "    <tr>\n",
       "      <th>10847834</th>\n",
       "      <td>237941809</td>\n",
       "      <td>2019-06-01</td>\n",
       "      <td>10.128995</td>\n",
       "      <td>76.380272</td>\n",
       "      <td>0.0</td>\n",
       "      <td>0.0</td>\n",
       "      <td>0.0</td>\n",
       "      <td>0.0</td>\n",
       "      <td>0.0</td>\n",
       "      <td>0.0</td>\n",
       "      <td>Others</td>\n",
       "      <td>500_01579_00624</td>\n",
       "      <td>0.050372</td>\n",
       "      <td>2019-06</td>\n",
       "      <td>0.443983</td>\n",
       "      <td>0.500000</td>\n",
       "    </tr>\n",
       "    <tr>\n",
       "      <th>10847835</th>\n",
       "      <td>237941812</td>\n",
       "      <td>2019-06-01</td>\n",
       "      <td>18.477572</td>\n",
       "      <td>74.020281</td>\n",
       "      <td>0.0</td>\n",
       "      <td>0.0</td>\n",
       "      <td>0.0</td>\n",
       "      <td>0.0</td>\n",
       "      <td>0.0</td>\n",
       "      <td>0.0</td>\n",
       "      <td>Others</td>\n",
       "      <td>500_01136_02479</td>\n",
       "      <td>0.031215</td>\n",
       "      <td>2019-06</td>\n",
       "      <td>0.518672</td>\n",
       "      <td>0.484848</td>\n",
       "    </tr>\n",
       "    <tr>\n",
       "      <th>10847836</th>\n",
       "      <td>237941815</td>\n",
       "      <td>2019-06-01</td>\n",
       "      <td>25.280738</td>\n",
       "      <td>82.998425</td>\n",
       "      <td>0.0</td>\n",
       "      <td>0.0</td>\n",
       "      <td>0.0</td>\n",
       "      <td>0.0</td>\n",
       "      <td>0.0</td>\n",
       "      <td>0.0</td>\n",
       "      <td>NTC</td>\n",
       "      <td>500_02972_03938</td>\n",
       "      <td>0.119862</td>\n",
       "      <td>2019-06</td>\n",
       "      <td>0.419087</td>\n",
       "      <td>0.393939</td>\n",
       "    </tr>\n",
       "    <tr>\n",
       "      <th>10847837</th>\n",
       "      <td>237941816</td>\n",
       "      <td>2019-06-01</td>\n",
       "      <td>30.561420</td>\n",
       "      <td>76.758889</td>\n",
       "      <td>0.0</td>\n",
       "      <td>0.0</td>\n",
       "      <td>0.0</td>\n",
       "      <td>0.0</td>\n",
       "      <td>0.0</td>\n",
       "      <td>0.0</td>\n",
       "      <td>Others</td>\n",
       "      <td>500_01766_05090</td>\n",
       "      <td>0.030451</td>\n",
       "      <td>2019-06</td>\n",
       "      <td>0.352697</td>\n",
       "      <td>0.333333</td>\n",
       "    </tr>\n",
       "    <tr>\n",
       "      <th>10847838</th>\n",
       "      <td>237941818</td>\n",
       "      <td>2019-06-01</td>\n",
       "      <td>30.815237</td>\n",
       "      <td>76.346362</td>\n",
       "      <td>0.0</td>\n",
       "      <td>0.0</td>\n",
       "      <td>0.0</td>\n",
       "      <td>0.0</td>\n",
       "      <td>0.0</td>\n",
       "      <td>0.0</td>\n",
       "      <td>Others</td>\n",
       "      <td>500_01689_05147</td>\n",
       "      <td>0.033898</td>\n",
       "      <td>2019-06</td>\n",
       "      <td>0.394191</td>\n",
       "      <td>0.393939</td>\n",
       "    </tr>\n",
       "  </tbody>\n",
       "</table>\n",
       "</div>"
      ],
      "text/plain": [
       "          SKP_CREDIT_CASE TIME_DECISION_DATE    CUS_LAT   CUS_LONG  \\\n",
       "10847834        237941809         2019-06-01  10.128995  76.380272   \n",
       "10847835        237941812         2019-06-01  18.477572  74.020281   \n",
       "10847836        237941815         2019-06-01  25.280738  82.998425   \n",
       "10847837        237941816         2019-06-01  30.561420  76.758889   \n",
       "10847838        237941818         2019-06-01  30.815237  76.346362   \n",
       "\n",
       "          RISK_FPD10  RISK_FPD30  RISK_FSPD30  RISK_FSTPD30  RISK_FSTQPD30  \\\n",
       "10847834         0.0         0.0          0.0           0.0            0.0   \n",
       "10847835         0.0         0.0          0.0           0.0            0.0   \n",
       "10847836         0.0         0.0          0.0           0.0            0.0   \n",
       "10847837         0.0         0.0          0.0           0.0            0.0   \n",
       "10847838         0.0         0.0          0.0           0.0            0.0   \n",
       "\n",
       "          RISK_FSTQPD60 NTC_FLAG          GRID_ID  RISK_SCORE MONTH_STR  \\\n",
       "10847834            0.0   Others  500_01579_00624    0.050372   2019-06   \n",
       "10847835            0.0   Others  500_01136_02479    0.031215   2019-06   \n",
       "10847836            0.0      NTC  500_02972_03938    0.119862   2019-06   \n",
       "10847837            0.0   Others  500_01766_05090    0.030451   2019-06   \n",
       "10847838            0.0   Others  500_01689_05147    0.033898   2019-06   \n",
       "\n",
       "          F10_PRED_SCORE  F30_PRED_SCORE  \n",
       "10847834        0.443983        0.500000  \n",
       "10847835        0.518672        0.484848  \n",
       "10847836        0.419087        0.393939  \n",
       "10847837        0.352697        0.333333  \n",
       "10847838        0.394191        0.393939  "
      ]
     },
     "execution_count": 102,
     "metadata": {},
     "output_type": "execute_result"
    }
   ],
   "source": [
    "df_test.head()"
   ]
  },
  {
   "cell_type": "code",
   "execution_count": 103,
   "metadata": {},
   "outputs": [
    {
     "name": "stdout",
     "output_type": "stream",
     "text": [
      "FSTQPD30 Gini:  4.51\n"
     ]
    }
   ],
   "source": [
    "print(\"FSTQPD30 Gini: \" ,round((2*metrics.roc_auc_score(df_test[\"RISK_FSTQPD30\"],df_test[\"F30_PRED_SCORE\"])-1)*100,2))"
   ]
  },
  {
   "cell_type": "code",
   "execution_count": null,
   "metadata": {},
   "outputs": [],
   "source": []
  },
  {
   "cell_type": "markdown",
   "metadata": {},
   "source": [
    "# Try FSPD30 and validate performance on FSTQPD30"
   ]
  },
  {
   "cell_type": "code",
   "execution_count": 104,
   "metadata": {},
   "outputs": [],
   "source": [
    "# Split Train and Test Data Set\n",
    "df_train = df[(df[\"TIME_DECISION_DATE\"]>=datetime.datetime(2019, 1, 1)) & \n",
    "              (df[\"TIME_DECISION_DATE\"]<=datetime.datetime(2019, 3, 1))]\n",
    "# df_test = df[(df[\"TIME_DECISION_DATE\"]>=datetime.datetime(2019, 6, 1)) & \n",
    "#               (df[\"TIME_DECISION_DATE\"]<=datetime.datetime(2019, 8, 31))]"
   ]
  },
  {
   "cell_type": "code",
   "execution_count": 105,
   "metadata": {},
   "outputs": [
    {
     "name": "stdout",
     "output_type": "stream",
     "text": [
      "(755486, 14)\n",
      "(1078674, 16)\n"
     ]
    },
    {
     "data": {
      "text/plain": [
       "0.0    733497\n",
       "1.0     21989\n",
       "Name: RISK_FSPD30, dtype: int64"
      ]
     },
     "execution_count": 105,
     "metadata": {},
     "output_type": "execute_result"
    }
   ],
   "source": [
    "print(df_train.shape)\n",
    "print(df_test.shape)\n",
    "df_train.RISK_FSPD30.value_counts()"
   ]
  },
  {
   "cell_type": "code",
   "execution_count": 106,
   "metadata": {},
   "outputs": [],
   "source": [
    "target = \"RISK_FSPD30\""
   ]
  },
  {
   "cell_type": "code",
   "execution_count": 107,
   "metadata": {},
   "outputs": [
    {
     "name": "stdout",
     "output_type": "stream",
     "text": [
      "Random under-sampling:\n",
      "1.0    20000\n",
      "0.0    20000\n",
      "Name: RISK_FSPD30, dtype: int64\n"
     ]
    },
    {
     "data": {
      "image/png": "[encoded data removed]",
      "text/plain": [
       "<Figure size 432x288 with 1 Axes>"
      ]
     },
     "metadata": {
      "needs_background": "light"
     },
     "output_type": "display_data"
    }
   ],
   "source": [
    "#Downsampling Code \n",
    "#count_class_0, count_class_1 = df_train.RISK_FPD10.value_counts()\n",
    "count_class_0, count_class_1 = (20000,20000)\n",
    "df_class_0 = df_train[df_train[target] == 0]\n",
    "df_class_1 = df_train[df_train[target] == 1]\n",
    "df_class_0_under = df_class_0.sample(count_class_0, random_state = 2)\n",
    "df_class_1_under = df_class_1.sample(count_class_1, random_state = 2)\n",
    "df_train_under = pd.concat([df_class_0_under, df_class_1_under], axis=0)\n",
    "\n",
    "print('Random under-sampling:')\n",
    "print(df_train_under[target].value_counts())\n",
    "\n",
    "df_train_under[target].value_counts().plot(kind='bar', title='Count (target)');"
   ]
  },
  {
   "cell_type": "code",
   "execution_count": 108,
   "metadata": {},
   "outputs": [],
   "source": [
    "X_train = df_train_under[[\"CUS_LAT\",\"CUS_LONG\",\"RISK_SCORE\",\"TIME_DECISION_DATE\"]]\n",
    "X_test = df_test[[\"CUS_LAT\",\"CUS_LONG\",\"RISK_SCORE\",\"TIME_DECISION_DATE\"]]\n",
    "\n",
    "y_train = df_train_under[target]\n",
    "y_test =  df_test[target]\n"
   ]
  },
  {
   "cell_type": "code",
   "execution_count": 109,
   "metadata": {},
   "outputs": [
    {
     "name": "stdout",
     "output_type": "stream",
     "text": [
      "\n",
      "Event rate in train set : 50.00%\n",
      "\n",
      "Event rate in test set : 2.59%\n"
     ]
    }
   ],
   "source": [
    "print(\"\\nEvent rate in train set :\", '{:,.2%}'.format(sum(y_train) / len(y_train)))\n",
    "\n",
    "print(\"\\nEvent rate in test set :\", '{:,.2%}'.format(sum(y_test) / len(y_test)))"
   ]
  },
  {
   "cell_type": "code",
   "execution_count": 110,
   "metadata": {},
   "outputs": [],
   "source": [
    "param_grid = {'n_neighbors': np.arange(1,300,5)\n",
    "            }\n",
    "seed = 25"
   ]
  },
  {
   "cell_type": "code",
   "execution_count": 72,
   "metadata": {},
   "outputs": [],
   "source": [
    "from sklearn.neighbors import KNeighborsClassifier\n",
    "# Create KNN classifier\n",
    "knn = KNeighborsClassifier(weights = 'uniform')\n",
    "kfolds = StratifiedKFold(4, random_state=1)\n",
    "\n",
    "clf = RandomizedSearchCV(estimator=knn, param_distributions=param_grid, scoring=['roc_auc'], n_iter=10,\n",
    "                         random_state=seed, cv=kfolds.split(X_train[[\"CUS_LAT\",\"CUS_LONG\"]], y_train), refit='roc_auc',error_score=0, return_train_score =True)\n"
   ]
  },
  {
   "cell_type": "code",
   "execution_count": 73,
   "metadata": {},
   "outputs": [
    {
     "name": "stdout",
     "output_type": "stream",
     "text": [
      "Randomized search..\n",
      "Randomized search time: 105.58974504470825\n"
     ]
    }
   ],
   "source": [
    "print(\"Randomized search..\")\n",
    "\n",
    "search_time_start = time.time()\n",
    "clf.fit(X_train[[\"CUS_LAT\",\"CUS_LONG\"]], np.ravel(y_train))\n",
    "print(\"Randomized search time:\", time.time() - search_time_start)\n",
    "\n",
    "params = clf.best_params_   #get best parameters\n",
    "dic=clf.cv_results_    #provides scoring results for each iteration, 50 in this case, mean values can be used \n",
    "tmp= pd.DataFrame(dic['params'])"
   ]
  },
  {
   "cell_type": "code",
   "execution_count": 201,
   "metadata": {},
   "outputs": [],
   "source": [
    "pd.DataFrame(dic).to_csv(r\"C:\\Users\\aman.khatri91425\\Desktop\\HomeCredit\\Bigdata\\ShortTargets_RCV_results_FSPD30.csv\")"
   ]
  },
  {
   "cell_type": "code",
   "execution_count": 74,
   "metadata": {},
   "outputs": [],
   "source": [
    "tmp1= pd.DataFrame(dic)[[\"param_n_neighbors\",\"mean_test_roc_auc\",\"mean_train_roc_auc\"]].sort_values(by = 'param_n_neighbors')"
   ]
  },
  {
   "cell_type": "code",
   "execution_count": 75,
   "metadata": {},
   "outputs": [
    {
     "data": {
      "text/plain": [
       "<matplotlib.axes._subplots.AxesSubplot at 0x1501d32ca90>"
      ]
     },
     "execution_count": 75,
     "metadata": {},
     "output_type": "execute_result"
    },
    {
     "data": {
      "image/png": "[encoded data removed]",
      "text/plain": [
       "<Figure size 432x288 with 1 Axes>"
      ]
     },
     "metadata": {
      "needs_background": "light"
     },
     "output_type": "display_data"
    }
   ],
   "source": [
    "tmp1[[\"param_n_neighbors\",\"mean_test_roc_auc\"]].plot(x=\"param_n_neighbors\")"
   ]
  },
  {
   "cell_type": "code",
   "execution_count": 76,
   "metadata": {},
   "outputs": [
    {
     "data": {
      "text/html": [
       "<div>\n",
       "<style scoped>\n",
       "    .dataframe tbody tr th:only-of-type {\n",
       "        vertical-align: middle;\n",
       "    }\n",
       "\n",
       "    .dataframe tbody tr th {\n",
       "        vertical-align: top;\n",
       "    }\n",
       "\n",
       "    .dataframe thead th {\n",
       "        text-align: right;\n",
       "    }\n",
       "</style>\n",
       "<table border=\"1\" class=\"dataframe\">\n",
       "  <thead>\n",
       "    <tr style=\"text-align: right;\">\n",
       "      <th></th>\n",
       "      <th>param_n_neighbors</th>\n",
       "      <th>mean_test_roc_auc</th>\n",
       "    </tr>\n",
       "  </thead>\n",
       "  <tbody>\n",
       "    <tr>\n",
       "      <th>4</th>\n",
       "      <td>36</td>\n",
       "      <td>0.575344</td>\n",
       "    </tr>\n",
       "    <tr>\n",
       "      <th>1</th>\n",
       "      <td>61</td>\n",
       "      <td>0.578869</td>\n",
       "    </tr>\n",
       "    <tr>\n",
       "      <th>2</th>\n",
       "      <td>66</td>\n",
       "      <td>0.579206</td>\n",
       "    </tr>\n",
       "    <tr>\n",
       "      <th>0</th>\n",
       "      <td>96</td>\n",
       "      <td>0.580549</td>\n",
       "    </tr>\n",
       "    <tr>\n",
       "      <th>6</th>\n",
       "      <td>136</td>\n",
       "      <td>0.580121</td>\n",
       "    </tr>\n",
       "    <tr>\n",
       "      <th>3</th>\n",
       "      <td>146</td>\n",
       "      <td>0.580206</td>\n",
       "    </tr>\n",
       "    <tr>\n",
       "      <th>7</th>\n",
       "      <td>151</td>\n",
       "      <td>0.580269</td>\n",
       "    </tr>\n",
       "    <tr>\n",
       "      <th>8</th>\n",
       "      <td>201</td>\n",
       "      <td>0.579068</td>\n",
       "    </tr>\n",
       "    <tr>\n",
       "      <th>5</th>\n",
       "      <td>206</td>\n",
       "      <td>0.579148</td>\n",
       "    </tr>\n",
       "    <tr>\n",
       "      <th>9</th>\n",
       "      <td>276</td>\n",
       "      <td>0.577250</td>\n",
       "    </tr>\n",
       "  </tbody>\n",
       "</table>\n",
       "</div>"
      ],
      "text/plain": [
       "  param_n_neighbors  mean_test_roc_auc\n",
       "4                36           0.575344\n",
       "1                61           0.578869\n",
       "2                66           0.579206\n",
       "0                96           0.580549\n",
       "6               136           0.580121\n",
       "3               146           0.580206\n",
       "7               151           0.580269\n",
       "8               201           0.579068\n",
       "5               206           0.579148\n",
       "9               276           0.577250"
      ]
     },
     "execution_count": 76,
     "metadata": {},
     "output_type": "execute_result"
    }
   ],
   "source": [
    "tmp1[[\"param_n_neighbors\",\"mean_test_roc_auc\"]]"
   ]
  },
  {
   "cell_type": "code",
   "execution_count": 77,
   "metadata": {},
   "outputs": [
    {
     "name": "stdout",
     "output_type": "stream",
     "text": [
      "Best score: 0.5805493349999999\n",
      "Best params: \n",
      "n_neighbors: 96\n"
     ]
    }
   ],
   "source": [
    "print(\"Best score: {}\".format(clf.best_score_))    #best auc score as we took that for refit \n",
    "\n",
    "\n",
    "print(\"Best params: \")\n",
    "\n",
    "for param_name in sorted(params.keys()):\n",
    "    print('%s: %r' % (param_name, params[param_name]))"
   ]
  },
  {
   "cell_type": "code",
   "execution_count": 111,
   "metadata": {},
   "outputs": [],
   "source": [
    "#update estimated hyperparameter values to new model\n",
    "from sklearn.neighbors import KNeighborsClassifier\n",
    "params = {'n_neighbors': 96}\n",
    "kfolds = StratifiedKFold(4, random_state=1)\n",
    "knn = KNeighborsClassifier(**params)\n",
    "# cross validation gini\n",
    "auc_cv = cross_val_score(knn, X_train[[\"CUS_LAT\",\"CUS_LONG\"]], y_train, scoring='roc_auc', cv=kfolds.split(X_train[[\"CUS_LAT\",\"CUS_LONG\"]], y_train),\n",
    "                         n_jobs=-1)\n",
    "gini_cv = (2 * np.array(auc_cv) - 1).mean()\n"
   ]
  },
  {
   "cell_type": "code",
   "execution_count": 112,
   "metadata": {},
   "outputs": [],
   "source": [
    "bst = knn.fit(X_train[[\"CUS_LAT\",\"CUS_LONG\"]], np.ravel(y_train))\n",
    "\n",
    "ypred_train = bst.predict_proba(X_train[[\"CUS_LAT\",\"CUS_LONG\"]])[:, 1]\n",
    "ypred_test = bst.predict_proba(X_test[[\"CUS_LAT\",\"CUS_LONG\"]])[:, 1]"
   ]
  },
  {
   "cell_type": "code",
   "execution_count": 113,
   "metadata": {},
   "outputs": [],
   "source": [
    "metric_auc_train = metrics.roc_auc_score(y_train, ypred_train)\n",
    "metric_auc_test = metrics.roc_auc_score(y_test, ypred_test)\n",
    "\n",
    "gini_train = 2 * metric_auc_train - 1\n",
    "gini_test = 2 * metric_auc_test - 1\n"
   ]
  },
  {
   "cell_type": "code",
   "execution_count": 114,
   "metadata": {},
   "outputs": [
    {
     "name": "stdout",
     "output_type": "stream",
     "text": [
      "GINI TRAIN: 23.13%\n",
      "\n",
      "GINI TEST: 9.17%\n",
      "\n",
      "GINI CV: 16.11%\n"
     ]
    }
   ],
   "source": [
    "print(\"GINI TRAIN:\",'{:,.2%}'.format(gini_train))\n",
    "print(\"\\nGINI TEST:\",'{:,.2%}'.format(gini_test))\n",
    "print(\"\\nGINI CV:\",'{:,.2%}'.format(gini_cv))"
   ]
  },
  {
   "cell_type": "code",
   "execution_count": 115,
   "metadata": {},
   "outputs": [
    {
     "name": "stderr",
     "output_type": "stream",
     "text": [
      "C:\\Users\\aman.khatri91425\\AppData\\Local\\Continuum\\anaconda3\\lib\\site-packages\\ipykernel_launcher.py:2: SettingWithCopyWarning: \n",
      "A value is trying to be set on a copy of a slice from a DataFrame.\n",
      "Try using .loc[row_indexer,col_indexer] = value instead\n",
      "\n",
      "See the caveats in the documentation: http://pandas.pydata.org/pandas-docs/stable/indexing.html#indexing-view-versus-copy\n",
      "  \n"
     ]
    }
   ],
   "source": [
    "df_train_under['FS30_PRED_SCORE'] = ypred_train\n",
    "df_test['FS30_PRED_SCORE'] = ypred_test"
   ]
  },
  {
   "cell_type": "code",
   "execution_count": 116,
   "metadata": {},
   "outputs": [
    {
     "data": {
      "text/html": [
       "<div>\n",
       "<style scoped>\n",
       "    .dataframe tbody tr th:only-of-type {\n",
       "        vertical-align: middle;\n",
       "    }\n",
       "\n",
       "    .dataframe tbody tr th {\n",
       "        vertical-align: top;\n",
       "    }\n",
       "\n",
       "    .dataframe thead th {\n",
       "        text-align: right;\n",
       "    }\n",
       "</style>\n",
       "<table border=\"1\" class=\"dataframe\">\n",
       "  <thead>\n",
       "    <tr style=\"text-align: right;\">\n",
       "      <th></th>\n",
       "      <th>SKP_CREDIT_CASE</th>\n",
       "      <th>TIME_DECISION_DATE</th>\n",
       "      <th>CUS_LAT</th>\n",
       "      <th>CUS_LONG</th>\n",
       "      <th>RISK_FPD10</th>\n",
       "      <th>RISK_FPD30</th>\n",
       "      <th>RISK_FSPD30</th>\n",
       "      <th>RISK_FSTPD30</th>\n",
       "      <th>RISK_FSTQPD30</th>\n",
       "      <th>RISK_FSTQPD60</th>\n",
       "      <th>NTC_FLAG</th>\n",
       "      <th>GRID_ID</th>\n",
       "      <th>RISK_SCORE</th>\n",
       "      <th>MONTH_STR</th>\n",
       "      <th>F10_PRED_SCORE</th>\n",
       "      <th>F30_PRED_SCORE</th>\n",
       "      <th>FS30_PRED_SCORE</th>\n",
       "    </tr>\n",
       "  </thead>\n",
       "  <tbody>\n",
       "    <tr>\n",
       "      <th>10847834</th>\n",
       "      <td>237941809</td>\n",
       "      <td>2019-06-01</td>\n",
       "      <td>10.128995</td>\n",
       "      <td>76.380272</td>\n",
       "      <td>0.0</td>\n",
       "      <td>0.0</td>\n",
       "      <td>0.0</td>\n",
       "      <td>0.0</td>\n",
       "      <td>0.0</td>\n",
       "      <td>0.0</td>\n",
       "      <td>Others</td>\n",
       "      <td>500_01579_00624</td>\n",
       "      <td>0.050372</td>\n",
       "      <td>2019-06</td>\n",
       "      <td>0.443983</td>\n",
       "      <td>0.500000</td>\n",
       "      <td>0.479167</td>\n",
       "    </tr>\n",
       "    <tr>\n",
       "      <th>10847835</th>\n",
       "      <td>237941812</td>\n",
       "      <td>2019-06-01</td>\n",
       "      <td>18.477572</td>\n",
       "      <td>74.020281</td>\n",
       "      <td>0.0</td>\n",
       "      <td>0.0</td>\n",
       "      <td>0.0</td>\n",
       "      <td>0.0</td>\n",
       "      <td>0.0</td>\n",
       "      <td>0.0</td>\n",
       "      <td>Others</td>\n",
       "      <td>500_01136_02479</td>\n",
       "      <td>0.031215</td>\n",
       "      <td>2019-06</td>\n",
       "      <td>0.518672</td>\n",
       "      <td>0.484848</td>\n",
       "      <td>0.500000</td>\n",
       "    </tr>\n",
       "    <tr>\n",
       "      <th>10847836</th>\n",
       "      <td>237941815</td>\n",
       "      <td>2019-06-01</td>\n",
       "      <td>25.280738</td>\n",
       "      <td>82.998425</td>\n",
       "      <td>0.0</td>\n",
       "      <td>0.0</td>\n",
       "      <td>0.0</td>\n",
       "      <td>0.0</td>\n",
       "      <td>0.0</td>\n",
       "      <td>0.0</td>\n",
       "      <td>NTC</td>\n",
       "      <td>500_02972_03938</td>\n",
       "      <td>0.119862</td>\n",
       "      <td>2019-06</td>\n",
       "      <td>0.419087</td>\n",
       "      <td>0.393939</td>\n",
       "      <td>0.437500</td>\n",
       "    </tr>\n",
       "    <tr>\n",
       "      <th>10847837</th>\n",
       "      <td>237941816</td>\n",
       "      <td>2019-06-01</td>\n",
       "      <td>30.561420</td>\n",
       "      <td>76.758889</td>\n",
       "      <td>0.0</td>\n",
       "      <td>0.0</td>\n",
       "      <td>0.0</td>\n",
       "      <td>0.0</td>\n",
       "      <td>0.0</td>\n",
       "      <td>0.0</td>\n",
       "      <td>Others</td>\n",
       "      <td>500_01766_05090</td>\n",
       "      <td>0.030451</td>\n",
       "      <td>2019-06</td>\n",
       "      <td>0.352697</td>\n",
       "      <td>0.333333</td>\n",
       "      <td>0.322917</td>\n",
       "    </tr>\n",
       "    <tr>\n",
       "      <th>10847838</th>\n",
       "      <td>237941818</td>\n",
       "      <td>2019-06-01</td>\n",
       "      <td>30.815237</td>\n",
       "      <td>76.346362</td>\n",
       "      <td>0.0</td>\n",
       "      <td>0.0</td>\n",
       "      <td>0.0</td>\n",
       "      <td>0.0</td>\n",
       "      <td>0.0</td>\n",
       "      <td>0.0</td>\n",
       "      <td>Others</td>\n",
       "      <td>500_01689_05147</td>\n",
       "      <td>0.033898</td>\n",
       "      <td>2019-06</td>\n",
       "      <td>0.394191</td>\n",
       "      <td>0.393939</td>\n",
       "      <td>0.364583</td>\n",
       "    </tr>\n",
       "  </tbody>\n",
       "</table>\n",
       "</div>"
      ],
      "text/plain": [
       "          SKP_CREDIT_CASE TIME_DECISION_DATE    CUS_LAT   CUS_LONG  \\\n",
       "10847834        237941809         2019-06-01  10.128995  76.380272   \n",
       "10847835        237941812         2019-06-01  18.477572  74.020281   \n",
       "10847836        237941815         2019-06-01  25.280738  82.998425   \n",
       "10847837        237941816         2019-06-01  30.561420  76.758889   \n",
       "10847838        237941818         2019-06-01  30.815237  76.346362   \n",
       "\n",
       "          RISK_FPD10  RISK_FPD30  RISK_FSPD30  RISK_FSTPD30  RISK_FSTQPD30  \\\n",
       "10847834         0.0         0.0          0.0           0.0            0.0   \n",
       "10847835         0.0         0.0          0.0           0.0            0.0   \n",
       "10847836         0.0         0.0          0.0           0.0            0.0   \n",
       "10847837         0.0         0.0          0.0           0.0            0.0   \n",
       "10847838         0.0         0.0          0.0           0.0            0.0   \n",
       "\n",
       "          RISK_FSTQPD60 NTC_FLAG          GRID_ID  RISK_SCORE MONTH_STR  \\\n",
       "10847834            0.0   Others  500_01579_00624    0.050372   2019-06   \n",
       "10847835            0.0   Others  500_01136_02479    0.031215   2019-06   \n",
       "10847836            0.0      NTC  500_02972_03938    0.119862   2019-06   \n",
       "10847837            0.0   Others  500_01766_05090    0.030451   2019-06   \n",
       "10847838            0.0   Others  500_01689_05147    0.033898   2019-06   \n",
       "\n",
       "          F10_PRED_SCORE  F30_PRED_SCORE  FS30_PRED_SCORE  \n",
       "10847834        0.443983        0.500000         0.479167  \n",
       "10847835        0.518672        0.484848         0.500000  \n",
       "10847836        0.419087        0.393939         0.437500  \n",
       "10847837        0.352697        0.333333         0.322917  \n",
       "10847838        0.394191        0.393939         0.364583  "
      ]
     },
     "execution_count": 116,
     "metadata": {},
     "output_type": "execute_result"
    }
   ],
   "source": [
    "df_test.head()"
   ]
  },
  {
   "cell_type": "code",
   "execution_count": 117,
   "metadata": {},
   "outputs": [
    {
     "name": "stdout",
     "output_type": "stream",
     "text": [
      "FSTQPD30 Gini:  4.54\n"
     ]
    }
   ],
   "source": [
    "print(\"FSTQPD30 Gini: \" ,round((2*metrics.roc_auc_score(df_test[\"RISK_FSTQPD30\"],df_test[\"FS30_PRED_SCORE\"])-1)*100,2))"
   ]
  },
  {
   "cell_type": "markdown",
   "metadata": {},
   "source": [
    "# Try FSTPD30 and validate performance on FSTQPD30"
   ]
  },
  {
   "cell_type": "code",
   "execution_count": 118,
   "metadata": {},
   "outputs": [],
   "source": [
    "# Split Train and Test Data Set\n",
    "df_train = df[(df[\"TIME_DECISION_DATE\"]>=datetime.datetime(2019, 1, 1)) & \n",
    "              (df[\"TIME_DECISION_DATE\"]<=datetime.datetime(2019, 2, 1))]\n",
    "# df_test = df[(df[\"TIME_DECISION_DATE\"]>=datetime.datetime(2019, 6, 1)) & \n",
    "#               (df[\"TIME_DECISION_DATE\"]<=datetime.datetime(2019, 8, 31))]"
   ]
  },
  {
   "cell_type": "code",
   "execution_count": 119,
   "metadata": {},
   "outputs": [
    {
     "name": "stdout",
     "output_type": "stream",
     "text": [
      "(411283, 14)\n",
      "(1078674, 17)\n"
     ]
    },
    {
     "data": {
      "text/plain": [
       "0.0    391973\n",
       "1.0     19310\n",
       "Name: RISK_FSTPD30, dtype: int64"
      ]
     },
     "execution_count": 119,
     "metadata": {},
     "output_type": "execute_result"
    }
   ],
   "source": [
    "print(df_train.shape)\n",
    "print(df_test.shape)\n",
    "df_train.RISK_FSTPD30.value_counts()"
   ]
  },
  {
   "cell_type": "code",
   "execution_count": 120,
   "metadata": {},
   "outputs": [],
   "source": [
    "target = \"RISK_FSTPD30\""
   ]
  },
  {
   "cell_type": "code",
   "execution_count": 121,
   "metadata": {},
   "outputs": [
    {
     "name": "stdout",
     "output_type": "stream",
     "text": [
      "Random under-sampling:\n",
      "1.0    15000\n",
      "0.0    15000\n",
      "Name: RISK_FSTPD30, dtype: int64\n"
     ]
    },
    {
     "data": {
      "image/png": "[encoded data removed]",
      "text/plain": [
       "<Figure size 432x288 with 1 Axes>"
      ]
     },
     "metadata": {
      "needs_background": "light"
     },
     "output_type": "display_data"
    }
   ],
   "source": [
    "#Downsampling Code \n",
    "#count_class_0, count_class_1 = df_train.RISK_FPD10.value_counts()\n",
    "count_class_0, count_class_1 = (15000,15000)\n",
    "df_class_0 = df_train[df_train[target] == 0]\n",
    "df_class_1 = df_train[df_train[target] == 1]\n",
    "df_class_0_under = df_class_0.sample(count_class_0, random_state = 2)\n",
    "df_class_1_under = df_class_1.sample(count_class_1, random_state = 2)\n",
    "df_train_under = pd.concat([df_class_0_under, df_class_1_under], axis=0)\n",
    "\n",
    "print('Random under-sampling:')\n",
    "print(df_train_under[target].value_counts())\n",
    "\n",
    "df_train_under[target].value_counts().plot(kind='bar', title='Count (target)');"
   ]
  },
  {
   "cell_type": "code",
   "execution_count": 122,
   "metadata": {},
   "outputs": [],
   "source": [
    "X_train = df_train_under[[\"CUS_LAT\",\"CUS_LONG\",\"RISK_SCORE\",\"TIME_DECISION_DATE\"]]\n",
    "X_test = df_test[[\"CUS_LAT\",\"CUS_LONG\",\"RISK_SCORE\",\"TIME_DECISION_DATE\"]]\n",
    "\n",
    "y_train = df_train_under[target]\n",
    "y_test =  df_test[target]\n"
   ]
  },
  {
   "cell_type": "code",
   "execution_count": 123,
   "metadata": {},
   "outputs": [
    {
     "name": "stdout",
     "output_type": "stream",
     "text": [
      "\n",
      "Event rate in train set : 50.00%\n",
      "\n",
      "Event rate in test set : 4.13%\n"
     ]
    }
   ],
   "source": [
    "print(\"\\nEvent rate in train set :\", '{:,.2%}'.format(sum(y_train) / len(y_train)))\n",
    "\n",
    "print(\"\\nEvent rate in test set :\", '{:,.2%}'.format(sum(y_test) / len(y_test)))"
   ]
  },
  {
   "cell_type": "code",
   "execution_count": 124,
   "metadata": {},
   "outputs": [],
   "source": [
    "param_grid = {'n_neighbors': np.arange(1,350,5)\n",
    "            }\n",
    "seed = 25"
   ]
  },
  {
   "cell_type": "code",
   "execution_count": 125,
   "metadata": {},
   "outputs": [],
   "source": [
    "from sklearn.neighbors import KNeighborsClassifier\n",
    "# Create KNN classifier\n",
    "knn = KNeighborsClassifier(weights = 'uniform')\n",
    "kfolds = StratifiedKFold(3, random_state=1)\n",
    "\n",
    "clf = RandomizedSearchCV(estimator=knn, param_distributions=param_grid, scoring=['roc_auc'], n_iter=10,\n",
    "                         random_state=seed, cv=kfolds.split(X_train[[\"CUS_LAT\",\"CUS_LONG\"]], y_train), refit='roc_auc',error_score=0, return_train_score =True)\n"
   ]
  },
  {
   "cell_type": "code",
   "execution_count": 86,
   "metadata": {},
   "outputs": [
    {
     "name": "stdout",
     "output_type": "stream",
     "text": [
      "Randomized search..\n",
      "Randomized search time: 73.21085667610168\n"
     ]
    }
   ],
   "source": [
    "print(\"Randomized search..\")\n",
    "\n",
    "search_time_start = time.time()\n",
    "clf.fit(X_train[[\"CUS_LAT\",\"CUS_LONG\"]], np.ravel(y_train))\n",
    "print(\"Randomized search time:\", time.time() - search_time_start)\n",
    "\n",
    "params = clf.best_params_   #get best parameters\n",
    "dic=clf.cv_results_    #provides scoring results for each iteration, 50 in this case, mean values can be used \n",
    "tmp= pd.DataFrame(dic['params'])"
   ]
  },
  {
   "cell_type": "code",
   "execution_count": 240,
   "metadata": {},
   "outputs": [],
   "source": [
    "pd.DataFrame(dic).to_csv(r\"C:\\Users\\aman.khatri91425\\Desktop\\HomeCredit\\Bigdata\\ShortTargets_RCV_results_FSTPD30.csv\")"
   ]
  },
  {
   "cell_type": "code",
   "execution_count": 87,
   "metadata": {},
   "outputs": [],
   "source": [
    "tmp1= pd.DataFrame(dic)[[\"param_n_neighbors\",\"mean_test_roc_auc\",\"mean_train_roc_auc\"]].sort_values(by = 'param_n_neighbors')"
   ]
  },
  {
   "cell_type": "code",
   "execution_count": 88,
   "metadata": {},
   "outputs": [
    {
     "data": {
      "text/plain": [
       "<matplotlib.axes._subplots.AxesSubplot at 0x1501d198630>"
      ]
     },
     "execution_count": 88,
     "metadata": {},
     "output_type": "execute_result"
    },
    {
     "data": {
      "image/png": "[encoded data removed]",
      "text/plain": [
       "<Figure size 432x288 with 1 Axes>"
      ]
     },
     "metadata": {
      "needs_background": "light"
     },
     "output_type": "display_data"
    }
   ],
   "source": [
    "tmp1[[\"param_n_neighbors\",\"mean_test_roc_auc\"]].plot(x=\"param_n_neighbors\")"
   ]
  },
  {
   "cell_type": "code",
   "execution_count": 89,
   "metadata": {},
   "outputs": [
    {
     "data": {
      "text/html": [
       "<div>\n",
       "<style scoped>\n",
       "    .dataframe tbody tr th:only-of-type {\n",
       "        vertical-align: middle;\n",
       "    }\n",
       "\n",
       "    .dataframe tbody tr th {\n",
       "        vertical-align: top;\n",
       "    }\n",
       "\n",
       "    .dataframe thead th {\n",
       "        text-align: right;\n",
       "    }\n",
       "</style>\n",
       "<table border=\"1\" class=\"dataframe\">\n",
       "  <thead>\n",
       "    <tr style=\"text-align: right;\">\n",
       "      <th></th>\n",
       "      <th>param_n_neighbors</th>\n",
       "      <th>mean_test_roc_auc</th>\n",
       "    </tr>\n",
       "  </thead>\n",
       "  <tbody>\n",
       "    <tr>\n",
       "      <th>2</th>\n",
       "      <td>1</td>\n",
       "      <td>0.520033</td>\n",
       "    </tr>\n",
       "    <tr>\n",
       "      <th>1</th>\n",
       "      <td>61</td>\n",
       "      <td>0.567646</td>\n",
       "    </tr>\n",
       "    <tr>\n",
       "      <th>8</th>\n",
       "      <td>66</td>\n",
       "      <td>0.567656</td>\n",
       "    </tr>\n",
       "    <tr>\n",
       "      <th>6</th>\n",
       "      <td>86</td>\n",
       "      <td>0.568524</td>\n",
       "    </tr>\n",
       "    <tr>\n",
       "      <th>9</th>\n",
       "      <td>166</td>\n",
       "      <td>0.569856</td>\n",
       "    </tr>\n",
       "    <tr>\n",
       "      <th>3</th>\n",
       "      <td>191</td>\n",
       "      <td>0.569322</td>\n",
       "    </tr>\n",
       "    <tr>\n",
       "      <th>5</th>\n",
       "      <td>206</td>\n",
       "      <td>0.569899</td>\n",
       "    </tr>\n",
       "    <tr>\n",
       "      <th>7</th>\n",
       "      <td>291</td>\n",
       "      <td>0.568580</td>\n",
       "    </tr>\n",
       "    <tr>\n",
       "      <th>4</th>\n",
       "      <td>321</td>\n",
       "      <td>0.568611</td>\n",
       "    </tr>\n",
       "    <tr>\n",
       "      <th>0</th>\n",
       "      <td>336</td>\n",
       "      <td>0.568258</td>\n",
       "    </tr>\n",
       "  </tbody>\n",
       "</table>\n",
       "</div>"
      ],
      "text/plain": [
       "  param_n_neighbors  mean_test_roc_auc\n",
       "2                 1           0.520033\n",
       "1                61           0.567646\n",
       "8                66           0.567656\n",
       "6                86           0.568524\n",
       "9               166           0.569856\n",
       "3               191           0.569322\n",
       "5               206           0.569899\n",
       "7               291           0.568580\n",
       "4               321           0.568611\n",
       "0               336           0.568258"
      ]
     },
     "execution_count": 89,
     "metadata": {},
     "output_type": "execute_result"
    }
   ],
   "source": [
    "tmp1[[\"param_n_neighbors\",\"mean_test_roc_auc\"]]"
   ]
  },
  {
   "cell_type": "code",
   "execution_count": 90,
   "metadata": {},
   "outputs": [
    {
     "name": "stdout",
     "output_type": "stream",
     "text": [
      "Best score: 0.5698986466666667\n",
      "Best params: \n",
      "n_neighbors: 206\n"
     ]
    }
   ],
   "source": [
    "print(\"Best score: {}\".format(clf.best_score_))    #best auc score as we took that for refit \n",
    "\n",
    "\n",
    "print(\"Best params: \")\n",
    "\n",
    "for param_name in sorted(params.keys()):\n",
    "    print('%s: %r' % (param_name, params[param_name]))"
   ]
  },
  {
   "cell_type": "code",
   "execution_count": 126,
   "metadata": {},
   "outputs": [],
   "source": [
    "#update estimated hyperparameter values to new model\n",
    "from sklearn.neighbors import KNeighborsClassifier\n",
    "params = {'n_neighbors': 206}\n",
    "kfolds = StratifiedKFold(4, random_state=1)\n",
    "knn = KNeighborsClassifier(**params)\n",
    "# cross validation gini\n",
    "auc_cv = cross_val_score(knn, X_train[[\"CUS_LAT\",\"CUS_LONG\"]], y_train, scoring='roc_auc', cv=kfolds.split(X_train[[\"CUS_LAT\",\"CUS_LONG\"]], y_train),\n",
    "                         n_jobs=-1)\n",
    "gini_cv = (2 * np.array(auc_cv) - 1).mean()\n"
   ]
  },
  {
   "cell_type": "code",
   "execution_count": 127,
   "metadata": {},
   "outputs": [],
   "source": [
    "bst = knn.fit(X_train[[\"CUS_LAT\",\"CUS_LONG\"]], np.ravel(y_train))\n",
    "\n",
    "ypred_train = bst.predict_proba(X_train[[\"CUS_LAT\",\"CUS_LONG\"]])[:, 1]\n",
    "ypred_test = bst.predict_proba(X_test[[\"CUS_LAT\",\"CUS_LONG\"]])[:, 1]"
   ]
  },
  {
   "cell_type": "code",
   "execution_count": 128,
   "metadata": {},
   "outputs": [],
   "source": [
    "metric_auc_train = metrics.roc_auc_score(y_train, ypred_train)\n",
    "metric_auc_test = metrics.roc_auc_score(y_test, ypred_test)\n",
    "\n",
    "gini_train = 2 * metric_auc_train - 1\n",
    "gini_test = 2 * metric_auc_test - 1\n"
   ]
  },
  {
   "cell_type": "code",
   "execution_count": 129,
   "metadata": {},
   "outputs": [
    {
     "name": "stdout",
     "output_type": "stream",
     "text": [
      "GINI TRAIN: 18.13%\n",
      "\n",
      "GINI TEST: 6.62%\n",
      "\n",
      "GINI CV: 14.08%\n"
     ]
    }
   ],
   "source": [
    "print(\"GINI TRAIN:\",'{:,.2%}'.format(gini_train))\n",
    "print(\"\\nGINI TEST:\",'{:,.2%}'.format(gini_test))\n",
    "print(\"\\nGINI CV:\",'{:,.2%}'.format(gini_cv))"
   ]
  },
  {
   "cell_type": "code",
   "execution_count": 130,
   "metadata": {},
   "outputs": [
    {
     "name": "stderr",
     "output_type": "stream",
     "text": [
      "C:\\Users\\aman.khatri91425\\AppData\\Local\\Continuum\\anaconda3\\lib\\site-packages\\ipykernel_launcher.py:2: SettingWithCopyWarning: \n",
      "A value is trying to be set on a copy of a slice from a DataFrame.\n",
      "Try using .loc[row_indexer,col_indexer] = value instead\n",
      "\n",
      "See the caveats in the documentation: http://pandas.pydata.org/pandas-docs/stable/indexing.html#indexing-view-versus-copy\n",
      "  \n"
     ]
    }
   ],
   "source": [
    "df_train_under['FST30_PRED_SCORE'] = ypred_train\n",
    "df_test['FST30_PRED_SCORE'] = ypred_test"
   ]
  },
  {
   "cell_type": "code",
   "execution_count": 131,
   "metadata": {},
   "outputs": [
    {
     "data": {
      "text/html": [
       "<div>\n",
       "<style scoped>\n",
       "    .dataframe tbody tr th:only-of-type {\n",
       "        vertical-align: middle;\n",
       "    }\n",
       "\n",
       "    .dataframe tbody tr th {\n",
       "        vertical-align: top;\n",
       "    }\n",
       "\n",
       "    .dataframe thead th {\n",
       "        text-align: right;\n",
       "    }\n",
       "</style>\n",
       "<table border=\"1\" class=\"dataframe\">\n",
       "  <thead>\n",
       "    <tr style=\"text-align: right;\">\n",
       "      <th></th>\n",
       "      <th>SKP_CREDIT_CASE</th>\n",
       "      <th>TIME_DECISION_DATE</th>\n",
       "      <th>CUS_LAT</th>\n",
       "      <th>CUS_LONG</th>\n",
       "      <th>RISK_FPD10</th>\n",
       "      <th>RISK_FPD30</th>\n",
       "      <th>RISK_FSPD30</th>\n",
       "      <th>RISK_FSTPD30</th>\n",
       "      <th>RISK_FSTQPD30</th>\n",
       "      <th>RISK_FSTQPD60</th>\n",
       "      <th>NTC_FLAG</th>\n",
       "      <th>GRID_ID</th>\n",
       "      <th>RISK_SCORE</th>\n",
       "      <th>MONTH_STR</th>\n",
       "      <th>F10_PRED_SCORE</th>\n",
       "      <th>F30_PRED_SCORE</th>\n",
       "      <th>FS30_PRED_SCORE</th>\n",
       "      <th>FST30_PRED_SCORE</th>\n",
       "    </tr>\n",
       "  </thead>\n",
       "  <tbody>\n",
       "    <tr>\n",
       "      <th>10847834</th>\n",
       "      <td>237941809</td>\n",
       "      <td>2019-06-01</td>\n",
       "      <td>10.128995</td>\n",
       "      <td>76.380272</td>\n",
       "      <td>0.0</td>\n",
       "      <td>0.0</td>\n",
       "      <td>0.0</td>\n",
       "      <td>0.0</td>\n",
       "      <td>0.0</td>\n",
       "      <td>0.0</td>\n",
       "      <td>Others</td>\n",
       "      <td>500_01579_00624</td>\n",
       "      <td>0.050372</td>\n",
       "      <td>2019-06</td>\n",
       "      <td>0.443983</td>\n",
       "      <td>0.500000</td>\n",
       "      <td>0.479167</td>\n",
       "      <td>0.378641</td>\n",
       "    </tr>\n",
       "    <tr>\n",
       "      <th>10847835</th>\n",
       "      <td>237941812</td>\n",
       "      <td>2019-06-01</td>\n",
       "      <td>18.477572</td>\n",
       "      <td>74.020281</td>\n",
       "      <td>0.0</td>\n",
       "      <td>0.0</td>\n",
       "      <td>0.0</td>\n",
       "      <td>0.0</td>\n",
       "      <td>0.0</td>\n",
       "      <td>0.0</td>\n",
       "      <td>Others</td>\n",
       "      <td>500_01136_02479</td>\n",
       "      <td>0.031215</td>\n",
       "      <td>2019-06</td>\n",
       "      <td>0.518672</td>\n",
       "      <td>0.484848</td>\n",
       "      <td>0.500000</td>\n",
       "      <td>0.475728</td>\n",
       "    </tr>\n",
       "    <tr>\n",
       "      <th>10847836</th>\n",
       "      <td>237941815</td>\n",
       "      <td>2019-06-01</td>\n",
       "      <td>25.280738</td>\n",
       "      <td>82.998425</td>\n",
       "      <td>0.0</td>\n",
       "      <td>0.0</td>\n",
       "      <td>0.0</td>\n",
       "      <td>0.0</td>\n",
       "      <td>0.0</td>\n",
       "      <td>0.0</td>\n",
       "      <td>NTC</td>\n",
       "      <td>500_02972_03938</td>\n",
       "      <td>0.119862</td>\n",
       "      <td>2019-06</td>\n",
       "      <td>0.419087</td>\n",
       "      <td>0.393939</td>\n",
       "      <td>0.437500</td>\n",
       "      <td>0.451456</td>\n",
       "    </tr>\n",
       "    <tr>\n",
       "      <th>10847837</th>\n",
       "      <td>237941816</td>\n",
       "      <td>2019-06-01</td>\n",
       "      <td>30.561420</td>\n",
       "      <td>76.758889</td>\n",
       "      <td>0.0</td>\n",
       "      <td>0.0</td>\n",
       "      <td>0.0</td>\n",
       "      <td>0.0</td>\n",
       "      <td>0.0</td>\n",
       "      <td>0.0</td>\n",
       "      <td>Others</td>\n",
       "      <td>500_01766_05090</td>\n",
       "      <td>0.030451</td>\n",
       "      <td>2019-06</td>\n",
       "      <td>0.352697</td>\n",
       "      <td>0.333333</td>\n",
       "      <td>0.322917</td>\n",
       "      <td>0.427184</td>\n",
       "    </tr>\n",
       "    <tr>\n",
       "      <th>10847838</th>\n",
       "      <td>237941818</td>\n",
       "      <td>2019-06-01</td>\n",
       "      <td>30.815237</td>\n",
       "      <td>76.346362</td>\n",
       "      <td>0.0</td>\n",
       "      <td>0.0</td>\n",
       "      <td>0.0</td>\n",
       "      <td>0.0</td>\n",
       "      <td>0.0</td>\n",
       "      <td>0.0</td>\n",
       "      <td>Others</td>\n",
       "      <td>500_01689_05147</td>\n",
       "      <td>0.033898</td>\n",
       "      <td>2019-06</td>\n",
       "      <td>0.394191</td>\n",
       "      <td>0.393939</td>\n",
       "      <td>0.364583</td>\n",
       "      <td>0.407767</td>\n",
       "    </tr>\n",
       "  </tbody>\n",
       "</table>\n",
       "</div>"
      ],
      "text/plain": [
       "          SKP_CREDIT_CASE TIME_DECISION_DATE    CUS_LAT   CUS_LONG  \\\n",
       "10847834        237941809         2019-06-01  10.128995  76.380272   \n",
       "10847835        237941812         2019-06-01  18.477572  74.020281   \n",
       "10847836        237941815         2019-06-01  25.280738  82.998425   \n",
       "10847837        237941816         2019-06-01  30.561420  76.758889   \n",
       "10847838        237941818         2019-06-01  30.815237  76.346362   \n",
       "\n",
       "          RISK_FPD10  RISK_FPD30  RISK_FSPD30  RISK_FSTPD30  RISK_FSTQPD30  \\\n",
       "10847834         0.0         0.0          0.0           0.0            0.0   \n",
       "10847835         0.0         0.0          0.0           0.0            0.0   \n",
       "10847836         0.0         0.0          0.0           0.0            0.0   \n",
       "10847837         0.0         0.0          0.0           0.0            0.0   \n",
       "10847838         0.0         0.0          0.0           0.0            0.0   \n",
       "\n",
       "          RISK_FSTQPD60 NTC_FLAG          GRID_ID  RISK_SCORE MONTH_STR  \\\n",
       "10847834            0.0   Others  500_01579_00624    0.050372   2019-06   \n",
       "10847835            0.0   Others  500_01136_02479    0.031215   2019-06   \n",
       "10847836            0.0      NTC  500_02972_03938    0.119862   2019-06   \n",
       "10847837            0.0   Others  500_01766_05090    0.030451   2019-06   \n",
       "10847838            0.0   Others  500_01689_05147    0.033898   2019-06   \n",
       "\n",
       "          F10_PRED_SCORE  F30_PRED_SCORE  FS30_PRED_SCORE  FST30_PRED_SCORE  \n",
       "10847834        0.443983        0.500000         0.479167          0.378641  \n",
       "10847835        0.518672        0.484848         0.500000          0.475728  \n",
       "10847836        0.419087        0.393939         0.437500          0.451456  \n",
       "10847837        0.352697        0.333333         0.322917          0.427184  \n",
       "10847838        0.394191        0.393939         0.364583          0.407767  "
      ]
     },
     "execution_count": 131,
     "metadata": {},
     "output_type": "execute_result"
    }
   ],
   "source": [
    "df_test.head()"
   ]
  },
  {
   "cell_type": "code",
   "execution_count": 132,
   "metadata": {},
   "outputs": [
    {
     "name": "stdout",
     "output_type": "stream",
     "text": [
      "FSTQPD30 Gini:  3.72\n"
     ]
    }
   ],
   "source": [
    "print(\"FSTQPD30 Gini: \" ,round((2*metrics.roc_auc_score(df_test[\"RISK_FSTQPD30\"],df_test[\"FST30_PRED_SCORE\"])-1)*100,2))"
   ]
  },
  {
   "cell_type": "code",
   "execution_count": null,
   "metadata": {},
   "outputs": [],
   "source": []
  },
  {
   "cell_type": "markdown",
   "metadata": {},
   "source": [
    "# Try FSTQPD30 and validate performance on FSTQPD30"
   ]
  },
  {
   "cell_type": "code",
   "execution_count": 421,
   "metadata": {},
   "outputs": [],
   "source": [
    "# Split Train and Test Data Set\n",
    "df_train = df[(df[\"TIME_DECISION_DATE\"]>=datetime.datetime(2018, 1, 1)) & \n",
    "              (df[\"TIME_DECISION_DATE\"]<=datetime.datetime(2019, 1, 1))]\n",
    "# df_test = df[(df[\"TIME_DECISION_DATE\"]>=datetime.datetime(2019, 6, 1)) & \n",
    "#               (df[\"TIME_DECISION_DATE\"]<=datetime.datetime(2019, 8, 31))]"
   ]
  },
  {
   "cell_type": "code",
   "execution_count": 422,
   "metadata": {},
   "outputs": [
    {
     "name": "stdout",
     "output_type": "stream",
     "text": [
      "(4699041, 14)\n",
      "(1078674, 19)\n"
     ]
    },
    {
     "data": {
      "text/plain": [
       "0.0    4359490\n",
       "1.0     339473\n",
       "Name: RISK_FSTQPD30, dtype: int64"
      ]
     },
     "execution_count": 422,
     "metadata": {},
     "output_type": "execute_result"
    }
   ],
   "source": [
    "print(df_train.shape)\n",
    "print(df_test.shape)\n",
    "df_train.RISK_FSTQPD30.value_counts()"
   ]
  },
  {
   "cell_type": "code",
   "execution_count": 423,
   "metadata": {},
   "outputs": [],
   "source": [
    "target = \"RISK_FSTQPD30\""
   ]
  },
  {
   "cell_type": "code",
   "execution_count": 424,
   "metadata": {},
   "outputs": [
    {
     "name": "stdout",
     "output_type": "stream",
     "text": [
      "Random under-sampling:\n",
      "1.0    300000\n",
      "0.0    300000\n",
      "Name: RISK_FSTQPD30, dtype: int64\n"
     ]
    },
    {
     "data": {
      "image/png": "[encoded data removed]",
      "text/plain": [
       "<Figure size 432x288 with 1 Axes>"
      ]
     },
     "metadata": {
      "needs_background": "light"
     },
     "output_type": "display_data"
    }
   ],
   "source": [
    "#Downsampling Code \n",
    "#count_class_0, count_class_1 = df_train.RISK_FPD10.value_counts()\n",
    "count_class_0, count_class_1 = (300000,300000)\n",
    "df_class_0 = df_train[df_train[target] == 0]\n",
    "df_class_1 = df_train[df_train[target] == 1]\n",
    "df_class_0_under = df_class_0.sample(count_class_0, random_state = 2)\n",
    "df_class_1_under = df_class_1.sample(count_class_1, random_state = 2)\n",
    "df_train_under = pd.concat([df_class_0_under, df_class_1_under], axis=0)\n",
    "\n",
    "print('Random under-sampling:')\n",
    "print(df_train_under[target].value_counts())\n",
    "\n",
    "df_train_under[target].value_counts().plot(kind='bar', title='Count (target)');"
   ]
  },
  {
   "cell_type": "code",
   "execution_count": 425,
   "metadata": {},
   "outputs": [],
   "source": [
    "X_train = df_train_under[[\"CUS_LAT\",\"CUS_LONG\",\"RISK_SCORE\",\"TIME_DECISION_DATE\"]]\n",
    "X_test = df_test[[\"CUS_LAT\",\"CUS_LONG\",\"RISK_SCORE\",\"TIME_DECISION_DATE\"]]\n",
    "\n",
    "y_train = df_train_under[target]\n",
    "y_test =  df_test[target]\n"
   ]
  },
  {
   "cell_type": "code",
   "execution_count": 426,
   "metadata": {},
   "outputs": [
    {
     "name": "stdout",
     "output_type": "stream",
     "text": [
      "\n",
      "Event rate in train set : 50.00%\n",
      "\n",
      "Event rate in test set : 6.76%\n"
     ]
    }
   ],
   "source": [
    "print(\"\\nEvent rate in train set :\", '{:,.2%}'.format(sum(y_train) / len(y_train)))\n",
    "\n",
    "print(\"\\nEvent rate in test set :\", '{:,.2%}'.format(sum(y_test) / len(y_test)))"
   ]
  },
  {
   "cell_type": "code",
   "execution_count": 427,
   "metadata": {},
   "outputs": [],
   "source": [
    "param_grid = {'n_neighbors': np.arange(1,700,5)\n",
    "            }\n",
    "seed = 25"
   ]
  },
  {
   "cell_type": "code",
   "execution_count": 429,
   "metadata": {},
   "outputs": [],
   "source": [
    "from sklearn.neighbors import KNeighborsClassifier\n",
    "# Create KNN classifier\n",
    "knn = KNeighborsClassifier(weights = 'uniform')\n",
    "kfolds = StratifiedKFold(10, random_state=1)\n",
    "\n",
    "clf = RandomizedSearchCV(estimator=knn, param_distributions=param_grid, scoring=['roc_auc'], n_iter=15,\n",
    "                         random_state=seed, cv=kfolds.split(X_train[[\"CUS_LAT\",\"CUS_LONG\"]], y_train), refit='roc_auc',error_score=0, return_train_score =True)\n"
   ]
  },
  {
   "cell_type": "code",
   "execution_count": 430,
   "metadata": {},
   "outputs": [
    {
     "name": "stdout",
     "output_type": "stream",
     "text": [
      "Randomized search..\n",
      "Randomized search time: 58507.10355305672\n"
     ]
    }
   ],
   "source": [
    "print(\"Randomized search..\")\n",
    "\n",
    "search_time_start = time.time()\n",
    "clf.fit(X_train[[\"CUS_LAT\",\"CUS_LONG\"]], np.ravel(y_train))\n",
    "print(\"Randomized search time:\", time.time() - search_time_start)\n",
    "\n",
    "params = clf.best_params_   #get best parameters\n",
    "dic=clf.cv_results_    #provides scoring results for each iteration, 50 in this case, mean values can be used \n",
    "tmp= pd.DataFrame(dic['params'])"
   ]
  },
  {
   "cell_type": "code",
   "execution_count": 431,
   "metadata": {},
   "outputs": [],
   "source": [
    "pd.DataFrame(dic).to_csv(r\"C:\\Users\\aman.khatri91425\\Desktop\\HomeCredit\\Bigdata\\ShortTargets_RCV_results_FSTQPD30.csv\")"
   ]
  },
  {
   "cell_type": "code",
   "execution_count": 432,
   "metadata": {},
   "outputs": [],
   "source": [
    "tmp1= pd.DataFrame(dic)[[\"param_n_neighbors\",\"mean_test_roc_auc\",\"mean_train_roc_auc\"]].sort_values(by = 'param_n_neighbors')"
   ]
  },
  {
   "cell_type": "code",
   "execution_count": 433,
   "metadata": {},
   "outputs": [
    {
     "data": {
      "text/plain": [
       "<matplotlib.axes._subplots.AxesSubplot at 0x1a643274c18>"
      ]
     },
     "execution_count": 433,
     "metadata": {},
     "output_type": "execute_result"
    },
    {
     "data": {
      "image/png": "[encoded data removed]",
      "text/plain": [
       "<Figure size 432x288 with 1 Axes>"
      ]
     },
     "metadata": {
      "needs_background": "light"
     },
     "output_type": "display_data"
    }
   ],
   "source": [
    "tmp1[[\"param_n_neighbors\",\"mean_test_roc_auc\"]].plot(x=\"param_n_neighbors\")"
   ]
  },
  {
   "cell_type": "code",
   "execution_count": 434,
   "metadata": {},
   "outputs": [
    {
     "data": {
      "text/html": [
       "<div>\n",
       "<style scoped>\n",
       "    .dataframe tbody tr th:only-of-type {\n",
       "        vertical-align: middle;\n",
       "    }\n",
       "\n",
       "    .dataframe tbody tr th {\n",
       "        vertical-align: top;\n",
       "    }\n",
       "\n",
       "    .dataframe thead th {\n",
       "        text-align: right;\n",
       "    }\n",
       "</style>\n",
       "<table border=\"1\" class=\"dataframe\">\n",
       "  <thead>\n",
       "    <tr style=\"text-align: right;\">\n",
       "      <th></th>\n",
       "      <th>param_n_neighbors</th>\n",
       "      <th>mean_test_roc_auc</th>\n",
       "    </tr>\n",
       "  </thead>\n",
       "  <tbody>\n",
       "    <tr>\n",
       "      <th>9</th>\n",
       "      <td>31</td>\n",
       "      <td>0.546987</td>\n",
       "    </tr>\n",
       "    <tr>\n",
       "      <th>4</th>\n",
       "      <td>131</td>\n",
       "      <td>0.560793</td>\n",
       "    </tr>\n",
       "    <tr>\n",
       "      <th>12</th>\n",
       "      <td>321</td>\n",
       "      <td>0.563762</td>\n",
       "    </tr>\n",
       "    <tr>\n",
       "      <th>0</th>\n",
       "      <td>341</td>\n",
       "      <td>0.563872</td>\n",
       "    </tr>\n",
       "    <tr>\n",
       "      <th>6</th>\n",
       "      <td>351</td>\n",
       "      <td>0.563897</td>\n",
       "    </tr>\n",
       "    <tr>\n",
       "      <th>13</th>\n",
       "      <td>376</td>\n",
       "      <td>0.563984</td>\n",
       "    </tr>\n",
       "    <tr>\n",
       "      <th>14</th>\n",
       "      <td>401</td>\n",
       "      <td>0.563963</td>\n",
       "    </tr>\n",
       "    <tr>\n",
       "      <th>5</th>\n",
       "      <td>481</td>\n",
       "      <td>0.563949</td>\n",
       "    </tr>\n",
       "    <tr>\n",
       "      <th>7</th>\n",
       "      <td>496</td>\n",
       "      <td>0.563950</td>\n",
       "    </tr>\n",
       "    <tr>\n",
       "      <th>8</th>\n",
       "      <td>526</td>\n",
       "      <td>0.563877</td>\n",
       "    </tr>\n",
       "    <tr>\n",
       "      <th>10</th>\n",
       "      <td>551</td>\n",
       "      <td>0.563756</td>\n",
       "    </tr>\n",
       "    <tr>\n",
       "      <th>1</th>\n",
       "      <td>556</td>\n",
       "      <td>0.563729</td>\n",
       "    </tr>\n",
       "    <tr>\n",
       "      <th>11</th>\n",
       "      <td>596</td>\n",
       "      <td>0.563651</td>\n",
       "    </tr>\n",
       "    <tr>\n",
       "      <th>3</th>\n",
       "      <td>616</td>\n",
       "      <td>0.563659</td>\n",
       "    </tr>\n",
       "    <tr>\n",
       "      <th>2</th>\n",
       "      <td>681</td>\n",
       "      <td>0.563430</td>\n",
       "    </tr>\n",
       "  </tbody>\n",
       "</table>\n",
       "</div>"
      ],
      "text/plain": [
       "   param_n_neighbors  mean_test_roc_auc\n",
       "9                 31           0.546987\n",
       "4                131           0.560793\n",
       "12               321           0.563762\n",
       "0                341           0.563872\n",
       "6                351           0.563897\n",
       "13               376           0.563984\n",
       "14               401           0.563963\n",
       "5                481           0.563949\n",
       "7                496           0.563950\n",
       "8                526           0.563877\n",
       "10               551           0.563756\n",
       "1                556           0.563729\n",
       "11               596           0.563651\n",
       "3                616           0.563659\n",
       "2                681           0.563430"
      ]
     },
     "execution_count": 434,
     "metadata": {},
     "output_type": "execute_result"
    }
   ],
   "source": [
    "tmp1[[\"param_n_neighbors\",\"mean_test_roc_auc\"]]"
   ]
  },
  {
   "cell_type": "code",
   "execution_count": 435,
   "metadata": {},
   "outputs": [
    {
     "name": "stdout",
     "output_type": "stream",
     "text": [
      "Best score: 0.5639836693333333\n",
      "Best params: \n",
      "n_neighbors: 376\n"
     ]
    }
   ],
   "source": [
    "print(\"Best score: {}\".format(clf.best_score_))    #best auc score as we took that for refit \n",
    "\n",
    "\n",
    "print(\"Best params: \")\n",
    "\n",
    "for param_name in sorted(params.keys()):\n",
    "    print('%s: %r' % (param_name, params[param_name]))"
   ]
  },
  {
   "cell_type": "code",
   "execution_count": 436,
   "metadata": {
    "scrolled": true
   },
   "outputs": [],
   "source": [
    "#update estimated hyperparameter values to new model\n",
    "from sklearn.neighbors import KNeighborsClassifier\n",
    "params = {'n_neighbors': 376}\n",
    "kfolds = StratifiedKFold(4, random_state=1)\n",
    "knn = KNeighborsClassifier(**params)\n",
    "# cross validation gini\n",
    "auc_cv = cross_val_score(knn, X_train[[\"CUS_LAT\",\"CUS_LONG\"]], y_train, scoring='roc_auc', cv=kfolds.split(X_train[[\"CUS_LAT\",\"CUS_LONG\"]], y_train),\n",
    "                         n_jobs=-1)\n",
    "gini_cv = (2 * np.array(auc_cv) - 1).mean()\n"
   ]
  },
  {
   "cell_type": "code",
   "execution_count": 437,
   "metadata": {},
   "outputs": [],
   "source": [
    "bst = knn.fit(X_train[[\"CUS_LAT\",\"CUS_LONG\"]], np.ravel(y_train))\n",
    "\n",
    "ypred_train = bst.predict_proba(X_train[[\"CUS_LAT\",\"CUS_LONG\"]])[:, 1]\n",
    "ypred_test = bst.predict_proba(X_test[[\"CUS_LAT\",\"CUS_LONG\"]])[:, 1]"
   ]
  },
  {
   "cell_type": "code",
   "execution_count": 438,
   "metadata": {},
   "outputs": [],
   "source": [
    "metric_auc_train = metrics.roc_auc_score(y_train, ypred_train)\n",
    "metric_auc_test = metrics.roc_auc_score(y_test, ypred_test)\n",
    "\n",
    "gini_train = 2 * metric_auc_train - 1\n",
    "gini_test = 2 * metric_auc_test - 1\n"
   ]
  },
  {
   "cell_type": "code",
   "execution_count": 439,
   "metadata": {},
   "outputs": [
    {
     "name": "stdout",
     "output_type": "stream",
     "text": [
      "GINI TRAIN: 15.15%\n",
      "\n",
      "GINI TEST: 9.04%\n",
      "\n",
      "GINI CV: 12.65%\n"
     ]
    }
   ],
   "source": [
    "print(\"GINI TRAIN:\",'{:,.2%}'.format(gini_train))\n",
    "print(\"\\nGINI TEST:\",'{:,.2%}'.format(gini_test))\n",
    "print(\"\\nGINI CV:\",'{:,.2%}'.format(gini_cv))"
   ]
  },
  {
   "cell_type": "code",
   "execution_count": 440,
   "metadata": {},
   "outputs": [
    {
     "name": "stderr",
     "output_type": "stream",
     "text": [
      "C:\\Users\\aman.khatri91425\\AppData\\Local\\Continuum\\anaconda3\\lib\\site-packages\\ipykernel_launcher.py:2: SettingWithCopyWarning: \n",
      "A value is trying to be set on a copy of a slice from a DataFrame.\n",
      "Try using .loc[row_indexer,col_indexer] = value instead\n",
      "\n",
      "See the caveats in the documentation: http://pandas.pydata.org/pandas-docs/stable/indexing.html#indexing-view-versus-copy\n",
      "  \n"
     ]
    }
   ],
   "source": [
    "df_train_under['FSTQ30_PRED_SCORE'] = ypred_train\n",
    "df_test['FSTQ30_PRED_SCORE'] = ypred_test"
   ]
  },
  {
   "cell_type": "code",
   "execution_count": 441,
   "metadata": {},
   "outputs": [
    {
     "data": {
      "text/html": [
       "<div>\n",
       "<style scoped>\n",
       "    .dataframe tbody tr th:only-of-type {\n",
       "        vertical-align: middle;\n",
       "    }\n",
       "\n",
       "    .dataframe tbody tr th {\n",
       "        vertical-align: top;\n",
       "    }\n",
       "\n",
       "    .dataframe thead th {\n",
       "        text-align: right;\n",
       "    }\n",
       "</style>\n",
       "<table border=\"1\" class=\"dataframe\">\n",
       "  <thead>\n",
       "    <tr style=\"text-align: right;\">\n",
       "      <th></th>\n",
       "      <th>Unnamed: 0</th>\n",
       "      <th>SKP_CREDIT_CASE</th>\n",
       "      <th>TIME_DECISION_DATE</th>\n",
       "      <th>CUS_LAT</th>\n",
       "      <th>CUS_LONG</th>\n",
       "      <th>RISK_FPD10</th>\n",
       "      <th>RISK_FPD30</th>\n",
       "      <th>RISK_FSPD30</th>\n",
       "      <th>RISK_FSTPD30</th>\n",
       "      <th>RISK_FSTQPD30</th>\n",
       "      <th>RISK_FSTQPD60</th>\n",
       "      <th>NTC_FLAG</th>\n",
       "      <th>RISK_SCORE</th>\n",
       "      <th>MONTH_STR</th>\n",
       "      <th>F30_PRED_SCORE</th>\n",
       "      <th>FS30_PRED_SCORE</th>\n",
       "      <th>FST30_PRED_SCORE</th>\n",
       "      <th>FSTQ30_PRED_SCORE</th>\n",
       "      <th>F10_PRED_SCORE</th>\n",
       "    </tr>\n",
       "  </thead>\n",
       "  <tbody>\n",
       "    <tr>\n",
       "      <th>185665</th>\n",
       "      <td>185665</td>\n",
       "      <td>250244469</td>\n",
       "      <td>2019-08-31</td>\n",
       "      <td>10.042105</td>\n",
       "      <td>76.448236</td>\n",
       "      <td>0.0</td>\n",
       "      <td>0.0</td>\n",
       "      <td>0.0</td>\n",
       "      <td>0.0</td>\n",
       "      <td>0.0</td>\n",
       "      <td>0.0</td>\n",
       "      <td>Others</td>\n",
       "      <td>0.012948</td>\n",
       "      <td>2019-08</td>\n",
       "      <td>0.705882</td>\n",
       "      <td>0.676617</td>\n",
       "      <td>0.628272</td>\n",
       "      <td>0.643617</td>\n",
       "      <td>0.693727</td>\n",
       "    </tr>\n",
       "    <tr>\n",
       "      <th>185666</th>\n",
       "      <td>185666</td>\n",
       "      <td>250244475</td>\n",
       "      <td>2019-08-31</td>\n",
       "      <td>30.691595</td>\n",
       "      <td>76.823270</td>\n",
       "      <td>0.0</td>\n",
       "      <td>0.0</td>\n",
       "      <td>0.0</td>\n",
       "      <td>0.0</td>\n",
       "      <td>0.0</td>\n",
       "      <td>0.0</td>\n",
       "      <td>Others</td>\n",
       "      <td>0.072733</td>\n",
       "      <td>2019-08</td>\n",
       "      <td>0.389706</td>\n",
       "      <td>0.402985</td>\n",
       "      <td>0.403141</td>\n",
       "      <td>0.398936</td>\n",
       "      <td>0.383764</td>\n",
       "    </tr>\n",
       "    <tr>\n",
       "      <th>185667</th>\n",
       "      <td>185667</td>\n",
       "      <td>250244477</td>\n",
       "      <td>2019-08-31</td>\n",
       "      <td>30.750418</td>\n",
       "      <td>76.796404</td>\n",
       "      <td>0.0</td>\n",
       "      <td>0.0</td>\n",
       "      <td>0.0</td>\n",
       "      <td>0.0</td>\n",
       "      <td>0.0</td>\n",
       "      <td>0.0</td>\n",
       "      <td>Others</td>\n",
       "      <td>0.011748</td>\n",
       "      <td>2019-08</td>\n",
       "      <td>0.529412</td>\n",
       "      <td>0.477612</td>\n",
       "      <td>0.392670</td>\n",
       "      <td>0.390957</td>\n",
       "      <td>0.383764</td>\n",
       "    </tr>\n",
       "    <tr>\n",
       "      <th>185668</th>\n",
       "      <td>185668</td>\n",
       "      <td>250244478</td>\n",
       "      <td>2019-08-31</td>\n",
       "      <td>25.774830</td>\n",
       "      <td>73.338201</td>\n",
       "      <td>0.0</td>\n",
       "      <td>0.0</td>\n",
       "      <td>0.0</td>\n",
       "      <td>0.0</td>\n",
       "      <td>0.0</td>\n",
       "      <td>0.0</td>\n",
       "      <td>Others</td>\n",
       "      <td>0.017211</td>\n",
       "      <td>2019-08</td>\n",
       "      <td>0.404412</td>\n",
       "      <td>0.482587</td>\n",
       "      <td>0.570681</td>\n",
       "      <td>0.497340</td>\n",
       "      <td>0.490775</td>\n",
       "    </tr>\n",
       "    <tr>\n",
       "      <th>185669</th>\n",
       "      <td>185669</td>\n",
       "      <td>250244481</td>\n",
       "      <td>2019-08-31</td>\n",
       "      <td>30.293438</td>\n",
       "      <td>77.998160</td>\n",
       "      <td>0.0</td>\n",
       "      <td>0.0</td>\n",
       "      <td>0.0</td>\n",
       "      <td>0.0</td>\n",
       "      <td>0.0</td>\n",
       "      <td>0.0</td>\n",
       "      <td>Others</td>\n",
       "      <td>0.041108</td>\n",
       "      <td>2019-08</td>\n",
       "      <td>0.558824</td>\n",
       "      <td>0.547264</td>\n",
       "      <td>0.565445</td>\n",
       "      <td>0.468085</td>\n",
       "      <td>0.575646</td>\n",
       "    </tr>\n",
       "  </tbody>\n",
       "</table>\n",
       "</div>"
      ],
      "text/plain": [
       "        Unnamed: 0  SKP_CREDIT_CASE TIME_DECISION_DATE    CUS_LAT   CUS_LONG  \\\n",
       "185665      185665        250244469         2019-08-31  10.042105  76.448236   \n",
       "185666      185666        250244475         2019-08-31  30.691595  76.823270   \n",
       "185667      185667        250244477         2019-08-31  30.750418  76.796404   \n",
       "185668      185668        250244478         2019-08-31  25.774830  73.338201   \n",
       "185669      185669        250244481         2019-08-31  30.293438  77.998160   \n",
       "\n",
       "        RISK_FPD10  RISK_FPD30  RISK_FSPD30  RISK_FSTPD30  RISK_FSTQPD30  \\\n",
       "185665         0.0         0.0          0.0           0.0            0.0   \n",
       "185666         0.0         0.0          0.0           0.0            0.0   \n",
       "185667         0.0         0.0          0.0           0.0            0.0   \n",
       "185668         0.0         0.0          0.0           0.0            0.0   \n",
       "185669         0.0         0.0          0.0           0.0            0.0   \n",
       "\n",
       "        RISK_FSTQPD60 NTC_FLAG  RISK_SCORE MONTH_STR  F30_PRED_SCORE  \\\n",
       "185665            0.0   Others    0.012948   2019-08        0.705882   \n",
       "185666            0.0   Others    0.072733   2019-08        0.389706   \n",
       "185667            0.0   Others    0.011748   2019-08        0.529412   \n",
       "185668            0.0   Others    0.017211   2019-08        0.404412   \n",
       "185669            0.0   Others    0.041108   2019-08        0.558824   \n",
       "\n",
       "        FS30_PRED_SCORE  FST30_PRED_SCORE  FSTQ30_PRED_SCORE  F10_PRED_SCORE  \n",
       "185665         0.676617          0.628272           0.643617        0.693727  \n",
       "185666         0.402985          0.403141           0.398936        0.383764  \n",
       "185667         0.477612          0.392670           0.390957        0.383764  \n",
       "185668         0.482587          0.570681           0.497340        0.490775  \n",
       "185669         0.547264          0.565445           0.468085        0.575646  "
      ]
     },
     "execution_count": 441,
     "metadata": {},
     "output_type": "execute_result"
    }
   ],
   "source": [
    "df_test.head()"
   ]
  },
  {
   "cell_type": "code",
   "execution_count": 442,
   "metadata": {},
   "outputs": [
    {
     "name": "stdout",
     "output_type": "stream",
     "text": [
      "FSTQPD30 Gini:  9.04\n"
     ]
    }
   ],
   "source": [
    "print(\"FSTQPD30 Gini: \" ,round((2*metrics.roc_auc_score(df_test[\"RISK_FSTQPD30\"],df_test[\"FSTQ30_PRED_SCORE\"])-1)*100,2))"
   ]
  },
  {
   "cell_type": "code",
   "execution_count": 443,
   "metadata": {},
   "outputs": [],
   "source": [
    "df_test.to_csv(os.getcwd()+\"\\\\all_scores_test_data.csv\")"
   ]
  },
  {
   "cell_type": "code",
   "execution_count": null,
   "metadata": {},
   "outputs": [],
   "source": []
  },
  {
   "cell_type": "code",
   "execution_count": null,
   "metadata": {},
   "outputs": [],
   "source": []
  },
  {
   "cell_type": "code",
   "execution_count": null,
   "metadata": {},
   "outputs": [],
   "source": []
  },
  {
   "cell_type": "markdown",
   "metadata": {},
   "source": [
    "# Combining Scores"
   ]
  },
  {
   "cell_type": "code",
   "execution_count": 340,
   "metadata": {},
   "outputs": [],
   "source": [
    "df_combined_score=df_test[['RISK_SCORE','F10_PRED_SCORE','F30_PRED_SCORE','FS30_PRED_SCORE',\n",
    "                           'FST30_PRED_SCORE','FSTQ30_PRED_SCORE','RISK_FSTQPD30','SKP_CREDIT_CASE','TIME_DECISION_DATE']]"
   ]
  },
  {
   "cell_type": "code",
   "execution_count": 341,
   "metadata": {},
   "outputs": [
    {
     "name": "stderr",
     "output_type": "stream",
     "text": [
      "C:\\Users\\aman.khatri91425\\AppData\\Local\\Continuum\\anaconda3\\lib\\site-packages\\ipykernel_launcher.py:1: SettingWithCopyWarning: \n",
      "A value is trying to be set on a copy of a slice from a DataFrame\n",
      "\n",
      "See the caveats in the documentation: http://pandas.pydata.org/pandas-docs/stable/indexing.html#indexing-view-versus-copy\n",
      "  \"\"\"Entry point for launching an IPython kernel.\n"
     ]
    }
   ],
   "source": [
    "df_combined_score.dropna(subset = ['RISK_SCORE'], inplace = True)"
   ]
  },
  {
   "cell_type": "code",
   "execution_count": 342,
   "metadata": {},
   "outputs": [
    {
     "name": "stderr",
     "output_type": "stream",
     "text": [
      "C:\\Users\\aman.khatri91425\\AppData\\Local\\Continuum\\anaconda3\\lib\\site-packages\\ipykernel_launcher.py:1: SettingWithCopyWarning: \n",
      "A value is trying to be set on a copy of a slice from a DataFrame.\n",
      "Try using .loc[row_indexer,col_indexer] = value instead\n",
      "\n",
      "See the caveats in the documentation: http://pandas.pydata.org/pandas-docs/stable/indexing.html#indexing-view-versus-copy\n",
      "  \"\"\"Entry point for launching an IPython kernel.\n",
      "C:\\Users\\aman.khatri91425\\AppData\\Local\\Continuum\\anaconda3\\lib\\site-packages\\ipykernel_launcher.py:2: SettingWithCopyWarning: \n",
      "A value is trying to be set on a copy of a slice from a DataFrame.\n",
      "Try using .loc[row_indexer,col_indexer] = value instead\n",
      "\n",
      "See the caveats in the documentation: http://pandas.pydata.org/pandas-docs/stable/indexing.html#indexing-view-versus-copy\n",
      "  \n",
      "C:\\Users\\aman.khatri91425\\AppData\\Local\\Continuum\\anaconda3\\lib\\site-packages\\ipykernel_launcher.py:3: SettingWithCopyWarning: \n",
      "A value is trying to be set on a copy of a slice from a DataFrame.\n",
      "Try using .loc[row_indexer,col_indexer] = value instead\n",
      "\n",
      "See the caveats in the documentation: http://pandas.pydata.org/pandas-docs/stable/indexing.html#indexing-view-versus-copy\n",
      "  This is separate from the ipykernel package so we can avoid doing imports until\n",
      "C:\\Users\\aman.khatri91425\\AppData\\Local\\Continuum\\anaconda3\\lib\\site-packages\\ipykernel_launcher.py:4: SettingWithCopyWarning: \n",
      "A value is trying to be set on a copy of a slice from a DataFrame.\n",
      "Try using .loc[row_indexer,col_indexer] = value instead\n",
      "\n",
      "See the caveats in the documentation: http://pandas.pydata.org/pandas-docs/stable/indexing.html#indexing-view-versus-copy\n",
      "  after removing the cwd from sys.path.\n",
      "C:\\Users\\aman.khatri91425\\AppData\\Local\\Continuum\\anaconda3\\lib\\site-packages\\ipykernel_launcher.py:5: SettingWithCopyWarning: \n",
      "A value is trying to be set on a copy of a slice from a DataFrame.\n",
      "Try using .loc[row_indexer,col_indexer] = value instead\n",
      "\n",
      "See the caveats in the documentation: http://pandas.pydata.org/pandas-docs/stable/indexing.html#indexing-view-versus-copy\n",
      "  \"\"\"\n",
      "C:\\Users\\aman.khatri91425\\AppData\\Local\\Continuum\\anaconda3\\lib\\site-packages\\ipykernel_launcher.py:6: SettingWithCopyWarning: \n",
      "A value is trying to be set on a copy of a slice from a DataFrame.\n",
      "Try using .loc[row_indexer,col_indexer] = value instead\n",
      "\n",
      "See the caveats in the documentation: http://pandas.pydata.org/pandas-docs/stable/indexing.html#indexing-view-versus-copy\n",
      "  \n"
     ]
    }
   ],
   "source": [
    "df_combined_score[\"LOGIT_RISK_SCORE\"] = [np.log(x/(1-x)) for x in df_combined_score[\"RISK_SCORE\"]]\n",
    "df_combined_score[\"LOGIT_F10_PRED_SCORE\"] = [np.log(x/(1-x)) for x in df_combined_score[\"F10_PRED_SCORE\"]]\n",
    "df_combined_score[\"LOGIT_F30_PRED_SCORE\"] = [np.log(x/(1-x)) for x in df_combined_score[\"F30_PRED_SCORE\"]]\n",
    "df_combined_score[\"LOGIT_FS30_PRED_SCORE\"] = [np.log(x/(1-x)) for x in df_combined_score[\"FS30_PRED_SCORE\"]]\n",
    "df_combined_score[\"LOGIT_FST30_PRED_SCORE\"] = [np.log(x/(1-x)) for x in df_combined_score[\"FST30_PRED_SCORE\"]]\n",
    "df_combined_score[\"LOGIT_FSTQ30_PRED_SCORE\"] = [np.log(x/(1-x)) for x in df_combined_score[\"FSTQ30_PRED_SCORE\"]]"
   ]
  },
  {
   "cell_type": "code",
   "execution_count": 343,
   "metadata": {},
   "outputs": [],
   "source": [
    "# pred_list = ['LOGIT_RISK_SCORE','LOGIT_F10_PRED_SCORE','LOGIT_F30_PRED_SCORE','LOGIT_FS30_PRED_SCORE',\n",
    "#              'LOGIT_FST30_PRED_SCORE','LOGIT_FSTQ30_PRED_SCORE']\n",
    "pred_list = ['LOGIT_F10_PRED_SCORE','LOGIT_F30_PRED_SCORE','LOGIT_FS30_PRED_SCORE',\n",
    "            'LOGIT_FST30_PRED_SCORE','LOGIT_FSTQ30_PRED_SCORE']"
   ]
  },
  {
   "cell_type": "code",
   "execution_count": 344,
   "metadata": {},
   "outputs": [
    {
     "name": "stderr",
     "output_type": "stream",
     "text": [
      "C:\\Users\\aman.khatri91425\\AppData\\Local\\Continuum\\anaconda3\\lib\\site-packages\\sklearn\\linear_model\\logistic.py:433: FutureWarning: Default solver will be changed to 'lbfgs' in 0.22. Specify a solver to silence this warning.\n",
      "  FutureWarning)\n"
     ]
    },
    {
     "data": {
      "text/plain": [
       "LogisticRegression(C=1.0, class_weight=None, dual=False, fit_intercept=True,\n",
       "          intercept_scaling=1, max_iter=100, multi_class='warn',\n",
       "          n_jobs=None, penalty='l2', random_state=None, solver='warn',\n",
       "          tol=0.0001, verbose=0, warm_start=False)"
      ]
     },
     "execution_count": 344,
     "metadata": {},
     "output_type": "execute_result"
    }
   ],
   "source": [
    "#Calculate Gini Lift Logistic Regression\n",
    "from sklearn.linear_model import LogisticRegression\n",
    "comb=LogisticRegression()\n",
    "comb.fit(df_combined_score[pred_list],df_combined_score[\"RISK_FSTQPD30\"])"
   ]
  },
  {
   "cell_type": "code",
   "execution_count": 345,
   "metadata": {},
   "outputs": [],
   "source": [
    "y_pred_comb=comb.predict_proba(df_combined_score[pred_list])[:,1]"
   ]
  },
  {
   "cell_type": "code",
   "execution_count": 346,
   "metadata": {},
   "outputs": [],
   "source": [
    "metric_auc_combined = metrics.roc_auc_score(df_combined_score[\"RISK_FSTQPD30\"], y_pred_comb)\n",
    "metric_auc_knn = metrics.roc_auc_score(df_combined_score[\"RISK_FSTQPD30\"], df_combined_score[\"FSTQ30_PRED_SCORE\"])\n",
    "metric_auc_hc = metrics.roc_auc_score(df_combined_score[\"RISK_FSTQPD30\"], df_combined_score[\"RISK_SCORE\"])\n",
    "\n",
    "\n",
    "gini_combined = 2 * metric_auc_combined - 1\n",
    "gini_knn = 2 * metric_auc_knn - 1\n",
    "gini_hc = 2 * metric_auc_hc - 1"
   ]
  },
  {
   "cell_type": "code",
   "execution_count": 347,
   "metadata": {},
   "outputs": [
    {
     "name": "stdout",
     "output_type": "stream",
     "text": [
      "gini_combined: 9.21%\n",
      "\n",
      "gini_knn: 9.08%\n",
      "\n",
      "gini_hc: 23.00%\n"
     ]
    }
   ],
   "source": [
    "print(\"gini_combined:\",'{:,.2%}'.format(gini_combined))\n",
    "print(\"\\ngini_knn:\",'{:,.2%}'.format(gini_knn))\n",
    "print(\"\\ngini_hc:\",'{:,.2%}'.format(gini_hc))"
   ]
  },
  {
   "cell_type": "code",
   "execution_count": 348,
   "metadata": {},
   "outputs": [
    {
     "name": "stdout",
     "output_type": "stream",
     "text": [
      "[[ 0.06848652  0.06309407 -0.01167015 -0.03306507  0.52242572]]\n",
      "[-2.60104712]\n"
     ]
    }
   ],
   "source": [
    "print(comb.coef_)\n",
    "print(comb.intercept_)"
   ]
  },
  {
   "cell_type": "code",
   "execution_count": 350,
   "metadata": {},
   "outputs": [
    {
     "data": {
      "text/plain": [
       "LOGIT_F10_PRED_SCORE       0.669609\n",
       "LOGIT_F30_PRED_SCORE       0.530641\n",
       "LOGIT_FS30_PRED_SCORE      0.626509\n",
       "LOGIT_FST30_PRED_SCORE     0.706093\n",
       "LOGIT_FSTQ30_PRED_SCORE    1.000000\n",
       "Name: LOGIT_FSTQ30_PRED_SCORE, dtype: float64"
      ]
     },
     "execution_count": 350,
     "metadata": {},
     "output_type": "execute_result"
    }
   ],
   "source": [
    "df_combined_score[pred_list].corr()[\"LOGIT_FSTQ30_PRED_SCORE\"]"
   ]
  },
  {
   "cell_type": "code",
   "execution_count": 353,
   "metadata": {},
   "outputs": [
    {
     "name": "stderr",
     "output_type": "stream",
     "text": [
      "C:\\Users\\aman.khatri91425\\AppData\\Local\\Continuum\\anaconda3\\lib\\site-packages\\ipykernel_launcher.py:2: SettingWithCopyWarning: \n",
      "A value is trying to be set on a copy of a slice from a DataFrame.\n",
      "Try using .loc[row_indexer,col_indexer] = value instead\n",
      "\n",
      "See the caveats in the documentation: http://pandas.pydata.org/pandas-docs/stable/indexing.html#indexing-view-versus-copy\n",
      "  \n"
     ]
    }
   ],
   "source": [
    "df_combined_score[\"MONTH_STR\"]= df_combined_score[\"TIME_DECISION_DATE\"].dt.strftime(\"%y-%m\") "
   ]
  },
  {
   "cell_type": "code",
   "execution_count": 387,
   "metadata": {},
   "outputs": [],
   "source": [
    "#Check Stability of Combined Model\n",
    "pred_list = ['LOGIT_RISK_SCORE','LOGIT_F10_PRED_SCORE','LOGIT_F30_PRED_SCORE','LOGIT_FS30_PRED_SCORE',\n",
    "              'LOGIT_FST30_PRED_SCORE','LOGIT_FSTQ30_PRED_SCORE']\n",
    "seed = 25522\n",
    "test_size = 0.3\n",
    "X_train, X_test, y_train, y_test = train_test_split(df_combined_score[pred_list],df_combined_score[\"RISK_FSTQPD30\"], test_size=test_size, random_state=seed)\n"
   ]
  },
  {
   "cell_type": "code",
   "execution_count": 388,
   "metadata": {},
   "outputs": [
    {
     "name": "stderr",
     "output_type": "stream",
     "text": [
      "C:\\Users\\aman.khatri91425\\AppData\\Local\\Continuum\\anaconda3\\lib\\site-packages\\sklearn\\linear_model\\logistic.py:433: FutureWarning: Default solver will be changed to 'lbfgs' in 0.22. Specify a solver to silence this warning.\n",
      "  FutureWarning)\n"
     ]
    }
   ],
   "source": [
    "from sklearn.linear_model import LogisticRegression\n",
    "comb=LogisticRegression()\n",
    "comb.fit(X_train[pred_list],y_train)\n",
    "y_pred_comb_train=comb.predict_proba(X_train[pred_list])[:,1]\n",
    "y_pred_comb_test=comb.predict_proba(X_test[pred_list])[:,1]\n"
   ]
  },
  {
   "cell_type": "code",
   "execution_count": 391,
   "metadata": {},
   "outputs": [
    {
     "name": "stdout",
     "output_type": "stream",
     "text": [
      "gini_combined_train: 24.19%\n",
      "\n",
      "gini_knn_train: 9.22%\n",
      "\n",
      "gini_hc_train: 22.94%\n",
      "\n",
      "gini_combined_test: 24.29%\n",
      "\n",
      "gini_knn_test: 8.76%\n",
      "\n",
      "gini_hc_test: 23.12%\n"
     ]
    }
   ],
   "source": [
    "metric_auc_combined_train = metrics.roc_auc_score(y_train, y_pred_comb_train)\n",
    "metric_auc_knn_train = metrics.roc_auc_score(y_train, X_train[\"LOGIT_FSTQ30_PRED_SCORE\"])\n",
    "metric_auc_hc_train = metrics.roc_auc_score(y_train, X_train[\"LOGIT_RISK_SCORE\"])\n",
    "\n",
    "metric_auc_combined_test = metrics.roc_auc_score(y_test, y_pred_comb_test)\n",
    "metric_auc_knn_test = metrics.roc_auc_score(y_test, X_test[\"LOGIT_FSTQ30_PRED_SCORE\"])\n",
    "metric_auc_hc_test = metrics.roc_auc_score(y_test, X_test[\"LOGIT_RISK_SCORE\"])\n",
    "\n",
    "\n",
    "\n",
    "gini_combined_train = 2 * metric_auc_combined_train - 1\n",
    "gini_knn_train = 2 * metric_auc_knn_train - 1\n",
    "gini_hc_train = 2 * metric_auc_hc_train- 1\n",
    "\n",
    "gini_combined_test = 2 * metric_auc_combined_test - 1\n",
    "gini_knn_test = 2 * metric_auc_knn_test - 1\n",
    "gini_hc_test = 2 * metric_auc_hc_test- 1\n",
    "\n",
    "print(\"gini_combined_train:\",'{:,.2%}'.format(gini_combined_train))\n",
    "print(\"\\ngini_knn_train:\",'{:,.2%}'.format(gini_knn_train))\n",
    "print(\"\\ngini_hc_train:\",'{:,.2%}'.format(gini_hc_train))\n",
    "\n",
    "print(\"\\ngini_combined_test:\",'{:,.2%}'.format(gini_combined_test))\n",
    "print(\"\\ngini_knn_test:\",'{:,.2%}'.format(gini_knn_test))\n",
    "print(\"\\ngini_hc_test:\",'{:,.2%}'.format(gini_hc_test))\n"
   ]
  },
  {
   "cell_type": "markdown",
   "metadata": {},
   "source": [
    "# MOM Gini of Risk Score"
   ]
  },
  {
   "cell_type": "code",
   "execution_count": 354,
   "metadata": {},
   "outputs": [
    {
     "data": {
      "text/html": [
       "<div>\n",
       "<style scoped>\n",
       "    .dataframe tbody tr th:only-of-type {\n",
       "        vertical-align: middle;\n",
       "    }\n",
       "\n",
       "    .dataframe tbody tr th {\n",
       "        vertical-align: top;\n",
       "    }\n",
       "\n",
       "    .dataframe thead th {\n",
       "        text-align: right;\n",
       "    }\n",
       "</style>\n",
       "<table border=\"1\" class=\"dataframe\">\n",
       "  <thead>\n",
       "    <tr style=\"text-align: right;\">\n",
       "      <th></th>\n",
       "      <th>Gini_F10</th>\n",
       "      <th>Gini_F30</th>\n",
       "      <th>Gini_FS30</th>\n",
       "      <th>Gini_FST30</th>\n",
       "      <th>Gini_FSTQ30</th>\n",
       "      <th>Gini_HC</th>\n",
       "    </tr>\n",
       "    <tr>\n",
       "      <th>Name</th>\n",
       "      <th></th>\n",
       "      <th></th>\n",
       "      <th></th>\n",
       "      <th></th>\n",
       "      <th></th>\n",
       "      <th></th>\n",
       "    </tr>\n",
       "  </thead>\n",
       "  <tbody>\n",
       "    <tr>\n",
       "      <th>19-06</th>\n",
       "      <td>0.071746</td>\n",
       "      <td>0.056158</td>\n",
       "      <td>0.065384</td>\n",
       "      <td>0.071019</td>\n",
       "      <td>0.095399</td>\n",
       "      <td>0.244382</td>\n",
       "    </tr>\n",
       "    <tr>\n",
       "      <th>19-07</th>\n",
       "      <td>0.064856</td>\n",
       "      <td>0.051779</td>\n",
       "      <td>0.057674</td>\n",
       "      <td>0.064178</td>\n",
       "      <td>0.086122</td>\n",
       "      <td>0.213149</td>\n",
       "    </tr>\n",
       "    <tr>\n",
       "      <th>19-08</th>\n",
       "      <td>0.072923</td>\n",
       "      <td>0.057765</td>\n",
       "      <td>0.062826</td>\n",
       "      <td>0.069528</td>\n",
       "      <td>0.090129</td>\n",
       "      <td>0.235431</td>\n",
       "    </tr>\n",
       "  </tbody>\n",
       "</table>\n",
       "</div>"
      ],
      "text/plain": [
       "       Gini_F10  Gini_F30  Gini_FS30  Gini_FST30  Gini_FSTQ30   Gini_HC\n",
       "Name                                                                   \n",
       "19-06  0.071746  0.056158   0.065384    0.071019     0.095399  0.244382\n",
       "19-07  0.064856  0.051779   0.057674    0.064178     0.086122  0.213149\n",
       "19-08  0.072923  0.057765   0.062826    0.069528     0.090129  0.235431"
      ]
     },
     "metadata": {},
     "output_type": "display_data"
    }
   ],
   "source": [
    "#MOM Gini\n",
    "#Month on Month Gini\n",
    "df1=df_combined_score\n",
    "RISK_SCORE = \"RISK_SCORE\"\n",
    "\n",
    "import sys\n",
    "sys.path.append(R'C:\\Users\\aman.khatri91425\\Desktop\\HomeCredit\\Bigdata\\Scoring Worlflow')\n",
    "from scoring.metrics import iv,gini,lift\n",
    "\n",
    "power_tab = []\n",
    "for j in df1[\"MONTH_STR\"].unique():\n",
    "    power_tab.append({'Name':j\n",
    "#                    ,'IV':iv(df1.loc[(df1['MONTH_STR']==j) & (df1['FOUND_FLAG']==1),\"RISK_FSTPD30\"], df1.loc[(df1['MONTH_STR']==j) & (df1['FOUND_FLAG']==1),\"YPRED\"])\n",
    "                    ,'Gini_HC':gini(df1.loc[(df1['MONTH_STR']==j),\"RISK_FSTQPD30\"], df1.loc[(df1['MONTH_STR']==j),RISK_SCORE])\n",
    "                    ,'Gini_F10':gini(df1.loc[(df1['MONTH_STR']==j),\"RISK_FSTQPD30\"], df1.loc[(df1['MONTH_STR']==j),\"F10_PRED_SCORE\"])        \n",
    "                    ,'Gini_F30':gini(df1.loc[(df1['MONTH_STR']==j),\"RISK_FSTQPD30\"], df1.loc[(df1['MONTH_STR']==j),\"F30_PRED_SCORE\"])        \n",
    "                    ,'Gini_FS30':gini(df1.loc[(df1['MONTH_STR']==j),\"RISK_FSTQPD30\"], df1.loc[(df1['MONTH_STR']==j),\"FS30_PRED_SCORE\"])        \n",
    "                    ,'Gini_FST30':gini(df1.loc[(df1['MONTH_STR']==j),\"RISK_FSTQPD30\"], df1.loc[(df1['MONTH_STR']==j),\"FST30_PRED_SCORE\"])        \n",
    "                    ,'Gini_FSTQ30':gini(df1.loc[(df1['MONTH_STR']==j),\"RISK_FSTQPD30\"], df1.loc[(df1['MONTH_STR']==j),\"FSTQ30_PRED_SCORE\"])                 \n",
    "                      #                    ,'Lift':lift(df1.loc[(df1['MONTH_STR']==j) & (df1['FOUND_FLAG']==1),\"RISK_FSTPD30\"], df1.loc[(df1['MONTH_STR']==j) & (df1['FOUND_FLAG']==1),\"YPRED\"])\n",
    "                         })\n",
    "    \n",
    "power_out = pd.DataFrame.from_records(power_tab)\n",
    "power_out = power_out.set_index('Name')\n",
    "power_out = power_out.sort_values('Name',ascending=True)\n",
    "\n",
    "pd.options.display.max_rows = 1000\n",
    "display(power_out)\n",
    "pd.options.display.max_rows = 15\n",
    "power_out.to_csv(r\"C:\\Users\\aman.khatri91425\\Desktop\\HomeCredit\\Bigdata\\Common Maps KNN\\mon_gini_short_targets.csv\")"
   ]
  },
  {
   "cell_type": "code",
   "execution_count": 445,
   "metadata": {},
   "outputs": [
    {
     "data": {
      "text/plain": [
       "0.2299559146174921"
      ]
     },
     "execution_count": 445,
     "metadata": {},
     "output_type": "execute_result"
    }
   ],
   "source": [
    "gini(df_combined_score[\"RISK_FSTQPD30\"],df_combined_score[\"RISK_SCORE\"])"
   ]
  },
  {
   "cell_type": "code",
   "execution_count": 461,
   "metadata": {},
   "outputs": [
    {
     "data": {
      "text/plain": [
       "0.1354710174679411"
      ]
     },
     "execution_count": 461,
     "metadata": {},
     "output_type": "execute_result"
    }
   ],
   "source": [
    "df_combined_score[\"RISK_SCORE\"].quantile(0.8)"
   ]
  },
  {
   "cell_type": "code",
   "execution_count": 464,
   "metadata": {},
   "outputs": [
    {
     "data": {
      "text/plain": [
       "0.22303642981519656"
      ]
     },
     "execution_count": 464,
     "metadata": {},
     "output_type": "execute_result"
    }
   ],
   "source": [
    "gini(df_combined_score[df_combined_score[\"RISK_SCORE\"] <= df_combined_score[\"RISK_SCORE\"].quantile(0.7)][\"RISK_FSTQPD30\"],df_combined_score[df_combined_score[\"RISK_SCORE\"] <= df_combined_score[\"RISK_SCORE\"].quantile(0.7)][\"RISK_SCORE\"])"
   ]
  },
  {
   "cell_type": "code",
   "execution_count": 465,
   "metadata": {},
   "outputs": [
    {
     "data": {
      "image/png": "[encoded data removed]",
      "text/plain": [
       "<Figure size 432x288 with 1 Axes>"
      ]
     },
     "metadata": {
      "needs_background": "light"
     },
     "output_type": "display_data"
    }
   ],
   "source": [
    "fpr, tpr, thresholds = metrics.roc_curve(df_combined_score[\"RISK_FSTQPD30\"], df_combined_score[\"RISK_SCORE\"])\n",
    "roc_auc = metrics.auc(fpr, tpr)\n",
    "plt.figure()\n",
    "\n",
    "lw = 1\n",
    "plt.plot(fpr, tpr, color='darkorange',\n",
    "         lw=lw, label='ROC curve (area = %0.2f)' % roc_auc)\n",
    "plt.plot([0, 1], [0, 1], color='navy', lw=lw, linestyle='--')\n",
    "plt.xlim([0.0, 1.0])\n",
    "plt.ylim([0.0, 1.05])\n",
    "plt.xlabel('False Positive Rate')\n",
    "plt.ylabel('True Positive Rate')\n",
    "plt.title('Receiver operating characteristic example')\n",
    "plt.legend(loc=\"lower right\")\n",
    "plt.show()"
   ]
  },
  {
   "cell_type": "code",
   "execution_count": 356,
   "metadata": {},
   "outputs": [
    {
     "data": {
      "text/html": [
       "<div>\n",
       "<style scoped>\n",
       "    .dataframe tbody tr th:only-of-type {\n",
       "        vertical-align: middle;\n",
       "    }\n",
       "\n",
       "    .dataframe tbody tr th {\n",
       "        vertical-align: top;\n",
       "    }\n",
       "\n",
       "    .dataframe thead th {\n",
       "        text-align: right;\n",
       "    }\n",
       "</style>\n",
       "<table border=\"1\" class=\"dataframe\">\n",
       "  <thead>\n",
       "    <tr style=\"text-align: right;\">\n",
       "      <th></th>\n",
       "      <th>Unnamed: 0</th>\n",
       "      <th>SKP_CREDIT_CASE</th>\n",
       "      <th>TIME_DECISION_DATE</th>\n",
       "      <th>CUS_LAT</th>\n",
       "      <th>CUS_LONG</th>\n",
       "      <th>RISK_FPD10</th>\n",
       "      <th>RISK_FPD30</th>\n",
       "      <th>RISK_FSPD30</th>\n",
       "      <th>RISK_FSTPD30</th>\n",
       "      <th>RISK_FSTQPD30</th>\n",
       "      <th>RISK_FSTQPD60</th>\n",
       "      <th>NTC_FLAG</th>\n",
       "      <th>RISK_SCORE</th>\n",
       "      <th>MONTH_STR</th>\n",
       "    </tr>\n",
       "  </thead>\n",
       "  <tbody>\n",
       "    <tr>\n",
       "      <th>0</th>\n",
       "      <td>0</td>\n",
       "      <td>273217442</td>\n",
       "      <td>2019-09-15</td>\n",
       "      <td>26.925771</td>\n",
       "      <td>75.823658</td>\n",
       "      <td>0.0</td>\n",
       "      <td>0.0</td>\n",
       "      <td>0.0</td>\n",
       "      <td>0.0</td>\n",
       "      <td>0.0</td>\n",
       "      <td>0.0</td>\n",
       "      <td>NTC</td>\n",
       "      <td>0.164707</td>\n",
       "      <td>2019-09</td>\n",
       "    </tr>\n",
       "    <tr>\n",
       "      <th>1</th>\n",
       "      <td>1</td>\n",
       "      <td>273217520</td>\n",
       "      <td>2019-09-15</td>\n",
       "      <td>28.704617</td>\n",
       "      <td>77.046645</td>\n",
       "      <td>0.0</td>\n",
       "      <td>0.0</td>\n",
       "      <td>0.0</td>\n",
       "      <td>0.0</td>\n",
       "      <td>0.0</td>\n",
       "      <td>0.0</td>\n",
       "      <td>NTC</td>\n",
       "      <td>0.111792</td>\n",
       "      <td>2019-09</td>\n",
       "    </tr>\n",
       "    <tr>\n",
       "      <th>2</th>\n",
       "      <td>2</td>\n",
       "      <td>273217523</td>\n",
       "      <td>2019-09-15</td>\n",
       "      <td>11.089342</td>\n",
       "      <td>77.336750</td>\n",
       "      <td>0.0</td>\n",
       "      <td>0.0</td>\n",
       "      <td>0.0</td>\n",
       "      <td>0.0</td>\n",
       "      <td>0.0</td>\n",
       "      <td>0.0</td>\n",
       "      <td>NTC</td>\n",
       "      <td>0.111993</td>\n",
       "      <td>2019-09</td>\n",
       "    </tr>\n",
       "    <tr>\n",
       "      <th>3</th>\n",
       "      <td>3</td>\n",
       "      <td>273217525</td>\n",
       "      <td>2019-09-15</td>\n",
       "      <td>19.179927</td>\n",
       "      <td>73.028721</td>\n",
       "      <td>0.0</td>\n",
       "      <td>0.0</td>\n",
       "      <td>0.0</td>\n",
       "      <td>0.0</td>\n",
       "      <td>0.0</td>\n",
       "      <td>0.0</td>\n",
       "      <td>Others</td>\n",
       "      <td>0.018660</td>\n",
       "      <td>2019-09</td>\n",
       "    </tr>\n",
       "    <tr>\n",
       "      <th>4</th>\n",
       "      <td>4</td>\n",
       "      <td>273217526</td>\n",
       "      <td>2019-09-15</td>\n",
       "      <td>12.917143</td>\n",
       "      <td>80.192349</td>\n",
       "      <td>0.0</td>\n",
       "      <td>0.0</td>\n",
       "      <td>0.0</td>\n",
       "      <td>0.0</td>\n",
       "      <td>0.0</td>\n",
       "      <td>0.0</td>\n",
       "      <td>Others</td>\n",
       "      <td>0.049166</td>\n",
       "      <td>2019-09</td>\n",
       "    </tr>\n",
       "  </tbody>\n",
       "</table>\n",
       "</div>"
      ],
      "text/plain": [
       "   Unnamed: 0  SKP_CREDIT_CASE TIME_DECISION_DATE    CUS_LAT   CUS_LONG  \\\n",
       "0           0        273217442         2019-09-15  26.925771  75.823658   \n",
       "1           1        273217520         2019-09-15  28.704617  77.046645   \n",
       "2           2        273217523         2019-09-15  11.089342  77.336750   \n",
       "3           3        273217525         2019-09-15  19.179927  73.028721   \n",
       "4           4        273217526         2019-09-15  12.917143  80.192349   \n",
       "\n",
       "   RISK_FPD10  RISK_FPD30  RISK_FSPD30  RISK_FSTPD30  RISK_FSTQPD30  \\\n",
       "0         0.0         0.0          0.0           0.0            0.0   \n",
       "1         0.0         0.0          0.0           0.0            0.0   \n",
       "2         0.0         0.0          0.0           0.0            0.0   \n",
       "3         0.0         0.0          0.0           0.0            0.0   \n",
       "4         0.0         0.0          0.0           0.0            0.0   \n",
       "\n",
       "   RISK_FSTQPD60 NTC_FLAG  RISK_SCORE MONTH_STR  \n",
       "0            0.0      NTC    0.164707   2019-09  \n",
       "1            0.0      NTC    0.111792   2019-09  \n",
       "2            0.0      NTC    0.111993   2019-09  \n",
       "3            0.0   Others    0.018660   2019-09  \n",
       "4            0.0   Others    0.049166   2019-09  "
      ]
     },
     "execution_count": 356,
     "metadata": {},
     "output_type": "execute_result"
    }
   ],
   "source": [
    "df.head()"
   ]
  },
  {
   "cell_type": "code",
   "execution_count": 375,
   "metadata": {},
   "outputs": [
    {
     "ename": "ValueError",
     "evalue": "continuous format is not supported",
     "output_type": "error",
     "traceback": [
      "\u001b[1;31m---------------------------------------------------------------------------\u001b[0m",
      "\u001b[1;31mValueError\u001b[0m                                Traceback (most recent call last)",
      "\u001b[1;32m<ipython-input-375-de12a052e54c>\u001b[0m in \u001b[0;36m<module>\u001b[1;34m\u001b[0m\n\u001b[0;32m     13\u001b[0m     power_tab.append({'Name':j\n\u001b[0;32m     14\u001b[0m \u001b[1;31m#                    ,'IV':iv(df1.loc[(df1['MONTH_STR']==j) & (df1['FOUND_FLAG']==1),\"RISK_FSTPD30\"], df1.loc[(df1['MONTH_STR']==j) & (df1['FOUND_FLAG']==1),\"YPRED\"])\u001b[0m\u001b[1;33m\u001b[0m\u001b[1;33m\u001b[0m\u001b[1;33m\u001b[0m\u001b[0m\n\u001b[1;32m---> 15\u001b[1;33m                     \u001b[1;33m,\u001b[0m\u001b[1;34m'Gini_F10'\u001b[0m\u001b[1;33m:\u001b[0m\u001b[0mgini\u001b[0m\u001b[1;33m(\u001b[0m\u001b[0mdf1\u001b[0m\u001b[1;33m.\u001b[0m\u001b[0mloc\u001b[0m\u001b[1;33m[\u001b[0m\u001b[1;33m(\u001b[0m\u001b[0mdf1\u001b[0m\u001b[1;33m[\u001b[0m\u001b[1;34m'MONTH_STR'\u001b[0m\u001b[1;33m]\u001b[0m\u001b[1;33m==\u001b[0m\u001b[0mj\u001b[0m\u001b[1;33m)\u001b[0m\u001b[1;33m,\u001b[0m\u001b[1;34m\"RISK_FPD10\"\u001b[0m\u001b[1;33m]\u001b[0m\u001b[1;33m,\u001b[0m \u001b[0mdf1\u001b[0m\u001b[1;33m.\u001b[0m\u001b[0mloc\u001b[0m\u001b[1;33m[\u001b[0m\u001b[1;33m(\u001b[0m\u001b[0mdf1\u001b[0m\u001b[1;33m[\u001b[0m\u001b[1;34m'MONTH_STR'\u001b[0m\u001b[1;33m]\u001b[0m\u001b[1;33m==\u001b[0m\u001b[0mj\u001b[0m\u001b[1;33m)\u001b[0m\u001b[1;33m,\u001b[0m\u001b[0mRISK_SCORE\u001b[0m\u001b[1;33m]\u001b[0m\u001b[1;33m)\u001b[0m\u001b[1;33m\u001b[0m\u001b[1;33m\u001b[0m\u001b[0m\n\u001b[0m\u001b[0;32m     16\u001b[0m                     \u001b[1;33m,\u001b[0m\u001b[1;34m'Gini_F30'\u001b[0m\u001b[1;33m:\u001b[0m\u001b[0mgini\u001b[0m\u001b[1;33m(\u001b[0m\u001b[0mdf1\u001b[0m\u001b[1;33m.\u001b[0m\u001b[0mloc\u001b[0m\u001b[1;33m[\u001b[0m\u001b[1;33m(\u001b[0m\u001b[0mdf1\u001b[0m\u001b[1;33m[\u001b[0m\u001b[1;34m'MONTH_STR'\u001b[0m\u001b[1;33m]\u001b[0m\u001b[1;33m==\u001b[0m\u001b[0mj\u001b[0m\u001b[1;33m)\u001b[0m\u001b[1;33m,\u001b[0m\u001b[1;34m\"RISK_FPD30\"\u001b[0m\u001b[1;33m]\u001b[0m\u001b[1;33m,\u001b[0m \u001b[0mdf1\u001b[0m\u001b[1;33m.\u001b[0m\u001b[0mloc\u001b[0m\u001b[1;33m[\u001b[0m\u001b[1;33m(\u001b[0m\u001b[0mdf1\u001b[0m\u001b[1;33m[\u001b[0m\u001b[1;34m'MONTH_STR'\u001b[0m\u001b[1;33m]\u001b[0m\u001b[1;33m==\u001b[0m\u001b[0mj\u001b[0m\u001b[1;33m)\u001b[0m\u001b[1;33m,\u001b[0m\u001b[0mRISK_SCORE\u001b[0m\u001b[1;33m]\u001b[0m\u001b[1;33m)\u001b[0m\u001b[1;33m\u001b[0m\u001b[1;33m\u001b[0m\u001b[0m\n\u001b[0;32m     17\u001b[0m                     \u001b[1;33m,\u001b[0m\u001b[1;34m'Gini_FS30'\u001b[0m\u001b[1;33m:\u001b[0m\u001b[0mgini\u001b[0m\u001b[1;33m(\u001b[0m\u001b[0mdf1\u001b[0m\u001b[1;33m.\u001b[0m\u001b[0mloc\u001b[0m\u001b[1;33m[\u001b[0m\u001b[1;33m(\u001b[0m\u001b[0mdf1\u001b[0m\u001b[1;33m[\u001b[0m\u001b[1;34m'MONTH_STR'\u001b[0m\u001b[1;33m]\u001b[0m\u001b[1;33m==\u001b[0m\u001b[0mj\u001b[0m\u001b[1;33m)\u001b[0m\u001b[1;33m,\u001b[0m\u001b[1;34m\"RISK_FSPD30\"\u001b[0m\u001b[1;33m]\u001b[0m\u001b[1;33m,\u001b[0m \u001b[0mdf1\u001b[0m\u001b[1;33m.\u001b[0m\u001b[0mloc\u001b[0m\u001b[1;33m[\u001b[0m\u001b[1;33m(\u001b[0m\u001b[0mdf1\u001b[0m\u001b[1;33m[\u001b[0m\u001b[1;34m'MONTH_STR'\u001b[0m\u001b[1;33m]\u001b[0m\u001b[1;33m==\u001b[0m\u001b[0mj\u001b[0m\u001b[1;33m)\u001b[0m\u001b[1;33m,\u001b[0m\u001b[0mRISK_SCORE\u001b[0m\u001b[1;33m]\u001b[0m\u001b[1;33m)\u001b[0m\u001b[1;33m\u001b[0m\u001b[1;33m\u001b[0m\u001b[0m\n",
      "\u001b[1;32m~\\Desktop\\HomeCredit\\Bigdata\\Scoring Worlflow\\scoring\\metrics.py\u001b[0m in \u001b[0;36mgini\u001b[1;34m(y_true, y_pred, sample_weight)\u001b[0m\n\u001b[0;32m     52\u001b[0m \u001b[1;33m\u001b[0m\u001b[0m\n\u001b[0;32m     53\u001b[0m     \"\"\"\n\u001b[1;32m---> 54\u001b[1;33m     \u001b[1;32mreturn\u001b[0m \u001b[1;36m2\u001b[0m\u001b[1;33m*\u001b[0m\u001b[0mroc_auc_score\u001b[0m\u001b[1;33m(\u001b[0m\u001b[0my_true\u001b[0m\u001b[1;33m,\u001b[0m \u001b[0my_pred\u001b[0m\u001b[1;33m,\u001b[0m \u001b[0msample_weight\u001b[0m\u001b[1;33m=\u001b[0m\u001b[0msample_weight\u001b[0m\u001b[1;33m)\u001b[0m\u001b[1;33m-\u001b[0m\u001b[1;36m1\u001b[0m\u001b[1;33m\u001b[0m\u001b[1;33m\u001b[0m\u001b[0m\n\u001b[0m\u001b[0;32m     55\u001b[0m \u001b[1;33m\u001b[0m\u001b[0m\n\u001b[0;32m     56\u001b[0m \u001b[1;33m\u001b[0m\u001b[0m\n",
      "\u001b[1;32m~\\AppData\\Local\\Continuum\\anaconda3\\lib\\site-packages\\sklearn\\metrics\\ranking.py\u001b[0m in \u001b[0;36mroc_auc_score\u001b[1;34m(y_true, y_score, average, sample_weight, max_fpr)\u001b[0m\n\u001b[0;32m    354\u001b[0m     return _average_binary_score(\n\u001b[0;32m    355\u001b[0m         \u001b[0m_binary_roc_auc_score\u001b[0m\u001b[1;33m,\u001b[0m \u001b[0my_true\u001b[0m\u001b[1;33m,\u001b[0m \u001b[0my_score\u001b[0m\u001b[1;33m,\u001b[0m \u001b[0maverage\u001b[0m\u001b[1;33m,\u001b[0m\u001b[1;33m\u001b[0m\u001b[1;33m\u001b[0m\u001b[0m\n\u001b[1;32m--> 356\u001b[1;33m         sample_weight=sample_weight)\n\u001b[0m\u001b[0;32m    357\u001b[0m \u001b[1;33m\u001b[0m\u001b[0m\n\u001b[0;32m    358\u001b[0m \u001b[1;33m\u001b[0m\u001b[0m\n",
      "\u001b[1;32m~\\AppData\\Local\\Continuum\\anaconda3\\lib\\site-packages\\sklearn\\metrics\\base.py\u001b[0m in \u001b[0;36m_average_binary_score\u001b[1;34m(binary_metric, y_true, y_score, average, sample_weight)\u001b[0m\n\u001b[0;32m     72\u001b[0m     \u001b[0my_type\u001b[0m \u001b[1;33m=\u001b[0m \u001b[0mtype_of_target\u001b[0m\u001b[1;33m(\u001b[0m\u001b[0my_true\u001b[0m\u001b[1;33m)\u001b[0m\u001b[1;33m\u001b[0m\u001b[1;33m\u001b[0m\u001b[0m\n\u001b[0;32m     73\u001b[0m     \u001b[1;32mif\u001b[0m \u001b[0my_type\u001b[0m \u001b[1;32mnot\u001b[0m \u001b[1;32min\u001b[0m \u001b[1;33m(\u001b[0m\u001b[1;34m\"binary\"\u001b[0m\u001b[1;33m,\u001b[0m \u001b[1;34m\"multilabel-indicator\"\u001b[0m\u001b[1;33m)\u001b[0m\u001b[1;33m:\u001b[0m\u001b[1;33m\u001b[0m\u001b[1;33m\u001b[0m\u001b[0m\n\u001b[1;32m---> 74\u001b[1;33m         \u001b[1;32mraise\u001b[0m \u001b[0mValueError\u001b[0m\u001b[1;33m(\u001b[0m\u001b[1;34m\"{0} format is not supported\"\u001b[0m\u001b[1;33m.\u001b[0m\u001b[0mformat\u001b[0m\u001b[1;33m(\u001b[0m\u001b[0my_type\u001b[0m\u001b[1;33m)\u001b[0m\u001b[1;33m)\u001b[0m\u001b[1;33m\u001b[0m\u001b[1;33m\u001b[0m\u001b[0m\n\u001b[0m\u001b[0;32m     75\u001b[0m \u001b[1;33m\u001b[0m\u001b[0m\n\u001b[0;32m     76\u001b[0m     \u001b[1;32mif\u001b[0m \u001b[0my_type\u001b[0m \u001b[1;33m==\u001b[0m \u001b[1;34m\"binary\"\u001b[0m\u001b[1;33m:\u001b[0m\u001b[1;33m\u001b[0m\u001b[1;33m\u001b[0m\u001b[0m\n",
      "\u001b[1;31mValueError\u001b[0m: continuous format is not supported"
     ]
    }
   ],
   "source": [
    "#MOM Gini\n",
    "#Month on Month Gini\n",
    "df1=df.dropna(subset = [\"RISK_SCORE\"])[[\"RISK_SCORE\",\"RISK_FPD10\",\"RISK_FPD30\",\n",
    "                                       \"RISK_FSPD30\",\"RISK_FSTPD30\",\"RISK_FSTQPD30\",\"RISK_FSTQPD60\",\"MONTH_STR\"]]\n",
    "RISK_SCORE = \"RISK_SCORE\"\n",
    "\n",
    "import sys\n",
    "sys.path.append(R'C:\\Users\\aman.khatri91425\\Desktop\\HomeCredit\\Bigdata\\Scoring Worlflow')\n",
    "from scoring.metrics import iv,gini,lift\n",
    "\n",
    "power_tab = []\n",
    "for j in df1[\"MONTH_STR\"].unique():\n",
    "    power_tab.append({'Name':j\n",
    "#                    ,'IV':iv(df1.loc[(df1['MONTH_STR']==j) & (df1['FOUND_FLAG']==1),\"RISK_FSTPD30\"], df1.loc[(df1['MONTH_STR']==j) & (df1['FOUND_FLAG']==1),\"YPRED\"])\n",
    "                    ,'Gini_F10':gini(df1.loc[(df1['MONTH_STR']==j),\"RISK_FPD10\"], df1.loc[(df1['MONTH_STR']==j),RISK_SCORE])        \n",
    "                    ,'Gini_F30':gini(df1.loc[(df1['MONTH_STR']==j),\"RISK_FPD30\"], df1.loc[(df1['MONTH_STR']==j),RISK_SCORE])        \n",
    "                    ,'Gini_FS30':gini(df1.loc[(df1['MONTH_STR']==j),\"RISK_FSPD30\"], df1.loc[(df1['MONTH_STR']==j),RISK_SCORE])        \n",
    "                    ,'Gini_FST30':gini(df1.loc[(df1['MONTH_STR']==j),\"RISK_FSTPD30\"], df1.loc[(df1['MONTH_STR']==j),RISK_SCORE])        \n",
    "                    ,'Gini_FSTQ30':gini(df1.loc[(df1['MONTH_STR']==j),\"RISK_FSTQPD30\"], df1.loc[(df1['MONTH_STR']==j),RISK_SCORE])        \n",
    "                    ,'Gini_FSTQ60':gini(df1.loc[(df1['MONTH_STR']==j),\"RISK_FSTQPD60\"], df1.loc[(df1['MONTH_STR']==j),RISK_SCORE])        \n",
    "                     #                    ,'Lift':lift(df1.loc[(df1['MONTH_STR']==j) & (df1['FOUND_FLAG']==1),\"RISK_FSTPD30\"], df1.loc[(df1['MONTH_STR']==j) & (df1['FOUND_FLAG']==1),\"YPRED\"])\n",
    "                         })\n",
    "    \n",
    "power_out = pd.DataFrame.from_records(power_tab)\n",
    "power_out = power_out.set_index('Name')\n",
    "power_out = power_out.sort_values('Name',ascending=True)\n",
    "\n",
    "print(\"HC SCORE on different delinquencies:\")\n",
    "pd.options.display.max_rows = 1000\n",
    "display(power_out)\n",
    "pd.options.display.max_rows = 15\n",
    "power_out.to_csv(r\"C:\\Users\\aman.khatri91425\\Desktop\\HomeCredit\\Bigdata\\Common Maps KNN\\mon_gini_short_targets_hc_performance.csv\")"
   ]
  },
  {
   "cell_type": "code",
   "execution_count": 384,
   "metadata": {},
   "outputs": [
    {
     "name": "stdout",
     "output_type": "stream",
     "text": [
      "HC SCORE on different delinquencies:\n"
     ]
    },
    {
     "data": {
      "text/html": [
       "<div>\n",
       "<style scoped>\n",
       "    .dataframe tbody tr th:only-of-type {\n",
       "        vertical-align: middle;\n",
       "    }\n",
       "\n",
       "    .dataframe tbody tr th {\n",
       "        vertical-align: top;\n",
       "    }\n",
       "\n",
       "    .dataframe thead th {\n",
       "        text-align: right;\n",
       "    }\n",
       "</style>\n",
       "<table border=\"1\" class=\"dataframe\">\n",
       "  <thead>\n",
       "    <tr style=\"text-align: right;\">\n",
       "      <th></th>\n",
       "      <th>Gini_F10</th>\n",
       "      <th>Gini_F30</th>\n",
       "      <th>Gini_FS30</th>\n",
       "      <th>Gini_FST30</th>\n",
       "      <th>Gini_FSTQ30</th>\n",
       "      <th>Gini_FSTQ60</th>\n",
       "    </tr>\n",
       "    <tr>\n",
       "      <th>Name</th>\n",
       "      <th></th>\n",
       "      <th></th>\n",
       "      <th></th>\n",
       "      <th></th>\n",
       "      <th></th>\n",
       "      <th></th>\n",
       "    </tr>\n",
       "  </thead>\n",
       "  <tbody>\n",
       "    <tr>\n",
       "      <th>2018-12</th>\n",
       "      <td>0.256943</td>\n",
       "      <td>0.317879</td>\n",
       "      <td>0.306821</td>\n",
       "      <td>0.293691</td>\n",
       "      <td>0.279463</td>\n",
       "      <td>0.306009</td>\n",
       "    </tr>\n",
       "    <tr>\n",
       "      <th>2019-01</th>\n",
       "      <td>0.232200</td>\n",
       "      <td>0.310658</td>\n",
       "      <td>0.291864</td>\n",
       "      <td>0.278712</td>\n",
       "      <td>0.263591</td>\n",
       "      <td>0.292517</td>\n",
       "    </tr>\n",
       "    <tr>\n",
       "      <th>2019-02</th>\n",
       "      <td>0.230808</td>\n",
       "      <td>0.317527</td>\n",
       "      <td>0.292573</td>\n",
       "      <td>0.272711</td>\n",
       "      <td>0.262214</td>\n",
       "      <td>0.286908</td>\n",
       "    </tr>\n",
       "    <tr>\n",
       "      <th>2019-03</th>\n",
       "      <td>0.210412</td>\n",
       "      <td>0.293918</td>\n",
       "      <td>0.265104</td>\n",
       "      <td>0.254410</td>\n",
       "      <td>0.250888</td>\n",
       "      <td>0.268075</td>\n",
       "    </tr>\n",
       "    <tr>\n",
       "      <th>2019-04</th>\n",
       "      <td>0.213090</td>\n",
       "      <td>0.277023</td>\n",
       "      <td>0.273908</td>\n",
       "      <td>0.265336</td>\n",
       "      <td>0.262403</td>\n",
       "      <td>0.283961</td>\n",
       "    </tr>\n",
       "    <tr>\n",
       "      <th>2019-05</th>\n",
       "      <td>0.216727</td>\n",
       "      <td>0.275410</td>\n",
       "      <td>0.275229</td>\n",
       "      <td>0.272569</td>\n",
       "      <td>0.269246</td>\n",
       "      <td>0.284790</td>\n",
       "    </tr>\n",
       "    <tr>\n",
       "      <th>2019-06</th>\n",
       "      <td>0.201487</td>\n",
       "      <td>0.261063</td>\n",
       "      <td>0.254791</td>\n",
       "      <td>0.250288</td>\n",
       "      <td>0.244382</td>\n",
       "      <td>0.263895</td>\n",
       "    </tr>\n",
       "    <tr>\n",
       "      <th>2019-07</th>\n",
       "      <td>0.147145</td>\n",
       "      <td>0.193038</td>\n",
       "      <td>0.195669</td>\n",
       "      <td>0.206151</td>\n",
       "      <td>0.213149</td>\n",
       "      <td>0.226075</td>\n",
       "    </tr>\n",
       "    <tr>\n",
       "      <th>2019-08</th>\n",
       "      <td>0.182344</td>\n",
       "      <td>0.247015</td>\n",
       "      <td>0.246054</td>\n",
       "      <td>0.232595</td>\n",
       "      <td>0.235431</td>\n",
       "      <td>0.251215</td>\n",
       "    </tr>\n",
       "    <tr>\n",
       "      <th>2019-09</th>\n",
       "      <td>0.181855</td>\n",
       "      <td>0.259666</td>\n",
       "      <td>0.254413</td>\n",
       "      <td>0.238413</td>\n",
       "      <td>0.244015</td>\n",
       "      <td>0.803228</td>\n",
       "    </tr>\n",
       "  </tbody>\n",
       "</table>\n",
       "</div>"
      ],
      "text/plain": [
       "         Gini_F10  Gini_F30  Gini_FS30  Gini_FST30  Gini_FSTQ30  Gini_FSTQ60\n",
       "Name                                                                        \n",
       "2018-12  0.256943  0.317879   0.306821    0.293691     0.279463     0.306009\n",
       "2019-01  0.232200  0.310658   0.291864    0.278712     0.263591     0.292517\n",
       "2019-02  0.230808  0.317527   0.292573    0.272711     0.262214     0.286908\n",
       "2019-03  0.210412  0.293918   0.265104    0.254410     0.250888     0.268075\n",
       "2019-04  0.213090  0.277023   0.273908    0.265336     0.262403     0.283961\n",
       "2019-05  0.216727  0.275410   0.275229    0.272569     0.269246     0.284790\n",
       "2019-06  0.201487  0.261063   0.254791    0.250288     0.244382     0.263895\n",
       "2019-07  0.147145  0.193038   0.195669    0.206151     0.213149     0.226075\n",
       "2019-08  0.182344  0.247015   0.246054    0.232595     0.235431     0.251215\n",
       "2019-09  0.181855  0.259666   0.254413    0.238413     0.244015     0.803228"
      ]
     },
     "metadata": {},
     "output_type": "display_data"
    }
   ],
   "source": [
    "power_out = pd.DataFrame.from_records(power_tab)\n",
    "power_out = power_out.set_index('Name')\n",
    "power_out = power_out.sort_values('Name',ascending=True)\n",
    "\n",
    "print(\"HC SCORE on different delinquencies:\")\n",
    "pd.options.display.max_rows = 1000\n",
    "display(power_out)\n",
    "pd.options.display.max_rows = 15\n",
    "power_out.to_csv(r\"C:\\Users\\aman.khatri91425\\Desktop\\HomeCredit\\Bigdata\\Common Maps KNN\\mon_gini_short_targets_hc_performance.csv\")"
   ]
  },
  {
   "cell_type": "code",
   "execution_count": null,
   "metadata": {},
   "outputs": [],
   "source": []
  },
  {
   "cell_type": "code",
   "execution_count": null,
   "metadata": {},
   "outputs": [],
   "source": []
  },
  {
   "cell_type": "markdown",
   "metadata": {},
   "source": [
    "# Check Impact of Training Data Duration"
   ]
  },
  {
   "cell_type": "code",
   "execution_count": 412,
   "metadata": {},
   "outputs": [
    {
     "name": "stdout",
     "output_type": "stream",
     "text": [
      "\n",
      "\n",
      " X = 1\n",
      "(4699041, 14)\n",
      "(1078674, 19)\n",
      "Random under-sampling:\n",
      "1.0    339473\n",
      "0.0    339473\n",
      "Name: RISK_FSTQPD30, dtype: int64\n",
      "Randomized search..\n",
      "Randomized search time: 1092.6841881275177\n",
      "AxesSubplot(0.125,0.125;0.775x0.755)\n",
      "Best score: 0.5425710426218738\n",
      "n_neighbors: 336\n",
      "GINI TRAIN: 15.43%\n",
      "GINI TEST: 9.02%\n",
      "GINI CV: 10.27%\n",
      "\n",
      "\n",
      " X = 2\n",
      "(4261124, 14)\n",
      "(1078674, 19)\n",
      "Random under-sampling:\n",
      "1.0    303168\n",
      "0.0    303168\n",
      "Name: RISK_FSTQPD30, dtype: int64\n",
      "Randomized search..\n",
      "Randomized search time: 1067.301118850708\n",
      "AxesSubplot(0.125,0.125;0.775x0.755)\n",
      "Best score: 0.5486814660416683\n",
      "n_neighbors: 336\n",
      "GINI TRAIN: 15.66%\n",
      "GINI TEST: 8.98%\n",
      "GINI CV: 10.48%\n",
      "\n",
      "\n",
      " X = 3\n",
      "(3889510, 14)\n",
      "(1078674, 19)\n",
      "Random under-sampling:\n",
      "1.0    271905\n",
      "0.0    271905\n",
      "Name: RISK_FSTQPD30, dtype: int64\n",
      "Randomized search..\n",
      "Randomized search time: 936.3307931423187\n",
      "AxesSubplot(0.125,0.125;0.775x0.755)\n",
      "Best score: 0.5527668901473513\n",
      "n_neighbors: 321\n",
      "GINI TRAIN: 15.96%\n",
      "GINI TEST: 8.96%\n",
      "GINI CV: 11.36%\n",
      "\n",
      "\n",
      " X = 4\n",
      "(3493389, 14)\n",
      "(1078674, 19)\n",
      "Random under-sampling:\n",
      "1.0    239712\n",
      "0.0    239712\n",
      "Name: RISK_FSTQPD30, dtype: int64\n",
      "Randomized search..\n",
      "Randomized search time: 728.3252983093262\n",
      "AxesSubplot(0.125,0.125;0.775x0.755)\n",
      "Best score: 0.5554181986662596\n",
      "n_neighbors: 336\n",
      "GINI TRAIN: 16.15%\n",
      "GINI TEST: 8.88%\n",
      "GINI CV: 11.98%\n",
      "\n",
      "\n",
      " X = 5\n",
      "(3084899, 14)\n",
      "(1078674, 19)\n",
      "Random under-sampling:\n",
      "1.0    207022\n",
      "0.0    207022\n",
      "Name: RISK_FSTQPD30, dtype: int64\n",
      "Randomized search..\n",
      "Randomized search time: 593.6162486076355\n",
      "AxesSubplot(0.125,0.125;0.775x0.755)\n",
      "Best score: 0.5548612793520963\n",
      "n_neighbors: 321\n",
      "GINI TRAIN: 16.04%\n",
      "GINI TEST: 8.88%\n",
      "GINI CV: 11.77%\n",
      "\n",
      "\n",
      " X = 6\n",
      "(2687062, 14)\n",
      "(1078674, 19)\n",
      "Random under-sampling:\n",
      "1.0    177533\n",
      "0.0    177533\n",
      "Name: RISK_FSTQPD30, dtype: int64\n",
      "Randomized search..\n",
      "Randomized search time: 478.9171233177185\n",
      "AxesSubplot(0.125,0.125;0.775x0.755)\n",
      "Best score: 0.5511698302274853\n",
      "n_neighbors: 291\n",
      "GINI TRAIN: 15.95%\n",
      "GINI TEST: 9.12%\n",
      "GINI CV: 11.03%\n",
      "\n",
      "\n",
      " X = 7\n",
      "(2317134, 14)\n",
      "(1078674, 19)\n",
      "Random under-sampling:\n",
      "1.0    153417\n",
      "0.0    153417\n",
      "Name: RISK_FSTQPD30, dtype: int64\n",
      "Randomized search..\n",
      "Randomized search time: 401.1196746826172\n",
      "AxesSubplot(0.125,0.125;0.775x0.755)\n",
      "Best score: 0.5486141963919007\n",
      "n_neighbors: 291\n",
      "GINI TRAIN: 15.75%\n",
      "GINI TEST: 8.92%\n",
      "GINI CV: 10.84%\n",
      "\n",
      "\n",
      " X = 8\n",
      "(1964584, 14)\n",
      "(1078674, 19)\n",
      "Random under-sampling:\n",
      "1.0    132947\n",
      "0.0    132947\n",
      "Name: RISK_FSTQPD30, dtype: int64\n",
      "Randomized search..\n",
      "Randomized search time: 338.8097996711731\n",
      "AxesSubplot(0.125,0.125;0.775x0.755)\n",
      "Best score: 0.5492434830307945\n",
      "n_neighbors: 206\n",
      "GINI TRAIN: 16.62%\n",
      "GINI TEST: 9.02%\n",
      "GINI CV: 10.53%\n"
     ]
    },
    {
     "data": {
      "image/png": "[encoded data removed]",
      "text/plain": [
       "<Figure size 432x288 with 1 Axes>"
      ]
     },
     "metadata": {
      "needs_background": "light"
     },
     "output_type": "display_data"
    },
    {
     "data": {
      "image/png": "[encoded data removed]",
      "text/plain": [
       "<Figure size 432x288 with 1 Axes>"
      ]
     },
     "metadata": {
      "needs_background": "light"
     },
     "output_type": "display_data"
    },
    {
     "data": {
      "image/png": "[encoded data removed]",
      "text/plain": [
       "<Figure size 432x288 with 1 Axes>"
      ]
     },
     "metadata": {
      "needs_background": "light"
     },
     "output_type": "display_data"
    },
    {
     "data": {
      "image/png": "[encoded data removed]",
      "text/plain": [
       "<Figure size 432x288 with 1 Axes>"
      ]
     },
     "metadata": {
      "needs_background": "light"
     },
     "output_type": "display_data"
    },
    {
     "data": {
      "image/png": "[encoded data removed]",
      "text/plain": [
       "<Figure size 432x288 with 1 Axes>"
      ]
     },
     "metadata": {
      "needs_background": "light"
     },
     "output_type": "display_data"
    },
    {
     "data": {
      "image/png": "[encoded data removed]",
      "text/plain": [
       "<Figure size 432x288 with 1 Axes>"
      ]
     },
     "metadata": {
      "needs_background": "light"
     },
     "output_type": "display_data"
    },
    {
     "data": {
      "image/png": "[encoded data removed]",
      "text/plain": [
       "<Figure size 432x288 with 1 Axes>"
      ]
     },
     "metadata": {
      "needs_background": "light"
     },
     "output_type": "display_data"
    },
    {
     "data": {
      "image/png": "[encoded data removed]",
      "text/plain": [
       "<Figure size 432x288 with 1 Axes>"
      ]
     },
     "metadata": {
      "needs_background": "light"
     },
     "output_type": "display_data"
    }
   ],
   "source": [
    "for x in np.arange(1,9,1):\n",
    "    # Split Train and Test Data Set\n",
    "    df_train = df[(df[\"TIME_DECISION_DATE\"]>=datetime.datetime(2018, x, 1)) & \n",
    "                  (df[\"TIME_DECISION_DATE\"]<=datetime.datetime(2019, 1, 1))]\n",
    "    # df_test = df[(df[\"TIME_DECISION_DATE\"]>=datetime.datetime(2019, 6, 1)) & \n",
    "    #               (df[\"TIME_DECISION_DATE\"]<=datetime.datetime(2019, 8, 31))]\n",
    "    print('\\n\\n X =',x)\n",
    "    print(df_train.shape)\n",
    "    print(df_test.shape)\n",
    "    df_train.RISK_FSTQPD30.value_counts()\n",
    "\n",
    "    target = \"RISK_FSTQPD30\"\n",
    "\n",
    "    #Downsampling Code \n",
    "    count_class_0, count_class_1 = df_train.RISK_FSTQPD30.value_counts()\n",
    "    df_class_0 = df_train[df_train[target] == 0]\n",
    "    df_class_1 = df_train[df_train[target] == 1]\n",
    "    df_class_0_under = df_class_0.sample(count_class_1, random_state = 2)\n",
    "    df_train_under = pd.concat([df_class_0_under, df_class_1], axis=0)\n",
    "    print('Random under-sampling:')\n",
    "    print(df_train_under[target].value_counts())\n",
    "    #df_train_under[target].value_counts().plot(kind='bar', title='Count (target)');\n",
    "\n",
    "    X_train = df_train_under[[\"CUS_LAT\",\"CUS_LONG\",\"RISK_SCORE\",\"TIME_DECISION_DATE\"]]\n",
    "    X_test = df_test[[\"CUS_LAT\",\"CUS_LONG\",\"RISK_SCORE\",\"TIME_DECISION_DATE\"]]\n",
    "    y_train = df_train_under[target]\n",
    "    y_test =  df_test[target]\n",
    "\n",
    "    param_grid = {'n_neighbors': np.arange(1,350,5)\n",
    "                }\n",
    "    seed = 25\n",
    "\n",
    "    from sklearn.neighbors import KNeighborsClassifier\n",
    "    # Create KNN classifier\n",
    "    knn = KNeighborsClassifier(weights = 'uniform')\n",
    "    kfolds = StratifiedKFold(3, random_state=1)\n",
    "\n",
    "    clf = RandomizedSearchCV(estimator=knn, param_distributions=param_grid, scoring=['roc_auc'], n_iter=10,\n",
    "                             random_state=seed, cv=kfolds.split(X_train[[\"CUS_LAT\",\"CUS_LONG\"]], y_train), refit='roc_auc',error_score=0, return_train_score =True)\n",
    "\n",
    "\n",
    "    print(\"Randomized search..\")\n",
    "\n",
    "    search_time_start = time.time()\n",
    "    clf.fit(X_train[[\"CUS_LAT\",\"CUS_LONG\"]], np.ravel(y_train))\n",
    "    print(\"Randomized search time:\", time.time() - search_time_start)\n",
    "\n",
    "    params = clf.best_params_   #get best parameters\n",
    "    dic=clf.cv_results_    #provides scoring results for each iteration, 50 in this case, mean values can be used \n",
    "    tmp= pd.DataFrame(dic['params'])\n",
    "    tmp1= pd.DataFrame(dic)[[\"param_n_neighbors\",\"mean_test_roc_auc\",\"mean_train_roc_auc\"]].sort_values(by = 'param_n_neighbors')\n",
    "    print(tmp1[[\"param_n_neighbors\",\"mean_test_roc_auc\"]].plot(x=\"param_n_neighbors\"))\n",
    "\n",
    "    print(\"Best score: {}\".format(clf.best_score_))    #best auc score as we took that for refit \n",
    "    for param_name in sorted(params.keys()):\n",
    "        print('%s: %r' % (param_name, params[param_name]))\n",
    "\n",
    "    #update estimated hyperparameter values to new model\n",
    "    params = {'n_neighbors': params['n_neighbors']}\n",
    "    kfolds = StratifiedKFold(4, random_state=1)\n",
    "    knn = KNeighborsClassifier(**params)\n",
    "    # cross validation gini\n",
    "    auc_cv = cross_val_score(knn, X_train[[\"CUS_LAT\",\"CUS_LONG\"]], y_train, scoring='roc_auc', cv=kfolds.split(X_train[[\"CUS_LAT\",\"CUS_LONG\"]], y_train),\n",
    "                             n_jobs=-1)\n",
    "    gini_cv = (2 * np.array(auc_cv) - 1).mean()\n",
    "\n",
    "\n",
    "    bst = knn.fit(X_train[[\"CUS_LAT\",\"CUS_LONG\"]], np.ravel(y_train))\n",
    "\n",
    "    ypred_train = bst.predict_proba(X_train[[\"CUS_LAT\",\"CUS_LONG\"]])[:, 1]\n",
    "    ypred_test = bst.predict_proba(X_test[[\"CUS_LAT\",\"CUS_LONG\"]])[:, 1]\n",
    "\n",
    "    metric_auc_train = metrics.roc_auc_score(y_train, ypred_train)\n",
    "    metric_auc_test = metrics.roc_auc_score(y_test, ypred_test)\n",
    "\n",
    "    gini_train = 2 * metric_auc_train - 1\n",
    "    gini_test = 2 * metric_auc_test - 1\n",
    "\n",
    "\n",
    "    print(\"GINI TRAIN:\",'{:,.2%}'.format(gini_train))\n",
    "    print(\"GINI TEST:\",'{:,.2%}'.format(gini_test))\n",
    "    print(\"GINI CV:\",'{:,.2%}'.format(gini_cv))"
   ]
  },
  {
   "cell_type": "code",
   "execution_count": null,
   "metadata": {},
   "outputs": [],
   "source": []
  }
 ],
 "metadata": {
  "kernelspec": {
   "display_name": "Python 3",
   "language": "python",
   "name": "python3"
  },
  "language_info": {
   "codemirror_mode": {
    "name": "ipython",
    "version": 3
   },
   "file_extension": ".py",
   "mimetype": "text/x-python",
   "name": "python",
   "nbconvert_exporter": "python",
   "pygments_lexer": "ipython3",
   "version": "3.7.3"
  }
 },
 "nbformat": 4,
 "nbformat_minor": 2
}
