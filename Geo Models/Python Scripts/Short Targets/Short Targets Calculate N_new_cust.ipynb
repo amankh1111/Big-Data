{
 "cells": [
  {
   "cell_type": "code",
   "execution_count": 1,
   "metadata": {},
   "outputs": [],
   "source": [
    "import os\n",
    "import cx_Oracle\n",
    "import pandas as pd\n",
    "import numpy as np\n",
    "import pickle\n",
    "from datetime import date,datetime\n",
    "from sklearn import metrics\n",
    "from sklearn.model_selection import train_test_split, StratifiedKFold, RandomizedSearchCV, cross_val_score \n",
    "import time\n",
    "import matplotlib.pyplot as plt\n",
    "from sklearn.utils import resample\n",
    "import datetime"
   ]
  },
  {
   "cell_type": "code",
   "execution_count": 2,
   "metadata": {},
   "outputs": [],
   "source": [
    "#connection = cx_Oracle.connect('HCIN_GUPTAN1[AP_UWI]/aGqQ4jnX92NG@INCL02.IN.PROD/HWIN_USR_DEV.HOMECREDIT.IN')\n",
    "#cursor = connection.cursor()\n",
    "#os.chdir(r\"C:\\Users\\aman.khatri91425\\Desktop\\HomeCredit\\Bigdata\\Common Maps KNN\")\n",
    "#df=pd.read_pickle(os.getcwd()+\"\\\\Data Files\\\\sql_data.pkl\")\n",
    "# qu1= \"\"\"\n",
    "# select * from TMP_BD_GRID_DISTANCE_ID_NEW\n",
    "# where risk_agrf120 =1 \n",
    "# \"\"\"\n",
    "#df = pd.read_sql(qu1,connection)\n",
    "#df.to_pickle(r\"C:\\Users\\aman.khatri91425\\Desktop\\HomeCredit\\Bigdata\\Common Maps KNN\\data_dump.pkl\")\n",
    "#df.to_csv(r\"C:\\Users\\aman.khatri91425\\Desktop\\HomeCredit\\Bigdata\\Common Maps KNN\\data_dump.csv\")"
   ]
  },
  {
   "cell_type": "code",
   "execution_count": 3,
   "metadata": {},
   "outputs": [],
   "source": [
    "os.chdir(r\"C:\\Users\\aman.khatri91425\\Desktop\\HomeCredit\\Bigdata\\Common Maps KNN\")"
   ]
  },
  {
   "cell_type": "code",
   "execution_count": 4,
   "metadata": {},
   "outputs": [],
   "source": [
    "# df=pd.read_csv(os.getcwd()+\"\\Data Files\\complete 1.csv\")\n",
    "# df1=pd.read_csv(os.getcwd()+\"\\Data Files\\complete 2.csv\")"
   ]
  },
  {
   "cell_type": "code",
   "execution_count": 5,
   "metadata": {},
   "outputs": [],
   "source": [
    "# df_final = pd.concat([df,df1])\n",
    "# df_final.drop_duplicates(inplace=True)"
   ]
  },
  {
   "cell_type": "code",
   "execution_count": 6,
   "metadata": {},
   "outputs": [],
   "source": [
    "# print(df_final.shape)\n",
    "# print(df.shape)\n",
    "# print(df1.shape)"
   ]
  },
  {
   "cell_type": "code",
   "execution_count": 7,
   "metadata": {},
   "outputs": [],
   "source": [
    "# df_final.to_csv(os.getcwd()+\"\\Data Files\\concated.csv\")\n",
    "# del df\n",
    "# del df_final\n",
    "# del df1\n",
    "\n",
    "#df.to_csv(os.getcwd()+\"\\Data Files\\concated.csv\")\n",
    "#df.to_pickle(os.getcwd()+\"\\Data Files\\concated.pkl\")"
   ]
  },
  {
   "cell_type": "code",
   "execution_count": 8,
   "metadata": {},
   "outputs": [],
   "source": [
    "df = pd.read_pickle(os.getcwd()+r\"\\Data Files\\final_grids_combined.pkl\")"
   ]
  },
  {
   "cell_type": "code",
   "execution_count": 9,
   "metadata": {},
   "outputs": [],
   "source": [
    "# df[\"TIME_DECISION_DATE\"] = pd.to_datetime(df[\"TIME_DECISION_DATE\"],dayfirst = True)\n",
    "df[\"MONTH_STR\"] = df[\"TIME_DECISION_DATE\"].dt.strftime(\"%Y-%m\")"
   ]
  },
  {
   "cell_type": "code",
   "execution_count": 10,
   "metadata": {
    "scrolled": true
   },
   "outputs": [
    {
     "data": {
      "text/html": [
       "<div>\n",
       "<style scoped>\n",
       "    .dataframe tbody tr th:only-of-type {\n",
       "        vertical-align: middle;\n",
       "    }\n",
       "\n",
       "    .dataframe tbody tr th {\n",
       "        vertical-align: top;\n",
       "    }\n",
       "\n",
       "    .dataframe thead th {\n",
       "        text-align: right;\n",
       "    }\n",
       "</style>\n",
       "<table border=\"1\" class=\"dataframe\">\n",
       "  <thead>\n",
       "    <tr style=\"text-align: right;\">\n",
       "      <th></th>\n",
       "      <th>SKP_CREDIT_CASE</th>\n",
       "      <th>TIME_DECISION_DATE</th>\n",
       "      <th>CUS_LAT</th>\n",
       "      <th>CUS_LONG</th>\n",
       "      <th>RISK_FPD10</th>\n",
       "      <th>RISK_FPD30</th>\n",
       "      <th>RISK_FSPD30</th>\n",
       "      <th>RISK_FSTPD30</th>\n",
       "      <th>RISK_FSTQPD30</th>\n",
       "      <th>RISK_FSTQPD60</th>\n",
       "      <th>NTC_FLAG</th>\n",
       "      <th>GRID_ID</th>\n",
       "      <th>RISK_SCORE</th>\n",
       "      <th>MONTH_STR</th>\n",
       "    </tr>\n",
       "  </thead>\n",
       "  <tbody>\n",
       "    <tr>\n",
       "      <th>0</th>\n",
       "      <td>299690604</td>\n",
       "      <td>2020-03-18</td>\n",
       "      <td>19.265680</td>\n",
       "      <td>72.868973</td>\n",
       "      <td>0.0</td>\n",
       "      <td>0.0</td>\n",
       "      <td>0.0</td>\n",
       "      <td>0.0</td>\n",
       "      <td>0.0</td>\n",
       "      <td>0.0</td>\n",
       "      <td>Others</td>\n",
       "      <td>500_00905_02662</td>\n",
       "      <td>0.051794</td>\n",
       "      <td>2020-03</td>\n",
       "    </tr>\n",
       "    <tr>\n",
       "      <th>1</th>\n",
       "      <td>299690609</td>\n",
       "      <td>2020-03-18</td>\n",
       "      <td>19.004342</td>\n",
       "      <td>73.114270</td>\n",
       "      <td>0.0</td>\n",
       "      <td>0.0</td>\n",
       "      <td>0.0</td>\n",
       "      <td>0.0</td>\n",
       "      <td>0.0</td>\n",
       "      <td>0.0</td>\n",
       "      <td>Others</td>\n",
       "      <td>500_00953_02602</td>\n",
       "      <td>0.007845</td>\n",
       "      <td>2020-03</td>\n",
       "    </tr>\n",
       "    <tr>\n",
       "      <th>2</th>\n",
       "      <td>299690618</td>\n",
       "      <td>2020-03-18</td>\n",
       "      <td>26.139898</td>\n",
       "      <td>78.159472</td>\n",
       "      <td>0.0</td>\n",
       "      <td>0.0</td>\n",
       "      <td>0.0</td>\n",
       "      <td>0.0</td>\n",
       "      <td>0.0</td>\n",
       "      <td>0.0</td>\n",
       "      <td>Others</td>\n",
       "      <td>500_02018_04121</td>\n",
       "      <td>0.034560</td>\n",
       "      <td>2020-03</td>\n",
       "    </tr>\n",
       "    <tr>\n",
       "      <th>3</th>\n",
       "      <td>299690627</td>\n",
       "      <td>2020-03-18</td>\n",
       "      <td>26.933770</td>\n",
       "      <td>75.753160</td>\n",
       "      <td>0.0</td>\n",
       "      <td>0.0</td>\n",
       "      <td>0.0</td>\n",
       "      <td>0.0</td>\n",
       "      <td>0.0</td>\n",
       "      <td>0.0</td>\n",
       "      <td>Others</td>\n",
       "      <td>500_01551_04304</td>\n",
       "      <td>0.018181</td>\n",
       "      <td>2020-03</td>\n",
       "    </tr>\n",
       "    <tr>\n",
       "      <th>4</th>\n",
       "      <td>299690631</td>\n",
       "      <td>2020-03-18</td>\n",
       "      <td>26.199419</td>\n",
       "      <td>78.162542</td>\n",
       "      <td>0.0</td>\n",
       "      <td>0.0</td>\n",
       "      <td>0.0</td>\n",
       "      <td>0.0</td>\n",
       "      <td>0.0</td>\n",
       "      <td>0.0</td>\n",
       "      <td>Others</td>\n",
       "      <td>500_02019_04134</td>\n",
       "      <td>0.010261</td>\n",
       "      <td>2020-03</td>\n",
       "    </tr>\n",
       "  </tbody>\n",
       "</table>\n",
       "</div>"
      ],
      "text/plain": [
       "   SKP_CREDIT_CASE TIME_DECISION_DATE    CUS_LAT   CUS_LONG  RISK_FPD10  \\\n",
       "0        299690604         2020-03-18  19.265680  72.868973         0.0   \n",
       "1        299690609         2020-03-18  19.004342  73.114270         0.0   \n",
       "2        299690618         2020-03-18  26.139898  78.159472         0.0   \n",
       "3        299690627         2020-03-18  26.933770  75.753160         0.0   \n",
       "4        299690631         2020-03-18  26.199419  78.162542         0.0   \n",
       "\n",
       "   RISK_FPD30  RISK_FSPD30  RISK_FSTPD30  RISK_FSTQPD30  RISK_FSTQPD60  \\\n",
       "0         0.0          0.0           0.0            0.0            0.0   \n",
       "1         0.0          0.0           0.0            0.0            0.0   \n",
       "2         0.0          0.0           0.0            0.0            0.0   \n",
       "3         0.0          0.0           0.0            0.0            0.0   \n",
       "4         0.0          0.0           0.0            0.0            0.0   \n",
       "\n",
       "  NTC_FLAG          GRID_ID  RISK_SCORE MONTH_STR  \n",
       "0   Others  500_00905_02662    0.051794   2020-03  \n",
       "1   Others  500_00953_02602    0.007845   2020-03  \n",
       "2   Others  500_02018_04121    0.034560   2020-03  \n",
       "3   Others  500_01551_04304    0.018181   2020-03  \n",
       "4   Others  500_02019_04134    0.010261   2020-03  "
      ]
     },
     "execution_count": 10,
     "metadata": {},
     "output_type": "execute_result"
    }
   ],
   "source": [
    "df.head()"
   ]
  },
  {
   "cell_type": "code",
   "execution_count": 11,
   "metadata": {},
   "outputs": [
    {
     "data": {
      "text/plain": [
       "NTC       6951093\n",
       "Others    5902618\n",
       "Name: NTC_FLAG, dtype: int64"
      ]
     },
     "execution_count": 11,
     "metadata": {},
     "output_type": "execute_result"
    }
   ],
   "source": [
    "df.NTC_FLAG.value_counts()"
   ]
  },
  {
   "cell_type": "code",
   "execution_count": 12,
   "metadata": {},
   "outputs": [],
   "source": [
    "df=df[df[\"NTC_FLAG\"] == \"NTC\"]"
   ]
  },
  {
   "cell_type": "code",
   "execution_count": 13,
   "metadata": {},
   "outputs": [],
   "source": [
    "df_summ = df[[\"RISK_FSTQPD30\",\"MONTH_STR\"]].groupby(\"MONTH_STR\").aggregate([\"count\",\"sum\"])[\"RISK_FSTQPD30\"]\n",
    "df_summ[\"bad_rate\"] = df_summ[\"sum\"]/df_summ[\"count\"]"
   ]
  },
  {
   "cell_type": "code",
   "execution_count": 14,
   "metadata": {},
   "outputs": [
    {
     "data": {
      "image/png": "[encoded data removed]",
      "text/plain": [
       "<Figure size 1080x288 with 2 Axes>"
      ]
     },
     "metadata": {
      "needs_background": "light"
     },
     "output_type": "display_data"
    }
   ],
   "source": [
    "df_summ[['sum','count']].plot(kind='bar', width = 0.8, figsize=(15,4))\n",
    "df_summ['bad_rate'].plot(secondary_y=True)\n",
    "\n",
    "ax = plt.gca()\n",
    "plt.xlim([-0.35, len(df_summ['sum'])-0.35])\n",
    "ax.set_xticklabels(df_summ.index)\n",
    "plt.ylim\n",
    "fig = ax.get_figure()\n",
    "ax = fig.get_axes()\n",
    "ax[1].set_ylim(0,0.15)\n",
    "ax[0].legend(['CD_Contracts','CD_Defaults'])\n",
    "ax[1].legend([\"Default Rate\"], loc = \"center right\")\n",
    "\n",
    "\n",
    "plt.show()\n"
   ]
  },
  {
   "cell_type": "code",
   "execution_count": 15,
   "metadata": {},
   "outputs": [
    {
     "data": {
      "text/plain": [
       "RISK_FPD10       0.412954\n",
       "RISK_FPD30       0.375457\n",
       "RISK_FSPD30      0.572089\n",
       "RISK_FSTPD30     0.740162\n",
       "RISK_FSTQPD30    1.000000\n",
       "RISK_FSTQPD60    0.839470\n",
       "Name: RISK_FSTQPD30, dtype: float64"
      ]
     },
     "execution_count": 15,
     "metadata": {},
     "output_type": "execute_result"
    }
   ],
   "source": [
    "df[[\"RISK_FPD10\",\"RISK_FPD30\",\"RISK_FSPD30\",\"RISK_FSTPD30\",\"RISK_FSTQPD30\",\"RISK_FSTQPD60\"]].corr()[\"RISK_FSTQPD30\"]"
   ]
  },
  {
   "cell_type": "markdown",
   "metadata": {},
   "source": [
    "# Try FPD10 and validate performance on FSTQPD30"
   ]
  },
  {
   "cell_type": "code",
   "execution_count": 16,
   "metadata": {},
   "outputs": [],
   "source": [
    "# Split Train and Test Data Set\n",
    "df_train = df[(df[\"TIME_DECISION_DATE\"]>=datetime.datetime(2018, 4, 22)) & \n",
    "              (df[\"TIME_DECISION_DATE\"]<=datetime.datetime(2019, 4, 21))]\n",
    "df_test = df[(df[\"TIME_DECISION_DATE\"]>=datetime.datetime(2019, 6, 1)) & \n",
    "               (df[\"TIME_DECISION_DATE\"]<=datetime.datetime(2019, 8, 31))]"
   ]
  },
  {
   "cell_type": "code",
   "execution_count": 33,
   "metadata": {},
   "outputs": [
    {
     "name": "stdout",
     "output_type": "stream",
     "text": [
      "(2495870, 14)\n",
      "(466610, 14)\n"
     ]
    },
    {
     "data": {
      "text/plain": [
       "0.0    2401234\n",
       "1.0      94618\n",
       "Name: RISK_FPD10, dtype: int64"
      ]
     },
     "execution_count": 33,
     "metadata": {},
     "output_type": "execute_result"
    }
   ],
   "source": [
    "print(df_train.shape)\n",
    "print(df_test.shape)\n",
    "df_train.RISK_FPD10.value_counts()"
   ]
  },
  {
   "cell_type": "code",
   "execution_count": 34,
   "metadata": {},
   "outputs": [],
   "source": [
    "target = \"RISK_FPD10\""
   ]
  },
  {
   "cell_type": "code",
   "execution_count": 35,
   "metadata": {},
   "outputs": [
    {
     "name": "stdout",
     "output_type": "stream",
     "text": [
      "Random under-sampling:\n",
      "1.0    80000\n",
      "0.0    80000\n",
      "Name: RISK_FPD10, dtype: int64\n"
     ]
    },
    {
     "data": {
      "image/png": "[encoded data removed]",
      "text/plain": [
       "<Figure size 432x288 with 1 Axes>"
      ]
     },
     "metadata": {
      "needs_background": "light"
     },
     "output_type": "display_data"
    }
   ],
   "source": [
    "#Downsampling Code \n",
    "#count_class_0, count_class_1 = df_train.RISK_FPD10.value_counts()\n",
    "count_class_0, count_class_1 = (80000,80000)\n",
    "df_class_0 = df_train[df_train[target] == 0]\n",
    "df_class_1 = df_train[df_train[target] == 1]\n",
    "df_class_0_under = df_class_0.sample(count_class_0, random_state = 2)\n",
    "df_class_1_under = df_class_1.sample(count_class_1, random_state = 2)\n",
    "df_train_under = pd.concat([df_class_0_under, df_class_1_under], axis=0)\n",
    "\n",
    "print('Random under-sampling:')\n",
    "print(df_train_under[target].value_counts())\n",
    "\n",
    "df_train_under[target].value_counts().plot(kind='bar', title='Count (target)');"
   ]
  },
  {
   "cell_type": "code",
   "execution_count": 36,
   "metadata": {},
   "outputs": [],
   "source": [
    "X_train = df_train_under[[\"CUS_LAT\",\"CUS_LONG\",\"RISK_SCORE\",\"TIME_DECISION_DATE\"]]\n",
    "X_test = df_test[[\"CUS_LAT\",\"CUS_LONG\",\"RISK_SCORE\",\"TIME_DECISION_DATE\"]]\n",
    "\n",
    "y_train = df_train_under[target]\n",
    "y_test =  df_test[target]\n"
   ]
  },
  {
   "cell_type": "code",
   "execution_count": 37,
   "metadata": {},
   "outputs": [
    {
     "name": "stdout",
     "output_type": "stream",
     "text": [
      "\n",
      "Event rate in train set : 50.00%\n",
      "\n",
      "Event rate in test set : 3.64%\n"
     ]
    }
   ],
   "source": [
    "print(\"\\nEvent rate in train set :\", '{:,.2%}'.format(sum(y_train) / len(y_train)))\n",
    "\n",
    "print(\"\\nEvent rate in test set :\", '{:,.2%}'.format(sum(y_test) / len(y_test)))"
   ]
  },
  {
   "cell_type": "code",
   "execution_count": 39,
   "metadata": {},
   "outputs": [],
   "source": [
    "param_grid = {'n_neighbors': np.arange(1,350,10)\n",
    "            }\n",
    "seed = 25"
   ]
  },
  {
   "cell_type": "code",
   "execution_count": 40,
   "metadata": {},
   "outputs": [],
   "source": [
    "from sklearn.neighbors import KNeighborsClassifier\n",
    "# Create KNN classifier\n",
    "knn = KNeighborsClassifier(weights = 'uniform')\n",
    "kfolds = StratifiedKFold(4, random_state=1)\n",
    "\n",
    "clf = RandomizedSearchCV(estimator=knn, param_distributions=param_grid, scoring=['roc_auc'], n_iter=10,\n",
    "                         random_state=seed, cv=kfolds.split(X_train[[\"CUS_LAT\",\"CUS_LONG\"]], y_train), refit='roc_auc',error_score=0, return_train_score =True)\n"
   ]
  },
  {
   "cell_type": "code",
   "execution_count": 41,
   "metadata": {},
   "outputs": [
    {
     "name": "stdout",
     "output_type": "stream",
     "text": [
      "Randomized search..\n",
      "Randomized search time: 782.423862695694\n"
     ]
    }
   ],
   "source": [
    "print(\"Randomized search..\")\n",
    "\n",
    "search_time_start = time.time()\n",
    "clf.fit(X_train[[\"CUS_LAT\",\"CUS_LONG\"]], np.ravel(y_train))\n",
    "print(\"Randomized search time:\", time.time() - search_time_start)\n",
    "\n",
    "params = clf.best_params_   #get best parameters\n",
    "dic=clf.cv_results_    #provides scoring results for each iteration, 50 in this case, mean values can be used \n",
    "tmp= pd.DataFrame(dic['params'])"
   ]
  },
  {
   "cell_type": "code",
   "execution_count": 42,
   "metadata": {},
   "outputs": [],
   "source": [
    "pd.DataFrame(dic).to_csv(r\"C:\\Users\\aman.khatri91425\\Desktop\\HomeCredit\\Bigdata\\Common Maps KNN\\ShortTargets_RCV_results_FPD10.csv\")"
   ]
  },
  {
   "cell_type": "code",
   "execution_count": 43,
   "metadata": {},
   "outputs": [],
   "source": [
    "tmp1= pd.DataFrame(dic)[[\"param_n_neighbors\",\"mean_test_roc_auc\",\"mean_train_roc_auc\"]].sort_values(by = 'param_n_neighbors')"
   ]
  },
  {
   "cell_type": "code",
   "execution_count": 44,
   "metadata": {},
   "outputs": [
    {
     "data": {
      "text/plain": [
       "<matplotlib.axes._subplots.AxesSubplot at 0x1bd0a7c0cf8>"
      ]
     },
     "execution_count": 44,
     "metadata": {},
     "output_type": "execute_result"
    },
    {
     "data": {
      "image/png": "[encoded data removed]",
      "text/plain": [
       "<Figure size 432x288 with 1 Axes>"
      ]
     },
     "metadata": {
      "needs_background": "light"
     },
     "output_type": "display_data"
    }
   ],
   "source": [
    "tmp1[[\"param_n_neighbors\",\"mean_test_roc_auc\"]].plot(x=\"param_n_neighbors\")"
   ]
  },
  {
   "cell_type": "code",
   "execution_count": 45,
   "metadata": {},
   "outputs": [
    {
     "data": {
      "text/html": [
       "<div>\n",
       "<style scoped>\n",
       "    .dataframe tbody tr th:only-of-type {\n",
       "        vertical-align: middle;\n",
       "    }\n",
       "\n",
       "    .dataframe tbody tr th {\n",
       "        vertical-align: top;\n",
       "    }\n",
       "\n",
       "    .dataframe thead th {\n",
       "        text-align: right;\n",
       "    }\n",
       "</style>\n",
       "<table border=\"1\" class=\"dataframe\">\n",
       "  <thead>\n",
       "    <tr style=\"text-align: right;\">\n",
       "      <th></th>\n",
       "      <th>param_n_neighbors</th>\n",
       "      <th>mean_test_roc_auc</th>\n",
       "    </tr>\n",
       "  </thead>\n",
       "  <tbody>\n",
       "    <tr>\n",
       "      <th>3</th>\n",
       "      <td>101</td>\n",
       "      <td>0.557384</td>\n",
       "    </tr>\n",
       "    <tr>\n",
       "      <th>7</th>\n",
       "      <td>111</td>\n",
       "      <td>0.557535</td>\n",
       "    </tr>\n",
       "    <tr>\n",
       "      <th>4</th>\n",
       "      <td>161</td>\n",
       "      <td>0.557973</td>\n",
       "    </tr>\n",
       "    <tr>\n",
       "      <th>0</th>\n",
       "      <td>171</td>\n",
       "      <td>0.558148</td>\n",
       "    </tr>\n",
       "    <tr>\n",
       "      <th>5</th>\n",
       "      <td>211</td>\n",
       "      <td>0.558913</td>\n",
       "    </tr>\n",
       "    <tr>\n",
       "      <th>9</th>\n",
       "      <td>251</td>\n",
       "      <td>0.558793</td>\n",
       "    </tr>\n",
       "    <tr>\n",
       "      <th>6</th>\n",
       "      <td>271</td>\n",
       "      <td>0.558807</td>\n",
       "    </tr>\n",
       "    <tr>\n",
       "      <th>8</th>\n",
       "      <td>281</td>\n",
       "      <td>0.558712</td>\n",
       "    </tr>\n",
       "    <tr>\n",
       "      <th>2</th>\n",
       "      <td>321</td>\n",
       "      <td>0.558587</td>\n",
       "    </tr>\n",
       "    <tr>\n",
       "      <th>1</th>\n",
       "      <td>331</td>\n",
       "      <td>0.558382</td>\n",
       "    </tr>\n",
       "  </tbody>\n",
       "</table>\n",
       "</div>"
      ],
      "text/plain": [
       "  param_n_neighbors  mean_test_roc_auc\n",
       "3               101           0.557384\n",
       "7               111           0.557535\n",
       "4               161           0.557973\n",
       "0               171           0.558148\n",
       "5               211           0.558913\n",
       "9               251           0.558793\n",
       "6               271           0.558807\n",
       "8               281           0.558712\n",
       "2               321           0.558587\n",
       "1               331           0.558382"
      ]
     },
     "execution_count": 45,
     "metadata": {},
     "output_type": "execute_result"
    }
   ],
   "source": [
    "tmp1[[\"param_n_neighbors\",\"mean_test_roc_auc\"]]"
   ]
  },
  {
   "cell_type": "code",
   "execution_count": 46,
   "metadata": {},
   "outputs": [
    {
     "name": "stdout",
     "output_type": "stream",
     "text": [
      "Best score: 0.5589128109375\n",
      "Best params: \n",
      "n_neighbors: 211\n"
     ]
    }
   ],
   "source": [
    "print(\"Best score: {}\".format(clf.best_score_))    #best auc score as we took that for refit \n",
    "\n",
    "\n",
    "print(\"Best params: \")\n",
    "\n",
    "for param_name in sorted(params.keys()):\n",
    "    print('%s: %r' % (param_name, params[param_name]))"
   ]
  },
  {
   "cell_type": "code",
   "execution_count": 48,
   "metadata": {},
   "outputs": [],
   "source": [
    "#update estimated hyperparameter values to new model\n",
    "from sklearn.neighbors import KNeighborsClassifier\n",
    "params = {'n_neighbors': 211}\n",
    "kfolds = StratifiedKFold(4, random_state=1)\n",
    "knn = KNeighborsClassifier(**params)\n",
    "# cross validation gini\n",
    "auc_cv = cross_val_score(knn, X_train[[\"CUS_LAT\",\"CUS_LONG\"]], y_train, scoring='roc_auc', cv=kfolds.split(X_train[[\"CUS_LAT\",\"CUS_LONG\"]], y_train),\n",
    "                         n_jobs=-1)\n",
    "gini_cv = (2 * np.array(auc_cv) - 1).mean()\n"
   ]
  },
  {
   "cell_type": "code",
   "execution_count": 49,
   "metadata": {},
   "outputs": [],
   "source": [
    "bst = knn.fit(X_train[[\"CUS_LAT\",\"CUS_LONG\"]], np.ravel(y_train))\n",
    "\n",
    "ypred_train = bst.predict_proba(X_train[[\"CUS_LAT\",\"CUS_LONG\"]])[:, 1]\n",
    "ypred_test = bst.predict_proba(X_test[[\"CUS_LAT\",\"CUS_LONG\"]])[:, 1]"
   ]
  },
  {
   "cell_type": "code",
   "execution_count": 50,
   "metadata": {},
   "outputs": [],
   "source": [
    "metric_auc_train = metrics.roc_auc_score(y_train, ypred_train)\n",
    "metric_auc_test = metrics.roc_auc_score(y_test, ypred_test)\n",
    "\n",
    "gini_train = 2 * metric_auc_train - 1\n",
    "gini_test = 2 * metric_auc_test - 1\n"
   ]
  },
  {
   "cell_type": "code",
   "execution_count": 51,
   "metadata": {},
   "outputs": [
    {
     "name": "stdout",
     "output_type": "stream",
     "text": [
      "GINI TRAIN: 16.05%\n",
      "\n",
      "GINI TEST: 8.75%\n",
      "\n",
      "GINI CV: 11.78%\n"
     ]
    }
   ],
   "source": [
    "print(\"GINI TRAIN:\",'{:,.2%}'.format(gini_train))\n",
    "print(\"\\nGINI TEST:\",'{:,.2%}'.format(gini_test))\n",
    "print(\"\\nGINI CV:\",'{:,.2%}'.format(gini_cv))"
   ]
  },
  {
   "cell_type": "code",
   "execution_count": 52,
   "metadata": {},
   "outputs": [
    {
     "name": "stderr",
     "output_type": "stream",
     "text": [
      "C:\\Users\\aman.khatri91425\\AppData\\Local\\Continuum\\anaconda3\\lib\\site-packages\\ipykernel_launcher.py:2: SettingWithCopyWarning: \n",
      "A value is trying to be set on a copy of a slice from a DataFrame.\n",
      "Try using .loc[row_indexer,col_indexer] = value instead\n",
      "\n",
      "See the caveats in the documentation: http://pandas.pydata.org/pandas-docs/stable/indexing.html#indexing-view-versus-copy\n",
      "  \n"
     ]
    }
   ],
   "source": [
    "df_train_under['F10_PRED_SCORE'] = ypred_train\n",
    "df_test['F10_PRED_SCORE'] = ypred_test"
   ]
  },
  {
   "cell_type": "code",
   "execution_count": 53,
   "metadata": {},
   "outputs": [
    {
     "data": {
      "text/html": [
       "<div>\n",
       "<style scoped>\n",
       "    .dataframe tbody tr th:only-of-type {\n",
       "        vertical-align: middle;\n",
       "    }\n",
       "\n",
       "    .dataframe tbody tr th {\n",
       "        vertical-align: top;\n",
       "    }\n",
       "\n",
       "    .dataframe thead th {\n",
       "        text-align: right;\n",
       "    }\n",
       "</style>\n",
       "<table border=\"1\" class=\"dataframe\">\n",
       "  <thead>\n",
       "    <tr style=\"text-align: right;\">\n",
       "      <th></th>\n",
       "      <th>SKP_CREDIT_CASE</th>\n",
       "      <th>TIME_DECISION_DATE</th>\n",
       "      <th>CUS_LAT</th>\n",
       "      <th>CUS_LONG</th>\n",
       "      <th>RISK_FPD10</th>\n",
       "      <th>RISK_FPD30</th>\n",
       "      <th>RISK_FSPD30</th>\n",
       "      <th>RISK_FSTPD30</th>\n",
       "      <th>RISK_FSTQPD30</th>\n",
       "      <th>RISK_FSTQPD60</th>\n",
       "      <th>NTC_FLAG</th>\n",
       "      <th>GRID_ID</th>\n",
       "      <th>RISK_SCORE</th>\n",
       "      <th>MONTH_STR</th>\n",
       "      <th>F10_PRED_SCORE</th>\n",
       "    </tr>\n",
       "  </thead>\n",
       "  <tbody>\n",
       "    <tr>\n",
       "      <th>927203</th>\n",
       "      <td>250099605</td>\n",
       "      <td>2019-08-31</td>\n",
       "      <td>12.995823</td>\n",
       "      <td>77.563810</td>\n",
       "      <td>0.0</td>\n",
       "      <td>0.0</td>\n",
       "      <td>0.0</td>\n",
       "      <td>0.0</td>\n",
       "      <td>0.0</td>\n",
       "      <td>0.0</td>\n",
       "      <td>NTC</td>\n",
       "      <td>500_01852_01255</td>\n",
       "      <td>0.108214</td>\n",
       "      <td>2019-08</td>\n",
       "      <td>0.568720</td>\n",
       "    </tr>\n",
       "    <tr>\n",
       "      <th>927204</th>\n",
       "      <td>250097214</td>\n",
       "      <td>2019-08-31</td>\n",
       "      <td>21.188661</td>\n",
       "      <td>72.837341</td>\n",
       "      <td>0.0</td>\n",
       "      <td>0.0</td>\n",
       "      <td>0.0</td>\n",
       "      <td>0.0</td>\n",
       "      <td>0.0</td>\n",
       "      <td>0.0</td>\n",
       "      <td>NTC</td>\n",
       "      <td>500_00920_03080</td>\n",
       "      <td>NaN</td>\n",
       "      <td>2019-08</td>\n",
       "      <td>0.568720</td>\n",
       "    </tr>\n",
       "    <tr>\n",
       "      <th>927208</th>\n",
       "      <td>249969747</td>\n",
       "      <td>2019-08-31</td>\n",
       "      <td>21.146680</td>\n",
       "      <td>72.875099</td>\n",
       "      <td>0.0</td>\n",
       "      <td>0.0</td>\n",
       "      <td>0.0</td>\n",
       "      <td>1.0</td>\n",
       "      <td>1.0</td>\n",
       "      <td>0.0</td>\n",
       "      <td>NTC</td>\n",
       "      <td>500_00927_03070</td>\n",
       "      <td>0.179697</td>\n",
       "      <td>2019-08</td>\n",
       "      <td>0.402844</td>\n",
       "    </tr>\n",
       "    <tr>\n",
       "      <th>927211</th>\n",
       "      <td>249547283</td>\n",
       "      <td>2019-08-31</td>\n",
       "      <td>12.930476</td>\n",
       "      <td>80.231302</td>\n",
       "      <td>0.0</td>\n",
       "      <td>0.0</td>\n",
       "      <td>0.0</td>\n",
       "      <td>0.0</td>\n",
       "      <td>0.0</td>\n",
       "      <td>0.0</td>\n",
       "      <td>NTC</td>\n",
       "      <td>500_02430_01236</td>\n",
       "      <td>0.096306</td>\n",
       "      <td>2019-08</td>\n",
       "      <td>0.549763</td>\n",
       "    </tr>\n",
       "    <tr>\n",
       "      <th>927217</th>\n",
       "      <td>250213185</td>\n",
       "      <td>2019-08-31</td>\n",
       "      <td>28.771554</td>\n",
       "      <td>77.260892</td>\n",
       "      <td>0.0</td>\n",
       "      <td>0.0</td>\n",
       "      <td>0.0</td>\n",
       "      <td>0.0</td>\n",
       "      <td>0.0</td>\n",
       "      <td>0.0</td>\n",
       "      <td>NTC</td>\n",
       "      <td>500_01853_04697</td>\n",
       "      <td>0.125433</td>\n",
       "      <td>2019-08</td>\n",
       "      <td>0.327014</td>\n",
       "    </tr>\n",
       "  </tbody>\n",
       "</table>\n",
       "</div>"
      ],
      "text/plain": [
       "        SKP_CREDIT_CASE TIME_DECISION_DATE    CUS_LAT   CUS_LONG  RISK_FPD10  \\\n",
       "927203        250099605         2019-08-31  12.995823  77.563810         0.0   \n",
       "927204        250097214         2019-08-31  21.188661  72.837341         0.0   \n",
       "927208        249969747         2019-08-31  21.146680  72.875099         0.0   \n",
       "927211        249547283         2019-08-31  12.930476  80.231302         0.0   \n",
       "927217        250213185         2019-08-31  28.771554  77.260892         0.0   \n",
       "\n",
       "        RISK_FPD30  RISK_FSPD30  RISK_FSTPD30  RISK_FSTQPD30  RISK_FSTQPD60  \\\n",
       "927203         0.0          0.0           0.0            0.0            0.0   \n",
       "927204         0.0          0.0           0.0            0.0            0.0   \n",
       "927208         0.0          0.0           1.0            1.0            0.0   \n",
       "927211         0.0          0.0           0.0            0.0            0.0   \n",
       "927217         0.0          0.0           0.0            0.0            0.0   \n",
       "\n",
       "       NTC_FLAG          GRID_ID  RISK_SCORE MONTH_STR  F10_PRED_SCORE  \n",
       "927203      NTC  500_01852_01255    0.108214   2019-08        0.568720  \n",
       "927204      NTC  500_00920_03080         NaN   2019-08        0.568720  \n",
       "927208      NTC  500_00927_03070    0.179697   2019-08        0.402844  \n",
       "927211      NTC  500_02430_01236    0.096306   2019-08        0.549763  \n",
       "927217      NTC  500_01853_04697    0.125433   2019-08        0.327014  "
      ]
     },
     "execution_count": 53,
     "metadata": {},
     "output_type": "execute_result"
    }
   ],
   "source": [
    "df_test.head()"
   ]
  },
  {
   "cell_type": "code",
   "execution_count": 54,
   "metadata": {},
   "outputs": [
    {
     "name": "stdout",
     "output_type": "stream",
     "text": [
      "FSTQPD30 Gini:  5.71\n"
     ]
    }
   ],
   "source": [
    "print(\"FSTQPD30 Gini: \" ,round((2*metrics.roc_auc_score(df_test[\"RISK_FSTQPD30\"],df_test[\"F10_PRED_SCORE\"])-1)*100,2))"
   ]
  },
  {
   "cell_type": "markdown",
   "metadata": {},
   "source": [
    "# Try FPD30 and validate performance on FSTQPD30"
   ]
  },
  {
   "cell_type": "code",
   "execution_count": 55,
   "metadata": {},
   "outputs": [],
   "source": [
    "# Split Train and Test Data Set\n",
    "df_train = df[(df[\"TIME_DECISION_DATE\"]>=datetime.datetime(2018, 4, 1)) & \n",
    "              (df[\"TIME_DECISION_DATE\"]<=datetime.datetime(2019, 4, 1))]\n",
    "# df_test = df[(df[\"TIME_DECISION_DATE\"]>=datetime.datetime(2019, 6, 1)) & \n",
    "#               (df[\"TIME_DECISION_DATE\"]<=datetime.datetime(2019, 8, 31))]"
   ]
  },
  {
   "cell_type": "code",
   "execution_count": 56,
   "metadata": {},
   "outputs": [
    {
     "name": "stdout",
     "output_type": "stream",
     "text": [
      "(2541859, 14)\n",
      "(466610, 15)\n"
     ]
    },
    {
     "data": {
      "text/plain": [
       "0.0    2506461\n",
       "1.0      35380\n",
       "Name: RISK_FPD30, dtype: int64"
      ]
     },
     "execution_count": 56,
     "metadata": {},
     "output_type": "execute_result"
    }
   ],
   "source": [
    "print(df_train.shape)\n",
    "print(df_test.shape)\n",
    "df_train.RISK_FPD30.value_counts()"
   ]
  },
  {
   "cell_type": "code",
   "execution_count": 57,
   "metadata": {},
   "outputs": [],
   "source": [
    "target = \"RISK_FPD30\""
   ]
  },
  {
   "cell_type": "code",
   "execution_count": 58,
   "metadata": {},
   "outputs": [
    {
     "name": "stdout",
     "output_type": "stream",
     "text": [
      "Random under-sampling:\n",
      "1.0    30000\n",
      "0.0    30000\n",
      "Name: RISK_FPD30, dtype: int64\n"
     ]
    },
    {
     "data": {
      "image/png": "[encoded data removed]",
      "text/plain": [
       "<Figure size 432x288 with 1 Axes>"
      ]
     },
     "metadata": {
      "needs_background": "light"
     },
     "output_type": "display_data"
    }
   ],
   "source": [
    "#Downsampling Code \n",
    "#count_class_0, count_class_1 = df_train.RISK_FPD10.value_counts()\n",
    "count_class_0, count_class_1 = (30000,30000)\n",
    "df_class_0 = df_train[df_train[target] == 0]\n",
    "df_class_1 = df_train[df_train[target] == 1]\n",
    "df_class_0_under = df_class_0.sample(count_class_0, random_state = 2)\n",
    "df_class_1_under = df_class_1.sample(count_class_1, random_state = 2)\n",
    "df_train_under = pd.concat([df_class_0_under, df_class_1_under], axis=0)\n",
    "\n",
    "print('Random under-sampling:')\n",
    "print(df_train_under[target].value_counts())\n",
    "\n",
    "df_train_under[target].value_counts().plot(kind='bar', title='Count (target)');"
   ]
  },
  {
   "cell_type": "code",
   "execution_count": 59,
   "metadata": {},
   "outputs": [],
   "source": [
    "X_train = df_train_under[[\"CUS_LAT\",\"CUS_LONG\",\"RISK_SCORE\",\"TIME_DECISION_DATE\"]]\n",
    "X_test = df_test[[\"CUS_LAT\",\"CUS_LONG\",\"RISK_SCORE\",\"TIME_DECISION_DATE\"]]\n",
    "\n",
    "y_train = df_train_under[target]\n",
    "y_test =  df_test[target]\n"
   ]
  },
  {
   "cell_type": "code",
   "execution_count": 60,
   "metadata": {},
   "outputs": [
    {
     "name": "stdout",
     "output_type": "stream",
     "text": [
      "\n",
      "Event rate in train set : 50.00%\n",
      "\n",
      "Event rate in test set : 1.26%\n"
     ]
    }
   ],
   "source": [
    "print(\"\\nEvent rate in train set :\", '{:,.2%}'.format(sum(y_train) / len(y_train)))\n",
    "\n",
    "print(\"\\nEvent rate in test set :\", '{:,.2%}'.format(sum(y_test) / len(y_test)))"
   ]
  },
  {
   "cell_type": "code",
   "execution_count": 61,
   "metadata": {},
   "outputs": [],
   "source": [
    "param_grid = {'n_neighbors': np.arange(1,300,5)\n",
    "            }\n",
    "seed = 25"
   ]
  },
  {
   "cell_type": "code",
   "execution_count": 62,
   "metadata": {},
   "outputs": [],
   "source": [
    "from sklearn.neighbors import KNeighborsClassifier\n",
    "# Create KNN classifier\n",
    "knn = KNeighborsClassifier(weights = 'uniform')\n",
    "kfolds = StratifiedKFold(4, random_state=1)\n",
    "\n",
    "clf = RandomizedSearchCV(estimator=knn, param_distributions=param_grid, scoring=['roc_auc'], n_iter=10,\n",
    "                         random_state=seed, cv=kfolds.split(X_train[[\"CUS_LAT\",\"CUS_LONG\"]], y_train), refit='roc_auc',error_score=0, return_train_score =True)\n"
   ]
  },
  {
   "cell_type": "code",
   "execution_count": 63,
   "metadata": {},
   "outputs": [
    {
     "name": "stdout",
     "output_type": "stream",
     "text": [
      "Randomized search..\n",
      "Randomized search time: 163.43057107925415\n"
     ]
    }
   ],
   "source": [
    "print(\"Randomized search..\")\n",
    "\n",
    "search_time_start = time.time()\n",
    "clf.fit(X_train[[\"CUS_LAT\",\"CUS_LONG\"]], np.ravel(y_train))\n",
    "print(\"Randomized search time:\", time.time() - search_time_start)\n",
    "\n",
    "params = clf.best_params_   #get best parameters\n",
    "dic=clf.cv_results_    #provides scoring results for each iteration, 50 in this case, mean values can be used \n",
    "tmp= pd.DataFrame(dic['params'])"
   ]
  },
  {
   "cell_type": "code",
   "execution_count": 64,
   "metadata": {},
   "outputs": [],
   "source": [
    "pd.DataFrame(dic).to_csv(r\"C:\\Users\\aman.khatri91425\\Desktop\\HomeCredit\\Bigdata\\ShortTargets_RCV_results_FPD30.csv\")"
   ]
  },
  {
   "cell_type": "code",
   "execution_count": 65,
   "metadata": {},
   "outputs": [],
   "source": [
    "tmp1= pd.DataFrame(dic)[[\"param_n_neighbors\",\"mean_test_roc_auc\",\"mean_train_roc_auc\"]].sort_values(by = 'param_n_neighbors')"
   ]
  },
  {
   "cell_type": "code",
   "execution_count": 66,
   "metadata": {},
   "outputs": [
    {
     "data": {
      "text/plain": [
       "<matplotlib.axes._subplots.AxesSubplot at 0x1bd0a7aaf60>"
      ]
     },
     "execution_count": 66,
     "metadata": {},
     "output_type": "execute_result"
    },
    {
     "data": {
      "image/png": "[encoded data removed]",
      "text/plain": [
       "<Figure size 432x288 with 1 Axes>"
      ]
     },
     "metadata": {
      "needs_background": "light"
     },
     "output_type": "display_data"
    }
   ],
   "source": [
    "tmp1[[\"param_n_neighbors\",\"mean_test_roc_auc\"]].plot(x=\"param_n_neighbors\")"
   ]
  },
  {
   "cell_type": "code",
   "execution_count": 67,
   "metadata": {},
   "outputs": [
    {
     "data": {
      "text/html": [
       "<div>\n",
       "<style scoped>\n",
       "    .dataframe tbody tr th:only-of-type {\n",
       "        vertical-align: middle;\n",
       "    }\n",
       "\n",
       "    .dataframe tbody tr th {\n",
       "        vertical-align: top;\n",
       "    }\n",
       "\n",
       "    .dataframe thead th {\n",
       "        text-align: right;\n",
       "    }\n",
       "</style>\n",
       "<table border=\"1\" class=\"dataframe\">\n",
       "  <thead>\n",
       "    <tr style=\"text-align: right;\">\n",
       "      <th></th>\n",
       "      <th>param_n_neighbors</th>\n",
       "      <th>mean_test_roc_auc</th>\n",
       "    </tr>\n",
       "  </thead>\n",
       "  <tbody>\n",
       "    <tr>\n",
       "      <th>4</th>\n",
       "      <td>36</td>\n",
       "      <td>0.576322</td>\n",
       "    </tr>\n",
       "    <tr>\n",
       "      <th>1</th>\n",
       "      <td>61</td>\n",
       "      <td>0.581181</td>\n",
       "    </tr>\n",
       "    <tr>\n",
       "      <th>2</th>\n",
       "      <td>66</td>\n",
       "      <td>0.581648</td>\n",
       "    </tr>\n",
       "    <tr>\n",
       "      <th>0</th>\n",
       "      <td>96</td>\n",
       "      <td>0.581998</td>\n",
       "    </tr>\n",
       "    <tr>\n",
       "      <th>6</th>\n",
       "      <td>136</td>\n",
       "      <td>0.583150</td>\n",
       "    </tr>\n",
       "    <tr>\n",
       "      <th>3</th>\n",
       "      <td>146</td>\n",
       "      <td>0.583373</td>\n",
       "    </tr>\n",
       "    <tr>\n",
       "      <th>7</th>\n",
       "      <td>151</td>\n",
       "      <td>0.583045</td>\n",
       "    </tr>\n",
       "    <tr>\n",
       "      <th>8</th>\n",
       "      <td>201</td>\n",
       "      <td>0.581294</td>\n",
       "    </tr>\n",
       "    <tr>\n",
       "      <th>5</th>\n",
       "      <td>206</td>\n",
       "      <td>0.581054</td>\n",
       "    </tr>\n",
       "    <tr>\n",
       "      <th>9</th>\n",
       "      <td>276</td>\n",
       "      <td>0.578794</td>\n",
       "    </tr>\n",
       "  </tbody>\n",
       "</table>\n",
       "</div>"
      ],
      "text/plain": [
       "  param_n_neighbors  mean_test_roc_auc\n",
       "4                36           0.576322\n",
       "1                61           0.581181\n",
       "2                66           0.581648\n",
       "0                96           0.581998\n",
       "6               136           0.583150\n",
       "3               146           0.583373\n",
       "7               151           0.583045\n",
       "8               201           0.581294\n",
       "5               206           0.581054\n",
       "9               276           0.578794"
      ]
     },
     "execution_count": 67,
     "metadata": {},
     "output_type": "execute_result"
    }
   ],
   "source": [
    "tmp1[[\"param_n_neighbors\",\"mean_test_roc_auc\"]]"
   ]
  },
  {
   "cell_type": "code",
   "execution_count": 68,
   "metadata": {},
   "outputs": [
    {
     "name": "stdout",
     "output_type": "stream",
     "text": [
      "Best score: 0.5833730777777778\n",
      "Best params: \n",
      "n_neighbors: 146\n"
     ]
    }
   ],
   "source": [
    "print(\"Best score: {}\".format(clf.best_score_))    #best auc score as we took that for refit \n",
    "\n",
    "\n",
    "print(\"Best params: \")\n",
    "\n",
    "for param_name in sorted(params.keys()):\n",
    "    print('%s: %r' % (param_name, params[param_name]))"
   ]
  },
  {
   "cell_type": "code",
   "execution_count": 69,
   "metadata": {},
   "outputs": [],
   "source": [
    "#update estimated hyperparameter values to new model\n",
    "from sklearn.neighbors import KNeighborsClassifier\n",
    "params = {'n_neighbors': 146}\n",
    "kfolds = StratifiedKFold(4, random_state=1)\n",
    "knn = KNeighborsClassifier(**params)\n",
    "# cross validation gini\n",
    "auc_cv = cross_val_score(knn, X_train[[\"CUS_LAT\",\"CUS_LONG\"]], y_train, scoring='roc_auc', cv=kfolds.split(X_train[[\"CUS_LAT\",\"CUS_LONG\"]], y_train),\n",
    "                         n_jobs=-1)\n",
    "gini_cv = (2 * np.array(auc_cv) - 1).mean()\n"
   ]
  },
  {
   "cell_type": "code",
   "execution_count": 70,
   "metadata": {},
   "outputs": [],
   "source": [
    "bst = knn.fit(X_train[[\"CUS_LAT\",\"CUS_LONG\"]], np.ravel(y_train))\n",
    "\n",
    "ypred_train = bst.predict_proba(X_train[[\"CUS_LAT\",\"CUS_LONG\"]])[:, 1]\n",
    "ypred_test = bst.predict_proba(X_test[[\"CUS_LAT\",\"CUS_LONG\"]])[:, 1]"
   ]
  },
  {
   "cell_type": "code",
   "execution_count": 71,
   "metadata": {},
   "outputs": [],
   "source": [
    "metric_auc_train = metrics.roc_auc_score(y_train, ypred_train)\n",
    "metric_auc_test = metrics.roc_auc_score(y_test, ypred_test)\n",
    "\n",
    "gini_train = 2 * metric_auc_train - 1\n",
    "gini_test = 2 * metric_auc_test - 1\n"
   ]
  },
  {
   "cell_type": "code",
   "execution_count": 72,
   "metadata": {},
   "outputs": [
    {
     "name": "stdout",
     "output_type": "stream",
     "text": [
      "GINI TRAIN: 21.15%\n",
      "\n",
      "GINI TEST: 12.75%\n",
      "\n",
      "GINI CV: 16.67%\n"
     ]
    }
   ],
   "source": [
    "print(\"GINI TRAIN:\",'{:,.2%}'.format(gini_train))\n",
    "print(\"\\nGINI TEST:\",'{:,.2%}'.format(gini_test))\n",
    "print(\"\\nGINI CV:\",'{:,.2%}'.format(gini_cv))"
   ]
  },
  {
   "cell_type": "code",
   "execution_count": 73,
   "metadata": {},
   "outputs": [
    {
     "name": "stderr",
     "output_type": "stream",
     "text": [
      "C:\\Users\\aman.khatri91425\\AppData\\Local\\Continuum\\anaconda3\\lib\\site-packages\\ipykernel_launcher.py:2: SettingWithCopyWarning: \n",
      "A value is trying to be set on a copy of a slice from a DataFrame.\n",
      "Try using .loc[row_indexer,col_indexer] = value instead\n",
      "\n",
      "See the caveats in the documentation: http://pandas.pydata.org/pandas-docs/stable/indexing.html#indexing-view-versus-copy\n",
      "  \n"
     ]
    }
   ],
   "source": [
    "df_train_under['F30_PRED_SCORE'] = ypred_train\n",
    "df_test['F30_PRED_SCORE'] = ypred_test"
   ]
  },
  {
   "cell_type": "code",
   "execution_count": 74,
   "metadata": {},
   "outputs": [
    {
     "data": {
      "text/html": [
       "<div>\n",
       "<style scoped>\n",
       "    .dataframe tbody tr th:only-of-type {\n",
       "        vertical-align: middle;\n",
       "    }\n",
       "\n",
       "    .dataframe tbody tr th {\n",
       "        vertical-align: top;\n",
       "    }\n",
       "\n",
       "    .dataframe thead th {\n",
       "        text-align: right;\n",
       "    }\n",
       "</style>\n",
       "<table border=\"1\" class=\"dataframe\">\n",
       "  <thead>\n",
       "    <tr style=\"text-align: right;\">\n",
       "      <th></th>\n",
       "      <th>SKP_CREDIT_CASE</th>\n",
       "      <th>TIME_DECISION_DATE</th>\n",
       "      <th>CUS_LAT</th>\n",
       "      <th>CUS_LONG</th>\n",
       "      <th>RISK_FPD10</th>\n",
       "      <th>RISK_FPD30</th>\n",
       "      <th>RISK_FSPD30</th>\n",
       "      <th>RISK_FSTPD30</th>\n",
       "      <th>RISK_FSTQPD30</th>\n",
       "      <th>RISK_FSTQPD60</th>\n",
       "      <th>NTC_FLAG</th>\n",
       "      <th>GRID_ID</th>\n",
       "      <th>RISK_SCORE</th>\n",
       "      <th>MONTH_STR</th>\n",
       "      <th>F10_PRED_SCORE</th>\n",
       "      <th>F30_PRED_SCORE</th>\n",
       "    </tr>\n",
       "  </thead>\n",
       "  <tbody>\n",
       "    <tr>\n",
       "      <th>927203</th>\n",
       "      <td>250099605</td>\n",
       "      <td>2019-08-31</td>\n",
       "      <td>12.995823</td>\n",
       "      <td>77.563810</td>\n",
       "      <td>0.0</td>\n",
       "      <td>0.0</td>\n",
       "      <td>0.0</td>\n",
       "      <td>0.0</td>\n",
       "      <td>0.0</td>\n",
       "      <td>0.0</td>\n",
       "      <td>NTC</td>\n",
       "      <td>500_01852_01255</td>\n",
       "      <td>0.108214</td>\n",
       "      <td>2019-08</td>\n",
       "      <td>0.568720</td>\n",
       "      <td>0.582192</td>\n",
       "    </tr>\n",
       "    <tr>\n",
       "      <th>927204</th>\n",
       "      <td>250097214</td>\n",
       "      <td>2019-08-31</td>\n",
       "      <td>21.188661</td>\n",
       "      <td>72.837341</td>\n",
       "      <td>0.0</td>\n",
       "      <td>0.0</td>\n",
       "      <td>0.0</td>\n",
       "      <td>0.0</td>\n",
       "      <td>0.0</td>\n",
       "      <td>0.0</td>\n",
       "      <td>NTC</td>\n",
       "      <td>500_00920_03080</td>\n",
       "      <td>NaN</td>\n",
       "      <td>2019-08</td>\n",
       "      <td>0.568720</td>\n",
       "      <td>0.623288</td>\n",
       "    </tr>\n",
       "    <tr>\n",
       "      <th>927208</th>\n",
       "      <td>249969747</td>\n",
       "      <td>2019-08-31</td>\n",
       "      <td>21.146680</td>\n",
       "      <td>72.875099</td>\n",
       "      <td>0.0</td>\n",
       "      <td>0.0</td>\n",
       "      <td>0.0</td>\n",
       "      <td>1.0</td>\n",
       "      <td>1.0</td>\n",
       "      <td>0.0</td>\n",
       "      <td>NTC</td>\n",
       "      <td>500_00927_03070</td>\n",
       "      <td>0.179697</td>\n",
       "      <td>2019-08</td>\n",
       "      <td>0.402844</td>\n",
       "      <td>0.541096</td>\n",
       "    </tr>\n",
       "    <tr>\n",
       "      <th>927211</th>\n",
       "      <td>249547283</td>\n",
       "      <td>2019-08-31</td>\n",
       "      <td>12.930476</td>\n",
       "      <td>80.231302</td>\n",
       "      <td>0.0</td>\n",
       "      <td>0.0</td>\n",
       "      <td>0.0</td>\n",
       "      <td>0.0</td>\n",
       "      <td>0.0</td>\n",
       "      <td>0.0</td>\n",
       "      <td>NTC</td>\n",
       "      <td>500_02430_01236</td>\n",
       "      <td>0.096306</td>\n",
       "      <td>2019-08</td>\n",
       "      <td>0.549763</td>\n",
       "      <td>0.732877</td>\n",
       "    </tr>\n",
       "    <tr>\n",
       "      <th>927217</th>\n",
       "      <td>250213185</td>\n",
       "      <td>2019-08-31</td>\n",
       "      <td>28.771554</td>\n",
       "      <td>77.260892</td>\n",
       "      <td>0.0</td>\n",
       "      <td>0.0</td>\n",
       "      <td>0.0</td>\n",
       "      <td>0.0</td>\n",
       "      <td>0.0</td>\n",
       "      <td>0.0</td>\n",
       "      <td>NTC</td>\n",
       "      <td>500_01853_04697</td>\n",
       "      <td>0.125433</td>\n",
       "      <td>2019-08</td>\n",
       "      <td>0.327014</td>\n",
       "      <td>0.260274</td>\n",
       "    </tr>\n",
       "  </tbody>\n",
       "</table>\n",
       "</div>"
      ],
      "text/plain": [
       "        SKP_CREDIT_CASE TIME_DECISION_DATE    CUS_LAT   CUS_LONG  RISK_FPD10  \\\n",
       "927203        250099605         2019-08-31  12.995823  77.563810         0.0   \n",
       "927204        250097214         2019-08-31  21.188661  72.837341         0.0   \n",
       "927208        249969747         2019-08-31  21.146680  72.875099         0.0   \n",
       "927211        249547283         2019-08-31  12.930476  80.231302         0.0   \n",
       "927217        250213185         2019-08-31  28.771554  77.260892         0.0   \n",
       "\n",
       "        RISK_FPD30  RISK_FSPD30  RISK_FSTPD30  RISK_FSTQPD30  RISK_FSTQPD60  \\\n",
       "927203         0.0          0.0           0.0            0.0            0.0   \n",
       "927204         0.0          0.0           0.0            0.0            0.0   \n",
       "927208         0.0          0.0           1.0            1.0            0.0   \n",
       "927211         0.0          0.0           0.0            0.0            0.0   \n",
       "927217         0.0          0.0           0.0            0.0            0.0   \n",
       "\n",
       "       NTC_FLAG          GRID_ID  RISK_SCORE MONTH_STR  F10_PRED_SCORE  \\\n",
       "927203      NTC  500_01852_01255    0.108214   2019-08        0.568720   \n",
       "927204      NTC  500_00920_03080         NaN   2019-08        0.568720   \n",
       "927208      NTC  500_00927_03070    0.179697   2019-08        0.402844   \n",
       "927211      NTC  500_02430_01236    0.096306   2019-08        0.549763   \n",
       "927217      NTC  500_01853_04697    0.125433   2019-08        0.327014   \n",
       "\n",
       "        F30_PRED_SCORE  \n",
       "927203        0.582192  \n",
       "927204        0.623288  \n",
       "927208        0.541096  \n",
       "927211        0.732877  \n",
       "927217        0.260274  "
      ]
     },
     "execution_count": 74,
     "metadata": {},
     "output_type": "execute_result"
    }
   ],
   "source": [
    "df_test.head()"
   ]
  },
  {
   "cell_type": "code",
   "execution_count": 75,
   "metadata": {},
   "outputs": [
    {
     "name": "stdout",
     "output_type": "stream",
     "text": [
      "FSTQPD30 Gini:  3.84\n"
     ]
    }
   ],
   "source": [
    "print(\"FSTQPD30 Gini: \" ,round((2*metrics.roc_auc_score(df_test[\"RISK_FSTQPD30\"],df_test[\"F30_PRED_SCORE\"])-1)*100,2))"
   ]
  },
  {
   "cell_type": "code",
   "execution_count": null,
   "metadata": {},
   "outputs": [],
   "source": []
  },
  {
   "cell_type": "markdown",
   "metadata": {},
   "source": [
    "# Try FSPD30 and validate performance on FSTQPD30"
   ]
  },
  {
   "cell_type": "code",
   "execution_count": 76,
   "metadata": {},
   "outputs": [],
   "source": [
    "# Split Train and Test Data Set\n",
    "df_train = df[(df[\"TIME_DECISION_DATE\"]>=datetime.datetime(2018, 3, 1)) & \n",
    "              (df[\"TIME_DECISION_DATE\"]<=datetime.datetime(2019, 3, 1))]\n",
    "# df_test = df[(df[\"TIME_DECISION_DATE\"]>=datetime.datetime(2019, 6, 1)) & \n",
    "#               (df[\"TIME_DECISION_DATE\"]<=datetime.datetime(2019, 8, 31))]"
   ]
  },
  {
   "cell_type": "code",
   "execution_count": 77,
   "metadata": {},
   "outputs": [
    {
     "name": "stdout",
     "output_type": "stream",
     "text": [
      "(2585126, 14)\n",
      "(466610, 16)\n"
     ]
    },
    {
     "data": {
      "text/plain": [
       "0.0    2505693\n",
       "1.0      79415\n",
       "Name: RISK_FSPD30, dtype: int64"
      ]
     },
     "execution_count": 77,
     "metadata": {},
     "output_type": "execute_result"
    }
   ],
   "source": [
    "print(df_train.shape)\n",
    "print(df_test.shape)\n",
    "df_train.RISK_FSPD30.value_counts()"
   ]
  },
  {
   "cell_type": "code",
   "execution_count": 78,
   "metadata": {},
   "outputs": [],
   "source": [
    "target = \"RISK_FSPD30\""
   ]
  },
  {
   "cell_type": "code",
   "execution_count": 79,
   "metadata": {},
   "outputs": [
    {
     "name": "stdout",
     "output_type": "stream",
     "text": [
      "Random under-sampling:\n",
      "1.0    70000\n",
      "0.0    70000\n",
      "Name: RISK_FSPD30, dtype: int64\n"
     ]
    },
    {
     "data": {
      "image/png": "[encoded data removed]",
      "text/plain": [
       "<Figure size 432x288 with 1 Axes>"
      ]
     },
     "metadata": {
      "needs_background": "light"
     },
     "output_type": "display_data"
    }
   ],
   "source": [
    "#Downsampling Code \n",
    "#count_class_0, count_class_1 = df_train.RISK_FPD10.value_counts()\n",
    "count_class_0, count_class_1 = (70000,70000)\n",
    "df_class_0 = df_train[df_train[target] == 0]\n",
    "df_class_1 = df_train[df_train[target] == 1]\n",
    "df_class_0_under = df_class_0.sample(count_class_0, random_state = 2)\n",
    "df_class_1_under = df_class_1.sample(count_class_1, random_state = 2)\n",
    "df_train_under = pd.concat([df_class_0_under, df_class_1_under], axis=0)\n",
    "\n",
    "print('Random under-sampling:')\n",
    "print(df_train_under[target].value_counts())\n",
    "\n",
    "df_train_under[target].value_counts().plot(kind='bar', title='Count (target)');"
   ]
  },
  {
   "cell_type": "code",
   "execution_count": 80,
   "metadata": {},
   "outputs": [],
   "source": [
    "X_train = df_train_under[[\"CUS_LAT\",\"CUS_LONG\",\"RISK_SCORE\",\"TIME_DECISION_DATE\"]]\n",
    "X_test = df_test[[\"CUS_LAT\",\"CUS_LONG\",\"RISK_SCORE\",\"TIME_DECISION_DATE\"]]\n",
    "\n",
    "y_train = df_train_under[target]\n",
    "y_test =  df_test[target]\n"
   ]
  },
  {
   "cell_type": "code",
   "execution_count": 81,
   "metadata": {},
   "outputs": [
    {
     "name": "stdout",
     "output_type": "stream",
     "text": [
      "\n",
      "Event rate in train set : 50.00%\n",
      "\n",
      "Event rate in test set : 2.87%\n"
     ]
    }
   ],
   "source": [
    "print(\"\\nEvent rate in train set :\", '{:,.2%}'.format(sum(y_train) / len(y_train)))\n",
    "\n",
    "print(\"\\nEvent rate in test set :\", '{:,.2%}'.format(sum(y_test) / len(y_test)))"
   ]
  },
  {
   "cell_type": "code",
   "execution_count": 82,
   "metadata": {},
   "outputs": [],
   "source": [
    "param_grid = {'n_neighbors': np.arange(1,300,5)\n",
    "            }\n",
    "seed = 25"
   ]
  },
  {
   "cell_type": "code",
   "execution_count": 83,
   "metadata": {},
   "outputs": [],
   "source": [
    "from sklearn.neighbors import KNeighborsClassifier\n",
    "# Create KNN classifier\n",
    "knn = KNeighborsClassifier(weights = 'uniform')\n",
    "kfolds = StratifiedKFold(4, random_state=1)\n",
    "\n",
    "clf = RandomizedSearchCV(estimator=knn, param_distributions=param_grid, scoring=['roc_auc'], n_iter=10,\n",
    "                         random_state=seed, cv=kfolds.split(X_train[[\"CUS_LAT\",\"CUS_LONG\"]], y_train), refit='roc_auc',error_score=0, return_train_score =True)\n"
   ]
  },
  {
   "cell_type": "code",
   "execution_count": 84,
   "metadata": {},
   "outputs": [
    {
     "name": "stdout",
     "output_type": "stream",
     "text": [
      "Randomized search..\n",
      "Randomized search time: 451.0094392299652\n"
     ]
    }
   ],
   "source": [
    "print(\"Randomized search..\")\n",
    "\n",
    "search_time_start = time.time()\n",
    "clf.fit(X_train[[\"CUS_LAT\",\"CUS_LONG\"]], np.ravel(y_train))\n",
    "print(\"Randomized search time:\", time.time() - search_time_start)\n",
    "\n",
    "params = clf.best_params_   #get best parameters\n",
    "dic=clf.cv_results_    #provides scoring results for each iteration, 50 in this case, mean values can be used \n",
    "tmp= pd.DataFrame(dic['params'])"
   ]
  },
  {
   "cell_type": "code",
   "execution_count": 85,
   "metadata": {},
   "outputs": [],
   "source": [
    "pd.DataFrame(dic).to_csv(r\"C:\\Users\\aman.khatri91425\\Desktop\\HomeCredit\\Bigdata\\ShortTargets_RCV_results_FSPD30.csv\")"
   ]
  },
  {
   "cell_type": "code",
   "execution_count": 86,
   "metadata": {},
   "outputs": [],
   "source": [
    "tmp1= pd.DataFrame(dic)[[\"param_n_neighbors\",\"mean_test_roc_auc\",\"mean_train_roc_auc\"]].sort_values(by = 'param_n_neighbors')"
   ]
  },
  {
   "cell_type": "code",
   "execution_count": 87,
   "metadata": {},
   "outputs": [
    {
     "data": {
      "text/plain": [
       "<matplotlib.axes._subplots.AxesSubplot at 0x1bd0a7d0128>"
      ]
     },
     "execution_count": 87,
     "metadata": {},
     "output_type": "execute_result"
    },
    {
     "data": {
      "image/png": "[encoded data removed]",
      "text/plain": [
       "<Figure size 432x288 with 1 Axes>"
      ]
     },
     "metadata": {
      "needs_background": "light"
     },
     "output_type": "display_data"
    }
   ],
   "source": [
    "tmp1[[\"param_n_neighbors\",\"mean_test_roc_auc\"]].plot(x=\"param_n_neighbors\")"
   ]
  },
  {
   "cell_type": "code",
   "execution_count": 88,
   "metadata": {},
   "outputs": [
    {
     "data": {
      "text/html": [
       "<div>\n",
       "<style scoped>\n",
       "    .dataframe tbody tr th:only-of-type {\n",
       "        vertical-align: middle;\n",
       "    }\n",
       "\n",
       "    .dataframe tbody tr th {\n",
       "        vertical-align: top;\n",
       "    }\n",
       "\n",
       "    .dataframe thead th {\n",
       "        text-align: right;\n",
       "    }\n",
       "</style>\n",
       "<table border=\"1\" class=\"dataframe\">\n",
       "  <thead>\n",
       "    <tr style=\"text-align: right;\">\n",
       "      <th></th>\n",
       "      <th>param_n_neighbors</th>\n",
       "      <th>mean_test_roc_auc</th>\n",
       "    </tr>\n",
       "  </thead>\n",
       "  <tbody>\n",
       "    <tr>\n",
       "      <th>4</th>\n",
       "      <td>36</td>\n",
       "      <td>0.569193</td>\n",
       "    </tr>\n",
       "    <tr>\n",
       "      <th>1</th>\n",
       "      <td>61</td>\n",
       "      <td>0.572567</td>\n",
       "    </tr>\n",
       "    <tr>\n",
       "      <th>2</th>\n",
       "      <td>66</td>\n",
       "      <td>0.573371</td>\n",
       "    </tr>\n",
       "    <tr>\n",
       "      <th>0</th>\n",
       "      <td>96</td>\n",
       "      <td>0.575444</td>\n",
       "    </tr>\n",
       "    <tr>\n",
       "      <th>6</th>\n",
       "      <td>136</td>\n",
       "      <td>0.576695</td>\n",
       "    </tr>\n",
       "    <tr>\n",
       "      <th>3</th>\n",
       "      <td>146</td>\n",
       "      <td>0.577099</td>\n",
       "    </tr>\n",
       "    <tr>\n",
       "      <th>7</th>\n",
       "      <td>151</td>\n",
       "      <td>0.577282</td>\n",
       "    </tr>\n",
       "    <tr>\n",
       "      <th>8</th>\n",
       "      <td>201</td>\n",
       "      <td>0.577351</td>\n",
       "    </tr>\n",
       "    <tr>\n",
       "      <th>5</th>\n",
       "      <td>206</td>\n",
       "      <td>0.577188</td>\n",
       "    </tr>\n",
       "    <tr>\n",
       "      <th>9</th>\n",
       "      <td>276</td>\n",
       "      <td>0.576606</td>\n",
       "    </tr>\n",
       "  </tbody>\n",
       "</table>\n",
       "</div>"
      ],
      "text/plain": [
       "  param_n_neighbors  mean_test_roc_auc\n",
       "4                36           0.569193\n",
       "1                61           0.572567\n",
       "2                66           0.573371\n",
       "0                96           0.575444\n",
       "6               136           0.576695\n",
       "3               146           0.577099\n",
       "7               151           0.577282\n",
       "8               201           0.577351\n",
       "5               206           0.577188\n",
       "9               276           0.576606"
      ]
     },
     "execution_count": 88,
     "metadata": {},
     "output_type": "execute_result"
    }
   ],
   "source": [
    "tmp1[[\"param_n_neighbors\",\"mean_test_roc_auc\"]]"
   ]
  },
  {
   "cell_type": "code",
   "execution_count": 89,
   "metadata": {},
   "outputs": [
    {
     "name": "stdout",
     "output_type": "stream",
     "text": [
      "Best score: 0.5773510697959184\n",
      "Best params: \n",
      "n_neighbors: 201\n"
     ]
    }
   ],
   "source": [
    "print(\"Best score: {}\".format(clf.best_score_))    #best auc score as we took that for refit \n",
    "\n",
    "\n",
    "print(\"Best params: \")\n",
    "\n",
    "for param_name in sorted(params.keys()):\n",
    "    print('%s: %r' % (param_name, params[param_name]))"
   ]
  },
  {
   "cell_type": "code",
   "execution_count": 90,
   "metadata": {},
   "outputs": [],
   "source": [
    "#update estimated hyperparameter values to new model\n",
    "from sklearn.neighbors import KNeighborsClassifier\n",
    "params = {'n_neighbors': 201}\n",
    "kfolds = StratifiedKFold(4, random_state=1)\n",
    "knn = KNeighborsClassifier(**params)\n",
    "# cross validation gini\n",
    "auc_cv = cross_val_score(knn, X_train[[\"CUS_LAT\",\"CUS_LONG\"]], y_train, scoring='roc_auc', cv=kfolds.split(X_train[[\"CUS_LAT\",\"CUS_LONG\"]], y_train),\n",
    "                         n_jobs=-1)\n",
    "gini_cv = (2 * np.array(auc_cv) - 1).mean()\n"
   ]
  },
  {
   "cell_type": "code",
   "execution_count": 91,
   "metadata": {},
   "outputs": [],
   "source": [
    "bst = knn.fit(X_train[[\"CUS_LAT\",\"CUS_LONG\"]], np.ravel(y_train))\n",
    "\n",
    "ypred_train = bst.predict_proba(X_train[[\"CUS_LAT\",\"CUS_LONG\"]])[:, 1]\n",
    "ypred_test = bst.predict_proba(X_test[[\"CUS_LAT\",\"CUS_LONG\"]])[:, 1]"
   ]
  },
  {
   "cell_type": "code",
   "execution_count": 92,
   "metadata": {},
   "outputs": [],
   "source": [
    "metric_auc_train = metrics.roc_auc_score(y_train, ypred_train)\n",
    "metric_auc_test = metrics.roc_auc_score(y_test, ypred_test)\n",
    "\n",
    "gini_train = 2 * metric_auc_train - 1\n",
    "gini_test = 2 * metric_auc_test - 1\n"
   ]
  },
  {
   "cell_type": "code",
   "execution_count": 93,
   "metadata": {},
   "outputs": [
    {
     "name": "stdout",
     "output_type": "stream",
     "text": [
      "GINI TRAIN: 19.42%\n",
      "\n",
      "GINI TEST: 10.22%\n",
      "\n",
      "GINI CV: 15.47%\n"
     ]
    }
   ],
   "source": [
    "print(\"GINI TRAIN:\",'{:,.2%}'.format(gini_train))\n",
    "print(\"\\nGINI TEST:\",'{:,.2%}'.format(gini_test))\n",
    "print(\"\\nGINI CV:\",'{:,.2%}'.format(gini_cv))"
   ]
  },
  {
   "cell_type": "code",
   "execution_count": 94,
   "metadata": {},
   "outputs": [
    {
     "name": "stderr",
     "output_type": "stream",
     "text": [
      "C:\\Users\\aman.khatri91425\\AppData\\Local\\Continuum\\anaconda3\\lib\\site-packages\\ipykernel_launcher.py:2: SettingWithCopyWarning: \n",
      "A value is trying to be set on a copy of a slice from a DataFrame.\n",
      "Try using .loc[row_indexer,col_indexer] = value instead\n",
      "\n",
      "See the caveats in the documentation: http://pandas.pydata.org/pandas-docs/stable/indexing.html#indexing-view-versus-copy\n",
      "  \n"
     ]
    }
   ],
   "source": [
    "df_train_under['FS30_PRED_SCORE'] = ypred_train\n",
    "df_test['FS30_PRED_SCORE'] = ypred_test"
   ]
  },
  {
   "cell_type": "code",
   "execution_count": 95,
   "metadata": {},
   "outputs": [
    {
     "data": {
      "text/html": [
       "<div>\n",
       "<style scoped>\n",
       "    .dataframe tbody tr th:only-of-type {\n",
       "        vertical-align: middle;\n",
       "    }\n",
       "\n",
       "    .dataframe tbody tr th {\n",
       "        vertical-align: top;\n",
       "    }\n",
       "\n",
       "    .dataframe thead th {\n",
       "        text-align: right;\n",
       "    }\n",
       "</style>\n",
       "<table border=\"1\" class=\"dataframe\">\n",
       "  <thead>\n",
       "    <tr style=\"text-align: right;\">\n",
       "      <th></th>\n",
       "      <th>SKP_CREDIT_CASE</th>\n",
       "      <th>TIME_DECISION_DATE</th>\n",
       "      <th>CUS_LAT</th>\n",
       "      <th>CUS_LONG</th>\n",
       "      <th>RISK_FPD10</th>\n",
       "      <th>RISK_FPD30</th>\n",
       "      <th>RISK_FSPD30</th>\n",
       "      <th>RISK_FSTPD30</th>\n",
       "      <th>RISK_FSTQPD30</th>\n",
       "      <th>RISK_FSTQPD60</th>\n",
       "      <th>NTC_FLAG</th>\n",
       "      <th>GRID_ID</th>\n",
       "      <th>RISK_SCORE</th>\n",
       "      <th>MONTH_STR</th>\n",
       "      <th>F10_PRED_SCORE</th>\n",
       "      <th>F30_PRED_SCORE</th>\n",
       "      <th>FS30_PRED_SCORE</th>\n",
       "    </tr>\n",
       "  </thead>\n",
       "  <tbody>\n",
       "    <tr>\n",
       "      <th>927203</th>\n",
       "      <td>250099605</td>\n",
       "      <td>2019-08-31</td>\n",
       "      <td>12.995823</td>\n",
       "      <td>77.563810</td>\n",
       "      <td>0.0</td>\n",
       "      <td>0.0</td>\n",
       "      <td>0.0</td>\n",
       "      <td>0.0</td>\n",
       "      <td>0.0</td>\n",
       "      <td>0.0</td>\n",
       "      <td>NTC</td>\n",
       "      <td>500_01852_01255</td>\n",
       "      <td>0.108214</td>\n",
       "      <td>2019-08</td>\n",
       "      <td>0.568720</td>\n",
       "      <td>0.582192</td>\n",
       "      <td>0.572139</td>\n",
       "    </tr>\n",
       "    <tr>\n",
       "      <th>927204</th>\n",
       "      <td>250097214</td>\n",
       "      <td>2019-08-31</td>\n",
       "      <td>21.188661</td>\n",
       "      <td>72.837341</td>\n",
       "      <td>0.0</td>\n",
       "      <td>0.0</td>\n",
       "      <td>0.0</td>\n",
       "      <td>0.0</td>\n",
       "      <td>0.0</td>\n",
       "      <td>0.0</td>\n",
       "      <td>NTC</td>\n",
       "      <td>500_00920_03080</td>\n",
       "      <td>NaN</td>\n",
       "      <td>2019-08</td>\n",
       "      <td>0.568720</td>\n",
       "      <td>0.623288</td>\n",
       "      <td>0.646766</td>\n",
       "    </tr>\n",
       "    <tr>\n",
       "      <th>927208</th>\n",
       "      <td>249969747</td>\n",
       "      <td>2019-08-31</td>\n",
       "      <td>21.146680</td>\n",
       "      <td>72.875099</td>\n",
       "      <td>0.0</td>\n",
       "      <td>0.0</td>\n",
       "      <td>0.0</td>\n",
       "      <td>1.0</td>\n",
       "      <td>1.0</td>\n",
       "      <td>0.0</td>\n",
       "      <td>NTC</td>\n",
       "      <td>500_00927_03070</td>\n",
       "      <td>0.179697</td>\n",
       "      <td>2019-08</td>\n",
       "      <td>0.402844</td>\n",
       "      <td>0.541096</td>\n",
       "      <td>0.477612</td>\n",
       "    </tr>\n",
       "    <tr>\n",
       "      <th>927211</th>\n",
       "      <td>249547283</td>\n",
       "      <td>2019-08-31</td>\n",
       "      <td>12.930476</td>\n",
       "      <td>80.231302</td>\n",
       "      <td>0.0</td>\n",
       "      <td>0.0</td>\n",
       "      <td>0.0</td>\n",
       "      <td>0.0</td>\n",
       "      <td>0.0</td>\n",
       "      <td>0.0</td>\n",
       "      <td>NTC</td>\n",
       "      <td>500_02430_01236</td>\n",
       "      <td>0.096306</td>\n",
       "      <td>2019-08</td>\n",
       "      <td>0.549763</td>\n",
       "      <td>0.732877</td>\n",
       "      <td>0.646766</td>\n",
       "    </tr>\n",
       "    <tr>\n",
       "      <th>927217</th>\n",
       "      <td>250213185</td>\n",
       "      <td>2019-08-31</td>\n",
       "      <td>28.771554</td>\n",
       "      <td>77.260892</td>\n",
       "      <td>0.0</td>\n",
       "      <td>0.0</td>\n",
       "      <td>0.0</td>\n",
       "      <td>0.0</td>\n",
       "      <td>0.0</td>\n",
       "      <td>0.0</td>\n",
       "      <td>NTC</td>\n",
       "      <td>500_01853_04697</td>\n",
       "      <td>0.125433</td>\n",
       "      <td>2019-08</td>\n",
       "      <td>0.327014</td>\n",
       "      <td>0.260274</td>\n",
       "      <td>0.328358</td>\n",
       "    </tr>\n",
       "  </tbody>\n",
       "</table>\n",
       "</div>"
      ],
      "text/plain": [
       "        SKP_CREDIT_CASE TIME_DECISION_DATE    CUS_LAT   CUS_LONG  RISK_FPD10  \\\n",
       "927203        250099605         2019-08-31  12.995823  77.563810         0.0   \n",
       "927204        250097214         2019-08-31  21.188661  72.837341         0.0   \n",
       "927208        249969747         2019-08-31  21.146680  72.875099         0.0   \n",
       "927211        249547283         2019-08-31  12.930476  80.231302         0.0   \n",
       "927217        250213185         2019-08-31  28.771554  77.260892         0.0   \n",
       "\n",
       "        RISK_FPD30  RISK_FSPD30  RISK_FSTPD30  RISK_FSTQPD30  RISK_FSTQPD60  \\\n",
       "927203         0.0          0.0           0.0            0.0            0.0   \n",
       "927204         0.0          0.0           0.0            0.0            0.0   \n",
       "927208         0.0          0.0           1.0            1.0            0.0   \n",
       "927211         0.0          0.0           0.0            0.0            0.0   \n",
       "927217         0.0          0.0           0.0            0.0            0.0   \n",
       "\n",
       "       NTC_FLAG          GRID_ID  RISK_SCORE MONTH_STR  F10_PRED_SCORE  \\\n",
       "927203      NTC  500_01852_01255    0.108214   2019-08        0.568720   \n",
       "927204      NTC  500_00920_03080         NaN   2019-08        0.568720   \n",
       "927208      NTC  500_00927_03070    0.179697   2019-08        0.402844   \n",
       "927211      NTC  500_02430_01236    0.096306   2019-08        0.549763   \n",
       "927217      NTC  500_01853_04697    0.125433   2019-08        0.327014   \n",
       "\n",
       "        F30_PRED_SCORE  FS30_PRED_SCORE  \n",
       "927203        0.582192         0.572139  \n",
       "927204        0.623288         0.646766  \n",
       "927208        0.541096         0.477612  \n",
       "927211        0.732877         0.646766  \n",
       "927217        0.260274         0.328358  "
      ]
     },
     "execution_count": 95,
     "metadata": {},
     "output_type": "execute_result"
    }
   ],
   "source": [
    "df_test.head()"
   ]
  },
  {
   "cell_type": "code",
   "execution_count": 96,
   "metadata": {},
   "outputs": [
    {
     "name": "stdout",
     "output_type": "stream",
     "text": [
      "FSTQPD30 Gini:  5.04\n"
     ]
    }
   ],
   "source": [
    "print(\"FSTQPD30 Gini: \" ,round((2*metrics.roc_auc_score(df_test[\"RISK_FSTQPD30\"],df_test[\"FS30_PRED_SCORE\"])-1)*100,2))"
   ]
  },
  {
   "cell_type": "markdown",
   "metadata": {},
   "source": [
    "# Try FSTPD30 and validate performance on FSTQPD30"
   ]
  },
  {
   "cell_type": "code",
   "execution_count": 97,
   "metadata": {},
   "outputs": [],
   "source": [
    "# Split Train and Test Data Set\n",
    "df_train = df[(df[\"TIME_DECISION_DATE\"]>=datetime.datetime(2018, 2, 1)) & \n",
    "              (df[\"TIME_DECISION_DATE\"]<=datetime.datetime(2019, 2, 1))]\n",
    "# df_test = df[(df[\"TIME_DECISION_DATE\"]>=datetime.datetime(2019, 6, 1)) & \n",
    "#               (df[\"TIME_DECISION_DATE\"]<=datetime.datetime(2019, 8, 31))]"
   ]
  },
  {
   "cell_type": "code",
   "execution_count": 98,
   "metadata": {},
   "outputs": [
    {
     "name": "stdout",
     "output_type": "stream",
     "text": [
      "(2632182, 14)\n",
      "(466610, 17)\n"
     ]
    },
    {
     "data": {
      "text/plain": [
       "0.0    2501144\n",
       "1.0     131020\n",
       "Name: RISK_FSTPD30, dtype: int64"
      ]
     },
     "execution_count": 98,
     "metadata": {},
     "output_type": "execute_result"
    }
   ],
   "source": [
    "print(df_train.shape)\n",
    "print(df_test.shape)\n",
    "df_train.RISK_FSTPD30.value_counts()"
   ]
  },
  {
   "cell_type": "code",
   "execution_count": 99,
   "metadata": {},
   "outputs": [],
   "source": [
    "target = \"RISK_FSTPD30\""
   ]
  },
  {
   "cell_type": "code",
   "execution_count": 100,
   "metadata": {},
   "outputs": [
    {
     "name": "stdout",
     "output_type": "stream",
     "text": [
      "Random under-sampling:\n",
      "1.0    120000\n",
      "0.0    120000\n",
      "Name: RISK_FSTPD30, dtype: int64\n"
     ]
    },
    {
     "data": {
      "image/png": "[encoded data removed]",
      "text/plain": [
       "<Figure size 432x288 with 1 Axes>"
      ]
     },
     "metadata": {
      "needs_background": "light"
     },
     "output_type": "display_data"
    }
   ],
   "source": [
    "#Downsampling Code \n",
    "#count_class_0, count_class_1 = df_train.RISK_FPD10.value_counts()\n",
    "count_class_0, count_class_1 = (120000,120000)\n",
    "df_class_0 = df_train[df_train[target] == 0]\n",
    "df_class_1 = df_train[df_train[target] == 1]\n",
    "df_class_0_under = df_class_0.sample(count_class_0, random_state = 2)\n",
    "df_class_1_under = df_class_1.sample(count_class_1, random_state = 2)\n",
    "df_train_under = pd.concat([df_class_0_under, df_class_1_under], axis=0)\n",
    "\n",
    "print('Random under-sampling:')\n",
    "print(df_train_under[target].value_counts())\n",
    "\n",
    "df_train_under[target].value_counts().plot(kind='bar', title='Count (target)');"
   ]
  },
  {
   "cell_type": "code",
   "execution_count": 101,
   "metadata": {},
   "outputs": [],
   "source": [
    "X_train = df_train_under[[\"CUS_LAT\",\"CUS_LONG\",\"RISK_SCORE\",\"TIME_DECISION_DATE\"]]\n",
    "X_test = df_test[[\"CUS_LAT\",\"CUS_LONG\",\"RISK_SCORE\",\"TIME_DECISION_DATE\"]]\n",
    "\n",
    "y_train = df_train_under[target]\n",
    "y_test =  df_test[target]\n"
   ]
  },
  {
   "cell_type": "code",
   "execution_count": 102,
   "metadata": {},
   "outputs": [
    {
     "name": "stdout",
     "output_type": "stream",
     "text": [
      "\n",
      "Event rate in train set : 50.00%\n",
      "\n",
      "Event rate in test set : 4.63%\n"
     ]
    }
   ],
   "source": [
    "print(\"\\nEvent rate in train set :\", '{:,.2%}'.format(sum(y_train) / len(y_train)))\n",
    "\n",
    "print(\"\\nEvent rate in test set :\", '{:,.2%}'.format(sum(y_test) / len(y_test)))"
   ]
  },
  {
   "cell_type": "code",
   "execution_count": 103,
   "metadata": {},
   "outputs": [],
   "source": [
    "param_grid = {'n_neighbors': np.arange(1,350,5)\n",
    "            }\n",
    "seed = 25"
   ]
  },
  {
   "cell_type": "code",
   "execution_count": 104,
   "metadata": {},
   "outputs": [],
   "source": [
    "from sklearn.neighbors import KNeighborsClassifier\n",
    "# Create KNN classifier\n",
    "knn = KNeighborsClassifier(weights = 'uniform')\n",
    "kfolds = StratifiedKFold(3, random_state=1)\n",
    "\n",
    "clf = RandomizedSearchCV(estimator=knn, param_distributions=param_grid, scoring=['roc_auc'], n_iter=10,\n",
    "                         random_state=seed, cv=kfolds.split(X_train[[\"CUS_LAT\",\"CUS_LONG\"]], y_train), refit='roc_auc',error_score=0, return_train_score =True)\n"
   ]
  },
  {
   "cell_type": "code",
   "execution_count": 105,
   "metadata": {},
   "outputs": [
    {
     "name": "stdout",
     "output_type": "stream",
     "text": [
      "Randomized search..\n",
      "Randomized search time: 753.3675096035004\n"
     ]
    }
   ],
   "source": [
    "print(\"Randomized search..\")\n",
    "\n",
    "search_time_start = time.time()\n",
    "clf.fit(X_train[[\"CUS_LAT\",\"CUS_LONG\"]], np.ravel(y_train))\n",
    "print(\"Randomized search time:\", time.time() - search_time_start)\n",
    "\n",
    "params = clf.best_params_   #get best parameters\n",
    "dic=clf.cv_results_    #provides scoring results for each iteration, 50 in this case, mean values can be used \n",
    "tmp= pd.DataFrame(dic['params'])"
   ]
  },
  {
   "cell_type": "code",
   "execution_count": 106,
   "metadata": {},
   "outputs": [],
   "source": [
    "pd.DataFrame(dic).to_csv(r\"C:\\Users\\aman.khatri91425\\Desktop\\HomeCredit\\Bigdata\\ShortTargets_RCV_results_FSTPD30.csv\")"
   ]
  },
  {
   "cell_type": "code",
   "execution_count": 107,
   "metadata": {},
   "outputs": [],
   "source": [
    "tmp1= pd.DataFrame(dic)[[\"param_n_neighbors\",\"mean_test_roc_auc\",\"mean_train_roc_auc\"]].sort_values(by = 'param_n_neighbors')"
   ]
  },
  {
   "cell_type": "code",
   "execution_count": 108,
   "metadata": {},
   "outputs": [
    {
     "data": {
      "text/plain": [
       "<matplotlib.axes._subplots.AxesSubplot at 0x1bd0a786390>"
      ]
     },
     "execution_count": 108,
     "metadata": {},
     "output_type": "execute_result"
    },
    {
     "data": {
      "image/png": "[encoded data removed]",
      "text/plain": [
       "<Figure size 432x288 with 1 Axes>"
      ]
     },
     "metadata": {
      "needs_background": "light"
     },
     "output_type": "display_data"
    }
   ],
   "source": [
    "tmp1[[\"param_n_neighbors\",\"mean_test_roc_auc\"]].plot(x=\"param_n_neighbors\")"
   ]
  },
  {
   "cell_type": "code",
   "execution_count": 109,
   "metadata": {},
   "outputs": [
    {
     "data": {
      "text/html": [
       "<div>\n",
       "<style scoped>\n",
       "    .dataframe tbody tr th:only-of-type {\n",
       "        vertical-align: middle;\n",
       "    }\n",
       "\n",
       "    .dataframe tbody tr th {\n",
       "        vertical-align: top;\n",
       "    }\n",
       "\n",
       "    .dataframe thead th {\n",
       "        text-align: right;\n",
       "    }\n",
       "</style>\n",
       "<table border=\"1\" class=\"dataframe\">\n",
       "  <thead>\n",
       "    <tr style=\"text-align: right;\">\n",
       "      <th></th>\n",
       "      <th>param_n_neighbors</th>\n",
       "      <th>mean_test_roc_auc</th>\n",
       "    </tr>\n",
       "  </thead>\n",
       "  <tbody>\n",
       "    <tr>\n",
       "      <th>2</th>\n",
       "      <td>1</td>\n",
       "      <td>0.515054</td>\n",
       "    </tr>\n",
       "    <tr>\n",
       "      <th>1</th>\n",
       "      <td>61</td>\n",
       "      <td>0.564386</td>\n",
       "    </tr>\n",
       "    <tr>\n",
       "      <th>8</th>\n",
       "      <td>66</td>\n",
       "      <td>0.565014</td>\n",
       "    </tr>\n",
       "    <tr>\n",
       "      <th>6</th>\n",
       "      <td>86</td>\n",
       "      <td>0.566049</td>\n",
       "    </tr>\n",
       "    <tr>\n",
       "      <th>9</th>\n",
       "      <td>166</td>\n",
       "      <td>0.568170</td>\n",
       "    </tr>\n",
       "    <tr>\n",
       "      <th>3</th>\n",
       "      <td>191</td>\n",
       "      <td>0.568626</td>\n",
       "    </tr>\n",
       "    <tr>\n",
       "      <th>5</th>\n",
       "      <td>206</td>\n",
       "      <td>0.568923</td>\n",
       "    </tr>\n",
       "    <tr>\n",
       "      <th>7</th>\n",
       "      <td>291</td>\n",
       "      <td>0.568966</td>\n",
       "    </tr>\n",
       "    <tr>\n",
       "      <th>4</th>\n",
       "      <td>321</td>\n",
       "      <td>0.568434</td>\n",
       "    </tr>\n",
       "    <tr>\n",
       "      <th>0</th>\n",
       "      <td>336</td>\n",
       "      <td>0.568361</td>\n",
       "    </tr>\n",
       "  </tbody>\n",
       "</table>\n",
       "</div>"
      ],
      "text/plain": [
       "  param_n_neighbors  mean_test_roc_auc\n",
       "2                 1           0.515054\n",
       "1                61           0.564386\n",
       "8                66           0.565014\n",
       "6                86           0.566049\n",
       "9               166           0.568170\n",
       "3               191           0.568626\n",
       "5               206           0.568923\n",
       "7               291           0.568966\n",
       "4               321           0.568434\n",
       "0               336           0.568361"
      ]
     },
     "execution_count": 109,
     "metadata": {},
     "output_type": "execute_result"
    }
   ],
   "source": [
    "tmp1[[\"param_n_neighbors\",\"mean_test_roc_auc\"]]"
   ]
  },
  {
   "cell_type": "code",
   "execution_count": 110,
   "metadata": {},
   "outputs": [
    {
     "name": "stdout",
     "output_type": "stream",
     "text": [
      "Best score: 0.5689664915624999\n",
      "Best params: \n",
      "n_neighbors: 291\n"
     ]
    }
   ],
   "source": [
    "print(\"Best score: {}\".format(clf.best_score_))    #best auc score as we took that for refit \n",
    "\n",
    "\n",
    "print(\"Best params: \")\n",
    "\n",
    "for param_name in sorted(params.keys()):\n",
    "    print('%s: %r' % (param_name, params[param_name]))"
   ]
  },
  {
   "cell_type": "code",
   "execution_count": 111,
   "metadata": {},
   "outputs": [],
   "source": [
    "#update estimated hyperparameter values to new model\n",
    "from sklearn.neighbors import KNeighborsClassifier\n",
    "params = {'n_neighbors': 291}\n",
    "kfolds = StratifiedKFold(4, random_state=1)\n",
    "knn = KNeighborsClassifier(**params)\n",
    "# cross validation gini\n",
    "auc_cv = cross_val_score(knn, X_train[[\"CUS_LAT\",\"CUS_LONG\"]], y_train, scoring='roc_auc', cv=kfolds.split(X_train[[\"CUS_LAT\",\"CUS_LONG\"]], y_train),\n",
    "                         n_jobs=-1)\n",
    "gini_cv = (2 * np.array(auc_cv) - 1).mean()\n"
   ]
  },
  {
   "cell_type": "code",
   "execution_count": 112,
   "metadata": {},
   "outputs": [],
   "source": [
    "bst = knn.fit(X_train[[\"CUS_LAT\",\"CUS_LONG\"]], np.ravel(y_train))\n",
    "\n",
    "ypred_train = bst.predict_proba(X_train[[\"CUS_LAT\",\"CUS_LONG\"]])[:, 1]\n",
    "ypred_test = bst.predict_proba(X_test[[\"CUS_LAT\",\"CUS_LONG\"]])[:, 1]"
   ]
  },
  {
   "cell_type": "code",
   "execution_count": 113,
   "metadata": {},
   "outputs": [],
   "source": [
    "metric_auc_train = metrics.roc_auc_score(y_train, ypred_train)\n",
    "metric_auc_test = metrics.roc_auc_score(y_test, ypred_test)\n",
    "\n",
    "gini_train = 2 * metric_auc_train - 1\n",
    "gini_test = 2 * metric_auc_test - 1\n"
   ]
  },
  {
   "cell_type": "code",
   "execution_count": 114,
   "metadata": {},
   "outputs": [
    {
     "name": "stdout",
     "output_type": "stream",
     "text": [
      "GINI TRAIN: 17.02%\n",
      "\n",
      "GINI TEST: 8.69%\n",
      "\n",
      "GINI CV: 13.94%\n"
     ]
    }
   ],
   "source": [
    "print(\"GINI TRAIN:\",'{:,.2%}'.format(gini_train))\n",
    "print(\"\\nGINI TEST:\",'{:,.2%}'.format(gini_test))\n",
    "print(\"\\nGINI CV:\",'{:,.2%}'.format(gini_cv))"
   ]
  },
  {
   "cell_type": "code",
   "execution_count": 115,
   "metadata": {},
   "outputs": [
    {
     "name": "stderr",
     "output_type": "stream",
     "text": [
      "C:\\Users\\aman.khatri91425\\AppData\\Local\\Continuum\\anaconda3\\lib\\site-packages\\ipykernel_launcher.py:2: SettingWithCopyWarning: \n",
      "A value is trying to be set on a copy of a slice from a DataFrame.\n",
      "Try using .loc[row_indexer,col_indexer] = value instead\n",
      "\n",
      "See the caveats in the documentation: http://pandas.pydata.org/pandas-docs/stable/indexing.html#indexing-view-versus-copy\n",
      "  \n"
     ]
    }
   ],
   "source": [
    "df_train_under['FST30_PRED_SCORE'] = ypred_train\n",
    "df_test['FST30_PRED_SCORE'] = ypred_test"
   ]
  },
  {
   "cell_type": "code",
   "execution_count": 116,
   "metadata": {},
   "outputs": [
    {
     "data": {
      "text/html": [
       "<div>\n",
       "<style scoped>\n",
       "    .dataframe tbody tr th:only-of-type {\n",
       "        vertical-align: middle;\n",
       "    }\n",
       "\n",
       "    .dataframe tbody tr th {\n",
       "        vertical-align: top;\n",
       "    }\n",
       "\n",
       "    .dataframe thead th {\n",
       "        text-align: right;\n",
       "    }\n",
       "</style>\n",
       "<table border=\"1\" class=\"dataframe\">\n",
       "  <thead>\n",
       "    <tr style=\"text-align: right;\">\n",
       "      <th></th>\n",
       "      <th>SKP_CREDIT_CASE</th>\n",
       "      <th>TIME_DECISION_DATE</th>\n",
       "      <th>CUS_LAT</th>\n",
       "      <th>CUS_LONG</th>\n",
       "      <th>RISK_FPD10</th>\n",
       "      <th>RISK_FPD30</th>\n",
       "      <th>RISK_FSPD30</th>\n",
       "      <th>RISK_FSTPD30</th>\n",
       "      <th>RISK_FSTQPD30</th>\n",
       "      <th>RISK_FSTQPD60</th>\n",
       "      <th>NTC_FLAG</th>\n",
       "      <th>GRID_ID</th>\n",
       "      <th>RISK_SCORE</th>\n",
       "      <th>MONTH_STR</th>\n",
       "      <th>F10_PRED_SCORE</th>\n",
       "      <th>F30_PRED_SCORE</th>\n",
       "      <th>FS30_PRED_SCORE</th>\n",
       "      <th>FST30_PRED_SCORE</th>\n",
       "    </tr>\n",
       "  </thead>\n",
       "  <tbody>\n",
       "    <tr>\n",
       "      <th>927203</th>\n",
       "      <td>250099605</td>\n",
       "      <td>2019-08-31</td>\n",
       "      <td>12.995823</td>\n",
       "      <td>77.563810</td>\n",
       "      <td>0.0</td>\n",
       "      <td>0.0</td>\n",
       "      <td>0.0</td>\n",
       "      <td>0.0</td>\n",
       "      <td>0.0</td>\n",
       "      <td>0.0</td>\n",
       "      <td>NTC</td>\n",
       "      <td>500_01852_01255</td>\n",
       "      <td>0.108214</td>\n",
       "      <td>2019-08</td>\n",
       "      <td>0.568720</td>\n",
       "      <td>0.582192</td>\n",
       "      <td>0.572139</td>\n",
       "      <td>0.518900</td>\n",
       "    </tr>\n",
       "    <tr>\n",
       "      <th>927204</th>\n",
       "      <td>250097214</td>\n",
       "      <td>2019-08-31</td>\n",
       "      <td>21.188661</td>\n",
       "      <td>72.837341</td>\n",
       "      <td>0.0</td>\n",
       "      <td>0.0</td>\n",
       "      <td>0.0</td>\n",
       "      <td>0.0</td>\n",
       "      <td>0.0</td>\n",
       "      <td>0.0</td>\n",
       "      <td>NTC</td>\n",
       "      <td>500_00920_03080</td>\n",
       "      <td>NaN</td>\n",
       "      <td>2019-08</td>\n",
       "      <td>0.568720</td>\n",
       "      <td>0.623288</td>\n",
       "      <td>0.646766</td>\n",
       "      <td>0.577320</td>\n",
       "    </tr>\n",
       "    <tr>\n",
       "      <th>927208</th>\n",
       "      <td>249969747</td>\n",
       "      <td>2019-08-31</td>\n",
       "      <td>21.146680</td>\n",
       "      <td>72.875099</td>\n",
       "      <td>0.0</td>\n",
       "      <td>0.0</td>\n",
       "      <td>0.0</td>\n",
       "      <td>1.0</td>\n",
       "      <td>1.0</td>\n",
       "      <td>0.0</td>\n",
       "      <td>NTC</td>\n",
       "      <td>500_00927_03070</td>\n",
       "      <td>0.179697</td>\n",
       "      <td>2019-08</td>\n",
       "      <td>0.402844</td>\n",
       "      <td>0.541096</td>\n",
       "      <td>0.477612</td>\n",
       "      <td>0.508591</td>\n",
       "    </tr>\n",
       "    <tr>\n",
       "      <th>927211</th>\n",
       "      <td>249547283</td>\n",
       "      <td>2019-08-31</td>\n",
       "      <td>12.930476</td>\n",
       "      <td>80.231302</td>\n",
       "      <td>0.0</td>\n",
       "      <td>0.0</td>\n",
       "      <td>0.0</td>\n",
       "      <td>0.0</td>\n",
       "      <td>0.0</td>\n",
       "      <td>0.0</td>\n",
       "      <td>NTC</td>\n",
       "      <td>500_02430_01236</td>\n",
       "      <td>0.096306</td>\n",
       "      <td>2019-08</td>\n",
       "      <td>0.549763</td>\n",
       "      <td>0.732877</td>\n",
       "      <td>0.646766</td>\n",
       "      <td>0.670103</td>\n",
       "    </tr>\n",
       "    <tr>\n",
       "      <th>927217</th>\n",
       "      <td>250213185</td>\n",
       "      <td>2019-08-31</td>\n",
       "      <td>28.771554</td>\n",
       "      <td>77.260892</td>\n",
       "      <td>0.0</td>\n",
       "      <td>0.0</td>\n",
       "      <td>0.0</td>\n",
       "      <td>0.0</td>\n",
       "      <td>0.0</td>\n",
       "      <td>0.0</td>\n",
       "      <td>NTC</td>\n",
       "      <td>500_01853_04697</td>\n",
       "      <td>0.125433</td>\n",
       "      <td>2019-08</td>\n",
       "      <td>0.327014</td>\n",
       "      <td>0.260274</td>\n",
       "      <td>0.328358</td>\n",
       "      <td>0.374570</td>\n",
       "    </tr>\n",
       "  </tbody>\n",
       "</table>\n",
       "</div>"
      ],
      "text/plain": [
       "        SKP_CREDIT_CASE TIME_DECISION_DATE    CUS_LAT   CUS_LONG  RISK_FPD10  \\\n",
       "927203        250099605         2019-08-31  12.995823  77.563810         0.0   \n",
       "927204        250097214         2019-08-31  21.188661  72.837341         0.0   \n",
       "927208        249969747         2019-08-31  21.146680  72.875099         0.0   \n",
       "927211        249547283         2019-08-31  12.930476  80.231302         0.0   \n",
       "927217        250213185         2019-08-31  28.771554  77.260892         0.0   \n",
       "\n",
       "        RISK_FPD30  RISK_FSPD30  RISK_FSTPD30  RISK_FSTQPD30  RISK_FSTQPD60  \\\n",
       "927203         0.0          0.0           0.0            0.0            0.0   \n",
       "927204         0.0          0.0           0.0            0.0            0.0   \n",
       "927208         0.0          0.0           1.0            1.0            0.0   \n",
       "927211         0.0          0.0           0.0            0.0            0.0   \n",
       "927217         0.0          0.0           0.0            0.0            0.0   \n",
       "\n",
       "       NTC_FLAG          GRID_ID  RISK_SCORE MONTH_STR  F10_PRED_SCORE  \\\n",
       "927203      NTC  500_01852_01255    0.108214   2019-08        0.568720   \n",
       "927204      NTC  500_00920_03080         NaN   2019-08        0.568720   \n",
       "927208      NTC  500_00927_03070    0.179697   2019-08        0.402844   \n",
       "927211      NTC  500_02430_01236    0.096306   2019-08        0.549763   \n",
       "927217      NTC  500_01853_04697    0.125433   2019-08        0.327014   \n",
       "\n",
       "        F30_PRED_SCORE  FS30_PRED_SCORE  FST30_PRED_SCORE  \n",
       "927203        0.582192         0.572139          0.518900  \n",
       "927204        0.623288         0.646766          0.577320  \n",
       "927208        0.541096         0.477612          0.508591  \n",
       "927211        0.732877         0.646766          0.670103  \n",
       "927217        0.260274         0.328358          0.374570  "
      ]
     },
     "execution_count": 116,
     "metadata": {},
     "output_type": "execute_result"
    }
   ],
   "source": [
    "df_test.head()"
   ]
  },
  {
   "cell_type": "code",
   "execution_count": 117,
   "metadata": {},
   "outputs": [
    {
     "name": "stdout",
     "output_type": "stream",
     "text": [
      "FSTQPD30 Gini:  5.44\n"
     ]
    }
   ],
   "source": [
    "print(\"FSTQPD30 Gini: \" ,round((2*metrics.roc_auc_score(df_test[\"RISK_FSTQPD30\"],df_test[\"FST30_PRED_SCORE\"])-1)*100,2))"
   ]
  },
  {
   "cell_type": "code",
   "execution_count": null,
   "metadata": {},
   "outputs": [],
   "source": []
  },
  {
   "cell_type": "markdown",
   "metadata": {},
   "source": [
    "# Try FSTQPD30 and validate performance on FSTQPD30"
   ]
  },
  {
   "cell_type": "code",
   "execution_count": 17,
   "metadata": {},
   "outputs": [],
   "source": [
    "# Split Train and Test Data Set\n",
    "df_train = df[(df[\"TIME_DECISION_DATE\"]>=datetime.datetime(2018, 1, 1)) & \n",
    "              (df[\"TIME_DECISION_DATE\"]<=datetime.datetime(2019, 1, 1))]\n",
    "# df_test = df[(df[\"TIME_DECISION_DATE\"]>=datetime.datetime(2019, 6, 1)) & \n",
    "#               (df[\"TIME_DECISION_DATE\"]<=datetime.datetime(2019, 8, 31))]"
   ]
  },
  {
   "cell_type": "code",
   "execution_count": 18,
   "metadata": {},
   "outputs": [
    {
     "name": "stdout",
     "output_type": "stream",
     "text": [
      "(2719925, 14)\n",
      "(466610, 14)\n"
     ]
    },
    {
     "data": {
      "text/plain": [
       "0.0    2496316\n",
       "1.0     223591\n",
       "Name: RISK_FSTQPD30, dtype: int64"
      ]
     },
     "execution_count": 18,
     "metadata": {},
     "output_type": "execute_result"
    }
   ],
   "source": [
    "print(df_train.shape)\n",
    "print(df_test.shape)\n",
    "df_train.RISK_FSTQPD30.value_counts()"
   ]
  },
  {
   "cell_type": "code",
   "execution_count": 19,
   "metadata": {},
   "outputs": [],
   "source": [
    "target = \"RISK_FSTQPD30\""
   ]
  },
  {
   "cell_type": "code",
   "execution_count": 20,
   "metadata": {},
   "outputs": [
    {
     "name": "stdout",
     "output_type": "stream",
     "text": [
      "Random under-sampling:\n",
      "1.0    200000\n",
      "0.0    200000\n",
      "Name: RISK_FSTQPD30, dtype: int64\n"
     ]
    },
    {
     "data": {
      "image/png": "[encoded data removed]",
      "text/plain": [
       "<Figure size 432x288 with 1 Axes>"
      ]
     },
     "metadata": {
      "needs_background": "light"
     },
     "output_type": "display_data"
    }
   ],
   "source": [
    "#Downsampling Code \n",
    "#count_class_0, count_class_1 = df_train.RISK_FPD10.value_counts()\n",
    "count_class_0, count_class_1 = (200000,200000)\n",
    "df_class_0 = df_train[df_train[target] == 0]\n",
    "df_class_1 = df_train[df_train[target] == 1]\n",
    "df_class_0_under = df_class_0.sample(count_class_0, random_state = 2)\n",
    "df_class_1_under = df_class_1.sample(count_class_1, random_state = 2)\n",
    "df_train_under = pd.concat([df_class_0_under, df_class_1_under], axis=0)\n",
    "\n",
    "print('Random under-sampling:')\n",
    "print(df_train_under[target].value_counts())\n",
    "\n",
    "df_train_under[target].value_counts().plot(kind='bar', title='Count (target)');"
   ]
  },
  {
   "cell_type": "code",
   "execution_count": 21,
   "metadata": {},
   "outputs": [],
   "source": [
    "X_train = df_train_under[[\"CUS_LAT\",\"CUS_LONG\",\"RISK_SCORE\",\"TIME_DECISION_DATE\"]]\n",
    "X_test = df_test[[\"CUS_LAT\",\"CUS_LONG\",\"RISK_SCORE\",\"TIME_DECISION_DATE\"]]\n",
    "\n",
    "y_train = df_train_under[target]\n",
    "y_test =  df_test[target]\n"
   ]
  },
  {
   "cell_type": "code",
   "execution_count": 22,
   "metadata": {},
   "outputs": [
    {
     "name": "stdout",
     "output_type": "stream",
     "text": [
      "\n",
      "Event rate in train set : 50.00%\n",
      "\n",
      "Event rate in test set : 7.70%\n"
     ]
    }
   ],
   "source": [
    "print(\"\\nEvent rate in train set :\", '{:,.2%}'.format(sum(y_train) / len(y_train)))\n",
    "\n",
    "print(\"\\nEvent rate in test set :\", '{:,.2%}'.format(sum(y_test) / len(y_test)))"
   ]
  },
  {
   "cell_type": "code",
   "execution_count": 23,
   "metadata": {},
   "outputs": [],
   "source": [
    "param_grid = {'n_neighbors': np.arange(1,400,5)\n",
    "            }\n",
    "seed = 25"
   ]
  },
  {
   "cell_type": "code",
   "execution_count": 24,
   "metadata": {},
   "outputs": [],
   "source": [
    "from sklearn.neighbors import KNeighborsClassifier\n",
    "# Create KNN classifier\n",
    "knn = KNeighborsClassifier(weights = 'uniform')\n",
    "kfolds = StratifiedKFold(5, random_state=1)\n",
    "\n",
    "clf = RandomizedSearchCV(estimator=knn, param_distributions=param_grid, scoring=['roc_auc'], n_iter=10,\n",
    "                         random_state=seed, cv=kfolds.split(X_train[[\"CUS_LAT\",\"CUS_LONG\"]], y_train), refit='roc_auc',error_score=0, return_train_score =True)\n"
   ]
  },
  {
   "cell_type": "code",
   "execution_count": 25,
   "metadata": {},
   "outputs": [
    {
     "name": "stdout",
     "output_type": "stream",
     "text": [
      "Randomized search..\n",
      "Randomized search time: 1280.1892347335815\n"
     ]
    }
   ],
   "source": [
    "print(\"Randomized search..\")\n",
    "\n",
    "search_time_start = time.time()\n",
    "clf.fit(X_train[[\"CUS_LAT\",\"CUS_LONG\"]], np.ravel(y_train))\n",
    "print(\"Randomized search time:\", time.time() - search_time_start)\n",
    "\n",
    "params = clf.best_params_   #get best parameters\n",
    "dic=clf.cv_results_    #provides scoring results for each iteration, 50 in this case, mean values can be used \n",
    "tmp= pd.DataFrame(dic['params'])"
   ]
  },
  {
   "cell_type": "code",
   "execution_count": 26,
   "metadata": {},
   "outputs": [],
   "source": [
    "pd.DataFrame(dic).to_csv(r\"C:\\Users\\aman.khatri91425\\Desktop\\HomeCredit\\Bigdata\\ShortTargets_RCV_results_FSTQPD30.csv\")"
   ]
  },
  {
   "cell_type": "code",
   "execution_count": 27,
   "metadata": {},
   "outputs": [],
   "source": [
    "tmp1= pd.DataFrame(dic)[[\"param_n_neighbors\",\"mean_test_roc_auc\",\"mean_train_roc_auc\"]].sort_values(by = 'param_n_neighbors')"
   ]
  },
  {
   "cell_type": "code",
   "execution_count": 28,
   "metadata": {},
   "outputs": [
    {
     "data": {
      "text/plain": [
       "<matplotlib.axes._subplots.AxesSubplot at 0x1e2a4c3e6d8>"
      ]
     },
     "execution_count": 28,
     "metadata": {},
     "output_type": "execute_result"
    },
    {
     "data": {
      "image/png": "[encoded data removed]",
      "text/plain": [
       "<Figure size 432x288 with 1 Axes>"
      ]
     },
     "metadata": {
      "needs_background": "light"
     },
     "output_type": "display_data"
    }
   ],
   "source": [
    "tmp1[[\"param_n_neighbors\",\"mean_test_roc_auc\"]].plot(x=\"param_n_neighbors\")"
   ]
  },
  {
   "cell_type": "code",
   "execution_count": 29,
   "metadata": {},
   "outputs": [
    {
     "data": {
      "text/html": [
       "<div>\n",
       "<style scoped>\n",
       "    .dataframe tbody tr th:only-of-type {\n",
       "        vertical-align: middle;\n",
       "    }\n",
       "\n",
       "    .dataframe tbody tr th {\n",
       "        vertical-align: top;\n",
       "    }\n",
       "\n",
       "    .dataframe thead th {\n",
       "        text-align: right;\n",
       "    }\n",
       "</style>\n",
       "<table border=\"1\" class=\"dataframe\">\n",
       "  <thead>\n",
       "    <tr style=\"text-align: right;\">\n",
       "      <th></th>\n",
       "      <th>param_n_neighbors</th>\n",
       "      <th>mean_test_roc_auc</th>\n",
       "    </tr>\n",
       "  </thead>\n",
       "  <tbody>\n",
       "    <tr>\n",
       "      <th>3</th>\n",
       "      <td>1</td>\n",
       "      <td>0.513280</td>\n",
       "    </tr>\n",
       "    <tr>\n",
       "      <th>7</th>\n",
       "      <td>31</td>\n",
       "      <td>0.544675</td>\n",
       "    </tr>\n",
       "    <tr>\n",
       "      <th>1</th>\n",
       "      <td>66</td>\n",
       "      <td>0.553568</td>\n",
       "    </tr>\n",
       "    <tr>\n",
       "      <th>6</th>\n",
       "      <td>186</td>\n",
       "      <td>0.558411</td>\n",
       "    </tr>\n",
       "    <tr>\n",
       "      <th>8</th>\n",
       "      <td>191</td>\n",
       "      <td>0.558539</td>\n",
       "    </tr>\n",
       "    <tr>\n",
       "      <th>9</th>\n",
       "      <td>256</td>\n",
       "      <td>0.559161</td>\n",
       "    </tr>\n",
       "    <tr>\n",
       "      <th>2</th>\n",
       "      <td>266</td>\n",
       "      <td>0.559296</td>\n",
       "    </tr>\n",
       "    <tr>\n",
       "      <th>0</th>\n",
       "      <td>271</td>\n",
       "      <td>0.559318</td>\n",
       "    </tr>\n",
       "    <tr>\n",
       "      <th>5</th>\n",
       "      <td>291</td>\n",
       "      <td>0.559640</td>\n",
       "    </tr>\n",
       "    <tr>\n",
       "      <th>4</th>\n",
       "      <td>351</td>\n",
       "      <td>0.559691</td>\n",
       "    </tr>\n",
       "  </tbody>\n",
       "</table>\n",
       "</div>"
      ],
      "text/plain": [
       "  param_n_neighbors  mean_test_roc_auc\n",
       "3                 1           0.513280\n",
       "7                31           0.544675\n",
       "1                66           0.553568\n",
       "6               186           0.558411\n",
       "8               191           0.558539\n",
       "9               256           0.559161\n",
       "2               266           0.559296\n",
       "0               271           0.559318\n",
       "5               291           0.559640\n",
       "4               351           0.559691"
      ]
     },
     "execution_count": 29,
     "metadata": {},
     "output_type": "execute_result"
    }
   ],
   "source": [
    "tmp1[[\"param_n_neighbors\",\"mean_test_roc_auc\"]]"
   ]
  },
  {
   "cell_type": "code",
   "execution_count": 30,
   "metadata": {},
   "outputs": [
    {
     "name": "stdout",
     "output_type": "stream",
     "text": [
      "Best score: 0.5596914781875\n",
      "Best params: \n",
      "n_neighbors: 351\n"
     ]
    }
   ],
   "source": [
    "print(\"Best score: {}\".format(clf.best_score_))    #best auc score as we took that for refit \n",
    "\n",
    "\n",
    "print(\"Best params: \")\n",
    "\n",
    "for param_name in sorted(params.keys()):\n",
    "    print('%s: %r' % (param_name, params[param_name]))"
   ]
  },
  {
   "cell_type": "code",
   "execution_count": 33,
   "metadata": {
    "scrolled": true
   },
   "outputs": [],
   "source": [
    "#update estimated hyperparameter values to new model\n",
    "from sklearn.neighbors import KNeighborsClassifier\n",
    "params = {'n_neighbors': 351}\n",
    "kfolds = StratifiedKFold(4, random_state=1)\n",
    "knn = KNeighborsClassifier(**params)\n",
    "# cross validation gini\n",
    "auc_cv = cross_val_score(knn, X_train[[\"CUS_LAT\",\"CUS_LONG\"]], y_train, scoring='roc_auc', cv=kfolds.split(X_train[[\"CUS_LAT\",\"CUS_LONG\"]], y_train),\n",
    "                         n_jobs=-1)\n",
    "gini_cv = (2 * np.array(auc_cv) - 1).mean()\n"
   ]
  },
  {
   "cell_type": "code",
   "execution_count": 34,
   "metadata": {},
   "outputs": [],
   "source": [
    "bst = knn.fit(X_train[[\"CUS_LAT\",\"CUS_LONG\"]], np.ravel(y_train))\n",
    "\n",
    "ypred_train = bst.predict_proba(X_train[[\"CUS_LAT\",\"CUS_LONG\"]])[:, 1]\n",
    "ypred_test = bst.predict_proba(X_test[[\"CUS_LAT\",\"CUS_LONG\"]])[:, 1]"
   ]
  },
  {
   "cell_type": "code",
   "execution_count": 35,
   "metadata": {},
   "outputs": [],
   "source": [
    "metric_auc_train = metrics.roc_auc_score(y_train, ypred_train)\n",
    "metric_auc_test = metrics.roc_auc_score(y_test, ypred_test)\n",
    "\n",
    "gini_train = 2 * metric_auc_train - 1\n",
    "gini_test = 2 * metric_auc_test - 1\n"
   ]
  },
  {
   "cell_type": "code",
   "execution_count": 36,
   "metadata": {},
   "outputs": [
    {
     "name": "stdout",
     "output_type": "stream",
     "text": [
      "GINI TRAIN: 14.67%\n",
      "\n",
      "GINI TEST: 7.97%\n",
      "\n",
      "GINI CV: 11.80%\n"
     ]
    }
   ],
   "source": [
    "print(\"GINI TRAIN:\",'{:,.2%}'.format(gini_train))\n",
    "print(\"\\nGINI TEST:\",'{:,.2%}'.format(gini_test))\n",
    "print(\"\\nGINI CV:\",'{:,.2%}'.format(gini_cv))"
   ]
  },
  {
   "cell_type": "code",
   "execution_count": 37,
   "metadata": {},
   "outputs": [
    {
     "name": "stderr",
     "output_type": "stream",
     "text": [
      "C:\\Users\\aman.khatri91425\\AppData\\Local\\Continuum\\anaconda3\\lib\\site-packages\\ipykernel_launcher.py:2: SettingWithCopyWarning: \n",
      "A value is trying to be set on a copy of a slice from a DataFrame.\n",
      "Try using .loc[row_indexer,col_indexer] = value instead\n",
      "\n",
      "See the caveats in the documentation: http://pandas.pydata.org/pandas-docs/stable/indexing.html#indexing-view-versus-copy\n",
      "  \n"
     ]
    }
   ],
   "source": [
    "df_train_under['FSTQ30_PRED_SCORE'] = ypred_train\n",
    "df_test['FSTQ30_PRED_SCORE'] = ypred_test"
   ]
  },
  {
   "cell_type": "code",
   "execution_count": 38,
   "metadata": {},
   "outputs": [
    {
     "data": {
      "text/html": [
       "<div>\n",
       "<style scoped>\n",
       "    .dataframe tbody tr th:only-of-type {\n",
       "        vertical-align: middle;\n",
       "    }\n",
       "\n",
       "    .dataframe tbody tr th {\n",
       "        vertical-align: top;\n",
       "    }\n",
       "\n",
       "    .dataframe thead th {\n",
       "        text-align: right;\n",
       "    }\n",
       "</style>\n",
       "<table border=\"1\" class=\"dataframe\">\n",
       "  <thead>\n",
       "    <tr style=\"text-align: right;\">\n",
       "      <th></th>\n",
       "      <th>SKP_CREDIT_CASE</th>\n",
       "      <th>TIME_DECISION_DATE</th>\n",
       "      <th>CUS_LAT</th>\n",
       "      <th>CUS_LONG</th>\n",
       "      <th>RISK_FPD10</th>\n",
       "      <th>RISK_FPD30</th>\n",
       "      <th>RISK_FSPD30</th>\n",
       "      <th>RISK_FSTPD30</th>\n",
       "      <th>RISK_FSTQPD30</th>\n",
       "      <th>RISK_FSTQPD60</th>\n",
       "      <th>NTC_FLAG</th>\n",
       "      <th>GRID_ID</th>\n",
       "      <th>RISK_SCORE</th>\n",
       "      <th>MONTH_STR</th>\n",
       "      <th>FSTQ30_PRED_SCORE</th>\n",
       "    </tr>\n",
       "  </thead>\n",
       "  <tbody>\n",
       "    <tr>\n",
       "      <th>927203</th>\n",
       "      <td>250099605</td>\n",
       "      <td>2019-08-31</td>\n",
       "      <td>12.995823</td>\n",
       "      <td>77.563810</td>\n",
       "      <td>0.0</td>\n",
       "      <td>0.0</td>\n",
       "      <td>0.0</td>\n",
       "      <td>0.0</td>\n",
       "      <td>0.0</td>\n",
       "      <td>0.0</td>\n",
       "      <td>NTC</td>\n",
       "      <td>500_01852_01255</td>\n",
       "      <td>0.108214</td>\n",
       "      <td>2019-08</td>\n",
       "      <td>0.527066</td>\n",
       "    </tr>\n",
       "    <tr>\n",
       "      <th>927204</th>\n",
       "      <td>250097214</td>\n",
       "      <td>2019-08-31</td>\n",
       "      <td>21.188661</td>\n",
       "      <td>72.837341</td>\n",
       "      <td>0.0</td>\n",
       "      <td>0.0</td>\n",
       "      <td>0.0</td>\n",
       "      <td>0.0</td>\n",
       "      <td>0.0</td>\n",
       "      <td>0.0</td>\n",
       "      <td>NTC</td>\n",
       "      <td>500_00920_03080</td>\n",
       "      <td>NaN</td>\n",
       "      <td>2019-08</td>\n",
       "      <td>0.538462</td>\n",
       "    </tr>\n",
       "    <tr>\n",
       "      <th>927208</th>\n",
       "      <td>249969747</td>\n",
       "      <td>2019-08-31</td>\n",
       "      <td>21.146680</td>\n",
       "      <td>72.875099</td>\n",
       "      <td>0.0</td>\n",
       "      <td>0.0</td>\n",
       "      <td>0.0</td>\n",
       "      <td>1.0</td>\n",
       "      <td>1.0</td>\n",
       "      <td>0.0</td>\n",
       "      <td>NTC</td>\n",
       "      <td>500_00927_03070</td>\n",
       "      <td>0.179697</td>\n",
       "      <td>2019-08</td>\n",
       "      <td>0.433048</td>\n",
       "    </tr>\n",
       "    <tr>\n",
       "      <th>927211</th>\n",
       "      <td>249547283</td>\n",
       "      <td>2019-08-31</td>\n",
       "      <td>12.930476</td>\n",
       "      <td>80.231302</td>\n",
       "      <td>0.0</td>\n",
       "      <td>0.0</td>\n",
       "      <td>0.0</td>\n",
       "      <td>0.0</td>\n",
       "      <td>0.0</td>\n",
       "      <td>0.0</td>\n",
       "      <td>NTC</td>\n",
       "      <td>500_02430_01236</td>\n",
       "      <td>0.096306</td>\n",
       "      <td>2019-08</td>\n",
       "      <td>0.606838</td>\n",
       "    </tr>\n",
       "    <tr>\n",
       "      <th>927217</th>\n",
       "      <td>250213185</td>\n",
       "      <td>2019-08-31</td>\n",
       "      <td>28.771554</td>\n",
       "      <td>77.260892</td>\n",
       "      <td>0.0</td>\n",
       "      <td>0.0</td>\n",
       "      <td>0.0</td>\n",
       "      <td>0.0</td>\n",
       "      <td>0.0</td>\n",
       "      <td>0.0</td>\n",
       "      <td>NTC</td>\n",
       "      <td>500_01853_04697</td>\n",
       "      <td>0.125433</td>\n",
       "      <td>2019-08</td>\n",
       "      <td>0.396011</td>\n",
       "    </tr>\n",
       "  </tbody>\n",
       "</table>\n",
       "</div>"
      ],
      "text/plain": [
       "        SKP_CREDIT_CASE TIME_DECISION_DATE    CUS_LAT   CUS_LONG  RISK_FPD10  \\\n",
       "927203        250099605         2019-08-31  12.995823  77.563810         0.0   \n",
       "927204        250097214         2019-08-31  21.188661  72.837341         0.0   \n",
       "927208        249969747         2019-08-31  21.146680  72.875099         0.0   \n",
       "927211        249547283         2019-08-31  12.930476  80.231302         0.0   \n",
       "927217        250213185         2019-08-31  28.771554  77.260892         0.0   \n",
       "\n",
       "        RISK_FPD30  RISK_FSPD30  RISK_FSTPD30  RISK_FSTQPD30  RISK_FSTQPD60  \\\n",
       "927203         0.0          0.0           0.0            0.0            0.0   \n",
       "927204         0.0          0.0           0.0            0.0            0.0   \n",
       "927208         0.0          0.0           1.0            1.0            0.0   \n",
       "927211         0.0          0.0           0.0            0.0            0.0   \n",
       "927217         0.0          0.0           0.0            0.0            0.0   \n",
       "\n",
       "       NTC_FLAG          GRID_ID  RISK_SCORE MONTH_STR  FSTQ30_PRED_SCORE  \n",
       "927203      NTC  500_01852_01255    0.108214   2019-08           0.527066  \n",
       "927204      NTC  500_00920_03080         NaN   2019-08           0.538462  \n",
       "927208      NTC  500_00927_03070    0.179697   2019-08           0.433048  \n",
       "927211      NTC  500_02430_01236    0.096306   2019-08           0.606838  \n",
       "927217      NTC  500_01853_04697    0.125433   2019-08           0.396011  "
      ]
     },
     "execution_count": 38,
     "metadata": {},
     "output_type": "execute_result"
    }
   ],
   "source": [
    "df_test.head()"
   ]
  },
  {
   "cell_type": "code",
   "execution_count": 39,
   "metadata": {},
   "outputs": [
    {
     "name": "stdout",
     "output_type": "stream",
     "text": [
      "FSTQPD30 Gini:  7.97\n"
     ]
    }
   ],
   "source": [
    "print(\"FSTQPD30 Gini: \" ,round((2*metrics.roc_auc_score(df_test[\"RISK_FSTQPD30\"],df_test[\"FSTQ30_PRED_SCORE\"])-1)*100,2))"
   ]
  },
  {
   "cell_type": "code",
   "execution_count": 40,
   "metadata": {},
   "outputs": [],
   "source": [
    "df_test.to_csv(os.getcwd()+\"\\\\all_scores_test_data_new.csv\")"
   ]
  },
  {
   "cell_type": "code",
   "execution_count": null,
   "metadata": {},
   "outputs": [],
   "source": []
  },
  {
   "cell_type": "code",
   "execution_count": null,
   "metadata": {},
   "outputs": [],
   "source": []
  },
  {
   "cell_type": "code",
   "execution_count": null,
   "metadata": {},
   "outputs": [],
   "source": []
  },
  {
   "cell_type": "markdown",
   "metadata": {},
   "source": [
    "# Combining Scores"
   ]
  },
  {
   "cell_type": "code",
   "execution_count": 340,
   "metadata": {},
   "outputs": [],
   "source": [
    "df_combined_score=df_test[['RISK_SCORE','F10_PRED_SCORE','F30_PRED_SCORE','FS30_PRED_SCORE',\n",
    "                           'FST30_PRED_SCORE','FSTQ30_PRED_SCORE','RISK_FSTQPD30','SKP_CREDIT_CASE','TIME_DECISION_DATE']]"
   ]
  },
  {
   "cell_type": "code",
   "execution_count": 341,
   "metadata": {},
   "outputs": [
    {
     "name": "stderr",
     "output_type": "stream",
     "text": [
      "C:\\Users\\aman.khatri91425\\AppData\\Local\\Continuum\\anaconda3\\lib\\site-packages\\ipykernel_launcher.py:1: SettingWithCopyWarning: \n",
      "A value is trying to be set on a copy of a slice from a DataFrame\n",
      "\n",
      "See the caveats in the documentation: http://pandas.pydata.org/pandas-docs/stable/indexing.html#indexing-view-versus-copy\n",
      "  \"\"\"Entry point for launching an IPython kernel.\n"
     ]
    }
   ],
   "source": [
    "df_combined_score.dropna(subset = ['RISK_SCORE'], inplace = True)"
   ]
  },
  {
   "cell_type": "code",
   "execution_count": 342,
   "metadata": {},
   "outputs": [
    {
     "name": "stderr",
     "output_type": "stream",
     "text": [
      "C:\\Users\\aman.khatri91425\\AppData\\Local\\Continuum\\anaconda3\\lib\\site-packages\\ipykernel_launcher.py:1: SettingWithCopyWarning: \n",
      "A value is trying to be set on a copy of a slice from a DataFrame.\n",
      "Try using .loc[row_indexer,col_indexer] = value instead\n",
      "\n",
      "See the caveats in the documentation: http://pandas.pydata.org/pandas-docs/stable/indexing.html#indexing-view-versus-copy\n",
      "  \"\"\"Entry point for launching an IPython kernel.\n",
      "C:\\Users\\aman.khatri91425\\AppData\\Local\\Continuum\\anaconda3\\lib\\site-packages\\ipykernel_launcher.py:2: SettingWithCopyWarning: \n",
      "A value is trying to be set on a copy of a slice from a DataFrame.\n",
      "Try using .loc[row_indexer,col_indexer] = value instead\n",
      "\n",
      "See the caveats in the documentation: http://pandas.pydata.org/pandas-docs/stable/indexing.html#indexing-view-versus-copy\n",
      "  \n",
      "C:\\Users\\aman.khatri91425\\AppData\\Local\\Continuum\\anaconda3\\lib\\site-packages\\ipykernel_launcher.py:3: SettingWithCopyWarning: \n",
      "A value is trying to be set on a copy of a slice from a DataFrame.\n",
      "Try using .loc[row_indexer,col_indexer] = value instead\n",
      "\n",
      "See the caveats in the documentation: http://pandas.pydata.org/pandas-docs/stable/indexing.html#indexing-view-versus-copy\n",
      "  This is separate from the ipykernel package so we can avoid doing imports until\n",
      "C:\\Users\\aman.khatri91425\\AppData\\Local\\Continuum\\anaconda3\\lib\\site-packages\\ipykernel_launcher.py:4: SettingWithCopyWarning: \n",
      "A value is trying to be set on a copy of a slice from a DataFrame.\n",
      "Try using .loc[row_indexer,col_indexer] = value instead\n",
      "\n",
      "See the caveats in the documentation: http://pandas.pydata.org/pandas-docs/stable/indexing.html#indexing-view-versus-copy\n",
      "  after removing the cwd from sys.path.\n",
      "C:\\Users\\aman.khatri91425\\AppData\\Local\\Continuum\\anaconda3\\lib\\site-packages\\ipykernel_launcher.py:5: SettingWithCopyWarning: \n",
      "A value is trying to be set on a copy of a slice from a DataFrame.\n",
      "Try using .loc[row_indexer,col_indexer] = value instead\n",
      "\n",
      "See the caveats in the documentation: http://pandas.pydata.org/pandas-docs/stable/indexing.html#indexing-view-versus-copy\n",
      "  \"\"\"\n",
      "C:\\Users\\aman.khatri91425\\AppData\\Local\\Continuum\\anaconda3\\lib\\site-packages\\ipykernel_launcher.py:6: SettingWithCopyWarning: \n",
      "A value is trying to be set on a copy of a slice from a DataFrame.\n",
      "Try using .loc[row_indexer,col_indexer] = value instead\n",
      "\n",
      "See the caveats in the documentation: http://pandas.pydata.org/pandas-docs/stable/indexing.html#indexing-view-versus-copy\n",
      "  \n"
     ]
    }
   ],
   "source": [
    "df_combined_score[\"LOGIT_RISK_SCORE\"] = [np.log(x/(1-x)) for x in df_combined_score[\"RISK_SCORE\"]]\n",
    "df_combined_score[\"LOGIT_F10_PRED_SCORE\"] = [np.log(x/(1-x)) for x in df_combined_score[\"F10_PRED_SCORE\"]]\n",
    "df_combined_score[\"LOGIT_F30_PRED_SCORE\"] = [np.log(x/(1-x)) for x in df_combined_score[\"F30_PRED_SCORE\"]]\n",
    "df_combined_score[\"LOGIT_FS30_PRED_SCORE\"] = [np.log(x/(1-x)) for x in df_combined_score[\"FS30_PRED_SCORE\"]]\n",
    "df_combined_score[\"LOGIT_FST30_PRED_SCORE\"] = [np.log(x/(1-x)) for x in df_combined_score[\"FST30_PRED_SCORE\"]]\n",
    "df_combined_score[\"LOGIT_FSTQ30_PRED_SCORE\"] = [np.log(x/(1-x)) for x in df_combined_score[\"FSTQ30_PRED_SCORE\"]]"
   ]
  },
  {
   "cell_type": "code",
   "execution_count": 343,
   "metadata": {},
   "outputs": [],
   "source": [
    "# pred_list = ['LOGIT_RISK_SCORE','LOGIT_F10_PRED_SCORE','LOGIT_F30_PRED_SCORE','LOGIT_FS30_PRED_SCORE',\n",
    "#              'LOGIT_FST30_PRED_SCORE','LOGIT_FSTQ30_PRED_SCORE']\n",
    "pred_list = ['LOGIT_F10_PRED_SCORE','LOGIT_F30_PRED_SCORE','LOGIT_FS30_PRED_SCORE',\n",
    "            'LOGIT_FST30_PRED_SCORE','LOGIT_FSTQ30_PRED_SCORE']"
   ]
  },
  {
   "cell_type": "code",
   "execution_count": 344,
   "metadata": {},
   "outputs": [
    {
     "name": "stderr",
     "output_type": "stream",
     "text": [
      "C:\\Users\\aman.khatri91425\\AppData\\Local\\Continuum\\anaconda3\\lib\\site-packages\\sklearn\\linear_model\\logistic.py:433: FutureWarning: Default solver will be changed to 'lbfgs' in 0.22. Specify a solver to silence this warning.\n",
      "  FutureWarning)\n"
     ]
    },
    {
     "data": {
      "text/plain": [
       "LogisticRegression(C=1.0, class_weight=None, dual=False, fit_intercept=True,\n",
       "          intercept_scaling=1, max_iter=100, multi_class='warn',\n",
       "          n_jobs=None, penalty='l2', random_state=None, solver='warn',\n",
       "          tol=0.0001, verbose=0, warm_start=False)"
      ]
     },
     "execution_count": 344,
     "metadata": {},
     "output_type": "execute_result"
    }
   ],
   "source": [
    "#Calculate Gini Lift Logistic Regression\n",
    "from sklearn.linear_model import LogisticRegression\n",
    "comb=LogisticRegression()\n",
    "comb.fit(df_combined_score[pred_list],df_combined_score[\"RISK_FSTQPD30\"])"
   ]
  },
  {
   "cell_type": "code",
   "execution_count": 345,
   "metadata": {},
   "outputs": [],
   "source": [
    "y_pred_comb=comb.predict_proba(df_combined_score[pred_list])[:,1]"
   ]
  },
  {
   "cell_type": "code",
   "execution_count": 346,
   "metadata": {},
   "outputs": [],
   "source": [
    "metric_auc_combined = metrics.roc_auc_score(df_combined_score[\"RISK_FSTQPD30\"], y_pred_comb)\n",
    "metric_auc_knn = metrics.roc_auc_score(df_combined_score[\"RISK_FSTQPD30\"], df_combined_score[\"FSTQ30_PRED_SCORE\"])\n",
    "metric_auc_hc = metrics.roc_auc_score(df_combined_score[\"RISK_FSTQPD30\"], df_combined_score[\"RISK_SCORE\"])\n",
    "\n",
    "\n",
    "gini_combined = 2 * metric_auc_combined - 1\n",
    "gini_knn = 2 * metric_auc_knn - 1\n",
    "gini_hc = 2 * metric_auc_hc - 1"
   ]
  },
  {
   "cell_type": "code",
   "execution_count": 347,
   "metadata": {},
   "outputs": [
    {
     "name": "stdout",
     "output_type": "stream",
     "text": [
      "gini_combined: 9.21%\n",
      "\n",
      "gini_knn: 9.08%\n",
      "\n",
      "gini_hc: 23.00%\n"
     ]
    }
   ],
   "source": [
    "print(\"gini_combined:\",'{:,.2%}'.format(gini_combined))\n",
    "print(\"\\ngini_knn:\",'{:,.2%}'.format(gini_knn))\n",
    "print(\"\\ngini_hc:\",'{:,.2%}'.format(gini_hc))"
   ]
  },
  {
   "cell_type": "code",
   "execution_count": 348,
   "metadata": {},
   "outputs": [
    {
     "name": "stdout",
     "output_type": "stream",
     "text": [
      "[[ 0.06848652  0.06309407 -0.01167015 -0.03306507  0.52242572]]\n",
      "[-2.60104712]\n"
     ]
    }
   ],
   "source": [
    "print(comb.coef_)\n",
    "print(comb.intercept_)"
   ]
  },
  {
   "cell_type": "code",
   "execution_count": 350,
   "metadata": {},
   "outputs": [
    {
     "data": {
      "text/plain": [
       "LOGIT_F10_PRED_SCORE       0.669609\n",
       "LOGIT_F30_PRED_SCORE       0.530641\n",
       "LOGIT_FS30_PRED_SCORE      0.626509\n",
       "LOGIT_FST30_PRED_SCORE     0.706093\n",
       "LOGIT_FSTQ30_PRED_SCORE    1.000000\n",
       "Name: LOGIT_FSTQ30_PRED_SCORE, dtype: float64"
      ]
     },
     "execution_count": 350,
     "metadata": {},
     "output_type": "execute_result"
    }
   ],
   "source": [
    "df_combined_score[pred_list].corr()[\"LOGIT_FSTQ30_PRED_SCORE\"]"
   ]
  },
  {
   "cell_type": "code",
   "execution_count": 353,
   "metadata": {},
   "outputs": [
    {
     "name": "stderr",
     "output_type": "stream",
     "text": [
      "C:\\Users\\aman.khatri91425\\AppData\\Local\\Continuum\\anaconda3\\lib\\site-packages\\ipykernel_launcher.py:2: SettingWithCopyWarning: \n",
      "A value is trying to be set on a copy of a slice from a DataFrame.\n",
      "Try using .loc[row_indexer,col_indexer] = value instead\n",
      "\n",
      "See the caveats in the documentation: http://pandas.pydata.org/pandas-docs/stable/indexing.html#indexing-view-versus-copy\n",
      "  \n"
     ]
    }
   ],
   "source": [
    "df_combined_score[\"MONTH_STR\"]= df_combined_score[\"TIME_DECISION_DATE\"].dt.strftime(\"%y-%m\") "
   ]
  },
  {
   "cell_type": "code",
   "execution_count": 387,
   "metadata": {},
   "outputs": [],
   "source": [
    "#Check Stability of Combined Model\n",
    "pred_list = ['LOGIT_RISK_SCORE','LOGIT_F10_PRED_SCORE','LOGIT_F30_PRED_SCORE','LOGIT_FS30_PRED_SCORE',\n",
    "              'LOGIT_FST30_PRED_SCORE','LOGIT_FSTQ30_PRED_SCORE']\n",
    "seed = 25522\n",
    "test_size = 0.3\n",
    "X_train, X_test, y_train, y_test = train_test_split(df_combined_score[pred_list],df_combined_score[\"RISK_FSTQPD30\"], test_size=test_size, random_state=seed)\n"
   ]
  },
  {
   "cell_type": "code",
   "execution_count": 388,
   "metadata": {},
   "outputs": [
    {
     "name": "stderr",
     "output_type": "stream",
     "text": [
      "C:\\Users\\aman.khatri91425\\AppData\\Local\\Continuum\\anaconda3\\lib\\site-packages\\sklearn\\linear_model\\logistic.py:433: FutureWarning: Default solver will be changed to 'lbfgs' in 0.22. Specify a solver to silence this warning.\n",
      "  FutureWarning)\n"
     ]
    }
   ],
   "source": [
    "from sklearn.linear_model import LogisticRegression\n",
    "comb=LogisticRegression()\n",
    "comb.fit(X_train[pred_list],y_train)\n",
    "y_pred_comb_train=comb.predict_proba(X_train[pred_list])[:,1]\n",
    "y_pred_comb_test=comb.predict_proba(X_test[pred_list])[:,1]\n"
   ]
  },
  {
   "cell_type": "code",
   "execution_count": 391,
   "metadata": {},
   "outputs": [
    {
     "name": "stdout",
     "output_type": "stream",
     "text": [
      "gini_combined_train: 24.19%\n",
      "\n",
      "gini_knn_train: 9.22%\n",
      "\n",
      "gini_hc_train: 22.94%\n",
      "\n",
      "gini_combined_test: 24.29%\n",
      "\n",
      "gini_knn_test: 8.76%\n",
      "\n",
      "gini_hc_test: 23.12%\n"
     ]
    }
   ],
   "source": [
    "metric_auc_combined_train = metrics.roc_auc_score(y_train, y_pred_comb_train)\n",
    "metric_auc_knn_train = metrics.roc_auc_score(y_train, X_train[\"LOGIT_FSTQ30_PRED_SCORE\"])\n",
    "metric_auc_hc_train = metrics.roc_auc_score(y_train, X_train[\"LOGIT_RISK_SCORE\"])\n",
    "\n",
    "metric_auc_combined_test = metrics.roc_auc_score(y_test, y_pred_comb_test)\n",
    "metric_auc_knn_test = metrics.roc_auc_score(y_test, X_test[\"LOGIT_FSTQ30_PRED_SCORE\"])\n",
    "metric_auc_hc_test = metrics.roc_auc_score(y_test, X_test[\"LOGIT_RISK_SCORE\"])\n",
    "\n",
    "\n",
    "\n",
    "gini_combined_train = 2 * metric_auc_combined_train - 1\n",
    "gini_knn_train = 2 * metric_auc_knn_train - 1\n",
    "gini_hc_train = 2 * metric_auc_hc_train- 1\n",
    "\n",
    "gini_combined_test = 2 * metric_auc_combined_test - 1\n",
    "gini_knn_test = 2 * metric_auc_knn_test - 1\n",
    "gini_hc_test = 2 * metric_auc_hc_test- 1\n",
    "\n",
    "print(\"gini_combined_train:\",'{:,.2%}'.format(gini_combined_train))\n",
    "print(\"\\ngini_knn_train:\",'{:,.2%}'.format(gini_knn_train))\n",
    "print(\"\\ngini_hc_train:\",'{:,.2%}'.format(gini_hc_train))\n",
    "\n",
    "print(\"\\ngini_combined_test:\",'{:,.2%}'.format(gini_combined_test))\n",
    "print(\"\\ngini_knn_test:\",'{:,.2%}'.format(gini_knn_test))\n",
    "print(\"\\ngini_hc_test:\",'{:,.2%}'.format(gini_hc_test))\n"
   ]
  },
  {
   "cell_type": "markdown",
   "metadata": {},
   "source": [
    "# MOM Gini of Risk Score"
   ]
  },
  {
   "cell_type": "code",
   "execution_count": 354,
   "metadata": {},
   "outputs": [
    {
     "data": {
      "text/html": [
       "<div>\n",
       "<style scoped>\n",
       "    .dataframe tbody tr th:only-of-type {\n",
       "        vertical-align: middle;\n",
       "    }\n",
       "\n",
       "    .dataframe tbody tr th {\n",
       "        vertical-align: top;\n",
       "    }\n",
       "\n",
       "    .dataframe thead th {\n",
       "        text-align: right;\n",
       "    }\n",
       "</style>\n",
       "<table border=\"1\" class=\"dataframe\">\n",
       "  <thead>\n",
       "    <tr style=\"text-align: right;\">\n",
       "      <th></th>\n",
       "      <th>Gini_F10</th>\n",
       "      <th>Gini_F30</th>\n",
       "      <th>Gini_FS30</th>\n",
       "      <th>Gini_FST30</th>\n",
       "      <th>Gini_FSTQ30</th>\n",
       "      <th>Gini_HC</th>\n",
       "    </tr>\n",
       "    <tr>\n",
       "      <th>Name</th>\n",
       "      <th></th>\n",
       "      <th></th>\n",
       "      <th></th>\n",
       "      <th></th>\n",
       "      <th></th>\n",
       "      <th></th>\n",
       "    </tr>\n",
       "  </thead>\n",
       "  <tbody>\n",
       "    <tr>\n",
       "      <th>19-06</th>\n",
       "      <td>0.071746</td>\n",
       "      <td>0.056158</td>\n",
       "      <td>0.065384</td>\n",
       "      <td>0.071019</td>\n",
       "      <td>0.095399</td>\n",
       "      <td>0.244382</td>\n",
       "    </tr>\n",
       "    <tr>\n",
       "      <th>19-07</th>\n",
       "      <td>0.064856</td>\n",
       "      <td>0.051779</td>\n",
       "      <td>0.057674</td>\n",
       "      <td>0.064178</td>\n",
       "      <td>0.086122</td>\n",
       "      <td>0.213149</td>\n",
       "    </tr>\n",
       "    <tr>\n",
       "      <th>19-08</th>\n",
       "      <td>0.072923</td>\n",
       "      <td>0.057765</td>\n",
       "      <td>0.062826</td>\n",
       "      <td>0.069528</td>\n",
       "      <td>0.090129</td>\n",
       "      <td>0.235431</td>\n",
       "    </tr>\n",
       "  </tbody>\n",
       "</table>\n",
       "</div>"
      ],
      "text/plain": [
       "       Gini_F10  Gini_F30  Gini_FS30  Gini_FST30  Gini_FSTQ30   Gini_HC\n",
       "Name                                                                   \n",
       "19-06  0.071746  0.056158   0.065384    0.071019     0.095399  0.244382\n",
       "19-07  0.064856  0.051779   0.057674    0.064178     0.086122  0.213149\n",
       "19-08  0.072923  0.057765   0.062826    0.069528     0.090129  0.235431"
      ]
     },
     "metadata": {},
     "output_type": "display_data"
    }
   ],
   "source": [
    "#MOM Gini\n",
    "#Month on Month Gini\n",
    "df1=df_combined_score\n",
    "RISK_SCORE = \"RISK_SCORE\"\n",
    "\n",
    "import sys\n",
    "sys.path.append(R'C:\\Users\\aman.khatri91425\\Desktop\\HomeCredit\\Bigdata\\Scoring Worlflow')\n",
    "from scoring.metrics import iv,gini,lift\n",
    "\n",
    "power_tab = []\n",
    "for j in df1[\"MONTH_STR\"].unique():\n",
    "    power_tab.append({'Name':j\n",
    "#                    ,'IV':iv(df1.loc[(df1['MONTH_STR']==j) & (df1['FOUND_FLAG']==1),\"RISK_FSTPD30\"], df1.loc[(df1['MONTH_STR']==j) & (df1['FOUND_FLAG']==1),\"YPRED\"])\n",
    "                    ,'Gini_HC':gini(df1.loc[(df1['MONTH_STR']==j),\"RISK_FSTQPD30\"], df1.loc[(df1['MONTH_STR']==j),RISK_SCORE])\n",
    "                    ,'Gini_F10':gini(df1.loc[(df1['MONTH_STR']==j),\"RISK_FSTQPD30\"], df1.loc[(df1['MONTH_STR']==j),\"F10_PRED_SCORE\"])        \n",
    "                    ,'Gini_F30':gini(df1.loc[(df1['MONTH_STR']==j),\"RISK_FSTQPD30\"], df1.loc[(df1['MONTH_STR']==j),\"F30_PRED_SCORE\"])        \n",
    "                    ,'Gini_FS30':gini(df1.loc[(df1['MONTH_STR']==j),\"RISK_FSTQPD30\"], df1.loc[(df1['MONTH_STR']==j),\"FS30_PRED_SCORE\"])        \n",
    "                    ,'Gini_FST30':gini(df1.loc[(df1['MONTH_STR']==j),\"RISK_FSTQPD30\"], df1.loc[(df1['MONTH_STR']==j),\"FST30_PRED_SCORE\"])        \n",
    "                    ,'Gini_FSTQ30':gini(df1.loc[(df1['MONTH_STR']==j),\"RISK_FSTQPD30\"], df1.loc[(df1['MONTH_STR']==j),\"FSTQ30_PRED_SCORE\"])                 \n",
    "                      #                    ,'Lift':lift(df1.loc[(df1['MONTH_STR']==j) & (df1['FOUND_FLAG']==1),\"RISK_FSTPD30\"], df1.loc[(df1['MONTH_STR']==j) & (df1['FOUND_FLAG']==1),\"YPRED\"])\n",
    "                         })\n",
    "    \n",
    "power_out = pd.DataFrame.from_records(power_tab)\n",
    "power_out = power_out.set_index('Name')\n",
    "power_out = power_out.sort_values('Name',ascending=True)\n",
    "\n",
    "pd.options.display.max_rows = 1000\n",
    "display(power_out)\n",
    "pd.options.display.max_rows = 15\n",
    "power_out.to_csv(r\"C:\\Users\\aman.khatri91425\\Desktop\\HomeCredit\\Bigdata\\Common Maps KNN\\mon_gini_short_targets.csv\")"
   ]
  },
  {
   "cell_type": "code",
   "execution_count": 445,
   "metadata": {},
   "outputs": [
    {
     "data": {
      "text/plain": [
       "0.2299559146174921"
      ]
     },
     "execution_count": 445,
     "metadata": {},
     "output_type": "execute_result"
    }
   ],
   "source": [
    "gini(df_combined_score[\"RISK_FSTQPD30\"],df_combined_score[\"RISK_SCORE\"])"
   ]
  },
  {
   "cell_type": "code",
   "execution_count": 461,
   "metadata": {},
   "outputs": [
    {
     "data": {
      "text/plain": [
       "0.1354710174679411"
      ]
     },
     "execution_count": 461,
     "metadata": {},
     "output_type": "execute_result"
    }
   ],
   "source": [
    "df_combined_score[\"RISK_SCORE\"].quantile(0.8)"
   ]
  },
  {
   "cell_type": "code",
   "execution_count": 464,
   "metadata": {},
   "outputs": [
    {
     "data": {
      "text/plain": [
       "0.22303642981519656"
      ]
     },
     "execution_count": 464,
     "metadata": {},
     "output_type": "execute_result"
    }
   ],
   "source": [
    "gini(df_combined_score[df_combined_score[\"RISK_SCORE\"] <= df_combined_score[\"RISK_SCORE\"].quantile(0.7)][\"RISK_FSTQPD30\"],df_combined_score[df_combined_score[\"RISK_SCORE\"] <= df_combined_score[\"RISK_SCORE\"].quantile(0.7)][\"RISK_SCORE\"])"
   ]
  },
  {
   "cell_type": "code",
   "execution_count": 465,
   "metadata": {},
   "outputs": [
    {
     "data": {
      "image/png": "[encoded data removed]",
      "text/plain": [
       "<Figure size 432x288 with 1 Axes>"
      ]
     },
     "metadata": {
      "needs_background": "light"
     },
     "output_type": "display_data"
    }
   ],
   "source": [
    "fpr, tpr, thresholds = metrics.roc_curve(df_combined_score[\"RISK_FSTQPD30\"], df_combined_score[\"RISK_SCORE\"])\n",
    "roc_auc = metrics.auc(fpr, tpr)\n",
    "plt.figure()\n",
    "\n",
    "lw = 1\n",
    "plt.plot(fpr, tpr, color='darkorange',\n",
    "         lw=lw, label='ROC curve (area = %0.2f)' % roc_auc)\n",
    "plt.plot([0, 1], [0, 1], color='navy', lw=lw, linestyle='--')\n",
    "plt.xlim([0.0, 1.0])\n",
    "plt.ylim([0.0, 1.05])\n",
    "plt.xlabel('False Positive Rate')\n",
    "plt.ylabel('True Positive Rate')\n",
    "plt.title('Receiver operating characteristic example')\n",
    "plt.legend(loc=\"lower right\")\n",
    "plt.show()"
   ]
  },
  {
   "cell_type": "code",
   "execution_count": 356,
   "metadata": {},
   "outputs": [
    {
     "data": {
      "text/html": [
       "<div>\n",
       "<style scoped>\n",
       "    .dataframe tbody tr th:only-of-type {\n",
       "        vertical-align: middle;\n",
       "    }\n",
       "\n",
       "    .dataframe tbody tr th {\n",
       "        vertical-align: top;\n",
       "    }\n",
       "\n",
       "    .dataframe thead th {\n",
       "        text-align: right;\n",
       "    }\n",
       "</style>\n",
       "<table border=\"1\" class=\"dataframe\">\n",
       "  <thead>\n",
       "    <tr style=\"text-align: right;\">\n",
       "      <th></th>\n",
       "      <th>Unnamed: 0</th>\n",
       "      <th>SKP_CREDIT_CASE</th>\n",
       "      <th>TIME_DECISION_DATE</th>\n",
       "      <th>CUS_LAT</th>\n",
       "      <th>CUS_LONG</th>\n",
       "      <th>RISK_FPD10</th>\n",
       "      <th>RISK_FPD30</th>\n",
       "      <th>RISK_FSPD30</th>\n",
       "      <th>RISK_FSTPD30</th>\n",
       "      <th>RISK_FSTQPD30</th>\n",
       "      <th>RISK_FSTQPD60</th>\n",
       "      <th>NTC_FLAG</th>\n",
       "      <th>RISK_SCORE</th>\n",
       "      <th>MONTH_STR</th>\n",
       "    </tr>\n",
       "  </thead>\n",
       "  <tbody>\n",
       "    <tr>\n",
       "      <th>0</th>\n",
       "      <td>0</td>\n",
       "      <td>273217442</td>\n",
       "      <td>2019-09-15</td>\n",
       "      <td>26.925771</td>\n",
       "      <td>75.823658</td>\n",
       "      <td>0.0</td>\n",
       "      <td>0.0</td>\n",
       "      <td>0.0</td>\n",
       "      <td>0.0</td>\n",
       "      <td>0.0</td>\n",
       "      <td>0.0</td>\n",
       "      <td>NTC</td>\n",
       "      <td>0.164707</td>\n",
       "      <td>2019-09</td>\n",
       "    </tr>\n",
       "    <tr>\n",
       "      <th>1</th>\n",
       "      <td>1</td>\n",
       "      <td>273217520</td>\n",
       "      <td>2019-09-15</td>\n",
       "      <td>28.704617</td>\n",
       "      <td>77.046645</td>\n",
       "      <td>0.0</td>\n",
       "      <td>0.0</td>\n",
       "      <td>0.0</td>\n",
       "      <td>0.0</td>\n",
       "      <td>0.0</td>\n",
       "      <td>0.0</td>\n",
       "      <td>NTC</td>\n",
       "      <td>0.111792</td>\n",
       "      <td>2019-09</td>\n",
       "    </tr>\n",
       "    <tr>\n",
       "      <th>2</th>\n",
       "      <td>2</td>\n",
       "      <td>273217523</td>\n",
       "      <td>2019-09-15</td>\n",
       "      <td>11.089342</td>\n",
       "      <td>77.336750</td>\n",
       "      <td>0.0</td>\n",
       "      <td>0.0</td>\n",
       "      <td>0.0</td>\n",
       "      <td>0.0</td>\n",
       "      <td>0.0</td>\n",
       "      <td>0.0</td>\n",
       "      <td>NTC</td>\n",
       "      <td>0.111993</td>\n",
       "      <td>2019-09</td>\n",
       "    </tr>\n",
       "    <tr>\n",
       "      <th>3</th>\n",
       "      <td>3</td>\n",
       "      <td>273217525</td>\n",
       "      <td>2019-09-15</td>\n",
       "      <td>19.179927</td>\n",
       "      <td>73.028721</td>\n",
       "      <td>0.0</td>\n",
       "      <td>0.0</td>\n",
       "      <td>0.0</td>\n",
       "      <td>0.0</td>\n",
       "      <td>0.0</td>\n",
       "      <td>0.0</td>\n",
       "      <td>Others</td>\n",
       "      <td>0.018660</td>\n",
       "      <td>2019-09</td>\n",
       "    </tr>\n",
       "    <tr>\n",
       "      <th>4</th>\n",
       "      <td>4</td>\n",
       "      <td>273217526</td>\n",
       "      <td>2019-09-15</td>\n",
       "      <td>12.917143</td>\n",
       "      <td>80.192349</td>\n",
       "      <td>0.0</td>\n",
       "      <td>0.0</td>\n",
       "      <td>0.0</td>\n",
       "      <td>0.0</td>\n",
       "      <td>0.0</td>\n",
       "      <td>0.0</td>\n",
       "      <td>Others</td>\n",
       "      <td>0.049166</td>\n",
       "      <td>2019-09</td>\n",
       "    </tr>\n",
       "  </tbody>\n",
       "</table>\n",
       "</div>"
      ],
      "text/plain": [
       "   Unnamed: 0  SKP_CREDIT_CASE TIME_DECISION_DATE    CUS_LAT   CUS_LONG  \\\n",
       "0           0        273217442         2019-09-15  26.925771  75.823658   \n",
       "1           1        273217520         2019-09-15  28.704617  77.046645   \n",
       "2           2        273217523         2019-09-15  11.089342  77.336750   \n",
       "3           3        273217525         2019-09-15  19.179927  73.028721   \n",
       "4           4        273217526         2019-09-15  12.917143  80.192349   \n",
       "\n",
       "   RISK_FPD10  RISK_FPD30  RISK_FSPD30  RISK_FSTPD30  RISK_FSTQPD30  \\\n",
       "0         0.0         0.0          0.0           0.0            0.0   \n",
       "1         0.0         0.0          0.0           0.0            0.0   \n",
       "2         0.0         0.0          0.0           0.0            0.0   \n",
       "3         0.0         0.0          0.0           0.0            0.0   \n",
       "4         0.0         0.0          0.0           0.0            0.0   \n",
       "\n",
       "   RISK_FSTQPD60 NTC_FLAG  RISK_SCORE MONTH_STR  \n",
       "0            0.0      NTC    0.164707   2019-09  \n",
       "1            0.0      NTC    0.111792   2019-09  \n",
       "2            0.0      NTC    0.111993   2019-09  \n",
       "3            0.0   Others    0.018660   2019-09  \n",
       "4            0.0   Others    0.049166   2019-09  "
      ]
     },
     "execution_count": 356,
     "metadata": {},
     "output_type": "execute_result"
    }
   ],
   "source": [
    "df.head()"
   ]
  },
  {
   "cell_type": "code",
   "execution_count": 375,
   "metadata": {},
   "outputs": [
    {
     "ename": "ValueError",
     "evalue": "continuous format is not supported",
     "output_type": "error",
     "traceback": [
      "\u001b[1;31m---------------------------------------------------------------------------\u001b[0m",
      "\u001b[1;31mValueError\u001b[0m                                Traceback (most recent call last)",
      "\u001b[1;32m<ipython-input-375-de12a052e54c>\u001b[0m in \u001b[0;36m<module>\u001b[1;34m\u001b[0m\n\u001b[0;32m     13\u001b[0m     power_tab.append({'Name':j\n\u001b[0;32m     14\u001b[0m \u001b[1;31m#                    ,'IV':iv(df1.loc[(df1['MONTH_STR']==j) & (df1['FOUND_FLAG']==1),\"RISK_FSTPD30\"], df1.loc[(df1['MONTH_STR']==j) & (df1['FOUND_FLAG']==1),\"YPRED\"])\u001b[0m\u001b[1;33m\u001b[0m\u001b[1;33m\u001b[0m\u001b[1;33m\u001b[0m\u001b[0m\n\u001b[1;32m---> 15\u001b[1;33m                     \u001b[1;33m,\u001b[0m\u001b[1;34m'Gini_F10'\u001b[0m\u001b[1;33m:\u001b[0m\u001b[0mgini\u001b[0m\u001b[1;33m(\u001b[0m\u001b[0mdf1\u001b[0m\u001b[1;33m.\u001b[0m\u001b[0mloc\u001b[0m\u001b[1;33m[\u001b[0m\u001b[1;33m(\u001b[0m\u001b[0mdf1\u001b[0m\u001b[1;33m[\u001b[0m\u001b[1;34m'MONTH_STR'\u001b[0m\u001b[1;33m]\u001b[0m\u001b[1;33m==\u001b[0m\u001b[0mj\u001b[0m\u001b[1;33m)\u001b[0m\u001b[1;33m,\u001b[0m\u001b[1;34m\"RISK_FPD10\"\u001b[0m\u001b[1;33m]\u001b[0m\u001b[1;33m,\u001b[0m \u001b[0mdf1\u001b[0m\u001b[1;33m.\u001b[0m\u001b[0mloc\u001b[0m\u001b[1;33m[\u001b[0m\u001b[1;33m(\u001b[0m\u001b[0mdf1\u001b[0m\u001b[1;33m[\u001b[0m\u001b[1;34m'MONTH_STR'\u001b[0m\u001b[1;33m]\u001b[0m\u001b[1;33m==\u001b[0m\u001b[0mj\u001b[0m\u001b[1;33m)\u001b[0m\u001b[1;33m,\u001b[0m\u001b[0mRISK_SCORE\u001b[0m\u001b[1;33m]\u001b[0m\u001b[1;33m)\u001b[0m\u001b[1;33m\u001b[0m\u001b[1;33m\u001b[0m\u001b[0m\n\u001b[0m\u001b[0;32m     16\u001b[0m                     \u001b[1;33m,\u001b[0m\u001b[1;34m'Gini_F30'\u001b[0m\u001b[1;33m:\u001b[0m\u001b[0mgini\u001b[0m\u001b[1;33m(\u001b[0m\u001b[0mdf1\u001b[0m\u001b[1;33m.\u001b[0m\u001b[0mloc\u001b[0m\u001b[1;33m[\u001b[0m\u001b[1;33m(\u001b[0m\u001b[0mdf1\u001b[0m\u001b[1;33m[\u001b[0m\u001b[1;34m'MONTH_STR'\u001b[0m\u001b[1;33m]\u001b[0m\u001b[1;33m==\u001b[0m\u001b[0mj\u001b[0m\u001b[1;33m)\u001b[0m\u001b[1;33m,\u001b[0m\u001b[1;34m\"RISK_FPD30\"\u001b[0m\u001b[1;33m]\u001b[0m\u001b[1;33m,\u001b[0m \u001b[0mdf1\u001b[0m\u001b[1;33m.\u001b[0m\u001b[0mloc\u001b[0m\u001b[1;33m[\u001b[0m\u001b[1;33m(\u001b[0m\u001b[0mdf1\u001b[0m\u001b[1;33m[\u001b[0m\u001b[1;34m'MONTH_STR'\u001b[0m\u001b[1;33m]\u001b[0m\u001b[1;33m==\u001b[0m\u001b[0mj\u001b[0m\u001b[1;33m)\u001b[0m\u001b[1;33m,\u001b[0m\u001b[0mRISK_SCORE\u001b[0m\u001b[1;33m]\u001b[0m\u001b[1;33m)\u001b[0m\u001b[1;33m\u001b[0m\u001b[1;33m\u001b[0m\u001b[0m\n\u001b[0;32m     17\u001b[0m                     \u001b[1;33m,\u001b[0m\u001b[1;34m'Gini_FS30'\u001b[0m\u001b[1;33m:\u001b[0m\u001b[0mgini\u001b[0m\u001b[1;33m(\u001b[0m\u001b[0mdf1\u001b[0m\u001b[1;33m.\u001b[0m\u001b[0mloc\u001b[0m\u001b[1;33m[\u001b[0m\u001b[1;33m(\u001b[0m\u001b[0mdf1\u001b[0m\u001b[1;33m[\u001b[0m\u001b[1;34m'MONTH_STR'\u001b[0m\u001b[1;33m]\u001b[0m\u001b[1;33m==\u001b[0m\u001b[0mj\u001b[0m\u001b[1;33m)\u001b[0m\u001b[1;33m,\u001b[0m\u001b[1;34m\"RISK_FSPD30\"\u001b[0m\u001b[1;33m]\u001b[0m\u001b[1;33m,\u001b[0m \u001b[0mdf1\u001b[0m\u001b[1;33m.\u001b[0m\u001b[0mloc\u001b[0m\u001b[1;33m[\u001b[0m\u001b[1;33m(\u001b[0m\u001b[0mdf1\u001b[0m\u001b[1;33m[\u001b[0m\u001b[1;34m'MONTH_STR'\u001b[0m\u001b[1;33m]\u001b[0m\u001b[1;33m==\u001b[0m\u001b[0mj\u001b[0m\u001b[1;33m)\u001b[0m\u001b[1;33m,\u001b[0m\u001b[0mRISK_SCORE\u001b[0m\u001b[1;33m]\u001b[0m\u001b[1;33m)\u001b[0m\u001b[1;33m\u001b[0m\u001b[1;33m\u001b[0m\u001b[0m\n",
      "\u001b[1;32m~\\Desktop\\HomeCredit\\Bigdata\\Scoring Worlflow\\scoring\\metrics.py\u001b[0m in \u001b[0;36mgini\u001b[1;34m(y_true, y_pred, sample_weight)\u001b[0m\n\u001b[0;32m     52\u001b[0m \u001b[1;33m\u001b[0m\u001b[0m\n\u001b[0;32m     53\u001b[0m     \"\"\"\n\u001b[1;32m---> 54\u001b[1;33m     \u001b[1;32mreturn\u001b[0m \u001b[1;36m2\u001b[0m\u001b[1;33m*\u001b[0m\u001b[0mroc_auc_score\u001b[0m\u001b[1;33m(\u001b[0m\u001b[0my_true\u001b[0m\u001b[1;33m,\u001b[0m \u001b[0my_pred\u001b[0m\u001b[1;33m,\u001b[0m \u001b[0msample_weight\u001b[0m\u001b[1;33m=\u001b[0m\u001b[0msample_weight\u001b[0m\u001b[1;33m)\u001b[0m\u001b[1;33m-\u001b[0m\u001b[1;36m1\u001b[0m\u001b[1;33m\u001b[0m\u001b[1;33m\u001b[0m\u001b[0m\n\u001b[0m\u001b[0;32m     55\u001b[0m \u001b[1;33m\u001b[0m\u001b[0m\n\u001b[0;32m     56\u001b[0m \u001b[1;33m\u001b[0m\u001b[0m\n",
      "\u001b[1;32m~\\AppData\\Local\\Continuum\\anaconda3\\lib\\site-packages\\sklearn\\metrics\\ranking.py\u001b[0m in \u001b[0;36mroc_auc_score\u001b[1;34m(y_true, y_score, average, sample_weight, max_fpr)\u001b[0m\n\u001b[0;32m    354\u001b[0m     return _average_binary_score(\n\u001b[0;32m    355\u001b[0m         \u001b[0m_binary_roc_auc_score\u001b[0m\u001b[1;33m,\u001b[0m \u001b[0my_true\u001b[0m\u001b[1;33m,\u001b[0m \u001b[0my_score\u001b[0m\u001b[1;33m,\u001b[0m \u001b[0maverage\u001b[0m\u001b[1;33m,\u001b[0m\u001b[1;33m\u001b[0m\u001b[1;33m\u001b[0m\u001b[0m\n\u001b[1;32m--> 356\u001b[1;33m         sample_weight=sample_weight)\n\u001b[0m\u001b[0;32m    357\u001b[0m \u001b[1;33m\u001b[0m\u001b[0m\n\u001b[0;32m    358\u001b[0m \u001b[1;33m\u001b[0m\u001b[0m\n",
      "\u001b[1;32m~\\AppData\\Local\\Continuum\\anaconda3\\lib\\site-packages\\sklearn\\metrics\\base.py\u001b[0m in \u001b[0;36m_average_binary_score\u001b[1;34m(binary_metric, y_true, y_score, average, sample_weight)\u001b[0m\n\u001b[0;32m     72\u001b[0m     \u001b[0my_type\u001b[0m \u001b[1;33m=\u001b[0m \u001b[0mtype_of_target\u001b[0m\u001b[1;33m(\u001b[0m\u001b[0my_true\u001b[0m\u001b[1;33m)\u001b[0m\u001b[1;33m\u001b[0m\u001b[1;33m\u001b[0m\u001b[0m\n\u001b[0;32m     73\u001b[0m     \u001b[1;32mif\u001b[0m \u001b[0my_type\u001b[0m \u001b[1;32mnot\u001b[0m \u001b[1;32min\u001b[0m \u001b[1;33m(\u001b[0m\u001b[1;34m\"binary\"\u001b[0m\u001b[1;33m,\u001b[0m \u001b[1;34m\"multilabel-indicator\"\u001b[0m\u001b[1;33m)\u001b[0m\u001b[1;33m:\u001b[0m\u001b[1;33m\u001b[0m\u001b[1;33m\u001b[0m\u001b[0m\n\u001b[1;32m---> 74\u001b[1;33m         \u001b[1;32mraise\u001b[0m \u001b[0mValueError\u001b[0m\u001b[1;33m(\u001b[0m\u001b[1;34m\"{0} format is not supported\"\u001b[0m\u001b[1;33m.\u001b[0m\u001b[0mformat\u001b[0m\u001b[1;33m(\u001b[0m\u001b[0my_type\u001b[0m\u001b[1;33m)\u001b[0m\u001b[1;33m)\u001b[0m\u001b[1;33m\u001b[0m\u001b[1;33m\u001b[0m\u001b[0m\n\u001b[0m\u001b[0;32m     75\u001b[0m \u001b[1;33m\u001b[0m\u001b[0m\n\u001b[0;32m     76\u001b[0m     \u001b[1;32mif\u001b[0m \u001b[0my_type\u001b[0m \u001b[1;33m==\u001b[0m \u001b[1;34m\"binary\"\u001b[0m\u001b[1;33m:\u001b[0m\u001b[1;33m\u001b[0m\u001b[1;33m\u001b[0m\u001b[0m\n",
      "\u001b[1;31mValueError\u001b[0m: continuous format is not supported"
     ]
    }
   ],
   "source": [
    "#MOM Gini\n",
    "#Month on Month Gini\n",
    "df1=df.dropna(subset = [\"RISK_SCORE\"])[[\"RISK_SCORE\",\"RISK_FPD10\",\"RISK_FPD30\",\n",
    "                                       \"RISK_FSPD30\",\"RISK_FSTPD30\",\"RISK_FSTQPD30\",\"RISK_FSTQPD60\",\"MONTH_STR\"]]\n",
    "RISK_SCORE = \"RISK_SCORE\"\n",
    "\n",
    "import sys\n",
    "sys.path.append(R'C:\\Users\\aman.khatri91425\\Desktop\\HomeCredit\\Bigdata\\Scoring Worlflow')\n",
    "from scoring.metrics import iv,gini,lift\n",
    "\n",
    "power_tab = []\n",
    "for j in df1[\"MONTH_STR\"].unique():\n",
    "    power_tab.append({'Name':j\n",
    "#                    ,'IV':iv(df1.loc[(df1['MONTH_STR']==j) & (df1['FOUND_FLAG']==1),\"RISK_FSTPD30\"], df1.loc[(df1['MONTH_STR']==j) & (df1['FOUND_FLAG']==1),\"YPRED\"])\n",
    "                    ,'Gini_F10':gini(df1.loc[(df1['MONTH_STR']==j),\"RISK_FPD10\"], df1.loc[(df1['MONTH_STR']==j),RISK_SCORE])        \n",
    "                    ,'Gini_F30':gini(df1.loc[(df1['MONTH_STR']==j),\"RISK_FPD30\"], df1.loc[(df1['MONTH_STR']==j),RISK_SCORE])        \n",
    "                    ,'Gini_FS30':gini(df1.loc[(df1['MONTH_STR']==j),\"RISK_FSPD30\"], df1.loc[(df1['MONTH_STR']==j),RISK_SCORE])        \n",
    "                    ,'Gini_FST30':gini(df1.loc[(df1['MONTH_STR']==j),\"RISK_FSTPD30\"], df1.loc[(df1['MONTH_STR']==j),RISK_SCORE])        \n",
    "                    ,'Gini_FSTQ30':gini(df1.loc[(df1['MONTH_STR']==j),\"RISK_FSTQPD30\"], df1.loc[(df1['MONTH_STR']==j),RISK_SCORE])        \n",
    "                    ,'Gini_FSTQ60':gini(df1.loc[(df1['MONTH_STR']==j),\"RISK_FSTQPD60\"], df1.loc[(df1['MONTH_STR']==j),RISK_SCORE])        \n",
    "                     #                    ,'Lift':lift(df1.loc[(df1['MONTH_STR']==j) & (df1['FOUND_FLAG']==1),\"RISK_FSTPD30\"], df1.loc[(df1['MONTH_STR']==j) & (df1['FOUND_FLAG']==1),\"YPRED\"])\n",
    "                         })\n",
    "    \n",
    "power_out = pd.DataFrame.from_records(power_tab)\n",
    "power_out = power_out.set_index('Name')\n",
    "power_out = power_out.sort_values('Name',ascending=True)\n",
    "\n",
    "print(\"HC SCORE on different delinquencies:\")\n",
    "pd.options.display.max_rows = 1000\n",
    "display(power_out)\n",
    "pd.options.display.max_rows = 15\n",
    "power_out.to_csv(r\"C:\\Users\\aman.khatri91425\\Desktop\\HomeCredit\\Bigdata\\Common Maps KNN\\mon_gini_short_targets_hc_performance.csv\")"
   ]
  },
  {
   "cell_type": "code",
   "execution_count": 384,
   "metadata": {},
   "outputs": [
    {
     "name": "stdout",
     "output_type": "stream",
     "text": [
      "HC SCORE on different delinquencies:\n"
     ]
    },
    {
     "data": {
      "text/html": [
       "<div>\n",
       "<style scoped>\n",
       "    .dataframe tbody tr th:only-of-type {\n",
       "        vertical-align: middle;\n",
       "    }\n",
       "\n",
       "    .dataframe tbody tr th {\n",
       "        vertical-align: top;\n",
       "    }\n",
       "\n",
       "    .dataframe thead th {\n",
       "        text-align: right;\n",
       "    }\n",
       "</style>\n",
       "<table border=\"1\" class=\"dataframe\">\n",
       "  <thead>\n",
       "    <tr style=\"text-align: right;\">\n",
       "      <th></th>\n",
       "      <th>Gini_F10</th>\n",
       "      <th>Gini_F30</th>\n",
       "      <th>Gini_FS30</th>\n",
       "      <th>Gini_FST30</th>\n",
       "      <th>Gini_FSTQ30</th>\n",
       "      <th>Gini_FSTQ60</th>\n",
       "    </tr>\n",
       "    <tr>\n",
       "      <th>Name</th>\n",
       "      <th></th>\n",
       "      <th></th>\n",
       "      <th></th>\n",
       "      <th></th>\n",
       "      <th></th>\n",
       "      <th></th>\n",
       "    </tr>\n",
       "  </thead>\n",
       "  <tbody>\n",
       "    <tr>\n",
       "      <th>2018-12</th>\n",
       "      <td>0.256943</td>\n",
       "      <td>0.317879</td>\n",
       "      <td>0.306821</td>\n",
       "      <td>0.293691</td>\n",
       "      <td>0.279463</td>\n",
       "      <td>0.306009</td>\n",
       "    </tr>\n",
       "    <tr>\n",
       "      <th>2019-01</th>\n",
       "      <td>0.232200</td>\n",
       "      <td>0.310658</td>\n",
       "      <td>0.291864</td>\n",
       "      <td>0.278712</td>\n",
       "      <td>0.263591</td>\n",
       "      <td>0.292517</td>\n",
       "    </tr>\n",
       "    <tr>\n",
       "      <th>2019-02</th>\n",
       "      <td>0.230808</td>\n",
       "      <td>0.317527</td>\n",
       "      <td>0.292573</td>\n",
       "      <td>0.272711</td>\n",
       "      <td>0.262214</td>\n",
       "      <td>0.286908</td>\n",
       "    </tr>\n",
       "    <tr>\n",
       "      <th>2019-03</th>\n",
       "      <td>0.210412</td>\n",
       "      <td>0.293918</td>\n",
       "      <td>0.265104</td>\n",
       "      <td>0.254410</td>\n",
       "      <td>0.250888</td>\n",
       "      <td>0.268075</td>\n",
       "    </tr>\n",
       "    <tr>\n",
       "      <th>2019-04</th>\n",
       "      <td>0.213090</td>\n",
       "      <td>0.277023</td>\n",
       "      <td>0.273908</td>\n",
       "      <td>0.265336</td>\n",
       "      <td>0.262403</td>\n",
       "      <td>0.283961</td>\n",
       "    </tr>\n",
       "    <tr>\n",
       "      <th>2019-05</th>\n",
       "      <td>0.216727</td>\n",
       "      <td>0.275410</td>\n",
       "      <td>0.275229</td>\n",
       "      <td>0.272569</td>\n",
       "      <td>0.269246</td>\n",
       "      <td>0.284790</td>\n",
       "    </tr>\n",
       "    <tr>\n",
       "      <th>2019-06</th>\n",
       "      <td>0.201487</td>\n",
       "      <td>0.261063</td>\n",
       "      <td>0.254791</td>\n",
       "      <td>0.250288</td>\n",
       "      <td>0.244382</td>\n",
       "      <td>0.263895</td>\n",
       "    </tr>\n",
       "    <tr>\n",
       "      <th>2019-07</th>\n",
       "      <td>0.147145</td>\n",
       "      <td>0.193038</td>\n",
       "      <td>0.195669</td>\n",
       "      <td>0.206151</td>\n",
       "      <td>0.213149</td>\n",
       "      <td>0.226075</td>\n",
       "    </tr>\n",
       "    <tr>\n",
       "      <th>2019-08</th>\n",
       "      <td>0.182344</td>\n",
       "      <td>0.247015</td>\n",
       "      <td>0.246054</td>\n",
       "      <td>0.232595</td>\n",
       "      <td>0.235431</td>\n",
       "      <td>0.251215</td>\n",
       "    </tr>\n",
       "    <tr>\n",
       "      <th>2019-09</th>\n",
       "      <td>0.181855</td>\n",
       "      <td>0.259666</td>\n",
       "      <td>0.254413</td>\n",
       "      <td>0.238413</td>\n",
       "      <td>0.244015</td>\n",
       "      <td>0.803228</td>\n",
       "    </tr>\n",
       "  </tbody>\n",
       "</table>\n",
       "</div>"
      ],
      "text/plain": [
       "         Gini_F10  Gini_F30  Gini_FS30  Gini_FST30  Gini_FSTQ30  Gini_FSTQ60\n",
       "Name                                                                        \n",
       "2018-12  0.256943  0.317879   0.306821    0.293691     0.279463     0.306009\n",
       "2019-01  0.232200  0.310658   0.291864    0.278712     0.263591     0.292517\n",
       "2019-02  0.230808  0.317527   0.292573    0.272711     0.262214     0.286908\n",
       "2019-03  0.210412  0.293918   0.265104    0.254410     0.250888     0.268075\n",
       "2019-04  0.213090  0.277023   0.273908    0.265336     0.262403     0.283961\n",
       "2019-05  0.216727  0.275410   0.275229    0.272569     0.269246     0.284790\n",
       "2019-06  0.201487  0.261063   0.254791    0.250288     0.244382     0.263895\n",
       "2019-07  0.147145  0.193038   0.195669    0.206151     0.213149     0.226075\n",
       "2019-08  0.182344  0.247015   0.246054    0.232595     0.235431     0.251215\n",
       "2019-09  0.181855  0.259666   0.254413    0.238413     0.244015     0.803228"
      ]
     },
     "metadata": {},
     "output_type": "display_data"
    }
   ],
   "source": [
    "power_out = pd.DataFrame.from_records(power_tab)\n",
    "power_out = power_out.set_index('Name')\n",
    "power_out = power_out.sort_values('Name',ascending=True)\n",
    "\n",
    "print(\"HC SCORE on different delinquencies:\")\n",
    "pd.options.display.max_rows = 1000\n",
    "display(power_out)\n",
    "pd.options.display.max_rows = 15\n",
    "power_out.to_csv(r\"C:\\Users\\aman.khatri91425\\Desktop\\HomeCredit\\Bigdata\\Common Maps KNN\\mon_gini_short_targets_hc_performance.csv\")"
   ]
  },
  {
   "cell_type": "code",
   "execution_count": null,
   "metadata": {},
   "outputs": [],
   "source": []
  },
  {
   "cell_type": "code",
   "execution_count": null,
   "metadata": {},
   "outputs": [],
   "source": []
  },
  {
   "cell_type": "markdown",
   "metadata": {},
   "source": [
    "# Check Impact of Training Data Duration"
   ]
  },
  {
   "cell_type": "code",
   "execution_count": 412,
   "metadata": {},
   "outputs": [
    {
     "name": "stdout",
     "output_type": "stream",
     "text": [
      "\n",
      "\n",
      " X = 1\n",
      "(4699041, 14)\n",
      "(1078674, 19)\n",
      "Random under-sampling:\n",
      "1.0    339473\n",
      "0.0    339473\n",
      "Name: RISK_FSTQPD30, dtype: int64\n",
      "Randomized search..\n",
      "Randomized search time: 1092.6841881275177\n",
      "AxesSubplot(0.125,0.125;0.775x0.755)\n",
      "Best score: 0.5425710426218738\n",
      "n_neighbors: 336\n",
      "GINI TRAIN: 15.43%\n",
      "GINI TEST: 9.02%\n",
      "GINI CV: 10.27%\n",
      "\n",
      "\n",
      " X = 2\n",
      "(4261124, 14)\n",
      "(1078674, 19)\n",
      "Random under-sampling:\n",
      "1.0    303168\n",
      "0.0    303168\n",
      "Name: RISK_FSTQPD30, dtype: int64\n",
      "Randomized search..\n",
      "Randomized search time: 1067.301118850708\n",
      "AxesSubplot(0.125,0.125;0.775x0.755)\n",
      "Best score: 0.5486814660416683\n",
      "n_neighbors: 336\n",
      "GINI TRAIN: 15.66%\n",
      "GINI TEST: 8.98%\n",
      "GINI CV: 10.48%\n",
      "\n",
      "\n",
      " X = 3\n",
      "(3889510, 14)\n",
      "(1078674, 19)\n",
      "Random under-sampling:\n",
      "1.0    271905\n",
      "0.0    271905\n",
      "Name: RISK_FSTQPD30, dtype: int64\n",
      "Randomized search..\n",
      "Randomized search time: 936.3307931423187\n",
      "AxesSubplot(0.125,0.125;0.775x0.755)\n",
      "Best score: 0.5527668901473513\n",
      "n_neighbors: 321\n",
      "GINI TRAIN: 15.96%\n",
      "GINI TEST: 8.96%\n",
      "GINI CV: 11.36%\n",
      "\n",
      "\n",
      " X = 4\n",
      "(3493389, 14)\n",
      "(1078674, 19)\n",
      "Random under-sampling:\n",
      "1.0    239712\n",
      "0.0    239712\n",
      "Name: RISK_FSTQPD30, dtype: int64\n",
      "Randomized search..\n",
      "Randomized search time: 728.3252983093262\n",
      "AxesSubplot(0.125,0.125;0.775x0.755)\n",
      "Best score: 0.5554181986662596\n",
      "n_neighbors: 336\n",
      "GINI TRAIN: 16.15%\n",
      "GINI TEST: 8.88%\n",
      "GINI CV: 11.98%\n",
      "\n",
      "\n",
      " X = 5\n",
      "(3084899, 14)\n",
      "(1078674, 19)\n",
      "Random under-sampling:\n",
      "1.0    207022\n",
      "0.0    207022\n",
      "Name: RISK_FSTQPD30, dtype: int64\n",
      "Randomized search..\n",
      "Randomized search time: 593.6162486076355\n",
      "AxesSubplot(0.125,0.125;0.775x0.755)\n",
      "Best score: 0.5548612793520963\n",
      "n_neighbors: 321\n",
      "GINI TRAIN: 16.04%\n",
      "GINI TEST: 8.88%\n",
      "GINI CV: 11.77%\n",
      "\n",
      "\n",
      " X = 6\n",
      "(2687062, 14)\n",
      "(1078674, 19)\n",
      "Random under-sampling:\n",
      "1.0    177533\n",
      "0.0    177533\n",
      "Name: RISK_FSTQPD30, dtype: int64\n",
      "Randomized search..\n",
      "Randomized search time: 478.9171233177185\n",
      "AxesSubplot(0.125,0.125;0.775x0.755)\n",
      "Best score: 0.5511698302274853\n",
      "n_neighbors: 291\n",
      "GINI TRAIN: 15.95%\n",
      "GINI TEST: 9.12%\n",
      "GINI CV: 11.03%\n",
      "\n",
      "\n",
      " X = 7\n",
      "(2317134, 14)\n",
      "(1078674, 19)\n",
      "Random under-sampling:\n",
      "1.0    153417\n",
      "0.0    153417\n",
      "Name: RISK_FSTQPD30, dtype: int64\n",
      "Randomized search..\n",
      "Randomized search time: 401.1196746826172\n",
      "AxesSubplot(0.125,0.125;0.775x0.755)\n",
      "Best score: 0.5486141963919007\n",
      "n_neighbors: 291\n",
      "GINI TRAIN: 15.75%\n",
      "GINI TEST: 8.92%\n",
      "GINI CV: 10.84%\n",
      "\n",
      "\n",
      " X = 8\n",
      "(1964584, 14)\n",
      "(1078674, 19)\n",
      "Random under-sampling:\n",
      "1.0    132947\n",
      "0.0    132947\n",
      "Name: RISK_FSTQPD30, dtype: int64\n",
      "Randomized search..\n",
      "Randomized search time: 338.8097996711731\n",
      "AxesSubplot(0.125,0.125;0.775x0.755)\n",
      "Best score: 0.5492434830307945\n",
      "n_neighbors: 206\n",
      "GINI TRAIN: 16.62%\n",
      "GINI TEST: 9.02%\n",
      "GINI CV: 10.53%\n"
     ]
    },
    {
     "data": {
      "image/png": "[encoded data removed]",
      "text/plain": [
       "<Figure size 432x288 with 1 Axes>"
      ]
     },
     "metadata": {
      "needs_background": "light"
     },
     "output_type": "display_data"
    },
    {
     "data": {
      "image/png": "[encoded data removed]",
      "text/plain": [
       "<Figure size 432x288 with 1 Axes>"
      ]
     },
     "metadata": {
      "needs_background": "light"
     },
     "output_type": "display_data"
    },
    {
     "data": {
      "image/png": "[encoded data removed]",
      "text/plain": [
       "<Figure size 432x288 with 1 Axes>"
      ]
     },
     "metadata": {
      "needs_background": "light"
     },
     "output_type": "display_data"
    },
    {
     "data": {
      "image/png": "[encoded data removed]",
      "text/plain": [
       "<Figure size 432x288 with 1 Axes>"
      ]
     },
     "metadata": {
      "needs_background": "light"
     },
     "output_type": "display_data"
    },
    {
     "data": {
      "image/png": "[encoded data removed]",
      "text/plain": [
       "<Figure size 432x288 with 1 Axes>"
      ]
     },
     "metadata": {
      "needs_background": "light"
     },
     "output_type": "display_data"
    },
    {
     "data": {
      "image/png": "[encoded data removed]",
      "text/plain": [
       "<Figure size 432x288 with 1 Axes>"
      ]
     },
     "metadata": {
      "needs_background": "light"
     },
     "output_type": "display_data"
    },
    {
     "data": {
      "image/png": "[encoded data removed]",
      "text/plain": [
       "<Figure size 432x288 with 1 Axes>"
      ]
     },
     "metadata": {
      "needs_background": "light"
     },
     "output_type": "display_data"
    },
    {
     "data": {
      "image/png": "[encoded data removed]",
      "text/plain": [
       "<Figure size 432x288 with 1 Axes>"
      ]
     },
     "metadata": {
      "needs_background": "light"
     },
     "output_type": "display_data"
    }
   ],
   "source": [
    "for x in np.arange(1,9,1):\n",
    "    # Split Train and Test Data Set\n",
    "    df_train = df[(df[\"TIME_DECISION_DATE\"]>=datetime.datetime(2018, x, 1)) & \n",
    "                  (df[\"TIME_DECISION_DATE\"]<=datetime.datetime(2019, 1, 1))]\n",
    "    # df_test = df[(df[\"TIME_DECISION_DATE\"]>=datetime.datetime(2019, 6, 1)) & \n",
    "    #               (df[\"TIME_DECISION_DATE\"]<=datetime.datetime(2019, 8, 31))]\n",
    "    print('\\n\\n X =',x)\n",
    "    print(df_train.shape)\n",
    "    print(df_test.shape)\n",
    "    df_train.RISK_FSTQPD30.value_counts()\n",
    "\n",
    "    target = \"RISK_FSTQPD30\"\n",
    "\n",
    "    #Downsampling Code \n",
    "    count_class_0, count_class_1 = df_train.RISK_FSTQPD30.value_counts()\n",
    "    df_class_0 = df_train[df_train[target] == 0]\n",
    "    df_class_1 = df_train[df_train[target] == 1]\n",
    "    df_class_0_under = df_class_0.sample(count_class_1, random_state = 2)\n",
    "    df_train_under = pd.concat([df_class_0_under, df_class_1], axis=0)\n",
    "    print('Random under-sampling:')\n",
    "    print(df_train_under[target].value_counts())\n",
    "    #df_train_under[target].value_counts().plot(kind='bar', title='Count (target)');\n",
    "\n",
    "    X_train = df_train_under[[\"CUS_LAT\",\"CUS_LONG\",\"RISK_SCORE\",\"TIME_DECISION_DATE\"]]\n",
    "    X_test = df_test[[\"CUS_LAT\",\"CUS_LONG\",\"RISK_SCORE\",\"TIME_DECISION_DATE\"]]\n",
    "    y_train = df_train_under[target]\n",
    "    y_test =  df_test[target]\n",
    "\n",
    "    param_grid = {'n_neighbors': np.arange(1,350,5)\n",
    "                }\n",
    "    seed = 25\n",
    "\n",
    "    from sklearn.neighbors import KNeighborsClassifier\n",
    "    # Create KNN classifier\n",
    "    knn = KNeighborsClassifier(weights = 'uniform')\n",
    "    kfolds = StratifiedKFold(3, random_state=1)\n",
    "\n",
    "    clf = RandomizedSearchCV(estimator=knn, param_distributions=param_grid, scoring=['roc_auc'], n_iter=10,\n",
    "                             random_state=seed, cv=kfolds.split(X_train[[\"CUS_LAT\",\"CUS_LONG\"]], y_train), refit='roc_auc',error_score=0, return_train_score =True)\n",
    "\n",
    "\n",
    "    print(\"Randomized search..\")\n",
    "\n",
    "    search_time_start = time.time()\n",
    "    clf.fit(X_train[[\"CUS_LAT\",\"CUS_LONG\"]], np.ravel(y_train))\n",
    "    print(\"Randomized search time:\", time.time() - search_time_start)\n",
    "\n",
    "    params = clf.best_params_   #get best parameters\n",
    "    dic=clf.cv_results_    #provides scoring results for each iteration, 50 in this case, mean values can be used \n",
    "    tmp= pd.DataFrame(dic['params'])\n",
    "    tmp1= pd.DataFrame(dic)[[\"param_n_neighbors\",\"mean_test_roc_auc\",\"mean_train_roc_auc\"]].sort_values(by = 'param_n_neighbors')\n",
    "    print(tmp1[[\"param_n_neighbors\",\"mean_test_roc_auc\"]].plot(x=\"param_n_neighbors\"))\n",
    "\n",
    "    print(\"Best score: {}\".format(clf.best_score_))    #best auc score as we took that for refit \n",
    "    for param_name in sorted(params.keys()):\n",
    "        print('%s: %r' % (param_name, params[param_name]))\n",
    "\n",
    "    #update estimated hyperparameter values to new model\n",
    "    params = {'n_neighbors': params['n_neighbors']}\n",
    "    kfolds = StratifiedKFold(4, random_state=1)\n",
    "    knn = KNeighborsClassifier(**params)\n",
    "    # cross validation gini\n",
    "    auc_cv = cross_val_score(knn, X_train[[\"CUS_LAT\",\"CUS_LONG\"]], y_train, scoring='roc_auc', cv=kfolds.split(X_train[[\"CUS_LAT\",\"CUS_LONG\"]], y_train),\n",
    "                             n_jobs=-1)\n",
    "    gini_cv = (2 * np.array(auc_cv) - 1).mean()\n",
    "\n",
    "\n",
    "    bst = knn.fit(X_train[[\"CUS_LAT\",\"CUS_LONG\"]], np.ravel(y_train))\n",
    "\n",
    "    ypred_train = bst.predict_proba(X_train[[\"CUS_LAT\",\"CUS_LONG\"]])[:, 1]\n",
    "    ypred_test = bst.predict_proba(X_test[[\"CUS_LAT\",\"CUS_LONG\"]])[:, 1]\n",
    "\n",
    "    metric_auc_train = metrics.roc_auc_score(y_train, ypred_train)\n",
    "    metric_auc_test = metrics.roc_auc_score(y_test, ypred_test)\n",
    "\n",
    "    gini_train = 2 * metric_auc_train - 1\n",
    "    gini_test = 2 * metric_auc_test - 1\n",
    "\n",
    "\n",
    "    print(\"GINI TRAIN:\",'{:,.2%}'.format(gini_train))\n",
    "    print(\"GINI TEST:\",'{:,.2%}'.format(gini_test))\n",
    "    print(\"GINI CV:\",'{:,.2%}'.format(gini_cv))"
   ]
  },
  {
   "cell_type": "code",
   "execution_count": null,
   "metadata": {},
   "outputs": [],
   "source": []
  }
 ],
 "metadata": {
  "kernelspec": {
   "display_name": "Python 3",
   "language": "python",
   "name": "python3"
  },
  "language_info": {
   "codemirror_mode": {
    "name": "ipython",
    "version": 3
   },
   "file_extension": ".py",
   "mimetype": "text/x-python",
   "name": "python",
   "nbconvert_exporter": "python",
   "pygments_lexer": "ipython3",
   "version": "3.7.3"
  }
 },
 "nbformat": 4,
 "nbformat_minor": 2
}
