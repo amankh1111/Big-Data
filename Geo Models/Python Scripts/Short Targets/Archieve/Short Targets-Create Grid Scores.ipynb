{
 "cells": [
  {
   "cell_type": "code",
   "execution_count": 2,
   "metadata": {},
   "outputs": [],
   "source": [
    "import os\n",
    "import cx_Oracle\n",
    "import pandas as pd\n",
    "import numpy as np\n",
    "import pickle\n",
    "from datetime import date,datetime\n",
    "from sklearn import metrics\n",
    "from sklearn.model_selection import train_test_split, StratifiedKFold, RandomizedSearchCV, cross_val_score \n",
    "import time\n",
    "import matplotlib.pyplot as plt\n",
    "from sklearn.utils import resample\n",
    "import datetime"
   ]
  },
  {
   "cell_type": "code",
   "execution_count": 6,
   "metadata": {},
   "outputs": [],
   "source": [
    "#connection = cx_Oracle.connect('HCIN_GUPTAN1[AP_UWI]/aGqQ4jnX92NG@INCL02.IN.PROD/HWIN_USR_DEV.HOMECREDIT.IN')\n",
    "#cursor = connection.cursor()\n",
    "#os.chdir(r\"C:\\Users\\aman.khatri91425\\Desktop\\HomeCredit\\Bigdata\\Common Maps KNN\")\n",
    "#df=pd.read_pickle(os.getcwd()+\"\\\\Data Files\\\\sql_data.pkl\")\n",
    "# qu1= \"\"\"\n",
    "# select * from TMP_BD_GRID_DISTANCE_ID_NEW\n",
    "# where risk_agrf120 =1 \n",
    "# \"\"\"\n",
    "#df = pd.read_sql(qu1,connection)\n",
    "#df.to_pickle(r\"C:\\Users\\aman.khatri91425\\Desktop\\HomeCredit\\Bigdata\\Common Maps KNN\\data_dump.pkl\")\n",
    "#df.to_csv(r\"C:\\Users\\aman.khatri91425\\Desktop\\HomeCredit\\Bigdata\\Common Maps KNN\\data_dump.csv\")"
   ]
  },
  {
   "cell_type": "code",
   "execution_count": 3,
   "metadata": {},
   "outputs": [],
   "source": [
    "os.chdir(r\"C:\\Users\\aman.khatri91425\\Desktop\\HomeCredit\\Bigdata\\Common Maps KNN\")"
   ]
  },
  {
   "cell_type": "code",
   "execution_count": 4,
   "metadata": {},
   "outputs": [],
   "source": [
    "# df=pd.read_csv(os.getcwd()+\"\\Data Files\\complete 1.csv\")\n",
    "# df1=pd.read_csv(os.getcwd()+\"\\Data Files\\complete 2.csv\")"
   ]
  },
  {
   "cell_type": "code",
   "execution_count": 5,
   "metadata": {},
   "outputs": [],
   "source": [
    "# df_final = pd.concat([df,df1])\n",
    "# df_final.drop_duplicates(inplace=True)"
   ]
  },
  {
   "cell_type": "code",
   "execution_count": 6,
   "metadata": {},
   "outputs": [],
   "source": [
    "# print(df_final.shape)\n",
    "# print(df.shape)\n",
    "# print(df1.shape)"
   ]
  },
  {
   "cell_type": "code",
   "execution_count": 7,
   "metadata": {},
   "outputs": [],
   "source": [
    "# df_final.to_csv(os.getcwd()+\"\\Data Files\\concated.csv\")\n",
    "# del df\n",
    "# del df_final\n",
    "# del df1\n",
    "#df.to_csv(os.getcwd()+\"\\Data Files\\concated.csv\")\n",
    "#df.to_pickle(os.getcwd()+\"\\Data Files\\concated.pkl\")"
   ]
  },
  {
   "cell_type": "code",
   "execution_count": 8,
   "metadata": {},
   "outputs": [],
   "source": [
    "df = pd.read_pickle(os.getcwd()+\"\\Data Files\\concated.pkl\")"
   ]
  },
  {
   "cell_type": "code",
   "execution_count": 9,
   "metadata": {},
   "outputs": [],
   "source": [
    "# df[\"TIME_DECISION_DATE\"] = pd.to_datetime(df[\"TIME_DECISION_DATE\"],dayfirst = True)\n",
    "df[\"MONTH_STR\"] = df[\"TIME_DECISION_DATE\"].dt.strftime(\"%Y-%m\")"
   ]
  },
  {
   "cell_type": "code",
   "execution_count": 10,
   "metadata": {
    "scrolled": true
   },
   "outputs": [
    {
     "data": {
      "text/html": [
       "<div>\n",
       "<style scoped>\n",
       "    .dataframe tbody tr th:only-of-type {\n",
       "        vertical-align: middle;\n",
       "    }\n",
       "\n",
       "    .dataframe tbody tr th {\n",
       "        vertical-align: top;\n",
       "    }\n",
       "\n",
       "    .dataframe thead th {\n",
       "        text-align: right;\n",
       "    }\n",
       "</style>\n",
       "<table border=\"1\" class=\"dataframe\">\n",
       "  <thead>\n",
       "    <tr style=\"text-align: right;\">\n",
       "      <th></th>\n",
       "      <th>Unnamed: 0</th>\n",
       "      <th>SKP_CREDIT_CASE</th>\n",
       "      <th>TIME_DECISION_DATE</th>\n",
       "      <th>CUS_LAT</th>\n",
       "      <th>CUS_LONG</th>\n",
       "      <th>RISK_FPD10</th>\n",
       "      <th>RISK_FPD30</th>\n",
       "      <th>RISK_FSPD30</th>\n",
       "      <th>RISK_FSTPD30</th>\n",
       "      <th>RISK_FSTQPD30</th>\n",
       "      <th>RISK_FSTQPD60</th>\n",
       "      <th>NTC_FLAG</th>\n",
       "      <th>RISK_SCORE</th>\n",
       "      <th>MONTH_STR</th>\n",
       "    </tr>\n",
       "  </thead>\n",
       "  <tbody>\n",
       "    <tr>\n",
       "      <th>0</th>\n",
       "      <td>0</td>\n",
       "      <td>273217442</td>\n",
       "      <td>2019-09-15</td>\n",
       "      <td>26.925771</td>\n",
       "      <td>75.823658</td>\n",
       "      <td>0.0</td>\n",
       "      <td>0.0</td>\n",
       "      <td>0.0</td>\n",
       "      <td>0.0</td>\n",
       "      <td>0.0</td>\n",
       "      <td>0.0</td>\n",
       "      <td>NTC</td>\n",
       "      <td>0.164707</td>\n",
       "      <td>2019-09</td>\n",
       "    </tr>\n",
       "    <tr>\n",
       "      <th>1</th>\n",
       "      <td>1</td>\n",
       "      <td>273217520</td>\n",
       "      <td>2019-09-15</td>\n",
       "      <td>28.704617</td>\n",
       "      <td>77.046645</td>\n",
       "      <td>0.0</td>\n",
       "      <td>0.0</td>\n",
       "      <td>0.0</td>\n",
       "      <td>0.0</td>\n",
       "      <td>0.0</td>\n",
       "      <td>0.0</td>\n",
       "      <td>NTC</td>\n",
       "      <td>0.111792</td>\n",
       "      <td>2019-09</td>\n",
       "    </tr>\n",
       "    <tr>\n",
       "      <th>2</th>\n",
       "      <td>2</td>\n",
       "      <td>273217523</td>\n",
       "      <td>2019-09-15</td>\n",
       "      <td>11.089342</td>\n",
       "      <td>77.336750</td>\n",
       "      <td>0.0</td>\n",
       "      <td>0.0</td>\n",
       "      <td>0.0</td>\n",
       "      <td>0.0</td>\n",
       "      <td>0.0</td>\n",
       "      <td>0.0</td>\n",
       "      <td>NTC</td>\n",
       "      <td>0.111993</td>\n",
       "      <td>2019-09</td>\n",
       "    </tr>\n",
       "    <tr>\n",
       "      <th>3</th>\n",
       "      <td>3</td>\n",
       "      <td>273217525</td>\n",
       "      <td>2019-09-15</td>\n",
       "      <td>19.179927</td>\n",
       "      <td>73.028721</td>\n",
       "      <td>0.0</td>\n",
       "      <td>0.0</td>\n",
       "      <td>0.0</td>\n",
       "      <td>0.0</td>\n",
       "      <td>0.0</td>\n",
       "      <td>0.0</td>\n",
       "      <td>Others</td>\n",
       "      <td>0.018660</td>\n",
       "      <td>2019-09</td>\n",
       "    </tr>\n",
       "    <tr>\n",
       "      <th>4</th>\n",
       "      <td>4</td>\n",
       "      <td>273217526</td>\n",
       "      <td>2019-09-15</td>\n",
       "      <td>12.917143</td>\n",
       "      <td>80.192349</td>\n",
       "      <td>0.0</td>\n",
       "      <td>0.0</td>\n",
       "      <td>0.0</td>\n",
       "      <td>0.0</td>\n",
       "      <td>0.0</td>\n",
       "      <td>0.0</td>\n",
       "      <td>Others</td>\n",
       "      <td>0.049166</td>\n",
       "      <td>2019-09</td>\n",
       "    </tr>\n",
       "  </tbody>\n",
       "</table>\n",
       "</div>"
      ],
      "text/plain": [
       "   Unnamed: 0  SKP_CREDIT_CASE TIME_DECISION_DATE    CUS_LAT   CUS_LONG  \\\n",
       "0           0        273217442         2019-09-15  26.925771  75.823658   \n",
       "1           1        273217520         2019-09-15  28.704617  77.046645   \n",
       "2           2        273217523         2019-09-15  11.089342  77.336750   \n",
       "3           3        273217525         2019-09-15  19.179927  73.028721   \n",
       "4           4        273217526         2019-09-15  12.917143  80.192349   \n",
       "\n",
       "   RISK_FPD10  RISK_FPD30  RISK_FSPD30  RISK_FSTPD30  RISK_FSTQPD30  \\\n",
       "0         0.0         0.0          0.0           0.0            0.0   \n",
       "1         0.0         0.0          0.0           0.0            0.0   \n",
       "2         0.0         0.0          0.0           0.0            0.0   \n",
       "3         0.0         0.0          0.0           0.0            0.0   \n",
       "4         0.0         0.0          0.0           0.0            0.0   \n",
       "\n",
       "   RISK_FSTQPD60 NTC_FLAG  RISK_SCORE MONTH_STR  \n",
       "0            0.0      NTC    0.164707   2019-09  \n",
       "1            0.0      NTC    0.111792   2019-09  \n",
       "2            0.0      NTC    0.111993   2019-09  \n",
       "3            0.0   Others    0.018660   2019-09  \n",
       "4            0.0   Others    0.049166   2019-09  "
      ]
     },
     "execution_count": 10,
     "metadata": {},
     "output_type": "execute_result"
    }
   ],
   "source": [
    "df.head()"
   ]
  },
  {
   "cell_type": "code",
   "execution_count": 11,
   "metadata": {},
   "outputs": [],
   "source": [
    "df_summ = df[[\"RISK_FSTQPD30\",\"MONTH_STR\"]].groupby(\"MONTH_STR\").aggregate([\"count\",\"sum\"])[\"RISK_FSTQPD30\"]\n",
    "df_summ[\"bad_rate\"] = df_summ[\"sum\"]/df_summ[\"count\"]"
   ]
  },
  {
   "cell_type": "code",
   "execution_count": 12,
   "metadata": {},
   "outputs": [
    {
     "data": {
      "image/png": "[encoded data removed]",
      "text/plain": [
       "<Figure size 1080x288 with 2 Axes>"
      ]
     },
     "metadata": {
      "needs_background": "light"
     },
     "output_type": "display_data"
    }
   ],
   "source": [
    "df_summ[['sum','count']].plot(kind='bar', width = 0.8, figsize=(15,4))\n",
    "df_summ['bad_rate'].plot(secondary_y=True)\n",
    "\n",
    "ax = plt.gca()\n",
    "plt.xlim([-0.35, len(df_summ['sum'])-0.35])\n",
    "ax.set_xticklabels(df_summ.index)\n",
    "plt.ylim\n",
    "fig = ax.get_figure()\n",
    "ax = fig.get_axes()\n",
    "ax[1].set_ylim(0,0.15)\n",
    "ax[0].legend(['CD_Contracts','CD_Defaults'])\n",
    "ax[1].legend([\"Default Rate\"], loc = \"center right\")\n",
    "\n",
    "\n",
    "plt.show()\n"
   ]
  },
  {
   "cell_type": "markdown",
   "metadata": {},
   "source": [
    "# Try FPD10 and validate performance on FSTQPD30"
   ]
  },
  {
   "cell_type": "code",
   "execution_count": 313,
   "metadata": {},
   "outputs": [],
   "source": [
    "# Split Train and Test Data Set\n",
    "df_train = df[(df[\"TIME_DECISION_DATE\"]>=datetime.datetime(2018, 4, 22)) & \n",
    "              (df[\"TIME_DECISION_DATE\"]<=datetime.datetime(2019, 4, 21))]\n",
    "# df_test = df[(df[\"TIME_DECISION_DATE\"]>=datetime.datetime(2019, 6, 1)) & \n",
    "#               (df[\"TIME_DECISION_DATE\"]<=datetime.datetime(2019, 8, 31))]"
   ]
  },
  {
   "cell_type": "code",
   "execution_count": 314,
   "metadata": {},
   "outputs": [
    {
     "name": "stdout",
     "output_type": "stream",
     "text": [
      "(4573819, 14)\n",
      "(1078674, 19)\n"
     ]
    },
    {
     "data": {
      "text/plain": [
       "0.0    4411645\n",
       "1.0     162096\n",
       "Name: RISK_FPD10, dtype: int64"
      ]
     },
     "execution_count": 314,
     "metadata": {},
     "output_type": "execute_result"
    }
   ],
   "source": [
    "print(df_train.shape)\n",
    "print(df_test.shape)\n",
    "df_train.RISK_FPD10.value_counts()"
   ]
  },
  {
   "cell_type": "code",
   "execution_count": 315,
   "metadata": {},
   "outputs": [],
   "source": [
    "target = \"RISK_FPD10\""
   ]
  },
  {
   "cell_type": "code",
   "execution_count": 316,
   "metadata": {},
   "outputs": [
    {
     "name": "stdout",
     "output_type": "stream",
     "text": [
      "Random under-sampling:\n",
      "1.0    150000\n",
      "0.0    150000\n",
      "Name: RISK_FPD10, dtype: int64\n"
     ]
    },
    {
     "data": {
      "image/png": "[encoded data removed]",
      "text/plain": [
       "<Figure size 432x288 with 1 Axes>"
      ]
     },
     "metadata": {
      "needs_background": "light"
     },
     "output_type": "display_data"
    }
   ],
   "source": [
    "#Downsampling Code \n",
    "#count_class_0, count_class_1 = df_train.RISK_FPD10.value_counts()\n",
    "count_class_0, count_class_1 = (150000,150000)\n",
    "df_class_0 = df_train[df_train[target] == 0]\n",
    "df_class_1 = df_train[df_train[target] == 1]\n",
    "df_class_0_under = df_class_0.sample(count_class_0, random_state = 2)\n",
    "df_class_1_under = df_class_1.sample(count_class_1, random_state = 2)\n",
    "df_train_under = pd.concat([df_class_0_under, df_class_1_under], axis=0)\n",
    "\n",
    "print('Random under-sampling:')\n",
    "print(df_train_under[target].value_counts())\n",
    "\n",
    "df_train_under[target].value_counts().plot(kind='bar', title='Count (target)');"
   ]
  },
  {
   "cell_type": "code",
   "execution_count": 317,
   "metadata": {},
   "outputs": [],
   "source": [
    "X_train = df_train_under[[\"CUS_LAT\",\"CUS_LONG\",\"RISK_SCORE\",\"TIME_DECISION_DATE\"]]\n",
    "X_test = df_test[[\"CUS_LAT\",\"CUS_LONG\",\"RISK_SCORE\",\"TIME_DECISION_DATE\"]]\n",
    "\n",
    "y_train = df_train_under[target]\n",
    "y_test =  df_test[target]\n"
   ]
  },
  {
   "cell_type": "code",
   "execution_count": 318,
   "metadata": {},
   "outputs": [
    {
     "name": "stdout",
     "output_type": "stream",
     "text": [
      "\n",
      "Event rate in train set : 50.00%\n",
      "\n",
      "Event rate in test set : 3.53%\n"
     ]
    }
   ],
   "source": [
    "print(\"\\nEvent rate in train set :\", '{:,.2%}'.format(sum(y_train) / len(y_train)))\n",
    "\n",
    "print(\"\\nEvent rate in test set :\", '{:,.2%}'.format(sum(y_test) / len(y_test)))"
   ]
  },
  {
   "cell_type": "code",
   "execution_count": 320,
   "metadata": {},
   "outputs": [],
   "source": [
    "param_grid = {'n_neighbors': np.arange(1,450,10)\n",
    "            }\n",
    "seed = 25"
   ]
  },
  {
   "cell_type": "code",
   "execution_count": 321,
   "metadata": {},
   "outputs": [],
   "source": [
    "from sklearn.neighbors import KNeighborsClassifier\n",
    "# Create KNN classifier\n",
    "knn = KNeighborsClassifier(weights = 'uniform')\n",
    "kfolds = StratifiedKFold(3, random_state=1)\n",
    "\n",
    "clf = RandomizedSearchCV(estimator=knn, param_distributions=param_grid, scoring=['roc_auc'], n_iter=10,\n",
    "                         random_state=seed, cv=kfolds.split(X_train[[\"CUS_LAT\",\"CUS_LONG\"]], y_train), refit='roc_auc',error_score=0, return_train_score =True)\n"
   ]
  },
  {
   "cell_type": "code",
   "execution_count": 322,
   "metadata": {},
   "outputs": [
    {
     "name": "stdout",
     "output_type": "stream",
     "text": [
      "Randomized search..\n",
      "Randomized search time: 1071.012377023697\n"
     ]
    }
   ],
   "source": [
    "print(\"Randomized search..\")\n",
    "\n",
    "search_time_start = time.time()\n",
    "clf.fit(X_train[[\"CUS_LAT\",\"CUS_LONG\"]], np.ravel(y_train))\n",
    "print(\"Randomized search time:\", time.time() - search_time_start)\n",
    "\n",
    "params = clf.best_params_   #get best parameters\n",
    "dic=clf.cv_results_    #provides scoring results for each iteration, 50 in this case, mean values can be used \n",
    "tmp= pd.DataFrame(dic['params'])"
   ]
  },
  {
   "cell_type": "code",
   "execution_count": 328,
   "metadata": {},
   "outputs": [],
   "source": [
    "pd.DataFrame(dic).to_csv(r\"C:\\Users\\aman.khatri91425\\Desktop\\HomeCredit\\Bigdata\\Common Maps KNN\\ShortTargets_RCV_results_FPD10.csv\")"
   ]
  },
  {
   "cell_type": "code",
   "execution_count": 329,
   "metadata": {},
   "outputs": [],
   "source": [
    "tmp1= pd.DataFrame(dic)[[\"param_n_neighbors\",\"mean_test_roc_auc\",\"mean_train_roc_auc\"]].sort_values(by = 'param_n_neighbors')"
   ]
  },
  {
   "cell_type": "code",
   "execution_count": 330,
   "metadata": {},
   "outputs": [
    {
     "data": {
      "text/plain": [
       "<matplotlib.axes._subplots.AxesSubplot at 0x1a63b0396d8>"
      ]
     },
     "execution_count": 330,
     "metadata": {},
     "output_type": "execute_result"
    },
    {
     "data": {
      "image/png": "[encoded data removed]",
      "text/plain": [
       "<Figure size 432x288 with 1 Axes>"
      ]
     },
     "metadata": {
      "needs_background": "light"
     },
     "output_type": "display_data"
    }
   ],
   "source": [
    "tmp1[[\"param_n_neighbors\",\"mean_test_roc_auc\"]].plot(x=\"param_n_neighbors\")"
   ]
  },
  {
   "cell_type": "code",
   "execution_count": 331,
   "metadata": {},
   "outputs": [
    {
     "data": {
      "text/html": [
       "<div>\n",
       "<style scoped>\n",
       "    .dataframe tbody tr th:only-of-type {\n",
       "        vertical-align: middle;\n",
       "    }\n",
       "\n",
       "    .dataframe tbody tr th {\n",
       "        vertical-align: top;\n",
       "    }\n",
       "\n",
       "    .dataframe thead th {\n",
       "        text-align: right;\n",
       "    }\n",
       "</style>\n",
       "<table border=\"1\" class=\"dataframe\">\n",
       "  <thead>\n",
       "    <tr style=\"text-align: right;\">\n",
       "      <th></th>\n",
       "      <th>param_n_neighbors</th>\n",
       "      <th>mean_test_roc_auc</th>\n",
       "    </tr>\n",
       "  </thead>\n",
       "  <tbody>\n",
       "    <tr>\n",
       "      <th>8</th>\n",
       "      <td>21</td>\n",
       "      <td>0.546286</td>\n",
       "    </tr>\n",
       "    <tr>\n",
       "      <th>6</th>\n",
       "      <td>71</td>\n",
       "      <td>0.561253</td>\n",
       "    </tr>\n",
       "    <tr>\n",
       "      <th>9</th>\n",
       "      <td>111</td>\n",
       "      <td>0.563886</td>\n",
       "    </tr>\n",
       "    <tr>\n",
       "      <th>7</th>\n",
       "      <td>171</td>\n",
       "      <td>0.565427</td>\n",
       "    </tr>\n",
       "    <tr>\n",
       "      <th>2</th>\n",
       "      <td>191</td>\n",
       "      <td>0.565588</td>\n",
       "    </tr>\n",
       "    <tr>\n",
       "      <th>0</th>\n",
       "      <td>211</td>\n",
       "      <td>0.566024</td>\n",
       "    </tr>\n",
       "    <tr>\n",
       "      <th>3</th>\n",
       "      <td>271</td>\n",
       "      <td>0.566177</td>\n",
       "    </tr>\n",
       "    <tr>\n",
       "      <th>1</th>\n",
       "      <td>351</td>\n",
       "      <td>0.565958</td>\n",
       "    </tr>\n",
       "    <tr>\n",
       "      <th>4</th>\n",
       "      <td>361</td>\n",
       "      <td>0.565920</td>\n",
       "    </tr>\n",
       "    <tr>\n",
       "      <th>5</th>\n",
       "      <td>401</td>\n",
       "      <td>0.565716</td>\n",
       "    </tr>\n",
       "  </tbody>\n",
       "</table>\n",
       "</div>"
      ],
      "text/plain": [
       "  param_n_neighbors  mean_test_roc_auc\n",
       "8                21           0.546286\n",
       "6                71           0.561253\n",
       "9               111           0.563886\n",
       "7               171           0.565427\n",
       "2               191           0.565588\n",
       "0               211           0.566024\n",
       "3               271           0.566177\n",
       "1               351           0.565958\n",
       "4               361           0.565920\n",
       "5               401           0.565716"
      ]
     },
     "execution_count": 331,
     "metadata": {},
     "output_type": "execute_result"
    }
   ],
   "source": [
    "tmp1[[\"param_n_neighbors\",\"mean_test_roc_auc\"]]"
   ]
  },
  {
   "cell_type": "code",
   "execution_count": 332,
   "metadata": {},
   "outputs": [
    {
     "name": "stdout",
     "output_type": "stream",
     "text": [
      "Best score: 0.5661771955333332\n",
      "Best params: \n",
      "n_neighbors: 271\n"
     ]
    }
   ],
   "source": [
    "print(\"Best score: {}\".format(clf.best_score_))    #best auc score as we took that for refit \n",
    "\n",
    "\n",
    "print(\"Best params: \")\n",
    "\n",
    "for param_name in sorted(params.keys()):\n",
    "    print('%s: %r' % (param_name, params[param_name]))"
   ]
  },
  {
   "cell_type": "code",
   "execution_count": 100,
   "metadata": {},
   "outputs": [],
   "source": [
    "param_grid = {'n_neighbors': np.arange(75,300,10)\n",
    "            }\n",
    "seed = 25"
   ]
  },
  {
   "cell_type": "code",
   "execution_count": 101,
   "metadata": {},
   "outputs": [],
   "source": [
    "from sklearn.neighbors import KNeighborsClassifier\n",
    "# Create KNN classifier\n",
    "knn = KNeighborsClassifier(weights = 'uniform')\n",
    "kfolds = StratifiedKFold(3, random_state=1)\n",
    "\n",
    "clf = RandomizedSearchCV(estimator=knn, param_distributions=param_grid, scoring=['roc_auc'], n_iter=6,\n",
    "                         random_state=seed, cv=kfolds.split(X_train[[\"CUS_LAT\",\"CUS_LONG\"]], y_train), refit='roc_auc',error_score=0, return_train_score =True)\n"
   ]
  },
  {
   "cell_type": "code",
   "execution_count": 102,
   "metadata": {},
   "outputs": [
    {
     "name": "stdout",
     "output_type": "stream",
     "text": [
      "Randomized search..\n",
      "Randomized search time: 223.39671349525452\n"
     ]
    }
   ],
   "source": [
    "print(\"Randomized search..\")\n",
    "\n",
    "search_time_start = time.time()\n",
    "clf.fit(X_train[[\"CUS_LAT\",\"CUS_LONG\"]], np.ravel(y_train))\n",
    "print(\"Randomized search time:\", time.time() - search_time_start)\n",
    "\n",
    "params = clf.best_params_   #get best parameters\n",
    "dic=clf.cv_results_    #provides scoring results for each iteration, 50 in this case, mean values can be used \n",
    "tmp= pd.DataFrame(dic['params'])"
   ]
  },
  {
   "cell_type": "code",
   "execution_count": 103,
   "metadata": {},
   "outputs": [
    {
     "data": {
      "text/plain": [
       "<matplotlib.axes._subplots.AxesSubplot at 0x1a75d042748>"
      ]
     },
     "execution_count": 103,
     "metadata": {},
     "output_type": "execute_result"
    },
    {
     "data": {
      "image/png": "[encoded data removed]",
      "text/plain": [
       "<Figure size 432x288 with 1 Axes>"
      ]
     },
     "metadata": {
      "needs_background": "light"
     },
     "output_type": "display_data"
    }
   ],
   "source": [
    "pd.DataFrame(dic).to_csv(r\"C:\\Users\\aman.khatri91425\\Desktop\\HomeCredit\\Bigdata\\ShortTargets_RCV_results_1.csv\")\n",
    "tmp1= pd.DataFrame(dic)[[\"param_n_neighbors\",\"mean_test_roc_auc\",\"mean_train_roc_auc\"]].sort_values(by = 'param_n_neighbors')\n",
    "tmp1[[\"param_n_neighbors\",\"mean_test_roc_auc\"]].plot(x=\"param_n_neighbors\")"
   ]
  },
  {
   "cell_type": "code",
   "execution_count": 105,
   "metadata": {},
   "outputs": [
    {
     "name": "stdout",
     "output_type": "stream",
     "text": [
      "Best score: 0.5635119520666667\n",
      "Best params: \n",
      "n_neighbors: 275\n"
     ]
    }
   ],
   "source": [
    "print(\"Best score: {}\".format(clf.best_score_))    #best auc score as we took that for refit \n",
    "\n",
    "\n",
    "print(\"Best params: \")\n",
    "\n",
    "for param_name in sorted(params.keys()):\n",
    "    print('%s: %r' % (param_name, params[param_name]))"
   ]
  },
  {
   "cell_type": "code",
   "execution_count": null,
   "metadata": {},
   "outputs": [],
   "source": []
  },
  {
   "cell_type": "code",
   "execution_count": null,
   "metadata": {},
   "outputs": [],
   "source": []
  },
  {
   "cell_type": "code",
   "execution_count": 333,
   "metadata": {},
   "outputs": [],
   "source": [
    "#update estimated hyperparameter values to new model\n",
    "from sklearn.neighbors import KNeighborsClassifier\n",
    "params = {'n_neighbors': 271}\n",
    "kfolds = StratifiedKFold(4, random_state=1)\n",
    "knn = KNeighborsClassifier(**params)\n",
    "# cross validation gini\n",
    "auc_cv = cross_val_score(knn, X_train[[\"CUS_LAT\",\"CUS_LONG\"]], y_train, scoring='roc_auc', cv=kfolds.split(X_train[[\"CUS_LAT\",\"CUS_LONG\"]], y_train),\n",
    "                         n_jobs=-1)\n",
    "gini_cv = (2 * np.array(auc_cv) - 1).mean()\n"
   ]
  },
  {
   "cell_type": "code",
   "execution_count": 334,
   "metadata": {},
   "outputs": [],
   "source": [
    "bst = knn.fit(X_train[[\"CUS_LAT\",\"CUS_LONG\"]], np.ravel(y_train))\n",
    "\n",
    "ypred_train = bst.predict_proba(X_train[[\"CUS_LAT\",\"CUS_LONG\"]])[:, 1]\n",
    "ypred_test = bst.predict_proba(X_test[[\"CUS_LAT\",\"CUS_LONG\"]])[:, 1]"
   ]
  },
  {
   "cell_type": "code",
   "execution_count": 335,
   "metadata": {},
   "outputs": [],
   "source": [
    "metric_auc_train = metrics.roc_auc_score(y_train, ypred_train)\n",
    "metric_auc_test = metrics.roc_auc_score(y_test, ypred_test)\n",
    "\n",
    "gini_train = 2 * metric_auc_train - 1\n",
    "gini_test = 2 * metric_auc_test - 1\n"
   ]
  },
  {
   "cell_type": "code",
   "execution_count": 336,
   "metadata": {},
   "outputs": [
    {
     "name": "stdout",
     "output_type": "stream",
     "text": [
      "GINI TRAIN: 16.74%\n",
      "\n",
      "GINI TEST: 9.54%\n",
      "\n",
      "GINI CV: 13.47%\n"
     ]
    }
   ],
   "source": [
    "print(\"GINI TRAIN:\",'{:,.2%}'.format(gini_train))\n",
    "print(\"\\nGINI TEST:\",'{:,.2%}'.format(gini_test))\n",
    "print(\"\\nGINI CV:\",'{:,.2%}'.format(gini_cv))"
   ]
  },
  {
   "cell_type": "code",
   "execution_count": 337,
   "metadata": {},
   "outputs": [
    {
     "name": "stderr",
     "output_type": "stream",
     "text": [
      "C:\\Users\\aman.khatri91425\\AppData\\Local\\Continuum\\anaconda3\\lib\\site-packages\\ipykernel_launcher.py:2: SettingWithCopyWarning: \n",
      "A value is trying to be set on a copy of a slice from a DataFrame.\n",
      "Try using .loc[row_indexer,col_indexer] = value instead\n",
      "\n",
      "See the caveats in the documentation: http://pandas.pydata.org/pandas-docs/stable/indexing.html#indexing-view-versus-copy\n",
      "  \n"
     ]
    }
   ],
   "source": [
    "df_train_under['F10_PRED_SCORE'] = ypred_train\n",
    "df_test['F10_PRED_SCORE'] = ypred_test"
   ]
  },
  {
   "cell_type": "code",
   "execution_count": 338,
   "metadata": {},
   "outputs": [
    {
     "data": {
      "text/html": [
       "<div>\n",
       "<style scoped>\n",
       "    .dataframe tbody tr th:only-of-type {\n",
       "        vertical-align: middle;\n",
       "    }\n",
       "\n",
       "    .dataframe tbody tr th {\n",
       "        vertical-align: top;\n",
       "    }\n",
       "\n",
       "    .dataframe thead th {\n",
       "        text-align: right;\n",
       "    }\n",
       "</style>\n",
       "<table border=\"1\" class=\"dataframe\">\n",
       "  <thead>\n",
       "    <tr style=\"text-align: right;\">\n",
       "      <th></th>\n",
       "      <th>Unnamed: 0</th>\n",
       "      <th>SKP_CREDIT_CASE</th>\n",
       "      <th>TIME_DECISION_DATE</th>\n",
       "      <th>CUS_LAT</th>\n",
       "      <th>CUS_LONG</th>\n",
       "      <th>RISK_FPD10</th>\n",
       "      <th>RISK_FPD30</th>\n",
       "      <th>RISK_FSPD30</th>\n",
       "      <th>RISK_FSTPD30</th>\n",
       "      <th>RISK_FSTQPD30</th>\n",
       "      <th>RISK_FSTQPD60</th>\n",
       "      <th>NTC_FLAG</th>\n",
       "      <th>RISK_SCORE</th>\n",
       "      <th>MONTH_STR</th>\n",
       "      <th>F30_PRED_SCORE</th>\n",
       "      <th>FS30_PRED_SCORE</th>\n",
       "      <th>FST30_PRED_SCORE</th>\n",
       "      <th>FSTQ30_PRED_SCORE</th>\n",
       "      <th>F10_PRED_SCORE</th>\n",
       "    </tr>\n",
       "  </thead>\n",
       "  <tbody>\n",
       "    <tr>\n",
       "      <th>185665</th>\n",
       "      <td>185665</td>\n",
       "      <td>250244469</td>\n",
       "      <td>2019-08-31</td>\n",
       "      <td>10.042105</td>\n",
       "      <td>76.448236</td>\n",
       "      <td>0.0</td>\n",
       "      <td>0.0</td>\n",
       "      <td>0.0</td>\n",
       "      <td>0.0</td>\n",
       "      <td>0.0</td>\n",
       "      <td>0.0</td>\n",
       "      <td>Others</td>\n",
       "      <td>0.012948</td>\n",
       "      <td>2019-08</td>\n",
       "      <td>0.705882</td>\n",
       "      <td>0.676617</td>\n",
       "      <td>0.628272</td>\n",
       "      <td>0.629283</td>\n",
       "      <td>0.693727</td>\n",
       "    </tr>\n",
       "    <tr>\n",
       "      <th>185666</th>\n",
       "      <td>185666</td>\n",
       "      <td>250244475</td>\n",
       "      <td>2019-08-31</td>\n",
       "      <td>30.691595</td>\n",
       "      <td>76.823270</td>\n",
       "      <td>0.0</td>\n",
       "      <td>0.0</td>\n",
       "      <td>0.0</td>\n",
       "      <td>0.0</td>\n",
       "      <td>0.0</td>\n",
       "      <td>0.0</td>\n",
       "      <td>Others</td>\n",
       "      <td>0.072733</td>\n",
       "      <td>2019-08</td>\n",
       "      <td>0.389706</td>\n",
       "      <td>0.402985</td>\n",
       "      <td>0.403141</td>\n",
       "      <td>0.395639</td>\n",
       "      <td>0.383764</td>\n",
       "    </tr>\n",
       "    <tr>\n",
       "      <th>185667</th>\n",
       "      <td>185667</td>\n",
       "      <td>250244477</td>\n",
       "      <td>2019-08-31</td>\n",
       "      <td>30.750418</td>\n",
       "      <td>76.796404</td>\n",
       "      <td>0.0</td>\n",
       "      <td>0.0</td>\n",
       "      <td>0.0</td>\n",
       "      <td>0.0</td>\n",
       "      <td>0.0</td>\n",
       "      <td>0.0</td>\n",
       "      <td>Others</td>\n",
       "      <td>0.011748</td>\n",
       "      <td>2019-08</td>\n",
       "      <td>0.529412</td>\n",
       "      <td>0.477612</td>\n",
       "      <td>0.392670</td>\n",
       "      <td>0.373832</td>\n",
       "      <td>0.383764</td>\n",
       "    </tr>\n",
       "    <tr>\n",
       "      <th>185668</th>\n",
       "      <td>185668</td>\n",
       "      <td>250244478</td>\n",
       "      <td>2019-08-31</td>\n",
       "      <td>25.774830</td>\n",
       "      <td>73.338201</td>\n",
       "      <td>0.0</td>\n",
       "      <td>0.0</td>\n",
       "      <td>0.0</td>\n",
       "      <td>0.0</td>\n",
       "      <td>0.0</td>\n",
       "      <td>0.0</td>\n",
       "      <td>Others</td>\n",
       "      <td>0.017211</td>\n",
       "      <td>2019-08</td>\n",
       "      <td>0.404412</td>\n",
       "      <td>0.482587</td>\n",
       "      <td>0.570681</td>\n",
       "      <td>0.482866</td>\n",
       "      <td>0.490775</td>\n",
       "    </tr>\n",
       "    <tr>\n",
       "      <th>185669</th>\n",
       "      <td>185669</td>\n",
       "      <td>250244481</td>\n",
       "      <td>2019-08-31</td>\n",
       "      <td>30.293438</td>\n",
       "      <td>77.998160</td>\n",
       "      <td>0.0</td>\n",
       "      <td>0.0</td>\n",
       "      <td>0.0</td>\n",
       "      <td>0.0</td>\n",
       "      <td>0.0</td>\n",
       "      <td>0.0</td>\n",
       "      <td>Others</td>\n",
       "      <td>0.041108</td>\n",
       "      <td>2019-08</td>\n",
       "      <td>0.558824</td>\n",
       "      <td>0.547264</td>\n",
       "      <td>0.565445</td>\n",
       "      <td>0.485981</td>\n",
       "      <td>0.575646</td>\n",
       "    </tr>\n",
       "  </tbody>\n",
       "</table>\n",
       "</div>"
      ],
      "text/plain": [
       "        Unnamed: 0  SKP_CREDIT_CASE TIME_DECISION_DATE    CUS_LAT   CUS_LONG  \\\n",
       "185665      185665        250244469         2019-08-31  10.042105  76.448236   \n",
       "185666      185666        250244475         2019-08-31  30.691595  76.823270   \n",
       "185667      185667        250244477         2019-08-31  30.750418  76.796404   \n",
       "185668      185668        250244478         2019-08-31  25.774830  73.338201   \n",
       "185669      185669        250244481         2019-08-31  30.293438  77.998160   \n",
       "\n",
       "        RISK_FPD10  RISK_FPD30  RISK_FSPD30  RISK_FSTPD30  RISK_FSTQPD30  \\\n",
       "185665         0.0         0.0          0.0           0.0            0.0   \n",
       "185666         0.0         0.0          0.0           0.0            0.0   \n",
       "185667         0.0         0.0          0.0           0.0            0.0   \n",
       "185668         0.0         0.0          0.0           0.0            0.0   \n",
       "185669         0.0         0.0          0.0           0.0            0.0   \n",
       "\n",
       "        RISK_FSTQPD60 NTC_FLAG  RISK_SCORE MONTH_STR  F30_PRED_SCORE  \\\n",
       "185665            0.0   Others    0.012948   2019-08        0.705882   \n",
       "185666            0.0   Others    0.072733   2019-08        0.389706   \n",
       "185667            0.0   Others    0.011748   2019-08        0.529412   \n",
       "185668            0.0   Others    0.017211   2019-08        0.404412   \n",
       "185669            0.0   Others    0.041108   2019-08        0.558824   \n",
       "\n",
       "        FS30_PRED_SCORE  FST30_PRED_SCORE  FSTQ30_PRED_SCORE  F10_PRED_SCORE  \n",
       "185665         0.676617          0.628272           0.629283        0.693727  \n",
       "185666         0.402985          0.403141           0.395639        0.383764  \n",
       "185667         0.477612          0.392670           0.373832        0.383764  \n",
       "185668         0.482587          0.570681           0.482866        0.490775  \n",
       "185669         0.547264          0.565445           0.485981        0.575646  "
      ]
     },
     "execution_count": 338,
     "metadata": {},
     "output_type": "execute_result"
    }
   ],
   "source": [
    "df_test.head()"
   ]
  },
  {
   "cell_type": "code",
   "execution_count": 289,
   "metadata": {},
   "outputs": [
    {
     "name": "stdout",
     "output_type": "stream",
     "text": [
      "FSTQPD30 Gini:  7.05\n"
     ]
    }
   ],
   "source": [
    "print(\"FSTQPD30 Gini: \" ,round((2*metrics.roc_auc_score(df_test[\"RISK_FSTQPD30\"],df_test[\"F10_PRED_SCORE\"])-1)*100,2))"
   ]
  },
  {
   "cell_type": "markdown",
   "metadata": {},
   "source": [
    "# Try FPD30 and validate performance on FSTQPD30"
   ]
  },
  {
   "cell_type": "code",
   "execution_count": 216,
   "metadata": {},
   "outputs": [],
   "source": [
    "# Split Train and Test Data Set\n",
    "df_train = df[(df[\"TIME_DECISION_DATE\"]>=datetime.datetime(2018, 4, 1)) & \n",
    "              (df[\"TIME_DECISION_DATE\"]<=datetime.datetime(2019, 4, 1))]\n",
    "# df_test = df[(df[\"TIME_DECISION_DATE\"]>=datetime.datetime(2019, 6, 1)) & \n",
    "#               (df[\"TIME_DECISION_DATE\"]<=datetime.datetime(2019, 8, 31))]"
   ]
  },
  {
   "cell_type": "code",
   "execution_count": 217,
   "metadata": {},
   "outputs": [
    {
     "name": "stdout",
     "output_type": "stream",
     "text": [
      "(4612596, 14)\n",
      "(1078674, 16)\n"
     ]
    },
    {
     "data": {
      "text/plain": [
       "0.0    4555831\n",
       "1.0      56687\n",
       "Name: RISK_FPD30, dtype: int64"
      ]
     },
     "execution_count": 217,
     "metadata": {},
     "output_type": "execute_result"
    }
   ],
   "source": [
    "print(df_train.shape)\n",
    "print(df_test.shape)\n",
    "df_train.RISK_FPD30.value_counts()"
   ]
  },
  {
   "cell_type": "code",
   "execution_count": 218,
   "metadata": {},
   "outputs": [],
   "source": [
    "target = \"RISK_FPD30\""
   ]
  },
  {
   "cell_type": "code",
   "execution_count": 219,
   "metadata": {},
   "outputs": [
    {
     "name": "stdout",
     "output_type": "stream",
     "text": [
      "Random under-sampling:\n",
      "1.0    50000\n",
      "0.0    50000\n",
      "Name: RISK_FPD30, dtype: int64\n"
     ]
    },
    {
     "data": {
      "image/png": "[encoded data removed]",
      "text/plain": [
       "<Figure size 432x288 with 1 Axes>"
      ]
     },
     "metadata": {
      "needs_background": "light"
     },
     "output_type": "display_data"
    }
   ],
   "source": [
    "#Downsampling Code \n",
    "#count_class_0, count_class_1 = df_train.RISK_FPD10.value_counts()\n",
    "count_class_0, count_class_1 = (50000,50000)\n",
    "df_class_0 = df_train[df_train[target] == 0]\n",
    "df_class_1 = df_train[df_train[target] == 1]\n",
    "df_class_0_under = df_class_0.sample(count_class_0, random_state = 2)\n",
    "df_class_1_under = df_class_1.sample(count_class_1, random_state = 2)\n",
    "df_train_under = pd.concat([df_class_0_under, df_class_1_under], axis=0)\n",
    "\n",
    "print('Random under-sampling:')\n",
    "print(df_train_under[target].value_counts())\n",
    "\n",
    "df_train_under[target].value_counts().plot(kind='bar', title='Count (target)');"
   ]
  },
  {
   "cell_type": "code",
   "execution_count": 220,
   "metadata": {},
   "outputs": [],
   "source": [
    "X_train = df_train_under[[\"CUS_LAT\",\"CUS_LONG\",\"RISK_SCORE\",\"TIME_DECISION_DATE\"]]\n",
    "X_test = df_test[[\"CUS_LAT\",\"CUS_LONG\",\"RISK_SCORE\",\"TIME_DECISION_DATE\"]]\n",
    "\n",
    "y_train = df_train_under[target]\n",
    "y_test =  df_test[target]\n"
   ]
  },
  {
   "cell_type": "code",
   "execution_count": 221,
   "metadata": {},
   "outputs": [
    {
     "name": "stdout",
     "output_type": "stream",
     "text": [
      "\n",
      "Event rate in train set : 50.00%\n",
      "\n",
      "Event rate in test set : 1.16%\n"
     ]
    }
   ],
   "source": [
    "print(\"\\nEvent rate in train set :\", '{:,.2%}'.format(sum(y_train) / len(y_train)))\n",
    "\n",
    "print(\"\\nEvent rate in test set :\", '{:,.2%}'.format(sum(y_test) / len(y_test)))"
   ]
  },
  {
   "cell_type": "code",
   "execution_count": 173,
   "metadata": {},
   "outputs": [],
   "source": [
    "param_grid = {'n_neighbors': np.arange(1,300,5)\n",
    "            }\n",
    "seed = 25"
   ]
  },
  {
   "cell_type": "code",
   "execution_count": 174,
   "metadata": {},
   "outputs": [],
   "source": [
    "from sklearn.neighbors import KNeighborsClassifier\n",
    "# Create KNN classifier\n",
    "knn = KNeighborsClassifier(weights = 'uniform')\n",
    "kfolds = StratifiedKFold(3, random_state=1)\n",
    "\n",
    "clf = RandomizedSearchCV(estimator=knn, param_distributions=param_grid, scoring=['roc_auc'], n_iter=10,\n",
    "                         random_state=seed, cv=kfolds.split(X_train[[\"CUS_LAT\",\"CUS_LONG\"]], y_train), refit='roc_auc',error_score=0, return_train_score =True)\n"
   ]
  },
  {
   "cell_type": "code",
   "execution_count": 175,
   "metadata": {},
   "outputs": [
    {
     "name": "stdout",
     "output_type": "stream",
     "text": [
      "Randomized search..\n",
      "Randomized search time: 83.92080593109131\n"
     ]
    }
   ],
   "source": [
    "print(\"Randomized search..\")\n",
    "\n",
    "search_time_start = time.time()\n",
    "clf.fit(X_train[[\"CUS_LAT\",\"CUS_LONG\"]], np.ravel(y_train))\n",
    "print(\"Randomized search time:\", time.time() - search_time_start)\n",
    "\n",
    "params = clf.best_params_   #get best parameters\n",
    "dic=clf.cv_results_    #provides scoring results for each iteration, 50 in this case, mean values can be used \n",
    "tmp= pd.DataFrame(dic['params'])"
   ]
  },
  {
   "cell_type": "code",
   "execution_count": 176,
   "metadata": {},
   "outputs": [],
   "source": [
    "pd.DataFrame(dic).to_csv(r\"C:\\Users\\aman.khatri91425\\Desktop\\HomeCredit\\Bigdata\\ShortTargets_RCV_results_FPD30.csv\")"
   ]
  },
  {
   "cell_type": "code",
   "execution_count": 177,
   "metadata": {},
   "outputs": [],
   "source": [
    "tmp1= pd.DataFrame(dic)[[\"param_n_neighbors\",\"mean_test_roc_auc\",\"mean_train_roc_auc\"]].sort_values(by = 'param_n_neighbors')"
   ]
  },
  {
   "cell_type": "code",
   "execution_count": 178,
   "metadata": {},
   "outputs": [
    {
     "data": {
      "text/plain": [
       "<matplotlib.axes._subplots.AxesSubplot at 0x1a63b42b9e8>"
      ]
     },
     "execution_count": 178,
     "metadata": {},
     "output_type": "execute_result"
    },
    {
     "data": {
      "image/png": "[encoded data removed]",
      "text/plain": [
       "<Figure size 432x288 with 1 Axes>"
      ]
     },
     "metadata": {
      "needs_background": "light"
     },
     "output_type": "display_data"
    }
   ],
   "source": [
    "tmp1[[\"param_n_neighbors\",\"mean_test_roc_auc\"]].plot(x=\"param_n_neighbors\")"
   ]
  },
  {
   "cell_type": "code",
   "execution_count": 179,
   "metadata": {},
   "outputs": [
    {
     "data": {
      "text/html": [
       "<div>\n",
       "<style scoped>\n",
       "    .dataframe tbody tr th:only-of-type {\n",
       "        vertical-align: middle;\n",
       "    }\n",
       "\n",
       "    .dataframe tbody tr th {\n",
       "        vertical-align: top;\n",
       "    }\n",
       "\n",
       "    .dataframe thead th {\n",
       "        text-align: right;\n",
       "    }\n",
       "</style>\n",
       "<table border=\"1\" class=\"dataframe\">\n",
       "  <thead>\n",
       "    <tr style=\"text-align: right;\">\n",
       "      <th></th>\n",
       "      <th>param_n_neighbors</th>\n",
       "      <th>mean_test_roc_auc</th>\n",
       "    </tr>\n",
       "  </thead>\n",
       "  <tbody>\n",
       "    <tr>\n",
       "      <th>4</th>\n",
       "      <td>36</td>\n",
       "      <td>0.581675</td>\n",
       "    </tr>\n",
       "    <tr>\n",
       "      <th>1</th>\n",
       "      <td>61</td>\n",
       "      <td>0.586054</td>\n",
       "    </tr>\n",
       "    <tr>\n",
       "      <th>2</th>\n",
       "      <td>66</td>\n",
       "      <td>0.586490</td>\n",
       "    </tr>\n",
       "    <tr>\n",
       "      <th>0</th>\n",
       "      <td>96</td>\n",
       "      <td>0.586621</td>\n",
       "    </tr>\n",
       "    <tr>\n",
       "      <th>6</th>\n",
       "      <td>136</td>\n",
       "      <td>0.587487</td>\n",
       "    </tr>\n",
       "    <tr>\n",
       "      <th>3</th>\n",
       "      <td>146</td>\n",
       "      <td>0.587145</td>\n",
       "    </tr>\n",
       "    <tr>\n",
       "      <th>7</th>\n",
       "      <td>151</td>\n",
       "      <td>0.587035</td>\n",
       "    </tr>\n",
       "    <tr>\n",
       "      <th>8</th>\n",
       "      <td>201</td>\n",
       "      <td>0.586298</td>\n",
       "    </tr>\n",
       "    <tr>\n",
       "      <th>5</th>\n",
       "      <td>206</td>\n",
       "      <td>0.586334</td>\n",
       "    </tr>\n",
       "    <tr>\n",
       "      <th>9</th>\n",
       "      <td>276</td>\n",
       "      <td>0.585052</td>\n",
       "    </tr>\n",
       "  </tbody>\n",
       "</table>\n",
       "</div>"
      ],
      "text/plain": [
       "  param_n_neighbors  mean_test_roc_auc\n",
       "4                36           0.581675\n",
       "1                61           0.586054\n",
       "2                66           0.586490\n",
       "0                96           0.586621\n",
       "6               136           0.587487\n",
       "3               146           0.587145\n",
       "7               151           0.587035\n",
       "8               201           0.586298\n",
       "5               206           0.586334\n",
       "9               276           0.585052"
      ]
     },
     "execution_count": 179,
     "metadata": {},
     "output_type": "execute_result"
    }
   ],
   "source": [
    "tmp1[[\"param_n_neighbors\",\"mean_test_roc_auc\"]]"
   ]
  },
  {
   "cell_type": "code",
   "execution_count": 180,
   "metadata": {},
   "outputs": [
    {
     "name": "stdout",
     "output_type": "stream",
     "text": [
      "Best score: 0.587487051468523\n",
      "Best params: \n",
      "n_neighbors: 136\n"
     ]
    }
   ],
   "source": [
    "print(\"Best score: {}\".format(clf.best_score_))    #best auc score as we took that for refit \n",
    "\n",
    "\n",
    "print(\"Best params: \")\n",
    "\n",
    "for param_name in sorted(params.keys()):\n",
    "    print('%s: %r' % (param_name, params[param_name]))"
   ]
  },
  {
   "cell_type": "code",
   "execution_count": 222,
   "metadata": {},
   "outputs": [],
   "source": [
    "#update estimated hyperparameter values to new model\n",
    "from sklearn.neighbors import KNeighborsClassifier\n",
    "params = {'n_neighbors': 136}\n",
    "kfolds = StratifiedKFold(4, random_state=1)\n",
    "knn = KNeighborsClassifier(**params)\n",
    "# cross validation gini\n",
    "auc_cv = cross_val_score(knn, X_train[[\"CUS_LAT\",\"CUS_LONG\"]], y_train, scoring='roc_auc', cv=kfolds.split(X_train[[\"CUS_LAT\",\"CUS_LONG\"]], y_train),\n",
    "                         n_jobs=-1)\n",
    "gini_cv = (2 * np.array(auc_cv) - 1).mean()\n"
   ]
  },
  {
   "cell_type": "code",
   "execution_count": 223,
   "metadata": {},
   "outputs": [],
   "source": [
    "bst = knn.fit(X_train[[\"CUS_LAT\",\"CUS_LONG\"]], np.ravel(y_train))\n",
    "\n",
    "ypred_train = bst.predict_proba(X_train[[\"CUS_LAT\",\"CUS_LONG\"]])[:, 1]\n",
    "ypred_test = bst.predict_proba(X_test[[\"CUS_LAT\",\"CUS_LONG\"]])[:, 1]"
   ]
  },
  {
   "cell_type": "code",
   "execution_count": 224,
   "metadata": {},
   "outputs": [],
   "source": [
    "metric_auc_train = metrics.roc_auc_score(y_train, ypred_train)\n",
    "metric_auc_test = metrics.roc_auc_score(y_test, ypred_test)\n",
    "\n",
    "gini_train = 2 * metric_auc_train - 1\n",
    "gini_test = 2 * metric_auc_test - 1\n"
   ]
  },
  {
   "cell_type": "code",
   "execution_count": 225,
   "metadata": {},
   "outputs": [
    {
     "name": "stdout",
     "output_type": "stream",
     "text": [
      "GINI TRAIN: 22.64%\n",
      "\n",
      "GINI TEST: 13.78%\n",
      "\n",
      "GINI CV: 17.73%\n"
     ]
    }
   ],
   "source": [
    "print(\"GINI TRAIN:\",'{:,.2%}'.format(gini_train))\n",
    "print(\"\\nGINI TEST:\",'{:,.2%}'.format(gini_test))\n",
    "print(\"\\nGINI CV:\",'{:,.2%}'.format(gini_cv))"
   ]
  },
  {
   "cell_type": "code",
   "execution_count": 226,
   "metadata": {},
   "outputs": [
    {
     "name": "stderr",
     "output_type": "stream",
     "text": [
      "C:\\Users\\aman.khatri91425\\AppData\\Local\\Continuum\\anaconda3\\lib\\site-packages\\ipykernel_launcher.py:2: SettingWithCopyWarning: \n",
      "A value is trying to be set on a copy of a slice from a DataFrame.\n",
      "Try using .loc[row_indexer,col_indexer] = value instead\n",
      "\n",
      "See the caveats in the documentation: http://pandas.pydata.org/pandas-docs/stable/indexing.html#indexing-view-versus-copy\n",
      "  \n"
     ]
    }
   ],
   "source": [
    "df_train_under['F30_PRED_SCORE'] = ypred_train\n",
    "df_test['F30_PRED_SCORE'] = ypred_test"
   ]
  },
  {
   "cell_type": "code",
   "execution_count": 227,
   "metadata": {},
   "outputs": [
    {
     "data": {
      "text/html": [
       "<div>\n",
       "<style scoped>\n",
       "    .dataframe tbody tr th:only-of-type {\n",
       "        vertical-align: middle;\n",
       "    }\n",
       "\n",
       "    .dataframe tbody tr th {\n",
       "        vertical-align: top;\n",
       "    }\n",
       "\n",
       "    .dataframe thead th {\n",
       "        text-align: right;\n",
       "    }\n",
       "</style>\n",
       "<table border=\"1\" class=\"dataframe\">\n",
       "  <thead>\n",
       "    <tr style=\"text-align: right;\">\n",
       "      <th></th>\n",
       "      <th>Unnamed: 0</th>\n",
       "      <th>SKP_CREDIT_CASE</th>\n",
       "      <th>TIME_DECISION_DATE</th>\n",
       "      <th>CUS_LAT</th>\n",
       "      <th>CUS_LONG</th>\n",
       "      <th>RISK_FPD10</th>\n",
       "      <th>RISK_FPD30</th>\n",
       "      <th>RISK_FSPD30</th>\n",
       "      <th>RISK_FSTPD30</th>\n",
       "      <th>RISK_FSTQPD30</th>\n",
       "      <th>RISK_FSTQPD60</th>\n",
       "      <th>NTC_FLAG</th>\n",
       "      <th>RISK_SCORE</th>\n",
       "      <th>MONTH_STR</th>\n",
       "      <th>F30_PRED_SCORE</th>\n",
       "      <th>FS30_PRED_SCORE</th>\n",
       "    </tr>\n",
       "  </thead>\n",
       "  <tbody>\n",
       "    <tr>\n",
       "      <th>185665</th>\n",
       "      <td>185665</td>\n",
       "      <td>250244469</td>\n",
       "      <td>2019-08-31</td>\n",
       "      <td>10.042105</td>\n",
       "      <td>76.448236</td>\n",
       "      <td>0.0</td>\n",
       "      <td>0.0</td>\n",
       "      <td>0.0</td>\n",
       "      <td>0.0</td>\n",
       "      <td>0.0</td>\n",
       "      <td>0.0</td>\n",
       "      <td>Others</td>\n",
       "      <td>0.012948</td>\n",
       "      <td>2019-08</td>\n",
       "      <td>0.705882</td>\n",
       "      <td>0.676617</td>\n",
       "    </tr>\n",
       "    <tr>\n",
       "      <th>185666</th>\n",
       "      <td>185666</td>\n",
       "      <td>250244475</td>\n",
       "      <td>2019-08-31</td>\n",
       "      <td>30.691595</td>\n",
       "      <td>76.823270</td>\n",
       "      <td>0.0</td>\n",
       "      <td>0.0</td>\n",
       "      <td>0.0</td>\n",
       "      <td>0.0</td>\n",
       "      <td>0.0</td>\n",
       "      <td>0.0</td>\n",
       "      <td>Others</td>\n",
       "      <td>0.072733</td>\n",
       "      <td>2019-08</td>\n",
       "      <td>0.389706</td>\n",
       "      <td>0.402985</td>\n",
       "    </tr>\n",
       "    <tr>\n",
       "      <th>185667</th>\n",
       "      <td>185667</td>\n",
       "      <td>250244477</td>\n",
       "      <td>2019-08-31</td>\n",
       "      <td>30.750418</td>\n",
       "      <td>76.796404</td>\n",
       "      <td>0.0</td>\n",
       "      <td>0.0</td>\n",
       "      <td>0.0</td>\n",
       "      <td>0.0</td>\n",
       "      <td>0.0</td>\n",
       "      <td>0.0</td>\n",
       "      <td>Others</td>\n",
       "      <td>0.011748</td>\n",
       "      <td>2019-08</td>\n",
       "      <td>0.529412</td>\n",
       "      <td>0.477612</td>\n",
       "    </tr>\n",
       "    <tr>\n",
       "      <th>185668</th>\n",
       "      <td>185668</td>\n",
       "      <td>250244478</td>\n",
       "      <td>2019-08-31</td>\n",
       "      <td>25.774830</td>\n",
       "      <td>73.338201</td>\n",
       "      <td>0.0</td>\n",
       "      <td>0.0</td>\n",
       "      <td>0.0</td>\n",
       "      <td>0.0</td>\n",
       "      <td>0.0</td>\n",
       "      <td>0.0</td>\n",
       "      <td>Others</td>\n",
       "      <td>0.017211</td>\n",
       "      <td>2019-08</td>\n",
       "      <td>0.404412</td>\n",
       "      <td>0.482587</td>\n",
       "    </tr>\n",
       "    <tr>\n",
       "      <th>185669</th>\n",
       "      <td>185669</td>\n",
       "      <td>250244481</td>\n",
       "      <td>2019-08-31</td>\n",
       "      <td>30.293438</td>\n",
       "      <td>77.998160</td>\n",
       "      <td>0.0</td>\n",
       "      <td>0.0</td>\n",
       "      <td>0.0</td>\n",
       "      <td>0.0</td>\n",
       "      <td>0.0</td>\n",
       "      <td>0.0</td>\n",
       "      <td>Others</td>\n",
       "      <td>0.041108</td>\n",
       "      <td>2019-08</td>\n",
       "      <td>0.558824</td>\n",
       "      <td>0.547264</td>\n",
       "    </tr>\n",
       "  </tbody>\n",
       "</table>\n",
       "</div>"
      ],
      "text/plain": [
       "        Unnamed: 0  SKP_CREDIT_CASE TIME_DECISION_DATE    CUS_LAT   CUS_LONG  \\\n",
       "185665      185665        250244469         2019-08-31  10.042105  76.448236   \n",
       "185666      185666        250244475         2019-08-31  30.691595  76.823270   \n",
       "185667      185667        250244477         2019-08-31  30.750418  76.796404   \n",
       "185668      185668        250244478         2019-08-31  25.774830  73.338201   \n",
       "185669      185669        250244481         2019-08-31  30.293438  77.998160   \n",
       "\n",
       "        RISK_FPD10  RISK_FPD30  RISK_FSPD30  RISK_FSTPD30  RISK_FSTQPD30  \\\n",
       "185665         0.0         0.0          0.0           0.0            0.0   \n",
       "185666         0.0         0.0          0.0           0.0            0.0   \n",
       "185667         0.0         0.0          0.0           0.0            0.0   \n",
       "185668         0.0         0.0          0.0           0.0            0.0   \n",
       "185669         0.0         0.0          0.0           0.0            0.0   \n",
       "\n",
       "        RISK_FSTQPD60 NTC_FLAG  RISK_SCORE MONTH_STR  F30_PRED_SCORE  \\\n",
       "185665            0.0   Others    0.012948   2019-08        0.705882   \n",
       "185666            0.0   Others    0.072733   2019-08        0.389706   \n",
       "185667            0.0   Others    0.011748   2019-08        0.529412   \n",
       "185668            0.0   Others    0.017211   2019-08        0.404412   \n",
       "185669            0.0   Others    0.041108   2019-08        0.558824   \n",
       "\n",
       "        FS30_PRED_SCORE  \n",
       "185665         0.676617  \n",
       "185666         0.402985  \n",
       "185667         0.477612  \n",
       "185668         0.482587  \n",
       "185669         0.547264  "
      ]
     },
     "execution_count": 227,
     "metadata": {},
     "output_type": "execute_result"
    }
   ],
   "source": [
    "df_test.head()"
   ]
  },
  {
   "cell_type": "code",
   "execution_count": 228,
   "metadata": {},
   "outputs": [
    {
     "name": "stdout",
     "output_type": "stream",
     "text": [
      "FSTQPD30 Gini:  5.56\n"
     ]
    }
   ],
   "source": [
    "print(\"FSTQPD30 Gini: \" ,round((2*metrics.roc_auc_score(df_test[\"RISK_FSTQPD30\"],df_test[\"F30_PRED_SCORE\"])-1)*100,2))"
   ]
  },
  {
   "cell_type": "code",
   "execution_count": null,
   "metadata": {},
   "outputs": [],
   "source": []
  },
  {
   "cell_type": "markdown",
   "metadata": {},
   "source": [
    "# Try FSPD30 and validate performance on FSTQPD30"
   ]
  },
  {
   "cell_type": "code",
   "execution_count": 189,
   "metadata": {},
   "outputs": [],
   "source": [
    "# Split Train and Test Data Set\n",
    "df_train = df[(df[\"TIME_DECISION_DATE\"]>=datetime.datetime(2018, 3, 1)) & \n",
    "              (df[\"TIME_DECISION_DATE\"]<=datetime.datetime(2019, 3, 1))]\n",
    "# df_test = df[(df[\"TIME_DECISION_DATE\"]>=datetime.datetime(2019, 6, 1)) & \n",
    "#               (df[\"TIME_DECISION_DATE\"]<=datetime.datetime(2019, 8, 31))]"
   ]
  },
  {
   "cell_type": "code",
   "execution_count": 190,
   "metadata": {},
   "outputs": [
    {
     "name": "stdout",
     "output_type": "stream",
     "text": [
      "(4627788, 14)\n",
      "(1078674, 15)\n"
     ]
    },
    {
     "data": {
      "text/plain": [
       "0.0    4502676\n",
       "1.0     125034\n",
       "Name: RISK_FSPD30, dtype: int64"
      ]
     },
     "execution_count": 190,
     "metadata": {},
     "output_type": "execute_result"
    }
   ],
   "source": [
    "print(df_train.shape)\n",
    "print(df_test.shape)\n",
    "df_train.RISK_FSPD30.value_counts()"
   ]
  },
  {
   "cell_type": "code",
   "execution_count": 194,
   "metadata": {},
   "outputs": [],
   "source": [
    "target = \"RISK_FSPD30\""
   ]
  },
  {
   "cell_type": "code",
   "execution_count": 195,
   "metadata": {},
   "outputs": [
    {
     "name": "stdout",
     "output_type": "stream",
     "text": [
      "Random under-sampling:\n",
      "1.0    100000\n",
      "0.0    100000\n",
      "Name: RISK_FSPD30, dtype: int64\n"
     ]
    },
    {
     "data": {
      "image/png": "[encoded data removed]",
      "text/plain": [
       "<Figure size 432x288 with 1 Axes>"
      ]
     },
     "metadata": {
      "needs_background": "light"
     },
     "output_type": "display_data"
    }
   ],
   "source": [
    "#Downsampling Code \n",
    "#count_class_0, count_class_1 = df_train.RISK_FPD10.value_counts()\n",
    "count_class_0, count_class_1 = (100000,100000)\n",
    "df_class_0 = df_train[df_train[target] == 0]\n",
    "df_class_1 = df_train[df_train[target] == 1]\n",
    "df_class_0_under = df_class_0.sample(count_class_0, random_state = 2)\n",
    "df_class_1_under = df_class_1.sample(count_class_1, random_state = 2)\n",
    "df_train_under = pd.concat([df_class_0_under, df_class_1_under], axis=0)\n",
    "\n",
    "print('Random under-sampling:')\n",
    "print(df_train_under[target].value_counts())\n",
    "\n",
    "df_train_under[target].value_counts().plot(kind='bar', title='Count (target)');"
   ]
  },
  {
   "cell_type": "code",
   "execution_count": 196,
   "metadata": {},
   "outputs": [],
   "source": [
    "X_train = df_train_under[[\"CUS_LAT\",\"CUS_LONG\",\"RISK_SCORE\",\"TIME_DECISION_DATE\"]]\n",
    "X_test = df_test[[\"CUS_LAT\",\"CUS_LONG\",\"RISK_SCORE\",\"TIME_DECISION_DATE\"]]\n",
    "\n",
    "y_train = df_train_under[target]\n",
    "y_test =  df_test[target]\n"
   ]
  },
  {
   "cell_type": "code",
   "execution_count": 197,
   "metadata": {},
   "outputs": [
    {
     "name": "stdout",
     "output_type": "stream",
     "text": [
      "\n",
      "Event rate in train set : 50.00%\n",
      "\n",
      "Event rate in test set : 2.59%\n"
     ]
    }
   ],
   "source": [
    "print(\"\\nEvent rate in train set :\", '{:,.2%}'.format(sum(y_train) / len(y_train)))\n",
    "\n",
    "print(\"\\nEvent rate in test set :\", '{:,.2%}'.format(sum(y_test) / len(y_test)))"
   ]
  },
  {
   "cell_type": "code",
   "execution_count": 198,
   "metadata": {},
   "outputs": [],
   "source": [
    "param_grid = {'n_neighbors': np.arange(1,300,5)\n",
    "            }\n",
    "seed = 25"
   ]
  },
  {
   "cell_type": "code",
   "execution_count": 199,
   "metadata": {},
   "outputs": [],
   "source": [
    "from sklearn.neighbors import KNeighborsClassifier\n",
    "# Create KNN classifier\n",
    "knn = KNeighborsClassifier(weights = 'uniform')\n",
    "kfolds = StratifiedKFold(3, random_state=1)\n",
    "\n",
    "clf = RandomizedSearchCV(estimator=knn, param_distributions=param_grid, scoring=['roc_auc'], n_iter=10,\n",
    "                         random_state=seed, cv=kfolds.split(X_train[[\"CUS_LAT\",\"CUS_LONG\"]], y_train), refit='roc_auc',error_score=0, return_train_score =True)\n"
   ]
  },
  {
   "cell_type": "code",
   "execution_count": 200,
   "metadata": {},
   "outputs": [
    {
     "name": "stdout",
     "output_type": "stream",
     "text": [
      "Randomized search..\n",
      "Randomized search time: 192.83939218521118\n"
     ]
    }
   ],
   "source": [
    "print(\"Randomized search..\")\n",
    "\n",
    "search_time_start = time.time()\n",
    "clf.fit(X_train[[\"CUS_LAT\",\"CUS_LONG\"]], np.ravel(y_train))\n",
    "print(\"Randomized search time:\", time.time() - search_time_start)\n",
    "\n",
    "params = clf.best_params_   #get best parameters\n",
    "dic=clf.cv_results_    #provides scoring results for each iteration, 50 in this case, mean values can be used \n",
    "tmp= pd.DataFrame(dic['params'])"
   ]
  },
  {
   "cell_type": "code",
   "execution_count": 201,
   "metadata": {},
   "outputs": [],
   "source": [
    "pd.DataFrame(dic).to_csv(r\"C:\\Users\\aman.khatri91425\\Desktop\\HomeCredit\\Bigdata\\ShortTargets_RCV_results_FSPD30.csv\")"
   ]
  },
  {
   "cell_type": "code",
   "execution_count": 202,
   "metadata": {},
   "outputs": [],
   "source": [
    "tmp1= pd.DataFrame(dic)[[\"param_n_neighbors\",\"mean_test_roc_auc\",\"mean_train_roc_auc\"]].sort_values(by = 'param_n_neighbors')"
   ]
  },
  {
   "cell_type": "code",
   "execution_count": 203,
   "metadata": {},
   "outputs": [
    {
     "data": {
      "text/plain": [
       "<matplotlib.axes._subplots.AxesSubplot at 0x1a63a5b4908>"
      ]
     },
     "execution_count": 203,
     "metadata": {},
     "output_type": "execute_result"
    },
    {
     "data": {
      "image/png": "[encoded data removed]",
      "text/plain": [
       "<Figure size 432x288 with 1 Axes>"
      ]
     },
     "metadata": {
      "needs_background": "light"
     },
     "output_type": "display_data"
    }
   ],
   "source": [
    "tmp1[[\"param_n_neighbors\",\"mean_test_roc_auc\"]].plot(x=\"param_n_neighbors\")"
   ]
  },
  {
   "cell_type": "code",
   "execution_count": 204,
   "metadata": {},
   "outputs": [
    {
     "data": {
      "text/html": [
       "<div>\n",
       "<style scoped>\n",
       "    .dataframe tbody tr th:only-of-type {\n",
       "        vertical-align: middle;\n",
       "    }\n",
       "\n",
       "    .dataframe tbody tr th {\n",
       "        vertical-align: top;\n",
       "    }\n",
       "\n",
       "    .dataframe thead th {\n",
       "        text-align: right;\n",
       "    }\n",
       "</style>\n",
       "<table border=\"1\" class=\"dataframe\">\n",
       "  <thead>\n",
       "    <tr style=\"text-align: right;\">\n",
       "      <th></th>\n",
       "      <th>param_n_neighbors</th>\n",
       "      <th>mean_test_roc_auc</th>\n",
       "    </tr>\n",
       "  </thead>\n",
       "  <tbody>\n",
       "    <tr>\n",
       "      <th>4</th>\n",
       "      <td>36</td>\n",
       "      <td>0.568286</td>\n",
       "    </tr>\n",
       "    <tr>\n",
       "      <th>1</th>\n",
       "      <td>61</td>\n",
       "      <td>0.572803</td>\n",
       "    </tr>\n",
       "    <tr>\n",
       "      <th>2</th>\n",
       "      <td>66</td>\n",
       "      <td>0.573327</td>\n",
       "    </tr>\n",
       "    <tr>\n",
       "      <th>0</th>\n",
       "      <td>96</td>\n",
       "      <td>0.575575</td>\n",
       "    </tr>\n",
       "    <tr>\n",
       "      <th>6</th>\n",
       "      <td>136</td>\n",
       "      <td>0.576848</td>\n",
       "    </tr>\n",
       "    <tr>\n",
       "      <th>3</th>\n",
       "      <td>146</td>\n",
       "      <td>0.577318</td>\n",
       "    </tr>\n",
       "    <tr>\n",
       "      <th>7</th>\n",
       "      <td>151</td>\n",
       "      <td>0.577481</td>\n",
       "    </tr>\n",
       "    <tr>\n",
       "      <th>8</th>\n",
       "      <td>201</td>\n",
       "      <td>0.577931</td>\n",
       "    </tr>\n",
       "    <tr>\n",
       "      <th>5</th>\n",
       "      <td>206</td>\n",
       "      <td>0.577776</td>\n",
       "    </tr>\n",
       "    <tr>\n",
       "      <th>9</th>\n",
       "      <td>276</td>\n",
       "      <td>0.576940</td>\n",
       "    </tr>\n",
       "  </tbody>\n",
       "</table>\n",
       "</div>"
      ],
      "text/plain": [
       "  param_n_neighbors  mean_test_roc_auc\n",
       "4                36           0.568286\n",
       "1                61           0.572803\n",
       "2                66           0.573327\n",
       "0                96           0.575575\n",
       "6               136           0.576848\n",
       "3               146           0.577318\n",
       "7               151           0.577481\n",
       "8               201           0.577931\n",
       "5               206           0.577776\n",
       "9               276           0.576940"
      ]
     },
     "execution_count": 204,
     "metadata": {},
     "output_type": "execute_result"
    }
   ],
   "source": [
    "tmp1[[\"param_n_neighbors\",\"mean_test_roc_auc\"]]"
   ]
  },
  {
   "cell_type": "code",
   "execution_count": 205,
   "metadata": {},
   "outputs": [
    {
     "name": "stdout",
     "output_type": "stream",
     "text": [
      "Best score: 0.57793104006906\n",
      "Best params: \n",
      "n_neighbors: 201\n"
     ]
    }
   ],
   "source": [
    "print(\"Best score: {}\".format(clf.best_score_))    #best auc score as we took that for refit \n",
    "\n",
    "\n",
    "print(\"Best params: \")\n",
    "\n",
    "for param_name in sorted(params.keys()):\n",
    "    print('%s: %r' % (param_name, params[param_name]))"
   ]
  },
  {
   "cell_type": "code",
   "execution_count": 206,
   "metadata": {},
   "outputs": [],
   "source": [
    "#update estimated hyperparameter values to new model\n",
    "from sklearn.neighbors import KNeighborsClassifier\n",
    "params = {'n_neighbors': 201}\n",
    "kfolds = StratifiedKFold(4, random_state=1)\n",
    "knn = KNeighborsClassifier(**params)\n",
    "# cross validation gini\n",
    "auc_cv = cross_val_score(knn, X_train[[\"CUS_LAT\",\"CUS_LONG\"]], y_train, scoring='roc_auc', cv=kfolds.split(X_train[[\"CUS_LAT\",\"CUS_LONG\"]], y_train),\n",
    "                         n_jobs=-1)\n",
    "gini_cv = (2 * np.array(auc_cv) - 1).mean()\n"
   ]
  },
  {
   "cell_type": "code",
   "execution_count": 207,
   "metadata": {},
   "outputs": [],
   "source": [
    "bst = knn.fit(X_train[[\"CUS_LAT\",\"CUS_LONG\"]], np.ravel(y_train))\n",
    "\n",
    "ypred_train = bst.predict_proba(X_train[[\"CUS_LAT\",\"CUS_LONG\"]])[:, 1]\n",
    "ypred_test = bst.predict_proba(X_test[[\"CUS_LAT\",\"CUS_LONG\"]])[:, 1]"
   ]
  },
  {
   "cell_type": "code",
   "execution_count": 208,
   "metadata": {},
   "outputs": [],
   "source": [
    "metric_auc_train = metrics.roc_auc_score(y_train, ypred_train)\n",
    "metric_auc_test = metrics.roc_auc_score(y_test, ypred_test)\n",
    "\n",
    "gini_train = 2 * metric_auc_train - 1\n",
    "gini_test = 2 * metric_auc_test - 1\n"
   ]
  },
  {
   "cell_type": "code",
   "execution_count": 209,
   "metadata": {},
   "outputs": [
    {
     "name": "stdout",
     "output_type": "stream",
     "text": [
      "GINI TRAIN: 19.59%\n",
      "\n",
      "GINI TEST: 11.84%\n",
      "\n",
      "GINI CV: 15.86%\n"
     ]
    }
   ],
   "source": [
    "print(\"GINI TRAIN:\",'{:,.2%}'.format(gini_train))\n",
    "print(\"\\nGINI TEST:\",'{:,.2%}'.format(gini_test))\n",
    "print(\"\\nGINI CV:\",'{:,.2%}'.format(gini_cv))"
   ]
  },
  {
   "cell_type": "code",
   "execution_count": 213,
   "metadata": {},
   "outputs": [
    {
     "name": "stderr",
     "output_type": "stream",
     "text": [
      "C:\\Users\\aman.khatri91425\\AppData\\Local\\Continuum\\anaconda3\\lib\\site-packages\\ipykernel_launcher.py:2: SettingWithCopyWarning: \n",
      "A value is trying to be set on a copy of a slice from a DataFrame.\n",
      "Try using .loc[row_indexer,col_indexer] = value instead\n",
      "\n",
      "See the caveats in the documentation: http://pandas.pydata.org/pandas-docs/stable/indexing.html#indexing-view-versus-copy\n",
      "  \n"
     ]
    }
   ],
   "source": [
    "df_train_under['FS30_PRED_SCORE'] = ypred_train\n",
    "df_test['FS30_PRED_SCORE'] = ypred_test"
   ]
  },
  {
   "cell_type": "code",
   "execution_count": 214,
   "metadata": {},
   "outputs": [
    {
     "data": {
      "text/html": [
       "<div>\n",
       "<style scoped>\n",
       "    .dataframe tbody tr th:only-of-type {\n",
       "        vertical-align: middle;\n",
       "    }\n",
       "\n",
       "    .dataframe tbody tr th {\n",
       "        vertical-align: top;\n",
       "    }\n",
       "\n",
       "    .dataframe thead th {\n",
       "        text-align: right;\n",
       "    }\n",
       "</style>\n",
       "<table border=\"1\" class=\"dataframe\">\n",
       "  <thead>\n",
       "    <tr style=\"text-align: right;\">\n",
       "      <th></th>\n",
       "      <th>Unnamed: 0</th>\n",
       "      <th>SKP_CREDIT_CASE</th>\n",
       "      <th>TIME_DECISION_DATE</th>\n",
       "      <th>CUS_LAT</th>\n",
       "      <th>CUS_LONG</th>\n",
       "      <th>RISK_FPD10</th>\n",
       "      <th>RISK_FPD30</th>\n",
       "      <th>RISK_FSPD30</th>\n",
       "      <th>RISK_FSTPD30</th>\n",
       "      <th>RISK_FSTQPD30</th>\n",
       "      <th>RISK_FSTQPD60</th>\n",
       "      <th>NTC_FLAG</th>\n",
       "      <th>RISK_SCORE</th>\n",
       "      <th>MONTH_STR</th>\n",
       "      <th>F30_PRED_SCORE</th>\n",
       "      <th>FS30_PRED_SCORE</th>\n",
       "    </tr>\n",
       "  </thead>\n",
       "  <tbody>\n",
       "    <tr>\n",
       "      <th>185665</th>\n",
       "      <td>185665</td>\n",
       "      <td>250244469</td>\n",
       "      <td>2019-08-31</td>\n",
       "      <td>10.042105</td>\n",
       "      <td>76.448236</td>\n",
       "      <td>0.0</td>\n",
       "      <td>0.0</td>\n",
       "      <td>0.0</td>\n",
       "      <td>0.0</td>\n",
       "      <td>0.0</td>\n",
       "      <td>0.0</td>\n",
       "      <td>Others</td>\n",
       "      <td>0.012948</td>\n",
       "      <td>2019-08</td>\n",
       "      <td>0.676617</td>\n",
       "      <td>0.676617</td>\n",
       "    </tr>\n",
       "    <tr>\n",
       "      <th>185666</th>\n",
       "      <td>185666</td>\n",
       "      <td>250244475</td>\n",
       "      <td>2019-08-31</td>\n",
       "      <td>30.691595</td>\n",
       "      <td>76.823270</td>\n",
       "      <td>0.0</td>\n",
       "      <td>0.0</td>\n",
       "      <td>0.0</td>\n",
       "      <td>0.0</td>\n",
       "      <td>0.0</td>\n",
       "      <td>0.0</td>\n",
       "      <td>Others</td>\n",
       "      <td>0.072733</td>\n",
       "      <td>2019-08</td>\n",
       "      <td>0.402985</td>\n",
       "      <td>0.402985</td>\n",
       "    </tr>\n",
       "    <tr>\n",
       "      <th>185667</th>\n",
       "      <td>185667</td>\n",
       "      <td>250244477</td>\n",
       "      <td>2019-08-31</td>\n",
       "      <td>30.750418</td>\n",
       "      <td>76.796404</td>\n",
       "      <td>0.0</td>\n",
       "      <td>0.0</td>\n",
       "      <td>0.0</td>\n",
       "      <td>0.0</td>\n",
       "      <td>0.0</td>\n",
       "      <td>0.0</td>\n",
       "      <td>Others</td>\n",
       "      <td>0.011748</td>\n",
       "      <td>2019-08</td>\n",
       "      <td>0.477612</td>\n",
       "      <td>0.477612</td>\n",
       "    </tr>\n",
       "    <tr>\n",
       "      <th>185668</th>\n",
       "      <td>185668</td>\n",
       "      <td>250244478</td>\n",
       "      <td>2019-08-31</td>\n",
       "      <td>25.774830</td>\n",
       "      <td>73.338201</td>\n",
       "      <td>0.0</td>\n",
       "      <td>0.0</td>\n",
       "      <td>0.0</td>\n",
       "      <td>0.0</td>\n",
       "      <td>0.0</td>\n",
       "      <td>0.0</td>\n",
       "      <td>Others</td>\n",
       "      <td>0.017211</td>\n",
       "      <td>2019-08</td>\n",
       "      <td>0.482587</td>\n",
       "      <td>0.482587</td>\n",
       "    </tr>\n",
       "    <tr>\n",
       "      <th>185669</th>\n",
       "      <td>185669</td>\n",
       "      <td>250244481</td>\n",
       "      <td>2019-08-31</td>\n",
       "      <td>30.293438</td>\n",
       "      <td>77.998160</td>\n",
       "      <td>0.0</td>\n",
       "      <td>0.0</td>\n",
       "      <td>0.0</td>\n",
       "      <td>0.0</td>\n",
       "      <td>0.0</td>\n",
       "      <td>0.0</td>\n",
       "      <td>Others</td>\n",
       "      <td>0.041108</td>\n",
       "      <td>2019-08</td>\n",
       "      <td>0.547264</td>\n",
       "      <td>0.547264</td>\n",
       "    </tr>\n",
       "  </tbody>\n",
       "</table>\n",
       "</div>"
      ],
      "text/plain": [
       "        Unnamed: 0  SKP_CREDIT_CASE TIME_DECISION_DATE    CUS_LAT   CUS_LONG  \\\n",
       "185665      185665        250244469         2019-08-31  10.042105  76.448236   \n",
       "185666      185666        250244475         2019-08-31  30.691595  76.823270   \n",
       "185667      185667        250244477         2019-08-31  30.750418  76.796404   \n",
       "185668      185668        250244478         2019-08-31  25.774830  73.338201   \n",
       "185669      185669        250244481         2019-08-31  30.293438  77.998160   \n",
       "\n",
       "        RISK_FPD10  RISK_FPD30  RISK_FSPD30  RISK_FSTPD30  RISK_FSTQPD30  \\\n",
       "185665         0.0         0.0          0.0           0.0            0.0   \n",
       "185666         0.0         0.0          0.0           0.0            0.0   \n",
       "185667         0.0         0.0          0.0           0.0            0.0   \n",
       "185668         0.0         0.0          0.0           0.0            0.0   \n",
       "185669         0.0         0.0          0.0           0.0            0.0   \n",
       "\n",
       "        RISK_FSTQPD60 NTC_FLAG  RISK_SCORE MONTH_STR  F30_PRED_SCORE  \\\n",
       "185665            0.0   Others    0.012948   2019-08        0.676617   \n",
       "185666            0.0   Others    0.072733   2019-08        0.402985   \n",
       "185667            0.0   Others    0.011748   2019-08        0.477612   \n",
       "185668            0.0   Others    0.017211   2019-08        0.482587   \n",
       "185669            0.0   Others    0.041108   2019-08        0.547264   \n",
       "\n",
       "        FS30_PRED_SCORE  \n",
       "185665         0.676617  \n",
       "185666         0.402985  \n",
       "185667         0.477612  \n",
       "185668         0.482587  \n",
       "185669         0.547264  "
      ]
     },
     "execution_count": 214,
     "metadata": {},
     "output_type": "execute_result"
    }
   ],
   "source": [
    "df_test.head()"
   ]
  },
  {
   "cell_type": "code",
   "execution_count": 215,
   "metadata": {},
   "outputs": [
    {
     "name": "stdout",
     "output_type": "stream",
     "text": [
      "FSTQPD30 Gini:  6.24\n"
     ]
    }
   ],
   "source": [
    "print(\"FSTQPD30 Gini: \" ,round((2*metrics.roc_auc_score(df_test[\"RISK_FSTQPD30\"],df_test[\"FS30_PRED_SCORE\"])-1)*100,2))"
   ]
  },
  {
   "cell_type": "markdown",
   "metadata": {},
   "source": [
    "# Try FSTPD30 and validate performance on FSTQPD30"
   ]
  },
  {
   "cell_type": "code",
   "execution_count": 229,
   "metadata": {},
   "outputs": [],
   "source": [
    "# Split Train and Test Data Set\n",
    "df_train = df[(df[\"TIME_DECISION_DATE\"]>=datetime.datetime(2018, 2, 1)) & \n",
    "              (df[\"TIME_DECISION_DATE\"]<=datetime.datetime(2019, 2, 1))]\n",
    "# df_test = df[(df[\"TIME_DECISION_DATE\"]>=datetime.datetime(2019, 6, 1)) & \n",
    "#               (df[\"TIME_DECISION_DATE\"]<=datetime.datetime(2019, 8, 31))]"
   ]
  },
  {
   "cell_type": "code",
   "execution_count": 231,
   "metadata": {},
   "outputs": [
    {
     "name": "stdout",
     "output_type": "stream",
     "text": [
      "(4655199, 14)\n",
      "(1078674, 16)\n"
     ]
    },
    {
     "data": {
      "text/plain": [
       "0.0    4451433\n",
       "1.0     203688\n",
       "Name: RISK_FSTPD30, dtype: int64"
      ]
     },
     "execution_count": 231,
     "metadata": {},
     "output_type": "execute_result"
    }
   ],
   "source": [
    "print(df_train.shape)\n",
    "print(df_test.shape)\n",
    "df_train.RISK_FSTPD30.value_counts()"
   ]
  },
  {
   "cell_type": "code",
   "execution_count": 232,
   "metadata": {},
   "outputs": [],
   "source": [
    "target = \"RISK_FSTPD30\""
   ]
  },
  {
   "cell_type": "code",
   "execution_count": 233,
   "metadata": {},
   "outputs": [
    {
     "name": "stdout",
     "output_type": "stream",
     "text": [
      "Random under-sampling:\n",
      "1.0    175000\n",
      "0.0    175000\n",
      "Name: RISK_FSTPD30, dtype: int64\n"
     ]
    },
    {
     "data": {
      "image/png": "[encoded data removed]",
      "text/plain": [
       "<Figure size 432x288 with 1 Axes>"
      ]
     },
     "metadata": {
      "needs_background": "light"
     },
     "output_type": "display_data"
    }
   ],
   "source": [
    "#Downsampling Code \n",
    "#count_class_0, count_class_1 = df_train.RISK_FPD10.value_counts()\n",
    "count_class_0, count_class_1 = (175000,175000)\n",
    "df_class_0 = df_train[df_train[target] == 0]\n",
    "df_class_1 = df_train[df_train[target] == 1]\n",
    "df_class_0_under = df_class_0.sample(count_class_0, random_state = 2)\n",
    "df_class_1_under = df_class_1.sample(count_class_1, random_state = 2)\n",
    "df_train_under = pd.concat([df_class_0_under, df_class_1_under], axis=0)\n",
    "\n",
    "print('Random under-sampling:')\n",
    "print(df_train_under[target].value_counts())\n",
    "\n",
    "df_train_under[target].value_counts().plot(kind='bar', title='Count (target)');"
   ]
  },
  {
   "cell_type": "code",
   "execution_count": 234,
   "metadata": {},
   "outputs": [],
   "source": [
    "X_train = df_train_under[[\"CUS_LAT\",\"CUS_LONG\",\"RISK_SCORE\",\"TIME_DECISION_DATE\"]]\n",
    "X_test = df_test[[\"CUS_LAT\",\"CUS_LONG\",\"RISK_SCORE\",\"TIME_DECISION_DATE\"]]\n",
    "\n",
    "y_train = df_train_under[target]\n",
    "y_test =  df_test[target]\n"
   ]
  },
  {
   "cell_type": "code",
   "execution_count": 235,
   "metadata": {},
   "outputs": [
    {
     "name": "stdout",
     "output_type": "stream",
     "text": [
      "\n",
      "Event rate in train set : 50.00%\n",
      "\n",
      "Event rate in test set : 4.13%\n"
     ]
    }
   ],
   "source": [
    "print(\"\\nEvent rate in train set :\", '{:,.2%}'.format(sum(y_train) / len(y_train)))\n",
    "\n",
    "print(\"\\nEvent rate in test set :\", '{:,.2%}'.format(sum(y_test) / len(y_test)))"
   ]
  },
  {
   "cell_type": "code",
   "execution_count": 237,
   "metadata": {},
   "outputs": [],
   "source": [
    "param_grid = {'n_neighbors': np.arange(1,350,5)\n",
    "            }\n",
    "seed = 25"
   ]
  },
  {
   "cell_type": "code",
   "execution_count": 238,
   "metadata": {},
   "outputs": [],
   "source": [
    "from sklearn.neighbors import KNeighborsClassifier\n",
    "# Create KNN classifier\n",
    "knn = KNeighborsClassifier(weights = 'uniform')\n",
    "kfolds = StratifiedKFold(3, random_state=1)\n",
    "\n",
    "clf = RandomizedSearchCV(estimator=knn, param_distributions=param_grid, scoring=['roc_auc'], n_iter=10,\n",
    "                         random_state=seed, cv=kfolds.split(X_train[[\"CUS_LAT\",\"CUS_LONG\"]], y_train), refit='roc_auc',error_score=0, return_train_score =True)\n"
   ]
  },
  {
   "cell_type": "code",
   "execution_count": 239,
   "metadata": {},
   "outputs": [
    {
     "name": "stdout",
     "output_type": "stream",
     "text": [
      "Randomized search..\n",
      "Randomized search time: 462.0648925304413\n"
     ]
    }
   ],
   "source": [
    "print(\"Randomized search..\")\n",
    "\n",
    "search_time_start = time.time()\n",
    "clf.fit(X_train[[\"CUS_LAT\",\"CUS_LONG\"]], np.ravel(y_train))\n",
    "print(\"Randomized search time:\", time.time() - search_time_start)\n",
    "\n",
    "params = clf.best_params_   #get best parameters\n",
    "dic=clf.cv_results_    #provides scoring results for each iteration, 50 in this case, mean values can be used \n",
    "tmp= pd.DataFrame(dic['params'])"
   ]
  },
  {
   "cell_type": "code",
   "execution_count": 240,
   "metadata": {},
   "outputs": [],
   "source": [
    "pd.DataFrame(dic).to_csv(r\"C:\\Users\\aman.khatri91425\\Desktop\\HomeCredit\\Bigdata\\ShortTargets_RCV_results_FSTPD30.csv\")"
   ]
  },
  {
   "cell_type": "code",
   "execution_count": 241,
   "metadata": {},
   "outputs": [],
   "source": [
    "tmp1= pd.DataFrame(dic)[[\"param_n_neighbors\",\"mean_test_roc_auc\",\"mean_train_roc_auc\"]].sort_values(by = 'param_n_neighbors')"
   ]
  },
  {
   "cell_type": "code",
   "execution_count": 242,
   "metadata": {},
   "outputs": [
    {
     "data": {
      "text/plain": [
       "<matplotlib.axes._subplots.AxesSubplot at 0x1a6412e5128>"
      ]
     },
     "execution_count": 242,
     "metadata": {},
     "output_type": "execute_result"
    },
    {
     "data": {
      "image/png": "[encoded data removed]",
      "text/plain": [
       "<Figure size 432x288 with 1 Axes>"
      ]
     },
     "metadata": {
      "needs_background": "light"
     },
     "output_type": "display_data"
    }
   ],
   "source": [
    "tmp1[[\"param_n_neighbors\",\"mean_test_roc_auc\"]].plot(x=\"param_n_neighbors\")"
   ]
  },
  {
   "cell_type": "code",
   "execution_count": 243,
   "metadata": {},
   "outputs": [
    {
     "data": {
      "text/html": [
       "<div>\n",
       "<style scoped>\n",
       "    .dataframe tbody tr th:only-of-type {\n",
       "        vertical-align: middle;\n",
       "    }\n",
       "\n",
       "    .dataframe tbody tr th {\n",
       "        vertical-align: top;\n",
       "    }\n",
       "\n",
       "    .dataframe thead th {\n",
       "        text-align: right;\n",
       "    }\n",
       "</style>\n",
       "<table border=\"1\" class=\"dataframe\">\n",
       "  <thead>\n",
       "    <tr style=\"text-align: right;\">\n",
       "      <th></th>\n",
       "      <th>param_n_neighbors</th>\n",
       "      <th>mean_test_roc_auc</th>\n",
       "    </tr>\n",
       "  </thead>\n",
       "  <tbody>\n",
       "    <tr>\n",
       "      <th>2</th>\n",
       "      <td>1</td>\n",
       "      <td>0.514814</td>\n",
       "    </tr>\n",
       "    <tr>\n",
       "      <th>1</th>\n",
       "      <td>61</td>\n",
       "      <td>0.566317</td>\n",
       "    </tr>\n",
       "    <tr>\n",
       "      <th>8</th>\n",
       "      <td>66</td>\n",
       "      <td>0.567108</td>\n",
       "    </tr>\n",
       "    <tr>\n",
       "      <th>6</th>\n",
       "      <td>86</td>\n",
       "      <td>0.568891</td>\n",
       "    </tr>\n",
       "    <tr>\n",
       "      <th>9</th>\n",
       "      <td>166</td>\n",
       "      <td>0.571446</td>\n",
       "    </tr>\n",
       "    <tr>\n",
       "      <th>3</th>\n",
       "      <td>191</td>\n",
       "      <td>0.572112</td>\n",
       "    </tr>\n",
       "    <tr>\n",
       "      <th>5</th>\n",
       "      <td>206</td>\n",
       "      <td>0.572095</td>\n",
       "    </tr>\n",
       "    <tr>\n",
       "      <th>7</th>\n",
       "      <td>291</td>\n",
       "      <td>0.571974</td>\n",
       "    </tr>\n",
       "    <tr>\n",
       "      <th>4</th>\n",
       "      <td>321</td>\n",
       "      <td>0.571688</td>\n",
       "    </tr>\n",
       "    <tr>\n",
       "      <th>0</th>\n",
       "      <td>336</td>\n",
       "      <td>0.571648</td>\n",
       "    </tr>\n",
       "  </tbody>\n",
       "</table>\n",
       "</div>"
      ],
      "text/plain": [
       "  param_n_neighbors  mean_test_roc_auc\n",
       "2                 1           0.514814\n",
       "1                61           0.566317\n",
       "8                66           0.567108\n",
       "6                86           0.568891\n",
       "9               166           0.571446\n",
       "3               191           0.572112\n",
       "5               206           0.572095\n",
       "7               291           0.571974\n",
       "4               321           0.571688\n",
       "0               336           0.571648"
      ]
     },
     "execution_count": 243,
     "metadata": {},
     "output_type": "execute_result"
    }
   ],
   "source": [
    "tmp1[[\"param_n_neighbors\",\"mean_test_roc_auc\"]]"
   ]
  },
  {
   "cell_type": "code",
   "execution_count": 244,
   "metadata": {},
   "outputs": [
    {
     "name": "stdout",
     "output_type": "stream",
     "text": [
      "Best score: 0.5721117854973191\n",
      "Best params: \n",
      "n_neighbors: 191\n"
     ]
    }
   ],
   "source": [
    "print(\"Best score: {}\".format(clf.best_score_))    #best auc score as we took that for refit \n",
    "\n",
    "\n",
    "print(\"Best params: \")\n",
    "\n",
    "for param_name in sorted(params.keys()):\n",
    "    print('%s: %r' % (param_name, params[param_name]))"
   ]
  },
  {
   "cell_type": "code",
   "execution_count": 245,
   "metadata": {},
   "outputs": [],
   "source": [
    "#update estimated hyperparameter values to new model\n",
    "from sklearn.neighbors import KNeighborsClassifier\n",
    "params = {'n_neighbors': 191}\n",
    "kfolds = StratifiedKFold(4, random_state=1)\n",
    "knn = KNeighborsClassifier(**params)\n",
    "# cross validation gini\n",
    "auc_cv = cross_val_score(knn, X_train[[\"CUS_LAT\",\"CUS_LONG\"]], y_train, scoring='roc_auc', cv=kfolds.split(X_train[[\"CUS_LAT\",\"CUS_LONG\"]], y_train),\n",
    "                         n_jobs=-1)\n",
    "gini_cv = (2 * np.array(auc_cv) - 1).mean()\n"
   ]
  },
  {
   "cell_type": "code",
   "execution_count": 246,
   "metadata": {},
   "outputs": [],
   "source": [
    "bst = knn.fit(X_train[[\"CUS_LAT\",\"CUS_LONG\"]], np.ravel(y_train))\n",
    "\n",
    "ypred_train = bst.predict_proba(X_train[[\"CUS_LAT\",\"CUS_LONG\"]])[:, 1]\n",
    "ypred_test = bst.predict_proba(X_test[[\"CUS_LAT\",\"CUS_LONG\"]])[:, 1]"
   ]
  },
  {
   "cell_type": "code",
   "execution_count": 247,
   "metadata": {},
   "outputs": [],
   "source": [
    "metric_auc_train = metrics.roc_auc_score(y_train, ypred_train)\n",
    "metric_auc_test = metrics.roc_auc_score(y_test, ypred_test)\n",
    "\n",
    "gini_train = 2 * metric_auc_train - 1\n",
    "gini_test = 2 * metric_auc_test - 1\n"
   ]
  },
  {
   "cell_type": "code",
   "execution_count": 248,
   "metadata": {},
   "outputs": [
    {
     "name": "stdout",
     "output_type": "stream",
     "text": [
      "GINI TRAIN: 18.53%\n",
      "\n",
      "GINI TEST: 9.73%\n",
      "\n",
      "GINI CV: 14.40%\n"
     ]
    }
   ],
   "source": [
    "print(\"GINI TRAIN:\",'{:,.2%}'.format(gini_train))\n",
    "print(\"\\nGINI TEST:\",'{:,.2%}'.format(gini_test))\n",
    "print(\"\\nGINI CV:\",'{:,.2%}'.format(gini_cv))"
   ]
  },
  {
   "cell_type": "code",
   "execution_count": 249,
   "metadata": {},
   "outputs": [
    {
     "name": "stderr",
     "output_type": "stream",
     "text": [
      "C:\\Users\\aman.khatri91425\\AppData\\Local\\Continuum\\anaconda3\\lib\\site-packages\\ipykernel_launcher.py:2: SettingWithCopyWarning: \n",
      "A value is trying to be set on a copy of a slice from a DataFrame.\n",
      "Try using .loc[row_indexer,col_indexer] = value instead\n",
      "\n",
      "See the caveats in the documentation: http://pandas.pydata.org/pandas-docs/stable/indexing.html#indexing-view-versus-copy\n",
      "  \n"
     ]
    }
   ],
   "source": [
    "df_train_under['FST30_PRED_SCORE'] = ypred_train\n",
    "df_test['FST30_PRED_SCORE'] = ypred_test"
   ]
  },
  {
   "cell_type": "code",
   "execution_count": 250,
   "metadata": {},
   "outputs": [
    {
     "data": {
      "text/html": [
       "<div>\n",
       "<style scoped>\n",
       "    .dataframe tbody tr th:only-of-type {\n",
       "        vertical-align: middle;\n",
       "    }\n",
       "\n",
       "    .dataframe tbody tr th {\n",
       "        vertical-align: top;\n",
       "    }\n",
       "\n",
       "    .dataframe thead th {\n",
       "        text-align: right;\n",
       "    }\n",
       "</style>\n",
       "<table border=\"1\" class=\"dataframe\">\n",
       "  <thead>\n",
       "    <tr style=\"text-align: right;\">\n",
       "      <th></th>\n",
       "      <th>Unnamed: 0</th>\n",
       "      <th>SKP_CREDIT_CASE</th>\n",
       "      <th>TIME_DECISION_DATE</th>\n",
       "      <th>CUS_LAT</th>\n",
       "      <th>CUS_LONG</th>\n",
       "      <th>RISK_FPD10</th>\n",
       "      <th>RISK_FPD30</th>\n",
       "      <th>RISK_FSPD30</th>\n",
       "      <th>RISK_FSTPD30</th>\n",
       "      <th>RISK_FSTQPD30</th>\n",
       "      <th>RISK_FSTQPD60</th>\n",
       "      <th>NTC_FLAG</th>\n",
       "      <th>RISK_SCORE</th>\n",
       "      <th>MONTH_STR</th>\n",
       "      <th>F30_PRED_SCORE</th>\n",
       "      <th>FS30_PRED_SCORE</th>\n",
       "      <th>FST30_PRED_SCORE</th>\n",
       "    </tr>\n",
       "  </thead>\n",
       "  <tbody>\n",
       "    <tr>\n",
       "      <th>185665</th>\n",
       "      <td>185665</td>\n",
       "      <td>250244469</td>\n",
       "      <td>2019-08-31</td>\n",
       "      <td>10.042105</td>\n",
       "      <td>76.448236</td>\n",
       "      <td>0.0</td>\n",
       "      <td>0.0</td>\n",
       "      <td>0.0</td>\n",
       "      <td>0.0</td>\n",
       "      <td>0.0</td>\n",
       "      <td>0.0</td>\n",
       "      <td>Others</td>\n",
       "      <td>0.012948</td>\n",
       "      <td>2019-08</td>\n",
       "      <td>0.705882</td>\n",
       "      <td>0.676617</td>\n",
       "      <td>0.628272</td>\n",
       "    </tr>\n",
       "    <tr>\n",
       "      <th>185666</th>\n",
       "      <td>185666</td>\n",
       "      <td>250244475</td>\n",
       "      <td>2019-08-31</td>\n",
       "      <td>30.691595</td>\n",
       "      <td>76.823270</td>\n",
       "      <td>0.0</td>\n",
       "      <td>0.0</td>\n",
       "      <td>0.0</td>\n",
       "      <td>0.0</td>\n",
       "      <td>0.0</td>\n",
       "      <td>0.0</td>\n",
       "      <td>Others</td>\n",
       "      <td>0.072733</td>\n",
       "      <td>2019-08</td>\n",
       "      <td>0.389706</td>\n",
       "      <td>0.402985</td>\n",
       "      <td>0.403141</td>\n",
       "    </tr>\n",
       "    <tr>\n",
       "      <th>185667</th>\n",
       "      <td>185667</td>\n",
       "      <td>250244477</td>\n",
       "      <td>2019-08-31</td>\n",
       "      <td>30.750418</td>\n",
       "      <td>76.796404</td>\n",
       "      <td>0.0</td>\n",
       "      <td>0.0</td>\n",
       "      <td>0.0</td>\n",
       "      <td>0.0</td>\n",
       "      <td>0.0</td>\n",
       "      <td>0.0</td>\n",
       "      <td>Others</td>\n",
       "      <td>0.011748</td>\n",
       "      <td>2019-08</td>\n",
       "      <td>0.529412</td>\n",
       "      <td>0.477612</td>\n",
       "      <td>0.392670</td>\n",
       "    </tr>\n",
       "    <tr>\n",
       "      <th>185668</th>\n",
       "      <td>185668</td>\n",
       "      <td>250244478</td>\n",
       "      <td>2019-08-31</td>\n",
       "      <td>25.774830</td>\n",
       "      <td>73.338201</td>\n",
       "      <td>0.0</td>\n",
       "      <td>0.0</td>\n",
       "      <td>0.0</td>\n",
       "      <td>0.0</td>\n",
       "      <td>0.0</td>\n",
       "      <td>0.0</td>\n",
       "      <td>Others</td>\n",
       "      <td>0.017211</td>\n",
       "      <td>2019-08</td>\n",
       "      <td>0.404412</td>\n",
       "      <td>0.482587</td>\n",
       "      <td>0.570681</td>\n",
       "    </tr>\n",
       "    <tr>\n",
       "      <th>185669</th>\n",
       "      <td>185669</td>\n",
       "      <td>250244481</td>\n",
       "      <td>2019-08-31</td>\n",
       "      <td>30.293438</td>\n",
       "      <td>77.998160</td>\n",
       "      <td>0.0</td>\n",
       "      <td>0.0</td>\n",
       "      <td>0.0</td>\n",
       "      <td>0.0</td>\n",
       "      <td>0.0</td>\n",
       "      <td>0.0</td>\n",
       "      <td>Others</td>\n",
       "      <td>0.041108</td>\n",
       "      <td>2019-08</td>\n",
       "      <td>0.558824</td>\n",
       "      <td>0.547264</td>\n",
       "      <td>0.565445</td>\n",
       "    </tr>\n",
       "  </tbody>\n",
       "</table>\n",
       "</div>"
      ],
      "text/plain": [
       "        Unnamed: 0  SKP_CREDIT_CASE TIME_DECISION_DATE    CUS_LAT   CUS_LONG  \\\n",
       "185665      185665        250244469         2019-08-31  10.042105  76.448236   \n",
       "185666      185666        250244475         2019-08-31  30.691595  76.823270   \n",
       "185667      185667        250244477         2019-08-31  30.750418  76.796404   \n",
       "185668      185668        250244478         2019-08-31  25.774830  73.338201   \n",
       "185669      185669        250244481         2019-08-31  30.293438  77.998160   \n",
       "\n",
       "        RISK_FPD10  RISK_FPD30  RISK_FSPD30  RISK_FSTPD30  RISK_FSTQPD30  \\\n",
       "185665         0.0         0.0          0.0           0.0            0.0   \n",
       "185666         0.0         0.0          0.0           0.0            0.0   \n",
       "185667         0.0         0.0          0.0           0.0            0.0   \n",
       "185668         0.0         0.0          0.0           0.0            0.0   \n",
       "185669         0.0         0.0          0.0           0.0            0.0   \n",
       "\n",
       "        RISK_FSTQPD60 NTC_FLAG  RISK_SCORE MONTH_STR  F30_PRED_SCORE  \\\n",
       "185665            0.0   Others    0.012948   2019-08        0.705882   \n",
       "185666            0.0   Others    0.072733   2019-08        0.389706   \n",
       "185667            0.0   Others    0.011748   2019-08        0.529412   \n",
       "185668            0.0   Others    0.017211   2019-08        0.404412   \n",
       "185669            0.0   Others    0.041108   2019-08        0.558824   \n",
       "\n",
       "        FS30_PRED_SCORE  FST30_PRED_SCORE  \n",
       "185665         0.676617          0.628272  \n",
       "185666         0.402985          0.403141  \n",
       "185667         0.477612          0.392670  \n",
       "185668         0.482587          0.570681  \n",
       "185669         0.547264          0.565445  "
      ]
     },
     "execution_count": 250,
     "metadata": {},
     "output_type": "execute_result"
    }
   ],
   "source": [
    "df_test.head()"
   ]
  },
  {
   "cell_type": "code",
   "execution_count": 251,
   "metadata": {},
   "outputs": [
    {
     "name": "stdout",
     "output_type": "stream",
     "text": [
      "FSTQPD30 Gini:  6.84\n"
     ]
    }
   ],
   "source": [
    "print(\"FSTQPD30 Gini: \" ,round((2*metrics.roc_auc_score(df_test[\"RISK_FSTQPD30\"],df_test[\"FST30_PRED_SCORE\"])-1)*100,2))"
   ]
  },
  {
   "cell_type": "code",
   "execution_count": null,
   "metadata": {},
   "outputs": [],
   "source": []
  },
  {
   "cell_type": "markdown",
   "metadata": {},
   "source": [
    "# Try FSTQPD30 and validate performance on FSTQPD30"
   ]
  },
  {
   "cell_type": "code",
   "execution_count": 421,
   "metadata": {},
   "outputs": [],
   "source": [
    "# Split Train and Test Data Set\n",
    "df_train = df[(df[\"TIME_DECISION_DATE\"]>=datetime.datetime(2018, 1, 1)) & \n",
    "              (df[\"TIME_DECISION_DATE\"]<=datetime.datetime(2019, 1, 1))]\n",
    "# df_test = df[(df[\"TIME_DECISION_DATE\"]>=datetime.datetime(2019, 6, 1)) & \n",
    "#               (df[\"TIME_DECISION_DATE\"]<=datetime.datetime(2019, 8, 31))]"
   ]
  },
  {
   "cell_type": "code",
   "execution_count": 422,
   "metadata": {},
   "outputs": [
    {
     "name": "stdout",
     "output_type": "stream",
     "text": [
      "(4699041, 14)\n",
      "(1078674, 19)\n"
     ]
    },
    {
     "data": {
      "text/plain": [
       "0.0    4359490\n",
       "1.0     339473\n",
       "Name: RISK_FSTQPD30, dtype: int64"
      ]
     },
     "execution_count": 422,
     "metadata": {},
     "output_type": "execute_result"
    }
   ],
   "source": [
    "print(df_train.shape)\n",
    "print(df_test.shape)\n",
    "df_train.RISK_FSTQPD30.value_counts()"
   ]
  },
  {
   "cell_type": "code",
   "execution_count": 423,
   "metadata": {},
   "outputs": [],
   "source": [
    "target = \"RISK_FSTQPD30\""
   ]
  },
  {
   "cell_type": "code",
   "execution_count": 424,
   "metadata": {},
   "outputs": [
    {
     "name": "stdout",
     "output_type": "stream",
     "text": [
      "Random under-sampling:\n",
      "1.0    300000\n",
      "0.0    300000\n",
      "Name: RISK_FSTQPD30, dtype: int64\n"
     ]
    },
    {
     "data": {
      "image/png": "[encoded data removed]",
      "text/plain": [
       "<Figure size 432x288 with 1 Axes>"
      ]
     },
     "metadata": {
      "needs_background": "light"
     },
     "output_type": "display_data"
    }
   ],
   "source": [
    "#Downsampling Code \n",
    "#count_class_0, count_class_1 = df_train.RISK_FPD10.value_counts()\n",
    "count_class_0, count_class_1 = (300000,300000)\n",
    "df_class_0 = df_train[df_train[target] == 0]\n",
    "df_class_1 = df_train[df_train[target] == 1]\n",
    "df_class_0_under = df_class_0.sample(count_class_0, random_state = 2)\n",
    "df_class_1_under = df_class_1.sample(count_class_1, random_state = 2)\n",
    "df_train_under = pd.concat([df_class_0_under, df_class_1_under], axis=0)\n",
    "\n",
    "print('Random under-sampling:')\n",
    "print(df_train_under[target].value_counts())\n",
    "\n",
    "df_train_under[target].value_counts().plot(kind='bar', title='Count (target)');"
   ]
  },
  {
   "cell_type": "code",
   "execution_count": 425,
   "metadata": {},
   "outputs": [],
   "source": [
    "X_train = df_train_under[[\"CUS_LAT\",\"CUS_LONG\",\"RISK_SCORE\",\"TIME_DECISION_DATE\"]]\n",
    "X_test = df_test[[\"CUS_LAT\",\"CUS_LONG\",\"RISK_SCORE\",\"TIME_DECISION_DATE\"]]\n",
    "\n",
    "y_train = df_train_under[target]\n",
    "y_test =  df_test[target]\n"
   ]
  },
  {
   "cell_type": "code",
   "execution_count": 426,
   "metadata": {},
   "outputs": [
    {
     "name": "stdout",
     "output_type": "stream",
     "text": [
      "\n",
      "Event rate in train set : 50.00%\n",
      "\n",
      "Event rate in test set : 6.76%\n"
     ]
    }
   ],
   "source": [
    "print(\"\\nEvent rate in train set :\", '{:,.2%}'.format(sum(y_train) / len(y_train)))\n",
    "\n",
    "print(\"\\nEvent rate in test set :\", '{:,.2%}'.format(sum(y_test) / len(y_test)))"
   ]
  },
  {
   "cell_type": "code",
   "execution_count": 427,
   "metadata": {},
   "outputs": [],
   "source": [
    "param_grid = {'n_neighbors': np.arange(1,700,5)\n",
    "            }\n",
    "seed = 25"
   ]
  },
  {
   "cell_type": "code",
   "execution_count": 429,
   "metadata": {},
   "outputs": [],
   "source": [
    "from sklearn.neighbors import KNeighborsClassifier\n",
    "# Create KNN classifier\n",
    "knn = KNeighborsClassifier(weights = 'uniform')\n",
    "kfolds = StratifiedKFold(10, random_state=1)\n",
    "\n",
    "clf = RandomizedSearchCV(estimator=knn, param_distributions=param_grid, scoring=['roc_auc'], n_iter=15,\n",
    "                         random_state=seed, cv=kfolds.split(X_train[[\"CUS_LAT\",\"CUS_LONG\"]], y_train), refit='roc_auc',error_score=0, return_train_score =True)\n"
   ]
  },
  {
   "cell_type": "code",
   "execution_count": null,
   "metadata": {},
   "outputs": [
    {
     "name": "stdout",
     "output_type": "stream",
     "text": [
      "Randomized search..\n"
     ]
    }
   ],
   "source": [
    "print(\"Randomized search..\")\n",
    "\n",
    "search_time_start = time.time()\n",
    "clf.fit(X_train[[\"CUS_LAT\",\"CUS_LONG\"]], np.ravel(y_train))\n",
    "print(\"Randomized search time:\", time.time() - search_time_start)\n",
    "\n",
    "params = clf.best_params_   #get best parameters\n",
    "dic=clf.cv_results_    #provides scoring results for each iteration, 50 in this case, mean values can be used \n",
    "tmp= pd.DataFrame(dic['params'])"
   ]
  },
  {
   "cell_type": "code",
   "execution_count": null,
   "metadata": {},
   "outputs": [],
   "source": [
    "pd.DataFrame(dic).to_csv(r\"C:\\Users\\aman.khatri91425\\Desktop\\HomeCredit\\Bigdata\\ShortTargets_RCV_results_FSTQPD30.csv\")"
   ]
  },
  {
   "cell_type": "code",
   "execution_count": null,
   "metadata": {},
   "outputs": [],
   "source": [
    "tmp1= pd.DataFrame(dic)[[\"param_n_neighbors\",\"mean_test_roc_auc\",\"mean_train_roc_auc\"]].sort_values(by = 'param_n_neighbors')"
   ]
  },
  {
   "cell_type": "code",
   "execution_count": null,
   "metadata": {},
   "outputs": [],
   "source": [
    "tmp1[[\"param_n_neighbors\",\"mean_test_roc_auc\"]].plot(x=\"param_n_neighbors\")"
   ]
  },
  {
   "cell_type": "code",
   "execution_count": null,
   "metadata": {},
   "outputs": [],
   "source": [
    "tmp1[[\"param_n_neighbors\",\"mean_test_roc_auc\"]]"
   ]
  },
  {
   "cell_type": "code",
   "execution_count": null,
   "metadata": {},
   "outputs": [],
   "source": [
    "print(\"Best score: {}\".format(clf.best_score_))    #best auc score as we took that for refit \n",
    "\n",
    "\n",
    "print(\"Best params: \")\n",
    "\n",
    "for param_name in sorted(params.keys()):\n",
    "    print('%s: %r' % (param_name, params[param_name]))"
   ]
  },
  {
   "cell_type": "code",
   "execution_count": 417,
   "metadata": {
    "scrolled": true
   },
   "outputs": [
    {
     "name": "stderr",
     "output_type": "stream",
     "text": [
      "C:\\Users\\aman.khatri91425\\AppData\\Local\\Continuum\\anaconda3\\lib\\site-packages\\sklearn\\externals\\joblib\\externals\\loky\\process_executor.py:706: UserWarning: A worker stopped while some jobs were given to the executor. This can be caused by a too short worker timeout or by a memory leak.\n",
      "  \"timeout or by a memory leak.\", UserWarning\n"
     ]
    }
   ],
   "source": [
    "#update estimated hyperparameter values to new model\n",
    "from sklearn.neighbors import KNeighborsClassifier\n",
    "params = {'n_neighbors': 400}\n",
    "kfolds = StratifiedKFold(4, random_state=1)\n",
    "knn = KNeighborsClassifier(**params)\n",
    "# cross validation gini\n",
    "auc_cv = cross_val_score(knn, X_train[[\"CUS_LAT\",\"CUS_LONG\"]], y_train, scoring='roc_auc', cv=kfolds.split(X_train[[\"CUS_LAT\",\"CUS_LONG\"]], y_train),\n",
    "                         n_jobs=-1)\n",
    "gini_cv = (2 * np.array(auc_cv) - 1).mean()\n"
   ]
  },
  {
   "cell_type": "code",
   "execution_count": 418,
   "metadata": {},
   "outputs": [],
   "source": [
    "bst = knn.fit(X_train[[\"CUS_LAT\",\"CUS_LONG\"]], np.ravel(y_train))\n",
    "\n",
    "ypred_train = bst.predict_proba(X_train[[\"CUS_LAT\",\"CUS_LONG\"]])[:, 1]\n",
    "ypred_test = bst.predict_proba(X_test[[\"CUS_LAT\",\"CUS_LONG\"]])[:, 1]"
   ]
  },
  {
   "cell_type": "code",
   "execution_count": 419,
   "metadata": {},
   "outputs": [],
   "source": [
    "metric_auc_train = metrics.roc_auc_score(y_train, ypred_train)\n",
    "metric_auc_test = metrics.roc_auc_score(y_test, ypred_test)\n",
    "\n",
    "gini_train = 2 * metric_auc_train - 1\n",
    "gini_test = 2 * metric_auc_test - 1\n"
   ]
  },
  {
   "cell_type": "code",
   "execution_count": 420,
   "metadata": {},
   "outputs": [
    {
     "name": "stdout",
     "output_type": "stream",
     "text": [
      "GINI TRAIN: 15.07%\n",
      "\n",
      "GINI TEST: 8.96%\n",
      "\n",
      "GINI CV: 10.46%\n"
     ]
    }
   ],
   "source": [
    "print(\"GINI TRAIN:\",'{:,.2%}'.format(gini_train))\n",
    "print(\"\\nGINI TEST:\",'{:,.2%}'.format(gini_test))\n",
    "print(\"\\nGINI CV:\",'{:,.2%}'.format(gini_cv))"
   ]
  },
  {
   "cell_type": "code",
   "execution_count": 274,
   "metadata": {},
   "outputs": [
    {
     "name": "stderr",
     "output_type": "stream",
     "text": [
      "C:\\Users\\aman.khatri91425\\AppData\\Local\\Continuum\\anaconda3\\lib\\site-packages\\ipykernel_launcher.py:2: SettingWithCopyWarning: \n",
      "A value is trying to be set on a copy of a slice from a DataFrame.\n",
      "Try using .loc[row_indexer,col_indexer] = value instead\n",
      "\n",
      "See the caveats in the documentation: http://pandas.pydata.org/pandas-docs/stable/indexing.html#indexing-view-versus-copy\n",
      "  \n"
     ]
    }
   ],
   "source": [
    "df_train_under['FSTQ30_PRED_SCORE'] = ypred_train\n",
    "df_test['FSTQ30_PRED_SCORE'] = ypred_test"
   ]
  },
  {
   "cell_type": "code",
   "execution_count": 275,
   "metadata": {},
   "outputs": [
    {
     "data": {
      "text/html": [
       "<div>\n",
       "<style scoped>\n",
       "    .dataframe tbody tr th:only-of-type {\n",
       "        vertical-align: middle;\n",
       "    }\n",
       "\n",
       "    .dataframe tbody tr th {\n",
       "        vertical-align: top;\n",
       "    }\n",
       "\n",
       "    .dataframe thead th {\n",
       "        text-align: right;\n",
       "    }\n",
       "</style>\n",
       "<table border=\"1\" class=\"dataframe\">\n",
       "  <thead>\n",
       "    <tr style=\"text-align: right;\">\n",
       "      <th></th>\n",
       "      <th>Unnamed: 0</th>\n",
       "      <th>SKP_CREDIT_CASE</th>\n",
       "      <th>TIME_DECISION_DATE</th>\n",
       "      <th>CUS_LAT</th>\n",
       "      <th>CUS_LONG</th>\n",
       "      <th>RISK_FPD10</th>\n",
       "      <th>RISK_FPD30</th>\n",
       "      <th>RISK_FSPD30</th>\n",
       "      <th>RISK_FSTPD30</th>\n",
       "      <th>RISK_FSTQPD30</th>\n",
       "      <th>RISK_FSTQPD60</th>\n",
       "      <th>NTC_FLAG</th>\n",
       "      <th>RISK_SCORE</th>\n",
       "      <th>MONTH_STR</th>\n",
       "      <th>F30_PRED_SCORE</th>\n",
       "      <th>FS30_PRED_SCORE</th>\n",
       "      <th>FST30_PRED_SCORE</th>\n",
       "      <th>FSTQ30_PRED_SCORE</th>\n",
       "    </tr>\n",
       "  </thead>\n",
       "  <tbody>\n",
       "    <tr>\n",
       "      <th>185665</th>\n",
       "      <td>185665</td>\n",
       "      <td>250244469</td>\n",
       "      <td>2019-08-31</td>\n",
       "      <td>10.042105</td>\n",
       "      <td>76.448236</td>\n",
       "      <td>0.0</td>\n",
       "      <td>0.0</td>\n",
       "      <td>0.0</td>\n",
       "      <td>0.0</td>\n",
       "      <td>0.0</td>\n",
       "      <td>0.0</td>\n",
       "      <td>Others</td>\n",
       "      <td>0.012948</td>\n",
       "      <td>2019-08</td>\n",
       "      <td>0.705882</td>\n",
       "      <td>0.676617</td>\n",
       "      <td>0.628272</td>\n",
       "      <td>0.629283</td>\n",
       "    </tr>\n",
       "    <tr>\n",
       "      <th>185666</th>\n",
       "      <td>185666</td>\n",
       "      <td>250244475</td>\n",
       "      <td>2019-08-31</td>\n",
       "      <td>30.691595</td>\n",
       "      <td>76.823270</td>\n",
       "      <td>0.0</td>\n",
       "      <td>0.0</td>\n",
       "      <td>0.0</td>\n",
       "      <td>0.0</td>\n",
       "      <td>0.0</td>\n",
       "      <td>0.0</td>\n",
       "      <td>Others</td>\n",
       "      <td>0.072733</td>\n",
       "      <td>2019-08</td>\n",
       "      <td>0.389706</td>\n",
       "      <td>0.402985</td>\n",
       "      <td>0.403141</td>\n",
       "      <td>0.395639</td>\n",
       "    </tr>\n",
       "    <tr>\n",
       "      <th>185667</th>\n",
       "      <td>185667</td>\n",
       "      <td>250244477</td>\n",
       "      <td>2019-08-31</td>\n",
       "      <td>30.750418</td>\n",
       "      <td>76.796404</td>\n",
       "      <td>0.0</td>\n",
       "      <td>0.0</td>\n",
       "      <td>0.0</td>\n",
       "      <td>0.0</td>\n",
       "      <td>0.0</td>\n",
       "      <td>0.0</td>\n",
       "      <td>Others</td>\n",
       "      <td>0.011748</td>\n",
       "      <td>2019-08</td>\n",
       "      <td>0.529412</td>\n",
       "      <td>0.477612</td>\n",
       "      <td>0.392670</td>\n",
       "      <td>0.373832</td>\n",
       "    </tr>\n",
       "    <tr>\n",
       "      <th>185668</th>\n",
       "      <td>185668</td>\n",
       "      <td>250244478</td>\n",
       "      <td>2019-08-31</td>\n",
       "      <td>25.774830</td>\n",
       "      <td>73.338201</td>\n",
       "      <td>0.0</td>\n",
       "      <td>0.0</td>\n",
       "      <td>0.0</td>\n",
       "      <td>0.0</td>\n",
       "      <td>0.0</td>\n",
       "      <td>0.0</td>\n",
       "      <td>Others</td>\n",
       "      <td>0.017211</td>\n",
       "      <td>2019-08</td>\n",
       "      <td>0.404412</td>\n",
       "      <td>0.482587</td>\n",
       "      <td>0.570681</td>\n",
       "      <td>0.482866</td>\n",
       "    </tr>\n",
       "    <tr>\n",
       "      <th>185669</th>\n",
       "      <td>185669</td>\n",
       "      <td>250244481</td>\n",
       "      <td>2019-08-31</td>\n",
       "      <td>30.293438</td>\n",
       "      <td>77.998160</td>\n",
       "      <td>0.0</td>\n",
       "      <td>0.0</td>\n",
       "      <td>0.0</td>\n",
       "      <td>0.0</td>\n",
       "      <td>0.0</td>\n",
       "      <td>0.0</td>\n",
       "      <td>Others</td>\n",
       "      <td>0.041108</td>\n",
       "      <td>2019-08</td>\n",
       "      <td>0.558824</td>\n",
       "      <td>0.547264</td>\n",
       "      <td>0.565445</td>\n",
       "      <td>0.485981</td>\n",
       "    </tr>\n",
       "  </tbody>\n",
       "</table>\n",
       "</div>"
      ],
      "text/plain": [
       "        Unnamed: 0  SKP_CREDIT_CASE TIME_DECISION_DATE    CUS_LAT   CUS_LONG  \\\n",
       "185665      185665        250244469         2019-08-31  10.042105  76.448236   \n",
       "185666      185666        250244475         2019-08-31  30.691595  76.823270   \n",
       "185667      185667        250244477         2019-08-31  30.750418  76.796404   \n",
       "185668      185668        250244478         2019-08-31  25.774830  73.338201   \n",
       "185669      185669        250244481         2019-08-31  30.293438  77.998160   \n",
       "\n",
       "        RISK_FPD10  RISK_FPD30  RISK_FSPD30  RISK_FSTPD30  RISK_FSTQPD30  \\\n",
       "185665         0.0         0.0          0.0           0.0            0.0   \n",
       "185666         0.0         0.0          0.0           0.0            0.0   \n",
       "185667         0.0         0.0          0.0           0.0            0.0   \n",
       "185668         0.0         0.0          0.0           0.0            0.0   \n",
       "185669         0.0         0.0          0.0           0.0            0.0   \n",
       "\n",
       "        RISK_FSTQPD60 NTC_FLAG  RISK_SCORE MONTH_STR  F30_PRED_SCORE  \\\n",
       "185665            0.0   Others    0.012948   2019-08        0.705882   \n",
       "185666            0.0   Others    0.072733   2019-08        0.389706   \n",
       "185667            0.0   Others    0.011748   2019-08        0.529412   \n",
       "185668            0.0   Others    0.017211   2019-08        0.404412   \n",
       "185669            0.0   Others    0.041108   2019-08        0.558824   \n",
       "\n",
       "        FS30_PRED_SCORE  FST30_PRED_SCORE  FSTQ30_PRED_SCORE  \n",
       "185665         0.676617          0.628272           0.629283  \n",
       "185666         0.402985          0.403141           0.395639  \n",
       "185667         0.477612          0.392670           0.373832  \n",
       "185668         0.482587          0.570681           0.482866  \n",
       "185669         0.547264          0.565445           0.485981  "
      ]
     },
     "execution_count": 275,
     "metadata": {},
     "output_type": "execute_result"
    }
   ],
   "source": [
    "df_test.head()"
   ]
  },
  {
   "cell_type": "code",
   "execution_count": 276,
   "metadata": {},
   "outputs": [
    {
     "name": "stdout",
     "output_type": "stream",
     "text": [
      "FSTQPD30 Gini:  9.02\n"
     ]
    }
   ],
   "source": [
    "print(\"FSTQPD30 Gini: \" ,round((2*metrics.roc_auc_score(df_test[\"RISK_FSTQPD30\"],df_test[\"FSTQ30_PRED_SCORE\"])-1)*100,2))"
   ]
  },
  {
   "cell_type": "code",
   "execution_count": 292,
   "metadata": {},
   "outputs": [],
   "source": [
    "df_test.to_csv(os.getcwd()+\"\\\\all_scores_test_data.csv\")"
   ]
  },
  {
   "cell_type": "code",
   "execution_count": null,
   "metadata": {},
   "outputs": [],
   "source": []
  },
  {
   "cell_type": "code",
   "execution_count": null,
   "metadata": {},
   "outputs": [],
   "source": []
  },
  {
   "cell_type": "code",
   "execution_count": null,
   "metadata": {},
   "outputs": [],
   "source": []
  },
  {
   "cell_type": "markdown",
   "metadata": {},
   "source": [
    "# Combining Scores"
   ]
  },
  {
   "cell_type": "code",
   "execution_count": 340,
   "metadata": {},
   "outputs": [],
   "source": [
    "df_combined_score=df_test[['RISK_SCORE','F10_PRED_SCORE','F30_PRED_SCORE','FS30_PRED_SCORE',\n",
    "                           'FST30_PRED_SCORE','FSTQ30_PRED_SCORE','RISK_FSTQPD30','SKP_CREDIT_CASE','TIME_DECISION_DATE']]"
   ]
  },
  {
   "cell_type": "code",
   "execution_count": 341,
   "metadata": {},
   "outputs": [
    {
     "name": "stderr",
     "output_type": "stream",
     "text": [
      "C:\\Users\\aman.khatri91425\\AppData\\Local\\Continuum\\anaconda3\\lib\\site-packages\\ipykernel_launcher.py:1: SettingWithCopyWarning: \n",
      "A value is trying to be set on a copy of a slice from a DataFrame\n",
      "\n",
      "See the caveats in the documentation: http://pandas.pydata.org/pandas-docs/stable/indexing.html#indexing-view-versus-copy\n",
      "  \"\"\"Entry point for launching an IPython kernel.\n"
     ]
    }
   ],
   "source": [
    "df_combined_score.dropna(subset = ['RISK_SCORE'], inplace = True)"
   ]
  },
  {
   "cell_type": "code",
   "execution_count": 342,
   "metadata": {},
   "outputs": [
    {
     "name": "stderr",
     "output_type": "stream",
     "text": [
      "C:\\Users\\aman.khatri91425\\AppData\\Local\\Continuum\\anaconda3\\lib\\site-packages\\ipykernel_launcher.py:1: SettingWithCopyWarning: \n",
      "A value is trying to be set on a copy of a slice from a DataFrame.\n",
      "Try using .loc[row_indexer,col_indexer] = value instead\n",
      "\n",
      "See the caveats in the documentation: http://pandas.pydata.org/pandas-docs/stable/indexing.html#indexing-view-versus-copy\n",
      "  \"\"\"Entry point for launching an IPython kernel.\n",
      "C:\\Users\\aman.khatri91425\\AppData\\Local\\Continuum\\anaconda3\\lib\\site-packages\\ipykernel_launcher.py:2: SettingWithCopyWarning: \n",
      "A value is trying to be set on a copy of a slice from a DataFrame.\n",
      "Try using .loc[row_indexer,col_indexer] = value instead\n",
      "\n",
      "See the caveats in the documentation: http://pandas.pydata.org/pandas-docs/stable/indexing.html#indexing-view-versus-copy\n",
      "  \n",
      "C:\\Users\\aman.khatri91425\\AppData\\Local\\Continuum\\anaconda3\\lib\\site-packages\\ipykernel_launcher.py:3: SettingWithCopyWarning: \n",
      "A value is trying to be set on a copy of a slice from a DataFrame.\n",
      "Try using .loc[row_indexer,col_indexer] = value instead\n",
      "\n",
      "See the caveats in the documentation: http://pandas.pydata.org/pandas-docs/stable/indexing.html#indexing-view-versus-copy\n",
      "  This is separate from the ipykernel package so we can avoid doing imports until\n",
      "C:\\Users\\aman.khatri91425\\AppData\\Local\\Continuum\\anaconda3\\lib\\site-packages\\ipykernel_launcher.py:4: SettingWithCopyWarning: \n",
      "A value is trying to be set on a copy of a slice from a DataFrame.\n",
      "Try using .loc[row_indexer,col_indexer] = value instead\n",
      "\n",
      "See the caveats in the documentation: http://pandas.pydata.org/pandas-docs/stable/indexing.html#indexing-view-versus-copy\n",
      "  after removing the cwd from sys.path.\n",
      "C:\\Users\\aman.khatri91425\\AppData\\Local\\Continuum\\anaconda3\\lib\\site-packages\\ipykernel_launcher.py:5: SettingWithCopyWarning: \n",
      "A value is trying to be set on a copy of a slice from a DataFrame.\n",
      "Try using .loc[row_indexer,col_indexer] = value instead\n",
      "\n",
      "See the caveats in the documentation: http://pandas.pydata.org/pandas-docs/stable/indexing.html#indexing-view-versus-copy\n",
      "  \"\"\"\n",
      "C:\\Users\\aman.khatri91425\\AppData\\Local\\Continuum\\anaconda3\\lib\\site-packages\\ipykernel_launcher.py:6: SettingWithCopyWarning: \n",
      "A value is trying to be set on a copy of a slice from a DataFrame.\n",
      "Try using .loc[row_indexer,col_indexer] = value instead\n",
      "\n",
      "See the caveats in the documentation: http://pandas.pydata.org/pandas-docs/stable/indexing.html#indexing-view-versus-copy\n",
      "  \n"
     ]
    }
   ],
   "source": [
    "df_combined_score[\"LOGIT_RISK_SCORE\"] = [np.log(x/(1-x)) for x in df_combined_score[\"RISK_SCORE\"]]\n",
    "df_combined_score[\"LOGIT_F10_PRED_SCORE\"] = [np.log(x/(1-x)) for x in df_combined_score[\"F10_PRED_SCORE\"]]\n",
    "df_combined_score[\"LOGIT_F30_PRED_SCORE\"] = [np.log(x/(1-x)) for x in df_combined_score[\"F30_PRED_SCORE\"]]\n",
    "df_combined_score[\"LOGIT_FS30_PRED_SCORE\"] = [np.log(x/(1-x)) for x in df_combined_score[\"FS30_PRED_SCORE\"]]\n",
    "df_combined_score[\"LOGIT_FST30_PRED_SCORE\"] = [np.log(x/(1-x)) for x in df_combined_score[\"FST30_PRED_SCORE\"]]\n",
    "df_combined_score[\"LOGIT_FSTQ30_PRED_SCORE\"] = [np.log(x/(1-x)) for x in df_combined_score[\"FSTQ30_PRED_SCORE\"]]"
   ]
  },
  {
   "cell_type": "code",
   "execution_count": 343,
   "metadata": {},
   "outputs": [],
   "source": [
    "# pred_list = ['LOGIT_RISK_SCORE','LOGIT_F10_PRED_SCORE','LOGIT_F30_PRED_SCORE','LOGIT_FS30_PRED_SCORE',\n",
    "#              'LOGIT_FST30_PRED_SCORE','LOGIT_FSTQ30_PRED_SCORE']\n",
    "pred_list = ['LOGIT_F10_PRED_SCORE','LOGIT_F30_PRED_SCORE','LOGIT_FS30_PRED_SCORE',\n",
    "            'LOGIT_FST30_PRED_SCORE','LOGIT_FSTQ30_PRED_SCORE']"
   ]
  },
  {
   "cell_type": "code",
   "execution_count": 344,
   "metadata": {},
   "outputs": [
    {
     "name": "stderr",
     "output_type": "stream",
     "text": [
      "C:\\Users\\aman.khatri91425\\AppData\\Local\\Continuum\\anaconda3\\lib\\site-packages\\sklearn\\linear_model\\logistic.py:433: FutureWarning: Default solver will be changed to 'lbfgs' in 0.22. Specify a solver to silence this warning.\n",
      "  FutureWarning)\n"
     ]
    },
    {
     "data": {
      "text/plain": [
       "LogisticRegression(C=1.0, class_weight=None, dual=False, fit_intercept=True,\n",
       "          intercept_scaling=1, max_iter=100, multi_class='warn',\n",
       "          n_jobs=None, penalty='l2', random_state=None, solver='warn',\n",
       "          tol=0.0001, verbose=0, warm_start=False)"
      ]
     },
     "execution_count": 344,
     "metadata": {},
     "output_type": "execute_result"
    }
   ],
   "source": [
    "#Calculate Gini Lift Logistic Regression\n",
    "from sklearn.linear_model import LogisticRegression\n",
    "comb=LogisticRegression()\n",
    "comb.fit(df_combined_score[pred_list],df_combined_score[\"RISK_FSTQPD30\"])"
   ]
  },
  {
   "cell_type": "code",
   "execution_count": 345,
   "metadata": {},
   "outputs": [],
   "source": [
    "y_pred_comb=comb.predict_proba(df_combined_score[pred_list])[:,1]"
   ]
  },
  {
   "cell_type": "code",
   "execution_count": 346,
   "metadata": {},
   "outputs": [],
   "source": [
    "metric_auc_combined = metrics.roc_auc_score(df_combined_score[\"RISK_FSTQPD30\"], y_pred_comb)\n",
    "metric_auc_knn = metrics.roc_auc_score(df_combined_score[\"RISK_FSTQPD30\"], df_combined_score[\"FSTQ30_PRED_SCORE\"])\n",
    "metric_auc_hc = metrics.roc_auc_score(df_combined_score[\"RISK_FSTQPD30\"], df_combined_score[\"RISK_SCORE\"])\n",
    "\n",
    "\n",
    "gini_combined = 2 * metric_auc_combined - 1\n",
    "gini_knn = 2 * metric_auc_knn - 1\n",
    "gini_hc = 2 * metric_auc_hc - 1"
   ]
  },
  {
   "cell_type": "code",
   "execution_count": 347,
   "metadata": {},
   "outputs": [
    {
     "name": "stdout",
     "output_type": "stream",
     "text": [
      "gini_combined: 9.21%\n",
      "\n",
      "gini_knn: 9.08%\n",
      "\n",
      "gini_hc: 23.00%\n"
     ]
    }
   ],
   "source": [
    "print(\"gini_combined:\",'{:,.2%}'.format(gini_combined))\n",
    "print(\"\\ngini_knn:\",'{:,.2%}'.format(gini_knn))\n",
    "print(\"\\ngini_hc:\",'{:,.2%}'.format(gini_hc))"
   ]
  },
  {
   "cell_type": "code",
   "execution_count": 348,
   "metadata": {},
   "outputs": [
    {
     "name": "stdout",
     "output_type": "stream",
     "text": [
      "[[ 0.06848652  0.06309407 -0.01167015 -0.03306507  0.52242572]]\n",
      "[-2.60104712]\n"
     ]
    }
   ],
   "source": [
    "print(comb.coef_)\n",
    "print(comb.intercept_)"
   ]
  },
  {
   "cell_type": "code",
   "execution_count": 350,
   "metadata": {},
   "outputs": [
    {
     "data": {
      "text/plain": [
       "LOGIT_F10_PRED_SCORE       0.669609\n",
       "LOGIT_F30_PRED_SCORE       0.530641\n",
       "LOGIT_FS30_PRED_SCORE      0.626509\n",
       "LOGIT_FST30_PRED_SCORE     0.706093\n",
       "LOGIT_FSTQ30_PRED_SCORE    1.000000\n",
       "Name: LOGIT_FSTQ30_PRED_SCORE, dtype: float64"
      ]
     },
     "execution_count": 350,
     "metadata": {},
     "output_type": "execute_result"
    }
   ],
   "source": [
    "df_combined_score[pred_list].corr()[\"LOGIT_FSTQ30_PRED_SCORE\"]"
   ]
  },
  {
   "cell_type": "code",
   "execution_count": 353,
   "metadata": {},
   "outputs": [
    {
     "name": "stderr",
     "output_type": "stream",
     "text": [
      "C:\\Users\\aman.khatri91425\\AppData\\Local\\Continuum\\anaconda3\\lib\\site-packages\\ipykernel_launcher.py:2: SettingWithCopyWarning: \n",
      "A value is trying to be set on a copy of a slice from a DataFrame.\n",
      "Try using .loc[row_indexer,col_indexer] = value instead\n",
      "\n",
      "See the caveats in the documentation: http://pandas.pydata.org/pandas-docs/stable/indexing.html#indexing-view-versus-copy\n",
      "  \n"
     ]
    }
   ],
   "source": [
    "df_combined_score[\"MONTH_STR\"]= df_combined_score[\"TIME_DECISION_DATE\"].dt.strftime(\"%y-%m\") "
   ]
  },
  {
   "cell_type": "code",
   "execution_count": 387,
   "metadata": {},
   "outputs": [],
   "source": [
    "#Check Stability of Combined Model\n",
    "pred_list = ['LOGIT_RISK_SCORE','LOGIT_F10_PRED_SCORE','LOGIT_F30_PRED_SCORE','LOGIT_FS30_PRED_SCORE',\n",
    "              'LOGIT_FST30_PRED_SCORE','LOGIT_FSTQ30_PRED_SCORE']\n",
    "seed = 25522\n",
    "test_size = 0.3\n",
    "X_train, X_test, y_train, y_test = train_test_split(df_combined_score[pred_list],df_combined_score[\"RISK_FSTQPD30\"], test_size=test_size, random_state=seed)\n"
   ]
  },
  {
   "cell_type": "code",
   "execution_count": 388,
   "metadata": {},
   "outputs": [
    {
     "name": "stderr",
     "output_type": "stream",
     "text": [
      "C:\\Users\\aman.khatri91425\\AppData\\Local\\Continuum\\anaconda3\\lib\\site-packages\\sklearn\\linear_model\\logistic.py:433: FutureWarning: Default solver will be changed to 'lbfgs' in 0.22. Specify a solver to silence this warning.\n",
      "  FutureWarning)\n"
     ]
    }
   ],
   "source": [
    "from sklearn.linear_model import LogisticRegression\n",
    "comb=LogisticRegression()\n",
    "comb.fit(X_train[pred_list],y_train)\n",
    "y_pred_comb_train=comb.predict_proba(X_train[pred_list])[:,1]\n",
    "y_pred_comb_test=comb.predict_proba(X_test[pred_list])[:,1]\n"
   ]
  },
  {
   "cell_type": "code",
   "execution_count": 391,
   "metadata": {},
   "outputs": [
    {
     "name": "stdout",
     "output_type": "stream",
     "text": [
      "gini_combined_train: 24.19%\n",
      "\n",
      "gini_knn_train: 9.22%\n",
      "\n",
      "gini_hc_train: 22.94%\n",
      "\n",
      "gini_combined_test: 24.29%\n",
      "\n",
      "gini_knn_test: 8.76%\n",
      "\n",
      "gini_hc_test: 23.12%\n"
     ]
    }
   ],
   "source": [
    "metric_auc_combined_train = metrics.roc_auc_score(y_train, y_pred_comb_train)\n",
    "metric_auc_knn_train = metrics.roc_auc_score(y_train, X_train[\"LOGIT_FSTQ30_PRED_SCORE\"])\n",
    "metric_auc_hc_train = metrics.roc_auc_score(y_train, X_train[\"LOGIT_RISK_SCORE\"])\n",
    "\n",
    "metric_auc_combined_test = metrics.roc_auc_score(y_test, y_pred_comb_test)\n",
    "metric_auc_knn_test = metrics.roc_auc_score(y_test, X_test[\"LOGIT_FSTQ30_PRED_SCORE\"])\n",
    "metric_auc_hc_test = metrics.roc_auc_score(y_test, X_test[\"LOGIT_RISK_SCORE\"])\n",
    "\n",
    "\n",
    "\n",
    "gini_combined_train = 2 * metric_auc_combined_train - 1\n",
    "gini_knn_train = 2 * metric_auc_knn_train - 1\n",
    "gini_hc_train = 2 * metric_auc_hc_train- 1\n",
    "\n",
    "gini_combined_test = 2 * metric_auc_combined_test - 1\n",
    "gini_knn_test = 2 * metric_auc_knn_test - 1\n",
    "gini_hc_test = 2 * metric_auc_hc_test- 1\n",
    "\n",
    "print(\"gini_combined_train:\",'{:,.2%}'.format(gini_combined_train))\n",
    "print(\"\\ngini_knn_train:\",'{:,.2%}'.format(gini_knn_train))\n",
    "print(\"\\ngini_hc_train:\",'{:,.2%}'.format(gini_hc_train))\n",
    "\n",
    "print(\"\\ngini_combined_test:\",'{:,.2%}'.format(gini_combined_test))\n",
    "print(\"\\ngini_knn_test:\",'{:,.2%}'.format(gini_knn_test))\n",
    "print(\"\\ngini_hc_test:\",'{:,.2%}'.format(gini_hc_test))\n"
   ]
  },
  {
   "cell_type": "markdown",
   "metadata": {},
   "source": [
    "# MOM Gini of Risk Score"
   ]
  },
  {
   "cell_type": "code",
   "execution_count": 354,
   "metadata": {},
   "outputs": [
    {
     "data": {
      "text/html": [
       "<div>\n",
       "<style scoped>\n",
       "    .dataframe tbody tr th:only-of-type {\n",
       "        vertical-align: middle;\n",
       "    }\n",
       "\n",
       "    .dataframe tbody tr th {\n",
       "        vertical-align: top;\n",
       "    }\n",
       "\n",
       "    .dataframe thead th {\n",
       "        text-align: right;\n",
       "    }\n",
       "</style>\n",
       "<table border=\"1\" class=\"dataframe\">\n",
       "  <thead>\n",
       "    <tr style=\"text-align: right;\">\n",
       "      <th></th>\n",
       "      <th>Gini_F10</th>\n",
       "      <th>Gini_F30</th>\n",
       "      <th>Gini_FS30</th>\n",
       "      <th>Gini_FST30</th>\n",
       "      <th>Gini_FSTQ30</th>\n",
       "      <th>Gini_HC</th>\n",
       "    </tr>\n",
       "    <tr>\n",
       "      <th>Name</th>\n",
       "      <th></th>\n",
       "      <th></th>\n",
       "      <th></th>\n",
       "      <th></th>\n",
       "      <th></th>\n",
       "      <th></th>\n",
       "    </tr>\n",
       "  </thead>\n",
       "  <tbody>\n",
       "    <tr>\n",
       "      <th>19-06</th>\n",
       "      <td>0.071746</td>\n",
       "      <td>0.056158</td>\n",
       "      <td>0.065384</td>\n",
       "      <td>0.071019</td>\n",
       "      <td>0.095399</td>\n",
       "      <td>0.244382</td>\n",
       "    </tr>\n",
       "    <tr>\n",
       "      <th>19-07</th>\n",
       "      <td>0.064856</td>\n",
       "      <td>0.051779</td>\n",
       "      <td>0.057674</td>\n",
       "      <td>0.064178</td>\n",
       "      <td>0.086122</td>\n",
       "      <td>0.213149</td>\n",
       "    </tr>\n",
       "    <tr>\n",
       "      <th>19-08</th>\n",
       "      <td>0.072923</td>\n",
       "      <td>0.057765</td>\n",
       "      <td>0.062826</td>\n",
       "      <td>0.069528</td>\n",
       "      <td>0.090129</td>\n",
       "      <td>0.235431</td>\n",
       "    </tr>\n",
       "  </tbody>\n",
       "</table>\n",
       "</div>"
      ],
      "text/plain": [
       "       Gini_F10  Gini_F30  Gini_FS30  Gini_FST30  Gini_FSTQ30   Gini_HC\n",
       "Name                                                                   \n",
       "19-06  0.071746  0.056158   0.065384    0.071019     0.095399  0.244382\n",
       "19-07  0.064856  0.051779   0.057674    0.064178     0.086122  0.213149\n",
       "19-08  0.072923  0.057765   0.062826    0.069528     0.090129  0.235431"
      ]
     },
     "metadata": {},
     "output_type": "display_data"
    }
   ],
   "source": [
    "#MOM Gini\n",
    "#Month on Month Gini\n",
    "df1=df_combined_score\n",
    "RISK_SCORE = \"RISK_SCORE\"\n",
    "\n",
    "import sys\n",
    "sys.path.append(R'C:\\Users\\aman.khatri91425\\Desktop\\HomeCredit\\Bigdata\\Scoring Worlflow')\n",
    "from scoring.metrics import iv,gini,lift\n",
    "\n",
    "power_tab = []\n",
    "for j in df1[\"MONTH_STR\"].unique():\n",
    "    power_tab.append({'Name':j\n",
    "#                    ,'IV':iv(df1.loc[(df1['MONTH_STR']==j) & (df1['FOUND_FLAG']==1),\"RISK_FSTPD30\"], df1.loc[(df1['MONTH_STR']==j) & (df1['FOUND_FLAG']==1),\"YPRED\"])\n",
    "                    ,'Gini_HC':gini(df1.loc[(df1['MONTH_STR']==j),\"RISK_FSTQPD30\"], df1.loc[(df1['MONTH_STR']==j),RISK_SCORE])\n",
    "                    ,'Gini_F10':gini(df1.loc[(df1['MONTH_STR']==j),\"RISK_FSTQPD30\"], df1.loc[(df1['MONTH_STR']==j),\"F10_PRED_SCORE\"])        \n",
    "                    ,'Gini_F30':gini(df1.loc[(df1['MONTH_STR']==j),\"RISK_FSTQPD30\"], df1.loc[(df1['MONTH_STR']==j),\"F30_PRED_SCORE\"])        \n",
    "                    ,'Gini_FS30':gini(df1.loc[(df1['MONTH_STR']==j),\"RISK_FSTQPD30\"], df1.loc[(df1['MONTH_STR']==j),\"FS30_PRED_SCORE\"])        \n",
    "                    ,'Gini_FST30':gini(df1.loc[(df1['MONTH_STR']==j),\"RISK_FSTQPD30\"], df1.loc[(df1['MONTH_STR']==j),\"FST30_PRED_SCORE\"])        \n",
    "                    ,'Gini_FSTQ30':gini(df1.loc[(df1['MONTH_STR']==j),\"RISK_FSTQPD30\"], df1.loc[(df1['MONTH_STR']==j),\"FSTQ30_PRED_SCORE\"])                 \n",
    "                      #                    ,'Lift':lift(df1.loc[(df1['MONTH_STR']==j) & (df1['FOUND_FLAG']==1),\"RISK_FSTPD30\"], df1.loc[(df1['MONTH_STR']==j) & (df1['FOUND_FLAG']==1),\"YPRED\"])\n",
    "                         })\n",
    "    \n",
    "power_out = pd.DataFrame.from_records(power_tab)\n",
    "power_out = power_out.set_index('Name')\n",
    "power_out = power_out.sort_values('Name',ascending=True)\n",
    "\n",
    "pd.options.display.max_rows = 1000\n",
    "display(power_out)\n",
    "pd.options.display.max_rows = 15\n",
    "power_out.to_csv(r\"C:\\Users\\aman.khatri91425\\Desktop\\HomeCredit\\Bigdata\\Common Maps KNN\\mon_gini_short_targets.csv\")"
   ]
  },
  {
   "cell_type": "code",
   "execution_count": 356,
   "metadata": {},
   "outputs": [
    {
     "data": {
      "text/html": [
       "<div>\n",
       "<style scoped>\n",
       "    .dataframe tbody tr th:only-of-type {\n",
       "        vertical-align: middle;\n",
       "    }\n",
       "\n",
       "    .dataframe tbody tr th {\n",
       "        vertical-align: top;\n",
       "    }\n",
       "\n",
       "    .dataframe thead th {\n",
       "        text-align: right;\n",
       "    }\n",
       "</style>\n",
       "<table border=\"1\" class=\"dataframe\">\n",
       "  <thead>\n",
       "    <tr style=\"text-align: right;\">\n",
       "      <th></th>\n",
       "      <th>Unnamed: 0</th>\n",
       "      <th>SKP_CREDIT_CASE</th>\n",
       "      <th>TIME_DECISION_DATE</th>\n",
       "      <th>CUS_LAT</th>\n",
       "      <th>CUS_LONG</th>\n",
       "      <th>RISK_FPD10</th>\n",
       "      <th>RISK_FPD30</th>\n",
       "      <th>RISK_FSPD30</th>\n",
       "      <th>RISK_FSTPD30</th>\n",
       "      <th>RISK_FSTQPD30</th>\n",
       "      <th>RISK_FSTQPD60</th>\n",
       "      <th>NTC_FLAG</th>\n",
       "      <th>RISK_SCORE</th>\n",
       "      <th>MONTH_STR</th>\n",
       "    </tr>\n",
       "  </thead>\n",
       "  <tbody>\n",
       "    <tr>\n",
       "      <th>0</th>\n",
       "      <td>0</td>\n",
       "      <td>273217442</td>\n",
       "      <td>2019-09-15</td>\n",
       "      <td>26.925771</td>\n",
       "      <td>75.823658</td>\n",
       "      <td>0.0</td>\n",
       "      <td>0.0</td>\n",
       "      <td>0.0</td>\n",
       "      <td>0.0</td>\n",
       "      <td>0.0</td>\n",
       "      <td>0.0</td>\n",
       "      <td>NTC</td>\n",
       "      <td>0.164707</td>\n",
       "      <td>2019-09</td>\n",
       "    </tr>\n",
       "    <tr>\n",
       "      <th>1</th>\n",
       "      <td>1</td>\n",
       "      <td>273217520</td>\n",
       "      <td>2019-09-15</td>\n",
       "      <td>28.704617</td>\n",
       "      <td>77.046645</td>\n",
       "      <td>0.0</td>\n",
       "      <td>0.0</td>\n",
       "      <td>0.0</td>\n",
       "      <td>0.0</td>\n",
       "      <td>0.0</td>\n",
       "      <td>0.0</td>\n",
       "      <td>NTC</td>\n",
       "      <td>0.111792</td>\n",
       "      <td>2019-09</td>\n",
       "    </tr>\n",
       "    <tr>\n",
       "      <th>2</th>\n",
       "      <td>2</td>\n",
       "      <td>273217523</td>\n",
       "      <td>2019-09-15</td>\n",
       "      <td>11.089342</td>\n",
       "      <td>77.336750</td>\n",
       "      <td>0.0</td>\n",
       "      <td>0.0</td>\n",
       "      <td>0.0</td>\n",
       "      <td>0.0</td>\n",
       "      <td>0.0</td>\n",
       "      <td>0.0</td>\n",
       "      <td>NTC</td>\n",
       "      <td>0.111993</td>\n",
       "      <td>2019-09</td>\n",
       "    </tr>\n",
       "    <tr>\n",
       "      <th>3</th>\n",
       "      <td>3</td>\n",
       "      <td>273217525</td>\n",
       "      <td>2019-09-15</td>\n",
       "      <td>19.179927</td>\n",
       "      <td>73.028721</td>\n",
       "      <td>0.0</td>\n",
       "      <td>0.0</td>\n",
       "      <td>0.0</td>\n",
       "      <td>0.0</td>\n",
       "      <td>0.0</td>\n",
       "      <td>0.0</td>\n",
       "      <td>Others</td>\n",
       "      <td>0.018660</td>\n",
       "      <td>2019-09</td>\n",
       "    </tr>\n",
       "    <tr>\n",
       "      <th>4</th>\n",
       "      <td>4</td>\n",
       "      <td>273217526</td>\n",
       "      <td>2019-09-15</td>\n",
       "      <td>12.917143</td>\n",
       "      <td>80.192349</td>\n",
       "      <td>0.0</td>\n",
       "      <td>0.0</td>\n",
       "      <td>0.0</td>\n",
       "      <td>0.0</td>\n",
       "      <td>0.0</td>\n",
       "      <td>0.0</td>\n",
       "      <td>Others</td>\n",
       "      <td>0.049166</td>\n",
       "      <td>2019-09</td>\n",
       "    </tr>\n",
       "  </tbody>\n",
       "</table>\n",
       "</div>"
      ],
      "text/plain": [
       "   Unnamed: 0  SKP_CREDIT_CASE TIME_DECISION_DATE    CUS_LAT   CUS_LONG  \\\n",
       "0           0        273217442         2019-09-15  26.925771  75.823658   \n",
       "1           1        273217520         2019-09-15  28.704617  77.046645   \n",
       "2           2        273217523         2019-09-15  11.089342  77.336750   \n",
       "3           3        273217525         2019-09-15  19.179927  73.028721   \n",
       "4           4        273217526         2019-09-15  12.917143  80.192349   \n",
       "\n",
       "   RISK_FPD10  RISK_FPD30  RISK_FSPD30  RISK_FSTPD30  RISK_FSTQPD30  \\\n",
       "0         0.0         0.0          0.0           0.0            0.0   \n",
       "1         0.0         0.0          0.0           0.0            0.0   \n",
       "2         0.0         0.0          0.0           0.0            0.0   \n",
       "3         0.0         0.0          0.0           0.0            0.0   \n",
       "4         0.0         0.0          0.0           0.0            0.0   \n",
       "\n",
       "   RISK_FSTQPD60 NTC_FLAG  RISK_SCORE MONTH_STR  \n",
       "0            0.0      NTC    0.164707   2019-09  \n",
       "1            0.0      NTC    0.111792   2019-09  \n",
       "2            0.0      NTC    0.111993   2019-09  \n",
       "3            0.0   Others    0.018660   2019-09  \n",
       "4            0.0   Others    0.049166   2019-09  "
      ]
     },
     "execution_count": 356,
     "metadata": {},
     "output_type": "execute_result"
    }
   ],
   "source": [
    "df.head()"
   ]
  },
  {
   "cell_type": "code",
   "execution_count": 375,
   "metadata": {},
   "outputs": [
    {
     "ename": "ValueError",
     "evalue": "continuous format is not supported",
     "output_type": "error",
     "traceback": [
      "\u001b[1;31m---------------------------------------------------------------------------\u001b[0m",
      "\u001b[1;31mValueError\u001b[0m                                Traceback (most recent call last)",
      "\u001b[1;32m<ipython-input-375-de12a052e54c>\u001b[0m in \u001b[0;36m<module>\u001b[1;34m\u001b[0m\n\u001b[0;32m     13\u001b[0m     power_tab.append({'Name':j\n\u001b[0;32m     14\u001b[0m \u001b[1;31m#                    ,'IV':iv(df1.loc[(df1['MONTH_STR']==j) & (df1['FOUND_FLAG']==1),\"RISK_FSTPD30\"], df1.loc[(df1['MONTH_STR']==j) & (df1['FOUND_FLAG']==1),\"YPRED\"])\u001b[0m\u001b[1;33m\u001b[0m\u001b[1;33m\u001b[0m\u001b[1;33m\u001b[0m\u001b[0m\n\u001b[1;32m---> 15\u001b[1;33m                     \u001b[1;33m,\u001b[0m\u001b[1;34m'Gini_F10'\u001b[0m\u001b[1;33m:\u001b[0m\u001b[0mgini\u001b[0m\u001b[1;33m(\u001b[0m\u001b[0mdf1\u001b[0m\u001b[1;33m.\u001b[0m\u001b[0mloc\u001b[0m\u001b[1;33m[\u001b[0m\u001b[1;33m(\u001b[0m\u001b[0mdf1\u001b[0m\u001b[1;33m[\u001b[0m\u001b[1;34m'MONTH_STR'\u001b[0m\u001b[1;33m]\u001b[0m\u001b[1;33m==\u001b[0m\u001b[0mj\u001b[0m\u001b[1;33m)\u001b[0m\u001b[1;33m,\u001b[0m\u001b[1;34m\"RISK_FPD10\"\u001b[0m\u001b[1;33m]\u001b[0m\u001b[1;33m,\u001b[0m \u001b[0mdf1\u001b[0m\u001b[1;33m.\u001b[0m\u001b[0mloc\u001b[0m\u001b[1;33m[\u001b[0m\u001b[1;33m(\u001b[0m\u001b[0mdf1\u001b[0m\u001b[1;33m[\u001b[0m\u001b[1;34m'MONTH_STR'\u001b[0m\u001b[1;33m]\u001b[0m\u001b[1;33m==\u001b[0m\u001b[0mj\u001b[0m\u001b[1;33m)\u001b[0m\u001b[1;33m,\u001b[0m\u001b[0mRISK_SCORE\u001b[0m\u001b[1;33m]\u001b[0m\u001b[1;33m)\u001b[0m\u001b[1;33m\u001b[0m\u001b[1;33m\u001b[0m\u001b[0m\n\u001b[0m\u001b[0;32m     16\u001b[0m                     \u001b[1;33m,\u001b[0m\u001b[1;34m'Gini_F30'\u001b[0m\u001b[1;33m:\u001b[0m\u001b[0mgini\u001b[0m\u001b[1;33m(\u001b[0m\u001b[0mdf1\u001b[0m\u001b[1;33m.\u001b[0m\u001b[0mloc\u001b[0m\u001b[1;33m[\u001b[0m\u001b[1;33m(\u001b[0m\u001b[0mdf1\u001b[0m\u001b[1;33m[\u001b[0m\u001b[1;34m'MONTH_STR'\u001b[0m\u001b[1;33m]\u001b[0m\u001b[1;33m==\u001b[0m\u001b[0mj\u001b[0m\u001b[1;33m)\u001b[0m\u001b[1;33m,\u001b[0m\u001b[1;34m\"RISK_FPD30\"\u001b[0m\u001b[1;33m]\u001b[0m\u001b[1;33m,\u001b[0m \u001b[0mdf1\u001b[0m\u001b[1;33m.\u001b[0m\u001b[0mloc\u001b[0m\u001b[1;33m[\u001b[0m\u001b[1;33m(\u001b[0m\u001b[0mdf1\u001b[0m\u001b[1;33m[\u001b[0m\u001b[1;34m'MONTH_STR'\u001b[0m\u001b[1;33m]\u001b[0m\u001b[1;33m==\u001b[0m\u001b[0mj\u001b[0m\u001b[1;33m)\u001b[0m\u001b[1;33m,\u001b[0m\u001b[0mRISK_SCORE\u001b[0m\u001b[1;33m]\u001b[0m\u001b[1;33m)\u001b[0m\u001b[1;33m\u001b[0m\u001b[1;33m\u001b[0m\u001b[0m\n\u001b[0;32m     17\u001b[0m                     \u001b[1;33m,\u001b[0m\u001b[1;34m'Gini_FS30'\u001b[0m\u001b[1;33m:\u001b[0m\u001b[0mgini\u001b[0m\u001b[1;33m(\u001b[0m\u001b[0mdf1\u001b[0m\u001b[1;33m.\u001b[0m\u001b[0mloc\u001b[0m\u001b[1;33m[\u001b[0m\u001b[1;33m(\u001b[0m\u001b[0mdf1\u001b[0m\u001b[1;33m[\u001b[0m\u001b[1;34m'MONTH_STR'\u001b[0m\u001b[1;33m]\u001b[0m\u001b[1;33m==\u001b[0m\u001b[0mj\u001b[0m\u001b[1;33m)\u001b[0m\u001b[1;33m,\u001b[0m\u001b[1;34m\"RISK_FSPD30\"\u001b[0m\u001b[1;33m]\u001b[0m\u001b[1;33m,\u001b[0m \u001b[0mdf1\u001b[0m\u001b[1;33m.\u001b[0m\u001b[0mloc\u001b[0m\u001b[1;33m[\u001b[0m\u001b[1;33m(\u001b[0m\u001b[0mdf1\u001b[0m\u001b[1;33m[\u001b[0m\u001b[1;34m'MONTH_STR'\u001b[0m\u001b[1;33m]\u001b[0m\u001b[1;33m==\u001b[0m\u001b[0mj\u001b[0m\u001b[1;33m)\u001b[0m\u001b[1;33m,\u001b[0m\u001b[0mRISK_SCORE\u001b[0m\u001b[1;33m]\u001b[0m\u001b[1;33m)\u001b[0m\u001b[1;33m\u001b[0m\u001b[1;33m\u001b[0m\u001b[0m\n",
      "\u001b[1;32m~\\Desktop\\HomeCredit\\Bigdata\\Scoring Worlflow\\scoring\\metrics.py\u001b[0m in \u001b[0;36mgini\u001b[1;34m(y_true, y_pred, sample_weight)\u001b[0m\n\u001b[0;32m     52\u001b[0m \u001b[1;33m\u001b[0m\u001b[0m\n\u001b[0;32m     53\u001b[0m     \"\"\"\n\u001b[1;32m---> 54\u001b[1;33m     \u001b[1;32mreturn\u001b[0m \u001b[1;36m2\u001b[0m\u001b[1;33m*\u001b[0m\u001b[0mroc_auc_score\u001b[0m\u001b[1;33m(\u001b[0m\u001b[0my_true\u001b[0m\u001b[1;33m,\u001b[0m \u001b[0my_pred\u001b[0m\u001b[1;33m,\u001b[0m \u001b[0msample_weight\u001b[0m\u001b[1;33m=\u001b[0m\u001b[0msample_weight\u001b[0m\u001b[1;33m)\u001b[0m\u001b[1;33m-\u001b[0m\u001b[1;36m1\u001b[0m\u001b[1;33m\u001b[0m\u001b[1;33m\u001b[0m\u001b[0m\n\u001b[0m\u001b[0;32m     55\u001b[0m \u001b[1;33m\u001b[0m\u001b[0m\n\u001b[0;32m     56\u001b[0m \u001b[1;33m\u001b[0m\u001b[0m\n",
      "\u001b[1;32m~\\AppData\\Local\\Continuum\\anaconda3\\lib\\site-packages\\sklearn\\metrics\\ranking.py\u001b[0m in \u001b[0;36mroc_auc_score\u001b[1;34m(y_true, y_score, average, sample_weight, max_fpr)\u001b[0m\n\u001b[0;32m    354\u001b[0m     return _average_binary_score(\n\u001b[0;32m    355\u001b[0m         \u001b[0m_binary_roc_auc_score\u001b[0m\u001b[1;33m,\u001b[0m \u001b[0my_true\u001b[0m\u001b[1;33m,\u001b[0m \u001b[0my_score\u001b[0m\u001b[1;33m,\u001b[0m \u001b[0maverage\u001b[0m\u001b[1;33m,\u001b[0m\u001b[1;33m\u001b[0m\u001b[1;33m\u001b[0m\u001b[0m\n\u001b[1;32m--> 356\u001b[1;33m         sample_weight=sample_weight)\n\u001b[0m\u001b[0;32m    357\u001b[0m \u001b[1;33m\u001b[0m\u001b[0m\n\u001b[0;32m    358\u001b[0m \u001b[1;33m\u001b[0m\u001b[0m\n",
      "\u001b[1;32m~\\AppData\\Local\\Continuum\\anaconda3\\lib\\site-packages\\sklearn\\metrics\\base.py\u001b[0m in \u001b[0;36m_average_binary_score\u001b[1;34m(binary_metric, y_true, y_score, average, sample_weight)\u001b[0m\n\u001b[0;32m     72\u001b[0m     \u001b[0my_type\u001b[0m \u001b[1;33m=\u001b[0m \u001b[0mtype_of_target\u001b[0m\u001b[1;33m(\u001b[0m\u001b[0my_true\u001b[0m\u001b[1;33m)\u001b[0m\u001b[1;33m\u001b[0m\u001b[1;33m\u001b[0m\u001b[0m\n\u001b[0;32m     73\u001b[0m     \u001b[1;32mif\u001b[0m \u001b[0my_type\u001b[0m \u001b[1;32mnot\u001b[0m \u001b[1;32min\u001b[0m \u001b[1;33m(\u001b[0m\u001b[1;34m\"binary\"\u001b[0m\u001b[1;33m,\u001b[0m \u001b[1;34m\"multilabel-indicator\"\u001b[0m\u001b[1;33m)\u001b[0m\u001b[1;33m:\u001b[0m\u001b[1;33m\u001b[0m\u001b[1;33m\u001b[0m\u001b[0m\n\u001b[1;32m---> 74\u001b[1;33m         \u001b[1;32mraise\u001b[0m \u001b[0mValueError\u001b[0m\u001b[1;33m(\u001b[0m\u001b[1;34m\"{0} format is not supported\"\u001b[0m\u001b[1;33m.\u001b[0m\u001b[0mformat\u001b[0m\u001b[1;33m(\u001b[0m\u001b[0my_type\u001b[0m\u001b[1;33m)\u001b[0m\u001b[1;33m)\u001b[0m\u001b[1;33m\u001b[0m\u001b[1;33m\u001b[0m\u001b[0m\n\u001b[0m\u001b[0;32m     75\u001b[0m \u001b[1;33m\u001b[0m\u001b[0m\n\u001b[0;32m     76\u001b[0m     \u001b[1;32mif\u001b[0m \u001b[0my_type\u001b[0m \u001b[1;33m==\u001b[0m \u001b[1;34m\"binary\"\u001b[0m\u001b[1;33m:\u001b[0m\u001b[1;33m\u001b[0m\u001b[1;33m\u001b[0m\u001b[0m\n",
      "\u001b[1;31mValueError\u001b[0m: continuous format is not supported"
     ]
    }
   ],
   "source": [
    "#MOM Gini\n",
    "#Month on Month Gini\n",
    "df1=df.dropna(subset = [\"RISK_SCORE\"])[[\"RISK_SCORE\",\"RISK_FPD10\",\"RISK_FPD30\",\n",
    "                                       \"RISK_FSPD30\",\"RISK_FSTPD30\",\"RISK_FSTQPD30\",\"RISK_FSTQPD60\",\"MONTH_STR\"]]\n",
    "RISK_SCORE = \"RISK_SCORE\"\n",
    "\n",
    "import sys\n",
    "sys.path.append(R'C:\\Users\\aman.khatri91425\\Desktop\\HomeCredit\\Bigdata\\Scoring Worlflow')\n",
    "from scoring.metrics import iv,gini,lift\n",
    "\n",
    "power_tab = []\n",
    "for j in df1[\"MONTH_STR\"].unique():\n",
    "    power_tab.append({'Name':j\n",
    "#                    ,'IV':iv(df1.loc[(df1['MONTH_STR']==j) & (df1['FOUND_FLAG']==1),\"RISK_FSTPD30\"], df1.loc[(df1['MONTH_STR']==j) & (df1['FOUND_FLAG']==1),\"YPRED\"])\n",
    "                    ,'Gini_F10':gini(df1.loc[(df1['MONTH_STR']==j),\"RISK_FPD10\"], df1.loc[(df1['MONTH_STR']==j),RISK_SCORE])        \n",
    "                    ,'Gini_F30':gini(df1.loc[(df1['MONTH_STR']==j),\"RISK_FPD30\"], df1.loc[(df1['MONTH_STR']==j),RISK_SCORE])        \n",
    "                    ,'Gini_FS30':gini(df1.loc[(df1['MONTH_STR']==j),\"RISK_FSPD30\"], df1.loc[(df1['MONTH_STR']==j),RISK_SCORE])        \n",
    "                    ,'Gini_FST30':gini(df1.loc[(df1['MONTH_STR']==j),\"RISK_FSTPD30\"], df1.loc[(df1['MONTH_STR']==j),RISK_SCORE])        \n",
    "                    ,'Gini_FSTQ30':gini(df1.loc[(df1['MONTH_STR']==j),\"RISK_FSTQPD30\"], df1.loc[(df1['MONTH_STR']==j),RISK_SCORE])        \n",
    "                    ,'Gini_FSTQ60':gini(df1.loc[(df1['MONTH_STR']==j),\"RISK_FSTQPD60\"], df1.loc[(df1['MONTH_STR']==j),RISK_SCORE])        \n",
    "                     #                    ,'Lift':lift(df1.loc[(df1['MONTH_STR']==j) & (df1['FOUND_FLAG']==1),\"RISK_FSTPD30\"], df1.loc[(df1['MONTH_STR']==j) & (df1['FOUND_FLAG']==1),\"YPRED\"])\n",
    "                         })\n",
    "    \n",
    "power_out = pd.DataFrame.from_records(power_tab)\n",
    "power_out = power_out.set_index('Name')\n",
    "power_out = power_out.sort_values('Name',ascending=True)\n",
    "\n",
    "print(\"HC SCORE on different delinquencies:\")\n",
    "pd.options.display.max_rows = 1000\n",
    "display(power_out)\n",
    "pd.options.display.max_rows = 15\n",
    "power_out.to_csv(r\"C:\\Users\\aman.khatri91425\\Desktop\\HomeCredit\\Bigdata\\Common Maps KNN\\mon_gini_short_targets_hc_performance.csv\")"
   ]
  },
  {
   "cell_type": "code",
   "execution_count": 384,
   "metadata": {},
   "outputs": [
    {
     "name": "stdout",
     "output_type": "stream",
     "text": [
      "HC SCORE on different delinquencies:\n"
     ]
    },
    {
     "data": {
      "text/html": [
       "<div>\n",
       "<style scoped>\n",
       "    .dataframe tbody tr th:only-of-type {\n",
       "        vertical-align: middle;\n",
       "    }\n",
       "\n",
       "    .dataframe tbody tr th {\n",
       "        vertical-align: top;\n",
       "    }\n",
       "\n",
       "    .dataframe thead th {\n",
       "        text-align: right;\n",
       "    }\n",
       "</style>\n",
       "<table border=\"1\" class=\"dataframe\">\n",
       "  <thead>\n",
       "    <tr style=\"text-align: right;\">\n",
       "      <th></th>\n",
       "      <th>Gini_F10</th>\n",
       "      <th>Gini_F30</th>\n",
       "      <th>Gini_FS30</th>\n",
       "      <th>Gini_FST30</th>\n",
       "      <th>Gini_FSTQ30</th>\n",
       "      <th>Gini_FSTQ60</th>\n",
       "    </tr>\n",
       "    <tr>\n",
       "      <th>Name</th>\n",
       "      <th></th>\n",
       "      <th></th>\n",
       "      <th></th>\n",
       "      <th></th>\n",
       "      <th></th>\n",
       "      <th></th>\n",
       "    </tr>\n",
       "  </thead>\n",
       "  <tbody>\n",
       "    <tr>\n",
       "      <th>2018-12</th>\n",
       "      <td>0.256943</td>\n",
       "      <td>0.317879</td>\n",
       "      <td>0.306821</td>\n",
       "      <td>0.293691</td>\n",
       "      <td>0.279463</td>\n",
       "      <td>0.306009</td>\n",
       "    </tr>\n",
       "    <tr>\n",
       "      <th>2019-01</th>\n",
       "      <td>0.232200</td>\n",
       "      <td>0.310658</td>\n",
       "      <td>0.291864</td>\n",
       "      <td>0.278712</td>\n",
       "      <td>0.263591</td>\n",
       "      <td>0.292517</td>\n",
       "    </tr>\n",
       "    <tr>\n",
       "      <th>2019-02</th>\n",
       "      <td>0.230808</td>\n",
       "      <td>0.317527</td>\n",
       "      <td>0.292573</td>\n",
       "      <td>0.272711</td>\n",
       "      <td>0.262214</td>\n",
       "      <td>0.286908</td>\n",
       "    </tr>\n",
       "    <tr>\n",
       "      <th>2019-03</th>\n",
       "      <td>0.210412</td>\n",
       "      <td>0.293918</td>\n",
       "      <td>0.265104</td>\n",
       "      <td>0.254410</td>\n",
       "      <td>0.250888</td>\n",
       "      <td>0.268075</td>\n",
       "    </tr>\n",
       "    <tr>\n",
       "      <th>2019-04</th>\n",
       "      <td>0.213090</td>\n",
       "      <td>0.277023</td>\n",
       "      <td>0.273908</td>\n",
       "      <td>0.265336</td>\n",
       "      <td>0.262403</td>\n",
       "      <td>0.283961</td>\n",
       "    </tr>\n",
       "    <tr>\n",
       "      <th>2019-05</th>\n",
       "      <td>0.216727</td>\n",
       "      <td>0.275410</td>\n",
       "      <td>0.275229</td>\n",
       "      <td>0.272569</td>\n",
       "      <td>0.269246</td>\n",
       "      <td>0.284790</td>\n",
       "    </tr>\n",
       "    <tr>\n",
       "      <th>2019-06</th>\n",
       "      <td>0.201487</td>\n",
       "      <td>0.261063</td>\n",
       "      <td>0.254791</td>\n",
       "      <td>0.250288</td>\n",
       "      <td>0.244382</td>\n",
       "      <td>0.263895</td>\n",
       "    </tr>\n",
       "    <tr>\n",
       "      <th>2019-07</th>\n",
       "      <td>0.147145</td>\n",
       "      <td>0.193038</td>\n",
       "      <td>0.195669</td>\n",
       "      <td>0.206151</td>\n",
       "      <td>0.213149</td>\n",
       "      <td>0.226075</td>\n",
       "    </tr>\n",
       "    <tr>\n",
       "      <th>2019-08</th>\n",
       "      <td>0.182344</td>\n",
       "      <td>0.247015</td>\n",
       "      <td>0.246054</td>\n",
       "      <td>0.232595</td>\n",
       "      <td>0.235431</td>\n",
       "      <td>0.251215</td>\n",
       "    </tr>\n",
       "    <tr>\n",
       "      <th>2019-09</th>\n",
       "      <td>0.181855</td>\n",
       "      <td>0.259666</td>\n",
       "      <td>0.254413</td>\n",
       "      <td>0.238413</td>\n",
       "      <td>0.244015</td>\n",
       "      <td>0.803228</td>\n",
       "    </tr>\n",
       "  </tbody>\n",
       "</table>\n",
       "</div>"
      ],
      "text/plain": [
       "         Gini_F10  Gini_F30  Gini_FS30  Gini_FST30  Gini_FSTQ30  Gini_FSTQ60\n",
       "Name                                                                        \n",
       "2018-12  0.256943  0.317879   0.306821    0.293691     0.279463     0.306009\n",
       "2019-01  0.232200  0.310658   0.291864    0.278712     0.263591     0.292517\n",
       "2019-02  0.230808  0.317527   0.292573    0.272711     0.262214     0.286908\n",
       "2019-03  0.210412  0.293918   0.265104    0.254410     0.250888     0.268075\n",
       "2019-04  0.213090  0.277023   0.273908    0.265336     0.262403     0.283961\n",
       "2019-05  0.216727  0.275410   0.275229    0.272569     0.269246     0.284790\n",
       "2019-06  0.201487  0.261063   0.254791    0.250288     0.244382     0.263895\n",
       "2019-07  0.147145  0.193038   0.195669    0.206151     0.213149     0.226075\n",
       "2019-08  0.182344  0.247015   0.246054    0.232595     0.235431     0.251215\n",
       "2019-09  0.181855  0.259666   0.254413    0.238413     0.244015     0.803228"
      ]
     },
     "metadata": {},
     "output_type": "display_data"
    }
   ],
   "source": [
    "power_out = pd.DataFrame.from_records(power_tab)\n",
    "power_out = power_out.set_index('Name')\n",
    "power_out = power_out.sort_values('Name',ascending=True)\n",
    "\n",
    "print(\"HC SCORE on different delinquencies:\")\n",
    "pd.options.display.max_rows = 1000\n",
    "display(power_out)\n",
    "pd.options.display.max_rows = 15\n",
    "power_out.to_csv(r\"C:\\Users\\aman.khatri91425\\Desktop\\HomeCredit\\Bigdata\\Common Maps KNN\\mon_gini_short_targets_hc_performance.csv\")"
   ]
  },
  {
   "cell_type": "code",
   "execution_count": null,
   "metadata": {},
   "outputs": [],
   "source": []
  },
  {
   "cell_type": "code",
   "execution_count": null,
   "metadata": {},
   "outputs": [],
   "source": []
  },
  {
   "cell_type": "markdown",
   "metadata": {},
   "source": [
    "# Check Impact of Training Data Duration"
   ]
  },
  {
   "cell_type": "code",
   "execution_count": 412,
   "metadata": {},
   "outputs": [
    {
     "name": "stdout",
     "output_type": "stream",
     "text": [
      "\n",
      "\n",
      " X = 1\n",
      "(4699041, 14)\n",
      "(1078674, 19)\n",
      "Random under-sampling:\n",
      "1.0    339473\n",
      "0.0    339473\n",
      "Name: RISK_FSTQPD30, dtype: int64\n",
      "Randomized search..\n",
      "Randomized search time: 1092.6841881275177\n",
      "AxesSubplot(0.125,0.125;0.775x0.755)\n",
      "Best score: 0.5425710426218738\n",
      "n_neighbors: 336\n",
      "GINI TRAIN: 15.43%\n",
      "GINI TEST: 9.02%\n",
      "GINI CV: 10.27%\n",
      "\n",
      "\n",
      " X = 2\n",
      "(4261124, 14)\n",
      "(1078674, 19)\n",
      "Random under-sampling:\n",
      "1.0    303168\n",
      "0.0    303168\n",
      "Name: RISK_FSTQPD30, dtype: int64\n",
      "Randomized search..\n",
      "Randomized search time: 1067.301118850708\n",
      "AxesSubplot(0.125,0.125;0.775x0.755)\n",
      "Best score: 0.5486814660416683\n",
      "n_neighbors: 336\n",
      "GINI TRAIN: 15.66%\n",
      "GINI TEST: 8.98%\n",
      "GINI CV: 10.48%\n",
      "\n",
      "\n",
      " X = 3\n",
      "(3889510, 14)\n",
      "(1078674, 19)\n",
      "Random under-sampling:\n",
      "1.0    271905\n",
      "0.0    271905\n",
      "Name: RISK_FSTQPD30, dtype: int64\n",
      "Randomized search..\n",
      "Randomized search time: 936.3307931423187\n",
      "AxesSubplot(0.125,0.125;0.775x0.755)\n",
      "Best score: 0.5527668901473513\n",
      "n_neighbors: 321\n",
      "GINI TRAIN: 15.96%\n",
      "GINI TEST: 8.96%\n",
      "GINI CV: 11.36%\n",
      "\n",
      "\n",
      " X = 4\n",
      "(3493389, 14)\n",
      "(1078674, 19)\n",
      "Random under-sampling:\n",
      "1.0    239712\n",
      "0.0    239712\n",
      "Name: RISK_FSTQPD30, dtype: int64\n",
      "Randomized search..\n",
      "Randomized search time: 728.3252983093262\n",
      "AxesSubplot(0.125,0.125;0.775x0.755)\n",
      "Best score: 0.5554181986662596\n",
      "n_neighbors: 336\n",
      "GINI TRAIN: 16.15%\n",
      "GINI TEST: 8.88%\n",
      "GINI CV: 11.98%\n",
      "\n",
      "\n",
      " X = 5\n",
      "(3084899, 14)\n",
      "(1078674, 19)\n",
      "Random under-sampling:\n",
      "1.0    207022\n",
      "0.0    207022\n",
      "Name: RISK_FSTQPD30, dtype: int64\n",
      "Randomized search..\n",
      "Randomized search time: 593.6162486076355\n",
      "AxesSubplot(0.125,0.125;0.775x0.755)\n",
      "Best score: 0.5548612793520963\n",
      "n_neighbors: 321\n",
      "GINI TRAIN: 16.04%\n",
      "GINI TEST: 8.88%\n",
      "GINI CV: 11.77%\n",
      "\n",
      "\n",
      " X = 6\n",
      "(2687062, 14)\n",
      "(1078674, 19)\n",
      "Random under-sampling:\n",
      "1.0    177533\n",
      "0.0    177533\n",
      "Name: RISK_FSTQPD30, dtype: int64\n",
      "Randomized search..\n",
      "Randomized search time: 478.9171233177185\n",
      "AxesSubplot(0.125,0.125;0.775x0.755)\n",
      "Best score: 0.5511698302274853\n",
      "n_neighbors: 291\n",
      "GINI TRAIN: 15.95%\n",
      "GINI TEST: 9.12%\n",
      "GINI CV: 11.03%\n",
      "\n",
      "\n",
      " X = 7\n",
      "(2317134, 14)\n",
      "(1078674, 19)\n",
      "Random under-sampling:\n",
      "1.0    153417\n",
      "0.0    153417\n",
      "Name: RISK_FSTQPD30, dtype: int64\n",
      "Randomized search..\n",
      "Randomized search time: 401.1196746826172\n",
      "AxesSubplot(0.125,0.125;0.775x0.755)\n",
      "Best score: 0.5486141963919007\n",
      "n_neighbors: 291\n",
      "GINI TRAIN: 15.75%\n",
      "GINI TEST: 8.92%\n",
      "GINI CV: 10.84%\n",
      "\n",
      "\n",
      " X = 8\n",
      "(1964584, 14)\n",
      "(1078674, 19)\n",
      "Random under-sampling:\n",
      "1.0    132947\n",
      "0.0    132947\n",
      "Name: RISK_FSTQPD30, dtype: int64\n",
      "Randomized search..\n",
      "Randomized search time: 338.8097996711731\n",
      "AxesSubplot(0.125,0.125;0.775x0.755)\n",
      "Best score: 0.5492434830307945\n",
      "n_neighbors: 206\n",
      "GINI TRAIN: 16.62%\n",
      "GINI TEST: 9.02%\n",
      "GINI CV: 10.53%\n"
     ]
    },
    {
     "data": {
      "image/png": "[encoded data removed]",
      "text/plain": [
       "<Figure size 432x288 with 1 Axes>"
      ]
     },
     "metadata": {
      "needs_background": "light"
     },
     "output_type": "display_data"
    },
    {
     "data": {
      "image/png": "[encoded data removed]",
      "text/plain": [
       "<Figure size 432x288 with 1 Axes>"
      ]
     },
     "metadata": {
      "needs_background": "light"
     },
     "output_type": "display_data"
    },
    {
     "data": {
      "image/png": "[encoded data removed]",
      "text/plain": [
       "<Figure size 432x288 with 1 Axes>"
      ]
     },
     "metadata": {
      "needs_background": "light"
     },
     "output_type": "display_data"
    },
    {
     "data": {
      "image/png": "[encoded data removed]",
      "text/plain": [
       "<Figure size 432x288 with 1 Axes>"
      ]
     },
     "metadata": {
      "needs_background": "light"
     },
     "output_type": "display_data"
    },
    {
     "data": {
      "image/png": "[encoded data removed]",
      "text/plain": [
       "<Figure size 432x288 with 1 Axes>"
      ]
     },
     "metadata": {
      "needs_background": "light"
     },
     "output_type": "display_data"
    },
    {
     "data": {
      "image/png": "[encoded data removed]",
      "text/plain": [
       "<Figure size 432x288 with 1 Axes>"
      ]
     },
     "metadata": {
      "needs_background": "light"
     },
     "output_type": "display_data"
    },
    {
     "data": {
      "image/png": "[encoded data removed]",
      "text/plain": [
       "<Figure size 432x288 with 1 Axes>"
      ]
     },
     "metadata": {
      "needs_background": "light"
     },
     "output_type": "display_data"
    },
    {
     "data": {
      "image/png": "[encoded data removed]",
      "text/plain": [
       "<Figure size 432x288 with 1 Axes>"
      ]
     },
     "metadata": {
      "needs_background": "light"
     },
     "output_type": "display_data"
    }
   ],
   "source": [
    "for x in np.arange(1,9,1):\n",
    "    # Split Train and Test Data Set\n",
    "    df_train = df[(df[\"TIME_DECISION_DATE\"]>=datetime.datetime(2018, x, 1)) & \n",
    "                  (df[\"TIME_DECISION_DATE\"]<=datetime.datetime(2019, 1, 1))]\n",
    "    # df_test = df[(df[\"TIME_DECISION_DATE\"]>=datetime.datetime(2019, 6, 1)) & \n",
    "    #               (df[\"TIME_DECISION_DATE\"]<=datetime.datetime(2019, 8, 31))]\n",
    "    print('\\n\\n X =',x)\n",
    "    print(df_train.shape)\n",
    "    print(df_test.shape)\n",
    "    df_train.RISK_FSTQPD30.value_counts()\n",
    "\n",
    "    target = \"RISK_FSTQPD30\"\n",
    "\n",
    "    #Downsampling Code \n",
    "    count_class_0, count_class_1 = df_train.RISK_FSTQPD30.value_counts()\n",
    "    df_class_0 = df_train[df_train[target] == 0]\n",
    "    df_class_1 = df_train[df_train[target] == 1]\n",
    "    df_class_0_under = df_class_0.sample(count_class_1, random_state = 2)\n",
    "    df_train_under = pd.concat([df_class_0_under, df_class_1], axis=0)\n",
    "    print('Random under-sampling:')\n",
    "    print(df_train_under[target].value_counts())\n",
    "    #df_train_under[target].value_counts().plot(kind='bar', title='Count (target)');\n",
    "\n",
    "    X_train = df_train_under[[\"CUS_LAT\",\"CUS_LONG\",\"RISK_SCORE\",\"TIME_DECISION_DATE\"]]\n",
    "    X_test = df_test[[\"CUS_LAT\",\"CUS_LONG\",\"RISK_SCORE\",\"TIME_DECISION_DATE\"]]\n",
    "    y_train = df_train_under[target]\n",
    "    y_test =  df_test[target]\n",
    "\n",
    "    param_grid = {'n_neighbors': np.arange(1,350,5)\n",
    "                }\n",
    "    seed = 25\n",
    "\n",
    "    from sklearn.neighbors import KNeighborsClassifier\n",
    "    # Create KNN classifier\n",
    "    knn = KNeighborsClassifier(weights = 'uniform')\n",
    "    kfolds = StratifiedKFold(3, random_state=1)\n",
    "\n",
    "    clf = RandomizedSearchCV(estimator=knn, param_distributions=param_grid, scoring=['roc_auc'], n_iter=10,\n",
    "                             random_state=seed, cv=kfolds.split(X_train[[\"CUS_LAT\",\"CUS_LONG\"]], y_train), refit='roc_auc',error_score=0, return_train_score =True)\n",
    "\n",
    "\n",
    "    print(\"Randomized search..\")\n",
    "\n",
    "    search_time_start = time.time()\n",
    "    clf.fit(X_train[[\"CUS_LAT\",\"CUS_LONG\"]], np.ravel(y_train))\n",
    "    print(\"Randomized search time:\", time.time() - search_time_start)\n",
    "\n",
    "    params = clf.best_params_   #get best parameters\n",
    "    dic=clf.cv_results_    #provides scoring results for each iteration, 50 in this case, mean values can be used \n",
    "    tmp= pd.DataFrame(dic['params'])\n",
    "    tmp1= pd.DataFrame(dic)[[\"param_n_neighbors\",\"mean_test_roc_auc\",\"mean_train_roc_auc\"]].sort_values(by = 'param_n_neighbors')\n",
    "    print(tmp1[[\"param_n_neighbors\",\"mean_test_roc_auc\"]].plot(x=\"param_n_neighbors\"))\n",
    "\n",
    "    print(\"Best score: {}\".format(clf.best_score_))    #best auc score as we took that for refit \n",
    "    for param_name in sorted(params.keys()):\n",
    "        print('%s: %r' % (param_name, params[param_name]))\n",
    "\n",
    "    #update estimated hyperparameter values to new model\n",
    "    params = {'n_neighbors': params['n_neighbors']}\n",
    "    kfolds = StratifiedKFold(4, random_state=1)\n",
    "    knn = KNeighborsClassifier(**params)\n",
    "    # cross validation gini\n",
    "    auc_cv = cross_val_score(knn, X_train[[\"CUS_LAT\",\"CUS_LONG\"]], y_train, scoring='roc_auc', cv=kfolds.split(X_train[[\"CUS_LAT\",\"CUS_LONG\"]], y_train),\n",
    "                             n_jobs=-1)\n",
    "    gini_cv = (2 * np.array(auc_cv) - 1).mean()\n",
    "\n",
    "\n",
    "    bst = knn.fit(X_train[[\"CUS_LAT\",\"CUS_LONG\"]], np.ravel(y_train))\n",
    "\n",
    "    ypred_train = bst.predict_proba(X_train[[\"CUS_LAT\",\"CUS_LONG\"]])[:, 1]\n",
    "    ypred_test = bst.predict_proba(X_test[[\"CUS_LAT\",\"CUS_LONG\"]])[:, 1]\n",
    "\n",
    "    metric_auc_train = metrics.roc_auc_score(y_train, ypred_train)\n",
    "    metric_auc_test = metrics.roc_auc_score(y_test, ypred_test)\n",
    "\n",
    "    gini_train = 2 * metric_auc_train - 1\n",
    "    gini_test = 2 * metric_auc_test - 1\n",
    "\n",
    "\n",
    "    print(\"GINI TRAIN:\",'{:,.2%}'.format(gini_train))\n",
    "    print(\"GINI TEST:\",'{:,.2%}'.format(gini_test))\n",
    "    print(\"GINI CV:\",'{:,.2%}'.format(gini_cv))"
   ]
  },
  {
   "cell_type": "code",
   "execution_count": null,
   "metadata": {},
   "outputs": [],
   "source": []
  }
 ],
 "metadata": {
  "kernelspec": {
   "display_name": "Python 3",
   "language": "python",
   "name": "python3"
  },
  "language_info": {
   "codemirror_mode": {
    "name": "ipython",
    "version": 3
   },
   "file_extension": ".py",
   "mimetype": "text/x-python",
   "name": "python",
   "nbconvert_exporter": "python",
   "pygments_lexer": "ipython3",
   "version": "3.7.3"
  }
 },
 "nbformat": 4,
 "nbformat_minor": 2
}
