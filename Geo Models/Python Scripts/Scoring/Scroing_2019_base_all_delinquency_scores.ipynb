{
 "cells": [
  {
   "cell_type": "code",
   "execution_count": 3,
   "metadata": {},
   "outputs": [],
   "source": [
    "import os\n",
    "import cx_Oracle\n",
    "import pandas as pd\n",
    "import numpy as np\n",
    "import pickle\n",
    "from datetime import date,datetime\n",
    "from sklearn import metrics\n",
    "from sklearn.model_selection import train_test_split, StratifiedKFold, RandomizedSearchCV, cross_val_score \n",
    "import time\n",
    "import matplotlib.pyplot as plt\n",
    "from sklearn.utils import resample\n",
    "import datetime"
   ]
  },
  {
   "cell_type": "code",
   "execution_count": 5,
   "metadata": {},
   "outputs": [],
   "source": [
    "os.chdir(r\"C:\\Users\\aman.khatri91425\\Desktop\\HomeCredit\\Bigdata\\Common Maps KNN\")"
   ]
  },
  {
   "cell_type": "code",
   "execution_count": 4,
   "metadata": {},
   "outputs": [],
   "source": [
    "df = pd.read_csv(os.getcwd()+r\"\\Data Files\\final_grids.csv\")"
   ]
  },
  {
   "cell_type": "code",
   "execution_count": 5,
   "metadata": {
    "scrolled": true
   },
   "outputs": [
    {
     "data": {
      "text/html": [
       "<div>\n",
       "<style scoped>\n",
       "    .dataframe tbody tr th:only-of-type {\n",
       "        vertical-align: middle;\n",
       "    }\n",
       "\n",
       "    .dataframe tbody tr th {\n",
       "        vertical-align: top;\n",
       "    }\n",
       "\n",
       "    .dataframe thead th {\n",
       "        text-align: right;\n",
       "    }\n",
       "</style>\n",
       "<table border=\"1\" class=\"dataframe\">\n",
       "  <thead>\n",
       "    <tr style=\"text-align: right;\">\n",
       "      <th></th>\n",
       "      <th>SKP_CREDIT_CASE</th>\n",
       "      <th>TIME_DECISION_DATE</th>\n",
       "      <th>CUS_LAT</th>\n",
       "      <th>CUS_LONG</th>\n",
       "      <th>RISK_FPD10</th>\n",
       "      <th>RISK_FPD30</th>\n",
       "      <th>RISK_FSPD30</th>\n",
       "      <th>RISK_FSTPD30</th>\n",
       "      <th>RISK_FSTQPD30</th>\n",
       "      <th>RISK_FSTQPD60</th>\n",
       "      <th>NTC_FLAG</th>\n",
       "      <th>GRID_ID</th>\n",
       "      <th>RISK_SCORE</th>\n",
       "    </tr>\n",
       "  </thead>\n",
       "  <tbody>\n",
       "    <tr>\n",
       "      <th>0</th>\n",
       "      <td>97173082</td>\n",
       "      <td>01-01-17</td>\n",
       "      <td>28.704380</td>\n",
       "      <td>77.062527</td>\n",
       "      <td>0.0</td>\n",
       "      <td>0.0</td>\n",
       "      <td>0.0</td>\n",
       "      <td>0.0</td>\n",
       "      <td>0.0</td>\n",
       "      <td>NaN</td>\n",
       "      <td>NTC</td>\n",
       "      <td>500_01815_04683</td>\n",
       "      <td>NaN</td>\n",
       "    </tr>\n",
       "    <tr>\n",
       "      <th>1</th>\n",
       "      <td>97173083</td>\n",
       "      <td>01-01-17</td>\n",
       "      <td>19.134879</td>\n",
       "      <td>72.837583</td>\n",
       "      <td>0.0</td>\n",
       "      <td>0.0</td>\n",
       "      <td>0.0</td>\n",
       "      <td>0.0</td>\n",
       "      <td>0.0</td>\n",
       "      <td>NaN</td>\n",
       "      <td>NTC</td>\n",
       "      <td>500_00897_02634</td>\n",
       "      <td>NaN</td>\n",
       "    </tr>\n",
       "    <tr>\n",
       "      <th>2</th>\n",
       "      <td>97173084</td>\n",
       "      <td>01-01-17</td>\n",
       "      <td>19.253689</td>\n",
       "      <td>73.120929</td>\n",
       "      <td>0.0</td>\n",
       "      <td>0.0</td>\n",
       "      <td>0.0</td>\n",
       "      <td>0.0</td>\n",
       "      <td>0.0</td>\n",
       "      <td>NaN</td>\n",
       "      <td>NTC</td>\n",
       "      <td>500_00957_02656</td>\n",
       "      <td>NaN</td>\n",
       "    </tr>\n",
       "    <tr>\n",
       "      <th>3</th>\n",
       "      <td>97173086</td>\n",
       "      <td>01-01-17</td>\n",
       "      <td>28.621763</td>\n",
       "      <td>77.055823</td>\n",
       "      <td>0.0</td>\n",
       "      <td>0.0</td>\n",
       "      <td>0.0</td>\n",
       "      <td>0.0</td>\n",
       "      <td>0.0</td>\n",
       "      <td>NaN</td>\n",
       "      <td>NTC</td>\n",
       "      <td>500_01813_04665</td>\n",
       "      <td>NaN</td>\n",
       "    </tr>\n",
       "    <tr>\n",
       "      <th>4</th>\n",
       "      <td>97173087</td>\n",
       "      <td>01-01-17</td>\n",
       "      <td>28.696583</td>\n",
       "      <td>77.481698</td>\n",
       "      <td>0.0</td>\n",
       "      <td>0.0</td>\n",
       "      <td>0.0</td>\n",
       "      <td>0.0</td>\n",
       "      <td>0.0</td>\n",
       "      <td>NaN</td>\n",
       "      <td>NTC</td>\n",
       "      <td>500_01895_04679</td>\n",
       "      <td>NaN</td>\n",
       "    </tr>\n",
       "  </tbody>\n",
       "</table>\n",
       "</div>"
      ],
      "text/plain": [
       "   SKP_CREDIT_CASE TIME_DECISION_DATE    CUS_LAT   CUS_LONG  RISK_FPD10  \\\n",
       "0         97173082           01-01-17  28.704380  77.062527         0.0   \n",
       "1         97173083           01-01-17  19.134879  72.837583         0.0   \n",
       "2         97173084           01-01-17  19.253689  73.120929         0.0   \n",
       "3         97173086           01-01-17  28.621763  77.055823         0.0   \n",
       "4         97173087           01-01-17  28.696583  77.481698         0.0   \n",
       "\n",
       "   RISK_FPD30  RISK_FSPD30  RISK_FSTPD30  RISK_FSTQPD30  RISK_FSTQPD60  \\\n",
       "0         0.0          0.0           0.0            0.0            NaN   \n",
       "1         0.0          0.0           0.0            0.0            NaN   \n",
       "2         0.0          0.0           0.0            0.0            NaN   \n",
       "3         0.0          0.0           0.0            0.0            NaN   \n",
       "4         0.0          0.0           0.0            0.0            NaN   \n",
       "\n",
       "  NTC_FLAG          GRID_ID  RISK_SCORE  \n",
       "0      NTC  500_01815_04683         NaN  \n",
       "1      NTC  500_00897_02634         NaN  \n",
       "2      NTC  500_00957_02656         NaN  \n",
       "3      NTC  500_01813_04665         NaN  \n",
       "4      NTC  500_01895_04679         NaN  "
      ]
     },
     "execution_count": 5,
     "metadata": {},
     "output_type": "execute_result"
    }
   ],
   "source": [
    "df.head()"
   ]
  },
  {
   "cell_type": "code",
   "execution_count": 8,
   "metadata": {},
   "outputs": [
    {
     "data": {
      "text/plain": [
       "False    6445184\n",
       "True     6357224\n",
       "Name: RISK_SCORE, dtype: int64"
      ]
     },
     "execution_count": 8,
     "metadata": {},
     "output_type": "execute_result"
    }
   ],
   "source": [
    "df[\"RISK_SCORE\"].isna().value_counts()"
   ]
  },
  {
   "cell_type": "code",
   "execution_count": 10,
   "metadata": {},
   "outputs": [],
   "source": [
    "df[\"TIME_DECISION_DATE\"]=pd.to_datetime(df[\"TIME_DECISION_DATE\"],format = '%d-%m-%y')"
   ]
  },
  {
   "cell_type": "code",
   "execution_count": 11,
   "metadata": {},
   "outputs": [],
   "source": [
    "df[\"MONTH_STR\"] = df[\"TIME_DECISION_DATE\"].dt.strftime(\"%Y-%m\")\n",
    "df_summ = df[[\"MONTH_STR\",\"RISK_FSTQPD30\"]].groupby(\"MONTH_STR\").aggregate([\"count\",\"sum\"])[\"RISK_FSTQPD30\"]\n",
    "df_summ[\"bad_rate\"] = df_summ[\"sum\"]/df_summ[\"count\"]"
   ]
  },
  {
   "cell_type": "code",
   "execution_count": 12,
   "metadata": {},
   "outputs": [
    {
     "data": {
      "image/png": "[encoded data removed]",
      "text/plain": [
       "<Figure size 1080x288 with 2 Axes>"
      ]
     },
     "metadata": {
      "needs_background": "light"
     },
     "output_type": "display_data"
    }
   ],
   "source": [
    "df_summ[['sum','count']].plot(kind='bar', width = 0.8, figsize=(15,4))\n",
    "df_summ['bad_rate'].plot(secondary_y=True)\n",
    "\n",
    "ax = plt.gca()\n",
    "plt.xlim([-0.35, len(df_summ['sum'])-0.35])\n",
    "ax.set_xticklabels(df_summ.index)\n",
    "plt.ylim\n",
    "fig = ax.get_figure()\n",
    "ax = fig.get_axes()\n",
    "ax[1].set_ylim(0,0.15)\n",
    "ax[0].legend(['CD_Contracts','CD_Defaults'])\n",
    "ax[1].legend([\"Default Rate\"], loc = \"center right\")\n",
    "\n",
    "\n",
    "plt.show()\n"
   ]
  },
  {
   "cell_type": "code",
   "execution_count": 50,
   "metadata": {},
   "outputs": [],
   "source": [
    "hyper_df= pd.read_csv(os.getcwd()+r\"\\Data Files\\Hyperparameters.csv\")"
   ]
  },
  {
   "cell_type": "code",
   "execution_count": 51,
   "metadata": {},
   "outputs": [
    {
     "data": {
      "text/html": [
       "<div>\n",
       "<style scoped>\n",
       "    .dataframe tbody tr th:only-of-type {\n",
       "        vertical-align: middle;\n",
       "    }\n",
       "\n",
       "    .dataframe tbody tr th {\n",
       "        vertical-align: top;\n",
       "    }\n",
       "\n",
       "    .dataframe thead th {\n",
       "        text-align: right;\n",
       "    }\n",
       "</style>\n",
       "<table border=\"1\" class=\"dataframe\">\n",
       "  <thead>\n",
       "    <tr style=\"text-align: right;\">\n",
       "      <th></th>\n",
       "      <th>SCORE_NAME</th>\n",
       "      <th>TARGET</th>\n",
       "      <th>K</th>\n",
       "      <th>OBSERVATION_WINDOW</th>\n",
       "      <th>PERFORMANCE_WINDOW</th>\n",
       "      <th>DOWNSAMPLE_SIZE</th>\n",
       "    </tr>\n",
       "  </thead>\n",
       "  <tbody>\n",
       "    <tr>\n",
       "      <th>0</th>\n",
       "      <td>RISK_FPD10_SCORE</td>\n",
       "      <td>RISK_FPD10</td>\n",
       "      <td>271</td>\n",
       "      <td>365</td>\n",
       "      <td>40</td>\n",
       "      <td>150000</td>\n",
       "    </tr>\n",
       "    <tr>\n",
       "      <th>1</th>\n",
       "      <td>RISK_FPD30_SCORE</td>\n",
       "      <td>RISK_FPD30</td>\n",
       "      <td>136</td>\n",
       "      <td>365</td>\n",
       "      <td>60</td>\n",
       "      <td>50000</td>\n",
       "    </tr>\n",
       "    <tr>\n",
       "      <th>2</th>\n",
       "      <td>RISK_FSPD30_SCORE</td>\n",
       "      <td>RISK_FSPD30</td>\n",
       "      <td>201</td>\n",
       "      <td>365</td>\n",
       "      <td>90</td>\n",
       "      <td>100000</td>\n",
       "    </tr>\n",
       "    <tr>\n",
       "      <th>3</th>\n",
       "      <td>RISK_FSTPD30_SCORE</td>\n",
       "      <td>RISK_FSTPD30</td>\n",
       "      <td>191</td>\n",
       "      <td>365</td>\n",
       "      <td>120</td>\n",
       "      <td>175000</td>\n",
       "    </tr>\n",
       "    <tr>\n",
       "      <th>4</th>\n",
       "      <td>RISK_FSTQPD30_SCORE</td>\n",
       "      <td>RISK_FSTQPD30</td>\n",
       "      <td>376</td>\n",
       "      <td>365</td>\n",
       "      <td>150</td>\n",
       "      <td>300000</td>\n",
       "    </tr>\n",
       "  </tbody>\n",
       "</table>\n",
       "</div>"
      ],
      "text/plain": [
       "            SCORE_NAME         TARGET    K  OBSERVATION_WINDOW  \\\n",
       "0     RISK_FPD10_SCORE     RISK_FPD10  271                 365   \n",
       "1     RISK_FPD30_SCORE     RISK_FPD30  136                 365   \n",
       "2    RISK_FSPD30_SCORE    RISK_FSPD30  201                 365   \n",
       "3   RISK_FSTPD30_SCORE   RISK_FSTPD30  191                 365   \n",
       "4  RISK_FSTQPD30_SCORE  RISK_FSTQPD30  376                 365   \n",
       "\n",
       "   PERFORMANCE_WINDOW  DOWNSAMPLE_SIZE  \n",
       "0                  40           150000  \n",
       "1                  60            50000  \n",
       "2                  90           100000  \n",
       "3                 120           175000  \n",
       "4                 150           300000  "
      ]
     },
     "execution_count": 51,
     "metadata": {},
     "output_type": "execute_result"
    }
   ],
   "source": [
    "hyper_df.head()"
   ]
  },
  {
   "cell_type": "code",
   "execution_count": 78,
   "metadata": {},
   "outputs": [
    {
     "name": "stderr",
     "output_type": "stream",
     "text": [
      "C:\\Users\\aman.khatri91425\\AppData\\Local\\Continuum\\anaconda3\\lib\\site-packages\\ipykernel_launcher.py:47: SettingWithCopyWarning: \n",
      "A value is trying to be set on a copy of a slice from a DataFrame.\n",
      "Try using .loc[row_indexer,col_indexer] = value instead\n",
      "\n",
      "See the caveats in the documentation: http://pandas.pydata.org/pandas-docs/stable/indexing.html#indexing-view-versus-copy\n"
     ]
    },
    {
     "name": "stdout",
     "output_type": "stream",
     "text": [
      "Training for predicting (month): 1  SCORE: RISK_FPD10_SCORE  target: RISK_FPD10  K: 271  observation_window: 365  performance_window: 40  downsample_size: 150000  GINI TRAIN: 16.18%     GINI TEST: 11.98%  time taken:  1.3\n"
     ]
    },
    {
     "name": "stderr",
     "output_type": "stream",
     "text": [
      "C:\\Users\\aman.khatri91425\\AppData\\Local\\Continuum\\anaconda3\\lib\\site-packages\\ipykernel_launcher.py:47: SettingWithCopyWarning: \n",
      "A value is trying to be set on a copy of a slice from a DataFrame.\n",
      "Try using .loc[row_indexer,col_indexer] = value instead\n",
      "\n",
      "See the caveats in the documentation: http://pandas.pydata.org/pandas-docs/stable/indexing.html#indexing-view-versus-copy\n"
     ]
    },
    {
     "name": "stdout",
     "output_type": "stream",
     "text": [
      "Training for predicting (month): 1  SCORE: RISK_FPD30_SCORE  target: RISK_FPD30  K: 136  observation_window: 365  performance_window: 60  downsample_size: 50000  GINI TRAIN: 21.52%     GINI TEST: 14.91%  time taken:  0.28\n"
     ]
    },
    {
     "name": "stderr",
     "output_type": "stream",
     "text": [
      "C:\\Users\\aman.khatri91425\\AppData\\Local\\Continuum\\anaconda3\\lib\\site-packages\\ipykernel_launcher.py:47: SettingWithCopyWarning: \n",
      "A value is trying to be set on a copy of a slice from a DataFrame.\n",
      "Try using .loc[row_indexer,col_indexer] = value instead\n",
      "\n",
      "See the caveats in the documentation: http://pandas.pydata.org/pandas-docs/stable/indexing.html#indexing-view-versus-copy\n"
     ]
    },
    {
     "name": "stdout",
     "output_type": "stream",
     "text": [
      "Training for predicting (month): 1  SCORE: RISK_FSPD30_SCORE  target: RISK_FSPD30  K: 201  observation_window: 365  performance_window: 90  downsample_size: 100000  GINI TRAIN: 19.43%     GINI TEST: 13.64%  time taken:  0.52\n"
     ]
    },
    {
     "name": "stderr",
     "output_type": "stream",
     "text": [
      "C:\\Users\\aman.khatri91425\\AppData\\Local\\Continuum\\anaconda3\\lib\\site-packages\\ipykernel_launcher.py:47: SettingWithCopyWarning: \n",
      "A value is trying to be set on a copy of a slice from a DataFrame.\n",
      "Try using .loc[row_indexer,col_indexer] = value instead\n",
      "\n",
      "See the caveats in the documentation: http://pandas.pydata.org/pandas-docs/stable/indexing.html#indexing-view-versus-copy\n"
     ]
    },
    {
     "name": "stdout",
     "output_type": "stream",
     "text": [
      "Training for predicting (month): 1  SCORE: RISK_FSTPD30_SCORE  target: RISK_FSTPD30  K: 191  observation_window: 365  performance_window: 120  downsample_size: 175000  GINI TRAIN: 18.95%     GINI TEST: 13.47%  time taken:  0.68\n"
     ]
    },
    {
     "name": "stderr",
     "output_type": "stream",
     "text": [
      "C:\\Users\\aman.khatri91425\\AppData\\Local\\Continuum\\anaconda3\\lib\\site-packages\\ipykernel_launcher.py:47: SettingWithCopyWarning: \n",
      "A value is trying to be set on a copy of a slice from a DataFrame.\n",
      "Try using .loc[row_indexer,col_indexer] = value instead\n",
      "\n",
      "See the caveats in the documentation: http://pandas.pydata.org/pandas-docs/stable/indexing.html#indexing-view-versus-copy\n"
     ]
    },
    {
     "name": "stdout",
     "output_type": "stream",
     "text": [
      "Training for predicting (month): 1  SCORE: RISK_FSTQPD30_SCORE  target: RISK_FSTQPD30  K: 376  observation_window: 365  performance_window: 150  downsample_size: 300000  GINI TRAIN: 15.24%     GINI TEST: 10.86%  time taken:  2.0\n"
     ]
    },
    {
     "name": "stderr",
     "output_type": "stream",
     "text": [
      "C:\\Users\\aman.khatri91425\\AppData\\Local\\Continuum\\anaconda3\\lib\\site-packages\\ipykernel_launcher.py:47: SettingWithCopyWarning: \n",
      "A value is trying to be set on a copy of a slice from a DataFrame.\n",
      "Try using .loc[row_indexer,col_indexer] = value instead\n",
      "\n",
      "See the caveats in the documentation: http://pandas.pydata.org/pandas-docs/stable/indexing.html#indexing-view-versus-copy\n"
     ]
    },
    {
     "name": "stdout",
     "output_type": "stream",
     "text": [
      "Training for predicting (month): 1  SCORE: RISK_FPD10_MM_SCORE  target: RISK_FPD10  K: 241  observation_window: 110  performance_window: 40  downsample_size: 50000  GINI TRAIN: 18.16%     GINI TEST: 11.07%  time taken:  0.5\n"
     ]
    },
    {
     "name": "stderr",
     "output_type": "stream",
     "text": [
      "C:\\Users\\aman.khatri91425\\AppData\\Local\\Continuum\\anaconda3\\lib\\site-packages\\ipykernel_launcher.py:47: SettingWithCopyWarning: \n",
      "A value is trying to be set on a copy of a slice from a DataFrame.\n",
      "Try using .loc[row_indexer,col_indexer] = value instead\n",
      "\n",
      "See the caveats in the documentation: http://pandas.pydata.org/pandas-docs/stable/indexing.html#indexing-view-versus-copy\n"
     ]
    },
    {
     "name": "stdout",
     "output_type": "stream",
     "text": [
      "Training for predicting (month): 1  SCORE: RISK_FPD30_MM_SCORE  target: RISK_FPD30  K: 66  observation_window: 90  performance_window: 60  downsample_size: 15000  GINI TRAIN: 25.49%     GINI TEST: 14.52%  time taken:  0.1\n"
     ]
    },
    {
     "name": "stderr",
     "output_type": "stream",
     "text": [
      "C:\\Users\\aman.khatri91425\\AppData\\Local\\Continuum\\anaconda3\\lib\\site-packages\\ipykernel_launcher.py:47: SettingWithCopyWarning: \n",
      "A value is trying to be set on a copy of a slice from a DataFrame.\n",
      "Try using .loc[row_indexer,col_indexer] = value instead\n",
      "\n",
      "See the caveats in the documentation: http://pandas.pydata.org/pandas-docs/stable/indexing.html#indexing-view-versus-copy\n"
     ]
    },
    {
     "name": "stdout",
     "output_type": "stream",
     "text": [
      "Training for predicting (month): 1  SCORE: RISK_FSPD30_MM_SCORE  target: RISK_FSPD30  K: 96  observation_window: 60  performance_window: 90  downsample_size: 20000  GINI TRAIN: 21.99%     GINI TEST: 12.27%  time taken:  0.17\n"
     ]
    },
    {
     "name": "stderr",
     "output_type": "stream",
     "text": [
      "C:\\Users\\aman.khatri91425\\AppData\\Local\\Continuum\\anaconda3\\lib\\site-packages\\ipykernel_launcher.py:47: SettingWithCopyWarning: \n",
      "A value is trying to be set on a copy of a slice from a DataFrame.\n",
      "Try using .loc[row_indexer,col_indexer] = value instead\n",
      "\n",
      "See the caveats in the documentation: http://pandas.pydata.org/pandas-docs/stable/indexing.html#indexing-view-versus-copy\n"
     ]
    },
    {
     "name": "stdout",
     "output_type": "stream",
     "text": [
      "Training for predicting (month): 1  SCORE: RISK_FSTPD30_MM_SCORE  target: RISK_FSTPD30  K: 206  observation_window: 30  performance_window: 120  downsample_size: 15000  GINI TRAIN: 16.59%     GINI TEST: 10.13%  time taken:  0.35\n"
     ]
    },
    {
     "name": "stderr",
     "output_type": "stream",
     "text": [
      "C:\\Users\\aman.khatri91425\\AppData\\Local\\Continuum\\anaconda3\\lib\\site-packages\\ipykernel_launcher.py:47: SettingWithCopyWarning: \n",
      "A value is trying to be set on a copy of a slice from a DataFrame.\n",
      "Try using .loc[row_indexer,col_indexer] = value instead\n",
      "\n",
      "See the caveats in the documentation: http://pandas.pydata.org/pandas-docs/stable/indexing.html#indexing-view-versus-copy\n"
     ]
    },
    {
     "name": "stdout",
     "output_type": "stream",
     "text": [
      "Training for predicting (month): 2  SCORE: RISK_FPD10_SCORE  target: RISK_FPD10  K: 271  observation_window: 365  performance_window: 40  downsample_size: 150000  GINI TRAIN: 16.00%     GINI TEST: 11.86%  time taken:  0.8\n"
     ]
    },
    {
     "name": "stderr",
     "output_type": "stream",
     "text": [
      "C:\\Users\\aman.khatri91425\\AppData\\Local\\Continuum\\anaconda3\\lib\\site-packages\\ipykernel_launcher.py:47: SettingWithCopyWarning: \n",
      "A value is trying to be set on a copy of a slice from a DataFrame.\n",
      "Try using .loc[row_indexer,col_indexer] = value instead\n",
      "\n",
      "See the caveats in the documentation: http://pandas.pydata.org/pandas-docs/stable/indexing.html#indexing-view-versus-copy\n"
     ]
    },
    {
     "name": "stdout",
     "output_type": "stream",
     "text": [
      "Training for predicting (month): 2  SCORE: RISK_FPD30_SCORE  target: RISK_FPD30  K: 136  observation_window: 365  performance_window: 60  downsample_size: 50000  GINI TRAIN: 22.36%     GINI TEST: 17.46%  time taken:  0.27\n"
     ]
    },
    {
     "name": "stderr",
     "output_type": "stream",
     "text": [
      "C:\\Users\\aman.khatri91425\\AppData\\Local\\Continuum\\anaconda3\\lib\\site-packages\\ipykernel_launcher.py:47: SettingWithCopyWarning: \n",
      "A value is trying to be set on a copy of a slice from a DataFrame.\n",
      "Try using .loc[row_indexer,col_indexer] = value instead\n",
      "\n",
      "See the caveats in the documentation: http://pandas.pydata.org/pandas-docs/stable/indexing.html#indexing-view-versus-copy\n"
     ]
    },
    {
     "name": "stdout",
     "output_type": "stream",
     "text": [
      "Training for predicting (month): 2  SCORE: RISK_FSPD30_SCORE  target: RISK_FSPD30  K: 201  observation_window: 365  performance_window: 90  downsample_size: 100000  GINI TRAIN: 19.64%     GINI TEST: 15.37%  time taken:  0.48\n"
     ]
    },
    {
     "name": "stderr",
     "output_type": "stream",
     "text": [
      "C:\\Users\\aman.khatri91425\\AppData\\Local\\Continuum\\anaconda3\\lib\\site-packages\\ipykernel_launcher.py:47: SettingWithCopyWarning: \n",
      "A value is trying to be set on a copy of a slice from a DataFrame.\n",
      "Try using .loc[row_indexer,col_indexer] = value instead\n",
      "\n",
      "See the caveats in the documentation: http://pandas.pydata.org/pandas-docs/stable/indexing.html#indexing-view-versus-copy\n"
     ]
    },
    {
     "name": "stdout",
     "output_type": "stream",
     "text": [
      "Training for predicting (month): 2  SCORE: RISK_FSTPD30_SCORE  target: RISK_FSTPD30  K: 191  observation_window: 365  performance_window: 120  downsample_size: 175000  GINI TRAIN: 18.77%     GINI TEST: 13.81%  time taken:  0.63\n"
     ]
    },
    {
     "name": "stderr",
     "output_type": "stream",
     "text": [
      "C:\\Users\\aman.khatri91425\\AppData\\Local\\Continuum\\anaconda3\\lib\\site-packages\\ipykernel_launcher.py:47: SettingWithCopyWarning: \n",
      "A value is trying to be set on a copy of a slice from a DataFrame.\n",
      "Try using .loc[row_indexer,col_indexer] = value instead\n",
      "\n",
      "See the caveats in the documentation: http://pandas.pydata.org/pandas-docs/stable/indexing.html#indexing-view-versus-copy\n"
     ]
    },
    {
     "name": "stdout",
     "output_type": "stream",
     "text": [
      "Training for predicting (month): 2  SCORE: RISK_FSTQPD30_SCORE  target: RISK_FSTQPD30  K: 376  observation_window: 365  performance_window: 150  downsample_size: 300000  GINI TRAIN: 15.03%     GINI TEST: 10.88%  time taken:  1.9\n"
     ]
    },
    {
     "name": "stderr",
     "output_type": "stream",
     "text": [
      "C:\\Users\\aman.khatri91425\\AppData\\Local\\Continuum\\anaconda3\\lib\\site-packages\\ipykernel_launcher.py:47: SettingWithCopyWarning: \n",
      "A value is trying to be set on a copy of a slice from a DataFrame.\n",
      "Try using .loc[row_indexer,col_indexer] = value instead\n",
      "\n",
      "See the caveats in the documentation: http://pandas.pydata.org/pandas-docs/stable/indexing.html#indexing-view-versus-copy\n"
     ]
    },
    {
     "name": "stdout",
     "output_type": "stream",
     "text": [
      "Training for predicting (month): 2  SCORE: RISK_FPD10_MM_SCORE  target: RISK_FPD10  K: 241  observation_window: 110  performance_window: 40  downsample_size: 50000  GINI TRAIN: 16.27%     GINI TEST: 11.33%  time taken:  0.43\n"
     ]
    },
    {
     "name": "stderr",
     "output_type": "stream",
     "text": [
      "C:\\Users\\aman.khatri91425\\AppData\\Local\\Continuum\\anaconda3\\lib\\site-packages\\ipykernel_launcher.py:47: SettingWithCopyWarning: \n",
      "A value is trying to be set on a copy of a slice from a DataFrame.\n",
      "Try using .loc[row_indexer,col_indexer] = value instead\n",
      "\n",
      "See the caveats in the documentation: http://pandas.pydata.org/pandas-docs/stable/indexing.html#indexing-view-versus-copy\n"
     ]
    },
    {
     "name": "stdout",
     "output_type": "stream",
     "text": [
      "Training for predicting (month): 2  SCORE: RISK_FPD30_MM_SCORE  target: RISK_FPD30  K: 66  observation_window: 90  performance_window: 60  downsample_size: 15000  GINI TRAIN: 24.36%     GINI TEST: 16.32%  time taken:  0.1\n"
     ]
    },
    {
     "name": "stderr",
     "output_type": "stream",
     "text": [
      "C:\\Users\\aman.khatri91425\\AppData\\Local\\Continuum\\anaconda3\\lib\\site-packages\\ipykernel_launcher.py:47: SettingWithCopyWarning: \n",
      "A value is trying to be set on a copy of a slice from a DataFrame.\n",
      "Try using .loc[row_indexer,col_indexer] = value instead\n",
      "\n",
      "See the caveats in the documentation: http://pandas.pydata.org/pandas-docs/stable/indexing.html#indexing-view-versus-copy\n"
     ]
    },
    {
     "name": "stdout",
     "output_type": "stream",
     "text": [
      "Training for predicting (month): 2  SCORE: RISK_FSPD30_MM_SCORE  target: RISK_FSPD30  K: 96  observation_window: 60  performance_window: 90  downsample_size: 20000  GINI TRAIN: 20.28%     GINI TEST: 11.90%  time taken:  0.15\n"
     ]
    },
    {
     "name": "stderr",
     "output_type": "stream",
     "text": [
      "C:\\Users\\aman.khatri91425\\AppData\\Local\\Continuum\\anaconda3\\lib\\site-packages\\ipykernel_launcher.py:47: SettingWithCopyWarning: \n",
      "A value is trying to be set on a copy of a slice from a DataFrame.\n",
      "Try using .loc[row_indexer,col_indexer] = value instead\n",
      "\n",
      "See the caveats in the documentation: http://pandas.pydata.org/pandas-docs/stable/indexing.html#indexing-view-versus-copy\n"
     ]
    },
    {
     "name": "stdout",
     "output_type": "stream",
     "text": [
      "Training for predicting (month): 2  SCORE: RISK_FSTPD30_MM_SCORE  target: RISK_FSTPD30  K: 206  observation_window: 30  performance_window: 120  downsample_size: 15000  GINI TRAIN: 16.37%     GINI TEST: 10.83%  time taken:  0.3\n"
     ]
    },
    {
     "name": "stderr",
     "output_type": "stream",
     "text": [
      "C:\\Users\\aman.khatri91425\\AppData\\Local\\Continuum\\anaconda3\\lib\\site-packages\\ipykernel_launcher.py:47: SettingWithCopyWarning: \n",
      "A value is trying to be set on a copy of a slice from a DataFrame.\n",
      "Try using .loc[row_indexer,col_indexer] = value instead\n",
      "\n",
      "See the caveats in the documentation: http://pandas.pydata.org/pandas-docs/stable/indexing.html#indexing-view-versus-copy\n"
     ]
    },
    {
     "name": "stdout",
     "output_type": "stream",
     "text": [
      "Training for predicting (month): 3  SCORE: RISK_FPD10_SCORE  target: RISK_FPD10  K: 271  observation_window: 365  performance_window: 40  downsample_size: 150000  GINI TRAIN: 16.24%     GINI TEST: 13.37%  time taken:  0.83\n"
     ]
    },
    {
     "name": "stderr",
     "output_type": "stream",
     "text": [
      "C:\\Users\\aman.khatri91425\\AppData\\Local\\Continuum\\anaconda3\\lib\\site-packages\\ipykernel_launcher.py:47: SettingWithCopyWarning: \n",
      "A value is trying to be set on a copy of a slice from a DataFrame.\n",
      "Try using .loc[row_indexer,col_indexer] = value instead\n",
      "\n",
      "See the caveats in the documentation: http://pandas.pydata.org/pandas-docs/stable/indexing.html#indexing-view-versus-copy\n"
     ]
    },
    {
     "name": "stdout",
     "output_type": "stream",
     "text": [
      "Training for predicting (month): 3  SCORE: RISK_FPD30_SCORE  target: RISK_FPD30  K: 136  observation_window: 365  performance_window: 60  downsample_size: 50000  GINI TRAIN: 21.64%     GINI TEST: 17.43%  time taken:  0.28\n"
     ]
    },
    {
     "name": "stderr",
     "output_type": "stream",
     "text": [
      "C:\\Users\\aman.khatri91425\\AppData\\Local\\Continuum\\anaconda3\\lib\\site-packages\\ipykernel_launcher.py:47: SettingWithCopyWarning: \n",
      "A value is trying to be set on a copy of a slice from a DataFrame.\n",
      "Try using .loc[row_indexer,col_indexer] = value instead\n",
      "\n",
      "See the caveats in the documentation: http://pandas.pydata.org/pandas-docs/stable/indexing.html#indexing-view-versus-copy\n"
     ]
    },
    {
     "name": "stdout",
     "output_type": "stream",
     "text": [
      "Training for predicting (month): 3  SCORE: RISK_FSPD30_SCORE  target: RISK_FSPD30  K: 201  observation_window: 365  performance_window: 90  downsample_size: 100000  GINI TRAIN: 19.31%     GINI TEST: 14.83%  time taken:  0.52\n"
     ]
    },
    {
     "name": "stderr",
     "output_type": "stream",
     "text": [
      "C:\\Users\\aman.khatri91425\\AppData\\Local\\Continuum\\anaconda3\\lib\\site-packages\\ipykernel_launcher.py:47: SettingWithCopyWarning: \n",
      "A value is trying to be set on a copy of a slice from a DataFrame.\n",
      "Try using .loc[row_indexer,col_indexer] = value instead\n",
      "\n",
      "See the caveats in the documentation: http://pandas.pydata.org/pandas-docs/stable/indexing.html#indexing-view-versus-copy\n"
     ]
    },
    {
     "name": "stdout",
     "output_type": "stream",
     "text": [
      "Training for predicting (month): 3  SCORE: RISK_FSTPD30_SCORE  target: RISK_FSTPD30  K: 191  observation_window: 365  performance_window: 120  downsample_size: 175000  GINI TRAIN: 18.67%     GINI TEST: 12.60%  time taken:  0.68\n"
     ]
    },
    {
     "name": "stderr",
     "output_type": "stream",
     "text": [
      "C:\\Users\\aman.khatri91425\\AppData\\Local\\Continuum\\anaconda3\\lib\\site-packages\\ipykernel_launcher.py:47: SettingWithCopyWarning: \n",
      "A value is trying to be set on a copy of a slice from a DataFrame.\n",
      "Try using .loc[row_indexer,col_indexer] = value instead\n",
      "\n",
      "See the caveats in the documentation: http://pandas.pydata.org/pandas-docs/stable/indexing.html#indexing-view-versus-copy\n"
     ]
    },
    {
     "name": "stdout",
     "output_type": "stream",
     "text": [
      "Training for predicting (month): 3  SCORE: RISK_FSTQPD30_SCORE  target: RISK_FSTQPD30  K: 376  observation_window: 365  performance_window: 150  downsample_size: 300000  GINI TRAIN: 15.38%     GINI TEST: 10.75%  time taken:  2.1\n"
     ]
    },
    {
     "name": "stderr",
     "output_type": "stream",
     "text": [
      "C:\\Users\\aman.khatri91425\\AppData\\Local\\Continuum\\anaconda3\\lib\\site-packages\\ipykernel_launcher.py:47: SettingWithCopyWarning: \n",
      "A value is trying to be set on a copy of a slice from a DataFrame.\n",
      "Try using .loc[row_indexer,col_indexer] = value instead\n",
      "\n",
      "See the caveats in the documentation: http://pandas.pydata.org/pandas-docs/stable/indexing.html#indexing-view-versus-copy\n"
     ]
    },
    {
     "name": "stdout",
     "output_type": "stream",
     "text": [
      "Training for predicting (month): 3  SCORE: RISK_FPD10_MM_SCORE  target: RISK_FPD10  K: 241  observation_window: 110  performance_window: 40  downsample_size: 50000  GINI TRAIN: 16.47%     GINI TEST: 12.68%  time taken:  0.5\n"
     ]
    },
    {
     "name": "stderr",
     "output_type": "stream",
     "text": [
      "C:\\Users\\aman.khatri91425\\AppData\\Local\\Continuum\\anaconda3\\lib\\site-packages\\ipykernel_launcher.py:47: SettingWithCopyWarning: \n",
      "A value is trying to be set on a copy of a slice from a DataFrame.\n",
      "Try using .loc[row_indexer,col_indexer] = value instead\n",
      "\n",
      "See the caveats in the documentation: http://pandas.pydata.org/pandas-docs/stable/indexing.html#indexing-view-versus-copy\n"
     ]
    },
    {
     "name": "stdout",
     "output_type": "stream",
     "text": [
      "Training for predicting (month): 3  SCORE: RISK_FPD30_MM_SCORE  target: RISK_FPD30  K: 66  observation_window: 90  performance_window: 60  downsample_size: 15000  GINI TRAIN: 24.94%     GINI TEST: 14.54%  time taken:  0.12\n"
     ]
    },
    {
     "name": "stderr",
     "output_type": "stream",
     "text": [
      "C:\\Users\\aman.khatri91425\\AppData\\Local\\Continuum\\anaconda3\\lib\\site-packages\\ipykernel_launcher.py:47: SettingWithCopyWarning: \n",
      "A value is trying to be set on a copy of a slice from a DataFrame.\n",
      "Try using .loc[row_indexer,col_indexer] = value instead\n",
      "\n",
      "See the caveats in the documentation: http://pandas.pydata.org/pandas-docs/stable/indexing.html#indexing-view-versus-copy\n"
     ]
    },
    {
     "name": "stdout",
     "output_type": "stream",
     "text": [
      "Training for predicting (month): 3  SCORE: RISK_FSPD30_MM_SCORE  target: RISK_FSPD30  K: 96  observation_window: 60  performance_window: 90  downsample_size: 20000  GINI TRAIN: 21.12%     GINI TEST: 12.12%  time taken:  0.17\n"
     ]
    },
    {
     "name": "stderr",
     "output_type": "stream",
     "text": [
      "C:\\Users\\aman.khatri91425\\AppData\\Local\\Continuum\\anaconda3\\lib\\site-packages\\ipykernel_launcher.py:47: SettingWithCopyWarning: \n",
      "A value is trying to be set on a copy of a slice from a DataFrame.\n",
      "Try using .loc[row_indexer,col_indexer] = value instead\n",
      "\n",
      "See the caveats in the documentation: http://pandas.pydata.org/pandas-docs/stable/indexing.html#indexing-view-versus-copy\n"
     ]
    },
    {
     "name": "stdout",
     "output_type": "stream",
     "text": [
      "Training for predicting (month): 3  SCORE: RISK_FSTPD30_MM_SCORE  target: RISK_FSTPD30  K: 206  observation_window: 30  performance_window: 120  downsample_size: 15000  GINI TRAIN: 15.24%     GINI TEST: 8.95%  time taken:  0.35\n"
     ]
    },
    {
     "name": "stderr",
     "output_type": "stream",
     "text": [
      "C:\\Users\\aman.khatri91425\\AppData\\Local\\Continuum\\anaconda3\\lib\\site-packages\\ipykernel_launcher.py:47: SettingWithCopyWarning: \n",
      "A value is trying to be set on a copy of a slice from a DataFrame.\n",
      "Try using .loc[row_indexer,col_indexer] = value instead\n",
      "\n",
      "See the caveats in the documentation: http://pandas.pydata.org/pandas-docs/stable/indexing.html#indexing-view-versus-copy\n"
     ]
    },
    {
     "name": "stdout",
     "output_type": "stream",
     "text": [
      "Training for predicting (month): 4  SCORE: RISK_FPD10_SCORE  target: RISK_FPD10  K: 271  observation_window: 365  performance_window: 40  downsample_size: 150000  GINI TRAIN: 16.35%     GINI TEST: 13.38%  time taken:  0.87\n"
     ]
    },
    {
     "name": "stderr",
     "output_type": "stream",
     "text": [
      "C:\\Users\\aman.khatri91425\\AppData\\Local\\Continuum\\anaconda3\\lib\\site-packages\\ipykernel_launcher.py:47: SettingWithCopyWarning: \n",
      "A value is trying to be set on a copy of a slice from a DataFrame.\n",
      "Try using .loc[row_indexer,col_indexer] = value instead\n",
      "\n",
      "See the caveats in the documentation: http://pandas.pydata.org/pandas-docs/stable/indexing.html#indexing-view-versus-copy\n"
     ]
    },
    {
     "name": "stdout",
     "output_type": "stream",
     "text": [
      "Training for predicting (month): 4  SCORE: RISK_FPD30_SCORE  target: RISK_FPD30  K: 136  observation_window: 365  performance_window: 60  downsample_size: 50000  GINI TRAIN: 21.91%     GINI TEST: 18.02%  time taken:  0.28\n"
     ]
    },
    {
     "name": "stderr",
     "output_type": "stream",
     "text": [
      "C:\\Users\\aman.khatri91425\\AppData\\Local\\Continuum\\anaconda3\\lib\\site-packages\\ipykernel_launcher.py:47: SettingWithCopyWarning: \n",
      "A value is trying to be set on a copy of a slice from a DataFrame.\n",
      "Try using .loc[row_indexer,col_indexer] = value instead\n",
      "\n",
      "See the caveats in the documentation: http://pandas.pydata.org/pandas-docs/stable/indexing.html#indexing-view-versus-copy\n"
     ]
    },
    {
     "name": "stdout",
     "output_type": "stream",
     "text": [
      "Training for predicting (month): 4  SCORE: RISK_FSPD30_SCORE  target: RISK_FSPD30  K: 201  observation_window: 365  performance_window: 90  downsample_size: 100000  GINI TRAIN: 19.42%     GINI TEST: 15.41%  time taken:  0.62\n"
     ]
    },
    {
     "name": "stderr",
     "output_type": "stream",
     "text": [
      "C:\\Users\\aman.khatri91425\\AppData\\Local\\Continuum\\anaconda3\\lib\\site-packages\\ipykernel_launcher.py:47: SettingWithCopyWarning: \n",
      "A value is trying to be set on a copy of a slice from a DataFrame.\n",
      "Try using .loc[row_indexer,col_indexer] = value instead\n",
      "\n",
      "See the caveats in the documentation: http://pandas.pydata.org/pandas-docs/stable/indexing.html#indexing-view-versus-copy\n"
     ]
    },
    {
     "name": "stdout",
     "output_type": "stream",
     "text": [
      "Training for predicting (month): 4  SCORE: RISK_FSTPD30_SCORE  target: RISK_FSTPD30  K: 191  observation_window: 365  performance_window: 120  downsample_size: 175000  GINI TRAIN: 18.32%     GINI TEST: 12.03%  time taken:  0.73\n"
     ]
    },
    {
     "name": "stderr",
     "output_type": "stream",
     "text": [
      "C:\\Users\\aman.khatri91425\\AppData\\Local\\Continuum\\anaconda3\\lib\\site-packages\\ipykernel_launcher.py:47: SettingWithCopyWarning: \n",
      "A value is trying to be set on a copy of a slice from a DataFrame.\n",
      "Try using .loc[row_indexer,col_indexer] = value instead\n",
      "\n",
      "See the caveats in the documentation: http://pandas.pydata.org/pandas-docs/stable/indexing.html#indexing-view-versus-copy\n"
     ]
    },
    {
     "name": "stdout",
     "output_type": "stream",
     "text": [
      "Training for predicting (month): 4  SCORE: RISK_FSTQPD30_SCORE  target: RISK_FSTQPD30  K: 376  observation_window: 365  performance_window: 150  downsample_size: 300000  GINI TRAIN: 15.09%     GINI TEST: 10.57%  time taken:  2.0\n"
     ]
    },
    {
     "name": "stderr",
     "output_type": "stream",
     "text": [
      "C:\\Users\\aman.khatri91425\\AppData\\Local\\Continuum\\anaconda3\\lib\\site-packages\\ipykernel_launcher.py:47: SettingWithCopyWarning: \n",
      "A value is trying to be set on a copy of a slice from a DataFrame.\n",
      "Try using .loc[row_indexer,col_indexer] = value instead\n",
      "\n",
      "See the caveats in the documentation: http://pandas.pydata.org/pandas-docs/stable/indexing.html#indexing-view-versus-copy\n"
     ]
    },
    {
     "name": "stdout",
     "output_type": "stream",
     "text": [
      "Training for predicting (month): 4  SCORE: RISK_FPD10_MM_SCORE  target: RISK_FPD10  K: 241  observation_window: 110  performance_window: 40  downsample_size: 50000  GINI TRAIN: 16.53%     GINI TEST: 12.63%  time taken:  0.45\n"
     ]
    },
    {
     "name": "stderr",
     "output_type": "stream",
     "text": [
      "C:\\Users\\aman.khatri91425\\AppData\\Local\\Continuum\\anaconda3\\lib\\site-packages\\ipykernel_launcher.py:47: SettingWithCopyWarning: \n",
      "A value is trying to be set on a copy of a slice from a DataFrame.\n",
      "Try using .loc[row_indexer,col_indexer] = value instead\n",
      "\n",
      "See the caveats in the documentation: http://pandas.pydata.org/pandas-docs/stable/indexing.html#indexing-view-versus-copy\n"
     ]
    },
    {
     "name": "stdout",
     "output_type": "stream",
     "text": [
      "Training for predicting (month): 4  SCORE: RISK_FPD30_MM_SCORE  target: RISK_FPD30  K: 66  observation_window: 90  performance_window: 60  downsample_size: 15000  GINI TRAIN: 24.98%     GINI TEST: 14.54%  time taken:  0.1\n"
     ]
    },
    {
     "name": "stderr",
     "output_type": "stream",
     "text": [
      "C:\\Users\\aman.khatri91425\\AppData\\Local\\Continuum\\anaconda3\\lib\\site-packages\\ipykernel_launcher.py:47: SettingWithCopyWarning: \n",
      "A value is trying to be set on a copy of a slice from a DataFrame.\n",
      "Try using .loc[row_indexer,col_indexer] = value instead\n",
      "\n",
      "See the caveats in the documentation: http://pandas.pydata.org/pandas-docs/stable/indexing.html#indexing-view-versus-copy\n"
     ]
    },
    {
     "name": "stdout",
     "output_type": "stream",
     "text": [
      "Training for predicting (month): 4  SCORE: RISK_FSPD30_MM_SCORE  target: RISK_FSPD30  K: 96  observation_window: 60  performance_window: 90  downsample_size: 20000  GINI TRAIN: 22.11%     GINI TEST: 12.96%  time taken:  0.15\n"
     ]
    },
    {
     "name": "stderr",
     "output_type": "stream",
     "text": [
      "C:\\Users\\aman.khatri91425\\AppData\\Local\\Continuum\\anaconda3\\lib\\site-packages\\ipykernel_launcher.py:47: SettingWithCopyWarning: \n",
      "A value is trying to be set on a copy of a slice from a DataFrame.\n",
      "Try using .loc[row_indexer,col_indexer] = value instead\n",
      "\n",
      "See the caveats in the documentation: http://pandas.pydata.org/pandas-docs/stable/indexing.html#indexing-view-versus-copy\n"
     ]
    },
    {
     "name": "stdout",
     "output_type": "stream",
     "text": [
      "Training for predicting (month): 4  SCORE: RISK_FSTPD30_MM_SCORE  target: RISK_FSTPD30  K: 206  observation_window: 30  performance_window: 120  downsample_size: 15000  GINI TRAIN: 16.23%     GINI TEST: 8.70%  time taken:  0.32\n"
     ]
    },
    {
     "name": "stderr",
     "output_type": "stream",
     "text": [
      "C:\\Users\\aman.khatri91425\\AppData\\Local\\Continuum\\anaconda3\\lib\\site-packages\\ipykernel_launcher.py:47: SettingWithCopyWarning: \n",
      "A value is trying to be set on a copy of a slice from a DataFrame.\n",
      "Try using .loc[row_indexer,col_indexer] = value instead\n",
      "\n",
      "See the caveats in the documentation: http://pandas.pydata.org/pandas-docs/stable/indexing.html#indexing-view-versus-copy\n"
     ]
    },
    {
     "name": "stdout",
     "output_type": "stream",
     "text": [
      "Training for predicting (month): 5  SCORE: RISK_FPD10_SCORE  target: RISK_FPD10  K: 271  observation_window: 365  performance_window: 40  downsample_size: 150000  GINI TRAIN: 16.56%     GINI TEST: 11.51%  time taken:  0.83\n"
     ]
    },
    {
     "name": "stderr",
     "output_type": "stream",
     "text": [
      "C:\\Users\\aman.khatri91425\\AppData\\Local\\Continuum\\anaconda3\\lib\\site-packages\\ipykernel_launcher.py:47: SettingWithCopyWarning: \n",
      "A value is trying to be set on a copy of a slice from a DataFrame.\n",
      "Try using .loc[row_indexer,col_indexer] = value instead\n",
      "\n",
      "See the caveats in the documentation: http://pandas.pydata.org/pandas-docs/stable/indexing.html#indexing-view-versus-copy\n"
     ]
    },
    {
     "name": "stdout",
     "output_type": "stream",
     "text": [
      "Training for predicting (month): 5  SCORE: RISK_FPD30_SCORE  target: RISK_FPD30  K: 136  observation_window: 365  performance_window: 60  downsample_size: 50000  GINI TRAIN: 21.93%     GINI TEST: 16.48%  time taken:  0.27\n"
     ]
    },
    {
     "name": "stderr",
     "output_type": "stream",
     "text": [
      "C:\\Users\\aman.khatri91425\\AppData\\Local\\Continuum\\anaconda3\\lib\\site-packages\\ipykernel_launcher.py:47: SettingWithCopyWarning: \n",
      "A value is trying to be set on a copy of a slice from a DataFrame.\n",
      "Try using .loc[row_indexer,col_indexer] = value instead\n",
      "\n",
      "See the caveats in the documentation: http://pandas.pydata.org/pandas-docs/stable/indexing.html#indexing-view-versus-copy\n"
     ]
    },
    {
     "name": "stdout",
     "output_type": "stream",
     "text": [
      "Training for predicting (month): 5  SCORE: RISK_FSPD30_SCORE  target: RISK_FSPD30  K: 201  observation_window: 365  performance_window: 90  downsample_size: 100000  GINI TRAIN: 19.57%     GINI TEST: 14.63%  time taken:  0.52\n"
     ]
    },
    {
     "name": "stderr",
     "output_type": "stream",
     "text": [
      "C:\\Users\\aman.khatri91425\\AppData\\Local\\Continuum\\anaconda3\\lib\\site-packages\\ipykernel_launcher.py:47: SettingWithCopyWarning: \n",
      "A value is trying to be set on a copy of a slice from a DataFrame.\n",
      "Try using .loc[row_indexer,col_indexer] = value instead\n",
      "\n",
      "See the caveats in the documentation: http://pandas.pydata.org/pandas-docs/stable/indexing.html#indexing-view-versus-copy\n"
     ]
    },
    {
     "name": "stdout",
     "output_type": "stream",
     "text": [
      "Training for predicting (month): 5  SCORE: RISK_FSTPD30_SCORE  target: RISK_FSTPD30  K: 191  observation_window: 365  performance_window: 120  downsample_size: 175000  GINI TRAIN: 18.28%     GINI TEST: 11.20%  time taken:  0.67\n"
     ]
    },
    {
     "name": "stderr",
     "output_type": "stream",
     "text": [
      "C:\\Users\\aman.khatri91425\\AppData\\Local\\Continuum\\anaconda3\\lib\\site-packages\\ipykernel_launcher.py:47: SettingWithCopyWarning: \n",
      "A value is trying to be set on a copy of a slice from a DataFrame.\n",
      "Try using .loc[row_indexer,col_indexer] = value instead\n",
      "\n",
      "See the caveats in the documentation: http://pandas.pydata.org/pandas-docs/stable/indexing.html#indexing-view-versus-copy\n"
     ]
    },
    {
     "name": "stdout",
     "output_type": "stream",
     "text": [
      "Training for predicting (month): 5  SCORE: RISK_FSTQPD30_SCORE  target: RISK_FSTQPD30  K: 376  observation_window: 365  performance_window: 150  downsample_size: 300000  GINI TRAIN: 15.03%     GINI TEST: 9.89%  time taken:  1.9\n"
     ]
    },
    {
     "name": "stderr",
     "output_type": "stream",
     "text": [
      "C:\\Users\\aman.khatri91425\\AppData\\Local\\Continuum\\anaconda3\\lib\\site-packages\\ipykernel_launcher.py:47: SettingWithCopyWarning: \n",
      "A value is trying to be set on a copy of a slice from a DataFrame.\n",
      "Try using .loc[row_indexer,col_indexer] = value instead\n",
      "\n",
      "See the caveats in the documentation: http://pandas.pydata.org/pandas-docs/stable/indexing.html#indexing-view-versus-copy\n"
     ]
    },
    {
     "name": "stdout",
     "output_type": "stream",
     "text": [
      "Training for predicting (month): 5  SCORE: RISK_FPD10_MM_SCORE  target: RISK_FPD10  K: 241  observation_window: 110  performance_window: 40  downsample_size: 50000  GINI TRAIN: 16.80%     GINI TEST: 11.35%  time taken:  0.45\n"
     ]
    },
    {
     "name": "stderr",
     "output_type": "stream",
     "text": [
      "C:\\Users\\aman.khatri91425\\AppData\\Local\\Continuum\\anaconda3\\lib\\site-packages\\ipykernel_launcher.py:47: SettingWithCopyWarning: \n",
      "A value is trying to be set on a copy of a slice from a DataFrame.\n",
      "Try using .loc[row_indexer,col_indexer] = value instead\n",
      "\n",
      "See the caveats in the documentation: http://pandas.pydata.org/pandas-docs/stable/indexing.html#indexing-view-versus-copy\n"
     ]
    },
    {
     "name": "stdout",
     "output_type": "stream",
     "text": [
      "Training for predicting (month): 5  SCORE: RISK_FPD30_MM_SCORE  target: RISK_FPD30  K: 66  observation_window: 90  performance_window: 60  downsample_size: 15000  GINI TRAIN: 25.50%     GINI TEST: 14.22%  time taken:  0.1\n"
     ]
    },
    {
     "name": "stderr",
     "output_type": "stream",
     "text": [
      "C:\\Users\\aman.khatri91425\\AppData\\Local\\Continuum\\anaconda3\\lib\\site-packages\\ipykernel_launcher.py:47: SettingWithCopyWarning: \n",
      "A value is trying to be set on a copy of a slice from a DataFrame.\n",
      "Try using .loc[row_indexer,col_indexer] = value instead\n",
      "\n",
      "See the caveats in the documentation: http://pandas.pydata.org/pandas-docs/stable/indexing.html#indexing-view-versus-copy\n"
     ]
    },
    {
     "name": "stdout",
     "output_type": "stream",
     "text": [
      "Training for predicting (month): 5  SCORE: RISK_FSPD30_MM_SCORE  target: RISK_FSPD30  K: 96  observation_window: 60  performance_window: 90  downsample_size: 20000  GINI TRAIN: 21.51%     GINI TEST: 10.63%  time taken:  0.15\n"
     ]
    },
    {
     "name": "stderr",
     "output_type": "stream",
     "text": [
      "C:\\Users\\aman.khatri91425\\AppData\\Local\\Continuum\\anaconda3\\lib\\site-packages\\ipykernel_launcher.py:47: SettingWithCopyWarning: \n",
      "A value is trying to be set on a copy of a slice from a DataFrame.\n",
      "Try using .loc[row_indexer,col_indexer] = value instead\n",
      "\n",
      "See the caveats in the documentation: http://pandas.pydata.org/pandas-docs/stable/indexing.html#indexing-view-versus-copy\n"
     ]
    },
    {
     "name": "stdout",
     "output_type": "stream",
     "text": [
      "Training for predicting (month): 5  SCORE: RISK_FSTPD30_MM_SCORE  target: RISK_FSTPD30  K: 206  observation_window: 30  performance_window: 120  downsample_size: 15000  GINI TRAIN: 18.00%     GINI TEST: 7.42%  time taken:  0.32\n"
     ]
    },
    {
     "name": "stderr",
     "output_type": "stream",
     "text": [
      "C:\\Users\\aman.khatri91425\\AppData\\Local\\Continuum\\anaconda3\\lib\\site-packages\\ipykernel_launcher.py:47: SettingWithCopyWarning: \n",
      "A value is trying to be set on a copy of a slice from a DataFrame.\n",
      "Try using .loc[row_indexer,col_indexer] = value instead\n",
      "\n",
      "See the caveats in the documentation: http://pandas.pydata.org/pandas-docs/stable/indexing.html#indexing-view-versus-copy\n"
     ]
    },
    {
     "name": "stdout",
     "output_type": "stream",
     "text": [
      "Training for predicting (month): 6  SCORE: RISK_FPD10_SCORE  target: RISK_FPD10  K: 271  observation_window: 365  performance_window: 40  downsample_size: 150000  GINI TRAIN: 16.84%     GINI TEST: 10.42%  time taken:  0.82\n"
     ]
    },
    {
     "name": "stderr",
     "output_type": "stream",
     "text": [
      "C:\\Users\\aman.khatri91425\\AppData\\Local\\Continuum\\anaconda3\\lib\\site-packages\\ipykernel_launcher.py:47: SettingWithCopyWarning: \n",
      "A value is trying to be set on a copy of a slice from a DataFrame.\n",
      "Try using .loc[row_indexer,col_indexer] = value instead\n",
      "\n",
      "See the caveats in the documentation: http://pandas.pydata.org/pandas-docs/stable/indexing.html#indexing-view-versus-copy\n"
     ]
    },
    {
     "name": "stdout",
     "output_type": "stream",
     "text": [
      "Training for predicting (month): 6  SCORE: RISK_FPD30_SCORE  target: RISK_FPD30  K: 136  observation_window: 365  performance_window: 60  downsample_size: 50000  GINI TRAIN: 21.81%     GINI TEST: 15.34%  time taken:  0.27\n"
     ]
    },
    {
     "name": "stderr",
     "output_type": "stream",
     "text": [
      "C:\\Users\\aman.khatri91425\\AppData\\Local\\Continuum\\anaconda3\\lib\\site-packages\\ipykernel_launcher.py:47: SettingWithCopyWarning: \n",
      "A value is trying to be set on a copy of a slice from a DataFrame.\n",
      "Try using .loc[row_indexer,col_indexer] = value instead\n",
      "\n",
      "See the caveats in the documentation: http://pandas.pydata.org/pandas-docs/stable/indexing.html#indexing-view-versus-copy\n"
     ]
    },
    {
     "name": "stdout",
     "output_type": "stream",
     "text": [
      "Training for predicting (month): 6  SCORE: RISK_FSPD30_SCORE  target: RISK_FSPD30  K: 201  observation_window: 365  performance_window: 90  downsample_size: 100000  GINI TRAIN: 19.41%     GINI TEST: 12.61%  time taken:  0.5\n"
     ]
    },
    {
     "name": "stderr",
     "output_type": "stream",
     "text": [
      "C:\\Users\\aman.khatri91425\\AppData\\Local\\Continuum\\anaconda3\\lib\\site-packages\\ipykernel_launcher.py:47: SettingWithCopyWarning: \n",
      "A value is trying to be set on a copy of a slice from a DataFrame.\n",
      "Try using .loc[row_indexer,col_indexer] = value instead\n",
      "\n",
      "See the caveats in the documentation: http://pandas.pydata.org/pandas-docs/stable/indexing.html#indexing-view-versus-copy\n"
     ]
    },
    {
     "name": "stdout",
     "output_type": "stream",
     "text": [
      "Training for predicting (month): 6  SCORE: RISK_FSTPD30_SCORE  target: RISK_FSTPD30  K: 191  observation_window: 365  performance_window: 120  downsample_size: 175000  GINI TRAIN: 18.50%     GINI TEST: 10.47%  time taken:  0.68\n"
     ]
    },
    {
     "name": "stderr",
     "output_type": "stream",
     "text": [
      "C:\\Users\\aman.khatri91425\\AppData\\Local\\Continuum\\anaconda3\\lib\\site-packages\\ipykernel_launcher.py:47: SettingWithCopyWarning: \n",
      "A value is trying to be set on a copy of a slice from a DataFrame.\n",
      "Try using .loc[row_indexer,col_indexer] = value instead\n",
      "\n",
      "See the caveats in the documentation: http://pandas.pydata.org/pandas-docs/stable/indexing.html#indexing-view-versus-copy\n"
     ]
    },
    {
     "name": "stdout",
     "output_type": "stream",
     "text": [
      "Training for predicting (month): 6  SCORE: RISK_FSTQPD30_SCORE  target: RISK_FSTQPD30  K: 376  observation_window: 365  performance_window: 150  downsample_size: 300000  GINI TRAIN: 15.27%     GINI TEST: 9.17%  time taken:  2.1\n"
     ]
    },
    {
     "name": "stderr",
     "output_type": "stream",
     "text": [
      "C:\\Users\\aman.khatri91425\\AppData\\Local\\Continuum\\anaconda3\\lib\\site-packages\\ipykernel_launcher.py:47: SettingWithCopyWarning: \n",
      "A value is trying to be set on a copy of a slice from a DataFrame.\n",
      "Try using .loc[row_indexer,col_indexer] = value instead\n",
      "\n",
      "See the caveats in the documentation: http://pandas.pydata.org/pandas-docs/stable/indexing.html#indexing-view-versus-copy\n"
     ]
    },
    {
     "name": "stdout",
     "output_type": "stream",
     "text": [
      "Training for predicting (month): 6  SCORE: RISK_FPD10_MM_SCORE  target: RISK_FPD10  K: 241  observation_window: 110  performance_window: 40  downsample_size: 50000  GINI TRAIN: 17.54%     GINI TEST: 10.78%  time taken:  0.5\n"
     ]
    },
    {
     "name": "stderr",
     "output_type": "stream",
     "text": [
      "C:\\Users\\aman.khatri91425\\AppData\\Local\\Continuum\\anaconda3\\lib\\site-packages\\ipykernel_launcher.py:47: SettingWithCopyWarning: \n",
      "A value is trying to be set on a copy of a slice from a DataFrame.\n",
      "Try using .loc[row_indexer,col_indexer] = value instead\n",
      "\n",
      "See the caveats in the documentation: http://pandas.pydata.org/pandas-docs/stable/indexing.html#indexing-view-versus-copy\n"
     ]
    },
    {
     "name": "stdout",
     "output_type": "stream",
     "text": [
      "Training for predicting (month): 6  SCORE: RISK_FPD30_MM_SCORE  target: RISK_FPD30  K: 66  observation_window: 90  performance_window: 60  downsample_size: 15000  GINI TRAIN: 26.08%     GINI TEST: 13.14%  time taken:  0.1\n"
     ]
    },
    {
     "name": "stderr",
     "output_type": "stream",
     "text": [
      "C:\\Users\\aman.khatri91425\\AppData\\Local\\Continuum\\anaconda3\\lib\\site-packages\\ipykernel_launcher.py:47: SettingWithCopyWarning: \n",
      "A value is trying to be set on a copy of a slice from a DataFrame.\n",
      "Try using .loc[row_indexer,col_indexer] = value instead\n",
      "\n",
      "See the caveats in the documentation: http://pandas.pydata.org/pandas-docs/stable/indexing.html#indexing-view-versus-copy\n"
     ]
    },
    {
     "name": "stdout",
     "output_type": "stream",
     "text": [
      "Training for predicting (month): 6  SCORE: RISK_FSPD30_MM_SCORE  target: RISK_FSPD30  K: 96  observation_window: 60  performance_window: 90  downsample_size: 20000  GINI TRAIN: 22.60%     GINI TEST: 10.50%  time taken:  0.17\n"
     ]
    },
    {
     "name": "stderr",
     "output_type": "stream",
     "text": [
      "C:\\Users\\aman.khatri91425\\AppData\\Local\\Continuum\\anaconda3\\lib\\site-packages\\ipykernel_launcher.py:47: SettingWithCopyWarning: \n",
      "A value is trying to be set on a copy of a slice from a DataFrame.\n",
      "Try using .loc[row_indexer,col_indexer] = value instead\n",
      "\n",
      "See the caveats in the documentation: http://pandas.pydata.org/pandas-docs/stable/indexing.html#indexing-view-versus-copy\n"
     ]
    },
    {
     "name": "stdout",
     "output_type": "stream",
     "text": [
      "Training for predicting (month): 6  SCORE: RISK_FSTPD30_MM_SCORE  target: RISK_FSTPD30  K: 206  observation_window: 30  performance_window: 120  downsample_size: 15000  GINI TRAIN: 17.78%     GINI TEST: 7.60%  time taken:  0.33\n"
     ]
    },
    {
     "name": "stderr",
     "output_type": "stream",
     "text": [
      "C:\\Users\\aman.khatri91425\\AppData\\Local\\Continuum\\anaconda3\\lib\\site-packages\\ipykernel_launcher.py:47: SettingWithCopyWarning: \n",
      "A value is trying to be set on a copy of a slice from a DataFrame.\n",
      "Try using .loc[row_indexer,col_indexer] = value instead\n",
      "\n",
      "See the caveats in the documentation: http://pandas.pydata.org/pandas-docs/stable/indexing.html#indexing-view-versus-copy\n"
     ]
    },
    {
     "name": "stdout",
     "output_type": "stream",
     "text": [
      "Training for predicting (month): 7  SCORE: RISK_FPD10_SCORE  target: RISK_FPD10  K: 271  observation_window: 365  performance_window: 40  downsample_size: 150000  GINI TRAIN: 17.30%     GINI TEST: 8.64%  time taken:  0.97\n"
     ]
    },
    {
     "name": "stderr",
     "output_type": "stream",
     "text": [
      "C:\\Users\\aman.khatri91425\\AppData\\Local\\Continuum\\anaconda3\\lib\\site-packages\\ipykernel_launcher.py:47: SettingWithCopyWarning: \n",
      "A value is trying to be set on a copy of a slice from a DataFrame.\n",
      "Try using .loc[row_indexer,col_indexer] = value instead\n",
      "\n",
      "See the caveats in the documentation: http://pandas.pydata.org/pandas-docs/stable/indexing.html#indexing-view-versus-copy\n"
     ]
    },
    {
     "name": "stdout",
     "output_type": "stream",
     "text": [
      "Training for predicting (month): 7  SCORE: RISK_FPD30_SCORE  target: RISK_FPD30  K: 136  observation_window: 365  performance_window: 60  downsample_size: 50000  GINI TRAIN: 22.89%     GINI TEST: 12.88%  time taken:  0.32\n"
     ]
    },
    {
     "name": "stderr",
     "output_type": "stream",
     "text": [
      "C:\\Users\\aman.khatri91425\\AppData\\Local\\Continuum\\anaconda3\\lib\\site-packages\\ipykernel_launcher.py:47: SettingWithCopyWarning: \n",
      "A value is trying to be set on a copy of a slice from a DataFrame.\n",
      "Try using .loc[row_indexer,col_indexer] = value instead\n",
      "\n",
      "See the caveats in the documentation: http://pandas.pydata.org/pandas-docs/stable/indexing.html#indexing-view-versus-copy\n"
     ]
    },
    {
     "name": "stdout",
     "output_type": "stream",
     "text": [
      "Training for predicting (month): 7  SCORE: RISK_FSPD30_SCORE  target: RISK_FSPD30  K: 201  observation_window: 365  performance_window: 90  downsample_size: 100000  GINI TRAIN: 19.93%     GINI TEST: 10.08%  time taken:  0.53\n"
     ]
    },
    {
     "name": "stderr",
     "output_type": "stream",
     "text": [
      "C:\\Users\\aman.khatri91425\\AppData\\Local\\Continuum\\anaconda3\\lib\\site-packages\\ipykernel_launcher.py:47: SettingWithCopyWarning: \n",
      "A value is trying to be set on a copy of a slice from a DataFrame.\n",
      "Try using .loc[row_indexer,col_indexer] = value instead\n",
      "\n",
      "See the caveats in the documentation: http://pandas.pydata.org/pandas-docs/stable/indexing.html#indexing-view-versus-copy\n"
     ]
    },
    {
     "name": "stdout",
     "output_type": "stream",
     "text": [
      "Training for predicting (month): 7  SCORE: RISK_FSTPD30_SCORE  target: RISK_FSTPD30  K: 191  observation_window: 365  performance_window: 120  downsample_size: 175000  GINI TRAIN: 18.82%     GINI TEST: 9.21%  time taken:  0.72\n"
     ]
    },
    {
     "name": "stderr",
     "output_type": "stream",
     "text": [
      "C:\\Users\\aman.khatri91425\\AppData\\Local\\Continuum\\anaconda3\\lib\\site-packages\\ipykernel_launcher.py:47: SettingWithCopyWarning: \n",
      "A value is trying to be set on a copy of a slice from a DataFrame.\n",
      "Try using .loc[row_indexer,col_indexer] = value instead\n",
      "\n",
      "See the caveats in the documentation: http://pandas.pydata.org/pandas-docs/stable/indexing.html#indexing-view-versus-copy\n"
     ]
    },
    {
     "name": "stdout",
     "output_type": "stream",
     "text": [
      "Training for predicting (month): 7  SCORE: RISK_FSTQPD30_SCORE  target: RISK_FSTQPD30  K: 376  observation_window: 365  performance_window: 150  downsample_size: 300000  GINI TRAIN: 15.36%     GINI TEST: 8.41%  time taken:  2.2\n"
     ]
    },
    {
     "name": "stderr",
     "output_type": "stream",
     "text": [
      "C:\\Users\\aman.khatri91425\\AppData\\Local\\Continuum\\anaconda3\\lib\\site-packages\\ipykernel_launcher.py:47: SettingWithCopyWarning: \n",
      "A value is trying to be set on a copy of a slice from a DataFrame.\n",
      "Try using .loc[row_indexer,col_indexer] = value instead\n",
      "\n",
      "See the caveats in the documentation: http://pandas.pydata.org/pandas-docs/stable/indexing.html#indexing-view-versus-copy\n"
     ]
    },
    {
     "name": "stdout",
     "output_type": "stream",
     "text": [
      "Training for predicting (month): 7  SCORE: RISK_FPD10_MM_SCORE  target: RISK_FPD10  K: 241  observation_window: 110  performance_window: 40  downsample_size: 50000  GINI TRAIN: 17.98%     GINI TEST: 8.19%  time taken:  0.55\n"
     ]
    },
    {
     "name": "stderr",
     "output_type": "stream",
     "text": [
      "C:\\Users\\aman.khatri91425\\AppData\\Local\\Continuum\\anaconda3\\lib\\site-packages\\ipykernel_launcher.py:47: SettingWithCopyWarning: \n",
      "A value is trying to be set on a copy of a slice from a DataFrame.\n",
      "Try using .loc[row_indexer,col_indexer] = value instead\n",
      "\n",
      "See the caveats in the documentation: http://pandas.pydata.org/pandas-docs/stable/indexing.html#indexing-view-versus-copy\n"
     ]
    },
    {
     "name": "stdout",
     "output_type": "stream",
     "text": [
      "Training for predicting (month): 7  SCORE: RISK_FPD30_MM_SCORE  target: RISK_FPD30  K: 66  observation_window: 90  performance_window: 60  downsample_size: 15000  GINI TRAIN: 26.79%     GINI TEST: 10.90%  time taken:  0.1\n"
     ]
    },
    {
     "name": "stderr",
     "output_type": "stream",
     "text": [
      "C:\\Users\\aman.khatri91425\\AppData\\Local\\Continuum\\anaconda3\\lib\\site-packages\\ipykernel_launcher.py:47: SettingWithCopyWarning: \n",
      "A value is trying to be set on a copy of a slice from a DataFrame.\n",
      "Try using .loc[row_indexer,col_indexer] = value instead\n",
      "\n",
      "See the caveats in the documentation: http://pandas.pydata.org/pandas-docs/stable/indexing.html#indexing-view-versus-copy\n"
     ]
    },
    {
     "name": "stdout",
     "output_type": "stream",
     "text": [
      "Training for predicting (month): 7  SCORE: RISK_FSPD30_MM_SCORE  target: RISK_FSPD30  K: 96  observation_window: 60  performance_window: 90  downsample_size: 20000  GINI TRAIN: 23.42%     GINI TEST: 8.12%  time taken:  0.17\n"
     ]
    },
    {
     "name": "stderr",
     "output_type": "stream",
     "text": [
      "C:\\Users\\aman.khatri91425\\AppData\\Local\\Continuum\\anaconda3\\lib\\site-packages\\ipykernel_launcher.py:47: SettingWithCopyWarning: \n",
      "A value is trying to be set on a copy of a slice from a DataFrame.\n",
      "Try using .loc[row_indexer,col_indexer] = value instead\n",
      "\n",
      "See the caveats in the documentation: http://pandas.pydata.org/pandas-docs/stable/indexing.html#indexing-view-versus-copy\n"
     ]
    },
    {
     "name": "stdout",
     "output_type": "stream",
     "text": [
      "Training for predicting (month): 7  SCORE: RISK_FSTPD30_MM_SCORE  target: RISK_FSTPD30  K: 206  observation_window: 30  performance_window: 120  downsample_size: 15000  GINI TRAIN: 18.63%     GINI TEST: 6.42%  time taken:  0.32\n"
     ]
    }
   ],
   "source": [
    "df_final_test = pd.DataFrame()\n",
    "\n",
    "import datetime\n",
    "from sklearn.neighbors import KNeighborsClassifier\n",
    "\n",
    "for x in np.arange(1,8,1):\n",
    "    date_test_start = datetime.datetime(2019, x, 1)\n",
    "    date_test_end = (date_test_start +  datetime.timedelta(days=31)).replace(day=1)\n",
    "    df_test = df[(df[\"TIME_DECISION_DATE\"]>=date_test_start) & \n",
    "                      (df[\"TIME_DECISION_DATE\"]<date_test_end)]\n",
    "\n",
    "    for y in hyper_df.index:\n",
    "        score_name = hyper_df.loc[y,'SCORE_NAME']\n",
    "        target = hyper_df.loc[y,'TARGET']\n",
    "        K = hyper_df.loc[y,'K']\n",
    "        observation_window = hyper_df.loc[y,'OBSERVATION_WINDOW']\n",
    "        performance_window = hyper_df.loc[y,'PERFORMANCE_WINDOW']\n",
    "        downsample_size = hyper_df.loc[y,'DOWNSAMPLE_SIZE']\n",
    "\n",
    "        date_train_start = (date_test_start-datetime.timedelta(days=int(performance_window))-datetime.timedelta(days=int(observation_window))) \n",
    "        date_train_end = (date_test_start-datetime.timedelta(days=int(performance_window)))\n",
    "        start_time = datetime.datetime.now()\n",
    "        df_train = df[(df[\"TIME_DECISION_DATE\"]>=date_train_start) & \n",
    "                  (df[\"TIME_DECISION_DATE\"]<date_train_end)]\n",
    "        \n",
    "        df_class_0 = df_train[df_train[target] == 0]\n",
    "        df_class_1 = df_train[df_train[target] == 1]\n",
    "        df_class_0_under = df_class_0.sample(min(downsample_size,df_class_1.shape[0]))\n",
    "        df_class_1_under = df_class_1.sample(min(downsample_size,df_class_1.shape[0]))\n",
    "        df_train_under = pd.concat([df_class_0_under, df_class_1_under], axis=0)\n",
    "\n",
    "        X_train = df_train_under[[\"CUS_LAT\",\"CUS_LONG\"]]\n",
    "        X_test = df_test[[\"CUS_LAT\",\"CUS_LONG\"]]\n",
    "        y_train = df_train_under[target]\n",
    "        y_test =  df_test[target]\n",
    "\n",
    "        knn = KNeighborsClassifier(n_neighbors = K)\n",
    "        bst = knn.fit(X_train[[\"CUS_LAT\",\"CUS_LONG\"]], np.ravel(y_train))\n",
    "\n",
    "        ypred_train = bst.predict_proba(X_train[[\"CUS_LAT\",\"CUS_LONG\"]])[:, 1]\n",
    "        ypred_test = bst.predict_proba(X_test[[\"CUS_LAT\",\"CUS_LONG\"]])[:, 1]\n",
    "        metric_auc_train = metrics.roc_auc_score(y_train, ypred_train)\n",
    "        metric_auc_test = metrics.roc_auc_score(y_test, ypred_test)\n",
    "        gini_train = 2 * metric_auc_train - 1\n",
    "        gini_test = 2 * metric_auc_test - 1\n",
    "\n",
    "        df_test[score_name] = ypred_test\n",
    "        print(\"Training for predicting (month):\",date_test_start.month, \n",
    "              \" SCORE:\",score_name,\n",
    "              \" target:\",target,\n",
    "              \" K:\",K,\n",
    "              \" observation_window:\",observation_window,\n",
    "              \" performance_window:\",performance_window,\n",
    "              \" downsample_size:\",downsample_size,\n",
    "              \" GINI TRAIN:\",'{:,.2%}'.format(gini_train), \"    GINI TEST:\",'{:,.2%}'.format(gini_test),\n",
    "              \" time taken: \",'{:,.2}'.format((datetime.datetime.now()-start_time).seconds/60))\n",
    "\n",
    "\n",
    "    if df_final_test.shape == (0,0):\n",
    "        df_final_test = df_test\n",
    "    else:\n",
    "        df_final_test = pd.concat([df_final_test,df_test],ignore_index=True)\n"
   ]
  },
  {
   "cell_type": "code",
   "execution_count": 79,
   "metadata": {},
   "outputs": [
    {
     "data": {
      "text/html": [
       "<div>\n",
       "<style scoped>\n",
       "    .dataframe tbody tr th:only-of-type {\n",
       "        vertical-align: middle;\n",
       "    }\n",
       "\n",
       "    .dataframe tbody tr th {\n",
       "        vertical-align: top;\n",
       "    }\n",
       "\n",
       "    .dataframe thead th {\n",
       "        text-align: right;\n",
       "    }\n",
       "</style>\n",
       "<table border=\"1\" class=\"dataframe\">\n",
       "  <thead>\n",
       "    <tr style=\"text-align: right;\">\n",
       "      <th></th>\n",
       "      <th>SKP_CREDIT_CASE</th>\n",
       "      <th>TIME_DECISION_DATE</th>\n",
       "      <th>CUS_LAT</th>\n",
       "      <th>CUS_LONG</th>\n",
       "      <th>RISK_FPD10</th>\n",
       "      <th>RISK_FPD30</th>\n",
       "      <th>RISK_FSPD30</th>\n",
       "      <th>RISK_FSTPD30</th>\n",
       "      <th>RISK_FSTQPD30</th>\n",
       "      <th>RISK_FSTQPD60</th>\n",
       "      <th>...</th>\n",
       "      <th>MONTH_STR</th>\n",
       "      <th>RISK_FPD10_SCORE</th>\n",
       "      <th>RISK_FPD30_SCORE</th>\n",
       "      <th>RISK_FSPD30_SCORE</th>\n",
       "      <th>RISK_FSTPD30_SCORE</th>\n",
       "      <th>RISK_FSTQPD30_SCORE</th>\n",
       "      <th>RISK_FPD10_MM_SCORE</th>\n",
       "      <th>RISK_FPD30_MM_SCORE</th>\n",
       "      <th>RISK_FSPD30_MM_SCORE</th>\n",
       "      <th>RISK_FSTPD30_MM_SCORE</th>\n",
       "    </tr>\n",
       "  </thead>\n",
       "  <tbody>\n",
       "    <tr>\n",
       "      <th>0</th>\n",
       "      <td>220543872</td>\n",
       "      <td>2019-01-01</td>\n",
       "      <td>26.196128</td>\n",
       "      <td>73.002229</td>\n",
       "      <td>0.0</td>\n",
       "      <td>0.0</td>\n",
       "      <td>0.0</td>\n",
       "      <td>0.0</td>\n",
       "      <td>0.0</td>\n",
       "      <td>0.0</td>\n",
       "      <td>...</td>\n",
       "      <td>2019-01</td>\n",
       "      <td>0.476015</td>\n",
       "      <td>0.426471</td>\n",
       "      <td>0.437811</td>\n",
       "      <td>0.481675</td>\n",
       "      <td>0.444149</td>\n",
       "      <td>0.514523</td>\n",
       "      <td>0.393939</td>\n",
       "      <td>0.437500</td>\n",
       "      <td>0.451456</td>\n",
       "    </tr>\n",
       "    <tr>\n",
       "      <th>1</th>\n",
       "      <td>220543873</td>\n",
       "      <td>2019-01-01</td>\n",
       "      <td>26.280459</td>\n",
       "      <td>72.987023</td>\n",
       "      <td>0.0</td>\n",
       "      <td>0.0</td>\n",
       "      <td>0.0</td>\n",
       "      <td>0.0</td>\n",
       "      <td>0.0</td>\n",
       "      <td>0.0</td>\n",
       "      <td>...</td>\n",
       "      <td>2019-01</td>\n",
       "      <td>0.531365</td>\n",
       "      <td>0.522059</td>\n",
       "      <td>0.507463</td>\n",
       "      <td>0.492147</td>\n",
       "      <td>0.446809</td>\n",
       "      <td>0.473029</td>\n",
       "      <td>0.363636</td>\n",
       "      <td>0.562500</td>\n",
       "      <td>0.451456</td>\n",
       "    </tr>\n",
       "    <tr>\n",
       "      <th>2</th>\n",
       "      <td>220543874</td>\n",
       "      <td>2019-01-01</td>\n",
       "      <td>21.116755</td>\n",
       "      <td>79.104340</td>\n",
       "      <td>0.0</td>\n",
       "      <td>0.0</td>\n",
       "      <td>0.0</td>\n",
       "      <td>0.0</td>\n",
       "      <td>0.0</td>\n",
       "      <td>0.0</td>\n",
       "      <td>...</td>\n",
       "      <td>2019-01</td>\n",
       "      <td>0.450185</td>\n",
       "      <td>0.411765</td>\n",
       "      <td>0.472637</td>\n",
       "      <td>0.539267</td>\n",
       "      <td>0.457447</td>\n",
       "      <td>0.410788</td>\n",
       "      <td>0.439394</td>\n",
       "      <td>0.458333</td>\n",
       "      <td>0.514563</td>\n",
       "    </tr>\n",
       "    <tr>\n",
       "      <th>3</th>\n",
       "      <td>219906800</td>\n",
       "      <td>2019-01-01</td>\n",
       "      <td>18.637497</td>\n",
       "      <td>73.836025</td>\n",
       "      <td>0.0</td>\n",
       "      <td>0.0</td>\n",
       "      <td>0.0</td>\n",
       "      <td>0.0</td>\n",
       "      <td>0.0</td>\n",
       "      <td>0.0</td>\n",
       "      <td>...</td>\n",
       "      <td>2019-01</td>\n",
       "      <td>0.416974</td>\n",
       "      <td>0.257353</td>\n",
       "      <td>0.318408</td>\n",
       "      <td>0.303665</td>\n",
       "      <td>0.412234</td>\n",
       "      <td>0.390041</td>\n",
       "      <td>0.287879</td>\n",
       "      <td>0.364583</td>\n",
       "      <td>0.344660</td>\n",
       "    </tr>\n",
       "    <tr>\n",
       "      <th>4</th>\n",
       "      <td>219993472</td>\n",
       "      <td>2019-01-01</td>\n",
       "      <td>23.194511</td>\n",
       "      <td>77.462190</td>\n",
       "      <td>0.0</td>\n",
       "      <td>0.0</td>\n",
       "      <td>0.0</td>\n",
       "      <td>0.0</td>\n",
       "      <td>0.0</td>\n",
       "      <td>0.0</td>\n",
       "      <td>...</td>\n",
       "      <td>2019-01</td>\n",
       "      <td>0.442804</td>\n",
       "      <td>0.433824</td>\n",
       "      <td>0.477612</td>\n",
       "      <td>0.486911</td>\n",
       "      <td>0.500000</td>\n",
       "      <td>0.373444</td>\n",
       "      <td>0.333333</td>\n",
       "      <td>0.416667</td>\n",
       "      <td>0.441748</td>\n",
       "    </tr>\n",
       "  </tbody>\n",
       "</table>\n",
       "<p>5 rows × 23 columns</p>\n",
       "</div>"
      ],
      "text/plain": [
       "   SKP_CREDIT_CASE TIME_DECISION_DATE    CUS_LAT   CUS_LONG  RISK_FPD10  \\\n",
       "0        220543872         2019-01-01  26.196128  73.002229         0.0   \n",
       "1        220543873         2019-01-01  26.280459  72.987023         0.0   \n",
       "2        220543874         2019-01-01  21.116755  79.104340         0.0   \n",
       "3        219906800         2019-01-01  18.637497  73.836025         0.0   \n",
       "4        219993472         2019-01-01  23.194511  77.462190         0.0   \n",
       "\n",
       "   RISK_FPD30  RISK_FSPD30  RISK_FSTPD30  RISK_FSTQPD30  RISK_FSTQPD60  ...  \\\n",
       "0         0.0          0.0           0.0            0.0            0.0  ...   \n",
       "1         0.0          0.0           0.0            0.0            0.0  ...   \n",
       "2         0.0          0.0           0.0            0.0            0.0  ...   \n",
       "3         0.0          0.0           0.0            0.0            0.0  ...   \n",
       "4         0.0          0.0           0.0            0.0            0.0  ...   \n",
       "\n",
       "  MONTH_STR RISK_FPD10_SCORE  RISK_FPD30_SCORE RISK_FSPD30_SCORE  \\\n",
       "0   2019-01         0.476015          0.426471          0.437811   \n",
       "1   2019-01         0.531365          0.522059          0.507463   \n",
       "2   2019-01         0.450185          0.411765          0.472637   \n",
       "3   2019-01         0.416974          0.257353          0.318408   \n",
       "4   2019-01         0.442804          0.433824          0.477612   \n",
       "\n",
       "   RISK_FSTPD30_SCORE  RISK_FSTQPD30_SCORE  RISK_FPD10_MM_SCORE  \\\n",
       "0            0.481675             0.444149             0.514523   \n",
       "1            0.492147             0.446809             0.473029   \n",
       "2            0.539267             0.457447             0.410788   \n",
       "3            0.303665             0.412234             0.390041   \n",
       "4            0.486911             0.500000             0.373444   \n",
       "\n",
       "   RISK_FPD30_MM_SCORE  RISK_FSPD30_MM_SCORE  RISK_FSTPD30_MM_SCORE  \n",
       "0             0.393939              0.437500               0.451456  \n",
       "1             0.363636              0.562500               0.451456  \n",
       "2             0.439394              0.458333               0.514563  \n",
       "3             0.287879              0.364583               0.344660  \n",
       "4             0.333333              0.416667               0.441748  \n",
       "\n",
       "[5 rows x 23 columns]"
      ]
     },
     "execution_count": 79,
     "metadata": {},
     "output_type": "execute_result"
    }
   ],
   "source": [
    "df_final_test.head()"
   ]
  },
  {
   "cell_type": "code",
   "execution_count": 80,
   "metadata": {},
   "outputs": [
    {
     "data": {
      "text/html": [
       "<style  type=\"text/css\" >\n",
       "    #T_e2577314_660b_11ea_a52b_98e74379371frow0_col0 {\n",
       "            background-color:  #b40426;\n",
       "            color:  #f1f1f1;\n",
       "        }    #T_e2577314_660b_11ea_a52b_98e74379371frow0_col1 {\n",
       "            background-color:  #3b4cc0;\n",
       "            color:  #f1f1f1;\n",
       "        }    #T_e2577314_660b_11ea_a52b_98e74379371frow0_col2 {\n",
       "            background-color:  #3b4cc0;\n",
       "            color:  #f1f1f1;\n",
       "        }    #T_e2577314_660b_11ea_a52b_98e74379371frow0_col3 {\n",
       "            background-color:  #3b4cc0;\n",
       "            color:  #f1f1f1;\n",
       "        }    #T_e2577314_660b_11ea_a52b_98e74379371frow0_col4 {\n",
       "            background-color:  #3b4cc0;\n",
       "            color:  #f1f1f1;\n",
       "        }    #T_e2577314_660b_11ea_a52b_98e74379371frow0_col5 {\n",
       "            background-color:  #3b4cc0;\n",
       "            color:  #f1f1f1;\n",
       "        }    #T_e2577314_660b_11ea_a52b_98e74379371frow0_col6 {\n",
       "            background-color:  #3b4cc0;\n",
       "            color:  #f1f1f1;\n",
       "        }    #T_e2577314_660b_11ea_a52b_98e74379371frow0_col7 {\n",
       "            background-color:  #3b4cc0;\n",
       "            color:  #f1f1f1;\n",
       "        }    #T_e2577314_660b_11ea_a52b_98e74379371frow0_col8 {\n",
       "            background-color:  #3b4cc0;\n",
       "            color:  #f1f1f1;\n",
       "        }    #T_e2577314_660b_11ea_a52b_98e74379371frow0_col9 {\n",
       "            background-color:  #3b4cc0;\n",
       "            color:  #f1f1f1;\n",
       "        }    #T_e2577314_660b_11ea_a52b_98e74379371frow1_col0 {\n",
       "            background-color:  #4358cb;\n",
       "            color:  #f1f1f1;\n",
       "        }    #T_e2577314_660b_11ea_a52b_98e74379371frow1_col1 {\n",
       "            background-color:  #b40426;\n",
       "            color:  #f1f1f1;\n",
       "        }    #T_e2577314_660b_11ea_a52b_98e74379371frow1_col2 {\n",
       "            background-color:  #f7b497;\n",
       "            color:  #000000;\n",
       "        }    #T_e2577314_660b_11ea_a52b_98e74379371frow1_col3 {\n",
       "            background-color:  #f7ac8e;\n",
       "            color:  #000000;\n",
       "        }    #T_e2577314_660b_11ea_a52b_98e74379371frow1_col4 {\n",
       "            background-color:  #f7b599;\n",
       "            color:  #000000;\n",
       "        }    #T_e2577314_660b_11ea_a52b_98e74379371frow1_col5 {\n",
       "            background-color:  #f5c0a7;\n",
       "            color:  #000000;\n",
       "        }    #T_e2577314_660b_11ea_a52b_98e74379371frow1_col6 {\n",
       "            background-color:  #f6bea4;\n",
       "            color:  #000000;\n",
       "        }    #T_e2577314_660b_11ea_a52b_98e74379371frow1_col7 {\n",
       "            background-color:  #d3dbe7;\n",
       "            color:  #000000;\n",
       "        }    #T_e2577314_660b_11ea_a52b_98e74379371frow1_col8 {\n",
       "            background-color:  #d6dce4;\n",
       "            color:  #000000;\n",
       "        }    #T_e2577314_660b_11ea_a52b_98e74379371frow1_col9 {\n",
       "            background-color:  #ccd9ed;\n",
       "            color:  #000000;\n",
       "        }    #T_e2577314_660b_11ea_a52b_98e74379371frow2_col0 {\n",
       "            background-color:  #3c4ec2;\n",
       "            color:  #f1f1f1;\n",
       "        }    #T_e2577314_660b_11ea_a52b_98e74379371frow2_col1 {\n",
       "            background-color:  #f7b79b;\n",
       "            color:  #000000;\n",
       "        }    #T_e2577314_660b_11ea_a52b_98e74379371frow2_col2 {\n",
       "            background-color:  #b40426;\n",
       "            color:  #f1f1f1;\n",
       "        }    #T_e2577314_660b_11ea_a52b_98e74379371frow2_col3 {\n",
       "            background-color:  #ed8366;\n",
       "            color:  #000000;\n",
       "        }    #T_e2577314_660b_11ea_a52b_98e74379371frow2_col4 {\n",
       "            background-color:  #f7aa8c;\n",
       "            color:  #000000;\n",
       "        }    #T_e2577314_660b_11ea_a52b_98e74379371frow2_col5 {\n",
       "            background-color:  #e2dad5;\n",
       "            color:  #000000;\n",
       "        }    #T_e2577314_660b_11ea_a52b_98e74379371frow2_col6 {\n",
       "            background-color:  #e2dad5;\n",
       "            color:  #000000;\n",
       "        }    #T_e2577314_660b_11ea_a52b_98e74379371frow2_col7 {\n",
       "            background-color:  #f4c5ad;\n",
       "            color:  #000000;\n",
       "        }    #T_e2577314_660b_11ea_a52b_98e74379371frow2_col8 {\n",
       "            background-color:  #f2cbb7;\n",
       "            color:  #000000;\n",
       "        }    #T_e2577314_660b_11ea_a52b_98e74379371frow2_col9 {\n",
       "            background-color:  #e1dad6;\n",
       "            color:  #000000;\n",
       "        }    #T_e2577314_660b_11ea_a52b_98e74379371frow3_col0 {\n",
       "            background-color:  #3d50c3;\n",
       "            color:  #f1f1f1;\n",
       "        }    #T_e2577314_660b_11ea_a52b_98e74379371frow3_col1 {\n",
       "            background-color:  #f7ad90;\n",
       "            color:  #000000;\n",
       "        }    #T_e2577314_660b_11ea_a52b_98e74379371frow3_col2 {\n",
       "            background-color:  #ed8366;\n",
       "            color:  #000000;\n",
       "        }    #T_e2577314_660b_11ea_a52b_98e74379371frow3_col3 {\n",
       "            background-color:  #b40426;\n",
       "            color:  #f1f1f1;\n",
       "        }    #T_e2577314_660b_11ea_a52b_98e74379371frow3_col4 {\n",
       "            background-color:  #ee8468;\n",
       "            color:  #000000;\n",
       "        }    #T_e2577314_660b_11ea_a52b_98e74379371frow3_col5 {\n",
       "            background-color:  #f3c8b2;\n",
       "            color:  #000000;\n",
       "        }    #T_e2577314_660b_11ea_a52b_98e74379371frow3_col6 {\n",
       "            background-color:  #dcdddd;\n",
       "            color:  #000000;\n",
       "        }    #T_e2577314_660b_11ea_a52b_98e74379371frow3_col7 {\n",
       "            background-color:  #ead5c9;\n",
       "            color:  #000000;\n",
       "        }    #T_e2577314_660b_11ea_a52b_98e74379371frow3_col8 {\n",
       "            background-color:  #f0cdbb;\n",
       "            color:  #000000;\n",
       "        }    #T_e2577314_660b_11ea_a52b_98e74379371frow3_col9 {\n",
       "            background-color:  #e4d9d2;\n",
       "            color:  #000000;\n",
       "        }    #T_e2577314_660b_11ea_a52b_98e74379371frow4_col0 {\n",
       "            background-color:  #3f53c6;\n",
       "            color:  #f1f1f1;\n",
       "        }    #T_e2577314_660b_11ea_a52b_98e74379371frow4_col1 {\n",
       "            background-color:  #f7b79b;\n",
       "            color:  #000000;\n",
       "        }    #T_e2577314_660b_11ea_a52b_98e74379371frow4_col2 {\n",
       "            background-color:  #f7a98b;\n",
       "            color:  #000000;\n",
       "        }    #T_e2577314_660b_11ea_a52b_98e74379371frow4_col3 {\n",
       "            background-color:  #ed8366;\n",
       "            color:  #000000;\n",
       "        }    #T_e2577314_660b_11ea_a52b_98e74379371frow4_col4 {\n",
       "            background-color:  #b40426;\n",
       "            color:  #f1f1f1;\n",
       "        }    #T_e2577314_660b_11ea_a52b_98e74379371frow4_col5 {\n",
       "            background-color:  #f7b093;\n",
       "            color:  #000000;\n",
       "        }    #T_e2577314_660b_11ea_a52b_98e74379371frow4_col6 {\n",
       "            background-color:  #cad8ef;\n",
       "            color:  #000000;\n",
       "        }    #T_e2577314_660b_11ea_a52b_98e74379371frow4_col7 {\n",
       "            background-color:  #d1dae9;\n",
       "            color:  #000000;\n",
       "        }    #T_e2577314_660b_11ea_a52b_98e74379371frow4_col8 {\n",
       "            background-color:  #dbdcde;\n",
       "            color:  #000000;\n",
       "        }    #T_e2577314_660b_11ea_a52b_98e74379371frow4_col9 {\n",
       "            background-color:  #d4dbe6;\n",
       "            color:  #000000;\n",
       "        }    #T_e2577314_660b_11ea_a52b_98e74379371frow5_col0 {\n",
       "            background-color:  #455cce;\n",
       "            color:  #f1f1f1;\n",
       "        }    #T_e2577314_660b_11ea_a52b_98e74379371frow5_col1 {\n",
       "            background-color:  #f6bfa6;\n",
       "            color:  #000000;\n",
       "        }    #T_e2577314_660b_11ea_a52b_98e74379371frow5_col2 {\n",
       "            background-color:  #e6d7cf;\n",
       "            color:  #000000;\n",
       "        }    #T_e2577314_660b_11ea_a52b_98e74379371frow5_col3 {\n",
       "            background-color:  #f4c5ad;\n",
       "            color:  #000000;\n",
       "        }    #T_e2577314_660b_11ea_a52b_98e74379371frow5_col4 {\n",
       "            background-color:  #f7af91;\n",
       "            color:  #000000;\n",
       "        }    #T_e2577314_660b_11ea_a52b_98e74379371frow5_col5 {\n",
       "            background-color:  #b40426;\n",
       "            color:  #f1f1f1;\n",
       "        }    #T_e2577314_660b_11ea_a52b_98e74379371frow5_col6 {\n",
       "            background-color:  #c3d5f4;\n",
       "            color:  #000000;\n",
       "        }    #T_e2577314_660b_11ea_a52b_98e74379371frow5_col7 {\n",
       "            background-color:  #9ebeff;\n",
       "            color:  #000000;\n",
       "        }    #T_e2577314_660b_11ea_a52b_98e74379371frow5_col8 {\n",
       "            background-color:  #aac7fd;\n",
       "            color:  #000000;\n",
       "        }    #T_e2577314_660b_11ea_a52b_98e74379371frow5_col9 {\n",
       "            background-color:  #aac7fd;\n",
       "            color:  #000000;\n",
       "        }    #T_e2577314_660b_11ea_a52b_98e74379371frow6_col0 {\n",
       "            background-color:  #4358cb;\n",
       "            color:  #f1f1f1;\n",
       "        }    #T_e2577314_660b_11ea_a52b_98e74379371frow6_col1 {\n",
       "            background-color:  #f6bea4;\n",
       "            color:  #000000;\n",
       "        }    #T_e2577314_660b_11ea_a52b_98e74379371frow6_col2 {\n",
       "            background-color:  #e5d8d1;\n",
       "            color:  #000000;\n",
       "        }    #T_e2577314_660b_11ea_a52b_98e74379371frow6_col3 {\n",
       "            background-color:  #dedcdb;\n",
       "            color:  #000000;\n",
       "        }    #T_e2577314_660b_11ea_a52b_98e74379371frow6_col4 {\n",
       "            background-color:  #ccd9ed;\n",
       "            color:  #000000;\n",
       "        }    #T_e2577314_660b_11ea_a52b_98e74379371frow6_col5 {\n",
       "            background-color:  #c0d4f5;\n",
       "            color:  #000000;\n",
       "        }    #T_e2577314_660b_11ea_a52b_98e74379371frow6_col6 {\n",
       "            background-color:  #b40426;\n",
       "            color:  #f1f1f1;\n",
       "        }    #T_e2577314_660b_11ea_a52b_98e74379371frow6_col7 {\n",
       "            background-color:  #f4c5ad;\n",
       "            color:  #000000;\n",
       "        }    #T_e2577314_660b_11ea_a52b_98e74379371frow6_col8 {\n",
       "            background-color:  #f3c8b2;\n",
       "            color:  #000000;\n",
       "        }    #T_e2577314_660b_11ea_a52b_98e74379371frow6_col9 {\n",
       "            background-color:  #edd2c3;\n",
       "            color:  #000000;\n",
       "        }    #T_e2577314_660b_11ea_a52b_98e74379371frow7_col0 {\n",
       "            background-color:  #3b4cc0;\n",
       "            color:  #f1f1f1;\n",
       "        }    #T_e2577314_660b_11ea_a52b_98e74379371frow7_col1 {\n",
       "            background-color:  #cedaeb;\n",
       "            color:  #000000;\n",
       "        }    #T_e2577314_660b_11ea_a52b_98e74379371frow7_col2 {\n",
       "            background-color:  #f4c5ad;\n",
       "            color:  #000000;\n",
       "        }    #T_e2577314_660b_11ea_a52b_98e74379371frow7_col3 {\n",
       "            background-color:  #e9d5cb;\n",
       "            color:  #000000;\n",
       "        }    #T_e2577314_660b_11ea_a52b_98e74379371frow7_col4 {\n",
       "            background-color:  #cdd9ec;\n",
       "            color:  #000000;\n",
       "        }    #T_e2577314_660b_11ea_a52b_98e74379371frow7_col5 {\n",
       "            background-color:  #94b6ff;\n",
       "            color:  #000000;\n",
       "        }    #T_e2577314_660b_11ea_a52b_98e74379371frow7_col6 {\n",
       "            background-color:  #f3c7b1;\n",
       "            color:  #000000;\n",
       "        }    #T_e2577314_660b_11ea_a52b_98e74379371frow7_col7 {\n",
       "            background-color:  #b40426;\n",
       "            color:  #f1f1f1;\n",
       "        }    #T_e2577314_660b_11ea_a52b_98e74379371frow7_col8 {\n",
       "            background-color:  #f7ac8e;\n",
       "            color:  #000000;\n",
       "        }    #T_e2577314_660b_11ea_a52b_98e74379371frow7_col9 {\n",
       "            background-color:  #efcfbf;\n",
       "            color:  #000000;\n",
       "        }    #T_e2577314_660b_11ea_a52b_98e74379371frow8_col0 {\n",
       "            background-color:  #3c4ec2;\n",
       "            color:  #f1f1f1;\n",
       "        }    #T_e2577314_660b_11ea_a52b_98e74379371frow8_col1 {\n",
       "            background-color:  #d4dbe6;\n",
       "            color:  #000000;\n",
       "        }    #T_e2577314_660b_11ea_a52b_98e74379371frow8_col2 {\n",
       "            background-color:  #f2cbb7;\n",
       "            color:  #000000;\n",
       "        }    #T_e2577314_660b_11ea_a52b_98e74379371frow8_col3 {\n",
       "            background-color:  #f0cdbb;\n",
       "            color:  #000000;\n",
       "        }    #T_e2577314_660b_11ea_a52b_98e74379371frow8_col4 {\n",
       "            background-color:  #d9dce1;\n",
       "            color:  #000000;\n",
       "        }    #T_e2577314_660b_11ea_a52b_98e74379371frow8_col5 {\n",
       "            background-color:  #a3c2fe;\n",
       "            color:  #000000;\n",
       "        }    #T_e2577314_660b_11ea_a52b_98e74379371frow8_col6 {\n",
       "            background-color:  #f2cab5;\n",
       "            color:  #000000;\n",
       "        }    #T_e2577314_660b_11ea_a52b_98e74379371frow8_col7 {\n",
       "            background-color:  #f7ac8e;\n",
       "            color:  #000000;\n",
       "        }    #T_e2577314_660b_11ea_a52b_98e74379371frow8_col8 {\n",
       "            background-color:  #b40426;\n",
       "            color:  #f1f1f1;\n",
       "        }    #T_e2577314_660b_11ea_a52b_98e74379371frow8_col9 {\n",
       "            background-color:  #f6bda2;\n",
       "            color:  #000000;\n",
       "        }    #T_e2577314_660b_11ea_a52b_98e74379371frow9_col0 {\n",
       "            background-color:  #3d50c3;\n",
       "            color:  #f1f1f1;\n",
       "        }    #T_e2577314_660b_11ea_a52b_98e74379371frow9_col1 {\n",
       "            background-color:  #cad8ef;\n",
       "            color:  #000000;\n",
       "        }    #T_e2577314_660b_11ea_a52b_98e74379371frow9_col2 {\n",
       "            background-color:  #e2dad5;\n",
       "            color:  #000000;\n",
       "        }    #T_e2577314_660b_11ea_a52b_98e74379371frow9_col3 {\n",
       "            background-color:  #e4d9d2;\n",
       "            color:  #000000;\n",
       "        }    #T_e2577314_660b_11ea_a52b_98e74379371frow9_col4 {\n",
       "            background-color:  #d3dbe7;\n",
       "            color:  #000000;\n",
       "        }    #T_e2577314_660b_11ea_a52b_98e74379371frow9_col5 {\n",
       "            background-color:  #a3c2fe;\n",
       "            color:  #000000;\n",
       "        }    #T_e2577314_660b_11ea_a52b_98e74379371frow9_col6 {\n",
       "            background-color:  #ebd3c6;\n",
       "            color:  #000000;\n",
       "        }    #T_e2577314_660b_11ea_a52b_98e74379371frow9_col7 {\n",
       "            background-color:  #efcebd;\n",
       "            color:  #000000;\n",
       "        }    #T_e2577314_660b_11ea_a52b_98e74379371frow9_col8 {\n",
       "            background-color:  #f6bda2;\n",
       "            color:  #000000;\n",
       "        }    #T_e2577314_660b_11ea_a52b_98e74379371frow9_col9 {\n",
       "            background-color:  #b40426;\n",
       "            color:  #f1f1f1;\n",
       "        }</style><table id=\"T_e2577314_660b_11ea_a52b_98e74379371f\" ><thead>    <tr>        <th class=\"blank level0\" ></th>        <th class=\"col_heading level0 col0\" >RISK_SCORE</th>        <th class=\"col_heading level0 col1\" >RISK_FPD10_SCORE</th>        <th class=\"col_heading level0 col2\" >RISK_FPD30_SCORE</th>        <th class=\"col_heading level0 col3\" >RISK_FSPD30_SCORE</th>        <th class=\"col_heading level0 col4\" >RISK_FSTPD30_SCORE</th>        <th class=\"col_heading level0 col5\" >RISK_FSTQPD30_SCORE</th>        <th class=\"col_heading level0 col6\" >RISK_FPD10_MM_SCORE</th>        <th class=\"col_heading level0 col7\" >RISK_FPD30_MM_SCORE</th>        <th class=\"col_heading level0 col8\" >RISK_FSPD30_MM_SCORE</th>        <th class=\"col_heading level0 col9\" >RISK_FSTPD30_MM_SCORE</th>    </tr></thead><tbody>\n",
       "                <tr>\n",
       "                        <th id=\"T_e2577314_660b_11ea_a52b_98e74379371flevel0_row0\" class=\"row_heading level0 row0\" >RISK_SCORE</th>\n",
       "                        <td id=\"T_e2577314_660b_11ea_a52b_98e74379371frow0_col0\" class=\"data row0 col0\" >1</td>\n",
       "                        <td id=\"T_e2577314_660b_11ea_a52b_98e74379371frow0_col1\" class=\"data row0 col1\" >0.07444</td>\n",
       "                        <td id=\"T_e2577314_660b_11ea_a52b_98e74379371frow0_col2\" class=\"data row0 col2\" >0.0519147</td>\n",
       "                        <td id=\"T_e2577314_660b_11ea_a52b_98e74379371frow0_col3\" class=\"data row0 col3\" >0.0589451</td>\n",
       "                        <td id=\"T_e2577314_660b_11ea_a52b_98e74379371frow0_col4\" class=\"data row0 col4\" >0.0661389</td>\n",
       "                        <td id=\"T_e2577314_660b_11ea_a52b_98e74379371frow0_col5\" class=\"data row0 col5\" >0.0850215</td>\n",
       "                        <td id=\"T_e2577314_660b_11ea_a52b_98e74379371frow0_col6\" class=\"data row0 col6\" >0.07436</td>\n",
       "                        <td id=\"T_e2577314_660b_11ea_a52b_98e74379371frow0_col7\" class=\"data row0 col7\" >0.0479932</td>\n",
       "                        <td id=\"T_e2577314_660b_11ea_a52b_98e74379371frow0_col8\" class=\"data row0 col8\" >0.0551837</td>\n",
       "                        <td id=\"T_e2577314_660b_11ea_a52b_98e74379371frow0_col9\" class=\"data row0 col9\" >0.0572256</td>\n",
       "            </tr>\n",
       "            <tr>\n",
       "                        <th id=\"T_e2577314_660b_11ea_a52b_98e74379371flevel0_row1\" class=\"row_heading level0 row1\" >RISK_FPD10_SCORE</th>\n",
       "                        <td id=\"T_e2577314_660b_11ea_a52b_98e74379371frow1_col0\" class=\"data row1 col0\" >0.07444</td>\n",
       "                        <td id=\"T_e2577314_660b_11ea_a52b_98e74379371frow1_col1\" class=\"data row1 col1\" >1</td>\n",
       "                        <td id=\"T_e2577314_660b_11ea_a52b_98e74379371frow1_col2\" class=\"data row1 col2\" >0.694239</td>\n",
       "                        <td id=\"T_e2577314_660b_11ea_a52b_98e74379371frow1_col3\" class=\"data row1 col3\" >0.719142</td>\n",
       "                        <td id=\"T_e2577314_660b_11ea_a52b_98e74379371frow1_col4\" class=\"data row1 col4\" >0.694949</td>\n",
       "                        <td id=\"T_e2577314_660b_11ea_a52b_98e74379371frow1_col5\" class=\"data row1 col5\" >0.670906</td>\n",
       "                        <td id=\"T_e2577314_660b_11ea_a52b_98e74379371frow1_col6\" class=\"data row1 col6\" >0.672602</td>\n",
       "                        <td id=\"T_e2577314_660b_11ea_a52b_98e74379371frow1_col7\" class=\"data row1 col7\" >0.488725</td>\n",
       "                        <td id=\"T_e2577314_660b_11ea_a52b_98e74379371frow1_col8\" class=\"data row1 col8\" >0.505114</td>\n",
       "                        <td id=\"T_e2577314_660b_11ea_a52b_98e74379371frow1_col9\" class=\"data row1 col9\" >0.472892</td>\n",
       "            </tr>\n",
       "            <tr>\n",
       "                        <th id=\"T_e2577314_660b_11ea_a52b_98e74379371flevel0_row2\" class=\"row_heading level0 row2\" >RISK_FPD30_SCORE</th>\n",
       "                        <td id=\"T_e2577314_660b_11ea_a52b_98e74379371frow2_col0\" class=\"data row2 col0\" >0.0519147</td>\n",
       "                        <td id=\"T_e2577314_660b_11ea_a52b_98e74379371frow2_col1\" class=\"data row2 col1\" >0.694239</td>\n",
       "                        <td id=\"T_e2577314_660b_11ea_a52b_98e74379371frow2_col2\" class=\"data row2 col2\" >1</td>\n",
       "                        <td id=\"T_e2577314_660b_11ea_a52b_98e74379371frow2_col3\" class=\"data row2 col3\" >0.812998</td>\n",
       "                        <td id=\"T_e2577314_660b_11ea_a52b_98e74379371frow2_col4\" class=\"data row2 col4\" >0.72376</td>\n",
       "                        <td id=\"T_e2577314_660b_11ea_a52b_98e74379371frow2_col5\" class=\"data row2 col5\" >0.561928</td>\n",
       "                        <td id=\"T_e2577314_660b_11ea_a52b_98e74379371frow2_col6\" class=\"data row2 col6\" >0.557234</td>\n",
       "                        <td id=\"T_e2577314_660b_11ea_a52b_98e74379371frow2_col7\" class=\"data row2 col7\" >0.641494</td>\n",
       "                        <td id=\"T_e2577314_660b_11ea_a52b_98e74379371frow2_col8\" class=\"data row2 col8\" >0.621737</td>\n",
       "                        <td id=\"T_e2577314_660b_11ea_a52b_98e74379371frow2_col9\" class=\"data row2 col9\" >0.545852</td>\n",
       "            </tr>\n",
       "            <tr>\n",
       "                        <th id=\"T_e2577314_660b_11ea_a52b_98e74379371flevel0_row3\" class=\"row_heading level0 row3\" >RISK_FSPD30_SCORE</th>\n",
       "                        <td id=\"T_e2577314_660b_11ea_a52b_98e74379371frow3_col0\" class=\"data row3 col0\" >0.0589451</td>\n",
       "                        <td id=\"T_e2577314_660b_11ea_a52b_98e74379371frow3_col1\" class=\"data row3 col1\" >0.719142</td>\n",
       "                        <td id=\"T_e2577314_660b_11ea_a52b_98e74379371frow3_col2\" class=\"data row3 col2\" >0.812998</td>\n",
       "                        <td id=\"T_e2577314_660b_11ea_a52b_98e74379371frow3_col3\" class=\"data row3 col3\" >1</td>\n",
       "                        <td id=\"T_e2577314_660b_11ea_a52b_98e74379371frow3_col4\" class=\"data row3 col4\" >0.812934</td>\n",
       "                        <td id=\"T_e2577314_660b_11ea_a52b_98e74379371frow3_col5\" class=\"data row3 col5\" >0.645855</td>\n",
       "                        <td id=\"T_e2577314_660b_11ea_a52b_98e74379371frow3_col6\" class=\"data row3 col6\" >0.534779</td>\n",
       "                        <td id=\"T_e2577314_660b_11ea_a52b_98e74379371frow3_col7\" class=\"data row3 col7\" >0.575966</td>\n",
       "                        <td id=\"T_e2577314_660b_11ea_a52b_98e74379371frow3_col8\" class=\"data row3 col8\" >0.610466</td>\n",
       "                        <td id=\"T_e2577314_660b_11ea_a52b_98e74379371frow3_col9\" class=\"data row3 col9\" >0.555293</td>\n",
       "            </tr>\n",
       "            <tr>\n",
       "                        <th id=\"T_e2577314_660b_11ea_a52b_98e74379371flevel0_row4\" class=\"row_heading level0 row4\" >RISK_FSTPD30_SCORE</th>\n",
       "                        <td id=\"T_e2577314_660b_11ea_a52b_98e74379371frow4_col0\" class=\"data row4 col0\" >0.0661389</td>\n",
       "                        <td id=\"T_e2577314_660b_11ea_a52b_98e74379371frow4_col1\" class=\"data row4 col1\" >0.694949</td>\n",
       "                        <td id=\"T_e2577314_660b_11ea_a52b_98e74379371frow4_col2\" class=\"data row4 col2\" >0.72376</td>\n",
       "                        <td id=\"T_e2577314_660b_11ea_a52b_98e74379371frow4_col3\" class=\"data row4 col3\" >0.812934</td>\n",
       "                        <td id=\"T_e2577314_660b_11ea_a52b_98e74379371frow4_col4\" class=\"data row4 col4\" >1</td>\n",
       "                        <td id=\"T_e2577314_660b_11ea_a52b_98e74379371frow4_col5\" class=\"data row4 col5\" >0.714341</td>\n",
       "                        <td id=\"T_e2577314_660b_11ea_a52b_98e74379371frow4_col6\" class=\"data row4 col6\" >0.474971</td>\n",
       "                        <td id=\"T_e2577314_660b_11ea_a52b_98e74379371frow4_col7\" class=\"data row4 col7\" >0.481819</td>\n",
       "                        <td id=\"T_e2577314_660b_11ea_a52b_98e74379371frow4_col8\" class=\"data row4 col8\" >0.520558</td>\n",
       "                        <td id=\"T_e2577314_660b_11ea_a52b_98e74379371frow4_col9\" class=\"data row4 col9\" >0.497436</td>\n",
       "            </tr>\n",
       "            <tr>\n",
       "                        <th id=\"T_e2577314_660b_11ea_a52b_98e74379371flevel0_row5\" class=\"row_heading level0 row5\" >RISK_FSTQPD30_SCORE</th>\n",
       "                        <td id=\"T_e2577314_660b_11ea_a52b_98e74379371frow5_col0\" class=\"data row5 col0\" >0.0850215</td>\n",
       "                        <td id=\"T_e2577314_660b_11ea_a52b_98e74379371frow5_col1\" class=\"data row5 col1\" >0.670906</td>\n",
       "                        <td id=\"T_e2577314_660b_11ea_a52b_98e74379371frow5_col2\" class=\"data row5 col2\" >0.561928</td>\n",
       "                        <td id=\"T_e2577314_660b_11ea_a52b_98e74379371frow5_col3\" class=\"data row5 col3\" >0.645855</td>\n",
       "                        <td id=\"T_e2577314_660b_11ea_a52b_98e74379371frow5_col4\" class=\"data row5 col4\" >0.714341</td>\n",
       "                        <td id=\"T_e2577314_660b_11ea_a52b_98e74379371frow5_col5\" class=\"data row5 col5\" >1</td>\n",
       "                        <td id=\"T_e2577314_660b_11ea_a52b_98e74379371frow5_col6\" class=\"data row5 col6\" >0.45163</td>\n",
       "                        <td id=\"T_e2577314_660b_11ea_a52b_98e74379371frow5_col7\" class=\"data row5 col7\" >0.331637</td>\n",
       "                        <td id=\"T_e2577314_660b_11ea_a52b_98e74379371frow5_col8\" class=\"data row5 col8\" >0.371435</td>\n",
       "                        <td id=\"T_e2577314_660b_11ea_a52b_98e74379371frow5_col9\" class=\"data row5 col9\" >0.370961</td>\n",
       "            </tr>\n",
       "            <tr>\n",
       "                        <th id=\"T_e2577314_660b_11ea_a52b_98e74379371flevel0_row6\" class=\"row_heading level0 row6\" >RISK_FPD10_MM_SCORE</th>\n",
       "                        <td id=\"T_e2577314_660b_11ea_a52b_98e74379371frow6_col0\" class=\"data row6 col0\" >0.07436</td>\n",
       "                        <td id=\"T_e2577314_660b_11ea_a52b_98e74379371frow6_col1\" class=\"data row6 col1\" >0.672602</td>\n",
       "                        <td id=\"T_e2577314_660b_11ea_a52b_98e74379371frow6_col2\" class=\"data row6 col2\" >0.557234</td>\n",
       "                        <td id=\"T_e2577314_660b_11ea_a52b_98e74379371frow6_col3\" class=\"data row6 col3\" >0.534779</td>\n",
       "                        <td id=\"T_e2577314_660b_11ea_a52b_98e74379371frow6_col4\" class=\"data row6 col4\" >0.474971</td>\n",
       "                        <td id=\"T_e2577314_660b_11ea_a52b_98e74379371frow6_col5\" class=\"data row6 col5\" >0.45163</td>\n",
       "                        <td id=\"T_e2577314_660b_11ea_a52b_98e74379371frow6_col6\" class=\"data row6 col6\" >1</td>\n",
       "                        <td id=\"T_e2577314_660b_11ea_a52b_98e74379371frow6_col7\" class=\"data row6 col7\" >0.642512</td>\n",
       "                        <td id=\"T_e2577314_660b_11ea_a52b_98e74379371frow6_col8\" class=\"data row6 col8\" >0.633742</td>\n",
       "                        <td id=\"T_e2577314_660b_11ea_a52b_98e74379371frow6_col9\" class=\"data row6 col9\" >0.591796</td>\n",
       "            </tr>\n",
       "            <tr>\n",
       "                        <th id=\"T_e2577314_660b_11ea_a52b_98e74379371flevel0_row7\" class=\"row_heading level0 row7\" >RISK_FPD30_MM_SCORE</th>\n",
       "                        <td id=\"T_e2577314_660b_11ea_a52b_98e74379371frow7_col0\" class=\"data row7 col0\" >0.0479932</td>\n",
       "                        <td id=\"T_e2577314_660b_11ea_a52b_98e74379371frow7_col1\" class=\"data row7 col1\" >0.488725</td>\n",
       "                        <td id=\"T_e2577314_660b_11ea_a52b_98e74379371frow7_col2\" class=\"data row7 col2\" >0.641494</td>\n",
       "                        <td id=\"T_e2577314_660b_11ea_a52b_98e74379371frow7_col3\" class=\"data row7 col3\" >0.575966</td>\n",
       "                        <td id=\"T_e2577314_660b_11ea_a52b_98e74379371frow7_col4\" class=\"data row7 col4\" >0.481819</td>\n",
       "                        <td id=\"T_e2577314_660b_11ea_a52b_98e74379371frow7_col5\" class=\"data row7 col5\" >0.331637</td>\n",
       "                        <td id=\"T_e2577314_660b_11ea_a52b_98e74379371frow7_col6\" class=\"data row7 col6\" >0.642512</td>\n",
       "                        <td id=\"T_e2577314_660b_11ea_a52b_98e74379371frow7_col7\" class=\"data row7 col7\" >1</td>\n",
       "                        <td id=\"T_e2577314_660b_11ea_a52b_98e74379371frow7_col8\" class=\"data row7 col8\" >0.717127</td>\n",
       "                        <td id=\"T_e2577314_660b_11ea_a52b_98e74379371frow7_col9\" class=\"data row7 col9\" >0.603895</td>\n",
       "            </tr>\n",
       "            <tr>\n",
       "                        <th id=\"T_e2577314_660b_11ea_a52b_98e74379371flevel0_row8\" class=\"row_heading level0 row8\" >RISK_FSPD30_MM_SCORE</th>\n",
       "                        <td id=\"T_e2577314_660b_11ea_a52b_98e74379371frow8_col0\" class=\"data row8 col0\" >0.0551837</td>\n",
       "                        <td id=\"T_e2577314_660b_11ea_a52b_98e74379371frow8_col1\" class=\"data row8 col1\" >0.505114</td>\n",
       "                        <td id=\"T_e2577314_660b_11ea_a52b_98e74379371frow8_col2\" class=\"data row8 col2\" >0.621737</td>\n",
       "                        <td id=\"T_e2577314_660b_11ea_a52b_98e74379371frow8_col3\" class=\"data row8 col3\" >0.610466</td>\n",
       "                        <td id=\"T_e2577314_660b_11ea_a52b_98e74379371frow8_col4\" class=\"data row8 col4\" >0.520558</td>\n",
       "                        <td id=\"T_e2577314_660b_11ea_a52b_98e74379371frow8_col5\" class=\"data row8 col5\" >0.371435</td>\n",
       "                        <td id=\"T_e2577314_660b_11ea_a52b_98e74379371frow8_col6\" class=\"data row8 col6\" >0.633742</td>\n",
       "                        <td id=\"T_e2577314_660b_11ea_a52b_98e74379371frow8_col7\" class=\"data row8 col7\" >0.717127</td>\n",
       "                        <td id=\"T_e2577314_660b_11ea_a52b_98e74379371frow8_col8\" class=\"data row8 col8\" >1</td>\n",
       "                        <td id=\"T_e2577314_660b_11ea_a52b_98e74379371frow8_col9\" class=\"data row8 col9\" >0.670025</td>\n",
       "            </tr>\n",
       "            <tr>\n",
       "                        <th id=\"T_e2577314_660b_11ea_a52b_98e74379371flevel0_row9\" class=\"row_heading level0 row9\" >RISK_FSTPD30_MM_SCORE</th>\n",
       "                        <td id=\"T_e2577314_660b_11ea_a52b_98e74379371frow9_col0\" class=\"data row9 col0\" >0.0572256</td>\n",
       "                        <td id=\"T_e2577314_660b_11ea_a52b_98e74379371frow9_col1\" class=\"data row9 col1\" >0.472892</td>\n",
       "                        <td id=\"T_e2577314_660b_11ea_a52b_98e74379371frow9_col2\" class=\"data row9 col2\" >0.545852</td>\n",
       "                        <td id=\"T_e2577314_660b_11ea_a52b_98e74379371frow9_col3\" class=\"data row9 col3\" >0.555293</td>\n",
       "                        <td id=\"T_e2577314_660b_11ea_a52b_98e74379371frow9_col4\" class=\"data row9 col4\" >0.497436</td>\n",
       "                        <td id=\"T_e2577314_660b_11ea_a52b_98e74379371frow9_col5\" class=\"data row9 col5\" >0.370961</td>\n",
       "                        <td id=\"T_e2577314_660b_11ea_a52b_98e74379371frow9_col6\" class=\"data row9 col6\" >0.591796</td>\n",
       "                        <td id=\"T_e2577314_660b_11ea_a52b_98e74379371frow9_col7\" class=\"data row9 col7\" >0.603895</td>\n",
       "                        <td id=\"T_e2577314_660b_11ea_a52b_98e74379371frow9_col8\" class=\"data row9 col8\" >0.670025</td>\n",
       "                        <td id=\"T_e2577314_660b_11ea_a52b_98e74379371frow9_col9\" class=\"data row9 col9\" >1</td>\n",
       "            </tr>\n",
       "    </tbody></table>"
      ],
      "text/plain": [
       "<pandas.io.formats.style.Styler at 0x197d314f5c0>"
      ]
     },
     "execution_count": 80,
     "metadata": {},
     "output_type": "execute_result"
    }
   ],
   "source": [
    "corr = df_final_test[[x for x in df_final_test.columns if 'SCORE' in x]].corr()\n",
    "corr.style.background_gradient(cmap='coolwarm')\n",
    "# 'RdBu_r' & 'BrBG' are other good diverging colormaps"
   ]
  },
  {
   "cell_type": "code",
   "execution_count": 81,
   "metadata": {},
   "outputs": [],
   "source": [
    "df_final_test.to_pickle(os.getcwd()+r\"\\Data Files\\delinquency_scores_2019.pkl\")"
   ]
  },
  {
   "cell_type": "code",
   "execution_count": null,
   "metadata": {},
   "outputs": [],
   "source": []
  },
  {
   "cell_type": "markdown",
   "metadata": {},
   "source": [
    "# EMI Payment Trend Scores"
   ]
  },
  {
   "cell_type": "code",
   "execution_count": 95,
   "metadata": {},
   "outputs": [],
   "source": [
    "df1= pd.read_csv(os.getcwd()+r\"\\Data Files\\recent_delinquency_small.csv\")"
   ]
  },
  {
   "cell_type": "code",
   "execution_count": 113,
   "metadata": {},
   "outputs": [
    {
     "data": {
      "text/plain": [
       "2     723886\n",
       "4     711038\n",
       "6     698123\n",
       "5     696816\n",
       "8     692535\n",
       "9     687987\n",
       "7     685901\n",
       "1     684146\n",
       "3     683003\n",
       "10    681127\n",
       "11    674997\n",
       "12    662698\n",
       "Name: MONTH_PAY, dtype: int64"
      ]
     },
     "execution_count": 113,
     "metadata": {},
     "output_type": "execute_result"
    }
   ],
   "source": [
    "df1[\"MONTH_PAY\"].dt.month.value_counts()"
   ]
  },
  {
   "cell_type": "code",
   "execution_count": 108,
   "metadata": {},
   "outputs": [],
   "source": [
    "hyper_df= pd.read_csv(os.getcwd()+r\"\\Data Files\\Hyperparameters_EMI_Payment_Trend.csv\")"
   ]
  },
  {
   "cell_type": "code",
   "execution_count": 139,
   "metadata": {},
   "outputs": [
    {
     "data": {
      "text/plain": [
       "datetime.datetime(2019, 2, 1, 0, 0)"
      ]
     },
     "execution_count": 139,
     "metadata": {},
     "output_type": "execute_result"
    }
   ],
   "source": [
    "(date_test_start-datetime.timedelta(days=int(performance_window)-2)).replace(day=1)"
   ]
  },
  {
   "cell_type": "code",
   "execution_count": 140,
   "metadata": {},
   "outputs": [
    {
     "name": "stderr",
     "output_type": "stream",
     "text": [
      "C:\\Users\\aman.khatri91425\\AppData\\Local\\Continuum\\anaconda3\\lib\\site-packages\\ipykernel_launcher.py:48: SettingWithCopyWarning: \n",
      "A value is trying to be set on a copy of a slice from a DataFrame.\n",
      "Try using .loc[row_indexer,col_indexer] = value instead\n",
      "\n",
      "See the caveats in the documentation: http://pandas.pydata.org/pandas-docs/stable/indexing.html#indexing-view-versus-copy\n"
     ]
    },
    {
     "name": "stdout",
     "output_type": "stream",
     "text": [
      "Training for predicting (month): 2  SCORE: DEFAULT_FLAG_CHANGE_1  target: DEFAULT_FLAG_CHANGE  K: 136  observation_window: 30  performance_window: 0  downsample_size: 80000  GINI TRAIN: 19.42%     GINI TEST: 4.16%  time taken:  0.68\n",
      "History not available\n",
      "History not available\n",
      "History not available\n",
      "History not available\n"
     ]
    },
    {
     "name": "stderr",
     "output_type": "stream",
     "text": [
      "C:\\Users\\aman.khatri91425\\AppData\\Local\\Continuum\\anaconda3\\lib\\site-packages\\ipykernel_launcher.py:48: SettingWithCopyWarning: \n",
      "A value is trying to be set on a copy of a slice from a DataFrame.\n",
      "Try using .loc[row_indexer,col_indexer] = value instead\n",
      "\n",
      "See the caveats in the documentation: http://pandas.pydata.org/pandas-docs/stable/indexing.html#indexing-view-versus-copy\n"
     ]
    },
    {
     "name": "stdout",
     "output_type": "stream",
     "text": [
      "Training for predicting (month): 2  SCORE: NO_PAYMENT_CURRENT_PAYMENT_1  target: NO_PAYMENT_CURRENT_PAYMENT  K: 351  observation_window: 30  performance_window: 0  downsample_size: 300000  GINI TRAIN: 15.70%     GINI TEST: 7.29%  time taken:  3.7\n",
      "History not available\n",
      "History not available\n",
      "History not available\n",
      "History not available\n"
     ]
    },
    {
     "name": "stderr",
     "output_type": "stream",
     "text": [
      "C:\\Users\\aman.khatri91425\\AppData\\Local\\Continuum\\anaconda3\\lib\\site-packages\\ipykernel_launcher.py:48: SettingWithCopyWarning: \n",
      "A value is trying to be set on a copy of a slice from a DataFrame.\n",
      "Try using .loc[row_indexer,col_indexer] = value instead\n",
      "\n",
      "See the caveats in the documentation: http://pandas.pydata.org/pandas-docs/stable/indexing.html#indexing-view-versus-copy\n"
     ]
    },
    {
     "name": "stdout",
     "output_type": "stream",
     "text": [
      "Training for predicting (month): 3  SCORE: DEFAULT_FLAG_CHANGE_1  target: DEFAULT_FLAG_CHANGE  K: 136  observation_window: 30  performance_window: 0  downsample_size: 80000  GINI TRAIN: 18.97%     GINI TEST: 3.24%  time taken:  0.72\n"
     ]
    },
    {
     "name": "stderr",
     "output_type": "stream",
     "text": [
      "C:\\Users\\aman.khatri91425\\AppData\\Local\\Continuum\\anaconda3\\lib\\site-packages\\ipykernel_launcher.py:48: SettingWithCopyWarning: \n",
      "A value is trying to be set on a copy of a slice from a DataFrame.\n",
      "Try using .loc[row_indexer,col_indexer] = value instead\n",
      "\n",
      "See the caveats in the documentation: http://pandas.pydata.org/pandas-docs/stable/indexing.html#indexing-view-versus-copy\n"
     ]
    },
    {
     "name": "stdout",
     "output_type": "stream",
     "text": [
      "Training for predicting (month): 3  SCORE: DEFAULT_FLAG_CHANGE_2  target: DEFAULT_FLAG_CHANGE  K: 136  observation_window: 30  performance_window: 30  downsample_size: 80000  GINI TRAIN: 19.67%     GINI TEST: 3.42%  time taken:  0.72\n",
      "History not available\n",
      "History not available\n",
      "History not available\n"
     ]
    },
    {
     "name": "stderr",
     "output_type": "stream",
     "text": [
      "C:\\Users\\aman.khatri91425\\AppData\\Local\\Continuum\\anaconda3\\lib\\site-packages\\ipykernel_launcher.py:48: SettingWithCopyWarning: \n",
      "A value is trying to be set on a copy of a slice from a DataFrame.\n",
      "Try using .loc[row_indexer,col_indexer] = value instead\n",
      "\n",
      "See the caveats in the documentation: http://pandas.pydata.org/pandas-docs/stable/indexing.html#indexing-view-versus-copy\n"
     ]
    },
    {
     "name": "stdout",
     "output_type": "stream",
     "text": [
      "Training for predicting (month): 3  SCORE: NO_PAYMENT_CURRENT_PAYMENT_1  target: NO_PAYMENT_CURRENT_PAYMENT  K: 351  observation_window: 30  performance_window: 0  downsample_size: 300000  GINI TRAIN: 15.97%     GINI TEST: 7.04%  time taken:  3.8\n"
     ]
    },
    {
     "name": "stderr",
     "output_type": "stream",
     "text": [
      "C:\\Users\\aman.khatri91425\\AppData\\Local\\Continuum\\anaconda3\\lib\\site-packages\\ipykernel_launcher.py:48: SettingWithCopyWarning: \n",
      "A value is trying to be set on a copy of a slice from a DataFrame.\n",
      "Try using .loc[row_indexer,col_indexer] = value instead\n",
      "\n",
      "See the caveats in the documentation: http://pandas.pydata.org/pandas-docs/stable/indexing.html#indexing-view-versus-copy\n",
      "C:\\Users\\aman.khatri91425\\AppData\\Local\\Continuum\\anaconda3\\lib\\site-packages\\ipykernel_launcher.py:65: FutureWarning: Sorting because non-concatenation axis is not aligned. A future version\n",
      "of pandas will change to not sort by default.\n",
      "\n",
      "To accept the future behavior, pass 'sort=False'.\n",
      "\n",
      "To retain the current behavior and silence the warning, pass 'sort=True'.\n",
      "\n"
     ]
    },
    {
     "name": "stdout",
     "output_type": "stream",
     "text": [
      "Training for predicting (month): 3  SCORE: NO_PAYMENT_CURRENT_PAYMENT_2  target: NO_PAYMENT_CURRENT_PAYMENT  K: 351  observation_window: 30  performance_window: 30  downsample_size: 300000  GINI TRAIN: 15.62%     GINI TEST: 7.46%  time taken:  3.9\n",
      "History not available\n",
      "History not available\n",
      "History not available\n"
     ]
    },
    {
     "name": "stderr",
     "output_type": "stream",
     "text": [
      "C:\\Users\\aman.khatri91425\\AppData\\Local\\Continuum\\anaconda3\\lib\\site-packages\\ipykernel_launcher.py:48: SettingWithCopyWarning: \n",
      "A value is trying to be set on a copy of a slice from a DataFrame.\n",
      "Try using .loc[row_indexer,col_indexer] = value instead\n",
      "\n",
      "See the caveats in the documentation: http://pandas.pydata.org/pandas-docs/stable/indexing.html#indexing-view-versus-copy\n"
     ]
    },
    {
     "name": "stdout",
     "output_type": "stream",
     "text": [
      "Training for predicting (month): 4  SCORE: DEFAULT_FLAG_CHANGE_1  target: DEFAULT_FLAG_CHANGE  K: 136  observation_window: 30  performance_window: 0  downsample_size: 80000  GINI TRAIN: 19.97%     GINI TEST: 4.04%  time taken:  0.7\n"
     ]
    },
    {
     "name": "stderr",
     "output_type": "stream",
     "text": [
      "C:\\Users\\aman.khatri91425\\AppData\\Local\\Continuum\\anaconda3\\lib\\site-packages\\ipykernel_launcher.py:48: SettingWithCopyWarning: \n",
      "A value is trying to be set on a copy of a slice from a DataFrame.\n",
      "Try using .loc[row_indexer,col_indexer] = value instead\n",
      "\n",
      "See the caveats in the documentation: http://pandas.pydata.org/pandas-docs/stable/indexing.html#indexing-view-versus-copy\n"
     ]
    },
    {
     "name": "stdout",
     "output_type": "stream",
     "text": [
      "Training for predicting (month): 4  SCORE: DEFAULT_FLAG_CHANGE_2  target: DEFAULT_FLAG_CHANGE  K: 136  observation_window: 30  performance_window: 30  downsample_size: 80000  GINI TRAIN: 19.18%     GINI TEST: 3.51%  time taken:  0.7\n"
     ]
    },
    {
     "name": "stderr",
     "output_type": "stream",
     "text": [
      "C:\\Users\\aman.khatri91425\\AppData\\Local\\Continuum\\anaconda3\\lib\\site-packages\\ipykernel_launcher.py:48: SettingWithCopyWarning: \n",
      "A value is trying to be set on a copy of a slice from a DataFrame.\n",
      "Try using .loc[row_indexer,col_indexer] = value instead\n",
      "\n",
      "See the caveats in the documentation: http://pandas.pydata.org/pandas-docs/stable/indexing.html#indexing-view-versus-copy\n"
     ]
    },
    {
     "name": "stdout",
     "output_type": "stream",
     "text": [
      "Training for predicting (month): 4  SCORE: DEFAULT_FLAG_CHANGE_3  target: DEFAULT_FLAG_CHANGE  K: 136  observation_window: 30  performance_window: 60  downsample_size: 80000  GINI TRAIN: 19.42%     GINI TEST: 4.77%  time taken:  0.7\n",
      "History not available\n",
      "History not available\n"
     ]
    },
    {
     "name": "stderr",
     "output_type": "stream",
     "text": [
      "C:\\Users\\aman.khatri91425\\AppData\\Local\\Continuum\\anaconda3\\lib\\site-packages\\ipykernel_launcher.py:48: SettingWithCopyWarning: \n",
      "A value is trying to be set on a copy of a slice from a DataFrame.\n",
      "Try using .loc[row_indexer,col_indexer] = value instead\n",
      "\n",
      "See the caveats in the documentation: http://pandas.pydata.org/pandas-docs/stable/indexing.html#indexing-view-versus-copy\n"
     ]
    },
    {
     "name": "stdout",
     "output_type": "stream",
     "text": [
      "Training for predicting (month): 4  SCORE: NO_PAYMENT_CURRENT_PAYMENT_1  target: NO_PAYMENT_CURRENT_PAYMENT  K: 351  observation_window: 30  performance_window: 0  downsample_size: 300000  GINI TRAIN: 15.98%     GINI TEST: 7.67%  time taken:  3.8\n"
     ]
    },
    {
     "name": "stderr",
     "output_type": "stream",
     "text": [
      "C:\\Users\\aman.khatri91425\\AppData\\Local\\Continuum\\anaconda3\\lib\\site-packages\\ipykernel_launcher.py:48: SettingWithCopyWarning: \n",
      "A value is trying to be set on a copy of a slice from a DataFrame.\n",
      "Try using .loc[row_indexer,col_indexer] = value instead\n",
      "\n",
      "See the caveats in the documentation: http://pandas.pydata.org/pandas-docs/stable/indexing.html#indexing-view-versus-copy\n"
     ]
    },
    {
     "name": "stdout",
     "output_type": "stream",
     "text": [
      "Training for predicting (month): 4  SCORE: NO_PAYMENT_CURRENT_PAYMENT_2  target: NO_PAYMENT_CURRENT_PAYMENT  K: 351  observation_window: 30  performance_window: 30  downsample_size: 300000  GINI TRAIN: 16.43%     GINI TEST: 6.24%  time taken:  3.8\n"
     ]
    },
    {
     "name": "stderr",
     "output_type": "stream",
     "text": [
      "C:\\Users\\aman.khatri91425\\AppData\\Local\\Continuum\\anaconda3\\lib\\site-packages\\ipykernel_launcher.py:48: SettingWithCopyWarning: \n",
      "A value is trying to be set on a copy of a slice from a DataFrame.\n",
      "Try using .loc[row_indexer,col_indexer] = value instead\n",
      "\n",
      "See the caveats in the documentation: http://pandas.pydata.org/pandas-docs/stable/indexing.html#indexing-view-versus-copy\n"
     ]
    },
    {
     "name": "stdout",
     "output_type": "stream",
     "text": [
      "Training for predicting (month): 4  SCORE: NO_PAYMENT_CURRENT_PAYMENT_3  target: NO_PAYMENT_CURRENT_PAYMENT  K: 351  observation_window: 30  performance_window: 60  downsample_size: 300000  GINI TRAIN: 15.62%     GINI TEST: 6.79%  time taken:  3.8\n",
      "History not available\n",
      "History not available\n"
     ]
    },
    {
     "name": "stderr",
     "output_type": "stream",
     "text": [
      "C:\\Users\\aman.khatri91425\\AppData\\Local\\Continuum\\anaconda3\\lib\\site-packages\\ipykernel_launcher.py:65: FutureWarning: Sorting because non-concatenation axis is not aligned. A future version\n",
      "of pandas will change to not sort by default.\n",
      "\n",
      "To accept the future behavior, pass 'sort=False'.\n",
      "\n",
      "To retain the current behavior and silence the warning, pass 'sort=True'.\n",
      "\n",
      "C:\\Users\\aman.khatri91425\\AppData\\Local\\Continuum\\anaconda3\\lib\\site-packages\\ipykernel_launcher.py:48: SettingWithCopyWarning: \n",
      "A value is trying to be set on a copy of a slice from a DataFrame.\n",
      "Try using .loc[row_indexer,col_indexer] = value instead\n",
      "\n",
      "See the caveats in the documentation: http://pandas.pydata.org/pandas-docs/stable/indexing.html#indexing-view-versus-copy\n"
     ]
    },
    {
     "name": "stdout",
     "output_type": "stream",
     "text": [
      "Training for predicting (month): 5  SCORE: DEFAULT_FLAG_CHANGE_1  target: DEFAULT_FLAG_CHANGE  K: 136  observation_window: 30  performance_window: 0  downsample_size: 80000  GINI TRAIN: 19.70%     GINI TEST: 4.82%  time taken:  0.67\n"
     ]
    },
    {
     "name": "stderr",
     "output_type": "stream",
     "text": [
      "C:\\Users\\aman.khatri91425\\AppData\\Local\\Continuum\\anaconda3\\lib\\site-packages\\ipykernel_launcher.py:48: SettingWithCopyWarning: \n",
      "A value is trying to be set on a copy of a slice from a DataFrame.\n",
      "Try using .loc[row_indexer,col_indexer] = value instead\n",
      "\n",
      "See the caveats in the documentation: http://pandas.pydata.org/pandas-docs/stable/indexing.html#indexing-view-versus-copy\n"
     ]
    },
    {
     "name": "stdout",
     "output_type": "stream",
     "text": [
      "Training for predicting (month): 5  SCORE: DEFAULT_FLAG_CHANGE_2  target: DEFAULT_FLAG_CHANGE  K: 136  observation_window: 30  performance_window: 30  downsample_size: 80000  GINI TRAIN: 20.14%     GINI TEST: 5.23%  time taken:  0.68\n"
     ]
    },
    {
     "name": "stderr",
     "output_type": "stream",
     "text": [
      "C:\\Users\\aman.khatri91425\\AppData\\Local\\Continuum\\anaconda3\\lib\\site-packages\\ipykernel_launcher.py:48: SettingWithCopyWarning: \n",
      "A value is trying to be set on a copy of a slice from a DataFrame.\n",
      "Try using .loc[row_indexer,col_indexer] = value instead\n",
      "\n",
      "See the caveats in the documentation: http://pandas.pydata.org/pandas-docs/stable/indexing.html#indexing-view-versus-copy\n"
     ]
    },
    {
     "name": "stdout",
     "output_type": "stream",
     "text": [
      "Training for predicting (month): 5  SCORE: DEFAULT_FLAG_CHANGE_3  target: DEFAULT_FLAG_CHANGE  K: 136  observation_window: 30  performance_window: 60  downsample_size: 80000  GINI TRAIN: 18.79%     GINI TEST: 4.48%  time taken:  0.67\n"
     ]
    },
    {
     "name": "stderr",
     "output_type": "stream",
     "text": [
      "C:\\Users\\aman.khatri91425\\AppData\\Local\\Continuum\\anaconda3\\lib\\site-packages\\ipykernel_launcher.py:48: SettingWithCopyWarning: \n",
      "A value is trying to be set on a copy of a slice from a DataFrame.\n",
      "Try using .loc[row_indexer,col_indexer] = value instead\n",
      "\n",
      "See the caveats in the documentation: http://pandas.pydata.org/pandas-docs/stable/indexing.html#indexing-view-versus-copy\n"
     ]
    },
    {
     "name": "stdout",
     "output_type": "stream",
     "text": [
      "Training for predicting (month): 5  SCORE: DEFAULT_FLAG_CHANGE_4  target: DEFAULT_FLAG_CHANGE  K: 136  observation_window: 30  performance_window: 90  downsample_size: 80000  GINI TRAIN: 19.30%     GINI TEST: 5.17%  time taken:  0.62\n",
      "History not available\n"
     ]
    },
    {
     "name": "stderr",
     "output_type": "stream",
     "text": [
      "C:\\Users\\aman.khatri91425\\AppData\\Local\\Continuum\\anaconda3\\lib\\site-packages\\ipykernel_launcher.py:48: SettingWithCopyWarning: \n",
      "A value is trying to be set on a copy of a slice from a DataFrame.\n",
      "Try using .loc[row_indexer,col_indexer] = value instead\n",
      "\n",
      "See the caveats in the documentation: http://pandas.pydata.org/pandas-docs/stable/indexing.html#indexing-view-versus-copy\n"
     ]
    },
    {
     "name": "stdout",
     "output_type": "stream",
     "text": [
      "Training for predicting (month): 5  SCORE: NO_PAYMENT_CURRENT_PAYMENT_1  target: NO_PAYMENT_CURRENT_PAYMENT  K: 351  observation_window: 30  performance_window: 0  downsample_size: 300000  GINI TRAIN: 16.13%     GINI TEST: 5.69%  time taken:  1.7\n"
     ]
    },
    {
     "name": "stderr",
     "output_type": "stream",
     "text": [
      "C:\\Users\\aman.khatri91425\\AppData\\Local\\Continuum\\anaconda3\\lib\\site-packages\\ipykernel_launcher.py:48: SettingWithCopyWarning: \n",
      "A value is trying to be set on a copy of a slice from a DataFrame.\n",
      "Try using .loc[row_indexer,col_indexer] = value instead\n",
      "\n",
      "See the caveats in the documentation: http://pandas.pydata.org/pandas-docs/stable/indexing.html#indexing-view-versus-copy\n"
     ]
    },
    {
     "name": "stdout",
     "output_type": "stream",
     "text": [
      "Training for predicting (month): 5  SCORE: NO_PAYMENT_CURRENT_PAYMENT_2  target: NO_PAYMENT_CURRENT_PAYMENT  K: 351  observation_window: 30  performance_window: 30  downsample_size: 300000  GINI TRAIN: 16.10%     GINI TEST: 5.88%  time taken:  1.7\n"
     ]
    },
    {
     "name": "stderr",
     "output_type": "stream",
     "text": [
      "C:\\Users\\aman.khatri91425\\AppData\\Local\\Continuum\\anaconda3\\lib\\site-packages\\ipykernel_launcher.py:48: SettingWithCopyWarning: \n",
      "A value is trying to be set on a copy of a slice from a DataFrame.\n",
      "Try using .loc[row_indexer,col_indexer] = value instead\n",
      "\n",
      "See the caveats in the documentation: http://pandas.pydata.org/pandas-docs/stable/indexing.html#indexing-view-versus-copy\n"
     ]
    },
    {
     "name": "stdout",
     "output_type": "stream",
     "text": [
      "Training for predicting (month): 5  SCORE: NO_PAYMENT_CURRENT_PAYMENT_3  target: NO_PAYMENT_CURRENT_PAYMENT  K: 351  observation_window: 30  performance_window: 60  downsample_size: 300000  GINI TRAIN: 16.38%     GINI TEST: 4.67%  time taken:  1.7\n"
     ]
    },
    {
     "name": "stderr",
     "output_type": "stream",
     "text": [
      "C:\\Users\\aman.khatri91425\\AppData\\Local\\Continuum\\anaconda3\\lib\\site-packages\\ipykernel_launcher.py:48: SettingWithCopyWarning: \n",
      "A value is trying to be set on a copy of a slice from a DataFrame.\n",
      "Try using .loc[row_indexer,col_indexer] = value instead\n",
      "\n",
      "See the caveats in the documentation: http://pandas.pydata.org/pandas-docs/stable/indexing.html#indexing-view-versus-copy\n"
     ]
    },
    {
     "name": "stdout",
     "output_type": "stream",
     "text": [
      "Training for predicting (month): 5  SCORE: NO_PAYMENT_CURRENT_PAYMENT_4  target: NO_PAYMENT_CURRENT_PAYMENT  K: 351  observation_window: 30  performance_window: 90  downsample_size: 300000  GINI TRAIN: 15.60%     GINI TEST: 5.61%  time taken:  1.7\n",
      "History not available\n"
     ]
    },
    {
     "name": "stderr",
     "output_type": "stream",
     "text": [
      "C:\\Users\\aman.khatri91425\\AppData\\Local\\Continuum\\anaconda3\\lib\\site-packages\\ipykernel_launcher.py:65: FutureWarning: Sorting because non-concatenation axis is not aligned. A future version\n",
      "of pandas will change to not sort by default.\n",
      "\n",
      "To accept the future behavior, pass 'sort=False'.\n",
      "\n",
      "To retain the current behavior and silence the warning, pass 'sort=True'.\n",
      "\n",
      "C:\\Users\\aman.khatri91425\\AppData\\Local\\Continuum\\anaconda3\\lib\\site-packages\\ipykernel_launcher.py:48: SettingWithCopyWarning: \n",
      "A value is trying to be set on a copy of a slice from a DataFrame.\n",
      "Try using .loc[row_indexer,col_indexer] = value instead\n",
      "\n",
      "See the caveats in the documentation: http://pandas.pydata.org/pandas-docs/stable/indexing.html#indexing-view-versus-copy\n"
     ]
    },
    {
     "name": "stdout",
     "output_type": "stream",
     "text": [
      "Training for predicting (month): 6  SCORE: DEFAULT_FLAG_CHANGE_1  target: DEFAULT_FLAG_CHANGE  K: 136  observation_window: 30  performance_window: 0  downsample_size: 80000  GINI TRAIN: 22.13%     GINI TEST: 3.85%  time taken:  0.28\n"
     ]
    },
    {
     "name": "stderr",
     "output_type": "stream",
     "text": [
      "C:\\Users\\aman.khatri91425\\AppData\\Local\\Continuum\\anaconda3\\lib\\site-packages\\ipykernel_launcher.py:48: SettingWithCopyWarning: \n",
      "A value is trying to be set on a copy of a slice from a DataFrame.\n",
      "Try using .loc[row_indexer,col_indexer] = value instead\n",
      "\n",
      "See the caveats in the documentation: http://pandas.pydata.org/pandas-docs/stable/indexing.html#indexing-view-versus-copy\n"
     ]
    },
    {
     "name": "stdout",
     "output_type": "stream",
     "text": [
      "Training for predicting (month): 6  SCORE: DEFAULT_FLAG_CHANGE_2  target: DEFAULT_FLAG_CHANGE  K: 136  observation_window: 30  performance_window: 30  downsample_size: 80000  GINI TRAIN: 19.64%     GINI TEST: 3.36%  time taken:  0.28\n"
     ]
    },
    {
     "name": "stderr",
     "output_type": "stream",
     "text": [
      "C:\\Users\\aman.khatri91425\\AppData\\Local\\Continuum\\anaconda3\\lib\\site-packages\\ipykernel_launcher.py:48: SettingWithCopyWarning: \n",
      "A value is trying to be set on a copy of a slice from a DataFrame.\n",
      "Try using .loc[row_indexer,col_indexer] = value instead\n",
      "\n",
      "See the caveats in the documentation: http://pandas.pydata.org/pandas-docs/stable/indexing.html#indexing-view-versus-copy\n"
     ]
    },
    {
     "name": "stdout",
     "output_type": "stream",
     "text": [
      "Training for predicting (month): 6  SCORE: DEFAULT_FLAG_CHANGE_3  target: DEFAULT_FLAG_CHANGE  K: 136  observation_window: 30  performance_window: 60  downsample_size: 80000  GINI TRAIN: 20.53%     GINI TEST: 4.32%  time taken:  0.28\n"
     ]
    },
    {
     "name": "stderr",
     "output_type": "stream",
     "text": [
      "C:\\Users\\aman.khatri91425\\AppData\\Local\\Continuum\\anaconda3\\lib\\site-packages\\ipykernel_launcher.py:48: SettingWithCopyWarning: \n",
      "A value is trying to be set on a copy of a slice from a DataFrame.\n",
      "Try using .loc[row_indexer,col_indexer] = value instead\n",
      "\n",
      "See the caveats in the documentation: http://pandas.pydata.org/pandas-docs/stable/indexing.html#indexing-view-versus-copy\n"
     ]
    },
    {
     "name": "stdout",
     "output_type": "stream",
     "text": [
      "Training for predicting (month): 6  SCORE: DEFAULT_FLAG_CHANGE_4  target: DEFAULT_FLAG_CHANGE  K: 136  observation_window: 30  performance_window: 90  downsample_size: 80000  GINI TRAIN: 18.92%     GINI TEST: 2.84%  time taken:  0.28\n"
     ]
    },
    {
     "name": "stderr",
     "output_type": "stream",
     "text": [
      "C:\\Users\\aman.khatri91425\\AppData\\Local\\Continuum\\anaconda3\\lib\\site-packages\\ipykernel_launcher.py:48: SettingWithCopyWarning: \n",
      "A value is trying to be set on a copy of a slice from a DataFrame.\n",
      "Try using .loc[row_indexer,col_indexer] = value instead\n",
      "\n",
      "See the caveats in the documentation: http://pandas.pydata.org/pandas-docs/stable/indexing.html#indexing-view-versus-copy\n"
     ]
    },
    {
     "name": "stdout",
     "output_type": "stream",
     "text": [
      "Training for predicting (month): 6  SCORE: DEFAULT_FLAG_CHANGE_5  target: DEFAULT_FLAG_CHANGE  K: 136  observation_window: 30  performance_window: 120  downsample_size: 80000  GINI TRAIN: 19.72%     GINI TEST: 4.22%  time taken:  0.3\n"
     ]
    },
    {
     "name": "stderr",
     "output_type": "stream",
     "text": [
      "C:\\Users\\aman.khatri91425\\AppData\\Local\\Continuum\\anaconda3\\lib\\site-packages\\ipykernel_launcher.py:48: SettingWithCopyWarning: \n",
      "A value is trying to be set on a copy of a slice from a DataFrame.\n",
      "Try using .loc[row_indexer,col_indexer] = value instead\n",
      "\n",
      "See the caveats in the documentation: http://pandas.pydata.org/pandas-docs/stable/indexing.html#indexing-view-versus-copy\n"
     ]
    },
    {
     "name": "stdout",
     "output_type": "stream",
     "text": [
      "Training for predicting (month): 6  SCORE: NO_PAYMENT_CURRENT_PAYMENT_1  target: NO_PAYMENT_CURRENT_PAYMENT  K: 351  observation_window: 30  performance_window: 0  downsample_size: 300000  GINI TRAIN: 16.18%     GINI TEST: 6.26%  time taken:  1.8\n"
     ]
    },
    {
     "name": "stderr",
     "output_type": "stream",
     "text": [
      "C:\\Users\\aman.khatri91425\\AppData\\Local\\Continuum\\anaconda3\\lib\\site-packages\\ipykernel_launcher.py:48: SettingWithCopyWarning: \n",
      "A value is trying to be set on a copy of a slice from a DataFrame.\n",
      "Try using .loc[row_indexer,col_indexer] = value instead\n",
      "\n",
      "See the caveats in the documentation: http://pandas.pydata.org/pandas-docs/stable/indexing.html#indexing-view-versus-copy\n"
     ]
    },
    {
     "name": "stdout",
     "output_type": "stream",
     "text": [
      "Training for predicting (month): 6  SCORE: NO_PAYMENT_CURRENT_PAYMENT_2  target: NO_PAYMENT_CURRENT_PAYMENT  K: 351  observation_window: 30  performance_window: 30  downsample_size: 300000  GINI TRAIN: 16.14%     GINI TEST: 5.86%  time taken:  1.7\n"
     ]
    },
    {
     "name": "stderr",
     "output_type": "stream",
     "text": [
      "C:\\Users\\aman.khatri91425\\AppData\\Local\\Continuum\\anaconda3\\lib\\site-packages\\ipykernel_launcher.py:48: SettingWithCopyWarning: \n",
      "A value is trying to be set on a copy of a slice from a DataFrame.\n",
      "Try using .loc[row_indexer,col_indexer] = value instead\n",
      "\n",
      "See the caveats in the documentation: http://pandas.pydata.org/pandas-docs/stable/indexing.html#indexing-view-versus-copy\n"
     ]
    },
    {
     "name": "stdout",
     "output_type": "stream",
     "text": [
      "Training for predicting (month): 6  SCORE: NO_PAYMENT_CURRENT_PAYMENT_3  target: NO_PAYMENT_CURRENT_PAYMENT  K: 351  observation_window: 30  performance_window: 60  downsample_size: 300000  GINI TRAIN: 15.93%     GINI TEST: 5.94%  time taken:  3.3\n"
     ]
    },
    {
     "name": "stderr",
     "output_type": "stream",
     "text": [
      "C:\\Users\\aman.khatri91425\\AppData\\Local\\Continuum\\anaconda3\\lib\\site-packages\\ipykernel_launcher.py:48: SettingWithCopyWarning: \n",
      "A value is trying to be set on a copy of a slice from a DataFrame.\n",
      "Try using .loc[row_indexer,col_indexer] = value instead\n",
      "\n",
      "See the caveats in the documentation: http://pandas.pydata.org/pandas-docs/stable/indexing.html#indexing-view-versus-copy\n"
     ]
    },
    {
     "name": "stdout",
     "output_type": "stream",
     "text": [
      "Training for predicting (month): 6  SCORE: NO_PAYMENT_CURRENT_PAYMENT_4  target: NO_PAYMENT_CURRENT_PAYMENT  K: 351  observation_window: 30  performance_window: 90  downsample_size: 300000  GINI TRAIN: 16.37%     GINI TEST: 4.86%  time taken:  3.6\n"
     ]
    },
    {
     "name": "stderr",
     "output_type": "stream",
     "text": [
      "C:\\Users\\aman.khatri91425\\AppData\\Local\\Continuum\\anaconda3\\lib\\site-packages\\ipykernel_launcher.py:48: SettingWithCopyWarning: \n",
      "A value is trying to be set on a copy of a slice from a DataFrame.\n",
      "Try using .loc[row_indexer,col_indexer] = value instead\n",
      "\n",
      "See the caveats in the documentation: http://pandas.pydata.org/pandas-docs/stable/indexing.html#indexing-view-versus-copy\n"
     ]
    },
    {
     "name": "stdout",
     "output_type": "stream",
     "text": [
      "Training for predicting (month): 6  SCORE: NO_PAYMENT_CURRENT_PAYMENT_5  target: NO_PAYMENT_CURRENT_PAYMENT  K: 351  observation_window: 30  performance_window: 120  downsample_size: 300000  GINI TRAIN: 15.61%     GINI TEST: 5.52%  time taken:  4.1\n"
     ]
    },
    {
     "name": "stderr",
     "output_type": "stream",
     "text": [
      "C:\\Users\\aman.khatri91425\\AppData\\Local\\Continuum\\anaconda3\\lib\\site-packages\\ipykernel_launcher.py:65: FutureWarning: Sorting because non-concatenation axis is not aligned. A future version\n",
      "of pandas will change to not sort by default.\n",
      "\n",
      "To accept the future behavior, pass 'sort=False'.\n",
      "\n",
      "To retain the current behavior and silence the warning, pass 'sort=True'.\n",
      "\n",
      "C:\\Users\\aman.khatri91425\\AppData\\Local\\Continuum\\anaconda3\\lib\\site-packages\\ipykernel_launcher.py:48: SettingWithCopyWarning: \n",
      "A value is trying to be set on a copy of a slice from a DataFrame.\n",
      "Try using .loc[row_indexer,col_indexer] = value instead\n",
      "\n",
      "See the caveats in the documentation: http://pandas.pydata.org/pandas-docs/stable/indexing.html#indexing-view-versus-copy\n"
     ]
    },
    {
     "name": "stdout",
     "output_type": "stream",
     "text": [
      "Training for predicting (month): 7  SCORE: DEFAULT_FLAG_CHANGE_1  target: DEFAULT_FLAG_CHANGE  K: 136  observation_window: 30  performance_window: 0  downsample_size: 80000  GINI TRAIN: 22.05%     GINI TEST: 2.90%  time taken:  0.82\n"
     ]
    },
    {
     "name": "stderr",
     "output_type": "stream",
     "text": [
      "C:\\Users\\aman.khatri91425\\AppData\\Local\\Continuum\\anaconda3\\lib\\site-packages\\ipykernel_launcher.py:48: SettingWithCopyWarning: \n",
      "A value is trying to be set on a copy of a slice from a DataFrame.\n",
      "Try using .loc[row_indexer,col_indexer] = value instead\n",
      "\n",
      "See the caveats in the documentation: http://pandas.pydata.org/pandas-docs/stable/indexing.html#indexing-view-versus-copy\n"
     ]
    },
    {
     "name": "stdout",
     "output_type": "stream",
     "text": [
      "Training for predicting (month): 7  SCORE: DEFAULT_FLAG_CHANGE_2  target: DEFAULT_FLAG_CHANGE  K: 136  observation_window: 30  performance_window: 30  downsample_size: 80000  GINI TRAIN: 22.04%     GINI TEST: 2.96%  time taken:  0.8\n"
     ]
    },
    {
     "name": "stderr",
     "output_type": "stream",
     "text": [
      "C:\\Users\\aman.khatri91425\\AppData\\Local\\Continuum\\anaconda3\\lib\\site-packages\\ipykernel_launcher.py:48: SettingWithCopyWarning: \n",
      "A value is trying to be set on a copy of a slice from a DataFrame.\n",
      "Try using .loc[row_indexer,col_indexer] = value instead\n",
      "\n",
      "See the caveats in the documentation: http://pandas.pydata.org/pandas-docs/stable/indexing.html#indexing-view-versus-copy\n"
     ]
    },
    {
     "name": "stdout",
     "output_type": "stream",
     "text": [
      "Training for predicting (month): 7  SCORE: DEFAULT_FLAG_CHANGE_3  target: DEFAULT_FLAG_CHANGE  K: 136  observation_window: 30  performance_window: 60  downsample_size: 80000  GINI TRAIN: 19.82%     GINI TEST: 2.86%  time taken:  0.8\n"
     ]
    },
    {
     "name": "stderr",
     "output_type": "stream",
     "text": [
      "C:\\Users\\aman.khatri91425\\AppData\\Local\\Continuum\\anaconda3\\lib\\site-packages\\ipykernel_launcher.py:48: SettingWithCopyWarning: \n",
      "A value is trying to be set on a copy of a slice from a DataFrame.\n",
      "Try using .loc[row_indexer,col_indexer] = value instead\n",
      "\n",
      "See the caveats in the documentation: http://pandas.pydata.org/pandas-docs/stable/indexing.html#indexing-view-versus-copy\n"
     ]
    },
    {
     "name": "stdout",
     "output_type": "stream",
     "text": [
      "Training for predicting (month): 7  SCORE: DEFAULT_FLAG_CHANGE_4  target: DEFAULT_FLAG_CHANGE  K: 136  observation_window: 30  performance_window: 90  downsample_size: 80000  GINI TRAIN: 20.24%     GINI TEST: 3.56%  time taken:  0.82\n"
     ]
    },
    {
     "name": "stderr",
     "output_type": "stream",
     "text": [
      "C:\\Users\\aman.khatri91425\\AppData\\Local\\Continuum\\anaconda3\\lib\\site-packages\\ipykernel_launcher.py:48: SettingWithCopyWarning: \n",
      "A value is trying to be set on a copy of a slice from a DataFrame.\n",
      "Try using .loc[row_indexer,col_indexer] = value instead\n",
      "\n",
      "See the caveats in the documentation: http://pandas.pydata.org/pandas-docs/stable/indexing.html#indexing-view-versus-copy\n"
     ]
    },
    {
     "name": "stdout",
     "output_type": "stream",
     "text": [
      "Training for predicting (month): 7  SCORE: DEFAULT_FLAG_CHANGE_5  target: DEFAULT_FLAG_CHANGE  K: 136  observation_window: 30  performance_window: 120  downsample_size: 80000  GINI TRAIN: 19.06%     GINI TEST: 2.59%  time taken:  0.8\n"
     ]
    },
    {
     "name": "stderr",
     "output_type": "stream",
     "text": [
      "C:\\Users\\aman.khatri91425\\AppData\\Local\\Continuum\\anaconda3\\lib\\site-packages\\ipykernel_launcher.py:48: SettingWithCopyWarning: \n",
      "A value is trying to be set on a copy of a slice from a DataFrame.\n",
      "Try using .loc[row_indexer,col_indexer] = value instead\n",
      "\n",
      "See the caveats in the documentation: http://pandas.pydata.org/pandas-docs/stable/indexing.html#indexing-view-versus-copy\n"
     ]
    },
    {
     "name": "stdout",
     "output_type": "stream",
     "text": [
      "Training for predicting (month): 7  SCORE: NO_PAYMENT_CURRENT_PAYMENT_1  target: NO_PAYMENT_CURRENT_PAYMENT  K: 351  observation_window: 30  performance_window: 0  downsample_size: 300000  GINI TRAIN: 16.76%     GINI TEST: 5.64%  time taken:  4.5\n"
     ]
    },
    {
     "name": "stderr",
     "output_type": "stream",
     "text": [
      "C:\\Users\\aman.khatri91425\\AppData\\Local\\Continuum\\anaconda3\\lib\\site-packages\\ipykernel_launcher.py:48: SettingWithCopyWarning: \n",
      "A value is trying to be set on a copy of a slice from a DataFrame.\n",
      "Try using .loc[row_indexer,col_indexer] = value instead\n",
      "\n",
      "See the caveats in the documentation: http://pandas.pydata.org/pandas-docs/stable/indexing.html#indexing-view-versus-copy\n"
     ]
    },
    {
     "name": "stdout",
     "output_type": "stream",
     "text": [
      "Training for predicting (month): 7  SCORE: NO_PAYMENT_CURRENT_PAYMENT_2  target: NO_PAYMENT_CURRENT_PAYMENT  K: 351  observation_window: 30  performance_window: 30  downsample_size: 300000  GINI TRAIN: 16.25%     GINI TEST: 5.64%  time taken:  4.4\n"
     ]
    },
    {
     "name": "stderr",
     "output_type": "stream",
     "text": [
      "C:\\Users\\aman.khatri91425\\AppData\\Local\\Continuum\\anaconda3\\lib\\site-packages\\ipykernel_launcher.py:48: SettingWithCopyWarning: \n",
      "A value is trying to be set on a copy of a slice from a DataFrame.\n",
      "Try using .loc[row_indexer,col_indexer] = value instead\n",
      "\n",
      "See the caveats in the documentation: http://pandas.pydata.org/pandas-docs/stable/indexing.html#indexing-view-versus-copy\n"
     ]
    },
    {
     "name": "stdout",
     "output_type": "stream",
     "text": [
      "Training for predicting (month): 7  SCORE: NO_PAYMENT_CURRENT_PAYMENT_3  target: NO_PAYMENT_CURRENT_PAYMENT  K: 351  observation_window: 30  performance_window: 60  downsample_size: 300000  GINI TRAIN: 16.09%     GINI TEST: 5.02%  time taken:  4.4\n"
     ]
    },
    {
     "name": "stderr",
     "output_type": "stream",
     "text": [
      "C:\\Users\\aman.khatri91425\\AppData\\Local\\Continuum\\anaconda3\\lib\\site-packages\\ipykernel_launcher.py:48: SettingWithCopyWarning: \n",
      "A value is trying to be set on a copy of a slice from a DataFrame.\n",
      "Try using .loc[row_indexer,col_indexer] = value instead\n",
      "\n",
      "See the caveats in the documentation: http://pandas.pydata.org/pandas-docs/stable/indexing.html#indexing-view-versus-copy\n"
     ]
    },
    {
     "name": "stdout",
     "output_type": "stream",
     "text": [
      "Training for predicting (month): 7  SCORE: NO_PAYMENT_CURRENT_PAYMENT_4  target: NO_PAYMENT_CURRENT_PAYMENT  K: 351  observation_window: 30  performance_window: 90  downsample_size: 300000  GINI TRAIN: 16.05%     GINI TEST: 5.62%  time taken:  4.4\n"
     ]
    },
    {
     "name": "stderr",
     "output_type": "stream",
     "text": [
      "C:\\Users\\aman.khatri91425\\AppData\\Local\\Continuum\\anaconda3\\lib\\site-packages\\ipykernel_launcher.py:48: SettingWithCopyWarning: \n",
      "A value is trying to be set on a copy of a slice from a DataFrame.\n",
      "Try using .loc[row_indexer,col_indexer] = value instead\n",
      "\n",
      "See the caveats in the documentation: http://pandas.pydata.org/pandas-docs/stable/indexing.html#indexing-view-versus-copy\n"
     ]
    },
    {
     "name": "stdout",
     "output_type": "stream",
     "text": [
      "Training for predicting (month): 7  SCORE: NO_PAYMENT_CURRENT_PAYMENT_5  target: NO_PAYMENT_CURRENT_PAYMENT  K: 351  observation_window: 30  performance_window: 120  downsample_size: 300000  GINI TRAIN: 16.37%     GINI TEST: 4.41%  time taken:  4.5\n"
     ]
    },
    {
     "name": "stderr",
     "output_type": "stream",
     "text": [
      "C:\\Users\\aman.khatri91425\\AppData\\Local\\Continuum\\anaconda3\\lib\\site-packages\\ipykernel_launcher.py:65: FutureWarning: Sorting because non-concatenation axis is not aligned. A future version\n",
      "of pandas will change to not sort by default.\n",
      "\n",
      "To accept the future behavior, pass 'sort=False'.\n",
      "\n",
      "To retain the current behavior and silence the warning, pass 'sort=True'.\n",
      "\n"
     ]
    }
   ],
   "source": [
    "df_final_test = pd.DataFrame()\n",
    "\n",
    "import datetime\n",
    "from sklearn.neighbors import KNeighborsClassifier\n",
    "\n",
    "for x in np.arange(2,9,1):\n",
    "    date_test_start = datetime.datetime(2019, x, 1)\n",
    "    date_test_end = (date_test_start +  datetime.timedelta(days=31)).replace(day=1)\n",
    "    df_test = df[(df[\"TIME_DECISION_DATE\"]>=date_test_start) & \n",
    "                      (df[\"TIME_DECISION_DATE\"]<date_test_end)]\n",
    "\n",
    "    for y in hyper_df.index:\n",
    "        if hyper_df.loc[y,'MONTH_HIST'] < x:\n",
    "            score_name = hyper_df.loc[y,'SCORE_NAME']\n",
    "            target = hyper_df.loc[y,'TARGET']\n",
    "            K = hyper_df.loc[y,'K']\n",
    "            observation_window = hyper_df.loc[y,'OBSERVATION_WINDOW']\n",
    "            performance_window = hyper_df.loc[y,'PERFORMANCE_WINDOW']\n",
    "            downsample_size = hyper_df.loc[y,'DOWNSAMPLE_SIZE']\n",
    "\n",
    "            date_train_start = (date_test_start-datetime.timedelta(days=int(performance_window)-1)-datetime.timedelta(days=int(observation_window))).replace(day=1) \n",
    "            date_train_end = (date_test_start-datetime.timedelta(days=int(performance_window)-2)).replace(day=1)\n",
    "            start_time = datetime.datetime.now()\n",
    "            df_train = df1[(df1[\"MONTH_PAY\"]>=date_train_start) & \n",
    "                      (df1[\"MONTH_PAY\"]<date_train_end)]\n",
    "\n",
    "            df_class_0 = df_train[df_train[target] == 0]\n",
    "            df_class_1 = df_train[df_train[target] == 1]\n",
    "            df_class_0_under = df_class_0.sample(min(downsample_size,df_class_1.shape[0]))\n",
    "            df_class_1_under = df_class_1.sample(min(downsample_size,df_class_1.shape[0]))\n",
    "            df_train_under = pd.concat([df_class_0_under, df_class_1_under], axis=0)\n",
    "\n",
    "            X_train = df_train_under[[\"CUS_LAT\",\"CUS_LONG\"]]\n",
    "            X_test = df_test[[\"CUS_LAT\",\"CUS_LONG\"]]\n",
    "            y_train = df_train_under[target]\n",
    "            y_test =  df_test['RISK_FSTQPD30']\n",
    "\n",
    "            knn = KNeighborsClassifier(n_neighbors = K)\n",
    "            bst = knn.fit(X_train[[\"CUS_LAT\",\"CUS_LONG\"]], np.ravel(y_train))\n",
    "\n",
    "            ypred_train = bst.predict_proba(X_train[[\"CUS_LAT\",\"CUS_LONG\"]])[:, 1]\n",
    "            ypred_test = bst.predict_proba(X_test[[\"CUS_LAT\",\"CUS_LONG\"]])[:, 1]\n",
    "            metric_auc_train = metrics.roc_auc_score(y_train, ypred_train)\n",
    "            metric_auc_test = metrics.roc_auc_score(y_test, ypred_test)\n",
    "            gini_train = 2 * metric_auc_train - 1\n",
    "            gini_test = 2 * metric_auc_test - 1\n",
    "\n",
    "            df_test[score_name] = ypred_test\n",
    "            print(\"Training for predicting (month):\",date_test_start.month, \n",
    "                  \" SCORE:\",score_name,\n",
    "                  \" target:\",target,\n",
    "                  \" K:\",K,\n",
    "                  \" observation_window:\",observation_window,\n",
    "                  \" performance_window:\",performance_window,\n",
    "                  \" downsample_size:\",downsample_size,\n",
    "                  \" GINI TRAIN:\",'{:,.2%}'.format(gini_train), \"    GINI TEST:\",'{:,.2%}'.format(gini_test),\n",
    "                  \" time taken: \",'{:,.2}'.format((datetime.datetime.now()-start_time).seconds/60))\n",
    "        else:\n",
    "            print(\"History not available\")\n",
    "\n",
    "\n",
    "    if df_final_test.shape == (0,0):\n",
    "        df_final_test = df_test\n",
    "    else:\n",
    "        df_final_test = pd.concat([df_final_test,df_test],ignore_index=True)\n"
   ]
  },
  {
   "cell_type": "code",
   "execution_count": 145,
   "metadata": {},
   "outputs": [
    {
     "data": {
      "text/html": [
       "<style  type=\"text/css\" >\n",
       "    #T_d728958a_66e2_11ea_8ea6_98e74379371frow0_col0 {\n",
       "            background-color:  #b40426;\n",
       "            color:  #f1f1f1;\n",
       "        }    #T_d728958a_66e2_11ea_8ea6_98e74379371frow0_col1 {\n",
       "            background-color:  #779af7;\n",
       "            color:  #000000;\n",
       "        }    #T_d728958a_66e2_11ea_8ea6_98e74379371frow0_col2 {\n",
       "            background-color:  #4257c9;\n",
       "            color:  #f1f1f1;\n",
       "        }    #T_d728958a_66e2_11ea_8ea6_98e74379371frow0_col3 {\n",
       "            background-color:  #3b4cc0;\n",
       "            color:  #f1f1f1;\n",
       "        }    #T_d728958a_66e2_11ea_8ea6_98e74379371frow0_col4 {\n",
       "            background-color:  #3b4cc0;\n",
       "            color:  #f1f1f1;\n",
       "        }    #T_d728958a_66e2_11ea_8ea6_98e74379371frow1_col0 {\n",
       "            background-color:  #88abfd;\n",
       "            color:  #000000;\n",
       "        }    #T_d728958a_66e2_11ea_8ea6_98e74379371frow1_col1 {\n",
       "            background-color:  #b40426;\n",
       "            color:  #f1f1f1;\n",
       "        }    #T_d728958a_66e2_11ea_8ea6_98e74379371frow1_col2 {\n",
       "            background-color:  #4257c9;\n",
       "            color:  #f1f1f1;\n",
       "        }    #T_d728958a_66e2_11ea_8ea6_98e74379371frow1_col3 {\n",
       "            background-color:  #5a78e4;\n",
       "            color:  #000000;\n",
       "        }    #T_d728958a_66e2_11ea_8ea6_98e74379371frow1_col4 {\n",
       "            background-color:  #4b64d5;\n",
       "            color:  #f1f1f1;\n",
       "        }    #T_d728958a_66e2_11ea_8ea6_98e74379371frow2_col0 {\n",
       "            background-color:  #7597f6;\n",
       "            color:  #000000;\n",
       "        }    #T_d728958a_66e2_11ea_8ea6_98e74379371frow2_col1 {\n",
       "            background-color:  #6282ea;\n",
       "            color:  #000000;\n",
       "        }    #T_d728958a_66e2_11ea_8ea6_98e74379371frow2_col2 {\n",
       "            background-color:  #b40426;\n",
       "            color:  #f1f1f1;\n",
       "        }    #T_d728958a_66e2_11ea_8ea6_98e74379371frow2_col3 {\n",
       "            background-color:  #5a78e4;\n",
       "            color:  #000000;\n",
       "        }    #T_d728958a_66e2_11ea_8ea6_98e74379371frow2_col4 {\n",
       "            background-color:  #6c8ff1;\n",
       "            color:  #000000;\n",
       "        }    #T_d728958a_66e2_11ea_8ea6_98e74379371frow3_col0 {\n",
       "            background-color:  #4c66d6;\n",
       "            color:  #000000;\n",
       "        }    #T_d728958a_66e2_11ea_8ea6_98e74379371frow3_col1 {\n",
       "            background-color:  #5d7ce6;\n",
       "            color:  #000000;\n",
       "        }    #T_d728958a_66e2_11ea_8ea6_98e74379371frow3_col2 {\n",
       "            background-color:  #3b4cc0;\n",
       "            color:  #f1f1f1;\n",
       "        }    #T_d728958a_66e2_11ea_8ea6_98e74379371frow3_col3 {\n",
       "            background-color:  #b40426;\n",
       "            color:  #f1f1f1;\n",
       "        }    #T_d728958a_66e2_11ea_8ea6_98e74379371frow3_col4 {\n",
       "            background-color:  #7ea1fa;\n",
       "            color:  #000000;\n",
       "        }    #T_d728958a_66e2_11ea_8ea6_98e74379371frow4_col0 {\n",
       "            background-color:  #3b4cc0;\n",
       "            color:  #f1f1f1;\n",
       "        }    #T_d728958a_66e2_11ea_8ea6_98e74379371frow4_col1 {\n",
       "            background-color:  #3b4cc0;\n",
       "            color:  #f1f1f1;\n",
       "        }    #T_d728958a_66e2_11ea_8ea6_98e74379371frow4_col2 {\n",
       "            background-color:  #3b4cc0;\n",
       "            color:  #f1f1f1;\n",
       "        }    #T_d728958a_66e2_11ea_8ea6_98e74379371frow4_col3 {\n",
       "            background-color:  #6b8df0;\n",
       "            color:  #000000;\n",
       "        }    #T_d728958a_66e2_11ea_8ea6_98e74379371frow4_col4 {\n",
       "            background-color:  #b40426;\n",
       "            color:  #f1f1f1;\n",
       "        }</style><table id=\"T_d728958a_66e2_11ea_8ea6_98e74379371f\" ><thead>    <tr>        <th class=\"blank level0\" ></th>        <th class=\"col_heading level0 col0\" >DEFAULT_FLAG_CHANGE_1</th>        <th class=\"col_heading level0 col1\" >DEFAULT_FLAG_CHANGE_2</th>        <th class=\"col_heading level0 col2\" >DEFAULT_FLAG_CHANGE_3</th>        <th class=\"col_heading level0 col3\" >DEFAULT_FLAG_CHANGE_4</th>        <th class=\"col_heading level0 col4\" >DEFAULT_FLAG_CHANGE_5</th>    </tr></thead><tbody>\n",
       "                <tr>\n",
       "                        <th id=\"T_d728958a_66e2_11ea_8ea6_98e74379371flevel0_row0\" class=\"row_heading level0 row0\" >DEFAULT_FLAG_CHANGE_1</th>\n",
       "                        <td id=\"T_d728958a_66e2_11ea_8ea6_98e74379371frow0_col0\" class=\"data row0 col0\" >1</td>\n",
       "                        <td id=\"T_d728958a_66e2_11ea_8ea6_98e74379371frow0_col1\" class=\"data row0 col1\" >0.757449</td>\n",
       "                        <td id=\"T_d728958a_66e2_11ea_8ea6_98e74379371frow0_col2\" class=\"data row0 col2\" >0.740127</td>\n",
       "                        <td id=\"T_d728958a_66e2_11ea_8ea6_98e74379371frow0_col3\" class=\"data row0 col3\" >0.702534</td>\n",
       "                        <td id=\"T_d728958a_66e2_11ea_8ea6_98e74379371frow0_col4\" class=\"data row0 col4\" >0.68275</td>\n",
       "            </tr>\n",
       "            <tr>\n",
       "                        <th id=\"T_d728958a_66e2_11ea_8ea6_98e74379371flevel0_row1\" class=\"row_heading level0 row1\" >DEFAULT_FLAG_CHANGE_2</th>\n",
       "                        <td id=\"T_d728958a_66e2_11ea_8ea6_98e74379371frow1_col0\" class=\"data row1 col0\" >0.757449</td>\n",
       "                        <td id=\"T_d728958a_66e2_11ea_8ea6_98e74379371frow1_col1\" class=\"data row1 col1\" >1</td>\n",
       "                        <td id=\"T_d728958a_66e2_11ea_8ea6_98e74379371frow1_col2\" class=\"data row1 col2\" >0.739186</td>\n",
       "                        <td id=\"T_d728958a_66e2_11ea_8ea6_98e74379371frow1_col3\" class=\"data row1 col3\" >0.733455</td>\n",
       "                        <td id=\"T_d728958a_66e2_11ea_8ea6_98e74379371frow1_col4\" class=\"data row1 col4\" >0.700631</td>\n",
       "            </tr>\n",
       "            <tr>\n",
       "                        <th id=\"T_d728958a_66e2_11ea_8ea6_98e74379371flevel0_row2\" class=\"row_heading level0 row2\" >DEFAULT_FLAG_CHANGE_3</th>\n",
       "                        <td id=\"T_d728958a_66e2_11ea_8ea6_98e74379371frow2_col0\" class=\"data row2 col0\" >0.740127</td>\n",
       "                        <td id=\"T_d728958a_66e2_11ea_8ea6_98e74379371frow2_col1\" class=\"data row2 col1\" >0.739186</td>\n",
       "                        <td id=\"T_d728958a_66e2_11ea_8ea6_98e74379371frow2_col2\" class=\"data row2 col2\" >1</td>\n",
       "                        <td id=\"T_d728958a_66e2_11ea_8ea6_98e74379371frow2_col3\" class=\"data row2 col3\" >0.733063</td>\n",
       "                        <td id=\"T_d728958a_66e2_11ea_8ea6_98e74379371frow2_col4\" class=\"data row2 col4\" >0.732875</td>\n",
       "            </tr>\n",
       "            <tr>\n",
       "                        <th id=\"T_d728958a_66e2_11ea_8ea6_98e74379371flevel0_row3\" class=\"row_heading level0 row3\" >DEFAULT_FLAG_CHANGE_4</th>\n",
       "                        <td id=\"T_d728958a_66e2_11ea_8ea6_98e74379371frow3_col0\" class=\"data row3 col0\" >0.702534</td>\n",
       "                        <td id=\"T_d728958a_66e2_11ea_8ea6_98e74379371frow3_col1\" class=\"data row3 col1\" >0.733455</td>\n",
       "                        <td id=\"T_d728958a_66e2_11ea_8ea6_98e74379371frow3_col2\" class=\"data row3 col2\" >0.733063</td>\n",
       "                        <td id=\"T_d728958a_66e2_11ea_8ea6_98e74379371frow3_col3\" class=\"data row3 col3\" >1</td>\n",
       "                        <td id=\"T_d728958a_66e2_11ea_8ea6_98e74379371frow3_col4\" class=\"data row3 col4\" >0.748918</td>\n",
       "            </tr>\n",
       "            <tr>\n",
       "                        <th id=\"T_d728958a_66e2_11ea_8ea6_98e74379371flevel0_row4\" class=\"row_heading level0 row4\" >DEFAULT_FLAG_CHANGE_5</th>\n",
       "                        <td id=\"T_d728958a_66e2_11ea_8ea6_98e74379371frow4_col0\" class=\"data row4 col0\" >0.68275</td>\n",
       "                        <td id=\"T_d728958a_66e2_11ea_8ea6_98e74379371frow4_col1\" class=\"data row4 col1\" >0.700631</td>\n",
       "                        <td id=\"T_d728958a_66e2_11ea_8ea6_98e74379371frow4_col2\" class=\"data row4 col2\" >0.732875</td>\n",
       "                        <td id=\"T_d728958a_66e2_11ea_8ea6_98e74379371frow4_col3\" class=\"data row4 col3\" >0.748918</td>\n",
       "                        <td id=\"T_d728958a_66e2_11ea_8ea6_98e74379371frow4_col4\" class=\"data row4 col4\" >1</td>\n",
       "            </tr>\n",
       "    </tbody></table>"
      ],
      "text/plain": [
       "<pandas.io.formats.style.Styler at 0x197d48da940>"
      ]
     },
     "execution_count": 145,
     "metadata": {},
     "output_type": "execute_result"
    }
   ],
   "source": [
    "corr = df_final_test[[x for x in df_final_test.columns if 'DEFAULT' in x]].corr()\n",
    "corr.style.background_gradient(cmap='coolwarm')\n",
    "# 'RdBu_r' & 'BrBG' are other good diverging colormaps"
   ]
  },
  {
   "cell_type": "code",
   "execution_count": 142,
   "metadata": {},
   "outputs": [],
   "source": [
    "df_final_test.to_pickle(os.getcwd()+r\"\\Data Files\\emi_payment_scores_2019.pkl\")"
   ]
  },
  {
   "cell_type": "code",
   "execution_count": 146,
   "metadata": {},
   "outputs": [
    {
     "data": {
      "text/html": [
       "<div>\n",
       "<style scoped>\n",
       "    .dataframe tbody tr th:only-of-type {\n",
       "        vertical-align: middle;\n",
       "    }\n",
       "\n",
       "    .dataframe tbody tr th {\n",
       "        vertical-align: top;\n",
       "    }\n",
       "\n",
       "    .dataframe thead th {\n",
       "        text-align: right;\n",
       "    }\n",
       "</style>\n",
       "<table border=\"1\" class=\"dataframe\">\n",
       "  <thead>\n",
       "    <tr style=\"text-align: right;\">\n",
       "      <th></th>\n",
       "      <th>CUS_LAT</th>\n",
       "      <th>CUS_LONG</th>\n",
       "      <th>DEFAULT_FLAG_CHANGE_1</th>\n",
       "      <th>DEFAULT_FLAG_CHANGE_2</th>\n",
       "      <th>DEFAULT_FLAG_CHANGE_3</th>\n",
       "      <th>DEFAULT_FLAG_CHANGE_4</th>\n",
       "      <th>DEFAULT_FLAG_CHANGE_5</th>\n",
       "      <th>GRID_ID</th>\n",
       "      <th>MONTH_STR</th>\n",
       "      <th>NO_PAYMENT_CURRENT_PAYMENT_1</th>\n",
       "      <th>...</th>\n",
       "      <th>NTC_FLAG</th>\n",
       "      <th>RISK_FPD10</th>\n",
       "      <th>RISK_FPD30</th>\n",
       "      <th>RISK_FSPD30</th>\n",
       "      <th>RISK_FSTPD30</th>\n",
       "      <th>RISK_FSTQPD30</th>\n",
       "      <th>RISK_FSTQPD60</th>\n",
       "      <th>RISK_SCORE</th>\n",
       "      <th>SKP_CREDIT_CASE</th>\n",
       "      <th>TIME_DECISION_DATE</th>\n",
       "    </tr>\n",
       "  </thead>\n",
       "  <tbody>\n",
       "    <tr>\n",
       "      <th>0</th>\n",
       "      <td>30.867149</td>\n",
       "      <td>75.930356</td>\n",
       "      <td>0.455882</td>\n",
       "      <td>NaN</td>\n",
       "      <td>NaN</td>\n",
       "      <td>NaN</td>\n",
       "      <td>NaN</td>\n",
       "      <td>500_01611_05161</td>\n",
       "      <td>2019-02</td>\n",
       "      <td>0.441595</td>\n",
       "      <td>...</td>\n",
       "      <td>NTC</td>\n",
       "      <td>0.0</td>\n",
       "      <td>0.0</td>\n",
       "      <td>0.0</td>\n",
       "      <td>0.0</td>\n",
       "      <td>0.0</td>\n",
       "      <td>0.0</td>\n",
       "      <td>0.128722</td>\n",
       "      <td>223799321</td>\n",
       "      <td>2019-02-01</td>\n",
       "    </tr>\n",
       "    <tr>\n",
       "      <th>1</th>\n",
       "      <td>9.949001</td>\n",
       "      <td>76.322291</td>\n",
       "      <td>0.367647</td>\n",
       "      <td>NaN</td>\n",
       "      <td>NaN</td>\n",
       "      <td>NaN</td>\n",
       "      <td>NaN</td>\n",
       "      <td>500_01565_00585</td>\n",
       "      <td>2019-02</td>\n",
       "      <td>0.547009</td>\n",
       "      <td>...</td>\n",
       "      <td>Others</td>\n",
       "      <td>0.0</td>\n",
       "      <td>0.0</td>\n",
       "      <td>0.0</td>\n",
       "      <td>0.0</td>\n",
       "      <td>0.0</td>\n",
       "      <td>0.0</td>\n",
       "      <td>NaN</td>\n",
       "      <td>223801408</td>\n",
       "      <td>2019-02-01</td>\n",
       "    </tr>\n",
       "    <tr>\n",
       "      <th>2</th>\n",
       "      <td>22.301551</td>\n",
       "      <td>70.826877</td>\n",
       "      <td>0.426471</td>\n",
       "      <td>NaN</td>\n",
       "      <td>NaN</td>\n",
       "      <td>NaN</td>\n",
       "      <td>NaN</td>\n",
       "      <td>500_00526_03345</td>\n",
       "      <td>2019-02</td>\n",
       "      <td>0.421652</td>\n",
       "      <td>...</td>\n",
       "      <td>Others</td>\n",
       "      <td>0.0</td>\n",
       "      <td>0.0</td>\n",
       "      <td>0.0</td>\n",
       "      <td>0.0</td>\n",
       "      <td>0.0</td>\n",
       "      <td>0.0</td>\n",
       "      <td>NaN</td>\n",
       "      <td>223889993</td>\n",
       "      <td>2019-02-01</td>\n",
       "    </tr>\n",
       "    <tr>\n",
       "      <th>3</th>\n",
       "      <td>28.569622</td>\n",
       "      <td>77.286007</td>\n",
       "      <td>0.580882</td>\n",
       "      <td>NaN</td>\n",
       "      <td>NaN</td>\n",
       "      <td>NaN</td>\n",
       "      <td>NaN</td>\n",
       "      <td>500_01857_04652</td>\n",
       "      <td>2019-02</td>\n",
       "      <td>0.481481</td>\n",
       "      <td>...</td>\n",
       "      <td>NTC</td>\n",
       "      <td>0.0</td>\n",
       "      <td>0.0</td>\n",
       "      <td>0.0</td>\n",
       "      <td>0.0</td>\n",
       "      <td>0.0</td>\n",
       "      <td>0.0</td>\n",
       "      <td>0.202042</td>\n",
       "      <td>223889994</td>\n",
       "      <td>2019-02-01</td>\n",
       "    </tr>\n",
       "    <tr>\n",
       "      <th>4</th>\n",
       "      <td>23.204827</td>\n",
       "      <td>77.442296</td>\n",
       "      <td>0.389706</td>\n",
       "      <td>NaN</td>\n",
       "      <td>NaN</td>\n",
       "      <td>NaN</td>\n",
       "      <td>NaN</td>\n",
       "      <td>500_01866_03485</td>\n",
       "      <td>2019-02</td>\n",
       "      <td>0.635328</td>\n",
       "      <td>...</td>\n",
       "      <td>NTC</td>\n",
       "      <td>0.0</td>\n",
       "      <td>0.0</td>\n",
       "      <td>0.0</td>\n",
       "      <td>0.0</td>\n",
       "      <td>0.0</td>\n",
       "      <td>0.0</td>\n",
       "      <td>NaN</td>\n",
       "      <td>223889995</td>\n",
       "      <td>2019-02-01</td>\n",
       "    </tr>\n",
       "  </tbody>\n",
       "</table>\n",
       "<p>5 rows × 24 columns</p>\n",
       "</div>"
      ],
      "text/plain": [
       "     CUS_LAT   CUS_LONG  DEFAULT_FLAG_CHANGE_1  DEFAULT_FLAG_CHANGE_2  \\\n",
       "0  30.867149  75.930356               0.455882                    NaN   \n",
       "1   9.949001  76.322291               0.367647                    NaN   \n",
       "2  22.301551  70.826877               0.426471                    NaN   \n",
       "3  28.569622  77.286007               0.580882                    NaN   \n",
       "4  23.204827  77.442296               0.389706                    NaN   \n",
       "\n",
       "   DEFAULT_FLAG_CHANGE_3  DEFAULT_FLAG_CHANGE_4  DEFAULT_FLAG_CHANGE_5  \\\n",
       "0                    NaN                    NaN                    NaN   \n",
       "1                    NaN                    NaN                    NaN   \n",
       "2                    NaN                    NaN                    NaN   \n",
       "3                    NaN                    NaN                    NaN   \n",
       "4                    NaN                    NaN                    NaN   \n",
       "\n",
       "           GRID_ID MONTH_STR  NO_PAYMENT_CURRENT_PAYMENT_1  ...  NTC_FLAG  \\\n",
       "0  500_01611_05161   2019-02                      0.441595  ...       NTC   \n",
       "1  500_01565_00585   2019-02                      0.547009  ...    Others   \n",
       "2  500_00526_03345   2019-02                      0.421652  ...    Others   \n",
       "3  500_01857_04652   2019-02                      0.481481  ...       NTC   \n",
       "4  500_01866_03485   2019-02                      0.635328  ...       NTC   \n",
       "\n",
       "   RISK_FPD10  RISK_FPD30  RISK_FSPD30 RISK_FSTPD30  RISK_FSTQPD30  \\\n",
       "0         0.0         0.0          0.0          0.0            0.0   \n",
       "1         0.0         0.0          0.0          0.0            0.0   \n",
       "2         0.0         0.0          0.0          0.0            0.0   \n",
       "3         0.0         0.0          0.0          0.0            0.0   \n",
       "4         0.0         0.0          0.0          0.0            0.0   \n",
       "\n",
       "   RISK_FSTQPD60  RISK_SCORE  SKP_CREDIT_CASE  TIME_DECISION_DATE  \n",
       "0            0.0    0.128722        223799321          2019-02-01  \n",
       "1            0.0         NaN        223801408          2019-02-01  \n",
       "2            0.0         NaN        223889993          2019-02-01  \n",
       "3            0.0    0.202042        223889994          2019-02-01  \n",
       "4            0.0         NaN        223889995          2019-02-01  \n",
       "\n",
       "[5 rows x 24 columns]"
      ]
     },
     "execution_count": 146,
     "metadata": {},
     "output_type": "execute_result"
    }
   ],
   "source": [
    "df_final_test.head()"
   ]
  },
  {
   "cell_type": "markdown",
   "metadata": {},
   "source": [
    "# Generate grid based scores for selected variables"
   ]
  },
  {
   "cell_type": "code",
   "execution_count": 212,
   "metadata": {},
   "outputs": [],
   "source": [
    "selected_list =['NO_PAYMENT_CURRENT_PAYMENT_1', 'DEFAULT_FLAG_CHANGE_1', 'RISK_FSTQPD30_SCORE', 'RISK_FSPD30_MM_SCORE']"
   ]
  },
  {
   "cell_type": "code",
   "execution_count": 213,
   "metadata": {},
   "outputs": [
    {
     "data": {
      "text/plain": [
       "False"
      ]
     },
     "execution_count": 213,
     "metadata": {},
     "output_type": "execute_result"
    }
   ],
   "source": [
    "'LOGIT_NO_PAYMENT_CURRENT_PAYMENT_1' in selected_list"
   ]
  },
  {
   "cell_type": "code",
   "execution_count": 317,
   "metadata": {},
   "outputs": [],
   "source": [
    "hyper_df= pd.read_csv(os.getcwd()+r\"\\Data Files\\Hyperparameters.csv\")\n",
    "df = pd.read_csv(os.getcwd()+r\"\\Data Files\\final_grids.csv\")\n",
    "df[\"TIME_DECISION_DATE\"]=pd.to_datetime(df[\"TIME_DECISION_DATE\"],format = '%d-%m-%y')"
   ]
  },
  {
   "cell_type": "code",
   "execution_count": 318,
   "metadata": {},
   "outputs": [
    {
     "name": "stderr",
     "output_type": "stream",
     "text": [
      "C:\\Users\\aman.khatri91425\\AppData\\Local\\Continuum\\anaconda3\\lib\\site-packages\\ipykernel_launcher.py:50: SettingWithCopyWarning: \n",
      "A value is trying to be set on a copy of a slice from a DataFrame.\n",
      "Try using .loc[row_indexer,col_indexer] = value instead\n",
      "\n",
      "See the caveats in the documentation: http://pandas.pydata.org/pandas-docs/stable/indexing.html#indexing-view-versus-copy\n"
     ]
    },
    {
     "name": "stdout",
     "output_type": "stream",
     "text": [
      "Training for predicting (month): 1  SCORE: RISK_FPD10_SCORE  target: RISK_FPD10  K: 271  observation_window: 365  performance_window: 40  downsample_size: 150000  GINI TRAIN: 16.27%     GINI TEST: 12.03%  time taken:  0.83\n",
      "Training for predicting (month): 1  SCORE: RISK_FPD30_SCORE  target: RISK_FPD30  K: 136  observation_window: 365  performance_window: 60  downsample_size: 50000  GINI TRAIN: 21.67%     GINI TEST: 15.14%  time taken:  0.28\n",
      "Training for predicting (month): 1  SCORE: RISK_FSPD30_SCORE  target: RISK_FSPD30  K: 201  observation_window: 365  performance_window: 90  downsample_size: 100000  GINI TRAIN: 19.45%     GINI TEST: 14.66%  time taken:  0.52\n",
      "Training for predicting (month): 1  SCORE: RISK_FSTPD30_SCORE  target: RISK_FSTPD30  K: 191  observation_window: 365  performance_window: 120  downsample_size: 175000  GINI TRAIN: 18.82%     GINI TEST: 13.06%  time taken:  0.67\n",
      "Training for predicting (month): 1  SCORE: RISK_FSTQPD30_SCORE  target: RISK_FSTQPD30  K: 376  observation_window: 365  performance_window: 150  downsample_size: 300000  GINI TRAIN: 15.34%     GINI TEST: 11.00%  time taken:  1.9\n",
      "Training for predicting (month): 1  SCORE: RISK_FPD10_MM_SCORE  target: RISK_FPD10  K: 241  observation_window: 110  performance_window: 40  downsample_size: 50000  GINI TRAIN: 18.33%     GINI TEST: 10.94%  time taken:  0.48\n",
      "Training for predicting (month): 1  SCORE: RISK_FPD30_MM_SCORE  target: RISK_FPD30  K: 66  observation_window: 90  performance_window: 60  downsample_size: 15000  GINI TRAIN: 25.17%     GINI TEST: 13.62%  time taken:  0.12\n",
      "Training for predicting (month): 1  SCORE: RISK_FSPD30_MM_SCORE  target: RISK_FSPD30  K: 96  observation_window: 60  performance_window: 90  downsample_size: 20000  GINI TRAIN: 21.11%     GINI TEST: 12.38%  time taken:  0.17\n",
      "Training for predicting (month): 1  SCORE: RISK_FSTPD30_MM_SCORE  target: RISK_FSTPD30  K: 206  observation_window: 30  performance_window: 120  downsample_size: 15000  GINI TRAIN: 17.46%     GINI TEST: 9.68%  time taken:  0.35\n"
     ]
    },
    {
     "name": "stderr",
     "output_type": "stream",
     "text": [
      "C:\\Users\\aman.khatri91425\\AppData\\Local\\Continuum\\anaconda3\\lib\\site-packages\\ipykernel_launcher.py:50: SettingWithCopyWarning: \n",
      "A value is trying to be set on a copy of a slice from a DataFrame.\n",
      "Try using .loc[row_indexer,col_indexer] = value instead\n",
      "\n",
      "See the caveats in the documentation: http://pandas.pydata.org/pandas-docs/stable/indexing.html#indexing-view-versus-copy\n"
     ]
    },
    {
     "name": "stdout",
     "output_type": "stream",
     "text": [
      "Training for predicting (month): 2  SCORE: RISK_FPD10_SCORE  target: RISK_FPD10  K: 271  observation_window: 365  performance_window: 40  downsample_size: 150000  GINI TRAIN: 16.26%     GINI TEST: 12.08%  time taken:  0.8\n",
      "Training for predicting (month): 2  SCORE: RISK_FPD30_SCORE  target: RISK_FPD30  K: 136  observation_window: 365  performance_window: 60  downsample_size: 50000  GINI TRAIN: 21.98%     GINI TEST: 17.80%  time taken:  0.25\n",
      "Training for predicting (month): 2  SCORE: RISK_FSPD30_SCORE  target: RISK_FSPD30  K: 201  observation_window: 365  performance_window: 90  downsample_size: 100000  GINI TRAIN: 19.24%     GINI TEST: 15.93%  time taken:  0.47\n",
      "Training for predicting (month): 2  SCORE: RISK_FSTPD30_SCORE  target: RISK_FSTPD30  K: 191  observation_window: 365  performance_window: 120  downsample_size: 175000  GINI TRAIN: 18.73%     GINI TEST: 13.96%  time taken:  0.62\n",
      "Training for predicting (month): 2  SCORE: RISK_FSTQPD30_SCORE  target: RISK_FSTQPD30  K: 376  observation_window: 365  performance_window: 150  downsample_size: 300000  GINI TRAIN: 15.25%     GINI TEST: 10.81%  time taken:  1.8\n",
      "Training for predicting (month): 2  SCORE: RISK_FPD10_MM_SCORE  target: RISK_FPD10  K: 241  observation_window: 110  performance_window: 40  downsample_size: 50000  GINI TRAIN: 16.52%     GINI TEST: 11.38%  time taken:  0.43\n",
      "Training for predicting (month): 2  SCORE: RISK_FPD30_MM_SCORE  target: RISK_FPD30  K: 66  observation_window: 90  performance_window: 60  downsample_size: 15000  GINI TRAIN: 23.95%     GINI TEST: 16.11%  time taken:  0.1\n",
      "Training for predicting (month): 2  SCORE: RISK_FSPD30_MM_SCORE  target: RISK_FSPD30  K: 96  observation_window: 60  performance_window: 90  downsample_size: 20000  GINI TRAIN: 20.55%     GINI TEST: 13.12%  time taken:  0.15\n",
      "Training for predicting (month): 2  SCORE: RISK_FSTPD30_MM_SCORE  target: RISK_FSTPD30  K: 206  observation_window: 30  performance_window: 120  downsample_size: 15000  GINI TRAIN: 16.22%     GINI TEST: 10.40%  time taken:  0.3\n"
     ]
    },
    {
     "name": "stderr",
     "output_type": "stream",
     "text": [
      "C:\\Users\\aman.khatri91425\\AppData\\Local\\Continuum\\anaconda3\\lib\\site-packages\\ipykernel_launcher.py:50: SettingWithCopyWarning: \n",
      "A value is trying to be set on a copy of a slice from a DataFrame.\n",
      "Try using .loc[row_indexer,col_indexer] = value instead\n",
      "\n",
      "See the caveats in the documentation: http://pandas.pydata.org/pandas-docs/stable/indexing.html#indexing-view-versus-copy\n"
     ]
    },
    {
     "name": "stdout",
     "output_type": "stream",
     "text": [
      "Training for predicting (month): 3  SCORE: RISK_FPD10_SCORE  target: RISK_FPD10  K: 271  observation_window: 365  performance_window: 40  downsample_size: 150000  GINI TRAIN: 16.21%     GINI TEST: 13.75%  time taken:  0.82\n",
      "Training for predicting (month): 3  SCORE: RISK_FPD30_SCORE  target: RISK_FPD30  K: 136  observation_window: 365  performance_window: 60  downsample_size: 50000  GINI TRAIN: 22.06%     GINI TEST: 17.95%  time taken:  0.28\n",
      "Training for predicting (month): 3  SCORE: RISK_FSPD30_SCORE  target: RISK_FSPD30  K: 201  observation_window: 365  performance_window: 90  downsample_size: 100000  GINI TRAIN: 19.07%     GINI TEST: 14.93%  time taken:  0.5\n",
      "Training for predicting (month): 3  SCORE: RISK_FSTPD30_SCORE  target: RISK_FSTPD30  K: 191  observation_window: 365  performance_window: 120  downsample_size: 175000  GINI TRAIN: 18.66%     GINI TEST: 12.66%  time taken:  0.63\n",
      "Training for predicting (month): 3  SCORE: RISK_FSTQPD30_SCORE  target: RISK_FSTQPD30  K: 376  observation_window: 365  performance_window: 150  downsample_size: 300000  GINI TRAIN: 15.33%     GINI TEST: 10.74%  time taken:  1.9\n",
      "Training for predicting (month): 3  SCORE: RISK_FPD10_MM_SCORE  target: RISK_FPD10  K: 241  observation_window: 110  performance_window: 40  downsample_size: 50000  GINI TRAIN: 16.18%     GINI TEST: 12.67%  time taken:  0.45\n",
      "Training for predicting (month): 3  SCORE: RISK_FPD30_MM_SCORE  target: RISK_FPD30  K: 66  observation_window: 90  performance_window: 60  downsample_size: 15000  GINI TRAIN: 24.55%     GINI TEST: 15.00%  time taken:  0.1\n",
      "Training for predicting (month): 3  SCORE: RISK_FSPD30_MM_SCORE  target: RISK_FSPD30  K: 96  observation_window: 60  performance_window: 90  downsample_size: 20000  GINI TRAIN: 20.96%     GINI TEST: 12.31%  time taken:  0.15\n",
      "Training for predicting (month): 3  SCORE: RISK_FSTPD30_MM_SCORE  target: RISK_FSTPD30  K: 206  observation_window: 30  performance_window: 120  downsample_size: 15000  GINI TRAIN: 16.13%     GINI TEST: 9.79%  time taken:  0.33\n"
     ]
    },
    {
     "name": "stderr",
     "output_type": "stream",
     "text": [
      "C:\\Users\\aman.khatri91425\\AppData\\Local\\Continuum\\anaconda3\\lib\\site-packages\\ipykernel_launcher.py:50: SettingWithCopyWarning: \n",
      "A value is trying to be set on a copy of a slice from a DataFrame.\n",
      "Try using .loc[row_indexer,col_indexer] = value instead\n",
      "\n",
      "See the caveats in the documentation: http://pandas.pydata.org/pandas-docs/stable/indexing.html#indexing-view-versus-copy\n"
     ]
    },
    {
     "name": "stdout",
     "output_type": "stream",
     "text": [
      "Training for predicting (month): 4  SCORE: RISK_FPD10_SCORE  target: RISK_FPD10  K: 271  observation_window: 365  performance_window: 40  downsample_size: 150000  GINI TRAIN: 16.30%     GINI TEST: 13.56%  time taken:  0.78\n",
      "Training for predicting (month): 4  SCORE: RISK_FPD30_SCORE  target: RISK_FPD30  K: 136  observation_window: 365  performance_window: 60  downsample_size: 50000  GINI TRAIN: 21.48%     GINI TEST: 16.90%  time taken:  0.27\n",
      "Training for predicting (month): 4  SCORE: RISK_FSPD30_SCORE  target: RISK_FSPD30  K: 201  observation_window: 365  performance_window: 90  downsample_size: 100000  GINI TRAIN: 19.28%     GINI TEST: 15.31%  time taken:  0.48\n",
      "Training for predicting (month): 4  SCORE: RISK_FSTPD30_SCORE  target: RISK_FSTPD30  K: 191  observation_window: 365  performance_window: 120  downsample_size: 175000  GINI TRAIN: 18.28%     GINI TEST: 12.61%  time taken:  0.63\n",
      "Training for predicting (month): 4  SCORE: RISK_FSTQPD30_SCORE  target: RISK_FSTQPD30  K: 376  observation_window: 365  performance_window: 150  downsample_size: 300000  GINI TRAIN: 15.09%     GINI TEST: 10.68%  time taken:  1.8\n",
      "Training for predicting (month): 4  SCORE: RISK_FPD10_MM_SCORE  target: RISK_FPD10  K: 241  observation_window: 110  performance_window: 40  downsample_size: 50000  GINI TRAIN: 16.52%     GINI TEST: 12.82%  time taken:  0.45\n",
      "Training for predicting (month): 4  SCORE: RISK_FPD30_MM_SCORE  target: RISK_FPD30  K: 66  observation_window: 90  performance_window: 60  downsample_size: 15000  GINI TRAIN: 23.71%     GINI TEST: 12.79%  time taken:  0.1\n",
      "Training for predicting (month): 4  SCORE: RISK_FSPD30_MM_SCORE  target: RISK_FSPD30  K: 96  observation_window: 60  performance_window: 90  downsample_size: 20000  GINI TRAIN: 21.87%     GINI TEST: 13.42%  time taken:  0.15\n",
      "Training for predicting (month): 4  SCORE: RISK_FSTPD30_MM_SCORE  target: RISK_FSTPD30  K: 206  observation_window: 30  performance_window: 120  downsample_size: 15000  GINI TRAIN: 17.89%     GINI TEST: 8.67%  time taken:  0.32\n"
     ]
    },
    {
     "name": "stderr",
     "output_type": "stream",
     "text": [
      "C:\\Users\\aman.khatri91425\\AppData\\Local\\Continuum\\anaconda3\\lib\\site-packages\\ipykernel_launcher.py:50: SettingWithCopyWarning: \n",
      "A value is trying to be set on a copy of a slice from a DataFrame.\n",
      "Try using .loc[row_indexer,col_indexer] = value instead\n",
      "\n",
      "See the caveats in the documentation: http://pandas.pydata.org/pandas-docs/stable/indexing.html#indexing-view-versus-copy\n"
     ]
    },
    {
     "name": "stdout",
     "output_type": "stream",
     "text": [
      "Training for predicting (month): 5  SCORE: RISK_FPD10_SCORE  target: RISK_FPD10  K: 271  observation_window: 365  performance_window: 40  downsample_size: 150000  GINI TRAIN: 16.49%     GINI TEST: 11.24%  time taken:  0.78\n",
      "Training for predicting (month): 5  SCORE: RISK_FPD30_SCORE  target: RISK_FPD30  K: 136  observation_window: 365  performance_window: 60  downsample_size: 50000  GINI TRAIN: 21.72%     GINI TEST: 16.23%  time taken:  0.27\n",
      "Training for predicting (month): 5  SCORE: RISK_FSPD30_SCORE  target: RISK_FSPD30  K: 201  observation_window: 365  performance_window: 90  downsample_size: 100000  GINI TRAIN: 19.39%     GINI TEST: 14.51%  time taken:  0.47\n",
      "Training for predicting (month): 5  SCORE: RISK_FSTPD30_SCORE  target: RISK_FSTPD30  K: 191  observation_window: 365  performance_window: 120  downsample_size: 175000  GINI TRAIN: 18.33%     GINI TEST: 11.49%  time taken:  0.62\n",
      "Training for predicting (month): 5  SCORE: RISK_FSTQPD30_SCORE  target: RISK_FSTQPD30  K: 376  observation_window: 365  performance_window: 150  downsample_size: 300000  GINI TRAIN: 15.10%     GINI TEST: 9.85%  time taken:  1.8\n",
      "Training for predicting (month): 5  SCORE: RISK_FPD10_MM_SCORE  target: RISK_FPD10  K: 241  observation_window: 110  performance_window: 40  downsample_size: 50000  GINI TRAIN: 16.85%     GINI TEST: 11.99%  time taken:  0.48\n",
      "Training for predicting (month): 5  SCORE: RISK_FPD30_MM_SCORE  target: RISK_FPD30  K: 66  observation_window: 90  performance_window: 60  downsample_size: 15000  GINI TRAIN: 25.33%     GINI TEST: 13.36%  time taken:  0.1\n",
      "Training for predicting (month): 5  SCORE: RISK_FSPD30_MM_SCORE  target: RISK_FSPD30  K: 96  observation_window: 60  performance_window: 90  downsample_size: 20000  GINI TRAIN: 21.55%     GINI TEST: 10.30%  time taken:  0.17\n",
      "Training for predicting (month): 5  SCORE: RISK_FSTPD30_MM_SCORE  target: RISK_FSTPD30  K: 206  observation_window: 30  performance_window: 120  downsample_size: 15000  GINI TRAIN: 16.54%     GINI TEST: 8.63%  time taken:  0.32\n"
     ]
    },
    {
     "name": "stderr",
     "output_type": "stream",
     "text": [
      "C:\\Users\\aman.khatri91425\\AppData\\Local\\Continuum\\anaconda3\\lib\\site-packages\\ipykernel_launcher.py:50: SettingWithCopyWarning: \n",
      "A value is trying to be set on a copy of a slice from a DataFrame.\n",
      "Try using .loc[row_indexer,col_indexer] = value instead\n",
      "\n",
      "See the caveats in the documentation: http://pandas.pydata.org/pandas-docs/stable/indexing.html#indexing-view-versus-copy\n"
     ]
    },
    {
     "name": "stdout",
     "output_type": "stream",
     "text": [
      "Training for predicting (month): 6  SCORE: RISK_FPD10_SCORE  target: RISK_FPD10  K: 271  observation_window: 365  performance_window: 40  downsample_size: 150000  GINI TRAIN: 17.21%     GINI TEST: 10.65%  time taken:  0.82\n",
      "Training for predicting (month): 6  SCORE: RISK_FPD30_SCORE  target: RISK_FPD30  K: 136  observation_window: 365  performance_window: 60  downsample_size: 50000  GINI TRAIN: 22.14%     GINI TEST: 15.17%  time taken:  0.27\n",
      "Training for predicting (month): 6  SCORE: RISK_FSPD30_SCORE  target: RISK_FSPD30  K: 201  observation_window: 365  performance_window: 90  downsample_size: 100000  GINI TRAIN: 19.56%     GINI TEST: 12.94%  time taken:  0.48\n",
      "Training for predicting (month): 6  SCORE: RISK_FSTPD30_SCORE  target: RISK_FSTPD30  K: 191  observation_window: 365  performance_window: 120  downsample_size: 175000  GINI TRAIN: 18.56%     GINI TEST: 10.40%  time taken:  0.65\n",
      "Training for predicting (month): 6  SCORE: RISK_FSTQPD30_SCORE  target: RISK_FSTQPD30  K: 376  observation_window: 365  performance_window: 150  downsample_size: 300000  GINI TRAIN: 15.28%     GINI TEST: 9.43%  time taken:  1.9\n",
      "Training for predicting (month): 6  SCORE: RISK_FPD10_MM_SCORE  target: RISK_FPD10  K: 241  observation_window: 110  performance_window: 40  downsample_size: 50000  GINI TRAIN: 17.68%     GINI TEST: 10.54%  time taken:  0.43\n",
      "Training for predicting (month): 6  SCORE: RISK_FPD30_MM_SCORE  target: RISK_FPD30  K: 66  observation_window: 90  performance_window: 60  downsample_size: 15000  GINI TRAIN: 26.08%     GINI TEST: 12.48%  time taken:  0.1\n",
      "Training for predicting (month): 6  SCORE: RISK_FSPD30_MM_SCORE  target: RISK_FSPD30  K: 96  observation_window: 60  performance_window: 90  downsample_size: 20000  GINI TRAIN: 22.48%     GINI TEST: 10.60%  time taken:  0.15\n",
      "Training for predicting (month): 6  SCORE: RISK_FSTPD30_MM_SCORE  target: RISK_FSTPD30  K: 206  observation_window: 30  performance_window: 120  downsample_size: 15000  GINI TRAIN: 16.66%     GINI TEST: 7.38%  time taken:  0.32\n"
     ]
    },
    {
     "name": "stderr",
     "output_type": "stream",
     "text": [
      "C:\\Users\\aman.khatri91425\\AppData\\Local\\Continuum\\anaconda3\\lib\\site-packages\\ipykernel_launcher.py:50: SettingWithCopyWarning: \n",
      "A value is trying to be set on a copy of a slice from a DataFrame.\n",
      "Try using .loc[row_indexer,col_indexer] = value instead\n",
      "\n",
      "See the caveats in the documentation: http://pandas.pydata.org/pandas-docs/stable/indexing.html#indexing-view-versus-copy\n"
     ]
    },
    {
     "name": "stdout",
     "output_type": "stream",
     "text": [
      "Training for predicting (month): 7  SCORE: RISK_FPD10_SCORE  target: RISK_FPD10  K: 271  observation_window: 365  performance_window: 40  downsample_size: 150000  GINI TRAIN: 17.37%     GINI TEST: 8.34%  time taken:  0.8\n",
      "Training for predicting (month): 7  SCORE: RISK_FPD30_SCORE  target: RISK_FPD30  K: 136  observation_window: 365  performance_window: 60  downsample_size: 50000  GINI TRAIN: 22.83%     GINI TEST: 13.21%  time taken:  0.27\n",
      "Training for predicting (month): 7  SCORE: RISK_FSPD30_SCORE  target: RISK_FSPD30  K: 201  observation_window: 365  performance_window: 90  downsample_size: 100000  GINI TRAIN: 20.18%     GINI TEST: 10.70%  time taken:  0.48\n",
      "Training for predicting (month): 7  SCORE: RISK_FSTPD30_SCORE  target: RISK_FSTPD30  K: 191  observation_window: 365  performance_window: 120  downsample_size: 175000  GINI TRAIN: 19.20%     GINI TEST: 8.65%  time taken:  0.63\n",
      "Training for predicting (month): 7  SCORE: RISK_FSTQPD30_SCORE  target: RISK_FSTQPD30  K: 376  observation_window: 365  performance_window: 150  downsample_size: 300000  GINI TRAIN: 15.29%     GINI TEST: 8.66%  time taken:  1.9\n",
      "Training for predicting (month): 7  SCORE: RISK_FPD10_MM_SCORE  target: RISK_FPD10  K: 241  observation_window: 110  performance_window: 40  downsample_size: 50000  GINI TRAIN: 18.13%     GINI TEST: 7.88%  time taken:  0.43\n",
      "Training for predicting (month): 7  SCORE: RISK_FPD30_MM_SCORE  target: RISK_FPD30  K: 66  observation_window: 90  performance_window: 60  downsample_size: 15000  GINI TRAIN: 27.20%     GINI TEST: 10.81%  time taken:  0.1\n",
      "Training for predicting (month): 7  SCORE: RISK_FSPD30_MM_SCORE  target: RISK_FSPD30  K: 96  observation_window: 60  performance_window: 90  downsample_size: 20000  GINI TRAIN: 23.13%     GINI TEST: 7.62%  time taken:  0.15\n",
      "Training for predicting (month): 7  SCORE: RISK_FSTPD30_MM_SCORE  target: RISK_FSTPD30  K: 206  observation_window: 30  performance_window: 120  downsample_size: 15000  GINI TRAIN: 19.04%     GINI TEST: 6.83%  time taken:  0.32\n"
     ]
    },
    {
     "name": "stderr",
     "output_type": "stream",
     "text": [
      "C:\\Users\\aman.khatri91425\\AppData\\Local\\Continuum\\anaconda3\\lib\\site-packages\\ipykernel_launcher.py:50: SettingWithCopyWarning: \n",
      "A value is trying to be set on a copy of a slice from a DataFrame.\n",
      "Try using .loc[row_indexer,col_indexer] = value instead\n",
      "\n",
      "See the caveats in the documentation: http://pandas.pydata.org/pandas-docs/stable/indexing.html#indexing-view-versus-copy\n"
     ]
    },
    {
     "name": "stdout",
     "output_type": "stream",
     "text": [
      "Training for predicting (month): 8  SCORE: RISK_FPD10_SCORE  target: RISK_FPD10  K: 271  observation_window: 365  performance_window: 40  downsample_size: 150000  GINI TRAIN: 17.39%     GINI TEST: 10.64%  time taken:  0.82\n",
      "Training for predicting (month): 8  SCORE: RISK_FPD30_SCORE  target: RISK_FPD30  K: 136  observation_window: 365  performance_window: 60  downsample_size: 50000  GINI TRAIN: 22.43%     GINI TEST: 13.26%  time taken:  0.27\n",
      "Training for predicting (month): 8  SCORE: RISK_FSPD30_SCORE  target: RISK_FSPD30  K: 201  observation_window: 365  performance_window: 90  downsample_size: 100000  GINI TRAIN: 19.89%     GINI TEST: 11.97%  time taken:  0.5\n",
      "Training for predicting (month): 8  SCORE: RISK_FSTPD30_SCORE  target: RISK_FSTPD30  K: 191  observation_window: 365  performance_window: 120  downsample_size: 175000  GINI TRAIN: 19.29%     GINI TEST: 10.56%  time taken:  0.65\n",
      "Training for predicting (month): 8  SCORE: RISK_FSTQPD30_SCORE  target: RISK_FSTQPD30  K: 376  observation_window: 365  performance_window: 150  downsample_size: 300000  GINI TRAIN: 15.64%     GINI TEST: 9.34%  time taken:  1.9\n",
      "Training for predicting (month): 8  SCORE: RISK_FPD10_MM_SCORE  target: RISK_FPD10  K: 241  observation_window: 110  performance_window: 40  downsample_size: 50000  GINI TRAIN: 17.82%     GINI TEST: 9.91%  time taken:  0.45\n",
      "Training for predicting (month): 8  SCORE: RISK_FPD30_MM_SCORE  target: RISK_FPD30  K: 66  observation_window: 90  performance_window: 60  downsample_size: 15000  GINI TRAIN: 27.60%     GINI TEST: 12.45%  time taken:  0.1\n",
      "Training for predicting (month): 8  SCORE: RISK_FSPD30_MM_SCORE  target: RISK_FSPD30  K: 96  observation_window: 60  performance_window: 90  downsample_size: 20000  GINI TRAIN: 23.00%     GINI TEST: 9.91%  time taken:  0.15\n",
      "Training for predicting (month): 8  SCORE: RISK_FSTPD30_MM_SCORE  target: RISK_FSTPD30  K: 206  observation_window: 30  performance_window: 120  downsample_size: 15000  GINI TRAIN: 16.74%     GINI TEST: 8.47%  time taken:  0.32\n"
     ]
    }
   ],
   "source": [
    "import datetime\n",
    "from sklearn.neighbors import KNeighborsClassifier\n",
    "\n",
    "df_final_test = pd.DataFrame()\n",
    "\n",
    "for x in np.arange(1,9,1):\n",
    "    date_test_start = datetime.datetime(2019, x, 1)\n",
    "    date_test_end = (date_test_start +  datetime.timedelta(days=31)).replace(day=1)\n",
    "    df_test = df[(df[\"TIME_DECISION_DATE\"]>=date_test_start) & \n",
    "                      (df[\"TIME_DECISION_DATE\"]<date_test_end)]\n",
    "\n",
    "    for y in hyper_df.index:\n",
    "#         if hyper_df.loc[y,'SCORE_NAME'] in selected_list:\n",
    "        if True:\n",
    "            score_name = hyper_df.loc[y,'SCORE_NAME']\n",
    "            target = hyper_df.loc[y,'TARGET']\n",
    "            K = hyper_df.loc[y,'K']\n",
    "            observation_window = hyper_df.loc[y,'OBSERVATION_WINDOW']\n",
    "            performance_window = hyper_df.loc[y,'PERFORMANCE_WINDOW']\n",
    "            downsample_size = hyper_df.loc[y,'DOWNSAMPLE_SIZE']\n",
    "            fillna = hyper_df.loc[y,'FILLNA']\n",
    "\n",
    "            date_train_start = (date_test_start-datetime.timedelta(days=int(performance_window))-datetime.timedelta(days=int(observation_window))) \n",
    "            date_train_end = (date_test_start-datetime.timedelta(days=int(performance_window)))\n",
    "            start_time = datetime.datetime.now()\n",
    "            df_train = df[(df[\"TIME_DECISION_DATE\"]>=date_train_start) & \n",
    "                      (df[\"TIME_DECISION_DATE\"]<date_train_end)]\n",
    "\n",
    "            df_class_0 = df_train[df_train[target] == 0]\n",
    "            df_class_1 = df_train[df_train[target] == 1]\n",
    "            df_class_0_under = df_class_0.sample(min(downsample_size,df_class_1.shape[0]))\n",
    "            df_class_1_under = df_class_1.sample(min(downsample_size,df_class_1.shape[0]))\n",
    "            df_train_under = pd.concat([df_class_0_under, df_class_1_under], axis=0)\n",
    "\n",
    "            X_train = df_train_under[[\"CUS_LAT\",\"CUS_LONG\"]]\n",
    "            X_test = df_test[[\"CUS_LAT\",\"CUS_LONG\"]]\n",
    "            y_train = df_train_under[target]\n",
    "            y_test =  df_test[target]\n",
    "\n",
    "            knn = KNeighborsClassifier(n_neighbors = K)\n",
    "            bst = knn.fit(X_train[[\"CUS_LAT\",\"CUS_LONG\"]], np.ravel(y_train))\n",
    "\n",
    "            ypred_train = bst.predict_proba(X_train[[\"CUS_LAT\",\"CUS_LONG\"]])[:, 1]\n",
    "            ypred_test = bst.predict_proba(X_test[[\"CUS_LAT\",\"CUS_LONG\"]])[:, 1]\n",
    "            metric_auc_train = metrics.roc_auc_score(y_train, ypred_train)\n",
    "            metric_auc_test = metrics.roc_auc_score(y_test, ypred_test)\n",
    "            gini_train = 2 * metric_auc_train - 1\n",
    "            gini_test = 2 * metric_auc_test - 1\n",
    "\n",
    "            df_test[score_name] = ypred_test\n",
    "            \n",
    "            df_train_under [\"G_\"+score_name] = ypred_train\n",
    "            grid_score = df_train_under[[\"GRID_ID\",\"G_\"+score_name]].groupby(\"GRID_ID\").mean()[\"G_\"+score_name].reset_index()\n",
    "            grid_score.columns = ['GRID_ID',\"G_\"+score_name]\n",
    "            \n",
    "            df_test = pd.merge(df_test, grid_score, on = 'GRID_ID', how = 'left')\n",
    "            df_test[\"G_\"+score_name]=df_test[\"G_\"+score_name].fillna(value = fillna)\n",
    "            \n",
    "            print(\"Training for predicting (month):\",date_test_start.month, \n",
    "                  \" SCORE:\",score_name,\n",
    "                  \" target:\",target,\n",
    "                  \" K:\",K,\n",
    "                  \" observation_window:\",observation_window,\n",
    "                  \" performance_window:\",performance_window,\n",
    "                  \" downsample_size:\",downsample_size,\n",
    "                  \" GINI TRAIN:\",'{:,.2%}'.format(gini_train), \"    GINI TEST:\",'{:,.2%}'.format(gini_test),\n",
    "                  \" time taken: \",'{:,.2}'.format((datetime.datetime.now()-start_time).seconds/60))\n",
    "\n",
    "\n",
    "    if df_final_test.shape == (0,0):\n",
    "        df_final_test = df_test\n",
    "    else:\n",
    "        df_final_test = pd.concat([df_final_test,df_test],ignore_index=True)\n"
   ]
  },
  {
   "cell_type": "code",
   "execution_count": 319,
   "metadata": {},
   "outputs": [
    {
     "name": "stdout",
     "output_type": "stream",
     "text": [
      "RISK_FPD10_SCORE nan\n",
      "RISK_FPD30_SCORE nan\n",
      "RISK_FSPD30_SCORE nan\n",
      "RISK_FSTPD30_SCORE nan\n",
      "RISK_FSTQPD30_SCORE nan\n",
      "RISK_FPD10_MM_SCORE nan\n",
      "RISK_FPD30_MM_SCORE nan\n",
      "RISK_FSPD30_MM_SCORE nan\n",
      "RISK_FSTPD30_MM_SCORE nan\n"
     ]
    }
   ],
   "source": [
    "for y in hyper_df.index:\n",
    "    score_name = hyper_df.loc[y,'SCORE_NAME']\n",
    "    print(score_name, df_final_test[df_final_test[\"G_\"+score_name].isna()][score_name].mean())"
   ]
  },
  {
   "cell_type": "code",
   "execution_count": 320,
   "metadata": {},
   "outputs": [
    {
     "name": "stdout",
     "output_type": "stream",
     "text": [
      "0.057945135125711644\n",
      "0.041860059937303795\n",
      "0.10153194819088474\n",
      "0.09999709435275639\n"
     ]
    }
   ],
   "source": [
    "print(2*metrics.roc_auc_score(df_final_test[\"RISK_FSTQPD30\"],df_final_test[\"RISK_FSPD30_MM_SCORE\"])-1)\n",
    "print(2*metrics.roc_auc_score(df_final_test[\"RISK_FSTQPD30\"],df_final_test[\"G_RISK_FSPD30_MM_SCORE\"])-1)\n",
    "\n",
    "print(2*metrics.roc_auc_score(df_final_test[\"RISK_FSTQPD30\"],df_final_test[\"RISK_FSTQPD30_SCORE\"])-1)\n",
    "print(2*metrics.roc_auc_score(df_final_test[\"RISK_FSTQPD30\"],df_final_test[\"G_RISK_FSTQPD30_SCORE\"])-1)"
   ]
  },
  {
   "cell_type": "code",
   "execution_count": 321,
   "metadata": {},
   "outputs": [],
   "source": [
    "df_final_test.to_pickle(os.getcwd()+r\"\\Data Files\\delinquency_scores_2019.pkl\")"
   ]
  },
  {
   "cell_type": "code",
   "execution_count": 322,
   "metadata": {},
   "outputs": [],
   "source": [
    "df1= pd.read_csv(os.getcwd()+r\"\\Data Files\\recent_delinquency_small.csv\")"
   ]
  },
  {
   "cell_type": "code",
   "execution_count": 323,
   "metadata": {},
   "outputs": [
    {
     "data": {
      "text/html": [
       "<div>\n",
       "<style scoped>\n",
       "    .dataframe tbody tr th:only-of-type {\n",
       "        vertical-align: middle;\n",
       "    }\n",
       "\n",
       "    .dataframe tbody tr th {\n",
       "        vertical-align: top;\n",
       "    }\n",
       "\n",
       "    .dataframe thead th {\n",
       "        text-align: right;\n",
       "    }\n",
       "</style>\n",
       "<table border=\"1\" class=\"dataframe\">\n",
       "  <thead>\n",
       "    <tr style=\"text-align: right;\">\n",
       "      <th></th>\n",
       "      <th>MONTH_PAY</th>\n",
       "      <th>CUS_LAT</th>\n",
       "      <th>CUS_LONG</th>\n",
       "      <th>GRID_ID</th>\n",
       "      <th>DEFAULT_FLAG_CHANGE</th>\n",
       "      <th>NO_PAYMENT_CURRENT_PAYMENT</th>\n",
       "    </tr>\n",
       "  </thead>\n",
       "  <tbody>\n",
       "    <tr>\n",
       "      <th>0</th>\n",
       "      <td>01-01-19</td>\n",
       "      <td>27.167417</td>\n",
       "      <td>78.039756</td>\n",
       "      <td>500_01998_04345</td>\n",
       "      <td>0</td>\n",
       "      <td>0</td>\n",
       "    </tr>\n",
       "    <tr>\n",
       "      <th>1</th>\n",
       "      <td>01-01-19</td>\n",
       "      <td>21.159421</td>\n",
       "      <td>72.798740</td>\n",
       "      <td>500_00912_03074</td>\n",
       "      <td>0</td>\n",
       "      <td>0</td>\n",
       "    </tr>\n",
       "    <tr>\n",
       "      <th>2</th>\n",
       "      <td>01-01-19</td>\n",
       "      <td>26.695748</td>\n",
       "      <td>75.644084</td>\n",
       "      <td>500_01529_04253</td>\n",
       "      <td>0</td>\n",
       "      <td>0</td>\n",
       "    </tr>\n",
       "    <tr>\n",
       "      <th>3</th>\n",
       "      <td>01-01-19</td>\n",
       "      <td>28.504803</td>\n",
       "      <td>77.242518</td>\n",
       "      <td>500_01848_04638</td>\n",
       "      <td>0</td>\n",
       "      <td>0</td>\n",
       "    </tr>\n",
       "    <tr>\n",
       "      <th>4</th>\n",
       "      <td>01-01-19</td>\n",
       "      <td>18.391716</td>\n",
       "      <td>73.627129</td>\n",
       "      <td>500_01053_02464</td>\n",
       "      <td>0</td>\n",
       "      <td>0</td>\n",
       "    </tr>\n",
       "  </tbody>\n",
       "</table>\n",
       "</div>"
      ],
      "text/plain": [
       "  MONTH_PAY    CUS_LAT   CUS_LONG          GRID_ID  DEFAULT_FLAG_CHANGE  \\\n",
       "0  01-01-19  27.167417  78.039756  500_01998_04345                    0   \n",
       "1  01-01-19  21.159421  72.798740  500_00912_03074                    0   \n",
       "2  01-01-19  26.695748  75.644084  500_01529_04253                    0   \n",
       "3  01-01-19  28.504803  77.242518  500_01848_04638                    0   \n",
       "4  01-01-19  18.391716  73.627129  500_01053_02464                    0   \n",
       "\n",
       "   NO_PAYMENT_CURRENT_PAYMENT  \n",
       "0                           0  \n",
       "1                           0  \n",
       "2                           0  \n",
       "3                           0  \n",
       "4                           0  "
      ]
     },
     "execution_count": 323,
     "metadata": {},
     "output_type": "execute_result"
    }
   ],
   "source": [
    "df1.head()"
   ]
  },
  {
   "cell_type": "code",
   "execution_count": 324,
   "metadata": {},
   "outputs": [],
   "source": [
    "df1[\"MONTH_PAY\"]= pd.to_datetime(df1[\"MONTH_PAY\"],format = '%d-%m-%y')"
   ]
  },
  {
   "cell_type": "code",
   "execution_count": 325,
   "metadata": {},
   "outputs": [],
   "source": [
    "hyper_df= pd.read_csv(os.getcwd()+r\"\\Data Files\\Hyperparameters_EMI_Payment_Trend.csv\")"
   ]
  },
  {
   "cell_type": "code",
   "execution_count": 326,
   "metadata": {},
   "outputs": [
    {
     "name": "stderr",
     "output_type": "stream",
     "text": [
      "C:\\Users\\aman.khatri91425\\AppData\\Local\\Continuum\\anaconda3\\lib\\site-packages\\ipykernel_launcher.py:48: SettingWithCopyWarning: \n",
      "A value is trying to be set on a copy of a slice from a DataFrame.\n",
      "Try using .loc[row_indexer,col_indexer] = value instead\n",
      "\n",
      "See the caveats in the documentation: http://pandas.pydata.org/pandas-docs/stable/indexing.html#indexing-view-versus-copy\n"
     ]
    },
    {
     "name": "stdout",
     "output_type": "stream",
     "text": [
      "Training for predicting (month): 2  SCORE: DEFAULT_FLAG_CHANGE_1  target: DEFAULT_FLAG_CHANGE  K: 136  observation_window: 30  performance_window: 0  downsample_size: 80000  GINI TRAIN: 19.55%     GINI TEST: 3.80%  time taken:  0.28\n",
      "History not available\n",
      "History not available\n",
      "History not available\n",
      "History not available\n",
      "Training for predicting (month): 2  SCORE: NO_PAYMENT_CURRENT_PAYMENT_1  target: NO_PAYMENT_CURRENT_PAYMENT  K: 351  observation_window: 30  performance_window: 0  downsample_size: 300000  GINI TRAIN: 15.67%     GINI TEST: 7.22%  time taken:  1.7\n",
      "History not available\n",
      "History not available\n",
      "History not available\n",
      "History not available\n"
     ]
    },
    {
     "name": "stderr",
     "output_type": "stream",
     "text": [
      "C:\\Users\\aman.khatri91425\\AppData\\Local\\Continuum\\anaconda3\\lib\\site-packages\\ipykernel_launcher.py:48: SettingWithCopyWarning: \n",
      "A value is trying to be set on a copy of a slice from a DataFrame.\n",
      "Try using .loc[row_indexer,col_indexer] = value instead\n",
      "\n",
      "See the caveats in the documentation: http://pandas.pydata.org/pandas-docs/stable/indexing.html#indexing-view-versus-copy\n"
     ]
    },
    {
     "name": "stdout",
     "output_type": "stream",
     "text": [
      "Training for predicting (month): 3  SCORE: DEFAULT_FLAG_CHANGE_1  target: DEFAULT_FLAG_CHANGE  K: 136  observation_window: 30  performance_window: 0  downsample_size: 80000  GINI TRAIN: 18.93%     GINI TEST: 3.39%  time taken:  0.3\n",
      "Training for predicting (month): 3  SCORE: DEFAULT_FLAG_CHANGE_2  target: DEFAULT_FLAG_CHANGE  K: 136  observation_window: 30  performance_window: 30  downsample_size: 80000  GINI TRAIN: 19.63%     GINI TEST: 3.46%  time taken:  0.3\n",
      "History not available\n",
      "History not available\n",
      "History not available\n",
      "Training for predicting (month): 3  SCORE: NO_PAYMENT_CURRENT_PAYMENT_1  target: NO_PAYMENT_CURRENT_PAYMENT  K: 351  observation_window: 30  performance_window: 0  downsample_size: 300000  GINI TRAIN: 16.09%     GINI TEST: 6.81%  time taken:  1.7\n",
      "Training for predicting (month): 3  SCORE: NO_PAYMENT_CURRENT_PAYMENT_2  target: NO_PAYMENT_CURRENT_PAYMENT  K: 351  observation_window: 30  performance_window: 30  downsample_size: 300000  GINI TRAIN: 15.67%     GINI TEST: 7.36%  time taken:  1.7\n",
      "History not available\n",
      "History not available\n",
      "History not available\n"
     ]
    },
    {
     "name": "stderr",
     "output_type": "stream",
     "text": [
      "C:\\Users\\aman.khatri91425\\AppData\\Local\\Continuum\\anaconda3\\lib\\site-packages\\ipykernel_launcher.py:72: FutureWarning: Sorting because non-concatenation axis is not aligned. A future version\n",
      "of pandas will change to not sort by default.\n",
      "\n",
      "To accept the future behavior, pass 'sort=False'.\n",
      "\n",
      "To retain the current behavior and silence the warning, pass 'sort=True'.\n",
      "\n",
      "C:\\Users\\aman.khatri91425\\AppData\\Local\\Continuum\\anaconda3\\lib\\site-packages\\ipykernel_launcher.py:48: SettingWithCopyWarning: \n",
      "A value is trying to be set on a copy of a slice from a DataFrame.\n",
      "Try using .loc[row_indexer,col_indexer] = value instead\n",
      "\n",
      "See the caveats in the documentation: http://pandas.pydata.org/pandas-docs/stable/indexing.html#indexing-view-versus-copy\n"
     ]
    },
    {
     "name": "stdout",
     "output_type": "stream",
     "text": [
      "Training for predicting (month): 4  SCORE: DEFAULT_FLAG_CHANGE_1  target: DEFAULT_FLAG_CHANGE  K: 136  observation_window: 30  performance_window: 0  downsample_size: 80000  GINI TRAIN: 20.07%     GINI TEST: 4.47%  time taken:  0.28\n",
      "Training for predicting (month): 4  SCORE: DEFAULT_FLAG_CHANGE_2  target: DEFAULT_FLAG_CHANGE  K: 136  observation_window: 30  performance_window: 30  downsample_size: 80000  GINI TRAIN: 19.33%     GINI TEST: 3.51%  time taken:  0.28\n",
      "Training for predicting (month): 4  SCORE: DEFAULT_FLAG_CHANGE_3  target: DEFAULT_FLAG_CHANGE  K: 136  observation_window: 30  performance_window: 60  downsample_size: 80000  GINI TRAIN: 19.33%     GINI TEST: 4.14%  time taken:  0.28\n",
      "History not available\n",
      "History not available\n",
      "Training for predicting (month): 4  SCORE: NO_PAYMENT_CURRENT_PAYMENT_1  target: NO_PAYMENT_CURRENT_PAYMENT  K: 351  observation_window: 30  performance_window: 0  downsample_size: 300000  GINI TRAIN: 15.94%     GINI TEST: 7.63%  time taken:  1.7\n",
      "Training for predicting (month): 4  SCORE: NO_PAYMENT_CURRENT_PAYMENT_2  target: NO_PAYMENT_CURRENT_PAYMENT  K: 351  observation_window: 30  performance_window: 30  downsample_size: 300000  GINI TRAIN: 16.40%     GINI TEST: 6.33%  time taken:  1.7\n",
      "Training for predicting (month): 4  SCORE: NO_PAYMENT_CURRENT_PAYMENT_3  target: NO_PAYMENT_CURRENT_PAYMENT  K: 351  observation_window: 30  performance_window: 60  downsample_size: 300000  GINI TRAIN: 15.59%     GINI TEST: 6.94%  time taken:  1.7\n",
      "History not available\n",
      "History not available\n"
     ]
    },
    {
     "name": "stderr",
     "output_type": "stream",
     "text": [
      "C:\\Users\\aman.khatri91425\\AppData\\Local\\Continuum\\anaconda3\\lib\\site-packages\\ipykernel_launcher.py:72: FutureWarning: Sorting because non-concatenation axis is not aligned. A future version\n",
      "of pandas will change to not sort by default.\n",
      "\n",
      "To accept the future behavior, pass 'sort=False'.\n",
      "\n",
      "To retain the current behavior and silence the warning, pass 'sort=True'.\n",
      "\n",
      "C:\\Users\\aman.khatri91425\\AppData\\Local\\Continuum\\anaconda3\\lib\\site-packages\\ipykernel_launcher.py:48: SettingWithCopyWarning: \n",
      "A value is trying to be set on a copy of a slice from a DataFrame.\n",
      "Try using .loc[row_indexer,col_indexer] = value instead\n",
      "\n",
      "See the caveats in the documentation: http://pandas.pydata.org/pandas-docs/stable/indexing.html#indexing-view-versus-copy\n"
     ]
    },
    {
     "name": "stdout",
     "output_type": "stream",
     "text": [
      "Training for predicting (month): 5  SCORE: DEFAULT_FLAG_CHANGE_1  target: DEFAULT_FLAG_CHANGE  K: 136  observation_window: 30  performance_window: 0  downsample_size: 80000  GINI TRAIN: 19.82%     GINI TEST: 4.97%  time taken:  0.28\n",
      "Training for predicting (month): 5  SCORE: DEFAULT_FLAG_CHANGE_2  target: DEFAULT_FLAG_CHANGE  K: 136  observation_window: 30  performance_window: 30  downsample_size: 80000  GINI TRAIN: 20.22%     GINI TEST: 4.83%  time taken:  0.28\n",
      "Training for predicting (month): 5  SCORE: DEFAULT_FLAG_CHANGE_3  target: DEFAULT_FLAG_CHANGE  K: 136  observation_window: 30  performance_window: 60  downsample_size: 80000  GINI TRAIN: 18.69%     GINI TEST: 4.21%  time taken:  0.28\n",
      "Training for predicting (month): 5  SCORE: DEFAULT_FLAG_CHANGE_4  target: DEFAULT_FLAG_CHANGE  K: 136  observation_window: 30  performance_window: 90  downsample_size: 80000  GINI TRAIN: 19.73%     GINI TEST: 5.20%  time taken:  0.28\n",
      "History not available\n",
      "Training for predicting (month): 5  SCORE: NO_PAYMENT_CURRENT_PAYMENT_1  target: NO_PAYMENT_CURRENT_PAYMENT  K: 351  observation_window: 30  performance_window: 0  downsample_size: 300000  GINI TRAIN: 16.08%     GINI TEST: 5.63%  time taken:  1.7\n",
      "Training for predicting (month): 5  SCORE: NO_PAYMENT_CURRENT_PAYMENT_2  target: NO_PAYMENT_CURRENT_PAYMENT  K: 351  observation_window: 30  performance_window: 30  downsample_size: 300000  GINI TRAIN: 16.00%     GINI TEST: 5.91%  time taken:  1.7\n",
      "Training for predicting (month): 5  SCORE: NO_PAYMENT_CURRENT_PAYMENT_3  target: NO_PAYMENT_CURRENT_PAYMENT  K: 351  observation_window: 30  performance_window: 60  downsample_size: 300000  GINI TRAIN: 16.36%     GINI TEST: 4.84%  time taken:  1.7\n",
      "Training for predicting (month): 5  SCORE: NO_PAYMENT_CURRENT_PAYMENT_4  target: NO_PAYMENT_CURRENT_PAYMENT  K: 351  observation_window: 30  performance_window: 90  downsample_size: 300000  GINI TRAIN: 15.63%     GINI TEST: 5.34%  time taken:  1.7\n",
      "History not available\n"
     ]
    },
    {
     "name": "stderr",
     "output_type": "stream",
     "text": [
      "C:\\Users\\aman.khatri91425\\AppData\\Local\\Continuum\\anaconda3\\lib\\site-packages\\ipykernel_launcher.py:72: FutureWarning: Sorting because non-concatenation axis is not aligned. A future version\n",
      "of pandas will change to not sort by default.\n",
      "\n",
      "To accept the future behavior, pass 'sort=False'.\n",
      "\n",
      "To retain the current behavior and silence the warning, pass 'sort=True'.\n",
      "\n",
      "C:\\Users\\aman.khatri91425\\AppData\\Local\\Continuum\\anaconda3\\lib\\site-packages\\ipykernel_launcher.py:48: SettingWithCopyWarning: \n",
      "A value is trying to be set on a copy of a slice from a DataFrame.\n",
      "Try using .loc[row_indexer,col_indexer] = value instead\n",
      "\n",
      "See the caveats in the documentation: http://pandas.pydata.org/pandas-docs/stable/indexing.html#indexing-view-versus-copy\n"
     ]
    },
    {
     "name": "stdout",
     "output_type": "stream",
     "text": [
      "Training for predicting (month): 6  SCORE: DEFAULT_FLAG_CHANGE_1  target: DEFAULT_FLAG_CHANGE  K: 136  observation_window: 30  performance_window: 0  downsample_size: 80000  GINI TRAIN: 22.07%     GINI TEST: 3.72%  time taken:  0.28\n",
      "Training for predicting (month): 6  SCORE: DEFAULT_FLAG_CHANGE_2  target: DEFAULT_FLAG_CHANGE  K: 136  observation_window: 30  performance_window: 30  downsample_size: 80000  GINI TRAIN: 20.16%     GINI TEST: 3.27%  time taken:  0.28\n",
      "Training for predicting (month): 6  SCORE: DEFAULT_FLAG_CHANGE_3  target: DEFAULT_FLAG_CHANGE  K: 136  observation_window: 30  performance_window: 60  downsample_size: 80000  GINI TRAIN: 20.09%     GINI TEST: 3.80%  time taken:  0.28\n",
      "Training for predicting (month): 6  SCORE: DEFAULT_FLAG_CHANGE_4  target: DEFAULT_FLAG_CHANGE  K: 136  observation_window: 30  performance_window: 90  downsample_size: 80000  GINI TRAIN: 19.02%     GINI TEST: 2.93%  time taken:  0.28\n",
      "Training for predicting (month): 6  SCORE: DEFAULT_FLAG_CHANGE_5  target: DEFAULT_FLAG_CHANGE  K: 136  observation_window: 30  performance_window: 120  downsample_size: 80000  GINI TRAIN: 19.61%     GINI TEST: 4.15%  time taken:  0.28\n",
      "Training for predicting (month): 6  SCORE: NO_PAYMENT_CURRENT_PAYMENT_1  target: NO_PAYMENT_CURRENT_PAYMENT  K: 351  observation_window: 30  performance_window: 0  downsample_size: 300000  GINI TRAIN: 16.13%     GINI TEST: 6.52%  time taken:  1.9\n",
      "Training for predicting (month): 6  SCORE: NO_PAYMENT_CURRENT_PAYMENT_2  target: NO_PAYMENT_CURRENT_PAYMENT  K: 351  observation_window: 30  performance_window: 30  downsample_size: 300000  GINI TRAIN: 16.23%     GINI TEST: 5.96%  time taken:  3.6\n",
      "Training for predicting (month): 6  SCORE: NO_PAYMENT_CURRENT_PAYMENT_3  target: NO_PAYMENT_CURRENT_PAYMENT  K: 351  observation_window: 30  performance_window: 60  downsample_size: 300000  GINI TRAIN: 15.97%     GINI TEST: 5.98%  time taken:  3.6\n",
      "Training for predicting (month): 6  SCORE: NO_PAYMENT_CURRENT_PAYMENT_4  target: NO_PAYMENT_CURRENT_PAYMENT  K: 351  observation_window: 30  performance_window: 90  downsample_size: 300000  GINI TRAIN: 16.33%     GINI TEST: 4.88%  time taken:  3.8\n",
      "Training for predicting (month): 6  SCORE: NO_PAYMENT_CURRENT_PAYMENT_5  target: NO_PAYMENT_CURRENT_PAYMENT  K: 351  observation_window: 30  performance_window: 120  downsample_size: 300000  GINI TRAIN: 15.62%     GINI TEST: 5.55%  time taken:  4.3\n"
     ]
    },
    {
     "name": "stderr",
     "output_type": "stream",
     "text": [
      "C:\\Users\\aman.khatri91425\\AppData\\Local\\Continuum\\anaconda3\\lib\\site-packages\\ipykernel_launcher.py:72: FutureWarning: Sorting because non-concatenation axis is not aligned. A future version\n",
      "of pandas will change to not sort by default.\n",
      "\n",
      "To accept the future behavior, pass 'sort=False'.\n",
      "\n",
      "To retain the current behavior and silence the warning, pass 'sort=True'.\n",
      "\n",
      "C:\\Users\\aman.khatri91425\\AppData\\Local\\Continuum\\anaconda3\\lib\\site-packages\\ipykernel_launcher.py:48: SettingWithCopyWarning: \n",
      "A value is trying to be set on a copy of a slice from a DataFrame.\n",
      "Try using .loc[row_indexer,col_indexer] = value instead\n",
      "\n",
      "See the caveats in the documentation: http://pandas.pydata.org/pandas-docs/stable/indexing.html#indexing-view-versus-copy\n"
     ]
    },
    {
     "name": "stdout",
     "output_type": "stream",
     "text": [
      "Training for predicting (month): 7  SCORE: DEFAULT_FLAG_CHANGE_1  target: DEFAULT_FLAG_CHANGE  K: 136  observation_window: 30  performance_window: 0  downsample_size: 80000  GINI TRAIN: 22.43%     GINI TEST: 3.19%  time taken:  0.8\n",
      "Training for predicting (month): 7  SCORE: DEFAULT_FLAG_CHANGE_2  target: DEFAULT_FLAG_CHANGE  K: 136  observation_window: 30  performance_window: 30  downsample_size: 80000  GINI TRAIN: 22.03%     GINI TEST: 2.86%  time taken:  0.78\n",
      "Training for predicting (month): 7  SCORE: DEFAULT_FLAG_CHANGE_3  target: DEFAULT_FLAG_CHANGE  K: 136  observation_window: 30  performance_window: 60  downsample_size: 80000  GINI TRAIN: 19.66%     GINI TEST: 3.03%  time taken:  0.8\n",
      "Training for predicting (month): 7  SCORE: DEFAULT_FLAG_CHANGE_4  target: DEFAULT_FLAG_CHANGE  K: 136  observation_window: 30  performance_window: 90  downsample_size: 80000  GINI TRAIN: 19.95%     GINI TEST: 3.45%  time taken:  0.8\n",
      "Training for predicting (month): 7  SCORE: DEFAULT_FLAG_CHANGE_5  target: DEFAULT_FLAG_CHANGE  K: 136  observation_window: 30  performance_window: 120  downsample_size: 80000  GINI TRAIN: 19.09%     GINI TEST: 2.59%  time taken:  0.8\n",
      "Training for predicting (month): 7  SCORE: NO_PAYMENT_CURRENT_PAYMENT_1  target: NO_PAYMENT_CURRENT_PAYMENT  K: 351  observation_window: 30  performance_window: 0  downsample_size: 300000  GINI TRAIN: 16.72%     GINI TEST: 5.70%  time taken:  4.2\n",
      "Training for predicting (month): 7  SCORE: NO_PAYMENT_CURRENT_PAYMENT_2  target: NO_PAYMENT_CURRENT_PAYMENT  K: 351  observation_window: 30  performance_window: 30  downsample_size: 300000  GINI TRAIN: 16.23%     GINI TEST: 5.73%  time taken:  4.2\n",
      "Training for predicting (month): 7  SCORE: NO_PAYMENT_CURRENT_PAYMENT_3  target: NO_PAYMENT_CURRENT_PAYMENT  K: 351  observation_window: 30  performance_window: 60  downsample_size: 300000  GINI TRAIN: 16.19%     GINI TEST: 5.12%  time taken:  4.2\n",
      "Training for predicting (month): 7  SCORE: NO_PAYMENT_CURRENT_PAYMENT_4  target: NO_PAYMENT_CURRENT_PAYMENT  K: 351  observation_window: 30  performance_window: 90  downsample_size: 300000  GINI TRAIN: 15.98%     GINI TEST: 5.66%  time taken:  3.4\n",
      "Training for predicting (month): 7  SCORE: NO_PAYMENT_CURRENT_PAYMENT_5  target: NO_PAYMENT_CURRENT_PAYMENT  K: 351  observation_window: 30  performance_window: 120  downsample_size: 300000  GINI TRAIN: 16.39%     GINI TEST: 4.51%  time taken:  3.6\n"
     ]
    },
    {
     "name": "stderr",
     "output_type": "stream",
     "text": [
      "C:\\Users\\aman.khatri91425\\AppData\\Local\\Continuum\\anaconda3\\lib\\site-packages\\ipykernel_launcher.py:72: FutureWarning: Sorting because non-concatenation axis is not aligned. A future version\n",
      "of pandas will change to not sort by default.\n",
      "\n",
      "To accept the future behavior, pass 'sort=False'.\n",
      "\n",
      "To retain the current behavior and silence the warning, pass 'sort=True'.\n",
      "\n",
      "C:\\Users\\aman.khatri91425\\AppData\\Local\\Continuum\\anaconda3\\lib\\site-packages\\ipykernel_launcher.py:48: SettingWithCopyWarning: \n",
      "A value is trying to be set on a copy of a slice from a DataFrame.\n",
      "Try using .loc[row_indexer,col_indexer] = value instead\n",
      "\n",
      "See the caveats in the documentation: http://pandas.pydata.org/pandas-docs/stable/indexing.html#indexing-view-versus-copy\n"
     ]
    },
    {
     "name": "stdout",
     "output_type": "stream",
     "text": [
      "Training for predicting (month): 8  SCORE: DEFAULT_FLAG_CHANGE_1  target: DEFAULT_FLAG_CHANGE  K: 136  observation_window: 30  performance_window: 0  downsample_size: 80000  GINI TRAIN: 21.42%     GINI TEST: 3.45%  time taken:  0.68\n",
      "Training for predicting (month): 8  SCORE: DEFAULT_FLAG_CHANGE_2  target: DEFAULT_FLAG_CHANGE  K: 136  observation_window: 30  performance_window: 30  downsample_size: 80000  GINI TRAIN: 22.42%     GINI TEST: 4.06%  time taken:  0.63\n",
      "Training for predicting (month): 8  SCORE: DEFAULT_FLAG_CHANGE_3  target: DEFAULT_FLAG_CHANGE  K: 136  observation_window: 30  performance_window: 60  downsample_size: 80000  GINI TRAIN: 22.53%     GINI TEST: 4.05%  time taken:  0.68\n",
      "Training for predicting (month): 8  SCORE: DEFAULT_FLAG_CHANGE_4  target: DEFAULT_FLAG_CHANGE  K: 136  observation_window: 30  performance_window: 90  downsample_size: 80000  GINI TRAIN: 19.96%     GINI TEST: 3.91%  time taken:  0.68\n",
      "Training for predicting (month): 8  SCORE: DEFAULT_FLAG_CHANGE_5  target: DEFAULT_FLAG_CHANGE  K: 136  observation_window: 30  performance_window: 120  downsample_size: 80000  GINI TRAIN: 20.26%     GINI TEST: 4.96%  time taken:  0.68\n",
      "Training for predicting (month): 8  SCORE: NO_PAYMENT_CURRENT_PAYMENT_1  target: NO_PAYMENT_CURRENT_PAYMENT  K: 351  observation_window: 30  performance_window: 0  downsample_size: 300000  GINI TRAIN: 16.39%     GINI TEST: 6.54%  time taken:  4.3\n",
      "Training for predicting (month): 8  SCORE: NO_PAYMENT_CURRENT_PAYMENT_2  target: NO_PAYMENT_CURRENT_PAYMENT  K: 351  observation_window: 30  performance_window: 30  downsample_size: 300000  GINI TRAIN: 16.75%     GINI TEST: 5.86%  time taken:  4.3\n",
      "Training for predicting (month): 8  SCORE: NO_PAYMENT_CURRENT_PAYMENT_3  target: NO_PAYMENT_CURRENT_PAYMENT  K: 351  observation_window: 30  performance_window: 60  downsample_size: 300000  GINI TRAIN: 16.10%     GINI TEST: 6.19%  time taken:  4.3\n",
      "Training for predicting (month): 8  SCORE: NO_PAYMENT_CURRENT_PAYMENT_4  target: NO_PAYMENT_CURRENT_PAYMENT  K: 351  observation_window: 30  performance_window: 90  downsample_size: 300000  GINI TRAIN: 16.20%     GINI TEST: 5.63%  time taken:  4.3\n",
      "Training for predicting (month): 8  SCORE: NO_PAYMENT_CURRENT_PAYMENT_5  target: NO_PAYMENT_CURRENT_PAYMENT  K: 351  observation_window: 30  performance_window: 120  downsample_size: 300000  GINI TRAIN: 16.06%     GINI TEST: 5.36%  time taken:  4.3\n"
     ]
    },
    {
     "name": "stderr",
     "output_type": "stream",
     "text": [
      "C:\\Users\\aman.khatri91425\\AppData\\Local\\Continuum\\anaconda3\\lib\\site-packages\\ipykernel_launcher.py:72: FutureWarning: Sorting because non-concatenation axis is not aligned. A future version\n",
      "of pandas will change to not sort by default.\n",
      "\n",
      "To accept the future behavior, pass 'sort=False'.\n",
      "\n",
      "To retain the current behavior and silence the warning, pass 'sort=True'.\n",
      "\n"
     ]
    }
   ],
   "source": [
    "df_final_test = pd.DataFrame()\n",
    "\n",
    "import datetime\n",
    "from sklearn.neighbors import KNeighborsClassifier\n",
    "\n",
    "for x in np.arange(2,9,1):\n",
    "    date_test_start = datetime.datetime(2019, x, 1)\n",
    "    date_test_end = (date_test_start +  datetime.timedelta(days=31)).replace(day=1)\n",
    "    df_test = df[(df[\"TIME_DECISION_DATE\"]>=date_test_start) & \n",
    "                      (df[\"TIME_DECISION_DATE\"]<date_test_end)]\n",
    "\n",
    "    for y in hyper_df.index:\n",
    "        if hyper_df.loc[y,'MONTH_HIST'] < x:\n",
    "            score_name = hyper_df.loc[y,'SCORE_NAME']\n",
    "            target = hyper_df.loc[y,'TARGET']\n",
    "            K = hyper_df.loc[y,'K']\n",
    "            observation_window = hyper_df.loc[y,'OBSERVATION_WINDOW']\n",
    "            performance_window = hyper_df.loc[y,'PERFORMANCE_WINDOW']\n",
    "            downsample_size = hyper_df.loc[y,'DOWNSAMPLE_SIZE']\n",
    "\n",
    "            date_train_start = (date_test_start-datetime.timedelta(days=int(performance_window)-1)-datetime.timedelta(days=int(observation_window))).replace(day=1) \n",
    "            date_train_end = (date_test_start-datetime.timedelta(days=int(performance_window)-2)).replace(day=1)\n",
    "            start_time = datetime.datetime.now()\n",
    "            df_train = df1[(df1[\"MONTH_PAY\"]>=date_train_start) & \n",
    "                      (df1[\"MONTH_PAY\"]<date_train_end)]\n",
    "\n",
    "            df_class_0 = df_train[df_train[target] == 0]\n",
    "            df_class_1 = df_train[df_train[target] == 1]\n",
    "            df_class_0_under = df_class_0.sample(min(downsample_size,df_class_1.shape[0]))\n",
    "            df_class_1_under = df_class_1.sample(min(downsample_size,df_class_1.shape[0]))\n",
    "            df_train_under = pd.concat([df_class_0_under, df_class_1_under], axis=0)\n",
    "\n",
    "            X_train = df_train_under[[\"CUS_LAT\",\"CUS_LONG\"]]\n",
    "            X_test = df_test[[\"CUS_LAT\",\"CUS_LONG\"]]\n",
    "            y_train = df_train_under[target]\n",
    "            y_test =  df_test['RISK_FSTQPD30']\n",
    "\n",
    "            knn = KNeighborsClassifier(n_neighbors = K)\n",
    "            bst = knn.fit(X_train[[\"CUS_LAT\",\"CUS_LONG\"]], np.ravel(y_train))\n",
    "\n",
    "            ypred_train = bst.predict_proba(X_train[[\"CUS_LAT\",\"CUS_LONG\"]])[:, 1]\n",
    "            ypred_test = bst.predict_proba(X_test[[\"CUS_LAT\",\"CUS_LONG\"]])[:, 1]\n",
    "            metric_auc_train = metrics.roc_auc_score(y_train, ypred_train)\n",
    "            metric_auc_test = metrics.roc_auc_score(y_test, ypred_test)\n",
    "            gini_train = 2 * metric_auc_train - 1\n",
    "            gini_test = 2 * metric_auc_test - 1\n",
    "\n",
    "            df_test[score_name] = ypred_test\n",
    "            df_train_under [\"G_\"+score_name] = ypred_train\n",
    "            grid_score = df_train_under[[\"GRID_ID\",\"G_\"+score_name]].groupby(\"GRID_ID\").mean()[\"G_\"+score_name].reset_index()\n",
    "            grid_score.columns = ['GRID_ID',\"G_\"+score_name]\n",
    "            \n",
    "            df_test = pd.merge(df_test, grid_score, on = 'GRID_ID', how = 'left')\n",
    "            df_test[\"G_\"+score_name]=df_test[\"G_\"+score_name].fillna(value = fillna)\n",
    "\n",
    "            print(\"Training for predicting (month):\",date_test_start.month, \n",
    "                  \" SCORE:\",score_name,\n",
    "                  \" target:\",target,\n",
    "                  \" K:\",K,\n",
    "                  \" observation_window:\",observation_window,\n",
    "                  \" performance_window:\",performance_window,\n",
    "                  \" downsample_size:\",downsample_size,\n",
    "                  \" GINI TRAIN:\",'{:,.2%}'.format(gini_train), \"    GINI TEST:\",'{:,.2%}'.format(gini_test),\n",
    "                  \" time taken: \",'{:,.2}'.format((datetime.datetime.now()-start_time).seconds/60))\n",
    "        else:\n",
    "            print(\"History not available\")\n",
    "\n",
    "\n",
    "    if df_final_test.shape == (0,0):\n",
    "        df_final_test = df_test\n",
    "    else:\n",
    "        df_final_test = pd.concat([df_final_test,df_test],ignore_index=True)\n"
   ]
  },
  {
   "cell_type": "code",
   "execution_count": 327,
   "metadata": {},
   "outputs": [
    {
     "name": "stdout",
     "output_type": "stream",
     "text": [
      "0.03837284768963167\n",
      "0.024817350423631535\n",
      "0.06612816477108585\n",
      "0.06570630210597295\n"
     ]
    }
   ],
   "source": [
    "print(2*metrics.roc_auc_score(df_final_test[\"RISK_FSTQPD30\"],df_final_test[\"DEFAULT_FLAG_CHANGE_1\"])-1)\n",
    "print(2*metrics.roc_auc_score(df_final_test[\"RISK_FSTQPD30\"],df_final_test[\"G_DEFAULT_FLAG_CHANGE_1\"])-1)\n",
    "\n",
    "print(2*metrics.roc_auc_score(df_final_test[\"RISK_FSTQPD30\"],df_final_test[\"NO_PAYMENT_CURRENT_PAYMENT_1\"])-1)\n",
    "print(2*metrics.roc_auc_score(df_final_test[\"RISK_FSTQPD30\"],df_final_test[\"G_NO_PAYMENT_CURRENT_PAYMENT_1\"])-1)"
   ]
  },
  {
   "cell_type": "code",
   "execution_count": 328,
   "metadata": {},
   "outputs": [
    {
     "name": "stdout",
     "output_type": "stream",
     "text": [
      "DEFAULT_FLAG_CHANGE_1 nan\n",
      "DEFAULT_FLAG_CHANGE_2 nan\n",
      "DEFAULT_FLAG_CHANGE_3 nan\n",
      "DEFAULT_FLAG_CHANGE_4 nan\n",
      "DEFAULT_FLAG_CHANGE_5 nan\n",
      "NO_PAYMENT_CURRENT_PAYMENT_1 nan\n",
      "NO_PAYMENT_CURRENT_PAYMENT_2 nan\n",
      "NO_PAYMENT_CURRENT_PAYMENT_3 nan\n",
      "NO_PAYMENT_CURRENT_PAYMENT_4 nan\n",
      "NO_PAYMENT_CURRENT_PAYMENT_5 nan\n"
     ]
    }
   ],
   "source": [
    "for y in hyper_df.index:\n",
    "    score_name = hyper_df.loc[y,'SCORE_NAME']\n",
    "    print(score_name, df_final_test[df_final_test[\"G_\"+score_name].isna()][score_name].mean())"
   ]
  },
  {
   "cell_type": "code",
   "execution_count": 329,
   "metadata": {},
   "outputs": [],
   "source": [
    "df_final_test.to_pickle(os.getcwd()+r\"\\Data Files\\emi_payment_scores_2019.pkl\")"
   ]
  },
  {
   "cell_type": "code",
   "execution_count": null,
   "metadata": {},
   "outputs": [],
   "source": []
  },
  {
   "cell_type": "code",
   "execution_count": 388,
   "metadata": {},
   "outputs": [],
   "source": [
    "df=pd.read_pickle(os.getcwd()+r\"\\Data Files\\delinquency_scores_2019.pkl\")"
   ]
  },
  {
   "cell_type": "code",
   "execution_count": 389,
   "metadata": {},
   "outputs": [],
   "source": [
    "df1= pd.read_pickle(os.getcwd()+r\"\\Data Files\\emi_payment_scores_2019.pkl\")"
   ]
  },
  {
   "cell_type": "code",
   "execution_count": 390,
   "metadata": {},
   "outputs": [
    {
     "data": {
      "text/plain": [
       "Index(['CUS_LAT', 'CUS_LONG', 'DEFAULT_FLAG_CHANGE_1', 'DEFAULT_FLAG_CHANGE_2',\n",
       "       'DEFAULT_FLAG_CHANGE_3', 'DEFAULT_FLAG_CHANGE_4',\n",
       "       'DEFAULT_FLAG_CHANGE_5', 'GRID_ID', 'G_DEFAULT_FLAG_CHANGE_1',\n",
       "       'G_DEFAULT_FLAG_CHANGE_2', 'G_DEFAULT_FLAG_CHANGE_3',\n",
       "       'G_DEFAULT_FLAG_CHANGE_4', 'G_DEFAULT_FLAG_CHANGE_5',\n",
       "       'G_NO_PAYMENT_CURRENT_PAYMENT_1', 'G_NO_PAYMENT_CURRENT_PAYMENT_2',\n",
       "       'G_NO_PAYMENT_CURRENT_PAYMENT_3', 'G_NO_PAYMENT_CURRENT_PAYMENT_4',\n",
       "       'G_NO_PAYMENT_CURRENT_PAYMENT_5', 'NO_PAYMENT_CURRENT_PAYMENT_1',\n",
       "       'NO_PAYMENT_CURRENT_PAYMENT_2', 'NO_PAYMENT_CURRENT_PAYMENT_3',\n",
       "       'NO_PAYMENT_CURRENT_PAYMENT_4', 'NO_PAYMENT_CURRENT_PAYMENT_5',\n",
       "       'NTC_FLAG', 'RISK_FPD10', 'RISK_FPD30', 'RISK_FSPD30', 'RISK_FSTPD30',\n",
       "       'RISK_FSTQPD30', 'RISK_FSTQPD60', 'RISK_SCORE', 'SKP_CREDIT_CASE',\n",
       "       'TIME_DECISION_DATE'],\n",
       "      dtype='object')"
      ]
     },
     "execution_count": 390,
     "metadata": {},
     "output_type": "execute_result"
    }
   ],
   "source": [
    "df1.columns"
   ]
  },
  {
   "cell_type": "code",
   "execution_count": 391,
   "metadata": {},
   "outputs": [],
   "source": [
    "df1 = df1[['NO_PAYMENT_CURRENT_PAYMENT_1', 'NO_PAYMENT_CURRENT_PAYMENT_2',\n",
    "       'NO_PAYMENT_CURRENT_PAYMENT_3', 'NO_PAYMENT_CURRENT_PAYMENT_4',\n",
    "       'NO_PAYMENT_CURRENT_PAYMENT_5', 'DEFAULT_FLAG_CHANGE_1', 'DEFAULT_FLAG_CHANGE_2',\n",
    "       'DEFAULT_FLAG_CHANGE_3', 'DEFAULT_FLAG_CHANGE_4',\n",
    "       'DEFAULT_FLAG_CHANGE_5', 'SKP_CREDIT_CASE', 'G_NO_PAYMENT_CURRENT_PAYMENT_1', 'G_NO_PAYMENT_CURRENT_PAYMENT_2',\n",
    "       'G_NO_PAYMENT_CURRENT_PAYMENT_3', 'G_NO_PAYMENT_CURRENT_PAYMENT_4',\n",
    "       'G_NO_PAYMENT_CURRENT_PAYMENT_5', 'G_DEFAULT_FLAG_CHANGE_1', 'G_DEFAULT_FLAG_CHANGE_2',\n",
    "       'G_DEFAULT_FLAG_CHANGE_3', 'G_DEFAULT_FLAG_CHANGE_4',\n",
    "       'G_DEFAULT_FLAG_CHANGE_5']]"
   ]
  },
  {
   "cell_type": "code",
   "execution_count": 392,
   "metadata": {},
   "outputs": [],
   "source": [
    "df= df.merge(df1, on = 'SKP_CREDIT_CASE',how = 'right')"
   ]
  },
  {
   "cell_type": "code",
   "execution_count": 398,
   "metadata": {},
   "outputs": [
    {
     "data": {
      "text/plain": [
       "(2523810, 51)"
      ]
     },
     "execution_count": 398,
     "metadata": {},
     "output_type": "execute_result"
    }
   ],
   "source": [
    "df.shape"
   ]
  },
  {
   "cell_type": "code",
   "execution_count": 399,
   "metadata": {},
   "outputs": [
    {
     "data": {
      "text/html": [
       "<div>\n",
       "<style scoped>\n",
       "    .dataframe tbody tr th:only-of-type {\n",
       "        vertical-align: middle;\n",
       "    }\n",
       "\n",
       "    .dataframe tbody tr th {\n",
       "        vertical-align: top;\n",
       "    }\n",
       "\n",
       "    .dataframe thead th {\n",
       "        text-align: right;\n",
       "    }\n",
       "</style>\n",
       "<table border=\"1\" class=\"dataframe\">\n",
       "  <thead>\n",
       "    <tr style=\"text-align: right;\">\n",
       "      <th></th>\n",
       "      <th>SKP_CREDIT_CASE</th>\n",
       "      <th>TIME_DECISION_DATE</th>\n",
       "      <th>CUS_LAT</th>\n",
       "      <th>CUS_LONG</th>\n",
       "      <th>RISK_FPD10</th>\n",
       "      <th>RISK_FPD30</th>\n",
       "      <th>RISK_FSPD30</th>\n",
       "      <th>RISK_FSTPD30</th>\n",
       "      <th>RISK_FSTQPD30</th>\n",
       "      <th>RISK_FSTQPD60</th>\n",
       "      <th>...</th>\n",
       "      <th>G_NO_PAYMENT_CURRENT_PAYMENT_1</th>\n",
       "      <th>G_NO_PAYMENT_CURRENT_PAYMENT_2</th>\n",
       "      <th>G_NO_PAYMENT_CURRENT_PAYMENT_3</th>\n",
       "      <th>G_NO_PAYMENT_CURRENT_PAYMENT_4</th>\n",
       "      <th>G_NO_PAYMENT_CURRENT_PAYMENT_5</th>\n",
       "      <th>G_DEFAULT_FLAG_CHANGE_1</th>\n",
       "      <th>G_DEFAULT_FLAG_CHANGE_2</th>\n",
       "      <th>G_DEFAULT_FLAG_CHANGE_3</th>\n",
       "      <th>G_DEFAULT_FLAG_CHANGE_4</th>\n",
       "      <th>G_DEFAULT_FLAG_CHANGE_5</th>\n",
       "    </tr>\n",
       "  </thead>\n",
       "  <tbody>\n",
       "    <tr>\n",
       "      <th>0</th>\n",
       "      <td>223799321</td>\n",
       "      <td>2019-02-01</td>\n",
       "      <td>30.867149</td>\n",
       "      <td>75.930356</td>\n",
       "      <td>0.0</td>\n",
       "      <td>0.0</td>\n",
       "      <td>0.0</td>\n",
       "      <td>0.0</td>\n",
       "      <td>0.0</td>\n",
       "      <td>0.0</td>\n",
       "      <td>...</td>\n",
       "      <td>0.457684</td>\n",
       "      <td>NaN</td>\n",
       "      <td>NaN</td>\n",
       "      <td>NaN</td>\n",
       "      <td>NaN</td>\n",
       "      <td>0.500000</td>\n",
       "      <td>NaN</td>\n",
       "      <td>NaN</td>\n",
       "      <td>NaN</td>\n",
       "      <td>NaN</td>\n",
       "    </tr>\n",
       "    <tr>\n",
       "      <th>1</th>\n",
       "      <td>223801408</td>\n",
       "      <td>2019-02-01</td>\n",
       "      <td>9.949001</td>\n",
       "      <td>76.322291</td>\n",
       "      <td>0.0</td>\n",
       "      <td>0.0</td>\n",
       "      <td>0.0</td>\n",
       "      <td>0.0</td>\n",
       "      <td>0.0</td>\n",
       "      <td>0.0</td>\n",
       "      <td>...</td>\n",
       "      <td>0.538224</td>\n",
       "      <td>NaN</td>\n",
       "      <td>NaN</td>\n",
       "      <td>NaN</td>\n",
       "      <td>NaN</td>\n",
       "      <td>0.349265</td>\n",
       "      <td>NaN</td>\n",
       "      <td>NaN</td>\n",
       "      <td>NaN</td>\n",
       "      <td>NaN</td>\n",
       "    </tr>\n",
       "    <tr>\n",
       "      <th>2</th>\n",
       "      <td>223889993</td>\n",
       "      <td>2019-02-01</td>\n",
       "      <td>22.301551</td>\n",
       "      <td>70.826877</td>\n",
       "      <td>0.0</td>\n",
       "      <td>0.0</td>\n",
       "      <td>0.0</td>\n",
       "      <td>0.0</td>\n",
       "      <td>0.0</td>\n",
       "      <td>0.0</td>\n",
       "      <td>...</td>\n",
       "      <td>0.429592</td>\n",
       "      <td>NaN</td>\n",
       "      <td>NaN</td>\n",
       "      <td>NaN</td>\n",
       "      <td>NaN</td>\n",
       "      <td>0.391807</td>\n",
       "      <td>NaN</td>\n",
       "      <td>NaN</td>\n",
       "      <td>NaN</td>\n",
       "      <td>NaN</td>\n",
       "    </tr>\n",
       "    <tr>\n",
       "      <th>3</th>\n",
       "      <td>223889994</td>\n",
       "      <td>2019-02-01</td>\n",
       "      <td>28.569622</td>\n",
       "      <td>77.286007</td>\n",
       "      <td>0.0</td>\n",
       "      <td>0.0</td>\n",
       "      <td>0.0</td>\n",
       "      <td>0.0</td>\n",
       "      <td>0.0</td>\n",
       "      <td>0.0</td>\n",
       "      <td>...</td>\n",
       "      <td>0.480780</td>\n",
       "      <td>NaN</td>\n",
       "      <td>NaN</td>\n",
       "      <td>NaN</td>\n",
       "      <td>NaN</td>\n",
       "      <td>0.545168</td>\n",
       "      <td>NaN</td>\n",
       "      <td>NaN</td>\n",
       "      <td>NaN</td>\n",
       "      <td>NaN</td>\n",
       "    </tr>\n",
       "    <tr>\n",
       "      <th>4</th>\n",
       "      <td>223889995</td>\n",
       "      <td>2019-02-01</td>\n",
       "      <td>23.204827</td>\n",
       "      <td>77.442296</td>\n",
       "      <td>0.0</td>\n",
       "      <td>0.0</td>\n",
       "      <td>0.0</td>\n",
       "      <td>0.0</td>\n",
       "      <td>0.0</td>\n",
       "      <td>0.0</td>\n",
       "      <td>...</td>\n",
       "      <td>0.650047</td>\n",
       "      <td>NaN</td>\n",
       "      <td>NaN</td>\n",
       "      <td>NaN</td>\n",
       "      <td>NaN</td>\n",
       "      <td>0.425245</td>\n",
       "      <td>NaN</td>\n",
       "      <td>NaN</td>\n",
       "      <td>NaN</td>\n",
       "      <td>NaN</td>\n",
       "    </tr>\n",
       "  </tbody>\n",
       "</table>\n",
       "<p>5 rows × 51 columns</p>\n",
       "</div>"
      ],
      "text/plain": [
       "   SKP_CREDIT_CASE TIME_DECISION_DATE    CUS_LAT   CUS_LONG  RISK_FPD10  \\\n",
       "0        223799321         2019-02-01  30.867149  75.930356         0.0   \n",
       "1        223801408         2019-02-01   9.949001  76.322291         0.0   \n",
       "2        223889993         2019-02-01  22.301551  70.826877         0.0   \n",
       "3        223889994         2019-02-01  28.569622  77.286007         0.0   \n",
       "4        223889995         2019-02-01  23.204827  77.442296         0.0   \n",
       "\n",
       "   RISK_FPD30  RISK_FSPD30  RISK_FSTPD30  RISK_FSTQPD30  RISK_FSTQPD60  ...  \\\n",
       "0         0.0          0.0           0.0            0.0            0.0  ...   \n",
       "1         0.0          0.0           0.0            0.0            0.0  ...   \n",
       "2         0.0          0.0           0.0            0.0            0.0  ...   \n",
       "3         0.0          0.0           0.0            0.0            0.0  ...   \n",
       "4         0.0          0.0           0.0            0.0            0.0  ...   \n",
       "\n",
       "  G_NO_PAYMENT_CURRENT_PAYMENT_1 G_NO_PAYMENT_CURRENT_PAYMENT_2  \\\n",
       "0                       0.457684                            NaN   \n",
       "1                       0.538224                            NaN   \n",
       "2                       0.429592                            NaN   \n",
       "3                       0.480780                            NaN   \n",
       "4                       0.650047                            NaN   \n",
       "\n",
       "   G_NO_PAYMENT_CURRENT_PAYMENT_3  G_NO_PAYMENT_CURRENT_PAYMENT_4  \\\n",
       "0                             NaN                             NaN   \n",
       "1                             NaN                             NaN   \n",
       "2                             NaN                             NaN   \n",
       "3                             NaN                             NaN   \n",
       "4                             NaN                             NaN   \n",
       "\n",
       "   G_NO_PAYMENT_CURRENT_PAYMENT_5  G_DEFAULT_FLAG_CHANGE_1  \\\n",
       "0                             NaN                 0.500000   \n",
       "1                             NaN                 0.349265   \n",
       "2                             NaN                 0.391807   \n",
       "3                             NaN                 0.545168   \n",
       "4                             NaN                 0.425245   \n",
       "\n",
       "   G_DEFAULT_FLAG_CHANGE_2  G_DEFAULT_FLAG_CHANGE_3  G_DEFAULT_FLAG_CHANGE_4  \\\n",
       "0                      NaN                      NaN                      NaN   \n",
       "1                      NaN                      NaN                      NaN   \n",
       "2                      NaN                      NaN                      NaN   \n",
       "3                      NaN                      NaN                      NaN   \n",
       "4                      NaN                      NaN                      NaN   \n",
       "\n",
       "   G_DEFAULT_FLAG_CHANGE_5  \n",
       "0                      NaN  \n",
       "1                      NaN  \n",
       "2                      NaN  \n",
       "3                      NaN  \n",
       "4                      NaN  \n",
       "\n",
       "[5 rows x 51 columns]"
      ]
     },
     "execution_count": 399,
     "metadata": {},
     "output_type": "execute_result"
    }
   ],
   "source": [
    "df.head()"
   ]
  },
  {
   "cell_type": "code",
   "execution_count": 400,
   "metadata": {},
   "outputs": [],
   "source": [
    "scores_columns= [x for x in df.columns if 'SCORE' in x]\n",
    "scores_columns = scores_columns + ['NO_PAYMENT_CURRENT_PAYMENT_1', 'NO_PAYMENT_CURRENT_PAYMENT_2',\n",
    "       'NO_PAYMENT_CURRENT_PAYMENT_3', 'NO_PAYMENT_CURRENT_PAYMENT_4',\n",
    "       'NO_PAYMENT_CURRENT_PAYMENT_5', 'DEFAULT_FLAG_CHANGE_1', 'DEFAULT_FLAG_CHANGE_2',\n",
    "       'DEFAULT_FLAG_CHANGE_3', 'DEFAULT_FLAG_CHANGE_4',\n",
    "       'DEFAULT_FLAG_CHANGE_5']"
   ]
  },
  {
   "cell_type": "code",
   "execution_count": 401,
   "metadata": {},
   "outputs": [],
   "source": [
    "scores_columns= ['RISK_SCORE',\n",
    " 'G_RISK_FPD10_SCORE',\n",
    " 'G_RISK_FPD30_SCORE',\n",
    " 'G_RISK_FSPD30_SCORE',\n",
    " 'G_RISK_FSTPD30_SCORE',\n",
    " 'G_RISK_FSTQPD30_SCORE',\n",
    " 'G_RISK_FPD10_MM_SCORE',\n",
    " 'G_RISK_FPD30_MM_SCORE',\n",
    " 'G_RISK_FSPD30_MM_SCORE',\n",
    " 'G_RISK_FSTPD30_MM_SCORE',\n",
    " 'G_NO_PAYMENT_CURRENT_PAYMENT_1',\n",
    " 'G_NO_PAYMENT_CURRENT_PAYMENT_2',\n",
    " 'G_DEFAULT_FLAG_CHANGE_1',\n",
    " 'G_DEFAULT_FLAG_CHANGE_2']"
   ]
  },
  {
   "cell_type": "markdown",
   "metadata": {},
   "source": [
    "# Convert All Scores to Logit"
   ]
  },
  {
   "cell_type": "code",
   "execution_count": 402,
   "metadata": {},
   "outputs": [],
   "source": [
    "df.dropna(subset = ['RISK_SCORE'], inplace = True)\n",
    "for y in scores_columns:\n",
    "    df[\"LOGIT_\"+y] = [np.log(x/(1-x)) for x in df[y]]"
   ]
  },
  {
   "cell_type": "code",
   "execution_count": 403,
   "metadata": {},
   "outputs": [],
   "source": [
    "logit_columns= [x for x in df.columns if 'LOGIT' in x]"
   ]
  },
  {
   "cell_type": "code",
   "execution_count": 404,
   "metadata": {},
   "outputs": [],
   "source": [
    "from sklearn.model_selection import train_test_split\n",
    "from sklearn.model_selection import RandomizedSearchCV\n",
    "from sklearn.linear_model import LogisticRegression"
   ]
  },
  {
   "cell_type": "code",
   "execution_count": 405,
   "metadata": {},
   "outputs": [],
   "source": [
    "df_train = df[(df[\"TIME_DECISION_DATE\"]>=datetime.datetime(2019,3,1)) \n",
    "               & (df[\"TIME_DECISION_DATE\"]<=datetime.datetime(2019,4,30))]\n",
    "df_test = df[(df[\"TIME_DECISION_DATE\"]>=datetime.datetime(2019,5,1)) \n",
    "               & (df[\"TIME_DECISION_DATE\"]<=datetime.datetime(2019,8,30))]"
   ]
  },
  {
   "cell_type": "code",
   "execution_count": 406,
   "metadata": {},
   "outputs": [],
   "source": [
    "logit_columns=['LOGIT_G_RISK_FPD10_SCORE',\n",
    " 'LOGIT_G_RISK_FPD30_SCORE',\n",
    " 'LOGIT_G_RISK_FSPD30_SCORE',\n",
    " 'LOGIT_G_RISK_FSTPD30_SCORE',\n",
    " 'LOGIT_G_RISK_FSTQPD30_SCORE',\n",
    " 'LOGIT_G_RISK_FPD10_MM_SCORE',\n",
    " 'LOGIT_G_RISK_FPD30_MM_SCORE',\n",
    " 'LOGIT_G_RISK_FSPD30_MM_SCORE',\n",
    " 'LOGIT_G_RISK_FSTPD30_MM_SCORE',\n",
    " 'LOGIT_G_NO_PAYMENT_CURRENT_PAYMENT_1',\n",
    " 'LOGIT_G_NO_PAYMENT_CURRENT_PAYMENT_2',\n",
    " 'LOGIT_G_DEFAULT_FLAG_CHANGE_1',\n",
    " 'LOGIT_G_DEFAULT_FLAG_CHANGE_2']"
   ]
  },
  {
   "cell_type": "markdown",
   "metadata": {},
   "source": [
    "# L1 and L2 logistic variable selection"
   ]
  },
  {
   "cell_type": "code",
   "execution_count": 190,
   "metadata": {},
   "outputs": [],
   "source": [
    "param_grid = {'C':np.exp(np.arange(-5,5,0.001))}"
   ]
  },
  {
   "cell_type": "code",
   "execution_count": 191,
   "metadata": {},
   "outputs": [],
   "source": [
    "from sklearn.model_selection import StratifiedKFold\n",
    "kfolds = StratifiedKFold(3, random_state=1)\n",
    "comb=LogisticRegression(penalty = 'l2')\n",
    "\n",
    "rcv = RandomizedSearchCV(estimator = comb, param_distributions=param_grid, scoring=['roc_auc'], n_iter = 50,\n",
    "    cv=kfolds.split(df_train[imp],df_train[\"RISK_FSTQPD30\"]), verbose=0, random_state=1,\n",
    "    refit = 'roc_auc', return_train_score=True, error_score = 0)"
   ]
  },
  {
   "cell_type": "code",
   "execution_count": 192,
   "metadata": {},
   "outputs": [
    {
     "name": "stdout",
     "output_type": "stream",
     "text": [
      "Randomized search..\n"
     ]
    },
    {
     "name": "stderr",
     "output_type": "stream",
     "text": [
      "C:\\Users\\aman.khatri91425\\AppData\\Local\\Continuum\\anaconda3\\lib\\site-packages\\sklearn\\linear_model\\logistic.py:433: FutureWarning: Default solver will be changed to 'lbfgs' in 0.22. Specify a solver to silence this warning.\n",
      "  FutureWarning)\n",
      "C:\\Users\\aman.khatri91425\\AppData\\Local\\Continuum\\anaconda3\\lib\\site-packages\\sklearn\\linear_model\\logistic.py:433: FutureWarning: Default solver will be changed to 'lbfgs' in 0.22. Specify a solver to silence this warning.\n",
      "  FutureWarning)\n",
      "C:\\Users\\aman.khatri91425\\AppData\\Local\\Continuum\\anaconda3\\lib\\site-packages\\sklearn\\linear_model\\logistic.py:433: FutureWarning: Default solver will be changed to 'lbfgs' in 0.22. Specify a solver to silence this warning.\n",
      "  FutureWarning)\n",
      "C:\\Users\\aman.khatri91425\\AppData\\Local\\Continuum\\anaconda3\\lib\\site-packages\\sklearn\\linear_model\\logistic.py:433: FutureWarning: Default solver will be changed to 'lbfgs' in 0.22. Specify a solver to silence this warning.\n",
      "  FutureWarning)\n",
      "C:\\Users\\aman.khatri91425\\AppData\\Local\\Continuum\\anaconda3\\lib\\site-packages\\sklearn\\linear_model\\logistic.py:433: FutureWarning: Default solver will be changed to 'lbfgs' in 0.22. Specify a solver to silence this warning.\n",
      "  FutureWarning)\n",
      "C:\\Users\\aman.khatri91425\\AppData\\Local\\Continuum\\anaconda3\\lib\\site-packages\\sklearn\\linear_model\\logistic.py:433: FutureWarning: Default solver will be changed to 'lbfgs' in 0.22. Specify a solver to silence this warning.\n",
      "  FutureWarning)\n",
      "C:\\Users\\aman.khatri91425\\AppData\\Local\\Continuum\\anaconda3\\lib\\site-packages\\sklearn\\linear_model\\logistic.py:433: FutureWarning: Default solver will be changed to 'lbfgs' in 0.22. Specify a solver to silence this warning.\n",
      "  FutureWarning)\n",
      "C:\\Users\\aman.khatri91425\\AppData\\Local\\Continuum\\anaconda3\\lib\\site-packages\\sklearn\\linear_model\\logistic.py:433: FutureWarning: Default solver will be changed to 'lbfgs' in 0.22. Specify a solver to silence this warning.\n",
      "  FutureWarning)\n",
      "C:\\Users\\aman.khatri91425\\AppData\\Local\\Continuum\\anaconda3\\lib\\site-packages\\sklearn\\linear_model\\logistic.py:433: FutureWarning: Default solver will be changed to 'lbfgs' in 0.22. Specify a solver to silence this warning.\n",
      "  FutureWarning)\n",
      "C:\\Users\\aman.khatri91425\\AppData\\Local\\Continuum\\anaconda3\\lib\\site-packages\\sklearn\\linear_model\\logistic.py:433: FutureWarning: Default solver will be changed to 'lbfgs' in 0.22. Specify a solver to silence this warning.\n",
      "  FutureWarning)\n",
      "C:\\Users\\aman.khatri91425\\AppData\\Local\\Continuum\\anaconda3\\lib\\site-packages\\sklearn\\linear_model\\logistic.py:433: FutureWarning: Default solver will be changed to 'lbfgs' in 0.22. Specify a solver to silence this warning.\n",
      "  FutureWarning)\n",
      "C:\\Users\\aman.khatri91425\\AppData\\Local\\Continuum\\anaconda3\\lib\\site-packages\\sklearn\\linear_model\\logistic.py:433: FutureWarning: Default solver will be changed to 'lbfgs' in 0.22. Specify a solver to silence this warning.\n",
      "  FutureWarning)\n",
      "C:\\Users\\aman.khatri91425\\AppData\\Local\\Continuum\\anaconda3\\lib\\site-packages\\sklearn\\linear_model\\logistic.py:433: FutureWarning: Default solver will be changed to 'lbfgs' in 0.22. Specify a solver to silence this warning.\n",
      "  FutureWarning)\n",
      "C:\\Users\\aman.khatri91425\\AppData\\Local\\Continuum\\anaconda3\\lib\\site-packages\\sklearn\\linear_model\\logistic.py:433: FutureWarning: Default solver will be changed to 'lbfgs' in 0.22. Specify a solver to silence this warning.\n",
      "  FutureWarning)\n",
      "C:\\Users\\aman.khatri91425\\AppData\\Local\\Continuum\\anaconda3\\lib\\site-packages\\sklearn\\linear_model\\logistic.py:433: FutureWarning: Default solver will be changed to 'lbfgs' in 0.22. Specify a solver to silence this warning.\n",
      "  FutureWarning)\n",
      "C:\\Users\\aman.khatri91425\\AppData\\Local\\Continuum\\anaconda3\\lib\\site-packages\\sklearn\\linear_model\\logistic.py:433: FutureWarning: Default solver will be changed to 'lbfgs' in 0.22. Specify a solver to silence this warning.\n",
      "  FutureWarning)\n",
      "C:\\Users\\aman.khatri91425\\AppData\\Local\\Continuum\\anaconda3\\lib\\site-packages\\sklearn\\linear_model\\logistic.py:433: FutureWarning: Default solver will be changed to 'lbfgs' in 0.22. Specify a solver to silence this warning.\n",
      "  FutureWarning)\n",
      "C:\\Users\\aman.khatri91425\\AppData\\Local\\Continuum\\anaconda3\\lib\\site-packages\\sklearn\\linear_model\\logistic.py:433: FutureWarning: Default solver will be changed to 'lbfgs' in 0.22. Specify a solver to silence this warning.\n",
      "  FutureWarning)\n",
      "C:\\Users\\aman.khatri91425\\AppData\\Local\\Continuum\\anaconda3\\lib\\site-packages\\sklearn\\linear_model\\logistic.py:433: FutureWarning: Default solver will be changed to 'lbfgs' in 0.22. Specify a solver to silence this warning.\n",
      "  FutureWarning)\n",
      "C:\\Users\\aman.khatri91425\\AppData\\Local\\Continuum\\anaconda3\\lib\\site-packages\\sklearn\\linear_model\\logistic.py:433: FutureWarning: Default solver will be changed to 'lbfgs' in 0.22. Specify a solver to silence this warning.\n",
      "  FutureWarning)\n",
      "C:\\Users\\aman.khatri91425\\AppData\\Local\\Continuum\\anaconda3\\lib\\site-packages\\sklearn\\linear_model\\logistic.py:433: FutureWarning: Default solver will be changed to 'lbfgs' in 0.22. Specify a solver to silence this warning.\n",
      "  FutureWarning)\n",
      "C:\\Users\\aman.khatri91425\\AppData\\Local\\Continuum\\anaconda3\\lib\\site-packages\\sklearn\\linear_model\\logistic.py:433: FutureWarning: Default solver will be changed to 'lbfgs' in 0.22. Specify a solver to silence this warning.\n",
      "  FutureWarning)\n",
      "C:\\Users\\aman.khatri91425\\AppData\\Local\\Continuum\\anaconda3\\lib\\site-packages\\sklearn\\linear_model\\logistic.py:433: FutureWarning: Default solver will be changed to 'lbfgs' in 0.22. Specify a solver to silence this warning.\n",
      "  FutureWarning)\n",
      "C:\\Users\\aman.khatri91425\\AppData\\Local\\Continuum\\anaconda3\\lib\\site-packages\\sklearn\\linear_model\\logistic.py:433: FutureWarning: Default solver will be changed to 'lbfgs' in 0.22. Specify a solver to silence this warning.\n",
      "  FutureWarning)\n",
      "C:\\Users\\aman.khatri91425\\AppData\\Local\\Continuum\\anaconda3\\lib\\site-packages\\sklearn\\linear_model\\logistic.py:433: FutureWarning: Default solver will be changed to 'lbfgs' in 0.22. Specify a solver to silence this warning.\n",
      "  FutureWarning)\n",
      "C:\\Users\\aman.khatri91425\\AppData\\Local\\Continuum\\anaconda3\\lib\\site-packages\\sklearn\\linear_model\\logistic.py:433: FutureWarning: Default solver will be changed to 'lbfgs' in 0.22. Specify a solver to silence this warning.\n",
      "  FutureWarning)\n",
      "C:\\Users\\aman.khatri91425\\AppData\\Local\\Continuum\\anaconda3\\lib\\site-packages\\sklearn\\linear_model\\logistic.py:433: FutureWarning: Default solver will be changed to 'lbfgs' in 0.22. Specify a solver to silence this warning.\n",
      "  FutureWarning)\n",
      "C:\\Users\\aman.khatri91425\\AppData\\Local\\Continuum\\anaconda3\\lib\\site-packages\\sklearn\\linear_model\\logistic.py:433: FutureWarning: Default solver will be changed to 'lbfgs' in 0.22. Specify a solver to silence this warning.\n",
      "  FutureWarning)\n",
      "C:\\Users\\aman.khatri91425\\AppData\\Local\\Continuum\\anaconda3\\lib\\site-packages\\sklearn\\linear_model\\logistic.py:433: FutureWarning: Default solver will be changed to 'lbfgs' in 0.22. Specify a solver to silence this warning.\n",
      "  FutureWarning)\n",
      "C:\\Users\\aman.khatri91425\\AppData\\Local\\Continuum\\anaconda3\\lib\\site-packages\\sklearn\\linear_model\\logistic.py:433: FutureWarning: Default solver will be changed to 'lbfgs' in 0.22. Specify a solver to silence this warning.\n",
      "  FutureWarning)\n",
      "C:\\Users\\aman.khatri91425\\AppData\\Local\\Continuum\\anaconda3\\lib\\site-packages\\sklearn\\linear_model\\logistic.py:433: FutureWarning: Default solver will be changed to 'lbfgs' in 0.22. Specify a solver to silence this warning.\n",
      "  FutureWarning)\n",
      "C:\\Users\\aman.khatri91425\\AppData\\Local\\Continuum\\anaconda3\\lib\\site-packages\\sklearn\\linear_model\\logistic.py:433: FutureWarning: Default solver will be changed to 'lbfgs' in 0.22. Specify a solver to silence this warning.\n",
      "  FutureWarning)\n",
      "C:\\Users\\aman.khatri91425\\AppData\\Local\\Continuum\\anaconda3\\lib\\site-packages\\sklearn\\linear_model\\logistic.py:433: FutureWarning: Default solver will be changed to 'lbfgs' in 0.22. Specify a solver to silence this warning.\n",
      "  FutureWarning)\n",
      "C:\\Users\\aman.khatri91425\\AppData\\Local\\Continuum\\anaconda3\\lib\\site-packages\\sklearn\\linear_model\\logistic.py:433: FutureWarning: Default solver will be changed to 'lbfgs' in 0.22. Specify a solver to silence this warning.\n",
      "  FutureWarning)\n"
     ]
    },
    {
     "name": "stderr",
     "output_type": "stream",
     "text": [
      "C:\\Users\\aman.khatri91425\\AppData\\Local\\Continuum\\anaconda3\\lib\\site-packages\\sklearn\\linear_model\\logistic.py:433: FutureWarning: Default solver will be changed to 'lbfgs' in 0.22. Specify a solver to silence this warning.\n",
      "  FutureWarning)\n",
      "C:\\Users\\aman.khatri91425\\AppData\\Local\\Continuum\\anaconda3\\lib\\site-packages\\sklearn\\linear_model\\logistic.py:433: FutureWarning: Default solver will be changed to 'lbfgs' in 0.22. Specify a solver to silence this warning.\n",
      "  FutureWarning)\n",
      "C:\\Users\\aman.khatri91425\\AppData\\Local\\Continuum\\anaconda3\\lib\\site-packages\\sklearn\\linear_model\\logistic.py:433: FutureWarning: Default solver will be changed to 'lbfgs' in 0.22. Specify a solver to silence this warning.\n",
      "  FutureWarning)\n",
      "C:\\Users\\aman.khatri91425\\AppData\\Local\\Continuum\\anaconda3\\lib\\site-packages\\sklearn\\linear_model\\logistic.py:433: FutureWarning: Default solver will be changed to 'lbfgs' in 0.22. Specify a solver to silence this warning.\n",
      "  FutureWarning)\n",
      "C:\\Users\\aman.khatri91425\\AppData\\Local\\Continuum\\anaconda3\\lib\\site-packages\\sklearn\\linear_model\\logistic.py:433: FutureWarning: Default solver will be changed to 'lbfgs' in 0.22. Specify a solver to silence this warning.\n",
      "  FutureWarning)\n",
      "C:\\Users\\aman.khatri91425\\AppData\\Local\\Continuum\\anaconda3\\lib\\site-packages\\sklearn\\linear_model\\logistic.py:433: FutureWarning: Default solver will be changed to 'lbfgs' in 0.22. Specify a solver to silence this warning.\n",
      "  FutureWarning)\n",
      "C:\\Users\\aman.khatri91425\\AppData\\Local\\Continuum\\anaconda3\\lib\\site-packages\\sklearn\\linear_model\\logistic.py:433: FutureWarning: Default solver will be changed to 'lbfgs' in 0.22. Specify a solver to silence this warning.\n",
      "  FutureWarning)\n",
      "C:\\Users\\aman.khatri91425\\AppData\\Local\\Continuum\\anaconda3\\lib\\site-packages\\sklearn\\linear_model\\logistic.py:433: FutureWarning: Default solver will be changed to 'lbfgs' in 0.22. Specify a solver to silence this warning.\n",
      "  FutureWarning)\n",
      "C:\\Users\\aman.khatri91425\\AppData\\Local\\Continuum\\anaconda3\\lib\\site-packages\\sklearn\\linear_model\\logistic.py:433: FutureWarning: Default solver will be changed to 'lbfgs' in 0.22. Specify a solver to silence this warning.\n",
      "  FutureWarning)\n",
      "C:\\Users\\aman.khatri91425\\AppData\\Local\\Continuum\\anaconda3\\lib\\site-packages\\sklearn\\linear_model\\logistic.py:433: FutureWarning: Default solver will be changed to 'lbfgs' in 0.22. Specify a solver to silence this warning.\n",
      "  FutureWarning)\n",
      "C:\\Users\\aman.khatri91425\\AppData\\Local\\Continuum\\anaconda3\\lib\\site-packages\\sklearn\\linear_model\\logistic.py:433: FutureWarning: Default solver will be changed to 'lbfgs' in 0.22. Specify a solver to silence this warning.\n",
      "  FutureWarning)\n",
      "C:\\Users\\aman.khatri91425\\AppData\\Local\\Continuum\\anaconda3\\lib\\site-packages\\sklearn\\linear_model\\logistic.py:433: FutureWarning: Default solver will be changed to 'lbfgs' in 0.22. Specify a solver to silence this warning.\n",
      "  FutureWarning)\n",
      "C:\\Users\\aman.khatri91425\\AppData\\Local\\Continuum\\anaconda3\\lib\\site-packages\\sklearn\\linear_model\\logistic.py:433: FutureWarning: Default solver will be changed to 'lbfgs' in 0.22. Specify a solver to silence this warning.\n",
      "  FutureWarning)\n",
      "C:\\Users\\aman.khatri91425\\AppData\\Local\\Continuum\\anaconda3\\lib\\site-packages\\sklearn\\linear_model\\logistic.py:433: FutureWarning: Default solver will be changed to 'lbfgs' in 0.22. Specify a solver to silence this warning.\n",
      "  FutureWarning)\n",
      "C:\\Users\\aman.khatri91425\\AppData\\Local\\Continuum\\anaconda3\\lib\\site-packages\\sklearn\\linear_model\\logistic.py:433: FutureWarning: Default solver will be changed to 'lbfgs' in 0.22. Specify a solver to silence this warning.\n",
      "  FutureWarning)\n",
      "C:\\Users\\aman.khatri91425\\AppData\\Local\\Continuum\\anaconda3\\lib\\site-packages\\sklearn\\linear_model\\logistic.py:433: FutureWarning: Default solver will be changed to 'lbfgs' in 0.22. Specify a solver to silence this warning.\n",
      "  FutureWarning)\n",
      "C:\\Users\\aman.khatri91425\\AppData\\Local\\Continuum\\anaconda3\\lib\\site-packages\\sklearn\\linear_model\\logistic.py:433: FutureWarning: Default solver will be changed to 'lbfgs' in 0.22. Specify a solver to silence this warning.\n",
      "  FutureWarning)\n",
      "C:\\Users\\aman.khatri91425\\AppData\\Local\\Continuum\\anaconda3\\lib\\site-packages\\sklearn\\linear_model\\logistic.py:433: FutureWarning: Default solver will be changed to 'lbfgs' in 0.22. Specify a solver to silence this warning.\n",
      "  FutureWarning)\n",
      "C:\\Users\\aman.khatri91425\\AppData\\Local\\Continuum\\anaconda3\\lib\\site-packages\\sklearn\\linear_model\\logistic.py:433: FutureWarning: Default solver will be changed to 'lbfgs' in 0.22. Specify a solver to silence this warning.\n",
      "  FutureWarning)\n",
      "C:\\Users\\aman.khatri91425\\AppData\\Local\\Continuum\\anaconda3\\lib\\site-packages\\sklearn\\linear_model\\logistic.py:433: FutureWarning: Default solver will be changed to 'lbfgs' in 0.22. Specify a solver to silence this warning.\n",
      "  FutureWarning)\n",
      "C:\\Users\\aman.khatri91425\\AppData\\Local\\Continuum\\anaconda3\\lib\\site-packages\\sklearn\\linear_model\\logistic.py:433: FutureWarning: Default solver will be changed to 'lbfgs' in 0.22. Specify a solver to silence this warning.\n",
      "  FutureWarning)\n",
      "C:\\Users\\aman.khatri91425\\AppData\\Local\\Continuum\\anaconda3\\lib\\site-packages\\sklearn\\linear_model\\logistic.py:433: FutureWarning: Default solver will be changed to 'lbfgs' in 0.22. Specify a solver to silence this warning.\n",
      "  FutureWarning)\n",
      "C:\\Users\\aman.khatri91425\\AppData\\Local\\Continuum\\anaconda3\\lib\\site-packages\\sklearn\\linear_model\\logistic.py:433: FutureWarning: Default solver will be changed to 'lbfgs' in 0.22. Specify a solver to silence this warning.\n",
      "  FutureWarning)\n",
      "C:\\Users\\aman.khatri91425\\AppData\\Local\\Continuum\\anaconda3\\lib\\site-packages\\sklearn\\linear_model\\logistic.py:433: FutureWarning: Default solver will be changed to 'lbfgs' in 0.22. Specify a solver to silence this warning.\n",
      "  FutureWarning)\n",
      "C:\\Users\\aman.khatri91425\\AppData\\Local\\Continuum\\anaconda3\\lib\\site-packages\\sklearn\\linear_model\\logistic.py:433: FutureWarning: Default solver will be changed to 'lbfgs' in 0.22. Specify a solver to silence this warning.\n",
      "  FutureWarning)\n",
      "C:\\Users\\aman.khatri91425\\AppData\\Local\\Continuum\\anaconda3\\lib\\site-packages\\sklearn\\linear_model\\logistic.py:433: FutureWarning: Default solver will be changed to 'lbfgs' in 0.22. Specify a solver to silence this warning.\n",
      "  FutureWarning)\n",
      "C:\\Users\\aman.khatri91425\\AppData\\Local\\Continuum\\anaconda3\\lib\\site-packages\\sklearn\\linear_model\\logistic.py:433: FutureWarning: Default solver will be changed to 'lbfgs' in 0.22. Specify a solver to silence this warning.\n",
      "  FutureWarning)\n",
      "C:\\Users\\aman.khatri91425\\AppData\\Local\\Continuum\\anaconda3\\lib\\site-packages\\sklearn\\linear_model\\logistic.py:433: FutureWarning: Default solver will be changed to 'lbfgs' in 0.22. Specify a solver to silence this warning.\n",
      "  FutureWarning)\n",
      "C:\\Users\\aman.khatri91425\\AppData\\Local\\Continuum\\anaconda3\\lib\\site-packages\\sklearn\\linear_model\\logistic.py:433: FutureWarning: Default solver will be changed to 'lbfgs' in 0.22. Specify a solver to silence this warning.\n",
      "  FutureWarning)\n",
      "C:\\Users\\aman.khatri91425\\AppData\\Local\\Continuum\\anaconda3\\lib\\site-packages\\sklearn\\linear_model\\logistic.py:433: FutureWarning: Default solver will be changed to 'lbfgs' in 0.22. Specify a solver to silence this warning.\n",
      "  FutureWarning)\n",
      "C:\\Users\\aman.khatri91425\\AppData\\Local\\Continuum\\anaconda3\\lib\\site-packages\\sklearn\\linear_model\\logistic.py:433: FutureWarning: Default solver will be changed to 'lbfgs' in 0.22. Specify a solver to silence this warning.\n",
      "  FutureWarning)\n",
      "C:\\Users\\aman.khatri91425\\AppData\\Local\\Continuum\\anaconda3\\lib\\site-packages\\sklearn\\linear_model\\logistic.py:433: FutureWarning: Default solver will be changed to 'lbfgs' in 0.22. Specify a solver to silence this warning.\n",
      "  FutureWarning)\n",
      "C:\\Users\\aman.khatri91425\\AppData\\Local\\Continuum\\anaconda3\\lib\\site-packages\\sklearn\\linear_model\\logistic.py:433: FutureWarning: Default solver will be changed to 'lbfgs' in 0.22. Specify a solver to silence this warning.\n",
      "  FutureWarning)\n",
      "C:\\Users\\aman.khatri91425\\AppData\\Local\\Continuum\\anaconda3\\lib\\site-packages\\sklearn\\linear_model\\logistic.py:433: FutureWarning: Default solver will be changed to 'lbfgs' in 0.22. Specify a solver to silence this warning.\n",
      "  FutureWarning)\n"
     ]
    },
    {
     "name": "stderr",
     "output_type": "stream",
     "text": [
      "C:\\Users\\aman.khatri91425\\AppData\\Local\\Continuum\\anaconda3\\lib\\site-packages\\sklearn\\linear_model\\logistic.py:433: FutureWarning: Default solver will be changed to 'lbfgs' in 0.22. Specify a solver to silence this warning.\n",
      "  FutureWarning)\n",
      "C:\\Users\\aman.khatri91425\\AppData\\Local\\Continuum\\anaconda3\\lib\\site-packages\\sklearn\\linear_model\\logistic.py:433: FutureWarning: Default solver will be changed to 'lbfgs' in 0.22. Specify a solver to silence this warning.\n",
      "  FutureWarning)\n",
      "C:\\Users\\aman.khatri91425\\AppData\\Local\\Continuum\\anaconda3\\lib\\site-packages\\sklearn\\linear_model\\logistic.py:433: FutureWarning: Default solver will be changed to 'lbfgs' in 0.22. Specify a solver to silence this warning.\n",
      "  FutureWarning)\n",
      "C:\\Users\\aman.khatri91425\\AppData\\Local\\Continuum\\anaconda3\\lib\\site-packages\\sklearn\\linear_model\\logistic.py:433: FutureWarning: Default solver will be changed to 'lbfgs' in 0.22. Specify a solver to silence this warning.\n",
      "  FutureWarning)\n",
      "C:\\Users\\aman.khatri91425\\AppData\\Local\\Continuum\\anaconda3\\lib\\site-packages\\sklearn\\linear_model\\logistic.py:433: FutureWarning: Default solver will be changed to 'lbfgs' in 0.22. Specify a solver to silence this warning.\n",
      "  FutureWarning)\n",
      "C:\\Users\\aman.khatri91425\\AppData\\Local\\Continuum\\anaconda3\\lib\\site-packages\\sklearn\\linear_model\\logistic.py:433: FutureWarning: Default solver will be changed to 'lbfgs' in 0.22. Specify a solver to silence this warning.\n",
      "  FutureWarning)\n",
      "C:\\Users\\aman.khatri91425\\AppData\\Local\\Continuum\\anaconda3\\lib\\site-packages\\sklearn\\linear_model\\logistic.py:433: FutureWarning: Default solver will be changed to 'lbfgs' in 0.22. Specify a solver to silence this warning.\n",
      "  FutureWarning)\n",
      "C:\\Users\\aman.khatri91425\\AppData\\Local\\Continuum\\anaconda3\\lib\\site-packages\\sklearn\\linear_model\\logistic.py:433: FutureWarning: Default solver will be changed to 'lbfgs' in 0.22. Specify a solver to silence this warning.\n",
      "  FutureWarning)\n",
      "C:\\Users\\aman.khatri91425\\AppData\\Local\\Continuum\\anaconda3\\lib\\site-packages\\sklearn\\linear_model\\logistic.py:433: FutureWarning: Default solver will be changed to 'lbfgs' in 0.22. Specify a solver to silence this warning.\n",
      "  FutureWarning)\n",
      "C:\\Users\\aman.khatri91425\\AppData\\Local\\Continuum\\anaconda3\\lib\\site-packages\\sklearn\\linear_model\\logistic.py:433: FutureWarning: Default solver will be changed to 'lbfgs' in 0.22. Specify a solver to silence this warning.\n",
      "  FutureWarning)\n",
      "C:\\Users\\aman.khatri91425\\AppData\\Local\\Continuum\\anaconda3\\lib\\site-packages\\sklearn\\linear_model\\logistic.py:433: FutureWarning: Default solver will be changed to 'lbfgs' in 0.22. Specify a solver to silence this warning.\n",
      "  FutureWarning)\n",
      "C:\\Users\\aman.khatri91425\\AppData\\Local\\Continuum\\anaconda3\\lib\\site-packages\\sklearn\\linear_model\\logistic.py:433: FutureWarning: Default solver will be changed to 'lbfgs' in 0.22. Specify a solver to silence this warning.\n",
      "  FutureWarning)\n",
      "C:\\Users\\aman.khatri91425\\AppData\\Local\\Continuum\\anaconda3\\lib\\site-packages\\sklearn\\linear_model\\logistic.py:433: FutureWarning: Default solver will be changed to 'lbfgs' in 0.22. Specify a solver to silence this warning.\n",
      "  FutureWarning)\n",
      "C:\\Users\\aman.khatri91425\\AppData\\Local\\Continuum\\anaconda3\\lib\\site-packages\\sklearn\\linear_model\\logistic.py:433: FutureWarning: Default solver will be changed to 'lbfgs' in 0.22. Specify a solver to silence this warning.\n",
      "  FutureWarning)\n",
      "C:\\Users\\aman.khatri91425\\AppData\\Local\\Continuum\\anaconda3\\lib\\site-packages\\sklearn\\linear_model\\logistic.py:433: FutureWarning: Default solver will be changed to 'lbfgs' in 0.22. Specify a solver to silence this warning.\n",
      "  FutureWarning)\n",
      "C:\\Users\\aman.khatri91425\\AppData\\Local\\Continuum\\anaconda3\\lib\\site-packages\\sklearn\\linear_model\\logistic.py:433: FutureWarning: Default solver will be changed to 'lbfgs' in 0.22. Specify a solver to silence this warning.\n",
      "  FutureWarning)\n",
      "C:\\Users\\aman.khatri91425\\AppData\\Local\\Continuum\\anaconda3\\lib\\site-packages\\sklearn\\linear_model\\logistic.py:433: FutureWarning: Default solver will be changed to 'lbfgs' in 0.22. Specify a solver to silence this warning.\n",
      "  FutureWarning)\n",
      "C:\\Users\\aman.khatri91425\\AppData\\Local\\Continuum\\anaconda3\\lib\\site-packages\\sklearn\\linear_model\\logistic.py:433: FutureWarning: Default solver will be changed to 'lbfgs' in 0.22. Specify a solver to silence this warning.\n",
      "  FutureWarning)\n",
      "C:\\Users\\aman.khatri91425\\AppData\\Local\\Continuum\\anaconda3\\lib\\site-packages\\sklearn\\linear_model\\logistic.py:433: FutureWarning: Default solver will be changed to 'lbfgs' in 0.22. Specify a solver to silence this warning.\n",
      "  FutureWarning)\n",
      "C:\\Users\\aman.khatri91425\\AppData\\Local\\Continuum\\anaconda3\\lib\\site-packages\\sklearn\\linear_model\\logistic.py:433: FutureWarning: Default solver will be changed to 'lbfgs' in 0.22. Specify a solver to silence this warning.\n",
      "  FutureWarning)\n",
      "C:\\Users\\aman.khatri91425\\AppData\\Local\\Continuum\\anaconda3\\lib\\site-packages\\sklearn\\linear_model\\logistic.py:433: FutureWarning: Default solver will be changed to 'lbfgs' in 0.22. Specify a solver to silence this warning.\n",
      "  FutureWarning)\n",
      "C:\\Users\\aman.khatri91425\\AppData\\Local\\Continuum\\anaconda3\\lib\\site-packages\\sklearn\\linear_model\\logistic.py:433: FutureWarning: Default solver will be changed to 'lbfgs' in 0.22. Specify a solver to silence this warning.\n",
      "  FutureWarning)\n",
      "C:\\Users\\aman.khatri91425\\AppData\\Local\\Continuum\\anaconda3\\lib\\site-packages\\sklearn\\linear_model\\logistic.py:433: FutureWarning: Default solver will be changed to 'lbfgs' in 0.22. Specify a solver to silence this warning.\n",
      "  FutureWarning)\n",
      "C:\\Users\\aman.khatri91425\\AppData\\Local\\Continuum\\anaconda3\\lib\\site-packages\\sklearn\\linear_model\\logistic.py:433: FutureWarning: Default solver will be changed to 'lbfgs' in 0.22. Specify a solver to silence this warning.\n",
      "  FutureWarning)\n",
      "C:\\Users\\aman.khatri91425\\AppData\\Local\\Continuum\\anaconda3\\lib\\site-packages\\sklearn\\linear_model\\logistic.py:433: FutureWarning: Default solver will be changed to 'lbfgs' in 0.22. Specify a solver to silence this warning.\n",
      "  FutureWarning)\n",
      "C:\\Users\\aman.khatri91425\\AppData\\Local\\Continuum\\anaconda3\\lib\\site-packages\\sklearn\\linear_model\\logistic.py:433: FutureWarning: Default solver will be changed to 'lbfgs' in 0.22. Specify a solver to silence this warning.\n",
      "  FutureWarning)\n",
      "C:\\Users\\aman.khatri91425\\AppData\\Local\\Continuum\\anaconda3\\lib\\site-packages\\sklearn\\linear_model\\logistic.py:433: FutureWarning: Default solver will be changed to 'lbfgs' in 0.22. Specify a solver to silence this warning.\n",
      "  FutureWarning)\n",
      "C:\\Users\\aman.khatri91425\\AppData\\Local\\Continuum\\anaconda3\\lib\\site-packages\\sklearn\\linear_model\\logistic.py:433: FutureWarning: Default solver will be changed to 'lbfgs' in 0.22. Specify a solver to silence this warning.\n",
      "  FutureWarning)\n",
      "C:\\Users\\aman.khatri91425\\AppData\\Local\\Continuum\\anaconda3\\lib\\site-packages\\sklearn\\linear_model\\logistic.py:433: FutureWarning: Default solver will be changed to 'lbfgs' in 0.22. Specify a solver to silence this warning.\n",
      "  FutureWarning)\n",
      "C:\\Users\\aman.khatri91425\\AppData\\Local\\Continuum\\anaconda3\\lib\\site-packages\\sklearn\\linear_model\\logistic.py:433: FutureWarning: Default solver will be changed to 'lbfgs' in 0.22. Specify a solver to silence this warning.\n",
      "  FutureWarning)\n",
      "C:\\Users\\aman.khatri91425\\AppData\\Local\\Continuum\\anaconda3\\lib\\site-packages\\sklearn\\linear_model\\logistic.py:433: FutureWarning: Default solver will be changed to 'lbfgs' in 0.22. Specify a solver to silence this warning.\n",
      "  FutureWarning)\n",
      "C:\\Users\\aman.khatri91425\\AppData\\Local\\Continuum\\anaconda3\\lib\\site-packages\\sklearn\\linear_model\\logistic.py:433: FutureWarning: Default solver will be changed to 'lbfgs' in 0.22. Specify a solver to silence this warning.\n",
      "  FutureWarning)\n",
      "C:\\Users\\aman.khatri91425\\AppData\\Local\\Continuum\\anaconda3\\lib\\site-packages\\sklearn\\linear_model\\logistic.py:433: FutureWarning: Default solver will be changed to 'lbfgs' in 0.22. Specify a solver to silence this warning.\n",
      "  FutureWarning)\n",
      "C:\\Users\\aman.khatri91425\\AppData\\Local\\Continuum\\anaconda3\\lib\\site-packages\\sklearn\\linear_model\\logistic.py:433: FutureWarning: Default solver will be changed to 'lbfgs' in 0.22. Specify a solver to silence this warning.\n",
      "  FutureWarning)\n"
     ]
    },
    {
     "name": "stderr",
     "output_type": "stream",
     "text": [
      "C:\\Users\\aman.khatri91425\\AppData\\Local\\Continuum\\anaconda3\\lib\\site-packages\\sklearn\\linear_model\\logistic.py:433: FutureWarning: Default solver will be changed to 'lbfgs' in 0.22. Specify a solver to silence this warning.\n",
      "  FutureWarning)\n",
      "C:\\Users\\aman.khatri91425\\AppData\\Local\\Continuum\\anaconda3\\lib\\site-packages\\sklearn\\linear_model\\logistic.py:433: FutureWarning: Default solver will be changed to 'lbfgs' in 0.22. Specify a solver to silence this warning.\n",
      "  FutureWarning)\n",
      "C:\\Users\\aman.khatri91425\\AppData\\Local\\Continuum\\anaconda3\\lib\\site-packages\\sklearn\\linear_model\\logistic.py:433: FutureWarning: Default solver will be changed to 'lbfgs' in 0.22. Specify a solver to silence this warning.\n",
      "  FutureWarning)\n",
      "C:\\Users\\aman.khatri91425\\AppData\\Local\\Continuum\\anaconda3\\lib\\site-packages\\sklearn\\linear_model\\logistic.py:433: FutureWarning: Default solver will be changed to 'lbfgs' in 0.22. Specify a solver to silence this warning.\n",
      "  FutureWarning)\n",
      "C:\\Users\\aman.khatri91425\\AppData\\Local\\Continuum\\anaconda3\\lib\\site-packages\\sklearn\\linear_model\\logistic.py:433: FutureWarning: Default solver will be changed to 'lbfgs' in 0.22. Specify a solver to silence this warning.\n",
      "  FutureWarning)\n",
      "C:\\Users\\aman.khatri91425\\AppData\\Local\\Continuum\\anaconda3\\lib\\site-packages\\sklearn\\linear_model\\logistic.py:433: FutureWarning: Default solver will be changed to 'lbfgs' in 0.22. Specify a solver to silence this warning.\n",
      "  FutureWarning)\n",
      "C:\\Users\\aman.khatri91425\\AppData\\Local\\Continuum\\anaconda3\\lib\\site-packages\\sklearn\\linear_model\\logistic.py:433: FutureWarning: Default solver will be changed to 'lbfgs' in 0.22. Specify a solver to silence this warning.\n",
      "  FutureWarning)\n",
      "C:\\Users\\aman.khatri91425\\AppData\\Local\\Continuum\\anaconda3\\lib\\site-packages\\sklearn\\linear_model\\logistic.py:433: FutureWarning: Default solver will be changed to 'lbfgs' in 0.22. Specify a solver to silence this warning.\n",
      "  FutureWarning)\n",
      "C:\\Users\\aman.khatri91425\\AppData\\Local\\Continuum\\anaconda3\\lib\\site-packages\\sklearn\\linear_model\\logistic.py:433: FutureWarning: Default solver will be changed to 'lbfgs' in 0.22. Specify a solver to silence this warning.\n",
      "  FutureWarning)\n",
      "C:\\Users\\aman.khatri91425\\AppData\\Local\\Continuum\\anaconda3\\lib\\site-packages\\sklearn\\linear_model\\logistic.py:433: FutureWarning: Default solver will be changed to 'lbfgs' in 0.22. Specify a solver to silence this warning.\n",
      "  FutureWarning)\n",
      "C:\\Users\\aman.khatri91425\\AppData\\Local\\Continuum\\anaconda3\\lib\\site-packages\\sklearn\\linear_model\\logistic.py:433: FutureWarning: Default solver will be changed to 'lbfgs' in 0.22. Specify a solver to silence this warning.\n",
      "  FutureWarning)\n",
      "C:\\Users\\aman.khatri91425\\AppData\\Local\\Continuum\\anaconda3\\lib\\site-packages\\sklearn\\linear_model\\logistic.py:433: FutureWarning: Default solver will be changed to 'lbfgs' in 0.22. Specify a solver to silence this warning.\n",
      "  FutureWarning)\n",
      "C:\\Users\\aman.khatri91425\\AppData\\Local\\Continuum\\anaconda3\\lib\\site-packages\\sklearn\\linear_model\\logistic.py:433: FutureWarning: Default solver will be changed to 'lbfgs' in 0.22. Specify a solver to silence this warning.\n",
      "  FutureWarning)\n",
      "C:\\Users\\aman.khatri91425\\AppData\\Local\\Continuum\\anaconda3\\lib\\site-packages\\sklearn\\linear_model\\logistic.py:433: FutureWarning: Default solver will be changed to 'lbfgs' in 0.22. Specify a solver to silence this warning.\n",
      "  FutureWarning)\n",
      "C:\\Users\\aman.khatri91425\\AppData\\Local\\Continuum\\anaconda3\\lib\\site-packages\\sklearn\\linear_model\\logistic.py:433: FutureWarning: Default solver will be changed to 'lbfgs' in 0.22. Specify a solver to silence this warning.\n",
      "  FutureWarning)\n",
      "C:\\Users\\aman.khatri91425\\AppData\\Local\\Continuum\\anaconda3\\lib\\site-packages\\sklearn\\linear_model\\logistic.py:433: FutureWarning: Default solver will be changed to 'lbfgs' in 0.22. Specify a solver to silence this warning.\n",
      "  FutureWarning)\n",
      "C:\\Users\\aman.khatri91425\\AppData\\Local\\Continuum\\anaconda3\\lib\\site-packages\\sklearn\\linear_model\\logistic.py:433: FutureWarning: Default solver will be changed to 'lbfgs' in 0.22. Specify a solver to silence this warning.\n",
      "  FutureWarning)\n",
      "C:\\Users\\aman.khatri91425\\AppData\\Local\\Continuum\\anaconda3\\lib\\site-packages\\sklearn\\linear_model\\logistic.py:433: FutureWarning: Default solver will be changed to 'lbfgs' in 0.22. Specify a solver to silence this warning.\n",
      "  FutureWarning)\n",
      "C:\\Users\\aman.khatri91425\\AppData\\Local\\Continuum\\anaconda3\\lib\\site-packages\\sklearn\\linear_model\\logistic.py:433: FutureWarning: Default solver will be changed to 'lbfgs' in 0.22. Specify a solver to silence this warning.\n",
      "  FutureWarning)\n",
      "C:\\Users\\aman.khatri91425\\AppData\\Local\\Continuum\\anaconda3\\lib\\site-packages\\sklearn\\linear_model\\logistic.py:433: FutureWarning: Default solver will be changed to 'lbfgs' in 0.22. Specify a solver to silence this warning.\n",
      "  FutureWarning)\n",
      "C:\\Users\\aman.khatri91425\\AppData\\Local\\Continuum\\anaconda3\\lib\\site-packages\\sklearn\\linear_model\\logistic.py:433: FutureWarning: Default solver will be changed to 'lbfgs' in 0.22. Specify a solver to silence this warning.\n",
      "  FutureWarning)\n",
      "C:\\Users\\aman.khatri91425\\AppData\\Local\\Continuum\\anaconda3\\lib\\site-packages\\sklearn\\linear_model\\logistic.py:433: FutureWarning: Default solver will be changed to 'lbfgs' in 0.22. Specify a solver to silence this warning.\n",
      "  FutureWarning)\n",
      "C:\\Users\\aman.khatri91425\\AppData\\Local\\Continuum\\anaconda3\\lib\\site-packages\\sklearn\\linear_model\\logistic.py:433: FutureWarning: Default solver will be changed to 'lbfgs' in 0.22. Specify a solver to silence this warning.\n",
      "  FutureWarning)\n",
      "C:\\Users\\aman.khatri91425\\AppData\\Local\\Continuum\\anaconda3\\lib\\site-packages\\sklearn\\linear_model\\logistic.py:433: FutureWarning: Default solver will be changed to 'lbfgs' in 0.22. Specify a solver to silence this warning.\n",
      "  FutureWarning)\n",
      "C:\\Users\\aman.khatri91425\\AppData\\Local\\Continuum\\anaconda3\\lib\\site-packages\\sklearn\\linear_model\\logistic.py:433: FutureWarning: Default solver will be changed to 'lbfgs' in 0.22. Specify a solver to silence this warning.\n",
      "  FutureWarning)\n",
      "C:\\Users\\aman.khatri91425\\AppData\\Local\\Continuum\\anaconda3\\lib\\site-packages\\sklearn\\linear_model\\logistic.py:433: FutureWarning: Default solver will be changed to 'lbfgs' in 0.22. Specify a solver to silence this warning.\n",
      "  FutureWarning)\n",
      "C:\\Users\\aman.khatri91425\\AppData\\Local\\Continuum\\anaconda3\\lib\\site-packages\\sklearn\\linear_model\\logistic.py:433: FutureWarning: Default solver will be changed to 'lbfgs' in 0.22. Specify a solver to silence this warning.\n",
      "  FutureWarning)\n",
      "C:\\Users\\aman.khatri91425\\AppData\\Local\\Continuum\\anaconda3\\lib\\site-packages\\sklearn\\linear_model\\logistic.py:433: FutureWarning: Default solver will be changed to 'lbfgs' in 0.22. Specify a solver to silence this warning.\n",
      "  FutureWarning)\n",
      "C:\\Users\\aman.khatri91425\\AppData\\Local\\Continuum\\anaconda3\\lib\\site-packages\\sklearn\\linear_model\\logistic.py:433: FutureWarning: Default solver will be changed to 'lbfgs' in 0.22. Specify a solver to silence this warning.\n",
      "  FutureWarning)\n",
      "C:\\Users\\aman.khatri91425\\AppData\\Local\\Continuum\\anaconda3\\lib\\site-packages\\sklearn\\linear_model\\logistic.py:433: FutureWarning: Default solver will be changed to 'lbfgs' in 0.22. Specify a solver to silence this warning.\n",
      "  FutureWarning)\n",
      "C:\\Users\\aman.khatri91425\\AppData\\Local\\Continuum\\anaconda3\\lib\\site-packages\\sklearn\\linear_model\\logistic.py:433: FutureWarning: Default solver will be changed to 'lbfgs' in 0.22. Specify a solver to silence this warning.\n",
      "  FutureWarning)\n",
      "C:\\Users\\aman.khatri91425\\AppData\\Local\\Continuum\\anaconda3\\lib\\site-packages\\sklearn\\linear_model\\logistic.py:433: FutureWarning: Default solver will be changed to 'lbfgs' in 0.22. Specify a solver to silence this warning.\n",
      "  FutureWarning)\n",
      "C:\\Users\\aman.khatri91425\\AppData\\Local\\Continuum\\anaconda3\\lib\\site-packages\\sklearn\\linear_model\\logistic.py:433: FutureWarning: Default solver will be changed to 'lbfgs' in 0.22. Specify a solver to silence this warning.\n",
      "  FutureWarning)\n",
      "C:\\Users\\aman.khatri91425\\AppData\\Local\\Continuum\\anaconda3\\lib\\site-packages\\sklearn\\linear_model\\logistic.py:433: FutureWarning: Default solver will be changed to 'lbfgs' in 0.22. Specify a solver to silence this warning.\n",
      "  FutureWarning)\n"
     ]
    },
    {
     "name": "stderr",
     "output_type": "stream",
     "text": [
      "C:\\Users\\aman.khatri91425\\AppData\\Local\\Continuum\\anaconda3\\lib\\site-packages\\sklearn\\linear_model\\logistic.py:433: FutureWarning: Default solver will be changed to 'lbfgs' in 0.22. Specify a solver to silence this warning.\n",
      "  FutureWarning)\n",
      "C:\\Users\\aman.khatri91425\\AppData\\Local\\Continuum\\anaconda3\\lib\\site-packages\\sklearn\\linear_model\\logistic.py:433: FutureWarning: Default solver will be changed to 'lbfgs' in 0.22. Specify a solver to silence this warning.\n",
      "  FutureWarning)\n",
      "C:\\Users\\aman.khatri91425\\AppData\\Local\\Continuum\\anaconda3\\lib\\site-packages\\sklearn\\linear_model\\logistic.py:433: FutureWarning: Default solver will be changed to 'lbfgs' in 0.22. Specify a solver to silence this warning.\n",
      "  FutureWarning)\n",
      "C:\\Users\\aman.khatri91425\\AppData\\Local\\Continuum\\anaconda3\\lib\\site-packages\\sklearn\\linear_model\\logistic.py:433: FutureWarning: Default solver will be changed to 'lbfgs' in 0.22. Specify a solver to silence this warning.\n",
      "  FutureWarning)\n",
      "C:\\Users\\aman.khatri91425\\AppData\\Local\\Continuum\\anaconda3\\lib\\site-packages\\sklearn\\linear_model\\logistic.py:433: FutureWarning: Default solver will be changed to 'lbfgs' in 0.22. Specify a solver to silence this warning.\n",
      "  FutureWarning)\n",
      "C:\\Users\\aman.khatri91425\\AppData\\Local\\Continuum\\anaconda3\\lib\\site-packages\\sklearn\\linear_model\\logistic.py:433: FutureWarning: Default solver will be changed to 'lbfgs' in 0.22. Specify a solver to silence this warning.\n",
      "  FutureWarning)\n",
      "C:\\Users\\aman.khatri91425\\AppData\\Local\\Continuum\\anaconda3\\lib\\site-packages\\sklearn\\linear_model\\logistic.py:433: FutureWarning: Default solver will be changed to 'lbfgs' in 0.22. Specify a solver to silence this warning.\n",
      "  FutureWarning)\n",
      "C:\\Users\\aman.khatri91425\\AppData\\Local\\Continuum\\anaconda3\\lib\\site-packages\\sklearn\\linear_model\\logistic.py:433: FutureWarning: Default solver will be changed to 'lbfgs' in 0.22. Specify a solver to silence this warning.\n",
      "  FutureWarning)\n",
      "C:\\Users\\aman.khatri91425\\AppData\\Local\\Continuum\\anaconda3\\lib\\site-packages\\sklearn\\linear_model\\logistic.py:433: FutureWarning: Default solver will be changed to 'lbfgs' in 0.22. Specify a solver to silence this warning.\n",
      "  FutureWarning)\n",
      "C:\\Users\\aman.khatri91425\\AppData\\Local\\Continuum\\anaconda3\\lib\\site-packages\\sklearn\\linear_model\\logistic.py:433: FutureWarning: Default solver will be changed to 'lbfgs' in 0.22. Specify a solver to silence this warning.\n",
      "  FutureWarning)\n",
      "C:\\Users\\aman.khatri91425\\AppData\\Local\\Continuum\\anaconda3\\lib\\site-packages\\sklearn\\linear_model\\logistic.py:433: FutureWarning: Default solver will be changed to 'lbfgs' in 0.22. Specify a solver to silence this warning.\n",
      "  FutureWarning)\n",
      "C:\\Users\\aman.khatri91425\\AppData\\Local\\Continuum\\anaconda3\\lib\\site-packages\\sklearn\\linear_model\\logistic.py:433: FutureWarning: Default solver will be changed to 'lbfgs' in 0.22. Specify a solver to silence this warning.\n",
      "  FutureWarning)\n",
      "C:\\Users\\aman.khatri91425\\AppData\\Local\\Continuum\\anaconda3\\lib\\site-packages\\sklearn\\linear_model\\logistic.py:433: FutureWarning: Default solver will be changed to 'lbfgs' in 0.22. Specify a solver to silence this warning.\n",
      "  FutureWarning)\n",
      "C:\\Users\\aman.khatri91425\\AppData\\Local\\Continuum\\anaconda3\\lib\\site-packages\\sklearn\\linear_model\\logistic.py:433: FutureWarning: Default solver will be changed to 'lbfgs' in 0.22. Specify a solver to silence this warning.\n",
      "  FutureWarning)\n",
      "C:\\Users\\aman.khatri91425\\AppData\\Local\\Continuum\\anaconda3\\lib\\site-packages\\sklearn\\linear_model\\logistic.py:433: FutureWarning: Default solver will be changed to 'lbfgs' in 0.22. Specify a solver to silence this warning.\n",
      "  FutureWarning)\n"
     ]
    },
    {
     "name": "stdout",
     "output_type": "stream",
     "text": [
      "Randomized search time: 93.7741391658783\n"
     ]
    }
   ],
   "source": [
    "#Calculate Gini Lift Logistic Regression\n",
    "print(\"Randomized search..\")\n",
    "\n",
    "search_time_start = time.time()\n",
    "rcv.fit(df_train[imp],np.ravel(df_train[\"RISK_FSTQPD30\"]))\n",
    "print(\"Randomized search time:\", time.time() - search_time_start)\n",
    "params = rcv.best_params_   #get best parameters\n",
    "dic=rcv.cv_results_    #provides scoring results for each iteration, 50 in this case, mean values can be used \n",
    "tmp= pd.DataFrame(dic['params'])"
   ]
  },
  {
   "cell_type": "code",
   "execution_count": 193,
   "metadata": {},
   "outputs": [],
   "source": [
    "pd.DataFrame(dic).to_csv(r\"C:\\Users\\aman.khatri91425\\Desktop\\HomeCredit\\Bigdata\\Common Maps KNN\\combined_model_RCV_results_FPD10.csv\")"
   ]
  },
  {
   "cell_type": "code",
   "execution_count": 194,
   "metadata": {},
   "outputs": [],
   "source": [
    "tmp1= pd.DataFrame(dic)[[\"param_C\",\"mean_test_roc_auc\",\"mean_train_roc_auc\"]].sort_values(by = 'param_C')"
   ]
  },
  {
   "cell_type": "code",
   "execution_count": 197,
   "metadata": {},
   "outputs": [
    {
     "data": {
      "text/plain": [
       "{'C': 23.35941231750983}"
      ]
     },
     "execution_count": 197,
     "metadata": {},
     "output_type": "execute_result"
    }
   ],
   "source": [
    "params"
   ]
  },
  {
   "cell_type": "markdown",
   "metadata": {},
   "source": [
    "# MOM gini of all Scores"
   ]
  },
  {
   "cell_type": "code",
   "execution_count": 372,
   "metadata": {},
   "outputs": [
    {
     "data": {
      "text/plain": [
       "Timestamp('2019-02-01 00:00:00')"
      ]
     },
     "execution_count": 372,
     "metadata": {},
     "output_type": "execute_result"
    }
   ],
   "source": [
    "df[\"TIME_DECISION_DATE\"].min()"
   ]
  },
  {
   "cell_type": "code",
   "execution_count": 373,
   "metadata": {},
   "outputs": [],
   "source": [
    "gini_mom = {'month':[],'score_column':[], 'gini':[]}\n",
    "for x in df[\"TIME_DECISION_DATE\"].dt.month.unique():\n",
    "    for y in scores_columns:\n",
    "        if(df[df[\"TIME_DECISION_DATE\"].dt.month==x][y].isna().sum()>0):\n",
    "            gini_mom['month'].append(x)\n",
    "            gini_mom['score_column'].append(y)\n",
    "            gini_mom['gini'].append(np.nan)\n",
    "        else:\n",
    "            gini_mom['month'].append(x)\n",
    "            gini_mom['score_column'].append(y)\n",
    "            gini_mom['gini'].append(2*metrics.roc_auc_score(df[df[\"TIME_DECISION_DATE\"].dt.month==x]['RISK_FSTQPD30'],\n",
    "                                       df[df[\"TIME_DECISION_DATE\"].dt.month==x][y])-1)\n",
    "        \n",
    "        \n",
    "#                 print(2*metrics.roc_auc_score(df[df[\"TIME_DECISION_DATE\"].dt.month==x]['RISK_FSTQPD30'],\n",
    "#                                       df[df[\"TIME_DECISION_DATE\"].dt.month==x][y]))\n"
   ]
  },
  {
   "cell_type": "code",
   "execution_count": 374,
   "metadata": {},
   "outputs": [],
   "source": [
    "pd.DataFrame(gini_mom).to_csv(\"MOM_GINI.csv\")"
   ]
  },
  {
   "cell_type": "code",
   "execution_count": null,
   "metadata": {},
   "outputs": [],
   "source": []
  },
  {
   "cell_type": "code",
   "execution_count": null,
   "metadata": {},
   "outputs": [],
   "source": []
  },
  {
   "cell_type": "code",
   "execution_count": null,
   "metadata": {},
   "outputs": [],
   "source": []
  },
  {
   "cell_type": "markdown",
   "metadata": {},
   "source": [
    "# Use Historical Clustering to select Variables"
   ]
  },
  {
   "cell_type": "code",
   "execution_count": 356,
   "metadata": {},
   "outputs": [],
   "source": [
    "scores_columns.remove('RISK_SCORE')"
   ]
  },
  {
   "cell_type": "code",
   "execution_count": 360,
   "metadata": {},
   "outputs": [
    {
     "name": "stdout",
     "output_type": "stream",
     "text": [
      "Sampling input dataset...\n",
      "Standardazing data...\n",
      "Checking data for columns with zero variance...\n",
      "Calculating Gini of variables...\n",
      "Calculating order of variables in clusters...\n",
      "Done! Use method draw() to visualise clusters, display() to display results in a table, bestVariables() to get list of the best variables from each cluster\n"
     ]
    }
   ],
   "source": [
    "import sys\n",
    "sys.path.append(r\"C:\\Users\\aman.khatri91425\\Desktop\\HomeCredit\\Bigdata\\Scoring Worlflow\")\n",
    "from scoring import variable_clustering\n",
    "\n",
    "clustering_correlation = variable_clustering.CorrVarClus(max_correlation=0.25,\n",
    "                                                         #max_clusters=9,\n",
    "                                                         standardize=True,\n",
    "                                                         sample_size=50000)\n",
    "\n",
    "clustering_correlation.fit(df_train[scores_columns], df_train['RISK_FSTQPD30'])"
   ]
  },
  {
   "cell_type": "code",
   "execution_count": 361,
   "metadata": {},
   "outputs": [
    {
     "data": {
      "image/png": "[encoded data removed]",
      "text/plain": [
       "<Figure size 700x210 with 1 Axes>"
      ]
     },
     "metadata": {
      "needs_background": "light"
     },
     "output_type": "display_data"
    }
   ],
   "source": [
    "clustering_correlation.draw('clustering_dendrogram.png')"
   ]
  },
  {
   "cell_type": "code",
   "execution_count": 362,
   "metadata": {},
   "outputs": [
    {
     "data": {
      "text/html": [
       "<div>\n",
       "<style scoped>\n",
       "    .dataframe tbody tr th:only-of-type {\n",
       "        vertical-align: middle;\n",
       "    }\n",
       "\n",
       "    .dataframe tbody tr th {\n",
       "        vertical-align: top;\n",
       "    }\n",
       "\n",
       "    .dataframe thead th {\n",
       "        text-align: right;\n",
       "    }\n",
       "</style>\n",
       "<table border=\"1\" class=\"dataframe\">\n",
       "  <thead>\n",
       "    <tr style=\"text-align: right;\">\n",
       "      <th></th>\n",
       "      <th>Cluster</th>\n",
       "      <th>Gini</th>\n",
       "      <th>Order</th>\n",
       "    </tr>\n",
       "  </thead>\n",
       "  <tbody>\n",
       "    <tr>\n",
       "      <th>G_DEFAULT_FLAG_CHANGE_2</th>\n",
       "      <td>1</td>\n",
       "      <td>-0.025830</td>\n",
       "      <td>1</td>\n",
       "    </tr>\n",
       "    <tr>\n",
       "      <th>G_DEFAULT_FLAG_CHANGE_1</th>\n",
       "      <td>1</td>\n",
       "      <td>-0.041818</td>\n",
       "      <td>2</td>\n",
       "    </tr>\n",
       "    <tr>\n",
       "      <th>G_RISK_FPD30_MM_SCORE</th>\n",
       "      <td>2</td>\n",
       "      <td>-0.028108</td>\n",
       "      <td>1</td>\n",
       "    </tr>\n",
       "    <tr>\n",
       "      <th>G_RISK_FSTPD30_MM_SCORE</th>\n",
       "      <td>2</td>\n",
       "      <td>-0.032120</td>\n",
       "      <td>2</td>\n",
       "    </tr>\n",
       "    <tr>\n",
       "      <th>G_RISK_FSPD30_MM_SCORE</th>\n",
       "      <td>2</td>\n",
       "      <td>-0.050037</td>\n",
       "      <td>3</td>\n",
       "    </tr>\n",
       "    <tr>\n",
       "      <th>G_RISK_FPD30_SCORE</th>\n",
       "      <td>2</td>\n",
       "      <td>-0.057898</td>\n",
       "      <td>4</td>\n",
       "    </tr>\n",
       "    <tr>\n",
       "      <th>G_RISK_FPD10_MM_SCORE</th>\n",
       "      <td>2</td>\n",
       "      <td>-0.060591</td>\n",
       "      <td>5</td>\n",
       "    </tr>\n",
       "    <tr>\n",
       "      <th>G_NO_PAYMENT_CURRENT_PAYMENT_2</th>\n",
       "      <td>2</td>\n",
       "      <td>-0.063977</td>\n",
       "      <td>6</td>\n",
       "    </tr>\n",
       "    <tr>\n",
       "      <th>G_RISK_FSPD30_SCORE</th>\n",
       "      <td>2</td>\n",
       "      <td>-0.073317</td>\n",
       "      <td>7</td>\n",
       "    </tr>\n",
       "    <tr>\n",
       "      <th>G_NO_PAYMENT_CURRENT_PAYMENT_1</th>\n",
       "      <td>2</td>\n",
       "      <td>-0.077176</td>\n",
       "      <td>8</td>\n",
       "    </tr>\n",
       "    <tr>\n",
       "      <th>G_RISK_FPD10_SCORE</th>\n",
       "      <td>2</td>\n",
       "      <td>-0.079231</td>\n",
       "      <td>9</td>\n",
       "    </tr>\n",
       "    <tr>\n",
       "      <th>G_RISK_FSTPD30_SCORE</th>\n",
       "      <td>2</td>\n",
       "      <td>-0.084614</td>\n",
       "      <td>10</td>\n",
       "    </tr>\n",
       "    <tr>\n",
       "      <th>G_RISK_FSTQPD30_SCORE</th>\n",
       "      <td>2</td>\n",
       "      <td>-0.096970</td>\n",
       "      <td>11</td>\n",
       "    </tr>\n",
       "  </tbody>\n",
       "</table>\n",
       "</div>"
      ],
      "text/plain": [
       "                                Cluster      Gini  Order\n",
       "G_DEFAULT_FLAG_CHANGE_2               1 -0.025830      1\n",
       "G_DEFAULT_FLAG_CHANGE_1               1 -0.041818      2\n",
       "G_RISK_FPD30_MM_SCORE                 2 -0.028108      1\n",
       "G_RISK_FSTPD30_MM_SCORE               2 -0.032120      2\n",
       "G_RISK_FSPD30_MM_SCORE                2 -0.050037      3\n",
       "G_RISK_FPD30_SCORE                    2 -0.057898      4\n",
       "G_RISK_FPD10_MM_SCORE                 2 -0.060591      5\n",
       "G_NO_PAYMENT_CURRENT_PAYMENT_2        2 -0.063977      6\n",
       "G_RISK_FSPD30_SCORE                   2 -0.073317      7\n",
       "G_NO_PAYMENT_CURRENT_PAYMENT_1        2 -0.077176      8\n",
       "G_RISK_FPD10_SCORE                    2 -0.079231      9\n",
       "G_RISK_FSTPD30_SCORE                  2 -0.084614     10\n",
       "G_RISK_FSTQPD30_SCORE                 2 -0.096970     11"
      ]
     },
     "metadata": {},
     "output_type": "display_data"
    }
   ],
   "source": [
    "clustering_correlation.display('predictor_clusters.csv')"
   ]
  },
  {
   "cell_type": "code",
   "execution_count": 96,
   "metadata": {},
   "outputs": [],
   "source": [
    "selected_pred_hist = ['NO_PAYMENT_CURRENT_PAYMENT_1','RISK_FSTQPD30_SCORE','RISK_FPD10_MM_SCORE','DEFAULT_FLAG_CHANGE_2']"
   ]
  },
  {
   "cell_type": "code",
   "execution_count": 121,
   "metadata": {},
   "outputs": [],
   "source": [
    "selected_logit_pred_hist = ['LOGIT_NO_PAYMENT_CURRENT_PAYMENT_1',\n",
    "           'LOGIT_RISK_FSTQPD30_SCORE','LOGIT_RISK_FPD10_MM_SCORE','LOGIT_DEFAULT_FLAG_CHANGE_2']\n",
    "\n",
    "# selected_logit_pred_hist = ['LOGIT_RISK_FSTQPD30_SCORE','DEFAULT_FLAG_CHANGE_2']\n"
   ]
  },
  {
   "cell_type": "markdown",
   "metadata": {},
   "source": [
    "# Use L1 regularization"
   ]
  },
  {
   "cell_type": "code",
   "execution_count": 130,
   "metadata": {},
   "outputs": [
    {
     "name": "stdout",
     "output_type": "stream",
     "text": [
      "Cross validation will be used for the training sample.\n"
     ]
    },
    {
     "data": {
      "application/vnd.jupyter.widget-view+json": {
       "model_id": "57a76bcee40a404395bf6c08b7e791ff",
       "version_major": 2,
       "version_minor": 0
      },
      "text/plain": [
       "HBox(children=(IntProgress(value=0, max=20), HTML(value='')))"
      ]
     },
     "metadata": {},
     "output_type": "display_data"
    },
    {
     "name": "stdout",
     "output_type": "stream",
     "text": [
      "Iteration 0   log10(C) = -2.7\n",
      "{'LOGIT_RISK_FPD30_SCORE', 'LOGIT_NO_PAYMENT_CURRENT_PAYMENT_1', 'LOGIT_RISK_FPD30_MM_SCORE', 'LOGIT_DEFAULT_FLAG_CHANGE_1', 'LOGIT_RISK_FSTPD30_SCORE', 'Intercept', 'LOGIT_RISK_FSPD30_SCORE', 'LOGIT_RISK_FPD10_MM_SCORE', 'LOGIT_RISK_FSPD30_MM_SCORE', 'LOGIT_RISK_FSTQPD30_SCORE'}\n",
      "Achieved Gini:  11.527281024350145\n",
      "Iteration 1   log10(C) = -2.436842105263158\n",
      "{'LOGIT_RISK_FPD30_SCORE', 'LOGIT_NO_PAYMENT_CURRENT_PAYMENT_1', 'LOGIT_RISK_FPD30_MM_SCORE', 'LOGIT_DEFAULT_FLAG_CHANGE_1', 'LOGIT_RISK_FSTPD30_SCORE', 'Intercept', 'LOGIT_RISK_FSPD30_SCORE', 'LOGIT_RISK_FPD10_MM_SCORE', 'LOGIT_DEFAULT_FLAG_CHANGE_2', 'LOGIT_RISK_FSPD30_MM_SCORE', 'LOGIT_RISK_FSTQPD30_SCORE', 'LOGIT_NO_PAYMENT_CURRENT_PAYMENT_2'}\n",
      "Achieved Gini:  11.971719451262231\n",
      "Iteration 2   log10(C) = -2.173684210526316\n",
      "{'LOGIT_RISK_FPD30_SCORE', 'LOGIT_NO_PAYMENT_CURRENT_PAYMENT_1', 'LOGIT_RISK_FPD30_MM_SCORE', 'LOGIT_DEFAULT_FLAG_CHANGE_1', 'LOGIT_RISK_FSTPD30_SCORE', 'Intercept', 'LOGIT_RISK_FSPD30_SCORE', 'LOGIT_RISK_FPD10_MM_SCORE', 'LOGIT_DEFAULT_FLAG_CHANGE_2', 'LOGIT_RISK_FSPD30_MM_SCORE', 'LOGIT_RISK_FSTQPD30_SCORE', 'LOGIT_NO_PAYMENT_CURRENT_PAYMENT_2'}\n",
      "Achieved Gini:  12.030560588377966\n",
      "Iteration 3   log10(C) = -1.9105263157894739\n",
      "{'LOGIT_RISK_FPD30_SCORE', 'LOGIT_NO_PAYMENT_CURRENT_PAYMENT_1', 'LOGIT_RISK_FPD30_MM_SCORE', 'LOGIT_DEFAULT_FLAG_CHANGE_1', 'LOGIT_RISK_FSTPD30_SCORE', 'Intercept', 'LOGIT_RISK_FSPD30_SCORE', 'LOGIT_RISK_FPD10_MM_SCORE', 'LOGIT_DEFAULT_FLAG_CHANGE_2', 'LOGIT_RISK_FSPD30_MM_SCORE', 'LOGIT_RISK_FSTQPD30_SCORE', 'LOGIT_NO_PAYMENT_CURRENT_PAYMENT_2'}\n",
      "Achieved Gini:  12.049897929698375\n",
      "Iteration 4   log10(C) = -1.6473684210526318\n",
      "{'LOGIT_RISK_FPD30_SCORE', 'LOGIT_NO_PAYMENT_CURRENT_PAYMENT_1', 'LOGIT_RISK_FPD30_MM_SCORE', 'LOGIT_DEFAULT_FLAG_CHANGE_1', 'LOGIT_RISK_FSTPD30_SCORE', 'Intercept', 'LOGIT_RISK_FSPD30_SCORE', 'LOGIT_RISK_FPD10_MM_SCORE', 'LOGIT_DEFAULT_FLAG_CHANGE_2', 'LOGIT_RISK_FSPD30_MM_SCORE', 'LOGIT_RISK_FSTQPD30_SCORE', 'LOGIT_NO_PAYMENT_CURRENT_PAYMENT_2'}\n",
      "Achieved Gini:  12.05524081710972\n",
      "Iteration 5   log10(C) = -1.3842105263157898\n",
      "{'LOGIT_RISK_FPD30_SCORE', 'LOGIT_NO_PAYMENT_CURRENT_PAYMENT_1', 'LOGIT_RISK_FPD30_MM_SCORE', 'LOGIT_RISK_FSTPD30_MM_SCORE', 'LOGIT_DEFAULT_FLAG_CHANGE_1', 'LOGIT_RISK_FSTPD30_SCORE', 'Intercept', 'LOGIT_RISK_FSPD30_SCORE', 'LOGIT_RISK_FPD10_MM_SCORE', 'LOGIT_DEFAULT_FLAG_CHANGE_2', 'LOGIT_RISK_FPD10_SCORE', 'LOGIT_RISK_FSPD30_MM_SCORE', 'LOGIT_RISK_FSTQPD30_SCORE', 'LOGIT_NO_PAYMENT_CURRENT_PAYMENT_2'}\n",
      "Achieved Gini:  12.059963948323187\n",
      "Iteration 6   log10(C) = -1.1210526315789475\n",
      "{'LOGIT_RISK_FPD30_SCORE', 'LOGIT_NO_PAYMENT_CURRENT_PAYMENT_1', 'LOGIT_RISK_FPD30_MM_SCORE', 'LOGIT_RISK_FSTPD30_MM_SCORE', 'LOGIT_DEFAULT_FLAG_CHANGE_1', 'LOGIT_RISK_FSTPD30_SCORE', 'Intercept', 'LOGIT_RISK_FSPD30_SCORE', 'LOGIT_RISK_FPD10_MM_SCORE', 'LOGIT_DEFAULT_FLAG_CHANGE_2', 'LOGIT_RISK_FPD10_SCORE', 'LOGIT_RISK_FSPD30_MM_SCORE', 'LOGIT_RISK_FSTQPD30_SCORE', 'LOGIT_NO_PAYMENT_CURRENT_PAYMENT_2'}\n",
      "Achieved Gini:  12.07757345973171\n",
      "Iteration 7   log10(C) = -0.8578947368421055\n",
      "{'LOGIT_RISK_FPD30_SCORE', 'LOGIT_NO_PAYMENT_CURRENT_PAYMENT_1', 'LOGIT_RISK_FPD30_MM_SCORE', 'LOGIT_RISK_FSTPD30_MM_SCORE', 'LOGIT_DEFAULT_FLAG_CHANGE_1', 'LOGIT_RISK_FSTPD30_SCORE', 'Intercept', 'LOGIT_RISK_FSPD30_SCORE', 'LOGIT_RISK_FPD10_MM_SCORE', 'LOGIT_DEFAULT_FLAG_CHANGE_2', 'LOGIT_RISK_FPD10_SCORE', 'LOGIT_RISK_FSPD30_MM_SCORE', 'LOGIT_RISK_FSTQPD30_SCORE', 'LOGIT_NO_PAYMENT_CURRENT_PAYMENT_2'}\n",
      "Achieved Gini:  12.083519998203144\n",
      "Iteration 8   log10(C) = -0.5947368421052635\n",
      "{'LOGIT_RISK_FPD30_SCORE', 'LOGIT_NO_PAYMENT_CURRENT_PAYMENT_1', 'LOGIT_RISK_FPD30_MM_SCORE', 'LOGIT_RISK_FSTPD30_MM_SCORE', 'LOGIT_DEFAULT_FLAG_CHANGE_1', 'LOGIT_RISK_FSTPD30_SCORE', 'Intercept', 'LOGIT_RISK_FSPD30_SCORE', 'LOGIT_RISK_FPD10_MM_SCORE', 'LOGIT_DEFAULT_FLAG_CHANGE_2', 'LOGIT_RISK_FPD10_SCORE', 'LOGIT_RISK_FSPD30_MM_SCORE', 'LOGIT_RISK_FSTQPD30_SCORE', 'LOGIT_NO_PAYMENT_CURRENT_PAYMENT_2'}\n",
      "Achieved Gini:  12.08495019940014\n",
      "Iteration 9   log10(C) = -0.33157894736842136\n",
      "{'LOGIT_RISK_FPD30_SCORE', 'LOGIT_NO_PAYMENT_CURRENT_PAYMENT_1', 'LOGIT_RISK_FPD30_MM_SCORE', 'LOGIT_RISK_FSTPD30_MM_SCORE', 'LOGIT_DEFAULT_FLAG_CHANGE_1', 'LOGIT_RISK_FSTPD30_SCORE', 'Intercept', 'LOGIT_RISK_FSPD30_SCORE', 'LOGIT_RISK_FPD10_MM_SCORE', 'LOGIT_DEFAULT_FLAG_CHANGE_2', 'LOGIT_RISK_FPD10_SCORE', 'LOGIT_RISK_FSPD30_MM_SCORE', 'LOGIT_RISK_FSTQPD30_SCORE', 'LOGIT_NO_PAYMENT_CURRENT_PAYMENT_2'}\n",
      "Achieved Gini:  12.086376930362604\n",
      "Iteration 10   log10(C) = -0.0684210526315794\n",
      "{'LOGIT_RISK_FPD30_SCORE', 'LOGIT_NO_PAYMENT_CURRENT_PAYMENT_1', 'LOGIT_RISK_FPD30_MM_SCORE', 'LOGIT_RISK_FSTPD30_MM_SCORE', 'LOGIT_DEFAULT_FLAG_CHANGE_1', 'LOGIT_RISK_FSTPD30_SCORE', 'Intercept', 'LOGIT_RISK_FSPD30_SCORE', 'LOGIT_RISK_FPD10_MM_SCORE', 'LOGIT_DEFAULT_FLAG_CHANGE_2', 'LOGIT_RISK_FPD10_SCORE', 'LOGIT_RISK_FSPD30_MM_SCORE', 'LOGIT_RISK_FSTQPD30_SCORE', 'LOGIT_NO_PAYMENT_CURRENT_PAYMENT_2'}\n",
      "Achieved Gini:  12.086369728631169\n",
      "Gini decreased from previous step.\n",
      "Iteration 11   log10(C) = 0.19473684210526265\n",
      "{'LOGIT_RISK_FPD30_SCORE', 'LOGIT_NO_PAYMENT_CURRENT_PAYMENT_1', 'LOGIT_RISK_FPD30_MM_SCORE', 'LOGIT_RISK_FSTPD30_MM_SCORE', 'LOGIT_DEFAULT_FLAG_CHANGE_1', 'LOGIT_RISK_FSTPD30_SCORE', 'Intercept', 'LOGIT_RISK_FSPD30_SCORE', 'LOGIT_RISK_FPD10_MM_SCORE', 'LOGIT_DEFAULT_FLAG_CHANGE_2', 'LOGIT_RISK_FPD10_SCORE', 'LOGIT_RISK_FSPD30_MM_SCORE', 'LOGIT_RISK_FSTQPD30_SCORE', 'LOGIT_NO_PAYMENT_CURRENT_PAYMENT_2'}\n",
      "Achieved Gini:  12.086274771339944\n",
      "Gini decreased from previous step.\n",
      "Iteration 12   log10(C) = 0.4578947368421052\n",
      "{'LOGIT_RISK_FPD30_SCORE', 'LOGIT_NO_PAYMENT_CURRENT_PAYMENT_1', 'LOGIT_RISK_FPD30_MM_SCORE', 'LOGIT_RISK_FSTPD30_MM_SCORE', 'LOGIT_DEFAULT_FLAG_CHANGE_1', 'LOGIT_RISK_FSTPD30_SCORE', 'Intercept', 'LOGIT_RISK_FSPD30_SCORE', 'LOGIT_RISK_FPD10_MM_SCORE', 'LOGIT_DEFAULT_FLAG_CHANGE_2', 'LOGIT_RISK_FPD10_SCORE', 'LOGIT_RISK_FSPD30_MM_SCORE', 'LOGIT_RISK_FSTQPD30_SCORE', 'LOGIT_NO_PAYMENT_CURRENT_PAYMENT_2'}\n",
      "Achieved Gini:  12.085588487478631\n",
      "Gini decreased from previous step.\n",
      "Iteration 13   log10(C) = 0.7210526315789473\n",
      "{'LOGIT_RISK_FPD30_SCORE', 'LOGIT_NO_PAYMENT_CURRENT_PAYMENT_1', 'LOGIT_RISK_FPD30_MM_SCORE', 'LOGIT_RISK_FSTPD30_MM_SCORE', 'LOGIT_DEFAULT_FLAG_CHANGE_1', 'LOGIT_RISK_FSTPD30_SCORE', 'Intercept', 'LOGIT_RISK_FSPD30_SCORE', 'LOGIT_RISK_FPD10_MM_SCORE', 'LOGIT_DEFAULT_FLAG_CHANGE_2', 'LOGIT_RISK_FPD10_SCORE', 'LOGIT_RISK_FSPD30_MM_SCORE', 'LOGIT_RISK_FSTQPD30_SCORE', 'LOGIT_NO_PAYMENT_CURRENT_PAYMENT_2'}\n",
      "Achieved Gini:  12.084970199166364\n",
      "Gini decreased from previous step.\n",
      "Iteration 14   log10(C) = 0.9842105263157892\n",
      "{'LOGIT_RISK_FPD30_SCORE', 'LOGIT_NO_PAYMENT_CURRENT_PAYMENT_1', 'LOGIT_RISK_FPD30_MM_SCORE', 'LOGIT_RISK_FSTPD30_MM_SCORE', 'LOGIT_DEFAULT_FLAG_CHANGE_1', 'LOGIT_RISK_FSTPD30_SCORE', 'Intercept', 'LOGIT_RISK_FSPD30_SCORE', 'LOGIT_RISK_FPD10_MM_SCORE', 'LOGIT_DEFAULT_FLAG_CHANGE_2', 'LOGIT_RISK_FPD10_SCORE', 'LOGIT_RISK_FSPD30_MM_SCORE', 'LOGIT_RISK_FSTQPD30_SCORE', 'LOGIT_NO_PAYMENT_CURRENT_PAYMENT_2'}\n",
      "Achieved Gini:  12.085960298781131\n",
      "Iteration 15   log10(C) = 1.2473684210526312\n",
      "{'LOGIT_RISK_FPD30_SCORE', 'LOGIT_NO_PAYMENT_CURRENT_PAYMENT_1', 'LOGIT_RISK_FPD30_MM_SCORE', 'LOGIT_RISK_FSTPD30_MM_SCORE', 'LOGIT_DEFAULT_FLAG_CHANGE_1', 'LOGIT_RISK_FSTPD30_SCORE', 'Intercept', 'LOGIT_RISK_FSPD30_SCORE', 'LOGIT_RISK_FPD10_MM_SCORE', 'LOGIT_DEFAULT_FLAG_CHANGE_2', 'LOGIT_RISK_FPD10_SCORE', 'LOGIT_RISK_FSPD30_MM_SCORE', 'LOGIT_RISK_FSTQPD30_SCORE', 'LOGIT_NO_PAYMENT_CURRENT_PAYMENT_2'}\n",
      "Achieved Gini:  12.086265566758499\n",
      "Iteration 16   log10(C) = 1.5105263157894733\n",
      "{'LOGIT_RISK_FPD30_SCORE', 'LOGIT_NO_PAYMENT_CURRENT_PAYMENT_1', 'LOGIT_RISK_FPD30_MM_SCORE', 'LOGIT_RISK_FSTPD30_MM_SCORE', 'LOGIT_DEFAULT_FLAG_CHANGE_1', 'LOGIT_RISK_FSTPD30_SCORE', 'Intercept', 'LOGIT_RISK_FSPD30_SCORE', 'LOGIT_RISK_FPD10_MM_SCORE', 'LOGIT_DEFAULT_FLAG_CHANGE_2', 'LOGIT_RISK_FPD10_SCORE', 'LOGIT_RISK_FSPD30_MM_SCORE', 'LOGIT_RISK_FSTQPD30_SCORE', 'LOGIT_NO_PAYMENT_CURRENT_PAYMENT_2'}\n",
      "Achieved Gini:  12.085785250819313\n",
      "Gini decreased from previous step.\n",
      "Iteration 17   log10(C) = 1.7736842105263158\n",
      "{'LOGIT_RISK_FPD30_SCORE', 'LOGIT_NO_PAYMENT_CURRENT_PAYMENT_1', 'LOGIT_RISK_FPD30_MM_SCORE', 'LOGIT_RISK_FSTPD30_MM_SCORE', 'LOGIT_DEFAULT_FLAG_CHANGE_1', 'LOGIT_RISK_FSTPD30_SCORE', 'Intercept', 'LOGIT_RISK_FSPD30_SCORE', 'LOGIT_RISK_FPD10_MM_SCORE', 'LOGIT_DEFAULT_FLAG_CHANGE_2', 'LOGIT_RISK_FPD10_SCORE', 'LOGIT_RISK_FSPD30_MM_SCORE', 'LOGIT_RISK_FSTQPD30_SCORE', 'LOGIT_NO_PAYMENT_CURRENT_PAYMENT_2'}\n",
      "Achieved Gini:  12.085938708278562\n",
      "Iteration 18   log10(C) = 2.0368421052631573\n",
      "{'LOGIT_RISK_FPD30_SCORE', 'LOGIT_NO_PAYMENT_CURRENT_PAYMENT_1', 'LOGIT_RISK_FPD30_MM_SCORE', 'LOGIT_RISK_FSTPD30_MM_SCORE', 'LOGIT_DEFAULT_FLAG_CHANGE_1', 'LOGIT_RISK_FSTPD30_SCORE', 'Intercept', 'LOGIT_RISK_FSPD30_SCORE', 'LOGIT_RISK_FPD10_MM_SCORE', 'LOGIT_DEFAULT_FLAG_CHANGE_2', 'LOGIT_RISK_FPD10_SCORE', 'LOGIT_RISK_FSPD30_MM_SCORE', 'LOGIT_RISK_FSTQPD30_SCORE', 'LOGIT_NO_PAYMENT_CURRENT_PAYMENT_2'}\n",
      "Achieved Gini:  12.086210201455245\n",
      "Iteration 19   log10(C) = 2.3\n",
      "{'LOGIT_RISK_FPD30_SCORE', 'LOGIT_NO_PAYMENT_CURRENT_PAYMENT_1', 'LOGIT_RISK_FPD30_MM_SCORE', 'LOGIT_RISK_FSTPD30_MM_SCORE', 'LOGIT_DEFAULT_FLAG_CHANGE_1', 'LOGIT_RISK_FSTPD30_SCORE', 'Intercept', 'LOGIT_RISK_FSPD30_SCORE', 'LOGIT_RISK_FPD10_MM_SCORE', 'LOGIT_DEFAULT_FLAG_CHANGE_2', 'LOGIT_RISK_FPD10_SCORE', 'LOGIT_RISK_FSPD30_MM_SCORE', 'LOGIT_RISK_FSTQPD30_SCORE', 'LOGIT_NO_PAYMENT_CURRENT_PAYMENT_2'}\n",
      "Achieved Gini:  12.086212611664337\n"
     ]
    }
   ],
   "source": [
    "from scoring.model_selection import L1GiniModelSelection\n",
    "\n",
    "modelL1 = L1GiniModelSelection(steps = 20,\n",
    "                               grid_length=5,\n",
    "                               log_C_init=-2.700,\n",
    "                               max_predictors=200,\n",
    "                               max_correlation=1,\n",
    "                               beta_sgn_criterion=False,\n",
    "                               stop_immediately=False,\n",
    "                               stop_when_decr=False,\n",
    "                               correlation_sample = 10000,\n",
    "                               penalty='l1',\n",
    "                               use_cv=True,\n",
    "                               cv_folds=3,\n",
    "                               cv_seed=98765)\n",
    "\n",
    "modelL1.fit(df_train[logit_columns], df_train['RISK_FSTQPD30'],\n",
    "#             sample_weight = data[train_mask][col_weight], sample_weight_valid = data[valid_mask][col_weight],\n",
    "            progress_bar = True)"
   ]
  },
  {
   "cell_type": "code",
   "execution_count": 133,
   "metadata": {},
   "outputs": [
    {
     "data": {
      "image/png": "[encoded data removed]",
      "text/plain": [
       "<Figure size 504x504 with 1 Axes>"
      ]
     },
     "metadata": {
      "needs_background": "light"
     },
     "output_type": "display_data"
    }
   ],
   "source": [
    "modelL1.draw_coeff_progression(logit_columns, 'l1path.png')"
   ]
  },
  {
   "cell_type": "code",
   "execution_count": 134,
   "metadata": {},
   "outputs": [
    {
     "data": {
      "image/png": "[encoded data removed]",
      "text/plain": [
       "<Figure size 504x504 with 1 Axes>"
      ]
     },
     "metadata": {
      "needs_background": "light"
     },
     "output_type": "display_data"
    }
   ],
   "source": [
    "modelL1.draw_gini_progression('l1gini.png')"
   ]
  },
  {
   "cell_type": "code",
   "execution_count": 148,
   "metadata": {},
   "outputs": [
    {
     "name": "stdout",
     "output_type": "stream",
     "text": [
      "Predictors in the model: ['LOGIT_RISK_FPD30_SCORE', 'LOGIT_NO_PAYMENT_CURRENT_PAYMENT_1', 'LOGIT_RISK_FPD30_MM_SCORE', 'LOGIT_RISK_FSTPD30_MM_SCORE', 'LOGIT_DEFAULT_FLAG_CHANGE_1', 'LOGIT_RISK_FSTPD30_SCORE', 'LOGIT_RISK_FSPD30_SCORE', 'LOGIT_RISK_FPD10_MM_SCORE', 'LOGIT_DEFAULT_FLAG_CHANGE_2', 'LOGIT_RISK_FPD10_SCORE', 'LOGIT_RISK_FSPD30_MM_SCORE', 'LOGIT_RISK_FSTQPD30_SCORE', 'LOGIT_NO_PAYMENT_CURRENT_PAYMENT_2']\n"
     ]
    }
   ],
   "source": [
    "print('Predictors in the model:',list(modelL1.final_predictors_))"
   ]
  },
  {
   "cell_type": "code",
   "execution_count": 141,
   "metadata": {},
   "outputs": [],
   "source": [
    "selected_logit_pred_hist = ['LOGIT_RISK_FPD30_SCORE', 'LOGIT_NO_PAYMENT_CURRENT_PAYMENT_1', 'LOGIT_RISK_FPD30_MM_SCORE', 'LOGIT_DEFAULT_FLAG_CHANGE_1', 'LOGIT_RISK_FSTPD30_SCORE', 'LOGIT_RISK_FSPD30_SCORE', 'LOGIT_RISK_FPD10_MM_SCORE', 'LOGIT_RISK_FSPD30_MM_SCORE', 'LOGIT_RISK_FSTQPD30_SCORE']\n"
   ]
  },
  {
   "cell_type": "markdown",
   "metadata": {},
   "source": [
    "# Use XGB for variable selection"
   ]
  },
  {
   "cell_type": "code",
   "execution_count": 149,
   "metadata": {},
   "outputs": [
    {
     "name": "stdout",
     "output_type": "stream",
     "text": [
      "[12:09:12] C:\\Users\\Administrator\\Desktop\\xgboost\\src\\tree\\updater_prune.cc:74: tree pruning end, 1 roots, 14 extra nodes, 0 pruned nodes, max_depth=3\n",
      "[0]\ttrain-auc:0.554327\tvalid-auc:0.543875\n",
      "Multiple eval metrics have been passed: 'valid-auc' will be used for early stopping.\n",
      "\n",
      "Will train until valid-auc hasn't improved in 50 rounds.\n",
      "[12:09:12] C:\\Users\\Administrator\\Desktop\\xgboost\\src\\tree\\updater_prune.cc:74: tree pruning end, 1 roots, 14 extra nodes, 0 pruned nodes, max_depth=3\n",
      "[1]\ttrain-auc:0.55905\tvalid-auc:0.546335\n",
      "[12:09:13] C:\\Users\\Administrator\\Desktop\\xgboost\\src\\tree\\updater_prune.cc:74: tree pruning end, 1 roots, 14 extra nodes, 0 pruned nodes, max_depth=3\n",
      "[2]\ttrain-auc:0.559777\tvalid-auc:0.547241\n",
      "[12:09:13] C:\\Users\\Administrator\\Desktop\\xgboost\\src\\tree\\updater_prune.cc:74: tree pruning end, 1 roots, 14 extra nodes, 0 pruned nodes, max_depth=3\n",
      "[3]\ttrain-auc:0.559773\tvalid-auc:0.547075\n",
      "[12:09:13] C:\\Users\\Administrator\\Desktop\\xgboost\\src\\tree\\updater_prune.cc:74: tree pruning end, 1 roots, 14 extra nodes, 0 pruned nodes, max_depth=3\n",
      "[4]\ttrain-auc:0.559746\tvalid-auc:0.547098\n",
      "[12:09:13] C:\\Users\\Administrator\\Desktop\\xgboost\\src\\tree\\updater_prune.cc:74: tree pruning end, 1 roots, 14 extra nodes, 0 pruned nodes, max_depth=3\n",
      "[5]\ttrain-auc:0.559922\tvalid-auc:0.547119\n",
      "[12:09:14] C:\\Users\\Administrator\\Desktop\\xgboost\\src\\tree\\updater_prune.cc:74: tree pruning end, 1 roots, 14 extra nodes, 0 pruned nodes, max_depth=3\n",
      "[6]\ttrain-auc:0.560138\tvalid-auc:0.54751\n",
      "[12:09:14] C:\\Users\\Administrator\\Desktop\\xgboost\\src\\tree\\updater_prune.cc:74: tree pruning end, 1 roots, 14 extra nodes, 0 pruned nodes, max_depth=3\n",
      "[7]\ttrain-auc:0.560116\tvalid-auc:0.547668\n",
      "[12:09:14] C:\\Users\\Administrator\\Desktop\\xgboost\\src\\tree\\updater_prune.cc:74: tree pruning end, 1 roots, 14 extra nodes, 0 pruned nodes, max_depth=3\n",
      "[8]\ttrain-auc:0.560135\tvalid-auc:0.547604\n",
      "[12:09:14] C:\\Users\\Administrator\\Desktop\\xgboost\\src\\tree\\updater_prune.cc:74: tree pruning end, 1 roots, 14 extra nodes, 0 pruned nodes, max_depth=3\n",
      "[9]\ttrain-auc:0.560244\tvalid-auc:0.547824\n",
      "[12:09:14] C:\\Users\\Administrator\\Desktop\\xgboost\\src\\tree\\updater_prune.cc:74: tree pruning end, 1 roots, 14 extra nodes, 0 pruned nodes, max_depth=3\n",
      "[10]\ttrain-auc:0.560293\tvalid-auc:0.547894\n",
      "[12:09:15] C:\\Users\\Administrator\\Desktop\\xgboost\\src\\tree\\updater_prune.cc:74: tree pruning end, 1 roots, 14 extra nodes, 0 pruned nodes, max_depth=3\n",
      "[11]\ttrain-auc:0.560441\tvalid-auc:0.547875\n",
      "[12:09:15] C:\\Users\\Administrator\\Desktop\\xgboost\\src\\tree\\updater_prune.cc:74: tree pruning end, 1 roots, 14 extra nodes, 0 pruned nodes, max_depth=3\n",
      "[12]\ttrain-auc:0.560483\tvalid-auc:0.547819\n",
      "[12:09:15] C:\\Users\\Administrator\\Desktop\\xgboost\\src\\tree\\updater_prune.cc:74: tree pruning end, 1 roots, 14 extra nodes, 0 pruned nodes, max_depth=3\n",
      "[13]\ttrain-auc:0.560798\tvalid-auc:0.547954\n",
      "[12:09:15] C:\\Users\\Administrator\\Desktop\\xgboost\\src\\tree\\updater_prune.cc:74: tree pruning end, 1 roots, 14 extra nodes, 0 pruned nodes, max_depth=3\n",
      "[14]\ttrain-auc:0.56088\tvalid-auc:0.548121\n",
      "[12:09:15] C:\\Users\\Administrator\\Desktop\\xgboost\\src\\tree\\updater_prune.cc:74: tree pruning end, 1 roots, 14 extra nodes, 0 pruned nodes, max_depth=3\n",
      "[15]\ttrain-auc:0.560857\tvalid-auc:0.548211\n",
      "[12:09:16] C:\\Users\\Administrator\\Desktop\\xgboost\\src\\tree\\updater_prune.cc:74: tree pruning end, 1 roots, 14 extra nodes, 0 pruned nodes, max_depth=3\n",
      "[16]\ttrain-auc:0.561171\tvalid-auc:0.548264\n",
      "[12:09:16] C:\\Users\\Administrator\\Desktop\\xgboost\\src\\tree\\updater_prune.cc:74: tree pruning end, 1 roots, 14 extra nodes, 0 pruned nodes, max_depth=3\n",
      "[17]\ttrain-auc:0.561202\tvalid-auc:0.548314\n",
      "[12:09:16] C:\\Users\\Administrator\\Desktop\\xgboost\\src\\tree\\updater_prune.cc:74: tree pruning end, 1 roots, 14 extra nodes, 0 pruned nodes, max_depth=3\n",
      "[18]\ttrain-auc:0.561535\tvalid-auc:0.548719\n",
      "[12:09:16] C:\\Users\\Administrator\\Desktop\\xgboost\\src\\tree\\updater_prune.cc:74: tree pruning end, 1 roots, 14 extra nodes, 0 pruned nodes, max_depth=3\n",
      "[19]\ttrain-auc:0.56171\tvalid-auc:0.548768\n",
      "[12:09:17] C:\\Users\\Administrator\\Desktop\\xgboost\\src\\tree\\updater_prune.cc:74: tree pruning end, 1 roots, 14 extra nodes, 0 pruned nodes, max_depth=3\n",
      "[20]\ttrain-auc:0.561876\tvalid-auc:0.548865\n",
      "[12:09:17] C:\\Users\\Administrator\\Desktop\\xgboost\\src\\tree\\updater_prune.cc:74: tree pruning end, 1 roots, 14 extra nodes, 0 pruned nodes, max_depth=3\n",
      "[21]\ttrain-auc:0.561985\tvalid-auc:0.548929\n",
      "[12:09:17] C:\\Users\\Administrator\\Desktop\\xgboost\\src\\tree\\updater_prune.cc:74: tree pruning end, 1 roots, 14 extra nodes, 0 pruned nodes, max_depth=3\n",
      "[22]\ttrain-auc:0.562441\tvalid-auc:0.549164\n",
      "[12:09:17] C:\\Users\\Administrator\\Desktop\\xgboost\\src\\tree\\updater_prune.cc:74: tree pruning end, 1 roots, 14 extra nodes, 0 pruned nodes, max_depth=3\n",
      "[23]\ttrain-auc:0.562656\tvalid-auc:0.549274\n",
      "[12:09:17] C:\\Users\\Administrator\\Desktop\\xgboost\\src\\tree\\updater_prune.cc:74: tree pruning end, 1 roots, 14 extra nodes, 0 pruned nodes, max_depth=3\n",
      "[24]\ttrain-auc:0.562838\tvalid-auc:0.549384\n",
      "[12:09:18] C:\\Users\\Administrator\\Desktop\\xgboost\\src\\tree\\updater_prune.cc:74: tree pruning end, 1 roots, 14 extra nodes, 0 pruned nodes, max_depth=3\n",
      "[25]\ttrain-auc:0.563196\tvalid-auc:0.549578\n",
      "[12:09:18] C:\\Users\\Administrator\\Desktop\\xgboost\\src\\tree\\updater_prune.cc:74: tree pruning end, 1 roots, 14 extra nodes, 0 pruned nodes, max_depth=3\n",
      "[26]\ttrain-auc:0.563432\tvalid-auc:0.549777\n",
      "[12:09:18] C:\\Users\\Administrator\\Desktop\\xgboost\\src\\tree\\updater_prune.cc:74: tree pruning end, 1 roots, 14 extra nodes, 0 pruned nodes, max_depth=3\n",
      "[27]\ttrain-auc:0.563577\tvalid-auc:0.549818\n",
      "[12:09:18] C:\\Users\\Administrator\\Desktop\\xgboost\\src\\tree\\updater_prune.cc:74: tree pruning end, 1 roots, 14 extra nodes, 0 pruned nodes, max_depth=3\n",
      "[28]\ttrain-auc:0.563726\tvalid-auc:0.549913\n",
      "[12:09:18] C:\\Users\\Administrator\\Desktop\\xgboost\\src\\tree\\updater_prune.cc:74: tree pruning end, 1 roots, 14 extra nodes, 0 pruned nodes, max_depth=3\n",
      "[29]\ttrain-auc:0.563717\tvalid-auc:0.549923\n",
      "[12:09:19] C:\\Users\\Administrator\\Desktop\\xgboost\\src\\tree\\updater_prune.cc:74: tree pruning end, 1 roots, 14 extra nodes, 0 pruned nodes, max_depth=3\n",
      "[30]\ttrain-auc:0.563923\tvalid-auc:0.549983\n",
      "[12:09:19] C:\\Users\\Administrator\\Desktop\\xgboost\\src\\tree\\updater_prune.cc:74: tree pruning end, 1 roots, 14 extra nodes, 0 pruned nodes, max_depth=3\n",
      "[31]\ttrain-auc:0.564116\tvalid-auc:0.550028\n",
      "[12:09:19] C:\\Users\\Administrator\\Desktop\\xgboost\\src\\tree\\updater_prune.cc:74: tree pruning end, 1 roots, 14 extra nodes, 0 pruned nodes, max_depth=3\n",
      "[32]\ttrain-auc:0.564315\tvalid-auc:0.550101\n",
      "[12:09:19] C:\\Users\\Administrator\\Desktop\\xgboost\\src\\tree\\updater_prune.cc:74: tree pruning end, 1 roots, 14 extra nodes, 0 pruned nodes, max_depth=3\n",
      "[33]\ttrain-auc:0.564599\tvalid-auc:0.550296\n",
      "[12:09:19] C:\\Users\\Administrator\\Desktop\\xgboost\\src\\tree\\updater_prune.cc:74: tree pruning end, 1 roots, 12 extra nodes, 0 pruned nodes, max_depth=3\n",
      "[34]\ttrain-auc:0.564726\tvalid-auc:0.550317\n",
      "[12:09:20] C:\\Users\\Administrator\\Desktop\\xgboost\\src\\tree\\updater_prune.cc:74: tree pruning end, 1 roots, 14 extra nodes, 0 pruned nodes, max_depth=3\n",
      "[35]\ttrain-auc:0.564911\tvalid-auc:0.550416\n",
      "[12:09:20] C:\\Users\\Administrator\\Desktop\\xgboost\\src\\tree\\updater_prune.cc:74: tree pruning end, 1 roots, 14 extra nodes, 0 pruned nodes, max_depth=3\n",
      "[36]\ttrain-auc:0.565167\tvalid-auc:0.550589\n",
      "[12:09:20] C:\\Users\\Administrator\\Desktop\\xgboost\\src\\tree\\updater_prune.cc:74: tree pruning end, 1 roots, 12 extra nodes, 0 pruned nodes, max_depth=3\n",
      "[37]\ttrain-auc:0.565555\tvalid-auc:0.550816\n",
      "[12:09:20] C:\\Users\\Administrator\\Desktop\\xgboost\\src\\tree\\updater_prune.cc:74: tree pruning end, 1 roots, 14 extra nodes, 0 pruned nodes, max_depth=3\n",
      "[38]\ttrain-auc:0.565646\tvalid-auc:0.550894\n",
      "[12:09:20] C:\\Users\\Administrator\\Desktop\\xgboost\\src\\tree\\updater_prune.cc:74: tree pruning end, 1 roots, 14 extra nodes, 0 pruned nodes, max_depth=3\n",
      "[39]\ttrain-auc:0.565815\tvalid-auc:0.550929\n",
      "[12:09:21] C:\\Users\\Administrator\\Desktop\\xgboost\\src\\tree\\updater_prune.cc:74: tree pruning end, 1 roots, 14 extra nodes, 0 pruned nodes, max_depth=3\n",
      "[40]\ttrain-auc:0.565934\tvalid-auc:0.550934\n",
      "[12:09:21] C:\\Users\\Administrator\\Desktop\\xgboost\\src\\tree\\updater_prune.cc:74: tree pruning end, 1 roots, 14 extra nodes, 0 pruned nodes, max_depth=3\n",
      "[41]\ttrain-auc:0.566134\tvalid-auc:0.550935\n",
      "[12:09:21] C:\\Users\\Administrator\\Desktop\\xgboost\\src\\tree\\updater_prune.cc:74: tree pruning end, 1 roots, 14 extra nodes, 0 pruned nodes, max_depth=3\n",
      "[42]\ttrain-auc:0.566278\tvalid-auc:0.551014\n",
      "[12:09:21] C:\\Users\\Administrator\\Desktop\\xgboost\\src\\tree\\updater_prune.cc:74: tree pruning end, 1 roots, 14 extra nodes, 0 pruned nodes, max_depth=3\n",
      "[43]\ttrain-auc:0.566483\tvalid-auc:0.551049\n",
      "[12:09:22] C:\\Users\\Administrator\\Desktop\\xgboost\\src\\tree\\updater_prune.cc:74: tree pruning end, 1 roots, 14 extra nodes, 0 pruned nodes, max_depth=3\n",
      "[44]\ttrain-auc:0.566607\tvalid-auc:0.551134\n",
      "[12:09:22] C:\\Users\\Administrator\\Desktop\\xgboost\\src\\tree\\updater_prune.cc:74: tree pruning end, 1 roots, 14 extra nodes, 0 pruned nodes, max_depth=3\n",
      "[45]\ttrain-auc:0.566759\tvalid-auc:0.5512\n",
      "[12:09:22] C:\\Users\\Administrator\\Desktop\\xgboost\\src\\tree\\updater_prune.cc:74: tree pruning end, 1 roots, 14 extra nodes, 0 pruned nodes, max_depth=3\n",
      "[46]\ttrain-auc:0.56688\tvalid-auc:0.55118\n",
      "[12:09:22] C:\\Users\\Administrator\\Desktop\\xgboost\\src\\tree\\updater_prune.cc:74: tree pruning end, 1 roots, 14 extra nodes, 0 pruned nodes, max_depth=3\n",
      "[47]\ttrain-auc:0.567\tvalid-auc:0.551166\n",
      "[12:09:23] C:\\Users\\Administrator\\Desktop\\xgboost\\src\\tree\\updater_prune.cc:74: tree pruning end, 1 roots, 14 extra nodes, 0 pruned nodes, max_depth=3\n",
      "[48]\ttrain-auc:0.567196\tvalid-auc:0.551239\n",
      "[12:09:23] C:\\Users\\Administrator\\Desktop\\xgboost\\src\\tree\\updater_prune.cc:74: tree pruning end, 1 roots, 14 extra nodes, 0 pruned nodes, max_depth=3\n",
      "[49]\ttrain-auc:0.56729\tvalid-auc:0.551302\n",
      "[12:09:23] C:\\Users\\Administrator\\Desktop\\xgboost\\src\\tree\\updater_prune.cc:74: tree pruning end, 1 roots, 14 extra nodes, 0 pruned nodes, max_depth=3\n",
      "[50]\ttrain-auc:0.567388\tvalid-auc:0.551321\n",
      "[12:09:23] C:\\Users\\Administrator\\Desktop\\xgboost\\src\\tree\\updater_prune.cc:74: tree pruning end, 1 roots, 14 extra nodes, 0 pruned nodes, max_depth=3\n",
      "[51]\ttrain-auc:0.567442\tvalid-auc:0.551319\n",
      "[12:09:23] C:\\Users\\Administrator\\Desktop\\xgboost\\src\\tree\\updater_prune.cc:74: tree pruning end, 1 roots, 14 extra nodes, 0 pruned nodes, max_depth=3\n",
      "[52]\ttrain-auc:0.567508\tvalid-auc:0.551281\n",
      "[12:09:24] C:\\Users\\Administrator\\Desktop\\xgboost\\src\\tree\\updater_prune.cc:74: tree pruning end, 1 roots, 14 extra nodes, 0 pruned nodes, max_depth=3\n",
      "[53]\ttrain-auc:0.567699\tvalid-auc:0.551288\n",
      "[12:09:24] C:\\Users\\Administrator\\Desktop\\xgboost\\src\\tree\\updater_prune.cc:74: tree pruning end, 1 roots, 14 extra nodes, 0 pruned nodes, max_depth=3\n",
      "[54]\ttrain-auc:0.567844\tvalid-auc:0.551304\n",
      "[12:09:24] C:\\Users\\Administrator\\Desktop\\xgboost\\src\\tree\\updater_prune.cc:74: tree pruning end, 1 roots, 14 extra nodes, 0 pruned nodes, max_depth=3\n",
      "[55]\ttrain-auc:0.567969\tvalid-auc:0.551305\n",
      "[12:09:24] C:\\Users\\Administrator\\Desktop\\xgboost\\src\\tree\\updater_prune.cc:74: tree pruning end, 1 roots, 12 extra nodes, 0 pruned nodes, max_depth=3\n",
      "[56]\ttrain-auc:0.568129\tvalid-auc:0.55135\n",
      "[12:09:25] C:\\Users\\Administrator\\Desktop\\xgboost\\src\\tree\\updater_prune.cc:74: tree pruning end, 1 roots, 14 extra nodes, 0 pruned nodes, max_depth=3\n",
      "[57]\ttrain-auc:0.568219\tvalid-auc:0.551336\n",
      "[12:09:25] C:\\Users\\Administrator\\Desktop\\xgboost\\src\\tree\\updater_prune.cc:74: tree pruning end, 1 roots, 12 extra nodes, 0 pruned nodes, max_depth=3\n",
      "[58]\ttrain-auc:0.568336\tvalid-auc:0.551367\n",
      "[12:09:25] C:\\Users\\Administrator\\Desktop\\xgboost\\src\\tree\\updater_prune.cc:74: tree pruning end, 1 roots, 14 extra nodes, 0 pruned nodes, max_depth=3\n",
      "[59]\ttrain-auc:0.568542\tvalid-auc:0.551372\n",
      "[12:09:25] C:\\Users\\Administrator\\Desktop\\xgboost\\src\\tree\\updater_prune.cc:74: tree pruning end, 1 roots, 14 extra nodes, 0 pruned nodes, max_depth=3\n",
      "[60]\ttrain-auc:0.568625\tvalid-auc:0.551489\n",
      "[12:09:26] C:\\Users\\Administrator\\Desktop\\xgboost\\src\\tree\\updater_prune.cc:74: tree pruning end, 1 roots, 14 extra nodes, 0 pruned nodes, max_depth=3\n",
      "[61]\ttrain-auc:0.56885\tvalid-auc:0.551445\n",
      "[12:09:26] C:\\Users\\Administrator\\Desktop\\xgboost\\src\\tree\\updater_prune.cc:74: tree pruning end, 1 roots, 14 extra nodes, 0 pruned nodes, max_depth=3\n",
      "[62]\ttrain-auc:0.568996\tvalid-auc:0.551452\n",
      "[12:09:26] C:\\Users\\Administrator\\Desktop\\xgboost\\src\\tree\\updater_prune.cc:74: tree pruning end, 1 roots, 14 extra nodes, 0 pruned nodes, max_depth=3\n",
      "[63]\ttrain-auc:0.569099\tvalid-auc:0.551514\n",
      "[12:09:26] C:\\Users\\Administrator\\Desktop\\xgboost\\src\\tree\\updater_prune.cc:74: tree pruning end, 1 roots, 14 extra nodes, 0 pruned nodes, max_depth=3\n",
      "[64]\ttrain-auc:0.569152\tvalid-auc:0.551537\n",
      "[12:09:27] C:\\Users\\Administrator\\Desktop\\xgboost\\src\\tree\\updater_prune.cc:74: tree pruning end, 1 roots, 8 extra nodes, 0 pruned nodes, max_depth=3\n",
      "[65]\ttrain-auc:0.569223\tvalid-auc:0.551488\n",
      "[12:09:27] C:\\Users\\Administrator\\Desktop\\xgboost\\src\\tree\\updater_prune.cc:74: tree pruning end, 1 roots, 14 extra nodes, 0 pruned nodes, max_depth=3\n",
      "[66]\ttrain-auc:0.569346\tvalid-auc:0.55149\n",
      "[12:09:27] C:\\Users\\Administrator\\Desktop\\xgboost\\src\\tree\\updater_prune.cc:74: tree pruning end, 1 roots, 14 extra nodes, 0 pruned nodes, max_depth=3\n",
      "[67]\ttrain-auc:0.569488\tvalid-auc:0.551519\n",
      "[12:09:27] C:\\Users\\Administrator\\Desktop\\xgboost\\src\\tree\\updater_prune.cc:74: tree pruning end, 1 roots, 12 extra nodes, 0 pruned nodes, max_depth=3\n",
      "[68]\ttrain-auc:0.569638\tvalid-auc:0.55146\n",
      "[12:09:27] C:\\Users\\Administrator\\Desktop\\xgboost\\src\\tree\\updater_prune.cc:74: tree pruning end, 1 roots, 6 extra nodes, 0 pruned nodes, max_depth=3\n",
      "[69]\ttrain-auc:0.569647\tvalid-auc:0.551464\n",
      "[12:09:28] C:\\Users\\Administrator\\Desktop\\xgboost\\src\\tree\\updater_prune.cc:74: tree pruning end, 1 roots, 14 extra nodes, 0 pruned nodes, max_depth=3\n",
      "[70]\ttrain-auc:0.569746\tvalid-auc:0.551402\n",
      "[12:09:28] C:\\Users\\Administrator\\Desktop\\xgboost\\src\\tree\\updater_prune.cc:74: tree pruning end, 1 roots, 14 extra nodes, 0 pruned nodes, max_depth=3\n",
      "[71]\ttrain-auc:0.569928\tvalid-auc:0.551361\n",
      "[12:09:28] C:\\Users\\Administrator\\Desktop\\xgboost\\src\\tree\\updater_prune.cc:74: tree pruning end, 1 roots, 14 extra nodes, 0 pruned nodes, max_depth=3\n",
      "[72]\ttrain-auc:0.570167\tvalid-auc:0.55133\n",
      "[12:09:28] C:\\Users\\Administrator\\Desktop\\xgboost\\src\\tree\\updater_prune.cc:74: tree pruning end, 1 roots, 8 extra nodes, 0 pruned nodes, max_depth=3\n",
      "[73]\ttrain-auc:0.570226\tvalid-auc:0.551296\n",
      "[12:09:29] C:\\Users\\Administrator\\Desktop\\xgboost\\src\\tree\\updater_prune.cc:74: tree pruning end, 1 roots, 14 extra nodes, 0 pruned nodes, max_depth=3\n",
      "[74]\ttrain-auc:0.570421\tvalid-auc:0.551204\n",
      "[12:09:29] C:\\Users\\Administrator\\Desktop\\xgboost\\src\\tree\\updater_prune.cc:74: tree pruning end, 1 roots, 14 extra nodes, 0 pruned nodes, max_depth=3\n",
      "[75]\ttrain-auc:0.570533\tvalid-auc:0.551206\n",
      "[12:09:29] C:\\Users\\Administrator\\Desktop\\xgboost\\src\\tree\\updater_prune.cc:74: tree pruning end, 1 roots, 14 extra nodes, 0 pruned nodes, max_depth=3\n",
      "[76]\ttrain-auc:0.570714\tvalid-auc:0.55121\n",
      "[12:09:29] C:\\Users\\Administrator\\Desktop\\xgboost\\src\\tree\\updater_prune.cc:74: tree pruning end, 1 roots, 12 extra nodes, 0 pruned nodes, max_depth=3\n",
      "[77]\ttrain-auc:0.570827\tvalid-auc:0.551248\n",
      "[12:09:30] C:\\Users\\Administrator\\Desktop\\xgboost\\src\\tree\\updater_prune.cc:74: tree pruning end, 1 roots, 14 extra nodes, 0 pruned nodes, max_depth=3\n",
      "[78]\ttrain-auc:0.570903\tvalid-auc:0.551215\n",
      "[12:09:30] C:\\Users\\Administrator\\Desktop\\xgboost\\src\\tree\\updater_prune.cc:74: tree pruning end, 1 roots, 8 extra nodes, 0 pruned nodes, max_depth=3\n",
      "[79]\ttrain-auc:0.570924\tvalid-auc:0.5512\n",
      "[12:09:30] C:\\Users\\Administrator\\Desktop\\xgboost\\src\\tree\\updater_prune.cc:74: tree pruning end, 1 roots, 14 extra nodes, 0 pruned nodes, max_depth=3\n",
      "[80]\ttrain-auc:0.570941\tvalid-auc:0.551175\n",
      "[12:09:30] C:\\Users\\Administrator\\Desktop\\xgboost\\src\\tree\\updater_prune.cc:74: tree pruning end, 1 roots, 14 extra nodes, 0 pruned nodes, max_depth=3\n",
      "[81]\ttrain-auc:0.571007\tvalid-auc:0.551197\n",
      "[12:09:31] C:\\Users\\Administrator\\Desktop\\xgboost\\src\\tree\\updater_prune.cc:74: tree pruning end, 1 roots, 14 extra nodes, 0 pruned nodes, max_depth=3\n",
      "[82]\ttrain-auc:0.571172\tvalid-auc:0.551152\n"
     ]
    },
    {
     "name": "stdout",
     "output_type": "stream",
     "text": [
      "[12:09:31] C:\\Users\\Administrator\\Desktop\\xgboost\\src\\tree\\updater_prune.cc:74: tree pruning end, 1 roots, 8 extra nodes, 0 pruned nodes, max_depth=3\n",
      "[83]\ttrain-auc:0.571228\tvalid-auc:0.551139\n",
      "[12:09:31] C:\\Users\\Administrator\\Desktop\\xgboost\\src\\tree\\updater_prune.cc:74: tree pruning end, 1 roots, 14 extra nodes, 0 pruned nodes, max_depth=3\n",
      "[84]\ttrain-auc:0.571296\tvalid-auc:0.551169\n",
      "[12:09:31] C:\\Users\\Administrator\\Desktop\\xgboost\\src\\tree\\updater_prune.cc:74: tree pruning end, 1 roots, 14 extra nodes, 0 pruned nodes, max_depth=3\n",
      "[85]\ttrain-auc:0.571399\tvalid-auc:0.551184\n",
      "[12:09:32] C:\\Users\\Administrator\\Desktop\\xgboost\\src\\tree\\updater_prune.cc:74: tree pruning end, 1 roots, 8 extra nodes, 0 pruned nodes, max_depth=3\n",
      "[86]\ttrain-auc:0.571438\tvalid-auc:0.551193\n",
      "[12:09:32] C:\\Users\\Administrator\\Desktop\\xgboost\\src\\tree\\updater_prune.cc:74: tree pruning end, 1 roots, 14 extra nodes, 0 pruned nodes, max_depth=3\n",
      "[87]\ttrain-auc:0.571509\tvalid-auc:0.551199\n",
      "[12:09:32] C:\\Users\\Administrator\\Desktop\\xgboost\\src\\tree\\updater_prune.cc:74: tree pruning end, 1 roots, 12 extra nodes, 0 pruned nodes, max_depth=3\n",
      "[88]\ttrain-auc:0.571554\tvalid-auc:0.551207\n",
      "[12:09:32] C:\\Users\\Administrator\\Desktop\\xgboost\\src\\tree\\updater_prune.cc:74: tree pruning end, 1 roots, 12 extra nodes, 0 pruned nodes, max_depth=3\n",
      "[89]\ttrain-auc:0.571619\tvalid-auc:0.551197\n",
      "[12:09:33] C:\\Users\\Administrator\\Desktop\\xgboost\\src\\tree\\updater_prune.cc:74: tree pruning end, 1 roots, 14 extra nodes, 0 pruned nodes, max_depth=3\n",
      "[90]\ttrain-auc:0.571658\tvalid-auc:0.551233\n",
      "[12:09:33] C:\\Users\\Administrator\\Desktop\\xgboost\\src\\tree\\updater_prune.cc:74: tree pruning end, 1 roots, 12 extra nodes, 0 pruned nodes, max_depth=3\n",
      "[91]\ttrain-auc:0.571726\tvalid-auc:0.551274\n",
      "[12:09:33] C:\\Users\\Administrator\\Desktop\\xgboost\\src\\tree\\updater_prune.cc:74: tree pruning end, 1 roots, 12 extra nodes, 0 pruned nodes, max_depth=3\n",
      "[92]\ttrain-auc:0.571829\tvalid-auc:0.551259\n",
      "[12:09:33] C:\\Users\\Administrator\\Desktop\\xgboost\\src\\tree\\updater_prune.cc:74: tree pruning end, 1 roots, 14 extra nodes, 0 pruned nodes, max_depth=3\n",
      "[93]\ttrain-auc:0.571973\tvalid-auc:0.551217\n",
      "[12:09:34] C:\\Users\\Administrator\\Desktop\\xgboost\\src\\tree\\updater_prune.cc:74: tree pruning end, 1 roots, 12 extra nodes, 0 pruned nodes, max_depth=3\n",
      "[94]\ttrain-auc:0.572003\tvalid-auc:0.55123\n",
      "[12:09:34] C:\\Users\\Administrator\\Desktop\\xgboost\\src\\tree\\updater_prune.cc:74: tree pruning end, 1 roots, 12 extra nodes, 0 pruned nodes, max_depth=3\n",
      "[95]\ttrain-auc:0.572055\tvalid-auc:0.551237\n",
      "[12:09:34] C:\\Users\\Administrator\\Desktop\\xgboost\\src\\tree\\updater_prune.cc:74: tree pruning end, 1 roots, 14 extra nodes, 0 pruned nodes, max_depth=3\n",
      "[96]\ttrain-auc:0.572107\tvalid-auc:0.551231\n",
      "[12:09:34] C:\\Users\\Administrator\\Desktop\\xgboost\\src\\tree\\updater_prune.cc:74: tree pruning end, 1 roots, 14 extra nodes, 0 pruned nodes, max_depth=3\n",
      "[97]\ttrain-auc:0.572176\tvalid-auc:0.55123\n",
      "[12:09:34] C:\\Users\\Administrator\\Desktop\\xgboost\\src\\tree\\updater_prune.cc:74: tree pruning end, 1 roots, 8 extra nodes, 0 pruned nodes, max_depth=3\n",
      "[98]\ttrain-auc:0.572194\tvalid-auc:0.551237\n",
      "[12:09:35] C:\\Users\\Administrator\\Desktop\\xgboost\\src\\tree\\updater_prune.cc:74: tree pruning end, 1 roots, 12 extra nodes, 0 pruned nodes, max_depth=3\n",
      "[99]\ttrain-auc:0.572341\tvalid-auc:0.551067\n",
      "[12:09:35] C:\\Users\\Administrator\\Desktop\\xgboost\\src\\tree\\updater_prune.cc:74: tree pruning end, 1 roots, 14 extra nodes, 0 pruned nodes, max_depth=3\n",
      "[100]\ttrain-auc:0.572484\tvalid-auc:0.551063\n",
      "[12:09:35] C:\\Users\\Administrator\\Desktop\\xgboost\\src\\tree\\updater_prune.cc:74: tree pruning end, 1 roots, 14 extra nodes, 0 pruned nodes, max_depth=3\n",
      "[101]\ttrain-auc:0.572592\tvalid-auc:0.551032\n",
      "[12:09:35] C:\\Users\\Administrator\\Desktop\\xgboost\\src\\tree\\updater_prune.cc:74: tree pruning end, 1 roots, 6 extra nodes, 0 pruned nodes, max_depth=3\n",
      "[102]\ttrain-auc:0.572599\tvalid-auc:0.551028\n",
      "[12:09:36] C:\\Users\\Administrator\\Desktop\\xgboost\\src\\tree\\updater_prune.cc:74: tree pruning end, 1 roots, 12 extra nodes, 0 pruned nodes, max_depth=3\n",
      "[103]\ttrain-auc:0.572726\tvalid-auc:0.55106\n",
      "[12:09:36] C:\\Users\\Administrator\\Desktop\\xgboost\\src\\tree\\updater_prune.cc:74: tree pruning end, 1 roots, 12 extra nodes, 0 pruned nodes, max_depth=3\n",
      "[104]\ttrain-auc:0.572796\tvalid-auc:0.551121\n",
      "[12:09:36] C:\\Users\\Administrator\\Desktop\\xgboost\\src\\tree\\updater_prune.cc:74: tree pruning end, 1 roots, 12 extra nodes, 0 pruned nodes, max_depth=3\n",
      "[105]\ttrain-auc:0.572837\tvalid-auc:0.551183\n",
      "[12:09:36] C:\\Users\\Administrator\\Desktop\\xgboost\\src\\tree\\updater_prune.cc:74: tree pruning end, 1 roots, 10 extra nodes, 0 pruned nodes, max_depth=3\n",
      "[106]\ttrain-auc:0.572845\tvalid-auc:0.551192\n",
      "[12:09:37] C:\\Users\\Administrator\\Desktop\\xgboost\\src\\tree\\updater_prune.cc:74: tree pruning end, 1 roots, 14 extra nodes, 0 pruned nodes, max_depth=3\n",
      "[107]\ttrain-auc:0.572929\tvalid-auc:0.551205\n",
      "[12:09:37] C:\\Users\\Administrator\\Desktop\\xgboost\\src\\tree\\updater_prune.cc:74: tree pruning end, 1 roots, 14 extra nodes, 0 pruned nodes, max_depth=3\n",
      "[108]\ttrain-auc:0.573097\tvalid-auc:0.551192\n",
      "[12:09:37] C:\\Users\\Administrator\\Desktop\\xgboost\\src\\tree\\updater_prune.cc:74: tree pruning end, 1 roots, 6 extra nodes, 0 pruned nodes, max_depth=3\n",
      "[109]\ttrain-auc:0.573108\tvalid-auc:0.551188\n",
      "[12:09:37] C:\\Users\\Administrator\\Desktop\\xgboost\\src\\tree\\updater_prune.cc:74: tree pruning end, 1 roots, 8 extra nodes, 0 pruned nodes, max_depth=3\n",
      "[110]\ttrain-auc:0.57317\tvalid-auc:0.551164\n",
      "[12:09:38] C:\\Users\\Administrator\\Desktop\\xgboost\\src\\tree\\updater_prune.cc:74: tree pruning end, 1 roots, 14 extra nodes, 0 pruned nodes, max_depth=3\n",
      "[111]\ttrain-auc:0.573317\tvalid-auc:0.551123\n",
      "[12:09:38] C:\\Users\\Administrator\\Desktop\\xgboost\\src\\tree\\updater_prune.cc:74: tree pruning end, 1 roots, 8 extra nodes, 0 pruned nodes, max_depth=3\n",
      "[112]\ttrain-auc:0.573331\tvalid-auc:0.551111\n",
      "[12:09:38] C:\\Users\\Administrator\\Desktop\\xgboost\\src\\tree\\updater_prune.cc:74: tree pruning end, 1 roots, 14 extra nodes, 0 pruned nodes, max_depth=3\n",
      "[113]\ttrain-auc:0.573404\tvalid-auc:0.551103\n",
      "[12:09:38] C:\\Users\\Administrator\\Desktop\\xgboost\\src\\tree\\updater_prune.cc:74: tree pruning end, 1 roots, 12 extra nodes, 0 pruned nodes, max_depth=3\n",
      "[114]\ttrain-auc:0.573452\tvalid-auc:0.551083\n",
      "Stopping. Best iteration:\n",
      "[64]\ttrain-auc:0.569152\tvalid-auc:0.551537\n",
      "\n"
     ]
    },
    {
     "ename": "NameError",
     "evalue": "name 'dt_xgb' is not defined",
     "output_type": "error",
     "traceback": [
      "\u001b[1;31m---------------------------------------------------------------------------\u001b[0m",
      "\u001b[1;31mNameError\u001b[0m                                 Traceback (most recent call last)",
      "\u001b[1;32m<ipython-input-149-231f3e31e4ae>\u001b[0m in \u001b[0;36m<module>\u001b[1;34m\u001b[0m\n\u001b[0;32m     25\u001b[0m \u001b[1;33m\u001b[0m\u001b[0m\n\u001b[0;32m     26\u001b[0m \u001b[1;33m\u001b[0m\u001b[0m\n\u001b[1;32m---> 27\u001b[1;33m     \u001b[0mxgb_scored\u001b[0m \u001b[1;33m=\u001b[0m \u001b[0mbooster\u001b[0m\u001b[1;33m.\u001b[0m\u001b[0mpredict\u001b[0m\u001b[1;33m(\u001b[0m\u001b[0mxgb\u001b[0m\u001b[1;33m.\u001b[0m\u001b[0mDMatrix\u001b[0m\u001b[1;33m(\u001b[0m\u001b[0mdt_xgb\u001b[0m\u001b[1;33m)\u001b[0m\u001b[1;33m,\u001b[0m \u001b[0mntree_limit\u001b[0m\u001b[1;33m=\u001b[0m\u001b[0mbooster\u001b[0m\u001b[1;33m.\u001b[0m\u001b[0mbest_ntree_limit\u001b[0m\u001b[1;33m)\u001b[0m\u001b[1;33m\u001b[0m\u001b[1;33m\u001b[0m\u001b[0m\n\u001b[0m",
      "\u001b[1;31mNameError\u001b[0m: name 'dt_xgb' is not defined"
     ]
    }
   ],
   "source": [
    "from scoring.metrics import gini\n",
    "\n",
    "USE_XGBOOST = True\n",
    "\n",
    "if USE_XGBOOST:\n",
    "    import xgboost as xgb\n",
    "\n",
    "    xgb_params = {'eta': 0.1,\n",
    "      'max_depth': 3,\n",
    "      'objective': 'binary:logistic',\n",
    "      'eval_metric': 'auc',\n",
    "      'min_child_weight': 30,\n",
    "      'subsample': 0.85}\n",
    "\n",
    "    evals_result = {}\n",
    "\n",
    "    booster = xgb.train(params = xgb_params,\n",
    "                            dtrain = xgb.DMatrix(df_train[scores_columns],df_train['RISK_FSTQPD30']),\n",
    "                            num_boost_round = 500,\n",
    "                            early_stopping_rounds = 50,\n",
    "                            evals = ((xgb.DMatrix(df_train[scores_columns],df_train['RISK_FSTQPD30']),'train'),\n",
    "                                     (xgb.DMatrix(df_test[scores_columns],df_test['RISK_FSTQPD30']),'valid')\n",
    "                                    ), \n",
    "                            evals_result = evals_result,)\n",
    "\n",
    "\n"
   ]
  },
  {
   "cell_type": "code",
   "execution_count": 150,
   "metadata": {},
   "outputs": [
    {
     "data": {
      "image/png": "[encoded data removed]",
      "text/plain": [
       "<Figure size 1800x1440 with 1 Axes>"
      ]
     },
     "metadata": {
      "needs_background": "light"
     },
     "output_type": "display_data"
    }
   ],
   "source": [
    "if USE_XGBOOST:\n",
    "    %matplotlib inline\n",
    "    from matplotlib import rc\n",
    "\n",
    "    fs = booster.get_score(importance_type = 'weight')\n",
    "    imp=sorted([(k, v) for k, v in fs.items()], key=lambda x:x[1], reverse = True)\n",
    "    imp.reverse()\n",
    "\n",
    "    fig=plt.figure(figsize=(25,20))\n",
    "    ax=fig.add_subplot(111)\n",
    "    ax.barh(range(len(imp)), [v for k, v in imp], color=\"blue\",  align='center')\n",
    "    plt.yticks(range(len(imp)), [k for k, v in imp], fontsize=15)\n",
    "    plt.xticks(fontsize=15)\n",
    "    plt.xlabel('Importance',fontsize=15)\n",
    "    plt.ylim([-1, len(imp)])\n",
    "    plt.xlim([0, max([v for k, v in imp])*1.2])\n",
    "    plt.draw()"
   ]
  },
  {
   "cell_type": "code",
   "execution_count": 153,
   "metadata": {},
   "outputs": [],
   "source": [
    "imp = ['LOGIT_RISK_FSTQPD30_SCORE','LOGIT_DEFAULT_FLAG_CHANGE_1','LOGIT_RISK_FPD10_SCORE','LOGIT_NO_PAYMENT_CURRENT_PAYMENT_2']"
   ]
  },
  {
   "cell_type": "markdown",
   "metadata": {},
   "source": [
    "# Use Forward Selection"
   ]
  },
  {
   "cell_type": "code",
   "execution_count": 363,
   "metadata": {},
   "outputs": [
    {
     "name": "stdout",
     "output_type": "stream",
     "text": [
      "Cross validation will be used for the training sample.\n",
      "Beta signum criterion and max correlation will not be used as the selection method is not \"forward\"\n",
      "Iteration  0\n",
      "set()\n",
      "Achieved Gini:  0\n",
      "Iteration  1\n",
      "{'LOGIT_G_RISK_FSTQPD30_SCORE'}\n",
      "Achieved Gini:  11.17017056606808\n",
      "Iteration  2\n",
      "{'LOGIT_G_RISK_FPD10_SCORE', 'LOGIT_G_RISK_FSTQPD30_SCORE'}\n",
      "Achieved Gini:  11.375346926572789\n",
      "Iteration  3\n",
      "{'LOGIT_G_DEFAULT_FLAG_CHANGE_1', 'LOGIT_G_RISK_FPD10_SCORE', 'LOGIT_G_RISK_FSTQPD30_SCORE'}\n",
      "Achieved Gini:  11.522884518385169\n",
      "Iteration  4\n",
      "{'LOGIT_G_DEFAULT_FLAG_CHANGE_1', 'LOGIT_G_RISK_FPD10_SCORE', 'LOGIT_G_RISK_FSTQPD30_SCORE'}\n",
      "Achieved Gini:  11.522884518385169\n"
     ]
    },
    {
     "data": {
      "text/plain": [
       "GiniStepwiseLogit(C=100000000000.0, beta_sgn_criterion=False,\n",
       "         correlation_sample=10000, cv_folds=3, cv_seed=98765,\n",
       "         initial_predictors=set(), max_correlation=1, max_decrease=0.05,\n",
       "         max_iter=1000, max_predictors=0, min_increase=0.1, penalty='l2',\n",
       "         selection_method='stepwise', use_cv=True)"
      ]
     },
     "execution_count": 363,
     "metadata": {},
     "output_type": "execute_result"
    }
   ],
   "source": [
    "from scoring.model_selection import GiniStepwiseLogit\n",
    "\n",
    "modelSW = GiniStepwiseLogit(initial_predictors = set(),\n",
    "                            max_iter=1000,\n",
    "                            min_increase=0.1,\n",
    "                            max_decrease=0.05,\n",
    "                            max_predictors=0, \n",
    "                            max_correlation=0.5, \n",
    "                            beta_sgn_criterion=False, \n",
    "                            penalty='l2', C=10e10, \n",
    "                            correlation_sample=10000,\n",
    "                            selection_method='stepwise',\n",
    "                            use_cv=True,\n",
    "                            cv_folds=3, \n",
    "                            cv_seed=98765)\n",
    "\n",
    "modelSW.fit(df_train[logit_columns], df_train['RISK_FSTQPD30']\n",
    "       # ,sample_weight = data[train_mask][col_weight], sample_weight_valid = data[valid_mask][col_weight]\n",
    "       )"
   ]
  },
  {
   "cell_type": "code",
   "execution_count": 364,
   "metadata": {},
   "outputs": [],
   "source": [
    "imp =['LOGIT_G_DEFAULT_FLAG_CHANGE_1', 'LOGIT_G_RISK_FPD10_SCORE', 'LOGIT_G_RISK_FSTQPD30_SCORE']"
   ]
  },
  {
   "cell_type": "code",
   "execution_count": null,
   "metadata": {},
   "outputs": [],
   "source": []
  },
  {
   "cell_type": "code",
   "execution_count": null,
   "metadata": {},
   "outputs": [],
   "source": []
  },
  {
   "cell_type": "markdown",
   "metadata": {},
   "source": [
    "# Generate final combined Score"
   ]
  },
  {
   "cell_type": "code",
   "execution_count": 409,
   "metadata": {},
   "outputs": [],
   "source": [
    "model= LogisticRegression(penalty = 'l1' , C=1)"
   ]
  },
  {
   "cell_type": "code",
   "execution_count": 410,
   "metadata": {},
   "outputs": [
    {
     "name": "stderr",
     "output_type": "stream",
     "text": [
      "C:\\Users\\aman.khatri91425\\AppData\\Local\\Continuum\\anaconda3\\lib\\site-packages\\sklearn\\linear_model\\logistic.py:433: FutureWarning: Default solver will be changed to 'lbfgs' in 0.22. Specify a solver to silence this warning.\n",
      "  FutureWarning)\n"
     ]
    },
    {
     "data": {
      "text/plain": [
       "LogisticRegression(C=1, class_weight=None, dual=False, fit_intercept=True,\n",
       "          intercept_scaling=1, max_iter=100, multi_class='warn',\n",
       "          n_jobs=None, penalty='l1', random_state=None, solver='warn',\n",
       "          tol=0.0001, verbose=0, warm_start=False)"
      ]
     },
     "execution_count": 410,
     "metadata": {},
     "output_type": "execute_result"
    }
   ],
   "source": [
    "model.fit(df_train[imp], df_train[\"RISK_FSTQPD60\"])"
   ]
  },
  {
   "cell_type": "code",
   "execution_count": 411,
   "metadata": {},
   "outputs": [
    {
     "data": {
      "text/html": [
       "<div>\n",
       "<style scoped>\n",
       "    .dataframe tbody tr th:only-of-type {\n",
       "        vertical-align: middle;\n",
       "    }\n",
       "\n",
       "    .dataframe tbody tr th {\n",
       "        vertical-align: top;\n",
       "    }\n",
       "\n",
       "    .dataframe thead th {\n",
       "        text-align: right;\n",
       "    }\n",
       "</style>\n",
       "<table border=\"1\" class=\"dataframe\">\n",
       "  <thead>\n",
       "    <tr style=\"text-align: right;\">\n",
       "      <th></th>\n",
       "      <th>coeff</th>\n",
       "      <th>logit_columns</th>\n",
       "    </tr>\n",
       "  </thead>\n",
       "  <tbody>\n",
       "    <tr>\n",
       "      <th>0</th>\n",
       "      <td>0.051206</td>\n",
       "      <td>LOGIT_G_DEFAULT_FLAG_CHANGE_1</td>\n",
       "    </tr>\n",
       "    <tr>\n",
       "      <th>1</th>\n",
       "      <td>0.138850</td>\n",
       "      <td>LOGIT_G_RISK_FPD10_SCORE</td>\n",
       "    </tr>\n",
       "    <tr>\n",
       "      <th>2</th>\n",
       "      <td>0.694452</td>\n",
       "      <td>LOGIT_G_RISK_FSTQPD30_SCORE</td>\n",
       "    </tr>\n",
       "  </tbody>\n",
       "</table>\n",
       "</div>"
      ],
      "text/plain": [
       "      coeff                  logit_columns\n",
       "0  0.051206  LOGIT_G_DEFAULT_FLAG_CHANGE_1\n",
       "1  0.138850       LOGIT_G_RISK_FPD10_SCORE\n",
       "2  0.694452    LOGIT_G_RISK_FSTQPD30_SCORE"
      ]
     },
     "execution_count": 411,
     "metadata": {},
     "output_type": "execute_result"
    }
   ],
   "source": [
    "pd.DataFrame({'coeff': model.coef_[0], 'logit_columns': imp})"
   ]
  },
  {
   "cell_type": "code",
   "execution_count": 412,
   "metadata": {},
   "outputs": [
    {
     "data": {
      "text/plain": [
       "array([-2.87712769])"
      ]
     },
     "execution_count": 412,
     "metadata": {},
     "output_type": "execute_result"
    }
   ],
   "source": [
    "model.intercept_"
   ]
  },
  {
   "cell_type": "code",
   "execution_count": 413,
   "metadata": {},
   "outputs": [
    {
     "name": "stdout",
     "output_type": "stream",
     "text": [
      "0.09478683088831286\n"
     ]
    }
   ],
   "source": [
    "print(2*metrics.roc_auc_score(df_test['RISK_FSTQPD30'],model.predict_proba(df_test[imp])[:,1])-1)"
   ]
  },
  {
   "cell_type": "code",
   "execution_count": 414,
   "metadata": {},
   "outputs": [
    {
     "name": "stdout",
     "output_type": "stream",
     "text": [
      "0.09399650541257754\n"
     ]
    }
   ],
   "source": [
    "print(2*metrics.roc_auc_score(df_test['RISK_FSTQPD30'],df_test['RISK_FSTQPD30_SCORE'])-1)"
   ]
  },
  {
   "cell_type": "code",
   "execution_count": 415,
   "metadata": {},
   "outputs": [
    {
     "data": {
      "text/plain": [
       "13"
      ]
     },
     "execution_count": 415,
     "metadata": {},
     "output_type": "execute_result"
    }
   ],
   "source": [
    "len(logit_columns)"
   ]
  },
  {
   "cell_type": "code",
   "execution_count": 416,
   "metadata": {},
   "outputs": [],
   "source": [
    "#Save Combined Score for 2nd to 8th Month"
   ]
  },
  {
   "cell_type": "code",
   "execution_count": 421,
   "metadata": {},
   "outputs": [],
   "source": [
    "df1= df[df[\"TIME_DECISION_DATE\"]>=datetime.datetime(2019,2,1)][[\"SKP_CREDIT_CASE\",\"TIME_DECISION_DATE\",\n",
    "                                                               \"CUS_LAT\",\"CUS_LONG\",\"GRID_ID\",\"RISK_FSTQPD30\",\"RISK_SCORE\",\n",
    "                                                              \"G_DEFAULT_FLAG_CHANGE_1\",\"DEFAULT_FLAG_CHANGE_1\",\"LOGIT_G_DEFAULT_FLAG_CHANGE_1\",\n",
    "                                                              \"G_RISK_FPD10_SCORE\", \"RISK_FPD10_SCORE\",\"LOGIT_G_RISK_FPD10_SCORE\",\n",
    "                                                               \"G_RISK_FSTQPD30_SCORE\", \"RISK_FSTQPD30_SCORE\",\"LOGIT_G_RISK_FSTQPD30_SCORE\"\n",
    "                                                              ]]"
   ]
  },
  {
   "cell_type": "code",
   "execution_count": 431,
   "metadata": {},
   "outputs": [],
   "source": [
    "df1[\"COMBINED_SCORE_KNN\"] = model.predict_proba(df1[imp])[:,1]"
   ]
  },
  {
   "cell_type": "code",
   "execution_count": 432,
   "metadata": {},
   "outputs": [],
   "source": [
    "df1[\"COMBINED_SCORE_KNN\"] = 1/(1+np.exp(-(df1[\"LOGIT_G_DEFAULT_FLAG_CHANGE_1\"]*0.051209+ \n",
    "              df1[\"LOGIT_G_RISK_FPD10_SCORE\"]*0.139963 +\n",
    "              df1[\"LOGIT_G_RISK_FSTQPD30_SCORE\"]*0.693647 +  -2.87712769)))"
   ]
  },
  {
   "cell_type": "code",
   "execution_count": 433,
   "metadata": {},
   "outputs": [
    {
     "name": "stdout",
     "output_type": "stream",
     "text": [
      "GINI COMBINED:  10.22%\n"
     ]
    }
   ],
   "source": [
    "print(\"GINI COMBINED: \",'{:,.2%}'.format(2 * metrics.roc_auc_score(df1[\"RISK_FSTQPD30\"], df1[\"COMBINED_SCORE_KNN\"]) - 1))"
   ]
  },
  {
   "cell_type": "code",
   "execution_count": 2,
   "metadata": {},
   "outputs": [],
   "source": [
    "import numpy as np\n",
    "default_score = 1/(1+np.exp(-(np.log(0.540940336/(1-0.540940336))*0.051209+ \n",
    "              np.log(0.512941/(1-0.512941))*0.139963 +\n",
    "              np.log(0.526039/(1-0.526039))*0.693647 +  -2.87712769)))"
   ]
  },
  {
   "cell_type": "code",
   "execution_count": 3,
   "metadata": {},
   "outputs": [
    {
     "data": {
      "text/plain": [
       "0.05791259110436746"
      ]
     },
     "execution_count": 3,
     "metadata": {},
     "output_type": "execute_result"
    }
   ],
   "source": [
    "default_score"
   ]
  },
  {
   "cell_type": "code",
   "execution_count": 4,
   "metadata": {},
   "outputs": [
    {
     "data": {
      "text/plain": [
       "2.302585092994046"
      ]
     },
     "execution_count": 4,
     "metadata": {},
     "output_type": "execute_result"
    }
   ],
   "source": [
    "np.log(10)"
   ]
  },
  {
   "cell_type": "markdown",
   "metadata": {},
   "source": [
    "# Create combined Score with RISK Score"
   ]
  },
  {
   "cell_type": "code",
   "execution_count": 434,
   "metadata": {},
   "outputs": [],
   "source": [
    "df1[\"LOGIT_RISK_SCORE\"] = [np.log(x/(1-x)) for x in df1[\"RISK_SCORE\"]]\n",
    "df1[\"LOGIT_COMBINED_SCORE_KNN\"] = [np.log(x/(1-x)) for x in df1[\"COMBINED_SCORE_KNN\"]]\n"
   ]
  },
  {
   "cell_type": "code",
   "execution_count": 435,
   "metadata": {},
   "outputs": [],
   "source": [
    "model= LogisticRegression(penalty = 'l1' , C=1)"
   ]
  },
  {
   "cell_type": "code",
   "execution_count": 439,
   "metadata": {},
   "outputs": [
    {
     "name": "stderr",
     "output_type": "stream",
     "text": [
      "C:\\Users\\aman.khatri91425\\AppData\\Local\\Continuum\\anaconda3\\lib\\site-packages\\sklearn\\linear_model\\logistic.py:433: FutureWarning: Default solver will be changed to 'lbfgs' in 0.22. Specify a solver to silence this warning.\n",
      "  FutureWarning)\n"
     ]
    },
    {
     "data": {
      "text/plain": [
       "LogisticRegression(C=1, class_weight=None, dual=False, fit_intercept=True,\n",
       "          intercept_scaling=1, max_iter=100, multi_class='warn',\n",
       "          n_jobs=None, penalty='l1', random_state=None, solver='warn',\n",
       "          tol=0.0001, verbose=0, warm_start=False)"
      ]
     },
     "execution_count": 439,
     "metadata": {},
     "output_type": "execute_result"
    }
   ],
   "source": [
    "model.fit(df1[df1[\"TIME_DECISION_DATE\"]<datetime.datetime(2019,5,1)][[\"LOGIT_RISK_SCORE\",\"LOGIT_COMBINED_SCORE_KNN\"]], df1[df1[\"TIME_DECISION_DATE\"]<datetime.datetime(2019,5,1)][\"RISK_FSTQPD30\"])"
   ]
  },
  {
   "cell_type": "code",
   "execution_count": 441,
   "metadata": {},
   "outputs": [
    {
     "data": {
      "text/html": [
       "<div>\n",
       "<style scoped>\n",
       "    .dataframe tbody tr th:only-of-type {\n",
       "        vertical-align: middle;\n",
       "    }\n",
       "\n",
       "    .dataframe tbody tr th {\n",
       "        vertical-align: top;\n",
       "    }\n",
       "\n",
       "    .dataframe thead th {\n",
       "        text-align: right;\n",
       "    }\n",
       "</style>\n",
       "<table border=\"1\" class=\"dataframe\">\n",
       "  <thead>\n",
       "    <tr style=\"text-align: right;\">\n",
       "      <th></th>\n",
       "      <th>coeff</th>\n",
       "      <th>logit_columns</th>\n",
       "    </tr>\n",
       "  </thead>\n",
       "  <tbody>\n",
       "    <tr>\n",
       "      <th>0</th>\n",
       "      <td>0.478180</td>\n",
       "      <td>LOGIT_RISK_SCORE</td>\n",
       "    </tr>\n",
       "    <tr>\n",
       "      <th>1</th>\n",
       "      <td>0.751557</td>\n",
       "      <td>LOGIT_COMBINED_SCORE_KNN</td>\n",
       "    </tr>\n",
       "  </tbody>\n",
       "</table>\n",
       "</div>"
      ],
      "text/plain": [
       "      coeff             logit_columns\n",
       "0  0.478180          LOGIT_RISK_SCORE\n",
       "1  0.751557  LOGIT_COMBINED_SCORE_KNN"
      ]
     },
     "execution_count": 441,
     "metadata": {},
     "output_type": "execute_result"
    }
   ],
   "source": [
    "pd.DataFrame({'coeff': model.coef_[0], 'logit_columns': [\"LOGIT_RISK_SCORE\",\"LOGIT_COMBINED_SCORE_KNN\"] })"
   ]
  },
  {
   "cell_type": "code",
   "execution_count": 442,
   "metadata": {},
   "outputs": [
    {
     "data": {
      "text/plain": [
       "array([0.80623855])"
      ]
     },
     "execution_count": 442,
     "metadata": {},
     "output_type": "execute_result"
    }
   ],
   "source": [
    "model.intercept_"
   ]
  },
  {
   "cell_type": "code",
   "execution_count": 431,
   "metadata": {},
   "outputs": [],
   "source": [
    "df1[\"COMBINED_SCORE\"] = model.predict_proba(df1[imp])[:,1]"
   ]
  },
  {
   "cell_type": "code",
   "execution_count": 443,
   "metadata": {},
   "outputs": [],
   "source": [
    "df1[\"COMBINED_SCORE\"] = 1/(1+np.exp(-(df1[\"LOGIT_RISK_SCORE\"]*0.47818+ \n",
    "              df1[\"LOGIT_COMBINED_SCORE_KNN\"]*0.751557 + 0.80623855)))"
   ]
  },
  {
   "cell_type": "code",
   "execution_count": 445,
   "metadata": {},
   "outputs": [
    {
     "name": "stdout",
     "output_type": "stream",
     "text": [
      "GINI COMBINED:  26.43%\n",
      "GINI COMBINED:  25.12%\n"
     ]
    }
   ],
   "source": [
    "print(\"GINI COMBINED: \",'{:,.2%}'.format(2 * metrics.roc_auc_score(df1[\"RISK_FSTQPD30\"], df1[\"COMBINED_SCORE\"]) - 1))\n",
    "print(\"GINI COMBINED: \",'{:,.2%}'.format(2 * metrics.roc_auc_score(df1[\"RISK_FSTQPD30\"], df1[\"RISK_SCORE\"]) - 1))"
   ]
  },
  {
   "cell_type": "code",
   "execution_count": 447,
   "metadata": {},
   "outputs": [],
   "source": [
    "df1.to_pickle(os.getcwd()+\"\\Data Files\\Combined Score.pkl\")"
   ]
  },
  {
   "cell_type": "code",
   "execution_count": null,
   "metadata": {},
   "outputs": [],
   "source": []
  }
 ],
 "metadata": {
  "kernelspec": {
   "display_name": "Python 3",
   "language": "python",
   "name": "python3"
  },
  "language_info": {
   "codemirror_mode": {
    "name": "ipython",
    "version": 3
   },
   "file_extension": ".py",
   "mimetype": "text/x-python",
   "name": "python",
   "nbconvert_exporter": "python",
   "pygments_lexer": "ipython3",
   "version": "3.7.3"
  }
 },
 "nbformat": 4,
 "nbformat_minor": 2
}
