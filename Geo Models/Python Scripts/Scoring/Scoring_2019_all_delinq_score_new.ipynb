{
 "cells": [
  {
   "cell_type": "code",
   "execution_count": 152,
   "metadata": {},
   "outputs": [],
   "source": [
    "import os\n",
    "import cx_Oracle\n",
    "import pandas as pd\n",
    "import numpy as np\n",
    "import pickle\n",
    "from datetime import date,datetime\n",
    "from sklearn import metrics\n",
    "from sklearn.model_selection import train_test_split, StratifiedKFold, RandomizedSearchCV, cross_val_score \n",
    "import time\n",
    "import matplotlib.pyplot as plt\n",
    "from sklearn.utils import resample\n",
    "import datetime"
   ]
  },
  {
   "cell_type": "code",
   "execution_count": 153,
   "metadata": {},
   "outputs": [],
   "source": [
    "os.chdir(r\"C:\\Users\\aman.khatri91425\\Desktop\\HomeCredit\\Bigdata\\Common Maps KNN\")"
   ]
  },
  {
   "cell_type": "code",
   "execution_count": 154,
   "metadata": {},
   "outputs": [],
   "source": [
    "df = pd.read_pickle(os.getcwd()+r\"\\Data Files\\final_grids_combined.pkl\")"
   ]
  },
  {
   "cell_type": "code",
   "execution_count": 155,
   "metadata": {},
   "outputs": [],
   "source": [
    "df=df[df[\"NTC_FLAG\"] == 'NTC']"
   ]
  },
  {
   "cell_type": "code",
   "execution_count": 5,
   "metadata": {
    "scrolled": true
   },
   "outputs": [
    {
     "data": {
      "text/html": [
       "<div>\n",
       "<style scoped>\n",
       "    .dataframe tbody tr th:only-of-type {\n",
       "        vertical-align: middle;\n",
       "    }\n",
       "\n",
       "    .dataframe tbody tr th {\n",
       "        vertical-align: top;\n",
       "    }\n",
       "\n",
       "    .dataframe thead th {\n",
       "        text-align: right;\n",
       "    }\n",
       "</style>\n",
       "<table border=\"1\" class=\"dataframe\">\n",
       "  <thead>\n",
       "    <tr style=\"text-align: right;\">\n",
       "      <th></th>\n",
       "      <th>SKP_CREDIT_CASE</th>\n",
       "      <th>TIME_DECISION_DATE</th>\n",
       "      <th>CUS_LAT</th>\n",
       "      <th>CUS_LONG</th>\n",
       "      <th>RISK_FPD10</th>\n",
       "      <th>RISK_FPD30</th>\n",
       "      <th>RISK_FSPD30</th>\n",
       "      <th>RISK_FSTPD30</th>\n",
       "      <th>RISK_FSTQPD30</th>\n",
       "      <th>RISK_FSTQPD60</th>\n",
       "      <th>NTC_FLAG</th>\n",
       "      <th>GRID_ID</th>\n",
       "      <th>RISK_SCORE</th>\n",
       "    </tr>\n",
       "  </thead>\n",
       "  <tbody>\n",
       "    <tr>\n",
       "      <th>86</th>\n",
       "      <td>299690313</td>\n",
       "      <td>2020-03-18</td>\n",
       "      <td>26.895303</td>\n",
       "      <td>75.750557</td>\n",
       "      <td>0.0</td>\n",
       "      <td>0.0</td>\n",
       "      <td>0.0</td>\n",
       "      <td>0.0</td>\n",
       "      <td>0.0</td>\n",
       "      <td>0.0</td>\n",
       "      <td>NTC</td>\n",
       "      <td>500_01551_04295</td>\n",
       "      <td>0.094270</td>\n",
       "    </tr>\n",
       "    <tr>\n",
       "      <th>204</th>\n",
       "      <td>299688050</td>\n",
       "      <td>2020-03-18</td>\n",
       "      <td>27.199507</td>\n",
       "      <td>78.019478</td>\n",
       "      <td>0.0</td>\n",
       "      <td>0.0</td>\n",
       "      <td>0.0</td>\n",
       "      <td>0.0</td>\n",
       "      <td>0.0</td>\n",
       "      <td>0.0</td>\n",
       "      <td>NTC</td>\n",
       "      <td>500_01994_04352</td>\n",
       "      <td>0.203476</td>\n",
       "    </tr>\n",
       "    <tr>\n",
       "      <th>297</th>\n",
       "      <td>299689543</td>\n",
       "      <td>2020-03-18</td>\n",
       "      <td>21.250473</td>\n",
       "      <td>81.671461</td>\n",
       "      <td>0.0</td>\n",
       "      <td>0.0</td>\n",
       "      <td>0.0</td>\n",
       "      <td>0.0</td>\n",
       "      <td>0.0</td>\n",
       "      <td>0.0</td>\n",
       "      <td>NTC</td>\n",
       "      <td>500_02720_03058</td>\n",
       "      <td>0.161592</td>\n",
       "    </tr>\n",
       "    <tr>\n",
       "      <th>345</th>\n",
       "      <td>299686222</td>\n",
       "      <td>2020-03-18</td>\n",
       "      <td>25.441833</td>\n",
       "      <td>75.640776</td>\n",
       "      <td>0.0</td>\n",
       "      <td>0.0</td>\n",
       "      <td>0.0</td>\n",
       "      <td>0.0</td>\n",
       "      <td>0.0</td>\n",
       "      <td>0.0</td>\n",
       "      <td>NTC</td>\n",
       "      <td>500_01519_03980</td>\n",
       "      <td>0.087024</td>\n",
       "    </tr>\n",
       "    <tr>\n",
       "      <th>388</th>\n",
       "      <td>299685049</td>\n",
       "      <td>2020-03-18</td>\n",
       "      <td>23.260509</td>\n",
       "      <td>77.394133</td>\n",
       "      <td>0.0</td>\n",
       "      <td>0.0</td>\n",
       "      <td>0.0</td>\n",
       "      <td>0.0</td>\n",
       "      <td>0.0</td>\n",
       "      <td>0.0</td>\n",
       "      <td>NTC</td>\n",
       "      <td>500_01857_03498</td>\n",
       "      <td>NaN</td>\n",
       "    </tr>\n",
       "  </tbody>\n",
       "</table>\n",
       "</div>"
      ],
      "text/plain": [
       "     SKP_CREDIT_CASE TIME_DECISION_DATE    CUS_LAT   CUS_LONG  RISK_FPD10  \\\n",
       "86         299690313         2020-03-18  26.895303  75.750557         0.0   \n",
       "204        299688050         2020-03-18  27.199507  78.019478         0.0   \n",
       "297        299689543         2020-03-18  21.250473  81.671461         0.0   \n",
       "345        299686222         2020-03-18  25.441833  75.640776         0.0   \n",
       "388        299685049         2020-03-18  23.260509  77.394133         0.0   \n",
       "\n",
       "     RISK_FPD30  RISK_FSPD30  RISK_FSTPD30  RISK_FSTQPD30  RISK_FSTQPD60  \\\n",
       "86          0.0          0.0           0.0            0.0            0.0   \n",
       "204         0.0          0.0           0.0            0.0            0.0   \n",
       "297         0.0          0.0           0.0            0.0            0.0   \n",
       "345         0.0          0.0           0.0            0.0            0.0   \n",
       "388         0.0          0.0           0.0            0.0            0.0   \n",
       "\n",
       "    NTC_FLAG          GRID_ID  RISK_SCORE  \n",
       "86       NTC  500_01551_04295    0.094270  \n",
       "204      NTC  500_01994_04352    0.203476  \n",
       "297      NTC  500_02720_03058    0.161592  \n",
       "345      NTC  500_01519_03980    0.087024  \n",
       "388      NTC  500_01857_03498         NaN  "
      ]
     },
     "execution_count": 5,
     "metadata": {},
     "output_type": "execute_result"
    }
   ],
   "source": [
    "df.head()"
   ]
  },
  {
   "cell_type": "code",
   "execution_count": 6,
   "metadata": {},
   "outputs": [
    {
     "data": {
      "text/plain": [
       "True     3814239\n",
       "False    3136854\n",
       "Name: RISK_SCORE, dtype: int64"
      ]
     },
     "execution_count": 6,
     "metadata": {},
     "output_type": "execute_result"
    }
   ],
   "source": [
    "df[\"RISK_SCORE\"].isna().value_counts()"
   ]
  },
  {
   "cell_type": "code",
   "execution_count": 7,
   "metadata": {},
   "outputs": [],
   "source": [
    "df[\"MONTH_STR\"] = df[\"TIME_DECISION_DATE\"].dt.strftime(\"%Y-%m\")\n",
    "df_summ = df[[\"MONTH_STR\",\"RISK_FSTQPD30\"]].groupby(\"MONTH_STR\").aggregate([\"count\",\"sum\"])[\"RISK_FSTQPD30\"]\n",
    "df_summ[\"bad_rate\"] = df_summ[\"sum\"]/df_summ[\"count\"]"
   ]
  },
  {
   "cell_type": "code",
   "execution_count": 8,
   "metadata": {},
   "outputs": [
    {
     "data": {
      "image/png": "[encoded data removed]",
      "text/plain": [
       "<Figure size 1080x288 with 2 Axes>"
      ]
     },
     "metadata": {
      "needs_background": "light"
     },
     "output_type": "display_data"
    }
   ],
   "source": [
    "df_summ[['sum','count']].plot(kind='bar', width = 0.8, figsize=(15,4))\n",
    "df_summ['bad_rate'].plot(secondary_y=True)\n",
    "\n",
    "ax = plt.gca()\n",
    "plt.xlim([-0.35, len(df_summ['sum'])-0.35])\n",
    "ax.set_xticklabels(df_summ.index)\n",
    "plt.ylim\n",
    "fig = ax.get_figure()\n",
    "ax = fig.get_axes()\n",
    "ax[1].set_ylim(0,0.15)\n",
    "ax[0].legend(['CD_Contracts','CD_Defaults'])\n",
    "ax[1].legend([\"Default Rate\"], loc = \"center right\")\n",
    "\n",
    "\n",
    "plt.show()\n"
   ]
  },
  {
   "cell_type": "markdown",
   "metadata": {},
   "source": [
    "# Generate grid based scores for selected variables"
   ]
  },
  {
   "cell_type": "code",
   "execution_count": 15,
   "metadata": {},
   "outputs": [],
   "source": [
    "hyper_df= pd.read_csv(os.getcwd()+r\"\\Data Files\\Hyperparameters\\Hyperparameters_new.csv\")"
   ]
  },
  {
   "cell_type": "code",
   "execution_count": 16,
   "metadata": {},
   "outputs": [
    {
     "data": {
      "text/html": [
       "<div>\n",
       "<style scoped>\n",
       "    .dataframe tbody tr th:only-of-type {\n",
       "        vertical-align: middle;\n",
       "    }\n",
       "\n",
       "    .dataframe tbody tr th {\n",
       "        vertical-align: top;\n",
       "    }\n",
       "\n",
       "    .dataframe thead th {\n",
       "        text-align: right;\n",
       "    }\n",
       "</style>\n",
       "<table border=\"1\" class=\"dataframe\">\n",
       "  <thead>\n",
       "    <tr style=\"text-align: right;\">\n",
       "      <th></th>\n",
       "      <th>SCORE_NAME</th>\n",
       "      <th>TARGET</th>\n",
       "      <th>K</th>\n",
       "      <th>OBSERVATION_WINDOW</th>\n",
       "      <th>PERFORMANCE_WINDOW</th>\n",
       "      <th>DOWNSAMPLE_SIZE</th>\n",
       "      <th>FILLNA</th>\n",
       "    </tr>\n",
       "  </thead>\n",
       "  <tbody>\n",
       "    <tr>\n",
       "      <th>0</th>\n",
       "      <td>RISK_FPD10_SCORE</td>\n",
       "      <td>RISK_FPD10</td>\n",
       "      <td>211</td>\n",
       "      <td>365</td>\n",
       "      <td>40</td>\n",
       "      <td>80000</td>\n",
       "      <td>0.503123</td>\n",
       "    </tr>\n",
       "    <tr>\n",
       "      <th>1</th>\n",
       "      <td>RISK_FPD30_SCORE</td>\n",
       "      <td>RISK_FPD30</td>\n",
       "      <td>146</td>\n",
       "      <td>365</td>\n",
       "      <td>60</td>\n",
       "      <td>30000</td>\n",
       "      <td>0.485446</td>\n",
       "    </tr>\n",
       "    <tr>\n",
       "      <th>2</th>\n",
       "      <td>RISK_FSPD30_SCORE</td>\n",
       "      <td>RISK_FSPD30</td>\n",
       "      <td>201</td>\n",
       "      <td>365</td>\n",
       "      <td>90</td>\n",
       "      <td>70000</td>\n",
       "      <td>0.493708</td>\n",
       "    </tr>\n",
       "    <tr>\n",
       "      <th>3</th>\n",
       "      <td>RISK_FSTPD30_SCORE</td>\n",
       "      <td>RISK_FSTPD30</td>\n",
       "      <td>291</td>\n",
       "      <td>365</td>\n",
       "      <td>120</td>\n",
       "      <td>120000</td>\n",
       "      <td>0.501129</td>\n",
       "    </tr>\n",
       "    <tr>\n",
       "      <th>4</th>\n",
       "      <td>RISK_FSTQPD30_SCORE</td>\n",
       "      <td>RISK_FSTQPD30</td>\n",
       "      <td>351</td>\n",
       "      <td>365</td>\n",
       "      <td>150</td>\n",
       "      <td>200000</td>\n",
       "      <td>0.514893</td>\n",
       "    </tr>\n",
       "  </tbody>\n",
       "</table>\n",
       "</div>"
      ],
      "text/plain": [
       "            SCORE_NAME         TARGET    K  OBSERVATION_WINDOW  \\\n",
       "0     RISK_FPD10_SCORE     RISK_FPD10  211                 365   \n",
       "1     RISK_FPD30_SCORE     RISK_FPD30  146                 365   \n",
       "2    RISK_FSPD30_SCORE    RISK_FSPD30  201                 365   \n",
       "3   RISK_FSTPD30_SCORE   RISK_FSTPD30  291                 365   \n",
       "4  RISK_FSTQPD30_SCORE  RISK_FSTQPD30  351                 365   \n",
       "\n",
       "   PERFORMANCE_WINDOW  DOWNSAMPLE_SIZE    FILLNA  \n",
       "0                  40            80000  0.503123  \n",
       "1                  60            30000  0.485446  \n",
       "2                  90            70000  0.493708  \n",
       "3                 120           120000  0.501129  \n",
       "4                 150           200000  0.514893  "
      ]
     },
     "execution_count": 16,
     "metadata": {},
     "output_type": "execute_result"
    }
   ],
   "source": [
    "hyper_df.head()"
   ]
  },
  {
   "cell_type": "code",
   "execution_count": 17,
   "metadata": {},
   "outputs": [],
   "source": [
    "selected_list =['NO_PAYMENT_CURRENT_PAYMENT_1', 'DEFAULT_FLAG_CHANGE_1', 'RISK_FSTQPD30_SCORE', 'RISK_FSPD30_MM_SCORE']"
   ]
  },
  {
   "cell_type": "code",
   "execution_count": 18,
   "metadata": {},
   "outputs": [],
   "source": [
    "# hyper_df= pd.read_csv(os.getcwd()+r\"\\Data Files\\Hyperparameters.csv\")\n",
    "# df = pd.read_csv(os.getcwd()+r\"\\Data Files\\final_grids.csv\")\n",
    "# df[\"TIME_DECISION_DATE\"]=pd.to_datetime(df[\"TIME_DECISION_DATE\"],format = '%d-%m-%y')"
   ]
  },
  {
   "cell_type": "code",
   "execution_count": 19,
   "metadata": {},
   "outputs": [
    {
     "name": "stderr",
     "output_type": "stream",
     "text": [
      "C:\\Users\\aman.khatri91425\\AppData\\Local\\Continuum\\anaconda3\\lib\\site-packages\\ipykernel_launcher.py:50: SettingWithCopyWarning: \n",
      "A value is trying to be set on a copy of a slice from a DataFrame.\n",
      "Try using .loc[row_indexer,col_indexer] = value instead\n",
      "\n",
      "See the caveats in the documentation: http://pandas.pydata.org/pandas-docs/stable/indexing.html#indexing-view-versus-copy\n"
     ]
    },
    {
     "name": "stdout",
     "output_type": "stream",
     "text": [
      "Training for predicting (month): 1  SCORE: RISK_FPD10_SCORE  target: RISK_FPD10  K: 211  observation_window: 365  performance_window: 40  downsample_size: 80000  GINI TRAIN: 15.85%     GINI TEST: 11.72%  time taken:  0.48\n",
      "Training for predicting (month): 1  SCORE: RISK_FPD30_SCORE  target: RISK_FPD30  K: 146  observation_window: 365  performance_window: 60  downsample_size: 30000  GINI TRAIN: 21.15%     GINI TEST: 15.17%  time taken:  0.22\n",
      "Training for predicting (month): 1  SCORE: RISK_FSPD30_SCORE  target: RISK_FSPD30  K: 201  observation_window: 365  performance_window: 90  downsample_size: 70000  GINI TRAIN: 19.07%     GINI TEST: 12.63%  time taken:  0.38\n",
      "Training for predicting (month): 1  SCORE: RISK_FSTPD30_SCORE  target: RISK_FSTPD30  K: 291  observation_window: 365  performance_window: 120  downsample_size: 120000  GINI TRAIN: 17.11%     GINI TEST: 12.87%  time taken:  0.78\n",
      "Training for predicting (month): 1  SCORE: RISK_FSTQPD30_SCORE  target: RISK_FSTQPD30  K: 351  observation_window: 365  performance_window: 150  downsample_size: 200000  GINI TRAIN: 15.18%     GINI TEST: 10.68%  time taken:  1.4\n",
      "Training for predicting (month): 1  SCORE: RISK_FPD10_MM_SCORE  target: RISK_FPD10  K: 191  observation_window: 110  performance_window: 40  downsample_size: 25000  GINI TRAIN: 16.99%     GINI TEST: 10.16%  time taken:  0.23\n",
      "Training for predicting (month): 1  SCORE: RISK_FPD30_MM_SCORE  target: RISK_FPD30  K: 66  observation_window: 90  performance_window: 60  downsample_size: 8000  GINI TRAIN: 24.62%     GINI TEST: 13.25%  time taken:  0.067\n",
      "Training for predicting (month): 1  SCORE: RISK_FSPD30_MM_SCORE  target: RISK_FSPD30  K: 96  observation_window: 60  performance_window: 90  downsample_size: 12000  GINI TRAIN: 20.51%     GINI TEST: 11.70%  time taken:  0.1\n",
      "Training for predicting (month): 1  SCORE: RISK_FSTPD30_MM_SCORE  target: RISK_FSTPD30  K: 86  observation_window: 30  performance_window: 120  downsample_size: 10000  GINI TRAIN: 19.96%     GINI TEST: 10.47%  time taken:  0.083\n"
     ]
    },
    {
     "name": "stderr",
     "output_type": "stream",
     "text": [
      "C:\\Users\\aman.khatri91425\\AppData\\Local\\Continuum\\anaconda3\\lib\\site-packages\\ipykernel_launcher.py:50: SettingWithCopyWarning: \n",
      "A value is trying to be set on a copy of a slice from a DataFrame.\n",
      "Try using .loc[row_indexer,col_indexer] = value instead\n",
      "\n",
      "See the caveats in the documentation: http://pandas.pydata.org/pandas-docs/stable/indexing.html#indexing-view-versus-copy\n"
     ]
    },
    {
     "name": "stdout",
     "output_type": "stream",
     "text": [
      "Training for predicting (month): 2  SCORE: RISK_FPD10_SCORE  target: RISK_FPD10  K: 211  observation_window: 365  performance_window: 40  downsample_size: 80000  GINI TRAIN: 15.91%     GINI TEST: 11.37%  time taken:  0.4\n",
      "Training for predicting (month): 2  SCORE: RISK_FPD30_SCORE  target: RISK_FPD30  K: 146  observation_window: 365  performance_window: 60  downsample_size: 30000  GINI TRAIN: 20.77%     GINI TEST: 16.76%  time taken:  0.18\n",
      "Training for predicting (month): 2  SCORE: RISK_FSPD30_SCORE  target: RISK_FSPD30  K: 201  observation_window: 365  performance_window: 90  downsample_size: 70000  GINI TRAIN: 18.83%     GINI TEST: 14.88%  time taken:  0.35\n",
      "Training for predicting (month): 2  SCORE: RISK_FSTPD30_SCORE  target: RISK_FSTPD30  K: 291  observation_window: 365  performance_window: 120  downsample_size: 120000  GINI TRAIN: 17.05%     GINI TEST: 13.06%  time taken:  0.72\n",
      "Training for predicting (month): 2  SCORE: RISK_FSTQPD30_SCORE  target: RISK_FSTQPD30  K: 351  observation_window: 365  performance_window: 150  downsample_size: 200000  GINI TRAIN: 15.31%     GINI TEST: 10.42%  time taken:  1.2\n",
      "Training for predicting (month): 2  SCORE: RISK_FPD10_MM_SCORE  target: RISK_FPD10  K: 191  observation_window: 110  performance_window: 40  downsample_size: 25000  GINI TRAIN: 15.39%     GINI TEST: 10.07%  time taken:  0.22\n",
      "Training for predicting (month): 2  SCORE: RISK_FPD30_MM_SCORE  target: RISK_FPD30  K: 66  observation_window: 90  performance_window: 60  downsample_size: 8000  GINI TRAIN: 23.67%     GINI TEST: 14.14%  time taken:  0.067\n",
      "Training for predicting (month): 2  SCORE: RISK_FSPD30_MM_SCORE  target: RISK_FSPD30  K: 96  observation_window: 60  performance_window: 90  downsample_size: 12000  GINI TRAIN: 20.27%     GINI TEST: 10.53%  time taken:  0.083\n",
      "Training for predicting (month): 2  SCORE: RISK_FSTPD30_MM_SCORE  target: RISK_FSTPD30  K: 86  observation_window: 30  performance_window: 120  downsample_size: 10000  GINI TRAIN: 19.10%     GINI TEST: 8.76%  time taken:  0.083\n"
     ]
    },
    {
     "name": "stderr",
     "output_type": "stream",
     "text": [
      "C:\\Users\\aman.khatri91425\\AppData\\Local\\Continuum\\anaconda3\\lib\\site-packages\\ipykernel_launcher.py:50: SettingWithCopyWarning: \n",
      "A value is trying to be set on a copy of a slice from a DataFrame.\n",
      "Try using .loc[row_indexer,col_indexer] = value instead\n",
      "\n",
      "See the caveats in the documentation: http://pandas.pydata.org/pandas-docs/stable/indexing.html#indexing-view-versus-copy\n"
     ]
    },
    {
     "name": "stdout",
     "output_type": "stream",
     "text": [
      "Training for predicting (month): 3  SCORE: RISK_FPD10_SCORE  target: RISK_FPD10  K: 211  observation_window: 365  performance_window: 40  downsample_size: 80000  GINI TRAIN: 15.93%     GINI TEST: 12.91%  time taken:  0.38\n",
      "Training for predicting (month): 3  SCORE: RISK_FPD30_SCORE  target: RISK_FPD30  K: 146  observation_window: 365  performance_window: 60  downsample_size: 30000  GINI TRAIN: 20.58%     GINI TEST: 18.39%  time taken:  0.2\n",
      "Training for predicting (month): 3  SCORE: RISK_FSPD30_SCORE  target: RISK_FSPD30  K: 201  observation_window: 365  performance_window: 90  downsample_size: 70000  GINI TRAIN: 18.73%     GINI TEST: 14.30%  time taken:  0.35\n",
      "Training for predicting (month): 3  SCORE: RISK_FSTPD30_SCORE  target: RISK_FSTPD30  K: 291  observation_window: 365  performance_window: 120  downsample_size: 120000  GINI TRAIN: 16.94%     GINI TEST: 12.36%  time taken:  0.7\n",
      "Training for predicting (month): 3  SCORE: RISK_FSTQPD30_SCORE  target: RISK_FSTQPD30  K: 351  observation_window: 365  performance_window: 150  downsample_size: 200000  GINI TRAIN: 14.91%     GINI TEST: 10.34%  time taken:  1.3\n",
      "Training for predicting (month): 3  SCORE: RISK_FPD10_MM_SCORE  target: RISK_FPD10  K: 191  observation_window: 110  performance_window: 40  downsample_size: 25000  GINI TRAIN: 16.29%     GINI TEST: 12.95%  time taken:  0.23\n",
      "Training for predicting (month): 3  SCORE: RISK_FPD30_MM_SCORE  target: RISK_FPD30  K: 66  observation_window: 90  performance_window: 60  downsample_size: 8000  GINI TRAIN: 24.04%     GINI TEST: 14.21%  time taken:  0.05\n",
      "Training for predicting (month): 3  SCORE: RISK_FSPD30_MM_SCORE  target: RISK_FSPD30  K: 96  observation_window: 60  performance_window: 90  downsample_size: 12000  GINI TRAIN: 20.44%     GINI TEST: 11.41%  time taken:  0.083\n",
      "Training for predicting (month): 3  SCORE: RISK_FSTPD30_MM_SCORE  target: RISK_FSTPD30  K: 86  observation_window: 30  performance_window: 120  downsample_size: 10000  GINI TRAIN: 19.73%     GINI TEST: 8.39%  time taken:  0.083\n"
     ]
    },
    {
     "name": "stderr",
     "output_type": "stream",
     "text": [
      "C:\\Users\\aman.khatri91425\\AppData\\Local\\Continuum\\anaconda3\\lib\\site-packages\\ipykernel_launcher.py:50: SettingWithCopyWarning: \n",
      "A value is trying to be set on a copy of a slice from a DataFrame.\n",
      "Try using .loc[row_indexer,col_indexer] = value instead\n",
      "\n",
      "See the caveats in the documentation: http://pandas.pydata.org/pandas-docs/stable/indexing.html#indexing-view-versus-copy\n"
     ]
    },
    {
     "name": "stdout",
     "output_type": "stream",
     "text": [
      "Training for predicting (month): 4  SCORE: RISK_FPD10_SCORE  target: RISK_FPD10  K: 211  observation_window: 365  performance_window: 40  downsample_size: 80000  GINI TRAIN: 15.92%     GINI TEST: 12.98%  time taken:  0.37\n",
      "Training for predicting (month): 4  SCORE: RISK_FPD30_SCORE  target: RISK_FPD30  K: 146  observation_window: 365  performance_window: 60  downsample_size: 30000  GINI TRAIN: 20.67%     GINI TEST: 15.86%  time taken:  0.17\n",
      "Training for predicting (month): 4  SCORE: RISK_FSPD30_SCORE  target: RISK_FSPD30  K: 201  observation_window: 365  performance_window: 90  downsample_size: 70000  GINI TRAIN: 18.65%     GINI TEST: 13.62%  time taken:  0.35\n",
      "Training for predicting (month): 4  SCORE: RISK_FSTPD30_SCORE  target: RISK_FSTPD30  K: 291  observation_window: 365  performance_window: 120  downsample_size: 120000  GINI TRAIN: 16.49%     GINI TEST: 11.60%  time taken:  0.68\n",
      "Training for predicting (month): 4  SCORE: RISK_FSTQPD30_SCORE  target: RISK_FSTQPD30  K: 351  observation_window: 365  performance_window: 150  downsample_size: 200000  GINI TRAIN: 14.59%     GINI TEST: 9.84%  time taken:  1.1\n",
      "Training for predicting (month): 4  SCORE: RISK_FPD10_MM_SCORE  target: RISK_FPD10  K: 191  observation_window: 110  performance_window: 40  downsample_size: 25000  GINI TRAIN: 17.17%     GINI TEST: 12.21%  time taken:  0.15\n",
      "Training for predicting (month): 4  SCORE: RISK_FPD30_MM_SCORE  target: RISK_FPD30  K: 66  observation_window: 90  performance_window: 60  downsample_size: 8000  GINI TRAIN: 23.13%     GINI TEST: 14.37%  time taken:  0.13\n",
      "Training for predicting (month): 4  SCORE: RISK_FSPD30_MM_SCORE  target: RISK_FSPD30  K: 96  observation_window: 60  performance_window: 90  downsample_size: 12000  GINI TRAIN: 20.92%     GINI TEST: 10.27%  time taken:  0.13\n",
      "Training for predicting (month): 4  SCORE: RISK_FSTPD30_MM_SCORE  target: RISK_FSTPD30  K: 86  observation_window: 30  performance_window: 120  downsample_size: 10000  GINI TRAIN: 19.26%     GINI TEST: 8.89%  time taken:  0.067\n"
     ]
    },
    {
     "name": "stderr",
     "output_type": "stream",
     "text": [
      "C:\\Users\\aman.khatri91425\\AppData\\Local\\Continuum\\anaconda3\\lib\\site-packages\\ipykernel_launcher.py:50: SettingWithCopyWarning: \n",
      "A value is trying to be set on a copy of a slice from a DataFrame.\n",
      "Try using .loc[row_indexer,col_indexer] = value instead\n",
      "\n",
      "See the caveats in the documentation: http://pandas.pydata.org/pandas-docs/stable/indexing.html#indexing-view-versus-copy\n"
     ]
    },
    {
     "name": "stdout",
     "output_type": "stream",
     "text": [
      "Training for predicting (month): 5  SCORE: RISK_FPD10_SCORE  target: RISK_FPD10  K: 211  observation_window: 365  performance_window: 40  downsample_size: 80000  GINI TRAIN: 16.47%     GINI TEST: 10.48%  time taken:  0.72\n",
      "Training for predicting (month): 5  SCORE: RISK_FPD30_SCORE  target: RISK_FPD30  K: 146  observation_window: 365  performance_window: 60  downsample_size: 30000  GINI TRAIN: 20.56%     GINI TEST: 15.76%  time taken:  0.27\n",
      "Training for predicting (month): 5  SCORE: RISK_FSPD30_SCORE  target: RISK_FSPD30  K: 201  observation_window: 365  performance_window: 90  downsample_size: 70000  GINI TRAIN: 18.66%     GINI TEST: 13.19%  time taken:  0.48\n",
      "Training for predicting (month): 5  SCORE: RISK_FSTPD30_SCORE  target: RISK_FSTPD30  K: 291  observation_window: 365  performance_window: 120  downsample_size: 120000  GINI TRAIN: 16.71%     GINI TEST: 10.66%  time taken:  1.1\n",
      "Training for predicting (month): 5  SCORE: RISK_FSTQPD30_SCORE  target: RISK_FSTQPD30  K: 351  observation_window: 365  performance_window: 150  downsample_size: 200000  GINI TRAIN: 14.78%     GINI TEST: 9.55%  time taken:  2.1\n",
      "Training for predicting (month): 5  SCORE: RISK_FPD10_MM_SCORE  target: RISK_FPD10  K: 191  observation_window: 110  performance_window: 40  downsample_size: 25000  GINI TRAIN: 16.60%     GINI TEST: 8.71%  time taken:  0.37\n",
      "Training for predicting (month): 5  SCORE: RISK_FPD30_MM_SCORE  target: RISK_FPD30  K: 66  observation_window: 90  performance_window: 60  downsample_size: 8000  GINI TRAIN: 23.82%     GINI TEST: 11.30%  time taken:  0.12\n",
      "Training for predicting (month): 5  SCORE: RISK_FSPD30_MM_SCORE  target: RISK_FSPD30  K: 96  observation_window: 60  performance_window: 90  downsample_size: 12000  GINI TRAIN: 20.25%     GINI TEST: 9.00%  time taken:  0.17\n",
      "Training for predicting (month): 5  SCORE: RISK_FSTPD30_MM_SCORE  target: RISK_FSTPD30  K: 86  observation_window: 30  performance_window: 120  downsample_size: 10000  GINI TRAIN: 21.20%     GINI TEST: 7.25%  time taken:  0.13\n"
     ]
    },
    {
     "name": "stderr",
     "output_type": "stream",
     "text": [
      "C:\\Users\\aman.khatri91425\\AppData\\Local\\Continuum\\anaconda3\\lib\\site-packages\\ipykernel_launcher.py:50: SettingWithCopyWarning: \n",
      "A value is trying to be set on a copy of a slice from a DataFrame.\n",
      "Try using .loc[row_indexer,col_indexer] = value instead\n",
      "\n",
      "See the caveats in the documentation: http://pandas.pydata.org/pandas-docs/stable/indexing.html#indexing-view-versus-copy\n"
     ]
    },
    {
     "name": "stdout",
     "output_type": "stream",
     "text": [
      "Training for predicting (month): 6  SCORE: RISK_FPD10_SCORE  target: RISK_FPD10  K: 211  observation_window: 365  performance_window: 40  downsample_size: 80000  GINI TRAIN: 16.56%     GINI TEST: 10.20%  time taken:  0.65\n",
      "Training for predicting (month): 6  SCORE: RISK_FPD30_SCORE  target: RISK_FPD30  K: 146  observation_window: 365  performance_window: 60  downsample_size: 30000  GINI TRAIN: 20.93%     GINI TEST: 15.56%  time taken:  0.32\n",
      "Training for predicting (month): 6  SCORE: RISK_FSPD30_SCORE  target: RISK_FSPD30  K: 201  observation_window: 365  performance_window: 90  downsample_size: 70000  GINI TRAIN: 18.67%     GINI TEST: 12.86%  time taken:  0.58\n",
      "Training for predicting (month): 6  SCORE: RISK_FSTPD30_SCORE  target: RISK_FSTPD30  K: 291  observation_window: 365  performance_window: 120  downsample_size: 120000  GINI TRAIN: 16.69%     GINI TEST: 9.66%  time taken:  1.1\n",
      "Training for predicting (month): 6  SCORE: RISK_FSTQPD30_SCORE  target: RISK_FSTQPD30  K: 351  observation_window: 365  performance_window: 150  downsample_size: 200000  GINI TRAIN: 14.43%     GINI TEST: 8.24%  time taken:  2.0\n",
      "Training for predicting (month): 6  SCORE: RISK_FPD10_MM_SCORE  target: RISK_FPD10  K: 191  observation_window: 110  performance_window: 40  downsample_size: 25000  GINI TRAIN: 16.72%     GINI TEST: 9.69%  time taken:  0.37\n",
      "Training for predicting (month): 6  SCORE: RISK_FPD30_MM_SCORE  target: RISK_FPD30  K: 66  observation_window: 90  performance_window: 60  downsample_size: 8000  GINI TRAIN: 25.00%     GINI TEST: 12.36%  time taken:  0.1\n",
      "Training for predicting (month): 6  SCORE: RISK_FSPD30_MM_SCORE  target: RISK_FSPD30  K: 96  observation_window: 60  performance_window: 90  downsample_size: 12000  GINI TRAIN: 21.14%     GINI TEST: 9.26%  time taken:  0.15\n",
      "Training for predicting (month): 6  SCORE: RISK_FSTPD30_MM_SCORE  target: RISK_FSTPD30  K: 86  observation_window: 30  performance_window: 120  downsample_size: 10000  GINI TRAIN: 19.86%     GINI TEST: 6.24%  time taken:  0.13\n"
     ]
    },
    {
     "name": "stderr",
     "output_type": "stream",
     "text": [
      "C:\\Users\\aman.khatri91425\\AppData\\Local\\Continuum\\anaconda3\\lib\\site-packages\\ipykernel_launcher.py:50: SettingWithCopyWarning: \n",
      "A value is trying to be set on a copy of a slice from a DataFrame.\n",
      "Try using .loc[row_indexer,col_indexer] = value instead\n",
      "\n",
      "See the caveats in the documentation: http://pandas.pydata.org/pandas-docs/stable/indexing.html#indexing-view-versus-copy\n"
     ]
    },
    {
     "name": "stdout",
     "output_type": "stream",
     "text": [
      "Training for predicting (month): 7  SCORE: RISK_FPD10_SCORE  target: RISK_FPD10  K: 211  observation_window: 365  performance_window: 40  downsample_size: 80000  GINI TRAIN: 16.88%     GINI TEST: 7.64%  time taken:  0.63\n",
      "Training for predicting (month): 7  SCORE: RISK_FPD30_SCORE  target: RISK_FPD30  K: 146  observation_window: 365  performance_window: 60  downsample_size: 30000  GINI TRAIN: 20.91%     GINI TEST: 11.80%  time taken:  0.28\n",
      "Training for predicting (month): 7  SCORE: RISK_FSPD30_SCORE  target: RISK_FSPD30  K: 201  observation_window: 365  performance_window: 90  downsample_size: 70000  GINI TRAIN: 19.32%     GINI TEST: 9.24%  time taken:  0.55\n",
      "Training for predicting (month): 7  SCORE: RISK_FSTPD30_SCORE  target: RISK_FSTPD30  K: 291  observation_window: 365  performance_window: 120  downsample_size: 120000  GINI TRAIN: 17.09%     GINI TEST: 7.27%  time taken:  1.1\n",
      "Training for predicting (month): 7  SCORE: RISK_FSTQPD30_SCORE  target: RISK_FSTQPD30  K: 351  observation_window: 365  performance_window: 150  downsample_size: 200000  GINI TRAIN: 14.51%     GINI TEST: 7.65%  time taken:  2.0\n",
      "Training for predicting (month): 7  SCORE: RISK_FPD10_MM_SCORE  target: RISK_FPD10  K: 191  observation_window: 110  performance_window: 40  downsample_size: 25000  GINI TRAIN: 17.10%     GINI TEST: 6.12%  time taken:  0.33\n",
      "Training for predicting (month): 7  SCORE: RISK_FPD30_MM_SCORE  target: RISK_FPD30  K: 66  observation_window: 90  performance_window: 60  downsample_size: 8000  GINI TRAIN: 25.00%     GINI TEST: 10.49%  time taken:  0.1\n",
      "Training for predicting (month): 7  SCORE: RISK_FSPD30_MM_SCORE  target: RISK_FSPD30  K: 96  observation_window: 60  performance_window: 90  downsample_size: 12000  GINI TRAIN: 21.67%     GINI TEST: 8.05%  time taken:  0.15\n",
      "Training for predicting (month): 7  SCORE: RISK_FSTPD30_MM_SCORE  target: RISK_FSTPD30  K: 86  observation_window: 30  performance_window: 120  downsample_size: 10000  GINI TRAIN: 20.38%     GINI TEST: 6.68%  time taken:  0.13\n"
     ]
    },
    {
     "name": "stderr",
     "output_type": "stream",
     "text": [
      "C:\\Users\\aman.khatri91425\\AppData\\Local\\Continuum\\anaconda3\\lib\\site-packages\\ipykernel_launcher.py:50: SettingWithCopyWarning: \n",
      "A value is trying to be set on a copy of a slice from a DataFrame.\n",
      "Try using .loc[row_indexer,col_indexer] = value instead\n",
      "\n",
      "See the caveats in the documentation: http://pandas.pydata.org/pandas-docs/stable/indexing.html#indexing-view-versus-copy\n"
     ]
    },
    {
     "name": "stdout",
     "output_type": "stream",
     "text": [
      "Training for predicting (month): 8  SCORE: RISK_FPD10_SCORE  target: RISK_FPD10  K: 211  observation_window: 365  performance_window: 40  downsample_size: 80000  GINI TRAIN: 16.84%     GINI TEST: 8.75%  time taken:  0.63\n",
      "Training for predicting (month): 8  SCORE: RISK_FPD30_SCORE  target: RISK_FPD30  K: 146  observation_window: 365  performance_window: 60  downsample_size: 30000  GINI TRAIN: 21.39%     GINI TEST: 12.38%  time taken:  0.3\n",
      "Training for predicting (month): 8  SCORE: RISK_FSPD30_SCORE  target: RISK_FSPD30  K: 201  observation_window: 365  performance_window: 90  downsample_size: 70000  GINI TRAIN: 19.77%     GINI TEST: 9.59%  time taken:  0.58\n",
      "Training for predicting (month): 8  SCORE: RISK_FSTPD30_SCORE  target: RISK_FSTPD30  K: 291  observation_window: 365  performance_window: 120  downsample_size: 120000  GINI TRAIN: 16.98%     GINI TEST: 9.10%  time taken:  1.1\n",
      "Training for predicting (month): 8  SCORE: RISK_FSTQPD30_SCORE  target: RISK_FSTQPD30  K: 351  observation_window: 365  performance_window: 150  downsample_size: 200000  GINI TRAIN: 14.88%     GINI TEST: 7.90%  time taken:  2.0\n",
      "Training for predicting (month): 8  SCORE: RISK_FPD10_MM_SCORE  target: RISK_FPD10  K: 191  observation_window: 110  performance_window: 40  downsample_size: 25000  GINI TRAIN: 17.22%     GINI TEST: 8.94%  time taken:  0.35\n",
      "Training for predicting (month): 8  SCORE: RISK_FPD30_MM_SCORE  target: RISK_FPD30  K: 66  observation_window: 90  performance_window: 60  downsample_size: 8000  GINI TRAIN: 24.58%     GINI TEST: 11.51%  time taken:  0.1\n",
      "Training for predicting (month): 8  SCORE: RISK_FSPD30_MM_SCORE  target: RISK_FSPD30  K: 96  observation_window: 60  performance_window: 90  downsample_size: 12000  GINI TRAIN: 20.97%     GINI TEST: 7.99%  time taken:  0.15\n",
      "Training for predicting (month): 8  SCORE: RISK_FSTPD30_MM_SCORE  target: RISK_FSTPD30  K: 86  observation_window: 30  performance_window: 120  downsample_size: 10000  GINI TRAIN: 19.61%     GINI TEST: 6.13%  time taken:  0.13\n"
     ]
    }
   ],
   "source": [
    "import datetime\n",
    "from sklearn.neighbors import KNeighborsClassifier\n",
    "\n",
    "df_final_test = pd.DataFrame()\n",
    "\n",
    "for x in np.arange(1,9,1):\n",
    "    date_test_start = datetime.datetime(2019, x, 1)\n",
    "    date_test_end = (date_test_start +  datetime.timedelta(days=31)).replace(day=1)\n",
    "    df_test = df[(df[\"TIME_DECISION_DATE\"]>=date_test_start) & \n",
    "                      (df[\"TIME_DECISION_DATE\"]<date_test_end)]\n",
    "\n",
    "    for y in hyper_df.index:\n",
    "#         if hyper_df.loc[y,'SCORE_NAME'] in selected_list:\n",
    "        if True:\n",
    "            score_name = hyper_df.loc[y,'SCORE_NAME']\n",
    "            target = hyper_df.loc[y,'TARGET']\n",
    "            K = hyper_df.loc[y,'K']\n",
    "            observation_window = hyper_df.loc[y,'OBSERVATION_WINDOW']\n",
    "            performance_window = hyper_df.loc[y,'PERFORMANCE_WINDOW']\n",
    "            downsample_size = hyper_df.loc[y,'DOWNSAMPLE_SIZE']\n",
    "            fillna = hyper_df.loc[y,'FILLNA']\n",
    "\n",
    "            date_train_start = (date_test_start-datetime.timedelta(days=int(performance_window))-datetime.timedelta(days=int(observation_window))) \n",
    "            date_train_end = (date_test_start-datetime.timedelta(days=int(performance_window)))\n",
    "            start_time = datetime.datetime.now()\n",
    "            df_train = df[(df[\"TIME_DECISION_DATE\"]>=date_train_start) & \n",
    "                      (df[\"TIME_DECISION_DATE\"]<date_train_end)]\n",
    "\n",
    "            df_class_0 = df_train[df_train[target] == 0]\n",
    "            df_class_1 = df_train[df_train[target] == 1]\n",
    "            df_class_0_under = df_class_0.sample(min(downsample_size,df_class_1.shape[0]))\n",
    "            df_class_1_under = df_class_1.sample(min(downsample_size,df_class_1.shape[0]))\n",
    "            df_train_under = pd.concat([df_class_0_under, df_class_1_under], axis=0)\n",
    "\n",
    "            X_train = df_train_under[[\"CUS_LAT\",\"CUS_LONG\"]]\n",
    "            X_test = df_test[[\"CUS_LAT\",\"CUS_LONG\"]]\n",
    "            y_train = df_train_under[target]\n",
    "            y_test =  df_test[target]\n",
    "\n",
    "            knn = KNeighborsClassifier(n_neighbors = K)\n",
    "            bst = knn.fit(X_train[[\"CUS_LAT\",\"CUS_LONG\"]], np.ravel(y_train))\n",
    "\n",
    "            ypred_train = bst.predict_proba(X_train[[\"CUS_LAT\",\"CUS_LONG\"]])[:, 1]\n",
    "            ypred_test = bst.predict_proba(X_test[[\"CUS_LAT\",\"CUS_LONG\"]])[:, 1]\n",
    "            metric_auc_train = metrics.roc_auc_score(y_train, ypred_train)\n",
    "            metric_auc_test = metrics.roc_auc_score(y_test, ypred_test)\n",
    "            gini_train = 2 * metric_auc_train - 1\n",
    "            gini_test = 2 * metric_auc_test - 1\n",
    "\n",
    "            df_test[score_name] = ypred_test\n",
    "            \n",
    "            df_train_under [\"G_\"+score_name] = ypred_train\n",
    "            grid_score = df_train_under[[\"GRID_ID\",\"G_\"+score_name]].groupby(\"GRID_ID\").mean()[\"G_\"+score_name].reset_index()\n",
    "            grid_score.columns = ['GRID_ID',\"G_\"+score_name]\n",
    "            \n",
    "            df_test = pd.merge(df_test, grid_score, on = 'GRID_ID', how = 'left')\n",
    "            df_test[\"G_\"+score_name]=df_test[\"G_\"+score_name].fillna(value = fillna)\n",
    "            \n",
    "            print(\"Training for predicting (month):\",date_test_start.month, \n",
    "                  \" SCORE:\",score_name,\n",
    "                  \" target:\",target,\n",
    "                  \" K:\",K,\n",
    "                  \" observation_window:\",observation_window,\n",
    "                  \" performance_window:\",performance_window,\n",
    "                  \" downsample_size:\",downsample_size,\n",
    "                  \" GINI TRAIN:\",'{:,.2%}'.format(gini_train), \"    GINI TEST:\",'{:,.2%}'.format(gini_test),\n",
    "                  \" time taken: \",'{:,.2}'.format((datetime.datetime.now()-start_time).seconds/60))\n",
    "\n",
    "\n",
    "    if df_final_test.shape == (0,0):\n",
    "        df_final_test = df_test\n",
    "    else:\n",
    "        df_final_test = pd.concat([df_final_test,df_test],ignore_index=True)\n"
   ]
  },
  {
   "cell_type": "code",
   "execution_count": 20,
   "metadata": {},
   "outputs": [
    {
     "name": "stdout",
     "output_type": "stream",
     "text": [
      "RISK_FPD10_SCORE nan\n",
      "RISK_FPD30_SCORE nan\n",
      "RISK_FSPD30_SCORE nan\n",
      "RISK_FSTPD30_SCORE nan\n",
      "RISK_FSTQPD30_SCORE nan\n",
      "RISK_FPD10_MM_SCORE nan\n",
      "RISK_FPD30_MM_SCORE nan\n",
      "RISK_FSPD30_MM_SCORE nan\n",
      "RISK_FSTPD30_MM_SCORE nan\n"
     ]
    }
   ],
   "source": [
    "for y in hyper_df.index:\n",
    "    score_name = hyper_df.loc[y,'SCORE_NAME']\n",
    "    print(score_name, df_final_test[df_final_test[\"G_\"+score_name].isna()][score_name].mean())"
   ]
  },
  {
   "cell_type": "code",
   "execution_count": 21,
   "metadata": {},
   "outputs": [
    {
     "name": "stdout",
     "output_type": "stream",
     "text": [
      "0.04705637775650229\n",
      "0.030402974748771294\n",
      "0.09515022166483256\n",
      "0.0926038454041147\n"
     ]
    }
   ],
   "source": [
    "print(2*metrics.roc_auc_score(df_final_test[\"RISK_FSTQPD30\"],df_final_test[\"RISK_FSPD30_MM_SCORE\"])-1)\n",
    "print(2*metrics.roc_auc_score(df_final_test[\"RISK_FSTQPD30\"],df_final_test[\"G_RISK_FSPD30_MM_SCORE\"])-1)\n",
    "\n",
    "print(2*metrics.roc_auc_score(df_final_test[\"RISK_FSTQPD30\"],df_final_test[\"RISK_FSTQPD30_SCORE\"])-1)\n",
    "print(2*metrics.roc_auc_score(df_final_test[\"RISK_FSTQPD30\"],df_final_test[\"G_RISK_FSTQPD30_SCORE\"])-1)"
   ]
  },
  {
   "cell_type": "code",
   "execution_count": 73,
   "metadata": {},
   "outputs": [],
   "source": [
    "df_final_test.to_pickle(os.getcwd()+r\"\\Data Files\\delinquency_scores_2019_new.pkl\")"
   ]
  },
  {
   "cell_type": "code",
   "execution_count": 156,
   "metadata": {},
   "outputs": [],
   "source": [
    "df_final_test = pd.read_pickle(os.getcwd()+r\"\\Data Files\\delinquency_scores_2019_new.pkl\")"
   ]
  },
  {
   "cell_type": "code",
   "execution_count": 157,
   "metadata": {},
   "outputs": [],
   "source": [
    "df1 = pd.read_pickle(os.getcwd()+r\"\\Data Files\\delinquency_scores_2019.pkl\")\n",
    "df1.columns = ['SKP_CREDIT_CASE', 'TIME_DECISION_DATE', 'CUS_LAT', 'CUS_LONG',\n",
    "       'RISK_FPD10', 'RISK_FPD30', 'RISK_FSPD30', 'RISK_FSTPD30',\n",
    "       'RISK_FSTQPD30', 'RISK_FSTQPD60', 'NTC_FLAG', 'GRID_ID', 'RISK_SCORE',\n",
    "       'C_RISK_FPD10_SCORE', 'C_G_RISK_FPD10_SCORE', 'C_RISK_FPD30_SCORE',\n",
    "       'C_G_RISK_FPD30_SCORE', 'C_RISK_FSPD30_SCORE', 'C_G_RISK_FSPD30_SCORE',\n",
    "       'C_RISK_FSTPD30_SCORE', 'C_G_RISK_FSTPD30_SCORE', 'C_RISK_FSTQPD30_SCORE',\n",
    "       'C_G_RISK_FSTQPD30_SCORE', 'C_RISK_FPD10_MM_SCORE', 'C_G_RISK_FPD10_MM_SCORE',\n",
    "       'C_RISK_FPD30_MM_SCORE', 'C_G_RISK_FPD30_MM_SCORE', 'C_RISK_FSPD30_MM_SCORE',\n",
    "       'C_G_RISK_FSPD30_MM_SCORE', 'C_RISK_FSTPD30_MM_SCORE',\n",
    "       'C_G_RISK_FSTPD30_MM_SCORE']"
   ]
  },
  {
   "cell_type": "code",
   "execution_count": 158,
   "metadata": {},
   "outputs": [],
   "source": [
    "merge_columns = ['SKP_CREDIT_CASE', 'C_RISK_FPD10_SCORE', 'C_G_RISK_FPD10_SCORE', 'C_RISK_FPD30_SCORE',\n",
    "       'C_G_RISK_FPD30_SCORE', 'C_RISK_FSPD30_SCORE', 'C_G_RISK_FSPD30_SCORE',\n",
    "       'C_RISK_FSTPD30_SCORE', 'C_G_RISK_FSTPD30_SCORE', 'C_RISK_FSTQPD30_SCORE',\n",
    "       'C_G_RISK_FSTQPD30_SCORE', 'C_RISK_FPD10_MM_SCORE', 'C_G_RISK_FPD10_MM_SCORE',\n",
    "       'C_RISK_FPD30_MM_SCORE', 'C_G_RISK_FPD30_MM_SCORE', 'C_RISK_FSPD30_MM_SCORE',\n",
    "       'C_G_RISK_FSPD30_MM_SCORE', 'C_RISK_FSTPD30_MM_SCORE', 'C_G_RISK_FSTPD30_MM_SCORE']"
   ]
  },
  {
   "cell_type": "code",
   "execution_count": 159,
   "metadata": {},
   "outputs": [],
   "source": [
    "df= df_final_test.merge(df1[merge_columns], on = 'SKP_CREDIT_CASE',how = 'inner')"
   ]
  },
  {
   "cell_type": "code",
   "execution_count": 160,
   "metadata": {},
   "outputs": [],
   "source": [
    "df2 = pd.read_pickle(os.getcwd()+r\"\\Data Files\\emi_payment_scores_2019.pkl\")"
   ]
  },
  {
   "cell_type": "code",
   "execution_count": 161,
   "metadata": {},
   "outputs": [],
   "source": [
    "merge_columns = ['SKP_CREDIT_CASE',  'DEFAULT_FLAG_CHANGE_1', 'DEFAULT_FLAG_CHANGE_2',\n",
    "       'DEFAULT_FLAG_CHANGE_3', 'DEFAULT_FLAG_CHANGE_4',\n",
    "       'DEFAULT_FLAG_CHANGE_5', 'G_DEFAULT_FLAG_CHANGE_1',\n",
    "       'G_DEFAULT_FLAG_CHANGE_2', 'G_DEFAULT_FLAG_CHANGE_3',\n",
    "       'G_DEFAULT_FLAG_CHANGE_4', 'G_DEFAULT_FLAG_CHANGE_5',\n",
    "       'G_NO_PAYMENT_CURRENT_PAYMENT_1', 'G_NO_PAYMENT_CURRENT_PAYMENT_2',\n",
    "       'G_NO_PAYMENT_CURRENT_PAYMENT_3', 'G_NO_PAYMENT_CURRENT_PAYMENT_4',\n",
    "       'G_NO_PAYMENT_CURRENT_PAYMENT_5', 'NO_PAYMENT_CURRENT_PAYMENT_1',\n",
    "       'NO_PAYMENT_CURRENT_PAYMENT_2', 'NO_PAYMENT_CURRENT_PAYMENT_3',\n",
    "       'NO_PAYMENT_CURRENT_PAYMENT_4', 'NO_PAYMENT_CURRENT_PAYMENT_5']"
   ]
  },
  {
   "cell_type": "code",
   "execution_count": 162,
   "metadata": {},
   "outputs": [],
   "source": [
    "df= df.merge(df2[merge_columns], on = 'SKP_CREDIT_CASE',how = 'inner')"
   ]
  },
  {
   "cell_type": "code",
   "execution_count": 163,
   "metadata": {},
   "outputs": [
    {
     "data": {
      "text/html": [
       "<div>\n",
       "<style scoped>\n",
       "    .dataframe tbody tr th:only-of-type {\n",
       "        vertical-align: middle;\n",
       "    }\n",
       "\n",
       "    .dataframe tbody tr th {\n",
       "        vertical-align: top;\n",
       "    }\n",
       "\n",
       "    .dataframe thead th {\n",
       "        text-align: right;\n",
       "    }\n",
       "</style>\n",
       "<table border=\"1\" class=\"dataframe\">\n",
       "  <thead>\n",
       "    <tr style=\"text-align: right;\">\n",
       "      <th></th>\n",
       "      <th>SKP_CREDIT_CASE</th>\n",
       "      <th>TIME_DECISION_DATE</th>\n",
       "      <th>CUS_LAT</th>\n",
       "      <th>CUS_LONG</th>\n",
       "      <th>RISK_FPD10</th>\n",
       "      <th>RISK_FPD30</th>\n",
       "      <th>RISK_FSPD30</th>\n",
       "      <th>RISK_FSTPD30</th>\n",
       "      <th>RISK_FSTQPD30</th>\n",
       "      <th>RISK_FSTQPD60</th>\n",
       "      <th>...</th>\n",
       "      <th>G_NO_PAYMENT_CURRENT_PAYMENT_1</th>\n",
       "      <th>G_NO_PAYMENT_CURRENT_PAYMENT_2</th>\n",
       "      <th>G_NO_PAYMENT_CURRENT_PAYMENT_3</th>\n",
       "      <th>G_NO_PAYMENT_CURRENT_PAYMENT_4</th>\n",
       "      <th>G_NO_PAYMENT_CURRENT_PAYMENT_5</th>\n",
       "      <th>NO_PAYMENT_CURRENT_PAYMENT_1</th>\n",
       "      <th>NO_PAYMENT_CURRENT_PAYMENT_2</th>\n",
       "      <th>NO_PAYMENT_CURRENT_PAYMENT_3</th>\n",
       "      <th>NO_PAYMENT_CURRENT_PAYMENT_4</th>\n",
       "      <th>NO_PAYMENT_CURRENT_PAYMENT_5</th>\n",
       "    </tr>\n",
       "  </thead>\n",
       "  <tbody>\n",
       "    <tr>\n",
       "      <th>0</th>\n",
       "      <td>223799321</td>\n",
       "      <td>2019-02-01</td>\n",
       "      <td>30.867149</td>\n",
       "      <td>75.930356</td>\n",
       "      <td>0.0</td>\n",
       "      <td>0.0</td>\n",
       "      <td>0.0</td>\n",
       "      <td>0.0</td>\n",
       "      <td>0.0</td>\n",
       "      <td>0.0</td>\n",
       "      <td>...</td>\n",
       "      <td>0.457684</td>\n",
       "      <td>NaN</td>\n",
       "      <td>NaN</td>\n",
       "      <td>NaN</td>\n",
       "      <td>NaN</td>\n",
       "      <td>0.464387</td>\n",
       "      <td>NaN</td>\n",
       "      <td>NaN</td>\n",
       "      <td>NaN</td>\n",
       "      <td>NaN</td>\n",
       "    </tr>\n",
       "    <tr>\n",
       "      <th>1</th>\n",
       "      <td>223889994</td>\n",
       "      <td>2019-02-01</td>\n",
       "      <td>28.569622</td>\n",
       "      <td>77.286007</td>\n",
       "      <td>0.0</td>\n",
       "      <td>0.0</td>\n",
       "      <td>0.0</td>\n",
       "      <td>0.0</td>\n",
       "      <td>0.0</td>\n",
       "      <td>0.0</td>\n",
       "      <td>...</td>\n",
       "      <td>0.480780</td>\n",
       "      <td>NaN</td>\n",
       "      <td>NaN</td>\n",
       "      <td>NaN</td>\n",
       "      <td>NaN</td>\n",
       "      <td>0.481481</td>\n",
       "      <td>NaN</td>\n",
       "      <td>NaN</td>\n",
       "      <td>NaN</td>\n",
       "      <td>NaN</td>\n",
       "    </tr>\n",
       "    <tr>\n",
       "      <th>2</th>\n",
       "      <td>223889995</td>\n",
       "      <td>2019-02-01</td>\n",
       "      <td>23.204827</td>\n",
       "      <td>77.442296</td>\n",
       "      <td>0.0</td>\n",
       "      <td>0.0</td>\n",
       "      <td>0.0</td>\n",
       "      <td>0.0</td>\n",
       "      <td>0.0</td>\n",
       "      <td>0.0</td>\n",
       "      <td>...</td>\n",
       "      <td>0.650047</td>\n",
       "      <td>NaN</td>\n",
       "      <td>NaN</td>\n",
       "      <td>NaN</td>\n",
       "      <td>NaN</td>\n",
       "      <td>0.646724</td>\n",
       "      <td>NaN</td>\n",
       "      <td>NaN</td>\n",
       "      <td>NaN</td>\n",
       "      <td>NaN</td>\n",
       "    </tr>\n",
       "    <tr>\n",
       "      <th>3</th>\n",
       "      <td>223890202</td>\n",
       "      <td>2019-02-01</td>\n",
       "      <td>28.607001</td>\n",
       "      <td>77.320596</td>\n",
       "      <td>0.0</td>\n",
       "      <td>0.0</td>\n",
       "      <td>0.0</td>\n",
       "      <td>0.0</td>\n",
       "      <td>0.0</td>\n",
       "      <td>0.0</td>\n",
       "      <td>...</td>\n",
       "      <td>0.521740</td>\n",
       "      <td>NaN</td>\n",
       "      <td>NaN</td>\n",
       "      <td>NaN</td>\n",
       "      <td>NaN</td>\n",
       "      <td>0.518519</td>\n",
       "      <td>NaN</td>\n",
       "      <td>NaN</td>\n",
       "      <td>NaN</td>\n",
       "      <td>NaN</td>\n",
       "    </tr>\n",
       "    <tr>\n",
       "      <th>4</th>\n",
       "      <td>223890203</td>\n",
       "      <td>2019-02-01</td>\n",
       "      <td>19.117477</td>\n",
       "      <td>72.863350</td>\n",
       "      <td>0.0</td>\n",
       "      <td>0.0</td>\n",
       "      <td>0.0</td>\n",
       "      <td>0.0</td>\n",
       "      <td>0.0</td>\n",
       "      <td>0.0</td>\n",
       "      <td>...</td>\n",
       "      <td>0.452991</td>\n",
       "      <td>NaN</td>\n",
       "      <td>NaN</td>\n",
       "      <td>NaN</td>\n",
       "      <td>NaN</td>\n",
       "      <td>0.441595</td>\n",
       "      <td>NaN</td>\n",
       "      <td>NaN</td>\n",
       "      <td>NaN</td>\n",
       "      <td>NaN</td>\n",
       "    </tr>\n",
       "  </tbody>\n",
       "</table>\n",
       "<p>5 rows × 70 columns</p>\n",
       "</div>"
      ],
      "text/plain": [
       "   SKP_CREDIT_CASE TIME_DECISION_DATE    CUS_LAT   CUS_LONG  RISK_FPD10  \\\n",
       "0        223799321         2019-02-01  30.867149  75.930356         0.0   \n",
       "1        223889994         2019-02-01  28.569622  77.286007         0.0   \n",
       "2        223889995         2019-02-01  23.204827  77.442296         0.0   \n",
       "3        223890202         2019-02-01  28.607001  77.320596         0.0   \n",
       "4        223890203         2019-02-01  19.117477  72.863350         0.0   \n",
       "\n",
       "   RISK_FPD30  RISK_FSPD30  RISK_FSTPD30  RISK_FSTQPD30  RISK_FSTQPD60  ...  \\\n",
       "0         0.0          0.0           0.0            0.0            0.0  ...   \n",
       "1         0.0          0.0           0.0            0.0            0.0  ...   \n",
       "2         0.0          0.0           0.0            0.0            0.0  ...   \n",
       "3         0.0          0.0           0.0            0.0            0.0  ...   \n",
       "4         0.0          0.0           0.0            0.0            0.0  ...   \n",
       "\n",
       "  G_NO_PAYMENT_CURRENT_PAYMENT_1 G_NO_PAYMENT_CURRENT_PAYMENT_2  \\\n",
       "0                       0.457684                            NaN   \n",
       "1                       0.480780                            NaN   \n",
       "2                       0.650047                            NaN   \n",
       "3                       0.521740                            NaN   \n",
       "4                       0.452991                            NaN   \n",
       "\n",
       "   G_NO_PAYMENT_CURRENT_PAYMENT_3 G_NO_PAYMENT_CURRENT_PAYMENT_4  \\\n",
       "0                             NaN                            NaN   \n",
       "1                             NaN                            NaN   \n",
       "2                             NaN                            NaN   \n",
       "3                             NaN                            NaN   \n",
       "4                             NaN                            NaN   \n",
       "\n",
       "   G_NO_PAYMENT_CURRENT_PAYMENT_5  NO_PAYMENT_CURRENT_PAYMENT_1  \\\n",
       "0                             NaN                      0.464387   \n",
       "1                             NaN                      0.481481   \n",
       "2                             NaN                      0.646724   \n",
       "3                             NaN                      0.518519   \n",
       "4                             NaN                      0.441595   \n",
       "\n",
       "   NO_PAYMENT_CURRENT_PAYMENT_2  NO_PAYMENT_CURRENT_PAYMENT_3  \\\n",
       "0                           NaN                           NaN   \n",
       "1                           NaN                           NaN   \n",
       "2                           NaN                           NaN   \n",
       "3                           NaN                           NaN   \n",
       "4                           NaN                           NaN   \n",
       "\n",
       "   NO_PAYMENT_CURRENT_PAYMENT_4  NO_PAYMENT_CURRENT_PAYMENT_5  \n",
       "0                           NaN                           NaN  \n",
       "1                           NaN                           NaN  \n",
       "2                           NaN                           NaN  \n",
       "3                           NaN                           NaN  \n",
       "4                           NaN                           NaN  \n",
       "\n",
       "[5 rows x 70 columns]"
      ]
     },
     "execution_count": 163,
     "metadata": {},
     "output_type": "execute_result"
    }
   ],
   "source": [
    "df.head()"
   ]
  },
  {
   "cell_type": "code",
   "execution_count": 164,
   "metadata": {},
   "outputs": [
    {
     "data": {
      "text/plain": [
       "(1176780, 70)"
      ]
     },
     "execution_count": 164,
     "metadata": {},
     "output_type": "execute_result"
    }
   ],
   "source": [
    "df.shape"
   ]
  },
  {
   "cell_type": "code",
   "execution_count": 165,
   "metadata": {},
   "outputs": [],
   "source": [
    "scores_columns= [x for x in df.columns if 'SCORE' in x and 'G' in x]\n",
    "scores_columns = scores_columns + ['G_NO_PAYMENT_CURRENT_PAYMENT_1', 'G_NO_PAYMENT_CURRENT_PAYMENT_2',\n",
    "                                   'G_DEFAULT_FLAG_CHANGE_1', 'G_DEFAULT_FLAG_CHANGE_2']"
   ]
  },
  {
   "cell_type": "markdown",
   "metadata": {},
   "source": [
    "# Convert All Scores to Logit"
   ]
  },
  {
   "cell_type": "code",
   "execution_count": 166,
   "metadata": {},
   "outputs": [],
   "source": [
    "df.dropna(subset = ['RISK_SCORE'], inplace = True)\n",
    "for y in scores_columns:\n",
    "    df[\"LOGIT_\"+y] = [np.log(x/(1-x)) for x in df[y]]"
   ]
  },
  {
   "cell_type": "code",
   "execution_count": 167,
   "metadata": {},
   "outputs": [],
   "source": [
    "logit_columns= [x for x in df.columns if 'LOGIT' in x]"
   ]
  },
  {
   "cell_type": "code",
   "execution_count": 168,
   "metadata": {},
   "outputs": [],
   "source": [
    "from sklearn.model_selection import train_test_split\n",
    "from sklearn.model_selection import RandomizedSearchCV\n",
    "from sklearn.linear_model import LogisticRegression"
   ]
  },
  {
   "cell_type": "code",
   "execution_count": 169,
   "metadata": {},
   "outputs": [],
   "source": [
    "df_train = df[(df[\"TIME_DECISION_DATE\"]>=datetime.datetime(2019,3,1)) \n",
    "               & (df[\"TIME_DECISION_DATE\"]<=datetime.datetime(2019,4,30))]\n",
    "df_test = df[(df[\"TIME_DECISION_DATE\"]>=datetime.datetime(2019,5,1)) \n",
    "               & (df[\"TIME_DECISION_DATE\"]<=datetime.datetime(2019,8,30))]"
   ]
  },
  {
   "cell_type": "markdown",
   "metadata": {},
   "source": [
    "# Use Forward Selection"
   ]
  },
  {
   "cell_type": "code",
   "execution_count": 95,
   "metadata": {},
   "outputs": [],
   "source": [
    "logit_columns = [\n",
    " 'LOGIT_C_G_RISK_FPD10_SCORE',\n",
    " 'LOGIT_C_G_RISK_FPD30_SCORE',\n",
    " 'LOGIT_C_G_RISK_FSPD30_SCORE',\n",
    " 'LOGIT_C_G_RISK_FSTPD30_SCORE',\n",
    " 'LOGIT_C_G_RISK_FSTQPD30_SCORE',\n",
    " 'LOGIT_C_G_RISK_FPD10_MM_SCORE',\n",
    " 'LOGIT_C_G_RISK_FPD30_MM_SCORE',\n",
    " 'LOGIT_C_G_RISK_FSPD30_MM_SCORE',\n",
    " 'LOGIT_C_G_RISK_FSTPD30_MM_SCORE',\n",
    " 'LOGIT_G_NO_PAYMENT_CURRENT_PAYMENT_1',\n",
    " 'LOGIT_G_NO_PAYMENT_CURRENT_PAYMENT_2',\n",
    " 'LOGIT_G_DEFAULT_FLAG_CHANGE_1',\n",
    " 'LOGIT_G_DEFAULT_FLAG_CHANGE_2']"
   ]
  },
  {
   "cell_type": "code",
   "execution_count": 96,
   "metadata": {},
   "outputs": [
    {
     "name": "stdout",
     "output_type": "stream",
     "text": [
      "Cross validation will be used for the training sample.\n",
      "Iteration  0\n",
      "set()\n",
      "Achieved Gini:  0\n",
      "Iteration  1\n",
      "{'LOGIT_C_G_RISK_FSTQPD30_SCORE'}\n",
      "Achieved Gini:  10.393841746661266\n",
      "Iteration  2\n",
      "{'LOGIT_C_G_RISK_FSTQPD30_SCORE', 'LOGIT_C_G_RISK_FPD10_MM_SCORE'}\n",
      "Achieved Gini:  10.476769395681629\n",
      "Iteration  3\n",
      "{'LOGIT_C_G_RISK_FSTQPD30_SCORE', 'LOGIT_G_DEFAULT_FLAG_CHANGE_1', 'LOGIT_C_G_RISK_FPD10_MM_SCORE'}\n",
      "Achieved Gini:  10.536803958552781\n",
      "Iteration  4\n",
      "{'LOGIT_C_G_RISK_FSTQPD30_SCORE', 'LOGIT_G_NO_PAYMENT_CURRENT_PAYMENT_1', 'LOGIT_G_DEFAULT_FLAG_CHANGE_1', 'LOGIT_C_G_RISK_FPD10_MM_SCORE'}\n",
      "Achieved Gini:  10.675988321117089\n",
      "Iteration  5\n",
      "{'LOGIT_C_G_RISK_FSTQPD30_SCORE', 'LOGIT_G_NO_PAYMENT_CURRENT_PAYMENT_1', 'LOGIT_G_DEFAULT_FLAG_CHANGE_1', 'LOGIT_C_G_RISK_FPD10_MM_SCORE'}\n",
      "Achieved Gini:  10.675988321117089\n"
     ]
    },
    {
     "data": {
      "text/plain": [
       "GiniStepwiseLogit(C=100000000000.0, beta_sgn_criterion=False,\n",
       "         correlation_sample=10000, cv_folds=3, cv_seed=98765,\n",
       "         initial_predictors=set(), max_correlation=1, max_decrease=0.025,\n",
       "         max_iter=1000, max_predictors=0, min_increase=0.05, penalty='l2',\n",
       "         selection_method='stepwise', use_cv=True)"
      ]
     },
     "execution_count": 96,
     "metadata": {},
     "output_type": "execute_result"
    }
   ],
   "source": [
    "import sys\n",
    "sys.path.append(r\"C:\\Users\\aman.khatri91425\\Desktop\\HomeCredit\\Bigdata\\Scoring Worlflow\")\n",
    "from scoring.model_selection import GiniStepwiseLogit\n",
    "\n",
    "modelSW = GiniStepwiseLogit(initial_predictors = set(),\n",
    "                            max_iter=1000,\n",
    "                            min_increase=0.05,\n",
    "                            max_decrease=0.025,\n",
    "                            max_predictors=0, \n",
    "                            max_correlation=1, \n",
    "                            beta_sgn_criterion=False, \n",
    "                            penalty='l2', C=10e10, \n",
    "                            correlation_sample=10000,\n",
    "                            selection_method='stepwise',\n",
    "                            use_cv=True,\n",
    "                            cv_folds=3, \n",
    "                            cv_seed=98765)\n",
    "\n",
    "modelSW.fit(df_train[logit_columns], df_train['RISK_FSTQPD30']\n",
    "       # ,sample_weight = data[train_mask][col_weight], sample_weight_valid = data[valid_mask][col_weight]\n",
    "       )"
   ]
  },
  {
   "cell_type": "code",
   "execution_count": 104,
   "metadata": {},
   "outputs": [],
   "source": [
    "imp =['LOGIT_C_G_RISK_FSTQPD30_SCORE', 'LOGIT_G_NO_PAYMENT_CURRENT_PAYMENT_1', 'LOGIT_G_DEFAULT_FLAG_CHANGE_1', 'LOGIT_C_G_RISK_FPD10_MM_SCORE']"
   ]
  },
  {
   "cell_type": "code",
   "execution_count": null,
   "metadata": {},
   "outputs": [],
   "source": []
  },
  {
   "cell_type": "code",
   "execution_count": null,
   "metadata": {},
   "outputs": [],
   "source": []
  },
  {
   "cell_type": "markdown",
   "metadata": {},
   "source": [
    "# Generate final combined Score"
   ]
  },
  {
   "cell_type": "code",
   "execution_count": 129,
   "metadata": {},
   "outputs": [],
   "source": [
    "model= LogisticRegression(penalty = 'l1' , C=1)"
   ]
  },
  {
   "cell_type": "code",
   "execution_count": 130,
   "metadata": {},
   "outputs": [
    {
     "name": "stderr",
     "output_type": "stream",
     "text": [
      "C:\\Users\\aman.khatri91425\\AppData\\Local\\Continuum\\anaconda3\\lib\\site-packages\\sklearn\\linear_model\\logistic.py:433: FutureWarning: Default solver will be changed to 'lbfgs' in 0.22. Specify a solver to silence this warning.\n",
      "  FutureWarning)\n"
     ]
    },
    {
     "data": {
      "text/plain": [
       "LogisticRegression(C=1, class_weight=None, dual=False, fit_intercept=True,\n",
       "          intercept_scaling=1, max_iter=100, multi_class='warn',\n",
       "          n_jobs=None, penalty='l1', random_state=None, solver='warn',\n",
       "          tol=0.0001, verbose=0, warm_start=False)"
      ]
     },
     "execution_count": 130,
     "metadata": {},
     "output_type": "execute_result"
    }
   ],
   "source": [
    "model.fit(df_train[imp], df_train[\"RISK_FSTQPD30\"])"
   ]
  },
  {
   "cell_type": "code",
   "execution_count": 131,
   "metadata": {},
   "outputs": [
    {
     "data": {
      "text/html": [
       "<div>\n",
       "<style scoped>\n",
       "    .dataframe tbody tr th:only-of-type {\n",
       "        vertical-align: middle;\n",
       "    }\n",
       "\n",
       "    .dataframe tbody tr th {\n",
       "        vertical-align: top;\n",
       "    }\n",
       "\n",
       "    .dataframe thead th {\n",
       "        text-align: right;\n",
       "    }\n",
       "</style>\n",
       "<table border=\"1\" class=\"dataframe\">\n",
       "  <thead>\n",
       "    <tr style=\"text-align: right;\">\n",
       "      <th></th>\n",
       "      <th>coeff</th>\n",
       "      <th>logit_columns</th>\n",
       "    </tr>\n",
       "  </thead>\n",
       "  <tbody>\n",
       "    <tr>\n",
       "      <th>0</th>\n",
       "      <td>0.495134</td>\n",
       "      <td>LOGIT_C_G_RISK_FSTQPD30_SCORE</td>\n",
       "    </tr>\n",
       "    <tr>\n",
       "      <th>1</th>\n",
       "      <td>0.246826</td>\n",
       "      <td>LOGIT_G_NO_PAYMENT_CURRENT_PAYMENT_1</td>\n",
       "    </tr>\n",
       "    <tr>\n",
       "      <th>2</th>\n",
       "      <td>0.128352</td>\n",
       "      <td>LOGIT_G_DEFAULT_FLAG_CHANGE_1</td>\n",
       "    </tr>\n",
       "    <tr>\n",
       "      <th>3</th>\n",
       "      <td>0.123364</td>\n",
       "      <td>LOGIT_C_G_RISK_FPD10_MM_SCORE</td>\n",
       "    </tr>\n",
       "  </tbody>\n",
       "</table>\n",
       "</div>"
      ],
      "text/plain": [
       "      coeff                         logit_columns\n",
       "0  0.495134         LOGIT_C_G_RISK_FSTQPD30_SCORE\n",
       "1  0.246826  LOGIT_G_NO_PAYMENT_CURRENT_PAYMENT_1\n",
       "2  0.128352         LOGIT_G_DEFAULT_FLAG_CHANGE_1\n",
       "3  0.123364         LOGIT_C_G_RISK_FPD10_MM_SCORE"
      ]
     },
     "execution_count": 131,
     "metadata": {},
     "output_type": "execute_result"
    }
   ],
   "source": [
    "pd.DataFrame({'coeff': model.coef_[0], 'logit_columns': imp})"
   ]
  },
  {
   "cell_type": "code",
   "execution_count": 132,
   "metadata": {},
   "outputs": [
    {
     "data": {
      "text/plain": [
       "array([-2.37891549])"
      ]
     },
     "execution_count": 132,
     "metadata": {},
     "output_type": "execute_result"
    }
   ],
   "source": [
    "model.intercept_"
   ]
  },
  {
   "cell_type": "code",
   "execution_count": 127,
   "metadata": {},
   "outputs": [
    {
     "name": "stdout",
     "output_type": "stream",
     "text": [
      "0.09480313827137676\n"
     ]
    }
   ],
   "source": [
    "print(2*metrics.roc_auc_score(df_test['RISK_FSTQPD30'],model.predict_proba(df_test[imp])[:,1])-1)"
   ]
  },
  {
   "cell_type": "code",
   "execution_count": 122,
   "metadata": {},
   "outputs": [
    {
     "name": "stdout",
     "output_type": "stream",
     "text": [
      "0.08212330621771868\n"
     ]
    }
   ],
   "source": [
    "print(2*metrics.roc_auc_score(df_test['RISK_FSTQPD30'],df_test['G_RISK_FSTQPD30_SCORE'])-1)"
   ]
  },
  {
   "cell_type": "code",
   "execution_count": 111,
   "metadata": {},
   "outputs": [
    {
     "data": {
      "text/plain": [
       "13"
      ]
     },
     "execution_count": 111,
     "metadata": {},
     "output_type": "execute_result"
    }
   ],
   "source": [
    "len(logit_columns)"
   ]
  },
  {
   "cell_type": "code",
   "execution_count": 416,
   "metadata": {},
   "outputs": [],
   "source": [
    "#Save Combined Score for 2nd to 8th Month"
   ]
  },
  {
   "cell_type": "code",
   "execution_count": 170,
   "metadata": {},
   "outputs": [],
   "source": [
    "df1= df[df[\"TIME_DECISION_DATE\"]>=datetime.datetime(2019,3,1)][[\"SKP_CREDIT_CASE\",\"TIME_DECISION_DATE\",\n",
    "                                                               \"CUS_LAT\",\"CUS_LONG\",\"GRID_ID\",\"RISK_FSTQPD30\",\"RISK_SCORE\",\n",
    "                                                              'NO_PAYMENT_CURRENT_PAYMENT_1','C_RISK_FPD10_SCORE',\n",
    "                                                                'C_RISK_FPD10_MM_SCORE','NO_PAYMENT_CURRENT_PAYMENT_2',\n",
    "                                                                'DEFAULT_FLAG_CHANGE_1','C_RISK_FSTQPD30_SCORE',\n",
    "                                                                'C_RISK_FPD30_SCORE','G_NO_PAYMENT_CURRENT_PAYMENT_1',\n",
    "                                                                'C_G_RISK_FPD10_SCORE','C_G_RISK_FPD10_MM_SCORE','G_NO_PAYMENT_CURRENT_PAYMENT_2',\n",
    "                                                                'G_DEFAULT_FLAG_CHANGE_1','C_G_RISK_FSTQPD30_SCORE','C_G_RISK_FPD30_SCORE',\n",
    "                                                                'LOGIT_G_NO_PAYMENT_CURRENT_PAYMENT_1','LOGIT_C_G_RISK_FPD10_SCORE',\n",
    "                                                                'LOGIT_C_G_RISK_FPD10_MM_SCORE','LOGIT_G_NO_PAYMENT_CURRENT_PAYMENT_2',\n",
    "                                                                'LOGIT_G_DEFAULT_FLAG_CHANGE_1','LOGIT_C_G_RISK_FSTQPD30_SCORE','LOGIT_C_G_RISK_FPD30_SCORE'\n",
    "                                                              ]]"
   ]
  },
  {
   "cell_type": "code",
   "execution_count": 136,
   "metadata": {},
   "outputs": [],
   "source": [
    "df1[\"COMBINED_SCORE_KNN\"] = model.predict_proba(df1[imp])[:,1]"
   ]
  },
  {
   "cell_type": "code",
   "execution_count": 171,
   "metadata": {},
   "outputs": [],
   "source": [
    "df1[\"COMBINED_SCORE_KNN\"] = 1/(1+np.exp(-(df1[\"LOGIT_C_G_RISK_FSTQPD30_SCORE\"]*0.495134+ \n",
    "              df1[\"LOGIT_G_NO_PAYMENT_CURRENT_PAYMENT_1\"]*0.246826 +\n",
    "                df1[\"LOGIT_G_DEFAULT_FLAG_CHANGE_1\"]*0.128352 +\n",
    "              df1[\"LOGIT_C_G_RISK_FPD10_MM_SCORE\"]*0.123364 +  -2.37891549)))"
   ]
  },
  {
   "cell_type": "code",
   "execution_count": 172,
   "metadata": {},
   "outputs": [
    {
     "name": "stdout",
     "output_type": "stream",
     "text": [
      "GINI COMBINED:  9.92%\n"
     ]
    }
   ],
   "source": [
    "print(\"GINI COMBINED: \",'{:,.2%}'.format(2 * metrics.roc_auc_score(df1[\"RISK_FSTQPD30\"], df1[\"COMBINED_SCORE_KNN\"]) - 1))"
   ]
  },
  {
   "cell_type": "code",
   "execution_count": 3,
   "metadata": {},
   "outputs": [],
   "source": [
    "import numpy as np\n",
    "default_score = 1/(1+np.exp(-(np.log(0.526039/(1-0.526039))*0.495134+ \n",
    "              np.log(0.496491/(1-0.496491))*0.123364 +\n",
    "                np.log(0.540940336/(1-0.540940336))*0.128352 +\n",
    "              np.log(0.481199645/(1-0.481199645))*0.246826 +  -2.37891549)))"
   ]
  },
  {
   "cell_type": "code",
   "execution_count": 4,
   "metadata": {},
   "outputs": [
    {
     "data": {
      "text/plain": [
       "0.08894919166065231"
      ]
     },
     "execution_count": 4,
     "metadata": {},
     "output_type": "execute_result"
    }
   ],
   "source": [
    "default_score"
   ]
  },
  {
   "cell_type": "code",
   "execution_count": 4,
   "metadata": {},
   "outputs": [
    {
     "data": {
      "text/plain": [
       "2.302585092994046"
      ]
     },
     "execution_count": 4,
     "metadata": {},
     "output_type": "execute_result"
    }
   ],
   "source": [
    "np.log(10)"
   ]
  },
  {
   "cell_type": "markdown",
   "metadata": {},
   "source": [
    "# Create combined Score with RISK Score"
   ]
  },
  {
   "cell_type": "code",
   "execution_count": 185,
   "metadata": {},
   "outputs": [],
   "source": [
    "df1[\"LOGIT_RISK_SCORE\"] = [np.log(x/(1-x)) for x in df1[\"RISK_SCORE\"]]\n",
    "df1[\"LOGIT_COMBINED_SCORE_KNN\"] = [np.log(x/(1-x)) for x in df1[\"COMBINED_SCORE_KNN\"]]\n"
   ]
  },
  {
   "cell_type": "code",
   "execution_count": 186,
   "metadata": {},
   "outputs": [],
   "source": [
    "model= LogisticRegression(penalty = 'l1' , C=1)"
   ]
  },
  {
   "cell_type": "code",
   "execution_count": 187,
   "metadata": {},
   "outputs": [
    {
     "name": "stderr",
     "output_type": "stream",
     "text": [
      "C:\\Users\\aman.khatri91425\\AppData\\Local\\Continuum\\anaconda3\\lib\\site-packages\\sklearn\\linear_model\\logistic.py:433: FutureWarning: Default solver will be changed to 'lbfgs' in 0.22. Specify a solver to silence this warning.\n",
      "  FutureWarning)\n"
     ]
    },
    {
     "data": {
      "text/plain": [
       "LogisticRegression(C=1, class_weight=None, dual=False, fit_intercept=True,\n",
       "          intercept_scaling=1, max_iter=100, multi_class='warn',\n",
       "          n_jobs=None, penalty='l1', random_state=None, solver='warn',\n",
       "          tol=0.0001, verbose=0, warm_start=False)"
      ]
     },
     "execution_count": 187,
     "metadata": {},
     "output_type": "execute_result"
    }
   ],
   "source": [
    "model.fit(df1[df1[\"TIME_DECISION_DATE\"]<datetime.datetime(2019,5,1)][[\"LOGIT_RISK_SCORE\",\"LOGIT_COMBINED_SCORE_KNN\"]], df1[df1[\"TIME_DECISION_DATE\"]<datetime.datetime(2019,5,1)][\"RISK_FSTQPD30\"])"
   ]
  },
  {
   "cell_type": "code",
   "execution_count": 188,
   "metadata": {},
   "outputs": [
    {
     "data": {
      "text/html": [
       "<div>\n",
       "<style scoped>\n",
       "    .dataframe tbody tr th:only-of-type {\n",
       "        vertical-align: middle;\n",
       "    }\n",
       "\n",
       "    .dataframe tbody tr th {\n",
       "        vertical-align: top;\n",
       "    }\n",
       "\n",
       "    .dataframe thead th {\n",
       "        text-align: right;\n",
       "    }\n",
       "</style>\n",
       "<table border=\"1\" class=\"dataframe\">\n",
       "  <thead>\n",
       "    <tr style=\"text-align: right;\">\n",
       "      <th></th>\n",
       "      <th>coeff</th>\n",
       "      <th>logit_columns</th>\n",
       "    </tr>\n",
       "  </thead>\n",
       "  <tbody>\n",
       "    <tr>\n",
       "      <th>0</th>\n",
       "      <td>0.616961</td>\n",
       "      <td>LOGIT_RISK_SCORE</td>\n",
       "    </tr>\n",
       "    <tr>\n",
       "      <th>1</th>\n",
       "      <td>0.828145</td>\n",
       "      <td>LOGIT_COMBINED_SCORE_KNN</td>\n",
       "    </tr>\n",
       "  </tbody>\n",
       "</table>\n",
       "</div>"
      ],
      "text/plain": [
       "      coeff             logit_columns\n",
       "0  0.616961          LOGIT_RISK_SCORE\n",
       "1  0.828145  LOGIT_COMBINED_SCORE_KNN"
      ]
     },
     "execution_count": 188,
     "metadata": {},
     "output_type": "execute_result"
    }
   ],
   "source": [
    "pd.DataFrame({'coeff': model.coef_[0], 'logit_columns': [\"LOGIT_RISK_SCORE\",\"LOGIT_COMBINED_SCORE_KNN\"] })"
   ]
  },
  {
   "cell_type": "code",
   "execution_count": 189,
   "metadata": {},
   "outputs": [
    {
     "data": {
      "text/plain": [
       "array([0.69135326])"
      ]
     },
     "execution_count": 189,
     "metadata": {},
     "output_type": "execute_result"
    }
   ],
   "source": [
    "model.intercept_"
   ]
  },
  {
   "cell_type": "code",
   "execution_count": 190,
   "metadata": {},
   "outputs": [],
   "source": [
    "df1[\"COMBINED_SCORE\"] = model.predict_proba(df1[[\"LOGIT_RISK_SCORE\",\"LOGIT_COMBINED_SCORE_KNN\"]])[:,1]"
   ]
  },
  {
   "cell_type": "code",
   "execution_count": 191,
   "metadata": {},
   "outputs": [],
   "source": [
    "df1[\"COMBINED_SCORE\"] = 1/(1+np.exp(-(df1[\"LOGIT_RISK_SCORE\"]*0.617087+ \n",
    "              df1[\"LOGIT_COMBINED_SCORE_KNN\"]*0.828352 + 0.69204446)))"
   ]
  },
  {
   "cell_type": "code",
   "execution_count": 192,
   "metadata": {},
   "outputs": [
    {
     "name": "stdout",
     "output_type": "stream",
     "text": [
      "GINI COMBINED:  19.57%\n",
      "GINI COMBINED:  17.80%\n"
     ]
    }
   ],
   "source": [
    "print(\"GINI COMBINED: \",'{:,.2%}'.format(2 * metrics.roc_auc_score(df1[\"RISK_FSTQPD30\"], df1[\"COMBINED_SCORE\"]) - 1))\n",
    "print(\"GINI COMBINED: \",'{:,.2%}'.format(2 * metrics.roc_auc_score(df1[\"RISK_FSTQPD30\"], df1[\"RISK_SCORE\"]) - 1))"
   ]
  },
  {
   "cell_type": "code",
   "execution_count": 177,
   "metadata": {},
   "outputs": [],
   "source": [
    "df1.to_pickle(os.getcwd()+\"\\Data Files\\Combined Score_new.pkl\")"
   ]
  },
  {
   "cell_type": "markdown",
   "metadata": {},
   "source": [
    "# Correctly Scale RISK Score"
   ]
  },
  {
   "cell_type": "code",
   "execution_count": 193,
   "metadata": {},
   "outputs": [],
   "source": [
    "df1[\"LOGIT_RISK_SCORE\"] = [np.log(x/(1-x)) for x in df1[\"RISK_SCORE\"]]\n",
    "df1[\"LOGIT_COMBINED_SCORE_KNN\"] = [np.log(x/(1-x)) for x in df1[\"COMBINED_SCORE_KNN\"]]\n"
   ]
  },
  {
   "cell_type": "code",
   "execution_count": 194,
   "metadata": {},
   "outputs": [],
   "source": [
    "model= LogisticRegression(penalty = 'l1' , C=1)"
   ]
  },
  {
   "cell_type": "code",
   "execution_count": 195,
   "metadata": {},
   "outputs": [
    {
     "name": "stderr",
     "output_type": "stream",
     "text": [
      "C:\\Users\\aman.khatri91425\\AppData\\Local\\Continuum\\anaconda3\\lib\\site-packages\\sklearn\\linear_model\\logistic.py:433: FutureWarning: Default solver will be changed to 'lbfgs' in 0.22. Specify a solver to silence this warning.\n",
      "  FutureWarning)\n"
     ]
    },
    {
     "data": {
      "text/plain": [
       "LogisticRegression(C=1, class_weight=None, dual=False, fit_intercept=True,\n",
       "          intercept_scaling=1, max_iter=100, multi_class='warn',\n",
       "          n_jobs=None, penalty='l1', random_state=None, solver='warn',\n",
       "          tol=0.0001, verbose=0, warm_start=False)"
      ]
     },
     "execution_count": 195,
     "metadata": {},
     "output_type": "execute_result"
    }
   ],
   "source": [
    "model.fit(df1[df1[\"TIME_DECISION_DATE\"]<datetime.datetime(2019,5,1)][[\"LOGIT_RISK_SCORE\"]], df1[df1[\"TIME_DECISION_DATE\"]<datetime.datetime(2019,5,1)][\"RISK_FSTQPD30\"])"
   ]
  },
  {
   "cell_type": "code",
   "execution_count": 196,
   "metadata": {},
   "outputs": [
    {
     "data": {
      "text/html": [
       "<div>\n",
       "<style scoped>\n",
       "    .dataframe tbody tr th:only-of-type {\n",
       "        vertical-align: middle;\n",
       "    }\n",
       "\n",
       "    .dataframe tbody tr th {\n",
       "        vertical-align: top;\n",
       "    }\n",
       "\n",
       "    .dataframe thead th {\n",
       "        text-align: right;\n",
       "    }\n",
       "</style>\n",
       "<table border=\"1\" class=\"dataframe\">\n",
       "  <thead>\n",
       "    <tr style=\"text-align: right;\">\n",
       "      <th></th>\n",
       "      <th>coeff</th>\n",
       "      <th>logit_columns</th>\n",
       "    </tr>\n",
       "  </thead>\n",
       "  <tbody>\n",
       "    <tr>\n",
       "      <th>0</th>\n",
       "      <td>0.655804</td>\n",
       "      <td>LOGIT_RISK_SCORE</td>\n",
       "    </tr>\n",
       "  </tbody>\n",
       "</table>\n",
       "</div>"
      ],
      "text/plain": [
       "      coeff     logit_columns\n",
       "0  0.655804  LOGIT_RISK_SCORE"
      ]
     },
     "execution_count": 196,
     "metadata": {},
     "output_type": "execute_result"
    }
   ],
   "source": [
    "pd.DataFrame({'coeff': model.coef_[0], 'logit_columns': [\"LOGIT_RISK_SCORE\"] })"
   ]
  },
  {
   "cell_type": "code",
   "execution_count": 197,
   "metadata": {},
   "outputs": [
    {
     "data": {
      "text/plain": [
       "array([-1.23188016])"
      ]
     },
     "execution_count": 197,
     "metadata": {},
     "output_type": "execute_result"
    }
   ],
   "source": [
    "model.intercept_"
   ]
  },
  {
   "cell_type": "code",
   "execution_count": 198,
   "metadata": {},
   "outputs": [],
   "source": [
    "df1[\"RISK_SCORE_SCALED\"] = model.predict_proba(df1[[\"LOGIT_RISK_SCORE\"]])[:,1]"
   ]
  },
  {
   "cell_type": "code",
   "execution_count": 199,
   "metadata": {},
   "outputs": [],
   "source": [
    "df1.to_pickle(os.getcwd()+\"\\Data Files\\Combined Score_new.pkl\")"
   ]
  },
  {
   "cell_type": "code",
   "execution_count": null,
   "metadata": {},
   "outputs": [],
   "source": []
  }
 ],
 "metadata": {
  "kernelspec": {
   "display_name": "Python 3",
   "language": "python",
   "name": "python3"
  },
  "language_info": {
   "codemirror_mode": {
    "name": "ipython",
    "version": 3
   },
   "file_extension": ".py",
   "mimetype": "text/x-python",
   "name": "python",
   "nbconvert_exporter": "python",
   "pygments_lexer": "ipython3",
   "version": "3.7.3"
  }
 },
 "nbformat": 4,
 "nbformat_minor": 2
}
