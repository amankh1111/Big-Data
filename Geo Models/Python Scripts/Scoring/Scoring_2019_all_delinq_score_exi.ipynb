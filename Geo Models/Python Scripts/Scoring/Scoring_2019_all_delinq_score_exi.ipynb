{
 "cells": [
  {
   "cell_type": "code",
   "execution_count": 4,
   "metadata": {},
   "outputs": [],
   "source": [
    "import os\n",
    "import cx_Oracle\n",
    "import pandas as pd\n",
    "import numpy as np\n",
    "import pickle\n",
    "from datetime import date,datetime\n",
    "from sklearn import metrics\n",
    "from sklearn.model_selection import train_test_split, StratifiedKFold, RandomizedSearchCV, cross_val_score \n",
    "import time\n",
    "import matplotlib.pyplot as plt\n",
    "from sklearn.utils import resample\n",
    "import datetime"
   ]
  },
  {
   "cell_type": "code",
   "execution_count": 5,
   "metadata": {},
   "outputs": [],
   "source": [
    "os.chdir(r\"C:\\Users\\aman.khatri91425\\Desktop\\HomeCredit\\Bigdata\\Common Maps KNN\")"
   ]
  },
  {
   "cell_type": "code",
   "execution_count": 6,
   "metadata": {},
   "outputs": [],
   "source": [
    "df = pd.read_pickle(os.getcwd()+r\"\\Data Files\\final_grids_combined.pkl\")"
   ]
  },
  {
   "cell_type": "code",
   "execution_count": 7,
   "metadata": {},
   "outputs": [],
   "source": [
    "df=df[df[\"NTC_FLAG\"] == 'Others']"
   ]
  },
  {
   "cell_type": "code",
   "execution_count": 8,
   "metadata": {
    "scrolled": true
   },
   "outputs": [
    {
     "data": {
      "text/html": [
       "<div>\n",
       "<style scoped>\n",
       "    .dataframe tbody tr th:only-of-type {\n",
       "        vertical-align: middle;\n",
       "    }\n",
       "\n",
       "    .dataframe tbody tr th {\n",
       "        vertical-align: top;\n",
       "    }\n",
       "\n",
       "    .dataframe thead th {\n",
       "        text-align: right;\n",
       "    }\n",
       "</style>\n",
       "<table border=\"1\" class=\"dataframe\">\n",
       "  <thead>\n",
       "    <tr style=\"text-align: right;\">\n",
       "      <th></th>\n",
       "      <th>SKP_CREDIT_CASE</th>\n",
       "      <th>TIME_DECISION_DATE</th>\n",
       "      <th>CUS_LAT</th>\n",
       "      <th>CUS_LONG</th>\n",
       "      <th>RISK_FPD10</th>\n",
       "      <th>RISK_FPD30</th>\n",
       "      <th>RISK_FSPD30</th>\n",
       "      <th>RISK_FSTPD30</th>\n",
       "      <th>RISK_FSTQPD30</th>\n",
       "      <th>RISK_FSTQPD60</th>\n",
       "      <th>NTC_FLAG</th>\n",
       "      <th>GRID_ID</th>\n",
       "      <th>RISK_SCORE</th>\n",
       "    </tr>\n",
       "  </thead>\n",
       "  <tbody>\n",
       "    <tr>\n",
       "      <th>0</th>\n",
       "      <td>299690604</td>\n",
       "      <td>2020-03-18</td>\n",
       "      <td>19.265680</td>\n",
       "      <td>72.868973</td>\n",
       "      <td>0.0</td>\n",
       "      <td>0.0</td>\n",
       "      <td>0.0</td>\n",
       "      <td>0.0</td>\n",
       "      <td>0.0</td>\n",
       "      <td>0.0</td>\n",
       "      <td>Others</td>\n",
       "      <td>500_00905_02662</td>\n",
       "      <td>0.051794</td>\n",
       "    </tr>\n",
       "    <tr>\n",
       "      <th>1</th>\n",
       "      <td>299690609</td>\n",
       "      <td>2020-03-18</td>\n",
       "      <td>19.004342</td>\n",
       "      <td>73.114270</td>\n",
       "      <td>0.0</td>\n",
       "      <td>0.0</td>\n",
       "      <td>0.0</td>\n",
       "      <td>0.0</td>\n",
       "      <td>0.0</td>\n",
       "      <td>0.0</td>\n",
       "      <td>Others</td>\n",
       "      <td>500_00953_02602</td>\n",
       "      <td>0.007845</td>\n",
       "    </tr>\n",
       "    <tr>\n",
       "      <th>2</th>\n",
       "      <td>299690618</td>\n",
       "      <td>2020-03-18</td>\n",
       "      <td>26.139898</td>\n",
       "      <td>78.159472</td>\n",
       "      <td>0.0</td>\n",
       "      <td>0.0</td>\n",
       "      <td>0.0</td>\n",
       "      <td>0.0</td>\n",
       "      <td>0.0</td>\n",
       "      <td>0.0</td>\n",
       "      <td>Others</td>\n",
       "      <td>500_02018_04121</td>\n",
       "      <td>0.034560</td>\n",
       "    </tr>\n",
       "    <tr>\n",
       "      <th>3</th>\n",
       "      <td>299690627</td>\n",
       "      <td>2020-03-18</td>\n",
       "      <td>26.933770</td>\n",
       "      <td>75.753160</td>\n",
       "      <td>0.0</td>\n",
       "      <td>0.0</td>\n",
       "      <td>0.0</td>\n",
       "      <td>0.0</td>\n",
       "      <td>0.0</td>\n",
       "      <td>0.0</td>\n",
       "      <td>Others</td>\n",
       "      <td>500_01551_04304</td>\n",
       "      <td>0.018181</td>\n",
       "    </tr>\n",
       "    <tr>\n",
       "      <th>4</th>\n",
       "      <td>299690631</td>\n",
       "      <td>2020-03-18</td>\n",
       "      <td>26.199419</td>\n",
       "      <td>78.162542</td>\n",
       "      <td>0.0</td>\n",
       "      <td>0.0</td>\n",
       "      <td>0.0</td>\n",
       "      <td>0.0</td>\n",
       "      <td>0.0</td>\n",
       "      <td>0.0</td>\n",
       "      <td>Others</td>\n",
       "      <td>500_02019_04134</td>\n",
       "      <td>0.010261</td>\n",
       "    </tr>\n",
       "  </tbody>\n",
       "</table>\n",
       "</div>"
      ],
      "text/plain": [
       "   SKP_CREDIT_CASE TIME_DECISION_DATE    CUS_LAT   CUS_LONG  RISK_FPD10  \\\n",
       "0        299690604         2020-03-18  19.265680  72.868973         0.0   \n",
       "1        299690609         2020-03-18  19.004342  73.114270         0.0   \n",
       "2        299690618         2020-03-18  26.139898  78.159472         0.0   \n",
       "3        299690627         2020-03-18  26.933770  75.753160         0.0   \n",
       "4        299690631         2020-03-18  26.199419  78.162542         0.0   \n",
       "\n",
       "   RISK_FPD30  RISK_FSPD30  RISK_FSTPD30  RISK_FSTQPD30  RISK_FSTQPD60  \\\n",
       "0         0.0          0.0           0.0            0.0            0.0   \n",
       "1         0.0          0.0           0.0            0.0            0.0   \n",
       "2         0.0          0.0           0.0            0.0            0.0   \n",
       "3         0.0          0.0           0.0            0.0            0.0   \n",
       "4         0.0          0.0           0.0            0.0            0.0   \n",
       "\n",
       "  NTC_FLAG          GRID_ID  RISK_SCORE  \n",
       "0   Others  500_00905_02662    0.051794  \n",
       "1   Others  500_00953_02602    0.007845  \n",
       "2   Others  500_02018_04121    0.034560  \n",
       "3   Others  500_01551_04304    0.018181  \n",
       "4   Others  500_02019_04134    0.010261  "
      ]
     },
     "execution_count": 8,
     "metadata": {},
     "output_type": "execute_result"
    }
   ],
   "source": [
    "df.head()"
   ]
  },
  {
   "cell_type": "code",
   "execution_count": 9,
   "metadata": {},
   "outputs": [
    {
     "data": {
      "text/plain": [
       "False    3362588\n",
       "True     2540030\n",
       "Name: RISK_SCORE, dtype: int64"
      ]
     },
     "execution_count": 9,
     "metadata": {},
     "output_type": "execute_result"
    }
   ],
   "source": [
    "df[\"RISK_SCORE\"].isna().value_counts()"
   ]
  },
  {
   "cell_type": "code",
   "execution_count": 10,
   "metadata": {},
   "outputs": [],
   "source": [
    "df[\"MONTH_STR\"] = df[\"TIME_DECISION_DATE\"].dt.strftime(\"%Y-%m\")\n",
    "df_summ = df[[\"MONTH_STR\",\"RISK_FSTQPD30\"]].groupby(\"MONTH_STR\").aggregate([\"count\",\"sum\"])[\"RISK_FSTQPD30\"]\n",
    "df_summ[\"bad_rate\"] = df_summ[\"sum\"]/df_summ[\"count\"]"
   ]
  },
  {
   "cell_type": "code",
   "execution_count": 11,
   "metadata": {},
   "outputs": [
    {
     "data": {
      "image/png": "[encoded data removed]",
      "text/plain": [
       "<Figure size 1080x288 with 2 Axes>"
      ]
     },
     "metadata": {
      "needs_background": "light"
     },
     "output_type": "display_data"
    }
   ],
   "source": [
    "df_summ[['sum','count']].plot(kind='bar', width = 0.8, figsize=(15,4))\n",
    "df_summ['bad_rate'].plot(secondary_y=True)\n",
    "\n",
    "ax = plt.gca()\n",
    "plt.xlim([-0.35, len(df_summ['sum'])-0.35])\n",
    "ax.set_xticklabels(df_summ.index)\n",
    "plt.ylim\n",
    "fig = ax.get_figure()\n",
    "ax = fig.get_axes()\n",
    "ax[1].set_ylim(0,0.15)\n",
    "ax[0].legend(['CD_Contracts','CD_Defaults'])\n",
    "ax[1].legend([\"Default Rate\"], loc = \"center right\")\n",
    "\n",
    "\n",
    "plt.show()\n"
   ]
  },
  {
   "cell_type": "markdown",
   "metadata": {},
   "source": [
    "# Generate grid based scores for selected variables"
   ]
  },
  {
   "cell_type": "code",
   "execution_count": 20,
   "metadata": {},
   "outputs": [],
   "source": [
    "hyper_df= pd.read_csv(os.getcwd()+r\"\\Data Files\\Hyperparameters\\Hyperparameters_exi.csv\")"
   ]
  },
  {
   "cell_type": "code",
   "execution_count": 21,
   "metadata": {},
   "outputs": [
    {
     "data": {
      "text/html": [
       "<div>\n",
       "<style scoped>\n",
       "    .dataframe tbody tr th:only-of-type {\n",
       "        vertical-align: middle;\n",
       "    }\n",
       "\n",
       "    .dataframe tbody tr th {\n",
       "        vertical-align: top;\n",
       "    }\n",
       "\n",
       "    .dataframe thead th {\n",
       "        text-align: right;\n",
       "    }\n",
       "</style>\n",
       "<table border=\"1\" class=\"dataframe\">\n",
       "  <thead>\n",
       "    <tr style=\"text-align: right;\">\n",
       "      <th></th>\n",
       "      <th>SCORE_NAME</th>\n",
       "      <th>TARGET</th>\n",
       "      <th>K</th>\n",
       "      <th>OBSERVATION_WINDOW</th>\n",
       "      <th>PERFORMANCE_WINDOW</th>\n",
       "      <th>DOWNSAMPLE_SIZE</th>\n",
       "      <th>FILLNA</th>\n",
       "    </tr>\n",
       "  </thead>\n",
       "  <tbody>\n",
       "    <tr>\n",
       "      <th>0</th>\n",
       "      <td>RISK_FPD10_SCORE</td>\n",
       "      <td>RISK_FPD10</td>\n",
       "      <td>161</td>\n",
       "      <td>365</td>\n",
       "      <td>40</td>\n",
       "      <td>60000</td>\n",
       "      <td>0.509335</td>\n",
       "    </tr>\n",
       "    <tr>\n",
       "      <th>1</th>\n",
       "      <td>RISK_FPD30_SCORE</td>\n",
       "      <td>RISK_FPD30</td>\n",
       "      <td>66</td>\n",
       "      <td>365</td>\n",
       "      <td>60</td>\n",
       "      <td>20000</td>\n",
       "      <td>0.488066</td>\n",
       "    </tr>\n",
       "    <tr>\n",
       "      <th>2</th>\n",
       "      <td>RISK_FSPD30_SCORE</td>\n",
       "      <td>RISK_FSPD30</td>\n",
       "      <td>136</td>\n",
       "      <td>365</td>\n",
       "      <td>90</td>\n",
       "      <td>40000</td>\n",
       "      <td>0.497563</td>\n",
       "    </tr>\n",
       "    <tr>\n",
       "      <th>3</th>\n",
       "      <td>RISK_FSTPD30_SCORE</td>\n",
       "      <td>RISK_FSTPD30</td>\n",
       "      <td>166</td>\n",
       "      <td>365</td>\n",
       "      <td>120</td>\n",
       "      <td>70000</td>\n",
       "      <td>0.505412</td>\n",
       "    </tr>\n",
       "    <tr>\n",
       "      <th>4</th>\n",
       "      <td>RISK_FSTQPD30_SCORE</td>\n",
       "      <td>RISK_FSTQPD30</td>\n",
       "      <td>266</td>\n",
       "      <td>365</td>\n",
       "      <td>150</td>\n",
       "      <td>100000</td>\n",
       "      <td>0.513970</td>\n",
       "    </tr>\n",
       "  </tbody>\n",
       "</table>\n",
       "</div>"
      ],
      "text/plain": [
       "            SCORE_NAME         TARGET    K  OBSERVATION_WINDOW  \\\n",
       "0     RISK_FPD10_SCORE     RISK_FPD10  161                 365   \n",
       "1     RISK_FPD30_SCORE     RISK_FPD30   66                 365   \n",
       "2    RISK_FSPD30_SCORE    RISK_FSPD30  136                 365   \n",
       "3   RISK_FSTPD30_SCORE   RISK_FSTPD30  166                 365   \n",
       "4  RISK_FSTQPD30_SCORE  RISK_FSTQPD30  266                 365   \n",
       "\n",
       "   PERFORMANCE_WINDOW  DOWNSAMPLE_SIZE    FILLNA  \n",
       "0                  40            60000  0.509335  \n",
       "1                  60            20000  0.488066  \n",
       "2                  90            40000  0.497563  \n",
       "3                 120            70000  0.505412  \n",
       "4                 150           100000  0.513970  "
      ]
     },
     "execution_count": 21,
     "metadata": {},
     "output_type": "execute_result"
    }
   ],
   "source": [
    "hyper_df.head()"
   ]
  },
  {
   "cell_type": "code",
   "execution_count": 22,
   "metadata": {},
   "outputs": [],
   "source": [
    "selected_list =['NO_PAYMENT_CURRENT_PAYMENT_1', 'DEFAULT_FLAG_CHANGE_1', 'RISK_FSTQPD30_SCORE', 'RISK_FSPD30_MM_SCORE']"
   ]
  },
  {
   "cell_type": "code",
   "execution_count": 23,
   "metadata": {},
   "outputs": [],
   "source": [
    "# hyper_df= pd.read_csv(os.getcwd()+r\"\\Data Files\\Hyperparameters.csv\")\n",
    "# df = pd.read_csv(os.getcwd()+r\"\\Data Files\\final_grids.csv\")\n",
    "# df[\"TIME_DECISION_DATE\"]=pd.to_datetime(df[\"TIME_DECISION_DATE\"],format = '%d-%m-%y')"
   ]
  },
  {
   "cell_type": "code",
   "execution_count": 24,
   "metadata": {},
   "outputs": [
    {
     "name": "stderr",
     "output_type": "stream",
     "text": [
      "C:\\Users\\aman.khatri91425\\AppData\\Local\\Continuum\\anaconda3\\lib\\site-packages\\ipykernel_launcher.py:50: SettingWithCopyWarning: \n",
      "A value is trying to be set on a copy of a slice from a DataFrame.\n",
      "Try using .loc[row_indexer,col_indexer] = value instead\n",
      "\n",
      "See the caveats in the documentation: http://pandas.pydata.org/pandas-docs/stable/indexing.html#indexing-view-versus-copy\n"
     ]
    },
    {
     "name": "stdout",
     "output_type": "stream",
     "text": [
      "Training for predicting (month): 1  SCORE: RISK_FPD10_SCORE  target: RISK_FPD10  K: 161  observation_window: 365  performance_window: 40  downsample_size: 60000  GINI TRAIN: 17.66%     GINI TEST: 10.07%  time taken:  0.27\n",
      "Training for predicting (month): 1  SCORE: RISK_FPD30_SCORE  target: RISK_FPD30  K: 66  observation_window: 365  performance_window: 60  downsample_size: 20000  GINI TRAIN: 24.69%     GINI TEST: 14.91%  time taken:  0.083\n",
      "Training for predicting (month): 1  SCORE: RISK_FSPD30_SCORE  target: RISK_FSPD30  K: 136  observation_window: 365  performance_window: 90  downsample_size: 40000  GINI TRAIN: 22.28%     GINI TEST: 14.28%  time taken:  0.2\n",
      "Training for predicting (month): 1  SCORE: RISK_FSTPD30_SCORE  target: RISK_FSTPD30  K: 166  observation_window: 365  performance_window: 120  downsample_size: 70000  GINI TRAIN: 19.90%     GINI TEST: 13.40%  time taken:  0.3\n",
      "Training for predicting (month): 1  SCORE: RISK_FSTQPD30_SCORE  target: RISK_FSTQPD30  K: 266  observation_window: 365  performance_window: 150  downsample_size: 100000  GINI TRAIN: 15.89%     GINI TEST: 9.98%  time taken:  0.6\n",
      "Training for predicting (month): 1  SCORE: RISK_FPD10_MM_SCORE  target: RISK_FPD10  K: 271  observation_window: 110  performance_window: 40  downsample_size: 20000  GINI TRAIN: 17.25%     GINI TEST: 9.04%  time taken:  0.35\n",
      "Training for predicting (month): 1  SCORE: RISK_FPD30_MM_SCORE  target: RISK_FPD30  K: 36  observation_window: 90  performance_window: 60  downsample_size: 6000  GINI TRAIN: 27.46%     GINI TEST: 12.06%  time taken:  0.033\n",
      "Training for predicting (month): 1  SCORE: RISK_FSPD30_MM_SCORE  target: RISK_FSPD30  K: 66  observation_window: 60  performance_window: 90  downsample_size: 9000  GINI TRAIN: 23.86%     GINI TEST: 9.05%  time taken:  0.05\n",
      "Training for predicting (month): 1  SCORE: RISK_FSTPD30_MM_SCORE  target: RISK_FSTPD30  K: 291  observation_window: 30  performance_window: 120  downsample_size: 8000  GINI TRAIN: 14.25%     GINI TEST: 9.83%  time taken:  0.32\n"
     ]
    },
    {
     "name": "stderr",
     "output_type": "stream",
     "text": [
      "C:\\Users\\aman.khatri91425\\AppData\\Local\\Continuum\\anaconda3\\lib\\site-packages\\ipykernel_launcher.py:50: SettingWithCopyWarning: \n",
      "A value is trying to be set on a copy of a slice from a DataFrame.\n",
      "Try using .loc[row_indexer,col_indexer] = value instead\n",
      "\n",
      "See the caveats in the documentation: http://pandas.pydata.org/pandas-docs/stable/indexing.html#indexing-view-versus-copy\n"
     ]
    },
    {
     "name": "stdout",
     "output_type": "stream",
     "text": [
      "Training for predicting (month): 2  SCORE: RISK_FPD10_SCORE  target: RISK_FPD10  K: 161  observation_window: 365  performance_window: 40  downsample_size: 60000  GINI TRAIN: 17.42%     GINI TEST: 10.60%  time taken:  0.27\n",
      "Training for predicting (month): 2  SCORE: RISK_FPD30_SCORE  target: RISK_FPD30  K: 66  observation_window: 365  performance_window: 60  downsample_size: 20000  GINI TRAIN: 24.34%     GINI TEST: 15.02%  time taken:  0.067\n",
      "Training for predicting (month): 2  SCORE: RISK_FSPD30_SCORE  target: RISK_FSPD30  K: 136  observation_window: 365  performance_window: 90  downsample_size: 40000  GINI TRAIN: 20.99%     GINI TEST: 14.80%  time taken:  0.2\n",
      "Training for predicting (month): 2  SCORE: RISK_FSTPD30_SCORE  target: RISK_FSTPD30  K: 166  observation_window: 365  performance_window: 120  downsample_size: 70000  GINI TRAIN: 20.03%     GINI TEST: 13.31%  time taken:  0.23\n",
      "Training for predicting (month): 2  SCORE: RISK_FSTQPD30_SCORE  target: RISK_FSTQPD30  K: 266  observation_window: 365  performance_window: 150  downsample_size: 100000  GINI TRAIN: 16.13%     GINI TEST: 10.09%  time taken:  0.45\n",
      "Training for predicting (month): 2  SCORE: RISK_FPD10_MM_SCORE  target: RISK_FPD10  K: 271  observation_window: 110  performance_window: 40  downsample_size: 20000  GINI TRAIN: 13.80%     GINI TEST: 9.36%  time taken:  0.23\n",
      "Training for predicting (month): 2  SCORE: RISK_FPD30_MM_SCORE  target: RISK_FPD30  K: 36  observation_window: 90  performance_window: 60  downsample_size: 6000  GINI TRAIN: 25.84%     GINI TEST: 11.77%  time taken:  0.017\n",
      "Training for predicting (month): 2  SCORE: RISK_FSPD30_MM_SCORE  target: RISK_FSPD30  K: 66  observation_window: 60  performance_window: 90  downsample_size: 9000  GINI TRAIN: 21.20%     GINI TEST: 9.69%  time taken:  0.05\n",
      "Training for predicting (month): 2  SCORE: RISK_FSTPD30_MM_SCORE  target: RISK_FSTPD30  K: 291  observation_window: 30  performance_window: 120  downsample_size: 8000  GINI TRAIN: 11.33%     GINI TEST: 5.29%  time taken:  0.18\n"
     ]
    },
    {
     "name": "stderr",
     "output_type": "stream",
     "text": [
      "C:\\Users\\aman.khatri91425\\AppData\\Local\\Continuum\\anaconda3\\lib\\site-packages\\ipykernel_launcher.py:50: SettingWithCopyWarning: \n",
      "A value is trying to be set on a copy of a slice from a DataFrame.\n",
      "Try using .loc[row_indexer,col_indexer] = value instead\n",
      "\n",
      "See the caveats in the documentation: http://pandas.pydata.org/pandas-docs/stable/indexing.html#indexing-view-versus-copy\n"
     ]
    },
    {
     "name": "stdout",
     "output_type": "stream",
     "text": [
      "Training for predicting (month): 3  SCORE: RISK_FPD10_SCORE  target: RISK_FPD10  K: 161  observation_window: 365  performance_window: 40  downsample_size: 60000  GINI TRAIN: 17.26%     GINI TEST: 12.05%  time taken:  0.28\n",
      "Training for predicting (month): 3  SCORE: RISK_FPD30_SCORE  target: RISK_FPD30  K: 66  observation_window: 365  performance_window: 60  downsample_size: 20000  GINI TRAIN: 24.43%     GINI TEST: 15.33%  time taken:  0.083\n",
      "Training for predicting (month): 3  SCORE: RISK_FSPD30_SCORE  target: RISK_FSPD30  K: 136  observation_window: 365  performance_window: 90  downsample_size: 40000  GINI TRAIN: 21.02%     GINI TEST: 14.45%  time taken:  0.2\n",
      "Training for predicting (month): 3  SCORE: RISK_FSTPD30_SCORE  target: RISK_FSTPD30  K: 166  observation_window: 365  performance_window: 120  downsample_size: 70000  GINI TRAIN: 19.77%     GINI TEST: 12.52%  time taken:  0.32\n",
      "Training for predicting (month): 3  SCORE: RISK_FSTQPD30_SCORE  target: RISK_FSTQPD30  K: 266  observation_window: 365  performance_window: 150  downsample_size: 100000  GINI TRAIN: 16.44%     GINI TEST: 9.71%  time taken:  0.6\n",
      "Training for predicting (month): 3  SCORE: RISK_FPD10_MM_SCORE  target: RISK_FPD10  K: 271  observation_window: 110  performance_window: 40  downsample_size: 20000  GINI TRAIN: 14.80%     GINI TEST: 10.82%  time taken:  0.28\n",
      "Training for predicting (month): 3  SCORE: RISK_FPD30_MM_SCORE  target: RISK_FPD30  K: 36  observation_window: 90  performance_window: 60  downsample_size: 6000  GINI TRAIN: 27.93%     GINI TEST: 11.75%  time taken:  0.033\n",
      "Training for predicting (month): 3  SCORE: RISK_FSPD30_MM_SCORE  target: RISK_FSPD30  K: 66  observation_window: 60  performance_window: 90  downsample_size: 9000  GINI TRAIN: 20.18%     GINI TEST: 7.67%  time taken:  0.067\n",
      "Training for predicting (month): 3  SCORE: RISK_FSTPD30_MM_SCORE  target: RISK_FSTPD30  K: 291  observation_window: 30  performance_window: 120  downsample_size: 8000  GINI TRAIN: 12.64%     GINI TEST: 8.08%  time taken:  0.27\n"
     ]
    },
    {
     "name": "stderr",
     "output_type": "stream",
     "text": [
      "C:\\Users\\aman.khatri91425\\AppData\\Local\\Continuum\\anaconda3\\lib\\site-packages\\ipykernel_launcher.py:50: SettingWithCopyWarning: \n",
      "A value is trying to be set on a copy of a slice from a DataFrame.\n",
      "Try using .loc[row_indexer,col_indexer] = value instead\n",
      "\n",
      "See the caveats in the documentation: http://pandas.pydata.org/pandas-docs/stable/indexing.html#indexing-view-versus-copy\n"
     ]
    },
    {
     "name": "stdout",
     "output_type": "stream",
     "text": [
      "Training for predicting (month): 4  SCORE: RISK_FPD10_SCORE  target: RISK_FPD10  K: 161  observation_window: 365  performance_window: 40  downsample_size: 60000  GINI TRAIN: 17.67%     GINI TEST: 12.40%  time taken:  0.23\n",
      "Training for predicting (month): 4  SCORE: RISK_FPD30_SCORE  target: RISK_FPD30  K: 66  observation_window: 365  performance_window: 60  downsample_size: 20000  GINI TRAIN: 24.65%     GINI TEST: 15.14%  time taken:  0.067\n",
      "Training for predicting (month): 4  SCORE: RISK_FSPD30_SCORE  target: RISK_FSPD30  K: 136  observation_window: 365  performance_window: 90  downsample_size: 40000  GINI TRAIN: 21.14%     GINI TEST: 14.42%  time taken:  0.2\n",
      "Training for predicting (month): 4  SCORE: RISK_FSTPD30_SCORE  target: RISK_FSTPD30  K: 166  observation_window: 365  performance_window: 120  downsample_size: 70000  GINI TRAIN: 19.58%     GINI TEST: 11.87%  time taken:  0.27\n",
      "Training for predicting (month): 4  SCORE: RISK_FSTQPD30_SCORE  target: RISK_FSTQPD30  K: 266  observation_window: 365  performance_window: 150  downsample_size: 100000  GINI TRAIN: 16.39%     GINI TEST: 9.55%  time taken:  0.55\n",
      "Training for predicting (month): 4  SCORE: RISK_FPD10_MM_SCORE  target: RISK_FPD10  K: 271  observation_window: 110  performance_window: 40  downsample_size: 20000  GINI TRAIN: 13.72%     GINI TEST: 12.72%  time taken:  0.28\n",
      "Training for predicting (month): 4  SCORE: RISK_FPD30_MM_SCORE  target: RISK_FPD30  K: 36  observation_window: 90  performance_window: 60  downsample_size: 6000  GINI TRAIN: 27.83%     GINI TEST: 12.62%  time taken:  0.033\n",
      "Training for predicting (month): 4  SCORE: RISK_FSPD30_MM_SCORE  target: RISK_FSPD30  K: 66  observation_window: 60  performance_window: 90  downsample_size: 9000  GINI TRAIN: 21.97%     GINI TEST: 11.77%  time taken:  0.067\n",
      "Training for predicting (month): 4  SCORE: RISK_FSTPD30_MM_SCORE  target: RISK_FSTPD30  K: 291  observation_window: 30  performance_window: 120  downsample_size: 8000  GINI TRAIN: 13.80%     GINI TEST: 8.84%  time taken:  0.27\n"
     ]
    },
    {
     "name": "stderr",
     "output_type": "stream",
     "text": [
      "C:\\Users\\aman.khatri91425\\AppData\\Local\\Continuum\\anaconda3\\lib\\site-packages\\ipykernel_launcher.py:50: SettingWithCopyWarning: \n",
      "A value is trying to be set on a copy of a slice from a DataFrame.\n",
      "Try using .loc[row_indexer,col_indexer] = value instead\n",
      "\n",
      "See the caveats in the documentation: http://pandas.pydata.org/pandas-docs/stable/indexing.html#indexing-view-versus-copy\n"
     ]
    },
    {
     "name": "stdout",
     "output_type": "stream",
     "text": [
      "Training for predicting (month): 5  SCORE: RISK_FPD10_SCORE  target: RISK_FPD10  K: 161  observation_window: 365  performance_window: 40  downsample_size: 60000  GINI TRAIN: 17.42%     GINI TEST: 9.61%  time taken:  0.27\n",
      "Training for predicting (month): 5  SCORE: RISK_FPD30_SCORE  target: RISK_FPD30  K: 66  observation_window: 365  performance_window: 60  downsample_size: 20000  GINI TRAIN: 24.43%     GINI TEST: 13.83%  time taken:  0.067\n",
      "Training for predicting (month): 5  SCORE: RISK_FSPD30_SCORE  target: RISK_FSPD30  K: 136  observation_window: 365  performance_window: 90  downsample_size: 40000  GINI TRAIN: 20.99%     GINI TEST: 12.73%  time taken:  0.18\n",
      "Training for predicting (month): 5  SCORE: RISK_FSTPD30_SCORE  target: RISK_FSTPD30  K: 166  observation_window: 365  performance_window: 120  downsample_size: 70000  GINI TRAIN: 19.43%     GINI TEST: 10.61%  time taken:  0.3\n",
      "Training for predicting (month): 5  SCORE: RISK_FSTQPD30_SCORE  target: RISK_FSTQPD30  K: 266  observation_window: 365  performance_window: 150  downsample_size: 100000  GINI TRAIN: 16.02%     GINI TEST: 9.13%  time taken:  0.57\n",
      "Training for predicting (month): 5  SCORE: RISK_FPD10_MM_SCORE  target: RISK_FPD10  K: 271  observation_window: 110  performance_window: 40  downsample_size: 20000  GINI TRAIN: 15.14%     GINI TEST: 9.64%  time taken:  0.27\n",
      "Training for predicting (month): 5  SCORE: RISK_FPD30_MM_SCORE  target: RISK_FPD30  K: 36  observation_window: 90  performance_window: 60  downsample_size: 6000  GINI TRAIN: 29.26%     GINI TEST: 14.75%  time taken:  0.033\n",
      "Training for predicting (month): 5  SCORE: RISK_FSPD30_MM_SCORE  target: RISK_FSPD30  K: 66  observation_window: 60  performance_window: 90  downsample_size: 9000  GINI TRAIN: 23.80%     GINI TEST: 10.93%  time taken:  0.067\n",
      "Training for predicting (month): 5  SCORE: RISK_FSTPD30_MM_SCORE  target: RISK_FSTPD30  K: 291  observation_window: 30  performance_window: 120  downsample_size: 8000  GINI TRAIN: 14.87%     GINI TEST: 6.63%  time taken:  0.27\n"
     ]
    },
    {
     "name": "stderr",
     "output_type": "stream",
     "text": [
      "C:\\Users\\aman.khatri91425\\AppData\\Local\\Continuum\\anaconda3\\lib\\site-packages\\ipykernel_launcher.py:50: SettingWithCopyWarning: \n",
      "A value is trying to be set on a copy of a slice from a DataFrame.\n",
      "Try using .loc[row_indexer,col_indexer] = value instead\n",
      "\n",
      "See the caveats in the documentation: http://pandas.pydata.org/pandas-docs/stable/indexing.html#indexing-view-versus-copy\n"
     ]
    },
    {
     "name": "stdout",
     "output_type": "stream",
     "text": [
      "Training for predicting (month): 6  SCORE: RISK_FPD10_SCORE  target: RISK_FPD10  K: 161  observation_window: 365  performance_window: 40  downsample_size: 60000  GINI TRAIN: 18.41%     GINI TEST: 9.47%  time taken:  0.23\n",
      "Training for predicting (month): 6  SCORE: RISK_FPD30_SCORE  target: RISK_FPD30  K: 66  observation_window: 365  performance_window: 60  downsample_size: 20000  GINI TRAIN: 24.85%     GINI TEST: 12.65%  time taken:  0.083\n",
      "Training for predicting (month): 6  SCORE: RISK_FSPD30_SCORE  target: RISK_FSPD30  K: 136  observation_window: 365  performance_window: 90  downsample_size: 40000  GINI TRAIN: 21.32%     GINI TEST: 11.99%  time taken:  0.2\n",
      "Training for predicting (month): 6  SCORE: RISK_FSTPD30_SCORE  target: RISK_FSTPD30  K: 166  observation_window: 365  performance_window: 120  downsample_size: 70000  GINI TRAIN: 19.60%     GINI TEST: 11.09%  time taken:  0.32\n",
      "Training for predicting (month): 6  SCORE: RISK_FSTQPD30_SCORE  target: RISK_FSTQPD30  K: 266  observation_window: 365  performance_window: 150  downsample_size: 100000  GINI TRAIN: 16.07%     GINI TEST: 9.28%  time taken:  0.58\n",
      "Training for predicting (month): 6  SCORE: RISK_FPD10_MM_SCORE  target: RISK_FPD10  K: 271  observation_window: 110  performance_window: 40  downsample_size: 20000  GINI TRAIN: 16.22%     GINI TEST: 9.22%  time taken:  0.28\n",
      "Training for predicting (month): 6  SCORE: RISK_FPD30_MM_SCORE  target: RISK_FPD30  K: 36  observation_window: 90  performance_window: 60  downsample_size: 6000  GINI TRAIN: 29.81%     GINI TEST: 9.89%  time taken:  0.033\n",
      "Training for predicting (month): 6  SCORE: RISK_FSPD30_MM_SCORE  target: RISK_FSPD30  K: 66  observation_window: 60  performance_window: 90  downsample_size: 9000  GINI TRAIN: 24.50%     GINI TEST: 10.07%  time taken:  0.067\n",
      "Training for predicting (month): 6  SCORE: RISK_FSTPD30_MM_SCORE  target: RISK_FSTPD30  K: 291  observation_window: 30  performance_window: 120  downsample_size: 8000  GINI TRAIN: 16.65%     GINI TEST: 7.07%  time taken:  0.28\n"
     ]
    },
    {
     "name": "stderr",
     "output_type": "stream",
     "text": [
      "C:\\Users\\aman.khatri91425\\AppData\\Local\\Continuum\\anaconda3\\lib\\site-packages\\ipykernel_launcher.py:50: SettingWithCopyWarning: \n",
      "A value is trying to be set on a copy of a slice from a DataFrame.\n",
      "Try using .loc[row_indexer,col_indexer] = value instead\n",
      "\n",
      "See the caveats in the documentation: http://pandas.pydata.org/pandas-docs/stable/indexing.html#indexing-view-versus-copy\n"
     ]
    },
    {
     "name": "stdout",
     "output_type": "stream",
     "text": [
      "Training for predicting (month): 7  SCORE: RISK_FPD10_SCORE  target: RISK_FPD10  K: 161  observation_window: 365  performance_window: 40  downsample_size: 60000  GINI TRAIN: 17.91%     GINI TEST: 8.74%  time taken:  0.25\n",
      "Training for predicting (month): 7  SCORE: RISK_FPD30_SCORE  target: RISK_FPD30  K: 66  observation_window: 365  performance_window: 60  downsample_size: 20000  GINI TRAIN: 25.38%     GINI TEST: 11.65%  time taken:  0.083\n",
      "Training for predicting (month): 7  SCORE: RISK_FSPD30_SCORE  target: RISK_FSPD30  K: 136  observation_window: 365  performance_window: 90  downsample_size: 40000  GINI TRAIN: 21.32%     GINI TEST: 9.28%  time taken:  0.18\n",
      "Training for predicting (month): 7  SCORE: RISK_FSTPD30_SCORE  target: RISK_FSTPD30  K: 166  observation_window: 365  performance_window: 120  downsample_size: 70000  GINI TRAIN: 19.67%     GINI TEST: 8.84%  time taken:  0.28\n",
      "Training for predicting (month): 7  SCORE: RISK_FSTQPD30_SCORE  target: RISK_FSTQPD30  K: 266  observation_window: 365  performance_window: 150  downsample_size: 100000  GINI TRAIN: 16.30%     GINI TEST: 8.18%  time taken:  0.57\n",
      "Training for predicting (month): 7  SCORE: RISK_FPD10_MM_SCORE  target: RISK_FPD10  K: 271  observation_window: 110  performance_window: 40  downsample_size: 20000  GINI TRAIN: 16.36%     GINI TEST: 5.96%  time taken:  0.28\n",
      "Training for predicting (month): 7  SCORE: RISK_FPD30_MM_SCORE  target: RISK_FPD30  K: 36  observation_window: 90  performance_window: 60  downsample_size: 6000  GINI TRAIN: 29.71%     GINI TEST: 12.53%  time taken:  0.033\n",
      "Training for predicting (month): 7  SCORE: RISK_FSPD30_MM_SCORE  target: RISK_FSPD30  K: 66  observation_window: 60  performance_window: 90  downsample_size: 9000  GINI TRAIN: 24.54%     GINI TEST: 7.87%  time taken:  0.083\n",
      "Training for predicting (month): 7  SCORE: RISK_FSTPD30_MM_SCORE  target: RISK_FSTPD30  K: 291  observation_window: 30  performance_window: 120  downsample_size: 8000  GINI TRAIN: 17.14%     GINI TEST: 5.92%  time taken:  0.28\n"
     ]
    },
    {
     "name": "stderr",
     "output_type": "stream",
     "text": [
      "C:\\Users\\aman.khatri91425\\AppData\\Local\\Continuum\\anaconda3\\lib\\site-packages\\ipykernel_launcher.py:50: SettingWithCopyWarning: \n",
      "A value is trying to be set on a copy of a slice from a DataFrame.\n",
      "Try using .loc[row_indexer,col_indexer] = value instead\n",
      "\n",
      "See the caveats in the documentation: http://pandas.pydata.org/pandas-docs/stable/indexing.html#indexing-view-versus-copy\n"
     ]
    },
    {
     "name": "stdout",
     "output_type": "stream",
     "text": [
      "Training for predicting (month): 8  SCORE: RISK_FPD10_SCORE  target: RISK_FPD10  K: 161  observation_window: 365  performance_window: 40  downsample_size: 60000  GINI TRAIN: 17.60%     GINI TEST: 11.33%  time taken:  0.27\n",
      "Training for predicting (month): 8  SCORE: RISK_FPD30_SCORE  target: RISK_FPD30  K: 66  observation_window: 365  performance_window: 60  downsample_size: 20000  GINI TRAIN: 25.56%     GINI TEST: 14.10%  time taken:  0.083\n",
      "Training for predicting (month): 8  SCORE: RISK_FSPD30_SCORE  target: RISK_FSPD30  K: 136  observation_window: 365  performance_window: 90  downsample_size: 40000  GINI TRAIN: 21.71%     GINI TEST: 13.07%  time taken:  0.2\n",
      "Training for predicting (month): 8  SCORE: RISK_FSTPD30_SCORE  target: RISK_FSTPD30  K: 166  observation_window: 365  performance_window: 120  downsample_size: 70000  GINI TRAIN: 19.83%     GINI TEST: 11.82%  time taken:  0.32\n",
      "Training for predicting (month): 8  SCORE: RISK_FSTQPD30_SCORE  target: RISK_FSTQPD30  K: 266  observation_window: 365  performance_window: 150  downsample_size: 100000  GINI TRAIN: 16.91%     GINI TEST: 9.65%  time taken:  0.62\n",
      "Training for predicting (month): 8  SCORE: RISK_FPD10_MM_SCORE  target: RISK_FPD10  K: 271  observation_window: 110  performance_window: 40  downsample_size: 20000  GINI TRAIN: 16.14%     GINI TEST: 9.61%  time taken:  0.3\n",
      "Training for predicting (month): 8  SCORE: RISK_FPD30_MM_SCORE  target: RISK_FPD30  K: 36  observation_window: 90  performance_window: 60  downsample_size: 6000  GINI TRAIN: 28.10%     GINI TEST: 10.83%  time taken:  0.033\n",
      "Training for predicting (month): 8  SCORE: RISK_FSPD30_MM_SCORE  target: RISK_FSPD30  K: 66  observation_window: 60  performance_window: 90  downsample_size: 9000  GINI TRAIN: 23.51%     GINI TEST: 11.37%  time taken:  0.067\n",
      "Training for predicting (month): 8  SCORE: RISK_FSTPD30_MM_SCORE  target: RISK_FSTPD30  K: 291  observation_window: 30  performance_window: 120  downsample_size: 8000  GINI TRAIN: 16.33%     GINI TEST: 7.75%  time taken:  0.32\n"
     ]
    }
   ],
   "source": [
    "import datetime\n",
    "from sklearn.neighbors import KNeighborsClassifier\n",
    "\n",
    "df_final_test = pd.DataFrame()\n",
    "\n",
    "for x in np.arange(1,9,1):\n",
    "    date_test_start = datetime.datetime(2019, x, 1)\n",
    "    date_test_end = (date_test_start +  datetime.timedelta(days=31)).replace(day=1)\n",
    "    df_test = df[(df[\"TIME_DECISION_DATE\"]>=date_test_start) & \n",
    "                      (df[\"TIME_DECISION_DATE\"]<date_test_end)]\n",
    "\n",
    "    for y in hyper_df.index:\n",
    "#         if hyper_df.loc[y,'SCORE_NAME'] in selected_list:\n",
    "        if True:\n",
    "            score_name = hyper_df.loc[y,'SCORE_NAME']\n",
    "            target = hyper_df.loc[y,'TARGET']\n",
    "            K = hyper_df.loc[y,'K']\n",
    "            observation_window = hyper_df.loc[y,'OBSERVATION_WINDOW']\n",
    "            performance_window = hyper_df.loc[y,'PERFORMANCE_WINDOW']\n",
    "            downsample_size = hyper_df.loc[y,'DOWNSAMPLE_SIZE']\n",
    "            fillna = hyper_df.loc[y,'FILLNA']\n",
    "\n",
    "            date_train_start = (date_test_start-datetime.timedelta(days=int(performance_window))-datetime.timedelta(days=int(observation_window))) \n",
    "            date_train_end = (date_test_start-datetime.timedelta(days=int(performance_window)))\n",
    "            start_time = datetime.datetime.now()\n",
    "            df_train = df[(df[\"TIME_DECISION_DATE\"]>=date_train_start) & \n",
    "                      (df[\"TIME_DECISION_DATE\"]<date_train_end)]\n",
    "\n",
    "            df_class_0 = df_train[df_train[target] == 0]\n",
    "            df_class_1 = df_train[df_train[target] == 1]\n",
    "            df_class_0_under = df_class_0.sample(min(downsample_size,df_class_1.shape[0]))\n",
    "            df_class_1_under = df_class_1.sample(min(downsample_size,df_class_1.shape[0]))\n",
    "            df_train_under = pd.concat([df_class_0_under, df_class_1_under], axis=0)\n",
    "\n",
    "            X_train = df_train_under[[\"CUS_LAT\",\"CUS_LONG\"]]\n",
    "            X_test = df_test[[\"CUS_LAT\",\"CUS_LONG\"]]\n",
    "            y_train = df_train_under[target]\n",
    "            y_test =  df_test[target]\n",
    "\n",
    "            knn = KNeighborsClassifier(n_neighbors = K)\n",
    "            bst = knn.fit(X_train[[\"CUS_LAT\",\"CUS_LONG\"]], np.ravel(y_train))\n",
    "\n",
    "            ypred_train = bst.predict_proba(X_train[[\"CUS_LAT\",\"CUS_LONG\"]])[:, 1]\n",
    "            ypred_test = bst.predict_proba(X_test[[\"CUS_LAT\",\"CUS_LONG\"]])[:, 1]\n",
    "            metric_auc_train = metrics.roc_auc_score(y_train, ypred_train)\n",
    "            metric_auc_test = metrics.roc_auc_score(y_test, ypred_test)\n",
    "            gini_train = 2 * metric_auc_train - 1\n",
    "            gini_test = 2 * metric_auc_test - 1\n",
    "\n",
    "            df_test[score_name] = ypred_test\n",
    "            \n",
    "            df_train_under [\"G_\"+score_name] = ypred_train\n",
    "            grid_score = df_train_under[[\"GRID_ID\",\"G_\"+score_name]].groupby(\"GRID_ID\").mean()[\"G_\"+score_name].reset_index()\n",
    "            grid_score.columns = ['GRID_ID',\"G_\"+score_name]\n",
    "            \n",
    "            df_test = pd.merge(df_test, grid_score, on = 'GRID_ID', how = 'left')\n",
    "            df_test[\"G_\"+score_name]=df_test[\"G_\"+score_name].fillna(value = fillna)\n",
    "            \n",
    "            print(\"Training for predicting (month):\",date_test_start.month, \n",
    "                  \" SCORE:\",score_name,\n",
    "                  \" target:\",target,\n",
    "                  \" K:\",K,\n",
    "                  \" observation_window:\",observation_window,\n",
    "                  \" performance_window:\",performance_window,\n",
    "                  \" downsample_size:\",downsample_size,\n",
    "                  \" GINI TRAIN:\",'{:,.2%}'.format(gini_train), \"    GINI TEST:\",'{:,.2%}'.format(gini_test),\n",
    "                  \" time taken: \",'{:,.2}'.format((datetime.datetime.now()-start_time).seconds/60))\n",
    "\n",
    "\n",
    "    if df_final_test.shape == (0,0):\n",
    "        df_final_test = df_test\n",
    "    else:\n",
    "        df_final_test = pd.concat([df_final_test,df_test],ignore_index=True)\n"
   ]
  },
  {
   "cell_type": "code",
   "execution_count": 25,
   "metadata": {},
   "outputs": [
    {
     "name": "stdout",
     "output_type": "stream",
     "text": [
      "RISK_FPD10_SCORE nan\n",
      "RISK_FPD30_SCORE nan\n",
      "RISK_FSPD30_SCORE nan\n",
      "RISK_FSTPD30_SCORE nan\n",
      "RISK_FSTQPD30_SCORE nan\n",
      "RISK_FPD10_MM_SCORE nan\n",
      "RISK_FPD30_MM_SCORE nan\n",
      "RISK_FSPD30_MM_SCORE nan\n",
      "RISK_FSTPD30_MM_SCORE nan\n"
     ]
    }
   ],
   "source": [
    "for y in hyper_df.index:\n",
    "    score_name = hyper_df.loc[y,'SCORE_NAME']\n",
    "    print(score_name, df_final_test[df_final_test[\"G_\"+score_name].isna()][score_name].mean())"
   ]
  },
  {
   "cell_type": "code",
   "execution_count": 26,
   "metadata": {},
   "outputs": [
    {
     "name": "stdout",
     "output_type": "stream",
     "text": [
      "0.054169445887148227\n",
      "0.03178385814422802\n",
      "0.09436017160809285\n",
      "0.09122978420332983\n"
     ]
    }
   ],
   "source": [
    "print(2*metrics.roc_auc_score(df_final_test[\"RISK_FSTQPD30\"],df_final_test[\"RISK_FSPD30_MM_SCORE\"])-1)\n",
    "print(2*metrics.roc_auc_score(df_final_test[\"RISK_FSTQPD30\"],df_final_test[\"G_RISK_FSPD30_MM_SCORE\"])-1)\n",
    "\n",
    "print(2*metrics.roc_auc_score(df_final_test[\"RISK_FSTQPD30\"],df_final_test[\"RISK_FSTQPD30_SCORE\"])-1)\n",
    "print(2*metrics.roc_auc_score(df_final_test[\"RISK_FSTQPD30\"],df_final_test[\"G_RISK_FSTQPD30_SCORE\"])-1)"
   ]
  },
  {
   "cell_type": "code",
   "execution_count": 64,
   "metadata": {},
   "outputs": [],
   "source": [
    "df_final_test.to_pickle(os.getcwd()+r\"\\Data Files\\delinquency_scores_2019_exi.pkl\")"
   ]
  },
  {
   "cell_type": "code",
   "execution_count": 65,
   "metadata": {},
   "outputs": [],
   "source": [
    "df1 = pd.read_pickle(os.getcwd()+r\"\\Data Files\\delinquency_scores_2019.pkl\")"
   ]
  },
  {
   "cell_type": "code",
   "execution_count": 66,
   "metadata": {},
   "outputs": [],
   "source": [
    "df1.columns = ['SKP_CREDIT_CASE', 'TIME_DECISION_DATE', 'CUS_LAT', 'CUS_LONG',\n",
    "       'RISK_FPD10', 'RISK_FPD30', 'RISK_FSPD30', 'RISK_FSTPD30',\n",
    "       'RISK_FSTQPD30', 'RISK_FSTQPD60', 'NTC_FLAG', 'GRID_ID', 'RISK_SCORE',\n",
    "       'C_RISK_FPD10_SCORE', 'C_G_RISK_FPD10_SCORE', 'C_RISK_FPD30_SCORE',\n",
    "       'C_G_RISK_FPD30_SCORE', 'C_RISK_FSPD30_SCORE', 'C_G_RISK_FSPD30_SCORE',\n",
    "       'C_RISK_FSTPD30_SCORE', 'C_G_RISK_FSTPD30_SCORE', 'C_RISK_FSTQPD30_SCORE',\n",
    "       'C_G_RISK_FSTQPD30_SCORE', 'C_RISK_FPD10_MM_SCORE', 'C_G_RISK_FPD10_MM_SCORE',\n",
    "       'C_RISK_FPD30_MM_SCORE', 'C_G_RISK_FPD30_MM_SCORE', 'C_RISK_FSPD30_MM_SCORE',\n",
    "       'C_G_RISK_FSPD30_MM_SCORE', 'C_RISK_FSTPD30_MM_SCORE',\n",
    "       'C_G_RISK_FSTPD30_MM_SCORE']"
   ]
  },
  {
   "cell_type": "code",
   "execution_count": 67,
   "metadata": {},
   "outputs": [],
   "source": [
    "merge_columns = ['SKP_CREDIT_CASE', 'C_RISK_FPD10_SCORE', 'C_G_RISK_FPD10_SCORE', 'C_RISK_FPD30_SCORE',\n",
    "       'C_G_RISK_FPD30_SCORE', 'C_RISK_FSPD30_SCORE', 'C_G_RISK_FSPD30_SCORE',\n",
    "       'C_RISK_FSTPD30_SCORE', 'C_G_RISK_FSTPD30_SCORE', 'C_RISK_FSTQPD30_SCORE',\n",
    "       'C_G_RISK_FSTQPD30_SCORE', 'C_RISK_FPD10_MM_SCORE', 'C_G_RISK_FPD10_MM_SCORE',\n",
    "       'C_RISK_FPD30_MM_SCORE', 'C_G_RISK_FPD30_MM_SCORE', 'C_RISK_FSPD30_MM_SCORE',\n",
    "       'C_G_RISK_FSPD30_MM_SCORE', 'C_RISK_FSTPD30_MM_SCORE', 'C_G_RISK_FSTPD30_MM_SCORE']"
   ]
  },
  {
   "cell_type": "code",
   "execution_count": 68,
   "metadata": {},
   "outputs": [],
   "source": [
    "df= df_final_test.merge(df1[merge_columns], on = 'SKP_CREDIT_CASE',how = 'inner')"
   ]
  },
  {
   "cell_type": "code",
   "execution_count": 69,
   "metadata": {},
   "outputs": [],
   "source": [
    "df2 = pd.read_pickle(os.getcwd()+r\"\\Data Files\\emi_payment_scores_2019.pkl\")"
   ]
  },
  {
   "cell_type": "code",
   "execution_count": 70,
   "metadata": {},
   "outputs": [],
   "source": [
    "merge_columns = ['SKP_CREDIT_CASE',  'DEFAULT_FLAG_CHANGE_1', 'DEFAULT_FLAG_CHANGE_2',\n",
    "       'DEFAULT_FLAG_CHANGE_3', 'DEFAULT_FLAG_CHANGE_4',\n",
    "       'DEFAULT_FLAG_CHANGE_5', 'G_DEFAULT_FLAG_CHANGE_1',\n",
    "       'G_DEFAULT_FLAG_CHANGE_2', 'G_DEFAULT_FLAG_CHANGE_3',\n",
    "       'G_DEFAULT_FLAG_CHANGE_4', 'G_DEFAULT_FLAG_CHANGE_5',\n",
    "       'G_NO_PAYMENT_CURRENT_PAYMENT_1', 'G_NO_PAYMENT_CURRENT_PAYMENT_2',\n",
    "       'G_NO_PAYMENT_CURRENT_PAYMENT_3', 'G_NO_PAYMENT_CURRENT_PAYMENT_4',\n",
    "       'G_NO_PAYMENT_CURRENT_PAYMENT_5', 'NO_PAYMENT_CURRENT_PAYMENT_1',\n",
    "       'NO_PAYMENT_CURRENT_PAYMENT_2', 'NO_PAYMENT_CURRENT_PAYMENT_3',\n",
    "       'NO_PAYMENT_CURRENT_PAYMENT_4', 'NO_PAYMENT_CURRENT_PAYMENT_5']"
   ]
  },
  {
   "cell_type": "code",
   "execution_count": 71,
   "metadata": {},
   "outputs": [],
   "source": [
    "df= df.merge(df2[merge_columns], on = 'SKP_CREDIT_CASE',how = 'inner')"
   ]
  },
  {
   "cell_type": "code",
   "execution_count": 72,
   "metadata": {},
   "outputs": [
    {
     "data": {
      "text/html": [
       "<div>\n",
       "<style scoped>\n",
       "    .dataframe tbody tr th:only-of-type {\n",
       "        vertical-align: middle;\n",
       "    }\n",
       "\n",
       "    .dataframe tbody tr th {\n",
       "        vertical-align: top;\n",
       "    }\n",
       "\n",
       "    .dataframe thead th {\n",
       "        text-align: right;\n",
       "    }\n",
       "</style>\n",
       "<table border=\"1\" class=\"dataframe\">\n",
       "  <thead>\n",
       "    <tr style=\"text-align: right;\">\n",
       "      <th></th>\n",
       "      <th>SKP_CREDIT_CASE</th>\n",
       "      <th>TIME_DECISION_DATE</th>\n",
       "      <th>CUS_LAT</th>\n",
       "      <th>CUS_LONG</th>\n",
       "      <th>RISK_FPD10</th>\n",
       "      <th>RISK_FPD30</th>\n",
       "      <th>RISK_FSPD30</th>\n",
       "      <th>RISK_FSTPD30</th>\n",
       "      <th>RISK_FSTQPD30</th>\n",
       "      <th>RISK_FSTQPD60</th>\n",
       "      <th>...</th>\n",
       "      <th>G_NO_PAYMENT_CURRENT_PAYMENT_1</th>\n",
       "      <th>G_NO_PAYMENT_CURRENT_PAYMENT_2</th>\n",
       "      <th>G_NO_PAYMENT_CURRENT_PAYMENT_3</th>\n",
       "      <th>G_NO_PAYMENT_CURRENT_PAYMENT_4</th>\n",
       "      <th>G_NO_PAYMENT_CURRENT_PAYMENT_5</th>\n",
       "      <th>NO_PAYMENT_CURRENT_PAYMENT_1</th>\n",
       "      <th>NO_PAYMENT_CURRENT_PAYMENT_2</th>\n",
       "      <th>NO_PAYMENT_CURRENT_PAYMENT_3</th>\n",
       "      <th>NO_PAYMENT_CURRENT_PAYMENT_4</th>\n",
       "      <th>NO_PAYMENT_CURRENT_PAYMENT_5</th>\n",
       "    </tr>\n",
       "  </thead>\n",
       "  <tbody>\n",
       "    <tr>\n",
       "      <th>0</th>\n",
       "      <td>223801408</td>\n",
       "      <td>2019-02-01</td>\n",
       "      <td>9.949001</td>\n",
       "      <td>76.322291</td>\n",
       "      <td>0.0</td>\n",
       "      <td>0.0</td>\n",
       "      <td>0.0</td>\n",
       "      <td>0.0</td>\n",
       "      <td>0.0</td>\n",
       "      <td>0.0</td>\n",
       "      <td>...</td>\n",
       "      <td>0.538224</td>\n",
       "      <td>NaN</td>\n",
       "      <td>NaN</td>\n",
       "      <td>NaN</td>\n",
       "      <td>NaN</td>\n",
       "      <td>0.538462</td>\n",
       "      <td>NaN</td>\n",
       "      <td>NaN</td>\n",
       "      <td>NaN</td>\n",
       "      <td>NaN</td>\n",
       "    </tr>\n",
       "    <tr>\n",
       "      <th>1</th>\n",
       "      <td>223889993</td>\n",
       "      <td>2019-02-01</td>\n",
       "      <td>22.301551</td>\n",
       "      <td>70.826877</td>\n",
       "      <td>0.0</td>\n",
       "      <td>0.0</td>\n",
       "      <td>0.0</td>\n",
       "      <td>0.0</td>\n",
       "      <td>0.0</td>\n",
       "      <td>0.0</td>\n",
       "      <td>...</td>\n",
       "      <td>0.429592</td>\n",
       "      <td>NaN</td>\n",
       "      <td>NaN</td>\n",
       "      <td>NaN</td>\n",
       "      <td>NaN</td>\n",
       "      <td>0.427350</td>\n",
       "      <td>NaN</td>\n",
       "      <td>NaN</td>\n",
       "      <td>NaN</td>\n",
       "      <td>NaN</td>\n",
       "    </tr>\n",
       "    <tr>\n",
       "      <th>2</th>\n",
       "      <td>223889997</td>\n",
       "      <td>2019-02-01</td>\n",
       "      <td>27.187198</td>\n",
       "      <td>78.007409</td>\n",
       "      <td>0.0</td>\n",
       "      <td>0.0</td>\n",
       "      <td>0.0</td>\n",
       "      <td>0.0</td>\n",
       "      <td>0.0</td>\n",
       "      <td>0.0</td>\n",
       "      <td>...</td>\n",
       "      <td>0.545474</td>\n",
       "      <td>NaN</td>\n",
       "      <td>NaN</td>\n",
       "      <td>NaN</td>\n",
       "      <td>NaN</td>\n",
       "      <td>0.538462</td>\n",
       "      <td>NaN</td>\n",
       "      <td>NaN</td>\n",
       "      <td>NaN</td>\n",
       "      <td>NaN</td>\n",
       "    </tr>\n",
       "    <tr>\n",
       "      <th>3</th>\n",
       "      <td>223889999</td>\n",
       "      <td>2019-02-01</td>\n",
       "      <td>25.182629</td>\n",
       "      <td>75.839424</td>\n",
       "      <td>0.0</td>\n",
       "      <td>0.0</td>\n",
       "      <td>0.0</td>\n",
       "      <td>0.0</td>\n",
       "      <td>0.0</td>\n",
       "      <td>0.0</td>\n",
       "      <td>...</td>\n",
       "      <td>0.556584</td>\n",
       "      <td>NaN</td>\n",
       "      <td>NaN</td>\n",
       "      <td>NaN</td>\n",
       "      <td>NaN</td>\n",
       "      <td>0.547009</td>\n",
       "      <td>NaN</td>\n",
       "      <td>NaN</td>\n",
       "      <td>NaN</td>\n",
       "      <td>NaN</td>\n",
       "    </tr>\n",
       "    <tr>\n",
       "      <th>4</th>\n",
       "      <td>223890206</td>\n",
       "      <td>2019-02-01</td>\n",
       "      <td>28.676949</td>\n",
       "      <td>77.205724</td>\n",
       "      <td>0.0</td>\n",
       "      <td>0.0</td>\n",
       "      <td>0.0</td>\n",
       "      <td>0.0</td>\n",
       "      <td>0.0</td>\n",
       "      <td>0.0</td>\n",
       "      <td>...</td>\n",
       "      <td>0.435990</td>\n",
       "      <td>NaN</td>\n",
       "      <td>NaN</td>\n",
       "      <td>NaN</td>\n",
       "      <td>NaN</td>\n",
       "      <td>0.430199</td>\n",
       "      <td>NaN</td>\n",
       "      <td>NaN</td>\n",
       "      <td>NaN</td>\n",
       "      <td>NaN</td>\n",
       "    </tr>\n",
       "  </tbody>\n",
       "</table>\n",
       "<p>5 rows × 70 columns</p>\n",
       "</div>"
      ],
      "text/plain": [
       "   SKP_CREDIT_CASE TIME_DECISION_DATE    CUS_LAT   CUS_LONG  RISK_FPD10  \\\n",
       "0        223801408         2019-02-01   9.949001  76.322291         0.0   \n",
       "1        223889993         2019-02-01  22.301551  70.826877         0.0   \n",
       "2        223889997         2019-02-01  27.187198  78.007409         0.0   \n",
       "3        223889999         2019-02-01  25.182629  75.839424         0.0   \n",
       "4        223890206         2019-02-01  28.676949  77.205724         0.0   \n",
       "\n",
       "   RISK_FPD30  RISK_FSPD30  RISK_FSTPD30  RISK_FSTQPD30  RISK_FSTQPD60  ...  \\\n",
       "0         0.0          0.0           0.0            0.0            0.0  ...   \n",
       "1         0.0          0.0           0.0            0.0            0.0  ...   \n",
       "2         0.0          0.0           0.0            0.0            0.0  ...   \n",
       "3         0.0          0.0           0.0            0.0            0.0  ...   \n",
       "4         0.0          0.0           0.0            0.0            0.0  ...   \n",
       "\n",
       "  G_NO_PAYMENT_CURRENT_PAYMENT_1 G_NO_PAYMENT_CURRENT_PAYMENT_2  \\\n",
       "0                       0.538224                            NaN   \n",
       "1                       0.429592                            NaN   \n",
       "2                       0.545474                            NaN   \n",
       "3                       0.556584                            NaN   \n",
       "4                       0.435990                            NaN   \n",
       "\n",
       "   G_NO_PAYMENT_CURRENT_PAYMENT_3 G_NO_PAYMENT_CURRENT_PAYMENT_4  \\\n",
       "0                             NaN                            NaN   \n",
       "1                             NaN                            NaN   \n",
       "2                             NaN                            NaN   \n",
       "3                             NaN                            NaN   \n",
       "4                             NaN                            NaN   \n",
       "\n",
       "   G_NO_PAYMENT_CURRENT_PAYMENT_5  NO_PAYMENT_CURRENT_PAYMENT_1  \\\n",
       "0                             NaN                      0.538462   \n",
       "1                             NaN                      0.427350   \n",
       "2                             NaN                      0.538462   \n",
       "3                             NaN                      0.547009   \n",
       "4                             NaN                      0.430199   \n",
       "\n",
       "   NO_PAYMENT_CURRENT_PAYMENT_2  NO_PAYMENT_CURRENT_PAYMENT_3  \\\n",
       "0                           NaN                           NaN   \n",
       "1                           NaN                           NaN   \n",
       "2                           NaN                           NaN   \n",
       "3                           NaN                           NaN   \n",
       "4                           NaN                           NaN   \n",
       "\n",
       "   NO_PAYMENT_CURRENT_PAYMENT_4  NO_PAYMENT_CURRENT_PAYMENT_5  \n",
       "0                           NaN                           NaN  \n",
       "1                           NaN                           NaN  \n",
       "2                           NaN                           NaN  \n",
       "3                           NaN                           NaN  \n",
       "4                           NaN                           NaN  \n",
       "\n",
       "[5 rows x 70 columns]"
      ]
     },
     "execution_count": 72,
     "metadata": {},
     "output_type": "execute_result"
    }
   ],
   "source": [
    "df.head()"
   ]
  },
  {
   "cell_type": "code",
   "execution_count": 73,
   "metadata": {},
   "outputs": [
    {
     "data": {
      "text/plain": [
       "(1347030, 70)"
      ]
     },
     "execution_count": 73,
     "metadata": {},
     "output_type": "execute_result"
    }
   ],
   "source": [
    "df.shape"
   ]
  },
  {
   "cell_type": "code",
   "execution_count": 74,
   "metadata": {},
   "outputs": [],
   "source": [
    "scores_columns= [x for x in df.columns if 'SCORE' in x and 'G' in x]\n",
    "scores_columns = scores_columns + ['G_NO_PAYMENT_CURRENT_PAYMENT_1', 'G_NO_PAYMENT_CURRENT_PAYMENT_2',\n",
    "        'G_DEFAULT_FLAG_CHANGE_1', 'G_DEFAULT_FLAG_CHANGE_2']"
   ]
  },
  {
   "cell_type": "markdown",
   "metadata": {},
   "source": [
    "# Convert All Scores to Logit"
   ]
  },
  {
   "cell_type": "code",
   "execution_count": 75,
   "metadata": {},
   "outputs": [],
   "source": [
    "df.dropna(subset = ['RISK_SCORE'], inplace = True)\n",
    "for y in scores_columns:\n",
    "    df[\"LOGIT_\"+y] = [np.log(x/(1-x)) for x in df[y]]"
   ]
  },
  {
   "cell_type": "code",
   "execution_count": 78,
   "metadata": {},
   "outputs": [],
   "source": [
    "logit_columns= [x for x in df.columns if 'LOGIT' in x]"
   ]
  },
  {
   "cell_type": "code",
   "execution_count": 79,
   "metadata": {},
   "outputs": [],
   "source": [
    "from sklearn.model_selection import train_test_split\n",
    "from sklearn.model_selection import RandomizedSearchCV\n",
    "from sklearn.linear_model import LogisticRegression"
   ]
  },
  {
   "cell_type": "code",
   "execution_count": 80,
   "metadata": {},
   "outputs": [],
   "source": [
    "df_train = df[(df[\"TIME_DECISION_DATE\"]>=datetime.datetime(2019,3,1)) \n",
    "               & (df[\"TIME_DECISION_DATE\"]<=datetime.datetime(2019,4,30))]\n",
    "df_test = df[(df[\"TIME_DECISION_DATE\"]>=datetime.datetime(2019,5,1)) \n",
    "               & (df[\"TIME_DECISION_DATE\"]<=datetime.datetime(2019,8,30))]"
   ]
  },
  {
   "cell_type": "markdown",
   "metadata": {},
   "source": [
    "# Use Forward Selection"
   ]
  },
  {
   "cell_type": "code",
   "execution_count": 81,
   "metadata": {},
   "outputs": [
    {
     "name": "stdout",
     "output_type": "stream",
     "text": [
      "Cross validation will be used for the training sample.\n",
      "Iteration  0\n",
      "set()\n",
      "Achieved Gini:  0\n",
      "Iteration  1\n",
      "{'LOGIT_C_G_RISK_FSTQPD30_SCORE'}\n",
      "Achieved Gini:  10.595040511041788\n",
      "Iteration  2\n",
      "{'LOGIT_C_G_RISK_FSTQPD30_SCORE', 'LOGIT_C_G_RISK_FPD10_SCORE'}\n",
      "Achieved Gini:  11.214493225978629\n",
      "Iteration  3\n",
      "{'LOGIT_C_G_RISK_FPD30_SCORE', 'LOGIT_C_G_RISK_FSTQPD30_SCORE', 'LOGIT_C_G_RISK_FPD10_SCORE'}\n",
      "Achieved Gini:  11.346321629589056\n",
      "Iteration  4\n",
      "{'LOGIT_C_G_RISK_FPD30_SCORE', 'LOGIT_G_NO_PAYMENT_CURRENT_PAYMENT_2', 'LOGIT_C_G_RISK_FSTQPD30_SCORE', 'LOGIT_C_G_RISK_FPD10_SCORE'}\n",
      "Achieved Gini:  11.413959555709297\n",
      "Iteration  5\n",
      "{'LOGIT_C_G_RISK_FPD30_SCORE', 'LOGIT_C_G_RISK_FSTQPD30_SCORE', 'LOGIT_G_NO_PAYMENT_CURRENT_PAYMENT_2', 'LOGIT_C_G_RISK_FPD10_MM_SCORE', 'LOGIT_C_G_RISK_FPD10_SCORE'}\n",
      "Achieved Gini:  11.529223170971804\n",
      "Iteration  6\n",
      "{'LOGIT_C_G_RISK_FPD30_SCORE', 'LOGIT_C_G_RISK_FSTQPD30_SCORE', 'LOGIT_G_DEFAULT_FLAG_CHANGE_1', 'LOGIT_G_NO_PAYMENT_CURRENT_PAYMENT_2', 'LOGIT_C_G_RISK_FPD10_MM_SCORE', 'LOGIT_C_G_RISK_FPD10_SCORE'}\n",
      "Achieved Gini:  11.593695771432095\n",
      "Iteration  7\n",
      "{'LOGIT_C_G_RISK_FPD30_SCORE', 'LOGIT_C_G_RISK_FSTQPD30_SCORE', 'LOGIT_G_DEFAULT_FLAG_CHANGE_1', 'LOGIT_G_NO_PAYMENT_CURRENT_PAYMENT_2', 'LOGIT_C_G_RISK_FPD10_MM_SCORE', 'LOGIT_C_G_RISK_FPD10_SCORE'}\n",
      "Achieved Gini:  11.593695771432095\n"
     ]
    },
    {
     "data": {
      "text/plain": [
       "GiniStepwiseLogit(C=100000000000.0, beta_sgn_criterion=False,\n",
       "         correlation_sample=10000, cv_folds=3, cv_seed=98765,\n",
       "         initial_predictors=set(), max_correlation=1, max_decrease=0.025,\n",
       "         max_iter=1000, max_predictors=0, min_increase=0.05, penalty='l2',\n",
       "         selection_method='stepwise', use_cv=True)"
      ]
     },
     "execution_count": 81,
     "metadata": {},
     "output_type": "execute_result"
    }
   ],
   "source": [
    "import sys\n",
    "sys.path.append(r\"C:\\Users\\aman.khatri91425\\Desktop\\HomeCredit\\Bigdata\\Scoring Worlflow\")\n",
    "from scoring.model_selection import GiniStepwiseLogit\n",
    "\n",
    "modelSW = GiniStepwiseLogit(initial_predictors = set(),\n",
    "                            max_iter=1000,\n",
    "                            min_increase=0.05,\n",
    "                            max_decrease=0.025,\n",
    "                            max_predictors=0, \n",
    "                            max_correlation=1, \n",
    "                            beta_sgn_criterion=False, \n",
    "                            penalty='l2', C=10e10, \n",
    "                            correlation_sample=10000,\n",
    "                            selection_method='stepwise',\n",
    "                            use_cv=True,\n",
    "                            cv_folds=3, \n",
    "                            cv_seed=98765)\n",
    "\n",
    "modelSW.fit(df_train[logit_columns], df_train['RISK_FSTQPD30']\n",
    "       # ,sample_weight = data[train_mask][col_weight], sample_weight_valid = data[valid_mask][col_weight]\n",
    "       )"
   ]
  },
  {
   "cell_type": "code",
   "execution_count": 114,
   "metadata": {},
   "outputs": [],
   "source": [
    "imp =['LOGIT_C_G_RISK_FPD30_SCORE', 'LOGIT_C_G_RISK_FSTQPD30_SCORE', 'LOGIT_G_DEFAULT_FLAG_CHANGE_1', 'LOGIT_G_NO_PAYMENT_CURRENT_PAYMENT_2', 'LOGIT_C_G_RISK_FPD10_MM_SCORE', 'LOGIT_C_G_RISK_FPD10_SCORE']"
   ]
  },
  {
   "cell_type": "markdown",
   "metadata": {},
   "source": [
    "# Generate final combined Score"
   ]
  },
  {
   "cell_type": "code",
   "execution_count": 122,
   "metadata": {},
   "outputs": [],
   "source": [
    "model= LogisticRegression(penalty = 'l1' , C=1)"
   ]
  },
  {
   "cell_type": "code",
   "execution_count": 123,
   "metadata": {},
   "outputs": [
    {
     "name": "stderr",
     "output_type": "stream",
     "text": [
      "C:\\Users\\aman.khatri91425\\AppData\\Local\\Continuum\\anaconda3\\lib\\site-packages\\sklearn\\linear_model\\logistic.py:433: FutureWarning: Default solver will be changed to 'lbfgs' in 0.22. Specify a solver to silence this warning.\n",
      "  FutureWarning)\n"
     ]
    },
    {
     "data": {
      "text/plain": [
       "LogisticRegression(C=1, class_weight=None, dual=False, fit_intercept=True,\n",
       "          intercept_scaling=1, max_iter=100, multi_class='warn',\n",
       "          n_jobs=None, penalty='l1', random_state=None, solver='warn',\n",
       "          tol=0.0001, verbose=0, warm_start=False)"
      ]
     },
     "execution_count": 123,
     "metadata": {},
     "output_type": "execute_result"
    }
   ],
   "source": [
    "model.fit(df_train[imp], df_train[\"RISK_FSTQPD30\"])"
   ]
  },
  {
   "cell_type": "code",
   "execution_count": 128,
   "metadata": {},
   "outputs": [
    {
     "data": {
      "text/html": [
       "<div>\n",
       "<style scoped>\n",
       "    .dataframe tbody tr th:only-of-type {\n",
       "        vertical-align: middle;\n",
       "    }\n",
       "\n",
       "    .dataframe tbody tr th {\n",
       "        vertical-align: top;\n",
       "    }\n",
       "\n",
       "    .dataframe thead th {\n",
       "        text-align: right;\n",
       "    }\n",
       "</style>\n",
       "<table border=\"1\" class=\"dataframe\">\n",
       "  <thead>\n",
       "    <tr style=\"text-align: right;\">\n",
       "      <th></th>\n",
       "      <th>coeff</th>\n",
       "      <th>logit_columns</th>\n",
       "    </tr>\n",
       "  </thead>\n",
       "  <tbody>\n",
       "    <tr>\n",
       "      <th>0</th>\n",
       "      <td>0.133694</td>\n",
       "      <td>LOGIT_C_G_RISK_FPD30_SCORE</td>\n",
       "    </tr>\n",
       "    <tr>\n",
       "      <th>1</th>\n",
       "      <td>0.253384</td>\n",
       "      <td>LOGIT_C_G_RISK_FSTQPD30_SCORE</td>\n",
       "    </tr>\n",
       "    <tr>\n",
       "      <th>2</th>\n",
       "      <td>0.138207</td>\n",
       "      <td>LOGIT_G_DEFAULT_FLAG_CHANGE_1</td>\n",
       "    </tr>\n",
       "    <tr>\n",
       "      <th>3</th>\n",
       "      <td>0.298317</td>\n",
       "      <td>LOGIT_G_NO_PAYMENT_CURRENT_PAYMENT_2</td>\n",
       "    </tr>\n",
       "    <tr>\n",
       "      <th>4</th>\n",
       "      <td>0.189856</td>\n",
       "      <td>LOGIT_C_G_RISK_FPD10_MM_SCORE</td>\n",
       "    </tr>\n",
       "    <tr>\n",
       "      <th>5</th>\n",
       "      <td>0.163698</td>\n",
       "      <td>LOGIT_C_G_RISK_FPD10_SCORE</td>\n",
       "    </tr>\n",
       "  </tbody>\n",
       "</table>\n",
       "</div>"
      ],
      "text/plain": [
       "      coeff                         logit_columns\n",
       "0  0.133694            LOGIT_C_G_RISK_FPD30_SCORE\n",
       "1  0.253384         LOGIT_C_G_RISK_FSTQPD30_SCORE\n",
       "2  0.138207         LOGIT_G_DEFAULT_FLAG_CHANGE_1\n",
       "3  0.298317  LOGIT_G_NO_PAYMENT_CURRENT_PAYMENT_2\n",
       "4  0.189856         LOGIT_C_G_RISK_FPD10_MM_SCORE\n",
       "5  0.163698            LOGIT_C_G_RISK_FPD10_SCORE"
      ]
     },
     "execution_count": 128,
     "metadata": {},
     "output_type": "execute_result"
    }
   ],
   "source": [
    "pd.DataFrame({'coeff': model.coef_[0], 'logit_columns': imp})"
   ]
  },
  {
   "cell_type": "code",
   "execution_count": 129,
   "metadata": {},
   "outputs": [
    {
     "data": {
      "text/plain": [
       "array([-2.7974444])"
      ]
     },
     "execution_count": 129,
     "metadata": {},
     "output_type": "execute_result"
    }
   ],
   "source": [
    "model.intercept_"
   ]
  },
  {
   "cell_type": "code",
   "execution_count": 126,
   "metadata": {},
   "outputs": [
    {
     "name": "stdout",
     "output_type": "stream",
     "text": [
      "0.09314071186069173\n"
     ]
    }
   ],
   "source": [
    "print(2*metrics.roc_auc_score(df_test['RISK_FSTQPD30'],model.predict_proba(df_test[imp])[:,1])-1)"
   ]
  },
  {
   "cell_type": "code",
   "execution_count": 127,
   "metadata": {},
   "outputs": [
    {
     "name": "stdout",
     "output_type": "stream",
     "text": [
      "0.09242593390040721\n"
     ]
    }
   ],
   "source": [
    "print(2*metrics.roc_auc_score(df_test['RISK_FSTQPD30'],df_test['C_RISK_FSTQPD30_SCORE'])-1)"
   ]
  },
  {
   "cell_type": "code",
   "execution_count": 121,
   "metadata": {},
   "outputs": [
    {
     "data": {
      "text/plain": [
       "22"
      ]
     },
     "execution_count": 121,
     "metadata": {},
     "output_type": "execute_result"
    }
   ],
   "source": [
    "len(logit_columns)"
   ]
  },
  {
   "cell_type": "code",
   "execution_count": 97,
   "metadata": {},
   "outputs": [],
   "source": [
    "#Save Combined Score for 2nd to 8th Month"
   ]
  },
  {
   "cell_type": "code",
   "execution_count": 135,
   "metadata": {},
   "outputs": [],
   "source": [
    "df1= df[df[\"TIME_DECISION_DATE\"]>=datetime.datetime(2019,3,1)][[\"SKP_CREDIT_CASE\",\"TIME_DECISION_DATE\",\n",
    "                                                               \"CUS_LAT\",\"CUS_LONG\",\"GRID_ID\",\"RISK_FSTQPD30\",\"RISK_SCORE\",\n",
    "                                                              'NO_PAYMENT_CURRENT_PAYMENT_1','C_RISK_FPD10_SCORE',\n",
    "                                                                'C_RISK_FPD10_MM_SCORE','NO_PAYMENT_CURRENT_PAYMENT_2',\n",
    "                                                                'DEFAULT_FLAG_CHANGE_1','C_RISK_FSTQPD30_SCORE',\n",
    "                                                                'C_RISK_FPD30_SCORE','G_NO_PAYMENT_CURRENT_PAYMENT_1',\n",
    "                                                                'C_G_RISK_FPD10_SCORE','C_G_RISK_FPD10_MM_SCORE','G_NO_PAYMENT_CURRENT_PAYMENT_2',\n",
    "                                                                'G_DEFAULT_FLAG_CHANGE_1','C_G_RISK_FSTQPD30_SCORE','C_G_RISK_FPD30_SCORE',\n",
    "                                                                'LOGIT_G_NO_PAYMENT_CURRENT_PAYMENT_1','LOGIT_C_G_RISK_FPD10_SCORE',\n",
    "                                                                'LOGIT_C_G_RISK_FPD10_MM_SCORE','LOGIT_G_NO_PAYMENT_CURRENT_PAYMENT_2',\n",
    "                                                                'LOGIT_G_DEFAULT_FLAG_CHANGE_1','LOGIT_C_G_RISK_FSTQPD30_SCORE','LOGIT_C_G_RISK_FPD30_SCORE'\n",
    "                                                              ]]"
   ]
  },
  {
   "cell_type": "code",
   "execution_count": 137,
   "metadata": {},
   "outputs": [],
   "source": [
    "df1[\"COMBINED_SCORE_KNN\"] = model.predict_proba(df1[imp])[:,1]"
   ]
  },
  {
   "cell_type": "code",
   "execution_count": 3,
   "metadata": {},
   "outputs": [
    {
     "ename": "NameError",
     "evalue": "name 'df1' is not defined",
     "output_type": "error",
     "traceback": [
      "\u001b[1;31m---------------------------------------------------------------------------\u001b[0m",
      "\u001b[1;31mNameError\u001b[0m                                 Traceback (most recent call last)",
      "\u001b[1;32m<ipython-input-3-416de534e21c>\u001b[0m in \u001b[0;36m<module>\u001b[1;34m\u001b[0m\n\u001b[0;32m      4\u001b[0m               \u001b[0mdf1\u001b[0m\u001b[1;33m[\u001b[0m\u001b[1;34m\"LOGIT_G_NO_PAYMENT_CURRENT_PAYMENT_2\"\u001b[0m\u001b[1;33m]\u001b[0m\u001b[1;33m*\u001b[0m\u001b[1;36m0.298317\u001b[0m \u001b[1;33m+\u001b[0m\u001b[1;33m\u001b[0m\u001b[1;33m\u001b[0m\u001b[0m\n\u001b[0;32m      5\u001b[0m               \u001b[0mdf1\u001b[0m\u001b[1;33m[\u001b[0m\u001b[1;34m\"LOGIT_C_G_RISK_FPD10_MM_SCORE\"\u001b[0m\u001b[1;33m]\u001b[0m\u001b[1;33m*\u001b[0m\u001b[1;36m0.189856\u001b[0m \u001b[1;33m+\u001b[0m\u001b[1;33m\u001b[0m\u001b[1;33m\u001b[0m\u001b[0m\n\u001b[1;32m----> 6\u001b[1;33m               df1[\"C_G_RISK_FPD10_SCORE\"]*0.163698 +  -2.7974444)))\n\u001b[0m",
      "\u001b[1;31mNameError\u001b[0m: name 'df1' is not defined"
     ]
    }
   ],
   "source": [
    "df1[\"COMBINED_SCORE_KNN\"] = 1/(1+np.exp(-(df1[\"LOGIT_C_G_RISK_FPD30_SCORE\"]*0.133694+ \n",
    "              df1[\"LOGIT_C_G_RISK_FSTQPD30_SCORE\"]*0.253384 +\n",
    "              df1[\"LOGIT_G_DEFAULT_FLAG_CHANGE_1\"]*0.138207 +\n",
    "              df1[\"LOGIT_G_NO_PAYMENT_CURRENT_PAYMENT_2\"]*0.298317 +\n",
    "              df1[\"LOGIT_C_G_RISK_FPD10_MM_SCORE\"]*0.189856 +\n",
    "              df1[\"LOGIT_C_G_RISK_FPD10_SCORE\"]*0.163698 +  -2.7974444)))"
   ]
  },
  {
   "cell_type": "code",
   "execution_count": 140,
   "metadata": {},
   "outputs": [
    {
     "name": "stdout",
     "output_type": "stream",
     "text": [
      "GINI COMBINED:  9.86%\n"
     ]
    }
   ],
   "source": [
    "print(\"GINI COMBINED: \",'{:,.2%}'.format(2 * metrics.roc_auc_score(df1[\"RISK_FSTQPD30\"], df1[\"COMBINED_SCORE_KNN\"]) - 1))"
   ]
  },
  {
   "cell_type": "code",
   "execution_count": 1,
   "metadata": {},
   "outputs": [],
   "source": [
    "import numpy as np\n",
    "default_score = 1/(1+np.exp(-(np.log(0.512941/(1-0.512941))*0.163698+ \n",
    "              np.log(0.491616/(1-0.491616))*0.133694 +\n",
    "              np.log(0.526039/(1-0.526039))*0.253384 +\n",
    "              np.log(0.496491/(1-0.496491))*0.189856 +\n",
    "              np.log(0.540940336/(1-0.540940336))*0.138207 +\n",
    "              np.log(0.482747204/(1-0.482747204))*0.298317 +  -2.7974444)))"
   ]
  },
  {
   "cell_type": "code",
   "execution_count": 2,
   "metadata": {},
   "outputs": [
    {
     "data": {
      "text/plain": [
       "0.05909955379812824"
      ]
     },
     "execution_count": 2,
     "metadata": {},
     "output_type": "execute_result"
    }
   ],
   "source": [
    "default_score"
   ]
  },
  {
   "cell_type": "code",
   "execution_count": 4,
   "metadata": {},
   "outputs": [
    {
     "data": {
      "text/plain": [
       "2.302585092994046"
      ]
     },
     "execution_count": 4,
     "metadata": {},
     "output_type": "execute_result"
    }
   ],
   "source": [
    "np.log(10)"
   ]
  },
  {
   "cell_type": "markdown",
   "metadata": {},
   "source": [
    "# Create combined Score with RISK Score"
   ]
  },
  {
   "cell_type": "code",
   "execution_count": 141,
   "metadata": {},
   "outputs": [],
   "source": [
    "df1[\"LOGIT_RISK_SCORE\"] = [np.log(x/(1-x)) for x in df1[\"RISK_SCORE\"]]\n",
    "df1[\"LOGIT_COMBINED_SCORE_KNN\"] = [np.log(x/(1-x)) for x in df1[\"COMBINED_SCORE_KNN\"]]\n"
   ]
  },
  {
   "cell_type": "code",
   "execution_count": 142,
   "metadata": {},
   "outputs": [],
   "source": [
    "model= LogisticRegression(penalty = 'l1' , C=1)"
   ]
  },
  {
   "cell_type": "code",
   "execution_count": 143,
   "metadata": {},
   "outputs": [
    {
     "name": "stderr",
     "output_type": "stream",
     "text": [
      "C:\\Users\\aman.khatri91425\\AppData\\Local\\Continuum\\anaconda3\\lib\\site-packages\\sklearn\\linear_model\\logistic.py:433: FutureWarning: Default solver will be changed to 'lbfgs' in 0.22. Specify a solver to silence this warning.\n",
      "  FutureWarning)\n"
     ]
    },
    {
     "data": {
      "text/plain": [
       "LogisticRegression(C=1, class_weight=None, dual=False, fit_intercept=True,\n",
       "          intercept_scaling=1, max_iter=100, multi_class='warn',\n",
       "          n_jobs=None, penalty='l1', random_state=None, solver='warn',\n",
       "          tol=0.0001, verbose=0, warm_start=False)"
      ]
     },
     "execution_count": 143,
     "metadata": {},
     "output_type": "execute_result"
    }
   ],
   "source": [
    "model.fit(df1[df1[\"TIME_DECISION_DATE\"]<datetime.datetime(2019,5,1)][[\"LOGIT_RISK_SCORE\",\"LOGIT_COMBINED_SCORE_KNN\"]], df1[df1[\"TIME_DECISION_DATE\"]<datetime.datetime(2019,5,1)][\"RISK_FSTQPD30\"])"
   ]
  },
  {
   "cell_type": "code",
   "execution_count": 144,
   "metadata": {},
   "outputs": [
    {
     "data": {
      "text/html": [
       "<div>\n",
       "<style scoped>\n",
       "    .dataframe tbody tr th:only-of-type {\n",
       "        vertical-align: middle;\n",
       "    }\n",
       "\n",
       "    .dataframe tbody tr th {\n",
       "        vertical-align: top;\n",
       "    }\n",
       "\n",
       "    .dataframe thead th {\n",
       "        text-align: right;\n",
       "    }\n",
       "</style>\n",
       "<table border=\"1\" class=\"dataframe\">\n",
       "  <thead>\n",
       "    <tr style=\"text-align: right;\">\n",
       "      <th></th>\n",
       "      <th>coeff</th>\n",
       "      <th>logit_columns</th>\n",
       "    </tr>\n",
       "  </thead>\n",
       "  <tbody>\n",
       "    <tr>\n",
       "      <th>0</th>\n",
       "      <td>0.943849</td>\n",
       "      <td>LOGIT_RISK_SCORE</td>\n",
       "    </tr>\n",
       "    <tr>\n",
       "      <th>1</th>\n",
       "      <td>0.791181</td>\n",
       "      <td>LOGIT_COMBINED_SCORE_KNN</td>\n",
       "    </tr>\n",
       "  </tbody>\n",
       "</table>\n",
       "</div>"
      ],
      "text/plain": [
       "      coeff             logit_columns\n",
       "0  0.943849          LOGIT_RISK_SCORE\n",
       "1  0.791181  LOGIT_COMBINED_SCORE_KNN"
      ]
     },
     "execution_count": 144,
     "metadata": {},
     "output_type": "execute_result"
    }
   ],
   "source": [
    "pd.DataFrame({'coeff': model.coef_[0], 'logit_columns': [\"LOGIT_RISK_SCORE\",\"LOGIT_COMBINED_SCORE_KNN\"] })"
   ]
  },
  {
   "cell_type": "code",
   "execution_count": 145,
   "metadata": {},
   "outputs": [
    {
     "data": {
      "text/plain": [
       "array([2.69028934])"
      ]
     },
     "execution_count": 145,
     "metadata": {},
     "output_type": "execute_result"
    }
   ],
   "source": [
    "model.intercept_"
   ]
  },
  {
   "cell_type": "code",
   "execution_count": 147,
   "metadata": {},
   "outputs": [],
   "source": [
    "df1[\"COMBINED_SCORE\"] = model.predict_proba(df1[[\"LOGIT_RISK_SCORE\",\"LOGIT_COMBINED_SCORE_KNN\"]])[:,1]"
   ]
  },
  {
   "cell_type": "code",
   "execution_count": 150,
   "metadata": {},
   "outputs": [],
   "source": [
    "df1[\"COMBINED_SCORE\"] = 1/(1+np.exp(-(df1[\"LOGIT_RISK_SCORE\"]*0.943849+ \n",
    "              df1[\"LOGIT_COMBINED_SCORE_KNN\"]*0.791181 + 2.69028934)))"
   ]
  },
  {
   "cell_type": "code",
   "execution_count": 151,
   "metadata": {},
   "outputs": [
    {
     "name": "stdout",
     "output_type": "stream",
     "text": [
      "GINI COMBINED:  37.75%\n",
      "GINI HC:  37.18%\n"
     ]
    }
   ],
   "source": [
    "print(\"GINI COMBINED: \",'{:,.2%}'.format(2 * metrics.roc_auc_score(df1[\"RISK_FSTQPD30\"], df1[\"COMBINED_SCORE\"]) - 1))\n",
    "print(\"GINI HC: \",'{:,.2%}'.format(2 * metrics.roc_auc_score(df1[\"RISK_FSTQPD30\"], df1[\"RISK_SCORE\"]) - 1))"
   ]
  },
  {
   "cell_type": "markdown",
   "metadata": {},
   "source": [
    "# Correct Scaling of RISK Score"
   ]
  },
  {
   "cell_type": "code",
   "execution_count": 153,
   "metadata": {},
   "outputs": [],
   "source": [
    "df1[\"LOGIT_RISK_SCORE\"] = [np.log(x/(1-x)) for x in df1[\"RISK_SCORE\"]]\n",
    "df1[\"LOGIT_COMBINED_SCORE_KNN\"] = [np.log(x/(1-x)) for x in df1[\"COMBINED_SCORE_KNN\"]]\n"
   ]
  },
  {
   "cell_type": "code",
   "execution_count": 154,
   "metadata": {},
   "outputs": [],
   "source": [
    "model= LogisticRegression(penalty = 'l1' , C=1)"
   ]
  },
  {
   "cell_type": "code",
   "execution_count": 155,
   "metadata": {},
   "outputs": [
    {
     "name": "stderr",
     "output_type": "stream",
     "text": [
      "C:\\Users\\aman.khatri91425\\AppData\\Local\\Continuum\\anaconda3\\lib\\site-packages\\sklearn\\linear_model\\logistic.py:433: FutureWarning: Default solver will be changed to 'lbfgs' in 0.22. Specify a solver to silence this warning.\n",
      "  FutureWarning)\n"
     ]
    },
    {
     "data": {
      "text/plain": [
       "LogisticRegression(C=1, class_weight=None, dual=False, fit_intercept=True,\n",
       "          intercept_scaling=1, max_iter=100, multi_class='warn',\n",
       "          n_jobs=None, penalty='l1', random_state=None, solver='warn',\n",
       "          tol=0.0001, verbose=0, warm_start=False)"
      ]
     },
     "execution_count": 155,
     "metadata": {},
     "output_type": "execute_result"
    }
   ],
   "source": [
    "model.fit(df1[df1[\"TIME_DECISION_DATE\"]<datetime.datetime(2019,5,1)][[\"LOGIT_RISK_SCORE\"]], df1[df1[\"TIME_DECISION_DATE\"]<datetime.datetime(2019,5,1)][\"RISK_FSTQPD30\"])"
   ]
  },
  {
   "cell_type": "code",
   "execution_count": 157,
   "metadata": {},
   "outputs": [
    {
     "data": {
      "text/html": [
       "<div>\n",
       "<style scoped>\n",
       "    .dataframe tbody tr th:only-of-type {\n",
       "        vertical-align: middle;\n",
       "    }\n",
       "\n",
       "    .dataframe tbody tr th {\n",
       "        vertical-align: top;\n",
       "    }\n",
       "\n",
       "    .dataframe thead th {\n",
       "        text-align: right;\n",
       "    }\n",
       "</style>\n",
       "<table border=\"1\" class=\"dataframe\">\n",
       "  <thead>\n",
       "    <tr style=\"text-align: right;\">\n",
       "      <th></th>\n",
       "      <th>coeff</th>\n",
       "      <th>logit_columns</th>\n",
       "    </tr>\n",
       "  </thead>\n",
       "  <tbody>\n",
       "    <tr>\n",
       "      <th>0</th>\n",
       "      <td>0.951458</td>\n",
       "      <td>LOGIT_RISK_SCORE</td>\n",
       "    </tr>\n",
       "  </tbody>\n",
       "</table>\n",
       "</div>"
      ],
      "text/plain": [
       "      coeff     logit_columns\n",
       "0  0.951458  LOGIT_RISK_SCORE"
      ]
     },
     "execution_count": 157,
     "metadata": {},
     "output_type": "execute_result"
    }
   ],
   "source": [
    "pd.DataFrame({'coeff': model.coef_[0], 'logit_columns': [\"LOGIT_RISK_SCORE\"] })"
   ]
  },
  {
   "cell_type": "code",
   "execution_count": 158,
   "metadata": {},
   "outputs": [
    {
     "data": {
      "text/plain": [
       "array([0.45331401])"
      ]
     },
     "execution_count": 158,
     "metadata": {},
     "output_type": "execute_result"
    }
   ],
   "source": [
    "model.intercept_"
   ]
  },
  {
   "cell_type": "code",
   "execution_count": 159,
   "metadata": {},
   "outputs": [],
   "source": [
    "df1[\"RISK_SCORE_SCALED\"] = model.predict_proba(df1[[\"LOGIT_RISK_SCORE\"]])[:,1]"
   ]
  },
  {
   "cell_type": "code",
   "execution_count": 160,
   "metadata": {},
   "outputs": [],
   "source": [
    "df1.to_pickle(os.getcwd()+\"\\Data Files\\Combined Score_exi.pkl\")"
   ]
  },
  {
   "cell_type": "code",
   "execution_count": null,
   "metadata": {},
   "outputs": [],
   "source": []
  }
 ],
 "metadata": {
  "kernelspec": {
   "display_name": "Python 3",
   "language": "python",
   "name": "python3"
  },
  "language_info": {
   "codemirror_mode": {
    "name": "ipython",
    "version": 3
   },
   "file_extension": ".py",
   "mimetype": "text/x-python",
   "name": "python",
   "nbconvert_exporter": "python",
   "pygments_lexer": "ipython3",
   "version": "3.7.3"
  }
 },
 "nbformat": 4,
 "nbformat_minor": 2
}
