{
 "cells": [
  {
   "cell_type": "code",
   "execution_count": 1,
   "metadata": {},
   "outputs": [],
   "source": [
    "import os\n",
    "import cx_Oracle\n",
    "import pandas as pd\n",
    "import numpy as np\n",
    "import pickle\n",
    "from datetime import date,datetime\n",
    "from sklearn import metrics\n",
    "from sklearn.model_selection import train_test_split, StratifiedKFold, RandomizedSearchCV, cross_val_score \n",
    "import time\n",
    "import matplotlib.pyplot as plt\n",
    "from sklearn.utils import resample\n",
    "import datetime"
   ]
  },
  {
   "cell_type": "code",
   "execution_count": 2,
   "metadata": {},
   "outputs": [],
   "source": [
    "#connection = cx_Oracle.connect('HCIN_GUPTAN1[AP_UWI]/aGqQ4jnX92NG@INCL02.IN.PROD/HWIN_USR_DEV.HOMECREDIT.IN')\n",
    "#cursor = connection.cursor()\n",
    "#os.chdir(r\"C:\\Users\\aman.khatri91425\\Desktop\\HomeCredit\\Bigdata\\Common Maps KNN\")\n",
    "# qu1= \"\"\"\n",
    "# select * from TMP_BD_GRID_DISTANCE_ID_NEW\n",
    "# where risk_agrf120 =1 \n",
    "# \"\"\"\n",
    "#df = pd.read_sql(qu1,connection)\n",
    "#df.to_pickle(r\"C:\\Users\\aman.khatri91425\\Desktop\\HomeCredit\\Bigdata\\Common Maps KNN\\data_dump_new_grids.pkl\")\n",
    "#df.to_csv(r\"C:\\Users\\aman.khatri91425\\Desktop\\HomeCredit\\Bigdata\\Common Maps KNN\\data_dump_new_grids.csv\")"
   ]
  },
  {
   "cell_type": "code",
   "execution_count": 2,
   "metadata": {},
   "outputs": [],
   "source": [
    "df = pd.read_pickle(r\"C:\\Users\\aman.khatri91425\\Desktop\\HomeCredit\\Bigdata\\Common Maps KNN\\data_dump_new_grids.pkl\")"
   ]
  },
  {
   "cell_type": "code",
   "execution_count": 3,
   "metadata": {
    "scrolled": true
   },
   "outputs": [
    {
     "data": {
      "text/html": [
       "<div>\n",
       "<style scoped>\n",
       "    .dataframe tbody tr th:only-of-type {\n",
       "        vertical-align: middle;\n",
       "    }\n",
       "\n",
       "    .dataframe tbody tr th {\n",
       "        vertical-align: top;\n",
       "    }\n",
       "\n",
       "    .dataframe thead th {\n",
       "        text-align: right;\n",
       "    }\n",
       "</style>\n",
       "<table border=\"1\" class=\"dataframe\">\n",
       "  <thead>\n",
       "    <tr style=\"text-align: right;\">\n",
       "      <th></th>\n",
       "      <th>SKP_CREDIT_CASE</th>\n",
       "      <th>TIME_DECISION_DATE</th>\n",
       "      <th>CUS_LAT</th>\n",
       "      <th>CUS_LONG</th>\n",
       "      <th>RISK_FSTQPD30</th>\n",
       "      <th>RISK_AGRF120</th>\n",
       "      <th>PRODUCT_GROUP</th>\n",
       "      <th>CLIENT_EXI_3M</th>\n",
       "      <th>RISK_SCORE</th>\n",
       "      <th>RNK</th>\n",
       "    </tr>\n",
       "  </thead>\n",
       "  <tbody>\n",
       "    <tr>\n",
       "      <th>0</th>\n",
       "      <td>96741638</td>\n",
       "      <td>2017-01-01</td>\n",
       "      <td>18.554284</td>\n",
       "      <td>73.920496</td>\n",
       "      <td>0</td>\n",
       "      <td>1</td>\n",
       "      <td>CD</td>\n",
       "      <td>N</td>\n",
       "      <td>NaN</td>\n",
       "      <td>1</td>\n",
       "    </tr>\n",
       "    <tr>\n",
       "      <th>1</th>\n",
       "      <td>96904701</td>\n",
       "      <td>2017-01-01</td>\n",
       "      <td>18.490897</td>\n",
       "      <td>73.810959</td>\n",
       "      <td>0</td>\n",
       "      <td>1</td>\n",
       "      <td>CD</td>\n",
       "      <td>N</td>\n",
       "      <td>NaN</td>\n",
       "      <td>1</td>\n",
       "    </tr>\n",
       "    <tr>\n",
       "      <th>2</th>\n",
       "      <td>96906113</td>\n",
       "      <td>2017-01-02</td>\n",
       "      <td>28.502912</td>\n",
       "      <td>77.332831</td>\n",
       "      <td>0</td>\n",
       "      <td>1</td>\n",
       "      <td>CD</td>\n",
       "      <td>N</td>\n",
       "      <td>NaN</td>\n",
       "      <td>1</td>\n",
       "    </tr>\n",
       "    <tr>\n",
       "      <th>3</th>\n",
       "      <td>96909346</td>\n",
       "      <td>2017-01-03</td>\n",
       "      <td>18.950583</td>\n",
       "      <td>72.828613</td>\n",
       "      <td>0</td>\n",
       "      <td>1</td>\n",
       "      <td>CD</td>\n",
       "      <td>N</td>\n",
       "      <td>NaN</td>\n",
       "      <td>1</td>\n",
       "    </tr>\n",
       "    <tr>\n",
       "      <th>4</th>\n",
       "      <td>96910547</td>\n",
       "      <td>2017-01-01</td>\n",
       "      <td>32.239398</td>\n",
       "      <td>77.192587</td>\n",
       "      <td>0</td>\n",
       "      <td>1</td>\n",
       "      <td>CD</td>\n",
       "      <td>N</td>\n",
       "      <td>NaN</td>\n",
       "      <td>1</td>\n",
       "    </tr>\n",
       "  </tbody>\n",
       "</table>\n",
       "</div>"
      ],
      "text/plain": [
       "   SKP_CREDIT_CASE TIME_DECISION_DATE    CUS_LAT   CUS_LONG  RISK_FSTQPD30  \\\n",
       "0         96741638         2017-01-01  18.554284  73.920496              0   \n",
       "1         96904701         2017-01-01  18.490897  73.810959              0   \n",
       "2         96906113         2017-01-02  28.502912  77.332831              0   \n",
       "3         96909346         2017-01-03  18.950583  72.828613              0   \n",
       "4         96910547         2017-01-01  32.239398  77.192587              0   \n",
       "\n",
       "   RISK_AGRF120 PRODUCT_GROUP CLIENT_EXI_3M  RISK_SCORE  RNK  \n",
       "0             1            CD             N         NaN    1  \n",
       "1             1            CD             N         NaN    1  \n",
       "2             1            CD             N         NaN    1  \n",
       "3             1            CD             N         NaN    1  \n",
       "4             1            CD             N         NaN    1  "
      ]
     },
     "execution_count": 3,
     "metadata": {},
     "output_type": "execute_result"
    }
   ],
   "source": [
    "df.head()"
   ]
  },
  {
   "cell_type": "code",
   "execution_count": 4,
   "metadata": {},
   "outputs": [],
   "source": [
    "df.dropna(subset = [\"RISK_SCORE\"], inplace = True)"
   ]
  },
  {
   "cell_type": "code",
   "execution_count": 5,
   "metadata": {},
   "outputs": [],
   "source": [
    "df[\"MONTH_STR\"] = df[\"TIME_DECISION_DATE\"].dt.strftime(\"%Y-%m\")\n",
    "df_summ = df[[\"MONTH_STR\",\"RISK_FSTQPD30\"]].groupby(\"MONTH_STR\").aggregate([\"count\",\"sum\"])[\"RISK_FSTQPD30\"]\n",
    "df_summ[\"bad_rate\"] = df_summ[\"sum\"]/df_summ[\"count\"]"
   ]
  },
  {
   "cell_type": "code",
   "execution_count": 6,
   "metadata": {},
   "outputs": [
    {
     "data": {
      "image/png": "[encoded data removed]",
      "text/plain": [
       "<Figure size 1080x288 with 2 Axes>"
      ]
     },
     "metadata": {
      "needs_background": "light"
     },
     "output_type": "display_data"
    }
   ],
   "source": [
    "df_summ[['sum','count']].plot(kind='bar', width = 0.8, figsize=(15,4))\n",
    "df_summ['bad_rate'].plot(secondary_y=True)\n",
    "\n",
    "ax = plt.gca()\n",
    "plt.xlim([-0.35, len(df_summ['sum'])-0.35])\n",
    "ax.set_xticklabels(df_summ.index)\n",
    "plt.ylim\n",
    "fig = ax.get_figure()\n",
    "ax = fig.get_axes()\n",
    "ax[1].set_ylim(0,0.15)\n",
    "ax[0].legend(['CD_Contracts','CD_Defaults'])\n",
    "ax[1].legend([\"Default Rate\"], loc = \"center right\")\n",
    "\n",
    "\n",
    "plt.show()\n"
   ]
  },
  {
   "cell_type": "code",
   "execution_count": 14,
   "metadata": {},
   "outputs": [
    {
     "name": "stderr",
     "output_type": "stream",
     "text": [
      "C:\\Users\\aman.khatri91425\\AppData\\Local\\Continuum\\anaconda3\\lib\\site-packages\\ipykernel_launcher.py:50: SettingWithCopyWarning: \n",
      "A value is trying to be set on a copy of a slice from a DataFrame.\n",
      "Try using .loc[row_indexer,col_indexer] = value instead\n",
      "\n",
      "See the caveats in the documentation: http://pandas.pydata.org/pandas-docs/stable/indexing.html#indexing-view-versus-copy\n"
     ]
    },
    {
     "name": "stdout",
     "output_type": "stream",
     "text": [
      "Training for predicting (month): 9     GINI TRAIN: 14.93%     GINI TEST: 10.88%     time taken:  1.5\n"
     ]
    },
    {
     "name": "stderr",
     "output_type": "stream",
     "text": [
      "C:\\Users\\aman.khatri91425\\AppData\\Local\\Continuum\\anaconda3\\lib\\site-packages\\ipykernel_launcher.py:50: SettingWithCopyWarning: \n",
      "A value is trying to be set on a copy of a slice from a DataFrame.\n",
      "Try using .loc[row_indexer,col_indexer] = value instead\n",
      "\n",
      "See the caveats in the documentation: http://pandas.pydata.org/pandas-docs/stable/indexing.html#indexing-view-versus-copy\n"
     ]
    },
    {
     "name": "stdout",
     "output_type": "stream",
     "text": [
      "Training for predicting (month): 10     GINI TRAIN: 14.95%     GINI TEST: 11.01%     time taken:  1.4\n"
     ]
    },
    {
     "name": "stderr",
     "output_type": "stream",
     "text": [
      "C:\\Users\\aman.khatri91425\\AppData\\Local\\Continuum\\anaconda3\\lib\\site-packages\\ipykernel_launcher.py:50: SettingWithCopyWarning: \n",
      "A value is trying to be set on a copy of a slice from a DataFrame.\n",
      "Try using .loc[row_indexer,col_indexer] = value instead\n",
      "\n",
      "See the caveats in the documentation: http://pandas.pydata.org/pandas-docs/stable/indexing.html#indexing-view-versus-copy\n"
     ]
    },
    {
     "name": "stdout",
     "output_type": "stream",
     "text": [
      "Training for predicting (month): 11     GINI TRAIN: 14.86%     GINI TEST: 10.76%     time taken:  1.3\n"
     ]
    },
    {
     "name": "stderr",
     "output_type": "stream",
     "text": [
      "C:\\Users\\aman.khatri91425\\AppData\\Local\\Continuum\\anaconda3\\lib\\site-packages\\ipykernel_launcher.py:50: SettingWithCopyWarning: \n",
      "A value is trying to be set on a copy of a slice from a DataFrame.\n",
      "Try using .loc[row_indexer,col_indexer] = value instead\n",
      "\n",
      "See the caveats in the documentation: http://pandas.pydata.org/pandas-docs/stable/indexing.html#indexing-view-versus-copy\n"
     ]
    },
    {
     "name": "stdout",
     "output_type": "stream",
     "text": [
      "Training for predicting (month): 12     GINI TRAIN: 14.87%     GINI TEST: 10.44%     time taken:  1.4\n"
     ]
    },
    {
     "name": "stderr",
     "output_type": "stream",
     "text": [
      "C:\\Users\\aman.khatri91425\\AppData\\Local\\Continuum\\anaconda3\\lib\\site-packages\\ipykernel_launcher.py:50: SettingWithCopyWarning: \n",
      "A value is trying to be set on a copy of a slice from a DataFrame.\n",
      "Try using .loc[row_indexer,col_indexer] = value instead\n",
      "\n",
      "See the caveats in the documentation: http://pandas.pydata.org/pandas-docs/stable/indexing.html#indexing-view-versus-copy\n"
     ]
    },
    {
     "name": "stdout",
     "output_type": "stream",
     "text": [
      "Training for predicting (month): 1     GINI TRAIN: 15.00%     GINI TEST: 10.26%     time taken:  1.4\n"
     ]
    },
    {
     "name": "stderr",
     "output_type": "stream",
     "text": [
      "C:\\Users\\aman.khatri91425\\AppData\\Local\\Continuum\\anaconda3\\lib\\site-packages\\ipykernel_launcher.py:50: SettingWithCopyWarning: \n",
      "A value is trying to be set on a copy of a slice from a DataFrame.\n",
      "Try using .loc[row_indexer,col_indexer] = value instead\n",
      "\n",
      "See the caveats in the documentation: http://pandas.pydata.org/pandas-docs/stable/indexing.html#indexing-view-versus-copy\n"
     ]
    },
    {
     "name": "stdout",
     "output_type": "stream",
     "text": [
      "Training for predicting (month): 2     GINI TRAIN: 14.57%     GINI TEST: 8.99%     time taken:  1.4\n"
     ]
    },
    {
     "name": "stderr",
     "output_type": "stream",
     "text": [
      "C:\\Users\\aman.khatri91425\\AppData\\Local\\Continuum\\anaconda3\\lib\\site-packages\\ipykernel_launcher.py:50: SettingWithCopyWarning: \n",
      "A value is trying to be set on a copy of a slice from a DataFrame.\n",
      "Try using .loc[row_indexer,col_indexer] = value instead\n",
      "\n",
      "See the caveats in the documentation: http://pandas.pydata.org/pandas-docs/stable/indexing.html#indexing-view-versus-copy\n"
     ]
    },
    {
     "name": "stdout",
     "output_type": "stream",
     "text": [
      "Training for predicting (month): 3     GINI TRAIN: 14.84%     GINI TEST: 8.44%     time taken:  1.4\n"
     ]
    }
   ],
   "source": [
    "df_final_test = pd.DataFrame()\n",
    "\n",
    "import datetime\n",
    "from sklearn.neighbors import KNeighborsClassifier\n",
    "\n",
    "for x in np.arange(1,8,1):\n",
    "    \n",
    "    date_test_start = datetime.datetime(2019, x, 1)\n",
    "    date_test_end = (date_test_start +  datetime.timedelta(days=31)).replace(day=1)\n",
    "    date_train_start = (date_test_start-datetime.timedelta(days=120)-datetime.timedelta(days=365)) \n",
    "    date_train_end = (date_test_start-datetime.timedelta(days=120))\n",
    "\n",
    "    \n",
    "    \n",
    "    start_time = datetime.datetime.now()\n",
    "    df_train = df[(df[\"TIME_DECISION_DATE\"]>=date_train_start) & \n",
    "              (df[\"TIME_DECISION_DATE\"]<date_train_end)]\n",
    "    df_test = df[(df[\"TIME_DECISION_DATE\"]>=date_test_start) & \n",
    "                  (df[\"TIME_DECISION_DATE\"]<date_test_end)]\n",
    "\n",
    "\n",
    "    count_class_0, count_class_1 = df_train.RISK_FSTQPD30.value_counts()\n",
    "    df_class_0 = df_train[df_train['RISK_FSTQPD30'] == 0]\n",
    "    df_class_1 = df_train[df_train['RISK_FSTQPD30'] == 1]\n",
    "    df_class_0_under = df_class_0.sample(200000)\n",
    "    df_class_1_under = df_class_1.sample(200000)\n",
    "    df_train_under = pd.concat([df_class_0_under, df_class_1_under], axis=0)\n",
    "\n",
    "    X_train = df_train_under[[\"CUS_LAT\",\"CUS_LONG\",\"RISK_SCORE\",\"TIME_DECISION_DATE\"]]\n",
    "    X_test = df_test[[\"CUS_LAT\",\"CUS_LONG\",\"RISK_SCORE\",\"TIME_DECISION_DATE\"]]\n",
    "\n",
    "    y_train = df_train_under[\"RISK_FSTQPD30\"]\n",
    "    y_test =  df_test[\"RISK_FSTQPD30\"]\n",
    "\n",
    "\n",
    "\n",
    "    knn = KNeighborsClassifier(n_neighbors = 400)\n",
    "    bst = knn.fit(X_train[[\"CUS_LAT\",\"CUS_LONG\"]], np.ravel(y_train))\n",
    "\n",
    "    ypred_train = bst.predict_proba(X_train[[\"CUS_LAT\",\"CUS_LONG\"]])[:, 1]\n",
    "    ypred_test = bst.predict_proba(X_test[[\"CUS_LAT\",\"CUS_LONG\"]])[:, 1]\n",
    "\n",
    "    metric_auc_train = metrics.roc_auc_score(y_train, ypred_train)\n",
    "    metric_auc_test = metrics.roc_auc_score(y_test, ypred_test)\n",
    "\n",
    "    gini_train = 2 * metric_auc_train - 1\n",
    "    gini_test = 2 * metric_auc_test - 1\n",
    "\n",
    "    \n",
    "    df_test['PRED_SCORE'] = ypred_test\n",
    "    \n",
    "    if df_final_test.shape == (0,0):\n",
    "        df_final_test = df_test\n",
    "    else:\n",
    "        df_final_test = pd.concat([df_final_test,df_test],ignore_index=True)\n",
    "\n",
    "    print(\"Training for predicting (month):\",date_test_start.month, \"    GINI TRAIN:\",'{:,.2%}'.format(gini_train), \"    GINI TEST:\",'{:,.2%}'.format(gini_test),\n",
    "         \"    time taken: \",'{:,.2}'.format((datetime.datetime.now()-start_time).seconds/60))\n",
    "\n",
    "\n"
   ]
  },
  {
   "cell_type": "code",
   "execution_count": null,
   "metadata": {},
   "outputs": [],
   "source": []
  },
  {
   "cell_type": "code",
   "execution_count": null,
   "metadata": {},
   "outputs": [],
   "source": []
  },
  {
   "cell_type": "code",
   "execution_count": 10,
   "metadata": {},
   "outputs": [
    {
     "data": {
      "text/html": [
       "<div>\n",
       "<style scoped>\n",
       "    .dataframe tbody tr th:only-of-type {\n",
       "        vertical-align: middle;\n",
       "    }\n",
       "\n",
       "    .dataframe tbody tr th {\n",
       "        vertical-align: top;\n",
       "    }\n",
       "\n",
       "    .dataframe thead th {\n",
       "        text-align: right;\n",
       "    }\n",
       "</style>\n",
       "<table border=\"1\" class=\"dataframe\">\n",
       "  <thead>\n",
       "    <tr style=\"text-align: right;\">\n",
       "      <th></th>\n",
       "      <th>SKP_CREDIT_CASE</th>\n",
       "      <th>TIME_DECISION_DATE</th>\n",
       "      <th>CUS_LAT</th>\n",
       "      <th>CUS_LONG</th>\n",
       "      <th>RISK_FSTQPD30</th>\n",
       "      <th>RISK_AGRF120</th>\n",
       "      <th>PRODUCT_GROUP</th>\n",
       "      <th>CLIENT_EXI_3M</th>\n",
       "      <th>RISK_SCORE</th>\n",
       "      <th>RNK</th>\n",
       "      <th>MONTH_STR</th>\n",
       "      <th>PRED_SCORE</th>\n",
       "    </tr>\n",
       "  </thead>\n",
       "  <tbody>\n",
       "    <tr>\n",
       "      <th>0</th>\n",
       "      <td>219906800</td>\n",
       "      <td>2019-01-01</td>\n",
       "      <td>18.637497</td>\n",
       "      <td>73.836025</td>\n",
       "      <td>0</td>\n",
       "      <td>1</td>\n",
       "      <td>CD</td>\n",
       "      <td>N</td>\n",
       "      <td>0.020050</td>\n",
       "      <td>1</td>\n",
       "      <td>2019-01</td>\n",
       "      <td>0.4050</td>\n",
       "    </tr>\n",
       "    <tr>\n",
       "      <th>1</th>\n",
       "      <td>219993472</td>\n",
       "      <td>2019-01-01</td>\n",
       "      <td>23.194511</td>\n",
       "      <td>77.462190</td>\n",
       "      <td>0</td>\n",
       "      <td>1</td>\n",
       "      <td>CD</td>\n",
       "      <td>N</td>\n",
       "      <td>0.021875</td>\n",
       "      <td>1</td>\n",
       "      <td>2019-01</td>\n",
       "      <td>0.4775</td>\n",
       "    </tr>\n",
       "    <tr>\n",
       "      <th>2</th>\n",
       "      <td>220005765</td>\n",
       "      <td>2019-01-01</td>\n",
       "      <td>19.155484</td>\n",
       "      <td>72.845582</td>\n",
       "      <td>0</td>\n",
       "      <td>1</td>\n",
       "      <td>CD</td>\n",
       "      <td>Y</td>\n",
       "      <td>0.010981</td>\n",
       "      <td>1</td>\n",
       "      <td>2019-01</td>\n",
       "      <td>0.4875</td>\n",
       "    </tr>\n",
       "    <tr>\n",
       "      <th>3</th>\n",
       "      <td>220099958</td>\n",
       "      <td>2019-01-01</td>\n",
       "      <td>28.504690</td>\n",
       "      <td>77.231656</td>\n",
       "      <td>1</td>\n",
       "      <td>1</td>\n",
       "      <td>CD</td>\n",
       "      <td>N</td>\n",
       "      <td>0.020797</td>\n",
       "      <td>1</td>\n",
       "      <td>2019-01</td>\n",
       "      <td>0.5025</td>\n",
       "    </tr>\n",
       "    <tr>\n",
       "      <th>4</th>\n",
       "      <td>220101732</td>\n",
       "      <td>2019-01-02</td>\n",
       "      <td>18.635453</td>\n",
       "      <td>73.792278</td>\n",
       "      <td>0</td>\n",
       "      <td>1</td>\n",
       "      <td>CD</td>\n",
       "      <td>N</td>\n",
       "      <td>0.008695</td>\n",
       "      <td>1</td>\n",
       "      <td>2019-01</td>\n",
       "      <td>0.5275</td>\n",
       "    </tr>\n",
       "  </tbody>\n",
       "</table>\n",
       "</div>"
      ],
      "text/plain": [
       "   SKP_CREDIT_CASE TIME_DECISION_DATE    CUS_LAT   CUS_LONG  RISK_FSTQPD30  \\\n",
       "0        219906800         2019-01-01  18.637497  73.836025              0   \n",
       "1        219993472         2019-01-01  23.194511  77.462190              0   \n",
       "2        220005765         2019-01-01  19.155484  72.845582              0   \n",
       "3        220099958         2019-01-01  28.504690  77.231656              1   \n",
       "4        220101732         2019-01-02  18.635453  73.792278              0   \n",
       "\n",
       "   RISK_AGRF120 PRODUCT_GROUP CLIENT_EXI_3M  RISK_SCORE  RNK MONTH_STR  \\\n",
       "0             1            CD             N    0.020050    1   2019-01   \n",
       "1             1            CD             N    0.021875    1   2019-01   \n",
       "2             1            CD             Y    0.010981    1   2019-01   \n",
       "3             1            CD             N    0.020797    1   2019-01   \n",
       "4             1            CD             N    0.008695    1   2019-01   \n",
       "\n",
       "   PRED_SCORE  \n",
       "0      0.4050  \n",
       "1      0.4775  \n",
       "2      0.4875  \n",
       "3      0.5025  \n",
       "4      0.5275  "
      ]
     },
     "execution_count": 10,
     "metadata": {},
     "output_type": "execute_result"
    }
   ],
   "source": [
    "df_final_test.head()"
   ]
  },
  {
   "cell_type": "code",
   "execution_count": null,
   "metadata": {},
   "outputs": [],
   "source": []
  },
  {
   "cell_type": "code",
   "execution_count": 17,
   "metadata": {},
   "outputs": [
    {
     "data": {
      "text/plain": [
       "datetime.datetime(2019, 3, 3, 0, 0)"
      ]
     },
     "execution_count": 17,
     "metadata": {},
     "output_type": "execute_result"
    }
   ],
   "source": [
    "date_train_end"
   ]
  },
  {
   "cell_type": "code",
   "execution_count": null,
   "metadata": {},
   "outputs": [],
   "source": []
  },
  {
   "cell_type": "code",
   "execution_count": null,
   "metadata": {},
   "outputs": [],
   "source": []
  },
  {
   "cell_type": "code",
   "execution_count": 18,
   "metadata": {},
   "outputs": [],
   "source": [
    "df_final_test[\"LOGIT_RISK_SCORE\"] = [np.log(x/(1-x)) for x in df_final_test[\"RISK_SCORE\"]]\n",
    "df_final_test[\"LOGIT_PRED_SCORE\"] = [np.log(x/(1-x)) for x in df_final_test[\"PRED_SCORE\"]]"
   ]
  },
  {
   "cell_type": "code",
   "execution_count": 34,
   "metadata": {},
   "outputs": [],
   "source": [
    "df_combined_score=df_final_test[['LOGIT_RISK_SCORE','LOGIT_PRED_SCORE','RISK_FSTQPD30'\n",
    "                                 ,'SKP_CREDIT_CASE', 'TIME_DECISION_DATE']][df_final_test[\"TIME_DECISION_DATE\"]<=datetime.datetime(2019, 1, 31)]"
   ]
  },
  {
   "cell_type": "code",
   "execution_count": 36,
   "metadata": {},
   "outputs": [
    {
     "name": "stderr",
     "output_type": "stream",
     "text": [
      "C:\\Users\\aman.khatri91425\\AppData\\Local\\Continuum\\anaconda3\\lib\\site-packages\\sklearn\\linear_model\\logistic.py:433: FutureWarning: Default solver will be changed to 'lbfgs' in 0.22. Specify a solver to silence this warning.\n",
      "  FutureWarning)\n"
     ]
    },
    {
     "data": {
      "text/plain": [
       "LogisticRegression(C=1.0, class_weight=None, dual=False, fit_intercept=True,\n",
       "          intercept_scaling=1, max_iter=100, multi_class='warn',\n",
       "          n_jobs=None, penalty='l2', random_state=None, solver='warn',\n",
       "          tol=0.0001, verbose=0, warm_start=False)"
      ]
     },
     "execution_count": 36,
     "metadata": {},
     "output_type": "execute_result"
    }
   ],
   "source": [
    "#Calculate Gini Lift Logistic Regression\n",
    "from sklearn.linear_model import LogisticRegression\n",
    "comb=LogisticRegression()\n",
    "comb.fit(df_combined_score[['LOGIT_RISK_SCORE','LOGIT_PRED_SCORE']],df_combined_score[\"RISK_FSTQPD30\"])"
   ]
  },
  {
   "cell_type": "code",
   "execution_count": 46,
   "metadata": {},
   "outputs": [
    {
     "name": "stdout",
     "output_type": "stream",
     "text": [
      "[0.46478655]\n",
      "[[0.63516046 0.58340657]]\n"
     ]
    }
   ],
   "source": [
    "print(comb.intercept_)\n",
    "print(comb.coef_)\n",
    "\n"
   ]
  },
  {
   "cell_type": "code",
   "execution_count": 44,
   "metadata": {},
   "outputs": [],
   "source": [
    "df_final_test[\"COMBINED_SCORE\"]= 1/(1+np.exp(-(df_final_test[\"LOGIT_RISK_SCORE\"]*0.63516046+ \n",
    "              df_final_test[\"LOGIT_PRED_SCORE\"]*0.58340657 + 0.46478655)))"
   ]
  },
  {
   "cell_type": "code",
   "execution_count": 45,
   "metadata": {},
   "outputs": [
    {
     "name": "stdout",
     "output_type": "stream",
     "text": [
      "GINI COMBINED:  26.47%\n",
      "GINI HC:  25.03%\n",
      "GINI KNN:  10.21%\n"
     ]
    }
   ],
   "source": [
    "\n",
    "print(\"GINI COMBINED: \",'{:,.2%}'.format(2 * metrics.roc_auc_score(df_final_test[\"RISK_FSTQPD30\"], df_final_test[\"COMBINED_SCORE\"]) - 1))\n",
    "print(\"GINI HC: \",'{:,.2%}'.format(2 * metrics.roc_auc_score(df_final_test[\"RISK_FSTQPD30\"], df_final_test[\"RISK_SCORE\"]) - 1))\n",
    "print(\"GINI KNN: \",'{:,.2%}'.format(2 * metrics.roc_auc_score(df_final_test[\"RISK_FSTQPD30\"], df_final_test[\"PRED_SCORE\"]) - 1))\n"
   ]
  },
  {
   "cell_type": "code",
   "execution_count": 23,
   "metadata": {},
   "outputs": [
    {
     "data": {
      "text/html": [
       "<div>\n",
       "<style scoped>\n",
       "    .dataframe tbody tr th:only-of-type {\n",
       "        vertical-align: middle;\n",
       "    }\n",
       "\n",
       "    .dataframe tbody tr th {\n",
       "        vertical-align: top;\n",
       "    }\n",
       "\n",
       "    .dataframe thead th {\n",
       "        text-align: right;\n",
       "    }\n",
       "</style>\n",
       "<table border=\"1\" class=\"dataframe\">\n",
       "  <thead>\n",
       "    <tr style=\"text-align: right;\">\n",
       "      <th></th>\n",
       "      <th>SKP_CREDIT_CASE</th>\n",
       "      <th>TIME_DECISION_DATE</th>\n",
       "      <th>CUS_LAT</th>\n",
       "      <th>CUS_LONG</th>\n",
       "      <th>RISK_FSTQPD30</th>\n",
       "      <th>RISK_AGRF120</th>\n",
       "      <th>PRODUCT_GROUP</th>\n",
       "      <th>CLIENT_EXI_3M</th>\n",
       "      <th>RISK_SCORE</th>\n",
       "      <th>RNK</th>\n",
       "      <th>MONTH_STR</th>\n",
       "      <th>PRED_SCORE</th>\n",
       "      <th>LOGIT_RISK_SCORE</th>\n",
       "      <th>LOGIT_PRED_SCORE</th>\n",
       "      <th>COMBINED_SCORE</th>\n",
       "    </tr>\n",
       "  </thead>\n",
       "  <tbody>\n",
       "    <tr>\n",
       "      <th>0</th>\n",
       "      <td>219906800</td>\n",
       "      <td>2019-01-01</td>\n",
       "      <td>18.637497</td>\n",
       "      <td>73.836025</td>\n",
       "      <td>0</td>\n",
       "      <td>1</td>\n",
       "      <td>CD</td>\n",
       "      <td>N</td>\n",
       "      <td>0.020050</td>\n",
       "      <td>1</td>\n",
       "      <td>2019-01</td>\n",
       "      <td>0.3925</td>\n",
       "      <td>-3.889290</td>\n",
       "      <td>-0.436816</td>\n",
       "      <td>0.119715</td>\n",
       "    </tr>\n",
       "    <tr>\n",
       "      <th>1</th>\n",
       "      <td>219993472</td>\n",
       "      <td>2019-01-01</td>\n",
       "      <td>23.194511</td>\n",
       "      <td>77.462190</td>\n",
       "      <td>0</td>\n",
       "      <td>1</td>\n",
       "      <td>CD</td>\n",
       "      <td>N</td>\n",
       "      <td>0.021875</td>\n",
       "      <td>1</td>\n",
       "      <td>2019-01</td>\n",
       "      <td>0.4700</td>\n",
       "      <td>-3.800296</td>\n",
       "      <td>-0.120144</td>\n",
       "      <td>0.152652</td>\n",
       "    </tr>\n",
       "    <tr>\n",
       "      <th>2</th>\n",
       "      <td>220005765</td>\n",
       "      <td>2019-01-01</td>\n",
       "      <td>19.155484</td>\n",
       "      <td>72.845582</td>\n",
       "      <td>0</td>\n",
       "      <td>1</td>\n",
       "      <td>CD</td>\n",
       "      <td>Y</td>\n",
       "      <td>0.010981</td>\n",
       "      <td>1</td>\n",
       "      <td>2019-01</td>\n",
       "      <td>0.4575</td>\n",
       "      <td>-4.500573</td>\n",
       "      <td>-0.170411</td>\n",
       "      <td>0.093388</td>\n",
       "    </tr>\n",
       "    <tr>\n",
       "      <th>3</th>\n",
       "      <td>220099958</td>\n",
       "      <td>2019-01-01</td>\n",
       "      <td>28.504690</td>\n",
       "      <td>77.231656</td>\n",
       "      <td>1</td>\n",
       "      <td>1</td>\n",
       "      <td>CD</td>\n",
       "      <td>N</td>\n",
       "      <td>0.020797</td>\n",
       "      <td>1</td>\n",
       "      <td>2019-01</td>\n",
       "      <td>0.5000</td>\n",
       "      <td>-3.851954</td>\n",
       "      <td>0.000000</td>\n",
       "      <td>0.158251</td>\n",
       "    </tr>\n",
       "    <tr>\n",
       "      <th>4</th>\n",
       "      <td>220101732</td>\n",
       "      <td>2019-01-02</td>\n",
       "      <td>18.635453</td>\n",
       "      <td>73.792278</td>\n",
       "      <td>0</td>\n",
       "      <td>1</td>\n",
       "      <td>CD</td>\n",
       "      <td>N</td>\n",
       "      <td>0.008695</td>\n",
       "      <td>1</td>\n",
       "      <td>2019-01</td>\n",
       "      <td>0.5275</td>\n",
       "      <td>-4.736259</td>\n",
       "      <td>0.110111</td>\n",
       "      <td>0.094521</td>\n",
       "    </tr>\n",
       "  </tbody>\n",
       "</table>\n",
       "</div>"
      ],
      "text/plain": [
       "   SKP_CREDIT_CASE TIME_DECISION_DATE    CUS_LAT   CUS_LONG  RISK_FSTQPD30  \\\n",
       "0        219906800         2019-01-01  18.637497  73.836025              0   \n",
       "1        219993472         2019-01-01  23.194511  77.462190              0   \n",
       "2        220005765         2019-01-01  19.155484  72.845582              0   \n",
       "3        220099958         2019-01-01  28.504690  77.231656              1   \n",
       "4        220101732         2019-01-02  18.635453  73.792278              0   \n",
       "\n",
       "   RISK_AGRF120 PRODUCT_GROUP CLIENT_EXI_3M  RISK_SCORE  RNK MONTH_STR  \\\n",
       "0             1            CD             N    0.020050    1   2019-01   \n",
       "1             1            CD             N    0.021875    1   2019-01   \n",
       "2             1            CD             Y    0.010981    1   2019-01   \n",
       "3             1            CD             N    0.020797    1   2019-01   \n",
       "4             1            CD             N    0.008695    1   2019-01   \n",
       "\n",
       "   PRED_SCORE  LOGIT_RISK_SCORE  LOGIT_PRED_SCORE  COMBINED_SCORE  \n",
       "0      0.3925         -3.889290         -0.436816        0.119715  \n",
       "1      0.4700         -3.800296         -0.120144        0.152652  \n",
       "2      0.4575         -4.500573         -0.170411        0.093388  \n",
       "3      0.5000         -3.851954          0.000000        0.158251  \n",
       "4      0.5275         -4.736259          0.110111        0.094521  "
      ]
     },
     "execution_count": 23,
     "metadata": {},
     "output_type": "execute_result"
    }
   ],
   "source": [
    "df_final_test.head()"
   ]
  },
  {
   "cell_type": "code",
   "execution_count": null,
   "metadata": {},
   "outputs": [],
   "source": [
    "df_final_test[\"MONTH_STR\"] = df_final_test[\"TIME_DECISION_DATE\"].dt.strftime(\"%Y-%m\")"
   ]
  },
  {
   "cell_type": "code",
   "execution_count": 48,
   "metadata": {},
   "outputs": [
    {
     "name": "stdout",
     "output_type": "stream",
     "text": [
      "[{'Name': '2019-01', 'Gini_HC': 0.24246876682873064, 'Gini_HC_EXI': 0.33175607499139614, 'Gini_HC_NEW': 0.2304746196109515, 'Gini_KNN': 0.10884503708332138, 'Gini_KNN_EXI': 0.09582222283522324, 'Gini_KNN_NEW': 0.10294926534614413, 'Gini_COMB': 0.25830088030980125, 'Gini_COMB_EXI': 0.33443610267674684, 'Gini_COMB_NEW': 0.24514573551638819}]\n",
      "[{'Name': '2019-01', 'Gini_HC': 0.24246876682873064, 'Gini_HC_EXI': 0.33175607499139614, 'Gini_HC_NEW': 0.2304746196109515, 'Gini_KNN': 0.10884503708332138, 'Gini_KNN_EXI': 0.09582222283522324, 'Gini_KNN_NEW': 0.10294926534614413, 'Gini_COMB': 0.25830088030980125, 'Gini_COMB_EXI': 0.33443610267674684, 'Gini_COMB_NEW': 0.24514573551638819}, {'Name': '2019-02', 'Gini_HC': 0.250222726189278, 'Gini_HC_EXI': 0.316780183857994, 'Gini_HC_NEW': 0.2441480635451203, 'Gini_KNN': 0.1100581719398801, 'Gini_KNN_EXI': 0.09510767862359426, 'Gini_KNN_NEW': 0.10487097924375988, 'Gini_COMB': 0.2657949949789149, 'Gini_COMB_EXI': 0.31854748265865074, 'Gini_COMB_NEW': 0.259227351921542}]\n",
      "[{'Name': '2019-01', 'Gini_HC': 0.24246876682873064, 'Gini_HC_EXI': 0.33175607499139614, 'Gini_HC_NEW': 0.2304746196109515, 'Gini_KNN': 0.10884503708332138, 'Gini_KNN_EXI': 0.09582222283522324, 'Gini_KNN_NEW': 0.10294926534614413, 'Gini_COMB': 0.25830088030980125, 'Gini_COMB_EXI': 0.33443610267674684, 'Gini_COMB_NEW': 0.24514573551638819}, {'Name': '2019-02', 'Gini_HC': 0.250222726189278, 'Gini_HC_EXI': 0.316780183857994, 'Gini_HC_NEW': 0.2441480635451203, 'Gini_KNN': 0.1100581719398801, 'Gini_KNN_EXI': 0.09510767862359426, 'Gini_KNN_NEW': 0.10487097924375988, 'Gini_COMB': 0.2657949949789149, 'Gini_COMB_EXI': 0.31854748265865074, 'Gini_COMB_NEW': 0.259227351921542}, {'Name': '2019-03', 'Gini_HC': 0.2628918645375553, 'Gini_HC_EXI': 0.3380747401117843, 'Gini_HC_NEW': 0.25596210083026194, 'Gini_KNN': 0.10761399482467793, 'Gini_KNN_EXI': 0.10063442717631266, 'Gini_KNN_NEW': 0.09994071673187177, 'Gini_COMB': 0.2772905488782622, 'Gini_COMB_EXI': 0.34208975131008335, 'Gini_COMB_NEW': 0.2686742802899187}]\n",
      "[{'Name': '2019-01', 'Gini_HC': 0.24246876682873064, 'Gini_HC_EXI': 0.33175607499139614, 'Gini_HC_NEW': 0.2304746196109515, 'Gini_KNN': 0.10884503708332138, 'Gini_KNN_EXI': 0.09582222283522324, 'Gini_KNN_NEW': 0.10294926534614413, 'Gini_COMB': 0.25830088030980125, 'Gini_COMB_EXI': 0.33443610267674684, 'Gini_COMB_NEW': 0.24514573551638819}, {'Name': '2019-02', 'Gini_HC': 0.250222726189278, 'Gini_HC_EXI': 0.316780183857994, 'Gini_HC_NEW': 0.2441480635451203, 'Gini_KNN': 0.1100581719398801, 'Gini_KNN_EXI': 0.09510767862359426, 'Gini_KNN_NEW': 0.10487097924375988, 'Gini_COMB': 0.2657949949789149, 'Gini_COMB_EXI': 0.31854748265865074, 'Gini_COMB_NEW': 0.259227351921542}, {'Name': '2019-03', 'Gini_HC': 0.2628918645375553, 'Gini_HC_EXI': 0.3380747401117843, 'Gini_HC_NEW': 0.25596210083026194, 'Gini_KNN': 0.10761399482467793, 'Gini_KNN_EXI': 0.10063442717631266, 'Gini_KNN_NEW': 0.09994071673187177, 'Gini_COMB': 0.2772905488782622, 'Gini_COMB_EXI': 0.34208975131008335, 'Gini_COMB_NEW': 0.2686742802899187}, {'Name': '2019-04', 'Gini_HC': 0.26143215087584815, 'Gini_HC_EXI': 0.3376535467725956, 'Gini_HC_NEW': 0.2514900935601396, 'Gini_KNN': 0.104366298327357, 'Gini_KNN_EXI': 0.10747879127635995, 'Gini_KNN_NEW': 0.09519615264213277, 'Gini_COMB': 0.2750015259550702, 'Gini_COMB_EXI': 0.3432306611494502, 'Gini_COMB_NEW': 0.2632262080956369}]\n",
      "[{'Name': '2019-01', 'Gini_HC': 0.24246876682873064, 'Gini_HC_EXI': 0.33175607499139614, 'Gini_HC_NEW': 0.2304746196109515, 'Gini_KNN': 0.10884503708332138, 'Gini_KNN_EXI': 0.09582222283522324, 'Gini_KNN_NEW': 0.10294926534614413, 'Gini_COMB': 0.25830088030980125, 'Gini_COMB_EXI': 0.33443610267674684, 'Gini_COMB_NEW': 0.24514573551638819}, {'Name': '2019-02', 'Gini_HC': 0.250222726189278, 'Gini_HC_EXI': 0.316780183857994, 'Gini_HC_NEW': 0.2441480635451203, 'Gini_KNN': 0.1100581719398801, 'Gini_KNN_EXI': 0.09510767862359426, 'Gini_KNN_NEW': 0.10487097924375988, 'Gini_COMB': 0.2657949949789149, 'Gini_COMB_EXI': 0.31854748265865074, 'Gini_COMB_NEW': 0.259227351921542}, {'Name': '2019-03', 'Gini_HC': 0.2628918645375553, 'Gini_HC_EXI': 0.3380747401117843, 'Gini_HC_NEW': 0.25596210083026194, 'Gini_KNN': 0.10761399482467793, 'Gini_KNN_EXI': 0.10063442717631266, 'Gini_KNN_NEW': 0.09994071673187177, 'Gini_COMB': 0.2772905488782622, 'Gini_COMB_EXI': 0.34208975131008335, 'Gini_COMB_NEW': 0.2686742802899187}, {'Name': '2019-04', 'Gini_HC': 0.26143215087584815, 'Gini_HC_EXI': 0.3376535467725956, 'Gini_HC_NEW': 0.2514900935601396, 'Gini_KNN': 0.104366298327357, 'Gini_KNN_EXI': 0.10747879127635995, 'Gini_KNN_NEW': 0.09519615264213277, 'Gini_COMB': 0.2750015259550702, 'Gini_COMB_EXI': 0.3432306611494502, 'Gini_COMB_NEW': 0.2632262080956369}, {'Name': '2019-05', 'Gini_HC': 0.26728188169386846, 'Gini_HC_EXI': 0.3619621229696719, 'Gini_HC_NEW': 0.25079256923816184, 'Gini_KNN': 0.10259571651185384, 'Gini_KNN_EXI': 0.08998538285328617, 'Gini_KNN_NEW': 0.10241409762966058, 'Gini_COMB': 0.2823189528683243, 'Gini_COMB_EXI': 0.3645427180913354, 'Gini_COMB_NEW': 0.2662992511186353}]\n",
      "[{'Name': '2019-01', 'Gini_HC': 0.24246876682873064, 'Gini_HC_EXI': 0.33175607499139614, 'Gini_HC_NEW': 0.2304746196109515, 'Gini_KNN': 0.10884503708332138, 'Gini_KNN_EXI': 0.09582222283522324, 'Gini_KNN_NEW': 0.10294926534614413, 'Gini_COMB': 0.25830088030980125, 'Gini_COMB_EXI': 0.33443610267674684, 'Gini_COMB_NEW': 0.24514573551638819}, {'Name': '2019-02', 'Gini_HC': 0.250222726189278, 'Gini_HC_EXI': 0.316780183857994, 'Gini_HC_NEW': 0.2441480635451203, 'Gini_KNN': 0.1100581719398801, 'Gini_KNN_EXI': 0.09510767862359426, 'Gini_KNN_NEW': 0.10487097924375988, 'Gini_COMB': 0.2657949949789149, 'Gini_COMB_EXI': 0.31854748265865074, 'Gini_COMB_NEW': 0.259227351921542}, {'Name': '2019-03', 'Gini_HC': 0.2628918645375553, 'Gini_HC_EXI': 0.3380747401117843, 'Gini_HC_NEW': 0.25596210083026194, 'Gini_KNN': 0.10761399482467793, 'Gini_KNN_EXI': 0.10063442717631266, 'Gini_KNN_NEW': 0.09994071673187177, 'Gini_COMB': 0.2772905488782622, 'Gini_COMB_EXI': 0.34208975131008335, 'Gini_COMB_NEW': 0.2686742802899187}, {'Name': '2019-04', 'Gini_HC': 0.26143215087584815, 'Gini_HC_EXI': 0.3376535467725956, 'Gini_HC_NEW': 0.2514900935601396, 'Gini_KNN': 0.104366298327357, 'Gini_KNN_EXI': 0.10747879127635995, 'Gini_KNN_NEW': 0.09519615264213277, 'Gini_COMB': 0.2750015259550702, 'Gini_COMB_EXI': 0.3432306611494502, 'Gini_COMB_NEW': 0.2632262080956369}, {'Name': '2019-05', 'Gini_HC': 0.26728188169386846, 'Gini_HC_EXI': 0.3619621229696719, 'Gini_HC_NEW': 0.25079256923816184, 'Gini_KNN': 0.10259571651185384, 'Gini_KNN_EXI': 0.08998538285328617, 'Gini_KNN_NEW': 0.10241409762966058, 'Gini_COMB': 0.2823189528683243, 'Gini_COMB_EXI': 0.3645427180913354, 'Gini_COMB_NEW': 0.2662992511186353}, {'Name': '2019-06', 'Gini_HC': 0.2362189398506005, 'Gini_HC_EXI': 0.3007832511704569, 'Gini_HC_NEW': 0.23778647481961146, 'Gini_KNN': 0.08985404886522463, 'Gini_KNN_EXI': 0.07818513013757222, 'Gini_KNN_NEW': 0.08356342058951682, 'Gini_COMB': 0.2502106619405542, 'Gini_COMB_EXI': 0.30568077504418967, 'Gini_COMB_NEW': 0.24874439899283463}]\n"
     ]
    },
    {
     "name": "stdout",
     "output_type": "stream",
     "text": [
      "[{'Name': '2019-01', 'Gini_HC': 0.24246876682873064, 'Gini_HC_EXI': 0.33175607499139614, 'Gini_HC_NEW': 0.2304746196109515, 'Gini_KNN': 0.10884503708332138, 'Gini_KNN_EXI': 0.09582222283522324, 'Gini_KNN_NEW': 0.10294926534614413, 'Gini_COMB': 0.25830088030980125, 'Gini_COMB_EXI': 0.33443610267674684, 'Gini_COMB_NEW': 0.24514573551638819}, {'Name': '2019-02', 'Gini_HC': 0.250222726189278, 'Gini_HC_EXI': 0.316780183857994, 'Gini_HC_NEW': 0.2441480635451203, 'Gini_KNN': 0.1100581719398801, 'Gini_KNN_EXI': 0.09510767862359426, 'Gini_KNN_NEW': 0.10487097924375988, 'Gini_COMB': 0.2657949949789149, 'Gini_COMB_EXI': 0.31854748265865074, 'Gini_COMB_NEW': 0.259227351921542}, {'Name': '2019-03', 'Gini_HC': 0.2628918645375553, 'Gini_HC_EXI': 0.3380747401117843, 'Gini_HC_NEW': 0.25596210083026194, 'Gini_KNN': 0.10761399482467793, 'Gini_KNN_EXI': 0.10063442717631266, 'Gini_KNN_NEW': 0.09994071673187177, 'Gini_COMB': 0.2772905488782622, 'Gini_COMB_EXI': 0.34208975131008335, 'Gini_COMB_NEW': 0.2686742802899187}, {'Name': '2019-04', 'Gini_HC': 0.26143215087584815, 'Gini_HC_EXI': 0.3376535467725956, 'Gini_HC_NEW': 0.2514900935601396, 'Gini_KNN': 0.104366298327357, 'Gini_KNN_EXI': 0.10747879127635995, 'Gini_KNN_NEW': 0.09519615264213277, 'Gini_COMB': 0.2750015259550702, 'Gini_COMB_EXI': 0.3432306611494502, 'Gini_COMB_NEW': 0.2632262080956369}, {'Name': '2019-05', 'Gini_HC': 0.26728188169386846, 'Gini_HC_EXI': 0.3619621229696719, 'Gini_HC_NEW': 0.25079256923816184, 'Gini_KNN': 0.10259571651185384, 'Gini_KNN_EXI': 0.08998538285328617, 'Gini_KNN_NEW': 0.10241409762966058, 'Gini_COMB': 0.2823189528683243, 'Gini_COMB_EXI': 0.3645427180913354, 'Gini_COMB_NEW': 0.2662992511186353}, {'Name': '2019-06', 'Gini_HC': 0.2362189398506005, 'Gini_HC_EXI': 0.3007832511704569, 'Gini_HC_NEW': 0.23778647481961146, 'Gini_KNN': 0.08985404886522463, 'Gini_KNN_EXI': 0.07818513013757222, 'Gini_KNN_NEW': 0.08356342058951682, 'Gini_COMB': 0.2502106619405542, 'Gini_COMB_EXI': 0.30568077504418967, 'Gini_COMB_NEW': 0.24874439899283463}, {'Name': '2019-07', 'Gini_HC': 0.2211315060673782, 'Gini_HC_EXI': 0.2885095906717141, 'Gini_HC_NEW': 0.22550727223388733, 'Gini_KNN': 0.0843551953923043, 'Gini_KNN_EXI': 0.07108408070439332, 'Gini_KNN_NEW': 0.07904355807843078, 'Gini_COMB': 0.23319440938398106, 'Gini_COMB_EXI': 0.2886414618730839, 'Gini_COMB_NEW': 0.23625561455089805}]\n"
     ]
    },
    {
     "data": {
      "text/html": [
       "<div>\n",
       "<style scoped>\n",
       "    .dataframe tbody tr th:only-of-type {\n",
       "        vertical-align: middle;\n",
       "    }\n",
       "\n",
       "    .dataframe tbody tr th {\n",
       "        vertical-align: top;\n",
       "    }\n",
       "\n",
       "    .dataframe thead th {\n",
       "        text-align: right;\n",
       "    }\n",
       "</style>\n",
       "<table border=\"1\" class=\"dataframe\">\n",
       "  <thead>\n",
       "    <tr style=\"text-align: right;\">\n",
       "      <th></th>\n",
       "      <th>Gini_COMB</th>\n",
       "      <th>Gini_COMB_EXI</th>\n",
       "      <th>Gini_COMB_NEW</th>\n",
       "      <th>Gini_HC</th>\n",
       "      <th>Gini_HC_EXI</th>\n",
       "      <th>Gini_HC_NEW</th>\n",
       "      <th>Gini_KNN</th>\n",
       "      <th>Gini_KNN_EXI</th>\n",
       "      <th>Gini_KNN_NEW</th>\n",
       "    </tr>\n",
       "    <tr>\n",
       "      <th>Name</th>\n",
       "      <th></th>\n",
       "      <th></th>\n",
       "      <th></th>\n",
       "      <th></th>\n",
       "      <th></th>\n",
       "      <th></th>\n",
       "      <th></th>\n",
       "      <th></th>\n",
       "      <th></th>\n",
       "    </tr>\n",
       "  </thead>\n",
       "  <tbody>\n",
       "    <tr>\n",
       "      <th>2019-01</th>\n",
       "      <td>0.258301</td>\n",
       "      <td>0.334436</td>\n",
       "      <td>0.245146</td>\n",
       "      <td>0.242469</td>\n",
       "      <td>0.331756</td>\n",
       "      <td>0.230475</td>\n",
       "      <td>0.108845</td>\n",
       "      <td>0.095822</td>\n",
       "      <td>0.102949</td>\n",
       "    </tr>\n",
       "    <tr>\n",
       "      <th>2019-02</th>\n",
       "      <td>0.265795</td>\n",
       "      <td>0.318547</td>\n",
       "      <td>0.259227</td>\n",
       "      <td>0.250223</td>\n",
       "      <td>0.316780</td>\n",
       "      <td>0.244148</td>\n",
       "      <td>0.110058</td>\n",
       "      <td>0.095108</td>\n",
       "      <td>0.104871</td>\n",
       "    </tr>\n",
       "    <tr>\n",
       "      <th>2019-03</th>\n",
       "      <td>0.277291</td>\n",
       "      <td>0.342090</td>\n",
       "      <td>0.268674</td>\n",
       "      <td>0.262892</td>\n",
       "      <td>0.338075</td>\n",
       "      <td>0.255962</td>\n",
       "      <td>0.107614</td>\n",
       "      <td>0.100634</td>\n",
       "      <td>0.099941</td>\n",
       "    </tr>\n",
       "    <tr>\n",
       "      <th>2019-04</th>\n",
       "      <td>0.275002</td>\n",
       "      <td>0.343231</td>\n",
       "      <td>0.263226</td>\n",
       "      <td>0.261432</td>\n",
       "      <td>0.337654</td>\n",
       "      <td>0.251490</td>\n",
       "      <td>0.104366</td>\n",
       "      <td>0.107479</td>\n",
       "      <td>0.095196</td>\n",
       "    </tr>\n",
       "    <tr>\n",
       "      <th>2019-05</th>\n",
       "      <td>0.282319</td>\n",
       "      <td>0.364543</td>\n",
       "      <td>0.266299</td>\n",
       "      <td>0.267282</td>\n",
       "      <td>0.361962</td>\n",
       "      <td>0.250793</td>\n",
       "      <td>0.102596</td>\n",
       "      <td>0.089985</td>\n",
       "      <td>0.102414</td>\n",
       "    </tr>\n",
       "    <tr>\n",
       "      <th>2019-06</th>\n",
       "      <td>0.250211</td>\n",
       "      <td>0.305681</td>\n",
       "      <td>0.248744</td>\n",
       "      <td>0.236219</td>\n",
       "      <td>0.300783</td>\n",
       "      <td>0.237786</td>\n",
       "      <td>0.089854</td>\n",
       "      <td>0.078185</td>\n",
       "      <td>0.083563</td>\n",
       "    </tr>\n",
       "    <tr>\n",
       "      <th>2019-07</th>\n",
       "      <td>0.233194</td>\n",
       "      <td>0.288641</td>\n",
       "      <td>0.236256</td>\n",
       "      <td>0.221132</td>\n",
       "      <td>0.288510</td>\n",
       "      <td>0.225507</td>\n",
       "      <td>0.084355</td>\n",
       "      <td>0.071084</td>\n",
       "      <td>0.079044</td>\n",
       "    </tr>\n",
       "  </tbody>\n",
       "</table>\n",
       "</div>"
      ],
      "text/plain": [
       "         Gini_COMB  Gini_COMB_EXI  Gini_COMB_NEW   Gini_HC  Gini_HC_EXI  \\\n",
       "Name                                                                      \n",
       "2019-01   0.258301       0.334436       0.245146  0.242469     0.331756   \n",
       "2019-02   0.265795       0.318547       0.259227  0.250223     0.316780   \n",
       "2019-03   0.277291       0.342090       0.268674  0.262892     0.338075   \n",
       "2019-04   0.275002       0.343231       0.263226  0.261432     0.337654   \n",
       "2019-05   0.282319       0.364543       0.266299  0.267282     0.361962   \n",
       "2019-06   0.250211       0.305681       0.248744  0.236219     0.300783   \n",
       "2019-07   0.233194       0.288641       0.236256  0.221132     0.288510   \n",
       "\n",
       "         Gini_HC_NEW  Gini_KNN  Gini_KNN_EXI  Gini_KNN_NEW  \n",
       "Name                                                        \n",
       "2019-01     0.230475  0.108845      0.095822      0.102949  \n",
       "2019-02     0.244148  0.110058      0.095108      0.104871  \n",
       "2019-03     0.255962  0.107614      0.100634      0.099941  \n",
       "2019-04     0.251490  0.104366      0.107479      0.095196  \n",
       "2019-05     0.250793  0.102596      0.089985      0.102414  \n",
       "2019-06     0.237786  0.089854      0.078185      0.083563  \n",
       "2019-07     0.225507  0.084355      0.071084      0.079044  "
      ]
     },
     "metadata": {},
     "output_type": "display_data"
    }
   ],
   "source": [
    "#MOM Gini\n",
    "#Month on Month Gini\n",
    "df=df_final_test\n",
    "RISK_SCORE = \"RISK_SCORE\"\n",
    "\n",
    "import sys\n",
    "sys.path.append(R'C:\\Users\\aman.khatri91425\\Desktop\\HomeCredit\\Bigdata\\Scoring Worlflow')\n",
    "from scoring.metrics import iv,gini,lift\n",
    "\n",
    "power_tab = []\n",
    "for j in df[\"MONTH_STR\"].unique():\n",
    "    power_tab.append({'Name':j\n",
    "#                    ,'IV':iv(df.loc[(df['MONTH_STR']==j) & (df['FOUND_FLAG']==1),\"RISK_FSTPD30\"], df.loc[(df['MONTH_STR']==j) & (df['FOUND_FLAG']==1),\"YPRED\"])\n",
    "                    ,'Gini_HC':gini(df.loc[(df['MONTH_STR']==j),\"RISK_FSTQPD30\"], df.loc[(df['MONTH_STR']==j),RISK_SCORE])\n",
    "                    ,'Gini_HC_EXI':gini(df.loc[(df['MONTH_STR']==j) & (df['CLIENT_EXI_3M']=='Y'),\"RISK_FSTQPD30\"], df.loc[(df['MONTH_STR']==j) & (df['CLIENT_EXI_3M']=='Y'),RISK_SCORE])\n",
    "                    ,'Gini_HC_NEW':gini(df.loc[(df['MONTH_STR']==j) & (df['CLIENT_EXI_3M']=='N'),\"RISK_FSTQPD30\"], df.loc[(df['MONTH_STR']==j) & (df['CLIENT_EXI_3M']=='N'),RISK_SCORE])\n",
    "                    \n",
    "                    ,'Gini_KNN':gini(df.loc[(df['MONTH_STR']==j),\"RISK_FSTQPD30\"], df.loc[(df['MONTH_STR']==j),\"PRED_SCORE\"])\n",
    "                    ,'Gini_KNN_EXI':gini(df.loc[(df['MONTH_STR']==j) & (df['CLIENT_EXI_3M']=='Y'),\"RISK_FSTQPD30\"], df.loc[(df['MONTH_STR']==j) & (df['CLIENT_EXI_3M']=='Y'),\"PRED_SCORE\"])\n",
    "                    ,'Gini_KNN_NEW':gini(df.loc[(df['MONTH_STR']==j) & (df['CLIENT_EXI_3M']=='N'),\"RISK_FSTQPD30\"], df.loc[(df['MONTH_STR']==j) & (df['CLIENT_EXI_3M']=='N'),\"PRED_SCORE\"])\n",
    "                    \n",
    "                    ,'Gini_COMB':gini(df.loc[(df['MONTH_STR']==j),\"RISK_FSTQPD30\"], df.loc[(df['MONTH_STR']==j),\"COMBINED_SCORE\"])\n",
    "                    ,'Gini_COMB_EXI':gini(df.loc[(df['MONTH_STR']==j) & (df['CLIENT_EXI_3M']=='Y'),\"RISK_FSTQPD30\"], df.loc[(df['MONTH_STR']==j) & (df['CLIENT_EXI_3M']=='Y'),\"COMBINED_SCORE\"])\n",
    "                    ,'Gini_COMB_NEW':gini(df.loc[(df['MONTH_STR']==j) & (df['CLIENT_EXI_3M']=='N'),\"RISK_FSTQPD30\"], df.loc[(df['MONTH_STR']==j) & (df['CLIENT_EXI_3M']=='N'),\"COMBINED_SCORE\"])\n",
    "                    \n",
    "                      #                    ,'Lift':lift(df.loc[(df['MONTH_STR']==j) & (df['FOUND_FLAG']==1),\"RISK_FSTPD30\"], df.loc[(df['MONTH_STR']==j) & (df['FOUND_FLAG']==1),\"YPRED\"])\n",
    "                         })\n",
    "    \n",
    "power_out = pd.DataFrame.from_records(power_tab)\n",
    "power_out = power_out.set_index('Name')\n",
    "power_out = power_out.sort_values('Name',ascending=True)\n",
    "\n",
    "pd.options.display.max_rows = 1000\n",
    "display(power_out)\n",
    "pd.options.display.max_rows = 15\n",
    "power_out.to_csv(r\"C:\\Users\\aman.khatri91425\\Desktop\\HomeCredit\\Bigdata\\Common Maps KNN\\mom_hc_found_gini_all_scores.csv\")"
   ]
  },
  {
   "cell_type": "code",
   "execution_count": 50,
   "metadata": {},
   "outputs": [],
   "source": [
    "df_final_test[[\"SKP_CREDIT_CASE\",\"PRED_SCORE\"]].to_csv(r\"C:\\Users\\aman.khatri91425\\Desktop\\HomeCredit\\Bigdata\\Common Maps KNN\\upload_scores.csv\", index = False)"
   ]
  },
  {
   "cell_type": "code",
   "execution_count": null,
   "metadata": {},
   "outputs": [],
   "source": []
  },
  {
   "cell_type": "code",
   "execution_count": null,
   "metadata": {},
   "outputs": [],
   "source": []
  },
  {
   "cell_type": "code",
   "execution_count": null,
   "metadata": {},
   "outputs": [],
   "source": []
  },
  {
   "cell_type": "code",
   "execution_count": null,
   "metadata": {},
   "outputs": [],
   "source": []
  },
  {
   "cell_type": "code",
   "execution_count": 126,
   "metadata": {},
   "outputs": [
    {
     "data": {
      "text/html": [
       "<div>\n",
       "<style scoped>\n",
       "    .dataframe tbody tr th:only-of-type {\n",
       "        vertical-align: middle;\n",
       "    }\n",
       "\n",
       "    .dataframe tbody tr th {\n",
       "        vertical-align: top;\n",
       "    }\n",
       "\n",
       "    .dataframe thead th {\n",
       "        text-align: right;\n",
       "    }\n",
       "</style>\n",
       "<table border=\"1\" class=\"dataframe\">\n",
       "  <thead>\n",
       "    <tr style=\"text-align: right;\">\n",
       "      <th></th>\n",
       "      <th>GRID_ID</th>\n",
       "      <th>MEAN_PRED_SCORE</th>\n",
       "    </tr>\n",
       "  </thead>\n",
       "  <tbody>\n",
       "    <tr>\n",
       "      <th>0</th>\n",
       "      <td>500_00336_03130</td>\n",
       "      <td>0.430657</td>\n",
       "    </tr>\n",
       "    <tr>\n",
       "      <th>1</th>\n",
       "      <td>500_00343_03387</td>\n",
       "      <td>0.474453</td>\n",
       "    </tr>\n",
       "    <tr>\n",
       "      <th>2</th>\n",
       "      <td>500_00353_03201</td>\n",
       "      <td>0.435523</td>\n",
       "    </tr>\n",
       "    <tr>\n",
       "      <th>3</th>\n",
       "      <td>500_00357_03379</td>\n",
       "      <td>0.476886</td>\n",
       "    </tr>\n",
       "    <tr>\n",
       "      <th>4</th>\n",
       "      <td>500_00363_03386</td>\n",
       "      <td>0.479319</td>\n",
       "    </tr>\n",
       "  </tbody>\n",
       "</table>\n",
       "</div>"
      ],
      "text/plain": [
       "           GRID_ID  MEAN_PRED_SCORE\n",
       "0  500_00336_03130         0.430657\n",
       "1  500_00343_03387         0.474453\n",
       "2  500_00353_03201         0.435523\n",
       "3  500_00357_03379         0.476886\n",
       "4  500_00363_03386         0.479319"
      ]
     },
     "execution_count": 126,
     "metadata": {},
     "output_type": "execute_result"
    }
   ],
   "source": [
    "grid_score = df.groupby(\"GRID_ID\").mean()['PRED_SCORE'].reset_index()\n",
    "grid_score.columns = ['GRID_ID','MEAN_PRED_SCORE']\n",
    "grid_score.head()"
   ]
  },
  {
   "cell_type": "code",
   "execution_count": 127,
   "metadata": {},
   "outputs": [],
   "source": [
    "df_final = pd.merge(df, grid_score, on = 'GRID_ID')"
   ]
  },
  {
   "cell_type": "code",
   "execution_count": 131,
   "metadata": {},
   "outputs": [
    {
     "name": "stderr",
     "output_type": "stream",
     "text": [
      "C:\\Users\\aman.khatri91425\\AppData\\Local\\Continuum\\anaconda3\\lib\\site-packages\\sklearn\\linear_model\\logistic.py:433: FutureWarning: Default solver will be changed to 'lbfgs' in 0.22. Specify a solver to silence this warning.\n",
      "  FutureWarning)\n"
     ]
    },
    {
     "name": "stdout",
     "output_type": "stream",
     "text": [
      "gini_combined: 27.19%\n",
      "\n",
      "gini_knn: 11.80%\n",
      "\n",
      "gini_hc: 25.02%\n"
     ]
    }
   ],
   "source": [
    "#Calculate Gini Lift Logistic Regression (p/1-p) transformation on mean grid score\n",
    "\n",
    "df_final[\"LOGIT_RISK_SCORE\"] = [np.log(x/(1-x)) for x in df_final[\"RISK_SCORE\"]]\n",
    "df_final[\"LOGIT_MEAN_PRED_SCORE\"] = [np.log(x/(1-x)) for x in df_final[\"MEAN_PRED_SCORE\"]]\n",
    "\n",
    "from sklearn.linear_model import LogisticRegression\n",
    "comb=LogisticRegression()\n",
    "comb.fit(df_final[['LOGIT_RISK_SCORE','LOGIT_MEAN_PRED_SCORE']],df_final[\"RISK_FSTQPD30\"])\n",
    "\n",
    "y_pred_comb=comb.predict_proba(df_final[['LOGIT_RISK_SCORE','LOGIT_MEAN_PRED_SCORE']])[:,1]\n",
    "\n",
    "metric_auc_combined = metrics.roc_auc_score(df_final[\"RISK_FSTQPD30\"], y_pred_comb)\n",
    "metric_auc_knn = metrics.roc_auc_score(df_final[\"RISK_FSTQPD30\"], df_final[\"MEAN_PRED_SCORE\"])\n",
    "metric_auc_hc = metrics.roc_auc_score(df_final[\"RISK_FSTQPD30\"], df_final[\"RISK_SCORE\"])\n",
    "\n",
    "\n",
    "gini_combined = 2 * metric_auc_combined - 1\n",
    "gini_knn = 2 * metric_auc_knn - 1\n",
    "gini_hc = 2 * metric_auc_hc - 1\n",
    "\n",
    "print(\"gini_combined:\",'{:,.2%}'.format(gini_combined))\n",
    "print(\"\\ngini_knn:\",'{:,.2%}'.format(gini_knn))\n",
    "print(\"\\ngini_hc:\",'{:,.2%}'.format(gini_hc))"
   ]
  },
  {
   "cell_type": "code",
   "execution_count": 134,
   "metadata": {},
   "outputs": [],
   "source": [
    "df_final = df_final.drop(columns = 'Unnamed: 0')"
   ]
  },
  {
   "cell_type": "code",
   "execution_count": 1,
   "metadata": {},
   "outputs": [
    {
     "ename": "NameError",
     "evalue": "name 'df_final' is not defined",
     "output_type": "error",
     "traceback": [
      "\u001b[1;31m---------------------------------------------------------------------------\u001b[0m",
      "\u001b[1;31mNameError\u001b[0m                                 Traceback (most recent call last)",
      "\u001b[1;32m<ipython-input-1-2f41547b0925>\u001b[0m in \u001b[0;36m<module>\u001b[1;34m\u001b[0m\n\u001b[1;32m----> 1\u001b[1;33m \u001b[0mdf_final\u001b[0m\u001b[1;33m.\u001b[0m\u001b[0mto_pickle\u001b[0m\u001b[1;33m(\u001b[0m\u001b[1;34mr\"C:\\Users\\aman.khatri91425\\Desktop\\HomeCredit\\Bigdata\\Common Maps KNN\\Combined_Scores_mean_grid.pkl\"\u001b[0m\u001b[1;33m)\u001b[0m\u001b[1;33m\u001b[0m\u001b[1;33m\u001b[0m\u001b[0m\n\u001b[0m",
      "\u001b[1;31mNameError\u001b[0m: name 'df_final' is not defined"
     ]
    }
   ],
   "source": [
    "df_final.to_pickle(r\"C:\\Users\\aman.khatri91425\\Desktop\\HomeCredit\\Bigdata\\Common Maps KNN\\Combined_Scores_mean_grid.pkl\")"
   ]
  },
  {
   "cell_type": "code",
   "execution_count": null,
   "metadata": {},
   "outputs": [],
   "source": []
  },
  {
   "cell_type": "code",
   "execution_count": null,
   "metadata": {},
   "outputs": [],
   "source": []
  },
  {
   "cell_type": "code",
   "execution_count": 33,
   "metadata": {},
   "outputs": [],
   "source": [
    "import gmplot\n",
    "# For improved table display in the notebook\n",
    "from IPython.display import display\n",
    "\n",
    "gmap = gmplot.GoogleMapPlotter(28.4431, 77.073, 10)\n",
    "\n",
    "# Overlay our datapoints onto the map\n",
    "gmap.heatmap(df[df[\"PRODUCT_GROUP\"]==\"CD\"][\"CUS_LAT\"], df[df[\"PRODUCT_GROUP\"]==\"CD\"][\"CUS_LONG\"])\n",
    "\n",
    "# Generate the heatmap into an HTML file\n",
    "gmap.draw(\"cd_all.html\")\n",
    "\n",
    "\n",
    "gmap1 = gmplot.GoogleMapPlotter(28.4431, 77.073, 10)\n",
    "\n",
    "# Overlay our datapoints onto the map\n",
    "gmap1.heatmap(df[(df[\"PRODUCT_GROUP\"]==\"CD\") & (df[\"RISK_FSTQPD30\"] == 1)][\"CUS_LAT\"], df[(df[\"PRODUCT_GROUP\"]==\"CD\") & (df[\"RISK_FSTQPD30\"] == 1)][\"CUS_LONG\"])\n",
    "\n",
    "# Generate the heatmap into an HTML file\n",
    "gmap1.draw(\"cd_default.html\")"
   ]
  }
 ],
 "metadata": {
  "kernelspec": {
   "display_name": "Python 3",
   "language": "python",
   "name": "python3"
  },
  "language_info": {
   "codemirror_mode": {
    "name": "ipython",
    "version": 3
   },
   "file_extension": ".py",
   "mimetype": "text/x-python",
   "name": "python",
   "nbconvert_exporter": "python",
   "pygments_lexer": "ipython3",
   "version": "3.7.3"
  }
 },
 "nbformat": 4,
 "nbformat_minor": 2
}
