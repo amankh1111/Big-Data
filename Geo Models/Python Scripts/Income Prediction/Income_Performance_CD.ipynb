{
 "cells": [
  {
   "cell_type": "code",
   "execution_count": 2,
   "metadata": {},
   "outputs": [],
   "source": [
    "import os\n",
    "import cx_Oracle\n",
    "import pandas as pd\n",
    "import numpy as np\n",
    "import pickle\n",
    "from datetime import date,datetime\n",
    "from sklearn import metrics\n",
    "from sklearn.model_selection import train_test_split, StratifiedKFold, RandomizedSearchCV, cross_val_score \n",
    "import time\n",
    "import matplotlib.pyplot as plt\n",
    "from sklearn.utils import resample\n",
    "import datetime\n",
    "import sys\n",
    "sys.path.append(R'C:\\Users\\aman.khatri91425\\Desktop\\HomeCredit\\Bigdata\\Scoring Worlflow')"
   ]
  },
  {
   "cell_type": "markdown",
   "metadata": {},
   "source": [
    "# Upload Scores to DWH"
   ]
  },
  {
   "cell_type": "code",
   "execution_count": 3,
   "metadata": {},
   "outputs": [],
   "source": [
    "df = pd.read_pickle(r\"C:\\Users\\aman.khatri91425\\Desktop\\HomeCredit\\Bigdata\\Common Maps KNN\\Data Files\\scored_income_2019.pkl\")"
   ]
  },
  {
   "cell_type": "code",
   "execution_count": 3,
   "metadata": {},
   "outputs": [],
   "source": [
    "df= df[[\"SKP_CREDIT_CASE\",\"PRED_INCOME\"]]"
   ]
  },
  {
   "cell_type": "code",
   "execution_count": 4,
   "metadata": {},
   "outputs": [],
   "source": [
    "df.to_csv(r\"C:\\Users\\aman.khatri91425\\Desktop\\HomeCredit\\Bigdata\\Common Maps KNN\\Data Files\\scored_income_upload_dwh.csv\", index = False)"
   ]
  },
  {
   "cell_type": "code",
   "execution_count": 5,
   "metadata": {},
   "outputs": [],
   "source": [
    "#upload to TBD_INCOME_PRED"
   ]
  },
  {
   "cell_type": "markdown",
   "metadata": {},
   "source": [
    "# Read Data File"
   ]
  },
  {
   "cell_type": "code",
   "execution_count": 7,
   "metadata": {},
   "outputs": [],
   "source": [
    "df= pd.read_pickle(r\"C:\\Users\\aman.khatri91425\\Desktop\\HomeCredit\\Bigdata\\Common Maps KNN\\Data Files\\scored_income_2019.pkl\")\n"
   ]
  },
  {
   "cell_type": "code",
   "execution_count": 73,
   "metadata": {},
   "outputs": [],
   "source": [
    "df1 = pd.read_pickle(r\"C:\\Users\\aman.khatri91425\\Desktop\\HomeCredit\\Bigdata\\Common Maps KNN\\Data Files\\data_dump_income_pred.pkl\")"
   ]
  },
  {
   "cell_type": "code",
   "execution_count": 74,
   "metadata": {},
   "outputs": [],
   "source": [
    "df1= df1[['SKP_CREDIT_CASE','CLIENT_DEBT', 'CLIENT_EMI','NTC_FLAG']]"
   ]
  },
  {
   "cell_type": "code",
   "execution_count": 75,
   "metadata": {},
   "outputs": [],
   "source": [
    "df = df.merge(df1, on= 'SKP_CREDIT_CASE', how = 'inner')"
   ]
  },
  {
   "cell_type": "markdown",
   "metadata": {},
   "source": [
    "# Create features for Analysis "
   ]
  },
  {
   "cell_type": "code",
   "execution_count": 77,
   "metadata": {},
   "outputs": [],
   "source": [
    "df.columns= ['SKP_CREDIT_CASE', 'TIME_DECISION_DATE', 'CUS_LAT', 'CUS_LONG',\n",
    "       'RISK_FSTQPD30', 'RISK_SCORE', 'GRID_ID', 'REPORTED_INCOME',\n",
    "       'MONTH_STR', 'PRED_INCOME', 'CLIENT_DEBT', 'CLIENT_EMI', 'NTC_FLAG']"
   ]
  },
  {
   "cell_type": "code",
   "execution_count": 78,
   "metadata": {},
   "outputs": [],
   "source": [
    "features_list = [\"REPORTED_INCOME\",\"PRED_INCOME\",\"MIN_INCOME\",\"RATIO_PRED_REPORTED_INCOME\",\"DTI_PRED_INCOME\",\"DTI_REPORTED_INCOME\",\"DTI_MIN_INCOME\"]"
   ]
  },
  {
   "cell_type": "code",
   "execution_count": 79,
   "metadata": {},
   "outputs": [],
   "source": [
    "df[\"MIN_INCOME\"] = df[['REPORTED_INCOME','PRED_INCOME']].min(axis=1)"
   ]
  },
  {
   "cell_type": "code",
   "execution_count": 80,
   "metadata": {},
   "outputs": [],
   "source": [
    "df[\"RATIO_PRED_REPORTED_INCOME\"] = df['PRED_INCOME']/df['REPORTED_INCOME']"
   ]
  },
  {
   "cell_type": "code",
   "execution_count": 81,
   "metadata": {
    "scrolled": true
   },
   "outputs": [
    {
     "name": "stderr",
     "output_type": "stream",
     "text": [
      "C:\\Users\\aman.khatri91425\\AppData\\Local\\Continuum\\anaconda3\\lib\\site-packages\\ipykernel_launcher.py:2: RuntimeWarning: divide by zero encountered in double_scalars\n",
      "  \n",
      "C:\\Users\\aman.khatri91425\\AppData\\Local\\Continuum\\anaconda3\\lib\\site-packages\\ipykernel_launcher.py:3: RuntimeWarning: divide by zero encountered in double_scalars\n",
      "  This is separate from the ipykernel package so we can avoid doing imports until\n"
     ]
    }
   ],
   "source": [
    "df[\"DTI_PRED_INCOME\"] = [(df[\"CLIENT_DEBT\"][x]+ df[\"CLIENT_EMI\"][x]+1500)/df[\"PRED_INCOME\"][x] for x in df.index]\n",
    "df[\"DTI_REPORTED_INCOME\"] = [(df[\"CLIENT_DEBT\"][x]+ df[\"CLIENT_EMI\"][x]+1500)/df[\"REPORTED_INCOME\"][x] for x in df.index]\n",
    "df[\"DTI_MIN_INCOME\"] = [(df[\"CLIENT_DEBT\"][x]+ df[\"CLIENT_EMI\"][x]+1500)/df[\"MIN_INCOME\"][x] for x in df.index]\n"
   ]
  },
  {
   "cell_type": "code",
   "execution_count": 129,
   "metadata": {},
   "outputs": [
    {
     "data": {
      "text/plain": [
       "(2427841, 18)"
      ]
     },
     "execution_count": 129,
     "metadata": {},
     "output_type": "execute_result"
    }
   ],
   "source": [
    "df.shape"
   ]
  },
  {
   "cell_type": "code",
   "execution_count": 138,
   "metadata": {},
   "outputs": [],
   "source": [
    "df = df[~df[\"MIN_INCOME\"].isin([0,np.inf,np.nan])]"
   ]
  },
  {
   "cell_type": "code",
   "execution_count": 139,
   "metadata": {},
   "outputs": [],
   "source": [
    "df.to_pickle(r\"C:\\Users\\aman.khatri91425\\Desktop\\HomeCredit\\Bigdata\\Common Maps KNN\\Data Files\\scored_income_v1.pkl\")"
   ]
  },
  {
   "cell_type": "markdown",
   "metadata": {},
   "source": [
    "# MOM R Square"
   ]
  },
  {
   "cell_type": "code",
   "execution_count": 140,
   "metadata": {},
   "outputs": [],
   "source": [
    "from sklearn.metrics import mean_squared_error as mse\n",
    "from sklearn.metrics import r2_score "
   ]
  },
  {
   "cell_type": "code",
   "execution_count": 206,
   "metadata": {},
   "outputs": [
    {
     "data": {
      "text/html": [
       "<div>\n",
       "<style scoped>\n",
       "    .dataframe tbody tr th:only-of-type {\n",
       "        vertical-align: middle;\n",
       "    }\n",
       "\n",
       "    .dataframe tbody tr th {\n",
       "        vertical-align: top;\n",
       "    }\n",
       "\n",
       "    .dataframe thead th {\n",
       "        text-align: right;\n",
       "    }\n",
       "</style>\n",
       "<table border=\"1\" class=\"dataframe\">\n",
       "  <thead>\n",
       "    <tr style=\"text-align: right;\">\n",
       "      <th></th>\n",
       "      <th>MONTH_STR</th>\n",
       "      <th>RMSE</th>\n",
       "      <th>R_SQUARED</th>\n",
       "    </tr>\n",
       "  </thead>\n",
       "  <tbody>\n",
       "    <tr>\n",
       "      <th>0</th>\n",
       "      <td>2019-01</td>\n",
       "      <td>5447.0</td>\n",
       "      <td>0.120934</td>\n",
       "    </tr>\n",
       "    <tr>\n",
       "      <th>1</th>\n",
       "      <td>2019-02</td>\n",
       "      <td>5340.0</td>\n",
       "      <td>0.123691</td>\n",
       "    </tr>\n",
       "    <tr>\n",
       "      <th>2</th>\n",
       "      <td>2019-03</td>\n",
       "      <td>5548.0</td>\n",
       "      <td>0.119918</td>\n",
       "    </tr>\n",
       "    <tr>\n",
       "      <th>3</th>\n",
       "      <td>2019-04</td>\n",
       "      <td>5552.0</td>\n",
       "      <td>0.121939</td>\n",
       "    </tr>\n",
       "    <tr>\n",
       "      <th>4</th>\n",
       "      <td>2019-05</td>\n",
       "      <td>5895.0</td>\n",
       "      <td>0.108702</td>\n",
       "    </tr>\n",
       "    <tr>\n",
       "      <th>5</th>\n",
       "      <td>2019-06</td>\n",
       "      <td>5889.0</td>\n",
       "      <td>0.104299</td>\n",
       "    </tr>\n",
       "    <tr>\n",
       "      <th>6</th>\n",
       "      <td>2019-07</td>\n",
       "      <td>5900.0</td>\n",
       "      <td>0.109082</td>\n",
       "    </tr>\n",
       "    <tr>\n",
       "      <th>7</th>\n",
       "      <td>2019-08</td>\n",
       "      <td>5845.0</td>\n",
       "      <td>0.116139</td>\n",
       "    </tr>\n",
       "  </tbody>\n",
       "</table>\n",
       "</div>"
      ],
      "text/plain": [
       "  MONTH_STR    RMSE  R_SQUARED\n",
       "0   2019-01  5447.0   0.120934\n",
       "1   2019-02  5340.0   0.123691\n",
       "2   2019-03  5548.0   0.119918\n",
       "3   2019-04  5552.0   0.121939\n",
       "4   2019-05  5895.0   0.108702\n",
       "5   2019-06  5889.0   0.104299\n",
       "6   2019-07  5900.0   0.109082\n",
       "7   2019-08  5845.0   0.116139"
      ]
     },
     "execution_count": 206,
     "metadata": {},
     "output_type": "execute_result"
    }
   ],
   "source": [
    "dic= {\"MONTH_STR\":[],\"RMSE\":[],\"R_SQUARED\":[]}\n",
    "for x in df.MONTH_STR.unique():\n",
    "    dic[\"MONTH_STR\"].append(x)\n",
    "    dic[\"RMSE\"].append(round(np.sqrt(mse(df[df.MONTH_STR==x][\"REPORTED_INCOME\"],df[df.MONTH_STR==x][\"PRED_INCOME\"]))))\n",
    "    dic[\"R_SQUARED\"].append(r2_score(df[df.MONTH_STR==x][\"REPORTED_INCOME\"],df[df.MONTH_STR==x][\"PRED_INCOME\"]))\n",
    "    \n",
    "r_sq_df = pd.DataFrame(dic)\n",
    "\n",
    "r_sq_df"
   ]
  },
  {
   "cell_type": "code",
   "execution_count": 222,
   "metadata": {},
   "outputs": [
    {
     "data": {
      "image/png": "[encoded data removed]",
      "text/plain": [
       "<Figure size 720x360 with 1 Axes>"
      ]
     },
     "metadata": {
      "needs_background": "light"
     },
     "output_type": "display_data"
    }
   ],
   "source": [
    "import matplotlib.pyplot as plt\n",
    "\n",
    "fig = plt.figure(figsize = (10,5))\n",
    "ax1 = fig.add_subplot(1,1,1)\n",
    "\n",
    "ax1.plot(r_sq_df[\"MONTH_STR\"],r_sq_df[\"R_SQUARED\"], marker = 'o', label = 'R_Square')\n",
    "\n",
    "for i, txt in enumerate(r_sq_df[\"R_SQUARED\"]):\n",
    "    plt.annotate(\"{:.2f}\".format(txt), (r_sq_df[\"MONTH_STR\"][i], r_sq_df[\"R_SQUARED\"][i]+0.003))\n",
    "\n",
    "plt.legend(loc='lower right', borderaxespad=0.1)\n",
    "plt.ylim(0,0.15)\n",
    "plt.ylabel(\"R_Square\")\n",
    "plt.xlabel(\"MONTH\")\n",
    "ax1.set_title(\"MOM R Square\")\n",
    "plt.show()"
   ]
  },
  {
   "cell_type": "markdown",
   "metadata": {},
   "source": [
    "# Gini and IV of Features for Comparison"
   ]
  },
  {
   "cell_type": "code",
   "execution_count": 165,
   "metadata": {},
   "outputs": [],
   "source": [
    "df1=df"
   ]
  },
  {
   "cell_type": "markdown",
   "metadata": {},
   "source": [
    "### Reduce sample size to reduce computation in calculations for IV, Gini"
   ]
  },
  {
   "cell_type": "code",
   "execution_count": 198,
   "metadata": {},
   "outputs": [],
   "source": [
    "df = df1.sample(n=300000,random_state=2)"
   ]
  },
  {
   "cell_type": "code",
   "execution_count": 199,
   "metadata": {},
   "outputs": [],
   "source": [
    "for x in features_list:\n",
    "    df[x+\"_BINS\"] = pd.qcut(df[x],10,duplicates = 'drop')"
   ]
  },
  {
   "cell_type": "code",
   "execution_count": 202,
   "metadata": {},
   "outputs": [
    {
     "name": "stdout",
     "output_type": "stream",
     "text": [
      "REPORTED_INCOME\n",
      "PRED_INCOME\n",
      "MIN_INCOME\n",
      "RATIO_PRED_REPORTED_INCOME\n",
      "DTI_PRED_INCOME\n",
      "DTI_REPORTED_INCOME\n",
      "DTI_MIN_INCOME\n"
     ]
    }
   ],
   "source": [
    "from scoring.metrics import iv,gini\n",
    "cols_list= features_list\n",
    "col_target= 'RISK_FSTQPD30'\n",
    "power_tab = {'VARIABLE_NAME':[],'IV':[],'GINI':[]}\n",
    "for j in range(0,len(cols_list)):\n",
    "        power_tab[\"VARIABLE_NAME\"].append(cols_list[j])\n",
    "        power_tab[\"IV\"].append(\"{:.2%}\".format(iv(df[col_target],df[cols_list[j]+\"_BINS\"])))\n",
    "        power_tab[\"GINI\"].append(\"{:.2%}\".format((2*metrics.roc_auc_score(df[col_target],df[cols_list[j]])-1)))\n",
    "        print(cols_list[j])"
   ]
  },
  {
   "cell_type": "code",
   "execution_count": 204,
   "metadata": {},
   "outputs": [
    {
     "data": {
      "text/html": [
       "<div>\n",
       "<style scoped>\n",
       "    .dataframe tbody tr th:only-of-type {\n",
       "        vertical-align: middle;\n",
       "    }\n",
       "\n",
       "    .dataframe tbody tr th {\n",
       "        vertical-align: top;\n",
       "    }\n",
       "\n",
       "    .dataframe thead th {\n",
       "        text-align: right;\n",
       "    }\n",
       "</style>\n",
       "<table border=\"1\" class=\"dataframe\">\n",
       "  <thead>\n",
       "    <tr style=\"text-align: right;\">\n",
       "      <th></th>\n",
       "      <th>IV</th>\n",
       "      <th>GINI</th>\n",
       "    </tr>\n",
       "    <tr>\n",
       "      <th>VARIABLE_NAME</th>\n",
       "      <th></th>\n",
       "      <th></th>\n",
       "    </tr>\n",
       "  </thead>\n",
       "  <tbody>\n",
       "    <tr>\n",
       "      <th>DTI_PRED_INCOME</th>\n",
       "      <td>1.44%</td>\n",
       "      <td>5.92%</td>\n",
       "    </tr>\n",
       "    <tr>\n",
       "      <th>DTI_MIN_INCOME</th>\n",
       "      <td>1.01%</td>\n",
       "      <td>5.64%</td>\n",
       "    </tr>\n",
       "    <tr>\n",
       "      <th>DTI_REPORTED_INCOME</th>\n",
       "      <td>0.52%</td>\n",
       "      <td>4.04%</td>\n",
       "    </tr>\n",
       "    <tr>\n",
       "      <th>PRED_INCOME</th>\n",
       "      <td>0.30%</td>\n",
       "      <td>2.68%</td>\n",
       "    </tr>\n",
       "    <tr>\n",
       "      <th>MIN_INCOME</th>\n",
       "      <td>0.22%</td>\n",
       "      <td>1.78%</td>\n",
       "    </tr>\n",
       "    <tr>\n",
       "      <th>REPORTED_INCOME</th>\n",
       "      <td>0.12%</td>\n",
       "      <td>1.24%</td>\n",
       "    </tr>\n",
       "    <tr>\n",
       "      <th>RATIO_PRED_REPORTED_INCOME</th>\n",
       "      <td>0.04%</td>\n",
       "      <td>-0.46%</td>\n",
       "    </tr>\n",
       "  </tbody>\n",
       "</table>\n",
       "</div>"
      ],
      "text/plain": [
       "                               IV    GINI\n",
       "VARIABLE_NAME                            \n",
       "DTI_PRED_INCOME             1.44%   5.92%\n",
       "DTI_MIN_INCOME              1.01%   5.64%\n",
       "DTI_REPORTED_INCOME         0.52%   4.04%\n",
       "PRED_INCOME                 0.30%   2.68%\n",
       "MIN_INCOME                  0.22%   1.78%\n",
       "REPORTED_INCOME             0.12%   1.24%\n",
       "RATIO_PRED_REPORTED_INCOME  0.04%  -0.46%"
      ]
     },
     "metadata": {},
     "output_type": "display_data"
    }
   ],
   "source": [
    "power_out = pd.DataFrame(power_tab)\n",
    "power_out = power_out.set_index('VARIABLE_NAME')\n",
    "power_out = power_out.sort_values('GINI',ascending=False)\n",
    "\n",
    "pd.options.display.max_rows = 1000\n",
    "display(power_out)\n",
    "\n",
    "power_out.to_csv(r\"C:\\Users\\aman.khatri91425\\Desktop\\HomeCredit\\Bigdata\\Common Maps KNN\\gini_iv.csv\")"
   ]
  },
  {
   "cell_type": "markdown",
   "metadata": {},
   "source": [
    "### To make MOM calculations of IV, GINI"
   ]
  },
  {
   "cell_type": "code",
   "execution_count": null,
   "metadata": {},
   "outputs": [],
   "source": [
    "from scoring.metrics import iv,gini,lift\n",
    "cols_list= features_list\n",
    "col_target= 'RISK_FSTQPD30'\n",
    "power_tab = {'VARIABLE_NAME':[],'MONTH':[],'IV':[],'GINI':[]}\n",
    "for j in range(0,len(cols_list)):\n",
    "    for k in df.MONTH_STR.unique():\n",
    "        power_tab[\"VARIABLE_NAME\"].append(j)\n",
    "        power_tab[\"MONTH\"].append(k)\n",
    "        power_tab[\"IV\"].append(\"{:.1%}\".format(iv(df[df.MONTH_STR==k][col_target],df[df.MONTH_STR==k][cols_list[j]+\"_BINS\"])))\n",
    "        power_tab[\"GINI\"].append(\"{:.1%}\".format((2*metrics.roc_auc_score(df[df.MONTH_STR==k][col_target],df[df.MONTH_STR==k][cols_list[j]])-1)))"
   ]
  },
  {
   "cell_type": "code",
   "execution_count": null,
   "metadata": {},
   "outputs": [],
   "source": [
    "power_out = pd.DataFrame(power_tab)\n",
    "power_out = power_out.set_index('VARIABLE_NAME')\n",
    "power_out = power_out.sort_values('Gini',ascending=False)\n",
    "\n",
    "pd.options.display.max_rows = 1000\n",
    "display(power_out)\n",
    "\n",
    "power_out.to_csv(r\"C:\\Users\\aman.khatri91425\\Desktop\\HomeCredit\\Bigdata\\Common Maps KNN\\mom_gini_iv.csv\")"
   ]
  },
  {
   "cell_type": "markdown",
   "metadata": {},
   "source": [
    "# WOE Analysis"
   ]
  },
  {
   "cell_type": "code",
   "execution_count": 143,
   "metadata": {},
   "outputs": [],
   "source": [
    "df=df1\n",
    "# Split Train and Test Data Set\n",
    "df_train = df[(df[\"TIME_DECISION_DATE\"]>=datetime.datetime(2019, 1, 1)) & \n",
    "              (df[\"TIME_DECISION_DATE\"]<=datetime.datetime(2019, 3, 31))]\n",
    "df_valid = df[(df[\"TIME_DECISION_DATE\"]>=datetime.datetime(2019, 4, 1)) & \n",
    "              (df[\"TIME_DECISION_DATE\"]<=datetime.datetime(2019, 5, 31))]\n",
    "df_test = df[(df[\"TIME_DECISION_DATE\"]>=datetime.datetime(2019, 6, 1)) & \n",
    "              (df[\"TIME_DECISION_DATE\"]<=datetime.datetime(2019, 8, 31))]"
   ]
  },
  {
   "cell_type": "code",
   "execution_count": 145,
   "metadata": {},
   "outputs": [],
   "source": [
    "cols_pred_num=features_list\n",
    "cols_pred_cat = []"
   ]
  },
  {
   "cell_type": "code",
   "execution_count": null,
   "metadata": {},
   "outputs": [],
   "source": [
    "from scoring.grouping import Grouping\n",
    "\n",
    "grouping = Grouping(columns = sorted(cols_pred_num),\n",
    "                    cat_columns = sorted(cols_pred_cat),\n",
    "                    group_count=4, \n",
    "                    min_samples=100000)\n",
    "\n",
    "grouping.fit(df_train[cols_pred_num],\n",
    "             df_train[\"RISK_FSTQPD30\"],\n",
    "          #   w=data[train_mask][col_weight],\n",
    "            progress_bar=True, category_limit=10000);\n",
    "\n",
    "grouping.save(r\"C:\\Users\\aman.khatri91425\\Desktop\\HomeCredit\\Bigdata\\Common Maps KNN\\my_grouping\")\n",
    "\n",
    "data_woe = grouping.transform(df, transform_to='woe', progress_bar=True)"
   ]
  },
  {
   "cell_type": "markdown",
   "metadata": {},
   "source": [
    "### Plot Bins"
   ]
  },
  {
   "cell_type": "code",
   "execution_count": 151,
   "metadata": {
    "scrolled": true
   },
   "outputs": [
    {
     "data": {
      "text/markdown": [
       "***"
      ],
      "text/plain": [
       "<IPython.core.display.Markdown object>"
      ]
     },
     "metadata": {},
     "output_type": "display_data"
    },
    {
     "data": {
      "text/markdown": [
       "### DTI_MIN_INCOME"
      ],
      "text/plain": [
       "<IPython.core.display.Markdown object>"
      ]
     },
     "metadata": {},
     "output_type": "display_data"
    },
    {
     "data": {
      "text/html": [
       "<div>\n",
       "<style scoped>\n",
       "    .dataframe tbody tr th:only-of-type {\n",
       "        vertical-align: middle;\n",
       "    }\n",
       "\n",
       "    .dataframe tbody tr th {\n",
       "        vertical-align: top;\n",
       "    }\n",
       "\n",
       "    .dataframe thead th {\n",
       "        text-align: right;\n",
       "    }\n",
       "</style>\n",
       "<table border=\"1\" class=\"dataframe\">\n",
       "  <thead>\n",
       "    <tr style=\"text-align: right;\">\n",
       "      <th></th>\n",
       "      <th>CNT_TOTAL</th>\n",
       "      <th>CNT_DEF</th>\n",
       "      <th>DEF_RATE</th>\n",
       "      <th>DIST_BAD</th>\n",
       "      <th>DIST_GOOD</th>\n",
       "      <th>WOE</th>\n",
       "      <th>WOE_check</th>\n",
       "      <th>SHARE</th>\n",
       "    </tr>\n",
       "    <tr>\n",
       "      <th>BIN_DTI_MIN_INCOME</th>\n",
       "      <th></th>\n",
       "      <th></th>\n",
       "      <th></th>\n",
       "      <th></th>\n",
       "      <th></th>\n",
       "      <th></th>\n",
       "      <th></th>\n",
       "      <th></th>\n",
       "    </tr>\n",
       "  </thead>\n",
       "  <tbody>\n",
       "    <tr>\n",
       "      <th>[-inf, 0.1993)</th>\n",
       "      <td>333939.0</td>\n",
       "      <td>23912.0</td>\n",
       "      <td>0.0716</td>\n",
       "      <td>0.3647</td>\n",
       "      <td>0.4029</td>\n",
       "      <td>0.0984</td>\n",
       "      <td>0.0996</td>\n",
       "      <td>0.3999</td>\n",
       "    </tr>\n",
       "    <tr>\n",
       "      <th>[0.1993, 0.2267)</th>\n",
       "      <td>188476.0</td>\n",
       "      <td>14475.0</td>\n",
       "      <td>0.0768</td>\n",
       "      <td>0.2207</td>\n",
       "      <td>0.2261</td>\n",
       "      <td>0.0237</td>\n",
       "      <td>0.0240</td>\n",
       "      <td>0.2257</td>\n",
       "    </tr>\n",
       "    <tr>\n",
       "      <th>[0.2267, 0.2544)</th>\n",
       "      <td>131065.0</td>\n",
       "      <td>10512.0</td>\n",
       "      <td>0.0802</td>\n",
       "      <td>0.1603</td>\n",
       "      <td>0.1567</td>\n",
       "      <td>-0.0228</td>\n",
       "      <td>-0.0231</td>\n",
       "      <td>0.1569</td>\n",
       "    </tr>\n",
       "    <tr>\n",
       "      <th>[0.2544, inf)</th>\n",
       "      <td>181631.0</td>\n",
       "      <td>16673.0</td>\n",
       "      <td>0.0918</td>\n",
       "      <td>0.2543</td>\n",
       "      <td>0.2144</td>\n",
       "      <td>-0.1689</td>\n",
       "      <td>-0.1707</td>\n",
       "      <td>0.2175</td>\n",
       "    </tr>\n",
       "    <tr>\n",
       "      <th>nan</th>\n",
       "      <td>0.0</td>\n",
       "      <td>0.0</td>\n",
       "      <td>NaN</td>\n",
       "      <td>0.0000</td>\n",
       "      <td>0.0000</td>\n",
       "      <td>NaN</td>\n",
       "      <td>-2.4626</td>\n",
       "      <td>0.0000</td>\n",
       "    </tr>\n",
       "  </tbody>\n",
       "</table>\n",
       "</div>"
      ],
      "text/plain": [
       "                    CNT_TOTAL  CNT_DEF  DEF_RATE  DIST_BAD  DIST_GOOD     WOE  \\\n",
       "BIN_DTI_MIN_INCOME                                                              \n",
       "[-inf, 0.1993)       333939.0  23912.0    0.0716    0.3647     0.4029  0.0984   \n",
       "[0.1993, 0.2267)     188476.0  14475.0    0.0768    0.2207     0.2261  0.0237   \n",
       "[0.2267, 0.2544)     131065.0  10512.0    0.0802    0.1603     0.1567 -0.0228   \n",
       "[0.2544, inf)        181631.0  16673.0    0.0918    0.2543     0.2144 -0.1689   \n",
       "nan                       0.0      0.0       NaN    0.0000     0.0000     NaN   \n",
       "\n",
       "                    WOE_check   SHARE  \n",
       "BIN_DTI_MIN_INCOME                     \n",
       "[-inf, 0.1993)         0.0996  0.3999  \n",
       "[0.1993, 0.2267)       0.0240  0.2257  \n",
       "[0.2267, 0.2544)      -0.0231  0.1569  \n",
       "[0.2544, inf)         -0.1707  0.2175  \n",
       "nan                   -2.4626  0.0000  "
      ]
     },
     "metadata": {},
     "output_type": "display_data"
    },
    {
     "name": "stdout",
     "output_type": "stream",
     "text": [
      "IV: 0.0108\n",
      "Gini: 5.55\n"
     ]
    },
    {
     "data": {
      "image/png": "[encoded data removed]",
      "text/plain": [
       "<Figure size 720x360 with 2 Axes>"
      ]
     },
     "metadata": {
      "needs_background": "light"
     },
     "output_type": "display_data"
    },
    {
     "data": {
      "text/markdown": [
       "***"
      ],
      "text/plain": [
       "<IPython.core.display.Markdown object>"
      ]
     },
     "metadata": {},
     "output_type": "display_data"
    },
    {
     "data": {
      "text/markdown": [
       "### DTI_PRED_INCOME"
      ],
      "text/plain": [
       "<IPython.core.display.Markdown object>"
      ]
     },
     "metadata": {},
     "output_type": "display_data"
    },
    {
     "data": {
      "text/html": [
       "<div>\n",
       "<style scoped>\n",
       "    .dataframe tbody tr th:only-of-type {\n",
       "        vertical-align: middle;\n",
       "    }\n",
       "\n",
       "    .dataframe tbody tr th {\n",
       "        vertical-align: top;\n",
       "    }\n",
       "\n",
       "    .dataframe thead th {\n",
       "        text-align: right;\n",
       "    }\n",
       "</style>\n",
       "<table border=\"1\" class=\"dataframe\">\n",
       "  <thead>\n",
       "    <tr style=\"text-align: right;\">\n",
       "      <th></th>\n",
       "      <th>CNT_TOTAL</th>\n",
       "      <th>CNT_DEF</th>\n",
       "      <th>DEF_RATE</th>\n",
       "      <th>DIST_BAD</th>\n",
       "      <th>DIST_GOOD</th>\n",
       "      <th>WOE</th>\n",
       "      <th>WOE_check</th>\n",
       "      <th>SHARE</th>\n",
       "    </tr>\n",
       "    <tr>\n",
       "      <th>BIN_DTI_PRED_INCOME</th>\n",
       "      <th></th>\n",
       "      <th></th>\n",
       "      <th></th>\n",
       "      <th></th>\n",
       "      <th></th>\n",
       "      <th></th>\n",
       "      <th></th>\n",
       "      <th></th>\n",
       "    </tr>\n",
       "  </thead>\n",
       "  <tbody>\n",
       "    <tr>\n",
       "      <th>[-inf, 0.1729)</th>\n",
       "      <td>283209.0</td>\n",
       "      <td>20350.0</td>\n",
       "      <td>0.0719</td>\n",
       "      <td>0.3103</td>\n",
       "      <td>0.3416</td>\n",
       "      <td>0.0947</td>\n",
       "      <td>0.0959</td>\n",
       "      <td>0.3391</td>\n",
       "    </tr>\n",
       "    <tr>\n",
       "      <th>[0.1729, 0.1945)</th>\n",
       "      <td>210636.0</td>\n",
       "      <td>15637.0</td>\n",
       "      <td>0.0742</td>\n",
       "      <td>0.2385</td>\n",
       "      <td>0.2534</td>\n",
       "      <td>0.0600</td>\n",
       "      <td>0.0607</td>\n",
       "      <td>0.2522</td>\n",
       "    </tr>\n",
       "    <tr>\n",
       "      <th>[0.1945, 0.235)</th>\n",
       "      <td>237371.0</td>\n",
       "      <td>18712.0</td>\n",
       "      <td>0.0788</td>\n",
       "      <td>0.2854</td>\n",
       "      <td>0.2841</td>\n",
       "      <td>-0.0042</td>\n",
       "      <td>-0.0043</td>\n",
       "      <td>0.2842</td>\n",
       "    </tr>\n",
       "    <tr>\n",
       "      <th>[0.235, inf)</th>\n",
       "      <td>103895.0</td>\n",
       "      <td>10873.0</td>\n",
       "      <td>0.1047</td>\n",
       "      <td>0.1658</td>\n",
       "      <td>0.1209</td>\n",
       "      <td>-0.3129</td>\n",
       "      <td>-0.3161</td>\n",
       "      <td>0.1244</td>\n",
       "    </tr>\n",
       "    <tr>\n",
       "      <th>nan</th>\n",
       "      <td>0.0</td>\n",
       "      <td>0.0</td>\n",
       "      <td>NaN</td>\n",
       "      <td>0.0000</td>\n",
       "      <td>0.0000</td>\n",
       "      <td>NaN</td>\n",
       "      <td>-2.4626</td>\n",
       "      <td>0.0000</td>\n",
       "    </tr>\n",
       "  </tbody>\n",
       "</table>\n",
       "</div>"
      ],
      "text/plain": [
       "                     CNT_TOTAL  CNT_DEF  DEF_RATE  DIST_BAD  DIST_GOOD  \\\n",
       "BIN_DTI_PRED_INCOME                                                      \n",
       "[-inf, 0.1729)        283209.0  20350.0    0.0719    0.3103     0.3416   \n",
       "[0.1729, 0.1945)      210636.0  15637.0    0.0742    0.2385     0.2534   \n",
       "[0.1945, 0.235)       237371.0  18712.0    0.0788    0.2854     0.2841   \n",
       "[0.235, inf)          103895.0  10873.0    0.1047    0.1658     0.1209   \n",
       "nan                        0.0      0.0       NaN    0.0000     0.0000   \n",
       "\n",
       "                        WOE  WOE_check   SHARE  \n",
       "BIN_DTI_PRED_INCOME                             \n",
       "[-inf, 0.1729)       0.0947     0.0959  0.3391  \n",
       "[0.1729, 0.1945)     0.0600     0.0607  0.2522  \n",
       "[0.1945, 0.235)     -0.0042    -0.0043  0.2842  \n",
       "[0.235, inf)        -0.3129    -0.3161  0.1244  \n",
       "nan                     NaN    -2.4626  0.0000  "
      ]
     },
     "metadata": {},
     "output_type": "display_data"
    },
    {
     "name": "stdout",
     "output_type": "stream",
     "text": [
      "IV: 0.0181\n",
      "Gini: 6.16\n"
     ]
    },
    {
     "data": {
      "image/png": "[encoded data removed]",
      "text/plain": [
       "<Figure size 720x360 with 2 Axes>"
      ]
     },
     "metadata": {
      "needs_background": "light"
     },
     "output_type": "display_data"
    },
    {
     "data": {
      "text/markdown": [
       "***"
      ],
      "text/plain": [
       "<IPython.core.display.Markdown object>"
      ]
     },
     "metadata": {},
     "output_type": "display_data"
    },
    {
     "data": {
      "text/markdown": [
       "### DTI_REPORTED_INCOME"
      ],
      "text/plain": [
       "<IPython.core.display.Markdown object>"
      ]
     },
     "metadata": {},
     "output_type": "display_data"
    },
    {
     "data": {
      "text/html": [
       "<div>\n",
       "<style scoped>\n",
       "    .dataframe tbody tr th:only-of-type {\n",
       "        vertical-align: middle;\n",
       "    }\n",
       "\n",
       "    .dataframe tbody tr th {\n",
       "        vertical-align: top;\n",
       "    }\n",
       "\n",
       "    .dataframe thead th {\n",
       "        text-align: right;\n",
       "    }\n",
       "</style>\n",
       "<table border=\"1\" class=\"dataframe\">\n",
       "  <thead>\n",
       "    <tr style=\"text-align: right;\">\n",
       "      <th></th>\n",
       "      <th>CNT_TOTAL</th>\n",
       "      <th>CNT_DEF</th>\n",
       "      <th>DEF_RATE</th>\n",
       "      <th>DIST_BAD</th>\n",
       "      <th>DIST_GOOD</th>\n",
       "      <th>WOE</th>\n",
       "      <th>WOE_check</th>\n",
       "      <th>SHARE</th>\n",
       "    </tr>\n",
       "    <tr>\n",
       "      <th>BIN_DTI_REPORTED_INCOME</th>\n",
       "      <th></th>\n",
       "      <th></th>\n",
       "      <th></th>\n",
       "      <th></th>\n",
       "      <th></th>\n",
       "      <th></th>\n",
       "      <th></th>\n",
       "      <th></th>\n",
       "    </tr>\n",
       "  </thead>\n",
       "  <tbody>\n",
       "    <tr>\n",
       "      <th>[-inf, 0.1562)</th>\n",
       "      <td>177683.0</td>\n",
       "      <td>12980.0</td>\n",
       "      <td>0.0731</td>\n",
       "      <td>0.1980</td>\n",
       "      <td>0.2140</td>\n",
       "      <td>0.0771</td>\n",
       "      <td>0.0781</td>\n",
       "      <td>0.2128</td>\n",
       "    </tr>\n",
       "    <tr>\n",
       "      <th>[0.1562, 0.191)</th>\n",
       "      <td>200774.0</td>\n",
       "      <td>15134.0</td>\n",
       "      <td>0.0754</td>\n",
       "      <td>0.2308</td>\n",
       "      <td>0.2412</td>\n",
       "      <td>0.0437</td>\n",
       "      <td>0.0442</td>\n",
       "      <td>0.2404</td>\n",
       "    </tr>\n",
       "    <tr>\n",
       "      <th>[0.191, 0.2442)</th>\n",
       "      <td>269800.0</td>\n",
       "      <td>21325.0</td>\n",
       "      <td>0.0790</td>\n",
       "      <td>0.3252</td>\n",
       "      <td>0.3229</td>\n",
       "      <td>-0.0071</td>\n",
       "      <td>-0.0072</td>\n",
       "      <td>0.3231</td>\n",
       "    </tr>\n",
       "    <tr>\n",
       "      <th>[0.2442, inf)</th>\n",
       "      <td>186854.0</td>\n",
       "      <td>16133.0</td>\n",
       "      <td>0.0863</td>\n",
       "      <td>0.2460</td>\n",
       "      <td>0.2218</td>\n",
       "      <td>-0.1023</td>\n",
       "      <td>-0.1035</td>\n",
       "      <td>0.2237</td>\n",
       "    </tr>\n",
       "    <tr>\n",
       "      <th>nan</th>\n",
       "      <td>0.0</td>\n",
       "      <td>0.0</td>\n",
       "      <td>NaN</td>\n",
       "      <td>0.0000</td>\n",
       "      <td>0.0000</td>\n",
       "      <td>NaN</td>\n",
       "      <td>-2.4626</td>\n",
       "      <td>0.0000</td>\n",
       "    </tr>\n",
       "  </tbody>\n",
       "</table>\n",
       "</div>"
      ],
      "text/plain": [
       "                         CNT_TOTAL  CNT_DEF  DEF_RATE  DIST_BAD  DIST_GOOD  \\\n",
       "BIN_DTI_REPORTED_INCOME                                                      \n",
       "[-inf, 0.1562)            177683.0  12980.0    0.0731    0.1980     0.2140   \n",
       "[0.1562, 0.191)           200774.0  15134.0    0.0754    0.2308     0.2412   \n",
       "[0.191, 0.2442)           269800.0  21325.0    0.0790    0.3252     0.3229   \n",
       "[0.2442, inf)             186854.0  16133.0    0.0863    0.2460     0.2218   \n",
       "nan                            0.0      0.0       NaN    0.0000     0.0000   \n",
       "\n",
       "                            WOE  WOE_check   SHARE  \n",
       "BIN_DTI_REPORTED_INCOME                             \n",
       "[-inf, 0.1562)           0.0771     0.0781  0.2128  \n",
       "[0.1562, 0.191)          0.0437     0.0442  0.2404  \n",
       "[0.191, 0.2442)         -0.0071    -0.0072  0.3231  \n",
       "[0.2442, inf)           -0.1023    -0.1035  0.2237  \n",
       "nan                         NaN    -2.4626  0.0000  "
      ]
     },
     "metadata": {},
     "output_type": "display_data"
    },
    {
     "name": "stdout",
     "output_type": "stream",
     "text": [
      "IV: 0.0042\n",
      "Gini: 3.55\n"
     ]
    },
    {
     "data": {
      "image/png": "[encoded data removed]",
      "text/plain": [
       "<Figure size 720x360 with 2 Axes>"
      ]
     },
     "metadata": {
      "needs_background": "light"
     },
     "output_type": "display_data"
    },
    {
     "data": {
      "text/markdown": [
       "***"
      ],
      "text/plain": [
       "<IPython.core.display.Markdown object>"
      ]
     },
     "metadata": {},
     "output_type": "display_data"
    },
    {
     "data": {
      "text/markdown": [
       "### MIN_INCOME"
      ],
      "text/plain": [
       "<IPython.core.display.Markdown object>"
      ]
     },
     "metadata": {},
     "output_type": "display_data"
    },
    {
     "data": {
      "text/html": [
       "<div>\n",
       "<style scoped>\n",
       "    .dataframe tbody tr th:only-of-type {\n",
       "        vertical-align: middle;\n",
       "    }\n",
       "\n",
       "    .dataframe tbody tr th {\n",
       "        vertical-align: top;\n",
       "    }\n",
       "\n",
       "    .dataframe thead th {\n",
       "        text-align: right;\n",
       "    }\n",
       "</style>\n",
       "<table border=\"1\" class=\"dataframe\">\n",
       "  <thead>\n",
       "    <tr style=\"text-align: right;\">\n",
       "      <th></th>\n",
       "      <th>CNT_TOTAL</th>\n",
       "      <th>CNT_DEF</th>\n",
       "      <th>DEF_RATE</th>\n",
       "      <th>DIST_BAD</th>\n",
       "      <th>DIST_GOOD</th>\n",
       "      <th>WOE</th>\n",
       "      <th>WOE_check</th>\n",
       "      <th>SHARE</th>\n",
       "    </tr>\n",
       "    <tr>\n",
       "      <th>BIN_MIN_INCOME</th>\n",
       "      <th></th>\n",
       "      <th></th>\n",
       "      <th></th>\n",
       "      <th></th>\n",
       "      <th></th>\n",
       "      <th></th>\n",
       "      <th></th>\n",
       "      <th></th>\n",
       "    </tr>\n",
       "  </thead>\n",
       "  <tbody>\n",
       "    <tr>\n",
       "      <th>[-inf, 13988.6914)</th>\n",
       "      <td>211056.0</td>\n",
       "      <td>15694.0</td>\n",
       "      <td>0.0744</td>\n",
       "      <td>0.2393</td>\n",
       "      <td>0.2539</td>\n",
       "      <td>0.0582</td>\n",
       "      <td>0.0589</td>\n",
       "      <td>0.2527</td>\n",
       "    </tr>\n",
       "    <tr>\n",
       "      <th>[13988.6914, 17489.7734)</th>\n",
       "      <td>389018.0</td>\n",
       "      <td>30048.0</td>\n",
       "      <td>0.0772</td>\n",
       "      <td>0.4582</td>\n",
       "      <td>0.4665</td>\n",
       "      <td>0.0176</td>\n",
       "      <td>0.0178</td>\n",
       "      <td>0.4658</td>\n",
       "    </tr>\n",
       "    <tr>\n",
       "      <th>[17489.7734, 18856.7148)</th>\n",
       "      <td>133042.0</td>\n",
       "      <td>10695.0</td>\n",
       "      <td>0.0804</td>\n",
       "      <td>0.1631</td>\n",
       "      <td>0.1590</td>\n",
       "      <td>-0.0253</td>\n",
       "      <td>-0.0256</td>\n",
       "      <td>0.1593</td>\n",
       "    </tr>\n",
       "    <tr>\n",
       "      <th>[18856.7148, inf)</th>\n",
       "      <td>101995.0</td>\n",
       "      <td>9135.0</td>\n",
       "      <td>0.0896</td>\n",
       "      <td>0.1393</td>\n",
       "      <td>0.1207</td>\n",
       "      <td>-0.1421</td>\n",
       "      <td>-0.1437</td>\n",
       "      <td>0.1221</td>\n",
       "    </tr>\n",
       "    <tr>\n",
       "      <th>nan</th>\n",
       "      <td>0.0</td>\n",
       "      <td>0.0</td>\n",
       "      <td>NaN</td>\n",
       "      <td>0.0000</td>\n",
       "      <td>0.0000</td>\n",
       "      <td>NaN</td>\n",
       "      <td>-2.4626</td>\n",
       "      <td>0.0000</td>\n",
       "    </tr>\n",
       "  </tbody>\n",
       "</table>\n",
       "</div>"
      ],
      "text/plain": [
       "                          CNT_TOTAL  CNT_DEF  DEF_RATE  DIST_BAD  DIST_GOOD  \\\n",
       "BIN_MIN_INCOME                                                                \n",
       "[-inf, 13988.6914)         211056.0  15694.0    0.0744    0.2393     0.2539   \n",
       "[13988.6914, 17489.7734)   389018.0  30048.0    0.0772    0.4582     0.4665   \n",
       "[17489.7734, 18856.7148)   133042.0  10695.0    0.0804    0.1631     0.1590   \n",
       "[18856.7148, inf)          101995.0   9135.0    0.0896    0.1393     0.1207   \n",
       "nan                             0.0      0.0       NaN    0.0000     0.0000   \n",
       "\n",
       "                             WOE  WOE_check   SHARE  \n",
       "BIN_MIN_INCOME                                       \n",
       "[-inf, 13988.6914)        0.0582     0.0589  0.2527  \n",
       "[13988.6914, 17489.7734)  0.0176     0.0178  0.4658  \n",
       "[17489.7734, 18856.7148) -0.0253    -0.0256  0.1593  \n",
       "[18856.7148, inf)        -0.1421    -0.1437  0.1221  \n",
       "nan                          NaN    -2.4626  0.0000  "
      ]
     },
     "metadata": {},
     "output_type": "display_data"
    },
    {
     "name": "stdout",
     "output_type": "stream",
     "text": [
      "IV: 0.0038\n",
      "Gini: 2.99\n"
     ]
    },
    {
     "data": {
      "image/png": "[encoded data removed]",
      "text/plain": [
       "<Figure size 720x360 with 2 Axes>"
      ]
     },
     "metadata": {
      "needs_background": "light"
     },
     "output_type": "display_data"
    },
    {
     "data": {
      "text/markdown": [
       "***"
      ],
      "text/plain": [
       "<IPython.core.display.Markdown object>"
      ]
     },
     "metadata": {},
     "output_type": "display_data"
    },
    {
     "data": {
      "text/markdown": [
       "### PRED_INCOME"
      ],
      "text/plain": [
       "<IPython.core.display.Markdown object>"
      ]
     },
     "metadata": {},
     "output_type": "display_data"
    },
    {
     "data": {
      "text/html": [
       "<div>\n",
       "<style scoped>\n",
       "    .dataframe tbody tr th:only-of-type {\n",
       "        vertical-align: middle;\n",
       "    }\n",
       "\n",
       "    .dataframe tbody tr th {\n",
       "        vertical-align: top;\n",
       "    }\n",
       "\n",
       "    .dataframe thead th {\n",
       "        text-align: right;\n",
       "    }\n",
       "</style>\n",
       "<table border=\"1\" class=\"dataframe\">\n",
       "  <thead>\n",
       "    <tr style=\"text-align: right;\">\n",
       "      <th></th>\n",
       "      <th>CNT_TOTAL</th>\n",
       "      <th>CNT_DEF</th>\n",
       "      <th>DEF_RATE</th>\n",
       "      <th>DIST_BAD</th>\n",
       "      <th>DIST_GOOD</th>\n",
       "      <th>WOE</th>\n",
       "      <th>WOE_check</th>\n",
       "      <th>SHARE</th>\n",
       "    </tr>\n",
       "    <tr>\n",
       "      <th>BIN_PRED_INCOME</th>\n",
       "      <th></th>\n",
       "      <th></th>\n",
       "      <th></th>\n",
       "      <th></th>\n",
       "      <th></th>\n",
       "      <th></th>\n",
       "      <th></th>\n",
       "      <th></th>\n",
       "    </tr>\n",
       "  </thead>\n",
       "  <tbody>\n",
       "    <tr>\n",
       "      <th>[-inf, 14689.6084)</th>\n",
       "      <td>102583.0</td>\n",
       "      <td>7315.0</td>\n",
       "      <td>0.0713</td>\n",
       "      <td>0.1116</td>\n",
       "      <td>0.1238</td>\n",
       "      <td>0.1028</td>\n",
       "      <td>0.1041</td>\n",
       "      <td>0.1228</td>\n",
       "    </tr>\n",
       "    <tr>\n",
       "      <th>[14689.6084, 15632.2114)</th>\n",
       "      <td>104097.0</td>\n",
       "      <td>7722.0</td>\n",
       "      <td>0.0742</td>\n",
       "      <td>0.1178</td>\n",
       "      <td>0.1252</td>\n",
       "      <td>0.0608</td>\n",
       "      <td>0.0615</td>\n",
       "      <td>0.1247</td>\n",
       "    </tr>\n",
       "    <tr>\n",
       "      <th>[15632.2114, 19756.7314)</th>\n",
       "      <td>527665.0</td>\n",
       "      <td>41085.0</td>\n",
       "      <td>0.0779</td>\n",
       "      <td>0.6266</td>\n",
       "      <td>0.6323</td>\n",
       "      <td>0.0090</td>\n",
       "      <td>0.0091</td>\n",
       "      <td>0.6319</td>\n",
       "    </tr>\n",
       "    <tr>\n",
       "      <th>[19756.7314, inf)</th>\n",
       "      <td>100766.0</td>\n",
       "      <td>9450.0</td>\n",
       "      <td>0.0938</td>\n",
       "      <td>0.1441</td>\n",
       "      <td>0.1187</td>\n",
       "      <td>-0.1923</td>\n",
       "      <td>-0.1943</td>\n",
       "      <td>0.1207</td>\n",
       "    </tr>\n",
       "    <tr>\n",
       "      <th>nan</th>\n",
       "      <td>0.0</td>\n",
       "      <td>0.0</td>\n",
       "      <td>NaN</td>\n",
       "      <td>0.0000</td>\n",
       "      <td>0.0000</td>\n",
       "      <td>NaN</td>\n",
       "      <td>-2.4626</td>\n",
       "      <td>0.0000</td>\n",
       "    </tr>\n",
       "  </tbody>\n",
       "</table>\n",
       "</div>"
      ],
      "text/plain": [
       "                          CNT_TOTAL  CNT_DEF  DEF_RATE  DIST_BAD  DIST_GOOD  \\\n",
       "BIN_PRED_INCOME                                                               \n",
       "[-inf, 14689.6084)         102583.0   7315.0    0.0713    0.1116     0.1238   \n",
       "[14689.6084, 15632.2114)   104097.0   7722.0    0.0742    0.1178     0.1252   \n",
       "[15632.2114, 19756.7314)   527665.0  41085.0    0.0779    0.6266     0.6323   \n",
       "[19756.7314, inf)          100766.0   9450.0    0.0938    0.1441     0.1187   \n",
       "nan                             0.0      0.0       NaN    0.0000     0.0000   \n",
       "\n",
       "                             WOE  WOE_check   SHARE  \n",
       "BIN_PRED_INCOME                                      \n",
       "[-inf, 14689.6084)        0.1028     0.1041  0.1228  \n",
       "[14689.6084, 15632.2114)  0.0608     0.0615  0.1247  \n",
       "[15632.2114, 19756.7314)  0.0090     0.0091  0.6319  \n",
       "[19756.7314, inf)        -0.1923    -0.1943  0.1207  \n",
       "nan                          NaN    -2.4626  0.0000  "
      ]
     },
     "metadata": {},
     "output_type": "display_data"
    },
    {
     "name": "stdout",
     "output_type": "stream",
     "text": [
      "IV: 0.0067\n",
      "Gini: 3.71\n"
     ]
    },
    {
     "data": {
      "image/png": "[encoded data removed]",
      "text/plain": [
       "<Figure size 720x360 with 2 Axes>"
      ]
     },
     "metadata": {
      "needs_background": "light"
     },
     "output_type": "display_data"
    },
    {
     "data": {
      "text/markdown": [
       "***"
      ],
      "text/plain": [
       "<IPython.core.display.Markdown object>"
      ]
     },
     "metadata": {},
     "output_type": "display_data"
    },
    {
     "data": {
      "text/markdown": [
       "### RATIO_PRED_REPORTED_INCOME"
      ],
      "text/plain": [
       "<IPython.core.display.Markdown object>"
      ]
     },
     "metadata": {},
     "output_type": "display_data"
    },
    {
     "data": {
      "text/html": [
       "<div>\n",
       "<style scoped>\n",
       "    .dataframe tbody tr th:only-of-type {\n",
       "        vertical-align: middle;\n",
       "    }\n",
       "\n",
       "    .dataframe tbody tr th {\n",
       "        vertical-align: top;\n",
       "    }\n",
       "\n",
       "    .dataframe thead th {\n",
       "        text-align: right;\n",
       "    }\n",
       "</style>\n",
       "<table border=\"1\" class=\"dataframe\">\n",
       "  <thead>\n",
       "    <tr style=\"text-align: right;\">\n",
       "      <th></th>\n",
       "      <th>CNT_TOTAL</th>\n",
       "      <th>CNT_DEF</th>\n",
       "      <th>DEF_RATE</th>\n",
       "      <th>DIST_BAD</th>\n",
       "      <th>DIST_GOOD</th>\n",
       "      <th>WOE</th>\n",
       "      <th>WOE_check</th>\n",
       "      <th>SHARE</th>\n",
       "    </tr>\n",
       "    <tr>\n",
       "      <th>BIN_RATIO_PRED_REPORTED_INCOME</th>\n",
       "      <th></th>\n",
       "      <th></th>\n",
       "      <th></th>\n",
       "      <th></th>\n",
       "      <th></th>\n",
       "      <th></th>\n",
       "      <th></th>\n",
       "      <th></th>\n",
       "    </tr>\n",
       "  </thead>\n",
       "  <tbody>\n",
       "    <tr>\n",
       "      <th>[-inf, 0.7458)</th>\n",
       "      <td>100000.0</td>\n",
       "      <td>8637.0</td>\n",
       "      <td>0.0864</td>\n",
       "      <td>0.1317</td>\n",
       "      <td>0.1187</td>\n",
       "      <td>-0.1027</td>\n",
       "      <td>-0.1039</td>\n",
       "      <td>0.1197</td>\n",
       "    </tr>\n",
       "    <tr>\n",
       "      <th>[0.7458, 0.9057)</th>\n",
       "      <td>135033.0</td>\n",
       "      <td>10573.0</td>\n",
       "      <td>0.0783</td>\n",
       "      <td>0.1612</td>\n",
       "      <td>0.1617</td>\n",
       "      <td>0.0030</td>\n",
       "      <td>0.0030</td>\n",
       "      <td>0.1617</td>\n",
       "    </tr>\n",
       "    <tr>\n",
       "      <th>[0.9057, 1.03)</th>\n",
       "      <td>161625.0</td>\n",
       "      <td>12291.0</td>\n",
       "      <td>0.0760</td>\n",
       "      <td>0.1874</td>\n",
       "      <td>0.1941</td>\n",
       "      <td>0.0343</td>\n",
       "      <td>0.0347</td>\n",
       "      <td>0.1935</td>\n",
       "    </tr>\n",
       "    <tr>\n",
       "      <th>[1.03, inf)</th>\n",
       "      <td>438453.0</td>\n",
       "      <td>34071.0</td>\n",
       "      <td>0.0777</td>\n",
       "      <td>0.5196</td>\n",
       "      <td>0.5255</td>\n",
       "      <td>0.0111</td>\n",
       "      <td>0.0113</td>\n",
       "      <td>0.5250</td>\n",
       "    </tr>\n",
       "    <tr>\n",
       "      <th>nan</th>\n",
       "      <td>0.0</td>\n",
       "      <td>0.0</td>\n",
       "      <td>NaN</td>\n",
       "      <td>0.0000</td>\n",
       "      <td>0.0000</td>\n",
       "      <td>NaN</td>\n",
       "      <td>-2.4626</td>\n",
       "      <td>0.0000</td>\n",
       "    </tr>\n",
       "  </tbody>\n",
       "</table>\n",
       "</div>"
      ],
      "text/plain": [
       "                                CNT_TOTAL  CNT_DEF  DEF_RATE  DIST_BAD  \\\n",
       "BIN_RATIO_PRED_REPORTED_INCOME                                           \n",
       "[-inf, 0.7458)                   100000.0   8637.0    0.0864    0.1317   \n",
       "[0.7458, 0.9057)                 135033.0  10573.0    0.0783    0.1612   \n",
       "[0.9057, 1.03)                   161625.0  12291.0    0.0760    0.1874   \n",
       "[1.03, inf)                      438453.0  34071.0    0.0777    0.5196   \n",
       "nan                                   0.0      0.0       NaN    0.0000   \n",
       "\n",
       "                                DIST_GOOD     WOE  WOE_check   SHARE  \n",
       "BIN_RATIO_PRED_REPORTED_INCOME                                        \n",
       "[-inf, 0.7458)                     0.1187 -0.1027    -0.1039  0.1197  \n",
       "[0.7458, 0.9057)                   0.1617  0.0030     0.0030  0.1617  \n",
       "[0.9057, 1.03)                     0.1941  0.0343     0.0347  0.1935  \n",
       "[1.03, inf)                        0.5255  0.0111     0.0113  0.5250  \n",
       "nan                                0.0000     NaN    -2.4626  0.0000  "
      ]
     },
     "metadata": {},
     "output_type": "display_data"
    },
    {
     "name": "stdout",
     "output_type": "stream",
     "text": [
      "IV: 0.0016\n",
      "Gini: 1.70\n"
     ]
    },
    {
     "data": {
      "image/png": "[encoded data removed]",
      "text/plain": [
       "<Figure size 720x360 with 2 Axes>"
      ]
     },
     "metadata": {
      "needs_background": "light"
     },
     "output_type": "display_data"
    },
    {
     "data": {
      "text/markdown": [
       "***"
      ],
      "text/plain": [
       "<IPython.core.display.Markdown object>"
      ]
     },
     "metadata": {},
     "output_type": "display_data"
    },
    {
     "data": {
      "text/markdown": [
       "### REPORTED_INCOME"
      ],
      "text/plain": [
       "<IPython.core.display.Markdown object>"
      ]
     },
     "metadata": {},
     "output_type": "display_data"
    },
    {
     "data": {
      "text/html": [
       "<div>\n",
       "<style scoped>\n",
       "    .dataframe tbody tr th:only-of-type {\n",
       "        vertical-align: middle;\n",
       "    }\n",
       "\n",
       "    .dataframe tbody tr th {\n",
       "        vertical-align: top;\n",
       "    }\n",
       "\n",
       "    .dataframe thead th {\n",
       "        text-align: right;\n",
       "    }\n",
       "</style>\n",
       "<table border=\"1\" class=\"dataframe\">\n",
       "  <thead>\n",
       "    <tr style=\"text-align: right;\">\n",
       "      <th></th>\n",
       "      <th>CNT_TOTAL</th>\n",
       "      <th>CNT_DEF</th>\n",
       "      <th>DEF_RATE</th>\n",
       "      <th>DIST_BAD</th>\n",
       "      <th>DIST_GOOD</th>\n",
       "      <th>WOE</th>\n",
       "      <th>WOE_check</th>\n",
       "      <th>SHARE</th>\n",
       "    </tr>\n",
       "    <tr>\n",
       "      <th>BIN_REPORTED_INCOME</th>\n",
       "      <th></th>\n",
       "      <th></th>\n",
       "      <th></th>\n",
       "      <th></th>\n",
       "      <th></th>\n",
       "      <th></th>\n",
       "      <th></th>\n",
       "      <th></th>\n",
       "    </tr>\n",
       "  </thead>\n",
       "  <tbody>\n",
       "    <tr>\n",
       "      <th>[-inf, 12613.0)</th>\n",
       "      <td>159258.0</td>\n",
       "      <td>11770.0</td>\n",
       "      <td>0.0739</td>\n",
       "      <td>0.1795</td>\n",
       "      <td>0.1917</td>\n",
       "      <td>0.0648</td>\n",
       "      <td>0.0655</td>\n",
       "      <td>0.1907</td>\n",
       "    </tr>\n",
       "    <tr>\n",
       "      <th>[12613.0, 19894.7002)</th>\n",
       "      <td>425969.0</td>\n",
       "      <td>33099.0</td>\n",
       "      <td>0.0777</td>\n",
       "      <td>0.5048</td>\n",
       "      <td>0.5105</td>\n",
       "      <td>0.0112</td>\n",
       "      <td>0.0113</td>\n",
       "      <td>0.5101</td>\n",
       "    </tr>\n",
       "    <tr>\n",
       "      <th>[19894.7002, 21867.0)</th>\n",
       "      <td>103413.0</td>\n",
       "      <td>7851.0</td>\n",
       "      <td>0.0759</td>\n",
       "      <td>0.1197</td>\n",
       "      <td>0.1242</td>\n",
       "      <td>0.0361</td>\n",
       "      <td>0.0365</td>\n",
       "      <td>0.1238</td>\n",
       "    </tr>\n",
       "    <tr>\n",
       "      <th>[21867.0, inf)</th>\n",
       "      <td>146471.0</td>\n",
       "      <td>12852.0</td>\n",
       "      <td>0.0877</td>\n",
       "      <td>0.1960</td>\n",
       "      <td>0.1736</td>\n",
       "      <td>-0.1198</td>\n",
       "      <td>-0.1211</td>\n",
       "      <td>0.1754</td>\n",
       "    </tr>\n",
       "    <tr>\n",
       "      <th>nan</th>\n",
       "      <td>0.0</td>\n",
       "      <td>0.0</td>\n",
       "      <td>NaN</td>\n",
       "      <td>0.0000</td>\n",
       "      <td>0.0000</td>\n",
       "      <td>NaN</td>\n",
       "      <td>-2.4626</td>\n",
       "      <td>0.0000</td>\n",
       "    </tr>\n",
       "  </tbody>\n",
       "</table>\n",
       "</div>"
      ],
      "text/plain": [
       "                       CNT_TOTAL  CNT_DEF  DEF_RATE  DIST_BAD  DIST_GOOD  \\\n",
       "BIN_REPORTED_INCOME                                                        \n",
       "[-inf, 12613.0)         159258.0  11770.0    0.0739    0.1795     0.1917   \n",
       "[12613.0, 19894.7002)   425969.0  33099.0    0.0777    0.5048     0.5105   \n",
       "[19894.7002, 21867.0)   103413.0   7851.0    0.0759    0.1197     0.1242   \n",
       "[21867.0, inf)          146471.0  12852.0    0.0877    0.1960     0.1736   \n",
       "nan                          0.0      0.0       NaN    0.0000     0.0000   \n",
       "\n",
       "                          WOE  WOE_check   SHARE  \n",
       "BIN_REPORTED_INCOME                               \n",
       "[-inf, 12613.0)        0.0648     0.0655  0.1907  \n",
       "[12613.0, 19894.7002)  0.0112     0.0113  0.5101  \n",
       "[19894.7002, 21867.0)  0.0361     0.0365  0.1238  \n",
       "[21867.0, inf)        -0.1198    -0.1211  0.1754  \n",
       "nan                       NaN    -2.4626  0.0000  "
      ]
     },
     "metadata": {},
     "output_type": "display_data"
    },
    {
     "name": "stdout",
     "output_type": "stream",
     "text": [
      "IV: 0.0037\n",
      "Gini: 2.97\n"
     ]
    },
    {
     "data": {
      "image/png": "[encoded data removed]",
      "text/plain": [
       "<Figure size 720x360 with 2 Axes>"
      ]
     },
     "metadata": {
      "needs_background": "light"
     },
     "output_type": "display_data"
    }
   ],
   "source": [
    "grouping.plot_bins(data=df_train, cols_pred_num=cols_pred_num, cols_pred_cat=cols_pred_cat,\n",
    "                    mask = pd.Series(df_train[\"REPORTED_INCOME\"]>=0),col_target=\"RISK_FSTQPD30\", \n",
    "                   output_folder=r\"C:\\Users\\aman.khatri91425\\Desktop\\HomeCredit\\Bigdata\\Common Maps KNN\", col_weight=None)"
   ]
  },
  {
   "cell_type": "code",
   "execution_count": 152,
   "metadata": {},
   "outputs": [
    {
     "name": "stdout",
     "output_type": "stream",
     "text": [
      "Added WOE variables. Number of columns: 25\n"
     ]
    }
   ],
   "source": [
    "woe_columns_to_replace = list()\n",
    "for column in data_woe.columns:\n",
    "    if column in df:\n",
    "        woe_columns_to_replace.append(column)\n",
    "        print('Column', column ,'dropped as it already existed in the data set.')\n",
    "df = df.drop(woe_columns_to_replace, axis='columns')\n",
    "df = df.join(-data_woe)\n",
    "\n",
    "print('Added WOE variables. Number of columns:',df.shape[1])\n",
    "cols_woe = [s + '_WOE' for s in cols_pred_num]"
   ]
  }
 ],
 "metadata": {
  "kernelspec": {
   "display_name": "Python 3",
   "language": "python",
   "name": "python3"
  },
  "language_info": {
   "codemirror_mode": {
    "name": "ipython",
    "version": 3
   },
   "file_extension": ".py",
   "mimetype": "text/x-python",
   "name": "python",
   "nbconvert_exporter": "python",
   "pygments_lexer": "ipython3",
   "version": "3.7.3"
  }
 },
 "nbformat": 4,
 "nbformat_minor": 2
}
