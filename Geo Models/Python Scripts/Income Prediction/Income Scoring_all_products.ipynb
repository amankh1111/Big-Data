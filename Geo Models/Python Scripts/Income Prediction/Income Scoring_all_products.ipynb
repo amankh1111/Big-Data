{
 "cells": [
  {
   "cell_type": "code",
   "execution_count": 12,
   "metadata": {},
   "outputs": [],
   "source": [
    "import os\n",
    "import cx_Oracle\n",
    "import pandas as pd\n",
    "import numpy as np\n",
    "import pickle\n",
    "from datetime import date,datetime\n",
    "from sklearn import metrics\n",
    "from sklearn.model_selection import train_test_split, StratifiedKFold, RandomizedSearchCV, cross_val_score \n",
    "import time\n",
    "import matplotlib.pyplot as plt\n",
    "from sklearn.utils import resample\n",
    "import datetime"
   ]
  },
  {
   "cell_type": "code",
   "execution_count": 15,
   "metadata": {},
   "outputs": [],
   "source": [
    "os.chdir(r\"C:\\Users\\aman.khatri91425\\Desktop\\HomeCredit\\Bigdata\\Common Maps KNN\\Data Files\")"
   ]
  },
  {
   "cell_type": "code",
   "execution_count": 17,
   "metadata": {},
   "outputs": [],
   "source": [
    "# df1 = pd.read_csv(os.getcwd() + \"\\download1.csv\")\n",
    "# df2 = pd.read_csv(os.getcwd() + \"\\download2.csv\")\n",
    "# df3 = pd.read_csv(os.getcwd() + \"\\download3.csv\")\n",
    "# df5 = pd.read_csv(os.getcwd() + \"\\download5.csv\")\n",
    "# df6 = pd.read_csv(os.getcwd() + \"\\download6.csv\")\n",
    "# df7 = pd.read_csv(os.getcwd() + \"\\download7.csv\")\n"
   ]
  },
  {
   "cell_type": "code",
   "execution_count": 26,
   "metadata": {},
   "outputs": [],
   "source": [
    "# df_final= pd.concat([df1,df2,df3,df5,df6,df7])\n",
    "\n",
    "# df_final[\"TIME_DECISION_DATE\"] = pd.to_datetime(df_final[\"TIME_DECISION_DATE\"], format = '%d-%m-%y')\n",
    "\n",
    "# df_final.to_pickle(os.getcwd()+\"\\combined_income_pred.pkl\")"
   ]
  },
  {
   "cell_type": "code",
   "execution_count": 32,
   "metadata": {},
   "outputs": [],
   "source": [
    "df = pd.read_pickle(os.getcwd()+\"\\combined_income_pred.pkl\")"
   ]
  },
  {
   "cell_type": "code",
   "execution_count": null,
   "metadata": {},
   "outputs": [],
   "source": []
  },
  {
   "cell_type": "code",
   "execution_count": null,
   "metadata": {},
   "outputs": [],
   "source": []
  },
  {
   "cell_type": "code",
   "execution_count": null,
   "metadata": {},
   "outputs": [],
   "source": []
  },
  {
   "cell_type": "code",
   "execution_count": 33,
   "metadata": {},
   "outputs": [
    {
     "data": {
      "text/html": [
       "<div>\n",
       "<style scoped>\n",
       "    .dataframe tbody tr th:only-of-type {\n",
       "        vertical-align: middle;\n",
       "    }\n",
       "\n",
       "    .dataframe tbody tr th {\n",
       "        vertical-align: top;\n",
       "    }\n",
       "\n",
       "    .dataframe thead th {\n",
       "        text-align: right;\n",
       "    }\n",
       "</style>\n",
       "<table border=\"1\" class=\"dataframe\">\n",
       "  <thead>\n",
       "    <tr style=\"text-align: right;\">\n",
       "      <th></th>\n",
       "      <th>SKP_CREDIT_CASE</th>\n",
       "      <th>TIME_DECISION_DATE</th>\n",
       "      <th>CUS_LAT</th>\n",
       "      <th>CUS_LONG</th>\n",
       "      <th>GRID_ID</th>\n",
       "      <th>RISK_FSTQPD30</th>\n",
       "      <th>PRODUCT_GROUP</th>\n",
       "      <th>NTC_FLAG</th>\n",
       "      <th>CLIENT_INR_INCOME</th>\n",
       "      <th>CLIENT_DEBT</th>\n",
       "      <th>CLIENT_EMI</th>\n",
       "    </tr>\n",
       "  </thead>\n",
       "  <tbody>\n",
       "    <tr>\n",
       "      <th>0</th>\n",
       "      <td>219897835</td>\n",
       "      <td>2019-01-01</td>\n",
       "      <td>30.932303</td>\n",
       "      <td>75.850860</td>\n",
       "      <td>500_01596_05175</td>\n",
       "      <td>0.0</td>\n",
       "      <td>CL</td>\n",
       "      <td>Others</td>\n",
       "      <td>72000.0</td>\n",
       "      <td>0</td>\n",
       "      <td>3609.0</td>\n",
       "    </tr>\n",
       "    <tr>\n",
       "      <th>1</th>\n",
       "      <td>219906800</td>\n",
       "      <td>2019-01-01</td>\n",
       "      <td>18.637497</td>\n",
       "      <td>73.836025</td>\n",
       "      <td>500_01099_02515</td>\n",
       "      <td>0.0</td>\n",
       "      <td>CD</td>\n",
       "      <td>NTC</td>\n",
       "      <td>18000.0</td>\n",
       "      <td>0</td>\n",
       "      <td>2608.0</td>\n",
       "    </tr>\n",
       "    <tr>\n",
       "      <th>2</th>\n",
       "      <td>219993472</td>\n",
       "      <td>2019-01-01</td>\n",
       "      <td>23.194511</td>\n",
       "      <td>77.462190</td>\n",
       "      <td>500_01870_03483</td>\n",
       "      <td>0.0</td>\n",
       "      <td>CD</td>\n",
       "      <td>Others</td>\n",
       "      <td>15000.0</td>\n",
       "      <td>0</td>\n",
       "      <td>1343.0</td>\n",
       "    </tr>\n",
       "    <tr>\n",
       "      <th>5</th>\n",
       "      <td>220005765</td>\n",
       "      <td>2019-01-01</td>\n",
       "      <td>19.155484</td>\n",
       "      <td>72.845582</td>\n",
       "      <td>500_00899_02638</td>\n",
       "      <td>0.0</td>\n",
       "      <td>CD</td>\n",
       "      <td>Others</td>\n",
       "      <td>31000.0</td>\n",
       "      <td>0</td>\n",
       "      <td>1799.0</td>\n",
       "    </tr>\n",
       "    <tr>\n",
       "      <th>6</th>\n",
       "      <td>220097966</td>\n",
       "      <td>2019-01-01</td>\n",
       "      <td>26.287843</td>\n",
       "      <td>73.015438</td>\n",
       "      <td>500_01011_04185</td>\n",
       "      <td>0.0</td>\n",
       "      <td>CL</td>\n",
       "      <td>Others</td>\n",
       "      <td>20000.0</td>\n",
       "      <td>0</td>\n",
       "      <td>2614.0</td>\n",
       "    </tr>\n",
       "  </tbody>\n",
       "</table>\n",
       "</div>"
      ],
      "text/plain": [
       "   SKP_CREDIT_CASE TIME_DECISION_DATE    CUS_LAT   CUS_LONG          GRID_ID  \\\n",
       "0        219897835         2019-01-01  30.932303  75.850860  500_01596_05175   \n",
       "1        219906800         2019-01-01  18.637497  73.836025  500_01099_02515   \n",
       "2        219993472         2019-01-01  23.194511  77.462190  500_01870_03483   \n",
       "5        220005765         2019-01-01  19.155484  72.845582  500_00899_02638   \n",
       "6        220097966         2019-01-01  26.287843  73.015438  500_01011_04185   \n",
       "\n",
       "   RISK_FSTQPD30 PRODUCT_GROUP NTC_FLAG  CLIENT_INR_INCOME  CLIENT_DEBT  \\\n",
       "0            0.0            CL   Others            72000.0            0   \n",
       "1            0.0            CD      NTC            18000.0            0   \n",
       "2            0.0            CD   Others            15000.0            0   \n",
       "5            0.0            CD   Others            31000.0            0   \n",
       "6            0.0            CL   Others            20000.0            0   \n",
       "\n",
       "   CLIENT_EMI  \n",
       "0      3609.0  \n",
       "1      2608.0  \n",
       "2      1343.0  \n",
       "5      1799.0  \n",
       "6      2614.0  "
      ]
     },
     "execution_count": 33,
     "metadata": {},
     "output_type": "execute_result"
    }
   ],
   "source": [
    "df[df.TIME_DECISION_DATE == datetime.datetime(2019,1,1)].head()"
   ]
  },
  {
   "cell_type": "code",
   "execution_count": 37,
   "metadata": {},
   "outputs": [],
   "source": [
    "df = df[[\"SKP_CREDIT_CASE\",\"TIME_DECISION_DATE\",\"CUS_LAT\",\"CUS_LONG\",\"RISK_FSTQPD30\",\n",
    "\"GRID_ID\",\"CLIENT_INR_INCOME\"]]"
   ]
  },
  {
   "cell_type": "code",
   "execution_count": 38,
   "metadata": {},
   "outputs": [
    {
     "name": "stderr",
     "output_type": "stream",
     "text": [
      "C:\\Users\\aman.khatri91425\\AppData\\Local\\Continuum\\anaconda3\\lib\\site-packages\\ipykernel_launcher.py:1: SettingWithCopyWarning: \n",
      "A value is trying to be set on a copy of a slice from a DataFrame.\n",
      "Try using .loc[row_indexer,col_indexer] = value instead\n",
      "\n",
      "See the caveats in the documentation: http://pandas.pydata.org/pandas-docs/stable/indexing.html#indexing-view-versus-copy\n",
      "  \"\"\"Entry point for launching an IPython kernel.\n"
     ]
    }
   ],
   "source": [
    "df[\"MONTH_STR\"] = df[\"TIME_DECISION_DATE\"].dt.strftime(\"%Y-%m\")"
   ]
  },
  {
   "cell_type": "code",
   "execution_count": 39,
   "metadata": {},
   "outputs": [],
   "source": [
    "df = df[df[\"CLIENT_INR_INCOME\"]<df[\"CLIENT_INR_INCOME\"].quantile(0.99)]"
   ]
  },
  {
   "cell_type": "code",
   "execution_count": 40,
   "metadata": {},
   "outputs": [
    {
     "name": "stderr",
     "output_type": "stream",
     "text": [
      "C:\\Users\\aman.khatri91425\\AppData\\Local\\Continuum\\anaconda3\\lib\\site-packages\\ipykernel_launcher.py:35: SettingWithCopyWarning: \n",
      "A value is trying to be set on a copy of a slice from a DataFrame.\n",
      "Try using .loc[row_indexer,col_indexer] = value instead\n",
      "\n",
      "See the caveats in the documentation: http://pandas.pydata.org/pandas-docs/stable/indexing.html#indexing-view-versus-copy\n"
     ]
    },
    {
     "name": "stdout",
     "output_type": "stream",
     "text": [
      "Training for predicting (month): 1     RMSE TRAIN: 6826.718143904072     RMSE TEST: 6720.2651402263355     time taken:  2.3\n"
     ]
    },
    {
     "name": "stderr",
     "output_type": "stream",
     "text": [
      "C:\\Users\\aman.khatri91425\\AppData\\Local\\Continuum\\anaconda3\\lib\\site-packages\\ipykernel_launcher.py:35: SettingWithCopyWarning: \n",
      "A value is trying to be set on a copy of a slice from a DataFrame.\n",
      "Try using .loc[row_indexer,col_indexer] = value instead\n",
      "\n",
      "See the caveats in the documentation: http://pandas.pydata.org/pandas-docs/stable/indexing.html#indexing-view-versus-copy\n"
     ]
    },
    {
     "name": "stdout",
     "output_type": "stream",
     "text": [
      "Training for predicting (month): 2     RMSE TRAIN: 6763.0165120910515     RMSE TEST: 6729.734741912932     time taken:  2.2\n"
     ]
    },
    {
     "name": "stderr",
     "output_type": "stream",
     "text": [
      "C:\\Users\\aman.khatri91425\\AppData\\Local\\Continuum\\anaconda3\\lib\\site-packages\\ipykernel_launcher.py:35: SettingWithCopyWarning: \n",
      "A value is trying to be set on a copy of a slice from a DataFrame.\n",
      "Try using .loc[row_indexer,col_indexer] = value instead\n",
      "\n",
      "See the caveats in the documentation: http://pandas.pydata.org/pandas-docs/stable/indexing.html#indexing-view-versus-copy\n"
     ]
    },
    {
     "name": "stdout",
     "output_type": "stream",
     "text": [
      "Training for predicting (month): 3     RMSE TRAIN: 6732.011476267656     RMSE TEST: 6953.150096421243     time taken:  2.2\n"
     ]
    },
    {
     "name": "stderr",
     "output_type": "stream",
     "text": [
      "C:\\Users\\aman.khatri91425\\AppData\\Local\\Continuum\\anaconda3\\lib\\site-packages\\ipykernel_launcher.py:35: SettingWithCopyWarning: \n",
      "A value is trying to be set on a copy of a slice from a DataFrame.\n",
      "Try using .loc[row_indexer,col_indexer] = value instead\n",
      "\n",
      "See the caveats in the documentation: http://pandas.pydata.org/pandas-docs/stable/indexing.html#indexing-view-versus-copy\n"
     ]
    },
    {
     "name": "stdout",
     "output_type": "stream",
     "text": [
      "Training for predicting (month): 4     RMSE TRAIN: 6679.111859685123     RMSE TEST: 7017.75223930877     time taken:  2.2\n"
     ]
    },
    {
     "name": "stderr",
     "output_type": "stream",
     "text": [
      "C:\\Users\\aman.khatri91425\\AppData\\Local\\Continuum\\anaconda3\\lib\\site-packages\\ipykernel_launcher.py:35: SettingWithCopyWarning: \n",
      "A value is trying to be set on a copy of a slice from a DataFrame.\n",
      "Try using .loc[row_indexer,col_indexer] = value instead\n",
      "\n",
      "See the caveats in the documentation: http://pandas.pydata.org/pandas-docs/stable/indexing.html#indexing-view-versus-copy\n"
     ]
    },
    {
     "name": "stdout",
     "output_type": "stream",
     "text": [
      "Training for predicting (month): 5     RMSE TRAIN: 6735.57814164192     RMSE TEST: 7105.576921767202     time taken:  2.2\n"
     ]
    },
    {
     "name": "stderr",
     "output_type": "stream",
     "text": [
      "C:\\Users\\aman.khatri91425\\AppData\\Local\\Continuum\\anaconda3\\lib\\site-packages\\ipykernel_launcher.py:35: SettingWithCopyWarning: \n",
      "A value is trying to be set on a copy of a slice from a DataFrame.\n",
      "Try using .loc[row_indexer,col_indexer] = value instead\n",
      "\n",
      "See the caveats in the documentation: http://pandas.pydata.org/pandas-docs/stable/indexing.html#indexing-view-versus-copy\n"
     ]
    },
    {
     "name": "stdout",
     "output_type": "stream",
     "text": [
      "Training for predicting (month): 6     RMSE TRAIN: 6867.349316579821     RMSE TEST: 7171.002187475607     time taken:  2.2\n"
     ]
    },
    {
     "name": "stderr",
     "output_type": "stream",
     "text": [
      "C:\\Users\\aman.khatri91425\\AppData\\Local\\Continuum\\anaconda3\\lib\\site-packages\\ipykernel_launcher.py:35: SettingWithCopyWarning: \n",
      "A value is trying to be set on a copy of a slice from a DataFrame.\n",
      "Try using .loc[row_indexer,col_indexer] = value instead\n",
      "\n",
      "See the caveats in the documentation: http://pandas.pydata.org/pandas-docs/stable/indexing.html#indexing-view-versus-copy\n"
     ]
    },
    {
     "name": "stdout",
     "output_type": "stream",
     "text": [
      "Training for predicting (month): 7     RMSE TRAIN: 6925.383662221081     RMSE TEST: 7279.80538316377     time taken:  2.2\n"
     ]
    },
    {
     "name": "stderr",
     "output_type": "stream",
     "text": [
      "C:\\Users\\aman.khatri91425\\AppData\\Local\\Continuum\\anaconda3\\lib\\site-packages\\ipykernel_launcher.py:35: SettingWithCopyWarning: \n",
      "A value is trying to be set on a copy of a slice from a DataFrame.\n",
      "Try using .loc[row_indexer,col_indexer] = value instead\n",
      "\n",
      "See the caveats in the documentation: http://pandas.pydata.org/pandas-docs/stable/indexing.html#indexing-view-versus-copy\n"
     ]
    },
    {
     "name": "stdout",
     "output_type": "stream",
     "text": [
      "Training for predicting (month): 8     RMSE TRAIN: 6998.6521289255115     RMSE TEST: 7195.948095865549     time taken:  2.2\n"
     ]
    }
   ],
   "source": [
    "df_final_test = pd.DataFrame()\n",
    "seed = 26\n",
    "\n",
    "import datetime\n",
    "from sklearn.neighbors import KNeighborsRegressor\n",
    "\n",
    "for x in np.arange(1,9,1):\n",
    "    \n",
    "    date_test_start = datetime.datetime(2019, x, 1)\n",
    "    date_test_end = (date_test_start +  datetime.timedelta(days=31)).replace(day=1)\n",
    "    date_train_start = (date_test_start-datetime.timedelta(days=1)-datetime.timedelta(days=180)) \n",
    "    date_train_end = (date_test_start-datetime.timedelta(days=1))\n",
    "    \n",
    "    start_time = datetime.datetime.now()\n",
    "    df_train = df[(df[\"TIME_DECISION_DATE\"]>=date_train_start) & \n",
    "              (df[\"TIME_DECISION_DATE\"]<date_train_end)]\n",
    "    df_test = df[(df[\"TIME_DECISION_DATE\"]>=date_test_start) & \n",
    "                  (df[\"TIME_DECISION_DATE\"]<date_test_end)]\n",
    "\n",
    "    \n",
    "    df_train= df_train.sample(n=800000, random_state=seed)\n",
    "    \n",
    "    X_train = df_train[[\"CUS_LAT\",\"CUS_LONG\",\"TIME_DECISION_DATE\"]]\n",
    "    X_test = df_test[[\"CUS_LAT\",\"CUS_LONG\",\"TIME_DECISION_DATE\"]]\n",
    "\n",
    "    y_train = df_train[\"CLIENT_INR_INCOME\"]\n",
    "    y_test =  df_test[\"CLIENT_INR_INCOME\"]\n",
    "\n",
    "    knn = KNeighborsRegressor(n_neighbors=201)\n",
    "    bst = knn.fit(X_train[[\"CUS_LAT\",\"CUS_LONG\"]], np.ravel(y_train))\n",
    "\n",
    "    ypred_train = bst.predict(X_train[[\"CUS_LAT\",\"CUS_LONG\"]])\n",
    "    ypred_test = bst.predict(X_test[[\"CUS_LAT\",\"CUS_LONG\"]])\n",
    "\n",
    "    df_test['PRED_INCOME'] = ypred_test\n",
    "    \n",
    "    if df_final_test.shape == (0,0):\n",
    "        df_final_test = df_test\n",
    "    else:\n",
    "        df_final_test = pd.concat([df_final_test,df_test],ignore_index=True)\n",
    "\n",
    "    print(\"Training for predicting (month):\",date_test_start.month, \"    RMSE TRAIN:\",np.sqrt(metrics.mean_squared_error(y_train,ypred_train)), \"    RMSE TEST:\",np.sqrt(metrics.mean_squared_error(y_test,ypred_test)),\n",
    "         \"    time taken: \",'{:,.2}'.format((datetime.datetime.now()-start_time).seconds/60))\n",
    "\n",
    "\n"
   ]
  },
  {
   "cell_type": "code",
   "execution_count": 41,
   "metadata": {},
   "outputs": [
    {
     "data": {
      "text/plain": [
       "2019-08    460703\n",
       "2019-01    447176\n",
       "2019-03    437987\n",
       "2019-07    428280\n",
       "2019-04    423734\n",
       "2019-05    419348\n",
       "2019-06    414404\n",
       "2019-02    392813\n",
       "Name: MONTH_STR, dtype: int64"
      ]
     },
     "execution_count": 41,
     "metadata": {},
     "output_type": "execute_result"
    }
   ],
   "source": [
    "df_final_test.MONTH_STR.value_counts()"
   ]
  },
  {
   "cell_type": "code",
   "execution_count": 42,
   "metadata": {},
   "outputs": [
    {
     "data": {
      "text/plain": [
       "(3424445, 9)"
      ]
     },
     "execution_count": 42,
     "metadata": {},
     "output_type": "execute_result"
    }
   ],
   "source": [
    "df_final_test.shape"
   ]
  },
  {
   "cell_type": "code",
   "execution_count": 43,
   "metadata": {},
   "outputs": [],
   "source": [
    "df_final_test.to_pickle(r\"C:\\Users\\aman.khatri91425\\Desktop\\HomeCredit\\Bigdata\\Common Maps KNN\\Data Files\\scored_income_2019_all_products.pkl\")"
   ]
  },
  {
   "cell_type": "code",
   "execution_count": null,
   "metadata": {},
   "outputs": [],
   "source": []
  }
 ],
 "metadata": {
  "kernelspec": {
   "display_name": "Python 3",
   "language": "python",
   "name": "python3"
  },
  "language_info": {
   "codemirror_mode": {
    "name": "ipython",
    "version": 3
   },
   "file_extension": ".py",
   "mimetype": "text/x-python",
   "name": "python",
   "nbconvert_exporter": "python",
   "pygments_lexer": "ipython3",
   "version": "3.7.3"
  }
 },
 "nbformat": 4,
 "nbformat_minor": 2
}
