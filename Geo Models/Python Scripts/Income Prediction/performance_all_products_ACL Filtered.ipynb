{
 "cells": [
  {
   "cell_type": "code",
   "execution_count": 87,
   "metadata": {},
   "outputs": [],
   "source": [
    "import os\n",
    "import cx_Oracle\n",
    "import pandas as pd\n",
    "import numpy as np\n",
    "import pickle\n",
    "from datetime import date,datetime\n",
    "from sklearn import metrics\n",
    "from sklearn.model_selection import train_test_split, StratifiedKFold, RandomizedSearchCV, cross_val_score \n",
    "import time\n",
    "import matplotlib.pyplot as plt\n",
    "from sklearn.utils import resample\n",
    "import datetime\n",
    "import sys\n",
    "sys.path.append(R'C:\\Users\\aman.khatri91425\\Desktop\\HomeCredit\\Bigdata\\Scoring Worlflow')"
   ]
  },
  {
   "cell_type": "markdown",
   "metadata": {},
   "source": [
    "# Upload Scores to DWH"
   ]
  },
  {
   "cell_type": "code",
   "execution_count": 75,
   "metadata": {},
   "outputs": [],
   "source": [
    "df = pd.read_pickle(r\"C:\\Users\\aman.khatri91425\\Desktop\\HomeCredit\\Bigdata\\Common Maps KNN\\Data Files\\scored_income_2019_all_products.pkl\")"
   ]
  },
  {
   "cell_type": "code",
   "execution_count": 76,
   "metadata": {},
   "outputs": [],
   "source": [
    "df= df[[\"SKP_CREDIT_CASE\",\"PRED_INCOME\"]]"
   ]
  },
  {
   "cell_type": "code",
   "execution_count": 4,
   "metadata": {},
   "outputs": [],
   "source": [
    "df.to_csv(r\"C:\\Users\\aman.khatri91425\\Desktop\\HomeCredit\\Bigdata\\Common Maps KNN\\Data Files\\scored_income_upload_dwh.csv\", index = False)"
   ]
  },
  {
   "cell_type": "code",
   "execution_count": 5,
   "metadata": {},
   "outputs": [],
   "source": [
    "#upload to TBD_INCOME_PRED"
   ]
  },
  {
   "cell_type": "markdown",
   "metadata": {},
   "source": [
    "# Read Data File"
   ]
  },
  {
   "cell_type": "code",
   "execution_count": 77,
   "metadata": {},
   "outputs": [],
   "source": [
    "df= pd.read_pickle(r\"C:\\Users\\aman.khatri91425\\Desktop\\HomeCredit\\Bigdata\\Common Maps KNN\\Data Files\\scored_income_2019_all_products.pkl\")\n"
   ]
  },
  {
   "cell_type": "code",
   "execution_count": 78,
   "metadata": {},
   "outputs": [
    {
     "data": {
      "text/html": [
       "<div>\n",
       "<style scoped>\n",
       "    .dataframe tbody tr th:only-of-type {\n",
       "        vertical-align: middle;\n",
       "    }\n",
       "\n",
       "    .dataframe tbody tr th {\n",
       "        vertical-align: top;\n",
       "    }\n",
       "\n",
       "    .dataframe thead th {\n",
       "        text-align: right;\n",
       "    }\n",
       "</style>\n",
       "<table border=\"1\" class=\"dataframe\">\n",
       "  <thead>\n",
       "    <tr style=\"text-align: right;\">\n",
       "      <th></th>\n",
       "      <th>SKP_CREDIT_CASE</th>\n",
       "      <th>TIME_DECISION_DATE</th>\n",
       "      <th>CUS_LAT</th>\n",
       "      <th>CUS_LONG</th>\n",
       "      <th>RISK_FSTQPD30</th>\n",
       "      <th>GRID_ID</th>\n",
       "      <th>CLIENT_INR_INCOME</th>\n",
       "      <th>MONTH_STR</th>\n",
       "      <th>PRED_INCOME</th>\n",
       "    </tr>\n",
       "  </thead>\n",
       "  <tbody>\n",
       "    <tr>\n",
       "      <th>0</th>\n",
       "      <td>219906800</td>\n",
       "      <td>2019-01-01</td>\n",
       "      <td>18.637497</td>\n",
       "      <td>73.836025</td>\n",
       "      <td>0.0</td>\n",
       "      <td>500_01099_02515</td>\n",
       "      <td>18000.0</td>\n",
       "      <td>2019-01</td>\n",
       "      <td>18350.743284</td>\n",
       "    </tr>\n",
       "    <tr>\n",
       "      <th>1</th>\n",
       "      <td>219993472</td>\n",
       "      <td>2019-01-01</td>\n",
       "      <td>23.194511</td>\n",
       "      <td>77.462190</td>\n",
       "      <td>0.0</td>\n",
       "      <td>500_01870_03483</td>\n",
       "      <td>15000.0</td>\n",
       "      <td>2019-01</td>\n",
       "      <td>13840.547264</td>\n",
       "    </tr>\n",
       "    <tr>\n",
       "      <th>2</th>\n",
       "      <td>219999899</td>\n",
       "      <td>2019-01-02</td>\n",
       "      <td>12.979643</td>\n",
       "      <td>77.543602</td>\n",
       "      <td>0.0</td>\n",
       "      <td>500_01847_01252</td>\n",
       "      <td>13500.0</td>\n",
       "      <td>2019-01</td>\n",
       "      <td>22515.668657</td>\n",
       "    </tr>\n",
       "    <tr>\n",
       "      <th>3</th>\n",
       "      <td>220005423</td>\n",
       "      <td>2019-01-02</td>\n",
       "      <td>21.220271</td>\n",
       "      <td>72.855071</td>\n",
       "      <td>0.0</td>\n",
       "      <td>500_00924_03087</td>\n",
       "      <td>10000.0</td>\n",
       "      <td>2019-01</td>\n",
       "      <td>23349.253731</td>\n",
       "    </tr>\n",
       "    <tr>\n",
       "      <th>4</th>\n",
       "      <td>220005765</td>\n",
       "      <td>2019-01-01</td>\n",
       "      <td>19.155484</td>\n",
       "      <td>72.845582</td>\n",
       "      <td>0.0</td>\n",
       "      <td>500_00899_02638</td>\n",
       "      <td>31000.0</td>\n",
       "      <td>2019-01</td>\n",
       "      <td>20248.852736</td>\n",
       "    </tr>\n",
       "  </tbody>\n",
       "</table>\n",
       "</div>"
      ],
      "text/plain": [
       "   SKP_CREDIT_CASE TIME_DECISION_DATE    CUS_LAT   CUS_LONG  RISK_FSTQPD30  \\\n",
       "0        219906800         2019-01-01  18.637497  73.836025            0.0   \n",
       "1        219993472         2019-01-01  23.194511  77.462190            0.0   \n",
       "2        219999899         2019-01-02  12.979643  77.543602            0.0   \n",
       "3        220005423         2019-01-02  21.220271  72.855071            0.0   \n",
       "4        220005765         2019-01-01  19.155484  72.845582            0.0   \n",
       "\n",
       "           GRID_ID  CLIENT_INR_INCOME MONTH_STR   PRED_INCOME  \n",
       "0  500_01099_02515            18000.0   2019-01  18350.743284  \n",
       "1  500_01870_03483            15000.0   2019-01  13840.547264  \n",
       "2  500_01847_01252            13500.0   2019-01  22515.668657  \n",
       "3  500_00924_03087            10000.0   2019-01  23349.253731  \n",
       "4  500_00899_02638            31000.0   2019-01  20248.852736  "
      ]
     },
     "execution_count": 78,
     "metadata": {},
     "output_type": "execute_result"
    }
   ],
   "source": [
    "df.head()"
   ]
  },
  {
   "cell_type": "code",
   "execution_count": 79,
   "metadata": {},
   "outputs": [],
   "source": [
    "df1 = pd.read_pickle(r\"C:\\Users\\aman.khatri91425\\Desktop\\HomeCredit\\Bigdata\\Common Maps KNN\\Data Files\\combined_income_pred.pkl\")"
   ]
  },
  {
   "cell_type": "code",
   "execution_count": 80,
   "metadata": {},
   "outputs": [],
   "source": [
    "df1= df1[['SKP_CREDIT_CASE','CLIENT_DEBT', 'CLIENT_EMI','NTC_FLAG','PRODUCT_GROUP']]"
   ]
  },
  {
   "cell_type": "code",
   "execution_count": 81,
   "metadata": {},
   "outputs": [],
   "source": [
    "df = df.merge(df1, on= 'SKP_CREDIT_CASE', how = 'inner')"
   ]
  },
  {
   "cell_type": "markdown",
   "metadata": {},
   "source": [
    "# Create features for Analysis "
   ]
  },
  {
   "cell_type": "code",
   "execution_count": 82,
   "metadata": {},
   "outputs": [],
   "source": [
    "df.columns= ['SKP_CREDIT_CASE', 'TIME_DECISION_DATE', 'CUS_LAT', 'CUS_LONG',\n",
    "       'RISK_FSTQPD30', 'GRID_ID', 'REPORTED_INCOME',\n",
    "       'MONTH_STR', 'PRED_INCOME', 'CLIENT_DEBT', 'CLIENT_EMI', 'NTC_FLAG','PRODUCT_GROUP']"
   ]
  },
  {
   "cell_type": "code",
   "execution_count": 83,
   "metadata": {},
   "outputs": [],
   "source": [
    "features_list = [\"REPORTED_INCOME\",\"PRED_INCOME\",\"MIN_INCOME\",\"RATIO_PRED_REPORTED_INCOME\",\"DTI_PRED_INCOME\",\"DTI_REPORTED_INCOME\",\"DTI_MIN_INCOME\"]"
   ]
  },
  {
   "cell_type": "code",
   "execution_count": 84,
   "metadata": {},
   "outputs": [],
   "source": [
    "df[\"MIN_INCOME\"] = df[['REPORTED_INCOME','PRED_INCOME']].min(axis=1)"
   ]
  },
  {
   "cell_type": "code",
   "execution_count": 85,
   "metadata": {},
   "outputs": [],
   "source": [
    "df[\"RATIO_PRED_REPORTED_INCOME\"] = df['PRED_INCOME']/df['REPORTED_INCOME']"
   ]
  },
  {
   "cell_type": "code",
   "execution_count": null,
   "metadata": {},
   "outputs": [],
   "source": [
    "df[\"DTI_PRED_INCOME\"] = [(df[\"CLIENT_DEBT\"][x]+ df[\"CLIENT_EMI\"][x]+1500)/df[\"PRED_INCOME\"][x] for x in df.index]\n",
    "df[\"DTI_REPORTED_INCOME\"] = [(df[\"CLIENT_DEBT\"][x]+ df[\"CLIENT_EMI\"][x]+1500)/df[\"REPORTED_INCOME\"][x] for x in df.index]\n",
    "df[\"DTI_MIN_INCOME\"] = [(df[\"CLIENT_DEBT\"][x]+ df[\"CLIENT_EMI\"][x]+1500)/df[\"MIN_INCOME\"][x] for x in df.index]\n"
   ]
  },
  {
   "cell_type": "code",
   "execution_count": null,
   "metadata": {},
   "outputs": [],
   "source": [
    "df.shape"
   ]
  },
  {
   "cell_type": "code",
   "execution_count": null,
   "metadata": {},
   "outputs": [],
   "source": [
    "df = df[~df[\"MIN_INCOME\"].isin([0,np.inf,np.nan])]"
   ]
  },
  {
   "cell_type": "code",
   "execution_count": null,
   "metadata": {},
   "outputs": [],
   "source": [
    "df.to_pickle(r\"C:\\Users\\aman.khatri91425\\Desktop\\HomeCredit\\Bigdata\\Common Maps KNN\\Data Files\\scored_income_v2.pkl\")"
   ]
  },
  {
   "cell_type": "code",
   "execution_count": 88,
   "metadata": {},
   "outputs": [],
   "source": [
    "df = pd.read_pickle(r\"C:\\Users\\aman.khatri91425\\Desktop\\HomeCredit\\Bigdata\\Common Maps KNN\\Data Files\\scored_income_v2.pkl\")"
   ]
  },
  {
   "cell_type": "code",
   "execution_count": 89,
   "metadata": {},
   "outputs": [],
   "source": [
    "df = df [df[\"PRODUCT_GROUP\"]==\"ACL\"]"
   ]
  },
  {
   "cell_type": "markdown",
   "metadata": {},
   "source": [
    "# Gini and IV of Features for Comparison"
   ]
  },
  {
   "cell_type": "code",
   "execution_count": 94,
   "metadata": {},
   "outputs": [],
   "source": [
    "df1=df"
   ]
  },
  {
   "cell_type": "markdown",
   "metadata": {},
   "source": [
    "### Reduce sample size to reduce computation in calculations for IV, Gini"
   ]
  },
  {
   "cell_type": "code",
   "execution_count": 97,
   "metadata": {},
   "outputs": [],
   "source": [
    "df = df1.sample(n=30000,random_state=2)"
   ]
  },
  {
   "cell_type": "code",
   "execution_count": 98,
   "metadata": {},
   "outputs": [],
   "source": [
    "for x in features_list:\n",
    "    df[x+\"_BINS\"] = pd.qcut(df[x],10,duplicates = 'drop')"
   ]
  },
  {
   "cell_type": "code",
   "execution_count": 99,
   "metadata": {},
   "outputs": [
    {
     "name": "stdout",
     "output_type": "stream",
     "text": [
      "REPORTED_INCOME\n",
      "PRED_INCOME\n",
      "MIN_INCOME\n",
      "RATIO_PRED_REPORTED_INCOME\n",
      "DTI_PRED_INCOME\n",
      "DTI_REPORTED_INCOME\n",
      "DTI_MIN_INCOME\n"
     ]
    }
   ],
   "source": [
    "from scoring.metrics import iv,gini\n",
    "cols_list= features_list\n",
    "col_target= 'RISK_FSTQPD30'\n",
    "power_tab = {'VARIABLE_NAME':[],'IV':[],'GINI':[]}\n",
    "for j in range(0,len(cols_list)):\n",
    "        power_tab[\"VARIABLE_NAME\"].append(cols_list[j])\n",
    "        power_tab[\"IV\"].append(\"{:.2%}\".format(iv(df[col_target],df[cols_list[j]+\"_BINS\"])))\n",
    "        power_tab[\"GINI\"].append(\"{:.2%}\".format((2*metrics.roc_auc_score(df[col_target],df[cols_list[j]])-1)))\n",
    "        print(cols_list[j])"
   ]
  },
  {
   "cell_type": "code",
   "execution_count": 116,
   "metadata": {},
   "outputs": [
    {
     "data": {
      "text/html": [
       "<div>\n",
       "<style scoped>\n",
       "    .dataframe tbody tr th:only-of-type {\n",
       "        vertical-align: middle;\n",
       "    }\n",
       "\n",
       "    .dataframe tbody tr th {\n",
       "        vertical-align: top;\n",
       "    }\n",
       "\n",
       "    .dataframe thead th {\n",
       "        text-align: right;\n",
       "    }\n",
       "</style>\n",
       "<table border=\"1\" class=\"dataframe\">\n",
       "  <thead>\n",
       "    <tr style=\"text-align: right;\">\n",
       "      <th></th>\n",
       "      <th>IV</th>\n",
       "      <th>GINI</th>\n",
       "    </tr>\n",
       "    <tr>\n",
       "      <th>VARIABLE_NAME</th>\n",
       "      <th></th>\n",
       "      <th></th>\n",
       "    </tr>\n",
       "  </thead>\n",
       "  <tbody>\n",
       "    <tr>\n",
       "      <th>MIN_INCOME</th>\n",
       "      <td>1.99%</td>\n",
       "      <td>7.35%</td>\n",
       "    </tr>\n",
       "    <tr>\n",
       "      <th>REPORTED_INCOME</th>\n",
       "      <td>2.05%</td>\n",
       "      <td>6.58%</td>\n",
       "    </tr>\n",
       "    <tr>\n",
       "      <th>PRED_INCOME</th>\n",
       "      <td>1.73%</td>\n",
       "      <td>4.78%</td>\n",
       "    </tr>\n",
       "    <tr>\n",
       "      <th>DTI_REPORTED_INCOME</th>\n",
       "      <td>2.77%</td>\n",
       "      <td>-6.95%</td>\n",
       "    </tr>\n",
       "    <tr>\n",
       "      <th>DTI_MIN_INCOME</th>\n",
       "      <td>2.07%</td>\n",
       "      <td>-5.30%</td>\n",
       "    </tr>\n",
       "    <tr>\n",
       "      <th>RATIO_PRED_REPORTED_INCOME</th>\n",
       "      <td>1.46%</td>\n",
       "      <td>-5.14%</td>\n",
       "    </tr>\n",
       "    <tr>\n",
       "      <th>DTI_PRED_INCOME</th>\n",
       "      <td>1.95%</td>\n",
       "      <td>-3.21%</td>\n",
       "    </tr>\n",
       "  </tbody>\n",
       "</table>\n",
       "</div>"
      ],
      "text/plain": [
       "                               IV    GINI\n",
       "VARIABLE_NAME                            \n",
       "MIN_INCOME                  1.99%   7.35%\n",
       "REPORTED_INCOME             2.05%   6.58%\n",
       "PRED_INCOME                 1.73%   4.78%\n",
       "DTI_REPORTED_INCOME         2.77%  -6.95%\n",
       "DTI_MIN_INCOME              2.07%  -5.30%\n",
       "RATIO_PRED_REPORTED_INCOME  1.46%  -5.14%\n",
       "DTI_PRED_INCOME             1.95%  -3.21%"
      ]
     },
     "metadata": {},
     "output_type": "display_data"
    }
   ],
   "source": [
    "power_out = pd.DataFrame(power_tab)\n",
    "power_out = power_out.set_index('VARIABLE_NAME')\n",
    "power_out = power_out.sort_values('GINI',ascending=False)\n",
    "\n",
    "pd.options.display.max_rows = 1000\n",
    "display(power_out)\n",
    "\n",
    "power_out.to_csv(r\"C:\\Users\\aman.khatri91425\\Desktop\\HomeCredit\\Bigdata\\Common Maps KNN\\gini_iv.csv\")"
   ]
  },
  {
   "cell_type": "markdown",
   "metadata": {},
   "source": [
    "### To make MOM calculations of IV, GINI"
   ]
  },
  {
   "cell_type": "code",
   "execution_count": null,
   "metadata": {},
   "outputs": [],
   "source": [
    "from scoring.metrics import iv,gini,lift\n",
    "cols_list= features_list\n",
    "col_target= 'RISK_FSTQPD30'\n",
    "power_tab = {'VARIABLE_NAME':[],'MONTH':[],'IV':[],'GINI':[]}\n",
    "for j in range(0,len(cols_list)):\n",
    "    for k in df.MONTH_STR.unique():\n",
    "        power_tab[\"VARIABLE_NAME\"].append(j)\n",
    "        power_tab[\"MONTH\"].append(k)\n",
    "        power_tab[\"IV\"].append(\"{:.1%}\".format(iv(df[df.MONTH_STR==k][col_target],df[df.MONTH_STR==k][cols_list[j]+\"_BINS\"])))\n",
    "        power_tab[\"GINI\"].append(\"{:.1%}\".format((2*metrics.roc_auc_score(df[df.MONTH_STR==k][col_target],df[df.MONTH_STR==k][cols_list[j]])-1)))"
   ]
  },
  {
   "cell_type": "code",
   "execution_count": null,
   "metadata": {},
   "outputs": [],
   "source": [
    "power_out = pd.DataFrame(power_tab)\n",
    "power_out = power_out.set_index('VARIABLE_NAME')\n",
    "power_out = power_out.sort_values('Gini',ascending=False)\n",
    "\n",
    "pd.options.display.max_rows = 1000\n",
    "display(power_out)\n",
    "\n",
    "power_out.to_csv(r\"C:\\Users\\aman.khatri91425\\Desktop\\HomeCredit\\Bigdata\\Common Maps KNN\\mom_gini_iv.csv\")"
   ]
  },
  {
   "cell_type": "markdown",
   "metadata": {},
   "source": [
    "# WOE Analysis"
   ]
  },
  {
   "cell_type": "code",
   "execution_count": 106,
   "metadata": {},
   "outputs": [],
   "source": [
    "df=df1\n",
    "# Split Train and Test Data Set\n",
    "df_train = df[(df[\"TIME_DECISION_DATE\"]>=datetime.datetime(2019, 1, 1)) & \n",
    "              (df[\"TIME_DECISION_DATE\"]<=datetime.datetime(2019, 8, 31))]\n",
    "df_valid = df[(df[\"TIME_DECISION_DATE\"]>=datetime.datetime(2019, 4, 1)) & \n",
    "              (df[\"TIME_DECISION_DATE\"]<=datetime.datetime(2019, 5, 31))]\n",
    "df_test = df[(df[\"TIME_DECISION_DATE\"]>=datetime.datetime(2019, 6, 1)) & \n",
    "              (df[\"TIME_DECISION_DATE\"]<=datetime.datetime(2019, 8, 31))]"
   ]
  },
  {
   "cell_type": "code",
   "execution_count": 107,
   "metadata": {},
   "outputs": [],
   "source": [
    "cols_pred_num=features_list\n",
    "cols_pred_cat = []"
   ]
  },
  {
   "cell_type": "code",
   "execution_count": 114,
   "metadata": {},
   "outputs": [
    {
     "data": {
      "application/vnd.jupyter.widget-view+json": {
       "model_id": "d0e67b31657447e5be5aca0f1995a1e4",
       "version_major": 2,
       "version_minor": 0
      },
      "text/plain": [
       "HBox(children=(IntProgress(value=0, max=7), HTML(value='')))"
      ]
     },
     "metadata": {},
     "output_type": "display_data"
    },
    {
     "name": "stdout",
     "output_type": "stream",
     "text": [
      "\n"
     ]
    },
    {
     "data": {
      "text/plain": [
       "'Grouping saved on 2020-04-08 18:48:02 to file C:\\\\Users\\\\aman.khatri91425\\\\Desktop\\\\HomeCredit\\\\Bigdata\\\\Common Maps KNN\\\\my_grouping'"
      ]
     },
     "metadata": {},
     "output_type": "display_data"
    },
    {
     "data": {
      "application/vnd.jupyter.widget-view+json": {
       "model_id": "eed8833808594f42a21da048557c3220",
       "version_major": 2,
       "version_minor": 0
      },
      "text/plain": [
       "HBox(children=(IntProgress(value=0, max=7), HTML(value='')))"
      ]
     },
     "metadata": {},
     "output_type": "display_data"
    },
    {
     "name": "stdout",
     "output_type": "stream",
     "text": [
      "\n"
     ]
    }
   ],
   "source": [
    "from scoring.grouping import Grouping\n",
    "\n",
    "grouping = Grouping(columns = sorted(cols_pred_num),\n",
    "                    cat_columns = sorted(cols_pred_cat),\n",
    "                    group_count=4, \n",
    "                    min_samples=5000)\n",
    "\n",
    "grouping.fit(df_train[cols_pred_num],\n",
    "             df_train[\"RISK_FSTQPD30\"],\n",
    "          #   w=data[train_mask][col_weight],\n",
    "            progress_bar=True, category_limit=5000);\n",
    "\n",
    "grouping.save(r\"C:\\Users\\aman.khatri91425\\Desktop\\HomeCredit\\Bigdata\\Common Maps KNN\\my_grouping\")\n",
    "\n",
    "data_woe = grouping.transform(df, transform_to='woe', progress_bar=True)"
   ]
  },
  {
   "cell_type": "markdown",
   "metadata": {},
   "source": [
    "### Plot Bins"
   ]
  },
  {
   "cell_type": "code",
   "execution_count": 115,
   "metadata": {
    "scrolled": true
   },
   "outputs": [
    {
     "data": {
      "text/markdown": [
       "***"
      ],
      "text/plain": [
       "<IPython.core.display.Markdown object>"
      ]
     },
     "metadata": {},
     "output_type": "display_data"
    },
    {
     "data": {
      "text/markdown": [
       "### DTI_MIN_INCOME"
      ],
      "text/plain": [
       "<IPython.core.display.Markdown object>"
      ]
     },
     "metadata": {},
     "output_type": "display_data"
    },
    {
     "data": {
      "text/html": [
       "<div>\n",
       "<style scoped>\n",
       "    .dataframe tbody tr th:only-of-type {\n",
       "        vertical-align: middle;\n",
       "    }\n",
       "\n",
       "    .dataframe tbody tr th {\n",
       "        vertical-align: top;\n",
       "    }\n",
       "\n",
       "    .dataframe thead th {\n",
       "        text-align: right;\n",
       "    }\n",
       "</style>\n",
       "<table border=\"1\" class=\"dataframe\">\n",
       "  <thead>\n",
       "    <tr style=\"text-align: right;\">\n",
       "      <th></th>\n",
       "      <th>CNT_TOTAL</th>\n",
       "      <th>CNT_DEF</th>\n",
       "      <th>DEF_RATE</th>\n",
       "      <th>DIST_BAD</th>\n",
       "      <th>DIST_GOOD</th>\n",
       "      <th>WOE</th>\n",
       "      <th>WOE_check</th>\n",
       "      <th>SHARE</th>\n",
       "    </tr>\n",
       "    <tr>\n",
       "      <th>BIN_DTI_MIN_INCOME</th>\n",
       "      <th></th>\n",
       "      <th></th>\n",
       "      <th></th>\n",
       "      <th></th>\n",
       "      <th></th>\n",
       "      <th></th>\n",
       "      <th></th>\n",
       "      <th></th>\n",
       "    </tr>\n",
       "  </thead>\n",
       "  <tbody>\n",
       "    <tr>\n",
       "      <th>[-inf, 0.2235)</th>\n",
       "      <td>10306.0</td>\n",
       "      <td>504.0</td>\n",
       "      <td>0.0489</td>\n",
       "      <td>0.3286</td>\n",
       "      <td>0.2951</td>\n",
       "      <td>-0.1054</td>\n",
       "      <td>-0.1075</td>\n",
       "      <td>0.2965</td>\n",
       "    </tr>\n",
       "    <tr>\n",
       "      <th>[0.2235, 0.2728)</th>\n",
       "      <td>9005.0</td>\n",
       "      <td>388.0</td>\n",
       "      <td>0.0431</td>\n",
       "      <td>0.2529</td>\n",
       "      <td>0.2594</td>\n",
       "      <td>0.0246</td>\n",
       "      <td>0.0252</td>\n",
       "      <td>0.2591</td>\n",
       "    </tr>\n",
       "    <tr>\n",
       "      <th>[0.2728, 0.3047)</th>\n",
       "      <td>5643.0</td>\n",
       "      <td>290.0</td>\n",
       "      <td>0.0514</td>\n",
       "      <td>0.1890</td>\n",
       "      <td>0.1611</td>\n",
       "      <td>-0.1566</td>\n",
       "      <td>-0.1598</td>\n",
       "      <td>0.1624</td>\n",
       "    </tr>\n",
       "    <tr>\n",
       "      <th>[0.3047, inf)</th>\n",
       "      <td>9801.0</td>\n",
       "      <td>352.0</td>\n",
       "      <td>0.0359</td>\n",
       "      <td>0.2295</td>\n",
       "      <td>0.2844</td>\n",
       "      <td>0.2097</td>\n",
       "      <td>0.2147</td>\n",
       "      <td>0.2820</td>\n",
       "    </tr>\n",
       "    <tr>\n",
       "      <th>nan</th>\n",
       "      <td>0.0</td>\n",
       "      <td>0.0</td>\n",
       "      <td>NaN</td>\n",
       "      <td>0.0000</td>\n",
       "      <td>0.0000</td>\n",
       "      <td>NaN</td>\n",
       "      <td>-3.0753</td>\n",
       "      <td>0.0000</td>\n",
       "    </tr>\n",
       "  </tbody>\n",
       "</table>\n",
       "</div>"
      ],
      "text/plain": [
       "                    CNT_TOTAL  CNT_DEF  DEF_RATE  DIST_BAD  DIST_GOOD     WOE  \\\n",
       "BIN_DTI_MIN_INCOME                                                              \n",
       "[-inf, 0.2235)        10306.0    504.0    0.0489    0.3286     0.2951 -0.1054   \n",
       "[0.2235, 0.2728)       9005.0    388.0    0.0431    0.2529     0.2594  0.0246   \n",
       "[0.2728, 0.3047)       5643.0    290.0    0.0514    0.1890     0.1611 -0.1566   \n",
       "[0.3047, inf)          9801.0    352.0    0.0359    0.2295     0.2844  0.2097   \n",
       "nan                       0.0      0.0       NaN    0.0000     0.0000     NaN   \n",
       "\n",
       "                    WOE_check   SHARE  \n",
       "BIN_DTI_MIN_INCOME                     \n",
       "[-inf, 0.2235)        -0.1075  0.2965  \n",
       "[0.2235, 0.2728)       0.0252  0.2591  \n",
       "[0.2728, 0.3047)      -0.1598  0.1624  \n",
       "[0.3047, inf)          0.2147  0.2820  \n",
       "nan                   -3.0753  0.0000  "
      ]
     },
     "metadata": {},
     "output_type": "display_data"
    },
    {
     "name": "stdout",
     "output_type": "stream",
     "text": [
      "IV: 0.0200\n",
      "Gini: 7.67\n"
     ]
    },
    {
     "data": {
      "image/png": "[encoded data removed]",
      "text/plain": [
       "<Figure size 720x360 with 2 Axes>"
      ]
     },
     "metadata": {
      "needs_background": "light"
     },
     "output_type": "display_data"
    },
    {
     "data": {
      "text/markdown": [
       "***"
      ],
      "text/plain": [
       "<IPython.core.display.Markdown object>"
      ]
     },
     "metadata": {},
     "output_type": "display_data"
    },
    {
     "data": {
      "text/markdown": [
       "### DTI_PRED_INCOME"
      ],
      "text/plain": [
       "<IPython.core.display.Markdown object>"
      ]
     },
     "metadata": {},
     "output_type": "display_data"
    },
    {
     "data": {
      "text/html": [
       "<div>\n",
       "<style scoped>\n",
       "    .dataframe tbody tr th:only-of-type {\n",
       "        vertical-align: middle;\n",
       "    }\n",
       "\n",
       "    .dataframe tbody tr th {\n",
       "        vertical-align: top;\n",
       "    }\n",
       "\n",
       "    .dataframe thead th {\n",
       "        text-align: right;\n",
       "    }\n",
       "</style>\n",
       "<table border=\"1\" class=\"dataframe\">\n",
       "  <thead>\n",
       "    <tr style=\"text-align: right;\">\n",
       "      <th></th>\n",
       "      <th>CNT_TOTAL</th>\n",
       "      <th>CNT_DEF</th>\n",
       "      <th>DEF_RATE</th>\n",
       "      <th>DIST_BAD</th>\n",
       "      <th>DIST_GOOD</th>\n",
       "      <th>WOE</th>\n",
       "      <th>WOE_check</th>\n",
       "      <th>SHARE</th>\n",
       "    </tr>\n",
       "    <tr>\n",
       "      <th>BIN_DTI_PRED_INCOME</th>\n",
       "      <th></th>\n",
       "      <th></th>\n",
       "      <th></th>\n",
       "      <th></th>\n",
       "      <th></th>\n",
       "      <th></th>\n",
       "      <th></th>\n",
       "      <th></th>\n",
       "    </tr>\n",
       "  </thead>\n",
       "  <tbody>\n",
       "    <tr>\n",
       "      <th>[-inf, 0.2159)</th>\n",
       "      <td>11564.0</td>\n",
       "      <td>545.0</td>\n",
       "      <td>0.0471</td>\n",
       "      <td>0.3553</td>\n",
       "      <td>0.3317</td>\n",
       "      <td>-0.0673</td>\n",
       "      <td>-0.0687</td>\n",
       "      <td>0.3327</td>\n",
       "    </tr>\n",
       "    <tr>\n",
       "      <th>[0.2159, 0.2818)</th>\n",
       "      <td>12626.0</td>\n",
       "      <td>543.0</td>\n",
       "      <td>0.0430</td>\n",
       "      <td>0.3540</td>\n",
       "      <td>0.3637</td>\n",
       "      <td>0.0266</td>\n",
       "      <td>0.0271</td>\n",
       "      <td>0.3633</td>\n",
       "    </tr>\n",
       "    <tr>\n",
       "      <th>[0.2818, 0.3207)</th>\n",
       "      <td>5384.0</td>\n",
       "      <td>272.0</td>\n",
       "      <td>0.0505</td>\n",
       "      <td>0.1773</td>\n",
       "      <td>0.1539</td>\n",
       "      <td>-0.1389</td>\n",
       "      <td>-0.1418</td>\n",
       "      <td>0.1549</td>\n",
       "    </tr>\n",
       "    <tr>\n",
       "      <th>[0.3207, inf)</th>\n",
       "      <td>5181.0</td>\n",
       "      <td>174.0</td>\n",
       "      <td>0.0336</td>\n",
       "      <td>0.1134</td>\n",
       "      <td>0.1507</td>\n",
       "      <td>0.2773</td>\n",
       "      <td>0.2842</td>\n",
       "      <td>0.1491</td>\n",
       "    </tr>\n",
       "    <tr>\n",
       "      <th>nan</th>\n",
       "      <td>0.0</td>\n",
       "      <td>0.0</td>\n",
       "      <td>NaN</td>\n",
       "      <td>0.0000</td>\n",
       "      <td>0.0000</td>\n",
       "      <td>NaN</td>\n",
       "      <td>-3.0753</td>\n",
       "      <td>0.0000</td>\n",
       "    </tr>\n",
       "  </tbody>\n",
       "</table>\n",
       "</div>"
      ],
      "text/plain": [
       "                     CNT_TOTAL  CNT_DEF  DEF_RATE  DIST_BAD  DIST_GOOD  \\\n",
       "BIN_DTI_PRED_INCOME                                                      \n",
       "[-inf, 0.2159)         11564.0    545.0    0.0471    0.3553     0.3317   \n",
       "[0.2159, 0.2818)       12626.0    543.0    0.0430    0.3540     0.3637   \n",
       "[0.2818, 0.3207)        5384.0    272.0    0.0505    0.1773     0.1539   \n",
       "[0.3207, inf)           5181.0    174.0    0.0336    0.1134     0.1507   \n",
       "nan                        0.0      0.0       NaN    0.0000     0.0000   \n",
       "\n",
       "                        WOE  WOE_check   SHARE  \n",
       "BIN_DTI_PRED_INCOME                             \n",
       "[-inf, 0.2159)      -0.0673    -0.0687  0.3327  \n",
       "[0.2159, 0.2818)     0.0266     0.0271  0.3633  \n",
       "[0.2818, 0.3207)    -0.1389    -0.1418  0.1549  \n",
       "[0.3207, inf)        0.2773     0.2842  0.1491  \n",
       "nan                     NaN    -3.0753  0.0000  "
      ]
     },
     "metadata": {},
     "output_type": "display_data"
    },
    {
     "name": "stdout",
     "output_type": "stream",
     "text": [
      "IV: 0.0158\n",
      "Gini: 6.33\n"
     ]
    },
    {
     "data": {
      "image/png": "[encoded data removed]",
      "text/plain": [
       "<Figure size 720x360 with 2 Axes>"
      ]
     },
     "metadata": {
      "needs_background": "light"
     },
     "output_type": "display_data"
    },
    {
     "data": {
      "text/markdown": [
       "***"
      ],
      "text/plain": [
       "<IPython.core.display.Markdown object>"
      ]
     },
     "metadata": {},
     "output_type": "display_data"
    },
    {
     "data": {
      "text/markdown": [
       "### DTI_REPORTED_INCOME"
      ],
      "text/plain": [
       "<IPython.core.display.Markdown object>"
      ]
     },
     "metadata": {},
     "output_type": "display_data"
    },
    {
     "data": {
      "text/html": [
       "<div>\n",
       "<style scoped>\n",
       "    .dataframe tbody tr th:only-of-type {\n",
       "        vertical-align: middle;\n",
       "    }\n",
       "\n",
       "    .dataframe tbody tr th {\n",
       "        vertical-align: top;\n",
       "    }\n",
       "\n",
       "    .dataframe thead th {\n",
       "        text-align: right;\n",
       "    }\n",
       "</style>\n",
       "<table border=\"1\" class=\"dataframe\">\n",
       "  <thead>\n",
       "    <tr style=\"text-align: right;\">\n",
       "      <th></th>\n",
       "      <th>CNT_TOTAL</th>\n",
       "      <th>CNT_DEF</th>\n",
       "      <th>DEF_RATE</th>\n",
       "      <th>DIST_BAD</th>\n",
       "      <th>DIST_GOOD</th>\n",
       "      <th>WOE</th>\n",
       "      <th>WOE_check</th>\n",
       "      <th>SHARE</th>\n",
       "    </tr>\n",
       "    <tr>\n",
       "      <th>BIN_DTI_REPORTED_INCOME</th>\n",
       "      <th></th>\n",
       "      <th></th>\n",
       "      <th></th>\n",
       "      <th></th>\n",
       "      <th></th>\n",
       "      <th></th>\n",
       "      <th></th>\n",
       "      <th></th>\n",
       "    </tr>\n",
       "  </thead>\n",
       "  <tbody>\n",
       "    <tr>\n",
       "      <th>[-inf, 0.1519)</th>\n",
       "      <td>10787.0</td>\n",
       "      <td>563.0</td>\n",
       "      <td>0.0522</td>\n",
       "      <td>0.3670</td>\n",
       "      <td>0.3078</td>\n",
       "      <td>-0.1727</td>\n",
       "      <td>-0.1761</td>\n",
       "      <td>0.3104</td>\n",
       "    </tr>\n",
       "    <tr>\n",
       "      <th>[0.1519, 0.1965)</th>\n",
       "      <td>7716.0</td>\n",
       "      <td>306.0</td>\n",
       "      <td>0.0397</td>\n",
       "      <td>0.1995</td>\n",
       "      <td>0.2231</td>\n",
       "      <td>0.1092</td>\n",
       "      <td>0.1117</td>\n",
       "      <td>0.2220</td>\n",
       "    </tr>\n",
       "    <tr>\n",
       "      <th>[0.1965, 0.2282)</th>\n",
       "      <td>5005.0</td>\n",
       "      <td>260.0</td>\n",
       "      <td>0.0519</td>\n",
       "      <td>0.1695</td>\n",
       "      <td>0.1428</td>\n",
       "      <td>-0.1678</td>\n",
       "      <td>-0.1711</td>\n",
       "      <td>0.1440</td>\n",
       "    </tr>\n",
       "    <tr>\n",
       "      <th>[0.2282, inf)</th>\n",
       "      <td>11247.0</td>\n",
       "      <td>405.0</td>\n",
       "      <td>0.0360</td>\n",
       "      <td>0.2640</td>\n",
       "      <td>0.3264</td>\n",
       "      <td>0.2070</td>\n",
       "      <td>0.2120</td>\n",
       "      <td>0.3236</td>\n",
       "    </tr>\n",
       "    <tr>\n",
       "      <th>nan</th>\n",
       "      <td>0.0</td>\n",
       "      <td>0.0</td>\n",
       "      <td>NaN</td>\n",
       "      <td>0.0000</td>\n",
       "      <td>0.0000</td>\n",
       "      <td>NaN</td>\n",
       "      <td>-3.0753</td>\n",
       "      <td>0.0000</td>\n",
       "    </tr>\n",
       "  </tbody>\n",
       "</table>\n",
       "</div>"
      ],
      "text/plain": [
       "                         CNT_TOTAL  CNT_DEF  DEF_RATE  DIST_BAD  DIST_GOOD  \\\n",
       "BIN_DTI_REPORTED_INCOME                                                      \n",
       "[-inf, 0.1519)             10787.0    563.0    0.0522    0.3670     0.3078   \n",
       "[0.1519, 0.1965)            7716.0    306.0    0.0397    0.1995     0.2231   \n",
       "[0.1965, 0.2282)            5005.0    260.0    0.0519    0.1695     0.1428   \n",
       "[0.2282, inf)              11247.0    405.0    0.0360    0.2640     0.3264   \n",
       "nan                            0.0      0.0       NaN    0.0000     0.0000   \n",
       "\n",
       "                            WOE  WOE_check   SHARE  \n",
       "BIN_DTI_REPORTED_INCOME                             \n",
       "[-inf, 0.1519)          -0.1727    -0.1761  0.3104  \n",
       "[0.1519, 0.1965)         0.1092     0.1117  0.2220  \n",
       "[0.1965, 0.2282)        -0.1678    -0.1711  0.1440  \n",
       "[0.2282, inf)            0.2070     0.2120  0.3236  \n",
       "nan                         NaN    -3.0753  0.0000  "
      ]
     },
     "metadata": {},
     "output_type": "display_data"
    },
    {
     "name": "stdout",
     "output_type": "stream",
     "text": [
      "IV: 0.0308\n",
      "Gini: 9.24\n"
     ]
    },
    {
     "data": {
      "image/png": "[encoded data removed]",
      "text/plain": [
       "<Figure size 720x360 with 2 Axes>"
      ]
     },
     "metadata": {
      "needs_background": "light"
     },
     "output_type": "display_data"
    },
    {
     "data": {
      "text/markdown": [
       "***"
      ],
      "text/plain": [
       "<IPython.core.display.Markdown object>"
      ]
     },
     "metadata": {},
     "output_type": "display_data"
    },
    {
     "data": {
      "text/markdown": [
       "### MIN_INCOME"
      ],
      "text/plain": [
       "<IPython.core.display.Markdown object>"
      ]
     },
     "metadata": {},
     "output_type": "display_data"
    },
    {
     "data": {
      "text/html": [
       "<div>\n",
       "<style scoped>\n",
       "    .dataframe tbody tr th:only-of-type {\n",
       "        vertical-align: middle;\n",
       "    }\n",
       "\n",
       "    .dataframe tbody tr th {\n",
       "        vertical-align: top;\n",
       "    }\n",
       "\n",
       "    .dataframe thead th {\n",
       "        text-align: right;\n",
       "    }\n",
       "</style>\n",
       "<table border=\"1\" class=\"dataframe\">\n",
       "  <thead>\n",
       "    <tr style=\"text-align: right;\">\n",
       "      <th></th>\n",
       "      <th>CNT_TOTAL</th>\n",
       "      <th>CNT_DEF</th>\n",
       "      <th>DEF_RATE</th>\n",
       "      <th>DIST_BAD</th>\n",
       "      <th>DIST_GOOD</th>\n",
       "      <th>WOE</th>\n",
       "      <th>WOE_check</th>\n",
       "      <th>SHARE</th>\n",
       "    </tr>\n",
       "    <tr>\n",
       "      <th>BIN_MIN_INCOME</th>\n",
       "      <th></th>\n",
       "      <th></th>\n",
       "      <th></th>\n",
       "      <th></th>\n",
       "      <th></th>\n",
       "      <th></th>\n",
       "      <th></th>\n",
       "      <th></th>\n",
       "    </tr>\n",
       "  </thead>\n",
       "  <tbody>\n",
       "    <tr>\n",
       "      <th>[-inf, 15536.4883)</th>\n",
       "      <td>5227.0</td>\n",
       "      <td>175.0</td>\n",
       "      <td>0.0335</td>\n",
       "      <td>0.1141</td>\n",
       "      <td>0.1521</td>\n",
       "      <td>0.2804</td>\n",
       "      <td>0.2874</td>\n",
       "      <td>0.1504</td>\n",
       "    </tr>\n",
       "    <tr>\n",
       "      <th>[15536.4883, 17246.0195)</th>\n",
       "      <td>5061.0</td>\n",
       "      <td>228.0</td>\n",
       "      <td>0.0451</td>\n",
       "      <td>0.1486</td>\n",
       "      <td>0.1455</td>\n",
       "      <td>-0.0210</td>\n",
       "      <td>-0.0214</td>\n",
       "      <td>0.1456</td>\n",
       "    </tr>\n",
       "    <tr>\n",
       "      <th>[17246.0195, 18795.1611)</th>\n",
       "      <td>6542.0</td>\n",
       "      <td>245.0</td>\n",
       "      <td>0.0375</td>\n",
       "      <td>0.1597</td>\n",
       "      <td>0.1895</td>\n",
       "      <td>0.1673</td>\n",
       "      <td>0.1713</td>\n",
       "      <td>0.1882</td>\n",
       "    </tr>\n",
       "    <tr>\n",
       "      <th>[18795.1611, inf)</th>\n",
       "      <td>17925.0</td>\n",
       "      <td>886.0</td>\n",
       "      <td>0.0494</td>\n",
       "      <td>0.5776</td>\n",
       "      <td>0.5129</td>\n",
       "      <td>-0.1164</td>\n",
       "      <td>-0.1188</td>\n",
       "      <td>0.5158</td>\n",
       "    </tr>\n",
       "    <tr>\n",
       "      <th>nan</th>\n",
       "      <td>0.0</td>\n",
       "      <td>0.0</td>\n",
       "      <td>NaN</td>\n",
       "      <td>0.0000</td>\n",
       "      <td>0.0000</td>\n",
       "      <td>NaN</td>\n",
       "      <td>-3.0753</td>\n",
       "      <td>0.0000</td>\n",
       "    </tr>\n",
       "  </tbody>\n",
       "</table>\n",
       "</div>"
      ],
      "text/plain": [
       "                          CNT_TOTAL  CNT_DEF  DEF_RATE  DIST_BAD  DIST_GOOD  \\\n",
       "BIN_MIN_INCOME                                                                \n",
       "[-inf, 15536.4883)           5227.0    175.0    0.0335    0.1141     0.1521   \n",
       "[15536.4883, 17246.0195)     5061.0    228.0    0.0451    0.1486     0.1455   \n",
       "[17246.0195, 18795.1611)     6542.0    245.0    0.0375    0.1597     0.1895   \n",
       "[18795.1611, inf)           17925.0    886.0    0.0494    0.5776     0.5129   \n",
       "nan                             0.0      0.0       NaN    0.0000     0.0000   \n",
       "\n",
       "                             WOE  WOE_check   SHARE  \n",
       "BIN_MIN_INCOME                                       \n",
       "[-inf, 15536.4883)        0.2804     0.2874  0.1504  \n",
       "[15536.4883, 17246.0195) -0.0210    -0.0214  0.1456  \n",
       "[17246.0195, 18795.1611)  0.1673     0.1713  0.1882  \n",
       "[18795.1611, inf)        -0.1164    -0.1188  0.5158  \n",
       "nan                          NaN    -3.0753  0.0000  "
      ]
     },
     "metadata": {},
     "output_type": "display_data"
    },
    {
     "name": "stdout",
     "output_type": "stream",
     "text": [
      "IV: 0.0238\n",
      "Gini: 7.83\n"
     ]
    },
    {
     "data": {
      "image/png": "[encoded data removed]",
      "text/plain": [
       "<Figure size 720x360 with 2 Axes>"
      ]
     },
     "metadata": {
      "needs_background": "light"
     },
     "output_type": "display_data"
    },
    {
     "data": {
      "text/markdown": [
       "***"
      ],
      "text/plain": [
       "<IPython.core.display.Markdown object>"
      ]
     },
     "metadata": {},
     "output_type": "display_data"
    },
    {
     "data": {
      "text/markdown": [
       "### PRED_INCOME"
      ],
      "text/plain": [
       "<IPython.core.display.Markdown object>"
      ]
     },
     "metadata": {},
     "output_type": "display_data"
    },
    {
     "data": {
      "text/html": [
       "<div>\n",
       "<style scoped>\n",
       "    .dataframe tbody tr th:only-of-type {\n",
       "        vertical-align: middle;\n",
       "    }\n",
       "\n",
       "    .dataframe tbody tr th {\n",
       "        vertical-align: top;\n",
       "    }\n",
       "\n",
       "    .dataframe thead th {\n",
       "        text-align: right;\n",
       "    }\n",
       "</style>\n",
       "<table border=\"1\" class=\"dataframe\">\n",
       "  <thead>\n",
       "    <tr style=\"text-align: right;\">\n",
       "      <th></th>\n",
       "      <th>CNT_TOTAL</th>\n",
       "      <th>CNT_DEF</th>\n",
       "      <th>DEF_RATE</th>\n",
       "      <th>DIST_BAD</th>\n",
       "      <th>DIST_GOOD</th>\n",
       "      <th>WOE</th>\n",
       "      <th>WOE_check</th>\n",
       "      <th>SHARE</th>\n",
       "    </tr>\n",
       "    <tr>\n",
       "      <th>BIN_PRED_INCOME</th>\n",
       "      <th></th>\n",
       "      <th></th>\n",
       "      <th></th>\n",
       "      <th></th>\n",
       "      <th></th>\n",
       "      <th></th>\n",
       "      <th></th>\n",
       "      <th></th>\n",
       "    </tr>\n",
       "  </thead>\n",
       "  <tbody>\n",
       "    <tr>\n",
       "      <th>[-inf, 17570.0977)</th>\n",
       "      <td>6664.0</td>\n",
       "      <td>275.0</td>\n",
       "      <td>0.0413</td>\n",
       "      <td>0.1793</td>\n",
       "      <td>0.1923</td>\n",
       "      <td>0.0687</td>\n",
       "      <td>0.0703</td>\n",
       "      <td>0.1917</td>\n",
       "    </tr>\n",
       "    <tr>\n",
       "      <th>[17570.0977, 19074.375)</th>\n",
       "      <td>6510.0</td>\n",
       "      <td>238.0</td>\n",
       "      <td>0.0366</td>\n",
       "      <td>0.1552</td>\n",
       "      <td>0.1888</td>\n",
       "      <td>0.1917</td>\n",
       "      <td>0.1963</td>\n",
       "      <td>0.1873</td>\n",
       "    </tr>\n",
       "    <tr>\n",
       "      <th>[19074.375, 20612.4521)</th>\n",
       "      <td>8397.0</td>\n",
       "      <td>421.0</td>\n",
       "      <td>0.0501</td>\n",
       "      <td>0.2744</td>\n",
       "      <td>0.2401</td>\n",
       "      <td>-0.1311</td>\n",
       "      <td>-0.1337</td>\n",
       "      <td>0.2416</td>\n",
       "    </tr>\n",
       "    <tr>\n",
       "      <th>[20612.4521, inf)</th>\n",
       "      <td>13184.0</td>\n",
       "      <td>600.0</td>\n",
       "      <td>0.0455</td>\n",
       "      <td>0.3911</td>\n",
       "      <td>0.3788</td>\n",
       "      <td>-0.0314</td>\n",
       "      <td>-0.0321</td>\n",
       "      <td>0.3793</td>\n",
       "    </tr>\n",
       "    <tr>\n",
       "      <th>nan</th>\n",
       "      <td>0.0</td>\n",
       "      <td>0.0</td>\n",
       "      <td>NaN</td>\n",
       "      <td>0.0000</td>\n",
       "      <td>0.0000</td>\n",
       "      <td>NaN</td>\n",
       "      <td>-3.0753</td>\n",
       "      <td>0.0000</td>\n",
       "    </tr>\n",
       "  </tbody>\n",
       "</table>\n",
       "</div>"
      ],
      "text/plain": [
       "                         CNT_TOTAL  CNT_DEF  DEF_RATE  DIST_BAD  DIST_GOOD  \\\n",
       "BIN_PRED_INCOME                                                              \n",
       "[-inf, 17570.0977)          6664.0    275.0    0.0413    0.1793     0.1923   \n",
       "[17570.0977, 19074.375)     6510.0    238.0    0.0366    0.1552     0.1888   \n",
       "[19074.375, 20612.4521)     8397.0    421.0    0.0501    0.2744     0.2401   \n",
       "[20612.4521, inf)          13184.0    600.0    0.0455    0.3911     0.3788   \n",
       "nan                            0.0      0.0       NaN    0.0000     0.0000   \n",
       "\n",
       "                            WOE  WOE_check   SHARE  \n",
       "BIN_PRED_INCOME                                     \n",
       "[-inf, 17570.0977)       0.0687     0.0703  0.1917  \n",
       "[17570.0977, 19074.375)  0.1917     0.1963  0.1873  \n",
       "[19074.375, 20612.4521) -0.1311    -0.1337  0.2416  \n",
       "[20612.4521, inf)       -0.0314    -0.0321  0.3793  \n",
       "nan                         NaN    -3.0753  0.0000  "
      ]
     },
     "metadata": {},
     "output_type": "display_data"
    },
    {
     "name": "stdout",
     "output_type": "stream",
     "text": [
      "IV: 0.0125\n",
      "Gini: 6.08\n"
     ]
    },
    {
     "data": {
      "image/png": "[encoded data removed]",
      "text/plain": [
       "<Figure size 720x360 with 2 Axes>"
      ]
     },
     "metadata": {
      "needs_background": "light"
     },
     "output_type": "display_data"
    },
    {
     "data": {
      "text/markdown": [
       "***"
      ],
      "text/plain": [
       "<IPython.core.display.Markdown object>"
      ]
     },
     "metadata": {},
     "output_type": "display_data"
    },
    {
     "data": {
      "text/markdown": [
       "### RATIO_PRED_REPORTED_INCOME"
      ],
      "text/plain": [
       "<IPython.core.display.Markdown object>"
      ]
     },
     "metadata": {},
     "output_type": "display_data"
    },
    {
     "data": {
      "text/html": [
       "<div>\n",
       "<style scoped>\n",
       "    .dataframe tbody tr th:only-of-type {\n",
       "        vertical-align: middle;\n",
       "    }\n",
       "\n",
       "    .dataframe tbody tr th {\n",
       "        vertical-align: top;\n",
       "    }\n",
       "\n",
       "    .dataframe thead th {\n",
       "        text-align: right;\n",
       "    }\n",
       "</style>\n",
       "<table border=\"1\" class=\"dataframe\">\n",
       "  <thead>\n",
       "    <tr style=\"text-align: right;\">\n",
       "      <th></th>\n",
       "      <th>CNT_TOTAL</th>\n",
       "      <th>CNT_DEF</th>\n",
       "      <th>DEF_RATE</th>\n",
       "      <th>DIST_BAD</th>\n",
       "      <th>DIST_GOOD</th>\n",
       "      <th>WOE</th>\n",
       "      <th>WOE_check</th>\n",
       "      <th>SHARE</th>\n",
       "    </tr>\n",
       "    <tr>\n",
       "      <th>BIN_RATIO_PRED_REPORTED_INCOME</th>\n",
       "      <th></th>\n",
       "      <th></th>\n",
       "      <th></th>\n",
       "      <th></th>\n",
       "      <th></th>\n",
       "      <th></th>\n",
       "      <th></th>\n",
       "      <th></th>\n",
       "    </tr>\n",
       "  </thead>\n",
       "  <tbody>\n",
       "    <tr>\n",
       "      <th>[-inf, 0.5662)</th>\n",
       "      <td>8705.0</td>\n",
       "      <td>459.0</td>\n",
       "      <td>0.0527</td>\n",
       "      <td>0.2992</td>\n",
       "      <td>0.2482</td>\n",
       "      <td>-0.1832</td>\n",
       "      <td>-0.1869</td>\n",
       "      <td>0.2505</td>\n",
       "    </tr>\n",
       "    <tr>\n",
       "      <th>[0.5662, 0.8857)</th>\n",
       "      <td>12788.0</td>\n",
       "      <td>532.0</td>\n",
       "      <td>0.0416</td>\n",
       "      <td>0.3468</td>\n",
       "      <td>0.3689</td>\n",
       "      <td>0.0605</td>\n",
       "      <td>0.0618</td>\n",
       "      <td>0.3679</td>\n",
       "    </tr>\n",
       "    <tr>\n",
       "      <th>[0.8857, 1.1486)</th>\n",
       "      <td>7263.0</td>\n",
       "      <td>331.0</td>\n",
       "      <td>0.0456</td>\n",
       "      <td>0.2158</td>\n",
       "      <td>0.2087</td>\n",
       "      <td>-0.0328</td>\n",
       "      <td>-0.0335</td>\n",
       "      <td>0.2090</td>\n",
       "    </tr>\n",
       "    <tr>\n",
       "      <th>[1.1486, inf)</th>\n",
       "      <td>5999.0</td>\n",
       "      <td>212.0</td>\n",
       "      <td>0.0353</td>\n",
       "      <td>0.1382</td>\n",
       "      <td>0.1742</td>\n",
       "      <td>0.2260</td>\n",
       "      <td>0.2315</td>\n",
       "      <td>0.1726</td>\n",
       "    </tr>\n",
       "    <tr>\n",
       "      <th>nan</th>\n",
       "      <td>0.0</td>\n",
       "      <td>0.0</td>\n",
       "      <td>NaN</td>\n",
       "      <td>0.0000</td>\n",
       "      <td>0.0000</td>\n",
       "      <td>NaN</td>\n",
       "      <td>-3.0753</td>\n",
       "      <td>0.0000</td>\n",
       "    </tr>\n",
       "  </tbody>\n",
       "</table>\n",
       "</div>"
      ],
      "text/plain": [
       "                                CNT_TOTAL  CNT_DEF  DEF_RATE  DIST_BAD  \\\n",
       "BIN_RATIO_PRED_REPORTED_INCOME                                           \n",
       "[-inf, 0.5662)                     8705.0    459.0    0.0527    0.2992   \n",
       "[0.5662, 0.8857)                  12788.0    532.0    0.0416    0.3468   \n",
       "[0.8857, 1.1486)                   7263.0    331.0    0.0456    0.2158   \n",
       "[1.1486, inf)                      5999.0    212.0    0.0353    0.1382   \n",
       "nan                                   0.0      0.0       NaN    0.0000   \n",
       "\n",
       "                                DIST_GOOD     WOE  WOE_check   SHARE  \n",
       "BIN_RATIO_PRED_REPORTED_INCOME                                        \n",
       "[-inf, 0.5662)                     0.2482 -0.1832    -0.1869  0.2505  \n",
       "[0.5662, 0.8857)                   0.3689  0.0605     0.0618  0.3679  \n",
       "[0.8857, 1.1486)                   0.2087 -0.0328    -0.0335  0.2090  \n",
       "[1.1486, inf)                      0.1742  0.2260     0.2315  0.1726  \n",
       "nan                                0.0000     NaN    -3.0753  0.0000  "
      ]
     },
     "metadata": {},
     "output_type": "display_data"
    },
    {
     "name": "stdout",
     "output_type": "stream",
     "text": [
      "IV: 0.0195\n",
      "Gini: 7.64\n"
     ]
    },
    {
     "data": {
      "image/png": "[encoded data removed]",
      "text/plain": [
       "<Figure size 720x360 with 2 Axes>"
      ]
     },
     "metadata": {
      "needs_background": "light"
     },
     "output_type": "display_data"
    },
    {
     "data": {
      "text/markdown": [
       "***"
      ],
      "text/plain": [
       "<IPython.core.display.Markdown object>"
      ]
     },
     "metadata": {},
     "output_type": "display_data"
    },
    {
     "data": {
      "text/markdown": [
       "### REPORTED_INCOME"
      ],
      "text/plain": [
       "<IPython.core.display.Markdown object>"
      ]
     },
     "metadata": {},
     "output_type": "display_data"
    },
    {
     "data": {
      "text/html": [
       "<div>\n",
       "<style scoped>\n",
       "    .dataframe tbody tr th:only-of-type {\n",
       "        vertical-align: middle;\n",
       "    }\n",
       "\n",
       "    .dataframe tbody tr th {\n",
       "        vertical-align: top;\n",
       "    }\n",
       "\n",
       "    .dataframe thead th {\n",
       "        text-align: right;\n",
       "    }\n",
       "</style>\n",
       "<table border=\"1\" class=\"dataframe\">\n",
       "  <thead>\n",
       "    <tr style=\"text-align: right;\">\n",
       "      <th></th>\n",
       "      <th>CNT_TOTAL</th>\n",
       "      <th>CNT_DEF</th>\n",
       "      <th>DEF_RATE</th>\n",
       "      <th>DIST_BAD</th>\n",
       "      <th>DIST_GOOD</th>\n",
       "      <th>WOE</th>\n",
       "      <th>WOE_check</th>\n",
       "      <th>SHARE</th>\n",
       "    </tr>\n",
       "    <tr>\n",
       "      <th>BIN_REPORTED_INCOME</th>\n",
       "      <th></th>\n",
       "      <th></th>\n",
       "      <th></th>\n",
       "      <th></th>\n",
       "      <th></th>\n",
       "      <th></th>\n",
       "      <th></th>\n",
       "      <th></th>\n",
       "    </tr>\n",
       "  </thead>\n",
       "  <tbody>\n",
       "    <tr>\n",
       "      <th>[-inf, 17999.5)</th>\n",
       "      <td>6276.0</td>\n",
       "      <td>218.0</td>\n",
       "      <td>0.0347</td>\n",
       "      <td>0.1421</td>\n",
       "      <td>0.1824</td>\n",
       "      <td>0.2433</td>\n",
       "      <td>0.2493</td>\n",
       "      <td>0.1806</td>\n",
       "    </tr>\n",
       "    <tr>\n",
       "      <th>[17999.5, 25644.0)</th>\n",
       "      <td>12500.0</td>\n",
       "      <td>555.0</td>\n",
       "      <td>0.0444</td>\n",
       "      <td>0.3618</td>\n",
       "      <td>0.3596</td>\n",
       "      <td>-0.0061</td>\n",
       "      <td>-0.0062</td>\n",
       "      <td>0.3597</td>\n",
       "    </tr>\n",
       "    <tr>\n",
       "      <th>[25644.0, 37973.5)</th>\n",
       "      <td>9020.0</td>\n",
       "      <td>376.0</td>\n",
       "      <td>0.0417</td>\n",
       "      <td>0.2451</td>\n",
       "      <td>0.2602</td>\n",
       "      <td>0.0584</td>\n",
       "      <td>0.0597</td>\n",
       "      <td>0.2595</td>\n",
       "    </tr>\n",
       "    <tr>\n",
       "      <th>[37973.5, inf)</th>\n",
       "      <td>6959.0</td>\n",
       "      <td>385.0</td>\n",
       "      <td>0.0553</td>\n",
       "      <td>0.2510</td>\n",
       "      <td>0.1979</td>\n",
       "      <td>-0.2332</td>\n",
       "      <td>-0.2377</td>\n",
       "      <td>0.2002</td>\n",
       "    </tr>\n",
       "    <tr>\n",
       "      <th>nan</th>\n",
       "      <td>0.0</td>\n",
       "      <td>0.0</td>\n",
       "      <td>NaN</td>\n",
       "      <td>0.0000</td>\n",
       "      <td>0.0000</td>\n",
       "      <td>NaN</td>\n",
       "      <td>-3.0753</td>\n",
       "      <td>0.0000</td>\n",
       "    </tr>\n",
       "  </tbody>\n",
       "</table>\n",
       "</div>"
      ],
      "text/plain": [
       "                     CNT_TOTAL  CNT_DEF  DEF_RATE  DIST_BAD  DIST_GOOD  \\\n",
       "BIN_REPORTED_INCOME                                                      \n",
       "[-inf, 17999.5)         6276.0    218.0    0.0347    0.1421     0.1824   \n",
       "[17999.5, 25644.0)     12500.0    555.0    0.0444    0.3618     0.3596   \n",
       "[25644.0, 37973.5)      9020.0    376.0    0.0417    0.2451     0.2602   \n",
       "[37973.5, inf)          6959.0    385.0    0.0553    0.2510     0.1979   \n",
       "nan                        0.0      0.0       NaN    0.0000     0.0000   \n",
       "\n",
       "                        WOE  WOE_check   SHARE  \n",
       "BIN_REPORTED_INCOME                             \n",
       "[-inf, 17999.5)      0.2433     0.2493  0.1806  \n",
       "[17999.5, 25644.0)  -0.0061    -0.0062  0.3597  \n",
       "[25644.0, 37973.5)   0.0584     0.0597  0.2595  \n",
       "[37973.5, inf)      -0.2332    -0.2377  0.2002  \n",
       "nan                     NaN    -3.0753  0.0000  "
      ]
     },
     "metadata": {},
     "output_type": "display_data"
    },
    {
     "name": "stdout",
     "output_type": "stream",
     "text": [
      "IV: 0.0236\n",
      "Gini: 8.17\n"
     ]
    },
    {
     "data": {
      "image/png": "[encoded data removed]",
      "text/plain": [
       "<Figure size 720x360 with 2 Axes>"
      ]
     },
     "metadata": {
      "needs_background": "light"
     },
     "output_type": "display_data"
    }
   ],
   "source": [
    "grouping.plot_bins(data=df_train, cols_pred_num=cols_pred_num, cols_pred_cat=cols_pred_cat,\n",
    "                    mask = pd.Series(df_train[\"REPORTED_INCOME\"]>=0),col_target=\"RISK_FSTQPD30\", \n",
    "                   output_folder=r\"C:\\Users\\aman.khatri91425\\Desktop\\HomeCredit\\Bigdata\\Common Maps KNN\", col_weight=None)"
   ]
  },
  {
   "cell_type": "code",
   "execution_count": 152,
   "metadata": {},
   "outputs": [
    {
     "name": "stdout",
     "output_type": "stream",
     "text": [
      "Added WOE variables. Number of columns: 25\n"
     ]
    }
   ],
   "source": [
    "woe_columns_to_replace = list()\n",
    "for column in data_woe.columns:\n",
    "    if column in df:\n",
    "        woe_columns_to_replace.append(column)\n",
    "        print('Column', column ,'dropped as it already existed in the data set.')\n",
    "df = df.drop(woe_columns_to_replace, axis='columns')\n",
    "df = df.join(-data_woe)\n",
    "\n",
    "print('Added WOE variables. Number of columns:',df.shape[1])\n",
    "cols_woe = [s + '_WOE' for s in cols_pred_num]"
   ]
  },
  {
   "cell_type": "markdown",
   "metadata": {},
   "source": [
    "# MOM R Square"
   ]
  },
  {
   "cell_type": "code",
   "execution_count": 91,
   "metadata": {},
   "outputs": [],
   "source": [
    "from sklearn.metrics import mean_squared_error as mse\n",
    "from sklearn.metrics import r2_score "
   ]
  },
  {
   "cell_type": "code",
   "execution_count": 92,
   "metadata": {},
   "outputs": [
    {
     "data": {
      "text/html": [
       "<div>\n",
       "<style scoped>\n",
       "    .dataframe tbody tr th:only-of-type {\n",
       "        vertical-align: middle;\n",
       "    }\n",
       "\n",
       "    .dataframe tbody tr th {\n",
       "        vertical-align: top;\n",
       "    }\n",
       "\n",
       "    .dataframe thead th {\n",
       "        text-align: right;\n",
       "    }\n",
       "</style>\n",
       "<table border=\"1\" class=\"dataframe\">\n",
       "  <thead>\n",
       "    <tr style=\"text-align: right;\">\n",
       "      <th></th>\n",
       "      <th>MONTH_STR</th>\n",
       "      <th>RMSE</th>\n",
       "      <th>R_SQUARED</th>\n",
       "    </tr>\n",
       "  </thead>\n",
       "  <tbody>\n",
       "    <tr>\n",
       "      <th>0</th>\n",
       "      <td>2019-02</td>\n",
       "      <td>12508.0</td>\n",
       "      <td>-0.362568</td>\n",
       "    </tr>\n",
       "    <tr>\n",
       "      <th>1</th>\n",
       "      <td>2019-03</td>\n",
       "      <td>12597.0</td>\n",
       "      <td>-0.474935</td>\n",
       "    </tr>\n",
       "    <tr>\n",
       "      <th>2</th>\n",
       "      <td>2019-04</td>\n",
       "      <td>12827.0</td>\n",
       "      <td>-0.478366</td>\n",
       "    </tr>\n",
       "    <tr>\n",
       "      <th>3</th>\n",
       "      <td>2019-05</td>\n",
       "      <td>13944.0</td>\n",
       "      <td>-0.638127</td>\n",
       "    </tr>\n",
       "    <tr>\n",
       "      <th>4</th>\n",
       "      <td>2019-06</td>\n",
       "      <td>13899.0</td>\n",
       "      <td>-0.589848</td>\n",
       "    </tr>\n",
       "    <tr>\n",
       "      <th>5</th>\n",
       "      <td>2019-07</td>\n",
       "      <td>13836.0</td>\n",
       "      <td>-0.580327</td>\n",
       "    </tr>\n",
       "    <tr>\n",
       "      <th>6</th>\n",
       "      <td>2019-08</td>\n",
       "      <td>13427.0</td>\n",
       "      <td>-0.508642</td>\n",
       "    </tr>\n",
       "  </tbody>\n",
       "</table>\n",
       "</div>"
      ],
      "text/plain": [
       "  MONTH_STR     RMSE  R_SQUARED\n",
       "0   2019-02  12508.0  -0.362568\n",
       "1   2019-03  12597.0  -0.474935\n",
       "2   2019-04  12827.0  -0.478366\n",
       "3   2019-05  13944.0  -0.638127\n",
       "4   2019-06  13899.0  -0.589848\n",
       "5   2019-07  13836.0  -0.580327\n",
       "6   2019-08  13427.0  -0.508642"
      ]
     },
     "execution_count": 92,
     "metadata": {},
     "output_type": "execute_result"
    }
   ],
   "source": [
    "dic= {\"MONTH_STR\":[],\"RMSE\":[],\"R_SQUARED\":[]}\n",
    "for x in df.MONTH_STR.unique():\n",
    "    dic[\"MONTH_STR\"].append(x)\n",
    "    dic[\"RMSE\"].append(round(np.sqrt(mse(df[df.MONTH_STR==x][\"REPORTED_INCOME\"],df[df.MONTH_STR==x][\"PRED_INCOME\"]))))\n",
    "    dic[\"R_SQUARED\"].append(r2_score(df[df.MONTH_STR==x][\"REPORTED_INCOME\"],df[df.MONTH_STR==x][\"PRED_INCOME\"]))\n",
    "    \n",
    "r_sq_df = pd.DataFrame(dic)\n",
    "\n",
    "r_sq_df"
   ]
  },
  {
   "cell_type": "code",
   "execution_count": 93,
   "metadata": {},
   "outputs": [
    {
     "data": {
      "image/png": "[encoded data removed]",
      "text/plain": [
       "<Figure size 720x360 with 1 Axes>"
      ]
     },
     "metadata": {
      "needs_background": "light"
     },
     "output_type": "display_data"
    }
   ],
   "source": [
    "import matplotlib.pyplot as plt\n",
    "\n",
    "fig = plt.figure(figsize = (10,5))\n",
    "ax1 = fig.add_subplot(1,1,1)\n",
    "\n",
    "ax1.plot(r_sq_df[\"MONTH_STR\"],r_sq_df[\"R_SQUARED\"], marker = 'o', label = 'R_Square')\n",
    "\n",
    "for i, txt in enumerate(r_sq_df[\"R_SQUARED\"]):\n",
    "    plt.annotate(\"{:.2f}\".format(txt), (r_sq_df[\"MONTH_STR\"][i], r_sq_df[\"R_SQUARED\"][i]+0.003))\n",
    "\n",
    "plt.legend(loc='lower right', borderaxespad=0.1)\n",
    "plt.ylim(0,0.15)\n",
    "plt.ylabel(\"R_Square\")\n",
    "plt.xlabel(\"MONTH\")\n",
    "ax1.set_title(\"MOM R Square\")\n",
    "plt.show()"
   ]
  }
 ],
 "metadata": {
  "kernelspec": {
   "display_name": "Python 3",
   "language": "python",
   "name": "python3"
  },
  "language_info": {
   "codemirror_mode": {
    "name": "ipython",
    "version": 3
   },
   "file_extension": ".py",
   "mimetype": "text/x-python",
   "name": "python",
   "nbconvert_exporter": "python",
   "pygments_lexer": "ipython3",
   "version": "3.7.3"
  }
 },
 "nbformat": 4,
 "nbformat_minor": 2
}
