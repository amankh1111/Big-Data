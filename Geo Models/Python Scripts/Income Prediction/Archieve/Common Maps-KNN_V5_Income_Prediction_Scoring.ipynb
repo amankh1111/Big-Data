{
 "cells": [
  {
   "cell_type": "code",
   "execution_count": 141,
   "metadata": {},
   "outputs": [],
   "source": [
    "import os\n",
    "import cx_Oracle\n",
    "import pandas as pd\n",
    "import numpy as np\n",
    "import pickle\n",
    "from datetime import date,datetime\n",
    "from sklearn import metrics\n",
    "from sklearn.model_selection import train_test_split, StratifiedKFold, RandomizedSearchCV, cross_val_score \n",
    "import time\n",
    "import matplotlib.pyplot as plt\n",
    "from sklearn.utils import resample\n",
    "import datetime\n",
    "import sys\n",
    "sys.path.append(R'C:\\Users\\aman.khatri91425\\Desktop\\HomeCredit\\Bigdata\\Scoring Worlflow')\n"
   ]
  },
  {
   "cell_type": "code",
   "execution_count": 142,
   "metadata": {},
   "outputs": [],
   "source": [
    "#connection = cx_Oracle.connect('HCIN_GUPTAN1[AP_UWI]/aGqQ4jnX92NG@INCL02.IN.PROD/HWIN_USR_DEV.HOMECREDIT.IN')\n",
    "#cursor = connection.cursor()\n",
    "#os.chdir(r\"C:\\Users\\aman.khatri91425\\Desktop\\HomeCredit\\Bigdata\\Common Maps KNN\")\n",
    "#qu1= \"\"\"\n",
    "# select * from TBD_COMMON_MAPS_DATA_1\n",
    "# where risk_agrf120 =1 \n",
    "# \"\"\"\n",
    "#df = pd.read_sql(qu1,connection)\n",
    "#df.to_pickle(r\"C:\\Users\\aman.khatri91425\\Desktop\\HomeCredit\\Bigdata\\Common Maps KNN\\data_dump_income_pred.pkl\")\n",
    "#df.to_csv(r\"C:\\Users\\aman.khatri91425\\Desktop\\HomeCredit\\Bigdata\\Common Maps KNN\\data_dump_income_pred.csv\")"
   ]
  },
  {
   "cell_type": "code",
   "execution_count": 143,
   "metadata": {},
   "outputs": [],
   "source": [
    "df = pd.read_pickle(r\"C:\\Users\\aman.khatri91425\\Desktop\\HomeCredit\\Bigdata\\Common Maps KNN\\data_dump_income_pred.pkl\")"
   ]
  },
  {
   "cell_type": "code",
   "execution_count": 144,
   "metadata": {},
   "outputs": [
    {
     "data": {
      "text/plain": [
       "Index(['SKP_CREDIT_CASE', 'TIME_DECISION_DATE', 'CUS_LAT', 'CUS_LONG',\n",
       "       'RISK_FSTQPD30', 'RISK_AGRF120', 'PRODUCT_GROUP', 'RISK_SCORE', 'RNK',\n",
       "       'GRID_ID', 'NO_HOUSEHOLD', 'TOTAL_POPULATION', 'TOTAL_MALE',\n",
       "       'TOTAL_FEMALE', 'LITERACY_TOTAL', 'LITERACY_MALE', 'LITERACY_FEMALE',\n",
       "       'SEX_RATIO', 'PP_INDEX', 'PROSPERITY_PURCHASING_POWER',\n",
       "       'PROSPERITY_FOOD_BEVERAGE', 'PROSPERITY_ALCOHOLIC_BEVERAGE',\n",
       "       'PROSPERITY_TOBACCO', 'PROSPERITY_CLOTHING', 'PROSPERITY_FOOTWEAR',\n",
       "       'PROSPERITY_FURNITURE_FURNISHIN', 'PROSPERITY_HOUSEHOLD_TEXTILES',\n",
       "       'PROSPERITY_HOUSEHOLD_APPLIANCE', 'PROSPERITY_HOUSEHOLD_UTENSILS',\n",
       "       'PROSPERITY_HOUSEHOLD_GARDEN_TO', 'PROSPERITY_HOUSEHOLD_MAINTENAN',\n",
       "       'PROSPERITY_MEDICAL_PRODUCTS', 'PROSPERITY_ELECTRONICS_IT',\n",
       "       'PROSPERITY_RECREATION_DURABLES', 'PROSPERITY_TOYS_SPORTS_PETS',\n",
       "       'PROSPERITY_RECREATIONAL_SERVIC', 'PROSPERITY_BOOKS_STATIONERY',\n",
       "       'PROSPERITY_CATERING_SERVICES', 'PROSPERITY_PERSONAL_CARE',\n",
       "       'PROSPERITY_PERSONAL_EFFECTS', 'CLIENT_INR_INCOME', 'SCORE_CB',\n",
       "       'GRID_STATE', 'GRID_DISTRICT', 'GRID_PINCODE'],\n",
       "      dtype='object')"
      ]
     },
     "execution_count": 144,
     "metadata": {},
     "output_type": "execute_result"
    }
   ],
   "source": [
    "df.columns"
   ]
  },
  {
   "cell_type": "code",
   "execution_count": 145,
   "metadata": {
    "scrolled": true
   },
   "outputs": [],
   "source": [
    "df = df[[\"SKP_CREDIT_CASE\",\"TIME_DECISION_DATE\",\"CUS_LAT\",\"CUS_LONG\",\"RISK_FSTQPD30\",\"RISK_AGRF120\",\n",
    "\"PRODUCT_GROUP\",\"RISK_SCORE\",\"GRID_ID\",\"CLIENT_INR_INCOME\",\"SCORE_CB\",'PROSPERITY_PURCHASING_POWER']]"
   ]
  },
  {
   "cell_type": "code",
   "execution_count": 146,
   "metadata": {},
   "outputs": [],
   "source": [
    "df_income = pd.read_csv(r\"C:\\Users\\aman.khatri91425\\Desktop\\HomeCredit\\Bigdata\\Common Maps KNN\\pred income.csv\")"
   ]
  },
  {
   "cell_type": "code",
   "execution_count": 147,
   "metadata": {},
   "outputs": [],
   "source": [
    "df = df.merge(df_income[[\"SKP_CREDIT_CASE\",\"PRED_INCOME\"]],on = \"SKP_CREDIT_CASE\")"
   ]
  },
  {
   "cell_type": "code",
   "execution_count": 148,
   "metadata": {},
   "outputs": [
    {
     "data": {
      "text/html": [
       "<div>\n",
       "<style scoped>\n",
       "    .dataframe tbody tr th:only-of-type {\n",
       "        vertical-align: middle;\n",
       "    }\n",
       "\n",
       "    .dataframe tbody tr th {\n",
       "        vertical-align: top;\n",
       "    }\n",
       "\n",
       "    .dataframe thead th {\n",
       "        text-align: right;\n",
       "    }\n",
       "</style>\n",
       "<table border=\"1\" class=\"dataframe\">\n",
       "  <thead>\n",
       "    <tr style=\"text-align: right;\">\n",
       "      <th></th>\n",
       "      <th>SKP_CREDIT_CASE</th>\n",
       "      <th>TIME_DECISION_DATE</th>\n",
       "      <th>CUS_LAT</th>\n",
       "      <th>CUS_LONG</th>\n",
       "      <th>RISK_FSTQPD30</th>\n",
       "      <th>RISK_AGRF120</th>\n",
       "      <th>PRODUCT_GROUP</th>\n",
       "      <th>RISK_SCORE</th>\n",
       "      <th>GRID_ID</th>\n",
       "      <th>CLIENT_INR_INCOME</th>\n",
       "      <th>SCORE_CB</th>\n",
       "      <th>PROSPERITY_PURCHASING_POWER</th>\n",
       "      <th>PRED_INCOME</th>\n",
       "    </tr>\n",
       "  </thead>\n",
       "  <tbody>\n",
       "    <tr>\n",
       "      <th>0</th>\n",
       "      <td>236957321</td>\n",
       "      <td>2019-05-23</td>\n",
       "      <td>22.462850</td>\n",
       "      <td>70.054036</td>\n",
       "      <td>0</td>\n",
       "      <td>1</td>\n",
       "      <td>CD</td>\n",
       "      <td>0.004765</td>\n",
       "      <td>500_00373_03390</td>\n",
       "      <td>22500.0</td>\n",
       "      <td>715.0</td>\n",
       "      <td>147904.9356</td>\n",
       "      <td>19551.741294</td>\n",
       "    </tr>\n",
       "    <tr>\n",
       "      <th>1</th>\n",
       "      <td>219519938</td>\n",
       "      <td>2018-12-21</td>\n",
       "      <td>22.461209</td>\n",
       "      <td>70.053191</td>\n",
       "      <td>0</td>\n",
       "      <td>1</td>\n",
       "      <td>CD</td>\n",
       "      <td>0.011997</td>\n",
       "      <td>500_00373_03390</td>\n",
       "      <td>25000.0</td>\n",
       "      <td>715.0</td>\n",
       "      <td>147904.9356</td>\n",
       "      <td>19551.741294</td>\n",
       "    </tr>\n",
       "    <tr>\n",
       "      <th>2</th>\n",
       "      <td>236282107</td>\n",
       "      <td>2019-05-17</td>\n",
       "      <td>22.461209</td>\n",
       "      <td>70.053191</td>\n",
       "      <td>0</td>\n",
       "      <td>1</td>\n",
       "      <td>CD</td>\n",
       "      <td>0.009383</td>\n",
       "      <td>500_00373_03390</td>\n",
       "      <td>12000.0</td>\n",
       "      <td>-1.0</td>\n",
       "      <td>147904.9356</td>\n",
       "      <td>19551.741294</td>\n",
       "    </tr>\n",
       "    <tr>\n",
       "      <th>3</th>\n",
       "      <td>220201779</td>\n",
       "      <td>2018-12-28</td>\n",
       "      <td>22.459227</td>\n",
       "      <td>70.056789</td>\n",
       "      <td>0</td>\n",
       "      <td>1</td>\n",
       "      <td>CD</td>\n",
       "      <td>0.006077</td>\n",
       "      <td>500_00373_03390</td>\n",
       "      <td>18000.0</td>\n",
       "      <td>-1.0</td>\n",
       "      <td>147904.9356</td>\n",
       "      <td>19551.741294</td>\n",
       "    </tr>\n",
       "    <tr>\n",
       "      <th>4</th>\n",
       "      <td>229241528</td>\n",
       "      <td>2019-03-18</td>\n",
       "      <td>22.459227</td>\n",
       "      <td>70.056789</td>\n",
       "      <td>1</td>\n",
       "      <td>1</td>\n",
       "      <td>CD</td>\n",
       "      <td>0.007692</td>\n",
       "      <td>500_00373_03390</td>\n",
       "      <td>20000.0</td>\n",
       "      <td>-1.0</td>\n",
       "      <td>147904.9356</td>\n",
       "      <td>19551.741294</td>\n",
       "    </tr>\n",
       "  </tbody>\n",
       "</table>\n",
       "</div>"
      ],
      "text/plain": [
       "   SKP_CREDIT_CASE TIME_DECISION_DATE    CUS_LAT   CUS_LONG  RISK_FSTQPD30  \\\n",
       "0        236957321         2019-05-23  22.462850  70.054036              0   \n",
       "1        219519938         2018-12-21  22.461209  70.053191              0   \n",
       "2        236282107         2019-05-17  22.461209  70.053191              0   \n",
       "3        220201779         2018-12-28  22.459227  70.056789              0   \n",
       "4        229241528         2019-03-18  22.459227  70.056789              1   \n",
       "\n",
       "   RISK_AGRF120 PRODUCT_GROUP  RISK_SCORE          GRID_ID  CLIENT_INR_INCOME  \\\n",
       "0             1            CD    0.004765  500_00373_03390            22500.0   \n",
       "1             1            CD    0.011997  500_00373_03390            25000.0   \n",
       "2             1            CD    0.009383  500_00373_03390            12000.0   \n",
       "3             1            CD    0.006077  500_00373_03390            18000.0   \n",
       "4             1            CD    0.007692  500_00373_03390            20000.0   \n",
       "\n",
       "   SCORE_CB  PROSPERITY_PURCHASING_POWER   PRED_INCOME  \n",
       "0     715.0                  147904.9356  19551.741294  \n",
       "1     715.0                  147904.9356  19551.741294  \n",
       "2      -1.0                  147904.9356  19551.741294  \n",
       "3      -1.0                  147904.9356  19551.741294  \n",
       "4      -1.0                  147904.9356  19551.741294  "
      ]
     },
     "execution_count": 148,
     "metadata": {},
     "output_type": "execute_result"
    }
   ],
   "source": [
    "df.head()"
   ]
  },
  {
   "cell_type": "code",
   "execution_count": 149,
   "metadata": {},
   "outputs": [],
   "source": [
    "df.dropna(subset = [\"RISK_SCORE\"], inplace = True)"
   ]
  },
  {
   "cell_type": "code",
   "execution_count": 150,
   "metadata": {},
   "outputs": [
    {
     "data": {
      "text/plain": [
       "(3669338, 13)"
      ]
     },
     "execution_count": 150,
     "metadata": {},
     "output_type": "execute_result"
    }
   ],
   "source": [
    "df.shape"
   ]
  },
  {
   "cell_type": "code",
   "execution_count": 151,
   "metadata": {},
   "outputs": [],
   "source": [
    "df[\"MONTH_STR\"] = df[\"TIME_DECISION_DATE\"].dt.strftime(\"%Y-%m\")"
   ]
  },
  {
   "cell_type": "code",
   "execution_count": 152,
   "metadata": {},
   "outputs": [],
   "source": [
    "df = df[df[\"CLIENT_INR_INCOME\"]<df[\"CLIENT_INR_INCOME\"].quantile(0.99)]"
   ]
  },
  {
   "cell_type": "code",
   "execution_count": 153,
   "metadata": {},
   "outputs": [],
   "source": [
    "df = df[df[\"CLIENT_INR_INCOME\"]!=0]"
   ]
  },
  {
   "cell_type": "code",
   "execution_count": 154,
   "metadata": {},
   "outputs": [],
   "source": [
    "df[\"PRED_BY_ACT\"] = df[\"PRED_INCOME\"]/df[\"CLIENT_INR_INCOME\"]\n",
    "df[\"ACT_BY_PRED\"] = df[\"CLIENT_INR_INCOME\"]/df[\"PRED_INCOME\"]\n",
    "\n",
    "df[\"PROP_BY_ACT\"] = df[\"PROSPERITY_PURCHASING_POWER\"]/df[\"CLIENT_INR_INCOME\"]\n",
    "df[\"ACT_BY_PROP\"] = df[\"CLIENT_INR_INCOME\"]/df[\"PROSPERITY_PURCHASING_POWER\"]\n",
    "\n",
    "df[\"AVG_INCOME\"] = (df[\"PRED_INCOME\"]+df[\"CLIENT_INR_INCOME\"])/2"
   ]
  },
  {
   "cell_type": "code",
   "execution_count": 155,
   "metadata": {},
   "outputs": [],
   "source": [
    "# Split Train and Test Data Set\n",
    "df_train = df[(df[\"TIME_DECISION_DATE\"]>=datetime.datetime(2018, 2, 1)) & \n",
    "              (df[\"TIME_DECISION_DATE\"]<=datetime.datetime(2018, 12, 1))]\n",
    "df_valid = df[(df[\"TIME_DECISION_DATE\"]>=datetime.datetime(2019, 1, 1)) & \n",
    "              (df[\"TIME_DECISION_DATE\"]<=datetime.datetime(2019, 1, 31))]\n",
    "df_test = df[(df[\"TIME_DECISION_DATE\"]>=datetime.datetime(2019, 2, 1)) & \n",
    "              (df[\"TIME_DECISION_DATE\"]<=datetime.datetime(2019, 3, 31))]"
   ]
  },
  {
   "cell_type": "code",
   "execution_count": 156,
   "metadata": {},
   "outputs": [
    {
     "name": "stdout",
     "output_type": "stream",
     "text": [
      "(2141803, 19)\n",
      "(225724, 19)\n",
      "(375914, 19)\n"
     ]
    }
   ],
   "source": [
    "print(df_train.shape)\n",
    "print(df_valid.shape)\n",
    "print(df_test.shape)\n"
   ]
  },
  {
   "cell_type": "code",
   "execution_count": 157,
   "metadata": {},
   "outputs": [],
   "source": [
    "cols_pred_num=[\"PRED_BY_ACT\",\"ACT_BY_PRED\",\"PROP_BY_ACT\",\"ACT_BY_PROP\",\"PRED_INCOME\",\"CLIENT_INR_INCOME\",\n",
    "               \"PROSPERITY_PURCHASING_POWER\",\"RISK_SCORE\",\"AVG_INCOME\"]\n",
    "cols_pred_cat = []"
   ]
  },
  {
   "cell_type": "code",
   "execution_count": 158,
   "metadata": {},
   "outputs": [],
   "source": [
    "from scoring.grouping import Grouping\n",
    "\n",
    "grouping = Grouping(columns = sorted(cols_pred_num),\n",
    "                    cat_columns = sorted(cols_pred_cat),\n",
    "                    group_count=5, \n",
    "                    min_samples=100000)"
   ]
  },
  {
   "cell_type": "code",
   "execution_count": 159,
   "metadata": {},
   "outputs": [
    {
     "data": {
      "application/vnd.jupyter.widget-view+json": {
       "model_id": "23a1e68c256b43d188c3ca18f285492c",
       "version_major": 2,
       "version_minor": 0
      },
      "text/plain": [
       "HBox(children=(IntProgress(value=0, max=9), HTML(value='')))"
      ]
     },
     "metadata": {},
     "output_type": "display_data"
    },
    {
     "name": "stdout",
     "output_type": "stream",
     "text": [
      "\n"
     ]
    }
   ],
   "source": [
    "grouping.fit(df_train[cols_pred_num],\n",
    "             df_train[\"RISK_FSTQPD30\"],\n",
    "          #   w=data[train_mask][col_weight],\n",
    "            progress_bar=True, category_limit=10000);"
   ]
  },
  {
   "cell_type": "code",
   "execution_count": 160,
   "metadata": {},
   "outputs": [
    {
     "data": {
      "text/plain": [
       "'Grouping saved on 2020-01-29 16:19:18 to file C:\\\\Users\\\\aman.khatri91425\\\\Desktop\\\\HomeCredit\\\\Bigdata\\\\Common Maps KNN\\\\my_grouping'"
      ]
     },
     "metadata": {},
     "output_type": "display_data"
    }
   ],
   "source": [
    "grouping.save(r\"C:\\Users\\aman.khatri91425\\Desktop\\HomeCredit\\Bigdata\\Common Maps KNN\\my_grouping\")"
   ]
  },
  {
   "cell_type": "code",
   "execution_count": 161,
   "metadata": {},
   "outputs": [
    {
     "data": {
      "application/vnd.jupyter.widget-view+json": {
       "model_id": "2516c48d7ced4af5a3f934f3b761c56f",
       "version_major": 2,
       "version_minor": 0
      },
      "text/plain": [
       "HBox(children=(IntProgress(value=0, max=9), HTML(value='')))"
      ]
     },
     "metadata": {},
     "output_type": "display_data"
    },
    {
     "name": "stdout",
     "output_type": "stream",
     "text": [
      "\n"
     ]
    }
   ],
   "source": [
    "data_woe = grouping.transform(df, transform_to='woe', progress_bar=True)"
   ]
  },
  {
   "cell_type": "code",
   "execution_count": 162,
   "metadata": {
    "scrolled": true
   },
   "outputs": [
    {
     "data": {
      "text/markdown": [
       "***"
      ],
      "text/plain": [
       "<IPython.core.display.Markdown object>"
      ]
     },
     "metadata": {},
     "output_type": "display_data"
    },
    {
     "data": {
      "text/markdown": [
       "### ACT_BY_PRED"
      ],
      "text/plain": [
       "<IPython.core.display.Markdown object>"
      ]
     },
     "metadata": {},
     "output_type": "display_data"
    },
    {
     "data": {
      "text/html": [
       "<div>\n",
       "<style scoped>\n",
       "    .dataframe tbody tr th:only-of-type {\n",
       "        vertical-align: middle;\n",
       "    }\n",
       "\n",
       "    .dataframe tbody tr th {\n",
       "        vertical-align: top;\n",
       "    }\n",
       "\n",
       "    .dataframe thead th {\n",
       "        text-align: right;\n",
       "    }\n",
       "</style>\n",
       "<table border=\"1\" class=\"dataframe\">\n",
       "  <thead>\n",
       "    <tr style=\"text-align: right;\">\n",
       "      <th></th>\n",
       "      <th>CNT_TOTAL</th>\n",
       "      <th>CNT_DEF</th>\n",
       "      <th>DEF_RATE</th>\n",
       "      <th>DIST_BAD</th>\n",
       "      <th>DIST_GOOD</th>\n",
       "      <th>WOE</th>\n",
       "      <th>WOE_check</th>\n",
       "      <th>SHARE</th>\n",
       "    </tr>\n",
       "    <tr>\n",
       "      <th>BIN_ACT_BY_PRED</th>\n",
       "      <th></th>\n",
       "      <th></th>\n",
       "      <th></th>\n",
       "      <th></th>\n",
       "      <th></th>\n",
       "      <th></th>\n",
       "      <th></th>\n",
       "      <th></th>\n",
       "    </tr>\n",
       "  </thead>\n",
       "  <tbody>\n",
       "    <tr>\n",
       "      <th>[-inf, 0.7059)</th>\n",
       "      <td>336930.0</td>\n",
       "      <td>27559.0</td>\n",
       "      <td>0.0818</td>\n",
       "      <td>0.1540</td>\n",
       "      <td>0.1576</td>\n",
       "      <td>0.0233</td>\n",
       "      <td>0.0235</td>\n",
       "      <td>0.1573</td>\n",
       "    </tr>\n",
       "    <tr>\n",
       "      <th>[0.7059, 1.1617)</th>\n",
       "      <td>1336220.0</td>\n",
       "      <td>112171.0</td>\n",
       "      <td>0.0839</td>\n",
       "      <td>0.6266</td>\n",
       "      <td>0.6236</td>\n",
       "      <td>-0.0047</td>\n",
       "      <td>-0.0048</td>\n",
       "      <td>0.6239</td>\n",
       "    </tr>\n",
       "    <tr>\n",
       "      <th>[1.1617, 1.3285)</th>\n",
       "      <td>201303.0</td>\n",
       "      <td>17425.0</td>\n",
       "      <td>0.0866</td>\n",
       "      <td>0.0973</td>\n",
       "      <td>0.0937</td>\n",
       "      <td>-0.0379</td>\n",
       "      <td>-0.0383</td>\n",
       "      <td>0.0940</td>\n",
       "    </tr>\n",
       "    <tr>\n",
       "      <th>[1.3285, 1.6006)</th>\n",
       "      <td>167074.0</td>\n",
       "      <td>13979.0</td>\n",
       "      <td>0.0837</td>\n",
       "      <td>0.0781</td>\n",
       "      <td>0.0780</td>\n",
       "      <td>-0.0012</td>\n",
       "      <td>-0.0012</td>\n",
       "      <td>0.0780</td>\n",
       "    </tr>\n",
       "    <tr>\n",
       "      <th>[1.6006, inf)</th>\n",
       "      <td>100276.0</td>\n",
       "      <td>7875.0</td>\n",
       "      <td>0.0785</td>\n",
       "      <td>0.0440</td>\n",
       "      <td>0.0471</td>\n",
       "      <td>0.0670</td>\n",
       "      <td>0.0678</td>\n",
       "      <td>0.0468</td>\n",
       "    </tr>\n",
       "    <tr>\n",
       "      <th>nan</th>\n",
       "      <td>0.0</td>\n",
       "      <td>0.0</td>\n",
       "      <td>NaN</td>\n",
       "      <td>0.0000</td>\n",
       "      <td>0.0000</td>\n",
       "      <td>NaN</td>\n",
       "      <td>-2.3947</td>\n",
       "      <td>0.0000</td>\n",
       "    </tr>\n",
       "  </tbody>\n",
       "</table>\n",
       "</div>"
      ],
      "text/plain": [
       "                  CNT_TOTAL   CNT_DEF  DEF_RATE  DIST_BAD  DIST_GOOD     WOE  \\\n",
       "BIN_ACT_BY_PRED                                                                \n",
       "[-inf, 0.7059)     336930.0   27559.0    0.0818    0.1540     0.1576  0.0233   \n",
       "[0.7059, 1.1617)  1336220.0  112171.0    0.0839    0.6266     0.6236 -0.0047   \n",
       "[1.1617, 1.3285)   201303.0   17425.0    0.0866    0.0973     0.0937 -0.0379   \n",
       "[1.3285, 1.6006)   167074.0   13979.0    0.0837    0.0781     0.0780 -0.0012   \n",
       "[1.6006, inf)      100276.0    7875.0    0.0785    0.0440     0.0471  0.0670   \n",
       "nan                     0.0       0.0       NaN    0.0000     0.0000     NaN   \n",
       "\n",
       "                  WOE_check   SHARE  \n",
       "BIN_ACT_BY_PRED                      \n",
       "[-inf, 0.7059)       0.0235  0.1573  \n",
       "[0.7059, 1.1617)    -0.0048  0.6239  \n",
       "[1.1617, 1.3285)    -0.0383  0.0940  \n",
       "[1.3285, 1.6006)    -0.0012  0.0780  \n",
       "[1.6006, inf)        0.0678  0.0468  \n",
       "nan                 -2.3947  0.0000  "
      ]
     },
     "metadata": {},
     "output_type": "display_data"
    },
    {
     "name": "stdout",
     "output_type": "stream",
     "text": [
      "IV: 0.0004\n",
      "Gini: 0.95\n"
     ]
    },
    {
     "data": {
      "image/png": "[encoded data removed]",
      "text/plain": [
       "<Figure size 720x360 with 2 Axes>"
      ]
     },
     "metadata": {
      "needs_background": "light"
     },
     "output_type": "display_data"
    },
    {
     "data": {
      "text/markdown": [
       "***"
      ],
      "text/plain": [
       "<IPython.core.display.Markdown object>"
      ]
     },
     "metadata": {},
     "output_type": "display_data"
    },
    {
     "data": {
      "text/markdown": [
       "### ACT_BY_PROP"
      ],
      "text/plain": [
       "<IPython.core.display.Markdown object>"
      ]
     },
     "metadata": {},
     "output_type": "display_data"
    },
    {
     "data": {
      "text/html": [
       "<div>\n",
       "<style scoped>\n",
       "    .dataframe tbody tr th:only-of-type {\n",
       "        vertical-align: middle;\n",
       "    }\n",
       "\n",
       "    .dataframe tbody tr th {\n",
       "        vertical-align: top;\n",
       "    }\n",
       "\n",
       "    .dataframe thead th {\n",
       "        text-align: right;\n",
       "    }\n",
       "</style>\n",
       "<table border=\"1\" class=\"dataframe\">\n",
       "  <thead>\n",
       "    <tr style=\"text-align: right;\">\n",
       "      <th></th>\n",
       "      <th>CNT_TOTAL</th>\n",
       "      <th>CNT_DEF</th>\n",
       "      <th>DEF_RATE</th>\n",
       "      <th>DIST_BAD</th>\n",
       "      <th>DIST_GOOD</th>\n",
       "      <th>WOE</th>\n",
       "      <th>WOE_check</th>\n",
       "      <th>SHARE</th>\n",
       "    </tr>\n",
       "    <tr>\n",
       "      <th>BIN_ACT_BY_PROP</th>\n",
       "      <th></th>\n",
       "      <th></th>\n",
       "      <th></th>\n",
       "      <th></th>\n",
       "      <th></th>\n",
       "      <th></th>\n",
       "      <th></th>\n",
       "      <th></th>\n",
       "    </tr>\n",
       "  </thead>\n",
       "  <tbody>\n",
       "    <tr>\n",
       "      <th>[-inf, 0.06163)</th>\n",
       "      <td>411136.0</td>\n",
       "      <td>33240.0</td>\n",
       "      <td>0.0808</td>\n",
       "      <td>0.1857</td>\n",
       "      <td>0.1925</td>\n",
       "      <td>0.0358</td>\n",
       "      <td>0.0362</td>\n",
       "      <td>0.1920</td>\n",
       "    </tr>\n",
       "    <tr>\n",
       "      <th>[0.06163, 0.06659)</th>\n",
       "      <td>108365.0</td>\n",
       "      <td>9253.0</td>\n",
       "      <td>0.0854</td>\n",
       "      <td>0.0517</td>\n",
       "      <td>0.0505</td>\n",
       "      <td>-0.0231</td>\n",
       "      <td>-0.0234</td>\n",
       "      <td>0.0506</td>\n",
       "    </tr>\n",
       "    <tr>\n",
       "      <th>[0.06659, 0.09796)</th>\n",
       "      <td>683378.0</td>\n",
       "      <td>56615.0</td>\n",
       "      <td>0.0828</td>\n",
       "      <td>0.3163</td>\n",
       "      <td>0.3193</td>\n",
       "      <td>0.0095</td>\n",
       "      <td>0.0096</td>\n",
       "      <td>0.3191</td>\n",
       "    </tr>\n",
       "    <tr>\n",
       "      <th>[0.09796, 0.2435)</th>\n",
       "      <td>828530.0</td>\n",
       "      <td>69975.0</td>\n",
       "      <td>0.0845</td>\n",
       "      <td>0.3909</td>\n",
       "      <td>0.3865</td>\n",
       "      <td>-0.0113</td>\n",
       "      <td>-0.0114</td>\n",
       "      <td>0.3868</td>\n",
       "    </tr>\n",
       "    <tr>\n",
       "      <th>[0.2435, inf)</th>\n",
       "      <td>110394.0</td>\n",
       "      <td>9926.0</td>\n",
       "      <td>0.0899</td>\n",
       "      <td>0.0554</td>\n",
       "      <td>0.0512</td>\n",
       "      <td>-0.0792</td>\n",
       "      <td>-0.0800</td>\n",
       "      <td>0.0515</td>\n",
       "    </tr>\n",
       "    <tr>\n",
       "      <th>nan</th>\n",
       "      <td>0.0</td>\n",
       "      <td>0.0</td>\n",
       "      <td>NaN</td>\n",
       "      <td>0.0000</td>\n",
       "      <td>0.0000</td>\n",
       "      <td>NaN</td>\n",
       "      <td>-2.3947</td>\n",
       "      <td>0.0000</td>\n",
       "    </tr>\n",
       "  </tbody>\n",
       "</table>\n",
       "</div>"
      ],
      "text/plain": [
       "                    CNT_TOTAL  CNT_DEF  DEF_RATE  DIST_BAD  DIST_GOOD     WOE  \\\n",
       "BIN_ACT_BY_PROP                                                                 \n",
       "[-inf, 0.06163)      411136.0  33240.0    0.0808    0.1857     0.1925  0.0358   \n",
       "[0.06163, 0.06659)   108365.0   9253.0    0.0854    0.0517     0.0505 -0.0231   \n",
       "[0.06659, 0.09796)   683378.0  56615.0    0.0828    0.3163     0.3193  0.0095   \n",
       "[0.09796, 0.2435)    828530.0  69975.0    0.0845    0.3909     0.3865 -0.0113   \n",
       "[0.2435, inf)        110394.0   9926.0    0.0899    0.0554     0.0512 -0.0792   \n",
       "nan                       0.0      0.0       NaN    0.0000     0.0000     NaN   \n",
       "\n",
       "                    WOE_check   SHARE  \n",
       "BIN_ACT_BY_PROP                        \n",
       "[-inf, 0.06163)        0.0362  0.1920  \n",
       "[0.06163, 0.06659)    -0.0234  0.0506  \n",
       "[0.06659, 0.09796)     0.0096  0.3191  \n",
       "[0.09796, 0.2435)     -0.0114  0.3868  \n",
       "[0.2435, inf)         -0.0800  0.0515  \n",
       "nan                   -2.3947  0.0000  "
      ]
     },
     "metadata": {},
     "output_type": "display_data"
    },
    {
     "name": "stdout",
     "output_type": "stream",
     "text": [
      "IV: 0.0007\n",
      "Gini: 1.33\n"
     ]
    },
    {
     "data": {
      "image/png": "[encoded data removed]",
      "text/plain": [
       "<Figure size 720x360 with 2 Axes>"
      ]
     },
     "metadata": {
      "needs_background": "light"
     },
     "output_type": "display_data"
    },
    {
     "data": {
      "text/markdown": [
       "***"
      ],
      "text/plain": [
       "<IPython.core.display.Markdown object>"
      ]
     },
     "metadata": {},
     "output_type": "display_data"
    },
    {
     "data": {
      "text/markdown": [
       "### AVG_INCOME"
      ],
      "text/plain": [
       "<IPython.core.display.Markdown object>"
      ]
     },
     "metadata": {},
     "output_type": "display_data"
    },
    {
     "data": {
      "text/html": [
       "<div>\n",
       "<style scoped>\n",
       "    .dataframe tbody tr th:only-of-type {\n",
       "        vertical-align: middle;\n",
       "    }\n",
       "\n",
       "    .dataframe tbody tr th {\n",
       "        vertical-align: top;\n",
       "    }\n",
       "\n",
       "    .dataframe thead th {\n",
       "        text-align: right;\n",
       "    }\n",
       "</style>\n",
       "<table border=\"1\" class=\"dataframe\">\n",
       "  <thead>\n",
       "    <tr style=\"text-align: right;\">\n",
       "      <th></th>\n",
       "      <th>CNT_TOTAL</th>\n",
       "      <th>CNT_DEF</th>\n",
       "      <th>DEF_RATE</th>\n",
       "      <th>DIST_BAD</th>\n",
       "      <th>DIST_GOOD</th>\n",
       "      <th>WOE</th>\n",
       "      <th>WOE_check</th>\n",
       "      <th>SHARE</th>\n",
       "    </tr>\n",
       "    <tr>\n",
       "      <th>BIN_AVG_INCOME</th>\n",
       "      <th></th>\n",
       "      <th></th>\n",
       "      <th></th>\n",
       "      <th></th>\n",
       "      <th></th>\n",
       "      <th></th>\n",
       "      <th></th>\n",
       "      <th></th>\n",
       "    </tr>\n",
       "  </thead>\n",
       "  <tbody>\n",
       "    <tr>\n",
       "      <th>[-inf, 12796.0073)</th>\n",
       "      <td>203354.0</td>\n",
       "      <td>15875.0</td>\n",
       "      <td>0.0781</td>\n",
       "      <td>0.0887</td>\n",
       "      <td>0.0955</td>\n",
       "      <td>0.0734</td>\n",
       "      <td>0.0742</td>\n",
       "      <td>0.0949</td>\n",
       "    </tr>\n",
       "    <tr>\n",
       "      <th>[12796.0073, 14878.4839)</th>\n",
       "      <td>423831.0</td>\n",
       "      <td>34571.0</td>\n",
       "      <td>0.0816</td>\n",
       "      <td>0.1931</td>\n",
       "      <td>0.1983</td>\n",
       "      <td>0.0263</td>\n",
       "      <td>0.0265</td>\n",
       "      <td>0.1979</td>\n",
       "    </tr>\n",
       "    <tr>\n",
       "      <th>[14878.4839, 19543.4004)</th>\n",
       "      <td>1130682.0</td>\n",
       "      <td>94900.0</td>\n",
       "      <td>0.0839</td>\n",
       "      <td>0.5301</td>\n",
       "      <td>0.5277</td>\n",
       "      <td>-0.0045</td>\n",
       "      <td>-0.0046</td>\n",
       "      <td>0.5279</td>\n",
       "    </tr>\n",
       "    <tr>\n",
       "      <th>[19543.4004, 22121.6611)</th>\n",
       "      <td>228097.0</td>\n",
       "      <td>19796.0</td>\n",
       "      <td>0.0868</td>\n",
       "      <td>0.1106</td>\n",
       "      <td>0.1061</td>\n",
       "      <td>-0.0407</td>\n",
       "      <td>-0.0412</td>\n",
       "      <td>0.1065</td>\n",
       "    </tr>\n",
       "    <tr>\n",
       "      <th>[22121.6611, inf)</th>\n",
       "      <td>155839.0</td>\n",
       "      <td>13867.0</td>\n",
       "      <td>0.0890</td>\n",
       "      <td>0.0775</td>\n",
       "      <td>0.0723</td>\n",
       "      <td>-0.0678</td>\n",
       "      <td>-0.0686</td>\n",
       "      <td>0.0728</td>\n",
       "    </tr>\n",
       "    <tr>\n",
       "      <th>nan</th>\n",
       "      <td>0.0</td>\n",
       "      <td>0.0</td>\n",
       "      <td>NaN</td>\n",
       "      <td>0.0000</td>\n",
       "      <td>0.0000</td>\n",
       "      <td>NaN</td>\n",
       "      <td>-2.3947</td>\n",
       "      <td>0.0000</td>\n",
       "    </tr>\n",
       "  </tbody>\n",
       "</table>\n",
       "</div>"
      ],
      "text/plain": [
       "                          CNT_TOTAL  CNT_DEF  DEF_RATE  DIST_BAD  DIST_GOOD  \\\n",
       "BIN_AVG_INCOME                                                                \n",
       "[-inf, 12796.0073)         203354.0  15875.0    0.0781    0.0887     0.0955   \n",
       "[12796.0073, 14878.4839)   423831.0  34571.0    0.0816    0.1931     0.1983   \n",
       "[14878.4839, 19543.4004)  1130682.0  94900.0    0.0839    0.5301     0.5277   \n",
       "[19543.4004, 22121.6611)   228097.0  19796.0    0.0868    0.1106     0.1061   \n",
       "[22121.6611, inf)          155839.0  13867.0    0.0890    0.0775     0.0723   \n",
       "nan                             0.0      0.0       NaN    0.0000     0.0000   \n",
       "\n",
       "                             WOE  WOE_check   SHARE  \n",
       "BIN_AVG_INCOME                                       \n",
       "[-inf, 12796.0073)        0.0734     0.0742  0.0949  \n",
       "[12796.0073, 14878.4839)  0.0263     0.0265  0.1979  \n",
       "[14878.4839, 19543.4004) -0.0045    -0.0046  0.5279  \n",
       "[19543.4004, 22121.6611) -0.0407    -0.0412  0.1065  \n",
       "[22121.6611, inf)        -0.0678    -0.0686  0.0728  \n",
       "nan                          NaN    -2.3947  0.0000  "
      ]
     },
     "metadata": {},
     "output_type": "display_data"
    },
    {
     "name": "stdout",
     "output_type": "stream",
     "text": [
      "IV: 0.0012\n",
      "Gini: 1.77\n"
     ]
    },
    {
     "data": {
      "image/png": "[encoded data removed]",
      "text/plain": [
       "<Figure size 720x360 with 2 Axes>"
      ]
     },
     "metadata": {
      "needs_background": "light"
     },
     "output_type": "display_data"
    },
    {
     "data": {
      "text/markdown": [
       "***"
      ],
      "text/plain": [
       "<IPython.core.display.Markdown object>"
      ]
     },
     "metadata": {},
     "output_type": "display_data"
    },
    {
     "data": {
      "text/markdown": [
       "### CLIENT_INR_INCOME"
      ],
      "text/plain": [
       "<IPython.core.display.Markdown object>"
      ]
     },
     "metadata": {},
     "output_type": "display_data"
    },
    {
     "data": {
      "text/html": [
       "<div>\n",
       "<style scoped>\n",
       "    .dataframe tbody tr th:only-of-type {\n",
       "        vertical-align: middle;\n",
       "    }\n",
       "\n",
       "    .dataframe tbody tr th {\n",
       "        vertical-align: top;\n",
       "    }\n",
       "\n",
       "    .dataframe thead th {\n",
       "        text-align: right;\n",
       "    }\n",
       "</style>\n",
       "<table border=\"1\" class=\"dataframe\">\n",
       "  <thead>\n",
       "    <tr style=\"text-align: right;\">\n",
       "      <th></th>\n",
       "      <th>CNT_TOTAL</th>\n",
       "      <th>CNT_DEF</th>\n",
       "      <th>DEF_RATE</th>\n",
       "      <th>DIST_BAD</th>\n",
       "      <th>DIST_GOOD</th>\n",
       "      <th>WOE</th>\n",
       "      <th>WOE_check</th>\n",
       "      <th>SHARE</th>\n",
       "    </tr>\n",
       "    <tr>\n",
       "      <th>BIN_CLIENT_INR_INCOME</th>\n",
       "      <th></th>\n",
       "      <th></th>\n",
       "      <th></th>\n",
       "      <th></th>\n",
       "      <th></th>\n",
       "      <th></th>\n",
       "      <th></th>\n",
       "      <th></th>\n",
       "    </tr>\n",
       "  </thead>\n",
       "  <tbody>\n",
       "    <tr>\n",
       "      <th>[-inf, 9805.0)</th>\n",
       "      <td>113657.0</td>\n",
       "      <td>9107.0</td>\n",
       "      <td>0.0801</td>\n",
       "      <td>0.0509</td>\n",
       "      <td>0.0533</td>\n",
       "      <td>0.0454</td>\n",
       "      <td>0.0459</td>\n",
       "      <td>0.0531</td>\n",
       "    </tr>\n",
       "    <tr>\n",
       "      <th>[9805.0, 10260.5)</th>\n",
       "      <td>139249.0</td>\n",
       "      <td>10861.0</td>\n",
       "      <td>0.0780</td>\n",
       "      <td>0.0607</td>\n",
       "      <td>0.0654</td>\n",
       "      <td>0.0743</td>\n",
       "      <td>0.0752</td>\n",
       "      <td>0.0650</td>\n",
       "    </tr>\n",
       "    <tr>\n",
       "      <th>[10260.5, 15999.5)</th>\n",
       "      <td>888423.0</td>\n",
       "      <td>73920.0</td>\n",
       "      <td>0.0832</td>\n",
       "      <td>0.4129</td>\n",
       "      <td>0.4150</td>\n",
       "      <td>0.0049</td>\n",
       "      <td>0.0049</td>\n",
       "      <td>0.4148</td>\n",
       "    </tr>\n",
       "    <tr>\n",
       "      <th>[15999.5, 21498.0)</th>\n",
       "      <td>662986.0</td>\n",
       "      <td>56160.0</td>\n",
       "      <td>0.0847</td>\n",
       "      <td>0.3137</td>\n",
       "      <td>0.3092</td>\n",
       "      <td>-0.0145</td>\n",
       "      <td>-0.0147</td>\n",
       "      <td>0.3095</td>\n",
       "    </tr>\n",
       "    <tr>\n",
       "      <th>[21498.0, inf)</th>\n",
       "      <td>337488.0</td>\n",
       "      <td>28961.0</td>\n",
       "      <td>0.0858</td>\n",
       "      <td>0.1618</td>\n",
       "      <td>0.1572</td>\n",
       "      <td>-0.0285</td>\n",
       "      <td>-0.0288</td>\n",
       "      <td>0.1576</td>\n",
       "    </tr>\n",
       "    <tr>\n",
       "      <th>nan</th>\n",
       "      <td>0.0</td>\n",
       "      <td>0.0</td>\n",
       "      <td>NaN</td>\n",
       "      <td>0.0000</td>\n",
       "      <td>0.0000</td>\n",
       "      <td>NaN</td>\n",
       "      <td>-2.3947</td>\n",
       "      <td>0.0000</td>\n",
       "    </tr>\n",
       "  </tbody>\n",
       "</table>\n",
       "</div>"
      ],
      "text/plain": [
       "                       CNT_TOTAL  CNT_DEF  DEF_RATE  DIST_BAD  DIST_GOOD  \\\n",
       "BIN_CLIENT_INR_INCOME                                                      \n",
       "[-inf, 9805.0)          113657.0   9107.0    0.0801    0.0509     0.0533   \n",
       "[9805.0, 10260.5)       139249.0  10861.0    0.0780    0.0607     0.0654   \n",
       "[10260.5, 15999.5)      888423.0  73920.0    0.0832    0.4129     0.4150   \n",
       "[15999.5, 21498.0)      662986.0  56160.0    0.0847    0.3137     0.3092   \n",
       "[21498.0, inf)          337488.0  28961.0    0.0858    0.1618     0.1572   \n",
       "nan                          0.0      0.0       NaN    0.0000     0.0000   \n",
       "\n",
       "                          WOE  WOE_check   SHARE  \n",
       "BIN_CLIENT_INR_INCOME                             \n",
       "[-inf, 9805.0)         0.0454     0.0459  0.0531  \n",
       "[9805.0, 10260.5)      0.0743     0.0752  0.0650  \n",
       "[10260.5, 15999.5)     0.0049     0.0049  0.4148  \n",
       "[15999.5, 21498.0)    -0.0145    -0.0147  0.3095  \n",
       "[21498.0, inf)        -0.0285    -0.0288  0.1576  \n",
       "nan                       NaN    -2.3947  0.0000  "
      ]
     },
     "metadata": {},
     "output_type": "display_data"
    },
    {
     "name": "stdout",
     "output_type": "stream",
     "text": [
      "IV: 0.0007\n",
      "Gini: 1.27\n"
     ]
    },
    {
     "data": {
      "image/png": "[encoded data removed]",
      "text/plain": [
       "<Figure size 720x360 with 2 Axes>"
      ]
     },
     "metadata": {
      "needs_background": "light"
     },
     "output_type": "display_data"
    },
    {
     "data": {
      "text/markdown": [
       "***"
      ],
      "text/plain": [
       "<IPython.core.display.Markdown object>"
      ]
     },
     "metadata": {},
     "output_type": "display_data"
    },
    {
     "data": {
      "text/markdown": [
       "### PRED_BY_ACT"
      ],
      "text/plain": [
       "<IPython.core.display.Markdown object>"
      ]
     },
     "metadata": {},
     "output_type": "display_data"
    },
    {
     "data": {
      "text/html": [
       "<div>\n",
       "<style scoped>\n",
       "    .dataframe tbody tr th:only-of-type {\n",
       "        vertical-align: middle;\n",
       "    }\n",
       "\n",
       "    .dataframe tbody tr th {\n",
       "        vertical-align: top;\n",
       "    }\n",
       "\n",
       "    .dataframe thead th {\n",
       "        text-align: right;\n",
       "    }\n",
       "</style>\n",
       "<table border=\"1\" class=\"dataframe\">\n",
       "  <thead>\n",
       "    <tr style=\"text-align: right;\">\n",
       "      <th></th>\n",
       "      <th>CNT_TOTAL</th>\n",
       "      <th>CNT_DEF</th>\n",
       "      <th>DEF_RATE</th>\n",
       "      <th>DIST_BAD</th>\n",
       "      <th>DIST_GOOD</th>\n",
       "      <th>WOE</th>\n",
       "      <th>WOE_check</th>\n",
       "      <th>SHARE</th>\n",
       "    </tr>\n",
       "    <tr>\n",
       "      <th>BIN_PRED_BY_ACT</th>\n",
       "      <th></th>\n",
       "      <th></th>\n",
       "      <th></th>\n",
       "      <th></th>\n",
       "      <th></th>\n",
       "      <th></th>\n",
       "      <th></th>\n",
       "      <th></th>\n",
       "    </tr>\n",
       "  </thead>\n",
       "  <tbody>\n",
       "    <tr>\n",
       "      <th>[-inf, 0.6247)</th>\n",
       "      <td>100276.0</td>\n",
       "      <td>7875.0</td>\n",
       "      <td>0.0785</td>\n",
       "      <td>0.0440</td>\n",
       "      <td>0.0471</td>\n",
       "      <td>0.0670</td>\n",
       "      <td>0.0678</td>\n",
       "      <td>0.0468</td>\n",
       "    </tr>\n",
       "    <tr>\n",
       "      <th>[0.6247, 0.7527)</th>\n",
       "      <td>167074.0</td>\n",
       "      <td>13979.0</td>\n",
       "      <td>0.0837</td>\n",
       "      <td>0.0781</td>\n",
       "      <td>0.0780</td>\n",
       "      <td>-0.0012</td>\n",
       "      <td>-0.0012</td>\n",
       "      <td>0.0780</td>\n",
       "    </tr>\n",
       "    <tr>\n",
       "      <th>[0.7527, 0.8608)</th>\n",
       "      <td>201303.0</td>\n",
       "      <td>17425.0</td>\n",
       "      <td>0.0866</td>\n",
       "      <td>0.0973</td>\n",
       "      <td>0.0937</td>\n",
       "      <td>-0.0379</td>\n",
       "      <td>-0.0383</td>\n",
       "      <td>0.0940</td>\n",
       "    </tr>\n",
       "    <tr>\n",
       "      <th>[0.8608, 1.4167)</th>\n",
       "      <td>1336220.0</td>\n",
       "      <td>112171.0</td>\n",
       "      <td>0.0839</td>\n",
       "      <td>0.6266</td>\n",
       "      <td>0.6236</td>\n",
       "      <td>-0.0047</td>\n",
       "      <td>-0.0048</td>\n",
       "      <td>0.6239</td>\n",
       "    </tr>\n",
       "    <tr>\n",
       "      <th>[1.4167, inf)</th>\n",
       "      <td>336930.0</td>\n",
       "      <td>27559.0</td>\n",
       "      <td>0.0818</td>\n",
       "      <td>0.1540</td>\n",
       "      <td>0.1576</td>\n",
       "      <td>0.0233</td>\n",
       "      <td>0.0235</td>\n",
       "      <td>0.1573</td>\n",
       "    </tr>\n",
       "    <tr>\n",
       "      <th>nan</th>\n",
       "      <td>0.0</td>\n",
       "      <td>0.0</td>\n",
       "      <td>NaN</td>\n",
       "      <td>0.0000</td>\n",
       "      <td>0.0000</td>\n",
       "      <td>NaN</td>\n",
       "      <td>-2.3947</td>\n",
       "      <td>0.0000</td>\n",
       "    </tr>\n",
       "  </tbody>\n",
       "</table>\n",
       "</div>"
      ],
      "text/plain": [
       "                  CNT_TOTAL   CNT_DEF  DEF_RATE  DIST_BAD  DIST_GOOD     WOE  \\\n",
       "BIN_PRED_BY_ACT                                                                \n",
       "[-inf, 0.6247)     100276.0    7875.0    0.0785    0.0440     0.0471  0.0670   \n",
       "[0.6247, 0.7527)   167074.0   13979.0    0.0837    0.0781     0.0780 -0.0012   \n",
       "[0.7527, 0.8608)   201303.0   17425.0    0.0866    0.0973     0.0937 -0.0379   \n",
       "[0.8608, 1.4167)  1336220.0  112171.0    0.0839    0.6266     0.6236 -0.0047   \n",
       "[1.4167, inf)      336930.0   27559.0    0.0818    0.1540     0.1576  0.0233   \n",
       "nan                     0.0       0.0       NaN    0.0000     0.0000     NaN   \n",
       "\n",
       "                  WOE_check   SHARE  \n",
       "BIN_PRED_BY_ACT                      \n",
       "[-inf, 0.6247)       0.0678  0.0468  \n",
       "[0.6247, 0.7527)    -0.0012  0.0780  \n",
       "[0.7527, 0.8608)    -0.0383  0.0940  \n",
       "[0.8608, 1.4167)    -0.0048  0.6239  \n",
       "[1.4167, inf)        0.0235  0.1573  \n",
       "nan                 -2.3947  0.0000  "
      ]
     },
     "metadata": {},
     "output_type": "display_data"
    },
    {
     "name": "stdout",
     "output_type": "stream",
     "text": [
      "IV: 0.0004\n",
      "Gini: 0.95\n"
     ]
    },
    {
     "data": {
      "image/png": "[encoded data removed]",
      "text/plain": [
       "<Figure size 720x360 with 2 Axes>"
      ]
     },
     "metadata": {
      "needs_background": "light"
     },
     "output_type": "display_data"
    },
    {
     "data": {
      "text/markdown": [
       "***"
      ],
      "text/plain": [
       "<IPython.core.display.Markdown object>"
      ]
     },
     "metadata": {},
     "output_type": "display_data"
    },
    {
     "data": {
      "text/markdown": [
       "### PRED_INCOME"
      ],
      "text/plain": [
       "<IPython.core.display.Markdown object>"
      ]
     },
     "metadata": {},
     "output_type": "display_data"
    },
    {
     "data": {
      "text/html": [
       "<div>\n",
       "<style scoped>\n",
       "    .dataframe tbody tr th:only-of-type {\n",
       "        vertical-align: middle;\n",
       "    }\n",
       "\n",
       "    .dataframe tbody tr th {\n",
       "        vertical-align: top;\n",
       "    }\n",
       "\n",
       "    .dataframe thead th {\n",
       "        text-align: right;\n",
       "    }\n",
       "</style>\n",
       "<table border=\"1\" class=\"dataframe\">\n",
       "  <thead>\n",
       "    <tr style=\"text-align: right;\">\n",
       "      <th></th>\n",
       "      <th>CNT_TOTAL</th>\n",
       "      <th>CNT_DEF</th>\n",
       "      <th>DEF_RATE</th>\n",
       "      <th>DIST_BAD</th>\n",
       "      <th>DIST_GOOD</th>\n",
       "      <th>WOE</th>\n",
       "      <th>WOE_check</th>\n",
       "      <th>SHARE</th>\n",
       "    </tr>\n",
       "    <tr>\n",
       "      <th>BIN_PRED_INCOME</th>\n",
       "      <th></th>\n",
       "      <th></th>\n",
       "      <th></th>\n",
       "      <th></th>\n",
       "      <th></th>\n",
       "      <th></th>\n",
       "      <th></th>\n",
       "      <th></th>\n",
       "    </tr>\n",
       "  </thead>\n",
       "  <tbody>\n",
       "    <tr>\n",
       "      <th>[-inf, 13690.1392)</th>\n",
       "      <td>126463.0</td>\n",
       "      <td>9622.0</td>\n",
       "      <td>0.0761</td>\n",
       "      <td>0.0538</td>\n",
       "      <td>0.0595</td>\n",
       "      <td>0.1009</td>\n",
       "      <td>0.1021</td>\n",
       "      <td>0.0590</td>\n",
       "    </tr>\n",
       "    <tr>\n",
       "      <th>[13690.1392, 14786.3857)</th>\n",
       "      <td>274217.0</td>\n",
       "      <td>21946.0</td>\n",
       "      <td>0.0800</td>\n",
       "      <td>0.1226</td>\n",
       "      <td>0.1285</td>\n",
       "      <td>0.0467</td>\n",
       "      <td>0.0472</td>\n",
       "      <td>0.1280</td>\n",
       "    </tr>\n",
       "    <tr>\n",
       "      <th>[14786.3857, 18957.3135)</th>\n",
       "      <td>1370392.0</td>\n",
       "      <td>113276.0</td>\n",
       "      <td>0.0827</td>\n",
       "      <td>0.6328</td>\n",
       "      <td>0.6405</td>\n",
       "      <td>0.0119</td>\n",
       "      <td>0.0121</td>\n",
       "      <td>0.6398</td>\n",
       "    </tr>\n",
       "    <tr>\n",
       "      <th>[18957.3135, 20087.5527)</th>\n",
       "      <td>222559.0</td>\n",
       "      <td>19812.0</td>\n",
       "      <td>0.0890</td>\n",
       "      <td>0.1107</td>\n",
       "      <td>0.1033</td>\n",
       "      <td>-0.0683</td>\n",
       "      <td>-0.0690</td>\n",
       "      <td>0.1039</td>\n",
       "    </tr>\n",
       "    <tr>\n",
       "      <th>[20087.5527, inf)</th>\n",
       "      <td>148172.0</td>\n",
       "      <td>14353.0</td>\n",
       "      <td>0.0969</td>\n",
       "      <td>0.0802</td>\n",
       "      <td>0.0682</td>\n",
       "      <td>-0.1605</td>\n",
       "      <td>-0.1622</td>\n",
       "      <td>0.0692</td>\n",
       "    </tr>\n",
       "    <tr>\n",
       "      <th>nan</th>\n",
       "      <td>0.0</td>\n",
       "      <td>0.0</td>\n",
       "      <td>NaN</td>\n",
       "      <td>0.0000</td>\n",
       "      <td>0.0000</td>\n",
       "      <td>NaN</td>\n",
       "      <td>-2.3947</td>\n",
       "      <td>0.0000</td>\n",
       "    </tr>\n",
       "  </tbody>\n",
       "</table>\n",
       "</div>"
      ],
      "text/plain": [
       "                          CNT_TOTAL   CNT_DEF  DEF_RATE  DIST_BAD  DIST_GOOD  \\\n",
       "BIN_PRED_INCOME                                                                \n",
       "[-inf, 13690.1392)         126463.0    9622.0    0.0761    0.0538     0.0595   \n",
       "[13690.1392, 14786.3857)   274217.0   21946.0    0.0800    0.1226     0.1285   \n",
       "[14786.3857, 18957.3135)  1370392.0  113276.0    0.0827    0.6328     0.6405   \n",
       "[18957.3135, 20087.5527)   222559.0   19812.0    0.0890    0.1107     0.1033   \n",
       "[20087.5527, inf)          148172.0   14353.0    0.0969    0.0802     0.0682   \n",
       "nan                             0.0       0.0       NaN    0.0000     0.0000   \n",
       "\n",
       "                             WOE  WOE_check   SHARE  \n",
       "BIN_PRED_INCOME                                      \n",
       "[-inf, 13690.1392)        0.1009     0.1021  0.0590  \n",
       "[13690.1392, 14786.3857)  0.0467     0.0472  0.1280  \n",
       "[14786.3857, 18957.3135)  0.0119     0.0121  0.6398  \n",
       "[18957.3135, 20087.5527) -0.0683    -0.0690  0.1039  \n",
       "[20087.5527, inf)        -0.1605    -0.1622  0.0692  \n",
       "nan                          NaN    -2.3947  0.0000  "
      ]
     },
     "metadata": {},
     "output_type": "display_data"
    },
    {
     "name": "stdout",
     "output_type": "stream",
     "text": [
      "IV: 0.0034\n",
      "Gini: 2.66\n"
     ]
    },
    {
     "data": {
      "image/png": "[encoded data removed]",
      "text/plain": [
       "<Figure size 720x360 with 2 Axes>"
      ]
     },
     "metadata": {
      "needs_background": "light"
     },
     "output_type": "display_data"
    },
    {
     "data": {
      "text/markdown": [
       "***"
      ],
      "text/plain": [
       "<IPython.core.display.Markdown object>"
      ]
     },
     "metadata": {},
     "output_type": "display_data"
    },
    {
     "data": {
      "text/markdown": [
       "### PROP_BY_ACT"
      ],
      "text/plain": [
       "<IPython.core.display.Markdown object>"
      ]
     },
     "metadata": {},
     "output_type": "display_data"
    },
    {
     "data": {
      "text/html": [
       "<div>\n",
       "<style scoped>\n",
       "    .dataframe tbody tr th:only-of-type {\n",
       "        vertical-align: middle;\n",
       "    }\n",
       "\n",
       "    .dataframe tbody tr th {\n",
       "        vertical-align: top;\n",
       "    }\n",
       "\n",
       "    .dataframe thead th {\n",
       "        text-align: right;\n",
       "    }\n",
       "</style>\n",
       "<table border=\"1\" class=\"dataframe\">\n",
       "  <thead>\n",
       "    <tr style=\"text-align: right;\">\n",
       "      <th></th>\n",
       "      <th>CNT_TOTAL</th>\n",
       "      <th>CNT_DEF</th>\n",
       "      <th>DEF_RATE</th>\n",
       "      <th>DIST_BAD</th>\n",
       "      <th>DIST_GOOD</th>\n",
       "      <th>WOE</th>\n",
       "      <th>WOE_check</th>\n",
       "      <th>SHARE</th>\n",
       "    </tr>\n",
       "    <tr>\n",
       "      <th>BIN_PROP_BY_ACT</th>\n",
       "      <th></th>\n",
       "      <th></th>\n",
       "      <th></th>\n",
       "      <th></th>\n",
       "      <th></th>\n",
       "      <th></th>\n",
       "      <th></th>\n",
       "      <th></th>\n",
       "    </tr>\n",
       "  </thead>\n",
       "  <tbody>\n",
       "    <tr>\n",
       "      <th>[-inf, 4.1061)</th>\n",
       "      <td>110394.0</td>\n",
       "      <td>9926.0</td>\n",
       "      <td>0.0899</td>\n",
       "      <td>0.0554</td>\n",
       "      <td>0.0512</td>\n",
       "      <td>-0.0792</td>\n",
       "      <td>-0.0800</td>\n",
       "      <td>0.0515</td>\n",
       "    </tr>\n",
       "    <tr>\n",
       "      <th>[4.1061, 10.2083)</th>\n",
       "      <td>828530.0</td>\n",
       "      <td>69975.0</td>\n",
       "      <td>0.0845</td>\n",
       "      <td>0.3909</td>\n",
       "      <td>0.3865</td>\n",
       "      <td>-0.0113</td>\n",
       "      <td>-0.0114</td>\n",
       "      <td>0.3868</td>\n",
       "    </tr>\n",
       "    <tr>\n",
       "      <th>[10.2083, 15.0166)</th>\n",
       "      <td>683378.0</td>\n",
       "      <td>56615.0</td>\n",
       "      <td>0.0828</td>\n",
       "      <td>0.3163</td>\n",
       "      <td>0.3193</td>\n",
       "      <td>0.0095</td>\n",
       "      <td>0.0096</td>\n",
       "      <td>0.3191</td>\n",
       "    </tr>\n",
       "    <tr>\n",
       "      <th>[15.0166, 16.2257)</th>\n",
       "      <td>108365.0</td>\n",
       "      <td>9253.0</td>\n",
       "      <td>0.0854</td>\n",
       "      <td>0.0517</td>\n",
       "      <td>0.0505</td>\n",
       "      <td>-0.0231</td>\n",
       "      <td>-0.0234</td>\n",
       "      <td>0.0506</td>\n",
       "    </tr>\n",
       "    <tr>\n",
       "      <th>[16.2257, inf)</th>\n",
       "      <td>411136.0</td>\n",
       "      <td>33240.0</td>\n",
       "      <td>0.0808</td>\n",
       "      <td>0.1857</td>\n",
       "      <td>0.1925</td>\n",
       "      <td>0.0358</td>\n",
       "      <td>0.0362</td>\n",
       "      <td>0.1920</td>\n",
       "    </tr>\n",
       "    <tr>\n",
       "      <th>nan</th>\n",
       "      <td>0.0</td>\n",
       "      <td>0.0</td>\n",
       "      <td>NaN</td>\n",
       "      <td>0.0000</td>\n",
       "      <td>0.0000</td>\n",
       "      <td>NaN</td>\n",
       "      <td>-2.3947</td>\n",
       "      <td>0.0000</td>\n",
       "    </tr>\n",
       "  </tbody>\n",
       "</table>\n",
       "</div>"
      ],
      "text/plain": [
       "                    CNT_TOTAL  CNT_DEF  DEF_RATE  DIST_BAD  DIST_GOOD     WOE  \\\n",
       "BIN_PROP_BY_ACT                                                                 \n",
       "[-inf, 4.1061)       110394.0   9926.0    0.0899    0.0554     0.0512 -0.0792   \n",
       "[4.1061, 10.2083)    828530.0  69975.0    0.0845    0.3909     0.3865 -0.0113   \n",
       "[10.2083, 15.0166)   683378.0  56615.0    0.0828    0.3163     0.3193  0.0095   \n",
       "[15.0166, 16.2257)   108365.0   9253.0    0.0854    0.0517     0.0505 -0.0231   \n",
       "[16.2257, inf)       411136.0  33240.0    0.0808    0.1857     0.1925  0.0358   \n",
       "nan                       0.0      0.0       NaN    0.0000     0.0000     NaN   \n",
       "\n",
       "                    WOE_check   SHARE  \n",
       "BIN_PROP_BY_ACT                        \n",
       "[-inf, 4.1061)        -0.0800  0.0515  \n",
       "[4.1061, 10.2083)     -0.0114  0.3868  \n",
       "[10.2083, 15.0166)     0.0096  0.3191  \n",
       "[15.0166, 16.2257)    -0.0234  0.0506  \n",
       "[16.2257, inf)         0.0362  0.1920  \n",
       "nan                   -2.3947  0.0000  "
      ]
     },
     "metadata": {},
     "output_type": "display_data"
    },
    {
     "name": "stdout",
     "output_type": "stream",
     "text": [
      "IV: 0.0007\n",
      "Gini: 1.33\n"
     ]
    },
    {
     "data": {
      "image/png": "[encoded data removed]",
      "text/plain": [
       "<Figure size 720x360 with 2 Axes>"
      ]
     },
     "metadata": {
      "needs_background": "light"
     },
     "output_type": "display_data"
    },
    {
     "data": {
      "text/markdown": [
       "***"
      ],
      "text/plain": [
       "<IPython.core.display.Markdown object>"
      ]
     },
     "metadata": {},
     "output_type": "display_data"
    },
    {
     "data": {
      "text/markdown": [
       "### PROSPERITY_PURCHASING_POWER"
      ],
      "text/plain": [
       "<IPython.core.display.Markdown object>"
      ]
     },
     "metadata": {},
     "output_type": "display_data"
    },
    {
     "data": {
      "text/html": [
       "<div>\n",
       "<style scoped>\n",
       "    .dataframe tbody tr th:only-of-type {\n",
       "        vertical-align: middle;\n",
       "    }\n",
       "\n",
       "    .dataframe tbody tr th {\n",
       "        vertical-align: top;\n",
       "    }\n",
       "\n",
       "    .dataframe thead th {\n",
       "        text-align: right;\n",
       "    }\n",
       "</style>\n",
       "<table border=\"1\" class=\"dataframe\">\n",
       "  <thead>\n",
       "    <tr style=\"text-align: right;\">\n",
       "      <th></th>\n",
       "      <th>CNT_TOTAL</th>\n",
       "      <th>CNT_DEF</th>\n",
       "      <th>DEF_RATE</th>\n",
       "      <th>DIST_BAD</th>\n",
       "      <th>DIST_GOOD</th>\n",
       "      <th>WOE</th>\n",
       "      <th>WOE_check</th>\n",
       "      <th>SHARE</th>\n",
       "    </tr>\n",
       "    <tr>\n",
       "      <th>BIN_PROSPERITY_PURCHASING_POWER</th>\n",
       "      <th></th>\n",
       "      <th></th>\n",
       "      <th></th>\n",
       "      <th></th>\n",
       "      <th></th>\n",
       "      <th></th>\n",
       "      <th></th>\n",
       "      <th></th>\n",
       "    </tr>\n",
       "  </thead>\n",
       "  <tbody>\n",
       "    <tr>\n",
       "      <th>[-inf, 67801.8281)</th>\n",
       "      <td>106181.0</td>\n",
       "      <td>9711.0</td>\n",
       "      <td>0.0915</td>\n",
       "      <td>0.0542</td>\n",
       "      <td>0.0491</td>\n",
       "      <td>-0.0977</td>\n",
       "      <td>-0.0987</td>\n",
       "      <td>0.0496</td>\n",
       "    </tr>\n",
       "    <tr>\n",
       "      <th>[67801.8281, 176891.5859)</th>\n",
       "      <td>932161.0</td>\n",
       "      <td>77262.0</td>\n",
       "      <td>0.0829</td>\n",
       "      <td>0.4316</td>\n",
       "      <td>0.4356</td>\n",
       "      <td>0.0090</td>\n",
       "      <td>0.0091</td>\n",
       "      <td>0.4352</td>\n",
       "    </tr>\n",
       "    <tr>\n",
       "      <th>[176891.5859, 191206.2734)</th>\n",
       "      <td>133567.0</td>\n",
       "      <td>12065.0</td>\n",
       "      <td>0.0903</td>\n",
       "      <td>0.0674</td>\n",
       "      <td>0.0619</td>\n",
       "      <td>-0.0842</td>\n",
       "      <td>-0.0851</td>\n",
       "      <td>0.0624</td>\n",
       "    </tr>\n",
       "    <tr>\n",
       "      <th>[191206.2734, 270523.6562)</th>\n",
       "      <td>719539.0</td>\n",
       "      <td>58491.0</td>\n",
       "      <td>0.0813</td>\n",
       "      <td>0.3267</td>\n",
       "      <td>0.3368</td>\n",
       "      <td>0.0299</td>\n",
       "      <td>0.0303</td>\n",
       "      <td>0.3360</td>\n",
       "    </tr>\n",
       "    <tr>\n",
       "      <th>[270523.6562, inf)</th>\n",
       "      <td>250355.0</td>\n",
       "      <td>21480.0</td>\n",
       "      <td>0.0858</td>\n",
       "      <td>0.1200</td>\n",
       "      <td>0.1166</td>\n",
       "      <td>-0.0283</td>\n",
       "      <td>-0.0286</td>\n",
       "      <td>0.1169</td>\n",
       "    </tr>\n",
       "    <tr>\n",
       "      <th>nan</th>\n",
       "      <td>0.0</td>\n",
       "      <td>0.0</td>\n",
       "      <td>NaN</td>\n",
       "      <td>0.0000</td>\n",
       "      <td>0.0000</td>\n",
       "      <td>NaN</td>\n",
       "      <td>-2.3947</td>\n",
       "      <td>0.0000</td>\n",
       "    </tr>\n",
       "  </tbody>\n",
       "</table>\n",
       "</div>"
      ],
      "text/plain": [
       "                                 CNT_TOTAL  CNT_DEF  DEF_RATE  DIST_BAD  \\\n",
       "BIN_PROSPERITY_PURCHASING_POWER                                           \n",
       "[-inf, 67801.8281)                106181.0   9711.0    0.0915    0.0542   \n",
       "[67801.8281, 176891.5859)         932161.0  77262.0    0.0829    0.4316   \n",
       "[176891.5859, 191206.2734)        133567.0  12065.0    0.0903    0.0674   \n",
       "[191206.2734, 270523.6562)        719539.0  58491.0    0.0813    0.3267   \n",
       "[270523.6562, inf)                250355.0  21480.0    0.0858    0.1200   \n",
       "nan                                    0.0      0.0       NaN    0.0000   \n",
       "\n",
       "                                 DIST_GOOD     WOE  WOE_check   SHARE  \n",
       "BIN_PROSPERITY_PURCHASING_POWER                                        \n",
       "[-inf, 67801.8281)                  0.0491 -0.0977    -0.0987  0.0496  \n",
       "[67801.8281, 176891.5859)           0.4356  0.0090     0.0091  0.4352  \n",
       "[176891.5859, 191206.2734)          0.0619 -0.0842    -0.0851  0.0624  \n",
       "[191206.2734, 270523.6562)          0.3368  0.0299     0.0303  0.3360  \n",
       "[270523.6562, inf)                  0.1166 -0.0283    -0.0286  0.1169  \n",
       "nan                                 0.0000     NaN    -2.3947  0.0000  "
      ]
     },
     "metadata": {},
     "output_type": "display_data"
    },
    {
     "name": "stdout",
     "output_type": "stream",
     "text": [
      "IV: 0.0014\n",
      "Gini: 1.79\n"
     ]
    },
    {
     "data": {
      "image/png": "[encoded data removed]",
      "text/plain": [
       "<Figure size 720x360 with 2 Axes>"
      ]
     },
     "metadata": {
      "needs_background": "light"
     },
     "output_type": "display_data"
    },
    {
     "data": {
      "text/markdown": [
       "***"
      ],
      "text/plain": [
       "<IPython.core.display.Markdown object>"
      ]
     },
     "metadata": {},
     "output_type": "display_data"
    },
    {
     "data": {
      "text/markdown": [
       "### RISK_SCORE"
      ],
      "text/plain": [
       "<IPython.core.display.Markdown object>"
      ]
     },
     "metadata": {},
     "output_type": "display_data"
    },
    {
     "data": {
      "text/html": [
       "<div>\n",
       "<style scoped>\n",
       "    .dataframe tbody tr th:only-of-type {\n",
       "        vertical-align: middle;\n",
       "    }\n",
       "\n",
       "    .dataframe tbody tr th {\n",
       "        vertical-align: top;\n",
       "    }\n",
       "\n",
       "    .dataframe thead th {\n",
       "        text-align: right;\n",
       "    }\n",
       "</style>\n",
       "<table border=\"1\" class=\"dataframe\">\n",
       "  <thead>\n",
       "    <tr style=\"text-align: right;\">\n",
       "      <th></th>\n",
       "      <th>CNT_TOTAL</th>\n",
       "      <th>CNT_DEF</th>\n",
       "      <th>DEF_RATE</th>\n",
       "      <th>DIST_BAD</th>\n",
       "      <th>DIST_GOOD</th>\n",
       "      <th>WOE</th>\n",
       "      <th>WOE_check</th>\n",
       "      <th>SHARE</th>\n",
       "    </tr>\n",
       "    <tr>\n",
       "      <th>BIN_RISK_SCORE</th>\n",
       "      <th></th>\n",
       "      <th></th>\n",
       "      <th></th>\n",
       "      <th></th>\n",
       "      <th></th>\n",
       "      <th></th>\n",
       "      <th></th>\n",
       "      <th></th>\n",
       "    </tr>\n",
       "  </thead>\n",
       "  <tbody>\n",
       "    <tr>\n",
       "      <th>[-inf, 0.008173)</th>\n",
       "      <td>696196.0</td>\n",
       "      <td>28076.0</td>\n",
       "      <td>0.0403</td>\n",
       "      <td>0.1568</td>\n",
       "      <td>0.3404</td>\n",
       "      <td>0.7622</td>\n",
       "      <td>0.7749</td>\n",
       "      <td>0.3251</td>\n",
       "    </tr>\n",
       "    <tr>\n",
       "      <th>[0.008173, 0.01688)</th>\n",
       "      <td>811585.0</td>\n",
       "      <td>63580.0</td>\n",
       "      <td>0.0783</td>\n",
       "      <td>0.3552</td>\n",
       "      <td>0.3811</td>\n",
       "      <td>0.0696</td>\n",
       "      <td>0.0704</td>\n",
       "      <td>0.3789</td>\n",
       "    </tr>\n",
       "    <tr>\n",
       "      <th>[0.01688, 0.02396)</th>\n",
       "      <td>314203.0</td>\n",
       "      <td>35076.0</td>\n",
       "      <td>0.1116</td>\n",
       "      <td>0.1959</td>\n",
       "      <td>0.1422</td>\n",
       "      <td>-0.3175</td>\n",
       "      <td>-0.3205</td>\n",
       "      <td>0.1467</td>\n",
       "    </tr>\n",
       "    <tr>\n",
       "      <th>[0.02396, 0.03618)</th>\n",
       "      <td>211245.0</td>\n",
       "      <td>29758.0</td>\n",
       "      <td>0.1409</td>\n",
       "      <td>0.1662</td>\n",
       "      <td>0.0925</td>\n",
       "      <td>-0.5817</td>\n",
       "      <td>-0.5866</td>\n",
       "      <td>0.0986</td>\n",
       "    </tr>\n",
       "    <tr>\n",
       "      <th>[0.03618, inf)</th>\n",
       "      <td>108574.0</td>\n",
       "      <td>22519.0</td>\n",
       "      <td>0.2074</td>\n",
       "      <td>0.1258</td>\n",
       "      <td>0.0438</td>\n",
       "      <td>-1.0468</td>\n",
       "      <td>-1.0541</td>\n",
       "      <td>0.0507</td>\n",
       "    </tr>\n",
       "    <tr>\n",
       "      <th>nan</th>\n",
       "      <td>0.0</td>\n",
       "      <td>0.0</td>\n",
       "      <td>NaN</td>\n",
       "      <td>0.0000</td>\n",
       "      <td>0.0000</td>\n",
       "      <td>NaN</td>\n",
       "      <td>-2.3947</td>\n",
       "      <td>0.0000</td>\n",
       "    </tr>\n",
       "  </tbody>\n",
       "</table>\n",
       "</div>"
      ],
      "text/plain": [
       "                     CNT_TOTAL  CNT_DEF  DEF_RATE  DIST_BAD  DIST_GOOD  \\\n",
       "BIN_RISK_SCORE                                                           \n",
       "[-inf, 0.008173)      696196.0  28076.0    0.0403    0.1568     0.3404   \n",
       "[0.008173, 0.01688)   811585.0  63580.0    0.0783    0.3552     0.3811   \n",
       "[0.01688, 0.02396)    314203.0  35076.0    0.1116    0.1959     0.1422   \n",
       "[0.02396, 0.03618)    211245.0  29758.0    0.1409    0.1662     0.0925   \n",
       "[0.03618, inf)        108574.0  22519.0    0.2074    0.1258     0.0438   \n",
       "nan                        0.0      0.0       NaN    0.0000     0.0000   \n",
       "\n",
       "                        WOE  WOE_check   SHARE  \n",
       "BIN_RISK_SCORE                                  \n",
       "[-inf, 0.008173)     0.7622     0.7749  0.3251  \n",
       "[0.008173, 0.01688)  0.0696     0.0704  0.3789  \n",
       "[0.01688, 0.02396)  -0.3175    -0.3205  0.1467  \n",
       "[0.02396, 0.03618)  -0.5817    -0.5866  0.0986  \n",
       "[0.03618, inf)      -1.0468    -1.0541  0.0507  \n",
       "nan                     NaN    -2.3947  0.0000  "
      ]
     },
     "metadata": {},
     "output_type": "display_data"
    },
    {
     "name": "stdout",
     "output_type": "stream",
     "text": [
      "IV: 0.2909\n",
      "Gini: 28.98\n"
     ]
    },
    {
     "data": {
      "image/png": "[encoded data removed]",
      "text/plain": [
       "<Figure size 720x360 with 2 Axes>"
      ]
     },
     "metadata": {
      "needs_background": "light"
     },
     "output_type": "display_data"
    }
   ],
   "source": [
    "grouping.plot_bins(data=df_train, cols_pred_num=cols_pred_num, cols_pred_cat=cols_pred_cat,\n",
    "                    mask = pd.Series(df_train[\"CLIENT_INR_INCOME\"]>=0),col_target=\"RISK_FSTQPD30\", \n",
    "                   output_folder=r\"C:\\Users\\aman.khatri91425\\Desktop\\HomeCredit\\Bigdata\\Common Maps KNN\", col_weight=None)"
   ]
  },
  {
   "cell_type": "code",
   "execution_count": 163,
   "metadata": {},
   "outputs": [
    {
     "name": "stdout",
     "output_type": "stream",
     "text": [
      "Added WOE variables. Number of columns: 28\n"
     ]
    }
   ],
   "source": [
    "woe_columns_to_replace = list()\n",
    "for column in data_woe.columns:\n",
    "    if column in df:\n",
    "        woe_columns_to_replace.append(column)\n",
    "        print('Column', column ,'dropped as it already existed in the data set.')\n",
    "df = df.drop(woe_columns_to_replace, axis='columns')\n",
    "df = df.join(-data_woe)\n",
    "\n",
    "print('Added WOE variables. Number of columns:',df.shape[1])\n",
    "cols_woe = [s + '_WOE' for s in cols_pred_num]"
   ]
  },
  {
   "cell_type": "raw",
   "metadata": {},
   "source": []
  },
  {
   "cell_type": "code",
   "execution_count": 164,
   "metadata": {},
   "outputs": [],
   "source": [
    "# Split Train and Test Data Set\n",
    "df[\"LOGIT_RISK_SCORE\"] = [np.log(x/(1-x)) for x in df[\"RISK_SCORE\"]]\n",
    "\n",
    "df_train = df[(df[\"TIME_DECISION_DATE\"]>=datetime.datetime(2018, 2, 1)) & \n",
    "              (df[\"TIME_DECISION_DATE\"]<=datetime.datetime(2018, 12, 1))]\n",
    "df_valid = df[(df[\"TIME_DECISION_DATE\"]>=datetime.datetime(2019, 1, 1)) & \n",
    "              (df[\"TIME_DECISION_DATE\"]<=datetime.datetime(2019, 1, 31))]\n",
    "df_test = df[(df[\"TIME_DECISION_DATE\"]>=datetime.datetime(2019, 2, 1)) & \n",
    "              (df[\"TIME_DECISION_DATE\"]<=datetime.datetime(2019, 3, 31))]"
   ]
  },
  {
   "cell_type": "code",
   "execution_count": 165,
   "metadata": {},
   "outputs": [
    {
     "data": {
      "text/html": [
       "<div>\n",
       "<style scoped>\n",
       "    .dataframe tbody tr th:only-of-type {\n",
       "        vertical-align: middle;\n",
       "    }\n",
       "\n",
       "    .dataframe tbody tr th {\n",
       "        vertical-align: top;\n",
       "    }\n",
       "\n",
       "    .dataframe thead th {\n",
       "        text-align: right;\n",
       "    }\n",
       "</style>\n",
       "<table border=\"1\" class=\"dataframe\">\n",
       "  <thead>\n",
       "    <tr style=\"text-align: right;\">\n",
       "      <th></th>\n",
       "      <th>Gini Test</th>\n",
       "      <th>Gini Train</th>\n",
       "      <th>Gini Validate</th>\n",
       "    </tr>\n",
       "    <tr>\n",
       "      <th>Name</th>\n",
       "      <th></th>\n",
       "      <th></th>\n",
       "      <th></th>\n",
       "    </tr>\n",
       "  </thead>\n",
       "  <tbody>\n",
       "    <tr>\n",
       "      <th>RISK_SCORE</th>\n",
       "      <td>0.248956</td>\n",
       "      <td>0.314862</td>\n",
       "      <td>0.234205</td>\n",
       "    </tr>\n",
       "    <tr>\n",
       "      <th>RISK_SCORE_WOE</th>\n",
       "      <td>0.214404</td>\n",
       "      <td>0.289759</td>\n",
       "      <td>0.197883</td>\n",
       "    </tr>\n",
       "    <tr>\n",
       "      <th>AVG_INCOME</th>\n",
       "      <td>0.048020</td>\n",
       "      <td>0.018099</td>\n",
       "      <td>0.049594</td>\n",
       "    </tr>\n",
       "    <tr>\n",
       "      <th>PRED_INCOME</th>\n",
       "      <td>0.045537</td>\n",
       "      <td>0.027952</td>\n",
       "      <td>0.042014</td>\n",
       "    </tr>\n",
       "    <tr>\n",
       "      <th>AVG_INCOME_WOE</th>\n",
       "      <td>0.043631</td>\n",
       "      <td>0.017739</td>\n",
       "      <td>0.045998</td>\n",
       "    </tr>\n",
       "    <tr>\n",
       "      <th>PRED_INCOME_WOE</th>\n",
       "      <td>0.040389</td>\n",
       "      <td>0.026563</td>\n",
       "      <td>0.041613</td>\n",
       "    </tr>\n",
       "    <tr>\n",
       "      <th>CLIENT_INR_INCOME</th>\n",
       "      <td>0.039281</td>\n",
       "      <td>0.011694</td>\n",
       "      <td>0.042958</td>\n",
       "    </tr>\n",
       "    <tr>\n",
       "      <th>CLIENT_INR_INCOME_WOE</th>\n",
       "      <td>0.036497</td>\n",
       "      <td>0.012678</td>\n",
       "      <td>0.040369</td>\n",
       "    </tr>\n",
       "    <tr>\n",
       "      <th>ACT_BY_PRED</th>\n",
       "      <td>0.020544</td>\n",
       "      <td>0.002046</td>\n",
       "      <td>0.026495</td>\n",
       "    </tr>\n",
       "    <tr>\n",
       "      <th>PROSPERITY_PURCHASING_POWER_WOE</th>\n",
       "      <td>0.017177</td>\n",
       "      <td>0.017933</td>\n",
       "      <td>0.009755</td>\n",
       "    </tr>\n",
       "    <tr>\n",
       "      <th>PROSPERITY_PURCHASING_POWER</th>\n",
       "      <td>0.014001</td>\n",
       "      <td>-0.003480</td>\n",
       "      <td>0.016205</td>\n",
       "    </tr>\n",
       "    <tr>\n",
       "      <th>ACT_BY_PROP</th>\n",
       "      <td>0.011433</td>\n",
       "      <td>0.011704</td>\n",
       "      <td>0.009154</td>\n",
       "    </tr>\n",
       "    <tr>\n",
       "      <th>PROP_BY_ACT_WOE</th>\n",
       "      <td>0.010511</td>\n",
       "      <td>0.013303</td>\n",
       "      <td>0.009817</td>\n",
       "    </tr>\n",
       "    <tr>\n",
       "      <th>ACT_BY_PROP_WOE</th>\n",
       "      <td>0.010511</td>\n",
       "      <td>0.013303</td>\n",
       "      <td>0.009817</td>\n",
       "    </tr>\n",
       "    <tr>\n",
       "      <th>PRED_BY_ACT_WOE</th>\n",
       "      <td>0.003153</td>\n",
       "      <td>0.009517</td>\n",
       "      <td>0.000359</td>\n",
       "    </tr>\n",
       "    <tr>\n",
       "      <th>ACT_BY_PRED_WOE</th>\n",
       "      <td>0.003153</td>\n",
       "      <td>0.009517</td>\n",
       "      <td>0.000359</td>\n",
       "    </tr>\n",
       "    <tr>\n",
       "      <th>PROP_BY_ACT</th>\n",
       "      <td>-0.011433</td>\n",
       "      <td>-0.011704</td>\n",
       "      <td>-0.009154</td>\n",
       "    </tr>\n",
       "    <tr>\n",
       "      <th>PRED_BY_ACT</th>\n",
       "      <td>-0.020544</td>\n",
       "      <td>-0.002046</td>\n",
       "      <td>-0.026495</td>\n",
       "    </tr>\n",
       "  </tbody>\n",
       "</table>\n",
       "</div>"
      ],
      "text/plain": [
       "                                 Gini Test  Gini Train  Gini Validate\n",
       "Name                                                                 \n",
       "RISK_SCORE                        0.248956    0.314862       0.234205\n",
       "RISK_SCORE_WOE                    0.214404    0.289759       0.197883\n",
       "AVG_INCOME                        0.048020    0.018099       0.049594\n",
       "PRED_INCOME                       0.045537    0.027952       0.042014\n",
       "AVG_INCOME_WOE                    0.043631    0.017739       0.045998\n",
       "PRED_INCOME_WOE                   0.040389    0.026563       0.041613\n",
       "CLIENT_INR_INCOME                 0.039281    0.011694       0.042958\n",
       "CLIENT_INR_INCOME_WOE             0.036497    0.012678       0.040369\n",
       "ACT_BY_PRED                       0.020544    0.002046       0.026495\n",
       "PROSPERITY_PURCHASING_POWER_WOE   0.017177    0.017933       0.009755\n",
       "PROSPERITY_PURCHASING_POWER       0.014001   -0.003480       0.016205\n",
       "ACT_BY_PROP                       0.011433    0.011704       0.009154\n",
       "PROP_BY_ACT_WOE                   0.010511    0.013303       0.009817\n",
       "ACT_BY_PROP_WOE                   0.010511    0.013303       0.009817\n",
       "PRED_BY_ACT_WOE                   0.003153    0.009517       0.000359\n",
       "ACT_BY_PRED_WOE                   0.003153    0.009517       0.000359\n",
       "PROP_BY_ACT                      -0.011433   -0.011704      -0.009154\n",
       "PRED_BY_ACT                      -0.020544   -0.002046      -0.026495"
      ]
     },
     "metadata": {},
     "output_type": "display_data"
    }
   ],
   "source": [
    "from scoring.metrics import iv,gini,lift\n",
    "cols_list= cols_woe + cols_pred_num\n",
    "col_target= 'RISK_FSTQPD30'\n",
    "power_tab = []\n",
    "for j in range(0,len(cols_list)):\n",
    "    power_tab.append({'Name':cols_list[j]\n",
    "#                    ,'IV Train':iv(df_train[col_target],df_train[cols_list[j]])\n",
    "                    ,'Gini Train':2*metrics.roc_auc_score(df_train[col_target],df_train[cols_list[j]])-1\n",
    "#                    ,'IV Validate':iv(df_valid[col_target],df_valid[cols_list[j]])\n",
    "                    ,'Gini Validate':2*metrics.roc_auc_score(df_valid[col_target],df_valid[cols_list[j]])-1\n",
    "#                    ,'IV Test':iv(df_test[col_target],df_test[cols_list[j]])\n",
    "                    ,'Gini Test':2*metrics.roc_auc_score(df_test[col_target],df_test[cols_list[j]])-1\n",
    "                         })\n",
    "power_out = pd.DataFrame.from_records(power_tab)\n",
    "power_out = power_out.set_index('Name')\n",
    "power_out = power_out.sort_values('Gini Test',ascending=False)\n",
    "\n",
    "pd.options.display.max_rows = 1000\n",
    "display(power_out)\n",
    "pd.options.display.max_rows = 15\n",
    "power_out.to_csv(r\"C:\\Users\\aman.khatri91425\\Desktop\\HomeCredit\\Bigdata\\Common Maps KNN\\covariates.csv\")"
   ]
  },
  {
   "cell_type": "code",
   "execution_count": 166,
   "metadata": {},
   "outputs": [
    {
     "data": {
      "text/plain": [
       "0.28975892123791036"
      ]
     },
     "execution_count": 166,
     "metadata": {},
     "output_type": "execute_result"
    }
   ],
   "source": [
    "2*metrics.roc_auc_score(df_train[col_target],df_train[\"RISK_SCORE_WOE\"])-1"
   ]
  },
  {
   "cell_type": "code",
   "execution_count": 167,
   "metadata": {},
   "outputs": [],
   "source": [
    "cols_list= cols_woe + cols_pred_num\n",
    "col_target= 'RISK_FSTQPD30'"
   ]
  },
  {
   "cell_type": "code",
   "execution_count": 168,
   "metadata": {},
   "outputs": [],
   "source": [
    "output_folder= \"C://Users//aman.khatri91425//Desktop//HomeCredit//Bigdata//Common Maps KNN\""
   ]
  },
  {
   "cell_type": "code",
   "execution_count": 169,
   "metadata": {},
   "outputs": [
    {
     "data": {
      "text/plain": [
       "(225724, 29)"
      ]
     },
     "execution_count": 169,
     "metadata": {},
     "output_type": "execute_result"
    }
   ],
   "source": [
    "df_valid.shape"
   ]
  },
  {
   "cell_type": "code",
   "execution_count": 170,
   "metadata": {},
   "outputs": [],
   "source": [
    "seed = 26\n",
    "df_train_1= df_train.sample(n=100000, random_state=seed)\n",
    "df_valid_1= df_valid.sample(n=100000, random_state=seed)\n",
    "cols_list_wo_hc = ['PRED_BY_ACT_WOE',\n",
    " 'ACT_BY_PRED_WOE',\n",
    " 'PROP_BY_ACT_WOE',\n",
    " 'ACT_BY_PROP_WOE',\n",
    " 'PRED_INCOME_WOE',\n",
    " 'CLIENT_INR_INCOME_WOE',\n",
    " 'PROSPERITY_PURCHASING_POWER_WOE',\n",
    " 'ACT_BY_PRED',\n",
    " 'ACT_BY_PROP',\n",
    " 'PRED_INCOME',\n",
    " 'CLIENT_INR_INCOME',\n",
    " 'PROSPERITY_PURCHASING_POWER']\n"
   ]
  },
  {
   "cell_type": "code",
   "execution_count": 172,
   "metadata": {},
   "outputs": [
    {
     "name": "stdout",
     "output_type": "stream",
     "text": [
      "Regression will be trained using training sample, Gini will be evaluated using validation sample.\n"
     ]
    },
    {
     "data": {
      "application/vnd.jupyter.widget-view+json": {
       "model_id": "b1e9f84cd1254006b5f810d7d32f45d5",
       "version_major": 2,
       "version_minor": 0
      },
      "text/plain": [
       "HBox(children=(IntProgress(value=0, max=30), HTML(value='')))"
      ]
     },
     "metadata": {},
     "output_type": "display_data"
    },
    {
     "name": "stdout",
     "output_type": "stream",
     "text": [
      "Iteration 0   log10(C) = -9.877509408858248\n",
      "set()\n",
      "Achieved Gini:  0.0\n",
      "Iteration 1   log10(C) = -6.429233546789283\n",
      "{'PRED_INCOME', 'PROSPERITY_PURCHASING_POWER', 'CLIENT_INR_INCOME'}\n",
      "Achieved Gini:  -4.282267242315271\n",
      "Gini decreased from previous step.\n",
      "Iteration 2   log10(C) = -2.980957684720318\n",
      "{'PRED_INCOME', 'PROSPERITY_PURCHASING_POWER', 'CLIENT_INR_INCOME'}\n",
      "Achieved Gini:  -4.2945897886173725\n",
      "Gini decreased from previous step.\n",
      "Iteration 3   log10(C) = 0.46731817734864833\n",
      "{'Intercept', 'PROSPERITY_PURCHASING_POWER', 'CLIENT_INR_INCOME', 'PROSPERITY_PURCHASING_POWER_WOE', 'ACT_BY_PRED', 'PRED_INCOME_WOE', 'PRED_INCOME', 'ACT_BY_PRED_WOE', 'PRED_BY_ACT_WOE', 'CLIENT_INR_INCOME_WOE'}\n",
      "Achieved Gini:  2.2134980463705176\n",
      "Iteration 4   log10(C) = 3.9155940394176127\n",
      "{'ACT_BY_PROP', 'Intercept', 'PROSPERITY_PURCHASING_POWER', 'CLIENT_INR_INCOME', 'PROSPERITY_PURCHASING_POWER_WOE', 'PROP_BY_ACT_WOE', 'ACT_BY_PRED', 'PRED_INCOME_WOE', 'PRED_INCOME', 'ACT_BY_PRED_WOE', 'PRED_BY_ACT_WOE', 'CLIENT_INR_INCOME_WOE', 'ACT_BY_PROP_WOE'}\n",
      "Achieved Gini:  1.932624160470155\n",
      "Gini decreased from previous step.\n",
      "Iteration 5   log10(C) = 7.363869901486577\n",
      "{'ACT_BY_PROP', 'Intercept', 'PROSPERITY_PURCHASING_POWER', 'CLIENT_INR_INCOME', 'PROSPERITY_PURCHASING_POWER_WOE', 'PROP_BY_ACT_WOE', 'ACT_BY_PRED', 'PRED_INCOME_WOE', 'PRED_INCOME', 'ACT_BY_PRED_WOE', 'PRED_BY_ACT_WOE', 'CLIENT_INR_INCOME_WOE', 'ACT_BY_PROP_WOE'}\n",
      "Achieved Gini:  1.588155338178467\n",
      "Gini decreased from previous step.\n",
      "Iteration 6   log10(C) = 10.812145763555545\n",
      "{'ACT_BY_PROP', 'Intercept', 'PROSPERITY_PURCHASING_POWER', 'CLIENT_INR_INCOME', 'PROSPERITY_PURCHASING_POWER_WOE', 'PROP_BY_ACT_WOE', 'ACT_BY_PRED', 'PRED_INCOME_WOE', 'PRED_INCOME', 'ACT_BY_PRED_WOE', 'PRED_BY_ACT_WOE', 'CLIENT_INR_INCOME_WOE', 'ACT_BY_PROP_WOE'}\n",
      "Achieved Gini:  2.1096531473318407\n",
      "Iteration 7   log10(C) = 14.26042162562451\n",
      "{'ACT_BY_PROP', 'Intercept', 'PROSPERITY_PURCHASING_POWER', 'CLIENT_INR_INCOME', 'PROSPERITY_PURCHASING_POWER_WOE', 'PROP_BY_ACT_WOE', 'ACT_BY_PRED', 'PRED_INCOME_WOE', 'PRED_INCOME', 'ACT_BY_PRED_WOE', 'PRED_BY_ACT_WOE', 'CLIENT_INR_INCOME_WOE', 'ACT_BY_PROP_WOE'}\n",
      "Achieved Gini:  1.8236428391708301\n",
      "Gini decreased from previous step.\n",
      "Iteration 8   log10(C) = 17.708697487693474\n",
      "{'ACT_BY_PROP', 'Intercept', 'PROSPERITY_PURCHASING_POWER', 'CLIENT_INR_INCOME', 'PROSPERITY_PURCHASING_POWER_WOE', 'PROP_BY_ACT_WOE', 'ACT_BY_PRED', 'PRED_INCOME_WOE', 'PRED_INCOME', 'ACT_BY_PRED_WOE', 'PRED_BY_ACT_WOE', 'CLIENT_INR_INCOME_WOE', 'ACT_BY_PROP_WOE'}\n",
      "Achieved Gini:  2.0680716131870014\n",
      "Iteration 9   log10(C) = 21.15697334976244\n",
      "{'ACT_BY_PROP', 'Intercept', 'PROSPERITY_PURCHASING_POWER', 'CLIENT_INR_INCOME', 'PROSPERITY_PURCHASING_POWER_WOE', 'PROP_BY_ACT_WOE', 'ACT_BY_PRED', 'PRED_INCOME_WOE', 'PRED_INCOME', 'ACT_BY_PRED_WOE', 'PRED_BY_ACT_WOE', 'CLIENT_INR_INCOME_WOE', 'ACT_BY_PROP_WOE'}\n",
      "Achieved Gini:  2.2333118302520347\n",
      "Iteration 10   log10(C) = 24.605249211831403\n",
      "{'ACT_BY_PROP', 'Intercept', 'PROSPERITY_PURCHASING_POWER', 'CLIENT_INR_INCOME', 'PROSPERITY_PURCHASING_POWER_WOE', 'PROP_BY_ACT_WOE', 'ACT_BY_PRED', 'PRED_INCOME_WOE', 'PRED_INCOME', 'ACT_BY_PRED_WOE', 'PRED_BY_ACT_WOE', 'CLIENT_INR_INCOME_WOE', 'ACT_BY_PROP_WOE'}\n",
      "Achieved Gini:  2.1752064121494925\n",
      "Gini decreased from previous step.\n",
      "Iteration 11   log10(C) = 28.05352507390037\n",
      "{'ACT_BY_PROP', 'Intercept', 'PROSPERITY_PURCHASING_POWER', 'CLIENT_INR_INCOME', 'PROSPERITY_PURCHASING_POWER_WOE', 'PROP_BY_ACT_WOE', 'ACT_BY_PRED', 'PRED_INCOME_WOE', 'PRED_INCOME', 'ACT_BY_PRED_WOE', 'PRED_BY_ACT_WOE', 'CLIENT_INR_INCOME_WOE', 'ACT_BY_PROP_WOE'}\n",
      "Achieved Gini:  2.1571289515843546\n",
      "Gini decreased from previous step.\n",
      "Iteration 12   log10(C) = 31.50180093596934\n",
      "{'ACT_BY_PROP', 'Intercept', 'PROSPERITY_PURCHASING_POWER', 'CLIENT_INR_INCOME', 'PROSPERITY_PURCHASING_POWER_WOE', 'PROP_BY_ACT_WOE', 'ACT_BY_PRED', 'PRED_INCOME_WOE', 'PRED_INCOME', 'ACT_BY_PRED_WOE', 'PRED_BY_ACT_WOE', 'CLIENT_INR_INCOME_WOE', 'ACT_BY_PROP_WOE'}\n",
      "Achieved Gini:  1.8090162150156175\n",
      "Gini decreased from previous step.\n",
      "Iteration 13   log10(C) = 34.950076798038296\n",
      "{'ACT_BY_PROP', 'Intercept', 'PROSPERITY_PURCHASING_POWER', 'CLIENT_INR_INCOME', 'PROSPERITY_PURCHASING_POWER_WOE', 'PROP_BY_ACT_WOE', 'ACT_BY_PRED', 'PRED_INCOME_WOE', 'PRED_INCOME', 'ACT_BY_PRED_WOE', 'PRED_BY_ACT_WOE', 'CLIENT_INR_INCOME_WOE', 'ACT_BY_PROP_WOE'}\n",
      "Achieved Gini:  2.098147451269014\n",
      "Iteration 14   log10(C) = 38.398352660107264\n",
      "{'ACT_BY_PROP', 'Intercept', 'PROSPERITY_PURCHASING_POWER', 'CLIENT_INR_INCOME', 'PROSPERITY_PURCHASING_POWER_WOE', 'PROP_BY_ACT_WOE', 'ACT_BY_PRED', 'PRED_INCOME_WOE', 'PRED_INCOME', 'ACT_BY_PRED_WOE', 'PRED_BY_ACT_WOE', 'CLIENT_INR_INCOME_WOE', 'ACT_BY_PROP_WOE'}\n",
      "Achieved Gini:  1.4710204372704254\n",
      "Gini decreased from previous step.\n",
      "Iteration 15   log10(C) = 41.846628522176225\n",
      "{'ACT_BY_PROP', 'Intercept', 'PROSPERITY_PURCHASING_POWER', 'CLIENT_INR_INCOME', 'PROSPERITY_PURCHASING_POWER_WOE', 'PROP_BY_ACT_WOE', 'ACT_BY_PRED', 'PRED_INCOME_WOE', 'PRED_INCOME', 'ACT_BY_PRED_WOE', 'PRED_BY_ACT_WOE', 'CLIENT_INR_INCOME_WOE', 'ACT_BY_PROP_WOE'}\n",
      "Achieved Gini:  2.1738252510928646\n",
      "Iteration 16   log10(C) = 45.29490438424519\n",
      "{'ACT_BY_PROP', 'Intercept', 'PROSPERITY_PURCHASING_POWER', 'CLIENT_INR_INCOME', 'PROSPERITY_PURCHASING_POWER_WOE', 'PROP_BY_ACT_WOE', 'ACT_BY_PRED', 'PRED_INCOME_WOE', 'PRED_INCOME', 'ACT_BY_PRED_WOE', 'PRED_BY_ACT_WOE', 'CLIENT_INR_INCOME_WOE', 'ACT_BY_PROP_WOE'}\n",
      "Achieved Gini:  1.7286271774851656\n",
      "Gini decreased from previous step.\n",
      "Iteration 17   log10(C) = 48.74318024631416\n",
      "{'ACT_BY_PROP', 'Intercept', 'PROSPERITY_PURCHASING_POWER', 'CLIENT_INR_INCOME', 'PROSPERITY_PURCHASING_POWER_WOE', 'PROP_BY_ACT_WOE', 'ACT_BY_PRED', 'PRED_INCOME_WOE', 'PRED_INCOME', 'ACT_BY_PRED_WOE', 'PRED_BY_ACT_WOE', 'CLIENT_INR_INCOME_WOE', 'ACT_BY_PROP_WOE'}\n",
      "Achieved Gini:  2.0707264912553\n",
      "Iteration 18   log10(C) = 52.19145610838312\n",
      "{'ACT_BY_PROP', 'Intercept', 'PROSPERITY_PURCHASING_POWER', 'CLIENT_INR_INCOME', 'PROSPERITY_PURCHASING_POWER_WOE', 'PROP_BY_ACT_WOE', 'ACT_BY_PRED', 'PRED_INCOME_WOE', 'PRED_INCOME', 'ACT_BY_PRED_WOE', 'PRED_BY_ACT_WOE', 'CLIENT_INR_INCOME_WOE', 'ACT_BY_PROP_WOE'}\n",
      "Achieved Gini:  2.271724912976893\n",
      "Iteration 19   log10(C) = 55.63973197045208\n",
      "{'ACT_BY_PROP', 'Intercept', 'PROSPERITY_PURCHASING_POWER', 'CLIENT_INR_INCOME', 'PROSPERITY_PURCHASING_POWER_WOE', 'PROP_BY_ACT_WOE', 'ACT_BY_PRED', 'PRED_INCOME_WOE', 'PRED_INCOME', 'ACT_BY_PRED_WOE', 'PRED_BY_ACT_WOE', 'CLIENT_INR_INCOME_WOE', 'ACT_BY_PROP_WOE'}\n",
      "Achieved Gini:  1.7913083803316567\n",
      "Gini decreased from previous step.\n",
      "Iteration 20   log10(C) = 59.08800783252106\n",
      "{'ACT_BY_PROP', 'Intercept', 'PROSPERITY_PURCHASING_POWER', 'CLIENT_INR_INCOME', 'PROSPERITY_PURCHASING_POWER_WOE', 'PROP_BY_ACT_WOE', 'ACT_BY_PRED', 'PRED_INCOME_WOE', 'PRED_INCOME', 'ACT_BY_PRED_WOE', 'PRED_BY_ACT_WOE', 'CLIENT_INR_INCOME_WOE', 'ACT_BY_PROP_WOE'}\n",
      "Achieved Gini:  2.1335339638127664\n",
      "Iteration 21   log10(C) = 62.536283694590026\n",
      "{'ACT_BY_PROP', 'Intercept', 'PROSPERITY_PURCHASING_POWER', 'CLIENT_INR_INCOME', 'PROSPERITY_PURCHASING_POWER_WOE', 'PROP_BY_ACT_WOE', 'ACT_BY_PRED', 'PRED_INCOME_WOE', 'PRED_INCOME', 'ACT_BY_PRED_WOE', 'PRED_BY_ACT_WOE', 'CLIENT_INR_INCOME_WOE', 'ACT_BY_PROP_WOE'}\n",
      "Achieved Gini:  1.9080596508996877\n",
      "Gini decreased from previous step.\n",
      "Iteration 22   log10(C) = 65.984559556659\n",
      "{'ACT_BY_PROP', 'Intercept', 'PROSPERITY_PURCHASING_POWER', 'CLIENT_INR_INCOME', 'PROSPERITY_PURCHASING_POWER_WOE', 'PROP_BY_ACT_WOE', 'ACT_BY_PRED', 'PRED_INCOME_WOE', 'PRED_INCOME', 'ACT_BY_PRED_WOE', 'PRED_BY_ACT_WOE', 'CLIENT_INR_INCOME_WOE', 'ACT_BY_PROP_WOE'}\n",
      "Achieved Gini:  1.483268140071118\n",
      "Gini decreased from previous step.\n",
      "Iteration 23   log10(C) = 69.43283541872796\n",
      "{'ACT_BY_PROP', 'Intercept', 'PROSPERITY_PURCHASING_POWER', 'CLIENT_INR_INCOME', 'PROSPERITY_PURCHASING_POWER_WOE', 'PROP_BY_ACT_WOE', 'ACT_BY_PRED', 'PRED_INCOME_WOE', 'PRED_INCOME', 'ACT_BY_PRED_WOE', 'PRED_BY_ACT_WOE', 'CLIENT_INR_INCOME_WOE', 'ACT_BY_PROP_WOE'}\n",
      "Achieved Gini:  2.2263986783675307\n",
      "Iteration 24   log10(C) = 72.88111128079693\n",
      "{'ACT_BY_PROP', 'Intercept', 'PROSPERITY_PURCHASING_POWER', 'CLIENT_INR_INCOME', 'PROSPERITY_PURCHASING_POWER_WOE', 'PROP_BY_ACT_WOE', 'ACT_BY_PRED', 'PRED_INCOME_WOE', 'PRED_INCOME', 'ACT_BY_PRED_WOE', 'PRED_BY_ACT_WOE', 'CLIENT_INR_INCOME_WOE', 'ACT_BY_PROP_WOE'}\n",
      "Achieved Gini:  1.9428712918866182\n",
      "Gini decreased from previous step.\n",
      "Iteration 25   log10(C) = 76.32938714286588\n",
      "{'ACT_BY_PROP', 'Intercept', 'PROSPERITY_PURCHASING_POWER', 'CLIENT_INR_INCOME', 'PROSPERITY_PURCHASING_POWER_WOE', 'PROP_BY_ACT_WOE', 'ACT_BY_PRED', 'PRED_INCOME_WOE', 'PRED_INCOME', 'ACT_BY_PRED_WOE', 'PRED_BY_ACT_WOE', 'CLIENT_INR_INCOME_WOE', 'ACT_BY_PROP_WOE'}\n",
      "Achieved Gini:  1.5695151738650281\n",
      "Gini decreased from previous step.\n",
      "Iteration 26   log10(C) = 79.77766300493485\n",
      "{'ACT_BY_PROP', 'Intercept', 'PROSPERITY_PURCHASING_POWER', 'CLIENT_INR_INCOME', 'PROSPERITY_PURCHASING_POWER_WOE', 'PROP_BY_ACT_WOE', 'ACT_BY_PRED', 'PRED_INCOME_WOE', 'PRED_INCOME', 'ACT_BY_PRED_WOE', 'PRED_BY_ACT_WOE', 'CLIENT_INR_INCOME_WOE', 'ACT_BY_PROP_WOE'}\n",
      "Achieved Gini:  2.133969938687528\n",
      "Iteration 27   log10(C) = 83.22593886700382\n",
      "{'ACT_BY_PROP', 'Intercept', 'PROSPERITY_PURCHASING_POWER', 'CLIENT_INR_INCOME', 'PROSPERITY_PURCHASING_POWER_WOE', 'PROP_BY_ACT_WOE', 'ACT_BY_PRED', 'PRED_INCOME_WOE', 'PRED_INCOME', 'ACT_BY_PRED_WOE', 'PRED_BY_ACT_WOE', 'CLIENT_INR_INCOME_WOE', 'ACT_BY_PROP_WOE'}\n",
      "Achieved Gini:  1.8510295915719297\n",
      "Gini decreased from previous step.\n",
      "Iteration 28   log10(C) = 86.67421472907279\n",
      "{'ACT_BY_PROP', 'Intercept', 'PROSPERITY_PURCHASING_POWER', 'CLIENT_INR_INCOME', 'PROSPERITY_PURCHASING_POWER_WOE', 'PROP_BY_ACT_WOE', 'ACT_BY_PRED', 'PRED_INCOME_WOE', 'PRED_INCOME', 'ACT_BY_PRED_WOE', 'PRED_BY_ACT_WOE', 'CLIENT_INR_INCOME_WOE', 'ACT_BY_PROP_WOE'}\n",
      "Achieved Gini:  1.9643022463936148\n",
      "Iteration 29   log10(C) = 90.12249059114176\n",
      "{'ACT_BY_PROP', 'Intercept', 'PROSPERITY_PURCHASING_POWER', 'CLIENT_INR_INCOME', 'PROSPERITY_PURCHASING_POWER_WOE', 'PROP_BY_ACT_WOE', 'ACT_BY_PRED', 'PRED_INCOME_WOE', 'PRED_INCOME', 'ACT_BY_PRED_WOE', 'PRED_BY_ACT_WOE', 'CLIENT_INR_INCOME_WOE', 'ACT_BY_PROP_WOE'}\n",
      "Achieved Gini:  2.1738270877432058\n",
      "\n"
     ]
    }
   ],
   "source": [
    "from scoring.model_selection import L1GiniModelSelection\n",
    "\n",
    "modelL1 = L1GiniModelSelection(steps = 30,\n",
    "                               grid_length=100,\n",
    "                               log_C_init=None,\n",
    "                               max_predictors=200,\n",
    "                               max_correlation=1,\n",
    "                               beta_sgn_criterion=False,\n",
    "                               stop_immediately=False,\n",
    "                               stop_when_decr=False,\n",
    "                               correlation_sample = 10000,\n",
    "                               penalty='l1',\n",
    "                               use_cv=False,\n",
    "                               cv_folds=5,\n",
    "                               cv_seed=98765)\n",
    "\n",
    "modelL1.fit(df_train_1[cols_list_wo_hc],df_train_1[col_target],\n",
    "            df_valid_1[cols_list_wo_hc],df_valid_1[col_target],\n",
    "#             sample_weight = data[train_mask][col_weight], sample_weight_valid = data[valid_mask][col_weight],\n",
    "            progress_bar = True)"
   ]
  },
  {
   "cell_type": "code",
   "execution_count": 173,
   "metadata": {},
   "outputs": [
    {
     "data": {
      "image/png": "[encoded data removed]",
      "text/plain": [
       "<Figure size 504x504 with 1 Axes>"
      ]
     },
     "metadata": {
      "needs_background": "light"
     },
     "output_type": "display_data"
    }
   ],
   "source": [
    "modelL1.draw_coeff_progression(cols_list_wo_hc, output_folder+'/l1path.png')"
   ]
  },
  {
   "cell_type": "code",
   "execution_count": 174,
   "metadata": {},
   "outputs": [
    {
     "data": {
      "image/png": "[encoded data removed]",
      "text/plain": [
       "<Figure size 504x504 with 1 Axes>"
      ]
     },
     "metadata": {
      "needs_background": "light"
     },
     "output_type": "display_data"
    }
   ],
   "source": [
    "modelL1.draw_gini_progression(output_folder+'/l1gini.png')"
   ]
  },
  {
   "cell_type": "code",
   "execution_count": 64,
   "metadata": {},
   "outputs": [
    {
     "name": "stdout",
     "output_type": "stream",
     "text": [
      "Predictors in the model: ['PROSPERITY_PURCHASING_POWER']\n"
     ]
    }
   ],
   "source": [
    "print('Predictors in the model:',list(modelL1.final_predictors_))"
   ]
  },
  {
   "cell_type": "code",
   "execution_count": 65,
   "metadata": {},
   "outputs": [],
   "source": [
    "model_filename1 = 'myModelL1'\n",
    "pickle.dump(modelL1, open(model_filename1, 'wb'))"
   ]
  },
  {
   "cell_type": "code",
   "execution_count": null,
   "metadata": {},
   "outputs": [],
   "source": []
  },
  {
   "cell_type": "code",
   "execution_count": 122,
   "metadata": {},
   "outputs": [
    {
     "name": "stderr",
     "output_type": "stream",
     "text": [
      "C:\\Users\\aman.khatri91425\\AppData\\Local\\Continuum\\anaconda3\\lib\\site-packages\\sklearn\\linear_model\\logistic.py:433: FutureWarning: Default solver will be changed to 'lbfgs' in 0.22. Specify a solver to silence this warning.\n",
      "  FutureWarning)\n"
     ]
    },
    {
     "data": {
      "text/plain": [
       "LogisticRegression(C=10000000000000000, class_weight='balanced', dual=False,\n",
       "          fit_intercept=True, intercept_scaling=1, max_iter=100,\n",
       "          multi_class='warn', n_jobs=None, penalty='l2', random_state=None,\n",
       "          solver='warn', tol=0.0001, verbose=0, warm_start=False)"
      ]
     },
     "execution_count": 122,
     "metadata": {},
     "output_type": "execute_result"
    }
   ],
   "source": [
    "from sklearn.linear_model import LogisticRegression\n",
    "comb=LogisticRegression(penalty = 'l2', C=10000000000000000, class_weight='balanced')\n",
    "comb.fit(df_train[[\"LOGIT_RISK_SCORE\",\"PRED_INCOME\"]],df_train[\"RISK_FSTQPD30\"])\n"
   ]
  },
  {
   "cell_type": "code",
   "execution_count": 123,
   "metadata": {
    "scrolled": true
   },
   "outputs": [
    {
     "data": {
      "text/plain": [
       "array([[7.90538060e-01, 1.06805566e-05]])"
      ]
     },
     "execution_count": 123,
     "metadata": {},
     "output_type": "execute_result"
    }
   ],
   "source": [
    "comb.coef_\n"
   ]
  },
  {
   "cell_type": "code",
   "execution_count": 124,
   "metadata": {},
   "outputs": [],
   "source": [
    "y_pred_comb_train=comb.predict_proba(df_train[[\"LOGIT_RISK_SCORE\",\"PRED_INCOME\"]])[:,1]\n",
    "y_pred_comb_test=comb.predict_proba(df_test[[\"LOGIT_RISK_SCORE\",\"PRED_INCOME\"]])[:,1]\n"
   ]
  },
  {
   "cell_type": "code",
   "execution_count": 125,
   "metadata": {},
   "outputs": [
    {
     "name": "stdout",
     "output_type": "stream",
     "text": [
      "gini_combined_train: 31.50%\n",
      "\n",
      "gini_combined_test: 25.04%\n"
     ]
    }
   ],
   "source": [
    "metric_auc_combined_train = metrics.roc_auc_score(df_train[\"RISK_FSTQPD30\"], y_pred_comb_train)\n",
    "metric_auc_combined_test = metrics.roc_auc_score(df_test[\"RISK_FSTQPD30\"], y_pred_comb_test)\n",
    "\n",
    "gini_combined_train = 2 * metric_auc_combined_train - 1\n",
    "\n",
    "gini_combined_test = 2 * metric_auc_combined_test - 1\n",
    "\n",
    "print(\"gini_combined_train:\",'{:,.2%}'.format(gini_combined_train))\n",
    "\n",
    "print(\"\\ngini_combined_test:\",'{:,.2%}'.format(gini_combined_test))"
   ]
  },
  {
   "cell_type": "code",
   "execution_count": 126,
   "metadata": {},
   "outputs": [
    {
     "name": "stderr",
     "output_type": "stream",
     "text": [
      "C:\\Users\\aman.khatri91425\\AppData\\Local\\Continuum\\anaconda3\\lib\\site-packages\\sklearn\\linear_model\\logistic.py:433: FutureWarning: Default solver will be changed to 'lbfgs' in 0.22. Specify a solver to silence this warning.\n",
      "  FutureWarning)\n"
     ]
    }
   ],
   "source": [
    "from sklearn.linear_model import LogisticRegression\n",
    "comb=LogisticRegression(class_weight='balanced')\n",
    "comb.fit(df_train[cols_list_wo_hc],df_train[\"RISK_FSTQPD30\"])\n",
    "y_pred_comb_train=comb.predict_proba(df_train[cols_list_wo_hc])[:,1]\n",
    "y_pred_comb_test=comb.predict_proba(df_test[cols_list_wo_hc])[:,1]\n"
   ]
  },
  {
   "cell_type": "code",
   "execution_count": 127,
   "metadata": {},
   "outputs": [
    {
     "name": "stdout",
     "output_type": "stream",
     "text": [
      "gini_combined_train: 3.91%\n",
      "\n",
      "gini_combined_test: 4.50%\n"
     ]
    }
   ],
   "source": [
    "metric_auc_combined_train = metrics.roc_auc_score(df_train[\"RISK_FSTQPD30\"], y_pred_comb_train)\n",
    "metric_auc_combined_test = metrics.roc_auc_score(df_test[\"RISK_FSTQPD30\"], y_pred_comb_test)\n",
    "\n",
    "gini_combined_train = 2 * metric_auc_combined_train - 1\n",
    "\n",
    "gini_combined_test = 2 * metric_auc_combined_test - 1\n",
    "\n",
    "print(\"gini_combined_train:\",'{:,.2%}'.format(gini_combined_train))\n",
    "\n",
    "print(\"\\ngini_combined_test:\",'{:,.2%}'.format(gini_combined_test))\n"
   ]
  },
  {
   "cell_type": "code",
   "execution_count": 128,
   "metadata": {},
   "outputs": [
    {
     "data": {
      "text/plain": [
       "['PRED_BY_ACT_WOE',\n",
       " 'ACT_BY_PRED_WOE',\n",
       " 'PROP_BY_ACT_WOE',\n",
       " 'ACT_BY_PROP_WOE',\n",
       " 'PRED_INCOME_WOE',\n",
       " 'CLIENT_INR_INCOME_WOE',\n",
       " 'PROSPERITY_PURCHASING_POWER_WOE',\n",
       " 'ACT_BY_PRED',\n",
       " 'ACT_BY_PROP',\n",
       " 'PRED_INCOME',\n",
       " 'CLIENT_INR_INCOME',\n",
       " 'PROSPERITY_PURCHASING_POWER',\n",
       " 'LOGIT_RISK_SCORE']"
      ]
     },
     "execution_count": 128,
     "metadata": {},
     "output_type": "execute_result"
    }
   ],
   "source": [
    "cols_list_w_hc = cols_list_wo_hc+[\"LOGIT_RISK_SCORE\"]\n",
    "cols_list_w_hc"
   ]
  },
  {
   "cell_type": "code",
   "execution_count": 138,
   "metadata": {},
   "outputs": [
    {
     "name": "stderr",
     "output_type": "stream",
     "text": [
      "C:\\Users\\aman.khatri91425\\AppData\\Local\\Continuum\\anaconda3\\lib\\site-packages\\sklearn\\linear_model\\logistic.py:433: FutureWarning: Default solver will be changed to 'lbfgs' in 0.22. Specify a solver to silence this warning.\n",
      "  FutureWarning)\n"
     ]
    }
   ],
   "source": [
    "from sklearn.linear_model import LogisticRegression\n",
    "comb=LogisticRegression(class_weight='balanced', C=10000)\n",
    "comb.fit(df_train[cols_list_w_hc],df_train[\"RISK_FSTQPD30\"])\n",
    "y_pred_comb_train=comb.predict_proba(df_train[cols_list_w_hc])[:,1]\n",
    "y_pred_comb_test=comb.predict_proba(df_test[cols_list_w_hc])[:,1]\n"
   ]
  },
  {
   "cell_type": "code",
   "execution_count": 139,
   "metadata": {},
   "outputs": [
    {
     "data": {
      "text/plain": [
       "0    338096\n",
       "1     37818\n",
       "Name: RISK_FSTQPD30, dtype: int64"
      ]
     },
     "execution_count": 139,
     "metadata": {},
     "output_type": "execute_result"
    }
   ],
   "source": [
    "df_test[\"RISK_FSTQPD30\"].value_counts()"
   ]
  },
  {
   "cell_type": "code",
   "execution_count": 140,
   "metadata": {},
   "outputs": [
    {
     "name": "stdout",
     "output_type": "stream",
     "text": [
      "gini_combined_train: 31.41%\n",
      "\n",
      "gini_combined_test: 24.98%\n"
     ]
    }
   ],
   "source": [
    "metric_auc_combined_train = metrics.roc_auc_score(df_train[\"RISK_FSTQPD30\"], y_pred_comb_train)\n",
    "metric_auc_combined_test = metrics.roc_auc_score(df_test[\"RISK_FSTQPD30\"], y_pred_comb_test)\n",
    "gini_combined_train = 2 * metric_auc_combined_train - 1\n",
    "gini_combined_test = 2 * metric_auc_combined_test - 1\n",
    "print(\"gini_combined_train:\",'{:,.2%}'.format(gini_combined_train))\n",
    "print(\"\\ngini_combined_test:\",'{:,.2%}'.format(gini_combined_test))\n",
    "\n"
   ]
  },
  {
   "cell_type": "code",
   "execution_count": 134,
   "metadata": {},
   "outputs": [
    {
     "data": {
      "text/plain": [
       "array([[ 1.65608255e-02,  1.65608255e-02,  2.60413347e-02,\n",
       "         2.60413347e-02, -4.70879949e-01, -1.00235618e-01,\n",
       "         1.46107867e-01,  1.34468037e+00,  2.36654588e-01,\n",
       "         1.12733693e-04, -7.88393800e-05, -4.81874471e-07,\n",
       "         7.80672921e-01]])"
      ]
     },
     "execution_count": 134,
     "metadata": {},
     "output_type": "execute_result"
    }
   ],
   "source": [
    "comb.coef_"
   ]
  },
  {
   "cell_type": "code",
   "execution_count": 136,
   "metadata": {},
   "outputs": [
    {
     "name": "stdout",
     "output_type": "stream",
     "text": [
      "gini_combined_train: 31.49%\n",
      "\n",
      "gini_combined_test: 24.90%\n"
     ]
    }
   ],
   "source": [
    "metric_auc_combined_train = metrics.roc_auc_score(df_train[\"RISK_FSTQPD30\"], df_train[\"RISK_SCORE\"])\n",
    "metric_auc_combined_test = metrics.roc_auc_score(df_test[\"RISK_FSTQPD30\"], df_test[\"RISK_SCORE\"])\n",
    "gini_combined_train = 2 * metric_auc_combined_train - 1\n",
    "gini_combined_test = 2 * metric_auc_combined_test - 1\n",
    "print(\"gini_combined_train:\",'{:,.2%}'.format(gini_combined_train))\n",
    "print(\"\\ngini_combined_test:\",'{:,.2%}'.format(gini_combined_test))\n"
   ]
  },
  {
   "cell_type": "code",
   "execution_count": null,
   "metadata": {},
   "outputs": [],
   "source": []
  }
 ],
 "metadata": {
  "kernelspec": {
   "display_name": "Python 3",
   "language": "python",
   "name": "python3"
  },
  "language_info": {
   "codemirror_mode": {
    "name": "ipython",
    "version": 3
   },
   "file_extension": ".py",
   "mimetype": "text/x-python",
   "name": "python",
   "nbconvert_exporter": "python",
   "pygments_lexer": "ipython3",
   "version": "3.7.3"
  }
 },
 "nbformat": 4,
 "nbformat_minor": 2
}
