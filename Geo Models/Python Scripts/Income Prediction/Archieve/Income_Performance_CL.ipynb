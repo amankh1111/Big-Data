{
 "cells": [
  {
   "cell_type": "code",
   "execution_count": 1,
   "metadata": {},
   "outputs": [],
   "source": [
    "import os\n",
    "import cx_Oracle\n",
    "import pandas as pd\n",
    "import numpy as np\n",
    "import pickle\n",
    "from datetime import date,datetime\n",
    "from sklearn import metrics\n",
    "from sklearn.model_selection import train_test_split, StratifiedKFold, RandomizedSearchCV, cross_val_score \n",
    "import time\n",
    "import matplotlib.pyplot as plt\n",
    "from sklearn.utils import resample\n",
    "import datetime\n",
    "import sys\n",
    "sys.path.append(R'C:\\Users\\aman.khatri91425\\Desktop\\HomeCredit\\Bigdata\\Scoring Worlflow')"
   ]
  },
  {
   "cell_type": "markdown",
   "metadata": {},
   "source": [
    "# Upload Scores to DWH"
   ]
  },
  {
   "cell_type": "code",
   "execution_count": 2,
   "metadata": {},
   "outputs": [],
   "source": [
    "df = pd.read_pickle(r\"C:\\Users\\aman.khatri91425\\Desktop\\HomeCredit\\Bigdata\\Common Maps KNN\\Data Files\\scored_income_2019_cl.pkl\")"
   ]
  },
  {
   "cell_type": "code",
   "execution_count": 3,
   "metadata": {},
   "outputs": [],
   "source": [
    "df= df[[\"SKP_CREDIT_CASE\",\"PRED_INCOME\"]]"
   ]
  },
  {
   "cell_type": "code",
   "execution_count": 4,
   "metadata": {},
   "outputs": [],
   "source": [
    "df.to_csv(r\"C:\\Users\\aman.khatri91425\\Desktop\\HomeCredit\\Bigdata\\Common Maps KNN\\Data Files\\scored_income_upload_dwh.csv\", index = False)"
   ]
  },
  {
   "cell_type": "code",
   "execution_count": 5,
   "metadata": {},
   "outputs": [],
   "source": [
    "#upload to TBD_INCOME_PRED"
   ]
  },
  {
   "cell_type": "markdown",
   "metadata": {},
   "source": [
    "# Read Data File"
   ]
  },
  {
   "cell_type": "code",
   "execution_count": 8,
   "metadata": {},
   "outputs": [],
   "source": [
    "df= pd.read_pickle(r\"C:\\Users\\aman.khatri91425\\Desktop\\HomeCredit\\Bigdata\\Common Maps KNN\\Data Files\\scored_income_2019_cl.pkl\")\n"
   ]
  },
  {
   "cell_type": "code",
   "execution_count": 9,
   "metadata": {},
   "outputs": [],
   "source": [
    "df1 = pd.read_pickle(r\"C:\\Users\\aman.khatri91425\\Desktop\\HomeCredit\\Bigdata\\Common Maps KNN\\Data Files\\combined_income_pred.pkl\")"
   ]
  },
  {
   "cell_type": "code",
   "execution_count": 10,
   "metadata": {},
   "outputs": [],
   "source": [
    "df1= df1[['SKP_CREDIT_CASE','CLIENT_DEBT', 'CLIENT_EMI','NTC_FLAG']]"
   ]
  },
  {
   "cell_type": "code",
   "execution_count": 11,
   "metadata": {},
   "outputs": [],
   "source": [
    "df = df.merge(df1, on= 'SKP_CREDIT_CASE', how = 'inner')"
   ]
  },
  {
   "cell_type": "code",
   "execution_count": 12,
   "metadata": {},
   "outputs": [
    {
     "data": {
      "text/plain": [
       "(457172, 12)"
      ]
     },
     "execution_count": 12,
     "metadata": {},
     "output_type": "execute_result"
    }
   ],
   "source": [
    "df.shape"
   ]
  },
  {
   "cell_type": "markdown",
   "metadata": {},
   "source": [
    "# Create features for Analysis "
   ]
  },
  {
   "cell_type": "code",
   "execution_count": 14,
   "metadata": {},
   "outputs": [],
   "source": [
    "df.columns= ['SKP_CREDIT_CASE', 'TIME_DECISION_DATE', 'CUS_LAT', 'CUS_LONG',\n",
    "       'RISK_FSTQPD30',  'GRID_ID', 'REPORTED_INCOME',\n",
    "       'MONTH_STR', 'PRED_INCOME', 'CLIENT_DEBT', 'CLIENT_EMI', 'NTC_FLAG']"
   ]
  },
  {
   "cell_type": "code",
   "execution_count": 15,
   "metadata": {},
   "outputs": [],
   "source": [
    "features_list = [\"REPORTED_INCOME\",\"PRED_INCOME\",\"MIN_INCOME\",\"RATIO_PRED_REPORTED_INCOME\",\"DTI_PRED_INCOME\",\"DTI_REPORTED_INCOME\",\"DTI_MIN_INCOME\"]"
   ]
  },
  {
   "cell_type": "code",
   "execution_count": 16,
   "metadata": {},
   "outputs": [],
   "source": [
    "df[\"MIN_INCOME\"] = df[['REPORTED_INCOME','PRED_INCOME']].min(axis=1)"
   ]
  },
  {
   "cell_type": "code",
   "execution_count": 17,
   "metadata": {},
   "outputs": [],
   "source": [
    "df[\"RATIO_PRED_REPORTED_INCOME\"] = df['PRED_INCOME']/df['REPORTED_INCOME']"
   ]
  },
  {
   "cell_type": "code",
   "execution_count": 18,
   "metadata": {
    "scrolled": true
   },
   "outputs": [
    {
     "name": "stderr",
     "output_type": "stream",
     "text": [
      "C:\\Users\\aman.khatri91425\\AppData\\Local\\Continuum\\anaconda3\\lib\\site-packages\\ipykernel_launcher.py:2: RuntimeWarning: divide by zero encountered in double_scalars\n",
      "  \n",
      "C:\\Users\\aman.khatri91425\\AppData\\Local\\Continuum\\anaconda3\\lib\\site-packages\\ipykernel_launcher.py:3: RuntimeWarning: divide by zero encountered in double_scalars\n",
      "  This is separate from the ipykernel package so we can avoid doing imports until\n"
     ]
    }
   ],
   "source": [
    "df[\"DTI_PRED_INCOME\"] = [(df[\"CLIENT_DEBT\"][x]+ df[\"CLIENT_EMI\"][x]+1500)/df[\"PRED_INCOME\"][x] for x in df.index]\n",
    "df[\"DTI_REPORTED_INCOME\"] = [(df[\"CLIENT_DEBT\"][x]+ df[\"CLIENT_EMI\"][x]+1500)/df[\"REPORTED_INCOME\"][x] for x in df.index]\n",
    "df[\"DTI_MIN_INCOME\"] = [(df[\"CLIENT_DEBT\"][x]+ df[\"CLIENT_EMI\"][x]+1500)/df[\"MIN_INCOME\"][x] for x in df.index]\n"
   ]
  },
  {
   "cell_type": "code",
   "execution_count": 19,
   "metadata": {},
   "outputs": [
    {
     "data": {
      "text/plain": [
       "(457172, 17)"
      ]
     },
     "execution_count": 19,
     "metadata": {},
     "output_type": "execute_result"
    }
   ],
   "source": [
    "df.shape"
   ]
  },
  {
   "cell_type": "code",
   "execution_count": 20,
   "metadata": {},
   "outputs": [],
   "source": [
    "df = df[~df[\"MIN_INCOME\"].isin([0,np.inf,np.nan])]"
   ]
  },
  {
   "cell_type": "code",
   "execution_count": 21,
   "metadata": {},
   "outputs": [],
   "source": [
    "df.to_pickle(r\"C:\\Users\\aman.khatri91425\\Desktop\\HomeCredit\\Bigdata\\Common Maps KNN\\Data Files\\scored_income_v1_cl.pkl\")"
   ]
  },
  {
   "cell_type": "markdown",
   "metadata": {},
   "source": [
    "# MOM R Square"
   ]
  },
  {
   "cell_type": "code",
   "execution_count": 22,
   "metadata": {},
   "outputs": [],
   "source": [
    "from sklearn.metrics import mean_squared_error as mse\n",
    "from sklearn.metrics import r2_score "
   ]
  },
  {
   "cell_type": "code",
   "execution_count": 23,
   "metadata": {},
   "outputs": [
    {
     "data": {
      "text/html": [
       "<div>\n",
       "<style scoped>\n",
       "    .dataframe tbody tr th:only-of-type {\n",
       "        vertical-align: middle;\n",
       "    }\n",
       "\n",
       "    .dataframe tbody tr th {\n",
       "        vertical-align: top;\n",
       "    }\n",
       "\n",
       "    .dataframe thead th {\n",
       "        text-align: right;\n",
       "    }\n",
       "</style>\n",
       "<table border=\"1\" class=\"dataframe\">\n",
       "  <thead>\n",
       "    <tr style=\"text-align: right;\">\n",
       "      <th></th>\n",
       "      <th>MONTH_STR</th>\n",
       "      <th>RMSE</th>\n",
       "      <th>R_SQUARED</th>\n",
       "    </tr>\n",
       "  </thead>\n",
       "  <tbody>\n",
       "    <tr>\n",
       "      <th>0</th>\n",
       "      <td>2019-01</td>\n",
       "      <td>11550.0</td>\n",
       "      <td>0.029022</td>\n",
       "    </tr>\n",
       "    <tr>\n",
       "      <th>1</th>\n",
       "      <td>2019-02</td>\n",
       "      <td>11725.0</td>\n",
       "      <td>0.032356</td>\n",
       "    </tr>\n",
       "    <tr>\n",
       "      <th>2</th>\n",
       "      <td>2019-03</td>\n",
       "      <td>11849.0</td>\n",
       "      <td>0.032719</td>\n",
       "    </tr>\n",
       "    <tr>\n",
       "      <th>3</th>\n",
       "      <td>2019-04</td>\n",
       "      <td>11809.0</td>\n",
       "      <td>0.031765</td>\n",
       "    </tr>\n",
       "    <tr>\n",
       "      <th>4</th>\n",
       "      <td>2019-05</td>\n",
       "      <td>11906.0</td>\n",
       "      <td>0.028277</td>\n",
       "    </tr>\n",
       "    <tr>\n",
       "      <th>5</th>\n",
       "      <td>2019-06</td>\n",
       "      <td>12142.0</td>\n",
       "      <td>0.025552</td>\n",
       "    </tr>\n",
       "    <tr>\n",
       "      <th>6</th>\n",
       "      <td>2019-07</td>\n",
       "      <td>12082.0</td>\n",
       "      <td>0.028702</td>\n",
       "    </tr>\n",
       "    <tr>\n",
       "      <th>7</th>\n",
       "      <td>2019-08</td>\n",
       "      <td>11856.0</td>\n",
       "      <td>0.029472</td>\n",
       "    </tr>\n",
       "  </tbody>\n",
       "</table>\n",
       "</div>"
      ],
      "text/plain": [
       "  MONTH_STR     RMSE  R_SQUARED\n",
       "0   2019-01  11550.0   0.029022\n",
       "1   2019-02  11725.0   0.032356\n",
       "2   2019-03  11849.0   0.032719\n",
       "3   2019-04  11809.0   0.031765\n",
       "4   2019-05  11906.0   0.028277\n",
       "5   2019-06  12142.0   0.025552\n",
       "6   2019-07  12082.0   0.028702\n",
       "7   2019-08  11856.0   0.029472"
      ]
     },
     "execution_count": 23,
     "metadata": {},
     "output_type": "execute_result"
    }
   ],
   "source": [
    "dic= {\"MONTH_STR\":[],\"RMSE\":[],\"R_SQUARED\":[]}\n",
    "for x in df.MONTH_STR.unique():\n",
    "    dic[\"MONTH_STR\"].append(x)\n",
    "    dic[\"RMSE\"].append(round(np.sqrt(mse(df[df.MONTH_STR==x][\"REPORTED_INCOME\"],df[df.MONTH_STR==x][\"PRED_INCOME\"]))))\n",
    "    dic[\"R_SQUARED\"].append(r2_score(df[df.MONTH_STR==x][\"REPORTED_INCOME\"],df[df.MONTH_STR==x][\"PRED_INCOME\"]))\n",
    "    \n",
    "r_sq_df = pd.DataFrame(dic)\n",
    "\n",
    "r_sq_df"
   ]
  },
  {
   "cell_type": "code",
   "execution_count": 24,
   "metadata": {},
   "outputs": [
    {
     "data": {
      "image/png": "[encoded data removed]",
      "text/plain": [
       "<Figure size 720x360 with 1 Axes>"
      ]
     },
     "metadata": {
      "needs_background": "light"
     },
     "output_type": "display_data"
    }
   ],
   "source": [
    "import matplotlib.pyplot as plt\n",
    "\n",
    "fig = plt.figure(figsize = (10,5))\n",
    "ax1 = fig.add_subplot(1,1,1)\n",
    "\n",
    "ax1.plot(r_sq_df[\"MONTH_STR\"],r_sq_df[\"R_SQUARED\"], marker = 'o', label = 'R_Square')\n",
    "\n",
    "for i, txt in enumerate(r_sq_df[\"R_SQUARED\"]):\n",
    "    plt.annotate(\"{:.2f}\".format(txt), (r_sq_df[\"MONTH_STR\"][i], r_sq_df[\"R_SQUARED\"][i]+0.003))\n",
    "\n",
    "plt.legend(loc='lower right', borderaxespad=0.1)\n",
    "plt.ylim(0,0.15)\n",
    "plt.ylabel(\"R_Square\")\n",
    "plt.xlabel(\"MONTH\")\n",
    "ax1.set_title(\"MOM R Square\")\n",
    "plt.show()"
   ]
  },
  {
   "cell_type": "markdown",
   "metadata": {},
   "source": [
    "# Gini and IV of Features for Comparison"
   ]
  },
  {
   "cell_type": "code",
   "execution_count": 25,
   "metadata": {},
   "outputs": [],
   "source": [
    "df1=df"
   ]
  },
  {
   "cell_type": "markdown",
   "metadata": {},
   "source": [
    "### Reduce sample size to reduce computation in calculations for IV, Gini"
   ]
  },
  {
   "cell_type": "code",
   "execution_count": 44,
   "metadata": {},
   "outputs": [],
   "source": [
    "df = df1.sample(n=300000,random_state=2)"
   ]
  },
  {
   "cell_type": "code",
   "execution_count": 45,
   "metadata": {},
   "outputs": [],
   "source": [
    "for x in features_list:\n",
    "    df[x+\"_BINS\"] = pd.qcut(df[x],10,duplicates = 'drop')"
   ]
  },
  {
   "cell_type": "code",
   "execution_count": 46,
   "metadata": {},
   "outputs": [
    {
     "name": "stdout",
     "output_type": "stream",
     "text": [
      "REPORTED_INCOME\n",
      "PRED_INCOME\n",
      "MIN_INCOME\n",
      "RATIO_PRED_REPORTED_INCOME\n",
      "DTI_PRED_INCOME\n",
      "DTI_REPORTED_INCOME\n",
      "DTI_MIN_INCOME\n"
     ]
    }
   ],
   "source": [
    "from scoring.metrics import iv,gini\n",
    "cols_list= features_list\n",
    "col_target= 'RISK_FSTQPD30'\n",
    "power_tab = {'VARIABLE_NAME':[],'IV':[],'GINI':[]}\n",
    "for j in range(0,len(cols_list)):\n",
    "        power_tab[\"VARIABLE_NAME\"].append(cols_list[j])\n",
    "        power_tab[\"IV\"].append(\"{:.2%}\".format(iv(df[col_target],df[cols_list[j]+\"_BINS\"])))\n",
    "        power_tab[\"GINI\"].append(\"{:.2%}\".format((2*metrics.roc_auc_score(df[col_target],df[cols_list[j]])-1)))\n",
    "        print(cols_list[j])"
   ]
  },
  {
   "cell_type": "code",
   "execution_count": 48,
   "metadata": {},
   "outputs": [
    {
     "data": {
      "text/html": [
       "<div>\n",
       "<style scoped>\n",
       "    .dataframe tbody tr th:only-of-type {\n",
       "        vertical-align: middle;\n",
       "    }\n",
       "\n",
       "    .dataframe tbody tr th {\n",
       "        vertical-align: top;\n",
       "    }\n",
       "\n",
       "    .dataframe thead th {\n",
       "        text-align: right;\n",
       "    }\n",
       "</style>\n",
       "<table border=\"1\" class=\"dataframe\">\n",
       "  <thead>\n",
       "    <tr style=\"text-align: right;\">\n",
       "      <th></th>\n",
       "      <th>IV</th>\n",
       "      <th>GINI</th>\n",
       "    </tr>\n",
       "    <tr>\n",
       "      <th>VARIABLE_NAME</th>\n",
       "      <th></th>\n",
       "      <th></th>\n",
       "    </tr>\n",
       "  </thead>\n",
       "  <tbody>\n",
       "    <tr>\n",
       "      <th>REPORTED_INCOME</th>\n",
       "      <td>2.88%</td>\n",
       "      <td>9.77%</td>\n",
       "    </tr>\n",
       "    <tr>\n",
       "      <th>MIN_INCOME</th>\n",
       "      <td>2.73%</td>\n",
       "      <td>9.45%</td>\n",
       "    </tr>\n",
       "    <tr>\n",
       "      <th>DTI_REPORTED_INCOME</th>\n",
       "      <td>2.06%</td>\n",
       "      <td>7.66%</td>\n",
       "    </tr>\n",
       "    <tr>\n",
       "      <th>PRED_INCOME</th>\n",
       "      <td>0.97%</td>\n",
       "      <td>4.80%</td>\n",
       "    </tr>\n",
       "    <tr>\n",
       "      <th>DTI_PRED_INCOME</th>\n",
       "      <td>13.21%</td>\n",
       "      <td>19.91%</td>\n",
       "    </tr>\n",
       "    <tr>\n",
       "      <th>DTI_MIN_INCOME</th>\n",
       "      <td>7.65%</td>\n",
       "      <td>13.52%</td>\n",
       "    </tr>\n",
       "    <tr>\n",
       "      <th>RATIO_PRED_REPORTED_INCOME</th>\n",
       "      <td>2.55%</td>\n",
       "      <td>-9.06%</td>\n",
       "    </tr>\n",
       "  </tbody>\n",
       "</table>\n",
       "</div>"
      ],
      "text/plain": [
       "                                IV    GINI\n",
       "VARIABLE_NAME                             \n",
       "REPORTED_INCOME              2.88%   9.77%\n",
       "MIN_INCOME                   2.73%   9.45%\n",
       "DTI_REPORTED_INCOME          2.06%   7.66%\n",
       "PRED_INCOME                  0.97%   4.80%\n",
       "DTI_PRED_INCOME             13.21%  19.91%\n",
       "DTI_MIN_INCOME               7.65%  13.52%\n",
       "RATIO_PRED_REPORTED_INCOME   2.55%  -9.06%"
      ]
     },
     "metadata": {},
     "output_type": "display_data"
    }
   ],
   "source": [
    "power_out = pd.DataFrame(power_tab)\n",
    "power_out = power_out.set_index('VARIABLE_NAME')\n",
    "power_out = power_out.sort_values('GINI',ascending=False)\n",
    "power_out[\"GINI\"] = (power_out[\"GINI\"])\n",
    "\n",
    "pd.options.display.max_rows = 1000\n",
    "display(power_out)\n",
    "\n",
    "power_out.to_csv(r\"C:\\Users\\aman.khatri91425\\Desktop\\HomeCredit\\Bigdata\\Common Maps KNN\\gini_iv.csv\")"
   ]
  },
  {
   "cell_type": "markdown",
   "metadata": {},
   "source": [
    "### To make MOM calculations of IV, GINI"
   ]
  },
  {
   "cell_type": "code",
   "execution_count": null,
   "metadata": {},
   "outputs": [],
   "source": [
    "from scoring.metrics import iv,gini,lift\n",
    "cols_list= features_list\n",
    "col_target= 'RISK_FSTQPD30'\n",
    "power_tab = {'VARIABLE_NAME':[],'MONTH':[],'IV':[],'GINI':[]}\n",
    "for j in range(0,len(cols_list)):\n",
    "    for k in df.MONTH_STR.unique():\n",
    "        power_tab[\"VARIABLE_NAME\"].append(j)\n",
    "        power_tab[\"MONTH\"].append(k)\n",
    "        power_tab[\"IV\"].append(\"{:.1%}\".format(iv(df[df.MONTH_STR==k][col_target],df[df.MONTH_STR==k][cols_list[j]+\"_BINS\"])))\n",
    "        power_tab[\"GINI\"].append(\"{:.1%}\".format((2*metrics.roc_auc_score(df[df.MONTH_STR==k][col_target],df[df.MONTH_STR==k][cols_list[j]])-1)))"
   ]
  },
  {
   "cell_type": "code",
   "execution_count": null,
   "metadata": {},
   "outputs": [],
   "source": [
    "power_out = pd.DataFrame(power_tab)\n",
    "power_out = power_out.set_index('VARIABLE_NAME')\n",
    "power_out = power_out.sort_values('Gini',ascending=False)\n",
    "\n",
    "pd.options.display.max_rows = 1000\n",
    "display(power_out)\n",
    "\n",
    "power_out.to_csv(r\"C:\\Users\\aman.khatri91425\\Desktop\\HomeCredit\\Bigdata\\Common Maps KNN\\mom_gini_iv.csv\")"
   ]
  },
  {
   "cell_type": "markdown",
   "metadata": {},
   "source": [
    "# WOE Analysis"
   ]
  },
  {
   "cell_type": "code",
   "execution_count": 32,
   "metadata": {},
   "outputs": [],
   "source": [
    "df=df1\n",
    "# Split Train and Test Data Set\n",
    "df_train = df[(df[\"TIME_DECISION_DATE\"]>=datetime.datetime(2019, 1, 1)) & \n",
    "              (df[\"TIME_DECISION_DATE\"]<=datetime.datetime(2019, 3, 31))]\n",
    "df_valid = df[(df[\"TIME_DECISION_DATE\"]>=datetime.datetime(2019, 4, 1)) & \n",
    "              (df[\"TIME_DECISION_DATE\"]<=datetime.datetime(2019, 5, 31))]\n",
    "df_test = df[(df[\"TIME_DECISION_DATE\"]>=datetime.datetime(2019, 6, 1)) & \n",
    "              (df[\"TIME_DECISION_DATE\"]<=datetime.datetime(2019, 8, 31))]"
   ]
  },
  {
   "cell_type": "code",
   "execution_count": 33,
   "metadata": {},
   "outputs": [],
   "source": [
    "cols_pred_num=features_list\n",
    "cols_pred_cat = []"
   ]
  },
  {
   "cell_type": "code",
   "execution_count": 36,
   "metadata": {},
   "outputs": [
    {
     "data": {
      "application/vnd.jupyter.widget-view+json": {
       "model_id": "a6c324694c9e485b9fd018b3e3f2d490",
       "version_major": 2,
       "version_minor": 0
      },
      "text/plain": [
       "HBox(children=(IntProgress(value=0, max=7), HTML(value='')))"
      ]
     },
     "metadata": {},
     "output_type": "display_data"
    },
    {
     "name": "stdout",
     "output_type": "stream",
     "text": [
      "\n"
     ]
    },
    {
     "data": {
      "text/plain": [
       "'Grouping saved on 2020-04-08 18:11:09 to file C:\\\\Users\\\\aman.khatri91425\\\\Desktop\\\\HomeCredit\\\\Bigdata\\\\Common Maps KNN\\\\my_grouping'"
      ]
     },
     "metadata": {},
     "output_type": "display_data"
    },
    {
     "data": {
      "application/vnd.jupyter.widget-view+json": {
       "model_id": "163dd22ce8a745c18915a53ce2fa17d0",
       "version_major": 2,
       "version_minor": 0
      },
      "text/plain": [
       "HBox(children=(IntProgress(value=0, max=7), HTML(value='')))"
      ]
     },
     "metadata": {},
     "output_type": "display_data"
    },
    {
     "name": "stdout",
     "output_type": "stream",
     "text": [
      "\n"
     ]
    }
   ],
   "source": [
    "from scoring.grouping import Grouping\n",
    "\n",
    "grouping = Grouping(columns = sorted(cols_pred_num),\n",
    "                    cat_columns = sorted(cols_pred_cat),\n",
    "                    group_count=4, \n",
    "                    min_samples=10000)\n",
    "\n",
    "grouping.fit(df_train[cols_pred_num],\n",
    "             df_train[\"RISK_FSTQPD30\"],\n",
    "          #   w=data[train_mask][col_weight],\n",
    "            progress_bar=True, category_limit=10000);\n",
    "\n",
    "grouping.save(r\"C:\\Users\\aman.khatri91425\\Desktop\\HomeCredit\\Bigdata\\Common Maps KNN\\my_grouping\")\n",
    "\n",
    "data_woe = grouping.transform(df, transform_to='woe', progress_bar=True)"
   ]
  },
  {
   "cell_type": "markdown",
   "metadata": {},
   "source": [
    "### Plot Bins"
   ]
  },
  {
   "cell_type": "code",
   "execution_count": 37,
   "metadata": {
    "scrolled": true
   },
   "outputs": [
    {
     "data": {
      "text/markdown": [
       "***"
      ],
      "text/plain": [
       "<IPython.core.display.Markdown object>"
      ]
     },
     "metadata": {},
     "output_type": "display_data"
    },
    {
     "data": {
      "text/markdown": [
       "### DTI_MIN_INCOME"
      ],
      "text/plain": [
       "<IPython.core.display.Markdown object>"
      ]
     },
     "metadata": {},
     "output_type": "display_data"
    },
    {
     "data": {
      "text/html": [
       "<div>\n",
       "<style scoped>\n",
       "    .dataframe tbody tr th:only-of-type {\n",
       "        vertical-align: middle;\n",
       "    }\n",
       "\n",
       "    .dataframe tbody tr th {\n",
       "        vertical-align: top;\n",
       "    }\n",
       "\n",
       "    .dataframe thead th {\n",
       "        text-align: right;\n",
       "    }\n",
       "</style>\n",
       "<table border=\"1\" class=\"dataframe\">\n",
       "  <thead>\n",
       "    <tr style=\"text-align: right;\">\n",
       "      <th></th>\n",
       "      <th>CNT_TOTAL</th>\n",
       "      <th>CNT_DEF</th>\n",
       "      <th>DEF_RATE</th>\n",
       "      <th>DIST_BAD</th>\n",
       "      <th>DIST_GOOD</th>\n",
       "      <th>WOE</th>\n",
       "      <th>WOE_check</th>\n",
       "      <th>SHARE</th>\n",
       "    </tr>\n",
       "    <tr>\n",
       "      <th>BIN_DTI_MIN_INCOME</th>\n",
       "      <th></th>\n",
       "      <th></th>\n",
       "      <th></th>\n",
       "      <th></th>\n",
       "      <th></th>\n",
       "      <th></th>\n",
       "      <th></th>\n",
       "      <th></th>\n",
       "    </tr>\n",
       "  </thead>\n",
       "  <tbody>\n",
       "    <tr>\n",
       "      <th>[-inf, 0.2347)</th>\n",
       "      <td>37371.0</td>\n",
       "      <td>552.0</td>\n",
       "      <td>0.0148</td>\n",
       "      <td>0.1362</td>\n",
       "      <td>0.2388</td>\n",
       "      <td>0.5346</td>\n",
       "      <td>0.5618</td>\n",
       "      <td>0.2362</td>\n",
       "    </tr>\n",
       "    <tr>\n",
       "      <th>[0.2347, 0.3032)</th>\n",
       "      <td>25989.0</td>\n",
       "      <td>566.0</td>\n",
       "      <td>0.0218</td>\n",
       "      <td>0.1396</td>\n",
       "      <td>0.1649</td>\n",
       "      <td>0.1598</td>\n",
       "      <td>0.1664</td>\n",
       "      <td>0.1642</td>\n",
       "    </tr>\n",
       "    <tr>\n",
       "      <th>[0.3032, 0.4033)</th>\n",
       "      <td>37948.0</td>\n",
       "      <td>1071.0</td>\n",
       "      <td>0.0282</td>\n",
       "      <td>0.2642</td>\n",
       "      <td>0.2392</td>\n",
       "      <td>-0.0959</td>\n",
       "      <td>-0.0994</td>\n",
       "      <td>0.2398</td>\n",
       "    </tr>\n",
       "    <tr>\n",
       "      <th>[0.4033, inf)</th>\n",
       "      <td>56924.0</td>\n",
       "      <td>1865.0</td>\n",
       "      <td>0.0328</td>\n",
       "      <td>0.4600</td>\n",
       "      <td>0.3571</td>\n",
       "      <td>-0.2450</td>\n",
       "      <td>-0.2533</td>\n",
       "      <td>0.3598</td>\n",
       "    </tr>\n",
       "    <tr>\n",
       "      <th>nan</th>\n",
       "      <td>0.0</td>\n",
       "      <td>0.0</td>\n",
       "      <td>NaN</td>\n",
       "      <td>0.0000</td>\n",
       "      <td>0.0000</td>\n",
       "      <td>NaN</td>\n",
       "      <td>-3.6384</td>\n",
       "      <td>0.0000</td>\n",
       "    </tr>\n",
       "  </tbody>\n",
       "</table>\n",
       "</div>"
      ],
      "text/plain": [
       "                    CNT_TOTAL  CNT_DEF  DEF_RATE  DIST_BAD  DIST_GOOD     WOE  \\\n",
       "BIN_DTI_MIN_INCOME                                                              \n",
       "[-inf, 0.2347)        37371.0    552.0    0.0148    0.1362     0.2388  0.5346   \n",
       "[0.2347, 0.3032)      25989.0    566.0    0.0218    0.1396     0.1649  0.1598   \n",
       "[0.3032, 0.4033)      37948.0   1071.0    0.0282    0.2642     0.2392 -0.0959   \n",
       "[0.4033, inf)         56924.0   1865.0    0.0328    0.4600     0.3571 -0.2450   \n",
       "nan                       0.0      0.0       NaN    0.0000     0.0000     NaN   \n",
       "\n",
       "                    WOE_check   SHARE  \n",
       "BIN_DTI_MIN_INCOME                     \n",
       "[-inf, 0.2347)         0.5618  0.2362  \n",
       "[0.2347, 0.3032)       0.1664  0.1642  \n",
       "[0.3032, 0.4033)      -0.0994  0.2398  \n",
       "[0.4033, inf)         -0.2533  0.3598  \n",
       "nan                   -3.6384  0.0000  "
      ]
     },
     "metadata": {},
     "output_type": "display_data"
    },
    {
     "name": "stdout",
     "output_type": "stream",
     "text": [
      "IV: 0.0904\n",
      "Gini: 15.45\n"
     ]
    },
    {
     "data": {
      "image/png": "[encoded data removed]",
      "text/plain": [
       "<Figure size 720x360 with 2 Axes>"
      ]
     },
     "metadata": {
      "needs_background": "light"
     },
     "output_type": "display_data"
    },
    {
     "data": {
      "text/markdown": [
       "***"
      ],
      "text/plain": [
       "<IPython.core.display.Markdown object>"
      ]
     },
     "metadata": {},
     "output_type": "display_data"
    },
    {
     "data": {
      "text/markdown": [
       "### DTI_PRED_INCOME"
      ],
      "text/plain": [
       "<IPython.core.display.Markdown object>"
      ]
     },
     "metadata": {},
     "output_type": "display_data"
    },
    {
     "data": {
      "text/html": [
       "<div>\n",
       "<style scoped>\n",
       "    .dataframe tbody tr th:only-of-type {\n",
       "        vertical-align: middle;\n",
       "    }\n",
       "\n",
       "    .dataframe tbody tr th {\n",
       "        vertical-align: top;\n",
       "    }\n",
       "\n",
       "    .dataframe thead th {\n",
       "        text-align: right;\n",
       "    }\n",
       "</style>\n",
       "<table border=\"1\" class=\"dataframe\">\n",
       "  <thead>\n",
       "    <tr style=\"text-align: right;\">\n",
       "      <th></th>\n",
       "      <th>CNT_TOTAL</th>\n",
       "      <th>CNT_DEF</th>\n",
       "      <th>DEF_RATE</th>\n",
       "      <th>DIST_BAD</th>\n",
       "      <th>DIST_GOOD</th>\n",
       "      <th>WOE</th>\n",
       "      <th>WOE_check</th>\n",
       "      <th>SHARE</th>\n",
       "    </tr>\n",
       "    <tr>\n",
       "      <th>BIN_DTI_PRED_INCOME</th>\n",
       "      <th></th>\n",
       "      <th></th>\n",
       "      <th></th>\n",
       "      <th></th>\n",
       "      <th></th>\n",
       "      <th></th>\n",
       "      <th></th>\n",
       "      <th></th>\n",
       "    </tr>\n",
       "  </thead>\n",
       "  <tbody>\n",
       "    <tr>\n",
       "      <th>[-inf, 0.2023)</th>\n",
       "      <td>46375.0</td>\n",
       "      <td>632.0</td>\n",
       "      <td>0.0136</td>\n",
       "      <td>0.1559</td>\n",
       "      <td>0.2967</td>\n",
       "      <td>0.6110</td>\n",
       "      <td>0.6435</td>\n",
       "      <td>0.2931</td>\n",
       "    </tr>\n",
       "    <tr>\n",
       "      <th>[0.2023, 0.3032)</th>\n",
       "      <td>47060.0</td>\n",
       "      <td>1075.0</td>\n",
       "      <td>0.0228</td>\n",
       "      <td>0.2652</td>\n",
       "      <td>0.2983</td>\n",
       "      <td>0.1130</td>\n",
       "      <td>0.1176</td>\n",
       "      <td>0.2974</td>\n",
       "    </tr>\n",
       "    <tr>\n",
       "      <th>[0.3032, 0.3698)</th>\n",
       "      <td>28847.0</td>\n",
       "      <td>920.0</td>\n",
       "      <td>0.0319</td>\n",
       "      <td>0.2269</td>\n",
       "      <td>0.1811</td>\n",
       "      <td>-0.2180</td>\n",
       "      <td>-0.2254</td>\n",
       "      <td>0.1823</td>\n",
       "    </tr>\n",
       "    <tr>\n",
       "      <th>[0.3698, inf)</th>\n",
       "      <td>35950.0</td>\n",
       "      <td>1427.0</td>\n",
       "      <td>0.0397</td>\n",
       "      <td>0.3520</td>\n",
       "      <td>0.2239</td>\n",
       "      <td>-0.4389</td>\n",
       "      <td>-0.4524</td>\n",
       "      <td>0.2272</td>\n",
       "    </tr>\n",
       "    <tr>\n",
       "      <th>nan</th>\n",
       "      <td>0.0</td>\n",
       "      <td>0.0</td>\n",
       "      <td>NaN</td>\n",
       "      <td>0.0000</td>\n",
       "      <td>0.0000</td>\n",
       "      <td>NaN</td>\n",
       "      <td>-3.6384</td>\n",
       "      <td>0.0000</td>\n",
       "    </tr>\n",
       "  </tbody>\n",
       "</table>\n",
       "</div>"
      ],
      "text/plain": [
       "                     CNT_TOTAL  CNT_DEF  DEF_RATE  DIST_BAD  DIST_GOOD  \\\n",
       "BIN_DTI_PRED_INCOME                                                      \n",
       "[-inf, 0.2023)         46375.0    632.0    0.0136    0.1559     0.2967   \n",
       "[0.2023, 0.3032)       47060.0   1075.0    0.0228    0.2652     0.2983   \n",
       "[0.3032, 0.3698)       28847.0    920.0    0.0319    0.2269     0.1811   \n",
       "[0.3698, inf)          35950.0   1427.0    0.0397    0.3520     0.2239   \n",
       "nan                        0.0      0.0       NaN    0.0000     0.0000   \n",
       "\n",
       "                        WOE  WOE_check   SHARE  \n",
       "BIN_DTI_PRED_INCOME                             \n",
       "[-inf, 0.2023)       0.6110     0.6435  0.2931  \n",
       "[0.2023, 0.3032)     0.1130     0.1176  0.2974  \n",
       "[0.3032, 0.3698)    -0.2180    -0.2254  0.1823  \n",
       "[0.3698, inf)       -0.4389    -0.4524  0.2272  \n",
       "nan                     NaN    -3.6384  0.0000  "
      ]
     },
     "metadata": {},
     "output_type": "display_data"
    },
    {
     "name": "stdout",
     "output_type": "stream",
     "text": [
      "IV: 0.1628\n",
      "Gini: 21.90\n"
     ]
    },
    {
     "data": {
      "image/png": "[encoded data removed]",
      "text/plain": [
       "<Figure size 720x360 with 2 Axes>"
      ]
     },
     "metadata": {
      "needs_background": "light"
     },
     "output_type": "display_data"
    },
    {
     "data": {
      "text/markdown": [
       "***"
      ],
      "text/plain": [
       "<IPython.core.display.Markdown object>"
      ]
     },
     "metadata": {},
     "output_type": "display_data"
    },
    {
     "data": {
      "text/markdown": [
       "### DTI_REPORTED_INCOME"
      ],
      "text/plain": [
       "<IPython.core.display.Markdown object>"
      ]
     },
     "metadata": {},
     "output_type": "display_data"
    },
    {
     "data": {
      "text/html": [
       "<div>\n",
       "<style scoped>\n",
       "    .dataframe tbody tr th:only-of-type {\n",
       "        vertical-align: middle;\n",
       "    }\n",
       "\n",
       "    .dataframe tbody tr th {\n",
       "        vertical-align: top;\n",
       "    }\n",
       "\n",
       "    .dataframe thead th {\n",
       "        text-align: right;\n",
       "    }\n",
       "</style>\n",
       "<table border=\"1\" class=\"dataframe\">\n",
       "  <thead>\n",
       "    <tr style=\"text-align: right;\">\n",
       "      <th></th>\n",
       "      <th>CNT_TOTAL</th>\n",
       "      <th>CNT_DEF</th>\n",
       "      <th>DEF_RATE</th>\n",
       "      <th>DIST_BAD</th>\n",
       "      <th>DIST_GOOD</th>\n",
       "      <th>WOE</th>\n",
       "      <th>WOE_check</th>\n",
       "      <th>SHARE</th>\n",
       "    </tr>\n",
       "    <tr>\n",
       "      <th>BIN_DTI_REPORTED_INCOME</th>\n",
       "      <th></th>\n",
       "      <th></th>\n",
       "      <th></th>\n",
       "      <th></th>\n",
       "      <th></th>\n",
       "      <th></th>\n",
       "      <th></th>\n",
       "      <th></th>\n",
       "    </tr>\n",
       "  </thead>\n",
       "  <tbody>\n",
       "    <tr>\n",
       "      <th>[-inf, 0.1744)</th>\n",
       "      <td>29563.0</td>\n",
       "      <td>540.0</td>\n",
       "      <td>0.0183</td>\n",
       "      <td>0.1332</td>\n",
       "      <td>0.1882</td>\n",
       "      <td>0.3309</td>\n",
       "      <td>0.3459</td>\n",
       "      <td>0.1868</td>\n",
       "    </tr>\n",
       "    <tr>\n",
       "      <th>[0.1744, 0.2347)</th>\n",
       "      <td>24906.0</td>\n",
       "      <td>564.0</td>\n",
       "      <td>0.0226</td>\n",
       "      <td>0.1391</td>\n",
       "      <td>0.1579</td>\n",
       "      <td>0.1216</td>\n",
       "      <td>0.1265</td>\n",
       "      <td>0.1574</td>\n",
       "    </tr>\n",
       "    <tr>\n",
       "      <th>[0.2347, 0.4346)</th>\n",
       "      <td>65140.0</td>\n",
       "      <td>1763.0</td>\n",
       "      <td>0.0271</td>\n",
       "      <td>0.4349</td>\n",
       "      <td>0.4111</td>\n",
       "      <td>-0.0543</td>\n",
       "      <td>-0.0563</td>\n",
       "      <td>0.4117</td>\n",
       "    </tr>\n",
       "    <tr>\n",
       "      <th>[0.4346, inf)</th>\n",
       "      <td>38623.0</td>\n",
       "      <td>1187.0</td>\n",
       "      <td>0.0307</td>\n",
       "      <td>0.2928</td>\n",
       "      <td>0.2428</td>\n",
       "      <td>-0.1809</td>\n",
       "      <td>-0.1872</td>\n",
       "      <td>0.2441</td>\n",
       "    </tr>\n",
       "    <tr>\n",
       "      <th>nan</th>\n",
       "      <td>0.0</td>\n",
       "      <td>0.0</td>\n",
       "      <td>NaN</td>\n",
       "      <td>0.0000</td>\n",
       "      <td>0.0000</td>\n",
       "      <td>NaN</td>\n",
       "      <td>-3.6384</td>\n",
       "      <td>0.0000</td>\n",
       "    </tr>\n",
       "  </tbody>\n",
       "</table>\n",
       "</div>"
      ],
      "text/plain": [
       "                         CNT_TOTAL  CNT_DEF  DEF_RATE  DIST_BAD  DIST_GOOD  \\\n",
       "BIN_DTI_REPORTED_INCOME                                                      \n",
       "[-inf, 0.1744)             29563.0    540.0    0.0183    0.1332     0.1882   \n",
       "[0.1744, 0.2347)           24906.0    564.0    0.0226    0.1391     0.1579   \n",
       "[0.2347, 0.4346)           65140.0   1763.0    0.0271    0.4349     0.4111   \n",
       "[0.4346, inf)              38623.0   1187.0    0.0307    0.2928     0.2428   \n",
       "nan                            0.0      0.0       NaN    0.0000     0.0000   \n",
       "\n",
       "                            WOE  WOE_check   SHARE  \n",
       "BIN_DTI_REPORTED_INCOME                             \n",
       "[-inf, 0.1744)           0.3309     0.3459  0.1868  \n",
       "[0.1744, 0.2347)         0.1216     0.1265  0.1574  \n",
       "[0.2347, 0.4346)        -0.0543    -0.0563  0.4117  \n",
       "[0.4346, inf)           -0.1809    -0.1872  0.2441  \n",
       "nan                         NaN    -3.6384  0.0000  "
      ]
     },
     "metadata": {},
     "output_type": "display_data"
    },
    {
     "name": "stdout",
     "output_type": "stream",
     "text": [
      "IV: 0.0321\n",
      "Gini: 9.37\n"
     ]
    },
    {
     "data": {
      "image/png": "[encoded data removed]",
      "text/plain": [
       "<Figure size 720x360 with 2 Axes>"
      ]
     },
     "metadata": {
      "needs_background": "light"
     },
     "output_type": "display_data"
    },
    {
     "data": {
      "text/markdown": [
       "***"
      ],
      "text/plain": [
       "<IPython.core.display.Markdown object>"
      ]
     },
     "metadata": {},
     "output_type": "display_data"
    },
    {
     "data": {
      "text/markdown": [
       "### MIN_INCOME"
      ],
      "text/plain": [
       "<IPython.core.display.Markdown object>"
      ]
     },
     "metadata": {},
     "output_type": "display_data"
    },
    {
     "data": {
      "text/html": [
       "<div>\n",
       "<style scoped>\n",
       "    .dataframe tbody tr th:only-of-type {\n",
       "        vertical-align: middle;\n",
       "    }\n",
       "\n",
       "    .dataframe tbody tr th {\n",
       "        vertical-align: top;\n",
       "    }\n",
       "\n",
       "    .dataframe thead th {\n",
       "        text-align: right;\n",
       "    }\n",
       "</style>\n",
       "<table border=\"1\" class=\"dataframe\">\n",
       "  <thead>\n",
       "    <tr style=\"text-align: right;\">\n",
       "      <th></th>\n",
       "      <th>CNT_TOTAL</th>\n",
       "      <th>CNT_DEF</th>\n",
       "      <th>DEF_RATE</th>\n",
       "      <th>DIST_BAD</th>\n",
       "      <th>DIST_GOOD</th>\n",
       "      <th>WOE</th>\n",
       "      <th>WOE_check</th>\n",
       "      <th>SHARE</th>\n",
       "    </tr>\n",
       "    <tr>\n",
       "      <th>BIN_MIN_INCOME</th>\n",
       "      <th></th>\n",
       "      <th></th>\n",
       "      <th></th>\n",
       "      <th></th>\n",
       "      <th></th>\n",
       "      <th></th>\n",
       "      <th></th>\n",
       "      <th></th>\n",
       "    </tr>\n",
       "  </thead>\n",
       "  <tbody>\n",
       "    <tr>\n",
       "      <th>[-inf, 14199.7002)</th>\n",
       "      <td>35058.0</td>\n",
       "      <td>711.0</td>\n",
       "      <td>0.0203</td>\n",
       "      <td>0.1754</td>\n",
       "      <td>0.2228</td>\n",
       "      <td>0.2293</td>\n",
       "      <td>0.2392</td>\n",
       "      <td>0.2216</td>\n",
       "    </tr>\n",
       "    <tr>\n",
       "      <th>[14199.7002, 19874.9141)</th>\n",
       "      <td>55619.0</td>\n",
       "      <td>1333.0</td>\n",
       "      <td>0.0240</td>\n",
       "      <td>0.3288</td>\n",
       "      <td>0.3521</td>\n",
       "      <td>0.0658</td>\n",
       "      <td>0.0684</td>\n",
       "      <td>0.3515</td>\n",
       "    </tr>\n",
       "    <tr>\n",
       "      <th>[19874.9141, 22038.0381)</th>\n",
       "      <td>35490.0</td>\n",
       "      <td>988.0</td>\n",
       "      <td>0.0278</td>\n",
       "      <td>0.2437</td>\n",
       "      <td>0.2238</td>\n",
       "      <td>-0.0823</td>\n",
       "      <td>-0.0853</td>\n",
       "      <td>0.2243</td>\n",
       "    </tr>\n",
       "    <tr>\n",
       "      <th>[22038.0381, inf)</th>\n",
       "      <td>32065.0</td>\n",
       "      <td>1022.0</td>\n",
       "      <td>0.0319</td>\n",
       "      <td>0.2521</td>\n",
       "      <td>0.2013</td>\n",
       "      <td>-0.2174</td>\n",
       "      <td>-0.2248</td>\n",
       "      <td>0.2026</td>\n",
       "    </tr>\n",
       "    <tr>\n",
       "      <th>nan</th>\n",
       "      <td>0.0</td>\n",
       "      <td>0.0</td>\n",
       "      <td>NaN</td>\n",
       "      <td>0.0000</td>\n",
       "      <td>0.0000</td>\n",
       "      <td>NaN</td>\n",
       "      <td>-3.6384</td>\n",
       "      <td>0.0000</td>\n",
       "    </tr>\n",
       "  </tbody>\n",
       "</table>\n",
       "</div>"
      ],
      "text/plain": [
       "                          CNT_TOTAL  CNT_DEF  DEF_RATE  DIST_BAD  DIST_GOOD  \\\n",
       "BIN_MIN_INCOME                                                                \n",
       "[-inf, 14199.7002)          35058.0    711.0    0.0203    0.1754     0.2228   \n",
       "[14199.7002, 19874.9141)    55619.0   1333.0    0.0240    0.3288     0.3521   \n",
       "[19874.9141, 22038.0381)    35490.0    988.0    0.0278    0.2437     0.2238   \n",
       "[22038.0381, inf)           32065.0   1022.0    0.0319    0.2521     0.2013   \n",
       "nan                             0.0      0.0       NaN    0.0000     0.0000   \n",
       "\n",
       "                             WOE  WOE_check   SHARE  \n",
       "BIN_MIN_INCOME                                       \n",
       "[-inf, 14199.7002)        0.2293     0.2392  0.2216  \n",
       "[14199.7002, 19874.9141)  0.0658     0.0684  0.3515  \n",
       "[19874.9141, 22038.0381) -0.0823    -0.0853  0.2243  \n",
       "[22038.0381, inf)        -0.2174    -0.2248  0.2026  \n",
       "nan                          NaN    -3.6384  0.0000  "
      ]
     },
     "metadata": {},
     "output_type": "display_data"
    },
    {
     "name": "stdout",
     "output_type": "stream",
     "text": [
      "IV: 0.0260\n",
      "Gini: 8.95\n"
     ]
    },
    {
     "data": {
      "image/png": "[encoded data removed]",
      "text/plain": [
       "<Figure size 720x360 with 2 Axes>"
      ]
     },
     "metadata": {
      "needs_background": "light"
     },
     "output_type": "display_data"
    },
    {
     "data": {
      "text/markdown": [
       "***"
      ],
      "text/plain": [
       "<IPython.core.display.Markdown object>"
      ]
     },
     "metadata": {},
     "output_type": "display_data"
    },
    {
     "data": {
      "text/markdown": [
       "### PRED_INCOME"
      ],
      "text/plain": [
       "<IPython.core.display.Markdown object>"
      ]
     },
     "metadata": {},
     "output_type": "display_data"
    },
    {
     "data": {
      "text/html": [
       "<div>\n",
       "<style scoped>\n",
       "    .dataframe tbody tr th:only-of-type {\n",
       "        vertical-align: middle;\n",
       "    }\n",
       "\n",
       "    .dataframe tbody tr th {\n",
       "        vertical-align: top;\n",
       "    }\n",
       "\n",
       "    .dataframe thead th {\n",
       "        text-align: right;\n",
       "    }\n",
       "</style>\n",
       "<table border=\"1\" class=\"dataframe\">\n",
       "  <thead>\n",
       "    <tr style=\"text-align: right;\">\n",
       "      <th></th>\n",
       "      <th>CNT_TOTAL</th>\n",
       "      <th>CNT_DEF</th>\n",
       "      <th>DEF_RATE</th>\n",
       "      <th>DIST_BAD</th>\n",
       "      <th>DIST_GOOD</th>\n",
       "      <th>WOE</th>\n",
       "      <th>WOE_check</th>\n",
       "      <th>SHARE</th>\n",
       "    </tr>\n",
       "    <tr>\n",
       "      <th>BIN_PRED_INCOME</th>\n",
       "      <th></th>\n",
       "      <th></th>\n",
       "      <th></th>\n",
       "      <th></th>\n",
       "      <th></th>\n",
       "      <th></th>\n",
       "      <th></th>\n",
       "      <th></th>\n",
       "    </tr>\n",
       "  </thead>\n",
       "  <tbody>\n",
       "    <tr>\n",
       "      <th>[-inf, 18856.8916)</th>\n",
       "      <td>16492.0</td>\n",
       "      <td>408.0</td>\n",
       "      <td>0.0247</td>\n",
       "      <td>0.1006</td>\n",
       "      <td>0.1043</td>\n",
       "      <td>0.0346</td>\n",
       "      <td>0.0359</td>\n",
       "      <td>0.1042</td>\n",
       "    </tr>\n",
       "    <tr>\n",
       "      <th>[18856.8916, 20920.501)</th>\n",
       "      <td>35718.0</td>\n",
       "      <td>780.0</td>\n",
       "      <td>0.0218</td>\n",
       "      <td>0.1924</td>\n",
       "      <td>0.2266</td>\n",
       "      <td>0.1571</td>\n",
       "      <td>0.1636</td>\n",
       "      <td>0.2257</td>\n",
       "    </tr>\n",
       "    <tr>\n",
       "      <th>[20920.501, 25076.6963)</th>\n",
       "      <td>95403.0</td>\n",
       "      <td>2530.0</td>\n",
       "      <td>0.0265</td>\n",
       "      <td>0.6241</td>\n",
       "      <td>0.6024</td>\n",
       "      <td>-0.0341</td>\n",
       "      <td>-0.0354</td>\n",
       "      <td>0.6029</td>\n",
       "    </tr>\n",
       "    <tr>\n",
       "      <th>[25076.6963, inf)</th>\n",
       "      <td>10619.0</td>\n",
       "      <td>336.0</td>\n",
       "      <td>0.0316</td>\n",
       "      <td>0.0829</td>\n",
       "      <td>0.0667</td>\n",
       "      <td>-0.2101</td>\n",
       "      <td>-0.2173</td>\n",
       "      <td>0.0671</td>\n",
       "    </tr>\n",
       "    <tr>\n",
       "      <th>nan</th>\n",
       "      <td>0.0</td>\n",
       "      <td>0.0</td>\n",
       "      <td>NaN</td>\n",
       "      <td>0.0000</td>\n",
       "      <td>0.0000</td>\n",
       "      <td>NaN</td>\n",
       "      <td>-3.6384</td>\n",
       "      <td>0.0000</td>\n",
       "    </tr>\n",
       "  </tbody>\n",
       "</table>\n",
       "</div>"
      ],
      "text/plain": [
       "                         CNT_TOTAL  CNT_DEF  DEF_RATE  DIST_BAD  DIST_GOOD  \\\n",
       "BIN_PRED_INCOME                                                              \n",
       "[-inf, 18856.8916)         16492.0    408.0    0.0247    0.1006     0.1043   \n",
       "[18856.8916, 20920.501)    35718.0    780.0    0.0218    0.1924     0.2266   \n",
       "[20920.501, 25076.6963)    95403.0   2530.0    0.0265    0.6241     0.6024   \n",
       "[25076.6963, inf)          10619.0    336.0    0.0316    0.0829     0.0667   \n",
       "nan                            0.0      0.0       NaN    0.0000     0.0000   \n",
       "\n",
       "                            WOE  WOE_check   SHARE  \n",
       "BIN_PRED_INCOME                                     \n",
       "[-inf, 18856.8916)       0.0346     0.0359  0.1042  \n",
       "[18856.8916, 20920.501)  0.1571     0.1636  0.2257  \n",
       "[20920.501, 25076.6963) -0.0341    -0.0354  0.6029  \n",
       "[25076.6963, inf)       -0.2101    -0.2173  0.0671  \n",
       "nan                         NaN    -3.6384  0.0000  "
      ]
     },
     "metadata": {},
     "output_type": "display_data"
    },
    {
     "name": "stdout",
     "output_type": "stream",
     "text": [
      "IV: 0.0100\n",
      "Gini: 4.89\n"
     ]
    },
    {
     "data": {
      "image/png": "[encoded data removed]",
      "text/plain": [
       "<Figure size 720x360 with 2 Axes>"
      ]
     },
     "metadata": {
      "needs_background": "light"
     },
     "output_type": "display_data"
    },
    {
     "data": {
      "text/markdown": [
       "***"
      ],
      "text/plain": [
       "<IPython.core.display.Markdown object>"
      ]
     },
     "metadata": {},
     "output_type": "display_data"
    },
    {
     "data": {
      "text/markdown": [
       "### RATIO_PRED_REPORTED_INCOME"
      ],
      "text/plain": [
       "<IPython.core.display.Markdown object>"
      ]
     },
     "metadata": {},
     "output_type": "display_data"
    },
    {
     "data": {
      "text/html": [
       "<div>\n",
       "<style scoped>\n",
       "    .dataframe tbody tr th:only-of-type {\n",
       "        vertical-align: middle;\n",
       "    }\n",
       "\n",
       "    .dataframe tbody tr th {\n",
       "        vertical-align: top;\n",
       "    }\n",
       "\n",
       "    .dataframe thead th {\n",
       "        text-align: right;\n",
       "    }\n",
       "</style>\n",
       "<table border=\"1\" class=\"dataframe\">\n",
       "  <thead>\n",
       "    <tr style=\"text-align: right;\">\n",
       "      <th></th>\n",
       "      <th>CNT_TOTAL</th>\n",
       "      <th>CNT_DEF</th>\n",
       "      <th>DEF_RATE</th>\n",
       "      <th>DIST_BAD</th>\n",
       "      <th>DIST_GOOD</th>\n",
       "      <th>WOE</th>\n",
       "      <th>WOE_check</th>\n",
       "      <th>SHARE</th>\n",
       "    </tr>\n",
       "    <tr>\n",
       "      <th>BIN_RATIO_PRED_REPORTED_INCOME</th>\n",
       "      <th></th>\n",
       "      <th></th>\n",
       "      <th></th>\n",
       "      <th></th>\n",
       "      <th></th>\n",
       "      <th></th>\n",
       "      <th></th>\n",
       "      <th></th>\n",
       "    </tr>\n",
       "  </thead>\n",
       "  <tbody>\n",
       "    <tr>\n",
       "      <th>[-inf, 0.65)</th>\n",
       "      <td>21361.0</td>\n",
       "      <td>697.0</td>\n",
       "      <td>0.0326</td>\n",
       "      <td>0.1719</td>\n",
       "      <td>0.1340</td>\n",
       "      <td>-0.2409</td>\n",
       "      <td>-0.2490</td>\n",
       "      <td>0.1350</td>\n",
       "    </tr>\n",
       "    <tr>\n",
       "      <th>[0.65, 0.9271)</th>\n",
       "      <td>30122.0</td>\n",
       "      <td>886.0</td>\n",
       "      <td>0.0294</td>\n",
       "      <td>0.2185</td>\n",
       "      <td>0.1896</td>\n",
       "      <td>-0.1371</td>\n",
       "      <td>-0.1420</td>\n",
       "      <td>0.1904</td>\n",
       "    </tr>\n",
       "    <tr>\n",
       "      <th>[0.9271, 1.4071)</th>\n",
       "      <td>56015.0</td>\n",
       "      <td>1397.0</td>\n",
       "      <td>0.0249</td>\n",
       "      <td>0.3446</td>\n",
       "      <td>0.3543</td>\n",
       "      <td>0.0266</td>\n",
       "      <td>0.0276</td>\n",
       "      <td>0.3540</td>\n",
       "    </tr>\n",
       "    <tr>\n",
       "      <th>[1.4071, inf)</th>\n",
       "      <td>50734.0</td>\n",
       "      <td>1074.0</td>\n",
       "      <td>0.0212</td>\n",
       "      <td>0.2649</td>\n",
       "      <td>0.3221</td>\n",
       "      <td>0.1875</td>\n",
       "      <td>0.1954</td>\n",
       "      <td>0.3206</td>\n",
       "    </tr>\n",
       "    <tr>\n",
       "      <th>nan</th>\n",
       "      <td>0.0</td>\n",
       "      <td>0.0</td>\n",
       "      <td>NaN</td>\n",
       "      <td>0.0000</td>\n",
       "      <td>0.0000</td>\n",
       "      <td>NaN</td>\n",
       "      <td>-3.6384</td>\n",
       "      <td>0.0000</td>\n",
       "    </tr>\n",
       "  </tbody>\n",
       "</table>\n",
       "</div>"
      ],
      "text/plain": [
       "                                CNT_TOTAL  CNT_DEF  DEF_RATE  DIST_BAD  \\\n",
       "BIN_RATIO_PRED_REPORTED_INCOME                                           \n",
       "[-inf, 0.65)                      21361.0    697.0    0.0326    0.1719   \n",
       "[0.65, 0.9271)                    30122.0    886.0    0.0294    0.2185   \n",
       "[0.9271, 1.4071)                  56015.0   1397.0    0.0249    0.3446   \n",
       "[1.4071, inf)                     50734.0   1074.0    0.0212    0.2649   \n",
       "nan                                   0.0      0.0       NaN    0.0000   \n",
       "\n",
       "                                DIST_GOOD     WOE  WOE_check   SHARE  \n",
       "BIN_RATIO_PRED_REPORTED_INCOME                                        \n",
       "[-inf, 0.65)                       0.1340 -0.2409    -0.2490  0.1350  \n",
       "[0.65, 0.9271)                     0.1896 -0.1371    -0.1420  0.1904  \n",
       "[0.9271, 1.4071)                   0.3543  0.0266     0.0276  0.3540  \n",
       "[1.4071, inf)                      0.3221  0.1875     0.1954  0.3206  \n",
       "nan                                0.0000     NaN    -3.6384  0.0000  "
      ]
     },
     "metadata": {},
     "output_type": "display_data"
    },
    {
     "name": "stdout",
     "output_type": "stream",
     "text": [
      "IV: 0.0250\n",
      "Gini: 8.73\n"
     ]
    },
    {
     "data": {
      "image/png": "[encoded data removed]",
      "text/plain": [
       "<Figure size 720x360 with 2 Axes>"
      ]
     },
     "metadata": {
      "needs_background": "light"
     },
     "output_type": "display_data"
    },
    {
     "data": {
      "text/markdown": [
       "***"
      ],
      "text/plain": [
       "<IPython.core.display.Markdown object>"
      ]
     },
     "metadata": {},
     "output_type": "display_data"
    },
    {
     "data": {
      "text/markdown": [
       "### REPORTED_INCOME"
      ],
      "text/plain": [
       "<IPython.core.display.Markdown object>"
      ]
     },
     "metadata": {},
     "output_type": "display_data"
    },
    {
     "data": {
      "text/html": [
       "<div>\n",
       "<style scoped>\n",
       "    .dataframe tbody tr th:only-of-type {\n",
       "        vertical-align: middle;\n",
       "    }\n",
       "\n",
       "    .dataframe tbody tr th {\n",
       "        vertical-align: top;\n",
       "    }\n",
       "\n",
       "    .dataframe thead th {\n",
       "        text-align: right;\n",
       "    }\n",
       "</style>\n",
       "<table border=\"1\" class=\"dataframe\">\n",
       "  <thead>\n",
       "    <tr style=\"text-align: right;\">\n",
       "      <th></th>\n",
       "      <th>CNT_TOTAL</th>\n",
       "      <th>CNT_DEF</th>\n",
       "      <th>DEF_RATE</th>\n",
       "      <th>DIST_BAD</th>\n",
       "      <th>DIST_GOOD</th>\n",
       "      <th>WOE</th>\n",
       "      <th>WOE_check</th>\n",
       "      <th>SHARE</th>\n",
       "    </tr>\n",
       "    <tr>\n",
       "      <th>BIN_REPORTED_INCOME</th>\n",
       "      <th></th>\n",
       "      <th></th>\n",
       "      <th></th>\n",
       "      <th></th>\n",
       "      <th></th>\n",
       "      <th></th>\n",
       "      <th></th>\n",
       "      <th></th>\n",
       "    </tr>\n",
       "  </thead>\n",
       "  <tbody>\n",
       "    <tr>\n",
       "      <th>[-inf, 17999.9004)</th>\n",
       "      <td>67598.0</td>\n",
       "      <td>1451.0</td>\n",
       "      <td>0.0215</td>\n",
       "      <td>0.3579</td>\n",
       "      <td>0.4290</td>\n",
       "      <td>0.1740</td>\n",
       "      <td>0.1812</td>\n",
       "      <td>0.4272</td>\n",
       "    </tr>\n",
       "    <tr>\n",
       "      <th>[17999.9004, 28599.7002)</th>\n",
       "      <td>54869.0</td>\n",
       "      <td>1436.0</td>\n",
       "      <td>0.0262</td>\n",
       "      <td>0.3542</td>\n",
       "      <td>0.3466</td>\n",
       "      <td>-0.0210</td>\n",
       "      <td>-0.0218</td>\n",
       "      <td>0.3468</td>\n",
       "    </tr>\n",
       "    <tr>\n",
       "      <th>[28599.7002, 41450.0)</th>\n",
       "      <td>25296.0</td>\n",
       "      <td>860.0</td>\n",
       "      <td>0.0340</td>\n",
       "      <td>0.2121</td>\n",
       "      <td>0.1585</td>\n",
       "      <td>-0.2822</td>\n",
       "      <td>-0.2915</td>\n",
       "      <td>0.1599</td>\n",
       "    </tr>\n",
       "    <tr>\n",
       "      <th>[41450.0, inf)</th>\n",
       "      <td>10469.0</td>\n",
       "      <td>307.0</td>\n",
       "      <td>0.0293</td>\n",
       "      <td>0.0757</td>\n",
       "      <td>0.0659</td>\n",
       "      <td>-0.1341</td>\n",
       "      <td>-0.1388</td>\n",
       "      <td>0.0662</td>\n",
       "    </tr>\n",
       "    <tr>\n",
       "      <th>nan</th>\n",
       "      <td>0.0</td>\n",
       "      <td>0.0</td>\n",
       "      <td>NaN</td>\n",
       "      <td>0.0000</td>\n",
       "      <td>0.0000</td>\n",
       "      <td>NaN</td>\n",
       "      <td>-3.6384</td>\n",
       "      <td>0.0000</td>\n",
       "    </tr>\n",
       "  </tbody>\n",
       "</table>\n",
       "</div>"
      ],
      "text/plain": [
       "                          CNT_TOTAL  CNT_DEF  DEF_RATE  DIST_BAD  DIST_GOOD  \\\n",
       "BIN_REPORTED_INCOME                                                           \n",
       "[-inf, 17999.9004)          67598.0   1451.0    0.0215    0.3579     0.4290   \n",
       "[17999.9004, 28599.7002)    54869.0   1436.0    0.0262    0.3542     0.3466   \n",
       "[28599.7002, 41450.0)       25296.0    860.0    0.0340    0.2121     0.1585   \n",
       "[41450.0, inf)              10469.0    307.0    0.0293    0.0757     0.0659   \n",
       "nan                             0.0      0.0       NaN    0.0000     0.0000   \n",
       "\n",
       "                             WOE  WOE_check   SHARE  \n",
       "BIN_REPORTED_INCOME                                  \n",
       "[-inf, 17999.9004)        0.1740     0.1812  0.4272  \n",
       "[17999.9004, 28599.7002) -0.0210    -0.0218  0.3468  \n",
       "[28599.7002, 41450.0)    -0.2822    -0.2915  0.1599  \n",
       "[41450.0, inf)           -0.1341    -0.1388  0.0662  \n",
       "nan                          NaN    -3.6384  0.0000  "
      ]
     },
     "metadata": {},
     "output_type": "display_data"
    },
    {
     "name": "stdout",
     "output_type": "stream",
     "text": [
      "IV: 0.0301\n",
      "Gini: 9.34\n"
     ]
    },
    {
     "data": {
      "image/png": "[encoded data removed]",
      "text/plain": [
       "<Figure size 720x360 with 2 Axes>"
      ]
     },
     "metadata": {
      "needs_background": "light"
     },
     "output_type": "display_data"
    }
   ],
   "source": [
    "grouping.plot_bins(data=df_train, cols_pred_num=cols_pred_num, cols_pred_cat=cols_pred_cat,\n",
    "                    mask = pd.Series(df_train[\"REPORTED_INCOME\"]>=0),col_target=\"RISK_FSTQPD30\", \n",
    "                   output_folder=r\"C:\\Users\\aman.khatri91425\\Desktop\\HomeCredit\\Bigdata\\Common Maps KNN\", col_weight=None)"
   ]
  },
  {
   "cell_type": "code",
   "execution_count": 152,
   "metadata": {},
   "outputs": [
    {
     "name": "stdout",
     "output_type": "stream",
     "text": [
      "Added WOE variables. Number of columns: 25\n"
     ]
    }
   ],
   "source": [
    "woe_columns_to_replace = list()\n",
    "for column in data_woe.columns:\n",
    "    if column in df:\n",
    "        woe_columns_to_replace.append(column)\n",
    "        print('Column', column ,'dropped as it already existed in the data set.')\n",
    "df = df.drop(woe_columns_to_replace, axis='columns')\n",
    "df = df.join(-data_woe)\n",
    "\n",
    "print('Added WOE variables. Number of columns:',df.shape[1])\n",
    "cols_woe = [s + '_WOE' for s in cols_pred_num]"
   ]
  }
 ],
 "metadata": {
  "kernelspec": {
   "display_name": "Python 3",
   "language": "python",
   "name": "python3"
  },
  "language_info": {
   "codemirror_mode": {
    "name": "ipython",
    "version": 3
   },
   "file_extension": ".py",
   "mimetype": "text/x-python",
   "name": "python",
   "nbconvert_exporter": "python",
   "pygments_lexer": "ipython3",
   "version": "3.7.3"
  }
 },
 "nbformat": 4,
 "nbformat_minor": 2
}
