{
 "cells": [
  {
   "cell_type": "code",
   "execution_count": 264,
   "metadata": {},
   "outputs": [],
   "source": [
    "import os\n",
    "import cx_Oracle\n",
    "import pandas as pd\n",
    "import numpy as np\n",
    "import pickle\n",
    "from datetime import date,datetime\n",
    "from sklearn import metrics\n",
    "from sklearn.model_selection import train_test_split, StratifiedKFold, RandomizedSearchCV, cross_val_score \n",
    "import time\n",
    "import matplotlib.pyplot as plt\n",
    "from sklearn.utils import resample\n",
    "import datetime"
   ]
  },
  {
   "cell_type": "markdown",
   "metadata": {},
   "source": [
    "# Data Read And Clean"
   ]
  },
  {
   "cell_type": "code",
   "execution_count": 265,
   "metadata": {},
   "outputs": [],
   "source": [
    "df = pd.read_pickle(r\"C:\\Users\\aman.khatri91425\\Desktop\\HomeCredit\\Bigdata\\Common Maps KNN\\Data Files\\data_dump_income_pred.pkl\")"
   ]
  },
  {
   "cell_type": "code",
   "execution_count": 266,
   "metadata": {
    "scrolled": true
   },
   "outputs": [],
   "source": [
    "df = df[[\"SKP_CREDIT_CASE\",\"TIME_DECISION_DATE\",\"CUS_LAT\",\"CUS_LONG\",\"RISK_FSTQPD30\",\n",
    "\"RISK_SCORE\",\"GRID_ID\",\"CLIENT_INR_INCOME\"]]"
   ]
  },
  {
   "cell_type": "code",
   "execution_count": 267,
   "metadata": {},
   "outputs": [],
   "source": [
    "df.dropna(subset = [\"RISK_SCORE\"], inplace = True)"
   ]
  },
  {
   "cell_type": "code",
   "execution_count": 268,
   "metadata": {},
   "outputs": [],
   "source": [
    "df[\"MONTH_STR\"] = df[\"TIME_DECISION_DATE\"].dt.strftime(\"%Y-%m\")"
   ]
  },
  {
   "cell_type": "markdown",
   "metadata": {},
   "source": [
    "### Remove outliers from income...top 1 percentiles"
   ]
  },
  {
   "cell_type": "code",
   "execution_count": 269,
   "metadata": {},
   "outputs": [],
   "source": [
    "df = df[df[\"CLIENT_INR_INCOME\"]<df[\"CLIENT_INR_INCOME\"].quantile(0.99)]"
   ]
  },
  {
   "cell_type": "markdown",
   "metadata": {},
   "source": [
    "# KNN Implementation"
   ]
  },
  {
   "cell_type": "markdown",
   "metadata": {},
   "source": [
    "### Split in train test validation set "
   ]
  },
  {
   "cell_type": "code",
   "execution_count": 270,
   "metadata": {},
   "outputs": [],
   "source": [
    "# Split Train and Test Data Set\n",
    "df_train = df[(df[\"TIME_DECISION_DATE\"]>=datetime.datetime(2018, 7, 1)) & \n",
    "              (df[\"TIME_DECISION_DATE\"]<=datetime.datetime(2018, 12, 1))]\n",
    "df_valid = df[(df[\"TIME_DECISION_DATE\"]>=datetime.datetime(2019, 1, 1)) & \n",
    "              (df[\"TIME_DECISION_DATE\"]<=datetime.datetime(2019, 1, 31))]\n",
    "df_test = df[(df[\"TIME_DECISION_DATE\"]>=datetime.datetime(2019, 2, 1)) & \n",
    "              (df[\"TIME_DECISION_DATE\"]<=datetime.datetime(2019, 3, 31))]"
   ]
  },
  {
   "cell_type": "code",
   "execution_count": 271,
   "metadata": {},
   "outputs": [
    {
     "name": "stdout",
     "output_type": "stream",
     "text": [
      "(1398762, 9)\n",
      "(297066, 9)\n",
      "(538078, 9)\n"
     ]
    }
   ],
   "source": [
    "print(df_train.shape)\n",
    "print(df_valid.shape)\n",
    "print(df_test.shape)\n"
   ]
  },
  {
   "cell_type": "markdown",
   "metadata": {},
   "source": [
    "### Downsample training data"
   ]
  },
  {
   "cell_type": "code",
   "execution_count": 272,
   "metadata": {},
   "outputs": [],
   "source": [
    "seed = 26\n",
    "df_train= df_train.sample(n=800000, random_state=seed)"
   ]
  },
  {
   "cell_type": "code",
   "execution_count": 273,
   "metadata": {},
   "outputs": [],
   "source": [
    "X_train = df_train[[\"CUS_LAT\",\"CUS_LONG\",\"TIME_DECISION_DATE\"]]\n",
    "X_test = df_test[[\"CUS_LAT\",\"CUS_LONG\",\"TIME_DECISION_DATE\"]]\n",
    "X_valid = df_valid[[\"CUS_LAT\",\"CUS_LONG\",\"TIME_DECISION_DATE\"]]\n",
    "\n",
    "y_train = df_train[\"CLIENT_INR_INCOME\"]\n",
    "y_test =  df_test[\"CLIENT_INR_INCOME\"]\n",
    "y_valid =  df_valid[\"CLIENT_INR_INCOME\"]\n"
   ]
  },
  {
   "cell_type": "markdown",
   "metadata": {},
   "source": [
    "### Calculate optimum K for KNN"
   ]
  },
  {
   "cell_type": "code",
   "execution_count": 274,
   "metadata": {},
   "outputs": [
    {
     "name": "stdout",
     "output_type": "stream",
     "text": [
      "RMSE value for k=  1 is: 7749.076646415858\n",
      "RMSE value for k=  101 is: 5465.435326774326\n",
      "RMSE value for k=  201 is: 5457.099708596304\n",
      "RMSE value for k=  301 is: 5456.051452098188\n",
      "RMSE value for k=  401 is: 5456.231153225755\n",
      "RMSE value for k=  501 is: 5457.216218167015\n",
      "RMSE value for k=  601 is: 5457.876707857313\n",
      "RMSE value for k=  701 is: 5459.289002290872\n",
      "RMSE value for k=  801 is: 5460.624291644202\n",
      "RMSE value for k=  901 is: 5461.947721899473\n"
     ]
    }
   ],
   "source": [
    "from sklearn.neighbors import KNeighborsRegressor\n",
    "rmse_val = [] #to store rmse values for different k\n",
    "for K in np.arange(1,1000,100):\n",
    "    model = KNeighborsRegressor(n_neighbors = K)\n",
    "    model.fit(X_train[[\"CUS_LAT\",\"CUS_LONG\"]], np.ravel(y_train))  #fit the model\n",
    "    pred=model.predict(X_valid[[\"CUS_LAT\",\"CUS_LONG\"]]) #make prediction on valid set\n",
    "    error = np.sqrt(metrics.mean_squared_error(y_valid,pred)) #calculate rmse\n",
    "    rmse_val.append(error) #store rmse values\n",
    "    print('RMSE value for k= ' , K , 'is:', error)\n",
    "    "
   ]
  },
  {
   "cell_type": "code",
   "execution_count": 230,
   "metadata": {},
   "outputs": [
    {
     "data": {
      "text/plain": [
       "<matplotlib.axes._subplots.AxesSubplot at 0x1a86a5cb780>"
      ]
     },
     "execution_count": 230,
     "metadata": {},
     "output_type": "execute_result"
    },
    {
     "data": {
      "image/png": "[encoded data removed]",
      "text/plain": [
       "<Figure size 432x288 with 1 Axes>"
      ]
     },
     "metadata": {
      "needs_background": "light"
     },
     "output_type": "display_data"
    }
   ],
   "source": [
    "curve = pd.DataFrame(rmse_val) #elbow curve \n",
    "curve.plot()"
   ]
  },
  {
   "cell_type": "code",
   "execution_count": 231,
   "metadata": {},
   "outputs": [
    {
     "name": "stdout",
     "output_type": "stream",
     "text": [
      "RMSE value for k=  100 is: 5722.997915624049\n",
      "RMSE value for k=  120 is: 5720.948990813818\n",
      "RMSE value for k=  140 is: 5719.054255144561\n",
      "RMSE value for k=  160 is: 5718.641952329045\n",
      "RMSE value for k=  180 is: 5717.096834696298\n"
     ]
    }
   ],
   "source": [
    "rmse_val = [] #to store rmse values for different k\n",
    "for K in np.arange(100,200,20):\n",
    "    model = KNeighborsRegressor(n_neighbors = K)\n",
    "    model.fit(X_train[[\"CUS_LAT\",\"CUS_LONG\"]], np.ravel(y_train))  #fit the model\n",
    "    pred=model.predict(X_valid[[\"CUS_LAT\",\"CUS_LONG\"]]) #make prediction on valid set\n",
    "    error = np.sqrt(metrics.mean_squared_error(y_valid,pred)) #calculate rmse\n",
    "    rmse_val.append(error) #store rmse values\n",
    "    print('RMSE value for k= ' , K , 'is:', error)"
   ]
  },
  {
   "cell_type": "code",
   "execution_count": 232,
   "metadata": {},
   "outputs": [
    {
     "data": {
      "text/plain": [
       "<matplotlib.axes._subplots.AxesSubplot at 0x1a84c591080>"
      ]
     },
     "execution_count": 232,
     "metadata": {},
     "output_type": "execute_result"
    },
    {
     "data": {
      "image/png": "[encoded data removed]",
      "text/plain": [
       "<Figure size 432x288 with 1 Axes>"
      ]
     },
     "metadata": {
      "needs_background": "light"
     },
     "output_type": "display_data"
    }
   ],
   "source": [
    "curve = pd.DataFrame(rmse_val) #elbow curve \n",
    "curve.plot()"
   ]
  },
  {
   "cell_type": "markdown",
   "metadata": {},
   "source": [
    "### Train model with optimum K"
   ]
  },
  {
   "cell_type": "code",
   "execution_count": 262,
   "metadata": {},
   "outputs": [],
   "source": [
    "from sklearn.neighbors import KNeighborsRegressor\n",
    "# Create KNN classifier\n",
    "model = KNeighborsRegressor(n_neighbors=201)\n",
    "bst = model.fit(X_train[[\"CUS_LAT\",\"CUS_LONG\"]], np.ravel(y_train))\n",
    "pred_train=model.predict(X_train[[\"CUS_LAT\",\"CUS_LONG\"]])\n",
    "pred_valid=model.predict(X_valid[[\"CUS_LAT\",\"CUS_LONG\"]])\n",
    "pred_test=model.predict(X_test[[\"CUS_LAT\",\"CUS_LONG\"]])"
   ]
  },
  {
   "cell_type": "code",
   "execution_count": 263,
   "metadata": {},
   "outputs": [
    {
     "name": "stdout",
     "output_type": "stream",
     "text": [
      "rmse train: 5684.880389343056\n",
      "rmse valid: 5697.5664353805305\n",
      "rmse test: 5590.578893306329\n",
      "rmse test random: 37723.44034301708\n"
     ]
    }
   ],
   "source": [
    "print(\"rmse train:\",np.sqrt(metrics.mean_squared_error(y_train,pred_train)))\n",
    "print(\"rmse valid:\",np.sqrt(metrics.mean_squared_error(y_valid,pred_valid)))\n",
    "print(\"rmse test:\",np.sqrt(metrics.mean_squared_error(y_test,pred_test)))\n",
    "print(\"rmse test random:\",np.sqrt(metrics.mean_squared_error(y_test,pd.Series([-20000]*X_test.shape[0]))))"
   ]
  },
  {
   "cell_type": "code",
   "execution_count": 235,
   "metadata": {},
   "outputs": [
    {
     "name": "stderr",
     "output_type": "stream",
     "text": [
      "C:\\Users\\aman.khatri91425\\AppData\\Local\\Continuum\\anaconda3\\lib\\site-packages\\ipykernel_launcher.py:1: SettingWithCopyWarning: \n",
      "A value is trying to be set on a copy of a slice from a DataFrame.\n",
      "Try using .loc[row_indexer,col_indexer] = value instead\n",
      "\n",
      "See the caveats in the documentation: http://pandas.pydata.org/pandas-docs/stable/indexing.html#indexing-view-versus-copy\n",
      "  \"\"\"Entry point for launching an IPython kernel.\n",
      "C:\\Users\\aman.khatri91425\\AppData\\Local\\Continuum\\anaconda3\\lib\\site-packages\\ipykernel_launcher.py:3: SettingWithCopyWarning: \n",
      "A value is trying to be set on a copy of a slice from a DataFrame.\n",
      "Try using .loc[row_indexer,col_indexer] = value instead\n",
      "\n",
      "See the caveats in the documentation: http://pandas.pydata.org/pandas-docs/stable/indexing.html#indexing-view-versus-copy\n",
      "  This is separate from the ipykernel package so we can avoid doing imports until\n"
     ]
    }
   ],
   "source": [
    "df_test[\"PRED_INCOME\"] = pred_test\n",
    "df_train[\"PRED_INCOME\"] = pred_train\n",
    "df_valid[\"PRED_INCOME\"] = pred_valid"
   ]
  },
  {
   "cell_type": "markdown",
   "metadata": {},
   "source": [
    "# KNN Implementation-Remove Defaults from training data"
   ]
  },
  {
   "cell_type": "markdown",
   "metadata": {},
   "source": [
    "### Split in train test validation set "
   ]
  },
  {
   "cell_type": "code",
   "execution_count": 236,
   "metadata": {},
   "outputs": [],
   "source": [
    "# Split Train and Test Data Set\n",
    "df_train = df[(df[\"TIME_DECISION_DATE\"]>=datetime.datetime(2018, 7, 1)) & \n",
    "              (df[\"TIME_DECISION_DATE\"]<=datetime.datetime(2018, 12, 1))]"
   ]
  },
  {
   "cell_type": "code",
   "execution_count": 237,
   "metadata": {},
   "outputs": [
    {
     "name": "stdout",
     "output_type": "stream",
     "text": [
      "(2430229, 12)\n",
      "(228583, 13)\n",
      "(380117, 13)\n"
     ]
    }
   ],
   "source": [
    "print(df_train.shape)\n",
    "print(df_valid.shape)\n",
    "print(df_test.shape)\n"
   ]
  },
  {
   "cell_type": "markdown",
   "metadata": {},
   "source": [
    "### Downsample training data"
   ]
  },
  {
   "cell_type": "code",
   "execution_count": 238,
   "metadata": {},
   "outputs": [],
   "source": [
    "df_train= df_train[df_train[\"RISK_FSTQPD30\"] == 0]\n",
    "seed = 26\n",
    "df_train= df_train.sample(n=800000, random_state=seed)"
   ]
  },
  {
   "cell_type": "code",
   "execution_count": 239,
   "metadata": {},
   "outputs": [],
   "source": [
    "X_train = df_train[[\"CUS_LAT\",\"CUS_LONG\",\"TIME_DECISION_DATE\"]]\n",
    "X_test = df_test[[\"CUS_LAT\",\"CUS_LONG\",\"TIME_DECISION_DATE\"]]\n",
    "X_valid = df_valid[[\"CUS_LAT\",\"CUS_LONG\",\"TIME_DECISION_DATE\"]]\n",
    "\n",
    "y_train = df_train[\"CLIENT_INR_INCOME\"]\n",
    "y_test =  df_test[\"CLIENT_INR_INCOME\"]\n",
    "y_valid =  df_valid[\"CLIENT_INR_INCOME\"]\n"
   ]
  },
  {
   "cell_type": "markdown",
   "metadata": {},
   "source": [
    "### Calculate optimum K for KNN"
   ]
  },
  {
   "cell_type": "code",
   "execution_count": 240,
   "metadata": {},
   "outputs": [
    {
     "name": "stdout",
     "output_type": "stream",
     "text": [
      "RMSE value for k=  1 is: 7998.866118753193\n",
      "RMSE value for k=  101 is: 5723.14605034076\n",
      "RMSE value for k=  201 is: 5717.468642400547\n",
      "RMSE value for k=  301 is: 5717.809101527916\n",
      "RMSE value for k=  401 is: 5719.5731376310005\n",
      "RMSE value for k=  501 is: 5721.9621819124695\n",
      "RMSE value for k=  601 is: 5723.422184648048\n",
      "RMSE value for k=  701 is: 5724.585832613288\n",
      "RMSE value for k=  801 is: 5725.887436365523\n",
      "RMSE value for k=  901 is: 5727.761812766816\n"
     ]
    }
   ],
   "source": [
    "from sklearn.neighbors import KNeighborsRegressor\n",
    "rmse_val = [] #to store rmse values for different k\n",
    "for K in np.arange(1,1000,100):\n",
    "    model = KNeighborsRegressor(n_neighbors = K)\n",
    "    model.fit(X_train[[\"CUS_LAT\",\"CUS_LONG\"]], np.ravel(y_train))  #fit the model\n",
    "    pred=model.predict(X_valid[[\"CUS_LAT\",\"CUS_LONG\"]]) #make prediction on valid set\n",
    "    error = np.sqrt(metrics.mean_squared_error(y_valid,pred)) #calculate rmse\n",
    "    rmse_val.append(error) #store rmse values\n",
    "    print('RMSE value for k= ' , K , 'is:', error)\n",
    "    "
   ]
  },
  {
   "cell_type": "code",
   "execution_count": 241,
   "metadata": {},
   "outputs": [
    {
     "data": {
      "text/plain": [
       "<matplotlib.axes._subplots.AxesSubplot at 0x1a8672347b8>"
      ]
     },
     "execution_count": 241,
     "metadata": {},
     "output_type": "execute_result"
    },
    {
     "data": {
      "image/png": "[encoded data removed]",
      "text/plain": [
       "<Figure size 432x288 with 1 Axes>"
      ]
     },
     "metadata": {
      "needs_background": "light"
     },
     "output_type": "display_data"
    }
   ],
   "source": [
    "curve = pd.DataFrame(rmse_val) #elbow curve \n",
    "curve.plot()"
   ]
  },
  {
   "cell_type": "code",
   "execution_count": 242,
   "metadata": {},
   "outputs": [
    {
     "name": "stdout",
     "output_type": "stream",
     "text": [
      "RMSE value for k=  100 is: 5723.3787888584875\n",
      "RMSE value for k=  120 is: 5721.533502226133\n",
      "RMSE value for k=  140 is: 5720.197618064238\n",
      "RMSE value for k=  160 is: 5718.877870631169\n",
      "RMSE value for k=  180 is: 5717.74316625253\n"
     ]
    }
   ],
   "source": [
    "rmse_val = [] #to store rmse values for different k\n",
    "for K in np.arange(100,200,20):\n",
    "    model = KNeighborsRegressor(n_neighbors = K)\n",
    "    model.fit(X_train[[\"CUS_LAT\",\"CUS_LONG\"]], np.ravel(y_train))  #fit the model\n",
    "    pred=model.predict(X_valid[[\"CUS_LAT\",\"CUS_LONG\"]]) #make prediction on valid set\n",
    "    error = np.sqrt(metrics.mean_squared_error(y_valid,pred)) #calculate rmse\n",
    "    rmse_val.append(error) #store rmse values\n",
    "    print('RMSE value for k= ' , K , 'is:', error)"
   ]
  },
  {
   "cell_type": "code",
   "execution_count": 243,
   "metadata": {},
   "outputs": [
    {
     "data": {
      "text/plain": [
       "<matplotlib.axes._subplots.AxesSubplot at 0x1a86c359940>"
      ]
     },
     "execution_count": 243,
     "metadata": {},
     "output_type": "execute_result"
    },
    {
     "data": {
      "image/png": "[encoded data removed]",
      "text/plain": [
       "<Figure size 432x288 with 1 Axes>"
      ]
     },
     "metadata": {
      "needs_background": "light"
     },
     "output_type": "display_data"
    }
   ],
   "source": [
    "curve = pd.DataFrame(rmse_val) #elbow curve \n",
    "curve.plot()"
   ]
  },
  {
   "cell_type": "markdown",
   "metadata": {},
   "source": [
    "### Train model with optimum K"
   ]
  },
  {
   "cell_type": "code",
   "execution_count": 244,
   "metadata": {},
   "outputs": [],
   "source": [
    "from sklearn.neighbors import KNeighborsRegressor\n",
    "# Create KNN classifier\n",
    "model = KNeighborsRegressor(n_neighbors=201)\n",
    "bst = model.fit(X_train[[\"CUS_LAT\",\"CUS_LONG\"]], np.ravel(y_train))\n",
    "pred_train=model.predict(X_train[[\"CUS_LAT\",\"CUS_LONG\"]])\n",
    "pred_valid=model.predict(X_valid[[\"CUS_LAT\",\"CUS_LONG\"]])\n",
    "pred_test=model.predict(X_test[[\"CUS_LAT\",\"CUS_LONG\"]])"
   ]
  },
  {
   "cell_type": "code",
   "execution_count": 245,
   "metadata": {},
   "outputs": [
    {
     "name": "stdout",
     "output_type": "stream",
     "text": [
      "rmse train: 5766.309797222712\n",
      "rmse valid: 5717.468642400547\n",
      "rmse test: 5607.053299787021\n",
      "rmse test random: 37723.44034301708\n"
     ]
    }
   ],
   "source": [
    "print(\"rmse train:\",np.sqrt(metrics.mean_squared_error(y_train,pred_train)))\n",
    "print(\"rmse valid:\",np.sqrt(metrics.mean_squared_error(y_valid,pred_valid)))\n",
    "print(\"rmse test:\",np.sqrt(metrics.mean_squared_error(y_test,pred_test)))\n",
    "print(\"rmse test random:\",np.sqrt(metrics.mean_squared_error(y_test,pd.Series([-20000]*X_test.shape[0]))))"
   ]
  },
  {
   "cell_type": "code",
   "execution_count": 246,
   "metadata": {},
   "outputs": [
    {
     "name": "stderr",
     "output_type": "stream",
     "text": [
      "C:\\Users\\aman.khatri91425\\AppData\\Local\\Continuum\\anaconda3\\lib\\site-packages\\ipykernel_launcher.py:1: SettingWithCopyWarning: \n",
      "A value is trying to be set on a copy of a slice from a DataFrame.\n",
      "Try using .loc[row_indexer,col_indexer] = value instead\n",
      "\n",
      "See the caveats in the documentation: http://pandas.pydata.org/pandas-docs/stable/indexing.html#indexing-view-versus-copy\n",
      "  \"\"\"Entry point for launching an IPython kernel.\n",
      "C:\\Users\\aman.khatri91425\\AppData\\Local\\Continuum\\anaconda3\\lib\\site-packages\\ipykernel_launcher.py:3: SettingWithCopyWarning: \n",
      "A value is trying to be set on a copy of a slice from a DataFrame.\n",
      "Try using .loc[row_indexer,col_indexer] = value instead\n",
      "\n",
      "See the caveats in the documentation: http://pandas.pydata.org/pandas-docs/stable/indexing.html#indexing-view-versus-copy\n",
      "  This is separate from the ipykernel package so we can avoid doing imports until\n"
     ]
    }
   ],
   "source": [
    "df_test[\"PRED_INCOME_NON_DEF\"] = pred_test\n",
    "df_train[\"PRED_INCOME_NON_DEF\"] = pred_train\n",
    "df_valid[\"PRED_INCOME_NON_DEF\"] = pred_valid"
   ]
  },
  {
   "cell_type": "markdown",
   "metadata": {},
   "source": [
    "### Comparison of RMSE with Default/Non Default "
   ]
  },
  {
   "cell_type": "code",
   "execution_count": 247,
   "metadata": {},
   "outputs": [
    {
     "name": "stdout",
     "output_type": "stream",
     "text": [
      "RMSE DEFAULT: 5713.227162177654\n",
      "RMSE NON DEFAULT: 5593.961268981419\n"
     ]
    }
   ],
   "source": [
    "print(\"RMSE DEFAULT:\",np.sqrt(metrics.mean_squared_error(df_test.loc[df_test[\"RISK_FSTQPD30\"]==1,\"PRED_INCOME\"],df_test.loc[df_test[\"RISK_FSTQPD30\"]==1,\"CLIENT_INR_INCOME\"])))\n",
    "print(\"RMSE NON DEFAULT:\",np.sqrt(metrics.mean_squared_error(df_test.loc[df_test[\"RISK_FSTQPD30\"]==0,\"PRED_INCOME\"],df_test.loc[df_test[\"RISK_FSTQPD30\"]==0,\"CLIENT_INR_INCOME\"])))"
   ]
  },
  {
   "cell_type": "code",
   "execution_count": 248,
   "metadata": {
    "scrolled": true
   },
   "outputs": [
    {
     "name": "stdout",
     "output_type": "stream",
     "text": [
      "RMSE DEFAULT: 5713.7548697303\n",
      "RMSE NON DEFAULT: 5594.979226514761\n"
     ]
    }
   ],
   "source": [
    "print(\"RMSE DEFAULT:\",np.sqrt(metrics.mean_squared_error(df_test.loc[df_test[\"RISK_FSTQPD30\"]==1,\"PRED_INCOME_NON_DEF\"],df_test.loc[df_test[\"RISK_FSTQPD30\"]==1,\"CLIENT_INR_INCOME\"])))\n",
    "print(\"RMSE NON DEFAULT:\",np.sqrt(metrics.mean_squared_error(df_test.loc[df_test[\"RISK_FSTQPD30\"]==0,\"PRED_INCOME_NON_DEF\"],df_test.loc[df_test[\"RISK_FSTQPD30\"]==0,\"CLIENT_INR_INCOME\"])))"
   ]
  },
  {
   "cell_type": "markdown",
   "metadata": {},
   "source": [
    "### Client income of Default/Non Default "
   ]
  },
  {
   "cell_type": "code",
   "execution_count": 249,
   "metadata": {},
   "outputs": [
    {
     "data": {
      "text/html": [
       "<div>\n",
       "<style scoped>\n",
       "    .dataframe tbody tr th:only-of-type {\n",
       "        vertical-align: middle;\n",
       "    }\n",
       "\n",
       "    .dataframe tbody tr th {\n",
       "        vertical-align: top;\n",
       "    }\n",
       "\n",
       "    .dataframe thead th {\n",
       "        text-align: right;\n",
       "    }\n",
       "</style>\n",
       "<table border=\"1\" class=\"dataframe\">\n",
       "  <thead>\n",
       "    <tr style=\"text-align: right;\">\n",
       "      <th></th>\n",
       "      <th>CLIENT_INR_INCOME</th>\n",
       "    </tr>\n",
       "    <tr>\n",
       "      <th>RISK_FSTQPD30</th>\n",
       "      <th></th>\n",
       "    </tr>\n",
       "  </thead>\n",
       "  <tbody>\n",
       "    <tr>\n",
       "      <th>0</th>\n",
       "      <td>17214.633380</td>\n",
       "    </tr>\n",
       "    <tr>\n",
       "      <th>1</th>\n",
       "      <td>17599.013977</td>\n",
       "    </tr>\n",
       "  </tbody>\n",
       "</table>\n",
       "</div>"
      ],
      "text/plain": [
       "               CLIENT_INR_INCOME\n",
       "RISK_FSTQPD30                   \n",
       "0                   17214.633380\n",
       "1                   17599.013977"
      ]
     },
     "execution_count": 249,
     "metadata": {},
     "output_type": "execute_result"
    }
   ],
   "source": [
    "df_test[[\"CLIENT_INR_INCOME\",\"RISK_FSTQPD30\"]].groupby(\"RISK_FSTQPD30\").mean()"
   ]
  },
  {
   "cell_type": "code",
   "execution_count": 250,
   "metadata": {},
   "outputs": [
    {
     "data": {
      "text/html": [
       "<div>\n",
       "<style scoped>\n",
       "    .dataframe tbody tr th:only-of-type {\n",
       "        vertical-align: middle;\n",
       "    }\n",
       "\n",
       "    .dataframe tbody tr th {\n",
       "        vertical-align: top;\n",
       "    }\n",
       "\n",
       "    .dataframe thead th {\n",
       "        text-align: right;\n",
       "    }\n",
       "</style>\n",
       "<table border=\"1\" class=\"dataframe\">\n",
       "  <thead>\n",
       "    <tr style=\"text-align: right;\">\n",
       "      <th></th>\n",
       "      <th>PRED_INCOME</th>\n",
       "    </tr>\n",
       "    <tr>\n",
       "      <th>RISK_FSTQPD30</th>\n",
       "      <th></th>\n",
       "    </tr>\n",
       "  </thead>\n",
       "  <tbody>\n",
       "    <tr>\n",
       "      <th>0</th>\n",
       "      <td>16843.170169</td>\n",
       "    </tr>\n",
       "    <tr>\n",
       "      <th>1</th>\n",
       "      <td>17027.221782</td>\n",
       "    </tr>\n",
       "  </tbody>\n",
       "</table>\n",
       "</div>"
      ],
      "text/plain": [
       "                PRED_INCOME\n",
       "RISK_FSTQPD30              \n",
       "0              16843.170169\n",
       "1              17027.221782"
      ]
     },
     "execution_count": 250,
     "metadata": {},
     "output_type": "execute_result"
    }
   ],
   "source": [
    "df_test[[\"PRED_INCOME\",\"RISK_FSTQPD30\"]].groupby(\"RISK_FSTQPD30\").mean()"
   ]
  },
  {
   "cell_type": "code",
   "execution_count": 251,
   "metadata": {},
   "outputs": [
    {
     "data": {
      "text/html": [
       "<div>\n",
       "<style scoped>\n",
       "    .dataframe tbody tr th:only-of-type {\n",
       "        vertical-align: middle;\n",
       "    }\n",
       "\n",
       "    .dataframe tbody tr th {\n",
       "        vertical-align: top;\n",
       "    }\n",
       "\n",
       "    .dataframe thead th {\n",
       "        text-align: right;\n",
       "    }\n",
       "</style>\n",
       "<table border=\"1\" class=\"dataframe\">\n",
       "  <thead>\n",
       "    <tr style=\"text-align: right;\">\n",
       "      <th></th>\n",
       "      <th>PRED_INCOME_NON_DEF</th>\n",
       "    </tr>\n",
       "    <tr>\n",
       "      <th>RISK_FSTQPD30</th>\n",
       "      <th></th>\n",
       "    </tr>\n",
       "  </thead>\n",
       "  <tbody>\n",
       "    <tr>\n",
       "      <th>0</th>\n",
       "      <td>16857.828201</td>\n",
       "    </tr>\n",
       "    <tr>\n",
       "      <th>1</th>\n",
       "      <td>17045.784511</td>\n",
       "    </tr>\n",
       "  </tbody>\n",
       "</table>\n",
       "</div>"
      ],
      "text/plain": [
       "               PRED_INCOME_NON_DEF\n",
       "RISK_FSTQPD30                     \n",
       "0                     16857.828201\n",
       "1                     17045.784511"
      ]
     },
     "execution_count": 251,
     "metadata": {},
     "output_type": "execute_result"
    }
   ],
   "source": [
    "df_test[[\"PRED_INCOME_NON_DEF\",\"RISK_FSTQPD30\"]].groupby(\"RISK_FSTQPD30\").mean()"
   ]
  },
  {
   "cell_type": "code",
   "execution_count": 252,
   "metadata": {},
   "outputs": [
    {
     "data": {
      "text/plain": [
       "array([[<matplotlib.axes._subplots.AxesSubplot object at 0x000001A86D428240>]],\n",
       "      dtype=object)"
      ]
     },
     "execution_count": 252,
     "metadata": {},
     "output_type": "execute_result"
    },
    {
     "data": {
      "image/png": "[encoded data removed]",
      "text/plain": [
       "<Figure size 432x288 with 1 Axes>"
      ]
     },
     "metadata": {
      "needs_background": "light"
     },
     "output_type": "display_data"
    }
   ],
   "source": [
    "df_test[[\"CLIENT_INR_INCOME\"]].hist(bins=30)"
   ]
  },
  {
   "cell_type": "code",
   "execution_count": 253,
   "metadata": {},
   "outputs": [
    {
     "data": {
      "text/plain": [
       "array([[<matplotlib.axes._subplots.AxesSubplot object at 0x000001A860920198>]],\n",
       "      dtype=object)"
      ]
     },
     "execution_count": 253,
     "metadata": {},
     "output_type": "execute_result"
    },
    {
     "data": {
      "image/png": "[encoded data removed]",
      "text/plain": [
       "<Figure size 432x288 with 1 Axes>"
      ]
     },
     "metadata": {
      "needs_background": "light"
     },
     "output_type": "display_data"
    }
   ],
   "source": [
    "df_test[[\"PRED_INCOME\"]].hist(bins=30)"
   ]
  },
  {
   "cell_type": "code",
   "execution_count": 254,
   "metadata": {},
   "outputs": [
    {
     "data": {
      "text/plain": [
       "array([[<matplotlib.axes._subplots.AxesSubplot object at 0x000001A86BD0F4A8>]],\n",
       "      dtype=object)"
      ]
     },
     "execution_count": 254,
     "metadata": {},
     "output_type": "execute_result"
    },
    {
     "data": {
      "image/png": "[encoded data removed]",
      "text/plain": [
       "<Figure size 432x288 with 1 Axes>"
      ]
     },
     "metadata": {
      "needs_background": "light"
     },
     "output_type": "display_data"
    }
   ],
   "source": [
    "df_test[[\"PRED_INCOME_NON_DEF\"]].hist(bins=30)"
   ]
  },
  {
   "cell_type": "code",
   "execution_count": null,
   "metadata": {},
   "outputs": [],
   "source": []
  },
  {
   "cell_type": "markdown",
   "metadata": {},
   "source": [
    "# Grid Conversions"
   ]
  },
  {
   "cell_type": "code",
   "execution_count": 153,
   "metadata": {},
   "outputs": [],
   "source": [
    "grid_income = df_train[[\"GRID_ID\",\"PRED_INCOME\"]].groupby(by = \"GRID_ID\").mean().reset_index()"
   ]
  },
  {
   "cell_type": "code",
   "execution_count": 154,
   "metadata": {},
   "outputs": [],
   "source": [
    "grid_income.columns = [\"GRID_ID\",\"PRED_INCOME_G\"]"
   ]
  },
  {
   "cell_type": "code",
   "execution_count": 156,
   "metadata": {},
   "outputs": [],
   "source": [
    "df_test= df_test.merge(grid_income, on= \"GRID_ID\")"
   ]
  },
  {
   "cell_type": "code",
   "execution_count": 158,
   "metadata": {},
   "outputs": [
    {
     "name": "stdout",
     "output_type": "stream",
     "text": [
      "rmse train: 5741.299134432563\n",
      "rmse valid: 5716.554338275181\n",
      "rmse test: 5605.38983452086\n",
      "rmse test with grid: 5597.3340261154\n",
      "rmse test random: 37723.44034301708\n"
     ]
    }
   ],
   "source": [
    "print(\"rmse train:\",np.sqrt(metrics.mean_squared_error(y_train,pred_train)))\n",
    "print(\"rmse valid:\",np.sqrt(metrics.mean_squared_error(y_valid,pred_valid)))\n",
    "print(\"rmse test:\",np.sqrt(metrics.mean_squared_error(y_test,pred_test)))\n",
    "print(\"rmse test with grid:\",np.sqrt(metrics.mean_squared_error(df_test.CLIENT_INR_INCOME,df_test.PRED_INCOME_G)))\n",
    "print(\"rmse test random:\",np.sqrt(metrics.mean_squared_error(y_test,pd.Series([-20000]*X_test.shape[0]))))"
   ]
  },
  {
   "cell_type": "code",
   "execution_count": null,
   "metadata": {},
   "outputs": [],
   "source": []
  },
  {
   "cell_type": "markdown",
   "metadata": {},
   "source": [
    "# Check on Pallavi's Data"
   ]
  },
  {
   "cell_type": "code",
   "execution_count": 107,
   "metadata": {},
   "outputs": [],
   "source": [
    "os.chdir(r\"C:\\Users\\aman.khatri91425\\Desktop\\HomeCredit\\Bigdata\\Common Maps KNN\\Data Files\")"
   ]
  },
  {
   "cell_type": "code",
   "execution_count": 108,
   "metadata": {},
   "outputs": [],
   "source": [
    "df1= pd.read_csv(\"income_pred_csv_to_latlng.csv\",encoding='latin' )\n",
    "df2= pd.read_csv(\"income_validation_1.csv\",encoding='latin')"
   ]
  },
  {
   "cell_type": "code",
   "execution_count": 109,
   "metadata": {},
   "outputs": [
    {
     "data": {
      "text/html": [
       "<div>\n",
       "<style scoped>\n",
       "    .dataframe tbody tr th:only-of-type {\n",
       "        vertical-align: middle;\n",
       "    }\n",
       "\n",
       "    .dataframe tbody tr th {\n",
       "        vertical-align: top;\n",
       "    }\n",
       "\n",
       "    .dataframe thead th {\n",
       "        text-align: right;\n",
       "    }\n",
       "</style>\n",
       "<table border=\"1\" class=\"dataframe\">\n",
       "  <thead>\n",
       "    <tr style=\"text-align: right;\">\n",
       "      <th></th>\n",
       "      <th>SKP_CREDIT_CASE</th>\n",
       "      <th>LAT</th>\n",
       "      <th>LONG</th>\n",
       "      <th>GRID_ID</th>\n",
       "    </tr>\n",
       "  </thead>\n",
       "  <tbody>\n",
       "    <tr>\n",
       "      <th>0</th>\n",
       "      <td>295138607</td>\n",
       "      <td>28.675737</td>\n",
       "      <td>77.331007</td>\n",
       "      <td>500_01866_04675</td>\n",
       "    </tr>\n",
       "    <tr>\n",
       "      <th>1</th>\n",
       "      <td>293048432</td>\n",
       "      <td>28.660962</td>\n",
       "      <td>77.318802</td>\n",
       "      <td>500_01864_04672</td>\n",
       "    </tr>\n",
       "    <tr>\n",
       "      <th>2</th>\n",
       "      <td>291974795</td>\n",
       "      <td>21.167083</td>\n",
       "      <td>72.874148</td>\n",
       "      <td>500_00927_03075</td>\n",
       "    </tr>\n",
       "    <tr>\n",
       "      <th>3</th>\n",
       "      <td>293786585</td>\n",
       "      <td>26.199213</td>\n",
       "      <td>78.136438</td>\n",
       "      <td>500_02014_04134</td>\n",
       "    </tr>\n",
       "    <tr>\n",
       "      <th>4</th>\n",
       "      <td>294747993</td>\n",
       "      <td>26.842516</td>\n",
       "      <td>80.865453</td>\n",
       "      <td>500_02548_04272</td>\n",
       "    </tr>\n",
       "  </tbody>\n",
       "</table>\n",
       "</div>"
      ],
      "text/plain": [
       "   SKP_CREDIT_CASE        LAT       LONG          GRID_ID\n",
       "0        295138607  28.675737  77.331007  500_01866_04675\n",
       "1        293048432  28.660962  77.318802  500_01864_04672\n",
       "2        291974795  21.167083  72.874148  500_00927_03075\n",
       "3        293786585  26.199213  78.136438  500_02014_04134\n",
       "4        294747993  26.842516  80.865453  500_02548_04272"
      ]
     },
     "execution_count": 109,
     "metadata": {},
     "output_type": "execute_result"
    }
   ],
   "source": [
    "df1.head()"
   ]
  },
  {
   "cell_type": "code",
   "execution_count": 110,
   "metadata": {},
   "outputs": [],
   "source": [
    "df2 = df2.merge(df1, on = 'SKP_CREDIT_CASE')"
   ]
  },
  {
   "cell_type": "code",
   "execution_count": 124,
   "metadata": {},
   "outputs": [],
   "source": [
    "df2.dropna(subset=[\"LAT\",\"LONG\",\"GRID_ID\"],inplace = True)"
   ]
  },
  {
   "cell_type": "code",
   "execution_count": 125,
   "metadata": {},
   "outputs": [
    {
     "data": {
      "text/plain": [
       "Index(['ID_CONTRACT', 'INCOME_DIFFERENCE', 'CODE', 'VALID', 'REASON',\n",
       "       'INC_TYPE', 'DECLARED_INCOME', 'VERIFIED_INCOME', 'INC_DIF', 'COMMENTS',\n",
       "       'SKP_CREDIT_CASE', 'SKP_CLIENT', 'TEXT_STREET_NUMBER', 'NAME_STREET',\n",
       "       'NAME_LOCALITY', 'NAME_TOWN', 'NAME_REGION', 'NAME_DISTRICT',\n",
       "       'CODE_ZIP_CODE', 'CLIENT_INR_INCOME', 'LAT', 'LONG', 'GRID_ID'],\n",
       "      dtype='object')"
      ]
     },
     "execution_count": 125,
     "metadata": {},
     "output_type": "execute_result"
    }
   ],
   "source": [
    "df2.columns"
   ]
  },
  {
   "cell_type": "code",
   "execution_count": 126,
   "metadata": {},
   "outputs": [],
   "source": [
    "df_valid = df2[['SKP_CREDIT_CASE','LAT', 'LONG', 'GRID_ID', 'CODE', 'VALID', 'REASON',\n",
    "       'INC_TYPE', 'DECLARED_INCOME', 'VERIFIED_INCOME',  'COMMENTS', 'CLIENT_INR_INCOME']]"
   ]
  },
  {
   "cell_type": "code",
   "execution_count": 127,
   "metadata": {},
   "outputs": [
    {
     "name": "stderr",
     "output_type": "stream",
     "text": [
      "C:\\Users\\aman.khatri91425\\AppData\\Local\\Continuum\\anaconda3\\lib\\site-packages\\ipykernel_launcher.py:1: SettingWithCopyWarning: \n",
      "A value is trying to be set on a copy of a slice from a DataFrame.\n",
      "Try using .loc[row_indexer,col_indexer] = value instead\n",
      "\n",
      "See the caveats in the documentation: http://pandas.pydata.org/pandas-docs/stable/indexing.html#indexing-view-versus-copy\n",
      "  \"\"\"Entry point for launching an IPython kernel.\n",
      "C:\\Users\\aman.khatri91425\\AppData\\Local\\Continuum\\anaconda3\\lib\\site-packages\\ipykernel_launcher.py:2: SettingWithCopyWarning: \n",
      "A value is trying to be set on a copy of a slice from a DataFrame.\n",
      "Try using .loc[row_indexer,col_indexer] = value instead\n",
      "\n",
      "See the caveats in the documentation: http://pandas.pydata.org/pandas-docs/stable/indexing.html#indexing-view-versus-copy\n",
      "  \n"
     ]
    }
   ],
   "source": [
    "df_valid[\"DECLARED_INCOME\"] = [x.upper().replace(\"DECLARED_INCOME-\",\"\").replace(\"NA\",\"\").replace(\" \",\"\") for x in df_valid[\"DECLARED_INCOME\"]]\n",
    "df_valid[\"VERIFIED_INCOME\"] = [x.upper().replace(\"VERIFIED_INCOME-\",\"\").replace(\"NA\",\"\").replace(\" \",\"\") for x in df_valid[\"VERIFIED_INCOME\"]]"
   ]
  },
  {
   "cell_type": "code",
   "execution_count": 128,
   "metadata": {},
   "outputs": [
    {
     "name": "stderr",
     "output_type": "stream",
     "text": [
      "C:\\Users\\aman.khatri91425\\AppData\\Local\\Continuum\\anaconda3\\lib\\site-packages\\ipykernel_launcher.py:6: UserWarning: This pattern has match groups. To actually get the groups, use str.extract.\n",
      "  \n"
     ]
    }
   ],
   "source": [
    "import re\n",
    "\n",
    "BAD_CHARS = ['&', '(', ')', ';', '-', '_', '>', '<', '=']\n",
    "pat = '|'.join(['({})'.format(re.escape(c)) for c in BAD_CHARS])\n",
    "\n",
    "df_valid = df_valid[~df_valid['VERIFIED_INCOME'].str.contains(pat)]"
   ]
  },
  {
   "cell_type": "code",
   "execution_count": null,
   "metadata": {},
   "outputs": [],
   "source": []
  },
  {
   "cell_type": "code",
   "execution_count": 129,
   "metadata": {},
   "outputs": [
    {
     "data": {
      "text/plain": [
       "(12939, 12)"
      ]
     },
     "execution_count": 129,
     "metadata": {},
     "output_type": "execute_result"
    }
   ],
   "source": [
    "df_valid.shape"
   ]
  },
  {
   "cell_type": "code",
   "execution_count": 134,
   "metadata": {},
   "outputs": [],
   "source": [
    "df_valid.VERIFIED_INCOME= pd.to_numeric(df_valid.VERIFIED_INCOME)\n",
    "df_valid.DECLARED_INCOME= pd.to_numeric(df_valid.DECLARED_INCOME)"
   ]
  },
  {
   "cell_type": "code",
   "execution_count": 135,
   "metadata": {},
   "outputs": [],
   "source": [
    "df_valid[\"PRED_INCOME\"] = model.predict(df_valid[[\"LAT\",\"LONG\"]])"
   ]
  },
  {
   "cell_type": "code",
   "execution_count": 137,
   "metadata": {},
   "outputs": [],
   "source": [
    "df_valid.to_csv(\"income_pred_output.csv\")"
   ]
  },
  {
   "cell_type": "code",
   "execution_count": null,
   "metadata": {},
   "outputs": [],
   "source": []
  }
 ],
 "metadata": {
  "kernelspec": {
   "display_name": "Python 3",
   "language": "python",
   "name": "python3"
  },
  "language_info": {
   "codemirror_mode": {
    "name": "ipython",
    "version": 3
   },
   "file_extension": ".py",
   "mimetype": "text/x-python",
   "name": "python",
   "nbconvert_exporter": "python",
   "pygments_lexer": "ipython3",
   "version": "3.7.3"
  }
 },
 "nbformat": 4,
 "nbformat_minor": 2
}
