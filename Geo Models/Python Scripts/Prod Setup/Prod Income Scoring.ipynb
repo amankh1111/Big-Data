{
 "cells": [
  {
   "cell_type": "code",
   "execution_count": 1,
   "metadata": {},
   "outputs": [],
   "source": [
    "import os\n",
    "import cx_Oracle\n",
    "import pandas as pd\n",
    "import numpy as np\n",
    "import pickle\n",
    "from datetime import date,datetime\n",
    "from sklearn import metrics\n",
    "from sklearn.model_selection import train_test_split, StratifiedKFold, RandomizedSearchCV, cross_val_score \n",
    "import time\n",
    "import matplotlib.pyplot as plt\n",
    "from sklearn.utils import resample\n",
    "import datetime"
   ]
  },
  {
   "cell_type": "code",
   "execution_count": 2,
   "metadata": {},
   "outputs": [],
   "source": [
    "os.chdir(r\"C:\\Users\\aman.khatri91425\\Desktop\\HomeCredit\\Bigdata\\Common Maps KNN\\Data Files\")"
   ]
  },
  {
   "cell_type": "markdown",
   "metadata": {},
   "source": [
    "### Query for Data Download"
   ]
  },
  {
   "cell_type": "code",
   "execution_count": null,
   "metadata": {},
   "outputs": [],
   "source": [
    "# drop table bd_geo_delinq;\n",
    "# create table bd_geo_delinq as\n",
    "# select * from\n",
    "# (\n",
    "# select a.skp_credit_case, a.DATE_decision, a.latitude as cus_lat, a.longitude as cus_long, grid_id,\n",
    "# b.RISK_FPD10, b.RISK_FPD30, b.RISK_FSTQPD30, b.client_inr_income,\n",
    "# b.PRODUCT_GROUP,case when score_cb<300 then 'NTC' else 'Others' end  as NTC_FLAG,  \n",
    "# row_number() over (partition by a.skp_credit_case order by a.DATE_decision asc) as rnk\n",
    "# from AP_BI.bd_geo a \n",
    "# join  \n",
    "# (select * from\n",
    "# uw_daily_data_all \n",
    "# where time_decision_date >= trunc(sysdate)-500\n",
    "# )b\n",
    "# on a.skp_credit_case = b.skp_credit_case \n",
    "# where a.date_decision >= trunc(sysdate)-500\n",
    "# and a.latitude is not null \n",
    "# and a.longitude is not null \n",
    "# and a.result = 'FOUND'\n",
    "# and lower(DECISION_OVERALL) = 'approved'\n",
    "# ) a\n",
    "# where rnk = 1\n",
    "# ;"
   ]
  },
  {
   "cell_type": "code",
   "execution_count": 3,
   "metadata": {},
   "outputs": [],
   "source": [
    "df= pd.read_pickle(os.getcwd()+r\"\\prod_delinq_comb.pkl\")\n",
    "df[\"DATE_DECISION\"] = pd.to_datetime(df.DATE_DECISION, format = '%d-%m-%y')"
   ]
  },
  {
   "cell_type": "code",
   "execution_count": 8,
   "metadata": {},
   "outputs": [],
   "source": [
    "df = df[[\"SKP_CREDIT_CASE\",\"DATE_DECISION\",\"CUS_LAT\",\"CUS_LONG\",\"RISK_FSTQPD30\",\n",
    "\"GRID_ID\",\"CLIENT_INR_INCOME\"]]"
   ]
  },
  {
   "cell_type": "code",
   "execution_count": 10,
   "metadata": {},
   "outputs": [],
   "source": [
    "df[\"MONTH_STR\"] = df[\"DATE_DECISION\"].dt.strftime(\"%Y-%m\")"
   ]
  },
  {
   "cell_type": "code",
   "execution_count": 11,
   "metadata": {},
   "outputs": [],
   "source": [
    "df = df[df[\"CLIENT_INR_INCOME\"]<df[\"CLIENT_INR_INCOME\"].quantile(0.99)]"
   ]
  },
  {
   "cell_type": "code",
   "execution_count": 12,
   "metadata": {},
   "outputs": [],
   "source": [
    "df_month = pd.DataFrame({'month':[3],'year':[2020]}) #input the last month for which data is downloaded"
   ]
  },
  {
   "cell_type": "markdown",
   "metadata": {},
   "source": [
    "### Download all active Grids"
   ]
  },
  {
   "cell_type": "code",
   "execution_count": null,
   "metadata": {},
   "outputs": [],
   "source": [
    "# select grid_id, avg(cus_lat), avg(cus_long) from bd_geo_delinquency\n",
    "# group by grid_id\n",
    "# ;"
   ]
  },
  {
   "cell_type": "code",
   "execution_count": 14,
   "metadata": {},
   "outputs": [],
   "source": [
    "all_grids= pd.read_csv(os.getcwd()+r\"\\grid id lat long.csv\")\n",
    "all_grids.columns = [\"GRID_ID\",\"CUS_LAT\",\"CUS_LONG\"]"
   ]
  },
  {
   "cell_type": "code",
   "execution_count": 17,
   "metadata": {},
   "outputs": [
    {
     "name": "stderr",
     "output_type": "stream",
     "text": [
      "C:\\Users\\aman.khatri91425\\AppData\\Local\\Continuum\\anaconda3\\lib\\site-packages\\ipykernel_launcher.py:43: FutureWarning: Sorting because non-concatenation axis is not aligned. A future version\n",
      "of pandas will change to not sort by default.\n",
      "\n",
      "To accept the future behavior, pass 'sort=False'.\n",
      "\n",
      "To retain the current behavior and silence the warning, pass 'sort=True'.\n",
      "\n",
      "C:\\Users\\aman.khatri91425\\AppData\\Local\\Continuum\\anaconda3\\lib\\site-packages\\ipykernel_launcher.py:50: SettingWithCopyWarning: \n",
      "A value is trying to be set on a copy of a slice from a DataFrame.\n",
      "Try using .loc[row_indexer,col_indexer] = value instead\n",
      "\n",
      "See the caveats in the documentation: http://pandas.pydata.org/pandas-docs/stable/indexing.html#indexing-view-versus-copy\n"
     ]
    },
    {
     "name": "stdout",
     "output_type": "stream",
     "text": [
      "Training for predicting (month): 1     RMSE TRAIN: 6818.842360119617     RMSE TEST: 6722.346206639532     time taken:  3.9\n"
     ]
    },
    {
     "name": "stderr",
     "output_type": "stream",
     "text": [
      "C:\\Users\\aman.khatri91425\\AppData\\Local\\Continuum\\anaconda3\\lib\\site-packages\\ipykernel_launcher.py:43: FutureWarning: Sorting because non-concatenation axis is not aligned. A future version\n",
      "of pandas will change to not sort by default.\n",
      "\n",
      "To accept the future behavior, pass 'sort=False'.\n",
      "\n",
      "To retain the current behavior and silence the warning, pass 'sort=True'.\n",
      "\n",
      "C:\\Users\\aman.khatri91425\\AppData\\Local\\Continuum\\anaconda3\\lib\\site-packages\\ipykernel_launcher.py:50: SettingWithCopyWarning: \n",
      "A value is trying to be set on a copy of a slice from a DataFrame.\n",
      "Try using .loc[row_indexer,col_indexer] = value instead\n",
      "\n",
      "See the caveats in the documentation: http://pandas.pydata.org/pandas-docs/stable/indexing.html#indexing-view-versus-copy\n"
     ]
    },
    {
     "name": "stdout",
     "output_type": "stream",
     "text": [
      "Training for predicting (month): 2     RMSE TRAIN: 6768.606993847599     RMSE TEST: 6730.5374989753645     time taken:  3.8\n"
     ]
    },
    {
     "name": "stderr",
     "output_type": "stream",
     "text": [
      "C:\\Users\\aman.khatri91425\\AppData\\Local\\Continuum\\anaconda3\\lib\\site-packages\\ipykernel_launcher.py:43: FutureWarning: Sorting because non-concatenation axis is not aligned. A future version\n",
      "of pandas will change to not sort by default.\n",
      "\n",
      "To accept the future behavior, pass 'sort=False'.\n",
      "\n",
      "To retain the current behavior and silence the warning, pass 'sort=True'.\n",
      "\n",
      "C:\\Users\\aman.khatri91425\\AppData\\Local\\Continuum\\anaconda3\\lib\\site-packages\\ipykernel_launcher.py:50: SettingWithCopyWarning: \n",
      "A value is trying to be set on a copy of a slice from a DataFrame.\n",
      "Try using .loc[row_indexer,col_indexer] = value instead\n",
      "\n",
      "See the caveats in the documentation: http://pandas.pydata.org/pandas-docs/stable/indexing.html#indexing-view-versus-copy\n"
     ]
    },
    {
     "name": "stdout",
     "output_type": "stream",
     "text": [
      "Training for predicting (month): 3     RMSE TRAIN: 6722.936630152929     RMSE TEST: 6955.423729252088     time taken:  3.9\n"
     ]
    },
    {
     "name": "stderr",
     "output_type": "stream",
     "text": [
      "C:\\Users\\aman.khatri91425\\AppData\\Local\\Continuum\\anaconda3\\lib\\site-packages\\ipykernel_launcher.py:43: FutureWarning: Sorting because non-concatenation axis is not aligned. A future version\n",
      "of pandas will change to not sort by default.\n",
      "\n",
      "To accept the future behavior, pass 'sort=False'.\n",
      "\n",
      "To retain the current behavior and silence the warning, pass 'sort=True'.\n",
      "\n",
      "C:\\Users\\aman.khatri91425\\AppData\\Local\\Continuum\\anaconda3\\lib\\site-packages\\ipykernel_launcher.py:50: SettingWithCopyWarning: \n",
      "A value is trying to be set on a copy of a slice from a DataFrame.\n",
      "Try using .loc[row_indexer,col_indexer] = value instead\n",
      "\n",
      "See the caveats in the documentation: http://pandas.pydata.org/pandas-docs/stable/indexing.html#indexing-view-versus-copy\n"
     ]
    },
    {
     "name": "stdout",
     "output_type": "stream",
     "text": [
      "Training for predicting (month): 4     RMSE TRAIN: 6665.249486650223     RMSE TEST: 7019.995300788443     time taken:  3.9\n"
     ]
    },
    {
     "name": "stderr",
     "output_type": "stream",
     "text": [
      "C:\\Users\\aman.khatri91425\\AppData\\Local\\Continuum\\anaconda3\\lib\\site-packages\\ipykernel_launcher.py:43: FutureWarning: Sorting because non-concatenation axis is not aligned. A future version\n",
      "of pandas will change to not sort by default.\n",
      "\n",
      "To accept the future behavior, pass 'sort=False'.\n",
      "\n",
      "To retain the current behavior and silence the warning, pass 'sort=True'.\n",
      "\n",
      "C:\\Users\\aman.khatri91425\\AppData\\Local\\Continuum\\anaconda3\\lib\\site-packages\\ipykernel_launcher.py:50: SettingWithCopyWarning: \n",
      "A value is trying to be set on a copy of a slice from a DataFrame.\n",
      "Try using .loc[row_indexer,col_indexer] = value instead\n",
      "\n",
      "See the caveats in the documentation: http://pandas.pydata.org/pandas-docs/stable/indexing.html#indexing-view-versus-copy\n"
     ]
    },
    {
     "name": "stdout",
     "output_type": "stream",
     "text": [
      "Training for predicting (month): 5     RMSE TRAIN: 6728.015930504808     RMSE TEST: 7109.929716675888     time taken:  3.7\n"
     ]
    },
    {
     "name": "stderr",
     "output_type": "stream",
     "text": [
      "C:\\Users\\aman.khatri91425\\AppData\\Local\\Continuum\\anaconda3\\lib\\site-packages\\ipykernel_launcher.py:43: FutureWarning: Sorting because non-concatenation axis is not aligned. A future version\n",
      "of pandas will change to not sort by default.\n",
      "\n",
      "To accept the future behavior, pass 'sort=False'.\n",
      "\n",
      "To retain the current behavior and silence the warning, pass 'sort=True'.\n",
      "\n",
      "C:\\Users\\aman.khatri91425\\AppData\\Local\\Continuum\\anaconda3\\lib\\site-packages\\ipykernel_launcher.py:50: SettingWithCopyWarning: \n",
      "A value is trying to be set on a copy of a slice from a DataFrame.\n",
      "Try using .loc[row_indexer,col_indexer] = value instead\n",
      "\n",
      "See the caveats in the documentation: http://pandas.pydata.org/pandas-docs/stable/indexing.html#indexing-view-versus-copy\n"
     ]
    },
    {
     "name": "stdout",
     "output_type": "stream",
     "text": [
      "Training for predicting (month): 6     RMSE TRAIN: 6849.762851431102     RMSE TEST: 7177.134705354643     time taken:  3.7\n"
     ]
    },
    {
     "name": "stderr",
     "output_type": "stream",
     "text": [
      "C:\\Users\\aman.khatri91425\\AppData\\Local\\Continuum\\anaconda3\\lib\\site-packages\\ipykernel_launcher.py:43: FutureWarning: Sorting because non-concatenation axis is not aligned. A future version\n",
      "of pandas will change to not sort by default.\n",
      "\n",
      "To accept the future behavior, pass 'sort=False'.\n",
      "\n",
      "To retain the current behavior and silence the warning, pass 'sort=True'.\n",
      "\n",
      "C:\\Users\\aman.khatri91425\\AppData\\Local\\Continuum\\anaconda3\\lib\\site-packages\\ipykernel_launcher.py:50: SettingWithCopyWarning: \n",
      "A value is trying to be set on a copy of a slice from a DataFrame.\n",
      "Try using .loc[row_indexer,col_indexer] = value instead\n",
      "\n",
      "See the caveats in the documentation: http://pandas.pydata.org/pandas-docs/stable/indexing.html#indexing-view-versus-copy\n"
     ]
    },
    {
     "name": "stdout",
     "output_type": "stream",
     "text": [
      "Training for predicting (month): 7     RMSE TRAIN: 6907.630291123854     RMSE TEST: 7289.704868154922     time taken:  3.7\n"
     ]
    },
    {
     "name": "stderr",
     "output_type": "stream",
     "text": [
      "C:\\Users\\aman.khatri91425\\AppData\\Local\\Continuum\\anaconda3\\lib\\site-packages\\ipykernel_launcher.py:43: FutureWarning: Sorting because non-concatenation axis is not aligned. A future version\n",
      "of pandas will change to not sort by default.\n",
      "\n",
      "To accept the future behavior, pass 'sort=False'.\n",
      "\n",
      "To retain the current behavior and silence the warning, pass 'sort=True'.\n",
      "\n",
      "C:\\Users\\aman.khatri91425\\AppData\\Local\\Continuum\\anaconda3\\lib\\site-packages\\ipykernel_launcher.py:50: SettingWithCopyWarning: \n",
      "A value is trying to be set on a copy of a slice from a DataFrame.\n",
      "Try using .loc[row_indexer,col_indexer] = value instead\n",
      "\n",
      "See the caveats in the documentation: http://pandas.pydata.org/pandas-docs/stable/indexing.html#indexing-view-versus-copy\n"
     ]
    },
    {
     "name": "stdout",
     "output_type": "stream",
     "text": [
      "Training for predicting (month): 8     RMSE TRAIN: 7013.512497340609     RMSE TEST: 7248.477918759752     time taken:  4.6\n"
     ]
    },
    {
     "name": "stderr",
     "output_type": "stream",
     "text": [
      "C:\\Users\\aman.khatri91425\\AppData\\Local\\Continuum\\anaconda3\\lib\\site-packages\\ipykernel_launcher.py:43: FutureWarning: Sorting because non-concatenation axis is not aligned. A future version\n",
      "of pandas will change to not sort by default.\n",
      "\n",
      "To accept the future behavior, pass 'sort=False'.\n",
      "\n",
      "To retain the current behavior and silence the warning, pass 'sort=True'.\n",
      "\n",
      "C:\\Users\\aman.khatri91425\\AppData\\Local\\Continuum\\anaconda3\\lib\\site-packages\\ipykernel_launcher.py:50: SettingWithCopyWarning: \n",
      "A value is trying to be set on a copy of a slice from a DataFrame.\n",
      "Try using .loc[row_indexer,col_indexer] = value instead\n",
      "\n",
      "See the caveats in the documentation: http://pandas.pydata.org/pandas-docs/stable/indexing.html#indexing-view-versus-copy\n"
     ]
    },
    {
     "name": "stdout",
     "output_type": "stream",
     "text": [
      "Training for predicting (month): 9     RMSE TRAIN: 7095.2924354908     RMSE TEST: 7342.976983701774     time taken:  4.4\n"
     ]
    },
    {
     "name": "stderr",
     "output_type": "stream",
     "text": [
      "C:\\Users\\aman.khatri91425\\AppData\\Local\\Continuum\\anaconda3\\lib\\site-packages\\ipykernel_launcher.py:43: FutureWarning: Sorting because non-concatenation axis is not aligned. A future version\n",
      "of pandas will change to not sort by default.\n",
      "\n",
      "To accept the future behavior, pass 'sort=False'.\n",
      "\n",
      "To retain the current behavior and silence the warning, pass 'sort=True'.\n",
      "\n",
      "C:\\Users\\aman.khatri91425\\AppData\\Local\\Continuum\\anaconda3\\lib\\site-packages\\ipykernel_launcher.py:50: SettingWithCopyWarning: \n",
      "A value is trying to be set on a copy of a slice from a DataFrame.\n",
      "Try using .loc[row_indexer,col_indexer] = value instead\n",
      "\n",
      "See the caveats in the documentation: http://pandas.pydata.org/pandas-docs/stable/indexing.html#indexing-view-versus-copy\n"
     ]
    },
    {
     "name": "stdout",
     "output_type": "stream",
     "text": [
      "Training for predicting (month): 10     RMSE TRAIN: 7148.575118604443     RMSE TEST: 6824.897766782062     time taken:  4.8\n"
     ]
    },
    {
     "name": "stderr",
     "output_type": "stream",
     "text": [
      "C:\\Users\\aman.khatri91425\\AppData\\Local\\Continuum\\anaconda3\\lib\\site-packages\\ipykernel_launcher.py:43: FutureWarning: Sorting because non-concatenation axis is not aligned. A future version\n",
      "of pandas will change to not sort by default.\n",
      "\n",
      "To accept the future behavior, pass 'sort=False'.\n",
      "\n",
      "To retain the current behavior and silence the warning, pass 'sort=True'.\n",
      "\n",
      "C:\\Users\\aman.khatri91425\\AppData\\Local\\Continuum\\anaconda3\\lib\\site-packages\\ipykernel_launcher.py:50: SettingWithCopyWarning: \n",
      "A value is trying to be set on a copy of a slice from a DataFrame.\n",
      "Try using .loc[row_indexer,col_indexer] = value instead\n",
      "\n",
      "See the caveats in the documentation: http://pandas.pydata.org/pandas-docs/stable/indexing.html#indexing-view-versus-copy\n"
     ]
    },
    {
     "name": "stdout",
     "output_type": "stream",
     "text": [
      "Training for predicting (month): 11     RMSE TRAIN: 7090.889597259116     RMSE TEST: 7038.8573336000245     time taken:  4.3\n"
     ]
    },
    {
     "name": "stderr",
     "output_type": "stream",
     "text": [
      "C:\\Users\\aman.khatri91425\\AppData\\Local\\Continuum\\anaconda3\\lib\\site-packages\\ipykernel_launcher.py:43: FutureWarning: Sorting because non-concatenation axis is not aligned. A future version\n",
      "of pandas will change to not sort by default.\n",
      "\n",
      "To accept the future behavior, pass 'sort=False'.\n",
      "\n",
      "To retain the current behavior and silence the warning, pass 'sort=True'.\n",
      "\n",
      "C:\\Users\\aman.khatri91425\\AppData\\Local\\Continuum\\anaconda3\\lib\\site-packages\\ipykernel_launcher.py:50: SettingWithCopyWarning: \n",
      "A value is trying to be set on a copy of a slice from a DataFrame.\n",
      "Try using .loc[row_indexer,col_indexer] = value instead\n",
      "\n",
      "See the caveats in the documentation: http://pandas.pydata.org/pandas-docs/stable/indexing.html#indexing-view-versus-copy\n"
     ]
    },
    {
     "name": "stdout",
     "output_type": "stream",
     "text": [
      "Training for predicting (month): 12     RMSE TRAIN: 7095.856093867471     RMSE TEST: 6816.364486304871     time taken:  4.2\n"
     ]
    },
    {
     "name": "stderr",
     "output_type": "stream",
     "text": [
      "C:\\Users\\aman.khatri91425\\AppData\\Local\\Continuum\\anaconda3\\lib\\site-packages\\ipykernel_launcher.py:43: FutureWarning: Sorting because non-concatenation axis is not aligned. A future version\n",
      "of pandas will change to not sort by default.\n",
      "\n",
      "To accept the future behavior, pass 'sort=False'.\n",
      "\n",
      "To retain the current behavior and silence the warning, pass 'sort=True'.\n",
      "\n",
      "C:\\Users\\aman.khatri91425\\AppData\\Local\\Continuum\\anaconda3\\lib\\site-packages\\ipykernel_launcher.py:50: SettingWithCopyWarning: \n",
      "A value is trying to be set on a copy of a slice from a DataFrame.\n",
      "Try using .loc[row_indexer,col_indexer] = value instead\n",
      "\n",
      "See the caveats in the documentation: http://pandas.pydata.org/pandas-docs/stable/indexing.html#indexing-view-versus-copy\n"
     ]
    },
    {
     "name": "stdout",
     "output_type": "stream",
     "text": [
      "Training for predicting (month): 1     RMSE TRAIN: 7032.248938323342     RMSE TEST: 6793.024570620706     time taken:  3.8\n"
     ]
    },
    {
     "name": "stderr",
     "output_type": "stream",
     "text": [
      "C:\\Users\\aman.khatri91425\\AppData\\Local\\Continuum\\anaconda3\\lib\\site-packages\\ipykernel_launcher.py:43: FutureWarning: Sorting because non-concatenation axis is not aligned. A future version\n",
      "of pandas will change to not sort by default.\n",
      "\n",
      "To accept the future behavior, pass 'sort=False'.\n",
      "\n",
      "To retain the current behavior and silence the warning, pass 'sort=True'.\n",
      "\n",
      "C:\\Users\\aman.khatri91425\\AppData\\Local\\Continuum\\anaconda3\\lib\\site-packages\\ipykernel_launcher.py:50: SettingWithCopyWarning: \n",
      "A value is trying to be set on a copy of a slice from a DataFrame.\n",
      "Try using .loc[row_indexer,col_indexer] = value instead\n",
      "\n",
      "See the caveats in the documentation: http://pandas.pydata.org/pandas-docs/stable/indexing.html#indexing-view-versus-copy\n"
     ]
    },
    {
     "name": "stdout",
     "output_type": "stream",
     "text": [
      "Training for predicting (month): 2     RMSE TRAIN: 6969.91560828149     RMSE TEST: 6758.036800122358     time taken:  3.6\n"
     ]
    },
    {
     "name": "stderr",
     "output_type": "stream",
     "text": [
      "C:\\Users\\aman.khatri91425\\AppData\\Local\\Continuum\\anaconda3\\lib\\site-packages\\ipykernel_launcher.py:43: FutureWarning: Sorting because non-concatenation axis is not aligned. A future version\n",
      "of pandas will change to not sort by default.\n",
      "\n",
      "To accept the future behavior, pass 'sort=False'.\n",
      "\n",
      "To retain the current behavior and silence the warning, pass 'sort=True'.\n",
      "\n",
      "C:\\Users\\aman.khatri91425\\AppData\\Local\\Continuum\\anaconda3\\lib\\site-packages\\ipykernel_launcher.py:50: SettingWithCopyWarning: \n",
      "A value is trying to be set on a copy of a slice from a DataFrame.\n",
      "Try using .loc[row_indexer,col_indexer] = value instead\n",
      "\n",
      "See the caveats in the documentation: http://pandas.pydata.org/pandas-docs/stable/indexing.html#indexing-view-versus-copy\n"
     ]
    },
    {
     "name": "stdout",
     "output_type": "stream",
     "text": [
      "Training for predicting (month): 3     RMSE TRAIN: 6878.994234978258     RMSE TEST: 6735.157812521554     time taken:  3.5\n"
     ]
    }
   ],
   "source": [
    "df_final_test = pd.DataFrame()\n",
    "df_final_grid = pd.DataFrame()\n",
    "\n",
    "seed = 26\n",
    "\n",
    "import datetime\n",
    "from sklearn.neighbors import KNeighborsRegressor\n",
    "\n",
    "for t in df_month.index:\n",
    "    \n",
    "    x=df_month[\"month\"][t]\n",
    "    year=df_month[\"year\"][t]\n",
    "    date_test_start = datetime.datetime(year, x, 1)\n",
    "    date_test_end = (date_test_start +  datetime.timedelta(days=31)).replace(day=1)\n",
    "    date_train_start = (date_test_start-datetime.timedelta(days=1)-datetime.timedelta(days=180)) \n",
    "    date_train_end = (date_test_start-datetime.timedelta(days=1))\n",
    "    df_grid = all_grids\n",
    "    df_grid[\"MONTH\"] = date_test_start\n",
    "    \n",
    "    start_time = datetime.datetime.now()\n",
    "    df_train = df[(df[\"DATE_DECISION\"]>=date_train_start) & \n",
    "              (df[\"DATE_DECISION\"]<date_train_end)]\n",
    "    df_test = df[(df[\"DATE_DECISION\"]>=date_test_start) & \n",
    "                  (df[\"DATE_DECISION\"]<date_test_end)]\n",
    "\n",
    "    \n",
    "    df_train= df_train.sample(n=800000, random_state=seed)\n",
    "    \n",
    "    X_train = df_train[[\"CUS_LAT\",\"CUS_LONG\",\"DATE_DECISION\"]]\n",
    "    X_test = df_test[[\"CUS_LAT\",\"CUS_LONG\",\"DATE_DECISION\"]]\n",
    "\n",
    "    y_train = df_train[\"CLIENT_INR_INCOME\"]\n",
    "    y_test =  df_test[\"CLIENT_INR_INCOME\"]\n",
    "\n",
    "    knn = KNeighborsRegressor(n_neighbors=201)\n",
    "    bst = knn.fit(X_train[[\"CUS_LAT\",\"CUS_LONG\"]], np.ravel(y_train))\n",
    "    \n",
    "    all_grids1 = all_grids\n",
    "    included_grids = pd.DataFrame(df_train[\"GRID_ID\"].unique())\n",
    "    included_grids.columns = ['GRID_ID']\n",
    "    all_grids1 = all_grids1.merge(included_grids, left_on = 'GRID_ID',right_on = 'GRID_ID', how = 'left',indicator = True)\n",
    "    missing_grids=all_grids1[all_grids1[\"_merge\"] != 'both'][[\"GRID_ID\",\"CUS_LAT\",\"CUS_LONG\"]]\n",
    "    df_train = pd.concat([df_train,missing_grids])\n",
    "\n",
    "    ypred_train = bst.predict(df_train[[\"CUS_LAT\",\"CUS_LONG\"]])\n",
    "    \n",
    "    ypred_train1 = bst.predict(X_train[[\"CUS_LAT\",\"CUS_LONG\"]])   # Only for RMSE calculation\n",
    "    ypred_test = bst.predict(X_test[[\"CUS_LAT\",\"CUS_LONG\"]])\n",
    "\n",
    "    df_test['PRED_INCOME'] = ypred_test\n",
    "\n",
    "    df_train [\"PRED_INCOME\"] = ypred_train\n",
    "    grid_score = df_train[[\"GRID_ID\",\"PRED_INCOME\"]].groupby(\"GRID_ID\").mean()[\"PRED_INCOME\"].reset_index()\n",
    "    grid_score.columns = ['GRID_ID',\"PRED_INCOME\"]\n",
    "    df_grid =  pd.merge(df_grid, grid_score, on = 'GRID_ID', how = 'left')\n",
    "    \n",
    "    if df_final_test.shape == (0,0):\n",
    "        df_final_test = df_test\n",
    "    else:\n",
    "        df_final_test = pd.concat([df_final_test,df_test],ignore_index=True)\n",
    "\n",
    "    print(\"Training for predicting (month):\",date_test_start.month, \n",
    "          \"    RMSE TRAIN:\",np.sqrt(metrics.mean_squared_error(y_train,ypred_train1)), \n",
    "          \"    RMSE TEST:\",np.sqrt(metrics.mean_squared_error(y_test,ypred_test)),\n",
    "         \"    time taken: \",'{:,.2}'.format((datetime.datetime.now()-start_time).seconds/60))\n",
    "\n",
    "    if df_final_grid.shape == (0,0):\n",
    "        df_final_grid = df_grid\n",
    "    else:\n",
    "        df_final_grid = pd.concat([df_final_grid,df_grid],ignore_index=True)\n",
    "\n",
    "\n"
   ]
  },
  {
   "cell_type": "code",
   "execution_count": 24,
   "metadata": {},
   "outputs": [],
   "source": [
    "df_final_test[\"PRED_INCOME\"]=round(df_final_test[\"PRED_INCOME\"])\n",
    "df_final_grid[\"PRED_INCOME\"]=round(df_final_grid[\"PRED_INCOME\"])"
   ]
  },
  {
   "cell_type": "code",
   "execution_count": 25,
   "metadata": {},
   "outputs": [],
   "source": [
    "df_final_test.to_pickle(os.getcwd()+r\"\\prod_income.pkl\")\n",
    "df_final_grid.to_pickle(os.getcwd()+r\"\\prod_grid_income.pkl\")"
   ]
  },
  {
   "cell_type": "code",
   "execution_count": 27,
   "metadata": {},
   "outputs": [],
   "source": [
    "df_final_grid[[\"GRID_ID\",\"MONTH\",\"PRED_INCOME\"]].to_csv(os.getcwd()+r\"\\income_upload.csv\", index = False)"
   ]
  },
  {
   "cell_type": "raw",
   "metadata": {},
   "source": [
    "\n",
    "Use following table to upload income data: \n",
    "bd_geo_income_hist\n",
    "\n",
    "\n",
    "Run the below code to update the current tables. Cordinate with Aditya to refresh the PE data post updation of below table.\n",
    "\n",
    "create table bd_geo_income as \n",
    "select a.grid_id, nvl(PRED_INCOME,18646) PRED_INCOME from AP_BI.T_SDE_GRID_500MMU a\n",
    "left join (select * from \n",
    "bd_geo_income_hist\n",
    "where month = (select max(month) from \n",
    "bd_geo_income_hist\n",
    ")) b\n",
    "on a.grid_id = b.grid_id\n",
    ";\n",
    "\n"
   ]
  }
 ],
 "metadata": {
  "kernelspec": {
   "display_name": "Python 3",
   "language": "python",
   "name": "python3"
  },
  "language_info": {
   "codemirror_mode": {
    "name": "ipython",
    "version": 3
   },
   "file_extension": ".py",
   "mimetype": "text/x-python",
   "name": "python",
   "nbconvert_exporter": "python",
   "pygments_lexer": "ipython3",
   "version": "3.7.3"
  }
 },
 "nbformat": 4,
 "nbformat_minor": 2
}
