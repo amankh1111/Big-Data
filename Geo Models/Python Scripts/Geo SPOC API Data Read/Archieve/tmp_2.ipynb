{
 "cells": [
  {
   "cell_type": "code",
   "execution_count": 1,
   "metadata": {},
   "outputs": [],
   "source": [
    "import requests\n",
    "import json\n",
    "import pandas as pd\n",
    "import os\n",
    "import cx_Oracle\n",
    "import datetime\n",
    "import numpy as np"
   ]
  },
  {
   "cell_type": "markdown",
   "metadata": {},
   "source": [
    "# UAT"
   ]
  },
  {
   "cell_type": "code",
   "execution_count": 9,
   "metadata": {},
   "outputs": [
    {
     "data": {
      "text/plain": [
       "{'referenceId': 'test125',\n",
       " 'lat': '28.7086427',\n",
       " 'lon': '77.2846442',\n",
       " 'Grid_id': '500_01857_04683',\n",
       " 'Status': 'NA',\n",
       " 'GC_status': 'Geocoded'}"
      ]
     },
     "execution_count": 9,
     "metadata": {},
     "output_type": "execute_result"
    }
   ],
   "source": [
    "url = \"https://homecreditapi.geospoc.com/uat/geocode\"\n",
    "\n",
    "payload =  {\n",
    "    'streetAddress': 'Gali Number 21, Block E, Ganga Vihar, Gokalpuri',\n",
    "    'city': 'Delhi',\n",
    "    'pinCode': '110094',\n",
    "    'referenceId': 'test125'\n",
    "}\n",
    "\n",
    "data_json = json.dumps(payload)\n",
    "headers = {\n",
    "    'Content-Type': \"application/x-www-form-urlencoded\",\n",
    "    'x-api-key': \"H4wiGO1l1673vqKYMadx649qPaHHuvS82Vm2LmRx\",\n",
    "    'Cache-Control': \"no-cache\",\n",
    "    }\n",
    "\n",
    "response = requests.request(\"POST\", url, data=data_json, headers=headers)\n",
    "response.json()"
   ]
  },
  {
   "cell_type": "markdown",
   "metadata": {},
   "source": [
    "# Prod"
   ]
  },
  {
   "cell_type": "code",
   "execution_count": 17,
   "metadata": {},
   "outputs": [
    {
     "data": {
      "text/plain": [
       "{'referenceId': 'test125',\n",
       " 'lat': '28.6537751',\n",
       " 'lon': '77.1695955',\n",
       " 'Grid_id': '500_01835_04671',\n",
       " 'Status': 'NA',\n",
       " 'GC_status': 'Geocoded'}"
      ]
     },
     "execution_count": 17,
     "metadata": {},
     "output_type": "execute_result"
    }
   ],
   "source": [
    "url = \"https://homecreditapi.geospoc.com/prod/geocode\"\n",
    "\n",
    "payload =  {\n",
    "    'streetAddress': 'near manokamna manber T44 baba FARID PURI delhi',\n",
    "    'city': 'New Delhi',\n",
    "    'pinCode': '110008',\n",
    "    'referenceId': 'test125'\n",
    "}\n",
    "\n",
    "data_json = json.dumps(payload)\n",
    "headers = {\n",
    "    'Content-Type': \"application/x-www-form-urlencoded\",\n",
    "    'x-api-key': \"OVvnyDTZln6NyAD6CNRczcsO7hh97wd92RZI9Cxa\",\n",
    "    'Cache-Control': \"no-cache\",\n",
    "    }\n",
    "\n",
    "response = requests.request(\"POST\", url, data=data_json, headers=headers)\n",
    "response.json()"
   ]
  },
  {
   "cell_type": "code",
   "execution_count": 2,
   "metadata": {},
   "outputs": [],
   "source": [
    "os.chdir(r\"C:\\Users\\aman.khatri91425\\Desktop\\HomeCredit\\Bigdata\\Common Maps KNN\\Data Files\")\n",
    "df=pd.read_csv(\"income_validation.csv\", encoding='latin1')"
   ]
  },
  {
   "cell_type": "code",
   "execution_count": 3,
   "metadata": {},
   "outputs": [],
   "source": [
    "df.replace(to_replace='XNA', value = '', inplace = True)"
   ]
  },
  {
   "cell_type": "code",
   "execution_count": 4,
   "metadata": {},
   "outputs": [],
   "source": [
    "df[\"STREET_ADDRESS\"] = df[\"TEXT_STREET_NUMBER\"] + df[\"NAME_STREET\"] + df[\"NAME_LOCALITY\"]"
   ]
  },
  {
   "cell_type": "code",
   "execution_count": 5,
   "metadata": {},
   "outputs": [],
   "source": [
    "df[\"STREET_ADDRESS\"] = df[\"STREET_ADDRESS\"].fillna(value = ' ')\n",
    "df[\"NAME_DISTRICT\"] = df[\"NAME_DISTRICT\"].fillna(value = ' ')\n",
    "df[\"CODE_ZIP_CODE\"] = df[\"CODE_ZIP_CODE\"].fillna(value = ' ')\n"
   ]
  },
  {
   "cell_type": "code",
   "execution_count": 6,
   "metadata": {},
   "outputs": [],
   "source": [
    "converted={\"SKP_CREDIT_CASE\" : [],\n",
    "          \"LAT\" : [],\n",
    "          \"LONG\" : [],\n",
    "          \"GRID_ID\" : []}"
   ]
  },
  {
   "cell_type": "code",
   "execution_count": 7,
   "metadata": {},
   "outputs": [],
   "source": [
    "df=df.head(10)"
   ]
  },
  {
   "cell_type": "code",
   "execution_count": 8,
   "metadata": {},
   "outputs": [
    {
     "name": "stdout",
     "output_type": "stream",
     "text": [
      "0\n",
      "1\n",
      "2\n",
      "3\n",
      "4\n",
      "5\n",
      "6\n",
      "7\n",
      "8\n",
      "9\n",
      "time taken : 0.2\n"
     ]
    }
   ],
   "source": [
    "url = \"https://homecreditapi.geospoc.com/prod/geocode\"\n",
    "\n",
    "headers = {\n",
    "    'Content-Type': \"application/x-www-form-urlencoded\",\n",
    "    'x-api-key': \"OVvnyDTZln6NyAD6CNRczcsO7hh97wd92RZI9Cxa\",\n",
    "    'Cache-Control': \"no-cache\",\n",
    "    }\n",
    "start_time=datetime.datetime.now()\n",
    "\n",
    "t = 1\n",
    "for x in df.index:\n",
    "\n",
    "    payload =  {\n",
    "    'streetAddress': df[\"STREET_ADDRESS\"][x],\n",
    "    'city': df[\"NAME_DISTRICT\"][x],\n",
    "    'pinCode': str(df[\"CODE_ZIP_CODE\"][x]),\n",
    "    'referenceId': 'test'\n",
    "    }\n",
    "\n",
    "    data_json = json.dumps(payload)\n",
    "    response = requests.request(\"POST\", url, data=data_json, headers=headers).json()\n",
    "    response\n",
    "    if \"lat\" not in response:\n",
    "        response[\"lat\"] = ''\n",
    "    if \"lon\" not in response:\n",
    "        response[\"lon\"] = ''\n",
    "    if \"Grid_id\" not in response:\n",
    "        response[\"Grid_id\"] = ''\n",
    "    converted[\"SKP_CREDIT_CASE\"].append(df[\"SKP_CREDIT_CASE\"][x])\n",
    "    converted[\"LAT\"].append(response[\"lat\"])\n",
    "    converted[\"LONG\"].append(response[\"lon\"])\n",
    "    converted[\"GRID_ID\"].append(response[\"Grid_id\"])\n",
    "    print(x)\n",
    "\n",
    "print(\"time taken :\", (datetime.datetime.now()-start_time).seconds/60)    "
   ]
  },
  {
   "cell_type": "code",
   "execution_count": 17,
   "metadata": {},
   "outputs": [
    {
     "data": {
      "text/plain": [
       "(4032, 4)"
      ]
     },
     "execution_count": 17,
     "metadata": {},
     "output_type": "execute_result"
    }
   ],
   "source": [
    "pd.DataFrame(converted).shape"
   ]
  },
  {
   "cell_type": "code",
   "execution_count": 18,
   "metadata": {},
   "outputs": [],
   "source": [
    "pd.DataFrame(converted).to_csv(\"converted_income_pred_2.csv\")"
   ]
  },
  {
   "cell_type": "code",
   "execution_count": 139,
   "metadata": {},
   "outputs": [
    {
     "data": {
      "text/plain": [
       "{'SKP_CREDIT_CASE': [295138607],\n",
       " 'LAT': ['28.6757374'],\n",
       " 'LONG': ['77.3310067'],\n",
       " 'GRID_ID': ['500_01866_04675']}"
      ]
     },
     "execution_count": 139,
     "metadata": {},
     "output_type": "execute_result"
    }
   ],
   "source": [
    "converted"
   ]
  },
  {
   "cell_type": "code",
   "execution_count": 153,
   "metadata": {},
   "outputs": [
    {
     "data": {
      "text/plain": [
       "216.66666666666666"
      ]
     },
     "execution_count": 153,
     "metadata": {},
     "output_type": "execute_result"
    }
   ],
   "source": [
    "13000/60"
   ]
  },
  {
   "cell_type": "code",
   "execution_count": null,
   "metadata": {},
   "outputs": [],
   "source": []
  }
 ],
 "metadata": {
  "kernelspec": {
   "display_name": "Python 3",
   "language": "python",
   "name": "python3"
  },
  "language_info": {
   "codemirror_mode": {
    "name": "ipython",
    "version": 3
   },
   "file_extension": ".py",
   "mimetype": "text/x-python",
   "name": "python",
   "nbconvert_exporter": "python",
   "pygments_lexer": "ipython3",
   "version": "3.7.3"
  }
 },
 "nbformat": 4,
 "nbformat_minor": 2
}
