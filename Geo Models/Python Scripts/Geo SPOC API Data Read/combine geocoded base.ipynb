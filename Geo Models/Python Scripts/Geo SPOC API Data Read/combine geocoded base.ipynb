{
 "cells": [
  {
   "cell_type": "code",
   "execution_count": 2,
   "metadata": {},
   "outputs": [],
   "source": [
    "import pandas as pd\n",
    "import os"
   ]
  },
  {
   "cell_type": "code",
   "execution_count": 3,
   "metadata": {},
   "outputs": [],
   "source": [
    "os.chdir(r\"C:\\Users\\aman.khatri91425\\Desktop\\HomeCredit\\Bigdata\\Common Maps KNN\\Converted Files\")"
   ]
  },
  {
   "cell_type": "code",
   "execution_count": 15,
   "metadata": {},
   "outputs": [],
   "source": [
    "for r, d, f in os.walk(os.getcwd()):\n",
    "#     print(r)\n",
    "#     print(d)\n",
    "    files = [x for x in f if 'pkl' in x]\n",
    "    \n"
   ]
  },
  {
   "cell_type": "code",
   "execution_count": 21,
   "metadata": {},
   "outputs": [],
   "source": [
    "df=pd.DataFrame()\n",
    "\n",
    "for x in files:\n",
    "    df_tmp = pd.read_pickle(os.getcwd()+\"\\\\\"+x)\n",
    "    df = pd.concat([df,df_tmp])"
   ]
  },
  {
   "cell_type": "code",
   "execution_count": 23,
   "metadata": {},
   "outputs": [],
   "source": [
    "df1 = pd.read_csv(r\"C:\\Users\\aman.khatri91425\\Desktop\\HomeCredit\\Bigdata\\Common Maps KNN\\Data Files\\Geocoding Base Combined.csv\")"
   ]
  },
  {
   "cell_type": "code",
   "execution_count": 26,
   "metadata": {},
   "outputs": [
    {
     "data": {
      "text/html": [
       "<div>\n",
       "<style scoped>\n",
       "    .dataframe tbody tr th:only-of-type {\n",
       "        vertical-align: middle;\n",
       "    }\n",
       "\n",
       "    .dataframe tbody tr th {\n",
       "        vertical-align: top;\n",
       "    }\n",
       "\n",
       "    .dataframe thead th {\n",
       "        text-align: right;\n",
       "    }\n",
       "</style>\n",
       "<table border=\"1\" class=\"dataframe\">\n",
       "  <thead>\n",
       "    <tr style=\"text-align: right;\">\n",
       "      <th></th>\n",
       "      <th>SKP_CREDIT_CASE</th>\n",
       "      <th>LAT</th>\n",
       "      <th>LONG</th>\n",
       "      <th>GRID_ID</th>\n",
       "    </tr>\n",
       "  </thead>\n",
       "  <tbody>\n",
       "    <tr>\n",
       "      <th>0</th>\n",
       "      <td>244437126</td>\n",
       "      <td>9.9204671</td>\n",
       "      <td>78.1118972</td>\n",
       "      <td>500_01961_00570</td>\n",
       "    </tr>\n",
       "    <tr>\n",
       "      <th>1</th>\n",
       "      <td>244439955</td>\n",
       "      <td>13.0195677</td>\n",
       "      <td>77.5968131</td>\n",
       "      <td>500_01859_01260</td>\n",
       "    </tr>\n",
       "    <tr>\n",
       "      <th>2</th>\n",
       "      <td>244541272</td>\n",
       "      <td>17.4418059</td>\n",
       "      <td>78.538933</td>\n",
       "      <td>500_02073_02228</td>\n",
       "    </tr>\n",
       "    <tr>\n",
       "      <th>3</th>\n",
       "      <td>244556999</td>\n",
       "      <td>13.0464351</td>\n",
       "      <td>77.51481199999999</td>\n",
       "      <td>500_01841_01266</td>\n",
       "    </tr>\n",
       "    <tr>\n",
       "      <th>4</th>\n",
       "      <td>244560695</td>\n",
       "      <td>9.966648099999999</td>\n",
       "      <td>78.1365902</td>\n",
       "      <td>500_01967_00581</td>\n",
       "    </tr>\n",
       "  </tbody>\n",
       "</table>\n",
       "</div>"
      ],
      "text/plain": [
       "   SKP_CREDIT_CASE                LAT               LONG          GRID_ID\n",
       "0        244437126          9.9204671         78.1118972  500_01961_00570\n",
       "1        244439955         13.0195677         77.5968131  500_01859_01260\n",
       "2        244541272         17.4418059          78.538933  500_02073_02228\n",
       "3        244556999         13.0464351  77.51481199999999  500_01841_01266\n",
       "4        244560695  9.966648099999999         78.1365902  500_01967_00581"
      ]
     },
     "execution_count": 26,
     "metadata": {},
     "output_type": "execute_result"
    }
   ],
   "source": [
    "df.head()"
   ]
  },
  {
   "cell_type": "code",
   "execution_count": 28,
   "metadata": {},
   "outputs": [],
   "source": [
    "df.to_csv(r\"C:\\Users\\aman.khatri91425\\Desktop\\HomeCredit\\Bigdata\\Common Maps KNN\\Data Files\\Upload Geocoded Base.csv\", index = False)"
   ]
  },
  {
   "cell_type": "code",
   "execution_count": 30,
   "metadata": {},
   "outputs": [
    {
     "data": {
      "text/plain": [
       "(1331227, 4)"
      ]
     },
     "execution_count": 30,
     "metadata": {},
     "output_type": "execute_result"
    }
   ],
   "source": [
    "df.shape"
   ]
  },
  {
   "cell_type": "code",
   "execution_count": 32,
   "metadata": {},
   "outputs": [
    {
     "data": {
      "text/html": [
       "<div>\n",
       "<style scoped>\n",
       "    .dataframe tbody tr th:only-of-type {\n",
       "        vertical-align: middle;\n",
       "    }\n",
       "\n",
       "    .dataframe tbody tr th {\n",
       "        vertical-align: top;\n",
       "    }\n",
       "\n",
       "    .dataframe thead th {\n",
       "        text-align: right;\n",
       "    }\n",
       "</style>\n",
       "<table border=\"1\" class=\"dataframe\">\n",
       "  <thead>\n",
       "    <tr style=\"text-align: right;\">\n",
       "      <th></th>\n",
       "      <th>SKP_CREDIT_CASE</th>\n",
       "      <th>DATE_DECISION</th>\n",
       "      <th>TOWN</th>\n",
       "      <th>STREET</th>\n",
       "      <th>LANDMARK</th>\n",
       "      <th>ZIP</th>\n",
       "      <th>LOCALITY</th>\n",
       "      <th>SKP_CLIENT</th>\n",
       "    </tr>\n",
       "  </thead>\n",
       "  <tbody>\n",
       "    <tr>\n",
       "      <th>0</th>\n",
       "      <td>244437126</td>\n",
       "      <td>01-08-19</td>\n",
       "      <td>Madurai</td>\n",
       "      <td>periyarnagar</td>\n",
       "      <td>sbi</td>\n",
       "      <td>625001</td>\n",
       "      <td>madurai</td>\n",
       "      <td>73168710</td>\n",
       "    </tr>\n",
       "    <tr>\n",
       "      <th>1</th>\n",
       "      <td>244439955</td>\n",
       "      <td>03-08-19</td>\n",
       "      <td>Bengaluru</td>\n",
       "      <td>th Cross</td>\n",
       "      <td>R T Nagar</td>\n",
       "      <td>560032</td>\n",
       "      <td>Adi Kabir Asharam</td>\n",
       "      <td>73172349</td>\n",
       "    </tr>\n",
       "    <tr>\n",
       "      <th>2</th>\n",
       "      <td>244541272</td>\n",
       "      <td>01-08-19</td>\n",
       "      <td>KV Ranga reddy</td>\n",
       "      <td>sattireddy nagar colony</td>\n",
       "      <td>behind takshila school</td>\n",
       "      <td>500047</td>\n",
       "      <td>malkajgiri</td>\n",
       "      <td>73216112</td>\n",
       "    </tr>\n",
       "    <tr>\n",
       "      <th>3</th>\n",
       "      <td>244556999</td>\n",
       "      <td>04-08-19</td>\n",
       "      <td>Bengaluru</td>\n",
       "      <td>PRASHANT NAGAR</td>\n",
       "      <td>VIJAYA HOSPITAL</td>\n",
       "      <td>560057</td>\n",
       "      <td>T DASARAHALLI</td>\n",
       "      <td>47437183</td>\n",
       "    </tr>\n",
       "    <tr>\n",
       "      <th>4</th>\n",
       "      <td>244560695</td>\n",
       "      <td>02-08-19</td>\n",
       "      <td>Madurai</td>\n",
       "      <td>Meenakshi Street,</td>\n",
       "      <td>Cooperative Bank</td>\n",
       "      <td>625014</td>\n",
       "      <td>Indian Bank Colony</td>\n",
       "      <td>73219521</td>\n",
       "    </tr>\n",
       "  </tbody>\n",
       "</table>\n",
       "</div>"
      ],
      "text/plain": [
       "   SKP_CREDIT_CASE DATE_DECISION            TOWN                   STREET  \\\n",
       "0        244437126      01-08-19         Madurai             periyarnagar   \n",
       "1        244439955      03-08-19       Bengaluru                 th Cross   \n",
       "2        244541272      01-08-19  KV Ranga reddy  sattireddy nagar colony   \n",
       "3        244556999      04-08-19       Bengaluru           PRASHANT NAGAR   \n",
       "4        244560695      02-08-19         Madurai        Meenakshi Street,   \n",
       "\n",
       "                 LANDMARK     ZIP            LOCALITY  SKP_CLIENT  \n",
       "0                     sbi  625001             madurai    73168710  \n",
       "1               R T Nagar  560032   Adi Kabir Asharam    73172349  \n",
       "2  behind takshila school  500047          malkajgiri    73216112  \n",
       "3         VIJAYA HOSPITAL  560057       T DASARAHALLI    47437183  \n",
       "4        Cooperative Bank  625014  Indian Bank Colony    73219521  "
      ]
     },
     "execution_count": 32,
     "metadata": {},
     "output_type": "execute_result"
    }
   ],
   "source": [
    "df1.head()"
   ]
  },
  {
   "cell_type": "code",
   "execution_count": 36,
   "metadata": {},
   "outputs": [],
   "source": [
    "df_m=df1.merge(df,on='SKP_CREDIT_CASE',how = 'left')"
   ]
  },
  {
   "cell_type": "code",
   "execution_count": 41,
   "metadata": {},
   "outputs": [],
   "source": [
    "df_m = df_m[df_m[\"LAT\"].isna()][[\"SKP_CREDIT_CASE\",\"DATE_DECISION\",\"TOWN\",\"STREET\",\"LANDMARK\",\"ZIP\",\"LOCALITY\",\"SKP_CLIENT\"]]"
   ]
  },
  {
   "cell_type": "code",
   "execution_count": 45,
   "metadata": {},
   "outputs": [],
   "source": [
    "df_m.to_csv(r\"C:\\Users\\aman.khatri91425\\Desktop\\HomeCredit\\Bigdata\\Common Maps KNN\\Data Files\\Missing Geocoding Base.csv\", index = False)"
   ]
  },
  {
   "cell_type": "code",
   "execution_count": null,
   "metadata": {},
   "outputs": [],
   "source": []
  },
  {
   "cell_type": "code",
   "execution_count": null,
   "metadata": {},
   "outputs": [],
   "source": []
  },
  {
   "cell_type": "markdown",
   "metadata": {},
   "source": [
    "# Missing Data"
   ]
  },
  {
   "cell_type": "code",
   "execution_count": 47,
   "metadata": {},
   "outputs": [],
   "source": [
    "for r, d, f in os.walk(os.getcwd()):\n",
    "#     print(r)\n",
    "#     print(d)\n",
    "    files = [x for x in f if 'pkl' in x and 'm' in x]\n"
   ]
  },
  {
   "cell_type": "code",
   "execution_count": 48,
   "metadata": {},
   "outputs": [],
   "source": [
    "df=pd.DataFrame()\n",
    "\n",
    "for x in files:\n",
    "    df_tmp = pd.read_pickle(os.getcwd()+\"\\\\\"+x)\n",
    "    df = pd.concat([df,df_tmp])"
   ]
  },
  {
   "cell_type": "code",
   "execution_count": 49,
   "metadata": {},
   "outputs": [
    {
     "data": {
      "text/plain": [
       "(52252, 4)"
      ]
     },
     "execution_count": 49,
     "metadata": {},
     "output_type": "execute_result"
    }
   ],
   "source": [
    "df.shape"
   ]
  },
  {
   "cell_type": "code",
   "execution_count": 50,
   "metadata": {},
   "outputs": [],
   "source": [
    "df.to_csv(r\"C:\\Users\\aman.khatri91425\\Desktop\\HomeCredit\\Bigdata\\Common Maps KNN\\Data Files\\Upload Geocoded Base Missing.csv\", index = False)"
   ]
  },
  {
   "cell_type": "code",
   "execution_count": null,
   "metadata": {},
   "outputs": [],
   "source": []
  },
  {
   "cell_type": "code",
   "execution_count": null,
   "metadata": {},
   "outputs": [],
   "source": []
  },
  {
   "cell_type": "code",
   "execution_count": null,
   "metadata": {},
   "outputs": [
    {
     "name": "stdout",
     "output_type": "stream",
     "text": [
      "Enter location: 89/10 Bharat Colony, Rohtak\n",
      "Retrieving http://maps.googleapis.com/maps/api/geocode/json?address=89%2F10+Bharat+Colony%2C+Rohtak\n",
      "Retrieved 237 characters\n",
      "==== Failure To Retrieve ====\n",
      "{\n",
      "   \"error_message\" : \"You must use an API key to authenticate each request to Google Maps Platform APIs. For additional information, please refer to http://g.co/dev/maps-no-account\",\n",
      "   \"results\" : [],\n",
      "   \"status\" : \"REQUEST_DENIED\"\n",
      "}\n",
      "\n",
      "Enter location: Dehradun\n",
      "Retrieving http://maps.googleapis.com/maps/api/geocode/json?address=Dehradun\n",
      "Retrieved 237 characters\n",
      "==== Failure To Retrieve ====\n",
      "{\n",
      "   \"error_message\" : \"You must use an API key to authenticate each request to Google Maps Platform APIs. For additional information, please refer to http://g.co/dev/maps-no-account\",\n",
      "   \"results\" : [],\n",
      "   \"status\" : \"REQUEST_DENIED\"\n",
      "}\n",
      "\n"
     ]
    }
   ],
   "source": [
    "# Libraries used to grab the URL web stuff and import json \n",
    "import urllib.request, urllib.parse, urllib.error \n",
    "import json \n",
    "  \n",
    "# Note that Google is increasingly requiring keys \n",
    "# for this API \n",
    "# service URL for Google Maps API \n",
    "serviceurl = 'http://maps.googleapis.com/maps/api/geocode/json?'\n",
    "  \n",
    "while True: \n",
    "    address = input('Enter location: ') \n",
    "    if len(address) < 1: break\n",
    "      \n",
    "    # Concatenate the serviceurl and urllib.parse.urlencode \n",
    "    # which give a dictonary of address equal and this bit  \n",
    "    # right here \n",
    "    url = serviceurl + urllib.parse.urlencode( \n",
    "        {'address': address}) \n",
    "  \n",
    "    print('Retrieving', url) \n",
    "  \n",
    "    # urlopen() to get a handle \n",
    "    uh = urllib.request.urlopen(url) \n",
    "    # Read the whole document in UTF-8 \n",
    "    data = uh.read().decode() \n",
    "    print('Retrieved', len(data), 'characters') \n",
    "  \n",
    "    # Load internal strings \n",
    "    try: \n",
    "        js = json.loads(data) \n",
    "    except: \n",
    "        js = None\n",
    "    # If false then quit and print data \n",
    "    if not js or 'status' not in js or js['status'] != 'OK': \n",
    "        print('==== Failure To Retrieve ====') \n",
    "        print(data) \n",
    "        continue\n",
    "      \n",
    "    # Call json dump and print it with an indent of four \n",
    "    print(json.dumps(js, indent = 4)) \n",
    "      \n",
    "    # Parsing and printing \n",
    "    lat = js[\"results\"][0][\"geometry\"][\"location\"][\"lat\"] \n",
    "    lng = js[\"results\"][0][\"geometry\"][\"location\"][\"lng\"] \n",
    "    print('lat', lat, 'lng', lng) \n",
    "    location = js['results'][0]['formatted_address'] \n",
    "    print(location)"
   ]
  },
  {
   "cell_type": "code",
   "execution_count": null,
   "metadata": {},
   "outputs": [],
   "source": []
  }
 ],
 "metadata": {
  "kernelspec": {
   "display_name": "Python 3",
   "language": "python",
   "name": "python3"
  },
  "language_info": {
   "codemirror_mode": {
    "name": "ipython",
    "version": 3
   },
   "file_extension": ".py",
   "mimetype": "text/x-python",
   "name": "python",
   "nbconvert_exporter": "python",
   "pygments_lexer": "ipython3",
   "version": "3.7.3"
  }
 },
 "nbformat": 4,
 "nbformat_minor": 2
}
