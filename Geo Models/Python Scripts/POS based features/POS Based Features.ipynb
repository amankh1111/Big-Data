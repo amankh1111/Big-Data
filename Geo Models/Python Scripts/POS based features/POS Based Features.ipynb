{
 "cells": [
  {
   "cell_type": "code",
   "execution_count": 330,
   "metadata": {},
   "outputs": [],
   "source": [
    "import numpy as np\n",
    "import pandas as pd\n",
    "import pickle\n",
    "import os \n",
    "import cx_Oracle\n",
    "from datetime import datetime"
   ]
  },
  {
   "cell_type": "markdown",
   "metadata": {},
   "source": [
    "# Read Data Files"
   ]
  },
  {
   "cell_type": "code",
   "execution_count": 331,
   "metadata": {},
   "outputs": [],
   "source": [
    "os.chdir(r\"C:\\Users\\aman.khatri91425\\Desktop\\HomeCredit\\Bigdata\\Common Maps KNN\")"
   ]
  },
  {
   "cell_type": "code",
   "execution_count": 332,
   "metadata": {},
   "outputs": [],
   "source": [
    "pos_df = pd.read_csv(os.getcwd()+r\"\\Data Files\\pos lat lng.csv\",encoding = 'latin')"
   ]
  },
  {
   "cell_type": "code",
   "execution_count": 333,
   "metadata": {},
   "outputs": [],
   "source": [
    "cus_df = pd.read_pickle(os.getcwd()+r\"\\Data Files\\final_grids_combined.pkl\")"
   ]
  },
  {
   "cell_type": "code",
   "execution_count": 334,
   "metadata": {},
   "outputs": [],
   "source": [
    "cus_pos_info = pd.read_csv(os.getcwd()+r\"\\Data Files\\skp_case_pos_mapping.csv\",encoding = 'latin')"
   ]
  },
  {
   "cell_type": "code",
   "execution_count": 335,
   "metadata": {},
   "outputs": [],
   "source": [
    "cus_df = cus_df.merge(cus_pos_info, on = 'SKP_CREDIT_CASE', how = 'inner')\n",
    "cus_df = cus_df.merge(pd.DataFrame(pos_df[[\"SKP_SALESR\",\"LAT\",\"LONG_\"]]).rename(columns = \n",
    "            {\"SKP_SALESR\":\"SKP_SALESROOM\",\"LAT\":\"CUS_POS_LAT\",\"LONG_\":\"CUS_POS_LONG\"}), on = 'SKP_SALESROOM', how = 'inner')\n"
   ]
  },
  {
   "cell_type": "code",
   "execution_count": 336,
   "metadata": {},
   "outputs": [],
   "source": [
    "cus_df.dropna(subset = [\"CUS_LAT\",\"CUS_LONG\",\"CUS_POS_LAT\",\"CUS_POS_LONG\"], inplace = True)"
   ]
  },
  {
   "cell_type": "code",
   "execution_count": 337,
   "metadata": {},
   "outputs": [],
   "source": [
    "pos_df.set_index('SKP_SALESR', inplace = True)"
   ]
  },
  {
   "cell_type": "code",
   "execution_count": 338,
   "metadata": {},
   "outputs": [],
   "source": [
    "cus_df = cus_df[cus_df.TIME_DECISION_DATE>=datetime(2019,3,1)]"
   ]
  },
  {
   "cell_type": "markdown",
   "metadata": {},
   "source": [
    "# Define Functions"
   ]
  },
  {
   "cell_type": "code",
   "execution_count": 340,
   "metadata": {},
   "outputs": [],
   "source": [
    "from math import cos, sqrt\n",
    "def qick_distance(Lat1,Long1, Lat2, Long2):\n",
    "    x = Lat2 - Lat1\n",
    "    y = (Long2 - Long1) * cos((Lat2 + Lat1)*0.00872664626)  \n",
    "    return 111.319 * sqrt(x*x + y*y)"
   ]
  },
  {
   "cell_type": "code",
   "execution_count": 341,
   "metadata": {},
   "outputs": [],
   "source": [
    "# from math import radians, cos, sin, asin, sqrt\n",
    "# def haversine(lat1, lon1, lat2, lon2):\n",
    "#     \"\"\"\n",
    "#     Calculate the great circle distance between two points \n",
    "#     on the earth (specified in decimal degrees)\n",
    "#     \"\"\"\n",
    "#     # convert decimal degrees to radians \n",
    "#     lon1, lat1, lon2, lat2 = map(radians, [lon1, lat1, lon2, lat2])\n",
    "\n",
    "#     # haversine formula \n",
    "#     dlon = lon2 - lon1 \n",
    "#     dlat = lat2 - lat1 \n",
    "#     a = sin(dlat/2)**2 + cos(lat1) * cos(lat2) * sin(dlon/2)**2\n",
    "#     c = 2 * asin(sqrt(a)) \n",
    "#     r = 6371 # Radius of earth in kilometers. Use 3956 for miles\n",
    "#     return c * r"
   ]
  },
  {
   "cell_type": "code",
   "execution_count": 342,
   "metadata": {},
   "outputs": [],
   "source": [
    "from numpy import radians, cos, sin, arcsin, sqrt\n",
    "\n",
    "def haversine(lat1,lon1,lat2,lon2):\n",
    "    \"\"\"\n",
    "    Calculate the great circle distance between two points \n",
    "    on the earth (specified in decimal degrees)\n",
    "    \"\"\"\n",
    "\n",
    "    #Convert decimal degrees to Radians:\n",
    "    lon1 = np.radians(lon1)\n",
    "    lat1 = np.radians(lat1)\n",
    "    lon2 = np.radians(lon2)\n",
    "    lat2 = np.radians(lat2)\n",
    "\n",
    "    #Implementing Haversine Formula: \n",
    "    dlon = np.subtract(lon2, lon1)\n",
    "    dlat = np.subtract(lat2, lat1)\n",
    "\n",
    "    a = np.add(np.power(np.sin(np.divide(dlat, 2)), 2),  \n",
    "                          np.multiply(np.cos(lat1), \n",
    "                                      np.multiply(np.cos(lat2), \n",
    "                                                  np.power(np.sin(np.divide(dlon, 2)), 2))))\n",
    "    c = np.multiply(2, np.arcsin(np.sqrt(a)))\n",
    "    r = 6371\n",
    "\n",
    "    return c*r"
   ]
  },
  {
   "cell_type": "code",
   "execution_count": 343,
   "metadata": {},
   "outputs": [],
   "source": [
    "# def euclidean_distance(row1, row2):\n",
    "#         distance = 0.0\n",
    "#         for i in range(len(row1)):\n",
    "#             distance += (row1[i] - row2[i])**2\n",
    "#         return sqrt(distance)\n",
    "    \n",
    "# def get_neighbors(train, test_row, num_neighbors):\n",
    "#         distances = list()\n",
    "#         for train_row in train.index:\n",
    "#             dist = euclidean_distance(test_row, [train[\"LAT\"][train_row],train[\"LONG_\"][train_row]])\n",
    "#             distances.append((train_row, dist))\n",
    "#         distances.sort(key=lambda tup: tup[1])\n",
    "#         neighbors = list()\n",
    "#         for i in range(num_neighbors):\n",
    "#             neighbors.append(distances[i])\n",
    "#         return neighbors\n",
    "\n",
    "\n",
    "# def get_rank_order(train, test_row, SKP_SALESR):\n",
    "#         distances = list()\n",
    "#         for train_row in train.index:\n",
    "#             dist = euclidean_distance(test_row, [train[\"LAT\"][train_row],train[\"LONG_\"][train_row]])    \n",
    "#             distances.append((train_row, dist))\n",
    "#         distances.sort(key=lambda tup: tup[1])\n",
    "\n",
    "#         for i in range(train.shape[0]):\n",
    "#             if SKP_SALESR == distances[i][0]:\n",
    "#                 return i+1\n",
    "\n",
    "#         return np.NaN\n",
    "\n",
    "\n",
    "# def get_nearest_pos(train, test_row):\n",
    "#         distances = list()\n",
    "#         for train_row in train.index:\n",
    "#             dist = euclidean_distance(test_row, [train[\"LAT\"][train_row],train[\"LONG_\"][train_row]])\n",
    "#             distances.append((train_row, dist))\n",
    "#         distances.sort(key=lambda tup: tup[1])\n",
    "\n",
    "#         return distances[0][0]\n",
    "\n",
    "    \n",
    "\n"
   ]
  },
  {
   "cell_type": "markdown",
   "metadata": {},
   "source": [
    "### Use vecor operations in functions instead of scalers, to speed up 100X "
   ]
  },
  {
   "cell_type": "code",
   "execution_count": 344,
   "metadata": {},
   "outputs": [],
   "source": [
    "def get_rank_order(train, test_row, SKP_SALESR):\n",
    "        distances = np.sqrt((test_row[0] - train.iloc[:, 0]) ** 2 + (test_row[1] - train.iloc[:, 1]) ** 2)\n",
    "        distances.sort_values(inplace = True)\n",
    "        \n",
    "#         distances.sort(key=lambda tup: tup[1])\n",
    "        t = 1\n",
    "        for i in distances.index:\n",
    "            if SKP_SALESR == i:\n",
    "                return t\n",
    "            t+=1\n",
    "\n",
    "        return np.nan\n",
    "\n",
    "    \n",
    "def get_nearest_pos(train, test_row):\n",
    "        distances = np.sqrt((test_row[0] - train.iloc[:, 0]) ** 2 + (test_row[1] - train.iloc[:, 1]) ** 2)\n",
    "        distances.sort_values(inplace = True)\n",
    "\n",
    "        return distances.index[0]\n",
    "\n",
    "\n",
    "    \n",
    "def get_neighbors(train, test_row, num_neighbors):\n",
    "        distances = np.sqrt((test_row[0] - train.iloc[:, 0]) ** 2 + (test_row[1] - train.iloc[:, 1]) ** 2)\n",
    "        distances.sort_values(inplace = True)\n",
    "        \n",
    "        neighbors = list()\n",
    "        for i in range(num_neighbors):\n",
    "            neighbors.append(distances.index[i])\n",
    "        return neighbors\n"
   ]
  },
  {
   "cell_type": "markdown",
   "metadata": {},
   "source": [
    "### Create combined function "
   ]
  },
  {
   "cell_type": "code",
   "execution_count": 345,
   "metadata": {},
   "outputs": [],
   "source": [
    "def get_combined(train, test_row, SKP_SALESR):\n",
    "        distances = np.sqrt((test_row[0] - train.iloc[:, 0]) ** 2 + (test_row[1] - train.iloc[:, 1]) ** 2)\n",
    "        distances.sort_values(inplace = True)\n",
    "        \n",
    "#         distances.sort(key=lambda tup: tup[1])\n",
    "        pos_order = np.nan\n",
    "        t = 1\n",
    "        for i in distances.index:\n",
    "            if SKP_SALESR == i:\n",
    "                pos_order = t\n",
    "                break\n",
    "            t+=1\n",
    "\n",
    "        return {'POS_ORDER':pos_order,\"NEAREST_POS\":distances.index[0],\n",
    "                        \"500m\":len(distances[distances<0.005]),\n",
    "                        \"1km\":len(distances[distances<0.01]),\n",
    "                        \"2km\":len(distances[distances<0.02]),\n",
    "                        \"3km\":len(distances[distances<0.03]),\n",
    "                        \"5km\":len(distances[distances<0.05])\n",
    "                       }\n"
   ]
  },
  {
   "cell_type": "markdown",
   "metadata": {},
   "source": [
    "# Generate Features"
   ]
  },
  {
   "cell_type": "markdown",
   "metadata": {},
   "source": [
    "### Rank order of POS"
   ]
  },
  {
   "cell_type": "code",
   "execution_count": 346,
   "metadata": {},
   "outputs": [
    {
     "name": "stdout",
     "output_type": "stream",
     "text": [
      "time taken in s  12718\n"
     ]
    }
   ],
   "source": [
    "tmp = {\"SKP_CREDIT_CASE\":[],\"POS_ORDER\":[], \"NEAREST_POS\":[],\"POS_500m\":[],\n",
    "      \"POS_1km\":[],\n",
    "      \"POS_2km\":[],\n",
    "      \"POS_3km\":[],\n",
    "      \"POS_5km\":[]}\n",
    "start_time = datetime.now()\n",
    "for x in cus_df.index:\n",
    "    tmp[\"SKP_CREDIT_CASE\"].append(cus_df.SKP_CREDIT_CASE[x])\n",
    "    t = get_combined(pos_df[[\"LAT\",\"LONG_\"]],[cus_df.CUS_LAT[x],cus_df.CUS_LONG[x]],cus_df.SKP_SALESROOM[x])\n",
    "    tmp[\"POS_ORDER\"].append(t[\"POS_ORDER\"])\n",
    "    tmp[\"NEAREST_POS\"].append(t[\"NEAREST_POS\"])\n",
    "    tmp[\"POS_500m\"].append(t[\"500m\"])\n",
    "    tmp[\"POS_1km\"].append(t[\"1km\"])\n",
    "    tmp[\"POS_2km\"].append(t[\"2km\"])\n",
    "    tmp[\"POS_3km\"].append(t[\"3km\"])\n",
    "    tmp[\"POS_5km\"].append(t[\"5km\"])\n",
    "    \n",
    "print(\"time taken in s \" ,  (datetime.now()-start_time).seconds)"
   ]
  },
  {
   "cell_type": "code",
   "execution_count": 347,
   "metadata": {},
   "outputs": [],
   "source": [
    "cus_df = cus_df.merge(pd.DataFrame(tmp), on = 'SKP_CREDIT_CASE', how= 'inner')\n"
   ]
  },
  {
   "cell_type": "code",
   "execution_count": 348,
   "metadata": {},
   "outputs": [
    {
     "data": {
      "text/html": [
       "<div>\n",
       "<style scoped>\n",
       "    .dataframe tbody tr th:only-of-type {\n",
       "        vertical-align: middle;\n",
       "    }\n",
       "\n",
       "    .dataframe tbody tr th {\n",
       "        vertical-align: top;\n",
       "    }\n",
       "\n",
       "    .dataframe thead th {\n",
       "        text-align: right;\n",
       "    }\n",
       "</style>\n",
       "<table border=\"1\" class=\"dataframe\">\n",
       "  <thead>\n",
       "    <tr style=\"text-align: right;\">\n",
       "      <th></th>\n",
       "      <th>SKP_CREDIT_CASE</th>\n",
       "      <th>TIME_DECISION_DATE</th>\n",
       "      <th>CUS_LAT</th>\n",
       "      <th>CUS_LONG</th>\n",
       "      <th>RISK_FPD10</th>\n",
       "      <th>RISK_FPD30</th>\n",
       "      <th>RISK_FSPD30</th>\n",
       "      <th>RISK_FSTPD30</th>\n",
       "      <th>RISK_FSTQPD30</th>\n",
       "      <th>RISK_FSTQPD60</th>\n",
       "      <th>...</th>\n",
       "      <th>SKP_SALESROOM</th>\n",
       "      <th>CUS_POS_LAT</th>\n",
       "      <th>CUS_POS_LONG</th>\n",
       "      <th>POS_ORDER</th>\n",
       "      <th>NEAREST_POS</th>\n",
       "      <th>POS_500m</th>\n",
       "      <th>POS_1km</th>\n",
       "      <th>POS_2km</th>\n",
       "      <th>POS_3km</th>\n",
       "      <th>POS_5km</th>\n",
       "    </tr>\n",
       "  </thead>\n",
       "  <tbody>\n",
       "    <tr>\n",
       "      <th>0</th>\n",
       "      <td>245663258</td>\n",
       "      <td>2019-08-04</td>\n",
       "      <td>30.817513</td>\n",
       "      <td>75.188828</td>\n",
       "      <td>0.0</td>\n",
       "      <td>0.0</td>\n",
       "      <td>0.0</td>\n",
       "      <td>0.0</td>\n",
       "      <td>0.0</td>\n",
       "      <td>0.0</td>\n",
       "      <td>...</td>\n",
       "      <td>263979</td>\n",
       "      <td>30.817887</td>\n",
       "      <td>75.172352</td>\n",
       "      <td>35</td>\n",
       "      <td>4789380</td>\n",
       "      <td>2</td>\n",
       "      <td>9</td>\n",
       "      <td>54</td>\n",
       "      <td>74</td>\n",
       "      <td>75</td>\n",
       "    </tr>\n",
       "    <tr>\n",
       "      <th>1</th>\n",
       "      <td>227547736</td>\n",
       "      <td>2019-03-05</td>\n",
       "      <td>30.901959</td>\n",
       "      <td>75.233321</td>\n",
       "      <td>0.0</td>\n",
       "      <td>0.0</td>\n",
       "      <td>0.0</td>\n",
       "      <td>0.0</td>\n",
       "      <td>0.0</td>\n",
       "      <td>0.0</td>\n",
       "      <td>...</td>\n",
       "      <td>263979</td>\n",
       "      <td>30.817887</td>\n",
       "      <td>75.172352</td>\n",
       "      <td>55</td>\n",
       "      <td>7909763</td>\n",
       "      <td>0</td>\n",
       "      <td>0</td>\n",
       "      <td>0</td>\n",
       "      <td>0</td>\n",
       "      <td>11</td>\n",
       "    </tr>\n",
       "    <tr>\n",
       "      <th>2</th>\n",
       "      <td>227701333</td>\n",
       "      <td>2019-03-06</td>\n",
       "      <td>30.807835</td>\n",
       "      <td>75.182451</td>\n",
       "      <td>0.0</td>\n",
       "      <td>0.0</td>\n",
       "      <td>0.0</td>\n",
       "      <td>0.0</td>\n",
       "      <td>0.0</td>\n",
       "      <td>0.0</td>\n",
       "      <td>...</td>\n",
       "      <td>263979</td>\n",
       "      <td>30.817887</td>\n",
       "      <td>75.172352</td>\n",
       "      <td>23</td>\n",
       "      <td>38089080</td>\n",
       "      <td>0</td>\n",
       "      <td>7</td>\n",
       "      <td>69</td>\n",
       "      <td>75</td>\n",
       "      <td>75</td>\n",
       "    </tr>\n",
       "    <tr>\n",
       "      <th>3</th>\n",
       "      <td>228284193</td>\n",
       "      <td>2019-03-11</td>\n",
       "      <td>30.819649</td>\n",
       "      <td>75.104914</td>\n",
       "      <td>0.0</td>\n",
       "      <td>0.0</td>\n",
       "      <td>0.0</td>\n",
       "      <td>0.0</td>\n",
       "      <td>0.0</td>\n",
       "      <td>0.0</td>\n",
       "      <td>...</td>\n",
       "      <td>263979</td>\n",
       "      <td>30.817887</td>\n",
       "      <td>75.172352</td>\n",
       "      <td>36</td>\n",
       "      <td>34465125</td>\n",
       "      <td>0</td>\n",
       "      <td>0</td>\n",
       "      <td>0</td>\n",
       "      <td>0</td>\n",
       "      <td>0</td>\n",
       "    </tr>\n",
       "    <tr>\n",
       "      <th>4</th>\n",
       "      <td>228715739</td>\n",
       "      <td>2019-03-14</td>\n",
       "      <td>30.804140</td>\n",
       "      <td>75.176426</td>\n",
       "      <td>0.0</td>\n",
       "      <td>0.0</td>\n",
       "      <td>0.0</td>\n",
       "      <td>0.0</td>\n",
       "      <td>0.0</td>\n",
       "      <td>0.0</td>\n",
       "      <td>...</td>\n",
       "      <td>263979</td>\n",
       "      <td>30.817887</td>\n",
       "      <td>75.172352</td>\n",
       "      <td>32</td>\n",
       "      <td>24595728</td>\n",
       "      <td>0</td>\n",
       "      <td>8</td>\n",
       "      <td>67</td>\n",
       "      <td>74</td>\n",
       "      <td>75</td>\n",
       "    </tr>\n",
       "  </tbody>\n",
       "</table>\n",
       "<p>5 rows × 23 columns</p>\n",
       "</div>"
      ],
      "text/plain": [
       "   SKP_CREDIT_CASE TIME_DECISION_DATE    CUS_LAT   CUS_LONG  RISK_FPD10  \\\n",
       "0        245663258         2019-08-04  30.817513  75.188828         0.0   \n",
       "1        227547736         2019-03-05  30.901959  75.233321         0.0   \n",
       "2        227701333         2019-03-06  30.807835  75.182451         0.0   \n",
       "3        228284193         2019-03-11  30.819649  75.104914         0.0   \n",
       "4        228715739         2019-03-14  30.804140  75.176426         0.0   \n",
       "\n",
       "   RISK_FPD30  RISK_FSPD30  RISK_FSTPD30  RISK_FSTQPD30  RISK_FSTQPD60  ...  \\\n",
       "0         0.0          0.0           0.0            0.0            0.0  ...   \n",
       "1         0.0          0.0           0.0            0.0            0.0  ...   \n",
       "2         0.0          0.0           0.0            0.0            0.0  ...   \n",
       "3         0.0          0.0           0.0            0.0            0.0  ...   \n",
       "4         0.0          0.0           0.0            0.0            0.0  ...   \n",
       "\n",
       "  SKP_SALESROOM CUS_POS_LAT  CUS_POS_LONG  POS_ORDER  NEAREST_POS  POS_500m  \\\n",
       "0        263979   30.817887     75.172352         35      4789380         2   \n",
       "1        263979   30.817887     75.172352         55      7909763         0   \n",
       "2        263979   30.817887     75.172352         23     38089080         0   \n",
       "3        263979   30.817887     75.172352         36     34465125         0   \n",
       "4        263979   30.817887     75.172352         32     24595728         0   \n",
       "\n",
       "   POS_1km  POS_2km  POS_3km  POS_5km  \n",
       "0        9       54       74       75  \n",
       "1        0        0        0       11  \n",
       "2        7       69       75       75  \n",
       "3        0        0        0        0  \n",
       "4        8       67       74       75  \n",
       "\n",
       "[5 rows x 23 columns]"
      ]
     },
     "execution_count": 348,
     "metadata": {},
     "output_type": "execute_result"
    }
   ],
   "source": [
    "cus_df.head()"
   ]
  },
  {
   "cell_type": "code",
   "execution_count": 349,
   "metadata": {},
   "outputs": [],
   "source": [
    "cus_df.to_csv(os.getcwd()+r\"\\Data Files\\backup1.csv\")"
   ]
  },
  {
   "cell_type": "markdown",
   "metadata": {},
   "source": [
    "### Distance from POS"
   ]
  },
  {
   "cell_type": "code",
   "execution_count": 350,
   "metadata": {},
   "outputs": [],
   "source": [
    "cus_df[\"DISTANCE_FROM_POS\"] = haversine(cus_df.CUS_LAT,cus_df.CUS_LONG,cus_df.CUS_POS_LAT,cus_df.CUS_POS_LONG)"
   ]
  },
  {
   "cell_type": "markdown",
   "metadata": {},
   "source": [
    "### Distance from nearest POS"
   ]
  },
  {
   "cell_type": "code",
   "execution_count": 351,
   "metadata": {},
   "outputs": [],
   "source": [
    "pos_df1 = pd.read_csv(os.getcwd()+r\"\\Data Files\\pos lat lng.csv\",encoding = 'latin')"
   ]
  },
  {
   "cell_type": "code",
   "execution_count": 352,
   "metadata": {},
   "outputs": [],
   "source": [
    "cus_df = cus_df.merge(pd.DataFrame(pos_df1[[\"SKP_SALESR\",\"LAT\",\"LONG_\"]]).rename(columns = \n",
    "            {\"SKP_SALESR\":\"NEAREST_POS\",\"LAT\":\"NEAREST_POS_LAT\",\"LONG_\":\"NEAREST_POS_LONG\"}), on = 'NEAREST_POS', how = 'inner')\n"
   ]
  },
  {
   "cell_type": "code",
   "execution_count": 353,
   "metadata": {},
   "outputs": [],
   "source": [
    "cus_df[\"DISTANCE_FROM_NEAREST_POS\"] = haversine(cus_df.CUS_LAT,cus_df.CUS_LONG,cus_df.NEAREST_POS_LAT,cus_df.NEAREST_POS_LONG)"
   ]
  },
  {
   "cell_type": "code",
   "execution_count": 354,
   "metadata": {},
   "outputs": [],
   "source": [
    "cus_df.to_csv(os.getcwd()+r\"\\Data Files\\backup2.csv\")"
   ]
  },
  {
   "cell_type": "markdown",
   "metadata": {},
   "source": [
    "### People in vicinity - 500m, 1KM, 2KM, 3KM, 5KM radius"
   ]
  },
  {
   "cell_type": "code",
   "execution_count": 355,
   "metadata": {},
   "outputs": [],
   "source": [
    "#Factor of 100 between haversine and eucledian distance"
   ]
  },
  {
   "cell_type": "code",
   "execution_count": 356,
   "metadata": {},
   "outputs": [],
   "source": [
    "cus_train=cus_df.sample(50000,random_state=2)"
   ]
  },
  {
   "cell_type": "code",
   "execution_count": 366,
   "metadata": {
    "scrolled": true
   },
   "outputs": [
    {
     "name": "stdout",
     "output_type": "stream",
     "text": [
      "time taken in s  0\n",
      "time taken in s  6775\n",
      "time taken in s  12704\n",
      "time taken in s  15463\n",
      "time taken in s  18105\n",
      "time taken in s  20698\n",
      "time taken in s  23252\n",
      "time taken in s  25779\n",
      "time taken in s  28309\n",
      "time taken in s  30863\n",
      "time taken in s  33450\n",
      "time taken in s  39799\n",
      "time taken in s  44934\n",
      "time taken in s  48839\n",
      "time taken in s  52249\n"
     ]
    }
   ],
   "source": [
    "tmp = {\"SKP_CREDIT_CASE\":[],\"CUST_500m\":[],\n",
    "      \"CUST_1km\":[],\n",
    "      \"CUST_2km\":[],\n",
    "      \"CUST_3km\":[],\n",
    "      \"CUST_5km\":[]}\n",
    "start_time = datetime.now()\n",
    "for x in cus_df.index:\n",
    "    tmp[\"SKP_CREDIT_CASE\"].append(cus_df.SKP_CREDIT_CASE[x])\n",
    "    t = get_combined(cus_train[[\"CUS_LAT\",\"CUS_LONG\"]],[cus_df.CUS_LAT[x],cus_df.CUS_LONG[x]],cus_df.SKP_SALESROOM[x])\n",
    "    tmp[\"CUST_500m\"].append(t[\"500m\"])\n",
    "    tmp[\"CUST_1km\"].append(t[\"1km\"])\n",
    "    tmp[\"CUST_2km\"].append(t[\"2km\"])\n",
    "    tmp[\"CUST_3km\"].append(t[\"3km\"])\n",
    "    tmp[\"CUST_5km\"].append(t[\"5km\"])\n",
    "    \n",
    "    if x%100000==0:\n",
    "        tmp1=pd.DataFrame(tmp)\n",
    "        tmp1.to_csv(os.getcwd()+r\"\\Data Files\\backup3.csv\")\n",
    "        print(\"time taken in s \" ,  (datetime.now()-start_time).seconds)\n",
    "        \n",
    "print(\"time taken in s \" ,  (datetime.now()-start_time).seconds)"
   ]
  },
  {
   "cell_type": "code",
   "execution_count": null,
   "metadata": {},
   "outputs": [],
   "source": [
    "cus_df = cus_df.merge(pd.DataFrame(tmp), on = 'SKP_CREDIT_CASE', how= 'inner')"
   ]
  },
  {
   "cell_type": "code",
   "execution_count": null,
   "metadata": {},
   "outputs": [],
   "source": [
    "cus_df.to_csv(os.getcwd()+r\"\\Data Files\\backup3.csv\")"
   ]
  },
  {
   "cell_type": "markdown",
   "metadata": {},
   "source": [
    "### POS in vicinity - 500m, 1KM, 2KM, 3KM, 5KM radius"
   ]
  },
  {
   "cell_type": "code",
   "execution_count": 287,
   "metadata": {},
   "outputs": [],
   "source": [
    "#Features already generated in joint function call while POS_ORDERING generation"
   ]
  },
  {
   "cell_type": "code",
   "execution_count": null,
   "metadata": {},
   "outputs": [],
   "source": []
  },
  {
   "cell_type": "code",
   "execution_count": null,
   "metadata": {},
   "outputs": [],
   "source": []
  },
  {
   "cell_type": "code",
   "execution_count": null,
   "metadata": {},
   "outputs": [],
   "source": []
  },
  {
   "cell_type": "code",
   "execution_count": null,
   "metadata": {},
   "outputs": [],
   "source": []
  },
  {
   "cell_type": "markdown",
   "metadata": {},
   "source": [
    "### POC for distance between PA and CA"
   ]
  },
  {
   "cell_type": "code",
   "execution_count": null,
   "metadata": {},
   "outputs": [],
   "source": []
  },
  {
   "cell_type": "code",
   "execution_count": null,
   "metadata": {},
   "outputs": [],
   "source": []
  },
  {
   "cell_type": "code",
   "execution_count": null,
   "metadata": {},
   "outputs": [],
   "source": []
  },
  {
   "cell_type": "code",
   "execution_count": null,
   "metadata": {},
   "outputs": [],
   "source": []
  },
  {
   "cell_type": "code",
   "execution_count": null,
   "metadata": {},
   "outputs": [],
   "source": []
  },
  {
   "cell_type": "code",
   "execution_count": null,
   "metadata": {},
   "outputs": [],
   "source": []
  },
  {
   "cell_type": "code",
   "execution_count": null,
   "metadata": {},
   "outputs": [],
   "source": []
  },
  {
   "cell_type": "code",
   "execution_count": null,
   "metadata": {},
   "outputs": [],
   "source": []
  },
  {
   "cell_type": "code",
   "execution_count": null,
   "metadata": {},
   "outputs": [],
   "source": []
  },
  {
   "cell_type": "code",
   "execution_count": null,
   "metadata": {},
   "outputs": [],
   "source": []
  },
  {
   "cell_type": "code",
   "execution_count": null,
   "metadata": {},
   "outputs": [],
   "source": []
  },
  {
   "cell_type": "code",
   "execution_count": null,
   "metadata": {},
   "outputs": [],
   "source": []
  },
  {
   "cell_type": "code",
   "execution_count": null,
   "metadata": {},
   "outputs": [],
   "source": []
  }
 ],
 "metadata": {
  "kernelspec": {
   "display_name": "Python 3",
   "language": "python",
   "name": "python3"
  },
  "language_info": {
   "codemirror_mode": {
    "name": "ipython",
    "version": 3
   },
   "file_extension": ".py",
   "mimetype": "text/x-python",
   "name": "python",
   "nbconvert_exporter": "python",
   "pygments_lexer": "ipython3",
   "version": "3.7.3"
  }
 },
 "nbformat": 4,
 "nbformat_minor": 2
}
