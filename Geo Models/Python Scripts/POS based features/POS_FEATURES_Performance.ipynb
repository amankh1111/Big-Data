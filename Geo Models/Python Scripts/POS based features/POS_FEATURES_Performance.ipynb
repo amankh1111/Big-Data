{
 "cells": [
  {
   "cell_type": "code",
   "execution_count": 87,
   "metadata": {},
   "outputs": [],
   "source": [
    "import os\n",
    "import cx_Oracle\n",
    "import pandas as pd\n",
    "import numpy as np\n",
    "import pickle\n",
    "from datetime import date,datetime\n",
    "from sklearn import metrics\n",
    "from sklearn.model_selection import train_test_split, StratifiedKFold, RandomizedSearchCV, cross_val_score \n",
    "import time\n",
    "import matplotlib.pyplot as plt\n",
    "from sklearn.utils import resample\n",
    "import datetime\n",
    "import sys\n",
    "sys.path.append(R'C:\\Users\\aman.khatri91425\\Desktop\\HomeCredit\\Bigdata\\Scoring Worlflow')"
   ]
  },
  {
   "cell_type": "markdown",
   "metadata": {},
   "source": [
    "# Read Data File"
   ]
  },
  {
   "cell_type": "code",
   "execution_count": 88,
   "metadata": {},
   "outputs": [],
   "source": [
    "df= pd.read_csv(r\"C:\\Users\\aman.khatri91425\\Desktop\\HomeCredit\\Bigdata\\Common Maps KNN\\Data Files\\backup2.csv\")\n"
   ]
  },
  {
   "cell_type": "code",
   "execution_count": 89,
   "metadata": {},
   "outputs": [],
   "source": [
    "df1 = pd.read_csv(r\"C:\\Users\\aman.khatri91425\\Desktop\\HomeCredit\\Bigdata\\Common Maps KNN\\Data Files\\backup3.csv\")"
   ]
  },
  {
   "cell_type": "code",
   "execution_count": 90,
   "metadata": {},
   "outputs": [],
   "source": [
    "df = df.merge(df1, on= 'SKP_CREDIT_CASE', how = 'inner')"
   ]
  },
  {
   "cell_type": "markdown",
   "metadata": {},
   "source": [
    "# Create features for Analysis "
   ]
  },
  {
   "cell_type": "code",
   "execution_count": 91,
   "metadata": {},
   "outputs": [],
   "source": [
    "features_list = ['POS_ORDER',\n",
    "       'POS_500m', 'POS_1km', 'POS_2km', 'POS_3km', 'POS_5km', 'CUST_500m', 'CUST_1km',\n",
    "       'CUST_2km', 'CUST_3km', 'CUST_5km',\n",
    "       'DISTANCE_FROM_POS','DISTANCE_FROM_NEAREST_POS','RATIO_DISTANCE_CUS_POS_NEAREST_POS']"
   ]
  },
  {
   "cell_type": "code",
   "execution_count": 92,
   "metadata": {},
   "outputs": [],
   "source": [
    "df[\"RATIO_DISTANCE_CUS_POS_NEAREST_POS\"] = df['DISTANCE_FROM_POS']/df['DISTANCE_FROM_NEAREST_POS']"
   ]
  },
  {
   "cell_type": "code",
   "execution_count": 93,
   "metadata": {},
   "outputs": [
    {
     "data": {
      "text/html": [
       "<div>\n",
       "<style scoped>\n",
       "    .dataframe tbody tr th:only-of-type {\n",
       "        vertical-align: middle;\n",
       "    }\n",
       "\n",
       "    .dataframe tbody tr th {\n",
       "        vertical-align: top;\n",
       "    }\n",
       "\n",
       "    .dataframe thead th {\n",
       "        text-align: right;\n",
       "    }\n",
       "</style>\n",
       "<table border=\"1\" class=\"dataframe\">\n",
       "  <thead>\n",
       "    <tr style=\"text-align: right;\">\n",
       "      <th></th>\n",
       "      <th>Unnamed: 0_x</th>\n",
       "      <th>SKP_CREDIT_CASE</th>\n",
       "      <th>TIME_DECISION_DATE</th>\n",
       "      <th>CUS_LAT</th>\n",
       "      <th>CUS_LONG</th>\n",
       "      <th>RISK_FPD10</th>\n",
       "      <th>RISK_FPD30</th>\n",
       "      <th>RISK_FSPD30</th>\n",
       "      <th>RISK_FSTPD30</th>\n",
       "      <th>RISK_FSTQPD30</th>\n",
       "      <th>...</th>\n",
       "      <th>NEAREST_POS_LAT</th>\n",
       "      <th>NEAREST_POS_LONG</th>\n",
       "      <th>DISTANCE_FROM_NEAREST_POS</th>\n",
       "      <th>Unnamed: 0_y</th>\n",
       "      <th>CUST_500m</th>\n",
       "      <th>CUST_1km</th>\n",
       "      <th>CUST_2km</th>\n",
       "      <th>CUST_3km</th>\n",
       "      <th>CUST_5km</th>\n",
       "      <th>RATIO_DISTANCE_CUS_POS_NEAREST_POS</th>\n",
       "    </tr>\n",
       "  </thead>\n",
       "  <tbody>\n",
       "    <tr>\n",
       "      <th>0</th>\n",
       "      <td>0</td>\n",
       "      <td>245663258</td>\n",
       "      <td>2019-08-04</td>\n",
       "      <td>30.817513</td>\n",
       "      <td>75.188828</td>\n",
       "      <td>0.0</td>\n",
       "      <td>0.0</td>\n",
       "      <td>0.0</td>\n",
       "      <td>0.0</td>\n",
       "      <td>0.0</td>\n",
       "      <td>...</td>\n",
       "      <td>30.816818</td>\n",
       "      <td>75.185576</td>\n",
       "      <td>0.319998</td>\n",
       "      <td>0</td>\n",
       "      <td>11</td>\n",
       "      <td>20</td>\n",
       "      <td>59</td>\n",
       "      <td>75</td>\n",
       "      <td>88</td>\n",
       "      <td>4.918633</td>\n",
       "    </tr>\n",
       "    <tr>\n",
       "      <th>1</th>\n",
       "      <td>1</td>\n",
       "      <td>243527210</td>\n",
       "      <td>2019-07-12</td>\n",
       "      <td>30.817513</td>\n",
       "      <td>75.188828</td>\n",
       "      <td>0.0</td>\n",
       "      <td>0.0</td>\n",
       "      <td>0.0</td>\n",
       "      <td>0.0</td>\n",
       "      <td>0.0</td>\n",
       "      <td>...</td>\n",
       "      <td>30.816818</td>\n",
       "      <td>75.185576</td>\n",
       "      <td>0.319998</td>\n",
       "      <td>1</td>\n",
       "      <td>11</td>\n",
       "      <td>20</td>\n",
       "      <td>59</td>\n",
       "      <td>75</td>\n",
       "      <td>88</td>\n",
       "      <td>4.918633</td>\n",
       "    </tr>\n",
       "    <tr>\n",
       "      <th>2</th>\n",
       "      <td>2</td>\n",
       "      <td>245406342</td>\n",
       "      <td>2019-07-27</td>\n",
       "      <td>30.817073</td>\n",
       "      <td>75.183539</td>\n",
       "      <td>0.0</td>\n",
       "      <td>0.0</td>\n",
       "      <td>0.0</td>\n",
       "      <td>0.0</td>\n",
       "      <td>0.0</td>\n",
       "      <td>...</td>\n",
       "      <td>30.816818</td>\n",
       "      <td>75.185576</td>\n",
       "      <td>0.196571</td>\n",
       "      <td>2</td>\n",
       "      <td>11</td>\n",
       "      <td>21</td>\n",
       "      <td>66</td>\n",
       "      <td>75</td>\n",
       "      <td>87</td>\n",
       "      <td>5.454364</td>\n",
       "    </tr>\n",
       "    <tr>\n",
       "      <th>3</th>\n",
       "      <td>3</td>\n",
       "      <td>227674475</td>\n",
       "      <td>2019-03-06</td>\n",
       "      <td>30.817073</td>\n",
       "      <td>75.183539</td>\n",
       "      <td>0.0</td>\n",
       "      <td>0.0</td>\n",
       "      <td>0.0</td>\n",
       "      <td>0.0</td>\n",
       "      <td>0.0</td>\n",
       "      <td>...</td>\n",
       "      <td>30.816818</td>\n",
       "      <td>75.185576</td>\n",
       "      <td>0.196571</td>\n",
       "      <td>3</td>\n",
       "      <td>11</td>\n",
       "      <td>21</td>\n",
       "      <td>66</td>\n",
       "      <td>75</td>\n",
       "      <td>87</td>\n",
       "      <td>5.414108</td>\n",
       "    </tr>\n",
       "    <tr>\n",
       "      <th>4</th>\n",
       "      <td>4</td>\n",
       "      <td>230730436</td>\n",
       "      <td>2019-03-31</td>\n",
       "      <td>30.818386</td>\n",
       "      <td>75.186915</td>\n",
       "      <td>0.0</td>\n",
       "      <td>0.0</td>\n",
       "      <td>0.0</td>\n",
       "      <td>0.0</td>\n",
       "      <td>0.0</td>\n",
       "      <td>...</td>\n",
       "      <td>30.816818</td>\n",
       "      <td>75.185576</td>\n",
       "      <td>0.216159</td>\n",
       "      <td>4</td>\n",
       "      <td>10</td>\n",
       "      <td>23</td>\n",
       "      <td>62</td>\n",
       "      <td>76</td>\n",
       "      <td>88</td>\n",
       "      <td>6.196613</td>\n",
       "    </tr>\n",
       "  </tbody>\n",
       "</table>\n",
       "<p>5 rows × 35 columns</p>\n",
       "</div>"
      ],
      "text/plain": [
       "   Unnamed: 0_x  SKP_CREDIT_CASE TIME_DECISION_DATE    CUS_LAT   CUS_LONG  \\\n",
       "0             0        245663258         2019-08-04  30.817513  75.188828   \n",
       "1             1        243527210         2019-07-12  30.817513  75.188828   \n",
       "2             2        245406342         2019-07-27  30.817073  75.183539   \n",
       "3             3        227674475         2019-03-06  30.817073  75.183539   \n",
       "4             4        230730436         2019-03-31  30.818386  75.186915   \n",
       "\n",
       "   RISK_FPD10  RISK_FPD30  RISK_FSPD30  RISK_FSTPD30  RISK_FSTQPD30  ...  \\\n",
       "0         0.0         0.0          0.0           0.0            0.0  ...   \n",
       "1         0.0         0.0          0.0           0.0            0.0  ...   \n",
       "2         0.0         0.0          0.0           0.0            0.0  ...   \n",
       "3         0.0         0.0          0.0           0.0            0.0  ...   \n",
       "4         0.0         0.0          0.0           0.0            0.0  ...   \n",
       "\n",
       "   NEAREST_POS_LAT NEAREST_POS_LONG DISTANCE_FROM_NEAREST_POS  Unnamed: 0_y  \\\n",
       "0        30.816818        75.185576                  0.319998             0   \n",
       "1        30.816818        75.185576                  0.319998             1   \n",
       "2        30.816818        75.185576                  0.196571             2   \n",
       "3        30.816818        75.185576                  0.196571             3   \n",
       "4        30.816818        75.185576                  0.216159             4   \n",
       "\n",
       "   CUST_500m  CUST_1km  CUST_2km  CUST_3km  CUST_5km  \\\n",
       "0         11        20        59        75        88   \n",
       "1         11        20        59        75        88   \n",
       "2         11        21        66        75        87   \n",
       "3         11        21        66        75        87   \n",
       "4         10        23        62        76        88   \n",
       "\n",
       "   RATIO_DISTANCE_CUS_POS_NEAREST_POS  \n",
       "0                            4.918633  \n",
       "1                            4.918633  \n",
       "2                            5.454364  \n",
       "3                            5.414108  \n",
       "4                            6.196613  \n",
       "\n",
       "[5 rows x 35 columns]"
      ]
     },
     "execution_count": 93,
     "metadata": {},
     "output_type": "execute_result"
    }
   ],
   "source": [
    "df.head()"
   ]
  },
  {
   "cell_type": "code",
   "execution_count": 94,
   "metadata": {},
   "outputs": [],
   "source": [
    "df.TIME_DECISION_DATE = pd.to_datetime(df.TIME_DECISION_DATE,format = '%Y-%m-%d')"
   ]
  },
  {
   "cell_type": "code",
   "execution_count": 95,
   "metadata": {},
   "outputs": [],
   "source": [
    "df[\"MONTH_STR\"] = df.TIME_DECISION_DATE.dt.strftime(date_format = \"%Y-%m\")"
   ]
  },
  {
   "cell_type": "code",
   "execution_count": 96,
   "metadata": {},
   "outputs": [
    {
     "data": {
      "text/html": [
       "<div>\n",
       "<style scoped>\n",
       "    .dataframe tbody tr th:only-of-type {\n",
       "        vertical-align: middle;\n",
       "    }\n",
       "\n",
       "    .dataframe tbody tr th {\n",
       "        vertical-align: top;\n",
       "    }\n",
       "\n",
       "    .dataframe thead th {\n",
       "        text-align: right;\n",
       "    }\n",
       "</style>\n",
       "<table border=\"1\" class=\"dataframe\">\n",
       "  <thead>\n",
       "    <tr style=\"text-align: right;\">\n",
       "      <th></th>\n",
       "      <th>Unnamed: 0_x</th>\n",
       "      <th>SKP_CREDIT_CASE</th>\n",
       "      <th>TIME_DECISION_DATE</th>\n",
       "      <th>CUS_LAT</th>\n",
       "      <th>CUS_LONG</th>\n",
       "      <th>RISK_FPD10</th>\n",
       "      <th>RISK_FPD30</th>\n",
       "      <th>RISK_FSPD30</th>\n",
       "      <th>RISK_FSTPD30</th>\n",
       "      <th>RISK_FSTQPD30</th>\n",
       "      <th>...</th>\n",
       "      <th>NEAREST_POS_LONG</th>\n",
       "      <th>DISTANCE_FROM_NEAREST_POS</th>\n",
       "      <th>Unnamed: 0_y</th>\n",
       "      <th>CUST_500m</th>\n",
       "      <th>CUST_1km</th>\n",
       "      <th>CUST_2km</th>\n",
       "      <th>CUST_3km</th>\n",
       "      <th>CUST_5km</th>\n",
       "      <th>RATIO_DISTANCE_CUS_POS_NEAREST_POS</th>\n",
       "      <th>MONTH_STR</th>\n",
       "    </tr>\n",
       "  </thead>\n",
       "  <tbody>\n",
       "    <tr>\n",
       "      <th>0</th>\n",
       "      <td>0</td>\n",
       "      <td>245663258</td>\n",
       "      <td>2019-08-04</td>\n",
       "      <td>30.817513</td>\n",
       "      <td>75.188828</td>\n",
       "      <td>0.0</td>\n",
       "      <td>0.0</td>\n",
       "      <td>0.0</td>\n",
       "      <td>0.0</td>\n",
       "      <td>0.0</td>\n",
       "      <td>...</td>\n",
       "      <td>75.185576</td>\n",
       "      <td>0.319998</td>\n",
       "      <td>0</td>\n",
       "      <td>11</td>\n",
       "      <td>20</td>\n",
       "      <td>59</td>\n",
       "      <td>75</td>\n",
       "      <td>88</td>\n",
       "      <td>4.918633</td>\n",
       "      <td>2019-08</td>\n",
       "    </tr>\n",
       "    <tr>\n",
       "      <th>1</th>\n",
       "      <td>1</td>\n",
       "      <td>243527210</td>\n",
       "      <td>2019-07-12</td>\n",
       "      <td>30.817513</td>\n",
       "      <td>75.188828</td>\n",
       "      <td>0.0</td>\n",
       "      <td>0.0</td>\n",
       "      <td>0.0</td>\n",
       "      <td>0.0</td>\n",
       "      <td>0.0</td>\n",
       "      <td>...</td>\n",
       "      <td>75.185576</td>\n",
       "      <td>0.319998</td>\n",
       "      <td>1</td>\n",
       "      <td>11</td>\n",
       "      <td>20</td>\n",
       "      <td>59</td>\n",
       "      <td>75</td>\n",
       "      <td>88</td>\n",
       "      <td>4.918633</td>\n",
       "      <td>2019-07</td>\n",
       "    </tr>\n",
       "    <tr>\n",
       "      <th>2</th>\n",
       "      <td>2</td>\n",
       "      <td>245406342</td>\n",
       "      <td>2019-07-27</td>\n",
       "      <td>30.817073</td>\n",
       "      <td>75.183539</td>\n",
       "      <td>0.0</td>\n",
       "      <td>0.0</td>\n",
       "      <td>0.0</td>\n",
       "      <td>0.0</td>\n",
       "      <td>0.0</td>\n",
       "      <td>...</td>\n",
       "      <td>75.185576</td>\n",
       "      <td>0.196571</td>\n",
       "      <td>2</td>\n",
       "      <td>11</td>\n",
       "      <td>21</td>\n",
       "      <td>66</td>\n",
       "      <td>75</td>\n",
       "      <td>87</td>\n",
       "      <td>5.454364</td>\n",
       "      <td>2019-07</td>\n",
       "    </tr>\n",
       "    <tr>\n",
       "      <th>3</th>\n",
       "      <td>3</td>\n",
       "      <td>227674475</td>\n",
       "      <td>2019-03-06</td>\n",
       "      <td>30.817073</td>\n",
       "      <td>75.183539</td>\n",
       "      <td>0.0</td>\n",
       "      <td>0.0</td>\n",
       "      <td>0.0</td>\n",
       "      <td>0.0</td>\n",
       "      <td>0.0</td>\n",
       "      <td>...</td>\n",
       "      <td>75.185576</td>\n",
       "      <td>0.196571</td>\n",
       "      <td>3</td>\n",
       "      <td>11</td>\n",
       "      <td>21</td>\n",
       "      <td>66</td>\n",
       "      <td>75</td>\n",
       "      <td>87</td>\n",
       "      <td>5.414108</td>\n",
       "      <td>2019-03</td>\n",
       "    </tr>\n",
       "    <tr>\n",
       "      <th>4</th>\n",
       "      <td>4</td>\n",
       "      <td>230730436</td>\n",
       "      <td>2019-03-31</td>\n",
       "      <td>30.818386</td>\n",
       "      <td>75.186915</td>\n",
       "      <td>0.0</td>\n",
       "      <td>0.0</td>\n",
       "      <td>0.0</td>\n",
       "      <td>0.0</td>\n",
       "      <td>0.0</td>\n",
       "      <td>...</td>\n",
       "      <td>75.185576</td>\n",
       "      <td>0.216159</td>\n",
       "      <td>4</td>\n",
       "      <td>10</td>\n",
       "      <td>23</td>\n",
       "      <td>62</td>\n",
       "      <td>76</td>\n",
       "      <td>88</td>\n",
       "      <td>6.196613</td>\n",
       "      <td>2019-03</td>\n",
       "    </tr>\n",
       "  </tbody>\n",
       "</table>\n",
       "<p>5 rows × 36 columns</p>\n",
       "</div>"
      ],
      "text/plain": [
       "   Unnamed: 0_x  SKP_CREDIT_CASE TIME_DECISION_DATE    CUS_LAT   CUS_LONG  \\\n",
       "0             0        245663258         2019-08-04  30.817513  75.188828   \n",
       "1             1        243527210         2019-07-12  30.817513  75.188828   \n",
       "2             2        245406342         2019-07-27  30.817073  75.183539   \n",
       "3             3        227674475         2019-03-06  30.817073  75.183539   \n",
       "4             4        230730436         2019-03-31  30.818386  75.186915   \n",
       "\n",
       "   RISK_FPD10  RISK_FPD30  RISK_FSPD30  RISK_FSTPD30  RISK_FSTQPD30  ...  \\\n",
       "0         0.0         0.0          0.0           0.0            0.0  ...   \n",
       "1         0.0         0.0          0.0           0.0            0.0  ...   \n",
       "2         0.0         0.0          0.0           0.0            0.0  ...   \n",
       "3         0.0         0.0          0.0           0.0            0.0  ...   \n",
       "4         0.0         0.0          0.0           0.0            0.0  ...   \n",
       "\n",
       "   NEAREST_POS_LONG DISTANCE_FROM_NEAREST_POS Unnamed: 0_y  CUST_500m  \\\n",
       "0         75.185576                  0.319998            0         11   \n",
       "1         75.185576                  0.319998            1         11   \n",
       "2         75.185576                  0.196571            2         11   \n",
       "3         75.185576                  0.196571            3         11   \n",
       "4         75.185576                  0.216159            4         10   \n",
       "\n",
       "   CUST_1km  CUST_2km  CUST_3km  CUST_5km  RATIO_DISTANCE_CUS_POS_NEAREST_POS  \\\n",
       "0        20        59        75        88                            4.918633   \n",
       "1        20        59        75        88                            4.918633   \n",
       "2        21        66        75        87                            5.454364   \n",
       "3        21        66        75        87                            5.414108   \n",
       "4        23        62        76        88                            6.196613   \n",
       "\n",
       "   MONTH_STR  \n",
       "0    2019-08  \n",
       "1    2019-07  \n",
       "2    2019-07  \n",
       "3    2019-03  \n",
       "4    2019-03  \n",
       "\n",
       "[5 rows x 36 columns]"
      ]
     },
     "execution_count": 96,
     "metadata": {},
     "output_type": "execute_result"
    }
   ],
   "source": [
    "df.head()"
   ]
  },
  {
   "cell_type": "code",
   "execution_count": 97,
   "metadata": {},
   "outputs": [],
   "source": [
    "df = df[~df[\"RATIO_DISTANCE_CUS_POS_NEAREST_POS\"].isin([0,np.inf,np.nan])]"
   ]
  },
  {
   "cell_type": "code",
   "execution_count": 98,
   "metadata": {},
   "outputs": [],
   "source": [
    "df.to_pickle(r\"C:\\Users\\aman.khatri91425\\Desktop\\HomeCredit\\Bigdata\\Common Maps KNN\\Data Files\\POS_features.pkl\")"
   ]
  },
  {
   "cell_type": "markdown",
   "metadata": {},
   "source": [
    "# WOE Analysis"
   ]
  },
  {
   "cell_type": "code",
   "execution_count": 99,
   "metadata": {},
   "outputs": [],
   "source": [
    "#df=df1\n",
    "# Split Train and Test Data Set\n",
    "df_train = df[(df[\"TIME_DECISION_DATE\"]>=datetime.datetime(2019, 3, 1)) & \n",
    "              (df[\"TIME_DECISION_DATE\"]<=datetime.datetime(2019, 4, 30))]\n",
    "df_valid = df[(df[\"TIME_DECISION_DATE\"]>=datetime.datetime(2019, 5, 1)) & \n",
    "              (df[\"TIME_DECISION_DATE\"]<=datetime.datetime(2019, 5, 31))]\n",
    "df_test = df[(df[\"TIME_DECISION_DATE\"]>=datetime.datetime(2019, 6, 1)) & \n",
    "              (df[\"TIME_DECISION_DATE\"]<=datetime.datetime(2019, 8, 31))]"
   ]
  },
  {
   "cell_type": "code",
   "execution_count": 100,
   "metadata": {},
   "outputs": [],
   "source": [
    "cols_pred_num=features_list\n",
    "cols_pred_cat = []"
   ]
  },
  {
   "cell_type": "code",
   "execution_count": 109,
   "metadata": {},
   "outputs": [
    {
     "data": {
      "application/vnd.jupyter.widget-view+json": {
       "model_id": "6480546815284c5c8b6a040fcb4d457d",
       "version_major": 2,
       "version_minor": 0
      },
      "text/plain": [
       "HBox(children=(IntProgress(value=0, max=14), HTML(value='')))"
      ]
     },
     "metadata": {},
     "output_type": "display_data"
    },
    {
     "name": "stdout",
     "output_type": "stream",
     "text": [
      "\n"
     ]
    },
    {
     "data": {
      "text/plain": [
       "'Grouping saved on 2020-04-01 00:21:22 to file C:\\\\Users\\\\aman.khatri91425\\\\Desktop\\\\HomeCredit\\\\Bigdata\\\\Common Maps KNN\\\\my_grouping'"
      ]
     },
     "metadata": {},
     "output_type": "display_data"
    },
    {
     "data": {
      "application/vnd.jupyter.widget-view+json": {
       "model_id": "864364edda5e44f8800f9eb6f1b1cf6e",
       "version_major": 2,
       "version_minor": 0
      },
      "text/plain": [
       "HBox(children=(IntProgress(value=0, max=14), HTML(value='')))"
      ]
     },
     "metadata": {},
     "output_type": "display_data"
    },
    {
     "name": "stdout",
     "output_type": "stream",
     "text": [
      "\n"
     ]
    }
   ],
   "source": [
    "from scoring.grouping import Grouping\n",
    "\n",
    "grouping = Grouping(columns = sorted(cols_pred_num),\n",
    "                    cat_columns = sorted(cols_pred_cat),\n",
    "                    group_count=4, \n",
    "                    min_samples=4000)\n",
    "\n",
    "grouping.fit(df_train[cols_pred_num],\n",
    "             df_train[\"RISK_FSTQPD30\"],\n",
    "          #   w=data[train_mask][col_weight],\n",
    "            progress_bar=True, category_limit=10000);\n",
    "\n",
    "grouping.save(r\"C:\\Users\\aman.khatri91425\\Desktop\\HomeCredit\\Bigdata\\Common Maps KNN\\my_grouping\")\n",
    "\n",
    "data_woe = grouping.transform(df, transform_to='woe', progress_bar=True)"
   ]
  },
  {
   "cell_type": "markdown",
   "metadata": {},
   "source": [
    "### Plot Bins"
   ]
  },
  {
   "cell_type": "code",
   "execution_count": 110,
   "metadata": {
    "scrolled": true
   },
   "outputs": [
    {
     "data": {
      "text/markdown": [
       "***"
      ],
      "text/plain": [
       "<IPython.core.display.Markdown object>"
      ]
     },
     "metadata": {},
     "output_type": "display_data"
    },
    {
     "data": {
      "text/markdown": [
       "### CUST_1km"
      ],
      "text/plain": [
       "<IPython.core.display.Markdown object>"
      ]
     },
     "metadata": {},
     "output_type": "display_data"
    },
    {
     "data": {
      "text/html": [
       "<div>\n",
       "<style scoped>\n",
       "    .dataframe tbody tr th:only-of-type {\n",
       "        vertical-align: middle;\n",
       "    }\n",
       "\n",
       "    .dataframe tbody tr th {\n",
       "        vertical-align: top;\n",
       "    }\n",
       "\n",
       "    .dataframe thead th {\n",
       "        text-align: right;\n",
       "    }\n",
       "</style>\n",
       "<table border=\"1\" class=\"dataframe\">\n",
       "  <thead>\n",
       "    <tr style=\"text-align: right;\">\n",
       "      <th></th>\n",
       "      <th>CNT_TOTAL</th>\n",
       "      <th>CNT_DEF</th>\n",
       "      <th>DEF_RATE</th>\n",
       "      <th>DIST_BAD</th>\n",
       "      <th>DIST_GOOD</th>\n",
       "      <th>WOE</th>\n",
       "      <th>WOE_check</th>\n",
       "      <th>SHARE</th>\n",
       "    </tr>\n",
       "    <tr>\n",
       "      <th>BIN_CUST_1km</th>\n",
       "      <th></th>\n",
       "      <th></th>\n",
       "      <th></th>\n",
       "      <th></th>\n",
       "      <th></th>\n",
       "      <th></th>\n",
       "      <th></th>\n",
       "      <th></th>\n",
       "    </tr>\n",
       "  </thead>\n",
       "  <tbody>\n",
       "    <tr>\n",
       "      <th>[-inf, 0.5)</th>\n",
       "      <td>49137.0</td>\n",
       "      <td>3990.0</td>\n",
       "      <td>0.0812</td>\n",
       "      <td>0.0953</td>\n",
       "      <td>0.0775</td>\n",
       "      <td>-0.2038</td>\n",
       "      <td>-0.2064</td>\n",
       "      <td>0.0787</td>\n",
       "    </tr>\n",
       "    <tr>\n",
       "      <th>[0.5, 4.5)</th>\n",
       "      <td>95332.0</td>\n",
       "      <td>7076.0</td>\n",
       "      <td>0.0742</td>\n",
       "      <td>0.1690</td>\n",
       "      <td>0.1516</td>\n",
       "      <td>-0.1075</td>\n",
       "      <td>-0.1090</td>\n",
       "      <td>0.1527</td>\n",
       "    </tr>\n",
       "    <tr>\n",
       "      <th>[4.5, 19.5)</th>\n",
       "      <td>196279.0</td>\n",
       "      <td>13156.0</td>\n",
       "      <td>0.0670</td>\n",
       "      <td>0.3142</td>\n",
       "      <td>0.3145</td>\n",
       "      <td>0.0008</td>\n",
       "      <td>0.0008</td>\n",
       "      <td>0.3145</td>\n",
       "    </tr>\n",
       "    <tr>\n",
       "      <th>[19.5, inf)</th>\n",
       "      <td>283439.0</td>\n",
       "      <td>17646.0</td>\n",
       "      <td>0.0623</td>\n",
       "      <td>0.4215</td>\n",
       "      <td>0.4564</td>\n",
       "      <td>0.0786</td>\n",
       "      <td>0.0797</td>\n",
       "      <td>0.4541</td>\n",
       "    </tr>\n",
       "    <tr>\n",
       "      <th>nan</th>\n",
       "      <td>0.0</td>\n",
       "      <td>0.0</td>\n",
       "      <td>NaN</td>\n",
       "      <td>0.0000</td>\n",
       "      <td>0.0000</td>\n",
       "      <td>NaN</td>\n",
       "      <td>-2.6325</td>\n",
       "      <td>0.0000</td>\n",
       "    </tr>\n",
       "  </tbody>\n",
       "</table>\n",
       "</div>"
      ],
      "text/plain": [
       "              CNT_TOTAL  CNT_DEF  DEF_RATE  DIST_BAD  DIST_GOOD     WOE  \\\n",
       "BIN_CUST_1km                                                              \n",
       "[-inf, 0.5)     49137.0   3990.0    0.0812    0.0953     0.0775 -0.2038   \n",
       "[0.5, 4.5)      95332.0   7076.0    0.0742    0.1690     0.1516 -0.1075   \n",
       "[4.5, 19.5)    196279.0  13156.0    0.0670    0.3142     0.3145  0.0008   \n",
       "[19.5, inf)    283439.0  17646.0    0.0623    0.4215     0.4564  0.0786   \n",
       "nan                 0.0      0.0       NaN    0.0000     0.0000     NaN   \n",
       "\n",
       "              WOE_check   SHARE  \n",
       "BIN_CUST_1km                     \n",
       "[-inf, 0.5)     -0.2064  0.0787  \n",
       "[0.5, 4.5)      -0.1090  0.1527  \n",
       "[4.5, 19.5)      0.0008  0.3145  \n",
       "[19.5, inf)      0.0797  0.4541  \n",
       "nan             -2.6325  0.0000  "
      ]
     },
     "metadata": {},
     "output_type": "display_data"
    },
    {
     "name": "stdout",
     "output_type": "stream",
     "text": [
      "IV: 0.0084\n",
      "Gini: 4.74\n"
     ]
    },
    {
     "data": {
      "image/png": "[encoded data removed]",
      "text/plain": [
       "<Figure size 720x360 with 2 Axes>"
      ]
     },
     "metadata": {
      "needs_background": "light"
     },
     "output_type": "display_data"
    },
    {
     "data": {
      "text/markdown": [
       "***"
      ],
      "text/plain": [
       "<IPython.core.display.Markdown object>"
      ]
     },
     "metadata": {},
     "output_type": "display_data"
    },
    {
     "data": {
      "text/markdown": [
       "### CUST_2km"
      ],
      "text/plain": [
       "<IPython.core.display.Markdown object>"
      ]
     },
     "metadata": {},
     "output_type": "display_data"
    },
    {
     "data": {
      "text/html": [
       "<div>\n",
       "<style scoped>\n",
       "    .dataframe tbody tr th:only-of-type {\n",
       "        vertical-align: middle;\n",
       "    }\n",
       "\n",
       "    .dataframe tbody tr th {\n",
       "        vertical-align: top;\n",
       "    }\n",
       "\n",
       "    .dataframe thead th {\n",
       "        text-align: right;\n",
       "    }\n",
       "</style>\n",
       "<table border=\"1\" class=\"dataframe\">\n",
       "  <thead>\n",
       "    <tr style=\"text-align: right;\">\n",
       "      <th></th>\n",
       "      <th>CNT_TOTAL</th>\n",
       "      <th>CNT_DEF</th>\n",
       "      <th>DEF_RATE</th>\n",
       "      <th>DIST_BAD</th>\n",
       "      <th>DIST_GOOD</th>\n",
       "      <th>WOE</th>\n",
       "      <th>WOE_check</th>\n",
       "      <th>SHARE</th>\n",
       "    </tr>\n",
       "    <tr>\n",
       "      <th>BIN_CUST_2km</th>\n",
       "      <th></th>\n",
       "      <th></th>\n",
       "      <th></th>\n",
       "      <th></th>\n",
       "      <th></th>\n",
       "      <th></th>\n",
       "      <th></th>\n",
       "      <th></th>\n",
       "    </tr>\n",
       "  </thead>\n",
       "  <tbody>\n",
       "    <tr>\n",
       "      <th>[-inf, 1.5)</th>\n",
       "      <td>47038.0</td>\n",
       "      <td>3949.0</td>\n",
       "      <td>0.0840</td>\n",
       "      <td>0.0943</td>\n",
       "      <td>0.0740</td>\n",
       "      <td>-0.2397</td>\n",
       "      <td>-0.2427</td>\n",
       "      <td>0.0754</td>\n",
       "    </tr>\n",
       "    <tr>\n",
       "      <th>[1.5, 9.5)</th>\n",
       "      <td>72682.0</td>\n",
       "      <td>5497.0</td>\n",
       "      <td>0.0756</td>\n",
       "      <td>0.1313</td>\n",
       "      <td>0.1154</td>\n",
       "      <td>-0.1276</td>\n",
       "      <td>-0.1292</td>\n",
       "      <td>0.1164</td>\n",
       "    </tr>\n",
       "    <tr>\n",
       "      <th>[9.5, 37.5)</th>\n",
       "      <td>134907.0</td>\n",
       "      <td>9184.0</td>\n",
       "      <td>0.0681</td>\n",
       "      <td>0.2194</td>\n",
       "      <td>0.2159</td>\n",
       "      <td>-0.0157</td>\n",
       "      <td>-0.0159</td>\n",
       "      <td>0.2161</td>\n",
       "    </tr>\n",
       "    <tr>\n",
       "      <th>[37.5, inf)</th>\n",
       "      <td>369560.0</td>\n",
       "      <td>23238.0</td>\n",
       "      <td>0.0629</td>\n",
       "      <td>0.5550</td>\n",
       "      <td>0.5947</td>\n",
       "      <td>0.0681</td>\n",
       "      <td>0.0691</td>\n",
       "      <td>0.5921</td>\n",
       "    </tr>\n",
       "    <tr>\n",
       "      <th>nan</th>\n",
       "      <td>0.0</td>\n",
       "      <td>0.0</td>\n",
       "      <td>NaN</td>\n",
       "      <td>0.0000</td>\n",
       "      <td>0.0000</td>\n",
       "      <td>NaN</td>\n",
       "      <td>-2.6325</td>\n",
       "      <td>0.0000</td>\n",
       "    </tr>\n",
       "  </tbody>\n",
       "</table>\n",
       "</div>"
      ],
      "text/plain": [
       "              CNT_TOTAL  CNT_DEF  DEF_RATE  DIST_BAD  DIST_GOOD     WOE  \\\n",
       "BIN_CUST_2km                                                              \n",
       "[-inf, 1.5)     47038.0   3949.0    0.0840    0.0943     0.0740 -0.2397   \n",
       "[1.5, 9.5)      72682.0   5497.0    0.0756    0.1313     0.1154 -0.1276   \n",
       "[9.5, 37.5)    134907.0   9184.0    0.0681    0.2194     0.2159 -0.0157   \n",
       "[37.5, inf)    369560.0  23238.0    0.0629    0.5550     0.5947  0.0681   \n",
       "nan                 0.0      0.0       NaN    0.0000     0.0000     NaN   \n",
       "\n",
       "              WOE_check   SHARE  \n",
       "BIN_CUST_2km                     \n",
       "[-inf, 1.5)     -0.2427  0.0754  \n",
       "[1.5, 9.5)      -0.1292  0.1164  \n",
       "[9.5, 37.5)     -0.0159  0.2161  \n",
       "[37.5, inf)      0.0691  0.5921  \n",
       "nan             -2.6325  0.0000  "
      ]
     },
     "metadata": {},
     "output_type": "display_data"
    },
    {
     "name": "stdout",
     "output_type": "stream",
     "text": [
      "IV: 0.0098\n",
      "Gini: 4.80\n"
     ]
    },
    {
     "data": {
      "image/png": "[encoded data removed]",
      "text/plain": [
       "<Figure size 720x360 with 2 Axes>"
      ]
     },
     "metadata": {
      "needs_background": "light"
     },
     "output_type": "display_data"
    },
    {
     "data": {
      "text/markdown": [
       "***"
      ],
      "text/plain": [
       "<IPython.core.display.Markdown object>"
      ]
     },
     "metadata": {},
     "output_type": "display_data"
    },
    {
     "data": {
      "text/markdown": [
       "### CUST_3km"
      ],
      "text/plain": [
       "<IPython.core.display.Markdown object>"
      ]
     },
     "metadata": {},
     "output_type": "display_data"
    },
    {
     "data": {
      "text/html": [
       "<div>\n",
       "<style scoped>\n",
       "    .dataframe tbody tr th:only-of-type {\n",
       "        vertical-align: middle;\n",
       "    }\n",
       "\n",
       "    .dataframe tbody tr th {\n",
       "        vertical-align: top;\n",
       "    }\n",
       "\n",
       "    .dataframe thead th {\n",
       "        text-align: right;\n",
       "    }\n",
       "</style>\n",
       "<table border=\"1\" class=\"dataframe\">\n",
       "  <thead>\n",
       "    <tr style=\"text-align: right;\">\n",
       "      <th></th>\n",
       "      <th>CNT_TOTAL</th>\n",
       "      <th>CNT_DEF</th>\n",
       "      <th>DEF_RATE</th>\n",
       "      <th>DIST_BAD</th>\n",
       "      <th>DIST_GOOD</th>\n",
       "      <th>WOE</th>\n",
       "      <th>WOE_check</th>\n",
       "      <th>SHARE</th>\n",
       "    </tr>\n",
       "    <tr>\n",
       "      <th>BIN_CUST_3km</th>\n",
       "      <th></th>\n",
       "      <th></th>\n",
       "      <th></th>\n",
       "      <th></th>\n",
       "      <th></th>\n",
       "      <th></th>\n",
       "      <th></th>\n",
       "      <th></th>\n",
       "    </tr>\n",
       "  </thead>\n",
       "  <tbody>\n",
       "    <tr>\n",
       "      <th>[-inf, 3.5)</th>\n",
       "      <td>49203.0</td>\n",
       "      <td>4178.0</td>\n",
       "      <td>0.0849</td>\n",
       "      <td>0.0998</td>\n",
       "      <td>0.0773</td>\n",
       "      <td>-0.2520</td>\n",
       "      <td>-0.2551</td>\n",
       "      <td>0.0788</td>\n",
       "    </tr>\n",
       "    <tr>\n",
       "      <th>[3.5, 17.5)</th>\n",
       "      <td>66227.0</td>\n",
       "      <td>5045.0</td>\n",
       "      <td>0.0762</td>\n",
       "      <td>0.1205</td>\n",
       "      <td>0.1051</td>\n",
       "      <td>-0.1353</td>\n",
       "      <td>-0.1370</td>\n",
       "      <td>0.1061</td>\n",
       "    </tr>\n",
       "    <tr>\n",
       "      <th>[17.5, 68.5)</th>\n",
       "      <td>131508.0</td>\n",
       "      <td>8964.0</td>\n",
       "      <td>0.0682</td>\n",
       "      <td>0.2141</td>\n",
       "      <td>0.2104</td>\n",
       "      <td>-0.0170</td>\n",
       "      <td>-0.0172</td>\n",
       "      <td>0.2107</td>\n",
       "    </tr>\n",
       "    <tr>\n",
       "      <th>[68.5, inf)</th>\n",
       "      <td>377249.0</td>\n",
       "      <td>23681.0</td>\n",
       "      <td>0.0628</td>\n",
       "      <td>0.5656</td>\n",
       "      <td>0.6072</td>\n",
       "      <td>0.0699</td>\n",
       "      <td>0.0709</td>\n",
       "      <td>0.6044</td>\n",
       "    </tr>\n",
       "    <tr>\n",
       "      <th>nan</th>\n",
       "      <td>0.0</td>\n",
       "      <td>0.0</td>\n",
       "      <td>NaN</td>\n",
       "      <td>0.0000</td>\n",
       "      <td>0.0000</td>\n",
       "      <td>NaN</td>\n",
       "      <td>-2.6325</td>\n",
       "      <td>0.0000</td>\n",
       "    </tr>\n",
       "  </tbody>\n",
       "</table>\n",
       "</div>"
      ],
      "text/plain": [
       "              CNT_TOTAL  CNT_DEF  DEF_RATE  DIST_BAD  DIST_GOOD     WOE  \\\n",
       "BIN_CUST_3km                                                              \n",
       "[-inf, 3.5)     49203.0   4178.0    0.0849    0.0998     0.0773 -0.2520   \n",
       "[3.5, 17.5)     66227.0   5045.0    0.0762    0.1205     0.1051 -0.1353   \n",
       "[17.5, 68.5)   131508.0   8964.0    0.0682    0.2141     0.2104 -0.0170   \n",
       "[68.5, inf)    377249.0  23681.0    0.0628    0.5656     0.6072  0.0699   \n",
       "nan                 0.0      0.0       NaN    0.0000     0.0000     NaN   \n",
       "\n",
       "              WOE_check   SHARE  \n",
       "BIN_CUST_3km                     \n",
       "[-inf, 3.5)     -0.2551  0.0788  \n",
       "[3.5, 17.5)     -0.1370  0.1061  \n",
       "[17.5, 68.5)    -0.0172  0.2107  \n",
       "[68.5, inf)      0.0709  0.6044  \n",
       "nan             -2.6325  0.0000  "
      ]
     },
     "metadata": {},
     "output_type": "display_data"
    },
    {
     "name": "stdout",
     "output_type": "stream",
     "text": [
      "IV: 0.0109\n",
      "Gini: 5.00\n"
     ]
    },
    {
     "data": {
      "image/png": "[encoded data removed]",
      "text/plain": [
       "<Figure size 720x360 with 2 Axes>"
      ]
     },
     "metadata": {
      "needs_background": "light"
     },
     "output_type": "display_data"
    },
    {
     "data": {
      "text/markdown": [
       "***"
      ],
      "text/plain": [
       "<IPython.core.display.Markdown object>"
      ]
     },
     "metadata": {},
     "output_type": "display_data"
    },
    {
     "data": {
      "text/markdown": [
       "### CUST_500m"
      ],
      "text/plain": [
       "<IPython.core.display.Markdown object>"
      ]
     },
     "metadata": {},
     "output_type": "display_data"
    },
    {
     "data": {
      "text/html": [
       "<div>\n",
       "<style scoped>\n",
       "    .dataframe tbody tr th:only-of-type {\n",
       "        vertical-align: middle;\n",
       "    }\n",
       "\n",
       "    .dataframe tbody tr th {\n",
       "        vertical-align: top;\n",
       "    }\n",
       "\n",
       "    .dataframe thead th {\n",
       "        text-align: right;\n",
       "    }\n",
       "</style>\n",
       "<table border=\"1\" class=\"dataframe\">\n",
       "  <thead>\n",
       "    <tr style=\"text-align: right;\">\n",
       "      <th></th>\n",
       "      <th>CNT_TOTAL</th>\n",
       "      <th>CNT_DEF</th>\n",
       "      <th>DEF_RATE</th>\n",
       "      <th>DIST_BAD</th>\n",
       "      <th>DIST_GOOD</th>\n",
       "      <th>WOE</th>\n",
       "      <th>WOE_check</th>\n",
       "      <th>SHARE</th>\n",
       "    </tr>\n",
       "    <tr>\n",
       "      <th>BIN_CUST_500m</th>\n",
       "      <th></th>\n",
       "      <th></th>\n",
       "      <th></th>\n",
       "      <th></th>\n",
       "      <th></th>\n",
       "      <th></th>\n",
       "      <th></th>\n",
       "      <th></th>\n",
       "    </tr>\n",
       "  </thead>\n",
       "  <tbody>\n",
       "    <tr>\n",
       "      <th>[-inf, 0.5)</th>\n",
       "      <td>84935.0</td>\n",
       "      <td>6533.0</td>\n",
       "      <td>0.0769</td>\n",
       "      <td>0.1560</td>\n",
       "      <td>0.1346</td>\n",
       "      <td>-0.1456</td>\n",
       "      <td>-0.1475</td>\n",
       "      <td>0.1361</td>\n",
       "    </tr>\n",
       "    <tr>\n",
       "      <th>[0.5, 3.5)</th>\n",
       "      <td>151930.0</td>\n",
       "      <td>10733.0</td>\n",
       "      <td>0.0706</td>\n",
       "      <td>0.2564</td>\n",
       "      <td>0.2425</td>\n",
       "      <td>-0.0549</td>\n",
       "      <td>-0.0557</td>\n",
       "      <td>0.2434</td>\n",
       "    </tr>\n",
       "    <tr>\n",
       "      <th>[3.5, 9.5)</th>\n",
       "      <td>171256.0</td>\n",
       "      <td>11120.0</td>\n",
       "      <td>0.0649</td>\n",
       "      <td>0.2656</td>\n",
       "      <td>0.2750</td>\n",
       "      <td>0.0343</td>\n",
       "      <td>0.0348</td>\n",
       "      <td>0.2744</td>\n",
       "    </tr>\n",
       "    <tr>\n",
       "      <th>[9.5, inf)</th>\n",
       "      <td>216066.0</td>\n",
       "      <td>13482.0</td>\n",
       "      <td>0.0624</td>\n",
       "      <td>0.3220</td>\n",
       "      <td>0.3479</td>\n",
       "      <td>0.0762</td>\n",
       "      <td>0.0773</td>\n",
       "      <td>0.3462</td>\n",
       "    </tr>\n",
       "    <tr>\n",
       "      <th>nan</th>\n",
       "      <td>0.0</td>\n",
       "      <td>0.0</td>\n",
       "      <td>NaN</td>\n",
       "      <td>0.0000</td>\n",
       "      <td>0.0000</td>\n",
       "      <td>NaN</td>\n",
       "      <td>-2.6325</td>\n",
       "      <td>0.0000</td>\n",
       "    </tr>\n",
       "  </tbody>\n",
       "</table>\n",
       "</div>"
      ],
      "text/plain": [
       "               CNT_TOTAL  CNT_DEF  DEF_RATE  DIST_BAD  DIST_GOOD     WOE  \\\n",
       "BIN_CUST_500m                                                              \n",
       "[-inf, 0.5)      84935.0   6533.0    0.0769    0.1560     0.1346 -0.1456   \n",
       "[0.5, 3.5)      151930.0  10733.0    0.0706    0.2564     0.2425 -0.0549   \n",
       "[3.5, 9.5)      171256.0  11120.0    0.0649    0.2656     0.2750  0.0343   \n",
       "[9.5, inf)      216066.0  13482.0    0.0624    0.3220     0.3479  0.0762   \n",
       "nan                  0.0      0.0       NaN    0.0000     0.0000     NaN   \n",
       "\n",
       "               WOE_check   SHARE  \n",
       "BIN_CUST_500m                     \n",
       "[-inf, 0.5)      -0.1475  0.1361  \n",
       "[0.5, 3.5)       -0.0557  0.2434  \n",
       "[3.5, 9.5)        0.0348  0.2744  \n",
       "[9.5, inf)        0.0773  0.3462  \n",
       "nan              -2.6325  0.0000  "
      ]
     },
     "metadata": {},
     "output_type": "display_data"
    },
    {
     "name": "stdout",
     "output_type": "stream",
     "text": [
      "IV: 0.0063\n",
      "Gini: 4.24\n"
     ]
    },
    {
     "data": {
      "image/png": "[encoded data removed]",
      "text/plain": [
       "<Figure size 720x360 with 2 Axes>"
      ]
     },
     "metadata": {
      "needs_background": "light"
     },
     "output_type": "display_data"
    },
    {
     "data": {
      "text/markdown": [
       "***"
      ],
      "text/plain": [
       "<IPython.core.display.Markdown object>"
      ]
     },
     "metadata": {},
     "output_type": "display_data"
    },
    {
     "data": {
      "text/markdown": [
       "### CUST_5km"
      ],
      "text/plain": [
       "<IPython.core.display.Markdown object>"
      ]
     },
     "metadata": {},
     "output_type": "display_data"
    },
    {
     "data": {
      "text/html": [
       "<div>\n",
       "<style scoped>\n",
       "    .dataframe tbody tr th:only-of-type {\n",
       "        vertical-align: middle;\n",
       "    }\n",
       "\n",
       "    .dataframe tbody tr th {\n",
       "        vertical-align: top;\n",
       "    }\n",
       "\n",
       "    .dataframe thead th {\n",
       "        text-align: right;\n",
       "    }\n",
       "</style>\n",
       "<table border=\"1\" class=\"dataframe\">\n",
       "  <thead>\n",
       "    <tr style=\"text-align: right;\">\n",
       "      <th></th>\n",
       "      <th>CNT_TOTAL</th>\n",
       "      <th>CNT_DEF</th>\n",
       "      <th>DEF_RATE</th>\n",
       "      <th>DIST_BAD</th>\n",
       "      <th>DIST_GOOD</th>\n",
       "      <th>WOE</th>\n",
       "      <th>WOE_check</th>\n",
       "      <th>SHARE</th>\n",
       "    </tr>\n",
       "    <tr>\n",
       "      <th>BIN_CUST_5km</th>\n",
       "      <th></th>\n",
       "      <th></th>\n",
       "      <th></th>\n",
       "      <th></th>\n",
       "      <th></th>\n",
       "      <th></th>\n",
       "      <th></th>\n",
       "      <th></th>\n",
       "    </tr>\n",
       "  </thead>\n",
       "  <tbody>\n",
       "    <tr>\n",
       "      <th>[-inf, 3.5)</th>\n",
       "      <td>26452.0</td>\n",
       "      <td>2366.0</td>\n",
       "      <td>0.0894</td>\n",
       "      <td>0.0565</td>\n",
       "      <td>0.0414</td>\n",
       "      <td>-0.3084</td>\n",
       "      <td>-0.3121</td>\n",
       "      <td>0.0424</td>\n",
       "    </tr>\n",
       "    <tr>\n",
       "      <th>[3.5, 26.5)</th>\n",
       "      <td>65899.0</td>\n",
       "      <td>5261.0</td>\n",
       "      <td>0.0798</td>\n",
       "      <td>0.1257</td>\n",
       "      <td>0.1041</td>\n",
       "      <td>-0.1855</td>\n",
       "      <td>-0.1879</td>\n",
       "      <td>0.1056</td>\n",
       "    </tr>\n",
       "    <tr>\n",
       "      <th>[26.5, 136.5)</th>\n",
       "      <td>147453.0</td>\n",
       "      <td>10173.0</td>\n",
       "      <td>0.0690</td>\n",
       "      <td>0.2430</td>\n",
       "      <td>0.2357</td>\n",
       "      <td>-0.0298</td>\n",
       "      <td>-0.0302</td>\n",
       "      <td>0.2362</td>\n",
       "    </tr>\n",
       "    <tr>\n",
       "      <th>[136.5, inf)</th>\n",
       "      <td>384383.0</td>\n",
       "      <td>24068.0</td>\n",
       "      <td>0.0626</td>\n",
       "      <td>0.5749</td>\n",
       "      <td>0.6188</td>\n",
       "      <td>0.0725</td>\n",
       "      <td>0.0736</td>\n",
       "      <td>0.6158</td>\n",
       "    </tr>\n",
       "    <tr>\n",
       "      <th>nan</th>\n",
       "      <td>0.0</td>\n",
       "      <td>0.0</td>\n",
       "      <td>NaN</td>\n",
       "      <td>0.0000</td>\n",
       "      <td>0.0000</td>\n",
       "      <td>NaN</td>\n",
       "      <td>-2.6325</td>\n",
       "      <td>0.0000</td>\n",
       "    </tr>\n",
       "  </tbody>\n",
       "</table>\n",
       "</div>"
      ],
      "text/plain": [
       "               CNT_TOTAL  CNT_DEF  DEF_RATE  DIST_BAD  DIST_GOOD     WOE  \\\n",
       "BIN_CUST_5km                                                               \n",
       "[-inf, 3.5)      26452.0   2366.0    0.0894    0.0565     0.0414 -0.3084   \n",
       "[3.5, 26.5)      65899.0   5261.0    0.0798    0.1257     0.1041 -0.1855   \n",
       "[26.5, 136.5)   147453.0  10173.0    0.0690    0.2430     0.2357 -0.0298   \n",
       "[136.5, inf)    384383.0  24068.0    0.0626    0.5749     0.6188  0.0725   \n",
       "nan                  0.0      0.0       NaN    0.0000     0.0000     NaN   \n",
       "\n",
       "               WOE_check   SHARE  \n",
       "BIN_CUST_5km                      \n",
       "[-inf, 3.5)      -0.3121  0.0424  \n",
       "[3.5, 26.5)      -0.1879  0.1056  \n",
       "[26.5, 136.5)    -0.0302  0.2362  \n",
       "[136.5, inf)      0.0736  0.6158  \n",
       "nan              -2.6325  0.0000  "
      ]
     },
     "metadata": {},
     "output_type": "display_data"
    },
    {
     "name": "stdout",
     "output_type": "stream",
     "text": [
      "IV: 0.0122\n",
      "Gini: 5.22\n"
     ]
    },
    {
     "data": {
      "image/png": "[encoded data removed]",
      "text/plain": [
       "<Figure size 720x360 with 2 Axes>"
      ]
     },
     "metadata": {
      "needs_background": "light"
     },
     "output_type": "display_data"
    },
    {
     "data": {
      "text/markdown": [
       "***"
      ],
      "text/plain": [
       "<IPython.core.display.Markdown object>"
      ]
     },
     "metadata": {},
     "output_type": "display_data"
    },
    {
     "data": {
      "text/markdown": [
       "### DISTANCE_FROM_NEAREST_POS"
      ],
      "text/plain": [
       "<IPython.core.display.Markdown object>"
      ]
     },
     "metadata": {},
     "output_type": "display_data"
    },
    {
     "data": {
      "text/html": [
       "<div>\n",
       "<style scoped>\n",
       "    .dataframe tbody tr th:only-of-type {\n",
       "        vertical-align: middle;\n",
       "    }\n",
       "\n",
       "    .dataframe tbody tr th {\n",
       "        vertical-align: top;\n",
       "    }\n",
       "\n",
       "    .dataframe thead th {\n",
       "        text-align: right;\n",
       "    }\n",
       "</style>\n",
       "<table border=\"1\" class=\"dataframe\">\n",
       "  <thead>\n",
       "    <tr style=\"text-align: right;\">\n",
       "      <th></th>\n",
       "      <th>CNT_TOTAL</th>\n",
       "      <th>CNT_DEF</th>\n",
       "      <th>DEF_RATE</th>\n",
       "      <th>DIST_BAD</th>\n",
       "      <th>DIST_GOOD</th>\n",
       "      <th>WOE</th>\n",
       "      <th>WOE_check</th>\n",
       "      <th>SHARE</th>\n",
       "    </tr>\n",
       "    <tr>\n",
       "      <th>BIN_DISTANCE_FROM_NEAREST_POS</th>\n",
       "      <th></th>\n",
       "      <th></th>\n",
       "      <th></th>\n",
       "      <th></th>\n",
       "      <th></th>\n",
       "      <th></th>\n",
       "      <th></th>\n",
       "      <th></th>\n",
       "    </tr>\n",
       "  </thead>\n",
       "  <tbody>\n",
       "    <tr>\n",
       "      <th>[-inf, 0.3222)</th>\n",
       "      <td>287320.0</td>\n",
       "      <td>18358.0</td>\n",
       "      <td>0.0639</td>\n",
       "      <td>0.4385</td>\n",
       "      <td>0.4619</td>\n",
       "      <td>0.0513</td>\n",
       "      <td>0.0520</td>\n",
       "      <td>0.4603</td>\n",
       "    </tr>\n",
       "    <tr>\n",
       "      <th>[0.3222, 3.7126)</th>\n",
       "      <td>278391.0</td>\n",
       "      <td>18734.0</td>\n",
       "      <td>0.0673</td>\n",
       "      <td>0.4475</td>\n",
       "      <td>0.4459</td>\n",
       "      <td>-0.0034</td>\n",
       "      <td>-0.0035</td>\n",
       "      <td>0.4460</td>\n",
       "    </tr>\n",
       "    <tr>\n",
       "      <th>[3.7126, 7.1406)</th>\n",
       "      <td>27314.0</td>\n",
       "      <td>2098.0</td>\n",
       "      <td>0.0768</td>\n",
       "      <td>0.0501</td>\n",
       "      <td>0.0433</td>\n",
       "      <td>-0.1441</td>\n",
       "      <td>-0.1460</td>\n",
       "      <td>0.0438</td>\n",
       "    </tr>\n",
       "    <tr>\n",
       "      <th>[7.1406, inf)</th>\n",
       "      <td>31162.0</td>\n",
       "      <td>2678.0</td>\n",
       "      <td>0.0859</td>\n",
       "      <td>0.0640</td>\n",
       "      <td>0.0489</td>\n",
       "      <td>-0.2650</td>\n",
       "      <td>-0.2682</td>\n",
       "      <td>0.0499</td>\n",
       "    </tr>\n",
       "    <tr>\n",
       "      <th>nan</th>\n",
       "      <td>0.0</td>\n",
       "      <td>0.0</td>\n",
       "      <td>NaN</td>\n",
       "      <td>0.0000</td>\n",
       "      <td>0.0000</td>\n",
       "      <td>NaN</td>\n",
       "      <td>-2.6325</td>\n",
       "      <td>0.0000</td>\n",
       "    </tr>\n",
       "  </tbody>\n",
       "</table>\n",
       "</div>"
      ],
      "text/plain": [
       "                               CNT_TOTAL  CNT_DEF  DEF_RATE  DIST_BAD  \\\n",
       "BIN_DISTANCE_FROM_NEAREST_POS                                           \n",
       "[-inf, 0.3222)                  287320.0  18358.0    0.0639    0.4385   \n",
       "[0.3222, 3.7126)                278391.0  18734.0    0.0673    0.4475   \n",
       "[3.7126, 7.1406)                 27314.0   2098.0    0.0768    0.0501   \n",
       "[7.1406, inf)                    31162.0   2678.0    0.0859    0.0640   \n",
       "nan                                  0.0      0.0       NaN    0.0000   \n",
       "\n",
       "                               DIST_GOOD     WOE  WOE_check   SHARE  \n",
       "BIN_DISTANCE_FROM_NEAREST_POS                                        \n",
       "[-inf, 0.3222)                    0.4619  0.0513     0.0520  0.4603  \n",
       "[0.3222, 3.7126)                  0.4459 -0.0034    -0.0035  0.4460  \n",
       "[3.7126, 7.1406)                  0.0433 -0.1441    -0.1460  0.0438  \n",
       "[7.1406, inf)                     0.0489 -0.2650    -0.2682  0.0499  \n",
       "nan                               0.0000     NaN    -2.6325  0.0000  "
      ]
     },
     "metadata": {},
     "output_type": "display_data"
    },
    {
     "name": "stdout",
     "output_type": "stream",
     "text": [
      "IV: 0.0063\n",
      "Gini: 3.33\n"
     ]
    },
    {
     "data": {
      "image/png": "[encoded data removed]",
      "text/plain": [
       "<Figure size 720x360 with 2 Axes>"
      ]
     },
     "metadata": {
      "needs_background": "light"
     },
     "output_type": "display_data"
    },
    {
     "data": {
      "text/markdown": [
       "***"
      ],
      "text/plain": [
       "<IPython.core.display.Markdown object>"
      ]
     },
     "metadata": {},
     "output_type": "display_data"
    },
    {
     "data": {
      "text/markdown": [
       "### DISTANCE_FROM_POS"
      ],
      "text/plain": [
       "<IPython.core.display.Markdown object>"
      ]
     },
     "metadata": {},
     "output_type": "display_data"
    },
    {
     "data": {
      "text/html": [
       "<div>\n",
       "<style scoped>\n",
       "    .dataframe tbody tr th:only-of-type {\n",
       "        vertical-align: middle;\n",
       "    }\n",
       "\n",
       "    .dataframe tbody tr th {\n",
       "        vertical-align: top;\n",
       "    }\n",
       "\n",
       "    .dataframe thead th {\n",
       "        text-align: right;\n",
       "    }\n",
       "</style>\n",
       "<table border=\"1\" class=\"dataframe\">\n",
       "  <thead>\n",
       "    <tr style=\"text-align: right;\">\n",
       "      <th></th>\n",
       "      <th>CNT_TOTAL</th>\n",
       "      <th>CNT_DEF</th>\n",
       "      <th>DEF_RATE</th>\n",
       "      <th>DIST_BAD</th>\n",
       "      <th>DIST_GOOD</th>\n",
       "      <th>WOE</th>\n",
       "      <th>WOE_check</th>\n",
       "      <th>SHARE</th>\n",
       "    </tr>\n",
       "    <tr>\n",
       "      <th>BIN_DISTANCE_FROM_POS</th>\n",
       "      <th></th>\n",
       "      <th></th>\n",
       "      <th></th>\n",
       "      <th></th>\n",
       "      <th></th>\n",
       "      <th></th>\n",
       "      <th></th>\n",
       "      <th></th>\n",
       "    </tr>\n",
       "  </thead>\n",
       "  <tbody>\n",
       "    <tr>\n",
       "      <th>[-inf, 0.6859)</th>\n",
       "      <td>127004.0</td>\n",
       "      <td>7563.0</td>\n",
       "      <td>0.0595</td>\n",
       "      <td>0.1806</td>\n",
       "      <td>0.2051</td>\n",
       "      <td>0.1252</td>\n",
       "      <td>0.1271</td>\n",
       "      <td>0.2035</td>\n",
       "    </tr>\n",
       "    <tr>\n",
       "      <th>[0.6859, 3.7115)</th>\n",
       "      <td>301581.0</td>\n",
       "      <td>19954.0</td>\n",
       "      <td>0.0662</td>\n",
       "      <td>0.4766</td>\n",
       "      <td>0.4836</td>\n",
       "      <td>0.0145</td>\n",
       "      <td>0.0147</td>\n",
       "      <td>0.4832</td>\n",
       "    </tr>\n",
       "    <tr>\n",
       "      <th>[3.7115, 16.9123)</th>\n",
       "      <td>161757.0</td>\n",
       "      <td>11601.0</td>\n",
       "      <td>0.0717</td>\n",
       "      <td>0.2771</td>\n",
       "      <td>0.2579</td>\n",
       "      <td>-0.0710</td>\n",
       "      <td>-0.0719</td>\n",
       "      <td>0.2591</td>\n",
       "    </tr>\n",
       "    <tr>\n",
       "      <th>[16.9123, inf)</th>\n",
       "      <td>33845.0</td>\n",
       "      <td>2750.0</td>\n",
       "      <td>0.0813</td>\n",
       "      <td>0.0657</td>\n",
       "      <td>0.0534</td>\n",
       "      <td>-0.2045</td>\n",
       "      <td>-0.2071</td>\n",
       "      <td>0.0542</td>\n",
       "    </tr>\n",
       "    <tr>\n",
       "      <th>nan</th>\n",
       "      <td>0.0</td>\n",
       "      <td>0.0</td>\n",
       "      <td>NaN</td>\n",
       "      <td>0.0000</td>\n",
       "      <td>0.0000</td>\n",
       "      <td>NaN</td>\n",
       "      <td>-2.6325</td>\n",
       "      <td>0.0000</td>\n",
       "    </tr>\n",
       "  </tbody>\n",
       "</table>\n",
       "</div>"
      ],
      "text/plain": [
       "                       CNT_TOTAL  CNT_DEF  DEF_RATE  DIST_BAD  DIST_GOOD  \\\n",
       "BIN_DISTANCE_FROM_POS                                                      \n",
       "[-inf, 0.6859)          127004.0   7563.0    0.0595    0.1806     0.2051   \n",
       "[0.6859, 3.7115)        301581.0  19954.0    0.0662    0.4766     0.4836   \n",
       "[3.7115, 16.9123)       161757.0  11601.0    0.0717    0.2771     0.2579   \n",
       "[16.9123, inf)           33845.0   2750.0    0.0813    0.0657     0.0534   \n",
       "nan                          0.0      0.0       NaN    0.0000     0.0000   \n",
       "\n",
       "                          WOE  WOE_check   SHARE  \n",
       "BIN_DISTANCE_FROM_POS                             \n",
       "[-inf, 0.6859)         0.1252     0.1271  0.2035  \n",
       "[0.6859, 3.7115)       0.0145     0.0147  0.4832  \n",
       "[3.7115, 16.9123)     -0.0710    -0.0719  0.2591  \n",
       "[16.9123, inf)        -0.2045    -0.2071  0.0542  \n",
       "nan                       NaN    -2.6325  0.0000  "
      ]
     },
     "metadata": {},
     "output_type": "display_data"
    },
    {
     "name": "stdout",
     "output_type": "stream",
     "text": [
      "IV: 0.0071\n",
      "Gini: 4.40\n"
     ]
    },
    {
     "data": {
      "image/png": "[encoded data removed]",
      "text/plain": [
       "<Figure size 720x360 with 2 Axes>"
      ]
     },
     "metadata": {
      "needs_background": "light"
     },
     "output_type": "display_data"
    },
    {
     "data": {
      "text/markdown": [
       "***"
      ],
      "text/plain": [
       "<IPython.core.display.Markdown object>"
      ]
     },
     "metadata": {},
     "output_type": "display_data"
    },
    {
     "data": {
      "text/markdown": [
       "### POS_1km"
      ],
      "text/plain": [
       "<IPython.core.display.Markdown object>"
      ]
     },
     "metadata": {},
     "output_type": "display_data"
    },
    {
     "data": {
      "text/html": [
       "<div>\n",
       "<style scoped>\n",
       "    .dataframe tbody tr th:only-of-type {\n",
       "        vertical-align: middle;\n",
       "    }\n",
       "\n",
       "    .dataframe tbody tr th {\n",
       "        vertical-align: top;\n",
       "    }\n",
       "\n",
       "    .dataframe thead th {\n",
       "        text-align: right;\n",
       "    }\n",
       "</style>\n",
       "<table border=\"1\" class=\"dataframe\">\n",
       "  <thead>\n",
       "    <tr style=\"text-align: right;\">\n",
       "      <th></th>\n",
       "      <th>CNT_TOTAL</th>\n",
       "      <th>CNT_DEF</th>\n",
       "      <th>DEF_RATE</th>\n",
       "      <th>DIST_BAD</th>\n",
       "      <th>DIST_GOOD</th>\n",
       "      <th>WOE</th>\n",
       "      <th>WOE_check</th>\n",
       "      <th>SHARE</th>\n",
       "    </tr>\n",
       "    <tr>\n",
       "      <th>BIN_POS_1km</th>\n",
       "      <th></th>\n",
       "      <th></th>\n",
       "      <th></th>\n",
       "      <th></th>\n",
       "      <th></th>\n",
       "      <th></th>\n",
       "      <th></th>\n",
       "      <th></th>\n",
       "    </tr>\n",
       "  </thead>\n",
       "  <tbody>\n",
       "    <tr>\n",
       "      <th>[-inf, 0.5)</th>\n",
       "      <td>136016.0</td>\n",
       "      <td>10066.0</td>\n",
       "      <td>0.0740</td>\n",
       "      <td>0.2404</td>\n",
       "      <td>0.2163</td>\n",
       "      <td>-0.1044</td>\n",
       "      <td>-0.1058</td>\n",
       "      <td>0.2179</td>\n",
       "    </tr>\n",
       "    <tr>\n",
       "      <th>[0.5, 6.5)</th>\n",
       "      <td>121986.0</td>\n",
       "      <td>8389.0</td>\n",
       "      <td>0.0688</td>\n",
       "      <td>0.2004</td>\n",
       "      <td>0.1951</td>\n",
       "      <td>-0.0264</td>\n",
       "      <td>-0.0268</td>\n",
       "      <td>0.1954</td>\n",
       "    </tr>\n",
       "    <tr>\n",
       "      <th>[6.5, 62.5)</th>\n",
       "      <td>353822.0</td>\n",
       "      <td>22529.0</td>\n",
       "      <td>0.0637</td>\n",
       "      <td>0.5381</td>\n",
       "      <td>0.5689</td>\n",
       "      <td>0.0549</td>\n",
       "      <td>0.0557</td>\n",
       "      <td>0.5669</td>\n",
       "    </tr>\n",
       "    <tr>\n",
       "      <th>[62.5, inf)</th>\n",
       "      <td>12363.0</td>\n",
       "      <td>884.0</td>\n",
       "      <td>0.0715</td>\n",
       "      <td>0.0211</td>\n",
       "      <td>0.0197</td>\n",
       "      <td>-0.0678</td>\n",
       "      <td>-0.0687</td>\n",
       "      <td>0.0198</td>\n",
       "    </tr>\n",
       "    <tr>\n",
       "      <th>nan</th>\n",
       "      <td>0.0</td>\n",
       "      <td>0.0</td>\n",
       "      <td>NaN</td>\n",
       "      <td>0.0000</td>\n",
       "      <td>0.0000</td>\n",
       "      <td>NaN</td>\n",
       "      <td>-2.6325</td>\n",
       "      <td>0.0000</td>\n",
       "    </tr>\n",
       "  </tbody>\n",
       "</table>\n",
       "</div>"
      ],
      "text/plain": [
       "             CNT_TOTAL  CNT_DEF  DEF_RATE  DIST_BAD  DIST_GOOD     WOE  \\\n",
       "BIN_POS_1km                                                              \n",
       "[-inf, 0.5)   136016.0  10066.0    0.0740    0.2404     0.2163 -0.1044   \n",
       "[0.5, 6.5)    121986.0   8389.0    0.0688    0.2004     0.1951 -0.0264   \n",
       "[6.5, 62.5)   353822.0  22529.0    0.0637    0.5381     0.5689  0.0549   \n",
       "[62.5, inf)    12363.0    884.0    0.0715    0.0211     0.0197 -0.0678   \n",
       "nan                0.0      0.0       NaN    0.0000     0.0000     NaN   \n",
       "\n",
       "             WOE_check   SHARE  \n",
       "BIN_POS_1km                     \n",
       "[-inf, 0.5)    -0.1058  0.2179  \n",
       "[0.5, 6.5)     -0.0268  0.1954  \n",
       "[6.5, 62.5)     0.0557  0.5669  \n",
       "[62.5, inf)    -0.0687  0.0198  \n",
       "nan            -2.6325  0.0000  "
      ]
     },
     "metadata": {},
     "output_type": "display_data"
    },
    {
     "name": "stdout",
     "output_type": "stream",
     "text": [
      "IV: 0.0045\n",
      "Gini: 3.47\n"
     ]
    },
    {
     "data": {
      "image/png": "[encoded data removed]",
      "text/plain": [
       "<Figure size 720x360 with 2 Axes>"
      ]
     },
     "metadata": {
      "needs_background": "light"
     },
     "output_type": "display_data"
    },
    {
     "data": {
      "text/markdown": [
       "***"
      ],
      "text/plain": [
       "<IPython.core.display.Markdown object>"
      ]
     },
     "metadata": {},
     "output_type": "display_data"
    },
    {
     "data": {
      "text/markdown": [
       "### POS_2km"
      ],
      "text/plain": [
       "<IPython.core.display.Markdown object>"
      ]
     },
     "metadata": {},
     "output_type": "display_data"
    },
    {
     "data": {
      "text/html": [
       "<div>\n",
       "<style scoped>\n",
       "    .dataframe tbody tr th:only-of-type {\n",
       "        vertical-align: middle;\n",
       "    }\n",
       "\n",
       "    .dataframe tbody tr th {\n",
       "        vertical-align: top;\n",
       "    }\n",
       "\n",
       "    .dataframe thead th {\n",
       "        text-align: right;\n",
       "    }\n",
       "</style>\n",
       "<table border=\"1\" class=\"dataframe\">\n",
       "  <thead>\n",
       "    <tr style=\"text-align: right;\">\n",
       "      <th></th>\n",
       "      <th>CNT_TOTAL</th>\n",
       "      <th>CNT_DEF</th>\n",
       "      <th>DEF_RATE</th>\n",
       "      <th>DIST_BAD</th>\n",
       "      <th>DIST_GOOD</th>\n",
       "      <th>WOE</th>\n",
       "      <th>WOE_check</th>\n",
       "      <th>SHARE</th>\n",
       "    </tr>\n",
       "    <tr>\n",
       "      <th>BIN_POS_2km</th>\n",
       "      <th></th>\n",
       "      <th></th>\n",
       "      <th></th>\n",
       "      <th></th>\n",
       "      <th></th>\n",
       "      <th></th>\n",
       "      <th></th>\n",
       "      <th></th>\n",
       "    </tr>\n",
       "  </thead>\n",
       "  <tbody>\n",
       "    <tr>\n",
       "      <th>[-inf, 0.5)</th>\n",
       "      <td>85230.0</td>\n",
       "      <td>6657.0</td>\n",
       "      <td>0.0781</td>\n",
       "      <td>0.1590</td>\n",
       "      <td>0.1349</td>\n",
       "      <td>-0.1620</td>\n",
       "      <td>-0.1641</td>\n",
       "      <td>0.1365</td>\n",
       "    </tr>\n",
       "    <tr>\n",
       "      <th>[0.5, 1.5)</th>\n",
       "      <td>13575.0</td>\n",
       "      <td>978.0</td>\n",
       "      <td>0.0720</td>\n",
       "      <td>0.0234</td>\n",
       "      <td>0.0216</td>\n",
       "      <td>-0.0758</td>\n",
       "      <td>-0.0768</td>\n",
       "      <td>0.0217</td>\n",
       "    </tr>\n",
       "    <tr>\n",
       "      <th>[1.5, 172.5)</th>\n",
       "      <td>518995.0</td>\n",
       "      <td>33763.0</td>\n",
       "      <td>0.0651</td>\n",
       "      <td>0.8064</td>\n",
       "      <td>0.8333</td>\n",
       "      <td>0.0323</td>\n",
       "      <td>0.0328</td>\n",
       "      <td>0.8315</td>\n",
       "    </tr>\n",
       "    <tr>\n",
       "      <th>[172.5, inf)</th>\n",
       "      <td>6387.0</td>\n",
       "      <td>470.0</td>\n",
       "      <td>0.0736</td>\n",
       "      <td>0.0112</td>\n",
       "      <td>0.0102</td>\n",
       "      <td>-0.0983</td>\n",
       "      <td>-0.0996</td>\n",
       "      <td>0.0102</td>\n",
       "    </tr>\n",
       "    <tr>\n",
       "      <th>nan</th>\n",
       "      <td>0.0</td>\n",
       "      <td>0.0</td>\n",
       "      <td>NaN</td>\n",
       "      <td>0.0000</td>\n",
       "      <td>0.0000</td>\n",
       "      <td>NaN</td>\n",
       "      <td>-2.6325</td>\n",
       "      <td>0.0000</td>\n",
       "    </tr>\n",
       "  </tbody>\n",
       "</table>\n",
       "</div>"
      ],
      "text/plain": [
       "              CNT_TOTAL  CNT_DEF  DEF_RATE  DIST_BAD  DIST_GOOD     WOE  \\\n",
       "BIN_POS_2km                                                               \n",
       "[-inf, 0.5)     85230.0   6657.0    0.0781    0.1590     0.1349 -0.1620   \n",
       "[0.5, 1.5)      13575.0    978.0    0.0720    0.0234     0.0216 -0.0758   \n",
       "[1.5, 172.5)   518995.0  33763.0    0.0651    0.8064     0.8333  0.0323   \n",
       "[172.5, inf)     6387.0    470.0    0.0736    0.0112     0.0102 -0.0983   \n",
       "nan                 0.0      0.0       NaN    0.0000     0.0000     NaN   \n",
       "\n",
       "              WOE_check   SHARE  \n",
       "BIN_POS_2km                      \n",
       "[-inf, 0.5)     -0.1641  0.1365  \n",
       "[0.5, 1.5)      -0.0768  0.0217  \n",
       "[1.5, 172.5)     0.0328  0.8315  \n",
       "[172.5, inf)    -0.0996  0.0102  \n",
       "nan             -2.6325  0.0000  "
      ]
     },
     "metadata": {},
     "output_type": "display_data"
    },
    {
     "name": "stdout",
     "output_type": "stream",
     "text": [
      "IV: 0.0051\n",
      "Gini: 2.73\n"
     ]
    },
    {
     "data": {
      "image/png": "[encoded data removed]",
      "text/plain": [
       "<Figure size 720x360 with 2 Axes>"
      ]
     },
     "metadata": {
      "needs_background": "light"
     },
     "output_type": "display_data"
    },
    {
     "data": {
      "text/markdown": [
       "***"
      ],
      "text/plain": [
       "<IPython.core.display.Markdown object>"
      ]
     },
     "metadata": {},
     "output_type": "display_data"
    },
    {
     "data": {
      "text/markdown": [
       "### POS_3km"
      ],
      "text/plain": [
       "<IPython.core.display.Markdown object>"
      ]
     },
     "metadata": {},
     "output_type": "display_data"
    },
    {
     "data": {
      "text/html": [
       "<div>\n",
       "<style scoped>\n",
       "    .dataframe tbody tr th:only-of-type {\n",
       "        vertical-align: middle;\n",
       "    }\n",
       "\n",
       "    .dataframe tbody tr th {\n",
       "        vertical-align: top;\n",
       "    }\n",
       "\n",
       "    .dataframe thead th {\n",
       "        text-align: right;\n",
       "    }\n",
       "</style>\n",
       "<table border=\"1\" class=\"dataframe\">\n",
       "  <thead>\n",
       "    <tr style=\"text-align: right;\">\n",
       "      <th></th>\n",
       "      <th>CNT_TOTAL</th>\n",
       "      <th>CNT_DEF</th>\n",
       "      <th>DEF_RATE</th>\n",
       "      <th>DIST_BAD</th>\n",
       "      <th>DIST_GOOD</th>\n",
       "      <th>WOE</th>\n",
       "      <th>WOE_check</th>\n",
       "      <th>SHARE</th>\n",
       "    </tr>\n",
       "    <tr>\n",
       "      <th>BIN_POS_3km</th>\n",
       "      <th></th>\n",
       "      <th></th>\n",
       "      <th></th>\n",
       "      <th></th>\n",
       "      <th></th>\n",
       "      <th></th>\n",
       "      <th></th>\n",
       "      <th></th>\n",
       "    </tr>\n",
       "  </thead>\n",
       "  <tbody>\n",
       "    <tr>\n",
       "      <th>[-inf, 0.5)</th>\n",
       "      <td>65270.0</td>\n",
       "      <td>5233.0</td>\n",
       "      <td>0.0802</td>\n",
       "      <td>0.1250</td>\n",
       "      <td>0.1031</td>\n",
       "      <td>-0.1901</td>\n",
       "      <td>-0.1925</td>\n",
       "      <td>0.1046</td>\n",
       "    </tr>\n",
       "    <tr>\n",
       "      <th>[0.5, 5.5)</th>\n",
       "      <td>30922.0</td>\n",
       "      <td>2272.0</td>\n",
       "      <td>0.0735</td>\n",
       "      <td>0.0543</td>\n",
       "      <td>0.0492</td>\n",
       "      <td>-0.0967</td>\n",
       "      <td>-0.0980</td>\n",
       "      <td>0.0495</td>\n",
       "    </tr>\n",
       "    <tr>\n",
       "      <th>[5.5, 289.5)</th>\n",
       "      <td>517444.0</td>\n",
       "      <td>33565.0</td>\n",
       "      <td>0.0649</td>\n",
       "      <td>0.8017</td>\n",
       "      <td>0.8310</td>\n",
       "      <td>0.0354</td>\n",
       "      <td>0.0359</td>\n",
       "      <td>0.8290</td>\n",
       "    </tr>\n",
       "    <tr>\n",
       "      <th>[289.5, inf)</th>\n",
       "      <td>10551.0</td>\n",
       "      <td>798.0</td>\n",
       "      <td>0.0756</td>\n",
       "      <td>0.0191</td>\n",
       "      <td>0.0167</td>\n",
       "      <td>-0.1276</td>\n",
       "      <td>-0.1293</td>\n",
       "      <td>0.0169</td>\n",
       "    </tr>\n",
       "    <tr>\n",
       "      <th>nan</th>\n",
       "      <td>0.0</td>\n",
       "      <td>0.0</td>\n",
       "      <td>NaN</td>\n",
       "      <td>0.0000</td>\n",
       "      <td>0.0000</td>\n",
       "      <td>NaN</td>\n",
       "      <td>-2.6325</td>\n",
       "      <td>0.0000</td>\n",
       "    </tr>\n",
       "  </tbody>\n",
       "</table>\n",
       "</div>"
      ],
      "text/plain": [
       "              CNT_TOTAL  CNT_DEF  DEF_RATE  DIST_BAD  DIST_GOOD     WOE  \\\n",
       "BIN_POS_3km                                                               \n",
       "[-inf, 0.5)     65270.0   5233.0    0.0802    0.1250     0.1031 -0.1901   \n",
       "[0.5, 5.5)      30922.0   2272.0    0.0735    0.0543     0.0492 -0.0967   \n",
       "[5.5, 289.5)   517444.0  33565.0    0.0649    0.8017     0.8310  0.0354   \n",
       "[289.5, inf)    10551.0    798.0    0.0756    0.0191     0.0167 -0.1276   \n",
       "nan                 0.0      0.0       NaN    0.0000     0.0000     NaN   \n",
       "\n",
       "              WOE_check   SHARE  \n",
       "BIN_POS_3km                      \n",
       "[-inf, 0.5)     -0.1925  0.1046  \n",
       "[0.5, 5.5)      -0.0980  0.0495  \n",
       "[5.5, 289.5)     0.0359  0.8290  \n",
       "[289.5, inf)    -0.1293  0.0169  \n",
       "nan             -2.6325  0.0000  "
      ]
     },
     "metadata": {},
     "output_type": "display_data"
    },
    {
     "name": "stdout",
     "output_type": "stream",
     "text": [
      "IV: 0.0061\n",
      "Gini: 3.00\n"
     ]
    },
    {
     "data": {
      "image/png": "[encoded data removed]",
      "text/plain": [
       "<Figure size 720x360 with 2 Axes>"
      ]
     },
     "metadata": {
      "needs_background": "light"
     },
     "output_type": "display_data"
    },
    {
     "data": {
      "text/markdown": [
       "***"
      ],
      "text/plain": [
       "<IPython.core.display.Markdown object>"
      ]
     },
     "metadata": {},
     "output_type": "display_data"
    },
    {
     "data": {
      "text/markdown": [
       "### POS_500m"
      ],
      "text/plain": [
       "<IPython.core.display.Markdown object>"
      ]
     },
     "metadata": {},
     "output_type": "display_data"
    },
    {
     "data": {
      "text/html": [
       "<div>\n",
       "<style scoped>\n",
       "    .dataframe tbody tr th:only-of-type {\n",
       "        vertical-align: middle;\n",
       "    }\n",
       "\n",
       "    .dataframe tbody tr th {\n",
       "        vertical-align: top;\n",
       "    }\n",
       "\n",
       "    .dataframe thead th {\n",
       "        text-align: right;\n",
       "    }\n",
       "</style>\n",
       "<table border=\"1\" class=\"dataframe\">\n",
       "  <thead>\n",
       "    <tr style=\"text-align: right;\">\n",
       "      <th></th>\n",
       "      <th>CNT_TOTAL</th>\n",
       "      <th>CNT_DEF</th>\n",
       "      <th>DEF_RATE</th>\n",
       "      <th>DIST_BAD</th>\n",
       "      <th>DIST_GOOD</th>\n",
       "      <th>WOE</th>\n",
       "      <th>WOE_check</th>\n",
       "      <th>SHARE</th>\n",
       "    </tr>\n",
       "    <tr>\n",
       "      <th>BIN_POS_500m</th>\n",
       "      <th></th>\n",
       "      <th></th>\n",
       "      <th></th>\n",
       "      <th></th>\n",
       "      <th></th>\n",
       "      <th></th>\n",
       "      <th></th>\n",
       "      <th></th>\n",
       "    </tr>\n",
       "  </thead>\n",
       "  <tbody>\n",
       "    <tr>\n",
       "      <th>[-inf, 1.5)</th>\n",
       "      <td>296469.0</td>\n",
       "      <td>20907.0</td>\n",
       "      <td>0.0705</td>\n",
       "      <td>0.4994</td>\n",
       "      <td>0.4732</td>\n",
       "      <td>-0.0530</td>\n",
       "      <td>-0.0538</td>\n",
       "      <td>0.4750</td>\n",
       "    </tr>\n",
       "    <tr>\n",
       "      <th>[1.5, 7.5)</th>\n",
       "      <td>186225.0</td>\n",
       "      <td>12193.0</td>\n",
       "      <td>0.0655</td>\n",
       "      <td>0.2912</td>\n",
       "      <td>0.2989</td>\n",
       "      <td>0.0255</td>\n",
       "      <td>0.0259</td>\n",
       "      <td>0.2983</td>\n",
       "    </tr>\n",
       "    <tr>\n",
       "      <th>[7.5, 20.5)</th>\n",
       "      <td>117495.0</td>\n",
       "      <td>7189.0</td>\n",
       "      <td>0.0612</td>\n",
       "      <td>0.1717</td>\n",
       "      <td>0.1894</td>\n",
       "      <td>0.0968</td>\n",
       "      <td>0.0982</td>\n",
       "      <td>0.1882</td>\n",
       "    </tr>\n",
       "    <tr>\n",
       "      <th>[20.5, inf)</th>\n",
       "      <td>23998.0</td>\n",
       "      <td>1579.0</td>\n",
       "      <td>0.0658</td>\n",
       "      <td>0.0377</td>\n",
       "      <td>0.0385</td>\n",
       "      <td>0.0203</td>\n",
       "      <td>0.0206</td>\n",
       "      <td>0.0384</td>\n",
       "    </tr>\n",
       "    <tr>\n",
       "      <th>nan</th>\n",
       "      <td>0.0</td>\n",
       "      <td>0.0</td>\n",
       "      <td>NaN</td>\n",
       "      <td>0.0000</td>\n",
       "      <td>0.0000</td>\n",
       "      <td>NaN</td>\n",
       "      <td>-2.6325</td>\n",
       "      <td>0.0000</td>\n",
       "    </tr>\n",
       "  </tbody>\n",
       "</table>\n",
       "</div>"
      ],
      "text/plain": [
       "              CNT_TOTAL  CNT_DEF  DEF_RATE  DIST_BAD  DIST_GOOD     WOE  \\\n",
       "BIN_POS_500m                                                              \n",
       "[-inf, 1.5)    296469.0  20907.0    0.0705    0.4994     0.4732 -0.0530   \n",
       "[1.5, 7.5)     186225.0  12193.0    0.0655    0.2912     0.2989  0.0255   \n",
       "[7.5, 20.5)    117495.0   7189.0    0.0612    0.1717     0.1894  0.0968   \n",
       "[20.5, inf)     23998.0   1579.0    0.0658    0.0377     0.0385  0.0203   \n",
       "nan                 0.0      0.0       NaN    0.0000     0.0000     NaN   \n",
       "\n",
       "              WOE_check   SHARE  \n",
       "BIN_POS_500m                     \n",
       "[-inf, 1.5)     -0.0538  0.4750  \n",
       "[1.5, 7.5)       0.0259  0.2983  \n",
       "[7.5, 20.5)      0.0982  0.1882  \n",
       "[20.5, inf)      0.0206  0.0384  \n",
       "nan             -2.6325  0.0000  "
      ]
     },
     "metadata": {},
     "output_type": "display_data"
    },
    {
     "name": "stdout",
     "output_type": "stream",
     "text": [
      "IV: 0.0034\n",
      "Gini: 3.06\n"
     ]
    },
    {
     "data": {
      "image/png": "[encoded data removed]",
      "text/plain": [
       "<Figure size 720x360 with 2 Axes>"
      ]
     },
     "metadata": {
      "needs_background": "light"
     },
     "output_type": "display_data"
    },
    {
     "data": {
      "text/markdown": [
       "***"
      ],
      "text/plain": [
       "<IPython.core.display.Markdown object>"
      ]
     },
     "metadata": {},
     "output_type": "display_data"
    },
    {
     "data": {
      "text/markdown": [
       "### POS_5km"
      ],
      "text/plain": [
       "<IPython.core.display.Markdown object>"
      ]
     },
     "metadata": {},
     "output_type": "display_data"
    },
    {
     "data": {
      "text/html": [
       "<div>\n",
       "<style scoped>\n",
       "    .dataframe tbody tr th:only-of-type {\n",
       "        vertical-align: middle;\n",
       "    }\n",
       "\n",
       "    .dataframe tbody tr th {\n",
       "        vertical-align: top;\n",
       "    }\n",
       "\n",
       "    .dataframe thead th {\n",
       "        text-align: right;\n",
       "    }\n",
       "</style>\n",
       "<table border=\"1\" class=\"dataframe\">\n",
       "  <thead>\n",
       "    <tr style=\"text-align: right;\">\n",
       "      <th></th>\n",
       "      <th>CNT_TOTAL</th>\n",
       "      <th>CNT_DEF</th>\n",
       "      <th>DEF_RATE</th>\n",
       "      <th>DIST_BAD</th>\n",
       "      <th>DIST_GOOD</th>\n",
       "      <th>WOE</th>\n",
       "      <th>WOE_check</th>\n",
       "      <th>SHARE</th>\n",
       "    </tr>\n",
       "    <tr>\n",
       "      <th>BIN_POS_5km</th>\n",
       "      <th></th>\n",
       "      <th></th>\n",
       "      <th></th>\n",
       "      <th></th>\n",
       "      <th></th>\n",
       "      <th></th>\n",
       "      <th></th>\n",
       "      <th></th>\n",
       "    </tr>\n",
       "  </thead>\n",
       "  <tbody>\n",
       "    <tr>\n",
       "      <th>[-inf, 5.5)</th>\n",
       "      <td>64032.0</td>\n",
       "      <td>5223.0</td>\n",
       "      <td>0.0816</td>\n",
       "      <td>0.1247</td>\n",
       "      <td>0.1010</td>\n",
       "      <td>-0.2086</td>\n",
       "      <td>-0.2113</td>\n",
       "      <td>0.1026</td>\n",
       "    </tr>\n",
       "    <tr>\n",
       "      <th>[5.5, 82.5)</th>\n",
       "      <td>152060.0</td>\n",
       "      <td>10390.0</td>\n",
       "      <td>0.0683</td>\n",
       "      <td>0.2482</td>\n",
       "      <td>0.2433</td>\n",
       "      <td>-0.0196</td>\n",
       "      <td>-0.0198</td>\n",
       "      <td>0.2436</td>\n",
       "    </tr>\n",
       "    <tr>\n",
       "      <th>[82.5, 652.5)</th>\n",
       "      <td>402192.0</td>\n",
       "      <td>25789.0</td>\n",
       "      <td>0.0641</td>\n",
       "      <td>0.6160</td>\n",
       "      <td>0.6464</td>\n",
       "      <td>0.0475</td>\n",
       "      <td>0.0482</td>\n",
       "      <td>0.6443</td>\n",
       "    </tr>\n",
       "    <tr>\n",
       "      <th>[652.5, inf)</th>\n",
       "      <td>5903.0</td>\n",
       "      <td>466.0</td>\n",
       "      <td>0.0789</td>\n",
       "      <td>0.0111</td>\n",
       "      <td>0.0093</td>\n",
       "      <td>-0.1735</td>\n",
       "      <td>-0.1757</td>\n",
       "      <td>0.0095</td>\n",
       "    </tr>\n",
       "    <tr>\n",
       "      <th>nan</th>\n",
       "      <td>0.0</td>\n",
       "      <td>0.0</td>\n",
       "      <td>NaN</td>\n",
       "      <td>0.0000</td>\n",
       "      <td>0.0000</td>\n",
       "      <td>NaN</td>\n",
       "      <td>-2.6325</td>\n",
       "      <td>0.0000</td>\n",
       "    </tr>\n",
       "  </tbody>\n",
       "</table>\n",
       "</div>"
      ],
      "text/plain": [
       "               CNT_TOTAL  CNT_DEF  DEF_RATE  DIST_BAD  DIST_GOOD     WOE  \\\n",
       "BIN_POS_5km                                                                \n",
       "[-inf, 5.5)      64032.0   5223.0    0.0816    0.1247     0.1010 -0.2086   \n",
       "[5.5, 82.5)     152060.0  10390.0    0.0683    0.2482     0.2433 -0.0196   \n",
       "[82.5, 652.5)   402192.0  25789.0    0.0641    0.6160     0.6464  0.0475   \n",
       "[652.5, inf)      5903.0    466.0    0.0789    0.0111     0.0093 -0.1735   \n",
       "nan                  0.0      0.0       NaN    0.0000     0.0000     NaN   \n",
       "\n",
       "               WOE_check   SHARE  \n",
       "BIN_POS_5km                       \n",
       "[-inf, 5.5)      -0.2113  0.1026  \n",
       "[5.5, 82.5)      -0.0198  0.2436  \n",
       "[82.5, 652.5)     0.0482  0.6443  \n",
       "[652.5, inf)     -0.1757  0.0095  \n",
       "nan              -2.6325  0.0000  "
      ]
     },
     "metadata": {},
     "output_type": "display_data"
    },
    {
     "name": "stdout",
     "output_type": "stream",
     "text": [
      "IV: 0.0069\n",
      "Gini: 3.61\n"
     ]
    },
    {
     "data": {
      "image/png": "[encoded data removed]",
      "text/plain": [
       "<Figure size 720x360 with 2 Axes>"
      ]
     },
     "metadata": {
      "needs_background": "light"
     },
     "output_type": "display_data"
    },
    {
     "data": {
      "text/markdown": [
       "***"
      ],
      "text/plain": [
       "<IPython.core.display.Markdown object>"
      ]
     },
     "metadata": {},
     "output_type": "display_data"
    },
    {
     "data": {
      "text/markdown": [
       "### POS_ORDER"
      ],
      "text/plain": [
       "<IPython.core.display.Markdown object>"
      ]
     },
     "metadata": {},
     "output_type": "display_data"
    },
    {
     "data": {
      "text/html": [
       "<div>\n",
       "<style scoped>\n",
       "    .dataframe tbody tr th:only-of-type {\n",
       "        vertical-align: middle;\n",
       "    }\n",
       "\n",
       "    .dataframe tbody tr th {\n",
       "        vertical-align: top;\n",
       "    }\n",
       "\n",
       "    .dataframe thead th {\n",
       "        text-align: right;\n",
       "    }\n",
       "</style>\n",
       "<table border=\"1\" class=\"dataframe\">\n",
       "  <thead>\n",
       "    <tr style=\"text-align: right;\">\n",
       "      <th></th>\n",
       "      <th>CNT_TOTAL</th>\n",
       "      <th>CNT_DEF</th>\n",
       "      <th>DEF_RATE</th>\n",
       "      <th>DIST_BAD</th>\n",
       "      <th>DIST_GOOD</th>\n",
       "      <th>WOE</th>\n",
       "      <th>WOE_check</th>\n",
       "      <th>SHARE</th>\n",
       "    </tr>\n",
       "    <tr>\n",
       "      <th>BIN_POS_ORDER</th>\n",
       "      <th></th>\n",
       "      <th></th>\n",
       "      <th></th>\n",
       "      <th></th>\n",
       "      <th></th>\n",
       "      <th></th>\n",
       "      <th></th>\n",
       "      <th></th>\n",
       "    </tr>\n",
       "  </thead>\n",
       "  <tbody>\n",
       "    <tr>\n",
       "      <th>[-inf, 5.5)</th>\n",
       "      <td>114194.0</td>\n",
       "      <td>7167.0</td>\n",
       "      <td>0.0628</td>\n",
       "      <td>0.1712</td>\n",
       "      <td>0.1838</td>\n",
       "      <td>0.0701</td>\n",
       "      <td>0.0711</td>\n",
       "      <td>0.1829</td>\n",
       "    </tr>\n",
       "    <tr>\n",
       "      <th>[5.5, 39.5)</th>\n",
       "      <td>267438.0</td>\n",
       "      <td>17829.0</td>\n",
       "      <td>0.0667</td>\n",
       "      <td>0.4258</td>\n",
       "      <td>0.4286</td>\n",
       "      <td>0.0065</td>\n",
       "      <td>0.0066</td>\n",
       "      <td>0.4285</td>\n",
       "    </tr>\n",
       "    <tr>\n",
       "      <th>[39.5, 41.5)</th>\n",
       "      <td>7124.0</td>\n",
       "      <td>541.0</td>\n",
       "      <td>0.0759</td>\n",
       "      <td>0.0129</td>\n",
       "      <td>0.0113</td>\n",
       "      <td>-0.1319</td>\n",
       "      <td>-0.1337</td>\n",
       "      <td>0.0114</td>\n",
       "    </tr>\n",
       "    <tr>\n",
       "      <th>[41.5, inf)</th>\n",
       "      <td>235431.0</td>\n",
       "      <td>16331.0</td>\n",
       "      <td>0.0694</td>\n",
       "      <td>0.3901</td>\n",
       "      <td>0.3763</td>\n",
       "      <td>-0.0355</td>\n",
       "      <td>-0.0360</td>\n",
       "      <td>0.3772</td>\n",
       "    </tr>\n",
       "    <tr>\n",
       "      <th>nan</th>\n",
       "      <td>0.0</td>\n",
       "      <td>0.0</td>\n",
       "      <td>NaN</td>\n",
       "      <td>0.0000</td>\n",
       "      <td>0.0000</td>\n",
       "      <td>NaN</td>\n",
       "      <td>-2.6325</td>\n",
       "      <td>0.0000</td>\n",
       "    </tr>\n",
       "  </tbody>\n",
       "</table>\n",
       "</div>"
      ],
      "text/plain": [
       "               CNT_TOTAL  CNT_DEF  DEF_RATE  DIST_BAD  DIST_GOOD     WOE  \\\n",
       "BIN_POS_ORDER                                                              \n",
       "[-inf, 5.5)     114194.0   7167.0    0.0628    0.1712     0.1838  0.0701   \n",
       "[5.5, 39.5)     267438.0  17829.0    0.0667    0.4258     0.4286  0.0065   \n",
       "[39.5, 41.5)      7124.0    541.0    0.0759    0.0129     0.0113 -0.1319   \n",
       "[41.5, inf)     235431.0  16331.0    0.0694    0.3901     0.3763 -0.0355   \n",
       "nan                  0.0      0.0       NaN    0.0000     0.0000     NaN   \n",
       "\n",
       "               WOE_check   SHARE  \n",
       "BIN_POS_ORDER                     \n",
       "[-inf, 5.5)       0.0711  0.1829  \n",
       "[5.5, 39.5)       0.0066  0.4285  \n",
       "[39.5, 41.5)     -0.1337  0.0114  \n",
       "[41.5, inf)      -0.0360  0.3772  \n",
       "nan              -2.6325  0.0000  "
      ]
     },
     "metadata": {},
     "output_type": "display_data"
    },
    {
     "name": "stdout",
     "output_type": "stream",
     "text": [
      "IV: 0.0016\n",
      "Gini: 2.08\n"
     ]
    },
    {
     "data": {
      "image/png": "[encoded data removed]",
      "text/plain": [
       "<Figure size 720x360 with 2 Axes>"
      ]
     },
     "metadata": {
      "needs_background": "light"
     },
     "output_type": "display_data"
    },
    {
     "data": {
      "text/markdown": [
       "***"
      ],
      "text/plain": [
       "<IPython.core.display.Markdown object>"
      ]
     },
     "metadata": {},
     "output_type": "display_data"
    },
    {
     "data": {
      "text/markdown": [
       "### RATIO_DISTANCE_CUS_POS_NEAREST_POS"
      ],
      "text/plain": [
       "<IPython.core.display.Markdown object>"
      ]
     },
     "metadata": {},
     "output_type": "display_data"
    },
    {
     "data": {
      "text/html": [
       "<div>\n",
       "<style scoped>\n",
       "    .dataframe tbody tr th:only-of-type {\n",
       "        vertical-align: middle;\n",
       "    }\n",
       "\n",
       "    .dataframe tbody tr th {\n",
       "        vertical-align: top;\n",
       "    }\n",
       "\n",
       "    .dataframe thead th {\n",
       "        text-align: right;\n",
       "    }\n",
       "</style>\n",
       "<table border=\"1\" class=\"dataframe\">\n",
       "  <thead>\n",
       "    <tr style=\"text-align: right;\">\n",
       "      <th></th>\n",
       "      <th>CNT_TOTAL</th>\n",
       "      <th>CNT_DEF</th>\n",
       "      <th>DEF_RATE</th>\n",
       "      <th>DIST_BAD</th>\n",
       "      <th>DIST_GOOD</th>\n",
       "      <th>WOE</th>\n",
       "      <th>WOE_check</th>\n",
       "      <th>SHARE</th>\n",
       "    </tr>\n",
       "    <tr>\n",
       "      <th>BIN_RATIO_DISTANCE_CUS_POS_NEAREST_POS</th>\n",
       "      <th></th>\n",
       "      <th></th>\n",
       "      <th></th>\n",
       "      <th></th>\n",
       "      <th></th>\n",
       "      <th></th>\n",
       "      <th></th>\n",
       "      <th></th>\n",
       "    </tr>\n",
       "  </thead>\n",
       "  <tbody>\n",
       "    <tr>\n",
       "      <th>[-inf, 1.0014)</th>\n",
       "      <td>28895.0</td>\n",
       "      <td>1834.0</td>\n",
       "      <td>0.0635</td>\n",
       "      <td>0.0438</td>\n",
       "      <td>0.0465</td>\n",
       "      <td>0.0583</td>\n",
       "      <td>0.0591</td>\n",
       "      <td>0.0463</td>\n",
       "    </tr>\n",
       "    <tr>\n",
       "      <th>[1.0014, 1.0753)</th>\n",
       "      <td>23144.0</td>\n",
       "      <td>1736.0</td>\n",
       "      <td>0.0750</td>\n",
       "      <td>0.0415</td>\n",
       "      <td>0.0368</td>\n",
       "      <td>-0.1188</td>\n",
       "      <td>-0.1203</td>\n",
       "      <td>0.0371</td>\n",
       "    </tr>\n",
       "    <tr>\n",
       "      <th>[1.0753, 13.6211)</th>\n",
       "      <td>443343.0</td>\n",
       "      <td>29470.0</td>\n",
       "      <td>0.0665</td>\n",
       "      <td>0.7039</td>\n",
       "      <td>0.7107</td>\n",
       "      <td>0.0096</td>\n",
       "      <td>0.0097</td>\n",
       "      <td>0.7103</td>\n",
       "    </tr>\n",
       "    <tr>\n",
       "      <th>[13.6211, inf)</th>\n",
       "      <td>128747.0</td>\n",
       "      <td>8824.0</td>\n",
       "      <td>0.0685</td>\n",
       "      <td>0.2108</td>\n",
       "      <td>0.2059</td>\n",
       "      <td>-0.0228</td>\n",
       "      <td>-0.0231</td>\n",
       "      <td>0.2063</td>\n",
       "    </tr>\n",
       "    <tr>\n",
       "      <th>nan</th>\n",
       "      <td>58.0</td>\n",
       "      <td>4.0</td>\n",
       "      <td>0.0690</td>\n",
       "      <td>0.0001</td>\n",
       "      <td>0.0001</td>\n",
       "      <td>-0.0294</td>\n",
       "      <td>-0.0300</td>\n",
       "      <td>0.0001</td>\n",
       "    </tr>\n",
       "  </tbody>\n",
       "</table>\n",
       "</div>"
      ],
      "text/plain": [
       "                                        CNT_TOTAL  CNT_DEF  DEF_RATE  \\\n",
       "BIN_RATIO_DISTANCE_CUS_POS_NEAREST_POS                                 \n",
       "[-inf, 1.0014)                            28895.0   1834.0    0.0635   \n",
       "[1.0014, 1.0753)                          23144.0   1736.0    0.0750   \n",
       "[1.0753, 13.6211)                        443343.0  29470.0    0.0665   \n",
       "[13.6211, inf)                           128747.0   8824.0    0.0685   \n",
       "nan                                          58.0      4.0    0.0690   \n",
       "\n",
       "                                        DIST_BAD  DIST_GOOD     WOE  \\\n",
       "BIN_RATIO_DISTANCE_CUS_POS_NEAREST_POS                                \n",
       "[-inf, 1.0014)                            0.0438     0.0465  0.0583   \n",
       "[1.0014, 1.0753)                          0.0415     0.0368 -0.1188   \n",
       "[1.0753, 13.6211)                         0.7039     0.7107  0.0096   \n",
       "[13.6211, inf)                            0.2108     0.2059 -0.0228   \n",
       "nan                                       0.0001     0.0001 -0.0294   \n",
       "\n",
       "                                        WOE_check   SHARE  \n",
       "BIN_RATIO_DISTANCE_CUS_POS_NEAREST_POS                     \n",
       "[-inf, 1.0014)                             0.0591  0.0463  \n",
       "[1.0014, 1.0753)                          -0.1203  0.0371  \n",
       "[1.0753, 13.6211)                          0.0097  0.7103  \n",
       "[13.6211, inf)                            -0.0231  0.2063  \n",
       "nan                                       -0.0300  0.0001  "
      ]
     },
     "metadata": {},
     "output_type": "display_data"
    },
    {
     "name": "stdout",
     "output_type": "stream",
     "text": [
      "IV: 0.0009\n",
      "Gini: 1.19\n"
     ]
    },
    {
     "data": {
      "image/png": "[encoded data removed]",
      "text/plain": [
       "<Figure size 720x360 with 2 Axes>"
      ]
     },
     "metadata": {
      "needs_background": "light"
     },
     "output_type": "display_data"
    }
   ],
   "source": [
    "grouping.plot_bins(data=df_train, cols_pred_num=cols_pred_num, cols_pred_cat=cols_pred_cat,\n",
    "                    mask = pd.Series(df_train[\"SKP_CREDIT_CASE\"]>=0),col_target=\"RISK_FSTQPD30\", \n",
    "                   output_folder=r\"C:\\Users\\aman.khatri91425\\Desktop\\HomeCredit\\Bigdata\\Common Maps KNN\", col_weight=None)"
   ]
  },
  {
   "cell_type": "code",
   "execution_count": 111,
   "metadata": {},
   "outputs": [
    {
     "name": "stdout",
     "output_type": "stream",
     "text": [
      "Column CUST_1km_WOE dropped as it already existed in the data set.\n",
      "Column CUST_2km_WOE dropped as it already existed in the data set.\n",
      "Column CUST_3km_WOE dropped as it already existed in the data set.\n",
      "Column CUST_500m_WOE dropped as it already existed in the data set.\n",
      "Column CUST_5km_WOE dropped as it already existed in the data set.\n",
      "Column DISTANCE_FROM_NEAREST_POS_WOE dropped as it already existed in the data set.\n",
      "Column DISTANCE_FROM_POS_WOE dropped as it already existed in the data set.\n",
      "Column POS_1km_WOE dropped as it already existed in the data set.\n",
      "Column POS_2km_WOE dropped as it already existed in the data set.\n",
      "Column POS_3km_WOE dropped as it already existed in the data set.\n",
      "Column POS_500m_WOE dropped as it already existed in the data set.\n",
      "Column POS_5km_WOE dropped as it already existed in the data set.\n",
      "Column POS_ORDER_WOE dropped as it already existed in the data set.\n",
      "Column RATIO_DISTANCE_CUS_POS_NEAREST_POS_WOE dropped as it already existed in the data set.\n",
      "Added WOE variables. Number of columns: 50\n"
     ]
    }
   ],
   "source": [
    "woe_columns_to_replace = list()\n",
    "for column in data_woe.columns:\n",
    "    if column in df:\n",
    "        woe_columns_to_replace.append(column)\n",
    "        print('Column', column ,'dropped as it already existed in the data set.')\n",
    "df = df.drop(woe_columns_to_replace, axis='columns')\n",
    "df = df.join(-data_woe)\n",
    "\n",
    "print('Added WOE variables. Number of columns:',df.shape[1])\n",
    "cols_woe = [s + '_WOE' for s in cols_pred_num]"
   ]
  },
  {
   "cell_type": "code",
   "execution_count": 63,
   "metadata": {},
   "outputs": [
    {
     "data": {
      "text/plain": [
       "['POS_ORDER_WOE',\n",
       " 'POS_500m_WOE',\n",
       " 'POS_1km_WOE',\n",
       " 'POS_2km_WOE',\n",
       " 'POS_3km_WOE',\n",
       " 'POS_5km_WOE',\n",
       " 'CUST_500m_WOE',\n",
       " 'CUST_1km_WOE',\n",
       " 'CUST_2km_WOE',\n",
       " 'CUST_3km_WOE',\n",
       " 'CUST_5km_WOE',\n",
       " 'DISTANCE_FROM_POS_WOE',\n",
       " 'DISTANCE_FROM_NEAREST_POS_WOE',\n",
       " 'RATIO_DISTANCE_CUS_POS_NEAREST_POS_WOE']"
      ]
     },
     "execution_count": 63,
     "metadata": {},
     "output_type": "execute_result"
    }
   ],
   "source": [
    "cols_woe"
   ]
  },
  {
   "cell_type": "markdown",
   "metadata": {},
   "source": [
    "# Gini and IV of Features for Comparison"
   ]
  },
  {
   "cell_type": "code",
   "execution_count": 79,
   "metadata": {},
   "outputs": [],
   "source": [
    "df1=df"
   ]
  },
  {
   "cell_type": "markdown",
   "metadata": {},
   "source": [
    "### Reduce sample size to reduce computation in calculations for IV, Gini"
   ]
  },
  {
   "cell_type": "code",
   "execution_count": null,
   "metadata": {},
   "outputs": [],
   "source": [
    "df = df1.sample(n=300000,random_state=2)"
   ]
  },
  {
   "cell_type": "code",
   "execution_count": 81,
   "metadata": {},
   "outputs": [],
   "source": [
    "for x in features_list:\n",
    "    df[x+\"_BINS\"] = pd.qcut(df[x],10,duplicates = 'drop')"
   ]
  },
  {
   "cell_type": "code",
   "execution_count": 82,
   "metadata": {},
   "outputs": [
    {
     "ename": "KeyError",
     "evalue": "'POS_ORDER_WOE'",
     "output_type": "error",
     "traceback": [
      "\u001b[1;31m---------------------------------------------------------------------------\u001b[0m",
      "\u001b[1;31mKeyError\u001b[0m                                  Traceback (most recent call last)",
      "\u001b[1;32m~\\AppData\\Local\\Continuum\\anaconda3\\lib\\site-packages\\pandas\\core\\indexes\\base.py\u001b[0m in \u001b[0;36mget_loc\u001b[1;34m(self, key, method, tolerance)\u001b[0m\n\u001b[0;32m   2656\u001b[0m             \u001b[1;32mtry\u001b[0m\u001b[1;33m:\u001b[0m\u001b[1;33m\u001b[0m\u001b[1;33m\u001b[0m\u001b[0m\n\u001b[1;32m-> 2657\u001b[1;33m                 \u001b[1;32mreturn\u001b[0m \u001b[0mself\u001b[0m\u001b[1;33m.\u001b[0m\u001b[0m_engine\u001b[0m\u001b[1;33m.\u001b[0m\u001b[0mget_loc\u001b[0m\u001b[1;33m(\u001b[0m\u001b[0mkey\u001b[0m\u001b[1;33m)\u001b[0m\u001b[1;33m\u001b[0m\u001b[1;33m\u001b[0m\u001b[0m\n\u001b[0m\u001b[0;32m   2658\u001b[0m             \u001b[1;32mexcept\u001b[0m \u001b[0mKeyError\u001b[0m\u001b[1;33m:\u001b[0m\u001b[1;33m\u001b[0m\u001b[1;33m\u001b[0m\u001b[0m\n",
      "\u001b[1;32mpandas/_libs/index.pyx\u001b[0m in \u001b[0;36mpandas._libs.index.IndexEngine.get_loc\u001b[1;34m()\u001b[0m\n",
      "\u001b[1;32mpandas/_libs/index.pyx\u001b[0m in \u001b[0;36mpandas._libs.index.IndexEngine.get_loc\u001b[1;34m()\u001b[0m\n",
      "\u001b[1;32mpandas/_libs/hashtable_class_helper.pxi\u001b[0m in \u001b[0;36mpandas._libs.hashtable.PyObjectHashTable.get_item\u001b[1;34m()\u001b[0m\n",
      "\u001b[1;32mpandas/_libs/hashtable_class_helper.pxi\u001b[0m in \u001b[0;36mpandas._libs.hashtable.PyObjectHashTable.get_item\u001b[1;34m()\u001b[0m\n",
      "\u001b[1;31mKeyError\u001b[0m: 'POS_ORDER_WOE'",
      "\nDuring handling of the above exception, another exception occurred:\n",
      "\u001b[1;31mKeyError\u001b[0m                                  Traceback (most recent call last)",
      "\u001b[1;32m<ipython-input-82-7fb8784e20df>\u001b[0m in \u001b[0;36m<module>\u001b[1;34m\u001b[0m\n\u001b[0;32m      6\u001b[0m         \u001b[0mpower_tab\u001b[0m\u001b[1;33m[\u001b[0m\u001b[1;34m\"VARIABLE_NAME\"\u001b[0m\u001b[1;33m]\u001b[0m\u001b[1;33m.\u001b[0m\u001b[0mappend\u001b[0m\u001b[1;33m(\u001b[0m\u001b[0mcols_list\u001b[0m\u001b[1;33m[\u001b[0m\u001b[0mj\u001b[0m\u001b[1;33m]\u001b[0m\u001b[1;33m)\u001b[0m\u001b[1;33m\u001b[0m\u001b[1;33m\u001b[0m\u001b[0m\n\u001b[0;32m      7\u001b[0m         \u001b[0mpower_tab\u001b[0m\u001b[1;33m[\u001b[0m\u001b[1;34m\"IV\"\u001b[0m\u001b[1;33m]\u001b[0m\u001b[1;33m.\u001b[0m\u001b[0mappend\u001b[0m\u001b[1;33m(\u001b[0m\u001b[1;34m\"{:.2%}\"\u001b[0m\u001b[1;33m.\u001b[0m\u001b[0mformat\u001b[0m\u001b[1;33m(\u001b[0m\u001b[0miv\u001b[0m\u001b[1;33m(\u001b[0m\u001b[0mdf\u001b[0m\u001b[1;33m[\u001b[0m\u001b[0mcol_target\u001b[0m\u001b[1;33m]\u001b[0m\u001b[1;33m,\u001b[0m\u001b[0mdf\u001b[0m\u001b[1;33m[\u001b[0m\u001b[0mcols_list\u001b[0m\u001b[1;33m[\u001b[0m\u001b[0mj\u001b[0m\u001b[1;33m]\u001b[0m\u001b[1;33m+\u001b[0m\u001b[1;34m\"_BINS\"\u001b[0m\u001b[1;33m]\u001b[0m\u001b[1;33m)\u001b[0m\u001b[1;33m)\u001b[0m\u001b[1;33m)\u001b[0m\u001b[1;33m\u001b[0m\u001b[1;33m\u001b[0m\u001b[0m\n\u001b[1;32m----> 8\u001b[1;33m         \u001b[0mpower_tab\u001b[0m\u001b[1;33m[\u001b[0m\u001b[1;34m\"GINI_WOE\"\u001b[0m\u001b[1;33m]\u001b[0m\u001b[1;33m.\u001b[0m\u001b[0mappend\u001b[0m\u001b[1;33m(\u001b[0m\u001b[1;34m\"{:.2%}\"\u001b[0m\u001b[1;33m.\u001b[0m\u001b[0mformat\u001b[0m\u001b[1;33m(\u001b[0m\u001b[1;33m(\u001b[0m\u001b[1;36m2\u001b[0m\u001b[1;33m*\u001b[0m\u001b[0mmetrics\u001b[0m\u001b[1;33m.\u001b[0m\u001b[0mroc_auc_score\u001b[0m\u001b[1;33m(\u001b[0m\u001b[0mdf\u001b[0m\u001b[1;33m[\u001b[0m\u001b[0mcol_target\u001b[0m\u001b[1;33m]\u001b[0m\u001b[1;33m,\u001b[0m\u001b[0mdf\u001b[0m\u001b[1;33m[\u001b[0m\u001b[0mcols_list\u001b[0m\u001b[1;33m[\u001b[0m\u001b[0mj\u001b[0m\u001b[1;33m]\u001b[0m\u001b[1;33m+\u001b[0m\u001b[1;34m\"_WOE\"\u001b[0m\u001b[1;33m]\u001b[0m\u001b[1;33m)\u001b[0m\u001b[1;33m-\u001b[0m\u001b[1;36m1\u001b[0m\u001b[1;33m)\u001b[0m\u001b[1;33m)\u001b[0m\u001b[1;33m)\u001b[0m\u001b[1;33m\u001b[0m\u001b[1;33m\u001b[0m\u001b[0m\n\u001b[0m\u001b[0;32m      9\u001b[0m         \u001b[0mpower_tab\u001b[0m\u001b[1;33m[\u001b[0m\u001b[1;34m\"GINI\"\u001b[0m\u001b[1;33m]\u001b[0m\u001b[1;33m.\u001b[0m\u001b[0mappend\u001b[0m\u001b[1;33m(\u001b[0m\u001b[1;34m\"{:.2%}\"\u001b[0m\u001b[1;33m.\u001b[0m\u001b[0mformat\u001b[0m\u001b[1;33m(\u001b[0m\u001b[1;33m(\u001b[0m\u001b[1;36m2\u001b[0m\u001b[1;33m*\u001b[0m\u001b[0mmetrics\u001b[0m\u001b[1;33m.\u001b[0m\u001b[0mroc_auc_score\u001b[0m\u001b[1;33m(\u001b[0m\u001b[0mdf\u001b[0m\u001b[1;33m[\u001b[0m\u001b[0mcol_target\u001b[0m\u001b[1;33m]\u001b[0m\u001b[1;33m,\u001b[0m\u001b[0mdf\u001b[0m\u001b[1;33m[\u001b[0m\u001b[0mcols_list\u001b[0m\u001b[1;33m[\u001b[0m\u001b[0mj\u001b[0m\u001b[1;33m]\u001b[0m\u001b[1;33m]\u001b[0m\u001b[1;33m)\u001b[0m\u001b[1;33m-\u001b[0m\u001b[1;36m1\u001b[0m\u001b[1;33m)\u001b[0m\u001b[1;33m)\u001b[0m\u001b[1;33m)\u001b[0m\u001b[1;33m\u001b[0m\u001b[1;33m\u001b[0m\u001b[0m\n\u001b[0;32m     10\u001b[0m         \u001b[0mprint\u001b[0m\u001b[1;33m(\u001b[0m\u001b[0mcols_list\u001b[0m\u001b[1;33m[\u001b[0m\u001b[0mj\u001b[0m\u001b[1;33m]\u001b[0m\u001b[1;33m)\u001b[0m\u001b[1;33m\u001b[0m\u001b[1;33m\u001b[0m\u001b[0m\n",
      "\u001b[1;32m~\\AppData\\Local\\Continuum\\anaconda3\\lib\\site-packages\\pandas\\core\\frame.py\u001b[0m in \u001b[0;36m__getitem__\u001b[1;34m(self, key)\u001b[0m\n\u001b[0;32m   2925\u001b[0m             \u001b[1;32mif\u001b[0m \u001b[0mself\u001b[0m\u001b[1;33m.\u001b[0m\u001b[0mcolumns\u001b[0m\u001b[1;33m.\u001b[0m\u001b[0mnlevels\u001b[0m \u001b[1;33m>\u001b[0m \u001b[1;36m1\u001b[0m\u001b[1;33m:\u001b[0m\u001b[1;33m\u001b[0m\u001b[1;33m\u001b[0m\u001b[0m\n\u001b[0;32m   2926\u001b[0m                 \u001b[1;32mreturn\u001b[0m \u001b[0mself\u001b[0m\u001b[1;33m.\u001b[0m\u001b[0m_getitem_multilevel\u001b[0m\u001b[1;33m(\u001b[0m\u001b[0mkey\u001b[0m\u001b[1;33m)\u001b[0m\u001b[1;33m\u001b[0m\u001b[1;33m\u001b[0m\u001b[0m\n\u001b[1;32m-> 2927\u001b[1;33m             \u001b[0mindexer\u001b[0m \u001b[1;33m=\u001b[0m \u001b[0mself\u001b[0m\u001b[1;33m.\u001b[0m\u001b[0mcolumns\u001b[0m\u001b[1;33m.\u001b[0m\u001b[0mget_loc\u001b[0m\u001b[1;33m(\u001b[0m\u001b[0mkey\u001b[0m\u001b[1;33m)\u001b[0m\u001b[1;33m\u001b[0m\u001b[1;33m\u001b[0m\u001b[0m\n\u001b[0m\u001b[0;32m   2928\u001b[0m             \u001b[1;32mif\u001b[0m \u001b[0mis_integer\u001b[0m\u001b[1;33m(\u001b[0m\u001b[0mindexer\u001b[0m\u001b[1;33m)\u001b[0m\u001b[1;33m:\u001b[0m\u001b[1;33m\u001b[0m\u001b[1;33m\u001b[0m\u001b[0m\n\u001b[0;32m   2929\u001b[0m                 \u001b[0mindexer\u001b[0m \u001b[1;33m=\u001b[0m \u001b[1;33m[\u001b[0m\u001b[0mindexer\u001b[0m\u001b[1;33m]\u001b[0m\u001b[1;33m\u001b[0m\u001b[1;33m\u001b[0m\u001b[0m\n",
      "\u001b[1;32m~\\AppData\\Local\\Continuum\\anaconda3\\lib\\site-packages\\pandas\\core\\indexes\\base.py\u001b[0m in \u001b[0;36mget_loc\u001b[1;34m(self, key, method, tolerance)\u001b[0m\n\u001b[0;32m   2657\u001b[0m                 \u001b[1;32mreturn\u001b[0m \u001b[0mself\u001b[0m\u001b[1;33m.\u001b[0m\u001b[0m_engine\u001b[0m\u001b[1;33m.\u001b[0m\u001b[0mget_loc\u001b[0m\u001b[1;33m(\u001b[0m\u001b[0mkey\u001b[0m\u001b[1;33m)\u001b[0m\u001b[1;33m\u001b[0m\u001b[1;33m\u001b[0m\u001b[0m\n\u001b[0;32m   2658\u001b[0m             \u001b[1;32mexcept\u001b[0m \u001b[0mKeyError\u001b[0m\u001b[1;33m:\u001b[0m\u001b[1;33m\u001b[0m\u001b[1;33m\u001b[0m\u001b[0m\n\u001b[1;32m-> 2659\u001b[1;33m                 \u001b[1;32mreturn\u001b[0m \u001b[0mself\u001b[0m\u001b[1;33m.\u001b[0m\u001b[0m_engine\u001b[0m\u001b[1;33m.\u001b[0m\u001b[0mget_loc\u001b[0m\u001b[1;33m(\u001b[0m\u001b[0mself\u001b[0m\u001b[1;33m.\u001b[0m\u001b[0m_maybe_cast_indexer\u001b[0m\u001b[1;33m(\u001b[0m\u001b[0mkey\u001b[0m\u001b[1;33m)\u001b[0m\u001b[1;33m)\u001b[0m\u001b[1;33m\u001b[0m\u001b[1;33m\u001b[0m\u001b[0m\n\u001b[0m\u001b[0;32m   2660\u001b[0m         \u001b[0mindexer\u001b[0m \u001b[1;33m=\u001b[0m \u001b[0mself\u001b[0m\u001b[1;33m.\u001b[0m\u001b[0mget_indexer\u001b[0m\u001b[1;33m(\u001b[0m\u001b[1;33m[\u001b[0m\u001b[0mkey\u001b[0m\u001b[1;33m]\u001b[0m\u001b[1;33m,\u001b[0m \u001b[0mmethod\u001b[0m\u001b[1;33m=\u001b[0m\u001b[0mmethod\u001b[0m\u001b[1;33m,\u001b[0m \u001b[0mtolerance\u001b[0m\u001b[1;33m=\u001b[0m\u001b[0mtolerance\u001b[0m\u001b[1;33m)\u001b[0m\u001b[1;33m\u001b[0m\u001b[1;33m\u001b[0m\u001b[0m\n\u001b[0;32m   2661\u001b[0m         \u001b[1;32mif\u001b[0m \u001b[0mindexer\u001b[0m\u001b[1;33m.\u001b[0m\u001b[0mndim\u001b[0m \u001b[1;33m>\u001b[0m \u001b[1;36m1\u001b[0m \u001b[1;32mor\u001b[0m \u001b[0mindexer\u001b[0m\u001b[1;33m.\u001b[0m\u001b[0msize\u001b[0m \u001b[1;33m>\u001b[0m \u001b[1;36m1\u001b[0m\u001b[1;33m:\u001b[0m\u001b[1;33m\u001b[0m\u001b[1;33m\u001b[0m\u001b[0m\n",
      "\u001b[1;32mpandas/_libs/index.pyx\u001b[0m in \u001b[0;36mpandas._libs.index.IndexEngine.get_loc\u001b[1;34m()\u001b[0m\n",
      "\u001b[1;32mpandas/_libs/index.pyx\u001b[0m in \u001b[0;36mpandas._libs.index.IndexEngine.get_loc\u001b[1;34m()\u001b[0m\n",
      "\u001b[1;32mpandas/_libs/hashtable_class_helper.pxi\u001b[0m in \u001b[0;36mpandas._libs.hashtable.PyObjectHashTable.get_item\u001b[1;34m()\u001b[0m\n",
      "\u001b[1;32mpandas/_libs/hashtable_class_helper.pxi\u001b[0m in \u001b[0;36mpandas._libs.hashtable.PyObjectHashTable.get_item\u001b[1;34m()\u001b[0m\n",
      "\u001b[1;31mKeyError\u001b[0m: 'POS_ORDER_WOE'"
     ]
    }
   ],
   "source": [
    "from scoring.metrics import iv,gini\n",
    "cols_list= features_list\n",
    "col_target= 'RISK_FSTQPD30'\n",
    "power_tab = {'VARIABLE_NAME':[],'IV':[],'GINI':[], 'GINI_WOE':[]}\n",
    "for j in range(0,len(cols_list)):\n",
    "        power_tab[\"VARIABLE_NAME\"].append(cols_list[j])\n",
    "        power_tab[\"IV\"].append(\"{:.2%}\".format(iv(df[col_target],df[cols_list[j]+\"_BINS\"])))\n",
    "        power_tab[\"GINI_WOE\"].append(\"{:.2%}\".format((2*metrics.roc_auc_score(df[col_target],df[cols_list[j]+\"_WOE\"])-1)))\n",
    "        power_tab[\"GINI\"].append(\"{:.2%}\".format((2*metrics.roc_auc_score(df[col_target],df[cols_list[j]])-1)))\n",
    "        print(cols_list[j])"
   ]
  },
  {
   "cell_type": "code",
   "execution_count": null,
   "metadata": {},
   "outputs": [],
   "source": [
    "power_out = pd.DataFrame(power_tab)\n",
    "power_out = power_out.set_index('VARIABLE_NAME')\n",
    "power_out = power_out.sort_values('GINI',ascending=False)\n",
    "\n",
    "pd.options.display.max_rows = 1000\n",
    "display(power_out[[\"IV\",\"GINI_WOE\"]])\n",
    "\n",
    "power_out.to_csv(r\"C:\\Users\\aman.khatri91425\\Desktop\\HomeCredit\\Bigdata\\Common Maps KNN\\POS_features_gini_iv.csv\")"
   ]
  },
  {
   "cell_type": "markdown",
   "metadata": {},
   "source": [
    "### To make MOM calculations of IV, GINI"
   ]
  },
  {
   "cell_type": "code",
   "execution_count": null,
   "metadata": {},
   "outputs": [],
   "source": [
    "from scoring.metrics import iv,gini,lift\n",
    "cols_list= features_list\n",
    "col_target= 'RISK_FSTQPD30'\n",
    "power_tab = {'VARIABLE_NAME':[],'MONTH':[],'IV':[],'GINI':[]}\n",
    "for j in range(0,len(cols_list)):\n",
    "    for k in df.MONTH_STR.unique():\n",
    "        power_tab[\"VARIABLE_NAME\"].append(j)\n",
    "        power_tab[\"MONTH\"].append(k)\n",
    "        power_tab[\"IV\"].append(\"{:.1%}\".format(iv(df[df.MONTH_STR==k][col_target],df[df.MONTH_STR==k][cols_list[j]+\"_BINS\"])))\n",
    "        power_tab[\"GINI\"].append(\"{:.1%}\".format((2*metrics.roc_auc_score(df[df.MONTH_STR==k][col_target],df[df.MONTH_STR==k][cols_list[j]])-1)))"
   ]
  },
  {
   "cell_type": "code",
   "execution_count": null,
   "metadata": {},
   "outputs": [],
   "source": [
    "power_out = pd.DataFrame(power_tab)\n",
    "power_out = power_out.set_index('VARIABLE_NAME')\n",
    "power_out = power_out.sort_values('Gini',ascending=False)\n",
    "\n",
    "pd.options.display.max_rows = 1000\n",
    "display(power_out)\n",
    "\n",
    "power_out.to_csv(r\"C:\\Users\\aman.khatri91425\\Desktop\\HomeCredit\\Bigdata\\Common Maps KNN\\mom_gini_iv.csv\")"
   ]
  },
  {
   "cell_type": "code",
   "execution_count": null,
   "metadata": {},
   "outputs": [],
   "source": []
  },
  {
   "cell_type": "code",
   "execution_count": null,
   "metadata": {},
   "outputs": [],
   "source": []
  },
  {
   "cell_type": "markdown",
   "metadata": {},
   "source": [
    "# Make Logistic Models for POS New and Exi using above features"
   ]
  },
  {
   "cell_type": "code",
   "execution_count": null,
   "metadata": {},
   "outputs": [],
   "source": []
  },
  {
   "cell_type": "code",
   "execution_count": null,
   "metadata": {},
   "outputs": [],
   "source": []
  },
  {
   "cell_type": "code",
   "execution_count": null,
   "metadata": {},
   "outputs": [],
   "source": []
  },
  {
   "cell_type": "markdown",
   "metadata": {},
   "source": [
    "# Combine RISK PREDICTION model output"
   ]
  },
  {
   "cell_type": "code",
   "execution_count": null,
   "metadata": {},
   "outputs": [],
   "source": []
  },
  {
   "cell_type": "code",
   "execution_count": null,
   "metadata": {},
   "outputs": [],
   "source": []
  },
  {
   "cell_type": "code",
   "execution_count": null,
   "metadata": {},
   "outputs": [],
   "source": []
  }
 ],
 "metadata": {
  "kernelspec": {
   "display_name": "Python 3",
   "language": "python",
   "name": "python3"
  },
  "language_info": {
   "codemirror_mode": {
    "name": "ipython",
    "version": 3
   },
   "file_extension": ".py",
   "mimetype": "text/x-python",
   "name": "python",
   "nbconvert_exporter": "python",
   "pygments_lexer": "ipython3",
   "version": "3.7.3"
  }
 },
 "nbformat": 4,
 "nbformat_minor": 2
}
