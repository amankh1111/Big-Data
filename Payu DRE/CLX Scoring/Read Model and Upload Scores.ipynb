{
 "cells": [
  {
   "cell_type": "code",
   "execution_count": 2,
   "metadata": {},
   "outputs": [],
   "source": [
    "import os\n",
    "import cx_Oracle\n",
    "import pandas as pd\n",
    "import numpy as np\n",
    "from datetime import date,datetime,time\n",
    "#import xgboost as xgb\n",
    "import warnings\n",
    "import pickle\n",
    "import time\n",
    "import matplotlib.pyplot as plt\n",
    "from sklearn import linear_model\n",
    "from sklearn import metrics\n",
    "from sklearn.model_selection import train_test_split, StratifiedKFold, RandomizedSearchCV, cross_val_score \n",
    "from inspect import signature\n",
    "from sklearn.preprocessing import PolynomialFeatures\n",
    "import math"
   ]
  },
  {
   "cell_type": "code",
   "execution_count": 136,
   "metadata": {},
   "outputs": [],
   "source": [
    "os.chdir(r\"C:\\Users\\aman.khatri91425\\Desktop\\HomeCredit\\Bigdata\\PayU CLX Scoring\")\n",
    "df=pd.read_pickle(os.getcwd()+\"\\\\data files\\\\payu_tenure_predictors_fstpd30_skp_case30_Sep_12hrs.pkl\")\n"
   ]
  },
  {
   "cell_type": "code",
   "execution_count": 152,
   "metadata": {},
   "outputs": [],
   "source": [
    "#pickle.dump(model, open(os.getcwd()+\"\\\\Data Files\\\\model_name.sav\", 'wb'))\n",
    "loaded_model = pickle.load(open(\"xgb_fst_clx_6pred_derived_final_model.sav\", 'rb'))\n"
   ]
  },
  {
   "cell_type": "code",
   "execution_count": 138,
   "metadata": {},
   "outputs": [],
   "source": [
    "X=df[['AFFLUENCE_SCORE','ENGAGEMENT_SCORE','DIGITAL_RISK_SCORE','ACTIVE_MONTHS_365',\n",
    "      'TOTAL_AMT_SALE_365','TOTAL_CNT_SALE_365','RISK_SCORE','SKP_CREDIT_CASE']]\n",
    "Y=df['RISK_FSTPD30']\n"
   ]
  },
  {
   "cell_type": "code",
   "execution_count": 139,
   "metadata": {},
   "outputs": [
    {
     "name": "stderr",
     "output_type": "stream",
     "text": [
      "C:\\Users\\aman.khatri91425\\AppData\\Local\\Continuum\\anaconda3\\lib\\site-packages\\ipykernel_launcher.py:1: SettingWithCopyWarning: \n",
      "A value is trying to be set on a copy of a slice from a DataFrame.\n",
      "Try using .loc[row_indexer,col_indexer] = value instead\n",
      "\n",
      "See the caveats in the documentation: http://pandas.pydata.org/pandas-docs/stable/indexing.html#indexing-view-versus-copy\n",
      "  \"\"\"Entry point for launching an IPython kernel.\n",
      "C:\\Users\\aman.khatri91425\\AppData\\Local\\Continuum\\anaconda3\\lib\\site-packages\\ipykernel_launcher.py:8: SettingWithCopyWarning: \n",
      "A value is trying to be set on a copy of a slice from a DataFrame.\n",
      "Try using .loc[row_indexer,col_indexer] = value instead\n",
      "\n",
      "See the caveats in the documentation: http://pandas.pydata.org/pandas-docs/stable/indexing.html#indexing-view-versus-copy\n",
      "  \n",
      "C:\\Users\\aman.khatri91425\\AppData\\Local\\Continuum\\anaconda3\\lib\\site-packages\\ipykernel_launcher.py:15: SettingWithCopyWarning: \n",
      "A value is trying to be set on a copy of a slice from a DataFrame.\n",
      "Try using .loc[row_indexer,col_indexer] = value instead\n",
      "\n",
      "See the caveats in the documentation: http://pandas.pydata.org/pandas-docs/stable/indexing.html#indexing-view-versus-copy\n",
      "  from ipykernel import kernelapp as app\n",
      "C:\\Users\\aman.khatri91425\\AppData\\Local\\Continuum\\anaconda3\\lib\\site-packages\\ipykernel_launcher.py:23: SettingWithCopyWarning: \n",
      "A value is trying to be set on a copy of a slice from a DataFrame.\n",
      "Try using .loc[row_indexer,col_indexer] = value instead\n",
      "\n",
      "See the caveats in the documentation: http://pandas.pydata.org/pandas-docs/stable/indexing.html#indexing-view-versus-copy\n",
      "C:\\Users\\aman.khatri91425\\AppData\\Local\\Continuum\\anaconda3\\lib\\site-packages\\ipykernel_launcher.py:30: SettingWithCopyWarning: \n",
      "A value is trying to be set on a copy of a slice from a DataFrame.\n",
      "Try using .loc[row_indexer,col_indexer] = value instead\n",
      "\n",
      "See the caveats in the documentation: http://pandas.pydata.org/pandas-docs/stable/indexing.html#indexing-view-versus-copy\n",
      "C:\\Users\\aman.khatri91425\\AppData\\Local\\Continuum\\anaconda3\\lib\\site-packages\\ipykernel_launcher.py:37: SettingWithCopyWarning: \n",
      "A value is trying to be set on a copy of a slice from a DataFrame.\n",
      "Try using .loc[row_indexer,col_indexer] = value instead\n",
      "\n",
      "See the caveats in the documentation: http://pandas.pydata.org/pandas-docs/stable/indexing.html#indexing-view-versus-copy\n",
      "C:\\Users\\aman.khatri91425\\AppData\\Local\\Continuum\\anaconda3\\lib\\site-packages\\ipykernel_launcher.py:45: SettingWithCopyWarning: \n",
      "A value is trying to be set on a copy of a slice from a DataFrame.\n",
      "Try using .loc[row_indexer,col_indexer] = value instead\n",
      "\n",
      "See the caveats in the documentation: http://pandas.pydata.org/pandas-docs/stable/indexing.html#indexing-view-versus-copy\n",
      "C:\\Users\\aman.khatri91425\\AppData\\Local\\Continuum\\anaconda3\\lib\\site-packages\\ipykernel_launcher.py:46: SettingWithCopyWarning: \n",
      "A value is trying to be set on a copy of a slice from a DataFrame.\n",
      "Try using .loc[row_indexer,col_indexer] = value instead\n",
      "\n",
      "See the caveats in the documentation: http://pandas.pydata.org/pandas-docs/stable/indexing.html#indexing-view-versus-copy\n",
      "C:\\Users\\aman.khatri91425\\AppData\\Local\\Continuum\\anaconda3\\lib\\site-packages\\ipykernel_launcher.py:47: SettingWithCopyWarning: \n",
      "A value is trying to be set on a copy of a slice from a DataFrame.\n",
      "Try using .loc[row_indexer,col_indexer] = value instead\n",
      "\n",
      "See the caveats in the documentation: http://pandas.pydata.org/pandas-docs/stable/indexing.html#indexing-view-versus-copy\n",
      "C:\\Users\\aman.khatri91425\\AppData\\Local\\Continuum\\anaconda3\\lib\\site-packages\\ipykernel_launcher.py:49: SettingWithCopyWarning: \n",
      "A value is trying to be set on a copy of a slice from a DataFrame.\n",
      "Try using .loc[row_indexer,col_indexer] = value instead\n",
      "\n",
      "See the caveats in the documentation: http://pandas.pydata.org/pandas-docs/stable/indexing.html#indexing-view-versus-copy\n",
      "C:\\Users\\aman.khatri91425\\AppData\\Local\\Continuum\\anaconda3\\lib\\site-packages\\ipykernel_launcher.py:50: SettingWithCopyWarning: \n",
      "A value is trying to be set on a copy of a slice from a DataFrame.\n",
      "Try using .loc[row_indexer,col_indexer] = value instead\n",
      "\n",
      "See the caveats in the documentation: http://pandas.pydata.org/pandas-docs/stable/indexing.html#indexing-view-versus-copy\n",
      "C:\\Users\\aman.khatri91425\\AppData\\Local\\Continuum\\anaconda3\\lib\\site-packages\\ipykernel_launcher.py:51: SettingWithCopyWarning: \n",
      "A value is trying to be set on a copy of a slice from a DataFrame.\n",
      "Try using .loc[row_indexer,col_indexer] = value instead\n",
      "\n",
      "See the caveats in the documentation: http://pandas.pydata.org/pandas-docs/stable/indexing.html#indexing-view-versus-copy\n",
      "C:\\Users\\aman.khatri91425\\AppData\\Local\\Continuum\\anaconda3\\lib\\site-packages\\ipykernel_launcher.py:53: SettingWithCopyWarning: \n",
      "A value is trying to be set on a copy of a slice from a DataFrame.\n",
      "Try using .loc[row_indexer,col_indexer] = value instead\n",
      "\n",
      "See the caveats in the documentation: http://pandas.pydata.org/pandas-docs/stable/indexing.html#indexing-view-versus-copy\n",
      "C:\\Users\\aman.khatri91425\\AppData\\Local\\Continuum\\anaconda3\\lib\\site-packages\\ipykernel_launcher.py:54: SettingWithCopyWarning: \n",
      "A value is trying to be set on a copy of a slice from a DataFrame.\n",
      "Try using .loc[row_indexer,col_indexer] = value instead\n",
      "\n",
      "See the caveats in the documentation: http://pandas.pydata.org/pandas-docs/stable/indexing.html#indexing-view-versus-copy\n",
      "C:\\Users\\aman.khatri91425\\AppData\\Local\\Continuum\\anaconda3\\lib\\site-packages\\ipykernel_launcher.py:55: SettingWithCopyWarning: \n",
      "A value is trying to be set on a copy of a slice from a DataFrame.\n",
      "Try using .loc[row_indexer,col_indexer] = value instead\n",
      "\n",
      "See the caveats in the documentation: http://pandas.pydata.org/pandas-docs/stable/indexing.html#indexing-view-versus-copy\n",
      "C:\\Users\\aman.khatri91425\\AppData\\Local\\Continuum\\anaconda3\\lib\\site-packages\\ipykernel_launcher.py:57: SettingWithCopyWarning: \n",
      "A value is trying to be set on a copy of a slice from a DataFrame.\n",
      "Try using .loc[row_indexer,col_indexer] = value instead\n",
      "\n",
      "See the caveats in the documentation: http://pandas.pydata.org/pandas-docs/stable/indexing.html#indexing-view-versus-copy\n",
      "C:\\Users\\aman.khatri91425\\AppData\\Local\\Continuum\\anaconda3\\lib\\site-packages\\ipykernel_launcher.py:58: SettingWithCopyWarning: \n",
      "A value is trying to be set on a copy of a slice from a DataFrame.\n",
      "Try using .loc[row_indexer,col_indexer] = value instead\n",
      "\n",
      "See the caveats in the documentation: http://pandas.pydata.org/pandas-docs/stable/indexing.html#indexing-view-versus-copy\n",
      "C:\\Users\\aman.khatri91425\\AppData\\Local\\Continuum\\anaconda3\\lib\\site-packages\\ipykernel_launcher.py:59: SettingWithCopyWarning: \n",
      "A value is trying to be set on a copy of a slice from a DataFrame.\n",
      "Try using .loc[row_indexer,col_indexer] = value instead\n",
      "\n",
      "See the caveats in the documentation: http://pandas.pydata.org/pandas-docs/stable/indexing.html#indexing-view-versus-copy\n"
     ]
    }
   ],
   "source": [
    "X['ACTIVE_MONTHS_365_BUC'] = X['ACTIVE_MONTHS_365'].apply(lambda symbol: \n",
    " '0' if math.isnan(symbol) or symbol == 0\n",
    " else '1-3' if symbol> 0 and symbol<=3\n",
    " else '4-6' if symbol> 3 and symbol<=6\n",
    " else '7-9' if symbol> 6 and symbol<=9 \n",
    " else '>9')\n",
    "\n",
    "X['TOTAL_AMT_SALE_365_BUC'] = X['TOTAL_AMT_SALE_365'].apply(lambda symbol: \n",
    " '0' if math.isnan(symbol) or symbol == 0\n",
    " else '1-1000' if symbol> 0 and symbol<=1000\n",
    " else '1001-5000' if symbol> 1000 and symbol<=5000\n",
    " else '5001-10000' if symbol> 5000 and symbol<=10000 \n",
    " else '>10000')\n",
    "\n",
    "X['TOTAL_CNT_SALE_365_BUC'] = X['TOTAL_CNT_SALE_365'].apply(lambda symbol: \n",
    " '0' if math.isnan(symbol) or symbol == 0\n",
    " else '1-3' if symbol> 0 and symbol<=3\n",
    " else '4-6' if symbol> 3 and symbol<=6\n",
    " else '7-10' if symbol> 6 and symbol<=10 \n",
    " else '>10')\n",
    "\n",
    "\n",
    "X['ACTIVE_MONTHS_365_ORD'] = X['ACTIVE_MONTHS_365'].apply(lambda symbol: \n",
    " 0 if math.isnan(symbol) or symbol == 0\n",
    " else 2 if symbol> 0 and symbol<=3\n",
    " else 5 if symbol> 3 and symbol<=6\n",
    " else 8 if symbol> 6 and symbol<=9 \n",
    " else 11)\n",
    "\n",
    "X['TOTAL_AMT_SALE_365_ORD'] = X['TOTAL_AMT_SALE_365'].apply(lambda symbol: \n",
    " 0 if math.isnan(symbol) or symbol == 0\n",
    " else 500 if symbol> 0 and symbol<=1000\n",
    " else 3000 if symbol> 1000 and symbol<=5000\n",
    " else 7500 if symbol> 5000 and symbol<=10000 \n",
    " else 35000)\n",
    "\n",
    "X['TOTAL_CNT_SALE_365_ORD'] = X['TOTAL_CNT_SALE_365'].apply(lambda symbol: \n",
    " 0 if math.isnan(symbol) or symbol == 0\n",
    " else 2 if symbol> 0 and symbol<=3\n",
    " else 5 if symbol> 3 and symbol<=6\n",
    " else 8.5 if symbol> 6 and symbol<=10 \n",
    " else 20)\n",
    "\n",
    "    \n",
    "X[\"AF_div_EN\"]=X[\"AFFLUENCE_SCORE\"]/X[\"ENGAGEMENT_SCORE\"]\n",
    "X[\"AF_div_DR\"]=X[\"AFFLUENCE_SCORE\"]/X[\"DIGITAL_RISK_SCORE\"]\n",
    "X[\"EN_div_AF\"]=X[\"ENGAGEMENT_SCORE\"]/X[\"AFFLUENCE_SCORE\"]\n",
    "\n",
    "X[\"EN_div_DR\"]=X[\"ENGAGEMENT_SCORE\"]/X[\"DIGITAL_RISK_SCORE\"]\n",
    "X[\"DR_div_AF\"]=X[\"DIGITAL_RISK_SCORE\"]/X[\"AFFLUENCE_SCORE\"]\n",
    "X[\"DR_div_EN\"]=X[\"DIGITAL_RISK_SCORE\"]/X[\"ENGAGEMENT_SCORE\"]\n",
    "\n",
    "X[\"AF_mul_EN\"]=X[\"AFFLUENCE_SCORE\"]*X[\"ENGAGEMENT_SCORE\"]\n",
    "X[\"EN_mul_DR\"]=X[\"ENGAGEMENT_SCORE\"]*X[\"DIGITAL_RISK_SCORE\"]\n",
    "X[\"DR_mul_AF\"]=X[\"DIGITAL_RISK_SCORE\"]*X[\"AFFLUENCE_SCORE\"]\n",
    "    \n",
    "X['AVG_TICKET'] = X[\"TOTAL_AMT_SALE_365_ORD\"]/X[\"TOTAL_CNT_SALE_365_ORD\"]\n",
    "X['MONTHLY_AMT'] = X[\"TOTAL_AMT_SALE_365_ORD\"]/X[\"ACTIVE_MONTHS_365_ORD\"]\n",
    "X['MONTHLY_CNT'] = X[\"TOTAL_CNT_SALE_365_ORD\"]/X[\"ACTIVE_MONTHS_365_ORD\"]\n",
    "\n"
   ]
  },
  {
   "cell_type": "code",
   "execution_count": 140,
   "metadata": {},
   "outputs": [],
   "source": [
    "missing_value=None; cpu=-1; test_size=0.3; early_stopping_round=40; split_random_state=None;"
   ]
  },
  {
   "cell_type": "code",
   "execution_count": 141,
   "metadata": {},
   "outputs": [],
   "source": [
    "X_final=X[['AFFLUENCE_SCORE','ENGAGEMENT_SCORE','DIGITAL_RISK_SCORE','ACTIVE_MONTHS_365_ORD',\n",
    "      'TOTAL_AMT_SALE_365_ORD','TOTAL_CNT_SALE_365_ORD','RISK_SCORE','AVG_TICKET',\n",
    "       'AF_mul_EN', 'EN_mul_DR', 'DR_mul_AF', 'MONTHLY_AMT', 'MONTHLY_CNT',\n",
    "       'AF_div_EN', 'AF_div_DR', 'EN_div_AF', 'EN_div_DR', 'DR_div_AF',\n",
    "       'DR_div_EN','SKP_CREDIT_CASE']]\n"
   ]
  },
  {
   "cell_type": "code",
   "execution_count": 142,
   "metadata": {},
   "outputs": [],
   "source": [
    "y_pred  = loaded_model.predict_proba(X_final.drop(columns = ['SKP_CREDIT_CASE','RISK_SCORE']))[:,1]"
   ]
  },
  {
   "cell_type": "code",
   "execution_count": 143,
   "metadata": {},
   "outputs": [
    {
     "name": "stderr",
     "output_type": "stream",
     "text": [
      "C:\\Users\\aman.khatri91425\\AppData\\Local\\Continuum\\anaconda3\\lib\\site-packages\\ipykernel_launcher.py:1: SettingWithCopyWarning: \n",
      "A value is trying to be set on a copy of a slice from a DataFrame.\n",
      "Try using .loc[row_indexer,col_indexer] = value instead\n",
      "\n",
      "See the caveats in the documentation: http://pandas.pydata.org/pandas-docs/stable/indexing.html#indexing-view-versus-copy\n",
      "  \"\"\"Entry point for launching an IPython kernel.\n"
     ]
    }
   ],
   "source": [
    "X_final['PAYU_PRED']  = y_pred"
   ]
  },
  {
   "cell_type": "code",
   "execution_count": 147,
   "metadata": {},
   "outputs": [
    {
     "name": "stdout",
     "output_type": "stream",
     "text": [
      "0.08537233138972211\n"
     ]
    }
   ],
   "source": [
    "metric_auc = metrics.roc_auc_score(Y, X_final['PAYU_PRED'])\n",
    "gini = 2 * metric_auc - 1\n",
    "print(gini)"
   ]
  },
  {
   "cell_type": "code",
   "execution_count": 148,
   "metadata": {},
   "outputs": [
    {
     "name": "stderr",
     "output_type": "stream",
     "text": [
      "C:\\Users\\aman.khatri91425\\AppData\\Local\\Continuum\\anaconda3\\lib\\site-packages\\ipykernel_launcher.py:6: SettingWithCopyWarning: \n",
      "A value is trying to be set on a copy of a slice from a DataFrame.\n",
      "Try using .loc[row_indexer,col_indexer] = value instead\n",
      "\n",
      "See the caveats in the documentation: http://pandas.pydata.org/pandas-docs/stable/indexing.html#indexing-view-versus-copy\n",
      "  \n",
      "C:\\Users\\aman.khatri91425\\AppData\\Local\\Continuum\\anaconda3\\lib\\site-packages\\ipykernel_launcher.py:7: SettingWithCopyWarning: \n",
      "A value is trying to be set on a copy of a slice from a DataFrame\n",
      "\n",
      "See the caveats in the documentation: http://pandas.pydata.org/pandas-docs/stable/indexing.html#indexing-view-versus-copy\n",
      "  import sys\n"
     ]
    }
   ],
   "source": [
    "#Fit Linear Model to calculate gini lift\n",
    "X_final.columns\n",
    "X_final\n",
    "\n",
    "df_payu_score = X_final\n",
    "df_payu_score['RISK_FSTPD30'] = Y\n",
    "df_payu_score.dropna(subset=['RISK_SCORE'],inplace = True)"
   ]
  },
  {
   "cell_type": "code",
   "execution_count": 149,
   "metadata": {},
   "outputs": [
    {
     "name": "stdout",
     "output_type": "stream",
     "text": [
      "0.34351275639485235\n"
     ]
    }
   ],
   "source": [
    "lm = linear_model.LinearRegression().fit(df_payu_score[['RISK_SCORE','PAYU_PRED']],df_payu_score[\"RISK_FSTPD30\"])\n",
    "\n",
    "ypred= lm.predict(df_payu_score[['RISK_SCORE','PAYU_PRED']])\n",
    "\n",
    "metric_auc = metrics.roc_auc_score(df_payu_score[\"RISK_FSTPD30\"], ypred)\n",
    "gini = 2 * metric_auc - 1\n",
    "print(gini)"
   ]
  },
  {
   "cell_type": "code",
   "execution_count": 150,
   "metadata": {},
   "outputs": [
    {
     "name": "stdout",
     "output_type": "stream",
     "text": [
      "0.34040252213799693\n"
     ]
    }
   ],
   "source": [
    "metric_auc = metrics.roc_auc_score(df_payu_score[\"RISK_FSTPD30\"], df_payu_score[\"RISK_SCORE\"])\n",
    "gini = 2 * metric_auc - 1\n",
    "print(gini)"
   ]
  },
  {
   "cell_type": "code",
   "execution_count": 151,
   "metadata": {},
   "outputs": [
    {
     "name": "stdout",
     "output_type": "stream",
     "text": [
      "0.0\n",
      "[[-1.80980239  5.56679202 -0.38189413]]\n",
      "[-1.80980239]\n"
     ]
    }
   ],
   "source": [
    "poly = PolynomialFeatures(1)\n",
    "new_df = pd.DataFrame(poly.fit_transform(df_payu_score[['RISK_SCORE','PAYU_PRED']]))\n",
    "new_df.columns = poly.get_feature_names(input_features = ['RISK_SCORE','PAYU_PRED'])\n",
    "\n",
    "#lm = linear_model.LinearRegression().fit(new_df,df_payu_score[\"RISK_FSTPD30\"])\n",
    "lm = linear_model.LogisticRegression().fit(new_df,df_payu_score[\"RISK_FSTPD30\"])\n",
    "\n",
    "ypred= lm.predict(new_df)\n",
    "\n",
    "metric_auc = metrics.roc_auc_score(df_payu_score[\"RISK_FSTPD30\"], ypred)\n",
    "gini = 2 * metric_auc - 1\n",
    "print(gini)\n",
    "\n",
    "print(lm.coef_)\n",
    "\n",
    "print(lm.intercept_)\n"
   ]
  }
 ],
 "metadata": {
  "kernelspec": {
   "display_name": "Python 3",
   "language": "python",
   "name": "python3"
  },
  "language_info": {
   "codemirror_mode": {
    "name": "ipython",
    "version": 3
   },
   "file_extension": ".py",
   "mimetype": "text/x-python",
   "name": "python",
   "nbconvert_exporter": "python",
   "pygments_lexer": "ipython3",
   "version": "3.7.3"
  }
 },
 "nbformat": 4,
 "nbformat_minor": 2
}
