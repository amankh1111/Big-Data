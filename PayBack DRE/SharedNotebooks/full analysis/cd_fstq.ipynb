{
 "cells": [
  {
   "cell_type": "code",
   "execution_count": 1,
   "metadata": {},
   "outputs": [],
   "source": [
    "import xgboost as xgb\n",
    "import numpy as np\n",
    "import pandas as pd\n",
    "import time\n",
    "import pickle\n",
    "import os\n",
    "from math import log\n",
    "import matplotlib.pyplot as plt\n",
    "\n",
    "import sklearn\n",
    "from sklearn.model_selection import train_test_split, GridSearchCV, RandomizedSearchCV, ParameterGrid,StratifiedKFold, cross_val_score\n",
    "\n",
    "from sklearn import metrics \n",
    "from sklearn.metrics import confusion_matrix, precision_recall_curve, average_precision_score, brier_score_loss, f1_score, log_loss,auc,roc_curve,auc\n",
    "\n",
    "from sklearn.linear_model import LogisticRegression, LogisticRegressionCV\n",
    "from sklearn.ensemble import RandomForestClassifier\n",
    "\n",
    "from sklearn.decomposition import PCA\n",
    "#from sklearn.utils.fixes import signature\n",
    "\n",
    "import warnings\n",
    "warnings.filterwarnings(\"ignore\", category=DeprecationWarning)"
   ]
  },
  {
   "cell_type": "code",
   "execution_count": 2,
   "metadata": {},
   "outputs": [],
   "source": [
    "##read datasets\n",
    "df=pd.read_pickle(r\"cust_final_20191030.pkl\")"
   ]
  },
  {
   "cell_type": "code",
   "execution_count": 3,
   "metadata": {},
   "outputs": [
    {
     "data": {
      "text/plain": [
       "Index(['MOBILE', 'PRODUCT_GROUP', 'MEMBER_ID_nunique', 'ACTIVITY_ID_nunique',\n",
       "       'ACTIVITY_VALUE_max', 'ACTIVITY_VALUE_min', 'ACTIVITY_VALUE_median',\n",
       "       'ACTIVITY_VALUE_std', 'ACTIVITY_VALUE_mean', 'ALLOCATED_POINTS_max',\n",
       "       ...\n",
       "       'CLIENT_EXI_3M', 'TIME_DECISION_DATE', 'RISK_FPD30', 'RISK_AGRF30',\n",
       "       'RISK_FSPD30', 'RISK_AGRF60', 'RISK_FSTPD30', 'RISK_AGRF90',\n",
       "       'RISK_FSTQPD30', 'RISK_AGRF120'],\n",
       "      dtype='object', length=477)"
      ]
     },
     "execution_count": 3,
     "metadata": {},
     "output_type": "execute_result"
    }
   ],
   "source": [
    "df.columns "
   ]
  },
  {
   "cell_type": "code",
   "execution_count": 4,
   "metadata": {},
   "outputs": [],
   "source": [
    "df.dropna(subset=['HC_SCORE'],inplace=True)\n",
    "df = df[(df['RISK_AGRF120']== 1) & (df['PRODUCT_GROUP']=='CD')]"
   ]
  },
  {
   "cell_type": "code",
   "execution_count": 5,
   "metadata": {},
   "outputs": [
    {
     "data": {
      "text/plain": [
       "<matplotlib.axes._subplots.AxesSubplot at 0x50a22e8>"
      ]
     },
     "execution_count": 5,
     "metadata": {},
     "output_type": "execute_result"
    },
    {
     "data": {
      "image/png": "[encoded data removed]",
      "text/plain": [
       "<Figure size 432x288 with 1 Axes>"
      ]
     },
     "metadata": {
      "needs_background": "light"
     },
     "output_type": "display_data"
    }
   ],
   "source": [
    "# Check distribution of scores\n",
    "pd.Series(df['HC_SCORE']).plot.hist(bins=10, range=(0,0.08) ,color='#607c8e')"
   ]
  },
  {
   "cell_type": "code",
   "execution_count": 6,
   "metadata": {},
   "outputs": [],
   "source": [
    "X=df.drop(['MOBILE','RISK_AGRF30','RISK_FPD30','RISK_FSPD30','RISK_FSTPD30',\n",
    "           'RISK_FSTQPD30','CLIENT_EXI_3M','PRODUCT_GROUP', 'TIME_DECISION_DATE_max', 'ACTIVITY_DATE_min', 'ACTIVITY_DATE_max', \n",
    "            'TIME_DECISION_DATE'] ,axis=1)\n",
    "Y=df[['RISK_FSTQPD30']]"
   ]
  },
  {
   "cell_type": "code",
   "execution_count": 7,
   "metadata": {},
   "outputs": [
    {
     "name": "stdout",
     "output_type": "stream",
     "text": [
      "HCIN SCORE GINI: 0.21925967724797402\n"
     ]
    }
   ],
   "source": [
    "hcc_score='HC_SCORE'\n",
    "\n",
    "# HCC score Gini         \n",
    "y_hcc = X[hcc_score]\n",
    "df_hcc = pd.DataFrame({'true': np.ravel(Y), 'predict': y_hcc})\n",
    "df_hcc = df_hcc.loc[pd.notnull(df_hcc['predict']),:]\n",
    "metric_auc_hcc = metrics.roc_auc_score(df_hcc['true'], df_hcc['predict'])\n",
    "gini_hcc_only = 2 * metric_auc_hcc - 1\n",
    "print(\"HCIN SCORE GINI:\" ,gini_hcc_only)"
   ]
  },
  {
   "cell_type": "code",
   "execution_count": 8,
   "metadata": {},
   "outputs": [
    {
     "name": "stdout",
     "output_type": "stream",
     "text": [
      "\n",
      "Event rate in train set : 3.59%\n",
      "\n",
      " Train set shape: (186744, 465)\n",
      "\n",
      "Event rate in test set : 3.65%\n",
      "\n",
      " Test set shape: (100043, 465)\n",
      "\n",
      "Event rate in validation set : 3.60%\n",
      "\n",
      " validation set shape: (46687, 465)\n",
      "\n",
      " Train GINI 0.22148714013446136\n",
      "\n",
      " Test GINI 0.20868546620931272\n",
      "\n",
      " validation GINI 0.23352214399219218\n",
      "\n",
      "Event rate in train set : 3.59%\n",
      "\n",
      " Train set shape: (233431, 477)\n",
      "\n",
      " Train GINI 0.2238763190910209\n",
      "\n",
      "Event rate in test set : 3.65%\n",
      "\n",
      " test set shape: (100043, 477)\n",
      "\n",
      " test GINI 0.20868546620931272\n"
     ]
    }
   ],
   "source": [
    "# split data into train and test sets\n",
    "seed = 25522\n",
    "test_size = 0.3\n",
    "X_train, X_test, y_train, y_test = train_test_split(X, Y, test_size=test_size, random_state=seed)\n",
    "\n",
    "X_train, X_valid, y_train, y_valid = train_test_split(X_train, y_train, test_size=0.2, random_state=seed)\n",
    "\n",
    "# X_train.drop('UW_SC',axis=1,inplace=True) \n",
    "# X_test.drop('UW_SC',axis=1,inplace=True) \n",
    "\n",
    "##event rate\n",
    "print(\"\\nEvent rate in train set :\", '{:,.2%}'.format(sum(y_train.iloc[:,0]) / len(y_train.iloc[:,0])))\n",
    "print(\"\\n Train set shape:\",X_train.shape)\n",
    "print(\"\\nEvent rate in test set :\", '{:,.2%}'.format(sum(y_test.iloc[:,0]) / len(y_test.iloc[:,0])))\n",
    "print(\"\\n Test set shape:\",X_test.shape)\n",
    "print(\"\\nEvent rate in validation set :\", '{:,.2%}'.format(sum(y_valid.iloc[:,0]) / len(y_valid.iloc[:,0])))\n",
    "print(\"\\n validation set shape:\",X_valid.shape)\n",
    "print(\"\\n Train GINI\",  metrics.roc_auc_score(y_train, X_train['HC_SCORE'])*2 -1)\n",
    "print(\"\\n Test GINI\",  metrics.roc_auc_score(y_test, X_test['HC_SCORE'])*2 -1)\n",
    "print(\"\\n validation GINI\",  metrics.roc_auc_score(y_valid, X_valid['HC_SCORE'])*2 -1)\n",
    "\n",
    "## fecth original test data\n",
    "train,test = train_test_split(df, test_size=test_size, random_state=seed)\n",
    "print(\"\\nEvent rate in train set :\", '{:,.2%}'.format(sum(train['RISK_FSTQPD30']) / len(train.iloc[:,0])))\n",
    "print(\"\\n Train set shape:\",train.shape)\n",
    "print(\"\\n Train GINI\",  metrics.roc_auc_score(train['RISK_FSTQPD30'], train['HC_SCORE'])*2 -1)\n",
    "\n",
    "print(\"\\nEvent rate in test set :\", '{:,.2%}'.format(sum(test['RISK_FSTQPD30']) / len(test.iloc[:,0])))\n",
    "print(\"\\n test set shape:\",test.shape)\n",
    "print(\"\\n test GINI\",  metrics.roc_auc_score(test['RISK_FSTQPD30'], test['HC_SCORE'])*2 -1)"
   ]
  },
  {
   "cell_type": "code",
   "execution_count": 9,
   "metadata": {},
   "outputs": [],
   "source": [
    "#X_test_pkl = X_test\n",
    "#X_test_pkl['RISK_FSTQPD30'] = y_test\n",
    "#X_test_pkl.to_pickle(\"cd\\\\pillar_test_set.pkl\")"
   ]
  },
  {
   "cell_type": "code",
   "execution_count": 10,
   "metadata": {},
   "outputs": [],
   "source": [
    "## Variable importance\n",
    "def fimportances(xc, predictors):\n",
    "    importances = pd.DataFrame({'predictor': predictors, 'importance': xc.feature_importances_})\n",
    "    importances = importances[importances['importance'] > 0]\n",
    "    importances.sort_values(by='importance', ascending=False, inplace=True)\n",
    "    importances.reset_index(inplace=True, drop=True)\n",
    "    importances = importances[['predictor', 'importance']]\n",
    "    return importances"
   ]
  },
  {
   "cell_type": "code",
   "execution_count": 11,
   "metadata": {},
   "outputs": [],
   "source": [
    "xgb_model = xgb.XGBClassifier(max_depth = 3,\n",
    "              learning_rate= 0.01,\n",
    "              subsample= 0.6,\n",
    "              min_child_weight= 10,\n",
    "              colsample_bytree= 0.6,\n",
    "              scale_pos_weight =25,\n",
    "              objective= 'binary:logistic', \n",
    "              nthread = -1, \n",
    "              n_estimators = 200              \n",
    "              )\n",
    "\n",
    "evals=[(X_train.drop(columns='HC_SCORE'), np.ravel(y_train)),(X_valid.drop(columns='HC_SCORE'), np.ravel(y_valid))]\n",
    "\n",
    "bst = xgb_model.fit(X_train.drop(columns='HC_SCORE'), np.ravel(y_train), eval_metric=\"auc\", eval_set=evals,\n",
    "                    early_stopping_rounds=40   ,  verbose=False)"
   ]
  },
  {
   "cell_type": "code",
   "execution_count": 12,
   "metadata": {},
   "outputs": [],
   "source": [
    "imp = fimportances(bst,X_train.drop(columns='HC_SCORE').columns)"
   ]
  },
  {
   "cell_type": "code",
   "execution_count": 13,
   "metadata": {},
   "outputs": [
    {
     "name": "stdout",
     "output_type": "stream",
     "text": [
      "Columns Remaining : 260 , gini_train: 0.276004,gini_test: 0.257885 \n",
      "Columns Remaining : 217 , gini_train: 0.275919,gini_test: 0.259656 \n",
      "Columns Remaining : 193 , gini_train: 0.261543,gini_test: 0.255021 \n",
      "Columns Remaining : 160 , gini_train: 0.277203,gini_test: 0.259655 \n",
      "Columns Remaining : 153 , gini_train: 0.275265,gini_test: 0.258602 \n",
      "Columns Remaining : 147 , gini_train: 0.277457,gini_test: 0.259639 \n",
      "Columns Remaining : 144 , gini_train: 0.276632,gini_test: 0.259661 \n",
      "Columns Remaining : 140 , gini_train: 0.276716,gini_test: 0.260735 \n",
      "Columns Remaining : 136 , gini_train: 0.276412,gini_test: 0.260219 \n",
      "Columns Remaining : 130 , gini_train: 0.275187,gini_test: 0.259265 \n",
      "Columns Remaining : 126 , gini_train: 0.274669,gini_test: 0.257847 \n",
      "Columns Remaining : 121 , gini_train: 0.274656,gini_test: 0.258353 \n",
      "Columns Remaining : 117 , gini_train: 0.275682,gini_test: 0.260392 \n",
      "Columns Remaining : 114 , gini_train: 0.274569,gini_test: 0.259766 \n",
      "Columns Remaining : 110 , gini_train: 0.274960,gini_test: 0.260509 \n",
      "Columns Remaining : 108 , gini_train: 0.274679,gini_test: 0.260134 \n",
      "Columns Remaining : 105 , gini_train: 0.274979,gini_test: 0.259474 \n",
      "Columns Remaining : 103 , gini_train: 0.275670,gini_test: 0.260844 \n",
      "Columns Remaining : 101 , gini_train: 0.274987,gini_test: 0.258544 \n",
      "Columns Remaining : 98 , gini_train: 0.275300,gini_test: 0.259186 \n",
      "Columns Remaining : 95 , gini_train: 0.275329,gini_test: 0.258828 \n",
      "Columns Remaining : 93 , gini_train: 0.275399,gini_test: 0.259797 \n",
      "Columns Remaining : 91 , gini_train: 0.274342,gini_test: 0.259771 \n",
      "Columns Remaining : 88 , gini_train: 0.274528,gini_test: 0.258558 \n",
      "Columns Remaining : 86 , gini_train: 0.276032,gini_test: 0.259586 \n",
      "Columns Remaining : 84 , gini_train: 0.275123,gini_test: 0.261451 \n",
      "Columns Remaining : 82 , gini_train: 0.274314,gini_test: 0.260025 \n",
      "Columns Remaining : 80 , gini_train: 0.275554,gini_test: 0.259710 \n",
      "Columns Remaining : 78 , gini_train: 0.274047,gini_test: 0.258826 \n",
      "Columns Remaining : 76 , gini_train: 0.275523,gini_test: 0.261125 \n",
      "Columns Remaining : 74 , gini_train: 0.275222,gini_test: 0.261340 \n",
      "Columns Remaining : 72 , gini_train: 0.274204,gini_test: 0.258499 \n",
      "Columns Remaining : 70 , gini_train: 0.272996,gini_test: 0.259085 \n",
      "Columns Remaining : 68 , gini_train: 0.273960,gini_test: 0.260837 \n",
      "Columns Remaining : 66 , gini_train: 0.273843,gini_test: 0.259296 \n",
      "Columns Remaining : 64 , gini_train: 0.271665,gini_test: 0.259218 \n",
      "Columns Remaining : 62 , gini_train: 0.273255,gini_test: 0.260542 \n",
      "Columns Remaining : 60 , gini_train: 0.274430,gini_test: 0.258939 \n",
      "Columns Remaining : 58 , gini_train: 0.274168,gini_test: 0.260933 \n",
      "Columns Remaining : 56 , gini_train: 0.272873,gini_test: 0.259184 \n",
      "Columns Remaining : 54 , gini_train: 0.273088,gini_test: 0.260719 \n",
      "Columns Remaining : 52 , gini_train: 0.272463,gini_test: 0.260610 \n",
      "Columns Remaining : 50 , gini_train: 0.273214,gini_test: 0.261372 \n",
      "Columns Remaining : 48 , gini_train: 0.273272,gini_test: 0.261342 \n",
      "Columns Remaining : 46 , gini_train: 0.271337,gini_test: 0.261178 \n",
      "Columns Remaining : 44 , gini_train: 0.269575,gini_test: 0.260722 \n",
      "Columns Remaining : 42 , gini_train: 0.271941,gini_test: 0.255962 \n",
      "Columns Remaining : 40 , gini_train: 0.271022,gini_test: 0.256025 \n",
      "Columns Remaining : 38 , gini_train: 0.269552,gini_test: 0.258289 \n",
      "Columns Remaining : 36 , gini_train: 0.269702,gini_test: 0.259425 \n",
      "Columns Remaining : 34 , gini_train: 0.270261,gini_test: 0.260440 \n",
      "Columns Remaining : 32 , gini_train: 0.243797,gini_test: 0.249390 \n",
      "Columns Remaining : 29 , gini_train: 0.269450,gini_test: 0.259651 \n",
      "Columns Remaining : 27 , gini_train: 0.269256,gini_test: 0.258014 \n",
      "Columns Remaining : 25 , gini_train: 0.269885,gini_test: 0.258851 \n",
      "Columns Remaining : 23 , gini_train: 0.267344,gini_test: 0.257677 \n",
      "Columns Remaining : 21 , gini_train: 0.268693,gini_test: 0.258114 \n",
      "Columns Remaining : 19 , gini_train: 0.266701,gini_test: 0.259908 \n",
      "Columns Remaining : 17 , gini_train: 0.265524,gini_test: 0.255881 \n",
      "Columns Remaining : 15 , gini_train: 0.263313,gini_test: 0.256407 \n",
      "Columns Remaining : 13 , gini_train: 0.258004,gini_test: 0.248777 \n",
      "Columns Remaining : 11 , gini_train: 0.254974,gini_test: 0.247401 \n",
      "Columns Remaining : 9 , gini_train: 0.245574,gini_test: 0.242378 \n",
      "Columns Remaining : 7 , gini_train: 0.228086,gini_test: 0.213649 \n",
      "Columns Remaining : 5 , gini_train: 0.237421,gini_test: 0.214402 \n",
      "Columns Remaining : 3 , gini_train: 0.115871,gini_test: 0.109014 \n",
      "Columns Remaining : 1 , gini_train: 0.109520,gini_test: 0.116815 \n"
     ]
    }
   ],
   "source": [
    "bst1 = bst\n",
    "X_train_1 = X_train.drop(columns='HC_SCORE')\n",
    "X_valid_1 = X_valid.drop(columns='HC_SCORE')\n",
    "select_X_train = X_train_1\n",
    "\n",
    "dic_imp = {\"n\":[imp.shape[0]],\"Gini Train\":[0],\"Gini Test\":[0],\"Predictors\":[list(imp['predictor'])]}\n",
    "\n",
    "while(select_X_train.shape[1] > 1):\n",
    "    select_X_train = X_train_1[list(imp['predictor'])[:-2]]\n",
    "    select_X_valid = X_valid_1[list(imp['predictor'])[:-2]]\n",
    "    xgb_model = xgb.XGBClassifier(max_depth = 3,\n",
    "              learning_rate= 0.01,\n",
    "              subsample= 0.6,\n",
    "              min_child_weight= 10,\n",
    "              colsample_bytree= 0.6,\n",
    "              scale_pos_weight =25,\n",
    "              objective= 'binary:logistic', \n",
    "              nthread = -1, \n",
    "              n_estimators = 200              \n",
    "              )\n",
    "\n",
    "    evals=[(select_X_train, np.ravel(y_train)),(select_X_valid, np.ravel(y_valid))]\n",
    "\n",
    "    bst = xgb_model.fit(select_X_train, np.ravel(y_train), eval_metric=\"auc\", eval_set=evals,\n",
    "                        early_stopping_rounds=40   ,  verbose=False)\n",
    "    \n",
    "    ypred_train = bst.predict_proba(select_X_train)[:, 1]\n",
    "    ypred_test  = bst.predict_proba(select_X_valid)[:, 1]\n",
    "    \n",
    "    metric_auc_train = metrics.roc_auc_score(y_train, ypred_train)\n",
    "    metric_auc_test = metrics.roc_auc_score(y_valid, ypred_test)\n",
    "\n",
    "    gini_train = 2 * metric_auc_train - 1\n",
    "    gini_test = 2 * metric_auc_test - 1\n",
    "    \n",
    "    print(\"Columns Remaining : %d , gini_train: %f,gini_test: %f \"%(select_X_train.shape[1],gini_train,gini_test))\n",
    "    \n",
    "    dic_imp['n'].append(imp.shape[0])\n",
    "    dic_imp['Gini Train'].append(gini_train)\n",
    "    dic_imp['Gini Test'].append(gini_test)\n",
    "    dic_imp['Predictors'].append(list(imp['predictor']))\n",
    "    \n",
    "    imp = fimportances(bst,select_X_train.columns)"
   ]
  },
  {
   "cell_type": "code",
   "execution_count": 14,
   "metadata": {},
   "outputs": [],
   "source": [
    "df_imp =pd.DataFrame(dic_imp)"
   ]
  },
  {
   "cell_type": "code",
   "execution_count": 15,
   "metadata": {},
   "outputs": [
    {
     "data": {
      "text/plain": [
       "[['ALLOCATED_POINTS_std',\n",
       "  'ALLOCATED_POINTS_EARN_LAG2',\n",
       "  'ACTIVITY_ID_nunique',\n",
       "  'ALLOCATED_POINTS_EARN_LAG1',\n",
       "  'mesdq_max',\n",
       "  'month_nunique_FUEL_1000_Earn',\n",
       "  'ALLOCATED_POINTS_EARN_LAG3',\n",
       "  'month_nunique_DEBIT_1000_Earn',\n",
       "  'ACTIVITY_VALUE_std',\n",
       "  'month_nunique_DEBIT_180_Earn',\n",
       "  'month_nunique_GROCERY_1000_Earn',\n",
       "  'month_nunique_DEBIT_365_Earn',\n",
       "  'month_nunique_DEBIT_90_Earn',\n",
       "  'month_nunique_E_WALLET_365_by_1000_Earn',\n",
       "  'ACTIVITY_ID_count_DEBIT_180_Earn',\n",
       "  'month_nunique_FUEL_365_Earn',\n",
       "  'month_nunique_FUEL_180_by_1000_Earn',\n",
       "  'month_nunique_DEBIT_90_by_1000_Earn',\n",
       "  'ALLOCATED_POINTS_sum_E_WALLET_365_by_1000_Earn',\n",
       "  'ACTIVITY_ID_count_FUEL_1000_Earn',\n",
       "  'MOB',\n",
       "  'ACTIVITY_ID_count_FUEL_365_by_1000_Earn',\n",
       "  'ALLOCATED_POINTS_max_FUEL_180_Earn',\n",
       "  'ACTIVITY_DATE_nunique_E_WALLET_365_Earn',\n",
       "  'ACTIVITY_DATE_nunique_DEBIT_180_by_1000_Earn',\n",
       "  'ALLOCATED_POINTS_std_DEBIT_90_Earn',\n",
       "  'ALLOCATED_POINTS_median_DEBIT_90_Earn',\n",
       "  'ACTIVITY_DATE_nunique_DEBIT_365_by_1000_Earn',\n",
       "  'ACTIVITY_VALUE_sum_E_WALLET_180_by_1000_Earn',\n",
       "  'month_nunique_E_WALLET_1000_Burn',\n",
       "  'ALLOCATED_POINTS_max_FUEL_365_Earn',\n",
       "  'ALLOCATED_POINTS_mean_FUEL_180_Earn',\n",
       "  'ACTIVITY_VALUE_sum_FUEL_1000_Earn',\n",
       "  'ACTIVITY_VALUE_sum_E_WALLET_365_by_1000_Earn']]"
      ]
     },
     "execution_count": 15,
     "metadata": {},
     "output_type": "execute_result"
    }
   ],
   "source": [
    "list(df_imp[df_imp['n']==34][\"Predictors\"])"
   ]
  },
  {
   "cell_type": "code",
   "execution_count": 16,
   "metadata": {},
   "outputs": [],
   "source": [
    "selected_vars = list(df_imp[df_imp['n']==34][\"Predictors\"])"
   ]
  },
  {
   "cell_type": "code",
   "execution_count": 17,
   "metadata": {},
   "outputs": [
    {
     "data": {
      "text/plain": [
       "[['ALLOCATED_POINTS_std',\n",
       "  'ALLOCATED_POINTS_EARN_LAG2',\n",
       "  'ACTIVITY_ID_nunique',\n",
       "  'ALLOCATED_POINTS_EARN_LAG1',\n",
       "  'mesdq_max',\n",
       "  'month_nunique_FUEL_1000_Earn',\n",
       "  'ALLOCATED_POINTS_EARN_LAG3',\n",
       "  'month_nunique_DEBIT_1000_Earn',\n",
       "  'ACTIVITY_VALUE_std',\n",
       "  'month_nunique_DEBIT_180_Earn',\n",
       "  'month_nunique_GROCERY_1000_Earn',\n",
       "  'month_nunique_DEBIT_365_Earn',\n",
       "  'month_nunique_DEBIT_90_Earn',\n",
       "  'month_nunique_E_WALLET_365_by_1000_Earn',\n",
       "  'ACTIVITY_ID_count_DEBIT_180_Earn',\n",
       "  'month_nunique_FUEL_365_Earn',\n",
       "  'month_nunique_FUEL_180_by_1000_Earn',\n",
       "  'month_nunique_DEBIT_90_by_1000_Earn',\n",
       "  'ALLOCATED_POINTS_sum_E_WALLET_365_by_1000_Earn',\n",
       "  'ACTIVITY_ID_count_FUEL_1000_Earn',\n",
       "  'MOB',\n",
       "  'ACTIVITY_ID_count_FUEL_365_by_1000_Earn',\n",
       "  'ALLOCATED_POINTS_max_FUEL_180_Earn',\n",
       "  'ACTIVITY_DATE_nunique_E_WALLET_365_Earn',\n",
       "  'ACTIVITY_DATE_nunique_DEBIT_180_by_1000_Earn',\n",
       "  'ALLOCATED_POINTS_std_DEBIT_90_Earn',\n",
       "  'ALLOCATED_POINTS_median_DEBIT_90_Earn',\n",
       "  'ACTIVITY_DATE_nunique_DEBIT_365_by_1000_Earn',\n",
       "  'ACTIVITY_VALUE_sum_E_WALLET_180_by_1000_Earn',\n",
       "  'month_nunique_E_WALLET_1000_Burn',\n",
       "  'ALLOCATED_POINTS_max_FUEL_365_Earn',\n",
       "  'ALLOCATED_POINTS_mean_FUEL_180_Earn',\n",
       "  'ACTIVITY_VALUE_sum_FUEL_1000_Earn',\n",
       "  'ACTIVITY_VALUE_sum_E_WALLET_365_by_1000_Earn']]"
      ]
     },
     "execution_count": 17,
     "metadata": {},
     "output_type": "execute_result"
    }
   ],
   "source": [
    "selected_vars"
   ]
  },
  {
   "cell_type": "code",
   "execution_count": 18,
   "metadata": {},
   "outputs": [
    {
     "name": "stdout",
     "output_type": "stream",
     "text": [
      "\n",
      " Train shape: (186744, 34) \n",
      " Test shape: (100043, 34) \n",
      " Validation shape: (46687, 34)\n"
     ]
    }
   ],
   "source": [
    "X_train_2=X_train[selected_vars[0]]\n",
    "X_test_2=X_test[selected_vars[0]]\n",
    "X_valid_2=X_valid[selected_vars[0]]\n",
    "\n",
    "\n",
    "print(\"\\n Train shape:\",X_train_2.shape,\"\\n Test shape:\",X_test_2.shape,\"\\n Validation shape:\",X_valid_2.shape)"
   ]
  },
  {
   "cell_type": "code",
   "execution_count": 19,
   "metadata": {},
   "outputs": [],
   "source": [
    "# set model parameters \n",
    "missing_value=None; cpu=-1; early_stopping_round=40; split_random_state=None\n",
    "kfolds = StratifiedKFold(6, random_state=1)"
   ]
  },
  {
   "cell_type": "code",
   "execution_count": 21,
   "metadata": {
    "scrolled": true
   },
   "outputs": [
    {
     "name": "stdout",
     "output_type": "stream",
     "text": [
      "Randomized search..\n",
      "Randomized search time: 2456.6406791210175\n",
      "Best score: 0.6309039612535026\n",
      "Best params: \n",
      "colsample_bytree: 0.7000000000000002\n",
      "learning_rate: 0.016\n",
      "max_depth: 5\n",
      "min_child_weight: 4\n",
      "scale_pos_weight: 15\n",
      "subsample: 0.6\n"
     ]
    }
   ],
   "source": [
    "## XGB model##\n",
    "param_grid = {'max_depth': list(range(1, 6)),\n",
    "              'learning_rate': np.arange(0.001, 0.02, 0.001),\n",
    "              'subsample': np.arange(0.4, 0.7,0.05),\n",
    "              'min_child_weight': np.arange(1, 25, 3),\n",
    "              'colsample_bytree': np.arange(0.5, 0.75, 0.05),\n",
    "              'scale_pos_weight' :np.arange(5, 40, 2)\n",
    "            }\n",
    "\n",
    "if X_train_2.shape[1] == 1:\n",
    "    param_grid['colsample_bytree'] = [1]\n",
    "    \n",
    "param_dist = {'objective': 'binary:logistic', 'nthread': cpu, 'n_estimators': 200}\n",
    "xgb_model = xgb.XGBClassifier(**param_dist)\n",
    "\n",
    "##random search XGB    \n",
    "clf = RandomizedSearchCV(estimator=xgb_model, param_distributions=param_grid, scoring=['roc_auc'], n_iter=100,\n",
    "                         random_state=40, cv=kfolds.split(X_train_2, y_train), refit='roc_auc',error_score=0, return_train_score =True)\n",
    "print(\"Randomized search..\")\n",
    "search_time_start = time.time()\n",
    "clf.fit(X_train_2, np.ravel(y_train))\n",
    "print(\"Randomized search time:\", time.time() - search_time_start)\n",
    "params = clf.best_params_\n",
    "\n",
    "dic=clf.cv_results_\n",
    "\n",
    "params_bst = params\n",
    "params_tbl = pd.DataFrame(columns=list(params_bst.keys()))  \n",
    "params_tbl.loc['0'] = [params_bst[k] for k in params_tbl.columns]\n",
    "\n",
    "print(\"Best score: {}\".format(clf.best_score_))\n",
    "print(\"Best params: \")\n",
    "for param_name in sorted(params_bst.keys()):\n",
    "    print('%s: %r' % (param_name, params_bst[param_name]))\n",
    "\n",
    "params.update(param_dist)\n",
    "xgb_model = xgb.XGBClassifier(**params)"
   ]
  },
  {
   "cell_type": "code",
   "execution_count": 55,
   "metadata": {},
   "outputs": [
    {
     "name": "stderr",
     "output_type": "stream",
     "text": [
      "C:\\Users\\sgupta\\AppData\\Local\\Continuum\\anaconda3\\lib\\site-packages\\ipykernel_launcher.py:1: FutureWarning: The signature of `Series.to_csv` was aligned to that of `DataFrame.to_csv`, and argument 'header' will change its default value from False to True: please pass an explicit value to suppress this warning.\n",
      "  \"\"\"Entry point for launching an IPython kernel.\n"
     ]
    }
   ],
   "source": [
    "pd.Series(dic['mean_train_roc_auc']).to_csv(\"mean_train_roc_auc_cd.csv\")"
   ]
  },
  {
   "cell_type": "code",
   "execution_count": 56,
   "metadata": {},
   "outputs": [
    {
     "name": "stderr",
     "output_type": "stream",
     "text": [
      "C:\\Users\\sgupta\\AppData\\Local\\Continuum\\anaconda3\\lib\\site-packages\\ipykernel_launcher.py:1: FutureWarning: The signature of `Series.to_csv` was aligned to that of `DataFrame.to_csv`, and argument 'header' will change its default value from False to True: please pass an explicit value to suppress this warning.\n",
      "  \"\"\"Entry point for launching an IPython kernel.\n"
     ]
    }
   ],
   "source": [
    "pd.Series(dic['mean_test_roc_auc']).to_csv(\"mean_test_roc_auc_cd.csv\")"
   ]
  },
  {
   "cell_type": "code",
   "execution_count": 60,
   "metadata": {},
   "outputs": [],
   "source": [
    "pd.DataFrame(dic['params']).to_csv(\"params.csv\")"
   ]
  },
  {
   "cell_type": "code",
   "execution_count": 26,
   "metadata": {},
   "outputs": [],
   "source": [
    "# colsample_bytree: 0.7000000000000002\n",
    "# learning_rate: 0.016\n",
    "# max_depth: 5\n",
    "# min_child_weight: 10\n",
    "# scale_pos_weight: 5\n",
    "# subsample: 0.6pd.DataFrame(dic['params']).to_csv(\"params_mesdq.csv\")"
   ]
  },
  {
   "cell_type": "code",
   "execution_count": 20,
   "metadata": {},
   "outputs": [],
   "source": [
    "\n",
    "#First Run\n",
    "xgb_model = xgb.XGBClassifier(max_depth = 1,\n",
    "              learning_rate= 0.019,\n",
    "              subsample= 0.65,\n",
    "              min_child_weight= 16,\n",
    "              colsample_bytree= 0.7,\n",
    "              scale_pos_weight =27,\n",
    "              objective= 'binary:logistic', \n",
    "              nthread = -1, \n",
    "              n_estimators = 200\n",
    "             )\n",
    "#GINI TRAIN: \n",
    "\n",
    "#GINI Validation: \n",
    "\n",
    "#GINI CV: \n",
    "\n",
    "#Gini Test "
   ]
  },
  {
   "cell_type": "code",
   "execution_count": 21,
   "metadata": {},
   "outputs": [],
   "source": [
    "#if required\n",
    "#%env JOBLIB_TEMP_FOLDER=/tmp"
   ]
  },
  {
   "cell_type": "code",
   "execution_count": 22,
   "metadata": {
    "scrolled": true
   },
   "outputs": [],
   "source": [
    "# cross validation gini\n",
    "def xgboost(X_tr,X_ts,y_tr,y_ts):\n",
    "    auc_cv = cross_val_score(xgb_model, X_tr, np.ravel(y_tr), scoring='roc_auc', cv=kfolds.split(X_tr, np.ravel(y_tr)),\n",
    "                             n_jobs=1)\n",
    "    gini_cv = (2 * np.array(auc_cv) - 1).mean()\n",
    "    evals=[(X_tr, np.ravel(y_tr)),(X_ts, np.ravel(y_ts))]\n",
    "\n",
    "    bst = xgb_model.fit(X_tr, np.ravel(y_tr), eval_metric=\"auc\", eval_set=evals,\n",
    "                        early_stopping_rounds=early_stopping_round   ,  verbose=False)\n",
    "\n",
    "    if early_stopping_round is None:\n",
    "        ypred_train = bst.predict_proba(X_tr)[:, 1]\n",
    "        ypred_test = bst.predict_proba(X_ts)[:, 1]\n",
    "    else:\n",
    "        ypred_train = bst.predict_proba(X_tr, ntree_limit=bst.best_ntree_limit)[:, 1]\n",
    "        ypred_test = bst.predict_proba(X_ts, ntree_limit=bst.best_ntree_limit)[:, 1]\n",
    "\n",
    "    metric_auc_train = metrics.roc_auc_score(y_tr, ypred_train)\n",
    "    metric_auc_test = metrics.roc_auc_score(y_ts, ypred_test)\n",
    "\n",
    "    gini_train = 2 * metric_auc_train - 1\n",
    "    gini_test = 2 * metric_auc_test - 1\n",
    "\n",
    "    return bst,gini_cv,gini_train,gini_test,ypred_train,ypred_test"
   ]
  },
  {
   "cell_type": "code",
   "execution_count": 23,
   "metadata": {},
   "outputs": [
    {
     "name": "stdout",
     "output_type": "stream",
     "text": [
      "GINI TRAIN: 0.22036067578978802\n",
      "\n",
      "GINI Validation: 0.224045881544936\n",
      "\n",
      "GINI CV: 0.21194578598236005\n"
     ]
    }
   ],
   "source": [
    "## run xgboost\n",
    "bst,gini_cv,gini_train,gini_test,ypred_train,ypred_test=xgboost(X_train_2, X_valid_2, y_train, y_valid)\n",
    "\n",
    "##Model performance on sample\n",
    "print(\"GINI TRAIN:\",gini_train )\n",
    "print(\"\\nGINI Validation:\",gini_test )\n",
    "print(\"\\nGINI CV:\",gini_cv )"
   ]
  },
  {
   "cell_type": "code",
   "execution_count": 24,
   "metadata": {},
   "outputs": [
    {
     "data": {
      "text/plain": [
       "Index(['ALLOCATED_POINTS_std', 'ALLOCATED_POINTS_EARN_LAG2',\n",
       "       'ACTIVITY_ID_nunique', 'ALLOCATED_POINTS_EARN_LAG1', 'mesdq_max',\n",
       "       'month_nunique_FUEL_1000_Earn', 'ALLOCATED_POINTS_EARN_LAG3',\n",
       "       'month_nunique_DEBIT_1000_Earn', 'ACTIVITY_VALUE_std',\n",
       "       'month_nunique_DEBIT_180_Earn', 'month_nunique_GROCERY_1000_Earn',\n",
       "       'month_nunique_DEBIT_365_Earn', 'month_nunique_DEBIT_90_Earn',\n",
       "       'month_nunique_E_WALLET_365_by_1000_Earn',\n",
       "       'ACTIVITY_ID_count_DEBIT_180_Earn', 'month_nunique_FUEL_365_Earn',\n",
       "       'month_nunique_FUEL_180_by_1000_Earn',\n",
       "       'month_nunique_DEBIT_90_by_1000_Earn',\n",
       "       'ALLOCATED_POINTS_sum_E_WALLET_365_by_1000_Earn',\n",
       "       'ACTIVITY_ID_count_FUEL_1000_Earn', 'MOB',\n",
       "       'ACTIVITY_ID_count_FUEL_365_by_1000_Earn',\n",
       "       'ALLOCATED_POINTS_max_FUEL_180_Earn',\n",
       "       'ACTIVITY_DATE_nunique_E_WALLET_365_Earn',\n",
       "       'ACTIVITY_DATE_nunique_DEBIT_180_by_1000_Earn',\n",
       "       'ALLOCATED_POINTS_std_DEBIT_90_Earn',\n",
       "       'ALLOCATED_POINTS_median_DEBIT_90_Earn',\n",
       "       'ACTIVITY_DATE_nunique_DEBIT_365_by_1000_Earn',\n",
       "       'ACTIVITY_VALUE_sum_E_WALLET_180_by_1000_Earn',\n",
       "       'month_nunique_E_WALLET_1000_Burn',\n",
       "       'ALLOCATED_POINTS_max_FUEL_365_Earn',\n",
       "       'ALLOCATED_POINTS_mean_FUEL_180_Earn',\n",
       "       'ACTIVITY_VALUE_sum_FUEL_1000_Earn',\n",
       "       'ACTIVITY_VALUE_sum_E_WALLET_365_by_1000_Earn'],\n",
       "      dtype='object')"
      ]
     },
     "execution_count": 24,
     "metadata": {},
     "output_type": "execute_result"
    }
   ],
   "source": [
    "X_train_2.columns"
   ]
  },
  {
   "cell_type": "code",
   "execution_count": 25,
   "metadata": {},
   "outputs": [
    {
     "name": "stdout",
     "output_type": "stream",
     "text": [
      "Gini Test 0.2265843506130394\n"
     ]
    }
   ],
   "source": [
    "#ypred_test = bst.predict_proba(X_test_2.drop(columns=['act','pred']), ntree_limit=bst.best_ntree_limit)[:, 1]\n",
    "ypred_test = bst.predict_proba(X_test_2, ntree_limit=bst.best_ntree_limit)[:, 1]\n",
    "metric_auc_test = metrics.roc_auc_score(y_test, ypred_test)\n",
    "print(\"Gini Test\",metric_auc_test*2-1)"
   ]
  },
  {
   "cell_type": "code",
   "execution_count": 26,
   "metadata": {
    "scrolled": true
   },
   "outputs": [],
   "source": [
    "importance_tbl = fimportances(bst, X_train_2.columns)\n",
    "importance_tbl.to_csv(r\"xgb_cd_fstq_varimp.csv\",index=0)"
   ]
  },
  {
   "cell_type": "code",
   "execution_count": 27,
   "metadata": {
    "scrolled": true
   },
   "outputs": [
    {
     "data": {
      "text/html": [
       "<div>\n",
       "<style scoped>\n",
       "    .dataframe tbody tr th:only-of-type {\n",
       "        vertical-align: middle;\n",
       "    }\n",
       "\n",
       "    .dataframe tbody tr th {\n",
       "        vertical-align: top;\n",
       "    }\n",
       "\n",
       "    .dataframe thead th {\n",
       "        text-align: right;\n",
       "    }\n",
       "</style>\n",
       "<table border=\"1\" class=\"dataframe\">\n",
       "  <thead>\n",
       "    <tr style=\"text-align: right;\">\n",
       "      <th></th>\n",
       "      <th>predictor</th>\n",
       "      <th>importance</th>\n",
       "    </tr>\n",
       "  </thead>\n",
       "  <tbody>\n",
       "    <tr>\n",
       "      <th>0</th>\n",
       "      <td>ALLOCATED_POINTS_EARN_LAG1</td>\n",
       "      <td>0.140363</td>\n",
       "    </tr>\n",
       "    <tr>\n",
       "      <th>1</th>\n",
       "      <td>ALLOCATED_POINTS_EARN_LAG2</td>\n",
       "      <td>0.093281</td>\n",
       "    </tr>\n",
       "    <tr>\n",
       "      <th>2</th>\n",
       "      <td>ACTIVITY_VALUE_std</td>\n",
       "      <td>0.082379</td>\n",
       "    </tr>\n",
       "    <tr>\n",
       "      <th>3</th>\n",
       "      <td>ALLOCATED_POINTS_std</td>\n",
       "      <td>0.076049</td>\n",
       "    </tr>\n",
       "    <tr>\n",
       "      <th>4</th>\n",
       "      <td>mesdq_max</td>\n",
       "      <td>0.072812</td>\n",
       "    </tr>\n",
       "    <tr>\n",
       "      <th>5</th>\n",
       "      <td>month_nunique_DEBIT_1000_Earn</td>\n",
       "      <td>0.069885</td>\n",
       "    </tr>\n",
       "    <tr>\n",
       "      <th>6</th>\n",
       "      <td>ALLOCATED_POINTS_EARN_LAG3</td>\n",
       "      <td>0.064864</td>\n",
       "    </tr>\n",
       "    <tr>\n",
       "      <th>7</th>\n",
       "      <td>month_nunique_FUEL_1000_Earn</td>\n",
       "      <td>0.064759</td>\n",
       "    </tr>\n",
       "    <tr>\n",
       "      <th>8</th>\n",
       "      <td>month_nunique_DEBIT_90_Earn</td>\n",
       "      <td>0.061830</td>\n",
       "    </tr>\n",
       "    <tr>\n",
       "      <th>9</th>\n",
       "      <td>month_nunique_DEBIT_180_Earn</td>\n",
       "      <td>0.052056</td>\n",
       "    </tr>\n",
       "    <tr>\n",
       "      <th>10</th>\n",
       "      <td>month_nunique_GROCERY_1000_Earn</td>\n",
       "      <td>0.042473</td>\n",
       "    </tr>\n",
       "    <tr>\n",
       "      <th>11</th>\n",
       "      <td>month_nunique_E_WALLET_365_by_1000_Earn</td>\n",
       "      <td>0.042356</td>\n",
       "    </tr>\n",
       "    <tr>\n",
       "      <th>12</th>\n",
       "      <td>ALLOCATED_POINTS_sum_E_WALLET_365_by_1000_Earn</td>\n",
       "      <td>0.037727</td>\n",
       "    </tr>\n",
       "    <tr>\n",
       "      <th>13</th>\n",
       "      <td>month_nunique_FUEL_365_Earn</td>\n",
       "      <td>0.036593</td>\n",
       "    </tr>\n",
       "    <tr>\n",
       "      <th>14</th>\n",
       "      <td>ACTIVITY_ID_count_DEBIT_180_Earn</td>\n",
       "      <td>0.032741</td>\n",
       "    </tr>\n",
       "    <tr>\n",
       "      <th>15</th>\n",
       "      <td>ACTIVITY_DATE_nunique_E_WALLET_365_Earn</td>\n",
       "      <td>0.029833</td>\n",
       "    </tr>\n",
       "  </tbody>\n",
       "</table>\n",
       "</div>"
      ],
      "text/plain": [
       "                                         predictor  importance\n",
       "0                       ALLOCATED_POINTS_EARN_LAG1    0.140363\n",
       "1                       ALLOCATED_POINTS_EARN_LAG2    0.093281\n",
       "2                               ACTIVITY_VALUE_std    0.082379\n",
       "3                             ALLOCATED_POINTS_std    0.076049\n",
       "4                                        mesdq_max    0.072812\n",
       "5                    month_nunique_DEBIT_1000_Earn    0.069885\n",
       "6                       ALLOCATED_POINTS_EARN_LAG3    0.064864\n",
       "7                     month_nunique_FUEL_1000_Earn    0.064759\n",
       "8                      month_nunique_DEBIT_90_Earn    0.061830\n",
       "9                     month_nunique_DEBIT_180_Earn    0.052056\n",
       "10                 month_nunique_GROCERY_1000_Earn    0.042473\n",
       "11         month_nunique_E_WALLET_365_by_1000_Earn    0.042356\n",
       "12  ALLOCATED_POINTS_sum_E_WALLET_365_by_1000_Earn    0.037727\n",
       "13                     month_nunique_FUEL_365_Earn    0.036593\n",
       "14                ACTIVITY_ID_count_DEBIT_180_Earn    0.032741\n",
       "15         ACTIVITY_DATE_nunique_E_WALLET_365_Earn    0.029833"
      ]
     },
     "execution_count": 27,
     "metadata": {},
     "output_type": "execute_result"
    }
   ],
   "source": [
    "importance_tbl = fimportances(bst, X_train_2.columns)\n",
    "importance_tbl.head(50)"
   ]
  },
  {
   "cell_type": "code",
   "execution_count": 28,
   "metadata": {},
   "outputs": [
    {
     "name": "stderr",
     "output_type": "stream",
     "text": [
      "C:\\Users\\sgupta\\AppData\\Local\\Continuum\\anaconda3\\lib\\site-packages\\ipykernel_launcher.py:4: SettingWithCopyWarning: \n",
      "A value is trying to be set on a copy of a slice from a DataFrame.\n",
      "Try using .loc[row_indexer,col_indexer] = value instead\n",
      "\n",
      "See the caveats in the documentation: http://pandas.pydata.org/pandas-docs/stable/indexing.html#indexing-view-versus-copy\n",
      "  after removing the cwd from sys.path.\n"
     ]
    }
   ],
   "source": [
    "## save the model \n",
    "pickle.dump(bst, open(\"xgb_cd_fstq_wo_hc.mod\", \"wb\"))\n",
    "##Score the dataset\n",
    "outtest=X_test_2;  outtest['pred']=ypred_test ; outtest['act']=y_test ; \n",
    "outtest.to_csv(r\"xgb_cd_fstq_wohc.csv\")"
   ]
  },
  {
   "cell_type": "code",
   "execution_count": 29,
   "metadata": {},
   "outputs": [
    {
     "name": "stdout",
     "output_type": "stream",
     "text": [
      "[[91920  4476]\n",
      " [ 3123   524]]\n",
      "\n",
      " Log Loss is : 0.6806468858930783\n",
      "Average precision-recall score: 0.05\n"
     ]
    },
    {
     "data": {
      "image/png": "[encoded data removed]",
      "text/plain": [
       "<Figure size 432x288 with 1 Axes>"
      ]
     },
     "metadata": {
      "needs_background": "light"
     },
     "output_type": "display_data"
    }
   ],
   "source": [
    "#metrics calculation\n",
    "cutoff=np.percentile(X_test['HC_SCORE'],95)\n",
    "ypred=pd.Series(X_test['HC_SCORE']).apply(lambda x : 1 if x >cutoff else 0 )\n",
    "#ypred=pd.Series(ypred_test).apply(lambda x : 1 if x > 0.48631722 else 0 )\n",
    "\n",
    "print(confusion_matrix(y_test, ypred))\n",
    "pd.Series(ypred_test).plot.hist(bins=10, rwidth=0.9 ,color='#607c8e')\n",
    "\n",
    "print(\"\\n Log Loss is :\",log_loss(y_test, ypred_test))\n",
    "print('Average precision-recall score: {0:0.2f}'.format(average_precision_score(y_test, ypred_test)))"
   ]
  },
  {
   "cell_type": "code",
   "execution_count": 30,
   "metadata": {},
   "outputs": [],
   "source": [
    "# retrieve performance metrics\n",
    "results = bst.evals_result()\n",
    "epochs = len(results['validation_0']['auc'])\n",
    "x_axis = range(0, epochs)"
   ]
  },
  {
   "cell_type": "code",
   "execution_count": 31,
   "metadata": {},
   "outputs": [
    {
     "data": {
      "text/plain": [
       "Text(0.5, 1.0, 'XGBoost AUC')"
      ]
     },
     "execution_count": 31,
     "metadata": {},
     "output_type": "execute_result"
    },
    {
     "data": {
      "image/png": "[encoded data removed]",
      "text/plain": [
       "<Figure size 432x288 with 1 Axes>"
      ]
     },
     "metadata": {
      "needs_background": "light"
     },
     "output_type": "display_data"
    }
   ],
   "source": [
    "# plot classification error\n",
    "fig, ax = plt.subplots()\n",
    "ax.plot(x_axis, results['validation_0']['auc'], label='train')\n",
    "ax.plot(x_axis, results['validation_1']['auc'], label='test')\n",
    "\n",
    "ax.legend()\n",
    "plt.ylabel('XGB AUC')\n",
    "plt.title('XGBoost AUC')"
   ]
  },
  {
   "cell_type": "code",
   "execution_count": 32,
   "metadata": {},
   "outputs": [
    {
     "data": {
      "image/png": "[encoded data removed]",
      "text/plain": [
       "<Figure size 432x288 with 1 Axes>"
      ]
     },
     "metadata": {
      "needs_background": "light"
     },
     "output_type": "display_data"
    }
   ],
   "source": [
    "# Compute micro-average ROC curve and ROC area\n",
    "fpr, tpr, thresholds = roc_curve(y_test.iloc[:, 0].ravel(), ypred_test.ravel())\n",
    "roc_auc = auc(fpr, tpr)\n",
    "\n",
    "plt.figure()\n",
    "lw = 1\n",
    "plt.plot(fpr, tpr, color='darkorange',         lw=lw, label='ROC curve (area = %0.2f)' % roc_auc)\n",
    "plt.plot([0, 1], [0, 1], color='navy', lw=lw, linestyle='--')\n",
    "plt.xlim([0.0, 1.0])\n",
    "plt.ylim([0.0, 1.05])\n",
    "plt.xlabel('False Positive Rate')\n",
    "plt.ylabel('True Positive Rate')\n",
    "plt.title('Receiver operating characteristic example')\n",
    "plt.legend(loc=\"lower right\")\n",
    "plt.show()"
   ]
  },
  {
   "cell_type": "code",
   "execution_count": 33,
   "metadata": {},
   "outputs": [
    {
     "data": {
      "text/plain": [
       "[]"
      ]
     },
     "execution_count": 33,
     "metadata": {},
     "output_type": "execute_result"
    },
    {
     "data": {
      "image/png": "[encoded data removed]",
      "text/plain": [
       "<Figure size 432x288 with 1 Axes>"
      ]
     },
     "metadata": {
      "needs_background": "light"
     },
     "output_type": "display_data"
    }
   ],
   "source": [
    "i = np.arange(len(tpr)) # index for df\n",
    "roc = pd.DataFrame({'fpr' : pd.Series(fpr, index=i),'tpr' : pd.Series(tpr, index = i), '1-fpr' : pd.Series(1-fpr, index = i), 'tf' : pd.Series(tpr - (1-fpr), index = i), 'thresholds' : pd.Series(thresholds, index = i)})\n",
    "roc.ix[(roc.tf-0).abs().argsort()[:1]]\n",
    "\n",
    "# Plot tpr vs 1-fpr\n",
    "fig, ax = plt.subplots()\n",
    "plt.plot(roc['tpr'])\n",
    "plt.plot(roc['1-fpr'], color = 'red')\n",
    "plt.xlabel('1-False Positive Rate')\n",
    "plt.ylabel('True Positive Rate')\n",
    "plt.title('Receiver operating characteristic')\n",
    "ax.set_xticklabels([])"
   ]
  },
  {
   "cell_type": "code",
   "execution_count": 34,
   "metadata": {},
   "outputs": [
    {
     "name": "stdout",
     "output_type": "stream",
     "text": [
      "\n",
      " Optimal Cut off : 0.49833655\n"
     ]
    }
   ],
   "source": [
    "optimal_idx = np.argmax(tpr - fpr)  ## check it once \n",
    "optimal_threshold = thresholds[optimal_idx]\n",
    "print(\"\\n Optimal Cut off :\",optimal_threshold)"
   ]
  },
  {
   "cell_type": "code",
   "execution_count": 35,
   "metadata": {},
   "outputs": [
    {
     "name": "stdout",
     "output_type": "stream",
     "text": [
      " \n",
      " Min -Max test score: 0.000375347076813848 \t 0.5046075807869808\n",
      " \n",
      " Min -Max train score: 0.0002987409422098748 \t 0.5226301025062391\n"
     ]
    }
   ],
   "source": [
    "print(\" \\n Min -Max test score:\",test['HC_SCORE'].min(),\"\\t\",test['HC_SCORE'].max())\n",
    "print(\" \\n Min -Max train score:\",train['HC_SCORE'].min(),\"\\t\",train['HC_SCORE'].max())"
   ]
  },
  {
   "cell_type": "code",
   "execution_count": 36,
   "metadata": {
    "scrolled": false
   },
   "outputs": [
    {
     "name": "stdout",
     "output_type": "stream",
     "text": [
      "\n",
      "Total bad : 12025\n",
      "Bad captured in worst category : 22.00%\n",
      "\n",
      "                       HC_SCORE  RISK_FSTQPD30\n",
      "HC_SCORE                                     \n",
      "(-0.000701, 0.00459]  0.003169       0.016853\n",
      "(0.00459, 0.0068]     0.005717       0.025849\n",
      "(0.0068, 0.00886]     0.007845       0.027709\n",
      "(0.00886, 0.0111]     0.009993       0.031276\n",
      "(0.0111, 0.0136]      0.012343       0.031247\n",
      "(0.0136, 0.0166]      0.015045       0.033406\n",
      "(0.0166, 0.0205]      0.018447       0.034773\n",
      "(0.0205, 0.0266]      0.023292       0.037419\n",
      "(0.0266, 0.039]       0.031791       0.042762\n",
      "(0.039, 0.523]        0.064769       0.079315\n",
      "                         HC_SCORE  RISK_FSTQPD30\n",
      "HC_SCORE                                        \n",
      "(-0.000701, 0.00459]   105.672953            562\n",
      "(0.00459, 0.0068]      190.635348            862\n",
      "(0.0068, 0.00886]      261.617700            924\n",
      "(0.00886, 0.0111]      333.252230           1043\n",
      "(0.0111, 0.0136]       411.609848           1042\n",
      "(0.0136, 0.0166]       501.703839           1114\n",
      "(0.0166, 0.0205]       618.022660           1165\n",
      "(0.0205, 0.0266]       773.098128           1242\n",
      "(0.0266, 0.039]       1060.119502           1426\n",
      "(0.039, 0.523]        2159.915244           2645\n"
     ]
    }
   ],
   "source": [
    "## Bad rates in overall population \n",
    "cd=pd.DataFrame(df[['HC_SCORE','RISK_FSTQPD30']]).sort_values(by=['HC_SCORE'],ascending=False)\n",
    "print(\"\\nTotal bad :\",df['RISK_FSTQPD30'].sum())\n",
    "print(\"Bad captured in worst category :\",'{:,.2%}'.format(cd.groupby(pd.qcut(cd['HC_SCORE'],10,duplicates='drop')).sum()['RISK_FSTQPD30'][-1]/df['RISK_FSTQPD30'].sum()))\n",
    "print(\"\\n\",cd.groupby(pd.qcut(cd['HC_SCORE'],10,duplicates='drop')).mean())\n",
    "print(cd.groupby(pd.qcut(cd['HC_SCORE'],10,duplicates='drop')).sum())"
   ]
  },
  {
   "cell_type": "code",
   "execution_count": 37,
   "metadata": {
    "scrolled": false
   },
   "outputs": [
    {
     "name": "stdout",
     "output_type": "stream",
     "text": [
      "\n",
      "Total bad : 3647\n",
      "Bad captured in worst category : 21.88%\n",
      "\n",
      "                      HC_SCORE  RISK_FSTQPD30\n",
      "HC_SCORE                                    \n",
      "(-0.000625, 0.0046]  0.003166       0.017691\n",
      "(0.0046, 0.00678]    0.005705       0.025590\n",
      "(0.00678, 0.00885]   0.007824       0.028689\n",
      "(0.00885, 0.0111]    0.009987       0.036585\n",
      "(0.0111, 0.0136]     0.012346       0.029685\n",
      "(0.0136, 0.0166]     0.015051       0.033562\n",
      "(0.0166, 0.0205]     0.018450       0.034497\n",
      "(0.0205, 0.0266]     0.023266       0.036076\n",
      "(0.0266, 0.0391]     0.031836       0.042421\n",
      "(0.0391, 0.505]      0.065438       0.079760\n",
      "                       HC_SCORE  RISK_FSTQPD30\n",
      "HC_SCORE                                      \n",
      "(-0.000625, 0.0046]   31.679238            177\n",
      "(0.0046, 0.00678]     57.070241            256\n",
      "(0.00678, 0.00885]    78.267521            287\n",
      "(0.00885, 0.0111]     99.913068            366\n",
      "(0.0111, 0.0136]     123.519050            297\n",
      "(0.0136, 0.0166]     151.122719            337\n",
      "(0.0166, 0.0205]     184.518154            345\n",
      "(0.0205, 0.0266]     232.167685            360\n",
      "(0.0266, 0.0391]     318.200615            424\n",
      "(0.0391, 0.505]      654.707836            798\n"
     ]
    }
   ],
   "source": [
    "## Bad rates in overall population \n",
    "cd=pd.DataFrame(test[['HC_SCORE','RISK_FSTQPD30']]).sort_values(by=['HC_SCORE'],ascending=False)\n",
    "print(\"\\nTotal bad :\",test['RISK_FSTQPD30'].sum())\n",
    "print(\"Bad captured in worst category :\",'{:,.2%}'.format(cd.groupby(pd.qcut(cd['HC_SCORE'],10,duplicates='drop')).sum()['RISK_FSTQPD30'][-1]/test['RISK_FSTQPD30'].sum()))\n",
    "print(\"\\n\",cd.groupby(pd.qcut(cd['HC_SCORE'],10,duplicates='drop')).mean())\n",
    "print(cd.groupby(pd.qcut(cd['HC_SCORE'],10,duplicates='drop')).sum())"
   ]
  },
  {
   "cell_type": "code",
   "execution_count": 38,
   "metadata": {
    "scrolled": false
   },
   "outputs": [
    {
     "name": "stdout",
     "output_type": "stream",
     "text": [
      "Bad captured in worst category Partner Score test sample : 6.61%\n",
      "\n",
      "Total bads in test sample: 3647\n",
      "                    pred       act\n",
      "pred                              \n",
      "(0.317, 0.43]   0.401417  0.015047\n",
      "(0.43, 0.444]   0.438066  0.021412\n",
      "(0.444, 0.462]  0.452837  0.027223\n",
      "(0.462, 0.47]   0.466038  0.026915\n",
      "(0.47, 0.495]   0.483881  0.031522\n",
      "(0.495, 0.502]  0.499214  0.038069\n",
      "(0.502, 0.519]  0.508116  0.047612\n",
      "(0.519, 0.561]  0.533852  0.050713\n",
      "(0.561, 0.565]  0.563771  0.054319\n",
      "(0.565, 0.595]  0.591960  0.056216\n",
      "                       pred  act\n",
      "pred                            \n",
      "(0.317, 0.43]   4134.993164  155\n",
      "(0.43, 0.444]   4275.966309  209\n",
      "(0.444, 0.462]  4690.937012  282\n",
      "(0.462, 0.47]   4501.925293  260\n",
      "(0.47, 0.495]   4835.421875  315\n",
      "(0.495, 0.502]  6556.673828  500\n",
      "(0.502, 0.519]  3468.398926  325\n",
      "(0.519, 0.561]  5505.613770  523\n",
      "(0.561, 0.565]  8687.152344  837\n",
      "(0.565, 0.595]  2537.734619  241\n"
     ]
    }
   ],
   "source": [
    "## Bad rates in overall population \n",
    "cdt=pd.DataFrame(outtest[['pred','act']])\n",
    "print(\"Bad captured in worst category Partner Score test sample :\",'{:,.2%}'.format(cdt.groupby(pd.qcut(cdt['pred'],10,duplicates='drop')).sum()['act'][-1]/cdt['act'].sum()))\n",
    "print(\"\\nTotal bads in test sample:\",cdt['act'].sum())\n",
    "print(cdt.groupby(pd.qcut(cdt['pred'],10,duplicates='drop')).mean())\n",
    "print(cdt.groupby(pd.qcut(cdt['pred'],10,duplicates='drop')).sum())"
   ]
  },
  {
   "cell_type": "code",
   "execution_count": 39,
   "metadata": {},
   "outputs": [],
   "source": [
    "## Pillar  approach to combine score\n",
    "hcc_score = 'HC_SCORE'\n",
    "X_pillar_train = pd.DataFrame()\n",
    "X_pillar_test = pd.DataFrame()\n",
    "\n",
    "X_pillar_train[hcc_score]=train['HC_SCORE']; \n",
    "X_pillar_test[hcc_score]=test['HC_SCORE']\n",
    "\n",
    "X_pillar_train[\"XGB_SCORE\"] =  bst.predict_proba(train[selected_vars[0]], ntree_limit=bst.best_ntree_limit)[:, 1]\n",
    "X_pillar_test[\"XGB_SCORE\"]  =  bst.predict_proba(test[selected_vars[0]], ntree_limit=bst.best_ntree_limit)[:, 1]\n",
    "\n",
    "X_pillar_train[\"FSTQ\"] = train['RISK_FSTQPD30']\n",
    "X_pillar_test[\"FSTQ\"] = test['RISK_FSTQPD30']\n",
    "\n",
    "X_train_log = X_pillar_train.loc[pd.notnull(X_pillar_train[hcc_score]),['HC_SCORE','XGB_SCORE']]\n",
    "y_train_log = X_pillar_train.loc[pd.notnull(X_pillar_train[hcc_score]),['FSTQ']]\n",
    "\n",
    "X_test_log = X_pillar_test.loc[pd.notnull(X_pillar_test[hcc_score]),['HC_SCORE','XGB_SCORE']]\n",
    "y_test_log = X_pillar_test.loc[pd.notnull(X_pillar_test[hcc_score]),['FSTQ']]\n",
    "\n",
    "X_train_log = np.log((X_train_log + 1e-10).divide(1 - (X_train_log + 1e-10)))\n",
    "X_test_log = np.log((X_test_log + 1e-10).divide(1 - (X_test_log + 1e-10)))"
   ]
  },
  {
   "cell_type": "code",
   "execution_count": 40,
   "metadata": {
    "scrolled": true
   },
   "outputs": [
    {
     "name": "stderr",
     "output_type": "stream",
     "text": [
      "C:\\Users\\sgupta\\AppData\\Local\\Continuum\\anaconda3\\lib\\site-packages\\sklearn\\linear_model\\logistic.py:432: FutureWarning: Default solver will be changed to 'lbfgs' in 0.22. Specify a solver to silence this warning.\n",
      "  FutureWarning)\n",
      "C:\\Users\\sgupta\\AppData\\Local\\Continuum\\anaconda3\\lib\\site-packages\\sklearn\\linear_model\\logistic.py:1544: UserWarning: 'n_jobs' > 1 does not have any effect when 'solver' is set to 'liblinear'. Got 'n_jobs' = 8.\n",
      "  \" = {}.\".format(effective_n_jobs(self.n_jobs)))\n"
     ]
    }
   ],
   "source": [
    "logreg = LogisticRegression(C=11, n_jobs=cpu)\n",
    "\n",
    "# cross validation gini\n",
    "kfolds = StratifiedKFold(10, random_state=1)\n",
    "auc_cv = cross_val_score(logreg, X_test_log, np.ravel(y_test_log), scoring='roc_auc',\n",
    "                         cv=kfolds.split(X_test_log, np.ravel(y_test_log)), n_jobs=cpu)\n",
    "gini_cv = (2 * np.array(auc_cv) - 1).mean()\n",
    "\n",
    "logreg.fit(X_test_log, np.ravel(y_test_log))\n",
    "log_coef_tbl = pd.DataFrame({'predictor': ['intercept'] + X_test_log.columns.tolist(),\n",
    "                             'coefficient': list(logreg.intercept_) + list(logreg.coef_[0])})\n",
    "log_coef_tbl = log_coef_tbl[['predictor', 'coefficient']]"
   ]
  },
  {
   "cell_type": "code",
   "execution_count": 41,
   "metadata": {},
   "outputs": [
    {
     "data": {
      "text/html": [
       "<div>\n",
       "<style scoped>\n",
       "    .dataframe tbody tr th:only-of-type {\n",
       "        vertical-align: middle;\n",
       "    }\n",
       "\n",
       "    .dataframe tbody tr th {\n",
       "        vertical-align: top;\n",
       "    }\n",
       "\n",
       "    .dataframe thead th {\n",
       "        text-align: right;\n",
       "    }\n",
       "</style>\n",
       "<table border=\"1\" class=\"dataframe\">\n",
       "  <thead>\n",
       "    <tr style=\"text-align: right;\">\n",
       "      <th></th>\n",
       "      <th>predictor</th>\n",
       "      <th>coefficient</th>\n",
       "    </tr>\n",
       "  </thead>\n",
       "  <tbody>\n",
       "    <tr>\n",
       "      <th>0</th>\n",
       "      <td>intercept</td>\n",
       "      <td>-0.938779</td>\n",
       "    </tr>\n",
       "    <tr>\n",
       "      <th>1</th>\n",
       "      <td>HC_SCORE</td>\n",
       "      <td>0.570222</td>\n",
       "    </tr>\n",
       "    <tr>\n",
       "      <th>2</th>\n",
       "      <td>XGB_SCORE</td>\n",
       "      <td>2.100966</td>\n",
       "    </tr>\n",
       "  </tbody>\n",
       "</table>\n",
       "</div>"
      ],
      "text/plain": [
       "   predictor  coefficient\n",
       "0  intercept    -0.938779\n",
       "1   HC_SCORE     0.570222\n",
       "2  XGB_SCORE     2.100966"
      ]
     },
     "execution_count": 41,
     "metadata": {},
     "output_type": "execute_result"
    }
   ],
   "source": [
    "log_coef_tbl"
   ]
  },
  {
   "cell_type": "code",
   "execution_count": 42,
   "metadata": {},
   "outputs": [
    {
     "name": "stdout",
     "output_type": "stream",
     "text": [
      "GINI TRAIN: 0.3443742163202055\n",
      "\n",
      "GINI TEST: 0.34503723282531484\n",
      "\n",
      "GINI CV: 0.3440827159144719\n"
     ]
    }
   ],
   "source": [
    "## Model performance\n",
    "ypred_train_pillar = logreg.predict_proba(X_train_log)[:, 1]\n",
    "metric_auc_train_log = metrics.roc_auc_score(np.ravel(y_train_log), ypred_train_pillar)\n",
    "gini_train_pillar = 2 * metric_auc_train_log - 1\n",
    "ypred_test_pillar = logreg.predict_proba(X_test_log)[:, 1]\n",
    "metric_auc_test_log = metrics.roc_auc_score(np.ravel(y_test_log), ypred_test_pillar)\n",
    "gini_test_pillar = 2 * metric_auc_test_log - 1\n",
    "\n",
    "print(\"GINI TRAIN:\",gini_test_pillar )\n",
    "print(\"\\nGINI TEST:\",gini_train_pillar )\n",
    "print(\"\\nGINI CV:\",gini_cv )"
   ]
  },
  {
   "cell_type": "code",
   "execution_count": 43,
   "metadata": {},
   "outputs": [
    {
     "name": "stderr",
     "output_type": "stream",
     "text": [
      "C:\\Users\\sgupta\\AppData\\Local\\Continuum\\anaconda3\\lib\\site-packages\\ipykernel_launcher.py:1: SettingWithCopyWarning: \n",
      "A value is trying to be set on a copy of a slice from a DataFrame.\n",
      "Try using .loc[row_indexer,col_indexer] = value instead\n",
      "\n",
      "See the caveats in the documentation: http://pandas.pydata.org/pandas-docs/stable/indexing.html#indexing-view-versus-copy\n",
      "  \"\"\"Entry point for launching an IPython kernel.\n"
     ]
    }
   ],
   "source": [
    "outtest1=X_test;  outtest1['pred']=ypred_test_pillar ; outtest1['act']=y_test ; \n",
    "outtest1.to_csv(r\"comb_cd_fstq.csv\")"
   ]
  },
  {
   "cell_type": "code",
   "execution_count": 44,
   "metadata": {},
   "outputs": [
    {
     "name": "stdout",
     "output_type": "stream",
     "text": [
      "[[88180  8216]\n",
      " [ 2859   788]]\n",
      "\n",
      " Log Loss is : 0.6806468858930783\n",
      "Average precision-recall score: 0.05\n"
     ]
    },
    {
     "data": {
      "image/png": "[encoded data removed]",
      "text/plain": [
       "<Figure size 432x288 with 1 Axes>"
      ]
     },
     "metadata": {
      "needs_background": "light"
     },
     "output_type": "display_data"
    }
   ],
   "source": [
    "#metrics calculation\n",
    "cutoff=np.percentile(ypred_test_pillar,91)\n",
    "ypred=pd.Series(ypred_test_pillar).apply(lambda x : 1 if x >cutoff else 0 )\n",
    "\n",
    "print(confusion_matrix(y_test, ypred))\n",
    "pd.Series(ypred_test_pillar).plot.hist(bins=10, rwidth=0.9 ,color='#607c8e')\n",
    "\n",
    "print(\"\\n Log Loss is :\",log_loss(y_test, ypred_test))\n",
    "print('Average precision-recall score: {0:0.2f}'.format(average_precision_score(y_test, ypred_test)))"
   ]
  },
  {
   "cell_type": "code",
   "execution_count": 45,
   "metadata": {},
   "outputs": [
    {
     "name": "stdout",
     "output_type": "stream",
     "text": [
      "\n",
      " AUC for precision-recall : 0.07493748036901846\n"
     ]
    },
    {
     "data": {
      "image/png": "[encoded data removed]",
      "text/plain": [
       "<Figure size 432x288 with 1 Axes>"
      ]
     },
     "metadata": {
      "needs_background": "light"
     },
     "output_type": "display_data"
    },
    {
     "data": {
      "image/png": "[encoded data removed]",
      "text/plain": [
       "<Figure size 432x288 with 1 Axes>"
      ]
     },
     "metadata": {
      "needs_background": "light"
     },
     "output_type": "display_data"
    }
   ],
   "source": [
    "## PRC curve\n",
    "precision, recall, _ = precision_recall_curve(y_test, ypred_test_pillar)\n",
    "\n",
    "step_kwargs = ({'step': 'post'}\n",
    "               #if 'step' in signature(plt.fill_between).parameters\n",
    "               #else {}\n",
    "              )\n",
    "plt.step(recall, precision, color='b', alpha=0.2, where='post')\n",
    "plt.fill_between(recall, precision, alpha=0.2, color='b', **step_kwargs)\n",
    "\n",
    "plt.xlabel('Recall')\n",
    "plt.ylabel('Precision')\n",
    "plt.ylim([0.0, 0.5])\n",
    "plt.xlim([0.0, 0.5])\n",
    "plt.title('2-class Precision-Recall curve: AP={0:0.2f}'.format(average_precision_score(test['RISK_FSTQPD30'], ypred_test_pillar)))\n",
    "\n",
    "# calculate precision-recall AUC\n",
    "auc_pr = auc(recall, precision)\n",
    "print(\"\\n AUC for precision-recall :\",auc_pr)\n",
    "\n",
    "# Compute micro-average ROC curve and ROC area\n",
    "fprhc, tprhc, thresholds = roc_curve(test['RISK_FSTQPD30'], test['HC_SCORE'].ravel())\n",
    "roc_auchc = auc(fprhc, tprhc)\n",
    "\n",
    "fprc, tprc, thresholds = roc_curve(test['RISK_FSTQPD30'], ypred_test_pillar.ravel())\n",
    "roc_aucc = auc(fprc, tprc)\n",
    "\n",
    "plt.figure()\n",
    "lw = 1\n",
    "plt.plot(fprc, tprc, lw=lw, label='ROC Comb (area = %0.2f)' % roc_aucc)\n",
    "plt.plot(fprhc, tprhc, lw=lw, label='ROC HC (area = %0.2f)' % roc_auchc)\n",
    "plt.plot([0, 1], [0, 1], color='navy', lw=lw, linestyle='--')\n",
    "plt.plot(fpr, tpr, lw=lw, label='ROC partner (area = %0.2f)' % roc_auc)\n",
    "plt.xlim([0.0, 1.0])\n",
    "plt.ylim([0.0, 1.05])\n",
    "plt.xlabel('False Positive Rate')\n",
    "plt.ylabel('True Positive Rate')\n",
    "plt.title('Receiver operating characteristic example')\n",
    "plt.legend(loc=\"lower right\")\n",
    "plt.show()"
   ]
  },
  {
   "cell_type": "code",
   "execution_count": 46,
   "metadata": {},
   "outputs": [
    {
     "name": "stdout",
     "output_type": "stream",
     "text": [
      "Bad captured in worst category Partner Score test sample : 23.17%\n",
      "\n",
      "Total bads in test sample: 3647\n",
      "                      pred       act\n",
      "pred                                \n",
      "(0.0009, 0.0141]  0.010992  0.009895\n",
      "(0.0141, 0.0184]  0.016296  0.013195\n",
      "(0.0184, 0.0222]  0.020293  0.019092\n",
      "(0.0222, 0.0261]  0.024152  0.025590\n",
      "(0.0261, 0.0303]  0.028162  0.030785\n",
      "(0.0303, 0.0353]  0.032772  0.034786\n",
      "(0.0353, 0.0418]  0.038387  0.038485\n",
      "(0.0418, 0.0507]  0.045896  0.047081\n",
      "(0.0507, 0.0661]  0.057557  0.061176\n",
      "(0.0661, 0.391]   0.090044  0.084458\n",
      "                        pred  act\n",
      "pred                             \n",
      "(0.0009, 0.0141]  109.975504   99\n",
      "(0.0141, 0.0184]  163.023376  132\n",
      "(0.0184, 0.0222]  203.009715  191\n",
      "(0.0222, 0.0261]  241.617592  256\n",
      "(0.0261, 0.0303]  281.760620  308\n",
      "(0.0303, 0.0353]  327.853200  348\n",
      "(0.0353, 0.0418]  384.026852  385\n",
      "(0.0418, 0.0507]  459.144250  471\n",
      "(0.0507, 0.0661]  575.796121  612\n",
      "(0.0661, 0.391]   900.888743  845\n"
     ]
    }
   ],
   "source": [
    "## Bad rates combined score in overall population \n",
    "cdt=pd.DataFrame(outtest1[['pred','act']])\n",
    "print(\"Bad captured in worst category Partner Score test sample :\",'{:,.2%}'.format(cdt.groupby(pd.qcut(cdt['pred'],10,duplicates='drop')).sum()['act'][-1]/cdt['act'].sum()))\n",
    "print(\"\\nTotal bads in test sample:\",cdt['act'].sum())\n",
    "print(cdt.groupby(pd.qcut(cdt['pred'],10,duplicates='drop')).mean())\n",
    "print(cdt.groupby(pd.qcut(cdt['pred'],10,duplicates='drop')).sum())"
   ]
  },
  {
   "cell_type": "code",
   "execution_count": null,
   "metadata": {},
   "outputs": [],
   "source": []
  }
 ],
 "metadata": {
  "kernelspec": {
   "display_name": "Python 3",
   "language": "python",
   "name": "python3"
  },
  "language_info": {
   "codemirror_mode": {
    "name": "ipython",
    "version": 3
   },
   "file_extension": ".py",
   "mimetype": "text/x-python",
   "name": "python",
   "nbconvert_exporter": "python",
   "pygments_lexer": "ipython3",
   "version": "3.7.3"
  }
 },
 "nbformat": 4,
 "nbformat_minor": 2
}
