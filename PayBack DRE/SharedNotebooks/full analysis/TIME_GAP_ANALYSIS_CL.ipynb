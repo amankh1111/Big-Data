{
 "cells": [
  {
   "cell_type": "code",
   "execution_count": 1,
   "metadata": {},
   "outputs": [],
   "source": [
    "import xgboost as xgb\n",
    "import numpy as np\n",
    "import pandas as pd\n",
    "import time\n",
    "import pickle\n",
    "import os\n",
    "from math import log\n",
    "import matplotlib.pyplot as plt\n",
    "\n",
    "import sklearn\n",
    "from sklearn.model_selection import train_test_split, GridSearchCV, RandomizedSearchCV, ParameterGrid,StratifiedKFold, cross_val_score\n",
    "\n",
    "from sklearn import metrics \n",
    "from sklearn.metrics import confusion_matrix, precision_recall_curve, average_precision_score, brier_score_loss, f1_score, log_loss,auc,roc_curve,auc\n",
    "\n",
    "from sklearn.linear_model import LogisticRegression, LogisticRegressionCV\n",
    "from sklearn.ensemble import RandomForestClassifier\n",
    "\n",
    "from sklearn.decomposition import PCA\n",
    "#from sklearn.utils.fixes import signature\n",
    "\n",
    "import warnings\n",
    "warnings.filterwarnings(\"ignore\", category=DeprecationWarning)"
   ]
  },
  {
   "cell_type": "code",
   "execution_count": 2,
   "metadata": {},
   "outputs": [],
   "source": [
    "#1. import data\n",
    "df = df=pd.read_pickle(r\"cust_final_20191030.pkl\")"
   ]
  },
  {
   "cell_type": "code",
   "execution_count": 3,
   "metadata": {},
   "outputs": [],
   "source": [
    "dfcl = df[(df[\"PRODUCT_GROUP\"]=='CL') & (df[\"RISK_AGRF120\"]==1)]"
   ]
  },
  {
   "cell_type": "code",
   "execution_count": 4,
   "metadata": {},
   "outputs": [
    {
     "data": {
      "text/plain": [
       "2018    39099\n",
       "2019    19248\n",
       "2017    11921\n",
       "2016     2052\n",
       "2015      414\n",
       "2014        7\n",
       "Name: TIME_DECISION_DATE, dtype: int64"
      ]
     },
     "execution_count": 4,
     "metadata": {},
     "output_type": "execute_result"
    }
   ],
   "source": [
    "dfcl.TIME_DECISION_DATE.dt.year.value_counts()"
   ]
  },
  {
   "cell_type": "code",
   "execution_count": 5,
   "metadata": {},
   "outputs": [
    {
     "name": "stderr",
     "output_type": "stream",
     "text": [
      "C:\\Users\\sgupta\\AppData\\Local\\Continuum\\anaconda3\\lib\\site-packages\\ipykernel_launcher.py:1: SettingWithCopyWarning: \n",
      "A value is trying to be set on a copy of a slice from a DataFrame.\n",
      "Try using .loc[row_indexer,col_indexer] = value instead\n",
      "\n",
      "See the caveats in the documentation: http://pandas.pydata.org/pandas-docs/stable/indexing.html#indexing-view-versus-copy\n",
      "  \"\"\"Entry point for launching an IPython kernel.\n"
     ]
    }
   ],
   "source": [
    "dfcl['TIME_GAP']=(dfcl['TIME_DECISION_DATE_max']-dfcl['ACTIVITY_DATE_max']).dt.days"
   ]
  },
  {
   "cell_type": "code",
   "execution_count": 6,
   "metadata": {},
   "outputs": [
    {
     "name": "stdout",
     "output_type": "stream",
     "text": [
      "4644\n",
      "1\n"
     ]
    },
    {
     "data": {
      "text/plain": [
       "<matplotlib.axes._subplots.AxesSubplot at 0xb7afcc0>"
      ]
     },
     "execution_count": 6,
     "metadata": {},
     "output_type": "execute_result"
    },
    {
     "data": {
      "image/png": "[encoded data removed]",
      "text/plain": [
       "<Figure size 432x288 with 1 Axes>"
      ]
     },
     "metadata": {
      "needs_background": "light"
     },
     "output_type": "display_data"
    }
   ],
   "source": [
    "print(dfcl['TIME_GAP'].max())\n",
    "print(dfcl['TIME_GAP'].min())\n",
    "dfcl[dfcl[\"PRODUCT_GROUP\"]=='CL']['TIME_GAP'].hist(bins=50)"
   ]
  },
  {
   "cell_type": "code",
   "execution_count": 7,
   "metadata": {},
   "outputs": [],
   "source": [
    "Xcl= dfcl.drop(columns=[\"PRODUCT_GROUP\",\"TIME_DECISION_DATE_max\",\"ACTIVITY_DATE_min\",\"ACTIVITY_DATE_max\",\"CLIENT_EXI_3M\"])"
   ]
  },
  {
   "cell_type": "code",
   "execution_count": 8,
   "metadata": {},
   "outputs": [],
   "source": [
    "loaded_modelcl = pickle.load(open(r\"xgb_cl_fstq_wo_hc.mod\",'rb'))"
   ]
  },
  {
   "cell_type": "code",
   "execution_count": 9,
   "metadata": {},
   "outputs": [],
   "source": [
    "feature_listcl = ['ACTIVITY_VALUE_std', 'month_nunique_DEBIT_1000_Earn', 'mesdq_max', 'month_nunique_GROCERY_1000_Earn', 'ALLOCATED_POINTS_std', 'month_nunique_DEBIT_90_by_1000_Earn', 'ALLOCATED_POINTS_std_GROCERY_1000_Earn', 'ALLOCATED_POINTS_sum_DEBIT_90_by_1000_Earn', 'ALLOCATED_POINTS_mean_E_WALLET_365_Earn', 'ALLOCATED_POINTS_EARN_LAG3', 'ALLOCATED_POINTS_std_E_WALLET_1000_Earn', 'ALLOCATED_POINTS_median_E_WALLET_180_Earn', 'month_nunique_FUEL_1000_Earn', 'ALLOCATED_POINTS_mean_DEBIT_90_by_1000_Earn', 'ALLOCATED_POINTS_max_APPAREL_365_Earn', 'ALLOCATED_POINTS_sum_365_Burn', 'ALLOCATED_POINTS_mean_E_WALLET_180_Earn', 'ALLOCATED_POINTS_max_DEBIT_1000_Earn', 'ALLOCATED_POINTS_mean_E_WALLET_365_by_1000_Earn', 'ALLOCATED_POINTS_sum_DEBIT_1000_Earn', 'ACTIVITY_VALUE_median_GROCERY_1000_Earn', 'ALLOCATED_POINTS_sum_180_Burn', 'ACTIVITY_VALUE_median_E_WALLET_180_Earn']"
   ]
  },
  {
   "cell_type": "code",
   "execution_count": 10,
   "metadata": {},
   "outputs": [
    {
     "name": "stdout",
     "output_type": "stream",
     "text": [
      "Blended Gini 0.3205238349448054\n"
     ]
    }
   ],
   "source": [
    "y_predcl= loaded_modelcl.predict_proba(Xcl[feature_listcl],ntree_limit= loaded_modelcl.best_ntree_limit)[:,1]\n",
    "print(\"Blended Gini\", 2*metrics.roc_auc_score(Xcl['RISK_FSTQPD30'], y_predcl)-1)"
   ]
  },
  {
   "cell_type": "code",
   "execution_count": 12,
   "metadata": {},
   "outputs": [
    {
     "name": "stdout",
     "output_type": "stream",
     "text": [
      "2.19 %  Count:  38579  Iteration : 1  Time Gap Low:  0  Time Gap High:  359  Gini: 0.3350389532423885\n",
      "2.11 %  Count:  10174  Iteration : 2  Time Gap Low:  360  Time Gap High:  719  Gini: 0.2973115354348175\n",
      "2.43 %  Count:  6706  Iteration : 3  Time Gap Low:  720  Time Gap High:  1079  Gini: 0.28812040029666885\n",
      "1.93 %  Count:  5036  Iteration : 4  Time Gap Low:  1080  Time Gap High:  1439  Gini: 0.28169231636271785\n",
      "2.07 %  Count:  4491  Iteration : 5  Time Gap Low:  1440  Time Gap High:  1799  Gini: 0.32295960529468415\n",
      "2.17 %  Count:  3137  Iteration : 6  Time Gap Low:  1800  Time Gap High:  2159  Gini: 0.33076016330285785\n",
      "2.51 %  Count:  2352  Iteration : 7  Time Gap Low:  2160  Time Gap High:  2519  Gini: 0.32204128999829984\n",
      "2.23 %  Count:  761  Iteration : 8  Time Gap Low:  2520  Time Gap High:  2879  Gini: 0.32186907020872857\n",
      "1.79 %  Count:  224  Iteration : 9  Time Gap Low:  2880  Time Gap High:  3239  Gini: 0.42840909090909074\n",
      "2.72 %  Count:  478  Iteration : 10  Time Gap Low:  3240  Time Gap High:  3599  Gini: 0.3867659222497932\n",
      "2.46 %  Count:  488  Iteration : 11  Time Gap Low:  3600  Time Gap High:  3959  Gini: 0.12710084033613445\n"
     ]
    }
   ],
   "source": [
    "for i in np.arange(1,12):\n",
    "    X_temp = Xcl[(Xcl[\"TIME_GAP\"] >= (i-1)*360) & (Xcl[\"TIME_GAP\"] < (i*360)-1)]\n",
    "    y_predcl= loaded_modelcl.predict_proba(X_temp[feature_listcl],ntree_limit= loaded_modelcl.best_ntree_limit)[:,1]\n",
    "    print(round(X_temp['RISK_FSTQPD30'].sum()*100/X_temp.shape[0],2),\"% \",\"Count: \",X_temp.shape[0],\" Iteration :\",i,\" Time Gap Low: \",(i-1)*360,\" Time Gap High: \",(i*360)-1,\" Gini:\", 2*metrics.roc_auc_score(X_temp['RISK_FSTQPD30'], y_predcl)-1)"
   ]
  },
  {
   "cell_type": "code",
   "execution_count": 13,
   "metadata": {},
   "outputs": [
    {
     "name": "stdout",
     "output_type": "stream",
     "text": [
      "0.1 %  Count:  11921  Year:  2017  Gini: 0.5014134967951409\n",
      "2.37 %  Count:  39099  Year:  2018  Gini: 0.31840454589865175\n",
      "3.41 %  Count:  19248  Year:  2019  Gini: 0.245758757756388\n"
     ]
    }
   ],
   "source": [
    "for yr in np.arange(2017,2020):\n",
    "    X_temp = Xcl[Xcl[\"TIME_DECISION_DATE\"].dt.year==yr]\n",
    "    y_predcl= loaded_modelcl.predict_proba(X_temp[feature_listcl],ntree_limit= loaded_modelcl.best_ntree_limit)[:,1]\n",
    "    print(round(X_temp['RISK_FSTQPD30'].sum()*100/X_temp.shape[0],2),\"% \",\"Count: \",X_temp.shape[0],\" Year: \",yr,\" Gini:\", 2*metrics.roc_auc_score(X_temp['RISK_FSTQPD30'], y_predcl)-1)"
   ]
  },
  {
   "cell_type": "code",
   "execution_count": null,
   "metadata": {},
   "outputs": [],
   "source": []
  },
  {
   "cell_type": "code",
   "execution_count": null,
   "metadata": {},
   "outputs": [],
   "source": []
  }
 ],
 "metadata": {
  "kernelspec": {
   "display_name": "Python 3",
   "language": "python",
   "name": "python3"
  },
  "language_info": {
   "codemirror_mode": {
    "name": "ipython",
    "version": 3
   },
   "file_extension": ".py",
   "mimetype": "text/x-python",
   "name": "python",
   "nbconvert_exporter": "python",
   "pygments_lexer": "ipython3",
   "version": "3.7.3"
  }
 },
 "nbformat": 4,
 "nbformat_minor": 2
}
