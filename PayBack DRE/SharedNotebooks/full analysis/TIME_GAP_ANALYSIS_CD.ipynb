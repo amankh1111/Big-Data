{
 "cells": [
  {
   "cell_type": "code",
   "execution_count": 1,
   "metadata": {},
   "outputs": [],
   "source": [
    "import xgboost as xgb\n",
    "import numpy as np\n",
    "import pandas as pd\n",
    "import time\n",
    "import pickle\n",
    "import os\n",
    "from math import log\n",
    "import matplotlib.pyplot as plt\n",
    "\n",
    "import sklearn\n",
    "from sklearn.model_selection import train_test_split, GridSearchCV, RandomizedSearchCV, ParameterGrid,StratifiedKFold, cross_val_score\n",
    "\n",
    "from sklearn import metrics \n",
    "from sklearn.metrics import confusion_matrix, precision_recall_curve, average_precision_score, brier_score_loss, f1_score, log_loss,auc,roc_curve,auc\n",
    "\n",
    "from sklearn.linear_model import LogisticRegression, LogisticRegressionCV\n",
    "from sklearn.ensemble import RandomForestClassifier\n",
    "\n",
    "from sklearn.decomposition import PCA\n",
    "#from sklearn.utils.fixes import signature\n",
    "\n",
    "import warnings\n",
    "warnings.filterwarnings(\"ignore\", category=DeprecationWarning)"
   ]
  },
  {
   "cell_type": "code",
   "execution_count": 2,
   "metadata": {},
   "outputs": [],
   "source": [
    "#1. import data\n",
    "df = df=pd.read_pickle(r\"cust_final_20191030.pkl\")"
   ]
  },
  {
   "cell_type": "code",
   "execution_count": 3,
   "metadata": {},
   "outputs": [],
   "source": [
    "dfcd = df[(df[\"PRODUCT_GROUP\"]=='CD') & (df[\"RISK_AGRF120\"]==1)]"
   ]
  },
  {
   "cell_type": "code",
   "execution_count": 4,
   "metadata": {},
   "outputs": [
    {
     "data": {
      "text/plain": [
       "array([2018, 2019, 2017, 2016, 2015, 2014, 2013, 2012], dtype=int64)"
      ]
     },
     "execution_count": 4,
     "metadata": {},
     "output_type": "execute_result"
    }
   ],
   "source": [
    "dfcd.TIME_DECISION_DATE.dt.year.unique()"
   ]
  },
  {
   "cell_type": "code",
   "execution_count": 5,
   "metadata": {},
   "outputs": [
    {
     "name": "stderr",
     "output_type": "stream",
     "text": [
      "C:\\Users\\sgupta\\AppData\\Local\\Continuum\\anaconda3\\lib\\site-packages\\ipykernel_launcher.py:1: SettingWithCopyWarning: \n",
      "A value is trying to be set on a copy of a slice from a DataFrame.\n",
      "Try using .loc[row_indexer,col_indexer] = value instead\n",
      "\n",
      "See the caveats in the documentation: http://pandas.pydata.org/pandas-docs/stable/indexing.html#indexing-view-versus-copy\n",
      "  \"\"\"Entry point for launching an IPython kernel.\n"
     ]
    }
   ],
   "source": [
    "dfcd['TIME_GAP']=(dfcd['TIME_DECISION_DATE_max']-dfcd['ACTIVITY_DATE_max']).dt.days"
   ]
  },
  {
   "cell_type": "code",
   "execution_count": 6,
   "metadata": {},
   "outputs": [
    {
     "name": "stdout",
     "output_type": "stream",
     "text": [
      "4645\n",
      "1\n"
     ]
    },
    {
     "data": {
      "text/plain": [
       "<matplotlib.axes._subplots.AxesSubplot at 0xb5bcf28>"
      ]
     },
     "execution_count": 6,
     "metadata": {},
     "output_type": "execute_result"
    },
    {
     "data": {
      "image/png": "[encoded data removed]",
      "text/plain": [
       "<Figure size 432x288 with 1 Axes>"
      ]
     },
     "metadata": {
      "needs_background": "light"
     },
     "output_type": "display_data"
    }
   ],
   "source": [
    "print(dfcd['TIME_GAP'].max())\n",
    "print(dfcd['TIME_GAP'].min())\n",
    "dfcd[dfcd[\"PRODUCT_GROUP\"]=='CD']['TIME_GAP'].hist(bins=50)\n",
    "dfcd[dfcd[\"PRODUCT_GROUP\"]=='CL']['TIME_GAP'].hist(bins=50)"
   ]
  },
  {
   "cell_type": "code",
   "execution_count": 7,
   "metadata": {},
   "outputs": [],
   "source": [
    "Xcd= dfcd.drop(columns=[\"PRODUCT_GROUP\",\"TIME_DECISION_DATE_max\",\"ACTIVITY_DATE_min\",\"ACTIVITY_DATE_max\",\"CLIENT_EXI_3M\"])"
   ]
  },
  {
   "cell_type": "code",
   "execution_count": 8,
   "metadata": {},
   "outputs": [],
   "source": [
    "loaded_modelcd = pickle.load(open(r\"xgb_cd_fstq_wo_hc1.mod\",'rb'))"
   ]
  },
  {
   "cell_type": "code",
   "execution_count": 9,
   "metadata": {},
   "outputs": [],
   "source": [
    "feature_listcd = ['ALLOCATED_POINTS_std', 'ALLOCATED_POINTS_EARN_LAG2', 'ACTIVITY_ID_nunique', 'ALLOCATED_POINTS_EARN_LAG1', 'mesdq_max', 'month_nunique_FUEL_1000_Earn', 'ALLOCATED_POINTS_EARN_LAG3', 'month_nunique_DEBIT_1000_Earn', 'ACTIVITY_VALUE_std', 'month_nunique_DEBIT_180_Earn', 'month_nunique_GROCERY_1000_Earn', 'month_nunique_DEBIT_365_Earn', 'month_nunique_DEBIT_90_Earn', 'month_nunique_E_WALLET_365_by_1000_Earn', 'ACTIVITY_ID_count_DEBIT_180_Earn', 'month_nunique_FUEL_365_Earn', 'month_nunique_FUEL_180_by_1000_Earn', 'month_nunique_DEBIT_90_by_1000_Earn', 'ALLOCATED_POINTS_sum_E_WALLET_365_by_1000_Earn', 'ACTIVITY_ID_count_FUEL_1000_Earn', 'MOB', 'ACTIVITY_ID_count_FUEL_365_by_1000_Earn', 'ALLOCATED_POINTS_max_FUEL_180_Earn', 'ACTIVITY_DATE_nunique_E_WALLET_365_Earn', 'ACTIVITY_DATE_nunique_DEBIT_180_by_1000_Earn', 'ALLOCATED_POINTS_std_DEBIT_90_Earn', 'ALLOCATED_POINTS_median_DEBIT_90_Earn', 'ACTIVITY_DATE_nunique_DEBIT_365_by_1000_Earn', 'ACTIVITY_VALUE_sum_E_WALLET_180_by_1000_Earn', 'month_nunique_E_WALLET_1000_Burn', 'ALLOCATED_POINTS_max_FUEL_365_Earn', 'ALLOCATED_POINTS_mean_FUEL_180_Earn', 'ACTIVITY_VALUE_sum_FUEL_1000_Earn', 'ACTIVITY_VALUE_sum_E_WALLET_365_by_1000_Earn']"
   ]
  },
  {
   "cell_type": "code",
   "execution_count": 12,
   "metadata": {},
   "outputs": [
    {
     "name": "stdout",
     "output_type": "stream",
     "text": [
      "Blended Gini 0.2341194414180734\n"
     ]
    }
   ],
   "source": [
    "y_predcd= loaded_modelcd.predict_proba(Xcd[feature_listcd],ntree_limit= loaded_modelcd.best_ntree_limit)[:,1]\n",
    "print(\"Blended Gini\", 2*metrics.roc_auc_score(Xcd['RISK_FSTQPD30'], y_predcd)-1)"
   ]
  },
  {
   "cell_type": "code",
   "execution_count": 16,
   "metadata": {},
   "outputs": [
    {
     "name": "stdout",
     "output_type": "stream",
     "text": [
      "Bad Rate  3.14 %  Count:  180174  Iteration : 1  Time Gap Low:  0  Time Gap High:  359  Gini: 0.2067002889093339\n",
      "Bad Rate  3.19 %  Count:  59806  Iteration : 2  Time Gap Low:  360  Time Gap High:  719  Gini: 0.26647124795716026\n",
      "Bad Rate  3.15 %  Count:  40152  Iteration : 3  Time Gap Low:  720  Time Gap High:  1079  Gini: 0.26055526386715244\n",
      "Bad Rate  2.92 %  Count:  31276  Iteration : 4  Time Gap Low:  1080  Time Gap High:  1439  Gini: 0.27355520561052216\n",
      "Bad Rate  2.99 %  Count:  27005  Iteration : 5  Time Gap Low:  1440  Time Gap High:  1799  Gini: 0.24546557367879407\n",
      "Bad Rate  3.1 %  Count:  19200  Iteration : 6  Time Gap Low:  1800  Time Gap High:  2159  Gini: 0.276950670620304\n",
      "Bad Rate  3.69 %  Count:  12400  Iteration : 7  Time Gap Low:  2160  Time Gap High:  2519  Gini: 0.29670499846784937\n",
      "Bad Rate  3.62 %  Count:  4639  Iteration : 8  Time Gap Low:  2520  Time Gap High:  2879  Gini: 0.32129943232045655\n",
      "Bad Rate  3.43 %  Count:  1515  Iteration : 9  Time Gap Low:  2880  Time Gap High:  3239  Gini: 0.30289447394710556\n",
      "Bad Rate  4.04 %  Count:  3341  Iteration : 10  Time Gap Low:  3240  Time Gap High:  3599  Gini: 0.10366211501582678\n",
      "Bad Rate  4.71 %  Count:  2907  Iteration : 11  Time Gap Low:  3600  Time Gap High:  3959  Gini: 0.14532398745685016\n"
     ]
    }
   ],
   "source": [
    "for i in np.arange(1,12):\n",
    "    X_temp = Xcd[(Xcd[\"TIME_GAP\"] >= (i-1)*360) & (Xcd[\"TIME_GAP\"] < (i*360)-1)]\n",
    "    y_predcd= loaded_modelcd.predict_proba(X_temp[feature_listcd],ntree_limit= loaded_modelcd.best_ntree_limit)[:,1]\n",
    "    print(\"Bad Rate \",round(X_temp['RISK_FSTQPD30'].sum()*100/X_temp.shape[0],2),\"% \",\"Count: \",X_temp.shape[0],\" Iteration :\",i,\" Time Gap Low: \",(i-1)*360,\" Time Gap High: \",(i*360)-1,\" Gini:\", 2*metrics.roc_auc_score(X_temp['RISK_FSTQPD30'], y_predcd)-1)"
   ]
  },
  {
   "cell_type": "code",
   "execution_count": 20,
   "metadata": {},
   "outputs": [
    {
     "name": "stdout",
     "output_type": "stream",
     "text": [
      "Bad Rate  5.71 %  Count:  35  Year:  2012  Gini: 0.3181818181818181\n",
      "Bad Rate  1.37 %  Count:  219  Year:  2013  Gini: 0.287037037037037\n",
      "Bad Rate  0.77 %  Count:  781  Year:  2014  Gini: 0.0823655913978496\n",
      "Bad Rate  0.48 %  Count:  4798  Year:  2015  Gini: 0.2389710903710447\n",
      "Bad Rate  0.31 %  Count:  21957  Year:  2016  Gini: 0.16678439688264945\n",
      "Bad Rate  0.15 %  Count:  85491  Year:  2017  Gini: 0.07865698287374356\n",
      "Bad Rate  3.87 %  Count:  204648  Year:  2018  Gini: 0.22797113648842604\n",
      "Bad Rate  6.02 %  Count:  66747  Year:  2019  Gini: 0.09961970618895788\n"
     ]
    }
   ],
   "source": [
    "for yr in np.arange(2012,2020):\n",
    "    X_temp = Xcd[Xcd[\"TIME_DECISION_DATE\"].dt.year==yr]\n",
    "    y_predcd= loaded_modelcd.predict_proba(X_temp[feature_listcd],ntree_limit= loaded_modelcd.best_ntree_limit)[:,1]\n",
    "    print(\"Bad Rate \",round(X_temp['RISK_FSTQPD30'].sum()*100/X_temp.shape[0],2),\"% \",\"Count: \",X_temp.shape[0],\" Year: \",yr,\" Gini:\", 2*metrics.roc_auc_score(X_temp['RISK_FSTQPD30'], y_predcd)-1)"
   ]
  },
  {
   "cell_type": "code",
   "execution_count": null,
   "metadata": {},
   "outputs": [],
   "source": []
  },
  {
   "cell_type": "code",
   "execution_count": null,
   "metadata": {},
   "outputs": [],
   "source": []
  }
 ],
 "metadata": {
  "kernelspec": {
   "display_name": "Python 3",
   "language": "python",
   "name": "python3"
  },
  "language_info": {
   "codemirror_mode": {
    "name": "ipython",
    "version": 3
   },
   "file_extension": ".py",
   "mimetype": "text/x-python",
   "name": "python",
   "nbconvert_exporter": "python",
   "pygments_lexer": "ipython3",
   "version": "3.7.3"
  }
 },
 "nbformat": 4,
 "nbformat_minor": 2
}
