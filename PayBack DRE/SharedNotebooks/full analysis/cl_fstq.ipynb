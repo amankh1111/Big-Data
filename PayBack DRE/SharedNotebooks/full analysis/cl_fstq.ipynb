{
 "cells": [
  {
   "cell_type": "code",
   "execution_count": 1,
   "metadata": {},
   "outputs": [],
   "source": [
    "import xgboost as xgb\n",
    "import numpy as np\n",
    "import pandas as pd\n",
    "import time\n",
    "import pickle\n",
    "import os\n",
    "from math import log\n",
    "import matplotlib.pyplot as plt\n",
    "\n",
    "import sklearn\n",
    "from sklearn.model_selection import train_test_split, GridSearchCV, RandomizedSearchCV, ParameterGrid,StratifiedKFold, cross_val_score\n",
    "\n",
    "from sklearn import metrics \n",
    "from sklearn.metrics import confusion_matrix, precision_recall_curve, average_precision_score, brier_score_loss, f1_score, log_loss,auc,roc_curve,auc\n",
    "\n",
    "from sklearn.linear_model import LogisticRegression, LogisticRegressionCV\n",
    "from sklearn.ensemble import RandomForestClassifier\n",
    "\n",
    "from sklearn.decomposition import PCA\n",
    "#from sklearn.utils.fixes import signature\n",
    "\n",
    "import warnings\n",
    "warnings.filterwarnings(\"ignore\", category=DeprecationWarning)"
   ]
  },
  {
   "cell_type": "code",
   "execution_count": 2,
   "metadata": {},
   "outputs": [],
   "source": [
    "##read datasets\n",
    "df=pd.read_pickle(r\"cust_final_20191030.pkl\")"
   ]
  },
  {
   "cell_type": "code",
   "execution_count": 3,
   "metadata": {},
   "outputs": [
    {
     "data": {
      "text/plain": [
       "Index(['MOBILE', 'PRODUCT_GROUP', 'MEMBER_ID_nunique', 'ACTIVITY_ID_nunique',\n",
       "       'ACTIVITY_VALUE_max', 'ACTIVITY_VALUE_min', 'ACTIVITY_VALUE_median',\n",
       "       'ACTIVITY_VALUE_std', 'ACTIVITY_VALUE_mean', 'ALLOCATED_POINTS_max',\n",
       "       ...\n",
       "       'CLIENT_EXI_3M', 'TIME_DECISION_DATE', 'RISK_FPD30', 'RISK_AGRF30',\n",
       "       'RISK_FSPD30', 'RISK_AGRF60', 'RISK_FSTPD30', 'RISK_AGRF90',\n",
       "       'RISK_FSTQPD30', 'RISK_AGRF120'],\n",
       "      dtype='object', length=477)"
      ]
     },
     "execution_count": 3,
     "metadata": {},
     "output_type": "execute_result"
    }
   ],
   "source": [
    "df.columns "
   ]
  },
  {
   "cell_type": "code",
   "execution_count": 4,
   "metadata": {},
   "outputs": [],
   "source": [
    "df.dropna(subset=['HC_SCORE'],inplace=True)\n",
    "df = df[(df['RISK_AGRF120']== 1) & (df['PRODUCT_GROUP']=='CL')]"
   ]
  },
  {
   "cell_type": "code",
   "execution_count": 5,
   "metadata": {},
   "outputs": [
    {
     "data": {
      "text/plain": [
       "<matplotlib.axes._subplots.AxesSubplot at 0xb7b16a0>"
      ]
     },
     "execution_count": 5,
     "metadata": {},
     "output_type": "execute_result"
    },
    {
     "data": {
      "image/png": "[encoded data removed]",
      "text/plain": [
       "<Figure size 432x288 with 1 Axes>"
      ]
     },
     "metadata": {
      "needs_background": "light"
     },
     "output_type": "display_data"
    }
   ],
   "source": [
    "# Check distribution of scores\n",
    "pd.Series(df['HC_SCORE']).plot.hist(bins=10, range=(0,0.08) ,color='#607c8e')"
   ]
  },
  {
   "cell_type": "code",
   "execution_count": 6,
   "metadata": {},
   "outputs": [],
   "source": [
    "X=df.drop(['MOBILE','RISK_AGRF30','RISK_FPD30','RISK_FSPD30','RISK_FSTPD30',\n",
    "           'RISK_FSTQPD30','CLIENT_EXI_3M','PRODUCT_GROUP', 'TIME_DECISION_DATE_max', 'ACTIVITY_DATE_min', 'ACTIVITY_DATE_max', \n",
    "            'TIME_DECISION_DATE'] ,axis=1)\n",
    "Y=df[['RISK_FSTQPD30']]"
   ]
  },
  {
   "cell_type": "code",
   "execution_count": 7,
   "metadata": {},
   "outputs": [
    {
     "name": "stdout",
     "output_type": "stream",
     "text": [
      "HCIN SCORE GINI: 0.1307856681472077\n"
     ]
    }
   ],
   "source": [
    "hcc_score='HC_SCORE'\n",
    "\n",
    "# HCC score Gini         \n",
    "y_hcc = X[hcc_score]\n",
    "df_hcc = pd.DataFrame({'true': np.ravel(Y), 'predict': y_hcc})\n",
    "df_hcc = df_hcc.loc[pd.notnull(df_hcc['predict']),:]\n",
    "metric_auc_hcc = metrics.roc_auc_score(df_hcc['true'], df_hcc['predict'])\n",
    "gini_hcc_only = 2 * metric_auc_hcc - 1\n",
    "print(\"HCIN SCORE GINI:\" ,gini_hcc_only)"
   ]
  },
  {
   "cell_type": "code",
   "execution_count": 8,
   "metadata": {},
   "outputs": [
    {
     "name": "stdout",
     "output_type": "stream",
     "text": [
      "\n",
      "Event rate in train set : 2.24%\n",
      "\n",
      " Train set shape: (38897, 465)\n",
      "\n",
      "Event rate in test set : 2.32%\n",
      "\n",
      " Test set shape: (20839, 465)\n",
      "\n",
      "Event rate in validation set : 2.39%\n",
      "\n",
      " validation set shape: (9725, 465)\n",
      "\n",
      " Train GINI 0.12215788303162922\n",
      "\n",
      " Test GINI 0.12959869343938468\n",
      "\n",
      " validation GINI 0.1653300798773687\n",
      "\n",
      "Event rate in train set : 2.27%\n",
      "\n",
      " Train set shape: (48622, 477)\n",
      "\n",
      " Train GINI 0.13131261309476305\n",
      "\n",
      "Event rate in test set : 2.32%\n",
      "\n",
      " test set shape: (20839, 477)\n",
      "\n",
      " test GINI 0.12959869343938468\n"
     ]
    }
   ],
   "source": [
    "# split data into train and test sets\n",
    "seed = 25522\n",
    "test_size = 0.3\n",
    "X_train, X_test, y_train, y_test = train_test_split(X, Y, test_size=test_size, random_state=seed)\n",
    "\n",
    "X_train, X_valid, y_train, y_valid = train_test_split(X_train, y_train, test_size=0.2, random_state=seed)\n",
    "\n",
    "# X_train.drop('UW_SC',axis=1,inplace=True) \n",
    "# X_test.drop('UW_SC',axis=1,inplace=True) \n",
    "\n",
    "##event rate\n",
    "print(\"\\nEvent rate in train set :\", '{:,.2%}'.format(sum(y_train.iloc[:,0]) / len(y_train.iloc[:,0])))\n",
    "print(\"\\n Train set shape:\",X_train.shape)\n",
    "print(\"\\nEvent rate in test set :\", '{:,.2%}'.format(sum(y_test.iloc[:,0]) / len(y_test.iloc[:,0])))\n",
    "print(\"\\n Test set shape:\",X_test.shape)\n",
    "print(\"\\nEvent rate in validation set :\", '{:,.2%}'.format(sum(y_valid.iloc[:,0]) / len(y_valid.iloc[:,0])))\n",
    "print(\"\\n validation set shape:\",X_valid.shape)\n",
    "print(\"\\n Train GINI\",  metrics.roc_auc_score(y_train, X_train['HC_SCORE'])*2 -1)\n",
    "print(\"\\n Test GINI\",  metrics.roc_auc_score(y_test, X_test['HC_SCORE'])*2 -1)\n",
    "print(\"\\n validation GINI\",  metrics.roc_auc_score(y_valid, X_valid['HC_SCORE'])*2 -1)\n",
    "\n",
    "## fecth original test data\n",
    "train,test = train_test_split(df, test_size=test_size, random_state=seed)\n",
    "print(\"\\nEvent rate in train set :\", '{:,.2%}'.format(sum(train['RISK_FSTQPD30']) / len(train.iloc[:,0])))\n",
    "print(\"\\n Train set shape:\",train.shape)\n",
    "print(\"\\n Train GINI\",  metrics.roc_auc_score(train['RISK_FSTQPD30'], train['HC_SCORE'])*2 -1)\n",
    "\n",
    "print(\"\\nEvent rate in test set :\", '{:,.2%}'.format(sum(test['RISK_FSTQPD30']) / len(test.iloc[:,0])))\n",
    "print(\"\\n test set shape:\",test.shape)\n",
    "print(\"\\n test GINI\",  metrics.roc_auc_score(test['RISK_FSTQPD30'], test['HC_SCORE'])*2 -1)"
   ]
  },
  {
   "cell_type": "code",
   "execution_count": 9,
   "metadata": {},
   "outputs": [],
   "source": [
    "#X_test_pkl = X_test\n",
    "#X_test_pkl['RISK_FSTQPD30'] = y_test\n",
    "#X_test_pkl.to_pickle(\"cd\\\\pillar_test_set.pkl\")"
   ]
  },
  {
   "cell_type": "code",
   "execution_count": 10,
   "metadata": {},
   "outputs": [],
   "source": [
    "## Variable importance\n",
    "def fimportances(xc, predictors):\n",
    "    importances = pd.DataFrame({'predictor': predictors, 'importance': xc.feature_importances_})\n",
    "    importances = importances[importances['importance'] > 0]\n",
    "    importances.sort_values(by='importance', ascending=False, inplace=True)\n",
    "    importances.reset_index(inplace=True, drop=True)\n",
    "    importances = importances[['predictor', 'importance']]\n",
    "    return importances"
   ]
  },
  {
   "cell_type": "code",
   "execution_count": 11,
   "metadata": {},
   "outputs": [],
   "source": [
    "xgb_model = xgb.XGBClassifier(max_depth = 3,\n",
    "              learning_rate= 0.01,\n",
    "              subsample= 0.6,\n",
    "              min_child_weight= 10,\n",
    "              colsample_bytree= 0.6,\n",
    "              scale_pos_weight =25,\n",
    "              objective= 'binary:logistic', \n",
    "              nthread = -1, \n",
    "              n_estimators = 200              \n",
    "              )\n",
    "\n",
    "evals=[(X_train.drop(columns='HC_SCORE'), np.ravel(y_train)),(X_valid.drop(columns='HC_SCORE'), np.ravel(y_valid))]\n",
    "\n",
    "bst = xgb_model.fit(X_train.drop(columns='HC_SCORE'), np.ravel(y_train), eval_metric=\"auc\", eval_set=evals,\n",
    "                    early_stopping_rounds=40   ,  verbose=False)"
   ]
  },
  {
   "cell_type": "code",
   "execution_count": 12,
   "metadata": {},
   "outputs": [],
   "source": [
    "imp = fimportances(bst,X_train.drop(columns='HC_SCORE').columns)"
   ]
  },
  {
   "cell_type": "code",
   "execution_count": 13,
   "metadata": {},
   "outputs": [
    {
     "name": "stdout",
     "output_type": "stream",
     "text": [
      "Columns Remaining : 241 , gini_train: 0.311421,gini_test: 0.247818 \n",
      "Columns Remaining : 129 , gini_train: 0.329709,gini_test: 0.238664 \n",
      "Columns Remaining : 110 , gini_train: 0.324292,gini_test: 0.278168 \n",
      "Columns Remaining : 90 , gini_train: 0.321128,gini_test: 0.249263 \n",
      "Columns Remaining : 84 , gini_train: 0.367992,gini_test: 0.254640 \n",
      "Columns Remaining : 82 , gini_train: 0.320533,gini_test: 0.265965 \n",
      "Columns Remaining : 73 , gini_train: 0.325361,gini_test: 0.245041 \n",
      "Columns Remaining : 70 , gini_train: 0.336224,gini_test: 0.251418 \n",
      "Columns Remaining : 67 , gini_train: 0.304289,gini_test: 0.252061 \n",
      "Columns Remaining : 62 , gini_train: 0.318426,gini_test: 0.245987 \n",
      "Columns Remaining : 56 , gini_train: 0.344407,gini_test: 0.244530 \n",
      "Columns Remaining : 54 , gini_train: 0.313658,gini_test: 0.243771 \n",
      "Columns Remaining : 52 , gini_train: 0.324528,gini_test: 0.240786 \n",
      "Columns Remaining : 49 , gini_train: 0.308355,gini_test: 0.239765 \n",
      "Columns Remaining : 45 , gini_train: 0.356588,gini_test: 0.251368 \n",
      "Columns Remaining : 43 , gini_train: 0.320217,gini_test: 0.242518 \n",
      "Columns Remaining : 41 , gini_train: 0.343779,gini_test: 0.234957 \n",
      "Columns Remaining : 39 , gini_train: 0.333766,gini_test: 0.252706 \n",
      "Columns Remaining : 37 , gini_train: 0.317709,gini_test: 0.249911 \n",
      "Columns Remaining : 35 , gini_train: 0.267242,gini_test: 0.247678 \n",
      "Columns Remaining : 31 , gini_train: 0.319663,gini_test: 0.246284 \n",
      "Columns Remaining : 29 , gini_train: 0.375308,gini_test: 0.244124 \n",
      "Columns Remaining : 27 , gini_train: 0.304269,gini_test: 0.240880 \n",
      "Columns Remaining : 25 , gini_train: 0.326609,gini_test: 0.247331 \n",
      "Columns Remaining : 23 , gini_train: 0.305342,gini_test: 0.244736 \n",
      "Columns Remaining : 21 , gini_train: 0.321422,gini_test: 0.239381 \n",
      "Columns Remaining : 19 , gini_train: 0.341763,gini_test: 0.249263 \n",
      "Columns Remaining : 17 , gini_train: 0.309383,gini_test: 0.242761 \n",
      "Columns Remaining : 15 , gini_train: 0.300607,gini_test: 0.247863 \n",
      "Columns Remaining : 13 , gini_train: 0.269279,gini_test: 0.247649 \n",
      "Columns Remaining : 11 , gini_train: 0.306234,gini_test: 0.253570 \n",
      "Columns Remaining : 9 , gini_train: 0.274945,gini_test: 0.255804 \n",
      "Columns Remaining : 7 , gini_train: 0.298436,gini_test: 0.239254 \n",
      "Columns Remaining : 5 , gini_train: 0.246877,gini_test: 0.247820 \n",
      "Columns Remaining : 3 , gini_train: 0.229418,gini_test: 0.183916 \n",
      "Columns Remaining : 1 , gini_train: 0.126182,gini_test: 0.111886 \n"
     ]
    }
   ],
   "source": [
    "bst1 = bst\n",
    "X_train_1 = X_train.drop(columns='HC_SCORE')\n",
    "X_valid_1 = X_valid.drop(columns='HC_SCORE')\n",
    "select_X_train = X_train_1\n",
    "\n",
    "dic_imp = {\"n\":[imp.shape[0]],\"Gini Train\":[0],\"Gini Test\":[0],\"Predictors\":[list(imp['predictor'])]}\n",
    "\n",
    "while(select_X_train.shape[1] > 1):\n",
    "    select_X_train = X_train_1[list(imp['predictor'])[:-2]]\n",
    "    select_X_valid = X_valid_1[list(imp['predictor'])[:-2]]\n",
    "    xgb_model = xgb.XGBClassifier(max_depth = 3,\n",
    "              learning_rate= 0.01,\n",
    "              subsample= 0.6,\n",
    "              min_child_weight= 10,\n",
    "              colsample_bytree= 0.6,\n",
    "              scale_pos_weight =25,\n",
    "              objective= 'binary:logistic', \n",
    "              nthread = -1, \n",
    "              n_estimators = 200              \n",
    "              )\n",
    "\n",
    "    evals=[(select_X_train, np.ravel(y_train)),(select_X_valid, np.ravel(y_valid))]\n",
    "\n",
    "    bst = xgb_model.fit(select_X_train, np.ravel(y_train), eval_metric=\"auc\", eval_set=evals,\n",
    "                        early_stopping_rounds=40   ,  verbose=False)\n",
    "    \n",
    "    ypred_train = bst.predict_proba(select_X_train)[:, 1]\n",
    "    ypred_test  = bst.predict_proba(select_X_valid)[:, 1]\n",
    "    \n",
    "    metric_auc_train = metrics.roc_auc_score(y_train, ypred_train)\n",
    "    metric_auc_test = metrics.roc_auc_score(y_valid, ypred_test)\n",
    "\n",
    "    gini_train = 2 * metric_auc_train - 1\n",
    "    gini_test = 2 * metric_auc_test - 1\n",
    "    \n",
    "    print(\"Columns Remaining : %d , gini_train: %f,gini_test: %f \"%(select_X_train.shape[1],gini_train,gini_test))\n",
    "    \n",
    "    dic_imp['n'].append(imp.shape[0])\n",
    "    dic_imp['Gini Train'].append(gini_train)\n",
    "    dic_imp['Gini Test'].append(gini_test)\n",
    "    dic_imp['Predictors'].append(list(imp['predictor']))\n",
    "    \n",
    "    imp = fimportances(bst,select_X_train.columns)"
   ]
  },
  {
   "cell_type": "code",
   "execution_count": 14,
   "metadata": {},
   "outputs": [],
   "source": [
    "df_imp =pd.DataFrame(dic_imp)"
   ]
  },
  {
   "cell_type": "code",
   "execution_count": 15,
   "metadata": {},
   "outputs": [
    {
     "data": {
      "text/plain": [
       "[['ACTIVITY_VALUE_std',\n",
       "  'month_nunique_DEBIT_1000_Earn',\n",
       "  'mesdq_max',\n",
       "  'month_nunique_GROCERY_1000_Earn',\n",
       "  'ALLOCATED_POINTS_std',\n",
       "  'month_nunique_DEBIT_90_by_1000_Earn',\n",
       "  'ALLOCATED_POINTS_std_GROCERY_1000_Earn',\n",
       "  'ALLOCATED_POINTS_sum_DEBIT_90_by_1000_Earn',\n",
       "  'ALLOCATED_POINTS_mean_E_WALLET_365_Earn',\n",
       "  'ALLOCATED_POINTS_EARN_LAG3',\n",
       "  'ALLOCATED_POINTS_std_E_WALLET_1000_Earn',\n",
       "  'ALLOCATED_POINTS_median_E_WALLET_180_Earn',\n",
       "  'month_nunique_FUEL_1000_Earn',\n",
       "  'ALLOCATED_POINTS_mean_DEBIT_90_by_1000_Earn',\n",
       "  'ALLOCATED_POINTS_max_APPAREL_365_Earn',\n",
       "  'ALLOCATED_POINTS_sum_365_Burn',\n",
       "  'ALLOCATED_POINTS_mean_E_WALLET_180_Earn',\n",
       "  'ALLOCATED_POINTS_max_DEBIT_1000_Earn',\n",
       "  'ALLOCATED_POINTS_mean_E_WALLET_365_by_1000_Earn',\n",
       "  'ALLOCATED_POINTS_sum_DEBIT_1000_Earn',\n",
       "  'ACTIVITY_VALUE_median_GROCERY_1000_Earn',\n",
       "  'ALLOCATED_POINTS_sum_180_Burn',\n",
       "  'ACTIVITY_VALUE_median_E_WALLET_180_Earn']]"
      ]
     },
     "execution_count": 15,
     "metadata": {},
     "output_type": "execute_result"
    }
   ],
   "source": [
    "list(df_imp[df_imp['n']==23][\"Predictors\"])"
   ]
  },
  {
   "cell_type": "code",
   "execution_count": 16,
   "metadata": {},
   "outputs": [],
   "source": [
    "selected_vars = list(df_imp[df_imp['n']==23][\"Predictors\"])"
   ]
  },
  {
   "cell_type": "code",
   "execution_count": 17,
   "metadata": {},
   "outputs": [
    {
     "data": {
      "text/plain": [
       "[['ACTIVITY_VALUE_std',\n",
       "  'month_nunique_DEBIT_1000_Earn',\n",
       "  'mesdq_max',\n",
       "  'month_nunique_GROCERY_1000_Earn',\n",
       "  'ALLOCATED_POINTS_std',\n",
       "  'month_nunique_DEBIT_90_by_1000_Earn',\n",
       "  'ALLOCATED_POINTS_std_GROCERY_1000_Earn',\n",
       "  'ALLOCATED_POINTS_sum_DEBIT_90_by_1000_Earn',\n",
       "  'ALLOCATED_POINTS_mean_E_WALLET_365_Earn',\n",
       "  'ALLOCATED_POINTS_EARN_LAG3',\n",
       "  'ALLOCATED_POINTS_std_E_WALLET_1000_Earn',\n",
       "  'ALLOCATED_POINTS_median_E_WALLET_180_Earn',\n",
       "  'month_nunique_FUEL_1000_Earn',\n",
       "  'ALLOCATED_POINTS_mean_DEBIT_90_by_1000_Earn',\n",
       "  'ALLOCATED_POINTS_max_APPAREL_365_Earn',\n",
       "  'ALLOCATED_POINTS_sum_365_Burn',\n",
       "  'ALLOCATED_POINTS_mean_E_WALLET_180_Earn',\n",
       "  'ALLOCATED_POINTS_max_DEBIT_1000_Earn',\n",
       "  'ALLOCATED_POINTS_mean_E_WALLET_365_by_1000_Earn',\n",
       "  'ALLOCATED_POINTS_sum_DEBIT_1000_Earn',\n",
       "  'ACTIVITY_VALUE_median_GROCERY_1000_Earn',\n",
       "  'ALLOCATED_POINTS_sum_180_Burn',\n",
       "  'ACTIVITY_VALUE_median_E_WALLET_180_Earn']]"
      ]
     },
     "execution_count": 17,
     "metadata": {},
     "output_type": "execute_result"
    }
   ],
   "source": [
    "selected_vars"
   ]
  },
  {
   "cell_type": "code",
   "execution_count": 18,
   "metadata": {},
   "outputs": [
    {
     "name": "stdout",
     "output_type": "stream",
     "text": [
      "\n",
      " Train shape: (38897, 23) \n",
      " Test shape: (20839, 23) \n",
      " Validation shape: (9725, 23)\n"
     ]
    }
   ],
   "source": [
    "X_train_2=X_train[selected_vars[0]]\n",
    "X_test_2=X_test[selected_vars[0]]\n",
    "X_valid_2=X_valid[selected_vars[0]]\n",
    "\n",
    "\n",
    "print(\"\\n Train shape:\",X_train_2.shape,\"\\n Test shape:\",X_test_2.shape,\"\\n Validation shape:\",X_valid_2.shape)"
   ]
  },
  {
   "cell_type": "code",
   "execution_count": 19,
   "metadata": {},
   "outputs": [],
   "source": [
    "# set model parameters \n",
    "missing_value=None; cpu=-1; early_stopping_round=40; split_random_state=None\n",
    "kfolds = StratifiedKFold(6, random_state=1)"
   ]
  },
  {
   "cell_type": "code",
   "execution_count": 20,
   "metadata": {
    "collapsed": true
   },
   "outputs": [
    {
     "name": "stdout",
     "output_type": "stream",
     "text": [
      "Randomized search..\n"
     ]
    },
    {
     "ename": "KeyboardInterrupt",
     "evalue": "",
     "output_type": "error",
     "traceback": [
      "\u001b[1;31m---------------------------------------------------------------------------\u001b[0m",
      "\u001b[1;31mKeyboardInterrupt\u001b[0m                         Traceback (most recent call last)",
      "\u001b[1;32m<ipython-input-20-23d704f6dd5c>\u001b[0m in \u001b[0;36m<module>\u001b[1;34m\u001b[0m\n\u001b[0;32m     19\u001b[0m \u001b[0mprint\u001b[0m\u001b[1;33m(\u001b[0m\u001b[1;34m\"Randomized search..\"\u001b[0m\u001b[1;33m)\u001b[0m\u001b[1;33m\u001b[0m\u001b[1;33m\u001b[0m\u001b[0m\n\u001b[0;32m     20\u001b[0m \u001b[0msearch_time_start\u001b[0m \u001b[1;33m=\u001b[0m \u001b[0mtime\u001b[0m\u001b[1;33m.\u001b[0m\u001b[0mtime\u001b[0m\u001b[1;33m(\u001b[0m\u001b[1;33m)\u001b[0m\u001b[1;33m\u001b[0m\u001b[1;33m\u001b[0m\u001b[0m\n\u001b[1;32m---> 21\u001b[1;33m \u001b[0mclf\u001b[0m\u001b[1;33m.\u001b[0m\u001b[0mfit\u001b[0m\u001b[1;33m(\u001b[0m\u001b[0mX_train_2\u001b[0m\u001b[1;33m,\u001b[0m \u001b[0mnp\u001b[0m\u001b[1;33m.\u001b[0m\u001b[0mravel\u001b[0m\u001b[1;33m(\u001b[0m\u001b[0my_train\u001b[0m\u001b[1;33m)\u001b[0m\u001b[1;33m)\u001b[0m\u001b[1;33m\u001b[0m\u001b[1;33m\u001b[0m\u001b[0m\n\u001b[0m\u001b[0;32m     22\u001b[0m \u001b[0mprint\u001b[0m\u001b[1;33m(\u001b[0m\u001b[1;34m\"Randomized search time:\"\u001b[0m\u001b[1;33m,\u001b[0m \u001b[0mtime\u001b[0m\u001b[1;33m.\u001b[0m\u001b[0mtime\u001b[0m\u001b[1;33m(\u001b[0m\u001b[1;33m)\u001b[0m \u001b[1;33m-\u001b[0m \u001b[0msearch_time_start\u001b[0m\u001b[1;33m)\u001b[0m\u001b[1;33m\u001b[0m\u001b[1;33m\u001b[0m\u001b[0m\n\u001b[0;32m     23\u001b[0m \u001b[0mparams\u001b[0m \u001b[1;33m=\u001b[0m \u001b[0mclf\u001b[0m\u001b[1;33m.\u001b[0m\u001b[0mbest_params_\u001b[0m\u001b[1;33m\u001b[0m\u001b[1;33m\u001b[0m\u001b[0m\n",
      "\u001b[1;32m~\\AppData\\Local\\Continuum\\anaconda3\\lib\\site-packages\\sklearn\\model_selection\\_search.py\u001b[0m in \u001b[0;36mfit\u001b[1;34m(self, X, y, groups, **fit_params)\u001b[0m\n\u001b[0;32m    685\u001b[0m                 \u001b[1;32mreturn\u001b[0m \u001b[0mresults\u001b[0m\u001b[1;33m\u001b[0m\u001b[1;33m\u001b[0m\u001b[0m\n\u001b[0;32m    686\u001b[0m \u001b[1;33m\u001b[0m\u001b[0m\n\u001b[1;32m--> 687\u001b[1;33m             \u001b[0mself\u001b[0m\u001b[1;33m.\u001b[0m\u001b[0m_run_search\u001b[0m\u001b[1;33m(\u001b[0m\u001b[0mevaluate_candidates\u001b[0m\u001b[1;33m)\u001b[0m\u001b[1;33m\u001b[0m\u001b[1;33m\u001b[0m\u001b[0m\n\u001b[0m\u001b[0;32m    688\u001b[0m \u001b[1;33m\u001b[0m\u001b[0m\n\u001b[0;32m    689\u001b[0m         \u001b[1;31m# For multi-metric evaluation, store the best_index_, best_params_ and\u001b[0m\u001b[1;33m\u001b[0m\u001b[1;33m\u001b[0m\u001b[1;33m\u001b[0m\u001b[0m\n",
      "\u001b[1;32m~\\AppData\\Local\\Continuum\\anaconda3\\lib\\site-packages\\sklearn\\model_selection\\_search.py\u001b[0m in \u001b[0;36m_run_search\u001b[1;34m(self, evaluate_candidates)\u001b[0m\n\u001b[0;32m   1466\u001b[0m         evaluate_candidates(ParameterSampler(\n\u001b[0;32m   1467\u001b[0m             \u001b[0mself\u001b[0m\u001b[1;33m.\u001b[0m\u001b[0mparam_distributions\u001b[0m\u001b[1;33m,\u001b[0m \u001b[0mself\u001b[0m\u001b[1;33m.\u001b[0m\u001b[0mn_iter\u001b[0m\u001b[1;33m,\u001b[0m\u001b[1;33m\u001b[0m\u001b[1;33m\u001b[0m\u001b[0m\n\u001b[1;32m-> 1468\u001b[1;33m             random_state=self.random_state))\n\u001b[0m",
      "\u001b[1;32m~\\AppData\\Local\\Continuum\\anaconda3\\lib\\site-packages\\sklearn\\model_selection\\_search.py\u001b[0m in \u001b[0;36mevaluate_candidates\u001b[1;34m(candidate_params)\u001b[0m\n\u001b[0;32m    664\u001b[0m                                \u001b[1;32mfor\u001b[0m \u001b[0mparameters\u001b[0m\u001b[1;33m,\u001b[0m \u001b[1;33m(\u001b[0m\u001b[0mtrain\u001b[0m\u001b[1;33m,\u001b[0m \u001b[0mtest\u001b[0m\u001b[1;33m)\u001b[0m\u001b[1;33m\u001b[0m\u001b[1;33m\u001b[0m\u001b[0m\n\u001b[0;32m    665\u001b[0m                                in product(candidate_params,\n\u001b[1;32m--> 666\u001b[1;33m                                           cv.split(X, y, groups)))\n\u001b[0m\u001b[0;32m    667\u001b[0m \u001b[1;33m\u001b[0m\u001b[0m\n\u001b[0;32m    668\u001b[0m                 \u001b[1;32mif\u001b[0m \u001b[0mlen\u001b[0m\u001b[1;33m(\u001b[0m\u001b[0mout\u001b[0m\u001b[1;33m)\u001b[0m \u001b[1;33m<\u001b[0m \u001b[1;36m1\u001b[0m\u001b[1;33m:\u001b[0m\u001b[1;33m\u001b[0m\u001b[1;33m\u001b[0m\u001b[0m\n",
      "\u001b[1;32m~\\AppData\\Local\\Continuum\\anaconda3\\lib\\site-packages\\joblib\\parallel.py\u001b[0m in \u001b[0;36m__call__\u001b[1;34m(self, iterable)\u001b[0m\n\u001b[0;32m    922\u001b[0m                 \u001b[0mself\u001b[0m\u001b[1;33m.\u001b[0m\u001b[0m_iterating\u001b[0m \u001b[1;33m=\u001b[0m \u001b[0mself\u001b[0m\u001b[1;33m.\u001b[0m\u001b[0m_original_iterator\u001b[0m \u001b[1;32mis\u001b[0m \u001b[1;32mnot\u001b[0m \u001b[1;32mNone\u001b[0m\u001b[1;33m\u001b[0m\u001b[1;33m\u001b[0m\u001b[0m\n\u001b[0;32m    923\u001b[0m \u001b[1;33m\u001b[0m\u001b[0m\n\u001b[1;32m--> 924\u001b[1;33m             \u001b[1;32mwhile\u001b[0m \u001b[0mself\u001b[0m\u001b[1;33m.\u001b[0m\u001b[0mdispatch_one_batch\u001b[0m\u001b[1;33m(\u001b[0m\u001b[0miterator\u001b[0m\u001b[1;33m)\u001b[0m\u001b[1;33m:\u001b[0m\u001b[1;33m\u001b[0m\u001b[1;33m\u001b[0m\u001b[0m\n\u001b[0m\u001b[0;32m    925\u001b[0m                 \u001b[1;32mpass\u001b[0m\u001b[1;33m\u001b[0m\u001b[1;33m\u001b[0m\u001b[0m\n\u001b[0;32m    926\u001b[0m \u001b[1;33m\u001b[0m\u001b[0m\n",
      "\u001b[1;32m~\\AppData\\Local\\Continuum\\anaconda3\\lib\\site-packages\\joblib\\parallel.py\u001b[0m in \u001b[0;36mdispatch_one_batch\u001b[1;34m(self, iterator)\u001b[0m\n\u001b[0;32m    757\u001b[0m                 \u001b[1;32mreturn\u001b[0m \u001b[1;32mFalse\u001b[0m\u001b[1;33m\u001b[0m\u001b[1;33m\u001b[0m\u001b[0m\n\u001b[0;32m    758\u001b[0m             \u001b[1;32melse\u001b[0m\u001b[1;33m:\u001b[0m\u001b[1;33m\u001b[0m\u001b[1;33m\u001b[0m\u001b[0m\n\u001b[1;32m--> 759\u001b[1;33m                 \u001b[0mself\u001b[0m\u001b[1;33m.\u001b[0m\u001b[0m_dispatch\u001b[0m\u001b[1;33m(\u001b[0m\u001b[0mtasks\u001b[0m\u001b[1;33m)\u001b[0m\u001b[1;33m\u001b[0m\u001b[1;33m\u001b[0m\u001b[0m\n\u001b[0m\u001b[0;32m    760\u001b[0m                 \u001b[1;32mreturn\u001b[0m \u001b[1;32mTrue\u001b[0m\u001b[1;33m\u001b[0m\u001b[1;33m\u001b[0m\u001b[0m\n\u001b[0;32m    761\u001b[0m \u001b[1;33m\u001b[0m\u001b[0m\n",
      "\u001b[1;32m~\\AppData\\Local\\Continuum\\anaconda3\\lib\\site-packages\\joblib\\parallel.py\u001b[0m in \u001b[0;36m_dispatch\u001b[1;34m(self, batch)\u001b[0m\n\u001b[0;32m    714\u001b[0m         \u001b[1;32mwith\u001b[0m \u001b[0mself\u001b[0m\u001b[1;33m.\u001b[0m\u001b[0m_lock\u001b[0m\u001b[1;33m:\u001b[0m\u001b[1;33m\u001b[0m\u001b[1;33m\u001b[0m\u001b[0m\n\u001b[0;32m    715\u001b[0m             \u001b[0mjob_idx\u001b[0m \u001b[1;33m=\u001b[0m \u001b[0mlen\u001b[0m\u001b[1;33m(\u001b[0m\u001b[0mself\u001b[0m\u001b[1;33m.\u001b[0m\u001b[0m_jobs\u001b[0m\u001b[1;33m)\u001b[0m\u001b[1;33m\u001b[0m\u001b[1;33m\u001b[0m\u001b[0m\n\u001b[1;32m--> 716\u001b[1;33m             \u001b[0mjob\u001b[0m \u001b[1;33m=\u001b[0m \u001b[0mself\u001b[0m\u001b[1;33m.\u001b[0m\u001b[0m_backend\u001b[0m\u001b[1;33m.\u001b[0m\u001b[0mapply_async\u001b[0m\u001b[1;33m(\u001b[0m\u001b[0mbatch\u001b[0m\u001b[1;33m,\u001b[0m \u001b[0mcallback\u001b[0m\u001b[1;33m=\u001b[0m\u001b[0mcb\u001b[0m\u001b[1;33m)\u001b[0m\u001b[1;33m\u001b[0m\u001b[1;33m\u001b[0m\u001b[0m\n\u001b[0m\u001b[0;32m    717\u001b[0m             \u001b[1;31m# A job can complete so quickly than its callback is\u001b[0m\u001b[1;33m\u001b[0m\u001b[1;33m\u001b[0m\u001b[1;33m\u001b[0m\u001b[0m\n\u001b[0;32m    718\u001b[0m             \u001b[1;31m# called before we get here, causing self._jobs to\u001b[0m\u001b[1;33m\u001b[0m\u001b[1;33m\u001b[0m\u001b[1;33m\u001b[0m\u001b[0m\n",
      "\u001b[1;32m~\\AppData\\Local\\Continuum\\anaconda3\\lib\\site-packages\\joblib\\_parallel_backends.py\u001b[0m in \u001b[0;36mapply_async\u001b[1;34m(self, func, callback)\u001b[0m\n\u001b[0;32m    180\u001b[0m     \u001b[1;32mdef\u001b[0m \u001b[0mapply_async\u001b[0m\u001b[1;33m(\u001b[0m\u001b[0mself\u001b[0m\u001b[1;33m,\u001b[0m \u001b[0mfunc\u001b[0m\u001b[1;33m,\u001b[0m \u001b[0mcallback\u001b[0m\u001b[1;33m=\u001b[0m\u001b[1;32mNone\u001b[0m\u001b[1;33m)\u001b[0m\u001b[1;33m:\u001b[0m\u001b[1;33m\u001b[0m\u001b[1;33m\u001b[0m\u001b[0m\n\u001b[0;32m    181\u001b[0m         \u001b[1;34m\"\"\"Schedule a func to be run\"\"\"\u001b[0m\u001b[1;33m\u001b[0m\u001b[1;33m\u001b[0m\u001b[0m\n\u001b[1;32m--> 182\u001b[1;33m         \u001b[0mresult\u001b[0m \u001b[1;33m=\u001b[0m \u001b[0mImmediateResult\u001b[0m\u001b[1;33m(\u001b[0m\u001b[0mfunc\u001b[0m\u001b[1;33m)\u001b[0m\u001b[1;33m\u001b[0m\u001b[1;33m\u001b[0m\u001b[0m\n\u001b[0m\u001b[0;32m    183\u001b[0m         \u001b[1;32mif\u001b[0m \u001b[0mcallback\u001b[0m\u001b[1;33m:\u001b[0m\u001b[1;33m\u001b[0m\u001b[1;33m\u001b[0m\u001b[0m\n\u001b[0;32m    184\u001b[0m             \u001b[0mcallback\u001b[0m\u001b[1;33m(\u001b[0m\u001b[0mresult\u001b[0m\u001b[1;33m)\u001b[0m\u001b[1;33m\u001b[0m\u001b[1;33m\u001b[0m\u001b[0m\n",
      "\u001b[1;32m~\\AppData\\Local\\Continuum\\anaconda3\\lib\\site-packages\\joblib\\_parallel_backends.py\u001b[0m in \u001b[0;36m__init__\u001b[1;34m(self, batch)\u001b[0m\n\u001b[0;32m    547\u001b[0m         \u001b[1;31m# Don't delay the application, to avoid keeping the input\u001b[0m\u001b[1;33m\u001b[0m\u001b[1;33m\u001b[0m\u001b[1;33m\u001b[0m\u001b[0m\n\u001b[0;32m    548\u001b[0m         \u001b[1;31m# arguments in memory\u001b[0m\u001b[1;33m\u001b[0m\u001b[1;33m\u001b[0m\u001b[1;33m\u001b[0m\u001b[0m\n\u001b[1;32m--> 549\u001b[1;33m         \u001b[0mself\u001b[0m\u001b[1;33m.\u001b[0m\u001b[0mresults\u001b[0m \u001b[1;33m=\u001b[0m \u001b[0mbatch\u001b[0m\u001b[1;33m(\u001b[0m\u001b[1;33m)\u001b[0m\u001b[1;33m\u001b[0m\u001b[1;33m\u001b[0m\u001b[0m\n\u001b[0m\u001b[0;32m    550\u001b[0m \u001b[1;33m\u001b[0m\u001b[0m\n\u001b[0;32m    551\u001b[0m     \u001b[1;32mdef\u001b[0m \u001b[0mget\u001b[0m\u001b[1;33m(\u001b[0m\u001b[0mself\u001b[0m\u001b[1;33m)\u001b[0m\u001b[1;33m:\u001b[0m\u001b[1;33m\u001b[0m\u001b[1;33m\u001b[0m\u001b[0m\n",
      "\u001b[1;32m~\\AppData\\Local\\Continuum\\anaconda3\\lib\\site-packages\\joblib\\parallel.py\u001b[0m in \u001b[0;36m__call__\u001b[1;34m(self)\u001b[0m\n\u001b[0;32m    223\u001b[0m         \u001b[1;32mwith\u001b[0m \u001b[0mparallel_backend\u001b[0m\u001b[1;33m(\u001b[0m\u001b[0mself\u001b[0m\u001b[1;33m.\u001b[0m\u001b[0m_backend\u001b[0m\u001b[1;33m,\u001b[0m \u001b[0mn_jobs\u001b[0m\u001b[1;33m=\u001b[0m\u001b[0mself\u001b[0m\u001b[1;33m.\u001b[0m\u001b[0m_n_jobs\u001b[0m\u001b[1;33m)\u001b[0m\u001b[1;33m:\u001b[0m\u001b[1;33m\u001b[0m\u001b[1;33m\u001b[0m\u001b[0m\n\u001b[0;32m    224\u001b[0m             return [func(*args, **kwargs)\n\u001b[1;32m--> 225\u001b[1;33m                     for func, args, kwargs in self.items]\n\u001b[0m\u001b[0;32m    226\u001b[0m \u001b[1;33m\u001b[0m\u001b[0m\n\u001b[0;32m    227\u001b[0m     \u001b[1;32mdef\u001b[0m \u001b[0m__len__\u001b[0m\u001b[1;33m(\u001b[0m\u001b[0mself\u001b[0m\u001b[1;33m)\u001b[0m\u001b[1;33m:\u001b[0m\u001b[1;33m\u001b[0m\u001b[1;33m\u001b[0m\u001b[0m\n",
      "\u001b[1;32m~\\AppData\\Local\\Continuum\\anaconda3\\lib\\site-packages\\joblib\\parallel.py\u001b[0m in \u001b[0;36m<listcomp>\u001b[1;34m(.0)\u001b[0m\n\u001b[0;32m    223\u001b[0m         \u001b[1;32mwith\u001b[0m \u001b[0mparallel_backend\u001b[0m\u001b[1;33m(\u001b[0m\u001b[0mself\u001b[0m\u001b[1;33m.\u001b[0m\u001b[0m_backend\u001b[0m\u001b[1;33m,\u001b[0m \u001b[0mn_jobs\u001b[0m\u001b[1;33m=\u001b[0m\u001b[0mself\u001b[0m\u001b[1;33m.\u001b[0m\u001b[0m_n_jobs\u001b[0m\u001b[1;33m)\u001b[0m\u001b[1;33m:\u001b[0m\u001b[1;33m\u001b[0m\u001b[1;33m\u001b[0m\u001b[0m\n\u001b[0;32m    224\u001b[0m             return [func(*args, **kwargs)\n\u001b[1;32m--> 225\u001b[1;33m                     for func, args, kwargs in self.items]\n\u001b[0m\u001b[0;32m    226\u001b[0m \u001b[1;33m\u001b[0m\u001b[0m\n\u001b[0;32m    227\u001b[0m     \u001b[1;32mdef\u001b[0m \u001b[0m__len__\u001b[0m\u001b[1;33m(\u001b[0m\u001b[0mself\u001b[0m\u001b[1;33m)\u001b[0m\u001b[1;33m:\u001b[0m\u001b[1;33m\u001b[0m\u001b[1;33m\u001b[0m\u001b[0m\n",
      "\u001b[1;32m~\\AppData\\Local\\Continuum\\anaconda3\\lib\\site-packages\\sklearn\\model_selection\\_validation.py\u001b[0m in \u001b[0;36m_fit_and_score\u001b[1;34m(estimator, X, y, scorer, train, test, verbose, parameters, fit_params, return_train_score, return_parameters, return_n_test_samples, return_times, return_estimator, error_score)\u001b[0m\n\u001b[0;32m    512\u001b[0m             \u001b[0mestimator\u001b[0m\u001b[1;33m.\u001b[0m\u001b[0mfit\u001b[0m\u001b[1;33m(\u001b[0m\u001b[0mX_train\u001b[0m\u001b[1;33m,\u001b[0m \u001b[1;33m**\u001b[0m\u001b[0mfit_params\u001b[0m\u001b[1;33m)\u001b[0m\u001b[1;33m\u001b[0m\u001b[1;33m\u001b[0m\u001b[0m\n\u001b[0;32m    513\u001b[0m         \u001b[1;32melse\u001b[0m\u001b[1;33m:\u001b[0m\u001b[1;33m\u001b[0m\u001b[1;33m\u001b[0m\u001b[0m\n\u001b[1;32m--> 514\u001b[1;33m             \u001b[0mestimator\u001b[0m\u001b[1;33m.\u001b[0m\u001b[0mfit\u001b[0m\u001b[1;33m(\u001b[0m\u001b[0mX_train\u001b[0m\u001b[1;33m,\u001b[0m \u001b[0my_train\u001b[0m\u001b[1;33m,\u001b[0m \u001b[1;33m**\u001b[0m\u001b[0mfit_params\u001b[0m\u001b[1;33m)\u001b[0m\u001b[1;33m\u001b[0m\u001b[1;33m\u001b[0m\u001b[0m\n\u001b[0m\u001b[0;32m    515\u001b[0m \u001b[1;33m\u001b[0m\u001b[0m\n\u001b[0;32m    516\u001b[0m     \u001b[1;32mexcept\u001b[0m \u001b[0mException\u001b[0m \u001b[1;32mas\u001b[0m \u001b[0me\u001b[0m\u001b[1;33m:\u001b[0m\u001b[1;33m\u001b[0m\u001b[1;33m\u001b[0m\u001b[0m\n",
      "\u001b[1;32m~\\AppData\\Local\\Continuum\\anaconda3\\lib\\site-packages\\xgboost\\sklearn.py\u001b[0m in \u001b[0;36mfit\u001b[1;34m(self, X, y, sample_weight, eval_set, eval_metric, early_stopping_rounds, verbose, xgb_model, sample_weight_eval_set, callbacks)\u001b[0m\n\u001b[0;32m    730\u001b[0m                               \u001b[0mevals_result\u001b[0m\u001b[1;33m=\u001b[0m\u001b[0mevals_result\u001b[0m\u001b[1;33m,\u001b[0m \u001b[0mobj\u001b[0m\u001b[1;33m=\u001b[0m\u001b[0mobj\u001b[0m\u001b[1;33m,\u001b[0m \u001b[0mfeval\u001b[0m\u001b[1;33m=\u001b[0m\u001b[0mfeval\u001b[0m\u001b[1;33m,\u001b[0m\u001b[1;33m\u001b[0m\u001b[1;33m\u001b[0m\u001b[0m\n\u001b[0;32m    731\u001b[0m                               \u001b[0mverbose_eval\u001b[0m\u001b[1;33m=\u001b[0m\u001b[0mverbose\u001b[0m\u001b[1;33m,\u001b[0m \u001b[0mxgb_model\u001b[0m\u001b[1;33m=\u001b[0m\u001b[0mxgb_model\u001b[0m\u001b[1;33m,\u001b[0m\u001b[1;33m\u001b[0m\u001b[1;33m\u001b[0m\u001b[0m\n\u001b[1;32m--> 732\u001b[1;33m                               callbacks=callbacks)\n\u001b[0m\u001b[0;32m    733\u001b[0m \u001b[1;33m\u001b[0m\u001b[0m\n\u001b[0;32m    734\u001b[0m         \u001b[0mself\u001b[0m\u001b[1;33m.\u001b[0m\u001b[0mobjective\u001b[0m \u001b[1;33m=\u001b[0m \u001b[0mxgb_options\u001b[0m\u001b[1;33m[\u001b[0m\u001b[1;34m\"objective\"\u001b[0m\u001b[1;33m]\u001b[0m\u001b[1;33m\u001b[0m\u001b[1;33m\u001b[0m\u001b[0m\n",
      "\u001b[1;32m~\\AppData\\Local\\Continuum\\anaconda3\\lib\\site-packages\\xgboost\\training.py\u001b[0m in \u001b[0;36mtrain\u001b[1;34m(params, dtrain, num_boost_round, evals, obj, feval, maximize, early_stopping_rounds, evals_result, verbose_eval, xgb_model, callbacks, learning_rates)\u001b[0m\n\u001b[0;32m    214\u001b[0m                            \u001b[0mevals\u001b[0m\u001b[1;33m=\u001b[0m\u001b[0mevals\u001b[0m\u001b[1;33m,\u001b[0m\u001b[1;33m\u001b[0m\u001b[1;33m\u001b[0m\u001b[0m\n\u001b[0;32m    215\u001b[0m                            \u001b[0mobj\u001b[0m\u001b[1;33m=\u001b[0m\u001b[0mobj\u001b[0m\u001b[1;33m,\u001b[0m \u001b[0mfeval\u001b[0m\u001b[1;33m=\u001b[0m\u001b[0mfeval\u001b[0m\u001b[1;33m,\u001b[0m\u001b[1;33m\u001b[0m\u001b[1;33m\u001b[0m\u001b[0m\n\u001b[1;32m--> 216\u001b[1;33m                            xgb_model=xgb_model, callbacks=callbacks)\n\u001b[0m\u001b[0;32m    217\u001b[0m \u001b[1;33m\u001b[0m\u001b[0m\n\u001b[0;32m    218\u001b[0m \u001b[1;33m\u001b[0m\u001b[0m\n",
      "\u001b[1;32m~\\AppData\\Local\\Continuum\\anaconda3\\lib\\site-packages\\xgboost\\training.py\u001b[0m in \u001b[0;36m_train_internal\u001b[1;34m(params, dtrain, num_boost_round, evals, obj, feval, xgb_model, callbacks)\u001b[0m\n\u001b[0;32m     72\u001b[0m         \u001b[1;31m# Skip the first update if it is a recovery step.\u001b[0m\u001b[1;33m\u001b[0m\u001b[1;33m\u001b[0m\u001b[1;33m\u001b[0m\u001b[0m\n\u001b[0;32m     73\u001b[0m         \u001b[1;32mif\u001b[0m \u001b[0mversion\u001b[0m \u001b[1;33m%\u001b[0m \u001b[1;36m2\u001b[0m \u001b[1;33m==\u001b[0m \u001b[1;36m0\u001b[0m\u001b[1;33m:\u001b[0m\u001b[1;33m\u001b[0m\u001b[1;33m\u001b[0m\u001b[0m\n\u001b[1;32m---> 74\u001b[1;33m             \u001b[0mbst\u001b[0m\u001b[1;33m.\u001b[0m\u001b[0mupdate\u001b[0m\u001b[1;33m(\u001b[0m\u001b[0mdtrain\u001b[0m\u001b[1;33m,\u001b[0m \u001b[0mi\u001b[0m\u001b[1;33m,\u001b[0m \u001b[0mobj\u001b[0m\u001b[1;33m)\u001b[0m\u001b[1;33m\u001b[0m\u001b[1;33m\u001b[0m\u001b[0m\n\u001b[0m\u001b[0;32m     75\u001b[0m             \u001b[0mbst\u001b[0m\u001b[1;33m.\u001b[0m\u001b[0msave_rabit_checkpoint\u001b[0m\u001b[1;33m(\u001b[0m\u001b[1;33m)\u001b[0m\u001b[1;33m\u001b[0m\u001b[1;33m\u001b[0m\u001b[0m\n\u001b[0;32m     76\u001b[0m             \u001b[0mversion\u001b[0m \u001b[1;33m+=\u001b[0m \u001b[1;36m1\u001b[0m\u001b[1;33m\u001b[0m\u001b[1;33m\u001b[0m\u001b[0m\n",
      "\u001b[1;32m~\\AppData\\Local\\Continuum\\anaconda3\\lib\\site-packages\\xgboost\\core.py\u001b[0m in \u001b[0;36mupdate\u001b[1;34m(self, dtrain, iteration, fobj)\u001b[0m\n\u001b[0;32m   1107\u001b[0m         \u001b[1;32mif\u001b[0m \u001b[0mfobj\u001b[0m \u001b[1;32mis\u001b[0m \u001b[1;32mNone\u001b[0m\u001b[1;33m:\u001b[0m\u001b[1;33m\u001b[0m\u001b[1;33m\u001b[0m\u001b[0m\n\u001b[0;32m   1108\u001b[0m             _check_call(_LIB.XGBoosterUpdateOneIter(self.handle, ctypes.c_int(iteration),\n\u001b[1;32m-> 1109\u001b[1;33m                                                     dtrain.handle))\n\u001b[0m\u001b[0;32m   1110\u001b[0m         \u001b[1;32melse\u001b[0m\u001b[1;33m:\u001b[0m\u001b[1;33m\u001b[0m\u001b[1;33m\u001b[0m\u001b[0m\n\u001b[0;32m   1111\u001b[0m             \u001b[0mpred\u001b[0m \u001b[1;33m=\u001b[0m \u001b[0mself\u001b[0m\u001b[1;33m.\u001b[0m\u001b[0mpredict\u001b[0m\u001b[1;33m(\u001b[0m\u001b[0mdtrain\u001b[0m\u001b[1;33m)\u001b[0m\u001b[1;33m\u001b[0m\u001b[1;33m\u001b[0m\u001b[0m\n",
      "\u001b[1;31mKeyboardInterrupt\u001b[0m: "
     ]
    }
   ],
   "source": [
    "## XGB model##\n",
    "param_grid = {'max_depth': list(range(1, 6)),\n",
    "              'learning_rate': np.arange(0.001, 0.02, 0.001),\n",
    "              'subsample': np.arange(0.4, 0.7,0.05),\n",
    "              'min_child_weight': np.arange(1, 25, 3),\n",
    "              'colsample_bytree': np.arange(0.5, 0.75, 0.05),\n",
    "              'scale_pos_weight' :np.arange(5, 40, 2)\n",
    "            }\n",
    "\n",
    "if X_train_2.shape[1] == 1:\n",
    "    param_grid['colsample_bytree'] = [1]\n",
    "    \n",
    "param_dist = {'objective': 'binary:logistic', 'nthread': cpu, 'n_estimators': 200}\n",
    "xgb_model = xgb.XGBClassifier(**param_dist)\n",
    "\n",
    "##random search XGB    \n",
    "clf = RandomizedSearchCV(estimator=xgb_model, param_distributions=param_grid, scoring=['roc_auc'], n_iter=100,\n",
    "                         random_state=40, cv=kfolds.split(X_train_2, y_train), refit='roc_auc',error_score=0, return_train_score =True)\n",
    "print(\"Randomized search..\")\n",
    "search_time_start = time.time()\n",
    "clf.fit(X_train_2, np.ravel(y_train))\n",
    "print(\"Randomized search time:\", time.time() - search_time_start)\n",
    "params = clf.best_params_\n",
    "\n",
    "dic=clf.cv_results_\n",
    "\n",
    "params_bst = params\n",
    "params_tbl = pd.DataFrame(columns=list(params_bst.keys()))  \n",
    "params_tbl.loc['0'] = [params_bst[k] for k in params_tbl.columns]\n",
    "\n",
    "print(\"Best score: {}\".format(clf.best_score_))\n",
    "print(\"Best params: \")\n",
    "for param_name in sorted(params_bst.keys()):\n",
    "    print('%s: %r' % (param_name, params_bst[param_name]))\n",
    "\n",
    "params.update(param_dist)\n",
    "xgb_model = xgb.XGBClassifier(**params)"
   ]
  },
  {
   "cell_type": "code",
   "execution_count": 25,
   "metadata": {},
   "outputs": [
    {
     "name": "stderr",
     "output_type": "stream",
     "text": [
      "C:\\Users\\sgupta\\AppData\\Local\\Continuum\\anaconda3\\lib\\site-packages\\ipykernel_launcher.py:1: FutureWarning: The signature of `Series.to_csv` was aligned to that of `DataFrame.to_csv`, and argument 'header' will change its default value from False to True: please pass an explicit value to suppress this warning.\n",
      "  \"\"\"Entry point for launching an IPython kernel.\n"
     ]
    }
   ],
   "source": [
    "pd.Series(dic['mean_train_roc_auc']).to_csv(\"CL_mean_train_roc_auc.csv\")"
   ]
  },
  {
   "cell_type": "code",
   "execution_count": 26,
   "metadata": {},
   "outputs": [
    {
     "name": "stderr",
     "output_type": "stream",
     "text": [
      "C:\\Users\\sgupta\\AppData\\Local\\Continuum\\anaconda3\\lib\\site-packages\\ipykernel_launcher.py:1: FutureWarning: The signature of `Series.to_csv` was aligned to that of `DataFrame.to_csv`, and argument 'header' will change its default value from False to True: please pass an explicit value to suppress this warning.\n",
      "  \"\"\"Entry point for launching an IPython kernel.\n"
     ]
    }
   ],
   "source": [
    "pd.Series(dic['mean_test_roc_auc']).to_csv(\"CL_mean_test_roc_auc_mesdq.csv\")"
   ]
  },
  {
   "cell_type": "code",
   "execution_count": 27,
   "metadata": {},
   "outputs": [],
   "source": [
    "pd.DataFrame(dic['params']).to_csv(\"CL_params.csv\")"
   ]
  },
  {
   "cell_type": "code",
   "execution_count": 26,
   "metadata": {},
   "outputs": [],
   "source": [
    "# colsample_bytree: 0.7000000000000002\n",
    "# learning_rate: 0.016\n",
    "# max_depth: 5\n",
    "# min_child_weight: 10\n",
    "# scale_pos_weight: 5\n",
    "# subsample: 0.6pd.DataFrame(dic['params']).to_csv(\"params_mesdq.csv\")"
   ]
  },
  {
   "cell_type": "code",
   "execution_count": 21,
   "metadata": {},
   "outputs": [],
   "source": [
    "\n",
    "#First Run\n",
    "xgb_model = xgb.XGBClassifier(max_depth =5,\n",
    "              learning_rate= 0.005,\n",
    "              subsample= 0.65,\n",
    "              min_child_weight= 19,\n",
    "              colsample_bytree= 0.7,\n",
    "              scale_pos_weight =11,\n",
    "              objective= 'binary:logistic', \n",
    "              nthread = -1, \n",
    "              n_estimators = 200\n",
    "             )\n",
    "#GINI TRAIN: \n",
    "\n",
    "#GINI Validation: \n",
    "\n",
    "#GINI CV: \n",
    "\n",
    "#Gini Test "
   ]
  },
  {
   "cell_type": "code",
   "execution_count": 22,
   "metadata": {},
   "outputs": [],
   "source": [
    "#if required\n",
    "#%env JOBLIB_TEMP_FOLDER=/tmp"
   ]
  },
  {
   "cell_type": "code",
   "execution_count": 23,
   "metadata": {
    "scrolled": true
   },
   "outputs": [],
   "source": [
    "# cross validation gini\n",
    "def xgboost(X_tr,X_ts,y_tr,y_ts):\n",
    "    auc_cv = cross_val_score(xgb_model, X_tr, np.ravel(y_tr), scoring='roc_auc', cv=kfolds.split(X_tr, np.ravel(y_tr)),\n",
    "                             n_jobs=1)\n",
    "    gini_cv = (2 * np.array(auc_cv) - 1).mean()\n",
    "    evals=[(X_tr, np.ravel(y_tr)),(X_ts, np.ravel(y_ts))]\n",
    "\n",
    "    bst = xgb_model.fit(X_tr, np.ravel(y_tr), eval_metric=\"auc\", eval_set=evals,\n",
    "                        early_stopping_rounds=early_stopping_round   ,  verbose=False)\n",
    "\n",
    "    if early_stopping_round is None:\n",
    "        ypred_train = bst.predict_proba(X_tr)[:, 1]\n",
    "        ypred_test = bst.predict_proba(X_ts)[:, 1]\n",
    "    else:\n",
    "        ypred_train = bst.predict_proba(X_tr, ntree_limit=bst.best_ntree_limit)[:, 1]\n",
    "        ypred_test = bst.predict_proba(X_ts, ntree_limit=bst.best_ntree_limit)[:, 1]\n",
    "\n",
    "    metric_auc_train = metrics.roc_auc_score(y_tr, ypred_train)\n",
    "    metric_auc_test = metrics.roc_auc_score(y_ts, ypred_test)\n",
    "\n",
    "    gini_train = 2 * metric_auc_train - 1\n",
    "    gini_test = 2 * metric_auc_test - 1\n",
    "\n",
    "    return bst,gini_cv,gini_train,gini_test,ypred_train,ypred_test"
   ]
  },
  {
   "cell_type": "code",
   "execution_count": 24,
   "metadata": {},
   "outputs": [
    {
     "name": "stdout",
     "output_type": "stream",
     "text": [
      "GINI TRAIN: 0.4075588682660356\n",
      "\n",
      "GINI Validation: 0.23605596864477274\n",
      "\n",
      "GINI CV: 0.2346284479793909\n"
     ]
    }
   ],
   "source": [
    "## run xgboost\n",
    "bst,gini_cv,gini_train,gini_test,ypred_train,ypred_test=xgboost(X_train_2, X_valid_2, y_train, y_valid)\n",
    "\n",
    "##Model performance on sample\n",
    "print(\"GINI TRAIN:\",gini_train )\n",
    "print(\"\\nGINI Validation:\",gini_test )\n",
    "print(\"\\nGINI CV:\",gini_cv )"
   ]
  },
  {
   "cell_type": "code",
   "execution_count": 25,
   "metadata": {},
   "outputs": [
    {
     "data": {
      "text/plain": [
       "Index(['ACTIVITY_VALUE_std', 'month_nunique_DEBIT_1000_Earn', 'mesdq_max',\n",
       "       'month_nunique_GROCERY_1000_Earn', 'ALLOCATED_POINTS_std',\n",
       "       'month_nunique_DEBIT_90_by_1000_Earn',\n",
       "       'ALLOCATED_POINTS_std_GROCERY_1000_Earn',\n",
       "       'ALLOCATED_POINTS_sum_DEBIT_90_by_1000_Earn',\n",
       "       'ALLOCATED_POINTS_mean_E_WALLET_365_Earn', 'ALLOCATED_POINTS_EARN_LAG3',\n",
       "       'ALLOCATED_POINTS_std_E_WALLET_1000_Earn',\n",
       "       'ALLOCATED_POINTS_median_E_WALLET_180_Earn',\n",
       "       'month_nunique_FUEL_1000_Earn',\n",
       "       'ALLOCATED_POINTS_mean_DEBIT_90_by_1000_Earn',\n",
       "       'ALLOCATED_POINTS_max_APPAREL_365_Earn',\n",
       "       'ALLOCATED_POINTS_sum_365_Burn',\n",
       "       'ALLOCATED_POINTS_mean_E_WALLET_180_Earn',\n",
       "       'ALLOCATED_POINTS_max_DEBIT_1000_Earn',\n",
       "       'ALLOCATED_POINTS_mean_E_WALLET_365_by_1000_Earn',\n",
       "       'ALLOCATED_POINTS_sum_DEBIT_1000_Earn',\n",
       "       'ACTIVITY_VALUE_median_GROCERY_1000_Earn',\n",
       "       'ALLOCATED_POINTS_sum_180_Burn',\n",
       "       'ACTIVITY_VALUE_median_E_WALLET_180_Earn'],\n",
       "      dtype='object')"
      ]
     },
     "execution_count": 25,
     "metadata": {},
     "output_type": "execute_result"
    }
   ],
   "source": [
    "X_train_2.columns"
   ]
  },
  {
   "cell_type": "code",
   "execution_count": 26,
   "metadata": {},
   "outputs": [
    {
     "name": "stdout",
     "output_type": "stream",
     "text": [
      "Gini Test 0.189860756692672\n"
     ]
    }
   ],
   "source": [
    "#ypred_test = bst.predict_proba(X_test_2.drop(columns=['act','pred']), ntree_limit=bst.best_ntree_limit)[:, 1]\n",
    "ypred_test = bst.predict_proba(X_test_2, ntree_limit=bst.best_ntree_limit)[:, 1]\n",
    "metric_auc_test = metrics.roc_auc_score(y_test, ypred_test)\n",
    "print(\"Gini Test\",metric_auc_test*2-1)"
   ]
  },
  {
   "cell_type": "code",
   "execution_count": 27,
   "metadata": {
    "scrolled": true
   },
   "outputs": [],
   "source": [
    "importance_tbl = fimportances(bst, X_train_2.columns)\n",
    "importance_tbl.to_csv(r\"xgb_cl_fstq_varimp.csv\",index=0)"
   ]
  },
  {
   "cell_type": "code",
   "execution_count": 28,
   "metadata": {
    "scrolled": true
   },
   "outputs": [
    {
     "data": {
      "text/html": [
       "<div>\n",
       "<style scoped>\n",
       "    .dataframe tbody tr th:only-of-type {\n",
       "        vertical-align: middle;\n",
       "    }\n",
       "\n",
       "    .dataframe tbody tr th {\n",
       "        vertical-align: top;\n",
       "    }\n",
       "\n",
       "    .dataframe thead th {\n",
       "        text-align: right;\n",
       "    }\n",
       "</style>\n",
       "<table border=\"1\" class=\"dataframe\">\n",
       "  <thead>\n",
       "    <tr style=\"text-align: right;\">\n",
       "      <th></th>\n",
       "      <th>predictor</th>\n",
       "      <th>importance</th>\n",
       "    </tr>\n",
       "  </thead>\n",
       "  <tbody>\n",
       "    <tr>\n",
       "      <th>0</th>\n",
       "      <td>ACTIVITY_VALUE_std</td>\n",
       "      <td>0.075110</td>\n",
       "    </tr>\n",
       "    <tr>\n",
       "      <th>1</th>\n",
       "      <td>month_nunique_DEBIT_1000_Earn</td>\n",
       "      <td>0.069328</td>\n",
       "    </tr>\n",
       "    <tr>\n",
       "      <th>2</th>\n",
       "      <td>ALLOCATED_POINTS_sum_180_Burn</td>\n",
       "      <td>0.053914</td>\n",
       "    </tr>\n",
       "    <tr>\n",
       "      <th>3</th>\n",
       "      <td>mesdq_max</td>\n",
       "      <td>0.052465</td>\n",
       "    </tr>\n",
       "    <tr>\n",
       "      <th>4</th>\n",
       "      <td>month_nunique_GROCERY_1000_Earn</td>\n",
       "      <td>0.049512</td>\n",
       "    </tr>\n",
       "    <tr>\n",
       "      <th>5</th>\n",
       "      <td>ALLOCATED_POINTS_sum_DEBIT_90_by_1000_Earn</td>\n",
       "      <td>0.049204</td>\n",
       "    </tr>\n",
       "    <tr>\n",
       "      <th>6</th>\n",
       "      <td>month_nunique_DEBIT_90_by_1000_Earn</td>\n",
       "      <td>0.048626</td>\n",
       "    </tr>\n",
       "    <tr>\n",
       "      <th>7</th>\n",
       "      <td>ALLOCATED_POINTS_max_DEBIT_1000_Earn</td>\n",
       "      <td>0.043997</td>\n",
       "    </tr>\n",
       "    <tr>\n",
       "      <th>8</th>\n",
       "      <td>ALLOCATED_POINTS_mean_E_WALLET_180_Earn</td>\n",
       "      <td>0.043634</td>\n",
       "    </tr>\n",
       "    <tr>\n",
       "      <th>9</th>\n",
       "      <td>ALLOCATED_POINTS_sum_365_Burn</td>\n",
       "      <td>0.043092</td>\n",
       "    </tr>\n",
       "    <tr>\n",
       "      <th>10</th>\n",
       "      <td>ALLOCATED_POINTS_max_APPAREL_365_Earn</td>\n",
       "      <td>0.042332</td>\n",
       "    </tr>\n",
       "    <tr>\n",
       "      <th>11</th>\n",
       "      <td>ALLOCATED_POINTS_EARN_LAG3</td>\n",
       "      <td>0.041189</td>\n",
       "    </tr>\n",
       "    <tr>\n",
       "      <th>12</th>\n",
       "      <td>ALLOCATED_POINTS_median_E_WALLET_180_Earn</td>\n",
       "      <td>0.040394</td>\n",
       "    </tr>\n",
       "    <tr>\n",
       "      <th>13</th>\n",
       "      <td>ALLOCATED_POINTS_std_E_WALLET_1000_Earn</td>\n",
       "      <td>0.039096</td>\n",
       "    </tr>\n",
       "    <tr>\n",
       "      <th>14</th>\n",
       "      <td>ALLOCATED_POINTS_std</td>\n",
       "      <td>0.038710</td>\n",
       "    </tr>\n",
       "    <tr>\n",
       "      <th>15</th>\n",
       "      <td>ALLOCATED_POINTS_mean_DEBIT_90_by_1000_Earn</td>\n",
       "      <td>0.037603</td>\n",
       "    </tr>\n",
       "    <tr>\n",
       "      <th>16</th>\n",
       "      <td>ALLOCATED_POINTS_sum_DEBIT_1000_Earn</td>\n",
       "      <td>0.036996</td>\n",
       "    </tr>\n",
       "    <tr>\n",
       "      <th>17</th>\n",
       "      <td>ALLOCATED_POINTS_mean_E_WALLET_365_Earn</td>\n",
       "      <td>0.036101</td>\n",
       "    </tr>\n",
       "    <tr>\n",
       "      <th>18</th>\n",
       "      <td>ACTIVITY_VALUE_median_GROCERY_1000_Earn</td>\n",
       "      <td>0.035494</td>\n",
       "    </tr>\n",
       "    <tr>\n",
       "      <th>19</th>\n",
       "      <td>ALLOCATED_POINTS_std_GROCERY_1000_Earn</td>\n",
       "      <td>0.034021</td>\n",
       "    </tr>\n",
       "    <tr>\n",
       "      <th>20</th>\n",
       "      <td>ALLOCATED_POINTS_mean_E_WALLET_365_by_1000_Earn</td>\n",
       "      <td>0.032611</td>\n",
       "    </tr>\n",
       "    <tr>\n",
       "      <th>21</th>\n",
       "      <td>ACTIVITY_VALUE_median_E_WALLET_180_Earn</td>\n",
       "      <td>0.029605</td>\n",
       "    </tr>\n",
       "    <tr>\n",
       "      <th>22</th>\n",
       "      <td>month_nunique_FUEL_1000_Earn</td>\n",
       "      <td>0.026965</td>\n",
       "    </tr>\n",
       "  </tbody>\n",
       "</table>\n",
       "</div>"
      ],
      "text/plain": [
       "                                          predictor  importance\n",
       "0                                ACTIVITY_VALUE_std    0.075110\n",
       "1                     month_nunique_DEBIT_1000_Earn    0.069328\n",
       "2                     ALLOCATED_POINTS_sum_180_Burn    0.053914\n",
       "3                                         mesdq_max    0.052465\n",
       "4                   month_nunique_GROCERY_1000_Earn    0.049512\n",
       "5        ALLOCATED_POINTS_sum_DEBIT_90_by_1000_Earn    0.049204\n",
       "6               month_nunique_DEBIT_90_by_1000_Earn    0.048626\n",
       "7              ALLOCATED_POINTS_max_DEBIT_1000_Earn    0.043997\n",
       "8           ALLOCATED_POINTS_mean_E_WALLET_180_Earn    0.043634\n",
       "9                     ALLOCATED_POINTS_sum_365_Burn    0.043092\n",
       "10            ALLOCATED_POINTS_max_APPAREL_365_Earn    0.042332\n",
       "11                       ALLOCATED_POINTS_EARN_LAG3    0.041189\n",
       "12        ALLOCATED_POINTS_median_E_WALLET_180_Earn    0.040394\n",
       "13          ALLOCATED_POINTS_std_E_WALLET_1000_Earn    0.039096\n",
       "14                             ALLOCATED_POINTS_std    0.038710\n",
       "15      ALLOCATED_POINTS_mean_DEBIT_90_by_1000_Earn    0.037603\n",
       "16             ALLOCATED_POINTS_sum_DEBIT_1000_Earn    0.036996\n",
       "17          ALLOCATED_POINTS_mean_E_WALLET_365_Earn    0.036101\n",
       "18          ACTIVITY_VALUE_median_GROCERY_1000_Earn    0.035494\n",
       "19           ALLOCATED_POINTS_std_GROCERY_1000_Earn    0.034021\n",
       "20  ALLOCATED_POINTS_mean_E_WALLET_365_by_1000_Earn    0.032611\n",
       "21          ACTIVITY_VALUE_median_E_WALLET_180_Earn    0.029605\n",
       "22                     month_nunique_FUEL_1000_Earn    0.026965"
      ]
     },
     "execution_count": 28,
     "metadata": {},
     "output_type": "execute_result"
    }
   ],
   "source": [
    "importance_tbl = fimportances(bst, X_train_2.columns)\n",
    "importance_tbl.head(50)"
   ]
  },
  {
   "cell_type": "code",
   "execution_count": 29,
   "metadata": {},
   "outputs": [
    {
     "name": "stderr",
     "output_type": "stream",
     "text": [
      "C:\\Users\\sgupta\\AppData\\Local\\Continuum\\anaconda3\\lib\\site-packages\\ipykernel_launcher.py:4: SettingWithCopyWarning: \n",
      "A value is trying to be set on a copy of a slice from a DataFrame.\n",
      "Try using .loc[row_indexer,col_indexer] = value instead\n",
      "\n",
      "See the caveats in the documentation: http://pandas.pydata.org/pandas-docs/stable/indexing.html#indexing-view-versus-copy\n",
      "  after removing the cwd from sys.path.\n"
     ]
    }
   ],
   "source": [
    "## save the model \n",
    "pickle.dump(bst, open(\"xgb_cl_fstq_wo_hc.mod\", \"wb\"))\n",
    "##Score the dataset\n",
    "outtest=X_test_2;  outtest['pred']=ypred_test ; outtest['act']=y_test ; \n",
    "outtest.to_csv(r\"xgb_cl_fstq_wohc.csv\")"
   ]
  },
  {
   "cell_type": "code",
   "execution_count": 30,
   "metadata": {},
   "outputs": [
    {
     "name": "stdout",
     "output_type": "stream",
     "text": [
      "[[19359   996]\n",
      " [  438    46]]\n",
      "\n",
      " Log Loss is : 0.5383126306278679\n",
      "Average precision-recall score: 0.03\n"
     ]
    },
    {
     "data": {
      "image/png": "[encoded data removed]",
      "text/plain": [
       "<Figure size 432x288 with 1 Axes>"
      ]
     },
     "metadata": {
      "needs_background": "light"
     },
     "output_type": "display_data"
    }
   ],
   "source": [
    "#metrics calculation\n",
    "cutoff=np.percentile(X_test['HC_SCORE'],95)\n",
    "ypred=pd.Series(X_test['HC_SCORE']).apply(lambda x : 1 if x >cutoff else 0 )\n",
    "#ypred=pd.Series(ypred_test).apply(lambda x : 1 if x > 0.48631722 else 0 )\n",
    "\n",
    "print(confusion_matrix(y_test, ypred))\n",
    "pd.Series(ypred_test).plot.hist(bins=10, rwidth=0.9 ,color='#607c8e')\n",
    "\n",
    "print(\"\\n Log Loss is :\",log_loss(y_test, ypred_test))\n",
    "print('Average precision-recall score: {0:0.2f}'.format(average_precision_score(y_test, ypred_test)))"
   ]
  },
  {
   "cell_type": "code",
   "execution_count": 31,
   "metadata": {},
   "outputs": [],
   "source": [
    "# retrieve performance metrics\n",
    "results = bst.evals_result()\n",
    "epochs = len(results['validation_0']['auc'])\n",
    "x_axis = range(0, epochs)"
   ]
  },
  {
   "cell_type": "code",
   "execution_count": 32,
   "metadata": {},
   "outputs": [
    {
     "data": {
      "text/plain": [
       "Text(0.5, 1.0, 'XGBoost AUC')"
      ]
     },
     "execution_count": 32,
     "metadata": {},
     "output_type": "execute_result"
    },
    {
     "data": {
      "image/png": "[encoded data removed]",
      "text/plain": [
       "<Figure size 432x288 with 1 Axes>"
      ]
     },
     "metadata": {
      "needs_background": "light"
     },
     "output_type": "display_data"
    }
   ],
   "source": [
    "# plot classification error\n",
    "fig, ax = plt.subplots()\n",
    "ax.plot(x_axis, results['validation_0']['auc'], label='train')\n",
    "ax.plot(x_axis, results['validation_1']['auc'], label='test')\n",
    "\n",
    "ax.legend()\n",
    "plt.ylabel('XGB AUC')\n",
    "plt.title('XGBoost AUC')"
   ]
  },
  {
   "cell_type": "code",
   "execution_count": 33,
   "metadata": {},
   "outputs": [
    {
     "data": {
      "image/png": "[encoded data removed]",
      "text/plain": [
       "<Figure size 432x288 with 1 Axes>"
      ]
     },
     "metadata": {
      "needs_background": "light"
     },
     "output_type": "display_data"
    }
   ],
   "source": [
    "# Compute micro-average ROC curve and ROC area\n",
    "fpr, tpr, thresholds = roc_curve(y_test.iloc[:, 0].ravel(), ypred_test.ravel())\n",
    "roc_auc = auc(fpr, tpr)\n",
    "\n",
    "plt.figure()\n",
    "lw = 1\n",
    "plt.plot(fpr, tpr, color='darkorange',         lw=lw, label='ROC curve (area = %0.2f)' % roc_auc)\n",
    "plt.plot([0, 1], [0, 1], color='navy', lw=lw, linestyle='--')\n",
    "plt.xlim([0.0, 1.0])\n",
    "plt.ylim([0.0, 1.05])\n",
    "plt.xlabel('False Positive Rate')\n",
    "plt.ylabel('True Positive Rate')\n",
    "plt.title('Receiver operating characteristic example')\n",
    "plt.legend(loc=\"lower right\")\n",
    "plt.show()"
   ]
  },
  {
   "cell_type": "code",
   "execution_count": 34,
   "metadata": {},
   "outputs": [
    {
     "data": {
      "text/plain": [
       "[]"
      ]
     },
     "execution_count": 34,
     "metadata": {},
     "output_type": "execute_result"
    },
    {
     "data": {
      "image/png": "[encoded data removed]",
      "text/plain": [
       "<Figure size 432x288 with 1 Axes>"
      ]
     },
     "metadata": {
      "needs_background": "light"
     },
     "output_type": "display_data"
    }
   ],
   "source": [
    "i = np.arange(len(tpr)) # index for df\n",
    "roc = pd.DataFrame({'fpr' : pd.Series(fpr, index=i),'tpr' : pd.Series(tpr, index = i), '1-fpr' : pd.Series(1-fpr, index = i), 'tf' : pd.Series(tpr - (1-fpr), index = i), 'thresholds' : pd.Series(thresholds, index = i)})\n",
    "roc.ix[(roc.tf-0).abs().argsort()[:1]]\n",
    "\n",
    "# Plot tpr vs 1-fpr\n",
    "fig, ax = plt.subplots()\n",
    "plt.plot(roc['tpr'])\n",
    "plt.plot(roc['1-fpr'], color = 'red')\n",
    "plt.xlabel('1-False Positive Rate')\n",
    "plt.ylabel('True Positive Rate')\n",
    "plt.title('Receiver operating characteristic')\n",
    "ax.set_xticklabels([])"
   ]
  },
  {
   "cell_type": "code",
   "execution_count": 35,
   "metadata": {},
   "outputs": [
    {
     "name": "stdout",
     "output_type": "stream",
     "text": [
      "\n",
      " Optimal Cut off : 0.41186607\n"
     ]
    }
   ],
   "source": [
    "optimal_idx = np.argmax(tpr - fpr)  ## check it once \n",
    "optimal_threshold = thresholds[optimal_idx]\n",
    "print(\"\\n Optimal Cut off :\",optimal_threshold)"
   ]
  },
  {
   "cell_type": "code",
   "execution_count": 36,
   "metadata": {},
   "outputs": [
    {
     "name": "stdout",
     "output_type": "stream",
     "text": [
      " \n",
      " Min -Max test score: 0.00028829080916565323 \t 0.3394530317701768\n",
      " \n",
      " Min -Max train score: 0.0002892256188921669 \t 0.4294863632786921\n"
     ]
    }
   ],
   "source": [
    "print(\" \\n Min -Max test score:\",test['HC_SCORE'].min(),\"\\t\",test['HC_SCORE'].max())\n",
    "print(\" \\n Min -Max train score:\",train['HC_SCORE'].min(),\"\\t\",train['HC_SCORE'].max())"
   ]
  },
  {
   "cell_type": "code",
   "execution_count": 37,
   "metadata": {
    "scrolled": false
   },
   "outputs": [
    {
     "name": "stdout",
     "output_type": "stream",
     "text": [
      "\n",
      "Total bad : 1587\n",
      "Bad captured in worst category : 17.96%\n",
      "\n",
      "                       HC_SCORE  RISK_FSTQPD30\n",
      "HC_SCORE                                     \n",
      "(-0.000712, 0.00284]  0.001900       0.009069\n",
      "(0.00284, 0.00449]    0.003674       0.016268\n",
      "(0.00449, 0.00634]    0.005394       0.024331\n",
      "(0.00634, 0.00865]    0.007460       0.026346\n",
      "(0.00865, 0.0116]     0.010114       0.026490\n",
      "(0.0116, 0.0158]      0.013661       0.024618\n",
      "(0.0158, 0.0219]      0.018776       0.017276\n",
      "(0.0219, 0.0303]      0.026042       0.018572\n",
      "(0.0303, 0.0434]      0.036294       0.024418\n",
      "(0.0434, 0.429]       0.059605       0.041126\n",
      "                        HC_SCORE  RISK_FSTQPD30\n",
      "HC_SCORE                                       \n",
      "(-0.000712, 0.00284]   13.198643             63\n",
      "(0.00284, 0.00449]     25.519453            113\n",
      "(0.00449, 0.00634]     37.466736            169\n",
      "(0.00634, 0.00865]     51.819023            183\n",
      "(0.00865, 0.0116]      70.249262            184\n",
      "(0.0116, 0.0158]       94.891460            171\n",
      "(0.0158, 0.0219]      130.420543            120\n",
      "(0.0219, 0.0303]      180.888817            129\n",
      "(0.0303, 0.0434]      252.675887            170\n",
      "(0.0434, 0.429]       413.063203            285\n"
     ]
    }
   ],
   "source": [
    "## Bad rates in overall population \n",
    "cd=pd.DataFrame(df[['HC_SCORE','RISK_FSTQPD30']]).sort_values(by=['HC_SCORE'],ascending=False)\n",
    "print(\"\\nTotal bad :\",df['RISK_FSTQPD30'].sum())\n",
    "print(\"Bad captured in worst category :\",'{:,.2%}'.format(cd.groupby(pd.qcut(cd['HC_SCORE'],10,duplicates='drop')).sum()['RISK_FSTQPD30'][-1]/df['RISK_FSTQPD30'].sum()))\n",
    "print(\"\\n\",cd.groupby(pd.qcut(cd['HC_SCORE'],10,duplicates='drop')).mean())\n",
    "print(cd.groupby(pd.qcut(cd['HC_SCORE'],10,duplicates='drop')).sum())"
   ]
  },
  {
   "cell_type": "code",
   "execution_count": 38,
   "metadata": {
    "scrolled": false
   },
   "outputs": [
    {
     "name": "stdout",
     "output_type": "stream",
     "text": [
      "\n",
      "Total bad : 484\n",
      "Bad captured in worst category : 16.74%\n",
      "\n",
      "                       HC_SCORE  RISK_FSTQPD30\n",
      "HC_SCORE                                     \n",
      "(-0.000712, 0.00284]  0.001896       0.008637\n",
      "(0.00284, 0.00452]    0.003689       0.017754\n",
      "(0.00452, 0.00634]    0.005411       0.025912\n",
      "(0.00634, 0.00863]    0.007451       0.024952\n",
      "(0.00863, 0.0116]     0.010160       0.024928\n",
      "(0.0116, 0.0158]      0.013665       0.026910\n",
      "(0.0158, 0.0219]      0.018780       0.017754\n",
      "(0.0219, 0.0301]      0.025957       0.018714\n",
      "(0.0301, 0.0431]      0.036159       0.027831\n",
      "(0.0431, 0.339]       0.058745       0.038868\n",
      "                        HC_SCORE  RISK_FSTQPD30\n",
      "HC_SCORE                                       \n",
      "(-0.000712, 0.00284]    3.950372             18\n",
      "(0.00284, 0.00452]      7.687996             37\n",
      "(0.00452, 0.00634]     11.276430             54\n",
      "(0.00634, 0.00863]     15.528895             52\n",
      "(0.00863, 0.0116]      21.193236             52\n",
      "(0.0116, 0.0158]       28.436982             56\n",
      "(0.0158, 0.0219]       39.138273             37\n",
      "(0.0219, 0.0301]       54.095244             39\n",
      "(0.0301, 0.0431]       75.356255             58\n",
      "(0.0431, 0.339]       122.424605             81\n"
     ]
    }
   ],
   "source": [
    "## Bad rates in overall population \n",
    "cd=pd.DataFrame(test[['HC_SCORE','RISK_FSTQPD30']]).sort_values(by=['HC_SCORE'],ascending=False)\n",
    "print(\"\\nTotal bad :\",test['RISK_FSTQPD30'].sum())\n",
    "print(\"Bad captured in worst category :\",'{:,.2%}'.format(cd.groupby(pd.qcut(cd['HC_SCORE'],10,duplicates='drop')).sum()['RISK_FSTQPD30'][-1]/test['RISK_FSTQPD30'].sum()))\n",
    "print(\"\\n\",cd.groupby(pd.qcut(cd['HC_SCORE'],10,duplicates='drop')).mean())\n",
    "print(cd.groupby(pd.qcut(cd['HC_SCORE'],10,duplicates='drop')).sum())"
   ]
  },
  {
   "cell_type": "code",
   "execution_count": 39,
   "metadata": {
    "scrolled": false
   },
   "outputs": [
    {
     "name": "stdout",
     "output_type": "stream",
     "text": [
      "Bad captured in worst category Partner Score test sample : 14.88%\n",
      "\n",
      "Total bads in test sample: 484\n",
      "                      pred       act\n",
      "pred                                \n",
      "(0.3655, 0.3884]  0.384408  0.012600\n",
      "(0.3884, 0.3953]  0.392429  0.016228\n",
      "(0.3953, 0.4013]  0.398438  0.013436\n",
      "(0.4013, 0.4087]  0.404763  0.017754\n",
      "(0.4087, 0.4134]  0.411534  0.024460\n",
      "(0.4134, 0.4166]  0.414629  0.024976\n",
      "(0.4166, 0.4256]  0.421928  0.023224\n",
      "(0.4256, 0.4267]  0.426533  0.033498\n",
      "(0.4267, 0.4269]  0.426880  0.023148\n",
      "(0.4269, 0.4907]  0.434683  0.034732\n",
      "                         pred  act\n",
      "pred                              \n",
      "(0.3655, 0.3884]   915.275085   30\n",
      "(0.3884, 0.3953]   701.270264   29\n",
      "(0.3953, 0.4013]   830.345520   28\n",
      "(0.4013, 0.4087]   843.526550   37\n",
      "(0.4087, 0.4134]   858.048157   51\n",
      "(0.4134, 0.4166]   863.257751   52\n",
      "(0.4166, 0.4256]   926.553284   51\n",
      "(0.4256, 0.4267]  1642.577637  129\n",
      "(0.4267, 0.4269]    92.206161    5\n",
      "(0.4269, 0.4907]   901.098145   72\n"
     ]
    }
   ],
   "source": [
    "## Bad rates in overall population \n",
    "cdt=pd.DataFrame(outtest[['pred','act']])\n",
    "print(\"Bad captured in worst category Partner Score test sample :\",'{:,.2%}'.format(cdt.groupby(pd.qcut(cdt['pred'],10,duplicates='drop')).sum()['act'][-1]/cdt['act'].sum()))\n",
    "print(\"\\nTotal bads in test sample:\",cdt['act'].sum())\n",
    "print(cdt.groupby(pd.qcut(cdt['pred'],10,duplicates='drop')).mean())\n",
    "print(cdt.groupby(pd.qcut(cdt['pred'],10,duplicates='drop')).sum())"
   ]
  },
  {
   "cell_type": "code",
   "execution_count": 40,
   "metadata": {},
   "outputs": [],
   "source": [
    "## Pillar  approach to combine score\n",
    "hcc_score = 'HC_SCORE'\n",
    "X_pillar_train = pd.DataFrame()\n",
    "X_pillar_test = pd.DataFrame()\n",
    "\n",
    "X_pillar_train[hcc_score]=train['HC_SCORE']; \n",
    "X_pillar_test[hcc_score]=test['HC_SCORE']\n",
    "\n",
    "X_pillar_train[\"XGB_SCORE\"] =  bst.predict_proba(train[selected_vars[0]], ntree_limit=bst.best_ntree_limit)[:, 1]\n",
    "X_pillar_test[\"XGB_SCORE\"]  =  bst.predict_proba(test[selected_vars[0]], ntree_limit=bst.best_ntree_limit)[:, 1]\n",
    "\n",
    "X_pillar_train[\"FSTQ\"] = train['RISK_FSTQPD30']\n",
    "X_pillar_test[\"FSTQ\"] = test['RISK_FSTQPD30']\n",
    "\n",
    "X_train_log = X_pillar_train.loc[pd.notnull(X_pillar_train[hcc_score]),['HC_SCORE','XGB_SCORE']]\n",
    "y_train_log = X_pillar_train.loc[pd.notnull(X_pillar_train[hcc_score]),['FSTQ']]\n",
    "\n",
    "X_test_log = X_pillar_test.loc[pd.notnull(X_pillar_test[hcc_score]),['HC_SCORE','XGB_SCORE']]\n",
    "y_test_log = X_pillar_test.loc[pd.notnull(X_pillar_test[hcc_score]),['FSTQ']]\n",
    "\n",
    "X_train_log = np.log((X_train_log + 1e-10).divide(1 - (X_train_log + 1e-10)))\n",
    "X_test_log = np.log((X_test_log + 1e-10).divide(1 - (X_test_log + 1e-10)))"
   ]
  },
  {
   "cell_type": "code",
   "execution_count": 41,
   "metadata": {
    "scrolled": true
   },
   "outputs": [
    {
     "name": "stderr",
     "output_type": "stream",
     "text": [
      "C:\\Users\\sgupta\\AppData\\Local\\Continuum\\anaconda3\\lib\\site-packages\\sklearn\\linear_model\\logistic.py:432: FutureWarning: Default solver will be changed to 'lbfgs' in 0.22. Specify a solver to silence this warning.\n",
      "  FutureWarning)\n",
      "C:\\Users\\sgupta\\AppData\\Local\\Continuum\\anaconda3\\lib\\site-packages\\sklearn\\linear_model\\logistic.py:1544: UserWarning: 'n_jobs' > 1 does not have any effect when 'solver' is set to 'liblinear'. Got 'n_jobs' = 8.\n",
      "  \" = {}.\".format(effective_n_jobs(self.n_jobs)))\n"
     ]
    }
   ],
   "source": [
    "logreg = LogisticRegression(C=11, n_jobs=cpu)\n",
    "\n",
    "# cross validation gini\n",
    "kfolds = StratifiedKFold(10, random_state=1)\n",
    "auc_cv = cross_val_score(logreg, X_test_log, np.ravel(y_test_log), scoring='roc_auc',\n",
    "                         cv=kfolds.split(X_test_log, np.ravel(y_test_log)), n_jobs=cpu)\n",
    "gini_cv = (2 * np.array(auc_cv) - 1).mean()\n",
    "\n",
    "logreg.fit(X_test_log, np.ravel(y_test_log))\n",
    "log_coef_tbl = pd.DataFrame({'predictor': ['intercept'] + X_test_log.columns.tolist(),\n",
    "                             'coefficient': list(logreg.intercept_) + list(logreg.coef_[0])})\n",
    "log_coef_tbl = log_coef_tbl[['predictor', 'coefficient']]"
   ]
  },
  {
   "cell_type": "code",
   "execution_count": 42,
   "metadata": {},
   "outputs": [
    {
     "data": {
      "text/html": [
       "<div>\n",
       "<style scoped>\n",
       "    .dataframe tbody tr th:only-of-type {\n",
       "        vertical-align: middle;\n",
       "    }\n",
       "\n",
       "    .dataframe tbody tr th {\n",
       "        vertical-align: top;\n",
       "    }\n",
       "\n",
       "    .dataframe thead th {\n",
       "        text-align: right;\n",
       "    }\n",
       "</style>\n",
       "<table border=\"1\" class=\"dataframe\">\n",
       "  <thead>\n",
       "    <tr style=\"text-align: right;\">\n",
       "      <th></th>\n",
       "      <th>predictor</th>\n",
       "      <th>coefficient</th>\n",
       "    </tr>\n",
       "  </thead>\n",
       "  <tbody>\n",
       "    <tr>\n",
       "      <th>0</th>\n",
       "      <td>intercept</td>\n",
       "      <td>-1.098783</td>\n",
       "    </tr>\n",
       "    <tr>\n",
       "      <th>1</th>\n",
       "      <td>HC_SCORE</td>\n",
       "      <td>0.239602</td>\n",
       "    </tr>\n",
       "    <tr>\n",
       "      <th>2</th>\n",
       "      <td>XGB_SCORE</td>\n",
       "      <td>4.591305</td>\n",
       "    </tr>\n",
       "  </tbody>\n",
       "</table>\n",
       "</div>"
      ],
      "text/plain": [
       "   predictor  coefficient\n",
       "0  intercept    -1.098783\n",
       "1   HC_SCORE     0.239602\n",
       "2  XGB_SCORE     4.591305"
      ]
     },
     "execution_count": 42,
     "metadata": {},
     "output_type": "execute_result"
    }
   ],
   "source": [
    "log_coef_tbl"
   ]
  },
  {
   "cell_type": "code",
   "execution_count": 43,
   "metadata": {},
   "outputs": [
    {
     "name": "stdout",
     "output_type": "stream",
     "text": [
      "GINI TRAIN: 0.22972902468782408\n",
      "\n",
      "GINI TEST: 0.3690938760250062\n",
      "\n",
      "GINI CV: 0.2289697416041087\n"
     ]
    }
   ],
   "source": [
    "## Model performance\n",
    "ypred_train_pillar = logreg.predict_proba(X_train_log)[:, 1]\n",
    "metric_auc_train_log = metrics.roc_auc_score(np.ravel(y_train_log), ypred_train_pillar)\n",
    "gini_train_pillar = 2 * metric_auc_train_log - 1\n",
    "ypred_test_pillar = logreg.predict_proba(X_test_log)[:, 1]\n",
    "metric_auc_test_log = metrics.roc_auc_score(np.ravel(y_test_log), ypred_test_pillar)\n",
    "gini_test_pillar = 2 * metric_auc_test_log - 1\n",
    "\n",
    "print(\"GINI TRAIN:\",gini_test_pillar )\n",
    "print(\"\\nGINI TEST:\",gini_train_pillar )\n",
    "print(\"\\nGINI CV:\",gini_cv )"
   ]
  },
  {
   "cell_type": "code",
   "execution_count": 44,
   "metadata": {},
   "outputs": [
    {
     "name": "stderr",
     "output_type": "stream",
     "text": [
      "C:\\Users\\sgupta\\AppData\\Local\\Continuum\\anaconda3\\lib\\site-packages\\ipykernel_launcher.py:1: SettingWithCopyWarning: \n",
      "A value is trying to be set on a copy of a slice from a DataFrame.\n",
      "Try using .loc[row_indexer,col_indexer] = value instead\n",
      "\n",
      "See the caveats in the documentation: http://pandas.pydata.org/pandas-docs/stable/indexing.html#indexing-view-versus-copy\n",
      "  \"\"\"Entry point for launching an IPython kernel.\n"
     ]
    }
   ],
   "source": [
    "outtest1=X_test;  outtest1['pred']=ypred_test_pillar ; outtest1['act']=y_test ; \n",
    "outtest1.to_csv(r\"comb_cl_fstq.csv\")"
   ]
  },
  {
   "cell_type": "code",
   "execution_count": 45,
   "metadata": {},
   "outputs": [
    {
     "name": "stdout",
     "output_type": "stream",
     "text": [
      "[[18568  1787]\n",
      " [  396    88]]\n",
      "\n",
      " Log Loss is : 0.5383126306278679\n",
      "Average precision-recall score: 0.03\n"
     ]
    },
    {
     "data": {
      "image/png": "[encoded data removed]",
      "text/plain": [
       "<Figure size 432x288 with 1 Axes>"
      ]
     },
     "metadata": {
      "needs_background": "light"
     },
     "output_type": "display_data"
    }
   ],
   "source": [
    "#metrics calculation\n",
    "cutoff=np.percentile(ypred_test_pillar,91)\n",
    "ypred=pd.Series(ypred_test_pillar).apply(lambda x : 1 if x >cutoff else 0 )\n",
    "\n",
    "print(confusion_matrix(y_test, ypred))\n",
    "pd.Series(ypred_test_pillar).plot.hist(bins=10, rwidth=0.9 ,color='#607c8e')\n",
    "\n",
    "print(\"\\n Log Loss is :\",log_loss(y_test, ypred_test))\n",
    "print('Average precision-recall score: {0:0.2f}'.format(average_precision_score(y_test, ypred_test)))"
   ]
  },
  {
   "cell_type": "code",
   "execution_count": 46,
   "metadata": {},
   "outputs": [
    {
     "name": "stdout",
     "output_type": "stream",
     "text": [
      "\n",
      " AUC for precision-recall : 0.03794681494346688\n"
     ]
    },
    {
     "data": {
      "image/png": "[encoded data removed]",
      "text/plain": [
       "<Figure size 432x288 with 1 Axes>"
      ]
     },
     "metadata": {
      "needs_background": "light"
     },
     "output_type": "display_data"
    },
    {
     "data": {
      "image/png": "[encoded data removed]",
      "text/plain": [
       "<Figure size 432x288 with 1 Axes>"
      ]
     },
     "metadata": {
      "needs_background": "light"
     },
     "output_type": "display_data"
    }
   ],
   "source": [
    "## PRC curve\n",
    "precision, recall, _ = precision_recall_curve(y_test, ypred_test_pillar)\n",
    "\n",
    "step_kwargs = ({'step': 'post'}\n",
    "               #if 'step' in signature(plt.fill_between).parameters\n",
    "               #else {}\n",
    "              )\n",
    "plt.step(recall, precision, color='b', alpha=0.2, where='post')\n",
    "plt.fill_between(recall, precision, alpha=0.2, color='b', **step_kwargs)\n",
    "\n",
    "plt.xlabel('Recall')\n",
    "plt.ylabel('Precision')\n",
    "plt.ylim([0.0, 0.5])\n",
    "plt.xlim([0.0, 0.5])\n",
    "plt.title('2-class Precision-Recall curve: AP={0:0.2f}'.format(average_precision_score(test['RISK_FSTQPD30'], ypred_test_pillar)))\n",
    "\n",
    "# calculate precision-recall AUC\n",
    "auc_pr = auc(recall, precision)\n",
    "print(\"\\n AUC for precision-recall :\",auc_pr)\n",
    "\n",
    "# Compute micro-average ROC curve and ROC area\n",
    "fprhc, tprhc, thresholds = roc_curve(test['RISK_FSTQPD30'], test['HC_SCORE'].ravel())\n",
    "roc_auchc = auc(fprhc, tprhc)\n",
    "\n",
    "fprc, tprc, thresholds = roc_curve(test['RISK_FSTQPD30'], ypred_test_pillar.ravel())\n",
    "roc_aucc = auc(fprc, tprc)\n",
    "\n",
    "plt.figure()\n",
    "lw = 1\n",
    "plt.plot(fprc, tprc, lw=lw, label='ROC Comb (area = %0.2f)' % roc_aucc)\n",
    "plt.plot(fprhc, tprhc, lw=lw, label='ROC HC (area = %0.2f)' % roc_auchc)\n",
    "plt.plot([0, 1], [0, 1], color='navy', lw=lw, linestyle='--')\n",
    "plt.plot(fpr, tpr, lw=lw, label='ROC partner (area = %0.2f)' % roc_auc)\n",
    "plt.xlim([0.0, 1.0])\n",
    "plt.ylim([0.0, 1.05])\n",
    "plt.xlabel('False Positive Rate')\n",
    "plt.ylabel('True Positive Rate')\n",
    "plt.title('Receiver operating characteristic example')\n",
    "plt.legend(loc=\"lower right\")\n",
    "plt.show()"
   ]
  },
  {
   "cell_type": "code",
   "execution_count": 47,
   "metadata": {},
   "outputs": [
    {
     "name": "stdout",
     "output_type": "stream",
     "text": [
      "Bad captured in worst category Partner Score test sample : 20.25%\n",
      "\n",
      "Total bads in test sample: 484\n",
      "                       pred       act\n",
      "pred                                 \n",
      "(0.00397, 0.0129]  0.010956  0.014395\n",
      "(0.0129, 0.0155]   0.014233  0.012476\n",
      "(0.0155, 0.0176]   0.016536  0.013916\n",
      "(0.0176, 0.0196]   0.018605  0.019674\n",
      "(0.0196, 0.0218]   0.020710  0.017754\n",
      "(0.0218, 0.0242]   0.022947  0.019683\n",
      "(0.0242, 0.0268]   0.025459  0.028311\n",
      "(0.0268, 0.0302]   0.028391  0.030710\n",
      "(0.0302, 0.0354]   0.032535  0.028311\n",
      "(0.0354, 0.122]    0.041932  0.047025\n",
      "                        pred  act\n",
      "pred                             \n",
      "(0.00397, 0.0129]  22.833103   30\n",
      "(0.0129, 0.0155]   29.661794   26\n",
      "(0.0155, 0.0176]   34.461946   29\n",
      "(0.0176, 0.0196]   38.773637   41\n",
      "(0.0196, 0.0218]   43.159379   37\n",
      "(0.0218, 0.0242]   47.798570   41\n",
      "(0.0242, 0.0268]   53.056270   59\n",
      "(0.0268, 0.0302]   59.165896   64\n",
      "(0.0302, 0.0354]   67.803088   59\n",
      "(0.0354, 0.122]    87.386702   98\n"
     ]
    }
   ],
   "source": [
    "## Bad rates combined score in overall population \n",
    "cdt=pd.DataFrame(outtest1[['pred','act']])\n",
    "print(\"Bad captured in worst category Partner Score test sample :\",'{:,.2%}'.format(cdt.groupby(pd.qcut(cdt['pred'],10,duplicates='drop')).sum()['act'][-1]/cdt['act'].sum()))\n",
    "print(\"\\nTotal bads in test sample:\",cdt['act'].sum())\n",
    "print(cdt.groupby(pd.qcut(cdt['pred'],10,duplicates='drop')).mean())\n",
    "print(cdt.groupby(pd.qcut(cdt['pred'],10,duplicates='drop')).sum())"
   ]
  }
 ],
 "metadata": {
  "kernelspec": {
   "display_name": "Python 3",
   "language": "python",
   "name": "python3"
  },
  "language_info": {
   "codemirror_mode": {
    "name": "ipython",
    "version": 3
   },
   "file_extension": ".py",
   "mimetype": "text/x-python",
   "name": "python",
   "nbconvert_exporter": "python",
   "pygments_lexer": "ipython3",
   "version": "3.7.3"
  }
 },
 "nbformat": 4,
 "nbformat_minor": 2
}
