{
 "cells": [
  {
   "cell_type": "code",
   "execution_count": 2,
   "metadata": {},
   "outputs": [],
   "source": [
    "import xgboost as xgb\n",
    "import numpy as np\n",
    "import pandas as pd\n",
    "import time\n",
    "import pickle\n",
    "import os\n",
    "from math import log\n",
    "import matplotlib.pyplot as plt\n",
    "\n",
    "import sklearn\n",
    "from sklearn.model_selection import train_test_split, GridSearchCV, RandomizedSearchCV, ParameterGrid,StratifiedKFold, cross_val_score\n",
    "\n",
    "from sklearn import metrics \n",
    "from sklearn.metrics import confusion_matrix, precision_recall_curve, average_precision_score, brier_score_loss, f1_score, log_loss,auc,roc_curve,auc\n",
    "\n",
    "from sklearn.linear_model import LogisticRegression, LogisticRegressionCV\n",
    "from sklearn.ensemble import RandomForestClassifier\n",
    "\n",
    "from sklearn.decomposition import PCA\n",
    "#from sklearn.utils.fixes import signature\n",
    "\n",
    "import warnings\n",
    "warnings.filterwarnings(\"ignore\", category=DeprecationWarning)"
   ]
  },
  {
   "cell_type": "code",
   "execution_count": 3,
   "metadata": {},
   "outputs": [],
   "source": [
    "##read datasets\n",
    "df=pd.read_pickle(r\"cust_final_241019.pkl\")"
   ]
  },
  {
   "cell_type": "code",
   "execution_count": 4,
   "metadata": {},
   "outputs": [
    {
     "data": {
      "text/plain": [
       "CD     135642\n",
       "CL      38454\n",
       "ACL      6941\n",
       "TW        643\n",
       "Name: PRODUCT_GROUP, dtype: int64"
      ]
     },
     "execution_count": 4,
     "metadata": {},
     "output_type": "execute_result"
    }
   ],
   "source": [
    "df.PRODUCT_GROUP.value_counts()"
   ]
  },
  {
   "cell_type": "code",
   "execution_count": 4,
   "metadata": {},
   "outputs": [
    {
     "data": {
      "text/plain": [
       "Index(['MOBILE', 'PRODUCT_GROUP', 'MEMBER_ID_nunique', 'ACTIVITY_ID_nunique',\n",
       "       'ACTIVITY_VALUE_max', 'ACTIVITY_VALUE_min', 'ACTIVITY_VALUE_median',\n",
       "       'ACTIVITY_VALUE_std', 'ACTIVITY_VALUE_mean', 'ALLOCATED_POINTS_max',\n",
       "       ...\n",
       "       'CLIENT_EXI_3M', 'TIME_DECISION_DATE', 'RISK_FPD30', 'RISK_AGRF30',\n",
       "       'RISK_FSPD30', 'RISK_AGRF60', 'RISK_FSTPD30', 'RISK_AGRF90',\n",
       "       'RISK_FSTQPD30', 'RISK_AGRF120'],\n",
       "      dtype='object', length=566)"
      ]
     },
     "execution_count": 4,
     "metadata": {},
     "output_type": "execute_result"
    }
   ],
   "source": [
    "df.columns "
   ]
  },
  {
   "cell_type": "code",
   "execution_count": 5,
   "metadata": {},
   "outputs": [],
   "source": [
    "df.dropna(subset=['HC_SCORE'],inplace=True)"
   ]
  },
  {
   "cell_type": "code",
   "execution_count": 6,
   "metadata": {},
   "outputs": [],
   "source": [
    "#df = df[(df['RISK_AGRF120']== 1) & (((df['PRODUCT_GROUP']=='CD') & (df['CLIENT_EXI_3M']=='Y')) | (df['PRODUCT_GROUP']=='CL')) ]"
   ]
  },
  {
   "cell_type": "code",
   "execution_count": 7,
   "metadata": {},
   "outputs": [],
   "source": [
    "dfcd = df[(df['RISK_AGRF120']== 1) & (((df['PRODUCT_GROUP']=='CD') & (df['CLIENT_EXI_3M']=='Y')))]\n",
    "dfcl = df[(df['RISK_AGRF120']== 1) & (df['PRODUCT_GROUP']=='CL')]"
   ]
  },
  {
   "cell_type": "code",
   "execution_count": 8,
   "metadata": {},
   "outputs": [
    {
     "name": "stdout",
     "output_type": "stream",
     "text": [
      "(49429, 566)\n",
      "(27580, 566)\n"
     ]
    }
   ],
   "source": [
    "print(dfcd.shape)\n",
    "print(dfcl.shape)"
   ]
  },
  {
   "cell_type": "code",
   "execution_count": 9,
   "metadata": {},
   "outputs": [],
   "source": [
    "dfcd.reset_index(inplace=True)\n",
    "dfcl.reset_index(inplace=True)"
   ]
  },
  {
   "cell_type": "code",
   "execution_count": 10,
   "metadata": {},
   "outputs": [],
   "source": [
    "df = pd.concat([dfcd, dfcl], ignore_index=True, sort =False)"
   ]
  },
  {
   "cell_type": "code",
   "execution_count": 11,
   "metadata": {},
   "outputs": [],
   "source": [
    "df.reset_index(inplace=True)"
   ]
  },
  {
   "cell_type": "code",
   "execution_count": 12,
   "metadata": {},
   "outputs": [],
   "source": [
    "del(df['index'])\n",
    "del(df['level_0'])"
   ]
  },
  {
   "cell_type": "code",
   "execution_count": 13,
   "metadata": {},
   "outputs": [
    {
     "data": {
      "text/plain": [
       "<matplotlib.axes._subplots.AxesSubplot at 0x5083668>"
      ]
     },
     "execution_count": 13,
     "metadata": {},
     "output_type": "execute_result"
    },
    {
     "data": {
      "image/png": "[encoded data removed]",
      "text/plain": [
       "<Figure size 432x288 with 1 Axes>"
      ]
     },
     "metadata": {
      "needs_background": "light"
     },
     "output_type": "display_data"
    }
   ],
   "source": [
    "# Check distribution of scores\n",
    "pd.Series(df['HC_SCORE']).plot.hist(bins=10, range=(0,0.08) ,color='#607c8e')"
   ]
  },
  {
   "cell_type": "code",
   "execution_count": 14,
   "metadata": {},
   "outputs": [],
   "source": [
    "pg = df[\"PRODUCT_GROUP\"]\n",
    "X=df.drop(['MOBILE','RISK_AGRF30','RISK_FPD30','RISK_FSPD30','RISK_FSTPD30',\n",
    "           'RISK_FSTQPD30','CLIENT_EXI_3M', 'TIME_DECISION_DATE_max', 'ACTIVITY_DATE_min', 'ACTIVITY_DATE_max', \n",
    "            'TIME_DECISION_DATE'] ,axis=1)\n",
    "Y=df[['RISK_FSTQPD30']]"
   ]
  },
  {
   "cell_type": "code",
   "execution_count": 15,
   "metadata": {},
   "outputs": [
    {
     "name": "stdout",
     "output_type": "stream",
     "text": [
      "HCIN SCORE GINI: 0.17696640370408945\n"
     ]
    }
   ],
   "source": [
    "hcc_score='HC_SCORE'\n",
    "\n",
    "# HCC score Gini         \n",
    "y_hcc = dfcl[hcc_score]\n",
    "df_hcc = pd.DataFrame({'true': np.ravel(dfcl[\"RISK_FSTQPD30\"]), 'predict': y_hcc})\n",
    "df_hcc = df_hcc.loc[pd.notnull(df_hcc['predict']),:]\n",
    "metric_auc_hcc = metrics.roc_auc_score(df_hcc['true'], df_hcc['predict'])\n",
    "gini_hcc_only = 2 * metric_auc_hcc - 1\n",
    "print(\"HCIN SCORE GINI:\" ,gini_hcc_only)"
   ]
  },
  {
   "cell_type": "code",
   "execution_count": 16,
   "metadata": {},
   "outputs": [
    {
     "name": "stdout",
     "output_type": "stream",
     "text": [
      "\n",
      "Event rate in train set : 4.03%\n",
      "\n",
      " Train set shape: (41276, 554)\n",
      "\n",
      "Event rate in test set : 3.05%\n",
      "\n",
      " Test set shape: (9101, 554)\n",
      "\n",
      "Event rate in validation set : 4.06%\n",
      "\n",
      " validation set shape: (10320, 554)\n",
      "\n",
      " Train GINI 0.4025536712063227\n",
      "\n",
      " Test GINI 0.1433589612499051\n",
      "\n",
      " validation GINI 0.39837662548972275\n",
      "\n",
      "Event rate in train set : 3.06%\n",
      "\n",
      " Train set shape: (18478, 567)\n",
      "\n",
      " Train GINI 0.17184296370510577\n",
      "\n",
      "Event rate in test set : 2.97%\n",
      "\n",
      " test set shape: (9102, 567)\n",
      "\n",
      " test GINI 0.1879554146537843\n"
     ]
    }
   ],
   "source": [
    "# split data into train and test sets\n",
    "seed = 25522\n",
    "test_size = 0.33\n",
    "X_train, X_test, y_train, y_test = train_test_split(X, Y, test_size=test_size, random_state=seed,stratify = pg)\n",
    "\n",
    "X_train, X_valid, y_train, y_valid = train_test_split(X_train, y_train, test_size=0.2, random_state=seed)\n",
    "\n",
    "y_test = y_test[X_test[\"PRODUCT_GROUP\"]=='CL']\n",
    "X_test = X_test[X_test[\"PRODUCT_GROUP\"]=='CL']\n",
    "\n",
    "X_valid.drop(columns= \"PRODUCT_GROUP\",inplace=True)\n",
    "X_train.drop(columns= \"PRODUCT_GROUP\",inplace=True)\n",
    "X_test.drop(columns= \"PRODUCT_GROUP\",inplace=True)\n",
    "# X_train.drop('UW_SC',axis=1,inplace=True) \n",
    "# X_test.drop('UW_SC',axis=1,inplace=True) \n",
    "\n",
    "##event rate\n",
    "print(\"\\nEvent rate in train set :\", '{:,.2%}'.format(sum(y_train.iloc[:,0]) / len(y_train.iloc[:,0])))\n",
    "print(\"\\n Train set shape:\",X_train.shape)\n",
    "print(\"\\nEvent rate in test set :\", '{:,.2%}'.format(sum(y_test.iloc[:,0]) / len(y_test.iloc[:,0])))\n",
    "print(\"\\n Test set shape:\",X_test.shape)\n",
    "print(\"\\nEvent rate in validation set :\", '{:,.2%}'.format(sum(y_valid.iloc[:,0]) / len(y_valid.iloc[:,0])))\n",
    "print(\"\\n validation set shape:\",X_valid.shape)\n",
    "print(\"\\n Train GINI\",  metrics.roc_auc_score(y_train, X_train['HC_SCORE'])*2 -1)\n",
    "print(\"\\n Test GINI\",  metrics.roc_auc_score(y_test, X_test['HC_SCORE'])*2 -1)\n",
    "print(\"\\n validation GINI\",  metrics.roc_auc_score(y_valid, X_valid['HC_SCORE'])*2 -1)\n",
    "\n",
    "## fecth original test data\n",
    "train,test = train_test_split(dfcl, test_size=test_size, random_state=seed)\n",
    "print(\"\\nEvent rate in train set :\", '{:,.2%}'.format(sum(train['RISK_FSTQPD30']) / len(train.iloc[:,0])))\n",
    "print(\"\\n Train set shape:\",train.shape)\n",
    "print(\"\\n Train GINI\",  metrics.roc_auc_score(train['RISK_FSTQPD30'], train['HC_SCORE'])*2 -1)\n",
    "\n",
    "print(\"\\nEvent rate in test set :\", '{:,.2%}'.format(sum(test['RISK_FSTQPD30']) / len(test.iloc[:,0])))\n",
    "print(\"\\n test set shape:\",test.shape)\n",
    "print(\"\\n test GINI\",  metrics.roc_auc_score(test['RISK_FSTQPD30'], test['HC_SCORE'])*2 -1)"
   ]
  },
  {
   "cell_type": "code",
   "execution_count": 17,
   "metadata": {},
   "outputs": [],
   "source": [
    "X_test_pkl = X_test\n",
    "X_test_pkl['RISK_FSTQPD30'] = y_test\n",
    "X_test_pkl.to_pickle(\"clx\\\\pillar_test_set.pkl\")"
   ]
  },
  {
   "cell_type": "code",
   "execution_count": 18,
   "metadata": {},
   "outputs": [],
   "source": [
    "## Variable importance\n",
    "def fimportances(xc, predictors):\n",
    "    importances = pd.DataFrame({'predictor': predictors, 'importance': xc.feature_importances_})\n",
    "    importances = importances[importances['importance'] > 0]\n",
    "    importances.sort_values(by='importance', ascending=False, inplace=True)\n",
    "    importances.reset_index(inplace=True, drop=True)\n",
    "    importances = importances[['predictor', 'importance']]\n",
    "    return importances"
   ]
  },
  {
   "cell_type": "code",
   "execution_count": 19,
   "metadata": {},
   "outputs": [],
   "source": [
    "xgb_model = xgb.XGBClassifier(max_depth = 3,\n",
    "              learning_rate= 0.01,\n",
    "              subsample= 0.6,\n",
    "              min_child_weight= 10,\n",
    "              colsample_bytree= 0.6,\n",
    "              scale_pos_weight =25,\n",
    "              objective= 'binary:logistic', \n",
    "              nthread = -1, \n",
    "              n_estimators = 200              \n",
    "              )\n",
    "\n",
    "evals=[(X_train.drop(columns='HC_SCORE'), np.ravel(y_train)),(X_valid.drop(columns='HC_SCORE'), np.ravel(y_valid))]\n",
    "\n",
    "bst = xgb_model.fit(X_train.drop(columns='HC_SCORE'), np.ravel(y_train), eval_metric=\"auc\", eval_set=evals,\n",
    "                    early_stopping_rounds=40   ,  verbose=False)"
   ]
  },
  {
   "cell_type": "code",
   "execution_count": 20,
   "metadata": {},
   "outputs": [],
   "source": [
    "imp = fimportances(bst,X_train.drop(columns='HC_SCORE').columns)"
   ]
  },
  {
   "cell_type": "code",
   "execution_count": 21,
   "metadata": {},
   "outputs": [
    {
     "name": "stdout",
     "output_type": "stream",
     "text": [
      "Columns Remaining : 152 , gini_train: 0.290155,gini_test: 0.150103 \n",
      "Columns Remaining : 134 , gini_train: 0.289468,gini_test: 0.145060 \n",
      "Columns Remaining : 121 , gini_train: 0.291478,gini_test: 0.141970 \n",
      "Columns Remaining : 111 , gini_train: 0.318020,gini_test: 0.155113 \n",
      "Columns Remaining : 109 , gini_train: 0.230339,gini_test: 0.155266 \n",
      "Columns Remaining : 89 , gini_train: 0.305097,gini_test: 0.148103 \n",
      "Columns Remaining : 87 , gini_train: 0.226877,gini_test: 0.149509 \n",
      "Columns Remaining : 76 , gini_train: 0.272816,gini_test: 0.161012 \n",
      "Columns Remaining : 74 , gini_train: 0.277252,gini_test: 0.144433 \n",
      "Columns Remaining : 70 , gini_train: 0.236418,gini_test: 0.151279 \n",
      "Columns Remaining : 63 , gini_train: 0.262169,gini_test: 0.165701 \n",
      "Columns Remaining : 60 , gini_train: 0.227051,gini_test: 0.163727 \n",
      "Columns Remaining : 56 , gini_train: 0.277676,gini_test: 0.142525 \n",
      "Columns Remaining : 54 , gini_train: 0.254513,gini_test: 0.143954 \n",
      "Columns Remaining : 52 , gini_train: 0.226549,gini_test: 0.143922 \n",
      "Columns Remaining : 47 , gini_train: 0.277649,gini_test: 0.149943 \n",
      "Columns Remaining : 44 , gini_train: 0.277881,gini_test: 0.147739 \n",
      "Columns Remaining : 42 , gini_train: 0.285329,gini_test: 0.148974 \n",
      "Columns Remaining : 40 , gini_train: 0.240860,gini_test: 0.151790 \n",
      "Columns Remaining : 37 , gini_train: 0.234606,gini_test: 0.145141 \n",
      "Columns Remaining : 35 , gini_train: 0.243828,gini_test: 0.156164 \n",
      "Columns Remaining : 32 , gini_train: 0.266558,gini_test: 0.150176 \n",
      "Columns Remaining : 30 , gini_train: 0.260222,gini_test: 0.156464 \n",
      "Columns Remaining : 27 , gini_train: 0.267484,gini_test: 0.152287 \n",
      "Columns Remaining : 25 , gini_train: 0.260060,gini_test: 0.142168 \n",
      "Columns Remaining : 23 , gini_train: 0.266737,gini_test: 0.149050 \n",
      "Columns Remaining : 21 , gini_train: 0.293778,gini_test: 0.151559 \n",
      "Columns Remaining : 19 , gini_train: 0.275639,gini_test: 0.154561 \n",
      "Columns Remaining : 17 , gini_train: 0.271831,gini_test: 0.154720 \n",
      "Columns Remaining : 15 , gini_train: 0.227569,gini_test: 0.148211 \n",
      "Columns Remaining : 13 , gini_train: 0.248343,gini_test: 0.143204 \n",
      "Columns Remaining : 11 , gini_train: 0.213530,gini_test: 0.137964 \n",
      "Columns Remaining : 9 , gini_train: 0.200587,gini_test: 0.127748 \n",
      "Columns Remaining : 7 , gini_train: 0.201247,gini_test: 0.133177 \n",
      "Columns Remaining : 5 , gini_train: 0.189073,gini_test: 0.120436 \n",
      "Columns Remaining : 3 , gini_train: 0.192771,gini_test: 0.119027 \n",
      "Columns Remaining : 1 , gini_train: 0.036587,gini_test: 0.017455 \n"
     ]
    }
   ],
   "source": [
    "bst1 = bst\n",
    "X_train_1 = X_train.drop(columns='HC_SCORE')\n",
    "X_valid_1 = X_valid.drop(columns='HC_SCORE')\n",
    "select_X_train = X_train_1\n",
    "\n",
    "dic_imp = {\"n\":[imp.shape[0]],\"Gini Train\":[0],\"Gini Test\":[0],\"Predictors\":[list(imp['predictor'])]}\n",
    "\n",
    "while(select_X_train.shape[1] > 1):\n",
    "    select_X_train = X_train_1[list(imp['predictor'])[:-2]]\n",
    "    select_X_valid = X_valid_1[list(imp['predictor'])[:-2]]\n",
    "    xgb_model = xgb.XGBClassifier(max_depth = 3,\n",
    "              learning_rate= 0.01,\n",
    "              subsample= 0.6,\n",
    "              min_child_weight= 10,\n",
    "              colsample_bytree= 0.6,\n",
    "              scale_pos_weight =25,\n",
    "              objective= 'binary:logistic', \n",
    "              nthread = -1, \n",
    "              n_estimators = 200              \n",
    "              )\n",
    "\n",
    "    evals=[(select_X_train, np.ravel(y_train)),(select_X_valid, np.ravel(y_valid))]\n",
    "\n",
    "    bst = xgb_model.fit(select_X_train, np.ravel(y_train), eval_metric=\"auc\", eval_set=evals,\n",
    "                        early_stopping_rounds=40   ,  verbose=False)\n",
    "    \n",
    "    ypred_train = bst.predict_proba(select_X_train)[:, 1]\n",
    "    ypred_test  = bst.predict_proba(select_X_valid)[:, 1]\n",
    "    \n",
    "    metric_auc_train = metrics.roc_auc_score(y_train, ypred_train)\n",
    "    metric_auc_test = metrics.roc_auc_score(y_valid, ypred_test)\n",
    "\n",
    "    gini_train = 2 * metric_auc_train - 1\n",
    "    gini_test = 2 * metric_auc_test - 1\n",
    "    \n",
    "    print(\"Columns Remaining : %d , gini_train: %f,gini_test: %f \"%(select_X_train.shape[1],gini_train,gini_test))\n",
    "    \n",
    "    dic_imp['n'].append(imp.shape[0])\n",
    "    dic_imp['Gini Train'].append(gini_train)\n",
    "    dic_imp['Gini Test'].append(gini_test)\n",
    "    dic_imp['Predictors'].append(list(imp['predictor']))\n",
    "    \n",
    "    imp = fimportances(bst,select_X_train.columns)"
   ]
  },
  {
   "cell_type": "code",
   "execution_count": 22,
   "metadata": {},
   "outputs": [],
   "source": [
    "df_imp =pd.DataFrame(dic_imp)"
   ]
  },
  {
   "cell_type": "code",
   "execution_count": 23,
   "metadata": {},
   "outputs": [
    {
     "data": {
      "text/plain": [
       "[['ACTIVITY_DATE_nunique_E_WALLET_180_Burn',\n",
       "  'mesdq_max',\n",
       "  'ALLOCATED_POINTS_mean_E_WALLET_180_by_1000_Burn',\n",
       "  'month_nunique_E_WALLET_180_by_1000_Burn',\n",
       "  'ACTIVITY_VALUE_mean_FUEL_1000_Earn',\n",
       "  'ACTIVITY_ID_count_E_WALLET_180_by_1000_Burn',\n",
       "  'MOB',\n",
       "  'month_nunique_E_WALLET_180_Burn',\n",
       "  'ACTIVITY_VALUE_sum_FUEL_365_by_1000_Earn',\n",
       "  'ALLOCATED_POINTS_sum_E_WALLET_180_by_1000_Burn',\n",
       "  'month_nunique_GROCERY_1000_Earn',\n",
       "  'ACTIVITY_VALUE_median_FUEL_1000_Earn',\n",
       "  'ALLOCATED_POINTS_min_E_WALLET_365_Burn',\n",
       "  'ALLOCATED_POINTS_sum_FUEL_1000_Earn',\n",
       "  'month_nunique_E_WALLET_180_by_1000_Earn',\n",
       "  'ACTIVITY_DATE_nunique_DEBIT_365_Earn',\n",
       "  'month_nunique_DEBIT_1000_Earn',\n",
       "  'ALLOCATED_POINTS_mean_FUEL_365_by_1000_Earn',\n",
       "  'ACTIVITY_VALUE_sum_GROCERY_180_by_1000_Earn',\n",
       "  'ALLOCATED_POINTS_sum_FUEL_365_by_1000_Earn',\n",
       "  'ALLOCATED_POINTS_min_E_WALLET_180_Burn',\n",
       "  'ACTIVITY_ID_count_FUEL_365_by_1000_Earn',\n",
       "  'ALLOCATED_POINTS_EARN_LAG3',\n",
       "  'ALLOCATED_POINTS_max_DEBIT_365_Earn',\n",
       "  'ALLOCATED_POINTS_median_FUEL_1000_Earn',\n",
       "  'ACTIVITY_VALUE_std',\n",
       "  'ALLOCATED_POINTS_sum_GROCERY_90_by_1000_Earn',\n",
       "  'ALLOCATED_POINTS_sum_E_WALLET_180_Burn',\n",
       "  'ACTIVITY_VALUE_median_E_WALLET_1000_Earn',\n",
       "  'ALLOCATED_POINTS_max_APPAREL_365_Earn',\n",
       "  'ALLOCATED_POINTS_sum_GROCERY_180_by_1000_Earn',\n",
       "  'ACTIVITY_VALUE_std_E_WALLET_1000_Earn',\n",
       "  'ACTIVITY_ID_count_GROCERY_180_by_1000_Earn',\n",
       "  'ALLOCATED_POINTS_max_DEBIT_1000_Earn',\n",
       "  'ALLOCATED_POINTS_std_DEBIT_1000_Earn',\n",
       "  'ACTIVITY_VALUE_median',\n",
       "  'ALLOCATED_POINTS_sum_DEBIT_1000_Earn',\n",
       "  'ALLOCATED_POINTS_EARN_LAG1',\n",
       "  'ALLOCATED_POINTS_sum_365_Earn_by_Burn',\n",
       "  'ALLOCATED_POINTS_EARN_LAG2',\n",
       "  'ALLOCATED_POINTS_sum_1000_Earn_by_Burn',\n",
       "  'ALLOCATED_POINTS_sum_GROCERY_365_by_1000_Earn']]"
      ]
     },
     "execution_count": 23,
     "metadata": {},
     "output_type": "execute_result"
    }
   ],
   "source": [
    "list(df_imp[df_imp['n']==42][\"Predictors\"])"
   ]
  },
  {
   "cell_type": "code",
   "execution_count": 24,
   "metadata": {},
   "outputs": [],
   "source": [
    "selected_vars = list(df_imp[df_imp['n']==42][\"Predictors\"])"
   ]
  },
  {
   "cell_type": "code",
   "execution_count": 25,
   "metadata": {},
   "outputs": [
    {
     "data": {
      "text/plain": [
       "[['ACTIVITY_DATE_nunique_E_WALLET_180_Burn',\n",
       "  'mesdq_max',\n",
       "  'ALLOCATED_POINTS_mean_E_WALLET_180_by_1000_Burn',\n",
       "  'month_nunique_E_WALLET_180_by_1000_Burn',\n",
       "  'ACTIVITY_VALUE_mean_FUEL_1000_Earn',\n",
       "  'ACTIVITY_ID_count_E_WALLET_180_by_1000_Burn',\n",
       "  'MOB',\n",
       "  'month_nunique_E_WALLET_180_Burn',\n",
       "  'ACTIVITY_VALUE_sum_FUEL_365_by_1000_Earn',\n",
       "  'ALLOCATED_POINTS_sum_E_WALLET_180_by_1000_Burn',\n",
       "  'month_nunique_GROCERY_1000_Earn',\n",
       "  'ACTIVITY_VALUE_median_FUEL_1000_Earn',\n",
       "  'ALLOCATED_POINTS_min_E_WALLET_365_Burn',\n",
       "  'ALLOCATED_POINTS_sum_FUEL_1000_Earn',\n",
       "  'month_nunique_E_WALLET_180_by_1000_Earn',\n",
       "  'ACTIVITY_DATE_nunique_DEBIT_365_Earn',\n",
       "  'month_nunique_DEBIT_1000_Earn',\n",
       "  'ALLOCATED_POINTS_mean_FUEL_365_by_1000_Earn',\n",
       "  'ACTIVITY_VALUE_sum_GROCERY_180_by_1000_Earn',\n",
       "  'ALLOCATED_POINTS_sum_FUEL_365_by_1000_Earn',\n",
       "  'ALLOCATED_POINTS_min_E_WALLET_180_Burn',\n",
       "  'ACTIVITY_ID_count_FUEL_365_by_1000_Earn',\n",
       "  'ALLOCATED_POINTS_EARN_LAG3',\n",
       "  'ALLOCATED_POINTS_max_DEBIT_365_Earn',\n",
       "  'ALLOCATED_POINTS_median_FUEL_1000_Earn',\n",
       "  'ACTIVITY_VALUE_std',\n",
       "  'ALLOCATED_POINTS_sum_GROCERY_90_by_1000_Earn',\n",
       "  'ALLOCATED_POINTS_sum_E_WALLET_180_Burn',\n",
       "  'ACTIVITY_VALUE_median_E_WALLET_1000_Earn',\n",
       "  'ALLOCATED_POINTS_max_APPAREL_365_Earn',\n",
       "  'ALLOCATED_POINTS_sum_GROCERY_180_by_1000_Earn',\n",
       "  'ACTIVITY_VALUE_std_E_WALLET_1000_Earn',\n",
       "  'ACTIVITY_ID_count_GROCERY_180_by_1000_Earn',\n",
       "  'ALLOCATED_POINTS_max_DEBIT_1000_Earn',\n",
       "  'ALLOCATED_POINTS_std_DEBIT_1000_Earn',\n",
       "  'ACTIVITY_VALUE_median',\n",
       "  'ALLOCATED_POINTS_sum_DEBIT_1000_Earn',\n",
       "  'ALLOCATED_POINTS_EARN_LAG1',\n",
       "  'ALLOCATED_POINTS_sum_365_Earn_by_Burn',\n",
       "  'ALLOCATED_POINTS_EARN_LAG2',\n",
       "  'ALLOCATED_POINTS_sum_1000_Earn_by_Burn',\n",
       "  'ALLOCATED_POINTS_sum_GROCERY_365_by_1000_Earn']]"
      ]
     },
     "execution_count": 25,
     "metadata": {},
     "output_type": "execute_result"
    }
   ],
   "source": [
    "selected_vars"
   ]
  },
  {
   "cell_type": "code",
   "execution_count": 26,
   "metadata": {},
   "outputs": [
    {
     "name": "stdout",
     "output_type": "stream",
     "text": [
      "\n",
      " Train shape: (41276, 42) \n",
      " Test shape: (9101, 42) \n",
      " Validation shape: (10320, 42)\n"
     ]
    }
   ],
   "source": [
    "X_train_2=X_train[selected_vars[0]]\n",
    "X_test_2=X_test[selected_vars[0]]\n",
    "X_valid_2=X_valid[selected_vars[0]]\n",
    "\n",
    "\n",
    "print(\"\\n Train shape:\",X_train_2.shape,\"\\n Test shape:\",X_test_2.shape,\"\\n Validation shape:\",X_valid_2.shape)"
   ]
  },
  {
   "cell_type": "code",
   "execution_count": 27,
   "metadata": {},
   "outputs": [],
   "source": [
    "# set model parameters \n",
    "missing_value=None; cpu=-1; early_stopping_round=40; split_random_state=None\n",
    "kfolds = StratifiedKFold(6, random_state=1)"
   ]
  },
  {
   "cell_type": "code",
   "execution_count": 74,
   "metadata": {
    "scrolled": true
   },
   "outputs": [
    {
     "name": "stdout",
     "output_type": "stream",
     "text": [
      "Randomized search..\n",
      "Randomized search time: 655.9290030002594\n",
      "Best score: 0.5995116475577525\n",
      "Best params: \n",
      "colsample_bytree: 0.7000000000000002\n",
      "learning_rate: 0.016\n",
      "max_depth: 5\n",
      "min_child_weight: 10\n",
      "scale_pos_weight: 5\n",
      "subsample: 0.6\n"
     ]
    }
   ],
   "source": [
    "## XGB model##\n",
    "param_grid = {'max_depth': list(range(1, 6)),\n",
    "              'learning_rate': np.arange(0.001, 0.02, 0.001),\n",
    "              'subsample': np.arange(0.4, 0.7,0.05),\n",
    "              'min_child_weight': np.arange(1, 25, 3),\n",
    "              'colsample_bytree': np.arange(0.5, 0.75, 0.05),\n",
    "              'scale_pos_weight' :np.arange(5, 40, 2)\n",
    "            }\n",
    "\n",
    "if X_train_2.shape[1] == 1:\n",
    "    param_grid['colsample_bytree'] = [1]\n",
    "    \n",
    "param_dist = {'objective': 'binary:logistic', 'nthread': cpu, 'n_estimators': 200}\n",
    "xgb_model = xgb.XGBClassifier(**param_dist)\n",
    "\n",
    "##random search XGB    \n",
    "clf = RandomizedSearchCV(estimator=xgb_model, param_distributions=param_grid, scoring=['roc_auc'], n_iter=100,\n",
    "                         random_state=40, cv=kfolds.split(X_train_2, y_train), refit='roc_auc',error_score=0, return_train_score =True)\n",
    "print(\"Randomized search..\")\n",
    "search_time_start = time.time()\n",
    "clf.fit(X_train_2, np.ravel(y_train))\n",
    "print(\"Randomized search time:\", time.time() - search_time_start)\n",
    "params = clf.best_params_\n",
    "\n",
    "dic=clf.cv_results_\n",
    "\n",
    "params_bst = params\n",
    "params_tbl = pd.DataFrame(columns=list(params_bst.keys()))  \n",
    "params_tbl.loc['0'] = [params_bst[k] for k in params_tbl.columns]\n",
    "\n",
    "print(\"Best score: {}\".format(clf.best_score_))\n",
    "print(\"Best params: \")\n",
    "for param_name in sorted(params_bst.keys()):\n",
    "    print('%s: %r' % (param_name, params_bst[param_name]))\n",
    "\n",
    "params.update(param_dist)\n",
    "xgb_model = xgb.XGBClassifier(**params)"
   ]
  },
  {
   "cell_type": "code",
   "execution_count": 24,
   "metadata": {},
   "outputs": [
    {
     "name": "stderr",
     "output_type": "stream",
     "text": [
      "C:\\Users\\sgupta\\AppData\\Local\\Continuum\\anaconda3\\lib\\site-packages\\ipykernel_launcher.py:1: FutureWarning: The signature of `Series.to_csv` was aligned to that of `DataFrame.to_csv`, and argument 'header' will change its default value from False to True: please pass an explicit value to suppress this warning.\n",
      "  \"\"\"Entry point for launching an IPython kernel.\n"
     ]
    }
   ],
   "source": [
    "pd.Series(dic['mean_train_roc_auc']).to_csv(\"clx\\\\mean_train_roc_auc_mesdq.csv\")"
   ]
  },
  {
   "cell_type": "code",
   "execution_count": null,
   "metadata": {},
   "outputs": [],
   "source": [
    "pd.Series(dic['mean_test_roc_auc']).to_csv(\"clx\\\\mean_test_roc_auc_mesdq.csv\")"
   ]
  },
  {
   "cell_type": "code",
   "execution_count": 26,
   "metadata": {},
   "outputs": [],
   "source": [
    "pd.DataFrame(dic['params']).to_csv(\"clx\\\\params_mesdq.csv\")"
   ]
  },
  {
   "cell_type": "code",
   "execution_count": 29,
   "metadata": {},
   "outputs": [],
   "source": [
    "#First Run\n",
    "xgb_model = xgb.XGBClassifier(max_depth = 5,\n",
    "              learning_rate= 0.016,\n",
    "              subsample= 0.6,\n",
    "              min_child_weight= 10,\n",
    "              colsample_bytree= 0.7,\n",
    "              scale_pos_weight =5,\n",
    "              objective= 'binary:logistic', \n",
    "              nthread = -1, \n",
    "              n_estimators = 200\n",
    "             )\n",
    "#GINI TRAIN: \n",
    "\n",
    "#GINI Validation: \n",
    "\n",
    "#GINI CV: \n",
    "\n",
    "#Gini Test "
   ]
  },
  {
   "cell_type": "code",
   "execution_count": 77,
   "metadata": {},
   "outputs": [],
   "source": [
    "#if required\n",
    "#%env JOBLIB_TEMP_FOLDER=/tmp"
   ]
  },
  {
   "cell_type": "code",
   "execution_count": 30,
   "metadata": {
    "scrolled": true
   },
   "outputs": [],
   "source": [
    "# cross validation gini\n",
    "def xgboost(X_tr,X_ts,y_tr,y_ts):\n",
    "    auc_cv = cross_val_score(xgb_model, X_tr, np.ravel(y_tr), scoring='roc_auc', cv=kfolds.split(X_tr, np.ravel(y_tr)),\n",
    "                             n_jobs=1)\n",
    "    gini_cv = (2 * np.array(auc_cv) - 1).mean()\n",
    "    evals=[(X_tr, np.ravel(y_tr)),(X_ts, np.ravel(y_ts))]\n",
    "\n",
    "    bst = xgb_model.fit(X_tr, np.ravel(y_tr), eval_metric=\"auc\", eval_set=evals,\n",
    "                        early_stopping_rounds=early_stopping_round   ,  verbose=False)\n",
    "\n",
    "    if early_stopping_round is None:\n",
    "        ypred_train = bst.predict_proba(X_tr)[:, 1]\n",
    "        ypred_test = bst.predict_proba(X_ts)[:, 1]\n",
    "    else:\n",
    "        ypred_train = bst.predict_proba(X_tr, ntree_limit=bst.best_ntree_limit)[:, 1]\n",
    "        ypred_test = bst.predict_proba(X_ts, ntree_limit=bst.best_ntree_limit)[:, 1]\n",
    "\n",
    "    metric_auc_train = metrics.roc_auc_score(y_tr, ypred_train)\n",
    "    metric_auc_test = metrics.roc_auc_score(y_ts, ypred_test)\n",
    "\n",
    "    gini_train = 2 * metric_auc_train - 1\n",
    "    gini_test = 2 * metric_auc_test - 1\n",
    "\n",
    "    return bst,gini_cv,gini_train,gini_test,ypred_train,ypred_test"
   ]
  },
  {
   "cell_type": "code",
   "execution_count": 31,
   "metadata": {},
   "outputs": [
    {
     "name": "stdout",
     "output_type": "stream",
     "text": [
      "GINI TRAIN: 0.46945393686864034\n",
      "\n",
      "GINI Validation: 0.18201266524270454\n",
      "\n",
      "GINI CV: 0.1990236016477082\n"
     ]
    }
   ],
   "source": [
    "## run xgboost\n",
    "bst,gini_cv,gini_train,gini_test,ypred_train,ypred_test=xgboost(X_train_2, X_valid_2, y_train, y_valid)\n",
    "\n",
    "##Model performance on sample\n",
    "print(\"GINI TRAIN:\",gini_train )\n",
    "print(\"\\nGINI Validation:\",gini_test )\n",
    "print(\"\\nGINI CV:\",gini_cv )"
   ]
  },
  {
   "cell_type": "code",
   "execution_count": 32,
   "metadata": {},
   "outputs": [
    {
     "data": {
      "text/plain": [
       "Index(['ACTIVITY_DATE_nunique_E_WALLET_180_Burn', 'mesdq_max',\n",
       "       'ALLOCATED_POINTS_mean_E_WALLET_180_by_1000_Burn',\n",
       "       'month_nunique_E_WALLET_180_by_1000_Burn',\n",
       "       'ACTIVITY_VALUE_mean_FUEL_1000_Earn',\n",
       "       'ACTIVITY_ID_count_E_WALLET_180_by_1000_Burn', 'MOB',\n",
       "       'month_nunique_E_WALLET_180_Burn',\n",
       "       'ACTIVITY_VALUE_sum_FUEL_365_by_1000_Earn',\n",
       "       'ALLOCATED_POINTS_sum_E_WALLET_180_by_1000_Burn',\n",
       "       'month_nunique_GROCERY_1000_Earn',\n",
       "       'ACTIVITY_VALUE_median_FUEL_1000_Earn',\n",
       "       'ALLOCATED_POINTS_min_E_WALLET_365_Burn',\n",
       "       'ALLOCATED_POINTS_sum_FUEL_1000_Earn',\n",
       "       'month_nunique_E_WALLET_180_by_1000_Earn',\n",
       "       'ACTIVITY_DATE_nunique_DEBIT_365_Earn', 'month_nunique_DEBIT_1000_Earn',\n",
       "       'ALLOCATED_POINTS_mean_FUEL_365_by_1000_Earn',\n",
       "       'ACTIVITY_VALUE_sum_GROCERY_180_by_1000_Earn',\n",
       "       'ALLOCATED_POINTS_sum_FUEL_365_by_1000_Earn',\n",
       "       'ALLOCATED_POINTS_min_E_WALLET_180_Burn',\n",
       "       'ACTIVITY_ID_count_FUEL_365_by_1000_Earn', 'ALLOCATED_POINTS_EARN_LAG3',\n",
       "       'ALLOCATED_POINTS_max_DEBIT_365_Earn',\n",
       "       'ALLOCATED_POINTS_median_FUEL_1000_Earn', 'ACTIVITY_VALUE_std',\n",
       "       'ALLOCATED_POINTS_sum_GROCERY_90_by_1000_Earn',\n",
       "       'ALLOCATED_POINTS_sum_E_WALLET_180_Burn',\n",
       "       'ACTIVITY_VALUE_median_E_WALLET_1000_Earn',\n",
       "       'ALLOCATED_POINTS_max_APPAREL_365_Earn',\n",
       "       'ALLOCATED_POINTS_sum_GROCERY_180_by_1000_Earn',\n",
       "       'ACTIVITY_VALUE_std_E_WALLET_1000_Earn',\n",
       "       'ACTIVITY_ID_count_GROCERY_180_by_1000_Earn',\n",
       "       'ALLOCATED_POINTS_max_DEBIT_1000_Earn',\n",
       "       'ALLOCATED_POINTS_std_DEBIT_1000_Earn', 'ACTIVITY_VALUE_median',\n",
       "       'ALLOCATED_POINTS_sum_DEBIT_1000_Earn', 'ALLOCATED_POINTS_EARN_LAG1',\n",
       "       'ALLOCATED_POINTS_sum_365_Earn_by_Burn', 'ALLOCATED_POINTS_EARN_LAG2',\n",
       "       'ALLOCATED_POINTS_sum_1000_Earn_by_Burn',\n",
       "       'ALLOCATED_POINTS_sum_GROCERY_365_by_1000_Earn'],\n",
       "      dtype='object')"
      ]
     },
     "execution_count": 32,
     "metadata": {},
     "output_type": "execute_result"
    }
   ],
   "source": [
    "X_train_2.columns"
   ]
  },
  {
   "cell_type": "code",
   "execution_count": 33,
   "metadata": {},
   "outputs": [
    {
     "name": "stdout",
     "output_type": "stream",
     "text": [
      "Gini Test 0.18234266717873582\n"
     ]
    }
   ],
   "source": [
    "#ypred_test = bst.predict_proba(X_test_2.drop(columns=['act','pred']), ntree_limit=bst.best_ntree_limit)[:, 1]\n",
    "ypred_test = bst.predict_proba(X_test_2, ntree_limit=bst.best_ntree_limit)[:, 1]\n",
    "metric_auc_test = metrics.roc_auc_score(y_test, ypred_test)\n",
    "print(\"Gini Test\",metric_auc_test*2-1)"
   ]
  },
  {
   "cell_type": "code",
   "execution_count": 34,
   "metadata": {
    "scrolled": true
   },
   "outputs": [],
   "source": [
    "importance_tbl = fimportances(bst, X_train_2.columns)\n",
    "importance_tbl.to_csv(r\"clx\\\\xgb_cd_fstq_varimp_clx_mix.csv\",index=0)"
   ]
  },
  {
   "cell_type": "code",
   "execution_count": 35,
   "metadata": {
    "scrolled": true
   },
   "outputs": [
    {
     "data": {
      "text/html": [
       "<div>\n",
       "<style scoped>\n",
       "    .dataframe tbody tr th:only-of-type {\n",
       "        vertical-align: middle;\n",
       "    }\n",
       "\n",
       "    .dataframe tbody tr th {\n",
       "        vertical-align: top;\n",
       "    }\n",
       "\n",
       "    .dataframe thead th {\n",
       "        text-align: right;\n",
       "    }\n",
       "</style>\n",
       "<table border=\"1\" class=\"dataframe\">\n",
       "  <thead>\n",
       "    <tr style=\"text-align: right;\">\n",
       "      <th></th>\n",
       "      <th>predictor</th>\n",
       "      <th>importance</th>\n",
       "    </tr>\n",
       "  </thead>\n",
       "  <tbody>\n",
       "    <tr>\n",
       "      <th>0</th>\n",
       "      <td>month_nunique_E_WALLET_180_Burn</td>\n",
       "      <td>0.041749</td>\n",
       "    </tr>\n",
       "    <tr>\n",
       "      <th>1</th>\n",
       "      <td>month_nunique_E_WALLET_180_by_1000_Burn</td>\n",
       "      <td>0.030934</td>\n",
       "    </tr>\n",
       "    <tr>\n",
       "      <th>2</th>\n",
       "      <td>ACTIVITY_DATE_nunique_E_WALLET_180_Burn</td>\n",
       "      <td>0.030436</td>\n",
       "    </tr>\n",
       "    <tr>\n",
       "      <th>3</th>\n",
       "      <td>mesdq_max</td>\n",
       "      <td>0.029430</td>\n",
       "    </tr>\n",
       "    <tr>\n",
       "      <th>4</th>\n",
       "      <td>month_nunique_DEBIT_1000_Earn</td>\n",
       "      <td>0.028192</td>\n",
       "    </tr>\n",
       "    <tr>\n",
       "      <th>5</th>\n",
       "      <td>ACTIVITY_ID_count_E_WALLET_180_by_1000_Burn</td>\n",
       "      <td>0.027983</td>\n",
       "    </tr>\n",
       "    <tr>\n",
       "      <th>6</th>\n",
       "      <td>ALLOCATED_POINTS_sum_E_WALLET_180_by_1000_Burn</td>\n",
       "      <td>0.026944</td>\n",
       "    </tr>\n",
       "    <tr>\n",
       "      <th>7</th>\n",
       "      <td>ALLOCATED_POINTS_std_DEBIT_1000_Earn</td>\n",
       "      <td>0.026346</td>\n",
       "    </tr>\n",
       "    <tr>\n",
       "      <th>8</th>\n",
       "      <td>ACTIVITY_ID_count_FUEL_365_by_1000_Earn</td>\n",
       "      <td>0.026080</td>\n",
       "    </tr>\n",
       "    <tr>\n",
       "      <th>9</th>\n",
       "      <td>ALLOCATED_POINTS_median_FUEL_1000_Earn</td>\n",
       "      <td>0.025984</td>\n",
       "    </tr>\n",
       "    <tr>\n",
       "      <th>10</th>\n",
       "      <td>month_nunique_GROCERY_1000_Earn</td>\n",
       "      <td>0.025841</td>\n",
       "    </tr>\n",
       "    <tr>\n",
       "      <th>11</th>\n",
       "      <td>ALLOCATED_POINTS_max_APPAREL_365_Earn</td>\n",
       "      <td>0.025566</td>\n",
       "    </tr>\n",
       "    <tr>\n",
       "      <th>12</th>\n",
       "      <td>ALLOCATED_POINTS_mean_FUEL_365_by_1000_Earn</td>\n",
       "      <td>0.025121</td>\n",
       "    </tr>\n",
       "    <tr>\n",
       "      <th>13</th>\n",
       "      <td>ALLOCATED_POINTS_min_E_WALLET_180_Burn</td>\n",
       "      <td>0.025090</td>\n",
       "    </tr>\n",
       "    <tr>\n",
       "      <th>14</th>\n",
       "      <td>ACTIVITY_VALUE_median_FUEL_1000_Earn</td>\n",
       "      <td>0.024775</td>\n",
       "    </tr>\n",
       "    <tr>\n",
       "      <th>15</th>\n",
       "      <td>ACTIVITY_VALUE_std_E_WALLET_1000_Earn</td>\n",
       "      <td>0.024476</td>\n",
       "    </tr>\n",
       "    <tr>\n",
       "      <th>16</th>\n",
       "      <td>ALLOCATED_POINTS_mean_E_WALLET_180_by_1000_Burn</td>\n",
       "      <td>0.024253</td>\n",
       "    </tr>\n",
       "    <tr>\n",
       "      <th>17</th>\n",
       "      <td>month_nunique_E_WALLET_180_by_1000_Earn</td>\n",
       "      <td>0.023909</td>\n",
       "    </tr>\n",
       "    <tr>\n",
       "      <th>18</th>\n",
       "      <td>ALLOCATED_POINTS_sum_E_WALLET_180_Burn</td>\n",
       "      <td>0.023562</td>\n",
       "    </tr>\n",
       "    <tr>\n",
       "      <th>19</th>\n",
       "      <td>ALLOCATED_POINTS_sum_FUEL_365_by_1000_Earn</td>\n",
       "      <td>0.023389</td>\n",
       "    </tr>\n",
       "    <tr>\n",
       "      <th>20</th>\n",
       "      <td>ALLOCATED_POINTS_min_E_WALLET_365_Burn</td>\n",
       "      <td>0.023335</td>\n",
       "    </tr>\n",
       "    <tr>\n",
       "      <th>21</th>\n",
       "      <td>ACTIVITY_DATE_nunique_DEBIT_365_Earn</td>\n",
       "      <td>0.023146</td>\n",
       "    </tr>\n",
       "    <tr>\n",
       "      <th>22</th>\n",
       "      <td>ALLOCATED_POINTS_sum_GROCERY_365_by_1000_Earn</td>\n",
       "      <td>0.022910</td>\n",
       "    </tr>\n",
       "    <tr>\n",
       "      <th>23</th>\n",
       "      <td>ALLOCATED_POINTS_sum_FUEL_1000_Earn</td>\n",
       "      <td>0.022071</td>\n",
       "    </tr>\n",
       "    <tr>\n",
       "      <th>24</th>\n",
       "      <td>ALLOCATED_POINTS_sum_1000_Earn_by_Burn</td>\n",
       "      <td>0.021945</td>\n",
       "    </tr>\n",
       "    <tr>\n",
       "      <th>25</th>\n",
       "      <td>MOB</td>\n",
       "      <td>0.021807</td>\n",
       "    </tr>\n",
       "    <tr>\n",
       "      <th>26</th>\n",
       "      <td>ACTIVITY_VALUE_sum_GROCERY_180_by_1000_Earn</td>\n",
       "      <td>0.021711</td>\n",
       "    </tr>\n",
       "    <tr>\n",
       "      <th>27</th>\n",
       "      <td>ACTIVITY_VALUE_median_E_WALLET_1000_Earn</td>\n",
       "      <td>0.021598</td>\n",
       "    </tr>\n",
       "    <tr>\n",
       "      <th>28</th>\n",
       "      <td>ALLOCATED_POINTS_sum_GROCERY_180_by_1000_Earn</td>\n",
       "      <td>0.021570</td>\n",
       "    </tr>\n",
       "    <tr>\n",
       "      <th>29</th>\n",
       "      <td>ALLOCATED_POINTS_sum_GROCERY_90_by_1000_Earn</td>\n",
       "      <td>0.021506</td>\n",
       "    </tr>\n",
       "    <tr>\n",
       "      <th>30</th>\n",
       "      <td>ALLOCATED_POINTS_sum_DEBIT_1000_Earn</td>\n",
       "      <td>0.021139</td>\n",
       "    </tr>\n",
       "    <tr>\n",
       "      <th>31</th>\n",
       "      <td>ACTIVITY_VALUE_mean_FUEL_1000_Earn</td>\n",
       "      <td>0.020872</td>\n",
       "    </tr>\n",
       "    <tr>\n",
       "      <th>32</th>\n",
       "      <td>ACTIVITY_VALUE_sum_FUEL_365_by_1000_Earn</td>\n",
       "      <td>0.020866</td>\n",
       "    </tr>\n",
       "    <tr>\n",
       "      <th>33</th>\n",
       "      <td>ALLOCATED_POINTS_EARN_LAG1</td>\n",
       "      <td>0.020695</td>\n",
       "    </tr>\n",
       "    <tr>\n",
       "      <th>34</th>\n",
       "      <td>ALLOCATED_POINTS_sum_365_Earn_by_Burn</td>\n",
       "      <td>0.020620</td>\n",
       "    </tr>\n",
       "    <tr>\n",
       "      <th>35</th>\n",
       "      <td>ALLOCATED_POINTS_max_DEBIT_1000_Earn</td>\n",
       "      <td>0.020558</td>\n",
       "    </tr>\n",
       "    <tr>\n",
       "      <th>36</th>\n",
       "      <td>ACTIVITY_VALUE_std</td>\n",
       "      <td>0.020447</td>\n",
       "    </tr>\n",
       "    <tr>\n",
       "      <th>37</th>\n",
       "      <td>ALLOCATED_POINTS_EARN_LAG2</td>\n",
       "      <td>0.020197</td>\n",
       "    </tr>\n",
       "    <tr>\n",
       "      <th>38</th>\n",
       "      <td>ACTIVITY_VALUE_median</td>\n",
       "      <td>0.019188</td>\n",
       "    </tr>\n",
       "    <tr>\n",
       "      <th>39</th>\n",
       "      <td>ALLOCATED_POINTS_EARN_LAG3</td>\n",
       "      <td>0.018177</td>\n",
       "    </tr>\n",
       "    <tr>\n",
       "      <th>40</th>\n",
       "      <td>ALLOCATED_POINTS_max_DEBIT_365_Earn</td>\n",
       "      <td>0.018040</td>\n",
       "    </tr>\n",
       "    <tr>\n",
       "      <th>41</th>\n",
       "      <td>ACTIVITY_ID_count_GROCERY_180_by_1000_Earn</td>\n",
       "      <td>0.017542</td>\n",
       "    </tr>\n",
       "  </tbody>\n",
       "</table>\n",
       "</div>"
      ],
      "text/plain": [
       "                                          predictor  importance\n",
       "0                   month_nunique_E_WALLET_180_Burn    0.041749\n",
       "1           month_nunique_E_WALLET_180_by_1000_Burn    0.030934\n",
       "2           ACTIVITY_DATE_nunique_E_WALLET_180_Burn    0.030436\n",
       "3                                         mesdq_max    0.029430\n",
       "4                     month_nunique_DEBIT_1000_Earn    0.028192\n",
       "5       ACTIVITY_ID_count_E_WALLET_180_by_1000_Burn    0.027983\n",
       "6    ALLOCATED_POINTS_sum_E_WALLET_180_by_1000_Burn    0.026944\n",
       "7              ALLOCATED_POINTS_std_DEBIT_1000_Earn    0.026346\n",
       "8           ACTIVITY_ID_count_FUEL_365_by_1000_Earn    0.026080\n",
       "9            ALLOCATED_POINTS_median_FUEL_1000_Earn    0.025984\n",
       "10                  month_nunique_GROCERY_1000_Earn    0.025841\n",
       "11            ALLOCATED_POINTS_max_APPAREL_365_Earn    0.025566\n",
       "12      ALLOCATED_POINTS_mean_FUEL_365_by_1000_Earn    0.025121\n",
       "13           ALLOCATED_POINTS_min_E_WALLET_180_Burn    0.025090\n",
       "14             ACTIVITY_VALUE_median_FUEL_1000_Earn    0.024775\n",
       "15            ACTIVITY_VALUE_std_E_WALLET_1000_Earn    0.024476\n",
       "16  ALLOCATED_POINTS_mean_E_WALLET_180_by_1000_Burn    0.024253\n",
       "17          month_nunique_E_WALLET_180_by_1000_Earn    0.023909\n",
       "18           ALLOCATED_POINTS_sum_E_WALLET_180_Burn    0.023562\n",
       "19       ALLOCATED_POINTS_sum_FUEL_365_by_1000_Earn    0.023389\n",
       "20           ALLOCATED_POINTS_min_E_WALLET_365_Burn    0.023335\n",
       "21             ACTIVITY_DATE_nunique_DEBIT_365_Earn    0.023146\n",
       "22    ALLOCATED_POINTS_sum_GROCERY_365_by_1000_Earn    0.022910\n",
       "23              ALLOCATED_POINTS_sum_FUEL_1000_Earn    0.022071\n",
       "24           ALLOCATED_POINTS_sum_1000_Earn_by_Burn    0.021945\n",
       "25                                              MOB    0.021807\n",
       "26      ACTIVITY_VALUE_sum_GROCERY_180_by_1000_Earn    0.021711\n",
       "27         ACTIVITY_VALUE_median_E_WALLET_1000_Earn    0.021598\n",
       "28    ALLOCATED_POINTS_sum_GROCERY_180_by_1000_Earn    0.021570\n",
       "29     ALLOCATED_POINTS_sum_GROCERY_90_by_1000_Earn    0.021506\n",
       "30             ALLOCATED_POINTS_sum_DEBIT_1000_Earn    0.021139\n",
       "31               ACTIVITY_VALUE_mean_FUEL_1000_Earn    0.020872\n",
       "32         ACTIVITY_VALUE_sum_FUEL_365_by_1000_Earn    0.020866\n",
       "33                       ALLOCATED_POINTS_EARN_LAG1    0.020695\n",
       "34            ALLOCATED_POINTS_sum_365_Earn_by_Burn    0.020620\n",
       "35             ALLOCATED_POINTS_max_DEBIT_1000_Earn    0.020558\n",
       "36                               ACTIVITY_VALUE_std    0.020447\n",
       "37                       ALLOCATED_POINTS_EARN_LAG2    0.020197\n",
       "38                            ACTIVITY_VALUE_median    0.019188\n",
       "39                       ALLOCATED_POINTS_EARN_LAG3    0.018177\n",
       "40              ALLOCATED_POINTS_max_DEBIT_365_Earn    0.018040\n",
       "41       ACTIVITY_ID_count_GROCERY_180_by_1000_Earn    0.017542"
      ]
     },
     "execution_count": 35,
     "metadata": {},
     "output_type": "execute_result"
    }
   ],
   "source": [
    "importance_tbl = fimportances(bst, X_train_2.columns)\n",
    "importance_tbl.head(50)"
   ]
  },
  {
   "cell_type": "code",
   "execution_count": 36,
   "metadata": {},
   "outputs": [
    {
     "name": "stderr",
     "output_type": "stream",
     "text": [
      "C:\\Users\\sgupta\\AppData\\Local\\Continuum\\anaconda3\\lib\\site-packages\\ipykernel_launcher.py:4: SettingWithCopyWarning: \n",
      "A value is trying to be set on a copy of a slice from a DataFrame.\n",
      "Try using .loc[row_indexer,col_indexer] = value instead\n",
      "\n",
      "See the caveats in the documentation: http://pandas.pydata.org/pandas-docs/stable/indexing.html#indexing-view-versus-copy\n",
      "  after removing the cwd from sys.path.\n"
     ]
    }
   ],
   "source": [
    "## save the model \n",
    "pickle.dump(bst, open(\"clx\\\\xgb_cd_fstq_wo_hc_cl_mix\", \"wb\"))\n",
    "##Score the dataset\n",
    "outtest=X_test_2;  outtest['pred']=ypred_test ; outtest['act']=y_test ; \n",
    "outtest.to_csv(r\"clx\\\\xgb_cd_fstq_wohc_cl_mx.csv\")"
   ]
  },
  {
   "cell_type": "code",
   "execution_count": 37,
   "metadata": {},
   "outputs": [
    {
     "name": "stdout",
     "output_type": "stream",
     "text": [
      "[[8392  431]\n",
      " [ 254   24]]\n",
      "\n",
      " Log Loss is : 0.24391824432325657\n",
      "Average precision-recall score: 0.05\n"
     ]
    },
    {
     "data": {
      "image/png": "[encoded data removed]",
      "text/plain": [
       "<Figure size 432x288 with 1 Axes>"
      ]
     },
     "metadata": {
      "needs_background": "light"
     },
     "output_type": "display_data"
    }
   ],
   "source": [
    "#metrics calculation\n",
    "cutoff=np.percentile(X_test['HC_SCORE'],95)\n",
    "ypred=pd.Series(X_test['HC_SCORE']).apply(lambda x : 1 if x >cutoff else 0 )\n",
    "#ypred=pd.Series(ypred_test).apply(lambda x : 1 if x > 0.48631722 else 0 )\n",
    "\n",
    "print(confusion_matrix(y_test, ypred))\n",
    "pd.Series(ypred_test).plot.hist(bins=10, rwidth=0.9 ,color='#607c8e')\n",
    "\n",
    "print(\"\\n Log Loss is :\",log_loss(y_test, ypred_test))\n",
    "print('Average precision-recall score: {0:0.2f}'.format(average_precision_score(y_test, ypred_test)))"
   ]
  },
  {
   "cell_type": "code",
   "execution_count": 38,
   "metadata": {},
   "outputs": [],
   "source": [
    "# retrieve performance metrics\n",
    "results = bst.evals_result()\n",
    "epochs = len(results['validation_0']['auc'])\n",
    "x_axis = range(0, epochs)"
   ]
  },
  {
   "cell_type": "code",
   "execution_count": 39,
   "metadata": {},
   "outputs": [
    {
     "data": {
      "text/plain": [
       "Text(0.5, 1.0, 'XGBoost AUC')"
      ]
     },
     "execution_count": 39,
     "metadata": {},
     "output_type": "execute_result"
    },
    {
     "data": {
      "image/png": "[encoded data removed]",
      "text/plain": [
       "<Figure size 432x288 with 1 Axes>"
      ]
     },
     "metadata": {
      "needs_background": "light"
     },
     "output_type": "display_data"
    }
   ],
   "source": [
    "# plot classification error\n",
    "fig, ax = plt.subplots()\n",
    "ax.plot(x_axis, results['validation_0']['auc'], label='train')\n",
    "ax.plot(x_axis, results['validation_1']['auc'], label='test')\n",
    "\n",
    "ax.legend()\n",
    "plt.ylabel('XGB AUC')\n",
    "plt.title('XGBoost AUC')"
   ]
  },
  {
   "cell_type": "code",
   "execution_count": 40,
   "metadata": {},
   "outputs": [
    {
     "data": {
      "image/png": "[encoded data removed]",
      "text/plain": [
       "<Figure size 432x288 with 1 Axes>"
      ]
     },
     "metadata": {
      "needs_background": "light"
     },
     "output_type": "display_data"
    }
   ],
   "source": [
    "# Compute micro-average ROC curve and ROC area\n",
    "fpr, tpr, thresholds = roc_curve(y_test.iloc[:, 0].ravel(), ypred_test.ravel())\n",
    "roc_auc = auc(fpr, tpr)\n",
    "\n",
    "plt.figure()\n",
    "lw = 1\n",
    "plt.plot(fpr, tpr, color='darkorange',         lw=lw, label='ROC curve (area = %0.2f)' % roc_auc)\n",
    "plt.plot([0, 1], [0, 1], color='navy', lw=lw, linestyle='--')\n",
    "plt.xlim([0.0, 1.0])\n",
    "plt.ylim([0.0, 1.05])\n",
    "plt.xlabel('False Positive Rate')\n",
    "plt.ylabel('True Positive Rate')\n",
    "plt.title('Receiver operating characteristic example')\n",
    "plt.legend(loc=\"lower right\")\n",
    "plt.show()"
   ]
  },
  {
   "cell_type": "code",
   "execution_count": 41,
   "metadata": {},
   "outputs": [
    {
     "data": {
      "text/plain": [
       "[]"
      ]
     },
     "execution_count": 41,
     "metadata": {},
     "output_type": "execute_result"
    },
    {
     "data": {
      "image/png": "[encoded data removed]",
      "text/plain": [
       "<Figure size 432x288 with 1 Axes>"
      ]
     },
     "metadata": {
      "needs_background": "light"
     },
     "output_type": "display_data"
    }
   ],
   "source": [
    "i = np.arange(len(tpr)) # index for df\n",
    "roc = pd.DataFrame({'fpr' : pd.Series(fpr, index=i),'tpr' : pd.Series(tpr, index = i), '1-fpr' : pd.Series(1-fpr, index = i), 'tf' : pd.Series(tpr - (1-fpr), index = i), 'thresholds' : pd.Series(thresholds, index = i)})\n",
    "roc.ix[(roc.tf-0).abs().argsort()[:1]]\n",
    "\n",
    "# Plot tpr vs 1-fpr\n",
    "fig, ax = plt.subplots()\n",
    "plt.plot(roc['tpr'])\n",
    "plt.plot(roc['1-fpr'], color = 'red')\n",
    "plt.xlabel('1-False Positive Rate')\n",
    "plt.ylabel('True Positive Rate')\n",
    "plt.title('Receiver operating characteristic')\n",
    "ax.set_xticklabels([])"
   ]
  },
  {
   "cell_type": "code",
   "execution_count": 42,
   "metadata": {},
   "outputs": [
    {
     "name": "stdout",
     "output_type": "stream",
     "text": [
      "\n",
      " Optimal Cut off : 0.16590291\n"
     ]
    }
   ],
   "source": [
    "optimal_idx = np.argmax(tpr - fpr)  ## check it once \n",
    "optimal_threshold = thresholds[optimal_idx]\n",
    "print(\"\\n Optimal Cut off :\",optimal_threshold)"
   ]
  },
  {
   "cell_type": "code",
   "execution_count": 43,
   "metadata": {},
   "outputs": [
    {
     "name": "stdout",
     "output_type": "stream",
     "text": [
      " \n",
      " Min -Max test score: 0.00033602424136983203 \t 0.4294863632786921\n",
      " \n",
      " Min -Max train score: 0.00028881025456061946 \t 0.2871336585693807\n"
     ]
    }
   ],
   "source": [
    "print(\" \\n Min -Max test score:\",test['HC_SCORE'].min(),\"\\t\",test['HC_SCORE'].max())\n",
    "print(\" \\n Min -Max train score:\",train['HC_SCORE'].min(),\"\\t\",train['HC_SCORE'].max())"
   ]
  },
  {
   "cell_type": "code",
   "execution_count": 44,
   "metadata": {
    "scrolled": false
   },
   "outputs": [
    {
     "name": "stdout",
     "output_type": "stream",
     "text": [
      "\n",
      "Total bad : 3087\n",
      "Bad captured in worst category : 29.48%\n",
      "\n",
      "                      HC_SCORE  RISK_FSTQPD30\n",
      "HC_SCORE                                    \n",
      "(-0.000711, 0.0042]  0.002744       0.011817\n",
      "(0.0042, 0.00655]    0.005384       0.019997\n",
      "(0.00655, 0.00893]   0.007723       0.018569\n",
      "(0.00893, 0.0117]    0.010286       0.024023\n",
      "(0.0117, 0.0153]     0.013481       0.024023\n",
      "(0.0153, 0.0201]     0.017596       0.030645\n",
      "(0.0201, 0.0265]     0.023142       0.036234\n",
      "(0.0265, 0.0361]     0.030892       0.047526\n",
      "(0.0361, 0.0532]     0.043507       0.069861\n",
      "(0.0532, 0.505]      0.084577       0.118166\n",
      "                       HC_SCORE  RISK_FSTQPD30\n",
      "HC_SCORE                                      \n",
      "(-0.000711, 0.0042]   21.133724             91\n",
      "(0.0042, 0.00655]     41.458533            154\n",
      "(0.00655, 0.00893]    59.472509            143\n",
      "(0.00893, 0.0117]     79.215832            185\n",
      "(0.0117, 0.0153]     103.818550            185\n",
      "(0.0153, 0.0201]     135.506763            236\n",
      "(0.0201, 0.0265]     178.196981            279\n",
      "(0.0265, 0.0361]     237.898658            366\n",
      "(0.0361, 0.0532]     335.049434            538\n",
      "(0.0532, 0.505]      651.328632            910\n"
     ]
    }
   ],
   "source": [
    "## Bad rates in overall population \n",
    "cd=pd.DataFrame(df[['HC_SCORE','RISK_FSTQPD30']]).sort_values(by=['HC_SCORE'],ascending=False)\n",
    "print(\"\\nTotal bad :\",df['RISK_FSTQPD30'].sum())\n",
    "print(\"Bad captured in worst category :\",'{:,.2%}'.format(cd.groupby(pd.qcut(cd['HC_SCORE'],10,duplicates='drop')).sum()['RISK_FSTQPD30'][-1]/df['RISK_FSTQPD30'].sum()))\n",
    "print(\"\\n\",cd.groupby(pd.qcut(cd['HC_SCORE'],10,duplicates='drop')).mean())\n",
    "print(cd.groupby(pd.qcut(cd['HC_SCORE'],10,duplicates='drop')).sum())"
   ]
  },
  {
   "cell_type": "code",
   "execution_count": 45,
   "metadata": {
    "scrolled": false
   },
   "outputs": [
    {
     "name": "stdout",
     "output_type": "stream",
     "text": [
      "\n",
      "Total bad : 270\n",
      "Bad captured in worst category : 19.63%\n",
      "\n",
      "                                   HC_SCORE  RISK_FSTQPD30\n",
      "HC_SCORE                                                 \n",
      "(-0.0006640000000000001, 0.0025]  0.001697       0.009879\n",
      "(0.0025, 0.00389]                 0.003186       0.012088\n",
      "(0.00389, 0.00537]                0.004599       0.024176\n",
      "(0.00537, 0.00726]                0.006209       0.032967\n",
      "(0.00726, 0.00972]                0.008405       0.038462\n",
      "(0.00972, 0.0135]                 0.011495       0.036264\n",
      "(0.0135, 0.0197]                  0.016359       0.032967\n",
      "(0.0197, 0.0292]                  0.024132       0.029670\n",
      "(0.0292, 0.0437]                  0.035776       0.021978\n",
      "(0.0437, 0.429]                   0.059278       0.058178\n",
      "                                   HC_SCORE  RISK_FSTQPD30\n",
      "HC_SCORE                                                  \n",
      "(-0.0006640000000000001, 0.0025]   1.546006              9\n",
      "(0.0025, 0.00389]                  2.899301             11\n",
      "(0.00389, 0.00537]                 4.185494             22\n",
      "(0.00537, 0.00726]                 5.650072             30\n",
      "(0.00726, 0.00972]                 7.648098             35\n",
      "(0.00972, 0.0135]                 10.460018             33\n",
      "(0.0135, 0.0197]                  14.886411             30\n",
      "(0.0197, 0.0292]                  21.960323             27\n",
      "(0.0292, 0.0437]                  32.556174             20\n",
      "(0.0437, 0.429]                   54.002347             53\n"
     ]
    }
   ],
   "source": [
    "## Bad rates in overall population \n",
    "cd=pd.DataFrame(test[['HC_SCORE','RISK_FSTQPD30']]).sort_values(by=['HC_SCORE'],ascending=False)\n",
    "print(\"\\nTotal bad :\",test['RISK_FSTQPD30'].sum())\n",
    "print(\"Bad captured in worst category :\",'{:,.2%}'.format(cd.groupby(pd.qcut(cd['HC_SCORE'],10,duplicates='drop')).sum()['RISK_FSTQPD30'][-1]/test['RISK_FSTQPD30'].sum()))\n",
    "print(\"\\n\",cd.groupby(pd.qcut(cd['HC_SCORE'],10,duplicates='drop')).mean())\n",
    "print(cd.groupby(pd.qcut(cd['HC_SCORE'],10,duplicates='drop')).sum())"
   ]
  },
  {
   "cell_type": "code",
   "execution_count": 46,
   "metadata": {
    "scrolled": false
   },
   "outputs": [
    {
     "name": "stdout",
     "output_type": "stream",
     "text": [
      "Bad captured in worst category Partner Score test sample : 19.42%\n",
      "\n",
      "Total bads in test sample: 278\n",
      "                     pred       act\n",
      "pred                               \n",
      "(0.0552, 0.133]  0.117604  0.018661\n",
      "(0.133, 0.145]   0.139510  0.017582\n",
      "(0.145, 0.155]   0.150260  0.021978\n",
      "(0.155, 0.165]   0.159763  0.026374\n",
      "(0.165, 0.175]   0.169708  0.036264\n",
      "(0.175, 0.184]   0.179086  0.027473\n",
      "(0.184, 0.196]   0.189571  0.029670\n",
      "(0.196, 0.212]   0.204528  0.036264\n",
      "(0.212, 0.235]   0.222487  0.031868\n",
      "(0.235, 0.534]   0.265186  0.059341\n",
      "                       pred  act\n",
      "pred                            \n",
      "(0.0552, 0.133]  107.137054   17\n",
      "(0.133, 0.145]   126.954269   16\n",
      "(0.145, 0.155]   136.736404   20\n",
      "(0.155, 0.165]   145.384171   24\n",
      "(0.165, 0.175]   154.433899   33\n",
      "(0.175, 0.184]   162.968582   25\n",
      "(0.184, 0.196]   172.509781   27\n",
      "(0.196, 0.212]   186.120453   33\n",
      "(0.212, 0.235]   202.463303   29\n",
      "(0.235, 0.534]   241.319580   54\n"
     ]
    }
   ],
   "source": [
    "## Bad rates in overall population \n",
    "cdt=pd.DataFrame(outtest[['pred','act']])\n",
    "print(\"Bad captured in worst category Partner Score test sample :\",'{:,.2%}'.format(cdt.groupby(pd.qcut(cdt['pred'],10,duplicates='drop')).sum()['act'][-1]/cdt['act'].sum()))\n",
    "print(\"\\nTotal bads in test sample:\",cdt['act'].sum())\n",
    "print(cdt.groupby(pd.qcut(cdt['pred'],10,duplicates='drop')).mean())\n",
    "print(cdt.groupby(pd.qcut(cdt['pred'],10,duplicates='drop')).sum())"
   ]
  },
  {
   "cell_type": "code",
   "execution_count": 47,
   "metadata": {},
   "outputs": [],
   "source": [
    "## Pillar  approach to combine score\n",
    "hcc_score = 'HC_SCORE'\n",
    "X_pillar_train = pd.DataFrame()\n",
    "X_pillar_test = pd.DataFrame()\n",
    "\n",
    "X_pillar_train[hcc_score]=train['HC_SCORE']; \n",
    "X_pillar_test[hcc_score]=test['HC_SCORE']\n",
    "\n",
    "X_pillar_train[\"XGB_SCORE\"] =  bst.predict_proba(train[selected_vars[0]], ntree_limit=bst.best_ntree_limit)[:, 1]\n",
    "X_pillar_test[\"XGB_SCORE\"]  =  bst.predict_proba(test[selected_vars[0]], ntree_limit=bst.best_ntree_limit)[:, 1]\n",
    "\n",
    "X_pillar_train[\"FSTQ\"] = train['RISK_FSTQPD30']\n",
    "X_pillar_test[\"FSTQ\"] = test['RISK_FSTQPD30']\n",
    "\n",
    "X_train_log = X_pillar_train.loc[pd.notnull(X_pillar_train[hcc_score]),['HC_SCORE','XGB_SCORE']]\n",
    "y_train_log = X_pillar_train.loc[pd.notnull(X_pillar_train[hcc_score]),['FSTQ']]\n",
    "\n",
    "X_test_log = X_pillar_test.loc[pd.notnull(X_pillar_test[hcc_score]),['HC_SCORE','XGB_SCORE']]\n",
    "y_test_log = X_pillar_test.loc[pd.notnull(X_pillar_test[hcc_score]),['FSTQ']]\n",
    "\n",
    "X_train_log = np.log((X_train_log + 1e-10).divide(1 - (X_train_log + 1e-10)))\n",
    "X_test_log = np.log((X_test_log + 1e-10).divide(1 - (X_test_log + 1e-10)))"
   ]
  },
  {
   "cell_type": "code",
   "execution_count": 48,
   "metadata": {
    "scrolled": true
   },
   "outputs": [
    {
     "name": "stderr",
     "output_type": "stream",
     "text": [
      "C:\\Users\\sgupta\\AppData\\Local\\Continuum\\anaconda3\\lib\\site-packages\\sklearn\\linear_model\\logistic.py:432: FutureWarning: Default solver will be changed to 'lbfgs' in 0.22. Specify a solver to silence this warning.\n",
      "  FutureWarning)\n",
      "C:\\Users\\sgupta\\AppData\\Local\\Continuum\\anaconda3\\lib\\site-packages\\sklearn\\linear_model\\logistic.py:1544: UserWarning: 'n_jobs' > 1 does not have any effect when 'solver' is set to 'liblinear'. Got 'n_jobs' = 8.\n",
      "  \" = {}.\".format(effective_n_jobs(self.n_jobs)))\n"
     ]
    }
   ],
   "source": [
    "logreg = LogisticRegression(C=11, n_jobs=cpu)\n",
    "\n",
    "# cross validation gini\n",
    "kfolds = StratifiedKFold(10, random_state=1)\n",
    "auc_cv = cross_val_score(logreg, X_train_log, np.ravel(y_train_log), scoring='roc_auc',\n",
    "                         cv=kfolds.split(X_test_log, np.ravel(y_test_log)), n_jobs=cpu)\n",
    "gini_cv = (2 * np.array(auc_cv) - 1).mean()\n",
    "\n",
    "logreg.fit(X_train_log, np.ravel(y_train_log))\n",
    "log_coef_tbl = pd.DataFrame({'predictor': ['intercept'] + X_train_log.columns.tolist(),\n",
    "                             'coefficient': list(logreg.intercept_) + list(logreg.coef_[0])})\n",
    "log_coef_tbl = log_coef_tbl[['predictor', 'coefficient']]"
   ]
  },
  {
   "cell_type": "code",
   "execution_count": 49,
   "metadata": {},
   "outputs": [
    {
     "data": {
      "text/html": [
       "<div>\n",
       "<style scoped>\n",
       "    .dataframe tbody tr th:only-of-type {\n",
       "        vertical-align: middle;\n",
       "    }\n",
       "\n",
       "    .dataframe tbody tr th {\n",
       "        vertical-align: top;\n",
       "    }\n",
       "\n",
       "    .dataframe thead th {\n",
       "        text-align: right;\n",
       "    }\n",
       "</style>\n",
       "<table border=\"1\" class=\"dataframe\">\n",
       "  <thead>\n",
       "    <tr style=\"text-align: right;\">\n",
       "      <th></th>\n",
       "      <th>predictor</th>\n",
       "      <th>coefficient</th>\n",
       "    </tr>\n",
       "  </thead>\n",
       "  <tbody>\n",
       "    <tr>\n",
       "      <th>0</th>\n",
       "      <td>intercept</td>\n",
       "      <td>0.569810</td>\n",
       "    </tr>\n",
       "    <tr>\n",
       "      <th>1</th>\n",
       "      <td>HC_SCORE</td>\n",
       "      <td>0.241746</td>\n",
       "    </tr>\n",
       "    <tr>\n",
       "      <th>2</th>\n",
       "      <td>XGB_SCORE</td>\n",
       "      <td>2.017730</td>\n",
       "    </tr>\n",
       "  </tbody>\n",
       "</table>\n",
       "</div>"
      ],
      "text/plain": [
       "   predictor  coefficient\n",
       "0  intercept     0.569810\n",
       "1   HC_SCORE     0.241746\n",
       "2  XGB_SCORE     2.017730"
      ]
     },
     "execution_count": 49,
     "metadata": {},
     "output_type": "execute_result"
    }
   ],
   "source": [
    "log_coef_tbl"
   ]
  },
  {
   "cell_type": "code",
   "execution_count": 53,
   "metadata": {},
   "outputs": [
    {
     "name": "stdout",
     "output_type": "stream",
     "text": [
      "GINI TRAIN: 0.34749361342852314\n",
      "GINI TEST: 0.3941559312936125\n",
      "GINI CV: 0.34314705341789586\n"
     ]
    }
   ],
   "source": [
    "## Model performance\n",
    "ypred_train_pillar = logreg.predict_proba(X_train_log)[:, 1]\n",
    "metric_auc_train_log = metrics.roc_auc_score(np.ravel(y_train_log), ypred_train_pillar)\n",
    "gini_train_pillar = 2 * metric_auc_train_log - 1\n",
    "ypred_test_pillar = logreg.predict_proba(X_test_log)[:, 1]\n",
    "metric_auc_test_log = metrics.roc_auc_score(np.ravel(y_test_log), ypred_test_pillar)\n",
    "gini_test_pillar = 2 * metric_auc_test_log - 1\n",
    "\n",
    "print(\"GINI TRAIN:\",gini_train_pillar )\n",
    "print(\"GINI TEST:\",gini_test_pillar )\n",
    "print(\"GINI CV:\",gini_cv)"
   ]
  },
  {
   "cell_type": "code",
   "execution_count": 54,
   "metadata": {},
   "outputs": [
    {
     "name": "stderr",
     "output_type": "stream",
     "text": [
      "C:\\Users\\sgupta\\AppData\\Local\\Continuum\\anaconda3\\lib\\site-packages\\ipykernel_launcher.py:1: SettingWithCopyWarning: \n",
      "A value is trying to be set on a copy of a slice from a DataFrame.\n",
      "Try using .loc[row_indexer,col_indexer] = value instead\n",
      "\n",
      "See the caveats in the documentation: http://pandas.pydata.org/pandas-docs/stable/indexing.html#indexing-view-versus-copy\n",
      "  \"\"\"Entry point for launching an IPython kernel.\n"
     ]
    }
   ],
   "source": [
    "outtest1=train;  outtest1['pred']=ypred_train_pillar ; outtest1['act']=ypred ; \n",
    "outtest1.to_csv(r\"clx\\\\comb_cd_fstq_clx_mix.csv\")"
   ]
  },
  {
   "cell_type": "code",
   "execution_count": 58,
   "metadata": {},
   "outputs": [
    {
     "name": "stdout",
     "output_type": "stream",
     "text": [
      "[[8429  217]\n",
      " [ 403   53]]\n"
     ]
    },
    {
     "data": {
      "text/plain": [
       "<matplotlib.axes._subplots.AxesSubplot at 0x5481390>"
      ]
     },
     "execution_count": 58,
     "metadata": {},
     "output_type": "execute_result"
    },
    {
     "data": {
      "image/png": "[encoded data removed]",
      "text/plain": [
       "<Figure size 432x288 with 1 Axes>"
      ]
     },
     "metadata": {
      "needs_background": "light"
     },
     "output_type": "display_data"
    }
   ],
   "source": [
    "#metrics calculation\n",
    "cutoff=np.percentile(ypred_test_pillar,95)\n",
    "ypred=pd.Series(ypred_test_pillar).apply(lambda x : 1 if x >cutoff else 0 )\n",
    "\n",
    "print(confusion_matrix(ypred,test['RISK_FSTQPD30'] ))\n",
    "pd.Series(ypred_test_pillar).plot.hist(bins=10, rwidth=0.9 ,color='#607c8e')"
   ]
  },
  {
   "cell_type": "code",
   "execution_count": 60,
   "metadata": {},
   "outputs": [
    {
     "name": "stdout",
     "output_type": "stream",
     "text": [
      "\n",
      " Log Loss is : 0.12541869121623536\n",
      "Average precision-recall score: 0.09\n"
     ]
    }
   ],
   "source": [
    "print(\"\\n Log Loss is :\",log_loss(test['RISK_FSTQPD30'], ypred_test_pillar))\n",
    "print('Average precision-recall score: {0:0.2f}'.format(average_precision_score(test['RISK_FSTQPD30'], ypred_test_pillar)))"
   ]
  },
  {
   "cell_type": "code",
   "execution_count": 62,
   "metadata": {},
   "outputs": [
    {
     "data": {
      "text/plain": [
       "9102"
      ]
     },
     "execution_count": 62,
     "metadata": {},
     "output_type": "execute_result"
    }
   ],
   "source": [
    "len(ypred_test_pillar)"
   ]
  },
  {
   "cell_type": "code",
   "execution_count": 63,
   "metadata": {},
   "outputs": [
    {
     "data": {
      "image/png": "[encoded data removed]",
      "text/plain": [
       "<Figure size 432x288 with 1 Axes>"
      ]
     },
     "metadata": {
      "needs_background": "light"
     },
     "output_type": "display_data"
    }
   ],
   "source": [
    "## PRC curve\n",
    "#precision, recall, _ = precision_recall_curve(ypred, ypred_test_pillar)\n",
    "\n",
    "# step_kwargs = ({'step': 'post'}\n",
    "#                #if 'step' in signature(plt.fill_between).parameters\n",
    "#                #else {}\n",
    "#               )\n",
    "# plt.step(recall, precision, color='b', alpha=0.2, where='post')\n",
    "# plt.fill_between(recall, precision, alpha=0.2, color='b', **step_kwargs)\n",
    "\n",
    "# plt.xlabel('Recall')\n",
    "# plt.ylabel('Precision')\n",
    "# plt.ylim([0.0, 0.5])\n",
    "# plt.xlim([0.0, 0.5])\n",
    "# plt.title('2-class Precision-Recall curve: AP={0:0.2f}'.format(average_precision_score(test['RISK_FSTQPD30'], ypred_test_pillar)))\n",
    "\n",
    "# # calculate precision-recall AUC\n",
    "# auc_pr = auc(recall, precision)\n",
    "# print(\"\\n AUC for precision-recall :\",auc_pr)\n",
    "\n",
    "# Compute micro-average ROC curve and ROC area\n",
    "fprhc, tprhc, thresholds = roc_curve(test['RISK_FSTQPD30'], test['HC_SCORE'].ravel())\n",
    "roc_auchc = auc(fprhc, tprhc)\n",
    "\n",
    "fprc, tprc, thresholds = roc_curve(test['RISK_FSTQPD30'], ypred_test_pillar.ravel())\n",
    "roc_aucc = auc(fprc, tprc)\n",
    "\n",
    "plt.figure()\n",
    "lw = 1\n",
    "plt.plot(fprc, tprc, lw=lw, label='ROC Comb (area = %0.2f)' % roc_aucc)\n",
    "plt.plot(fprhc, tprhc, lw=lw, label='ROC HC (area = %0.2f)' % roc_auchc)\n",
    "plt.plot([0, 1], [0, 1], color='navy', lw=lw, linestyle='--')\n",
    "plt.plot(fpr, tpr, lw=lw, label='ROC partner (area = %0.2f)' % roc_auc)\n",
    "plt.xlim([0.0, 1.0])\n",
    "plt.ylim([0.0, 1.05])\n",
    "plt.xlabel('False Positive Rate')\n",
    "plt.ylabel('True Positive Rate')\n",
    "plt.title('Receiver operating characteristic example')\n",
    "plt.legend(loc=\"lower right\")\n",
    "plt.show()"
   ]
  },
  {
   "cell_type": "code",
   "execution_count": 194,
   "metadata": {},
   "outputs": [
    {
     "name": "stdout",
     "output_type": "stream",
     "text": [
      "Bad captured in worst category Partner Score test sample : 27.10%\n",
      "\n",
      "Total bads in test sample: 1830\n",
      "                       pred       act\n",
      "pred                                 \n",
      "(0.00025, 0.0175]  0.012722  0.015195\n",
      "(0.0175, 0.0241]   0.020936  0.021216\n",
      "(0.0241, 0.0302]   0.027165  0.027810\n",
      "(0.0302, 0.0362]   0.033157  0.027810\n",
      "(0.0362, 0.0427]   0.039333  0.041284\n",
      "(0.0427, 0.0503]   0.046346  0.043304\n",
      "(0.0503, 0.06]     0.054880  0.059346\n",
      "(0.06, 0.0739]     0.066445  0.067374\n",
      "(0.0739, 0.0992]   0.084791  0.079128\n",
      "(0.0992, 0.417]    0.138924  0.142202\n",
      "                         pred  act\n",
      "pred                              \n",
      "(0.00025, 0.0175]   44.376024   53\n",
      "(0.0175, 0.0241]    73.023346   74\n",
      "(0.0241, 0.0302]    94.751359   97\n",
      "(0.0302, 0.0362]   115.653139   97\n",
      "(0.0362, 0.0427]   137.194985  144\n",
      "(0.0427, 0.0503]   161.607107  151\n",
      "(0.0503, 0.06]     191.422315  207\n",
      "(0.06, 0.0739]     231.761738  235\n",
      "(0.0739, 0.0992]   295.749518  276\n",
      "(0.0992, 0.417]    484.567164  496\n"
     ]
    }
   ],
   "source": [
    "## Bad rates combined score in overall population \n",
    "cdt=pd.DataFrame(outtest1[['pred','act']])\n",
    "print(\"Bad captured in worst category Partner Score test sample :\",'{:,.2%}'.format(cdt.groupby(pd.qcut(cdt['pred'],10,duplicates='drop')).sum()['act'][-1]/cdt['act'].sum()))\n",
    "print(\"\\nTotal bads in test sample:\",cdt['act'].sum())\n",
    "print(cdt.groupby(pd.qcut(cdt['pred'],10,duplicates='drop')).mean())\n",
    "print(cdt.groupby(pd.qcut(cdt['pred'],10,duplicates='drop')).sum())"
   ]
  }
 ],
 "metadata": {
  "kernelspec": {
   "display_name": "Python 3",
   "language": "python",
   "name": "python3"
  },
  "language_info": {
   "codemirror_mode": {
    "name": "ipython",
    "version": 3
   },
   "file_extension": ".py",
   "mimetype": "text/x-python",
   "name": "python",
   "nbconvert_exporter": "python",
   "pygments_lexer": "ipython3",
   "version": "3.7.3"
  }
 },
 "nbformat": 4,
 "nbformat_minor": 2
}
