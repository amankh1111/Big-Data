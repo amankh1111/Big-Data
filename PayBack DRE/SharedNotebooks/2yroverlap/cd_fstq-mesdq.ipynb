{
 "cells": [
  {
   "cell_type": "code",
   "execution_count": 1,
   "metadata": {},
   "outputs": [],
   "source": [
    "import xgboost as xgb\n",
    "import numpy as np\n",
    "import pandas as pd\n",
    "import time\n",
    "import pickle\n",
    "import os\n",
    "from math import log\n",
    "import matplotlib.pyplot as plt\n",
    "\n",
    "import sklearn\n",
    "from sklearn.model_selection import train_test_split, GridSearchCV, RandomizedSearchCV, ParameterGrid,StratifiedKFold, cross_val_score\n",
    "\n",
    "from sklearn import metrics \n",
    "from sklearn.metrics import confusion_matrix, precision_recall_curve, average_precision_score, brier_score_loss, f1_score, log_loss,auc,roc_curve,auc\n",
    "\n",
    "from sklearn.linear_model import LogisticRegression, LogisticRegressionCV\n",
    "from sklearn.ensemble import RandomForestClassifier\n",
    "\n",
    "from sklearn.decomposition import PCA\n",
    "#from sklearn.utils.fixes import signature\n",
    "\n",
    "import warnings\n",
    "warnings.filterwarnings(\"ignore\", category=DeprecationWarning)"
   ]
  },
  {
   "cell_type": "code",
   "execution_count": 5,
   "metadata": {},
   "outputs": [],
   "source": [
    "##read datasets\n",
    "df=pd.read_pickle(r\"cust_final_241019.pkl\")"
   ]
  },
  {
   "cell_type": "code",
   "execution_count": 6,
   "metadata": {},
   "outputs": [
    {
     "data": {
      "text/plain": [
       "(181680, 566)"
      ]
     },
     "execution_count": 6,
     "metadata": {},
     "output_type": "execute_result"
    }
   ],
   "source": [
    "df.shape"
   ]
  },
  {
   "cell_type": "code",
   "execution_count": 3,
   "metadata": {},
   "outputs": [
    {
     "data": {
      "text/plain": [
       "Index(['MOBILE', 'PRODUCT_GROUP', 'MEMBER_ID_nunique', 'ACTIVITY_ID_nunique',\n",
       "       'ACTIVITY_VALUE_max', 'ACTIVITY_VALUE_min', 'ACTIVITY_VALUE_median',\n",
       "       'ACTIVITY_VALUE_std', 'ACTIVITY_VALUE_mean', 'ALLOCATED_POINTS_max',\n",
       "       ...\n",
       "       'CLIENT_EXI_3M', 'TIME_DECISION_DATE', 'RISK_FPD30', 'RISK_AGRF30',\n",
       "       'RISK_FSPD30', 'RISK_AGRF60', 'RISK_FSTPD30', 'RISK_AGRF90',\n",
       "       'RISK_FSTQPD30', 'RISK_AGRF120'],\n",
       "      dtype='object', length=566)"
      ]
     },
     "execution_count": 3,
     "metadata": {},
     "output_type": "execute_result"
    }
   ],
   "source": [
    "df.columns "
   ]
  },
  {
   "cell_type": "code",
   "execution_count": 4,
   "metadata": {},
   "outputs": [],
   "source": [
    "df.dropna(subset=['HC_SCORE'],inplace=True)\n",
    "df = df[(df['RISK_AGRF120']== 1) & (df['PRODUCT_GROUP']=='CD')]"
   ]
  },
  {
   "cell_type": "code",
   "execution_count": 5,
   "metadata": {},
   "outputs": [
    {
     "data": {
      "text/plain": [
       "<matplotlib.axes._subplots.AxesSubplot at 0xb7ae860>"
      ]
     },
     "execution_count": 5,
     "metadata": {},
     "output_type": "execute_result"
    },
    {
     "data": {
      "image/png": "[encoded data removed]",
      "text/plain": [
       "<Figure size 432x288 with 1 Axes>"
      ]
     },
     "metadata": {
      "needs_background": "light"
     },
     "output_type": "display_data"
    }
   ],
   "source": [
    "# Check distribution of scores\n",
    "pd.Series(df['HC_SCORE']).plot.hist(bins=10, range=(0,0.08) ,color='#607c8e')"
   ]
  },
  {
   "cell_type": "code",
   "execution_count": 6,
   "metadata": {},
   "outputs": [],
   "source": [
    "X=df.drop(['MOBILE','RISK_AGRF30','RISK_FPD30','RISK_FSPD30','RISK_FSTPD30',\n",
    "           'RISK_FSTQPD30','CLIENT_EXI_3M','PRODUCT_GROUP', 'TIME_DECISION_DATE_max', 'ACTIVITY_DATE_min', 'ACTIVITY_DATE_max', \n",
    "            'TIME_DECISION_DATE'] ,axis=1)\n",
    "Y=df[['RISK_FSTQPD30']]"
   ]
  },
  {
   "cell_type": "code",
   "execution_count": 7,
   "metadata": {},
   "outputs": [
    {
     "name": "stdout",
     "output_type": "stream",
     "text": [
      "HCIN SCORE GINI: 0.3156550685997144\n"
     ]
    }
   ],
   "source": [
    "hcc_score='HC_SCORE'\n",
    "\n",
    "# HCC score Gini         \n",
    "y_hcc = X[hcc_score]\n",
    "df_hcc = pd.DataFrame({'true': np.ravel(Y), 'predict': y_hcc})\n",
    "df_hcc = df_hcc.loc[pd.notnull(df_hcc['predict']),:]\n",
    "metric_auc_hcc = metrics.roc_auc_score(df_hcc['true'], df_hcc['predict'])\n",
    "gini_hcc_only = 2 * metric_auc_hcc - 1\n",
    "print(\"HCIN SCORE GINI:\" ,gini_hcc_only)"
   ]
  },
  {
   "cell_type": "code",
   "execution_count": 8,
   "metadata": {},
   "outputs": [
    {
     "name": "stdout",
     "output_type": "stream",
     "text": [
      "\n",
      "Event rate in train set : 5.01%\n",
      "\n",
      " Train set shape: (65179, 554)\n",
      "\n",
      "Event rate in test set : 5.16%\n",
      "\n",
      " Test set shape: (34918, 554)\n",
      "\n",
      "Event rate in validation set : 4.74%\n",
      "\n",
      " validation set shape: (16295, 554)\n",
      "\n",
      " Train GINI 0.3129972177696807\n",
      "\n",
      " Test GINI 0.32675664730955645\n",
      "\n",
      " validation GINI 0.3021355741889271\n",
      "\n",
      "Event rate in train set : 4.96%\n",
      "\n",
      " Train set shape: (81474, 566)\n",
      "\n",
      " Train GINI 0.310901604685881\n",
      "\n",
      "Event rate in test set : 5.16%\n",
      "\n",
      " test set shape: (34918, 566)\n",
      "\n",
      " test GINI 0.32675664730955645\n"
     ]
    }
   ],
   "source": [
    "# split data into train and test sets\n",
    "seed = 25522\n",
    "test_size = 0.3\n",
    "X_train, X_test, y_train, y_test = train_test_split(X, Y, test_size=test_size, random_state=seed)\n",
    "\n",
    "X_train, X_valid, y_train, y_valid = train_test_split(X_train, y_train, test_size=0.2, random_state=seed)\n",
    "\n",
    "# X_train.drop('UW_SC',axis=1,inplace=True) \n",
    "# X_test.drop('UW_SC',axis=1,inplace=True) \n",
    "\n",
    "##event rate\n",
    "print(\"\\nEvent rate in train set :\", '{:,.2%}'.format(sum(y_train.iloc[:,0]) / len(y_train.iloc[:,0])))\n",
    "print(\"\\n Train set shape:\",X_train.shape)\n",
    "print(\"\\nEvent rate in test set :\", '{:,.2%}'.format(sum(y_test.iloc[:,0]) / len(y_test.iloc[:,0])))\n",
    "print(\"\\n Test set shape:\",X_test.shape)\n",
    "print(\"\\nEvent rate in validation set :\", '{:,.2%}'.format(sum(y_valid.iloc[:,0]) / len(y_valid.iloc[:,0])))\n",
    "print(\"\\n validation set shape:\",X_valid.shape)\n",
    "print(\"\\n Train GINI\",  metrics.roc_auc_score(y_train, X_train['HC_SCORE'])*2 -1)\n",
    "print(\"\\n Test GINI\",  metrics.roc_auc_score(y_test, X_test['HC_SCORE'])*2 -1)\n",
    "print(\"\\n validation GINI\",  metrics.roc_auc_score(y_valid, X_valid['HC_SCORE'])*2 -1)\n",
    "\n",
    "## fecth original test data\n",
    "train,test = train_test_split(df, test_size=test_size, random_state=seed)\n",
    "print(\"\\nEvent rate in train set :\", '{:,.2%}'.format(sum(train['RISK_FSTQPD30']) / len(train.iloc[:,0])))\n",
    "print(\"\\n Train set shape:\",train.shape)\n",
    "print(\"\\n Train GINI\",  metrics.roc_auc_score(train['RISK_FSTQPD30'], train['HC_SCORE'])*2 -1)\n",
    "\n",
    "print(\"\\nEvent rate in test set :\", '{:,.2%}'.format(sum(test['RISK_FSTQPD30']) / len(test.iloc[:,0])))\n",
    "print(\"\\n test set shape:\",test.shape)\n",
    "print(\"\\n test GINI\",  metrics.roc_auc_score(test['RISK_FSTQPD30'], test['HC_SCORE'])*2 -1)"
   ]
  },
  {
   "cell_type": "code",
   "execution_count": 52,
   "metadata": {},
   "outputs": [
    {
     "name": "stderr",
     "output_type": "stream",
     "text": [
      "C:\\Users\\sgupta\\AppData\\Local\\Continuum\\anaconda3\\lib\\site-packages\\ipykernel_launcher.py:2: SettingWithCopyWarning: \n",
      "A value is trying to be set on a copy of a slice from a DataFrame.\n",
      "Try using .loc[row_indexer,col_indexer] = value instead\n",
      "\n",
      "See the caveats in the documentation: http://pandas.pydata.org/pandas-docs/stable/indexing.html#indexing-view-versus-copy\n",
      "  \n"
     ]
    }
   ],
   "source": [
    "X_test_pkl = X_test\n",
    "X_test_pkl['RISK_FSTQPD30'] = y_test\n",
    "X_test_pkl.to_pickle(\"cd\\\\pillar_test_set.pkl\")"
   ]
  },
  {
   "cell_type": "code",
   "execution_count": 10,
   "metadata": {},
   "outputs": [],
   "source": [
    "## Variable importance\n",
    "def fimportances(xc, predictors):\n",
    "    importances = pd.DataFrame({'predictor': predictors, 'importance': xc.feature_importances_})\n",
    "    importances = importances[importances['importance'] > 0]\n",
    "    importances.sort_values(by='importance', ascending=False, inplace=True)\n",
    "    importances.reset_index(inplace=True, drop=True)\n",
    "    importances = importances[['predictor', 'importance']]\n",
    "    return importances"
   ]
  },
  {
   "cell_type": "code",
   "execution_count": 11,
   "metadata": {},
   "outputs": [],
   "source": [
    "xgb_model = xgb.XGBClassifier(max_depth = 3,\n",
    "              learning_rate= 0.01,\n",
    "              subsample= 0.6,\n",
    "              min_child_weight= 10,\n",
    "              colsample_bytree= 0.6,\n",
    "              scale_pos_weight =25,\n",
    "              objective= 'binary:logistic', \n",
    "              nthread = -1, \n",
    "              n_estimators = 200              \n",
    "              )\n",
    "\n",
    "evals=[(X_train.drop(columns='HC_SCORE'), np.ravel(y_train)),(X_valid.drop(columns='HC_SCORE'), np.ravel(y_valid))]\n",
    "\n",
    "bst = xgb_model.fit(X_train.drop(columns='HC_SCORE'), np.ravel(y_train), eval_metric=\"auc\", eval_set=evals,\n",
    "                    early_stopping_rounds=40   ,  verbose=False)"
   ]
  },
  {
   "cell_type": "code",
   "execution_count": 12,
   "metadata": {},
   "outputs": [],
   "source": [
    "imp = fimportances(bst,X_train.drop(columns='HC_SCORE').columns)"
   ]
  },
  {
   "cell_type": "code",
   "execution_count": 13,
   "metadata": {},
   "outputs": [
    {
     "name": "stdout",
     "output_type": "stream",
     "text": [
      "Columns Remaining : 305 , gini_train: 0.303715,gini_test: 0.191107 \n",
      "Columns Remaining : 255 , gini_train: 0.263529,gini_test: 0.186011 \n",
      "Columns Remaining : 160 , gini_train: 0.301622,gini_test: 0.189739 \n",
      "Columns Remaining : 155 , gini_train: 0.242707,gini_test: 0.182162 \n",
      "Columns Remaining : 98 , gini_train: 0.249551,gini_test: 0.185841 \n",
      "Columns Remaining : 75 , gini_train: 0.268443,gini_test: 0.187060 \n",
      "Columns Remaining : 72 , gini_train: 0.260668,gini_test: 0.179604 \n",
      "Columns Remaining : 66 , gini_train: 0.257204,gini_test: 0.179166 \n",
      "Columns Remaining : 62 , gini_train: 0.297026,gini_test: 0.192813 \n",
      "Columns Remaining : 60 , gini_train: 0.297419,gini_test: 0.193193 \n",
      "Columns Remaining : 58 , gini_train: 0.297823,gini_test: 0.195699 \n",
      "Columns Remaining : 56 , gini_train: 0.262639,gini_test: 0.187810 \n",
      "Columns Remaining : 54 , gini_train: 0.295110,gini_test: 0.193421 \n",
      "Columns Remaining : 52 , gini_train: 0.296018,gini_test: 0.192326 \n",
      "Columns Remaining : 50 , gini_train: 0.295472,gini_test: 0.193866 \n",
      "Columns Remaining : 48 , gini_train: 0.294642,gini_test: 0.195175 \n",
      "Columns Remaining : 46 , gini_train: 0.292816,gini_test: 0.194686 \n",
      "Columns Remaining : 44 , gini_train: 0.292239,gini_test: 0.198361 \n",
      "Columns Remaining : 42 , gini_train: 0.284303,gini_test: 0.193515 \n",
      "Columns Remaining : 40 , gini_train: 0.290019,gini_test: 0.197370 \n",
      "Columns Remaining : 38 , gini_train: 0.257443,gini_test: 0.185820 \n",
      "Columns Remaining : 36 , gini_train: 0.287275,gini_test: 0.197205 \n",
      "Columns Remaining : 34 , gini_train: 0.286496,gini_test: 0.199778 \n",
      "Columns Remaining : 32 , gini_train: 0.243448,gini_test: 0.186282 \n",
      "Columns Remaining : 30 , gini_train: 0.245193,gini_test: 0.180096 \n",
      "Columns Remaining : 28 , gini_train: 0.259086,gini_test: 0.190640 \n",
      "Columns Remaining : 26 , gini_train: 0.249628,gini_test: 0.187290 \n",
      "Columns Remaining : 23 , gini_train: 0.260746,gini_test: 0.187089 \n",
      "Columns Remaining : 21 , gini_train: 0.258246,gini_test: 0.183939 \n",
      "Columns Remaining : 19 , gini_train: 0.257507,gini_test: 0.187401 \n",
      "Columns Remaining : 17 , gini_train: 0.278760,gini_test: 0.196986 \n",
      "Columns Remaining : 15 , gini_train: 0.280622,gini_test: 0.196789 \n",
      "Columns Remaining : 13 , gini_train: 0.266363,gini_test: 0.205937 \n",
      "Columns Remaining : 11 , gini_train: 0.258974,gini_test: 0.197767 \n",
      "Columns Remaining : 9 , gini_train: 0.254617,gini_test: 0.197872 \n",
      "Columns Remaining : 7 , gini_train: 0.228787,gini_test: 0.183912 \n",
      "Columns Remaining : 5 , gini_train: 0.205464,gini_test: 0.165069 \n",
      "Columns Remaining : 3 , gini_train: 0.193812,gini_test: 0.150241 \n",
      "Columns Remaining : 1 , gini_train: 0.096867,gini_test: 0.070747 \n"
     ]
    }
   ],
   "source": [
    "bst1 = bst\n",
    "X_train_1 = X_train.drop(columns='HC_SCORE')\n",
    "X_valid_1 = X_valid.drop(columns='HC_SCORE')\n",
    "select_X_train = X_train_1\n",
    "\n",
    "dic_imp = {\"n\":[imp.shape[0]],\"Gini Train\":[0],\"Gini Test\":[0],\"Predictors\":[list(imp['predictor'])]}\n",
    "\n",
    "while(select_X_train.shape[1] > 1):\n",
    "    select_X_train = X_train_1[list(imp['predictor'])[:-2]]\n",
    "    select_X_valid = X_valid_1[list(imp['predictor'])[:-2]]\n",
    "    xgb_model = xgb.XGBClassifier(max_depth = 3,\n",
    "              learning_rate= 0.01,\n",
    "              subsample= 0.6,\n",
    "              min_child_weight= 10,\n",
    "              colsample_bytree= 0.6,\n",
    "              scale_pos_weight =25,\n",
    "              objective= 'binary:logistic', \n",
    "              nthread = -1, \n",
    "              n_estimators = 200              \n",
    "              )\n",
    "\n",
    "    evals=[(select_X_train, np.ravel(y_train)),(select_X_valid, np.ravel(y_valid))]\n",
    "\n",
    "    bst = xgb_model.fit(select_X_train, np.ravel(y_train), eval_metric=\"auc\", eval_set=evals,\n",
    "                        early_stopping_rounds=40   ,  verbose=False)\n",
    "    \n",
    "    ypred_train = bst.predict_proba(select_X_train)[:, 1]\n",
    "    ypred_test  = bst.predict_proba(select_X_valid)[:, 1]\n",
    "    \n",
    "    metric_auc_train = metrics.roc_auc_score(y_train, ypred_train)\n",
    "    metric_auc_test = metrics.roc_auc_score(y_valid, ypred_test)\n",
    "\n",
    "    gini_train = 2 * metric_auc_train - 1\n",
    "    gini_test = 2 * metric_auc_test - 1\n",
    "    \n",
    "    print(\"Columns Remaining : %d , gini_train: %f,gini_test: %f \"%(select_X_train.shape[1],gini_train,gini_test))\n",
    "    \n",
    "    dic_imp['n'].append(imp.shape[0])\n",
    "    dic_imp['Gini Train'].append(gini_train)\n",
    "    dic_imp['Gini Test'].append(gini_test)\n",
    "    dic_imp['Predictors'].append(list(imp['predictor']))\n",
    "    \n",
    "    imp = fimportances(bst,select_X_train.columns)"
   ]
  },
  {
   "cell_type": "code",
   "execution_count": 14,
   "metadata": {},
   "outputs": [],
   "source": [
    "df_imp =pd.DataFrame(dic_imp)"
   ]
  },
  {
   "cell_type": "code",
   "execution_count": 15,
   "metadata": {},
   "outputs": [
    {
     "data": {
      "text/plain": [
       "[['month_nunique_DEBIT_1000_Earn',\n",
       "  'mesdq_max',\n",
       "  'month_nunique_FUEL_1000_Earn',\n",
       "  'month_nunique_FUEL_365_by_1000_Earn',\n",
       "  'month_nunique_E_WALLET_1000_Earn',\n",
       "  'month_nunique_E_WALLET_180_by_1000_Burn',\n",
       "  'month_nunique_GROCERY_365_by_1000_Earn',\n",
       "  'month_nunique_FUEL_180_by_1000_Earn',\n",
       "  'month_nunique_GROCERY_1000_Earn',\n",
       "  'ALLOCATED_POINTS_mean_E_WALLET_180_by_1000_Burn',\n",
       "  'ALLOCATED_POINTS_median_E_WALLET_180_by_1000_Burn',\n",
       "  'ACTIVITY_VALUE_sum_FUEL_365_by_1000_Earn',\n",
       "  'ALLOCATED_POINTS_max_FUEL_180_Earn',\n",
       "  'ALLOCATED_POINTS_sum_E_WALLET_180_by_1000_Earn',\n",
       "  'ALLOCATED_POINTS_max_FUEL_90_Earn',\n",
       "  'month_nunique_E_WALLET_180_by_1000_Earn',\n",
       "  'ALLOCATED_POINTS_std',\n",
       "  'ALLOCATED_POINTS_sum_E_WALLET_180_by_1000_Burn',\n",
       "  'MOB',\n",
       "  'ACTIVITY_VALUE_sum_GROCERY_90_by_1000_Earn',\n",
       "  'month_nunique_FUEL_365_Earn',\n",
       "  'ALLOCATED_POINTS_mean_FUEL_180_Earn',\n",
       "  'month_nunique_DEBIT_365_by_1000_Earn',\n",
       "  'ALLOCATED_POINTS_median_FUEL_365_Earn',\n",
       "  'ACTIVITY_VALUE_max_GROCERY_90_by_1000_Earn',\n",
       "  'ALLOCATED_POINTS_std_DEBIT_365_Earn',\n",
       "  'ACTIVITY_ID_count_FUEL_365_by_1000_Earn',\n",
       "  'ACTIVITY_VALUE_std',\n",
       "  'ALLOCATED_POINTS_min_E_WALLET_365_Burn',\n",
       "  'ALLOCATED_POINTS_max_DEBIT_365_Earn',\n",
       "  'ALLOCATED_POINTS_sum_FUEL_365_by_1000_Earn',\n",
       "  'ACTIVITY_VALUE_max_FUEL_90_Earn',\n",
       "  'ACTIVITY_VALUE_std_E_WALLET_1000_Earn',\n",
       "  'ACTIVITY_VALUE_max_FUEL_180_Earn',\n",
       "  'ALLOCATED_POINTS_sum_GROCERY_180_by_1000_Earn',\n",
       "  'ALLOCATED_POINTS_max_FUEL_1000_Earn',\n",
       "  'ALLOCATED_POINTS_std_DEBIT_180_Earn',\n",
       "  'ALLOCATED_POINTS_sum_E_WALLET_180_Burn',\n",
       "  'ALLOCATED_POINTS_median_FUEL_180_Earn',\n",
       "  'ALLOCATED_POINTS_mean_FUEL_90_Earn']]"
      ]
     },
     "execution_count": 15,
     "metadata": {},
     "output_type": "execute_result"
    }
   ],
   "source": [
    "list(df_imp[df_imp['n']==40][\"Predictors\"])"
   ]
  },
  {
   "cell_type": "code",
   "execution_count": 16,
   "metadata": {},
   "outputs": [],
   "source": [
    "selected_vars = list(df_imp[df_imp['n']==40][\"Predictors\"])"
   ]
  },
  {
   "cell_type": "code",
   "execution_count": 17,
   "metadata": {},
   "outputs": [
    {
     "data": {
      "text/plain": [
       "[['month_nunique_DEBIT_1000_Earn',\n",
       "  'mesdq_max',\n",
       "  'month_nunique_FUEL_1000_Earn',\n",
       "  'month_nunique_FUEL_365_by_1000_Earn',\n",
       "  'month_nunique_E_WALLET_1000_Earn',\n",
       "  'month_nunique_E_WALLET_180_by_1000_Burn',\n",
       "  'month_nunique_GROCERY_365_by_1000_Earn',\n",
       "  'month_nunique_FUEL_180_by_1000_Earn',\n",
       "  'month_nunique_GROCERY_1000_Earn',\n",
       "  'ALLOCATED_POINTS_mean_E_WALLET_180_by_1000_Burn',\n",
       "  'ALLOCATED_POINTS_median_E_WALLET_180_by_1000_Burn',\n",
       "  'ACTIVITY_VALUE_sum_FUEL_365_by_1000_Earn',\n",
       "  'ALLOCATED_POINTS_max_FUEL_180_Earn',\n",
       "  'ALLOCATED_POINTS_sum_E_WALLET_180_by_1000_Earn',\n",
       "  'ALLOCATED_POINTS_max_FUEL_90_Earn',\n",
       "  'month_nunique_E_WALLET_180_by_1000_Earn',\n",
       "  'ALLOCATED_POINTS_std',\n",
       "  'ALLOCATED_POINTS_sum_E_WALLET_180_by_1000_Burn',\n",
       "  'MOB',\n",
       "  'ACTIVITY_VALUE_sum_GROCERY_90_by_1000_Earn',\n",
       "  'month_nunique_FUEL_365_Earn',\n",
       "  'ALLOCATED_POINTS_mean_FUEL_180_Earn',\n",
       "  'month_nunique_DEBIT_365_by_1000_Earn',\n",
       "  'ALLOCATED_POINTS_median_FUEL_365_Earn',\n",
       "  'ACTIVITY_VALUE_max_GROCERY_90_by_1000_Earn',\n",
       "  'ALLOCATED_POINTS_std_DEBIT_365_Earn',\n",
       "  'ACTIVITY_ID_count_FUEL_365_by_1000_Earn',\n",
       "  'ACTIVITY_VALUE_std',\n",
       "  'ALLOCATED_POINTS_min_E_WALLET_365_Burn',\n",
       "  'ALLOCATED_POINTS_max_DEBIT_365_Earn',\n",
       "  'ALLOCATED_POINTS_sum_FUEL_365_by_1000_Earn',\n",
       "  'ACTIVITY_VALUE_max_FUEL_90_Earn',\n",
       "  'ACTIVITY_VALUE_std_E_WALLET_1000_Earn',\n",
       "  'ACTIVITY_VALUE_max_FUEL_180_Earn',\n",
       "  'ALLOCATED_POINTS_sum_GROCERY_180_by_1000_Earn',\n",
       "  'ALLOCATED_POINTS_max_FUEL_1000_Earn',\n",
       "  'ALLOCATED_POINTS_std_DEBIT_180_Earn',\n",
       "  'ALLOCATED_POINTS_sum_E_WALLET_180_Burn',\n",
       "  'ALLOCATED_POINTS_median_FUEL_180_Earn',\n",
       "  'ALLOCATED_POINTS_mean_FUEL_90_Earn']]"
      ]
     },
     "execution_count": 17,
     "metadata": {},
     "output_type": "execute_result"
    }
   ],
   "source": [
    "selected_vars"
   ]
  },
  {
   "cell_type": "code",
   "execution_count": 18,
   "metadata": {},
   "outputs": [
    {
     "name": "stdout",
     "output_type": "stream",
     "text": [
      "\n",
      " Train shape: (65179, 40) \n",
      " Test shape: (34918, 40) \n",
      " Validation shape: (16295, 40)\n"
     ]
    }
   ],
   "source": [
    "X_train_2=X_train[selected_vars[0]]\n",
    "X_test_2=X_test[selected_vars[0]]\n",
    "X_valid_2=X_valid[selected_vars[0]]\n",
    "\n",
    "\n",
    "print(\"\\n Train shape:\",X_train_2.shape,\"\\n Test shape:\",X_test_2.shape,\"\\n Validation shape:\",X_valid_2.shape)"
   ]
  },
  {
   "cell_type": "code",
   "execution_count": 19,
   "metadata": {},
   "outputs": [],
   "source": [
    "# set model parameters \n",
    "missing_value=None; cpu=-1; early_stopping_round=40; split_random_state=None\n",
    "kfolds = StratifiedKFold(6, random_state=1)"
   ]
  },
  {
   "cell_type": "code",
   "execution_count": 23,
   "metadata": {
    "scrolled": true
   },
   "outputs": [
    {
     "name": "stdout",
     "output_type": "stream",
     "text": [
      "Randomized search..\n",
      "Randomized search time: 902.3416504859924\n",
      "Best score: 0.6273738913408762\n",
      "Best params: \n",
      "colsample_bytree: 0.7000000000000002\n",
      "learning_rate: 0.016\n",
      "max_depth: 5\n",
      "min_child_weight: 10\n",
      "scale_pos_weight: 5\n",
      "subsample: 0.6\n"
     ]
    }
   ],
   "source": [
    "## XGB model##\n",
    "param_grid = {'max_depth': list(range(1, 6)),\n",
    "              'learning_rate': np.arange(0.001, 0.02, 0.001),\n",
    "              'subsample': np.arange(0.4, 0.7,0.05),\n",
    "              'min_child_weight': np.arange(1, 25, 3),\n",
    "              'colsample_bytree': np.arange(0.5, 0.75, 0.05),\n",
    "              'scale_pos_weight' :np.arange(5, 40, 2)\n",
    "            }\n",
    "\n",
    "if X_train_2.shape[1] == 1:\n",
    "    param_grid['colsample_bytree'] = [1]\n",
    "    \n",
    "param_dist = {'objective': 'binary:logistic', 'nthread': cpu, 'n_estimators': 200}\n",
    "xgb_model = xgb.XGBClassifier(**param_dist)\n",
    "\n",
    "##random search XGB    \n",
    "clf = RandomizedSearchCV(estimator=xgb_model, param_distributions=param_grid, scoring=['roc_auc'], n_iter=100,\n",
    "                         random_state=40, cv=kfolds.split(X_train_2, y_train), refit='roc_auc',error_score=0, return_train_score =True)\n",
    "print(\"Randomized search..\")\n",
    "search_time_start = time.time()\n",
    "clf.fit(X_train_2, np.ravel(y_train))\n",
    "print(\"Randomized search time:\", time.time() - search_time_start)\n",
    "params = clf.best_params_\n",
    "\n",
    "dic=clf.cv_results_\n",
    "\n",
    "params_bst = params\n",
    "params_tbl = pd.DataFrame(columns=list(params_bst.keys()))  \n",
    "params_tbl.loc['0'] = [params_bst[k] for k in params_tbl.columns]\n",
    "\n",
    "print(\"Best score: {}\".format(clf.best_score_))\n",
    "print(\"Best params: \")\n",
    "for param_name in sorted(params_bst.keys()):\n",
    "    print('%s: %r' % (param_name, params_bst[param_name]))\n",
    "\n",
    "params.update(param_dist)\n",
    "xgb_model = xgb.XGBClassifier(**params)"
   ]
  },
  {
   "cell_type": "code",
   "execution_count": 24,
   "metadata": {},
   "outputs": [
    {
     "name": "stderr",
     "output_type": "stream",
     "text": [
      "C:\\Users\\sgupta\\AppData\\Local\\Continuum\\anaconda3\\lib\\site-packages\\ipykernel_launcher.py:1: FutureWarning: The signature of `Series.to_csv` was aligned to that of `DataFrame.to_csv`, and argument 'header' will change its default value from False to True: please pass an explicit value to suppress this warning.\n",
      "  \"\"\"Entry point for launching an IPython kernel.\n"
     ]
    }
   ],
   "source": [
    "pd.Series(dic['mean_train_roc_auc']).to_csv(\"mean_train_roc_auc_mesdq.csv\")"
   ]
  },
  {
   "cell_type": "code",
   "execution_count": 25,
   "metadata": {},
   "outputs": [
    {
     "name": "stderr",
     "output_type": "stream",
     "text": [
      "C:\\Users\\sgupta\\AppData\\Local\\Continuum\\anaconda3\\lib\\site-packages\\ipykernel_launcher.py:1: FutureWarning: The signature of `Series.to_csv` was aligned to that of `DataFrame.to_csv`, and argument 'header' will change its default value from False to True: please pass an explicit value to suppress this warning.\n",
      "  \"\"\"Entry point for launching an IPython kernel.\n"
     ]
    }
   ],
   "source": [
    "pd.Series(dic['mean_test_roc_auc']).to_csv(\"mean_test_roc_auc_mesdq.csv\")"
   ]
  },
  {
   "cell_type": "code",
   "execution_count": 26,
   "metadata": {},
   "outputs": [],
   "source": [
    "# colsample_bytree: 0.7000000000000002\n",
    "# learning_rate: 0.016\n",
    "# max_depth: 5\n",
    "# min_child_weight: 10\n",
    "# scale_pos_weight: 5\n",
    "# subsample: 0.6pd.DataFrame(dic['params']).to_csv(\"params_mesdq.csv\")"
   ]
  },
  {
   "cell_type": "code",
   "execution_count": 20,
   "metadata": {},
   "outputs": [],
   "source": [
    "\n",
    "#First Run\n",
    "xgb_model = xgb.XGBClassifier(max_depth = 2,\n",
    "              learning_rate= 0.019,\n",
    "              subsample= 0.5,\n",
    "              min_child_weight= 13,\n",
    "              colsample_bytree= 0.65,\n",
    "              scale_pos_weight =13,\n",
    "              objective= 'binary:logistic', \n",
    "              nthread = -1, \n",
    "              n_estimators = 200\n",
    "             )\n",
    "#GINI TRAIN: \n",
    "\n",
    "#GINI Validation: \n",
    "\n",
    "#GINI CV: \n",
    "\n",
    "#Gini Test "
   ]
  },
  {
   "cell_type": "code",
   "execution_count": 21,
   "metadata": {},
   "outputs": [],
   "source": [
    "#if required\n",
    "#%env JOBLIB_TEMP_FOLDER=/tmp"
   ]
  },
  {
   "cell_type": "code",
   "execution_count": 22,
   "metadata": {
    "scrolled": true
   },
   "outputs": [],
   "source": [
    "# cross validation gini\n",
    "def xgboost(X_tr,X_ts,y_tr,y_ts):\n",
    "    auc_cv = cross_val_score(xgb_model, X_tr, np.ravel(y_tr), scoring='roc_auc', cv=kfolds.split(X_tr, np.ravel(y_tr)),\n",
    "                             n_jobs=1)\n",
    "    gini_cv = (2 * np.array(auc_cv) - 1).mean()\n",
    "    evals=[(X_tr, np.ravel(y_tr)),(X_ts, np.ravel(y_ts))]\n",
    "\n",
    "    bst = xgb_model.fit(X_tr, np.ravel(y_tr), eval_metric=\"auc\", eval_set=evals,\n",
    "                        early_stopping_rounds=early_stopping_round   ,  verbose=False)\n",
    "\n",
    "    if early_stopping_round is None:\n",
    "        ypred_train = bst.predict_proba(X_tr)[:, 1]\n",
    "        ypred_test = bst.predict_proba(X_ts)[:, 1]\n",
    "    else:\n",
    "        ypred_train = bst.predict_proba(X_tr, ntree_limit=bst.best_ntree_limit)[:, 1]\n",
    "        ypred_test = bst.predict_proba(X_ts, ntree_limit=bst.best_ntree_limit)[:, 1]\n",
    "\n",
    "    metric_auc_train = metrics.roc_auc_score(y_tr, ypred_train)\n",
    "    metric_auc_test = metrics.roc_auc_score(y_ts, ypred_test)\n",
    "\n",
    "    gini_train = 2 * metric_auc_train - 1\n",
    "    gini_test = 2 * metric_auc_test - 1\n",
    "\n",
    "    return bst,gini_cv,gini_train,gini_test,ypred_train,ypred_test"
   ]
  },
  {
   "cell_type": "code",
   "execution_count": 23,
   "metadata": {},
   "outputs": [
    {
     "name": "stdout",
     "output_type": "stream",
     "text": [
      "GINI TRAIN: 0.2756807721361514\n",
      "\n",
      "GINI Validation: 0.19558317108592682\n",
      "\n",
      "GINI CV: 0.243648302993113\n"
     ]
    }
   ],
   "source": [
    "## run xgboost\n",
    "bst,gini_cv,gini_train,gini_test,ypred_train,ypred_test=xgboost(X_train_2, X_valid_2, y_train, y_valid)\n",
    "\n",
    "##Model performance on sample\n",
    "print(\"GINI TRAIN:\",gini_train )\n",
    "print(\"\\nGINI Validation:\",gini_test )\n",
    "print(\"\\nGINI CV:\",gini_cv )"
   ]
  },
  {
   "cell_type": "code",
   "execution_count": 24,
   "metadata": {},
   "outputs": [
    {
     "data": {
      "text/plain": [
       "Index(['month_nunique_DEBIT_1000_Earn', 'mesdq_max',\n",
       "       'month_nunique_FUEL_1000_Earn', 'month_nunique_FUEL_365_by_1000_Earn',\n",
       "       'month_nunique_E_WALLET_1000_Earn',\n",
       "       'month_nunique_E_WALLET_180_by_1000_Burn',\n",
       "       'month_nunique_GROCERY_365_by_1000_Earn',\n",
       "       'month_nunique_FUEL_180_by_1000_Earn',\n",
       "       'month_nunique_GROCERY_1000_Earn',\n",
       "       'ALLOCATED_POINTS_mean_E_WALLET_180_by_1000_Burn',\n",
       "       'ALLOCATED_POINTS_median_E_WALLET_180_by_1000_Burn',\n",
       "       'ACTIVITY_VALUE_sum_FUEL_365_by_1000_Earn',\n",
       "       'ALLOCATED_POINTS_max_FUEL_180_Earn',\n",
       "       'ALLOCATED_POINTS_sum_E_WALLET_180_by_1000_Earn',\n",
       "       'ALLOCATED_POINTS_max_FUEL_90_Earn',\n",
       "       'month_nunique_E_WALLET_180_by_1000_Earn', 'ALLOCATED_POINTS_std',\n",
       "       'ALLOCATED_POINTS_sum_E_WALLET_180_by_1000_Burn', 'MOB',\n",
       "       'ACTIVITY_VALUE_sum_GROCERY_90_by_1000_Earn',\n",
       "       'month_nunique_FUEL_365_Earn', 'ALLOCATED_POINTS_mean_FUEL_180_Earn',\n",
       "       'month_nunique_DEBIT_365_by_1000_Earn',\n",
       "       'ALLOCATED_POINTS_median_FUEL_365_Earn',\n",
       "       'ACTIVITY_VALUE_max_GROCERY_90_by_1000_Earn',\n",
       "       'ALLOCATED_POINTS_std_DEBIT_365_Earn',\n",
       "       'ACTIVITY_ID_count_FUEL_365_by_1000_Earn', 'ACTIVITY_VALUE_std',\n",
       "       'ALLOCATED_POINTS_min_E_WALLET_365_Burn',\n",
       "       'ALLOCATED_POINTS_max_DEBIT_365_Earn',\n",
       "       'ALLOCATED_POINTS_sum_FUEL_365_by_1000_Earn',\n",
       "       'ACTIVITY_VALUE_max_FUEL_90_Earn',\n",
       "       'ACTIVITY_VALUE_std_E_WALLET_1000_Earn',\n",
       "       'ACTIVITY_VALUE_max_FUEL_180_Earn',\n",
       "       'ALLOCATED_POINTS_sum_GROCERY_180_by_1000_Earn',\n",
       "       'ALLOCATED_POINTS_max_FUEL_1000_Earn',\n",
       "       'ALLOCATED_POINTS_std_DEBIT_180_Earn',\n",
       "       'ALLOCATED_POINTS_sum_E_WALLET_180_Burn',\n",
       "       'ALLOCATED_POINTS_median_FUEL_180_Earn',\n",
       "       'ALLOCATED_POINTS_mean_FUEL_90_Earn'],\n",
       "      dtype='object')"
      ]
     },
     "execution_count": 24,
     "metadata": {},
     "output_type": "execute_result"
    }
   ],
   "source": [
    "X_train_2.columns"
   ]
  },
  {
   "cell_type": "code",
   "execution_count": 25,
   "metadata": {},
   "outputs": [
    {
     "name": "stdout",
     "output_type": "stream",
     "text": [
      "Gini Test 0.22400500290751513\n"
     ]
    }
   ],
   "source": [
    "#ypred_test = bst.predict_proba(X_test_2.drop(columns=['act','pred']), ntree_limit=bst.best_ntree_limit)[:, 1]\n",
    "ypred_test = bst.predict_proba(X_test_2, ntree_limit=bst.best_ntree_limit)[:, 1]\n",
    "metric_auc_test = metrics.roc_auc_score(y_test, ypred_test)\n",
    "print(\"Gini Test\",metric_auc_test*2-1)"
   ]
  },
  {
   "cell_type": "code",
   "execution_count": 53,
   "metadata": {
    "scrolled": true
   },
   "outputs": [],
   "source": [
    "importance_tbl = fimportances(bst, X_train_2.columns)\n",
    "importance_tbl.to_csv(r\"cd\\\\xgb_cd_fstq_varimp_mesdq.csv\",index=0)"
   ]
  },
  {
   "cell_type": "code",
   "execution_count": 27,
   "metadata": {
    "scrolled": true
   },
   "outputs": [
    {
     "data": {
      "text/html": [
       "<div>\n",
       "<style scoped>\n",
       "    .dataframe tbody tr th:only-of-type {\n",
       "        vertical-align: middle;\n",
       "    }\n",
       "\n",
       "    .dataframe tbody tr th {\n",
       "        vertical-align: top;\n",
       "    }\n",
       "\n",
       "    .dataframe thead th {\n",
       "        text-align: right;\n",
       "    }\n",
       "</style>\n",
       "<table border=\"1\" class=\"dataframe\">\n",
       "  <thead>\n",
       "    <tr style=\"text-align: right;\">\n",
       "      <th></th>\n",
       "      <th>predictor</th>\n",
       "      <th>importance</th>\n",
       "    </tr>\n",
       "  </thead>\n",
       "  <tbody>\n",
       "    <tr>\n",
       "      <th>0</th>\n",
       "      <td>ACTIVITY_ID_count_FUEL_365_by_1000_Earn</td>\n",
       "      <td>0.046842</td>\n",
       "    </tr>\n",
       "    <tr>\n",
       "      <th>1</th>\n",
       "      <td>month_nunique_FUEL_1000_Earn</td>\n",
       "      <td>0.040951</td>\n",
       "    </tr>\n",
       "    <tr>\n",
       "      <th>2</th>\n",
       "      <td>mesdq_max</td>\n",
       "      <td>0.039238</td>\n",
       "    </tr>\n",
       "    <tr>\n",
       "      <th>3</th>\n",
       "      <td>month_nunique_DEBIT_1000_Earn</td>\n",
       "      <td>0.039187</td>\n",
       "    </tr>\n",
       "    <tr>\n",
       "      <th>4</th>\n",
       "      <td>month_nunique_E_WALLET_1000_Earn</td>\n",
       "      <td>0.035659</td>\n",
       "    </tr>\n",
       "    <tr>\n",
       "      <th>5</th>\n",
       "      <td>month_nunique_FUEL_365_by_1000_Earn</td>\n",
       "      <td>0.030656</td>\n",
       "    </tr>\n",
       "    <tr>\n",
       "      <th>6</th>\n",
       "      <td>ALLOCATED_POINTS_mean_E_WALLET_180_by_1000_Burn</td>\n",
       "      <td>0.029569</td>\n",
       "    </tr>\n",
       "    <tr>\n",
       "      <th>7</th>\n",
       "      <td>ALLOCATED_POINTS_sum_FUEL_365_by_1000_Earn</td>\n",
       "      <td>0.029163</td>\n",
       "    </tr>\n",
       "    <tr>\n",
       "      <th>8</th>\n",
       "      <td>month_nunique_E_WALLET_180_by_1000_Burn</td>\n",
       "      <td>0.029104</td>\n",
       "    </tr>\n",
       "    <tr>\n",
       "      <th>9</th>\n",
       "      <td>month_nunique_GROCERY_1000_Earn</td>\n",
       "      <td>0.028243</td>\n",
       "    </tr>\n",
       "    <tr>\n",
       "      <th>10</th>\n",
       "      <td>month_nunique_GROCERY_365_by_1000_Earn</td>\n",
       "      <td>0.027975</td>\n",
       "    </tr>\n",
       "    <tr>\n",
       "      <th>11</th>\n",
       "      <td>MOB</td>\n",
       "      <td>0.027800</td>\n",
       "    </tr>\n",
       "    <tr>\n",
       "      <th>12</th>\n",
       "      <td>month_nunique_FUEL_180_by_1000_Earn</td>\n",
       "      <td>0.027634</td>\n",
       "    </tr>\n",
       "    <tr>\n",
       "      <th>13</th>\n",
       "      <td>ALLOCATED_POINTS_sum_E_WALLET_180_by_1000_Burn</td>\n",
       "      <td>0.027483</td>\n",
       "    </tr>\n",
       "    <tr>\n",
       "      <th>14</th>\n",
       "      <td>ALLOCATED_POINTS_std</td>\n",
       "      <td>0.027479</td>\n",
       "    </tr>\n",
       "    <tr>\n",
       "      <th>15</th>\n",
       "      <td>ALLOCATED_POINTS_max_FUEL_180_Earn</td>\n",
       "      <td>0.026551</td>\n",
       "    </tr>\n",
       "    <tr>\n",
       "      <th>16</th>\n",
       "      <td>ALLOCATED_POINTS_min_E_WALLET_365_Burn</td>\n",
       "      <td>0.026032</td>\n",
       "    </tr>\n",
       "    <tr>\n",
       "      <th>17</th>\n",
       "      <td>ACTIVITY_VALUE_max_FUEL_180_Earn</td>\n",
       "      <td>0.024940</td>\n",
       "    </tr>\n",
       "    <tr>\n",
       "      <th>18</th>\n",
       "      <td>ALLOCATED_POINTS_std_DEBIT_365_Earn</td>\n",
       "      <td>0.024907</td>\n",
       "    </tr>\n",
       "    <tr>\n",
       "      <th>19</th>\n",
       "      <td>ACTIVITY_VALUE_max_FUEL_90_Earn</td>\n",
       "      <td>0.024777</td>\n",
       "    </tr>\n",
       "    <tr>\n",
       "      <th>20</th>\n",
       "      <td>ALLOCATED_POINTS_median_FUEL_180_Earn</td>\n",
       "      <td>0.024080</td>\n",
       "    </tr>\n",
       "    <tr>\n",
       "      <th>21</th>\n",
       "      <td>ALLOCATED_POINTS_std_DEBIT_180_Earn</td>\n",
       "      <td>0.024067</td>\n",
       "    </tr>\n",
       "    <tr>\n",
       "      <th>22</th>\n",
       "      <td>ACTIVITY_VALUE_sum_FUEL_365_by_1000_Earn</td>\n",
       "      <td>0.023606</td>\n",
       "    </tr>\n",
       "    <tr>\n",
       "      <th>23</th>\n",
       "      <td>ACTIVITY_VALUE_sum_GROCERY_90_by_1000_Earn</td>\n",
       "      <td>0.023528</td>\n",
       "    </tr>\n",
       "    <tr>\n",
       "      <th>24</th>\n",
       "      <td>ALLOCATED_POINTS_mean_FUEL_180_Earn</td>\n",
       "      <td>0.021961</td>\n",
       "    </tr>\n",
       "    <tr>\n",
       "      <th>25</th>\n",
       "      <td>ACTIVITY_VALUE_std</td>\n",
       "      <td>0.021736</td>\n",
       "    </tr>\n",
       "    <tr>\n",
       "      <th>26</th>\n",
       "      <td>ALLOCATED_POINTS_sum_E_WALLET_180_by_1000_Earn</td>\n",
       "      <td>0.021341</td>\n",
       "    </tr>\n",
       "    <tr>\n",
       "      <th>27</th>\n",
       "      <td>ALLOCATED_POINTS_sum_E_WALLET_180_Burn</td>\n",
       "      <td>0.021164</td>\n",
       "    </tr>\n",
       "    <tr>\n",
       "      <th>28</th>\n",
       "      <td>month_nunique_FUEL_365_Earn</td>\n",
       "      <td>0.020788</td>\n",
       "    </tr>\n",
       "    <tr>\n",
       "      <th>29</th>\n",
       "      <td>month_nunique_E_WALLET_180_by_1000_Earn</td>\n",
       "      <td>0.020559</td>\n",
       "    </tr>\n",
       "    <tr>\n",
       "      <th>30</th>\n",
       "      <td>ALLOCATED_POINTS_max_FUEL_90_Earn</td>\n",
       "      <td>0.020191</td>\n",
       "    </tr>\n",
       "    <tr>\n",
       "      <th>31</th>\n",
       "      <td>ALLOCATED_POINTS_max_FUEL_1000_Earn</td>\n",
       "      <td>0.019265</td>\n",
       "    </tr>\n",
       "    <tr>\n",
       "      <th>32</th>\n",
       "      <td>ACTIVITY_VALUE_std_E_WALLET_1000_Earn</td>\n",
       "      <td>0.018210</td>\n",
       "    </tr>\n",
       "    <tr>\n",
       "      <th>33</th>\n",
       "      <td>ALLOCATED_POINTS_max_DEBIT_365_Earn</td>\n",
       "      <td>0.017913</td>\n",
       "    </tr>\n",
       "    <tr>\n",
       "      <th>34</th>\n",
       "      <td>ALLOCATED_POINTS_median_E_WALLET_180_by_1000_Burn</td>\n",
       "      <td>0.016609</td>\n",
       "    </tr>\n",
       "    <tr>\n",
       "      <th>35</th>\n",
       "      <td>ALLOCATED_POINTS_median_FUEL_365_Earn</td>\n",
       "      <td>0.016220</td>\n",
       "    </tr>\n",
       "    <tr>\n",
       "      <th>36</th>\n",
       "      <td>ALLOCATED_POINTS_sum_GROCERY_180_by_1000_Earn</td>\n",
       "      <td>0.015880</td>\n",
       "    </tr>\n",
       "    <tr>\n",
       "      <th>37</th>\n",
       "      <td>ACTIVITY_VALUE_max_GROCERY_90_by_1000_Earn</td>\n",
       "      <td>0.015678</td>\n",
       "    </tr>\n",
       "    <tr>\n",
       "      <th>38</th>\n",
       "      <td>ALLOCATED_POINTS_mean_FUEL_90_Earn</td>\n",
       "      <td>0.014950</td>\n",
       "    </tr>\n",
       "    <tr>\n",
       "      <th>39</th>\n",
       "      <td>month_nunique_DEBIT_365_by_1000_Earn</td>\n",
       "      <td>0.008066</td>\n",
       "    </tr>\n",
       "  </tbody>\n",
       "</table>\n",
       "</div>"
      ],
      "text/plain": [
       "                                            predictor  importance\n",
       "0             ACTIVITY_ID_count_FUEL_365_by_1000_Earn    0.046842\n",
       "1                        month_nunique_FUEL_1000_Earn    0.040951\n",
       "2                                           mesdq_max    0.039238\n",
       "3                       month_nunique_DEBIT_1000_Earn    0.039187\n",
       "4                    month_nunique_E_WALLET_1000_Earn    0.035659\n",
       "5                 month_nunique_FUEL_365_by_1000_Earn    0.030656\n",
       "6     ALLOCATED_POINTS_mean_E_WALLET_180_by_1000_Burn    0.029569\n",
       "7          ALLOCATED_POINTS_sum_FUEL_365_by_1000_Earn    0.029163\n",
       "8             month_nunique_E_WALLET_180_by_1000_Burn    0.029104\n",
       "9                     month_nunique_GROCERY_1000_Earn    0.028243\n",
       "10             month_nunique_GROCERY_365_by_1000_Earn    0.027975\n",
       "11                                                MOB    0.027800\n",
       "12                month_nunique_FUEL_180_by_1000_Earn    0.027634\n",
       "13     ALLOCATED_POINTS_sum_E_WALLET_180_by_1000_Burn    0.027483\n",
       "14                               ALLOCATED_POINTS_std    0.027479\n",
       "15                 ALLOCATED_POINTS_max_FUEL_180_Earn    0.026551\n",
       "16             ALLOCATED_POINTS_min_E_WALLET_365_Burn    0.026032\n",
       "17                   ACTIVITY_VALUE_max_FUEL_180_Earn    0.024940\n",
       "18                ALLOCATED_POINTS_std_DEBIT_365_Earn    0.024907\n",
       "19                    ACTIVITY_VALUE_max_FUEL_90_Earn    0.024777\n",
       "20              ALLOCATED_POINTS_median_FUEL_180_Earn    0.024080\n",
       "21                ALLOCATED_POINTS_std_DEBIT_180_Earn    0.024067\n",
       "22           ACTIVITY_VALUE_sum_FUEL_365_by_1000_Earn    0.023606\n",
       "23         ACTIVITY_VALUE_sum_GROCERY_90_by_1000_Earn    0.023528\n",
       "24                ALLOCATED_POINTS_mean_FUEL_180_Earn    0.021961\n",
       "25                                 ACTIVITY_VALUE_std    0.021736\n",
       "26     ALLOCATED_POINTS_sum_E_WALLET_180_by_1000_Earn    0.021341\n",
       "27             ALLOCATED_POINTS_sum_E_WALLET_180_Burn    0.021164\n",
       "28                        month_nunique_FUEL_365_Earn    0.020788\n",
       "29            month_nunique_E_WALLET_180_by_1000_Earn    0.020559\n",
       "30                  ALLOCATED_POINTS_max_FUEL_90_Earn    0.020191\n",
       "31                ALLOCATED_POINTS_max_FUEL_1000_Earn    0.019265\n",
       "32              ACTIVITY_VALUE_std_E_WALLET_1000_Earn    0.018210\n",
       "33                ALLOCATED_POINTS_max_DEBIT_365_Earn    0.017913\n",
       "34  ALLOCATED_POINTS_median_E_WALLET_180_by_1000_Burn    0.016609\n",
       "35              ALLOCATED_POINTS_median_FUEL_365_Earn    0.016220\n",
       "36      ALLOCATED_POINTS_sum_GROCERY_180_by_1000_Earn    0.015880\n",
       "37         ACTIVITY_VALUE_max_GROCERY_90_by_1000_Earn    0.015678\n",
       "38                 ALLOCATED_POINTS_mean_FUEL_90_Earn    0.014950\n",
       "39               month_nunique_DEBIT_365_by_1000_Earn    0.008066"
      ]
     },
     "execution_count": 27,
     "metadata": {},
     "output_type": "execute_result"
    }
   ],
   "source": [
    "importance_tbl = fimportances(bst, X_train_2.columns)\n",
    "importance_tbl.head(50)"
   ]
  },
  {
   "cell_type": "code",
   "execution_count": 54,
   "metadata": {},
   "outputs": [
    {
     "name": "stderr",
     "output_type": "stream",
     "text": [
      "C:\\Users\\sgupta\\AppData\\Local\\Continuum\\anaconda3\\lib\\site-packages\\ipykernel_launcher.py:4: SettingWithCopyWarning: \n",
      "A value is trying to be set on a copy of a slice from a DataFrame.\n",
      "Try using .loc[row_indexer,col_indexer] = value instead\n",
      "\n",
      "See the caveats in the documentation: http://pandas.pydata.org/pandas-docs/stable/indexing.html#indexing-view-versus-copy\n",
      "  after removing the cwd from sys.path.\n"
     ]
    }
   ],
   "source": [
    "## save the model \n",
    "pickle.dump(bst, open(\"cd\\\\xgb_cd_fstq_wo_hc_mesdq\", \"wb\"))\n",
    "##Score the dataset\n",
    "outtest=X_test_2;  outtest['pred']=ypred_test ; outtest['act']=y_test ; \n",
    "outtest.to_csv(r\"cd\\\\xgb_cd_fstq_wohc_mesdq.csv\")"
   ]
  },
  {
   "cell_type": "code",
   "execution_count": 29,
   "metadata": {},
   "outputs": [
    {
     "name": "stdout",
     "output_type": "stream",
     "text": [
      "[[31628  1489]\n",
      " [ 1544   257]]\n",
      "\n",
      " Log Loss is : 0.5289364323272616\n",
      "Average precision-recall score: 0.07\n"
     ]
    },
    {
     "data": {
      "image/png": "[encoded data removed]",
      "text/plain": [
       "<Figure size 432x288 with 1 Axes>"
      ]
     },
     "metadata": {
      "needs_background": "light"
     },
     "output_type": "display_data"
    }
   ],
   "source": [
    "#metrics calculation\n",
    "cutoff=np.percentile(X_test['HC_SCORE'],95)\n",
    "ypred=pd.Series(X_test['HC_SCORE']).apply(lambda x : 1 if x >cutoff else 0 )\n",
    "#ypred=pd.Series(ypred_test).apply(lambda x : 1 if x > 0.48631722 else 0 )\n",
    "\n",
    "print(confusion_matrix(y_test, ypred))\n",
    "pd.Series(ypred_test).plot.hist(bins=10, rwidth=0.9 ,color='#607c8e')\n",
    "\n",
    "print(\"\\n Log Loss is :\",log_loss(y_test, ypred_test))\n",
    "print('Average precision-recall score: {0:0.2f}'.format(average_precision_score(y_test, ypred_test)))"
   ]
  },
  {
   "cell_type": "code",
   "execution_count": 30,
   "metadata": {},
   "outputs": [],
   "source": [
    "# retrieve performance metrics\n",
    "results = bst.evals_result()\n",
    "epochs = len(results['validation_0']['auc'])\n",
    "x_axis = range(0, epochs)"
   ]
  },
  {
   "cell_type": "code",
   "execution_count": 31,
   "metadata": {},
   "outputs": [
    {
     "data": {
      "text/plain": [
       "Text(0.5, 1.0, 'XGBoost AUC')"
      ]
     },
     "execution_count": 31,
     "metadata": {},
     "output_type": "execute_result"
    },
    {
     "data": {
      "image/png": "[encoded data removed]",
      "text/plain": [
       "<Figure size 432x288 with 1 Axes>"
      ]
     },
     "metadata": {
      "needs_background": "light"
     },
     "output_type": "display_data"
    }
   ],
   "source": [
    "# plot classification error\n",
    "fig, ax = plt.subplots()\n",
    "ax.plot(x_axis, results['validation_0']['auc'], label='train')\n",
    "ax.plot(x_axis, results['validation_1']['auc'], label='test')\n",
    "\n",
    "ax.legend()\n",
    "plt.ylabel('XGB AUC')\n",
    "plt.title('XGBoost AUC')"
   ]
  },
  {
   "cell_type": "code",
   "execution_count": 32,
   "metadata": {},
   "outputs": [
    {
     "data": {
      "image/png": "[encoded data removed]",
      "text/plain": [
       "<Figure size 432x288 with 1 Axes>"
      ]
     },
     "metadata": {
      "needs_background": "light"
     },
     "output_type": "display_data"
    }
   ],
   "source": [
    "# Compute micro-average ROC curve and ROC area\n",
    "fpr, tpr, thresholds = roc_curve(y_test.iloc[:, 0].ravel(), ypred_test.ravel())\n",
    "roc_auc = auc(fpr, tpr)\n",
    "\n",
    "plt.figure()\n",
    "lw = 1\n",
    "plt.plot(fpr, tpr, color='darkorange',         lw=lw, label='ROC curve (area = %0.2f)' % roc_auc)\n",
    "plt.plot([0, 1], [0, 1], color='navy', lw=lw, linestyle='--')\n",
    "plt.xlim([0.0, 1.0])\n",
    "plt.ylim([0.0, 1.05])\n",
    "plt.xlabel('False Positive Rate')\n",
    "plt.ylabel('True Positive Rate')\n",
    "plt.title('Receiver operating characteristic example')\n",
    "plt.legend(loc=\"lower right\")\n",
    "plt.show()"
   ]
  },
  {
   "cell_type": "code",
   "execution_count": 33,
   "metadata": {},
   "outputs": [
    {
     "data": {
      "text/plain": [
       "[]"
      ]
     },
     "execution_count": 33,
     "metadata": {},
     "output_type": "execute_result"
    },
    {
     "data": {
      "image/png": "[encoded data removed]",
      "text/plain": [
       "<Figure size 432x288 with 1 Axes>"
      ]
     },
     "metadata": {
      "needs_background": "light"
     },
     "output_type": "display_data"
    }
   ],
   "source": [
    "i = np.arange(len(tpr)) # index for df\n",
    "roc = pd.DataFrame({'fpr' : pd.Series(fpr, index=i),'tpr' : pd.Series(tpr, index = i), '1-fpr' : pd.Series(1-fpr, index = i), 'tf' : pd.Series(tpr - (1-fpr), index = i), 'thresholds' : pd.Series(thresholds, index = i)})\n",
    "roc.ix[(roc.tf-0).abs().argsort()[:1]]\n",
    "\n",
    "# Plot tpr vs 1-fpr\n",
    "fig, ax = plt.subplots()\n",
    "plt.plot(roc['tpr'])\n",
    "plt.plot(roc['1-fpr'], color = 'red')\n",
    "plt.xlabel('1-False Positive Rate')\n",
    "plt.ylabel('True Positive Rate')\n",
    "plt.title('Receiver operating characteristic')\n",
    "ax.set_xticklabels([])"
   ]
  },
  {
   "cell_type": "code",
   "execution_count": 34,
   "metadata": {},
   "outputs": [
    {
     "name": "stdout",
     "output_type": "stream",
     "text": [
      "\n",
      " Optimal Cut off : 0.42650497\n"
     ]
    }
   ],
   "source": [
    "optimal_idx = np.argmax(tpr - fpr)  ## check it once \n",
    "optimal_threshold = thresholds[optimal_idx]\n",
    "print(\"\\n Optimal Cut off :\",optimal_threshold)"
   ]
  },
  {
   "cell_type": "code",
   "execution_count": 35,
   "metadata": {},
   "outputs": [
    {
     "name": "stdout",
     "output_type": "stream",
     "text": [
      " \n",
      " Min -Max test score: 0.000375347076813848 \t 0.5046075807869808\n",
      " \n",
      " Min -Max train score: 0.0002987409422098748 \t 0.4716773683418064\n"
     ]
    }
   ],
   "source": [
    "print(\" \\n Min -Max test score:\",test['HC_SCORE'].min(),\"\\t\",test['HC_SCORE'].max())\n",
    "print(\" \\n Min -Max train score:\",train['HC_SCORE'].min(),\"\\t\",train['HC_SCORE'].max())"
   ]
  },
  {
   "cell_type": "code",
   "execution_count": 36,
   "metadata": {
    "scrolled": false
   },
   "outputs": [
    {
     "name": "stdout",
     "output_type": "stream",
     "text": [
      "\n",
      "Total bad : 5840\n",
      "Bad captured in worst category : 23.65%\n",
      "\n",
      "                     HC_SCORE  RISK_FSTQPD30\n",
      "HC_SCORE                                   \n",
      "(-0.000701, 0.004]  0.002786       0.016667\n",
      "(0.004, 0.00583]    0.004933       0.024916\n",
      "(0.00583, 0.00759]  0.006708       0.030501\n",
      "(0.00759, 0.0095]   0.008537       0.034797\n",
      "(0.0095, 0.0118]    0.010584       0.039608\n",
      "(0.0118, 0.0147]    0.013150       0.049145\n",
      "(0.0147, 0.0186]    0.016504       0.052410\n",
      "(0.0186, 0.0251]    0.021581       0.063322\n",
      "(0.0251, 0.0392]    0.031084       0.071742\n",
      "(0.0392, 0.505]     0.069835       0.118643\n",
      "                      HC_SCORE  RISK_FSTQPD30\n",
      "HC_SCORE                                     \n",
      "(-0.000701, 0.004]   32.428285            194\n",
      "(0.004, 0.00583]     57.412539            290\n",
      "(0.00583, 0.00759]   78.076466            355\n",
      "(0.00759, 0.0095]    99.367225            405\n",
      "(0.0095, 0.0118]    123.185395            461\n",
      "(0.0118, 0.0147]    153.048799            572\n",
      "(0.0147, 0.0186]    192.095605            610\n",
      "(0.0186, 0.0251]    251.184935            737\n",
      "(0.0251, 0.0392]    361.786644            835\n",
      "(0.0392, 0.505]     812.876764           1381\n"
     ]
    }
   ],
   "source": [
    "## Bad rates in overall population \n",
    "cd=pd.DataFrame(df[['HC_SCORE','RISK_FSTQPD30']]).sort_values(by=['HC_SCORE'],ascending=False)\n",
    "print(\"\\nTotal bad :\",df['RISK_FSTQPD30'].sum())\n",
    "print(\"Bad captured in worst category :\",'{:,.2%}'.format(cd.groupby(pd.qcut(cd['HC_SCORE'],10,duplicates='drop')).sum()['RISK_FSTQPD30'][-1]/df['RISK_FSTQPD30'].sum()))\n",
    "print(\"\\n\",cd.groupby(pd.qcut(cd['HC_SCORE'],10,duplicates='drop')).mean())\n",
    "print(cd.groupby(pd.qcut(cd['HC_SCORE'],10,duplicates='drop')).sum())"
   ]
  },
  {
   "cell_type": "code",
   "execution_count": 37,
   "metadata": {
    "scrolled": false
   },
   "outputs": [
    {
     "name": "stdout",
     "output_type": "stream",
     "text": [
      "\n",
      "Total bad : 1801\n",
      "Bad captured in worst category : 23.54%\n",
      "\n",
      "                       HC_SCORE  RISK_FSTQPD30\n",
      "HC_SCORE                                     \n",
      "(-0.000625, 0.00397]  0.002769       0.016037\n",
      "(0.00397, 0.00581]    0.004916       0.024628\n",
      "(0.00581, 0.00756]    0.006677       0.029210\n",
      "(0.00756, 0.00943]    0.008492       0.030937\n",
      "(0.00943, 0.0116]     0.010473       0.047251\n",
      "(0.0116, 0.0145]      0.012989       0.050115\n",
      "(0.0145, 0.0184]      0.016358       0.055285\n",
      "(0.0184, 0.0249]      0.021390       0.062142\n",
      "(0.0249, 0.0387]      0.030674       0.078751\n",
      "(0.0387, 0.505]       0.068824       0.121420\n",
      "                        HC_SCORE  RISK_FSTQPD30\n",
      "HC_SCORE                                       \n",
      "(-0.000625, 0.00397]    9.667663             56\n",
      "(0.00397, 0.00581]     17.165744             86\n",
      "(0.00581, 0.00756]     23.317099            102\n",
      "(0.00756, 0.00943]     29.646038            108\n",
      "(0.00943, 0.0116]      36.570223            165\n",
      "(0.0116, 0.0145]       45.358546            175\n",
      "(0.0145, 0.0184]       57.107176            193\n",
      "(0.0184, 0.0249]       74.693112            217\n",
      "(0.0249, 0.0387]      107.111929            275\n",
      "(0.0387, 0.505]       240.333058            424\n"
     ]
    }
   ],
   "source": [
    "## Bad rates in overall population \n",
    "cd=pd.DataFrame(test[['HC_SCORE','RISK_FSTQPD30']]).sort_values(by=['HC_SCORE'],ascending=False)\n",
    "print(\"\\nTotal bad :\",test['RISK_FSTQPD30'].sum())\n",
    "print(\"Bad captured in worst category :\",'{:,.2%}'.format(cd.groupby(pd.qcut(cd['HC_SCORE'],10,duplicates='drop')).sum()['RISK_FSTQPD30'][-1]/test['RISK_FSTQPD30'].sum()))\n",
    "print(\"\\n\",cd.groupby(pd.qcut(cd['HC_SCORE'],10,duplicates='drop')).mean())\n",
    "print(cd.groupby(pd.qcut(cd['HC_SCORE'],10,duplicates='drop')).sum())"
   ]
  },
  {
   "cell_type": "code",
   "execution_count": 38,
   "metadata": {
    "scrolled": false
   },
   "outputs": [
    {
     "name": "stdout",
     "output_type": "stream",
     "text": [
      "Bad captured in worst category Partner Score test sample : 15.88%\n",
      "\n",
      "Total bads in test sample: 1801\n",
      "                    pred       act\n",
      "pred                              \n",
      "(0.147, 0.306]  0.271832  0.018328\n",
      "(0.306, 0.335]  0.321769  0.032627\n",
      "(0.335, 0.353]  0.343707  0.032378\n",
      "(0.353, 0.38]   0.364991  0.045832\n",
      "(0.38, 0.407]   0.393874  0.051546\n",
      "(0.407, 0.427]  0.416962  0.050115\n",
      "(0.427, 0.445]  0.438057  0.061715\n",
      "(0.445, 0.456]  0.449541  0.064261\n",
      "(0.456, 0.48]   0.464982  0.077320\n",
      "(0.48, 0.609]   0.505987  0.081901\n",
      "                       pred  act\n",
      "pred                            \n",
      "(0.147, 0.306]   949.236694   64\n",
      "(0.306, 0.335]  1124.261230  114\n",
      "(0.335, 0.353]  1199.538086  113\n",
      "(0.353, 0.38]   1274.185181  160\n",
      "(0.38, 0.407]   1375.407593  180\n",
      "(0.407, 0.427]  1456.032959  175\n",
      "(0.427, 0.445]  1675.130249  236\n",
      "(0.445, 0.456]  1420.100830  203\n",
      "(0.456, 0.48]   1623.718750  270\n",
      "(0.48, 0.609]   1766.908325  286\n"
     ]
    }
   ],
   "source": [
    "## Bad rates in overall population \n",
    "cdt=pd.DataFrame(outtest[['pred','act']])\n",
    "print(\"Bad captured in worst category Partner Score test sample :\",'{:,.2%}'.format(cdt.groupby(pd.qcut(cdt['pred'],10,duplicates='drop')).sum()['act'][-1]/cdt['act'].sum()))\n",
    "print(\"\\nTotal bads in test sample:\",cdt['act'].sum())\n",
    "print(cdt.groupby(pd.qcut(cdt['pred'],10,duplicates='drop')).mean())\n",
    "print(cdt.groupby(pd.qcut(cdt['pred'],10,duplicates='drop')).sum())"
   ]
  },
  {
   "cell_type": "code",
   "execution_count": 39,
   "metadata": {},
   "outputs": [],
   "source": [
    "## Pillar  approach to combine score\n",
    "hcc_score = 'HC_SCORE'\n",
    "X_pillar_train = pd.DataFrame()\n",
    "X_pillar_test = pd.DataFrame()\n",
    "\n",
    "X_pillar_train[hcc_score]=train['HC_SCORE']; \n",
    "X_pillar_test[hcc_score]=test['HC_SCORE']\n",
    "\n",
    "X_pillar_train[\"XGB_SCORE\"] =  bst.predict_proba(train[selected_vars[0]], ntree_limit=bst.best_ntree_limit)[:, 1]\n",
    "X_pillar_test[\"XGB_SCORE\"]  =  bst.predict_proba(test[selected_vars[0]], ntree_limit=bst.best_ntree_limit)[:, 1]\n",
    "\n",
    "X_pillar_train[\"FSTQ\"] = train['RISK_FSTQPD30']\n",
    "X_pillar_test[\"FSTQ\"] = test['RISK_FSTQPD30']\n",
    "\n",
    "X_train_log = X_pillar_train.loc[pd.notnull(X_pillar_train[hcc_score]),['HC_SCORE','XGB_SCORE']]\n",
    "y_train_log = X_pillar_train.loc[pd.notnull(X_pillar_train[hcc_score]),['FSTQ']]\n",
    "\n",
    "X_test_log = X_pillar_test.loc[pd.notnull(X_pillar_test[hcc_score]),['HC_SCORE','XGB_SCORE']]\n",
    "y_test_log = X_pillar_test.loc[pd.notnull(X_pillar_test[hcc_score]),['FSTQ']]\n",
    "\n",
    "X_train_log = np.log((X_train_log + 1e-10).divide(1 - (X_train_log + 1e-10)))\n",
    "X_test_log = np.log((X_test_log + 1e-10).divide(1 - (X_test_log + 1e-10)))"
   ]
  },
  {
   "cell_type": "code",
   "execution_count": 40,
   "metadata": {
    "scrolled": true
   },
   "outputs": [
    {
     "name": "stderr",
     "output_type": "stream",
     "text": [
      "C:\\Users\\sgupta\\AppData\\Local\\Continuum\\anaconda3\\lib\\site-packages\\sklearn\\linear_model\\logistic.py:432: FutureWarning: Default solver will be changed to 'lbfgs' in 0.22. Specify a solver to silence this warning.\n",
      "  FutureWarning)\n",
      "C:\\Users\\sgupta\\AppData\\Local\\Continuum\\anaconda3\\lib\\site-packages\\sklearn\\linear_model\\logistic.py:1544: UserWarning: 'n_jobs' > 1 does not have any effect when 'solver' is set to 'liblinear'. Got 'n_jobs' = 8.\n",
      "  \" = {}.\".format(effective_n_jobs(self.n_jobs)))\n"
     ]
    }
   ],
   "source": [
    "logreg = LogisticRegression(C=11, n_jobs=cpu)\n",
    "\n",
    "# cross validation gini\n",
    "kfolds = StratifiedKFold(10, random_state=1)\n",
    "auc_cv = cross_val_score(logreg, X_test_log, np.ravel(y_test_log), scoring='roc_auc',\n",
    "                         cv=kfolds.split(X_test_log, np.ravel(y_test_log)), n_jobs=cpu)\n",
    "gini_cv = (2 * np.array(auc_cv) - 1).mean()\n",
    "\n",
    "logreg.fit(X_test_log, np.ravel(y_test_log))\n",
    "log_coef_tbl = pd.DataFrame({'predictor': ['intercept'] + X_test_log.columns.tolist(),\n",
    "                             'coefficient': list(logreg.intercept_) + list(logreg.coef_[0])})\n",
    "log_coef_tbl = log_coef_tbl[['predictor', 'coefficient']]"
   ]
  },
  {
   "cell_type": "code",
   "execution_count": 42,
   "metadata": {},
   "outputs": [
    {
     "data": {
      "text/html": [
       "<div>\n",
       "<style scoped>\n",
       "    .dataframe tbody tr th:only-of-type {\n",
       "        vertical-align: middle;\n",
       "    }\n",
       "\n",
       "    .dataframe tbody tr th {\n",
       "        vertical-align: top;\n",
       "    }\n",
       "\n",
       "    .dataframe thead th {\n",
       "        text-align: right;\n",
       "    }\n",
       "</style>\n",
       "<table border=\"1\" class=\"dataframe\">\n",
       "  <thead>\n",
       "    <tr style=\"text-align: right;\">\n",
       "      <th></th>\n",
       "      <th>predictor</th>\n",
       "      <th>coefficient</th>\n",
       "    </tr>\n",
       "  </thead>\n",
       "  <tbody>\n",
       "    <tr>\n",
       "      <th>0</th>\n",
       "      <td>intercept</td>\n",
       "      <td>0.302092</td>\n",
       "    </tr>\n",
       "    <tr>\n",
       "      <th>1</th>\n",
       "      <td>HC_SCORE</td>\n",
       "      <td>0.645905</td>\n",
       "    </tr>\n",
       "    <tr>\n",
       "      <th>2</th>\n",
       "      <td>XGB_SCORE</td>\n",
       "      <td>1.409761</td>\n",
       "    </tr>\n",
       "  </tbody>\n",
       "</table>\n",
       "</div>"
      ],
      "text/plain": [
       "   predictor  coefficient\n",
       "0  intercept     0.302092\n",
       "1   HC_SCORE     0.645905\n",
       "2  XGB_SCORE     1.409761"
      ]
     },
     "execution_count": 42,
     "metadata": {},
     "output_type": "execute_result"
    }
   ],
   "source": [
    "log_coef_tbl"
   ]
  },
  {
   "cell_type": "code",
   "execution_count": 43,
   "metadata": {},
   "outputs": [
    {
     "name": "stdout",
     "output_type": "stream",
     "text": [
      "GINI TRAIN: 0.39458528381120184\n",
      "\n",
      "GINI TEST: 0.40233218148620775\n",
      "\n",
      "GINI CV: 0.3942185475416986\n"
     ]
    }
   ],
   "source": [
    "## Model performance\n",
    "ypred_train_pillar = logreg.predict_proba(X_train_log)[:, 1]\n",
    "metric_auc_train_log = metrics.roc_auc_score(np.ravel(y_train_log), ypred_train_pillar)\n",
    "gini_train_pillar = 2 * metric_auc_train_log - 1\n",
    "ypred_test_pillar = logreg.predict_proba(X_test_log)[:, 1]\n",
    "metric_auc_test_log = metrics.roc_auc_score(np.ravel(y_test_log), ypred_test_pillar)\n",
    "gini_test_pillar = 2 * metric_auc_test_log - 1\n",
    "\n",
    "print(\"GINI TRAIN:\",gini_test_pillar )\n",
    "print(\"\\nGINI TEST:\",gini_train_pillar )\n",
    "print(\"\\nGINI CV:\",gini_cv )"
   ]
  },
  {
   "cell_type": "code",
   "execution_count": 55,
   "metadata": {},
   "outputs": [
    {
     "name": "stderr",
     "output_type": "stream",
     "text": [
      "C:\\Users\\sgupta\\AppData\\Local\\Continuum\\anaconda3\\lib\\site-packages\\ipykernel_launcher.py:1: SettingWithCopyWarning: \n",
      "A value is trying to be set on a copy of a slice from a DataFrame.\n",
      "Try using .loc[row_indexer,col_indexer] = value instead\n",
      "\n",
      "See the caveats in the documentation: http://pandas.pydata.org/pandas-docs/stable/indexing.html#indexing-view-versus-copy\n",
      "  \"\"\"Entry point for launching an IPython kernel.\n"
     ]
    }
   ],
   "source": [
    "outtest1=X_test;  outtest1['pred']=ypred_test_pillar ; outtest1['act']=y_test ; \n",
    "outtest1.to_csv(r\"cd\\\\comb_cd_fstq_mesdq.csv\")"
   ]
  },
  {
   "cell_type": "code",
   "execution_count": 45,
   "metadata": {},
   "outputs": [
    {
     "name": "stdout",
     "output_type": "stream",
     "text": [
      "[[30418  2699]\n",
      " [ 1357   444]]\n",
      "\n",
      " Log Loss is : 0.5289364323272616\n",
      "Average precision-recall score: 0.07\n"
     ]
    },
    {
     "data": {
      "image/png": "[encoded data removed]",
      "text/plain": [
       "<Figure size 432x288 with 1 Axes>"
      ]
     },
     "metadata": {
      "needs_background": "light"
     },
     "output_type": "display_data"
    }
   ],
   "source": [
    "#metrics calculation\n",
    "cutoff=np.percentile(ypred_test_pillar,91)\n",
    "ypred=pd.Series(ypred_test_pillar).apply(lambda x : 1 if x >cutoff else 0 )\n",
    "\n",
    "print(confusion_matrix(y_test, ypred))\n",
    "pd.Series(ypred_test_pillar).plot.hist(bins=10, rwidth=0.9 ,color='#607c8e')\n",
    "\n",
    "print(\"\\n Log Loss is :\",log_loss(y_test, ypred_test))\n",
    "print('Average precision-recall score: {0:0.2f}'.format(average_precision_score(y_test, ypred_test)))"
   ]
  },
  {
   "cell_type": "code",
   "execution_count": 46,
   "metadata": {},
   "outputs": [
    {
     "name": "stdout",
     "output_type": "stream",
     "text": [
      "\n",
      " AUC for precision-recall : 0.1184608508433192\n"
     ]
    },
    {
     "data": {
      "image/png": "[encoded data removed]",
      "text/plain": [
       "<Figure size 432x288 with 1 Axes>"
      ]
     },
     "metadata": {
      "needs_background": "light"
     },
     "output_type": "display_data"
    },
    {
     "data": {
      "image/png": "[encoded data removed]",
      "text/plain": [
       "<Figure size 432x288 with 1 Axes>"
      ]
     },
     "metadata": {
      "needs_background": "light"
     },
     "output_type": "display_data"
    }
   ],
   "source": [
    "## PRC curve\n",
    "precision, recall, _ = precision_recall_curve(y_test, ypred_test_pillar)\n",
    "\n",
    "step_kwargs = ({'step': 'post'}\n",
    "               #if 'step' in signature(plt.fill_between).parameters\n",
    "               #else {}\n",
    "              )\n",
    "plt.step(recall, precision, color='b', alpha=0.2, where='post')\n",
    "plt.fill_between(recall, precision, alpha=0.2, color='b', **step_kwargs)\n",
    "\n",
    "plt.xlabel('Recall')\n",
    "plt.ylabel('Precision')\n",
    "plt.ylim([0.0, 0.5])\n",
    "plt.xlim([0.0, 0.5])\n",
    "plt.title('2-class Precision-Recall curve: AP={0:0.2f}'.format(average_precision_score(test['RISK_FSTQPD30'], ypred_test_pillar)))\n",
    "\n",
    "# calculate precision-recall AUC\n",
    "auc_pr = auc(recall, precision)\n",
    "print(\"\\n AUC for precision-recall :\",auc_pr)\n",
    "\n",
    "# Compute micro-average ROC curve and ROC area\n",
    "fprhc, tprhc, thresholds = roc_curve(test['RISK_FSTQPD30'], test['HC_SCORE'].ravel())\n",
    "roc_auchc = auc(fprhc, tprhc)\n",
    "\n",
    "fprc, tprc, thresholds = roc_curve(test['RISK_FSTQPD30'], ypred_test_pillar.ravel())\n",
    "roc_aucc = auc(fprc, tprc)\n",
    "\n",
    "plt.figure()\n",
    "lw = 1\n",
    "plt.plot(fprc, tprc, lw=lw, label='ROC Comb (area = %0.2f)' % roc_aucc)\n",
    "plt.plot(fprhc, tprhc, lw=lw, label='ROC HC (area = %0.2f)' % roc_auchc)\n",
    "plt.plot([0, 1], [0, 1], color='navy', lw=lw, linestyle='--')\n",
    "plt.plot(fpr, tpr, lw=lw, label='ROC partner (area = %0.2f)' % roc_auc)\n",
    "plt.xlim([0.0, 1.0])\n",
    "plt.ylim([0.0, 1.05])\n",
    "plt.xlabel('False Positive Rate')\n",
    "plt.ylabel('True Positive Rate')\n",
    "plt.title('Receiver operating characteristic example')\n",
    "plt.legend(loc=\"lower right\")\n",
    "plt.show()"
   ]
  },
  {
   "cell_type": "code",
   "execution_count": 47,
   "metadata": {},
   "outputs": [
    {
     "name": "stdout",
     "output_type": "stream",
     "text": [
      "Bad captured in worst category Partner Score test sample : 26.60%\n",
      "\n",
      "Total bads in test sample: 1801\n",
      "                       pred       act\n",
      "pred                                 \n",
      "(0.00102, 0.0171]  0.012667  0.012314\n",
      "(0.0171, 0.023]    0.020051  0.022337\n",
      "(0.023, 0.0288]    0.025824  0.022050\n",
      "(0.0288, 0.0347]   0.031648  0.027786\n",
      "(0.0347, 0.041]    0.037758  0.038373\n",
      "(0.041, 0.0485]    0.044704  0.043242\n",
      "(0.0485, 0.0586]   0.053371  0.056144\n",
      "(0.0586, 0.0729]   0.065273  0.075029\n",
      "(0.0729, 0.0977]   0.083745  0.081329\n",
      "(0.0977, 0.431]    0.140730  0.137171\n",
      "                         pred  act\n",
      "pred                              \n",
      "(0.00102, 0.0171]   44.234620   43\n",
      "(0.0171, 0.023]     70.018280   78\n",
      "(0.023, 0.0288]     90.176014   77\n",
      "(0.0288, 0.0347]   110.481704   97\n",
      "(0.0347, 0.041]    131.850402  134\n",
      "(0.041, 0.0485]    156.105574  151\n",
      "(0.0485, 0.0586]   186.317749  196\n",
      "(0.0586, 0.0729]   227.932464  262\n",
      "(0.0729, 0.0977]   292.437340  284\n",
      "(0.0977, 0.431]    491.430735  479\n"
     ]
    }
   ],
   "source": [
    "## Bad rates combined score in overall population \n",
    "cdt=pd.DataFrame(outtest1[['pred','act']])\n",
    "print(\"Bad captured in worst category Partner Score test sample :\",'{:,.2%}'.format(cdt.groupby(pd.qcut(cdt['pred'],10,duplicates='drop')).sum()['act'][-1]/cdt['act'].sum()))\n",
    "print(\"\\nTotal bads in test sample:\",cdt['act'].sum())\n",
    "print(cdt.groupby(pd.qcut(cdt['pred'],10,duplicates='drop')).mean())\n",
    "print(cdt.groupby(pd.qcut(cdt['pred'],10,duplicates='drop')).sum())"
   ]
  },
  {
   "cell_type": "code",
   "execution_count": 6,
   "metadata": {},
   "outputs": [
    {
     "name": "stdout",
     "output_type": "stream",
     "text": [
      "Bad captured in worst category Partner Score test sample : 20.75%\n",
      "\n",
      "Total bads in test sample: 7353\n",
      "                                   HC_SCORE  RISK_FSTQPD30\n",
      "HC_SCORE                                                  \n",
      "(-0.0007650000000000001, 0.00344]  0.002322       0.010772\n",
      "(0.00344, 0.00522]                 0.004339       0.017632\n",
      "(0.00522, 0.00701]                 0.006098       0.025570\n",
      "(0.00701, 0.00899]                 0.007975       0.028120\n",
      "(0.00899, 0.0113]                  0.010119       0.033507\n",
      "(0.0113, 0.0145]                   0.012845       0.040197\n",
      "(0.0145, 0.019]                    0.016581       0.043540\n",
      "(0.019, 0.0263]                    0.022302       0.049155\n",
      "(0.0263, 0.0411]                   0.032611       0.056299\n",
      "(0.0411, 0.505]                    0.068931       0.086513\n",
      "                                      HC_SCORE  RISK_FSTQPD30\n",
      "HC_SCORE                                                     \n",
      "(-0.0007650000000000001, 0.00344]    40.961701            190\n",
      "(0.00344, 0.00522]                   76.532534            311\n",
      "(0.00522, 0.00701]                  107.549116            451\n",
      "(0.00701, 0.00899]                  140.678015            496\n",
      "(0.00899, 0.0113]                   178.474270            591\n",
      "(0.0113, 0.0145]                    226.567646            709\n",
      "(0.0145, 0.019]                     292.467081            768\n",
      "(0.019, 0.0263]                     393.364864            867\n",
      "(0.0263, 0.0411]                    575.184954            993\n",
      "(0.0411, 0.505]                    1215.879816           1526\n"
     ]
    }
   ],
   "source": [
    "## Bad rates combined score in overall population \n",
    "cdt=pd.DataFrame(df[['HC_SCORE','RISK_FSTQPD30']])\n",
    "print(\"Bad captured in worst category Partner Score test sample :\",'{:,.2%}'.format(cdt.groupby(pd.qcut(cdt['HC_SCORE'],10,duplicates='drop')).sum()['RISK_FSTQPD30'][-1]/cdt['RISK_FSTQPD30'].sum()))\n",
    "print(\"\\nTotal bads in test sample:\",cdt['RISK_FSTQPD30'].sum())\n",
    "print(cdt.groupby(pd.qcut(cdt['HC_SCORE'],10,duplicates='drop')).mean())\n",
    "print(cdt.groupby(pd.qcut(cdt['HC_SCORE'],10,duplicates='drop')).sum())"
   ]
  }
 ],
 "metadata": {
  "kernelspec": {
   "display_name": "Python 3",
   "language": "python",
   "name": "python3"
  },
  "language_info": {
   "codemirror_mode": {
    "name": "ipython",
    "version": 3
   },
   "file_extension": ".py",
   "mimetype": "text/x-python",
   "name": "python",
   "nbconvert_exporter": "python",
   "pygments_lexer": "ipython3",
   "version": "3.7.3"
  }
 },
 "nbformat": 4,
 "nbformat_minor": 2
}
